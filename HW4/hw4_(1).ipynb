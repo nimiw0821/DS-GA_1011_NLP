{
  "nbformat": 4,
  "nbformat_minor": 0,
  "metadata": {
    "accelerator": "GPU",
    "colab": {
      "name": "hw4_tx.ipynb",
      "provenance": [],
      "collapsed_sections": [],
      "toc_visible": true,
      "machine_shape": "hm",
      "include_colab_link": true
    },
    "kernelspec": {
      "name": "python3",
      "display_name": "Python 3"
    },
    "language_info": {
      "codemirror_mode": {
        "name": "ipython",
        "version": 3
      },
      "file_extension": ".py",
      "mimetype": "text/x-python",
      "name": "python",
      "nbconvert_exporter": "python",
      "pygments_lexer": "ipython3",
      "version": "3.6.7"
    }
  },
  "cells": [
    {
      "cell_type": "markdown",
      "metadata": {
        "id": "view-in-github",
        "colab_type": "text"
      },
      "source": [
        "<a href=\"https://colab.research.google.com/github/nimiw0821/DS-GA_1011_NLP/blob/master/HW4/hw4_(1).ipynb\" target=\"_parent\"><img src=\"https://colab.research.google.com/assets/colab-badge.svg\" alt=\"Open In Colab\"/></a>"
      ]
    },
    {
      "cell_type": "markdown",
      "metadata": {
        "colab_type": "text",
        "id": "yc957QquixON"
      },
      "source": [
        "# Homework 4: Conversation Modeling and decoding"
      ]
    },
    {
      "cell_type": "markdown",
      "metadata": {
        "colab_type": "text",
        "id": "NPY8NrBJixOP"
      },
      "source": [
        "# Part 1 Modeling"
      ]
    },
    {
      "cell_type": "markdown",
      "metadata": {
        "colab_type": "text",
        "id": "oh3cb1MyixOQ"
      },
      "source": [
        "## 1.1 Attention visulization"
      ]
    },
    {
      "cell_type": "code",
      "metadata": {
        "colab_type": "code",
        "id": "3p5vG2_6ixOR",
        "colab": {}
      },
      "source": [
        "### set up the model and complete the corresponding task\n",
        "\n",
        "### the pretrained model was trained in ~2 hours, i.e. you can expect attention maps\n",
        "### to look quite 'hard' (less soft spreading) i.e. attending to some particular token in the input\n",
        "\n",
        "import re\n",
        "from collections import Counter\n",
        "from tqdm import tqdm\n",
        "import json\n",
        "from torch.utils.data import Dataset, DataLoader\n",
        "import torch"
      ],
      "execution_count": 0,
      "outputs": []
    },
    {
      "cell_type": "code",
      "metadata": {
        "colab_type": "code",
        "id": "OHgx2W-Vo2Gf",
        "colab": {}
      },
      "source": [
        "RETOK = re.compile(r'\\w+|[^\\w\\s]|\\n', re.UNICODE)"
      ],
      "execution_count": 0,
      "outputs": []
    },
    {
      "cell_type": "code",
      "metadata": {
        "colab_type": "code",
        "id": "AiDQGDuKqZ3U",
        "colab": {}
      },
      "source": [
        "class ChatDictionary(object):\n",
        "    \"\"\"\n",
        "    Simple dict loader\n",
        "    \"\"\"\n",
        "    def __init__(self, dict_file_path):\n",
        "        self.word2ind = {}  # word:index\n",
        "        self.ind2word = {}  # index:word\n",
        "        self.counts = {}  # word:count\n",
        "\n",
        "        dict_raw = open(dict_file_path, 'r').readlines()\n",
        "        \n",
        "        for i, w in enumerate(dict_raw):\n",
        "            _word, _count = w.strip().split('\\t')\n",
        "            if _word == '\\\\n':\n",
        "                _word = '\\n'\n",
        "            self.word2ind[_word] = i\n",
        "            self.ind2word[i] = _word\n",
        "            self.counts[_word] = _count\n",
        "            \n",
        "    def t2v(self, tokenized_text):\n",
        "        return [self.word2ind[w] if w in self.counts else self.word2ind['__unk__'] for w in tokenized_text]\n",
        "\n",
        "    def v2t(self, list_ids):\n",
        "        return ' '.join([self.ind2word[i] for i in list_ids])\n",
        "    \n",
        "    def pred2text(self, tensor):\n",
        "        result = []\n",
        "        for i in range(tensor.size(0)):\n",
        "            if tensor[i].item() == '__end__'  or tensor[i].item() == '__null__':  # null is pad\n",
        "                break\n",
        "            else:\n",
        "                result.append(self.ind2word[tensor[i].item()])\n",
        "        return ' '.join(result)\n",
        "    \n",
        "    def __len__(self):\n",
        "        return len(self.counts)"
      ],
      "execution_count": 0,
      "outputs": []
    },
    {
      "cell_type": "code",
      "metadata": {
        "colab_type": "code",
        "id": "oOERkZSHrHtw",
        "colab": {}
      },
      "source": [
        "class ChatDataset(Dataset):\n",
        "    \"\"\"\n",
        "    Json dataset wrapper\n",
        "    \"\"\"\n",
        "    \n",
        "    def __init__(self, dataset_file_path, dictionary, dt='train'):\n",
        "        super().__init__()\n",
        "        \n",
        "        json_text = open(dataset_file_path, 'r').readlines()\n",
        "        self.samples = []\n",
        "        \n",
        "        for sample in tqdm(json_text):\n",
        "            sample = sample.rstrip()\n",
        "            sample = json.loads(sample)\n",
        "            _inp_toked = RETOK.findall(sample['text'])\n",
        "            _inp_toked_id = dictionary.t2v(_inp_toked)\n",
        "\n",
        "            sample['text_vec'] = torch.tensor(_inp_toked_id, dtype=torch.long)\n",
        "            \n",
        "            # train and valid have different key names for target\n",
        "            if dt == 'train':\n",
        "                _tar_toked = RETOK.findall(sample['labels'][0]) + ['__end__']\n",
        "            elif dt == 'valid':\n",
        "                _tar_toked = RETOK.findall(sample['eval_labels'][0]) + ['__end__']\n",
        "                \n",
        "            _tar_toked_id = dictionary.t2v(_tar_toked)\n",
        "            \n",
        "            sample['target_vec'] = torch.tensor(_tar_toked_id, dtype=torch.long)\n",
        "            \n",
        "            self.samples.append(sample)\n",
        "            \n",
        "    def __getitem__(self, i):\n",
        "        return self.samples[i]['text_vec'], self.samples[i]['target_vec']\n",
        "    \n",
        "    def __len__(self):\n",
        "        return len(self.samples)"
      ],
      "execution_count": 0,
      "outputs": []
    },
    {
      "cell_type": "code",
      "metadata": {
        "colab_type": "code",
        "id": "tk3j9FQ3rUA-",
        "colab": {}
      },
      "source": [
        "# pad_tensor function implements padding of a given tensor using the specified PAD token.\n",
        "def pad_tensor(tensors, sort=True, pad_token=0):\n",
        "    rows = len(tensors)\n",
        "    lengths = [len(i) for i in tensors]\n",
        "    max_t = max(lengths)\n",
        "        \n",
        "    output = tensors[0].new(rows, max_t)\n",
        "    output.fill_(pad_token)  # 0 is a pad token here\n",
        "    \n",
        "    for i, (tensor, length) in enumerate(zip(tensors, lengths)):\n",
        "        output[i,:length] = tensor\n",
        "\n",
        "    return output, lengths\n",
        "\n",
        "# argsort reorders the given list using provided keys. This is necessary for unpacking. \n",
        "def argsort(keys, *lists, descending=False):\n",
        "    \"\"\"Reorder each list in lists by the (descending) sorted order of keys.\n",
        "    :param iter keys: Keys to order by.\n",
        "    :param list[list] lists: Lists to reordered by keys's order.\n",
        "                             Correctly handles lists and 1-D tensors.\n",
        "    :param bool descending: Use descending order if true.\n",
        "    :returns: The reordered items.\n",
        "    \"\"\"\n",
        "    ind_sorted = sorted(range(len(keys)), key=lambda k: keys[k])\n",
        "    if descending:\n",
        "        ind_sorted = list(reversed(ind_sorted))\n",
        "    output = []\n",
        "    for lst in lists:\n",
        "        if isinstance(lst, torch.Tensor):\n",
        "            output.append(lst[ind_sorted])\n",
        "        else:\n",
        "            output.append([lst[i] for i in ind_sorted])\n",
        "    return output\n",
        "\n",
        "# batchify uses both previous function to make a minibatch which is ready to be packed.\n",
        "def batchify(batch):\n",
        "    inputs = [i[0] for i in batch]\n",
        "    labels = [i[1] for i in batch]\n",
        "    \n",
        "    input_vecs, input_lens = pad_tensor(inputs)\n",
        "    label_vecs, label_lens = pad_tensor(labels)\n",
        "    \n",
        "    # sort only wrt inputs here for encoder packinng\n",
        "    input_vecs, input_lens, label_vecs, label_lens = argsort(input_lens, input_vecs, input_lens, label_vecs, label_lens, descending=True)\n",
        "\n",
        "    return {\n",
        "        \"text_vecs\": input_vecs,\n",
        "        \"text_lens\": input_lens,\n",
        "        \"target_vecs\": label_vecs,\n",
        "        \"target_lens\": label_lens,\n",
        "        'use_packed': True\n",
        "    }"
      ],
      "execution_count": 0,
      "outputs": []
    },
    {
      "cell_type": "code",
      "metadata": {
        "colab_type": "code",
        "id": "UkkckH-Ts2QQ",
        "outputId": "310140bb-f27a-41fe-da3d-e46d30a92fc0",
        "colab": {
          "base_uri": "https://localhost:8080/",
          "height": 51
        }
      },
      "source": [
        "# loading datasets and dictionary\n",
        "\n",
        "# downloading pretrained models and data\n",
        "\n",
        "### DOWNLOADING THE FILES\n",
        "import os\n",
        "\n",
        "### persona chat dataset\n",
        "if not os.path.exists('./dict'):\n",
        "    !wget \"https://nyu.box.com/shared/static/sj9f87tofpicll89xbc154pmbztu5q4h\" -O './dict'\n",
        "if not os.path.exists('./train.jsonl'):\n",
        "    !wget \"https://nyu.box.com/shared/static/aqp0jyjaixjmukm5asasivq2bcfze075.jsonl\" -O './train.jsonl'\n",
        "if not os.path.exists('./valid.jsonl'):\n",
        "    !wget \"https://nyu.box.com/shared/static/eg4ivddtqib2hkf1k8rkxnmzmo0cq27p.jsonl\" -O './valid.jsonl'\n",
        "\n",
        "if not os.path.exists('./chat_model_best_22.pt'):\n",
        "    !wget \"https://nyu.box.com/shared/static/24zsynuks8nzg7530tgakzh8o62id9xa.pt\" -O './chat_model_best_22.pt'\n",
        "\n",
        "chat_dict = ChatDictionary('./dict')\n",
        "train_dataset = ChatDataset('./train.jsonl', chat_dict)\n",
        "valid_dataset = ChatDataset('./valid.jsonl', chat_dict, 'valid')"
      ],
      "execution_count": 19,
      "outputs": [
        {
          "output_type": "stream",
          "text": [
            "100%|██████████| 131438/131438 [00:09<00:00, 13844.34it/s]\n",
            "100%|██████████| 7801/7801 [00:00<00:00, 13852.61it/s]\n"
          ],
          "name": "stderr"
        }
      ]
    },
    {
      "cell_type": "code",
      "metadata": {
        "colab_type": "code",
        "id": "96khd1AYtM9q",
        "colab": {}
      },
      "source": [
        "train_loader = DataLoader(train_dataset, shuffle=True, collate_fn=batchify, batch_size=128)\n",
        "                          #batch_size=256)\n",
        "valid_loader = DataLoader(valid_dataset, shuffle=False, collate_fn=batchify, batch_size=128)\n",
        "                          #batch_size=256)"
      ],
      "execution_count": 0,
      "outputs": []
    },
    {
      "cell_type": "code",
      "metadata": {
        "colab_type": "code",
        "id": "7ACiXupmxzIY",
        "colab": {}
      },
      "source": [
        "import torch.nn as nn\n",
        "from torch.nn.utils.rnn import pack_padded_sequence, pad_packed_sequence\n",
        "\n",
        "class EncoderRNN(nn.Module):\n",
        "    \"\"\"Encodes the input context.\"\"\"\n",
        "\n",
        "    def __init__(self, vocab_size, embed_size, hidden_size, num_layers, pad_idx=0, dropout=0, shared_lt=None):\n",
        "        super().__init__()\n",
        "        self.vocab_size = vocab_size\n",
        "        self.embed_size = embed_size\n",
        "        self.hidden_size = hidden_size\n",
        "        self.num_layers = num_layers\n",
        "        self.dropout = nn.Dropout(p=dropout)\n",
        "        self.pad_idx = pad_idx\n",
        "        \n",
        "        if shared_lt is None:\n",
        "            self.embedding = nn.Embedding(self.vocab_size, self.embed_size, pad_idx)\n",
        "        else:\n",
        "            self.embedding = shared_lt\n",
        "            \n",
        "        self.gru = nn.GRU(\n",
        "            self.embed_size, self.hidden_size, num_layers=self.num_layers, batch_first=True, dropout=dropout if num_layers > 1 else 0,\n",
        "        )\n",
        "        \n",
        "        \n",
        "    def forward(self, text_vec, text_lens, hidden=None, use_packed=True):\n",
        "        embedded = self.embedding(text_vec)\n",
        "        \n",
        "        attention_mask = text_vec.ne(self.pad_idx)\n",
        "        \n",
        "\n",
        "        embedded = self.dropout(embedded)\n",
        "        if use_packed is True:\n",
        "            embedded = pack_padded_sequence(embedded, text_lens, batch_first=True)\n",
        "\n",
        "        # Applies a multi-layer gated recurrent unit (GRU) RNN to an input sequence.\n",
        "        output, hidden = self.gru(embedded, hidden)\n",
        "\n",
        "        if use_packed is True:\n",
        "            output, output_lens = pad_packed_sequence(output, batch_first=True)\n",
        "        \n",
        "        return output, hidden, attention_mask\n",
        "\n",
        "    \n",
        "class DecoderRNN(nn.Module):\n",
        "    \"\"\"Generates a sequence of tokens in response to context.\"\"\"\n",
        "\n",
        "    def __init__(self, vocab_size, embed_size, hidden_size, num_layers, dropout=0):\n",
        "        super().__init__()\n",
        "        self.vocab_size = vocab_size\n",
        "        self.embed_size = embed_size\n",
        "        self.hidden_size = hidden_size\n",
        "        self.num_layers = num_layers\n",
        "        self.dropout = nn.Dropout(p=dropout)\n",
        "        \n",
        "        self.embedding = nn.Embedding(self.vocab_size, self.embed_size, 0)\n",
        "        \n",
        "        self.gru = nn.GRU(\n",
        "            self.embed_size, self.hidden_size, num_layers=self.num_layers, batch_first=True, dropout=dropout if num_layers > 1 else 0,\n",
        "        )\n",
        "        \n",
        "        self.attention = AttentionLayer(self.hidden_size, self.embed_size)\n",
        "\n",
        "        self.out = nn.Linear(self.hidden_size, self.vocab_size)\n",
        "        self.longest_label = 100\n",
        "\n",
        "    def forward(self, text_vec, decoder_hidden, encoder_states):\n",
        "        emb = self.embedding(text_vec)\n",
        "        emb = self.dropout(emb)\n",
        "        seqlen = text_vec.size(1)\n",
        "        encoder_output, encoder_hidden, attention_mask = encoder_states\n",
        "        \n",
        "        decoder_hidden = decoder_hidden\n",
        "        output = []\n",
        "        attn_w_log = []\n",
        "\n",
        "        for i in range(seqlen):\n",
        "            decoder_output, decoder_hidden = self.gru(emb[:,i,:].unsqueeze(1), decoder_hidden)\n",
        "                                          ## input, innitial hidden state\n",
        "            # compute attention at each time step\n",
        "            decoder_output_attended, attn_weights = self.attention(decoder_output, decoder_hidden, encoder_output, attention_mask)\n",
        "            \n",
        "            output.append(decoder_output_attended)\n",
        "            attn_w_log.append(attn_weights)\n",
        "            \n",
        "        output = torch.cat(output, dim=1).to(text_vec.device)\n",
        "        scores = self.out(output)\n",
        "\n",
        "  #### from the first beggining word:\n",
        "      #### word embedding + encoder_hidden --> decoder_output,decoder hidden\n",
        "      #### decoder_output + attention --> decoder_output_attended\n",
        "      #### output.append(decoder_output_attended)\n",
        "  #### output = torch.cat(output)\n",
        "  #### scores = nn.Linear(hidden_size,,vocab_length)\n",
        "\n",
        "\n",
        "\n",
        "        return scores, decoder_hidden, attn_w_log\n",
        "    \n",
        "    def decode_forced(self, ys, encoder_states, xs_lens):\n",
        "        encoder_output, encoder_hidden, attention_mask = encoder_states\n",
        "        \n",
        "        batch_size = ys.size(0)\n",
        "        target_length = ys.size(1)\n",
        "        longest_label = max(target_length, self.longest_label)\n",
        "        \n",
        "        starts = torch.Tensor([1]).long().to(self.embedding.weight.device).expand(batch_size, 1).long()  # expand to batch size\n",
        "        \n",
        "        # Teacher forcing: Feed the target as the next input\n",
        "        y_in = ys.narrow(1, 0, ys.size(1) - 1)\n",
        "        decoder_input = torch.cat([starts, y_in], 1)\n",
        "        decoder_output, decoder_hidden, attn_w_log = self.forward(decoder_input, encoder_hidden, encoder_states)\n",
        "        _, preds = decoder_output.max(dim=2)\n",
        "        \n",
        "        return decoder_output, preds, attn_w_log\n",
        "    \n",
        "    \n",
        "class AttentionLayer(nn.Module):\n",
        "\n",
        "    def __init__(self, hidden_size, embedding_size):\n",
        "        super().__init__()\n",
        "        input_dim = hidden_size\n",
        "\n",
        "        self.linear_out = nn.Linear(hidden_size+input_dim, input_dim, bias=False)\n",
        "        self.softmax = nn.Softmax(dim=-1)\n",
        "        self.tanh = nn.Tanh()\n",
        "\n",
        "    def forward(self, decoder_output, decoder_hidden, encoder_output, attention_mask):\n",
        "\n",
        "        batch_size, seq_length, hidden_size = encoder_output.size()\n",
        "\n",
        "        encoder_output_t = encoder_output.transpose(1,2)\n",
        "\n",
        "         #Performs a batch matrix-matrix product of matrices\n",
        "        #print(decoder_output.shape)\n",
        "        #print(encoder_output_t.shape)\n",
        "        attention_scores = torch.bmm(decoder_output, encoder_output_t).squeeze(1)\n",
        "\n",
        "        attention_scores.masked_fill_((~attention_mask), -10e5)\n",
        "        #normalize\n",
        "        attention_weights = self.softmax(attention_scores)\n",
        "\n",
        "        mix = torch.bmm(attention_weights.unsqueeze(1), encoder_output)\n",
        "\n",
        "        combined = torch.cat((decoder_output.squeeze(1), mix.squeeze(1)), dim=1)\n",
        "\n",
        "        output = self.linear_out(combined).unsqueeze(1)\n",
        "        output = self.tanh(output)\n",
        "\n",
        "        return output, attention_weights\n",
        "    \n",
        "    \n",
        "class seq2seq(nn.Module):\n",
        "    \"\"\"\n",
        "    Generic seq2seq model with attention mechanism.\n",
        "    \"\"\"\n",
        "    def __init__(self, opts):\n",
        "\n",
        "        super().__init__()\n",
        "        self.opts = opts\n",
        "        \n",
        "        self.decoder = DecoderRNN(\n",
        "                                    vocab_size=self.opts['vocab_size'],\n",
        "                                    embed_size=self.opts['embedding_size'],\n",
        "                                    hidden_size=self.opts['hidden_size'],\n",
        "                                    num_layers=self.opts['num_layers_dec'],\n",
        "                                    dropout=self.opts['dropout'],\n",
        "                                )\n",
        "        \n",
        "        self.encoder = EncoderRNN(\n",
        "                                    vocab_size=self.opts['vocab_size'],\n",
        "                                    embed_size=self.opts['embedding_size'],\n",
        "                                    hidden_size=self.opts['hidden_size'],\n",
        "                                    num_layers=self.opts['num_layers_enc'],\n",
        "                                    dropout=self.opts['dropout'],\n",
        "                                    shared_lt=self.decoder.embedding\n",
        "        )\n",
        "        \n",
        "    def train(self):\n",
        "        self.encoder.train()\n",
        "        self.decoder.train()\n",
        "        \n",
        "    def eval(self):\n",
        "        self.encoder.eval()\n",
        "        self.decoder.eval()"
      ],
      "execution_count": 0,
      "outputs": []
    },
    {
      "cell_type": "code",
      "metadata": {
        "colab_type": "code",
        "id": "VcFHJB8Gx6EB",
        "colab": {}
      },
      "source": [
        "num_gpus = torch.cuda.device_count()\n",
        "if num_gpus > 0:\n",
        "    current_device = 'cuda'\n",
        "else:\n",
        "    current_device = 'cpu'\n",
        "\n",
        "load_pretrained = True\n",
        "    \n",
        "if load_pretrained is True:\n",
        "    if current_device == 'cuda':\n",
        "        model_pt = torch.load('./chat_model_best_22.pt')\n",
        "    else:\n",
        "        model_pt = torch.load('./chat_model_best_22.pt', map_location=torch.device('cpu'))\n",
        "    opts = model_pt['opts']\n",
        "    \n",
        "    model = seq2seq(opts)\n",
        "    model.load_state_dict(model_pt['state_dict'])\n",
        "    model.to(current_device)\n",
        "    \n",
        "else:\n",
        "    \n",
        "    opts = {}\n",
        "\n",
        "    opts['vocab_size'] = len(chat_dict)\n",
        "    opts['hidden_size'] = 512\n",
        "    opts['embedding_size'] = 256\n",
        "    opts['num_layers_enc'] = 2\n",
        "    opts['num_layers_dec'] = 2\n",
        "    opts['dropout'] = 0.3\n",
        "    opts['encoder_shared_lt'] = True\n",
        "\n",
        "    model = seq2seq(opts)\n",
        "    model.to(current_device)"
      ],
      "execution_count": 0,
      "outputs": []
    },
    {
      "cell_type": "code",
      "metadata": {
        "colab_type": "code",
        "id": "aIF5KxMYx9Kb",
        "colab": {}
      },
      "source": [
        "criterion = nn.CrossEntropyLoss(ignore_index=0, reduction='sum')\n",
        "optimizer = torch.optim.Adam(model.parameters(), 0.01, amsgrad=True)\n",
        "scheduler = torch.optim.lr_scheduler.ReduceLROnPlateau(optimizer, 'min', patience=10)"
      ],
      "execution_count": 0,
      "outputs": []
    },
    {
      "cell_type": "code",
      "metadata": {
        "colab_type": "code",
        "id": "4E4AWok4yP-M",
        "outputId": "4748d0ba-d627-499f-eab2-f68c3ab407d9",
        "colab": {
          "base_uri": "https://localhost:8080/",
          "height": 221
        }
      },
      "source": [
        "plot_cache = []\n",
        "\n",
        "best_val_loss = 100\n",
        "\n",
        "for epoch in range(1):\n",
        "    \n",
        "    model.train()\n",
        "    sum_loss = 0\n",
        "    sum_tokens = 0\n",
        "    \n",
        "    for i, batch in enumerate(train_loader):\n",
        "        optimizer.zero_grad()\n",
        "        \n",
        "        text_vecs = batch['text_vecs'].to('cuda')\n",
        "        target_vecs = batch['target_vecs'].to('cuda')\n",
        "        \n",
        "        encoded = model.encoder(text_vecs, batch['text_lens'], use_packed=batch['use_packed'])\n",
        "        \n",
        "        decoder_output, preds, attn_w_log = model.decoder.decode_forced(target_vecs, encoded, batch['text_lens'])\n",
        "        \n",
        "        scores = decoder_output.view(-1, decoder_output.size(-1))\n",
        "        \n",
        "        loss = criterion(scores, target_vecs.view(-1))\n",
        "        sum_loss += loss.item()\n",
        "        \n",
        "        num_tokens = target_vecs.ne(0).long().sum().item()\n",
        "        loss /= num_tokens\n",
        "        \n",
        "        sum_tokens += num_tokens\n",
        "        \n",
        "        loss.backward()\n",
        "        optimizer.step()\n",
        "        \n",
        "        if i % 100 == 0:\n",
        "            avg_train_loss = sum_loss/sum_tokens\n",
        "            print(\"iter {} train loss = {}\".format(i, sum_loss/sum_tokens))\n",
        "            \n",
        "    val_loss = 0\n",
        "    val_tokens = 0\n",
        "    for i, batch in enumerate(valid_loader):\n",
        "        model.eval()\n",
        "        \n",
        "        text_vecs = batch['text_vecs'].to('cuda')\n",
        "        target_vecs = batch['target_vecs'].to('cuda')\n",
        "        \n",
        "        encoded = model.encoder(text_vecs, batch['text_lens'], use_packed=batch['use_packed'])\n",
        "        \n",
        "        decoder_output, preds, attn_w_log = model.decoder.decode_forced(target_vecs, encoded, batch['text_lens'])\n",
        "        \n",
        "        scores = decoder_output.view(-1, decoder_output.size(-1))\n",
        "        \n",
        "        loss = criterion(scores, target_vecs.view(-1))\n",
        "        \n",
        "        num_tokens = target_vecs.ne(0).long().sum().item()\n",
        "        \n",
        "        val_tokens += num_tokens\n",
        "        val_loss += loss.item()\n",
        "        \n",
        "    avg_val_loss = val_loss/val_tokens\n",
        "    scheduler.step(avg_val_loss)\n",
        "        \n",
        "    print(\"Epoch {} valid loss = {}\".format(epoch, avg_val_loss))\n",
        "    \n",
        "    plot_cache.append( (avg_train_loss, avg_val_loss) )\n",
        "    \n",
        "    if avg_val_loss < best_val_loss:\n",
        "        best_val_loss = avg_val_loss\n",
        "        \n",
        "        torch.save({\n",
        "        'state_dict': model.state_dict(),\n",
        "        'opts': opts,\n",
        "        'plot_cache': plot_cache,\n",
        "            }, f'./chat_model_best_{epoch}.pt')"
      ],
      "execution_count": 0,
      "outputs": [
        {
          "output_type": "stream",
          "text": [
            "iter 0 train loss = 2.9240113010296245\n",
            "iter 100 train loss = 4.37778226486181\n",
            "iter 200 train loss = 4.519326472329155\n",
            "iter 300 train loss = 4.708942788321339\n",
            "iter 400 train loss = 4.877332757242132\n",
            "iter 500 train loss = 5.002770756879131\n",
            "iter 600 train loss = 5.167219609098259\n",
            "iter 700 train loss = 5.3284669500452475\n",
            "iter 800 train loss = 5.472930351584396\n",
            "iter 900 train loss = 5.6513191543837005\n",
            "iter 1000 train loss = 5.790110098028669\n",
            "Epoch 0 valid loss = 7.356316137615786\n"
          ],
          "name": "stdout"
        }
      ]
    },
    {
      "cell_type": "code",
      "metadata": {
        "colab_type": "code",
        "id": "sySkhYKfWiJO",
        "colab": {}
      },
      "source": [
        "import random\n",
        "def attention_weights(valid_data): \n",
        "#return the attention weights of a randomly selected sample from validation sets\n",
        "  for i, batch in enumerate(valid_data):\n",
        "          model.eval()\n",
        "          example_index = random.randint(1,256)\n",
        "          text_vecs = batch['text_vecs'].to('cuda')\n",
        "          target_vecs = batch['target_vecs'].to('cuda')\n",
        "\n",
        "          encoded = model.encoder(text_vecs, batch['text_lens'], use_packed=batch['use_packed'])\n",
        "          \n",
        "          decoder_output, preds, attn_w_log = model.decoder.decode_forced(target_vecs, encoded, batch['text_lens'])\n",
        "          attn_w_log_example = [i[example_index] for i in attn_w_log]\n",
        "\n",
        "\n",
        "          \n",
        "          return(text_vecs[example_index],target_vecs[example_index],attn_w_log_example)\n",
        "          break\n",
        "            \n",
        "        \n",
        "    "
      ],
      "execution_count": 0,
      "outputs": []
    },
    {
      "cell_type": "code",
      "metadata": {
        "colab_type": "code",
        "id": "Bi9BgTRctoX9",
        "outputId": "29dc9f47-ab77-43b2-a9f2-dd41de274236",
        "colab": {
          "base_uri": "https://localhost:8080/",
          "height": 307
        }
      },
      "source": [
        "inputs,target,attn_w_log_example = attention_weights(valid_loader)"
      ],
      "execution_count": 0,
      "outputs": [
        {
          "output_type": "error",
          "ename": "IndexError",
          "evalue": "ignored",
          "traceback": [
            "\u001b[0;31m---------------------------------------------------------------------------\u001b[0m",
            "\u001b[0;31mIndexError\u001b[0m                                Traceback (most recent call last)",
            "\u001b[0;32m<ipython-input-61-1f5a142a3bd9>\u001b[0m in \u001b[0;36m<module>\u001b[0;34m()\u001b[0m\n\u001b[0;32m----> 1\u001b[0;31m \u001b[0minputs\u001b[0m\u001b[0;34m,\u001b[0m\u001b[0mtarget\u001b[0m\u001b[0;34m,\u001b[0m\u001b[0mattn_w_log_example\u001b[0m \u001b[0;34m=\u001b[0m \u001b[0mattention_weights\u001b[0m\u001b[0;34m(\u001b[0m\u001b[0mvalid_loader\u001b[0m\u001b[0;34m)\u001b[0m\u001b[0;34m\u001b[0m\u001b[0;34m\u001b[0m\u001b[0m\n\u001b[0m",
            "\u001b[0;32m<ipython-input-60-fbec3e049ded>\u001b[0m in \u001b[0;36mattention_weights\u001b[0;34m(valid_data)\u001b[0m\n\u001b[1;32m     11\u001b[0m \u001b[0;34m\u001b[0m\u001b[0m\n\u001b[1;32m     12\u001b[0m           \u001b[0mdecoder_output\u001b[0m\u001b[0;34m,\u001b[0m \u001b[0mpreds\u001b[0m\u001b[0;34m,\u001b[0m \u001b[0mattn_w_log\u001b[0m \u001b[0;34m=\u001b[0m \u001b[0mmodel\u001b[0m\u001b[0;34m.\u001b[0m\u001b[0mdecoder\u001b[0m\u001b[0;34m.\u001b[0m\u001b[0mdecode_forced\u001b[0m\u001b[0;34m(\u001b[0m\u001b[0mtarget_vecs\u001b[0m\u001b[0;34m,\u001b[0m \u001b[0mencoded\u001b[0m\u001b[0;34m,\u001b[0m \u001b[0mbatch\u001b[0m\u001b[0;34m[\u001b[0m\u001b[0;34m'text_lens'\u001b[0m\u001b[0;34m]\u001b[0m\u001b[0;34m)\u001b[0m\u001b[0;34m\u001b[0m\u001b[0;34m\u001b[0m\u001b[0m\n\u001b[0;32m---> 13\u001b[0;31m           \u001b[0mattn_w_log_example\u001b[0m \u001b[0;34m=\u001b[0m \u001b[0;34m[\u001b[0m\u001b[0mi\u001b[0m\u001b[0;34m[\u001b[0m\u001b[0mexample_index\u001b[0m\u001b[0;34m]\u001b[0m \u001b[0;32mfor\u001b[0m \u001b[0mi\u001b[0m \u001b[0;32min\u001b[0m \u001b[0mattn_w_log\u001b[0m\u001b[0;34m]\u001b[0m\u001b[0;34m\u001b[0m\u001b[0;34m\u001b[0m\u001b[0m\n\u001b[0m\u001b[1;32m     14\u001b[0m \u001b[0;34m\u001b[0m\u001b[0m\n\u001b[1;32m     15\u001b[0m \u001b[0;34m\u001b[0m\u001b[0m\n",
            "\u001b[0;32m<ipython-input-60-fbec3e049ded>\u001b[0m in \u001b[0;36m<listcomp>\u001b[0;34m(.0)\u001b[0m\n\u001b[1;32m     11\u001b[0m \u001b[0;34m\u001b[0m\u001b[0m\n\u001b[1;32m     12\u001b[0m           \u001b[0mdecoder_output\u001b[0m\u001b[0;34m,\u001b[0m \u001b[0mpreds\u001b[0m\u001b[0;34m,\u001b[0m \u001b[0mattn_w_log\u001b[0m \u001b[0;34m=\u001b[0m \u001b[0mmodel\u001b[0m\u001b[0;34m.\u001b[0m\u001b[0mdecoder\u001b[0m\u001b[0;34m.\u001b[0m\u001b[0mdecode_forced\u001b[0m\u001b[0;34m(\u001b[0m\u001b[0mtarget_vecs\u001b[0m\u001b[0;34m,\u001b[0m \u001b[0mencoded\u001b[0m\u001b[0;34m,\u001b[0m \u001b[0mbatch\u001b[0m\u001b[0;34m[\u001b[0m\u001b[0;34m'text_lens'\u001b[0m\u001b[0;34m]\u001b[0m\u001b[0;34m)\u001b[0m\u001b[0;34m\u001b[0m\u001b[0;34m\u001b[0m\u001b[0m\n\u001b[0;32m---> 13\u001b[0;31m           \u001b[0mattn_w_log_example\u001b[0m \u001b[0;34m=\u001b[0m \u001b[0;34m[\u001b[0m\u001b[0mi\u001b[0m\u001b[0;34m[\u001b[0m\u001b[0mexample_index\u001b[0m\u001b[0;34m]\u001b[0m \u001b[0;32mfor\u001b[0m \u001b[0mi\u001b[0m \u001b[0;32min\u001b[0m \u001b[0mattn_w_log\u001b[0m\u001b[0;34m]\u001b[0m\u001b[0;34m\u001b[0m\u001b[0;34m\u001b[0m\u001b[0m\n\u001b[0m\u001b[1;32m     14\u001b[0m \u001b[0;34m\u001b[0m\u001b[0m\n\u001b[1;32m     15\u001b[0m \u001b[0;34m\u001b[0m\u001b[0m\n",
            "\u001b[0;31mIndexError\u001b[0m: index 208 is out of bounds for dimension 0 with size 128"
          ]
        }
      ]
    },
    {
      "cell_type": "code",
      "metadata": {
        "colab_type": "code",
        "id": "7pY-qHIwZ-GT",
        "colab": {}
      },
      "source": [
        "import matplotlib.pyplot as plt\n",
        "import numpy as np\n",
        "\n",
        "def attention_map(attention_weights,inputs,target,adjust_size = True): \n",
        "#If adjust = true, only present the range that has attention weight over 0\n",
        "  fig, ax = plt.subplots(figsize=(20, 30))\n",
        "  plot_data = np.array([xi.cpu().detach().numpy() for xi in attn_w_log_example])\n",
        "  print(plot_data.shape)\n",
        "\n",
        "  inputs_plot = inputs.cpu().detach().numpy()\n",
        "  target_plot = target.cpu().detach().numpy()\n",
        "  inputs_token = [chat_dict.ind2word[ind] for ind in inputs_plot]\n",
        "  target_token = [chat_dict.ind2word[ind] for ind in target_plot]\n",
        "  print('Input')\n",
        "  print('-' * 50)\n",
        "  print(inputs_token)\n",
        "  print('Output')\n",
        "  print('-' * 50)\n",
        "  print(target_token)\n",
        "  print('Attention heatmap')\n",
        "  print('-' * 50)\n",
        "\n",
        "  if adjust_size:\n",
        "    inputs_size = np.count_nonzero(inputs_plot)\n",
        "    target_size = np.count_nonzero(target_plot)\n",
        "    cut_len = max(inputs_size,target_size)\n",
        "\n",
        "    inputs_plot = inputs.cpu().detach().numpy()[:cut_len]\n",
        "    target_plot = target.cpu().detach().numpy()[:cut_len]\n",
        "    plot_data = plot_data[:cut_len][:cut_len]\n",
        "  im = ax.imshow(plot_data.T)\n",
        "\n",
        "\n",
        "  # We want to show all ticks...\n",
        "  ax.set_yticks(np.arange(len(inputs_plot)))\n",
        "  ax.set_xticks(np.arange(len(target_plot)))\n",
        "  # ... and label them with the respective list entries\n",
        "  inputs_token = [chat_dict.ind2word[ind] for ind in inputs_plot]\n",
        "  target_token = [chat_dict.ind2word[ind] for ind in target_plot]\n",
        "  ax.set_yticklabels(inputs_token)\n",
        "  ax.set_xticklabels(target_token)\n",
        "\n",
        "  # Rotate the tick labels and set their alignment.\n",
        "  plt.setp(ax.get_xticklabels(), rotation=45, ha=\"right\",\n",
        "          rotation_mode=\"anchor\")\n",
        "  plt.setp(ax.get_yticklabels(), rotation=45, ha=\"right\",\n",
        "          rotation_mode=\"anchor\")\n",
        "\n",
        "  # Loop over data dimensions and create text annotations.\n",
        "  #for i in range(len(inputs_plot)):\n",
        "      #for j in range(len(target_plot)):\n",
        "        #if plot_data[i, j] != 0:\n",
        "      \n",
        "          #text = ax.text(j, i, plot_data[i][j],\n",
        "                        #ha=\"center\", va=\"center\", color=\"w\")\n",
        " \n",
        "\n",
        "  ax.set_title(\"Heatmap of attention map\")\n",
        "  fig.tight_layout()\n",
        "  plt.colorbar(im)\n",
        "  plt.show()\n",
        "\n"
      ],
      "execution_count": 0,
      "outputs": []
    },
    {
      "cell_type": "markdown",
      "metadata": {
        "colab_type": "text",
        "id": "Fira8j1KixOU"
      },
      "source": [
        "### You present here:"
      ]
    },
    {
      "cell_type": "code",
      "metadata": {
        "colab_type": "code",
        "id": "vFocyaogixOV",
        "outputId": "b52e22b6-85a8-4fe3-eca1-17cd8505c8f5",
        "colab": {
          "base_uri": "https://localhost:8080/",
          "height": 1000
        }
      },
      "source": [
        "# this is some example attention map here, \n",
        "# *make sure you add text tokens on the axes to make it readable!*\n",
        "attention_map(attention_weights,inputs,target,True)"
      ],
      "execution_count": 0,
      "outputs": [
        {
          "output_type": "stream",
          "text": [
            "(22, 332)\n",
            "Input\n",
            "--------------------------------------------------\n",
            "['your', 'persona', ':', 'i', \"'\", 'm', 'now', 'looking', 'for', 'a', 'new', 'job', '.', '\\n', 'your', 'persona', ':', 'my', 'favorite', 'movie', 'is', 'friday', '.', '\\n', 'your', 'persona', ':', 'i', 'am', 'a', 'doctor', '.', '\\n', 'your', 'persona', ':', 'my', 'daughter', 'is', 'a', 'child', '__unk__', '.', '\\n', 'hello', ',', 'i', \"'\", 'm', 'sitting', 'here', 'with', 'my', 'dog', '.', 'how', 'are', 'you', '?', '\\n', 'i', \"'\", 'm', 'well', 'friend', '.', 'looking', 'for', 'new', 'employment', 'at', 'the', 'moment', '.', '\\n', 'what', 'would', 'be', 'your', 'dream', 'job', '?', '\\n', 'a', 'writer', '.', 'i', \"'\", 'm', 'currently', 'an', 'er', 'doctor', '.', '\\n', 'what', 'was', 'the', 'worst', 'accident', 'you', 'have', 'seen', 'in', 'the', 'er', '?', '\\n', 'a', 'man', 'had', 'his', 'throat', '__unk__', 'in', 'a', 'home', 'invasion', '\\n', 'that', 'is', 'very', 'scary', '.', 'i', 'would', 'rather', 'stick', 'to', 'my', 'knitting', 'passion', '.', '\\n', 'i', 'have', 'a', 'daughter', 'who', 'people', 'say', 'is', 'a', 'child', '__unk__', '\\n', 'what', 'talents', 'does', 'she', 'have', '?', '\\n', 'math', '!', 'i', 'hate', 'it', '!', 'lol', '.', 'do', 'you', 'have', 'children', '?', '\\n', 'i', \"'\", 've', 'two', 'children', '.', 'they', 'also', 'enjoy', 'math', '.', '__null__', '__null__', '__null__', '__null__', '__null__', '__null__', '__null__', '__null__', '__null__', '__null__', '__null__', '__null__', '__null__', '__null__', '__null__', '__null__', '__null__', '__null__', '__null__', '__null__', '__null__', '__null__', '__null__', '__null__', '__null__', '__null__', '__null__', '__null__', '__null__', '__null__', '__null__', '__null__', '__null__', '__null__', '__null__', '__null__', '__null__', '__null__', '__null__', '__null__', '__null__', '__null__', '__null__', '__null__', '__null__', '__null__', '__null__', '__null__', '__null__', '__null__', '__null__', '__null__', '__null__', '__null__', '__null__', '__null__', '__null__', '__null__', '__null__', '__null__', '__null__', '__null__', '__null__', '__null__', '__null__', '__null__', '__null__', '__null__', '__null__', '__null__', '__null__', '__null__', '__null__', '__null__', '__null__', '__null__', '__null__', '__null__', '__null__', '__null__', '__null__', '__null__', '__null__', '__null__', '__null__', '__null__', '__null__', '__null__', '__null__', '__null__', '__null__', '__null__', '__null__', '__null__', '__null__', '__null__', '__null__', '__null__', '__null__', '__null__', '__null__', '__null__', '__null__', '__null__', '__null__', '__null__', '__null__', '__null__', '__null__', '__null__', '__null__', '__null__', '__null__', '__null__', '__null__', '__null__', '__null__', '__null__', '__null__', '__null__', '__null__', '__null__', '__null__', '__null__', '__null__', '__null__', '__null__', '__null__', '__null__', '__null__', '__null__', '__null__', '__null__', '__null__', '__null__', '__null__', '__null__', '__null__', '__null__', '__null__', '__null__', '__null__', '__null__', '__null__', '__null__', '__null__', '__null__', '__null__', '__null__', '__null__', '__null__', '__null__', '__null__', '__null__']\n",
            "Output\n",
            "--------------------------------------------------\n",
            "['that', \"'\", 's', 'nice', '.', 'what', 'is', 'your', 'favorite', 'movie', '?', '__end__', '__null__', '__null__', '__null__', '__null__', '__null__', '__null__', '__null__', '__null__', '__null__', '__null__']\n",
            "Attention heatmap\n",
            "--------------------------------------------------\n"
          ],
          "name": "stdout"
        },
        {
          "output_type": "display_data",
          "data": {
            "image/png": "[encoded data removed]",
            "text/plain": [
              "<Figure size 1440x2160 with 2 Axes>"
            ]
          },
          "metadata": {
            "tags": []
          }
        }
      ]
    },
    {
      "cell_type": "markdown",
      "metadata": {
        "colab_type": "text",
        "id": "v0u-2zQtixOZ"
      },
      "source": [
        "![Imgur](https://i.imgur.com/xodciCU.png)"
      ]
    },
    {
      "cell_type": "markdown",
      "metadata": {
        "colab_type": "text",
        "id": "XryALZZhixOb"
      },
      "source": [
        "## 1.2 Encoder Transformer"
      ]
    },
    {
      "cell_type": "code",
      "metadata": {
        "colab_type": "code",
        "id": "vJfyc55EixOc",
        "colab": {}
      },
      "source": [
        "### add transformer encoder as optional encoder in seq2seq model.\n",
        "# code below can help you to start it, but feel free to start from scratch\n",
        "\n",
        "class EncoderTransformer(nn.Module):\n",
        "  def __init__(self,vocab_size,embed_size,max_len,nhead, num_layers,hidden_size):\n",
        "       \n",
        "        super().__init__()\n",
        "        # you need to add more things here\n",
        "        self.vocab_size = vocab_size\n",
        "        self.embed_size = embed_size\n",
        "        self.hidden_size = hidden_size\n",
        "        self.num_layers = num_layers\n",
        "        self.max_len = max_len\n",
        "        self.nhead = nhead\n",
        "\n",
        "        self.token_embed = nn.Embedding(self.vocab_size, embedding_dim=self.embed_size)\n",
        "        self.position_embed = nn.Embedding(self.max_len, embedding_dim= self.embed_size)\n",
        "        encoder_layer = nn.TransformerEncoderLayer(d_model = self.embed_size,nhead = self.nhead,dim_feedforward=512, dropout=0.0)  \n",
        "        self.transformer = nn.TransformerEncoder(encoder_layer, num_layers=self.num_layers)\n",
        "        self.projection = nn.Linear(self.embed_size, self.hidden_size)\n",
        "\n",
        "  def forward(self, text_vec):\n",
        "          # some helpful directions below, check the MLM lab for more details\n",
        "          pos = torch.arange(len(text_vec), device=text_vec.device).unsqueeze(1)\n",
        "          embedded = self.token_embed(text_vec) + self.position_embed(pos)\n",
        "          #attention_mask = nn.MultiheadAttention(self.embed_size, self.nhead, dropout=0.0)\n",
        "          mask = (torch.triu(torch.ones(310,310)) == 1).transpose(0, 1)\n",
        "          attention_mask = mask.float().masked_fill(mask == 0, float('-inf')).masked_fill(mask == 1, float(0.0))\n",
        "          attention_mask = text_vec.ne(0)\n",
        "          \n",
        "          output = self.transformer(embedded)\n",
        "                                    #, src_key_padding_mask=attention_mask)\n",
        "          output = self.projection(output)\n",
        "                                    \n",
        "        \n",
        "          return output,None,attention_mask\n",
        "        "
      ],
      "execution_count": 0,
      "outputs": []
    },
    {
      "cell_type": "code",
      "metadata": {
        "colab_type": "code",
        "id": "7rT1EbWcUhIB",
        "colab": {}
      },
      "source": [
        "class seq2seq_modified(nn.Module):\n",
        "    \"\"\"\n",
        "    Generic seq2seq model with attention mechanism.\n",
        "    \"\"\"\n",
        "    def __init__(self, opts):\n",
        "\n",
        "        super().__init__()\n",
        "        self.opts = opts\n",
        "        \n",
        "        self.decoder = DecoderRNN(\n",
        "                                    vocab_size=self.opts['vocab_size'],\n",
        "                                    embed_size=self.opts['embedding_size'],\n",
        "                                    hidden_size=self.opts['hidden_size'],\n",
        "                                    num_layers=self.opts['num_layers_dec'],\n",
        "                                    dropout=self.opts['dropout'],\n",
        "                                )\n",
        "        \n",
        "        self.encoder = EncoderTransformer(\n",
        "                                    vocab_size=self.opts['vocab_size'],\n",
        "                                    embed_size=self.opts['embedding_size'],\n",
        "                                    hidden_size=self.opts['hidden_size'],\n",
        "                                    max_len = 400,\n",
        "                                    nhead = 4,\n",
        "                                    num_layers=2\n",
        "                                    \n",
        "        )\n",
        "        \n",
        "    def train(self):\n",
        "        self.encoder.train()\n",
        "        self.decoder.train()\n",
        "        \n",
        "    def eval(self):\n",
        "        self.encoder.eval()\n",
        "        self.decoder.eval()"
      ],
      "execution_count": 0,
      "outputs": []
    },
    {
      "cell_type": "code",
      "metadata": {
        "colab_type": "code",
        "id": "XE4P8AMRZ93-",
        "outputId": "ad3763be-a5ef-4702-f91d-5330bb2db563",
        "colab": {
          "base_uri": "https://localhost:8080/",
          "height": 34
        }
      },
      "source": [
        "encoded[0].shape"
      ],
      "execution_count": 0,
      "outputs": [
        {
          "output_type": "execute_result",
          "data": {
            "text/plain": [
              "torch.Size([121, 266, 512])"
            ]
          },
          "metadata": {
            "tags": []
          },
          "execution_count": 24
        }
      ]
    },
    {
      "cell_type": "code",
      "metadata": {
        "colab_type": "code",
        "id": "UNNatXCVvNfv",
        "outputId": "b4c21dcb-ce5a-4afe-98f6-bce99196c62a",
        "colab": {
          "base_uri": "https://localhost:8080/",
          "height": 426
        }
      },
      "source": [
        "plot_cache = []\n",
        "\n",
        "best_val_loss = 100\n",
        "model = seq2seq_modified(opts).to('cuda')\n",
        "for epoch in range(1):\n",
        "    \n",
        "    model.train()\n",
        "    sum_loss = 0\n",
        "    sum_tokens = 0\n",
        "    \n",
        "    for i, batch in enumerate(train_loader):\n",
        "        optimizer.zero_grad()\n",
        "        \n",
        "        text_vecs = batch['text_vecs'].to('cuda')\n",
        "        target_vecs = batch['target_vecs'].to('cuda')\n",
        "        \n",
        "        encoded = model.encoder(text_vecs)\n",
        "        \n",
        "        decoder_output, preds, attn_w_log = model.decoder.decode_forced(target_vecs, encoded, batch['text_lens'])\n",
        "        \n",
        "        scores = decoder_output.view(-1, decoder_output.size(-1))\n",
        "        \n",
        "        loss = criterion(scores, target_vecs.view(-1))\n",
        "        sum_loss += loss.item()\n",
        "        \n",
        "        num_tokens = target_vecs.ne(0).long().sum().item()\n",
        "        loss /= num_tokens\n",
        "        \n",
        "        sum_tokens += num_tokens\n",
        "        \n",
        "        loss.backward()\n",
        "        nn.utils.clip_grad_norm_(model.parameters(), max_norm=5)\n",
        "        optimizer.step()\n",
        "        \n",
        "        if i % 100 == 0:\n",
        "            avg_train_loss = sum_loss/sum_tokens\n",
        "            print(\"iter {} train loss = {}\".format(i, sum_loss/sum_tokens))\n",
        "            \n",
        "    val_loss = 0\n",
        "    val_tokens = 0\n",
        "    for i, batch in enumerate(valid_loader):\n",
        "        model.eval()\n",
        "        \n",
        "        text_vecs = batch['text_vecs'].to('cuda')\n",
        "        target_vecs = batch['target_vecs'].to('cuda')\n",
        "        \n",
        "        encoded = model.encoder(text_vecs, batch['text_lens'], use_packed=batch['use_packed'])\n",
        "        print(encoded[0].shape)\n",
        "        \n",
        "        decoder_output, preds, attn_w_log = model.decoder.decode_forced(target_vecs, encoded, batch['text_lens'])\n",
        "        \n",
        "        scores = decoder_output.view(-1, decoder_output.size(-1))\n",
        "        \n",
        "        loss = criterion(scores, target_vecs.view(-1))\n",
        "        \n",
        "        num_tokens = target_vecs.ne(0).long().sum().item()\n",
        "        \n",
        "        val_tokens += num_tokens\n",
        "        val_loss += loss.item()\n",
        "        \n",
        "    avg_val_loss = val_loss/val_tokens\n",
        "    scheduler.step(avg_val_loss)\n",
        "        \n",
        "    print(\"Epoch {} valid loss = {}\".format(epoch, avg_val_loss))\n",
        "    \n",
        "    plot_cache.append( (avg_train_loss, avg_val_loss) )\n",
        "    \n",
        "    if avg_val_loss < best_val_loss:\n",
        "        best_val_loss = avg_val_loss\n",
        "        \n",
        "        torch.save({\n",
        "        'state_dict': model.state_dict(),\n",
        "        'opts': opts,\n",
        "        'plot_cache': plot_cache,\n",
        "            }, f'./chat_model_best_{epoch}.pt')"
      ],
      "execution_count": 0,
      "outputs": [
        {
          "output_type": "stream",
          "text": [
            "iter 0 train loss = 9.843003495939588\n",
            "iter 100 train loss = 9.841448546153766\n",
            "iter 200 train loss = 9.841768198160006\n"
          ],
          "name": "stdout"
        },
        {
          "output_type": "error",
          "ename": "KeyboardInterrupt",
          "evalue": "ignored",
          "traceback": [
            "\u001b[0;31m---------------------------------------------------------------------------\u001b[0m",
            "\u001b[0;31mKeyboardInterrupt\u001b[0m                         Traceback (most recent call last)",
            "\u001b[0;32m<ipython-input-25-9033d78c6bd1>\u001b[0m in \u001b[0;36m<module>\u001b[0;34m()\u001b[0m\n\u001b[1;32m     29\u001b[0m         \u001b[0msum_tokens\u001b[0m \u001b[0;34m+=\u001b[0m \u001b[0mnum_tokens\u001b[0m\u001b[0;34m\u001b[0m\u001b[0;34m\u001b[0m\u001b[0m\n\u001b[1;32m     30\u001b[0m \u001b[0;34m\u001b[0m\u001b[0m\n\u001b[0;32m---> 31\u001b[0;31m         \u001b[0mloss\u001b[0m\u001b[0;34m.\u001b[0m\u001b[0mbackward\u001b[0m\u001b[0;34m(\u001b[0m\u001b[0;34m)\u001b[0m\u001b[0;34m\u001b[0m\u001b[0;34m\u001b[0m\u001b[0m\n\u001b[0m\u001b[1;32m     32\u001b[0m         \u001b[0mnn\u001b[0m\u001b[0;34m.\u001b[0m\u001b[0mutils\u001b[0m\u001b[0;34m.\u001b[0m\u001b[0mclip_grad_norm_\u001b[0m\u001b[0;34m(\u001b[0m\u001b[0mmodel\u001b[0m\u001b[0;34m.\u001b[0m\u001b[0mparameters\u001b[0m\u001b[0;34m(\u001b[0m\u001b[0;34m)\u001b[0m\u001b[0;34m,\u001b[0m \u001b[0mmax_norm\u001b[0m\u001b[0;34m=\u001b[0m\u001b[0;36m5\u001b[0m\u001b[0;34m)\u001b[0m\u001b[0;34m\u001b[0m\u001b[0;34m\u001b[0m\u001b[0m\n\u001b[1;32m     33\u001b[0m         \u001b[0moptimizer\u001b[0m\u001b[0;34m.\u001b[0m\u001b[0mstep\u001b[0m\u001b[0;34m(\u001b[0m\u001b[0;34m)\u001b[0m\u001b[0;34m\u001b[0m\u001b[0;34m\u001b[0m\u001b[0m\n",
            "\u001b[0;32m/usr/local/lib/python3.6/dist-packages/torch/tensor.py\u001b[0m in \u001b[0;36mbackward\u001b[0;34m(self, gradient, retain_graph, create_graph)\u001b[0m\n\u001b[1;32m    148\u001b[0m                 \u001b[0mproducts\u001b[0m\u001b[0;34m.\u001b[0m \u001b[0mDefaults\u001b[0m \u001b[0mto\u001b[0m\u001b[0;31m \u001b[0m\u001b[0;31m`\u001b[0m\u001b[0;31m`\u001b[0m\u001b[0;32mFalse\u001b[0m\u001b[0;31m`\u001b[0m\u001b[0;31m`\u001b[0m\u001b[0;34m.\u001b[0m\u001b[0;34m\u001b[0m\u001b[0;34m\u001b[0m\u001b[0m\n\u001b[1;32m    149\u001b[0m         \"\"\"\n\u001b[0;32m--> 150\u001b[0;31m         \u001b[0mtorch\u001b[0m\u001b[0;34m.\u001b[0m\u001b[0mautograd\u001b[0m\u001b[0;34m.\u001b[0m\u001b[0mbackward\u001b[0m\u001b[0;34m(\u001b[0m\u001b[0mself\u001b[0m\u001b[0;34m,\u001b[0m \u001b[0mgradient\u001b[0m\u001b[0;34m,\u001b[0m \u001b[0mretain_graph\u001b[0m\u001b[0;34m,\u001b[0m \u001b[0mcreate_graph\u001b[0m\u001b[0;34m)\u001b[0m\u001b[0;34m\u001b[0m\u001b[0;34m\u001b[0m\u001b[0m\n\u001b[0m\u001b[1;32m    151\u001b[0m \u001b[0;34m\u001b[0m\u001b[0m\n\u001b[1;32m    152\u001b[0m     \u001b[0;32mdef\u001b[0m \u001b[0mregister_hook\u001b[0m\u001b[0;34m(\u001b[0m\u001b[0mself\u001b[0m\u001b[0;34m,\u001b[0m \u001b[0mhook\u001b[0m\u001b[0;34m)\u001b[0m\u001b[0;34m:\u001b[0m\u001b[0;34m\u001b[0m\u001b[0;34m\u001b[0m\u001b[0m\n",
            "\u001b[0;32m/usr/local/lib/python3.6/dist-packages/torch/autograd/__init__.py\u001b[0m in \u001b[0;36mbackward\u001b[0;34m(tensors, grad_tensors, retain_graph, create_graph, grad_variables)\u001b[0m\n\u001b[1;32m     97\u001b[0m     Variable._execution_engine.run_backward(\n\u001b[1;32m     98\u001b[0m         \u001b[0mtensors\u001b[0m\u001b[0;34m,\u001b[0m \u001b[0mgrad_tensors\u001b[0m\u001b[0;34m,\u001b[0m \u001b[0mretain_graph\u001b[0m\u001b[0;34m,\u001b[0m \u001b[0mcreate_graph\u001b[0m\u001b[0;34m,\u001b[0m\u001b[0;34m\u001b[0m\u001b[0;34m\u001b[0m\u001b[0m\n\u001b[0;32m---> 99\u001b[0;31m         allow_unreachable=True)  # allow_unreachable flag\n\u001b[0m\u001b[1;32m    100\u001b[0m \u001b[0;34m\u001b[0m\u001b[0m\n\u001b[1;32m    101\u001b[0m \u001b[0;34m\u001b[0m\u001b[0m\n",
            "\u001b[0;31mKeyboardInterrupt\u001b[0m: "
          ]
        }
      ]
    },
    {
      "cell_type": "code",
      "metadata": {
        "colab_type": "code",
        "id": "EIGagYyGUerF",
        "outputId": "d9e62ffe-e14c-43b6-cf85-0ff6bc945bee",
        "colab": {
          "base_uri": "https://localhost:8080/",
          "height": 34
        }
      },
      "source": [
        "encoder_layer = nn.TransformerEncoderLayer(d_model=512, nhead=8)\n",
        "src = torch.rand(10, 32, 512)\n",
        "out = encoder_layer(src)\n",
        "out.shape"
      ],
      "execution_count": 0,
      "outputs": [
        {
          "output_type": "execute_result",
          "data": {
            "text/plain": [
              "torch.Size([10, 32, 512])"
            ]
          },
          "metadata": {
            "tags": []
          },
          "execution_count": 26
        }
      ]
    },
    {
      "cell_type": "markdown",
      "metadata": {
        "colab_type": "text",
        "id": "OWinhQLJixOh"
      },
      "source": [
        "## You present here:"
      ]
    },
    {
      "cell_type": "code",
      "metadata": {
        "colab_type": "code",
        "id": "DJNKgduSixOi",
        "colab": {}
      },
      "source": [
        "# check pdf to see what you expected to present"
      ],
      "execution_count": 0,
      "outputs": []
    },
    {
      "cell_type": "markdown",
      "metadata": {
        "colab_type": "text",
        "id": "1sOGRnkyixOp"
      },
      "source": [
        "# Part 2 Decoding"
      ]
    },
    {
      "cell_type": "markdown",
      "metadata": {
        "colab_type": "text",
        "id": "8gb-BEtyixOr"
      },
      "source": [
        "# 2.1 Nucleus Sampling"
      ]
    },
    {
      "cell_type": "code",
      "metadata": {
        "id": "Ox_8kJy0NRuq",
        "colab_type": "code",
        "outputId": "ec85122f-cf1e-4feb-fa13-218763cb8a54",
        "colab": {
          "base_uri": "https://localhost:8080/",
          "height": 34
        }
      },
      "source": [
        "model = seq2seq(opts).to('cuda')\n",
        "model.load_state_dict(torch.load('chat_model_best_22.pt')['state_dict'])"
      ],
      "execution_count": 26,
      "outputs": [
        {
          "output_type": "execute_result",
          "data": {
            "text/plain": [
              "<All keys matched successfully>"
            ]
          },
          "metadata": {
            "tags": []
          },
          "execution_count": 26
        }
      ]
    },
    {
      "cell_type": "code",
      "metadata": {
        "id": "zNEe_GgMH8Wt",
        "colab_type": "code",
        "colab": {}
      },
      "source": [
        "def top_p_filtering(logits, top_p):\n",
        "    logits = logits.view(-1)\n",
        "    assert logits.dim() == 1\n",
        "    if top_p > 0.0 and top_p < 1.0:\n",
        "        filter_value = -float('Inf')\n",
        "        all_scores = torch.softmax(logits, dim=-1)\n",
        "        sorted_scores, sorted_indices = torch.sort(all_scores, descending=True)\n",
        "        cumulative_scores = torch.cumsum(sorted_scores, dim=-1)\n",
        "\n",
        "        # Remove tokens with cumulative probability above the threshold\n",
        "        sorted_indices_to_remove = cumulative_scores > top_p\n",
        "        # Shift the indices to the right to keep also the first token above the threshold\n",
        "        sorted_indices_to_remove[..., 1:] = sorted_indices_to_remove[..., :-1].clone()\n",
        "        sorted_indices_to_remove[..., 0] = 0\n",
        "\n",
        "        indices_to_remove = sorted_indices[sorted_indices_to_remove]\n",
        "        logits[indices_to_remove] = filter_value\n",
        "\n",
        "    return logits"
      ],
      "execution_count": 0,
      "outputs": []
    },
    {
      "cell_type": "code",
      "metadata": {
        "colab_type": "code",
        "id": "HvW5II9CixOu",
        "colab": {}
      },
      "source": [
        "import torch.nn.functional as F\n",
        "def nucleus_sampling(model, batch, batch_size, top_p):\n",
        "    model.eval()\n",
        "        \n",
        "    text_vecs = batch['text_vecs'].to(current_device)\n",
        "\n",
        "    encoded = model.encoder(text_vecs, batch['text_lens'], use_packed=batch['use_packed'])\n",
        "    \n",
        "    encoder_output, encoder_hidden, attention_mask = encoded\n",
        "        \n",
        "    # 1 is __start__\n",
        "    starts = torch.Tensor([1]).long().to(model.decoder.embedding.weight.device).expand(batch_size, 1).long()  # expand to batch size\n",
        "    decoder_hidden = encoder_hidden\n",
        "\n",
        "    # greedy decoding here        \n",
        "    preds = [starts]\n",
        "    scores = []\n",
        "\n",
        "    # track if each sample in the mini batch is finished\n",
        "    # if all finished, stop predicting\n",
        "    finish_mask = torch.Tensor([0]*batch_size).byte().to(model.decoder.embedding.weight.device)\n",
        "    xs = starts\n",
        "    _attn_w_log = []\n",
        "\n",
        "    for ts in range(100):\n",
        "        decoder_output, decoder_hidden, attn_w_log = model.decoder(xs, decoder_hidden, encoded)  # decoder_output: [batch, time, vocab]\n",
        "        \n",
        "        ################## sampling begins\n",
        "        filtered_logits = top_p_filtering(decoder_output, top_p) # shape: [1], dim = 1\n",
        "        all_scores = torch.softmax(filtered_logits, dim=-1) # shape: [1], dim = 1\n",
        "        _preds = torch.multinomial(all_scores, 1).view(1,1) # shape: [1,,1], dim = 2\n",
        "        _scores = torch.log(all_scores[_preds]).view(1,1) # shape: [1,,1], dim = 2\n",
        "        ################## sampling ends\n",
        "        \n",
        "        preds.append(_preds)\n",
        "        _attn_w_log.append(attn_w_log)\n",
        "        scores.append(_scores.view(-1)*(finish_mask == 0).float())\n",
        "\n",
        "        finish_mask += (_preds == 2).byte().view(-1)\n",
        "        \n",
        "        if not (torch.any(~finish_mask.bool())):\n",
        "            break\n",
        "        \n",
        "        xs = _preds\n",
        "    \n",
        "    preds = torch.cat(preds, dim=-1)\n",
        "    \n",
        "    return preds, torch.stack(scores, dim=0).sum(dim=0) # prediction output, sum of log_prob"
      ],
      "execution_count": 0,
      "outputs": []
    },
    {
      "cell_type": "code",
      "metadata": {
        "id": "cJxwI04AJ4Ij",
        "colab_type": "code",
        "colab": {}
      },
      "source": [
        "import numpy as np\n",
        "RETOK = re.compile(r'\\w+|[^\\w\\s]|\\n', re.UNICODE)\n",
        "# random choice\n",
        "choice = np.random.choice(len(valid_dataset), 1)[0]\n",
        "inputs = RETOK.findall(valid_dataset.samples[choice]['eval_labels'][0])\n",
        "\n",
        "test_batch = {\n",
        "    'text_vecs': torch.tensor([chat_dict.t2v(inputs)], dtype=torch.long, device=model.decoder.embedding.weight.device),\n",
        "    'text_lens': torch.tensor([len(inputs)], dtype=torch.long),\n",
        "    'use_packed': True,\n",
        "}"
      ],
      "execution_count": 0,
      "outputs": []
    },
    {
      "cell_type": "code",
      "metadata": {
        "id": "pfUZYDzZnpnr",
        "colab_type": "code",
        "colab": {
          "base_uri": "https://localhost:8080/",
          "height": 170
        },
        "outputId": "d5e1d026-fa60-4647-e01f-00f8f92b6fa5"
      },
      "source": [
        "# random choice\n",
        "import numpy as np\n",
        "batch_size = 1\n",
        "\n",
        "# shuffling to make different examples\n",
        "valid_loader_single = DataLoader(valid_dataset, shuffle=True, collate_fn=batchify, batch_size=batch_size)\n",
        "valid_sample = next(iter(valid_loader_single))\n",
        "print(f\"Input : {chat_dict.v2t(valid_sample['text_vecs'][0].tolist())}\\n\")"
      ],
      "execution_count": 35,
      "outputs": [
        {
          "output_type": "stream",
          "text": [
            "Input : your persona : my favorite spanish word is __unk__ . \n",
            " your persona : i also study languages . \n",
            " your persona : my next language to study is french . \n",
            " your persona : i am a musician . \n",
            " your persona : one of the languages that i am currently studying is spanish . \n",
            " i there i ' m from pennsylvania . how about you ? \n",
            " i ' m in ohio . we are almost neighbors . \n",
            " i know . do you have any kids ? i am expecting my first child soon .\n",
            "\n"
          ],
          "name": "stdout"
        }
      ]
    },
    {
      "cell_type": "code",
      "metadata": {
        "id": "cifp5tjxJgmG",
        "colab_type": "code",
        "colab": {
          "base_uri": "https://localhost:8080/",
          "height": 1000
        },
        "outputId": "ab27c251-df82-49dc-a6c3-469778b65ed2"
      },
      "source": [
        "top_p_list = [0.1, 0.5, 0.9]\n",
        "avg_sum_log_probs_list = []\n",
        "unique_tokens = []\n",
        "for top_p in top_p_list:\n",
        "    print(\"probability = \", top_p)\n",
        "    outputs = []\n",
        "    sum_log_probs = []\n",
        "    for _ in range(100): # product 100 decodings\n",
        "        output, sum_log_prob = nucleus_sampling(model, valid_sample, 1, top_p)\n",
        "        outputs.extend(output.view(-1).tolist())\n",
        "        sum_log_probs.append(sum_log_prob)\n",
        "        print(chat_dict.v2t(output[0].tolist())) # print decoded sentence\n",
        "    avg_sum_log_probs = torch.mean(torch.stack(sum_log_probs)) # average sum of log probs\n",
        "    avg_sum_log_probs_list.append(avg_sum_log_probs)\n",
        "    unique_tokens.append(len(set(outputs)) - 2) # unique tokens (-2: minus start and finish token)"
      ],
      "execution_count": 36,
      "outputs": [
        {
          "output_type": "stream",
          "text": [
            "probability =  0.1\n",
            "__start__ no . i ' m a baker . __end__\n",
            "__start__ no . i ' m a single mom . __end__\n",
            "__start__ no . i ' m a baker . __end__\n",
            "__start__ no . i ' m a single mom . __end__\n",
            "__start__ no . i ' m a single mom . __end__\n",
            "__start__ no . i ' m a baker . __end__\n",
            "__start__ no . i ' m a baker . __end__\n",
            "__start__ no . i ' m a baker . __end__\n",
            "__start__ no . i ' m a single mom . __end__\n",
            "__start__ no . i ' m a baker . __end__\n",
            "__start__ no . i ' m a single mom . __end__\n",
            "__start__ no . i ' m a baker . __end__\n",
            "__start__ no . i ' m a baker . __end__\n",
            "__start__ no . i ' m a single mom . __end__\n",
            "__start__ no . i ' m a baker . __end__\n",
            "__start__ no . i ' m a baker . __end__\n",
            "__start__ no . i ' m a baker . __end__\n",
            "__start__ no . i ' m a baker . __end__\n",
            "__start__ no . i ' m a single mom . __end__\n",
            "__start__ no . i ' m a baker . __end__\n",
            "__start__ no . i ' m a single mom . __end__\n",
            "__start__ no . i ' m a baker . __end__\n",
            "__start__ no . i ' m a baker . __end__\n",
            "__start__ no . i ' m a baker . __end__\n",
            "__start__ no . i ' m a baker . __end__\n",
            "__start__ no . i ' m a baker . __end__\n",
            "__start__ no . i ' m a single mom . __end__\n",
            "__start__ no . i ' m a single mom . __end__\n",
            "__start__ no . i ' m a single mom . __end__\n",
            "__start__ no . i ' m a baker . __end__\n",
            "__start__ no . i ' m a single mom . __end__\n",
            "__start__ no . i ' m a baker . __end__\n",
            "__start__ no . i ' m a baker . __end__\n",
            "__start__ no . i ' m a baker . __end__\n",
            "__start__ no . i ' m a baker . __end__\n",
            "__start__ no . i ' m a single mom . __end__\n",
            "__start__ no . i ' m a single mom . __end__\n",
            "__start__ no . i ' m a baker . __end__\n",
            "__start__ no . i ' m a single mom . __end__\n",
            "__start__ no . i ' m a single mom . __end__\n",
            "__start__ no . i ' m a single mom . __end__\n",
            "__start__ no . i ' m a single mom . __end__\n",
            "__start__ no . i ' m a single mom . __end__\n",
            "__start__ no . i ' m a baker . __end__\n",
            "__start__ no . i ' m a single mom . __end__\n",
            "__start__ no . i ' m a single mom . __end__\n",
            "__start__ no . i ' m a single mom . __end__\n",
            "__start__ no . i ' m a baker . __end__\n",
            "__start__ no . i ' m a baker . __end__\n",
            "__start__ no . i ' m a single mom . __end__\n",
            "__start__ no . i ' m a baker . __end__\n",
            "__start__ no . i ' m a single mom . __end__\n",
            "__start__ no . i ' m a single mom . __end__\n",
            "__start__ no . i ' m a single mom . __end__\n",
            "__start__ no . i ' m a baker . __end__\n",
            "__start__ no . i ' m a single mom . __end__\n",
            "__start__ no . i ' m a single mom . __end__\n",
            "__start__ no . i ' m a single mom . __end__\n",
            "__start__ no . i ' m a baker . __end__\n",
            "__start__ no . i ' m a baker . __end__\n",
            "__start__ no . i ' m a baker . __end__\n",
            "__start__ no . i ' m a single mom . __end__\n",
            "__start__ no . i ' m a single mom . __end__\n",
            "__start__ no . i ' m a baker . __end__\n",
            "__start__ no . i ' m a single mom . __end__\n",
            "__start__ no . i ' m a single mom . __end__\n",
            "__start__ no . i ' m a single mom . __end__\n",
            "__start__ no . i ' m a baker . __end__\n",
            "__start__ no . i ' m a single mom . __end__\n",
            "__start__ no . i ' m a single mom . __end__\n",
            "__start__ no . i ' m a single mom . __end__\n",
            "__start__ no . i ' m a baker . __end__\n",
            "__start__ no . i ' m a baker . __end__\n",
            "__start__ no . i ' m a single mom . __end__\n",
            "__start__ no . i ' m a single mom . __end__\n",
            "__start__ no . i ' m a single mom . __end__\n",
            "__start__ no . i ' m a single mom . __end__\n",
            "__start__ no . i ' m a baker . __end__\n",
            "__start__ no . i ' m a baker . __end__\n",
            "__start__ no . i ' m a baker . __end__\n",
            "__start__ no . i ' m a single mom . __end__\n",
            "__start__ no . i ' m a baker . __end__\n",
            "__start__ no . i ' m a baker . __end__\n",
            "__start__ no . i ' m a baker . __end__\n",
            "__start__ no . i ' m a baker . __end__\n",
            "__start__ no . i ' m a single mom . __end__\n",
            "__start__ no . i ' m a single mom . __end__\n",
            "__start__ no . i ' m a baker . __end__\n",
            "__start__ no . i ' m a baker . __end__\n",
            "__start__ no . i ' m a single mom . __end__\n",
            "__start__ no . i ' m a single mom . __end__\n",
            "__start__ no . i ' m a single mom . __end__\n",
            "__start__ no . i ' m a single mom . __end__\n",
            "__start__ no . i ' m a single mom . __end__\n",
            "__start__ no . i ' m a baker . __end__\n",
            "__start__ no . i ' m a baker . __end__\n",
            "__start__ no . i ' m a baker . __end__\n",
            "__start__ no . i ' m a baker . __end__\n",
            "__start__ no . i ' m a baker . __end__\n",
            "__start__ no . i ' m a baker . __end__\n",
            "probability =  0.5\n",
            "__start__ no i don ' t . i do love traveling . __end__\n",
            "__start__ i ' ve a couple of them . what do you do for a living ? __end__\n",
            "__start__ i have a son . we are both married . __end__\n",
            "__start__ no i am single . i do like the beatles direction . __end__\n",
            "__start__ i have 2 kids , and i ' ve one . __end__\n",
            "__start__ no , i ' m a baker . i ' m a writer . __end__\n",
            "__start__ i have one daughter . do you have any kids ? __end__\n",
            "__start__ i ' ve two . i ' m a little old . __end__\n",
            "__start__ no , i do not . i have a roommate . __end__\n",
            "__start__ i have one dog . he ' s a baby named lady . __end__\n",
            "__start__ i ' ve a cat named cow . __end__\n",
            "__start__ i do not . i am single . __end__\n",
            "__start__ i ' ve two kids . i have been married since my husband passed . __end__\n",
            "__start__ no . i am a twin . __end__\n",
            "__start__ no i ' m married to a wedding . __end__\n",
            "__start__ no i ' m not . i have to get to my wife and sisters . __end__\n",
            "__start__ no . i am in college . __end__\n",
            "__start__ i have a cat named wiggles . __end__\n",
            "__start__ i ' ve one sister . __end__\n",
            "__start__ no . i am only 19 years old . i ' m 20 . __end__\n",
            "__start__ no . i ' m a girl . i love to listen to music while i can . __end__\n",
            "__start__ no , i do not . i am more of a sports person . __end__\n",
            "__start__ no , i ' m . i have a wife . __end__\n",
            "__start__ no . i have a lot of money for my own . __end__\n",
            "__start__ i ' ve two kids . __end__\n",
            "__start__ no i ' m a single mother . __end__\n",
            "__start__ i ' ve two boys and they ' re my favorite . __end__\n",
            "__start__ no , i ' m a single mom . i am a zookeeper . __end__\n",
            "__start__ no . i am an older . what do you do ? __end__\n",
            "__start__ i ' ve a dog named ken . __end__\n",
            "__start__ no i don ' t . i do not have any . __end__\n",
            "__start__ no i ' m married . i am an artist . __end__\n",
            "__start__ no . i have a cat named cow . __end__\n",
            "__start__ no , i ' m a stay at home mom . __end__\n",
            "__start__ no . i am a linebacker . __end__\n",
            "__start__ no i don ' t . i do not have a job yet . i have never been to college . __end__\n",
            "__start__ no . i have been busy with my son . __end__\n",
            "__start__ i do not . i ' m married . __end__\n",
            "__start__ no . i am not married . i ' m an english teacher . __end__\n",
            "__start__ i do . my wife and i are so tiny . __end__\n",
            "__start__ no i don ' t . i have a brother . __end__\n",
            "__start__ no . i ' m not sure if i do not have any . __end__\n",
            "__start__ no , i am a little nervous . __end__\n",
            "__start__ i have 2 brothers and sisters . i ' m a boy . __end__\n",
            "__start__ i ' ve a job in a big firm . i also love to read . __end__\n",
            "__start__ no , i ' m not married . do you have any pets ? __end__\n",
            "__start__ no , i do not . i have a cat . i have a horse . __end__\n",
            "__start__ i do not . i ' m a single parent . __end__\n",
            "__start__ i do not . i ' m a single mom of two boys and my family supports me __end__\n",
            "__start__ no . i am not a big drinker . i have a friend . __end__\n",
            "__start__ no . i have a son . you have any pets ? __end__\n",
            "__start__ i have 2 boys and a girl . __end__\n",
            "__start__ no . i ' m in school . __end__\n",
            "__start__ no , but i ' m very proud of my family . __end__\n",
            "__start__ i have two brothers and sisters . __end__\n",
            "__start__ no , i do not . i ' m a veteran . __end__\n",
            "__start__ i ' ve two boys and i ' m a linebacker . __end__\n",
            "__start__ no . i ' m a single mom . __end__\n",
            "__start__ no . i ' m not sure what i want to do yet . __end__\n",
            "__start__ i ' ve two . they are my favorite . __end__\n",
            "__start__ i ' ve a pug . my dad and i both love them . __end__\n",
            "__start__ i do not . i ' m an only child . __end__\n",
            "__start__ i ' ve a pug . i have been single since i was a kid . __end__\n",
            "__start__ i do . i am married . what do you do for a living ? __end__\n",
            "__start__ i have two brothers . i have seven children . __end__\n",
            "__start__ no . i have a brother . i have a dog . i ' m a single mom . __end__\n",
            "__start__ no , but i ' m single . i want to be a writer someday . __end__\n",
            "__start__ i ' ve two boys . do you have any hobbies ? __end__\n",
            "__start__ no i ' m married . i am a full time student and i am a writer . __end__\n",
            "__start__ i ' ve three brothers . you ? __end__\n",
            "__start__ no i ' m not . i am an artist . __end__\n",
            "__start__ i ' ve two . i have a few siblings . __end__\n",
            "__start__ no , i am not . i am not very active . __end__\n",
            "__start__ no . i ' m the best baker in my family . __end__\n",
            "__start__ i ' ve two . i ' m a baker . __end__\n",
            "__start__ i ' ve a daughter who is a detective . __end__\n",
            "__start__ i do . i have two . i am 19 . __end__\n",
            "__start__ no . i have a few . __end__\n",
            "__start__ i do not . i ' m an only child . __end__\n",
            "__start__ no . i am a student . __end__\n",
            "__start__ no , i ' m a single mother . i love the outdoors . __end__\n",
            "__start__ no . i ' m a big kid . __end__\n",
            "__start__ i ' ve two . they are my favorite . __end__\n",
            "__start__ no , i ' m a student . i ' m a girl . __end__\n",
            "__start__ no . i ' m a gymnast . i love them . __end__\n",
            "__start__ no . i have one . my dad is an engineer . __end__\n",
            "__start__ i do not have any kids . i have a daughter . __end__\n",
            "__start__ i have a big family . what do you do for a living ? __end__\n",
            "__start__ no . i ' m not sure . i am not married . __end__\n",
            "__start__ i ' ve one . i am the youngest of eight . __end__\n",
            "__start__ i ' ve a lot of brothers and sisters . do you have any hobbies ? __end__\n",
            "__start__ no . i have been reading since i was a kid . __end__\n",
            "__start__ no . i am a freshman in a small town . __end__\n",
            "__start__ no , i ' m not married . i have a pomeranian . __end__\n",
            "__start__ no , but i am busy with my son . __end__\n",
            "__start__ i do . i ' ve been looking for a new camera . __end__\n",
            "__start__ no . i ' m not sure . i have one . i ' m a septuagenarian . __end__\n",
            "__start__ i do not . i ' m in school . __end__\n",
            "__start__ no , i ' m not . i ' m a student and i have a few friends . __end__\n",
            "__start__ i do not . i ' m an old lady . __end__\n",
            "probability =  0.9\n",
            "__start__ i don ' t do you . but i ' ve to become shortstop for being a short year old . __end__\n",
            "__start__ no , i don ' t , but i do have horses . i am a bit of a sham , so we aren ' t yet . __end__\n",
            "__start__ i have 6 children . i love crime novels . __end__\n",
            "__start__ yeah . i am single . what is life that you do ? __end__\n",
            "__start__ i like rocky parties . but i really like the movies . do you have a favorite sport ? __end__\n",
            "__start__ i am 17 . i live on a farm __end__\n",
            "__start__ i do . and i love to do new products to explore dance . __end__\n",
            "__start__ no . i ' ve 1 brother and so annoyed they can rehabilitate . __end__\n",
            "__start__ no . . . they ' re named . he loves to listen to radiohead . __end__\n",
            "__start__ i do not . have you been to college ? i was in my navy . __end__\n",
            "__start__ i am seven foot tall but i am a tall girl . how about you ? __end__\n",
            "__start__ no , i spend a lot of time with my daughter in the army __end__\n",
            "__start__ not yet . unfortunately i ' ve a part time for soccer . __end__\n",
            "__start__ yes i ' ve a wife , and a lizard . how many kids do you have ? __end__\n",
            "__start__ no i just graduated 3 mustangs . do you have any pets ? __end__\n",
            "__start__ yes , i ' ve one , son . what do you do ? __end__\n",
            "__start__ i only buy one . what is your favorite food ? i love the baby . __end__\n",
            "__start__ no , i ' m not a nice lady . __end__\n",
            "__start__ yes ! i had 4 parents __end__\n",
            "__start__ i don ' t but i ' m afraid of heights . __end__\n",
            "__start__ yes but i have danced , since my parents died when i was born . __end__\n",
            "__start__ no , i ' m in the 10th grade . you ? __end__\n",
            "__start__ no . i love to hike and take walks with my parents . __end__\n",
            "__start__ nope . i like being home and have a son to have them __end__\n",
            "__start__ yes but i ' ve kids . __end__\n",
            "__start__ yeah , i like to kayak by the lake . __end__\n",
            "__start__ no family . it was a 6 year old kid . __end__\n",
            "__start__ no , i ' m afraid i ' m one . i have a full time for soccer . how about you ? __end__\n",
            "__start__ i like but they are sausages . i also like radiohead books . __end__\n",
            "__start__ no , but i love swimming though . __end__\n",
            "__start__ i like being a parent and can ' t help at the moment . __end__\n",
            "__start__ no , but i ' m not looking for that . i am a social worker . __end__\n",
            "__start__ yes , i ' ve three children . are you married ? __end__\n",
            "__start__ no i only have kids , and i live with my brothers . __end__\n",
            "__start__ no not yet , unless i was a zoo . __end__\n",
            "__start__ i do ! i play with barbies . i can bring our up around the water . __end__\n",
            "__start__ i can lend my maids too . and you ? __end__\n",
            "__start__ no , none to that one . i ' m just in my freshman college . __end__\n",
            "__start__ yes , i have six of nine . you married ? __end__\n",
            "__start__ no family . my patrons is too . i watch pride __end__\n",
            "__start__ i did , i ' m six foot 7 years old . __end__\n",
            "__start__ two years . i ' m 20 and have two younger siblings . __end__\n",
            "__start__ i love those . what do you like to do for fun ? __end__\n",
            "__start__ yes ! toto . you have a headache and a dog ? __end__\n",
            "__start__ no , not married . do you ? __end__\n",
            "__start__ no i am a petsitter . whats your favorite subject ? mine is pretty cold here . __end__\n",
            "__start__ i have two . but they ' re my favourite . __end__\n",
            "__start__ no i ' m single . so what do you do ? __end__\n",
            "__start__ i had a test that i have . a girl . he ' s a teacher . __end__\n",
            "__start__ no , no siblings . do you ? __end__\n",
            "__start__ no , i am a guy of a house . __end__\n",
            "__start__ i am in my school . what do you do ? __end__\n",
            "__start__ no . do you have any pets ? __end__\n",
            "__start__ i have six older brothers . do you have any kids ? __end__\n",
            "__start__ i have seven brothers sisters . i ' ve all girls of friends . __end__\n",
            "__start__ i love him . i ' m also a barista . how old are you ? __end__\n",
            "__start__ i ' ve a zebra story . just one . __end__\n",
            "__start__ i am only a younger brother who is . i am afraid . like crazy single huh ? __end__\n",
            "__start__ i do not have a favorite . but i ' m from texas . __end__\n",
            "__start__ no ! its pretty exciting though __end__\n",
            "__start__ i do . we have 6 boys , brothers whom i love ! ! ! __end__\n",
            "__start__ no i don ' t . i live in america . all i do . __end__\n",
            "__start__ i ' m not sure i don ' t . i do not have them but i ' m 18 . __end__\n",
            "__start__ no , i ' m . what do you like to do for fun ? __end__\n",
            "__start__ i ' m a farmer . i should be busy . what do you like ? __end__\n",
            "__start__ i have kids . we are calling . __end__\n",
            "__start__ no , i do not have any siblings but being a slave . __end__\n",
            "__start__ i do but i ' m just a lonely slave __end__\n",
            "__start__ no pets but i am employed at a local college . __end__\n",
            "__start__ i ' ve not . my best friends is vegan and my husband is named socks . __end__\n",
            "__start__ i ' ve a pet house . how do you look up ? __end__\n",
            "__start__ i love to the beatles but i love them . we have the net in the hills . __end__\n",
            "__start__ yes i am . are you single ? __end__\n",
            "__start__ i love cheesecake . especially my daughter . __end__\n",
            "__start__ no . i am too young to try . we had an entire house . __end__\n",
            "__start__ i live alone and there are my other favorite types of fruit . __end__\n",
            "__start__ no ! i love the winter but my favorite band is zebra . __end__\n",
            "__start__ no children yet . what do you do for a living ? __end__\n",
            "__start__ yes i like one direction . my hobby is josh . __end__\n",
            "__start__ i ' m an artist . just recovering from my local grade __end__\n",
            "__start__ yes ! it is important . but i ' ve a large family . __end__\n",
            "__start__ i actually have one daughter since they are my kids . what do you do ? __end__\n",
            "__start__ not for many years . how many beers do you have ? __end__\n",
            "__start__ nope , are you the youngest or just a girl and girl ? __end__\n",
            "__start__ no time , no , but i am a mother of five 5 siblings and 20 and 2 babies . __end__\n",
            "__start__ i ' ve a cat named todd . what are your favorite song ? __end__\n",
            "__start__ i do . my friends are teachers too . i love sweets too . __end__\n",
            "__start__ i ' ve one with my kids and my two sisters they have a parrot . __end__\n",
            "__start__ we are expecting and i own seven friends , do you have any siblings ? __end__\n",
            "__start__ my husband is not a dating he ' s my friend . and not they . __end__\n",
            "__start__ no i am , do you have siblings ? __end__\n",
            "__start__ no . my hubby is english but my dad works in the same warehouse . __end__\n",
            "__start__ no kids . . . i ' m an older musician . the wealthiest have a small farm . __end__\n",
            "__start__ no not yet , i have 3 pets . __end__\n",
            "__start__ no . i wish i had an income . i am almost learning piano . __end__\n",
            "__start__ two girls and two kids . __end__\n",
            "__start__ no i ' m not . i want to be a mother . __end__\n",
            "__start__ no . my sisters name william . what do you do ? __end__\n",
            "__start__ no time for kids . what do you do for fun ? __end__\n",
            "__start__ i love to drive ! its for fun . i fly planes in my family farm . __end__\n"
          ],
          "name": "stdout"
        }
      ]
    },
    {
      "cell_type": "markdown",
      "metadata": {
        "colab_type": "text",
        "id": "S6pT8yduixOy"
      },
      "source": [
        "## You present here:"
      ]
    },
    {
      "cell_type": "code",
      "metadata": {
        "colab_type": "code",
        "id": "qQd-kQxZixOz",
        "colab": {}
      },
      "source": [
        "# check pdf to see what you expected to present"
      ],
      "execution_count": 0,
      "outputs": []
    },
    {
      "cell_type": "code",
      "metadata": {
        "id": "qHZXMNqVR57F",
        "colab_type": "code",
        "outputId": "930270c1-2529-4269-9839-c8517b0ba0dd",
        "colab": {
          "base_uri": "https://localhost:8080/",
          "height": 493
        }
      },
      "source": [
        "avg_sum_log_probs_list = [int(i) for i in avg_sum_log_probs_list]\n",
        "\n",
        "import matplotlib.pyplot as plt\n",
        "\n",
        "plt.figure(figsize = (10,7))\n",
        "plt.plot(top_p_list, avg_sum_log_probs_list, 'bo')\n",
        "plt.plot(top_p_list, avg_sum_log_probs_list)\n",
        "plt.title('Nucleaus Sampling')\n",
        "plt.ylabel('Average log probability of generated sequence')\n",
        "plt.xlabel('P_nucleaus')\n",
        "plt.legend(loc = 2)"
      ],
      "execution_count": 39,
      "outputs": [
        {
          "output_type": "stream",
          "text": [
            "No handles with labels found to put in legend.\n"
          ],
          "name": "stderr"
        },
        {
          "output_type": "execute_result",
          "data": {
            "text/plain": [
              "<matplotlib.legend.Legend at 0x7fec4a697e10>"
            ]
          },
          "metadata": {
            "tags": []
          },
          "execution_count": 39
        },
        {
          "output_type": "display_data",
          "data": {
            "image/png": "[encoded data removed]",
            "text/plain": [
              "<Figure size 720x504 with 1 Axes>"
            ]
          },
          "metadata": {
            "tags": []
          }
        }
      ]
    },
    {
      "cell_type": "code",
      "metadata": {
        "id": "K_VIcdfVoAGy",
        "colab_type": "code",
        "colab": {
          "base_uri": "https://localhost:8080/",
          "height": 493
        },
        "outputId": "5a5c15da-3db9-4503-cb65-72c7f115c331"
      },
      "source": [
        "plt.figure(figsize = (10,7))\n",
        "plt.plot(top_p_list, unique_tokens, 'yo')\n",
        "plt.plot(top_p_list, unique_tokens)\n",
        "plt.title('Nucleaus Sampling')\n",
        "plt.ylabel('Number of unique tokens')\n",
        "plt.xlabel('P_nucleaus')\n",
        "plt.legend(loc = 2)"
      ],
      "execution_count": 38,
      "outputs": [
        {
          "output_type": "stream",
          "text": [
            "No handles with labels found to put in legend.\n"
          ],
          "name": "stderr"
        },
        {
          "output_type": "execute_result",
          "data": {
            "text/plain": [
              "<matplotlib.legend.Legend at 0x7fec4a69fd68>"
            ]
          },
          "metadata": {
            "tags": []
          },
          "execution_count": 38
        },
        {
          "output_type": "display_data",
          "data": {
            "image/png": "[encoded data removed]",
            "text/plain": [
              "<Figure size 720x504 with 1 Axes>"
            ]
          },
          "metadata": {
            "tags": []
          }
        }
      ]
    },
    {
      "cell_type": "markdown",
      "metadata": {
        "colab_type": "text",
        "id": "0KkQKxDpixO4"
      },
      "source": [
        "## 2.2 N-Gram blocking"
      ]
    },
    {
      "cell_type": "code",
      "metadata": {
        "id": "zByOt92kni_H",
        "colab_type": "code",
        "colab": {}
      },
      "source": [
        "import math\n",
        "from operator import attrgetter\n",
        "\n",
        "class _HypothesisTail(object):\n",
        "    \"\"\"Hold some bookkeeping about a hypothesis.\"\"\"\n",
        "\n",
        "    # use slots because we don't want dynamic attributes here\n",
        "    __slots__ = ['timestep', 'hypid', 'score', 'tokenid']\n",
        "\n",
        "    def __init__(self, timestep, hypid, score, tokenid):\n",
        "        self.timestep = timestep\n",
        "        self.hypid = hypid\n",
        "        self.score = score\n",
        "        self.tokenid = tokenid\n",
        "\n",
        "class Beam(object):\n",
        "    \"\"\"\n",
        "    This class serves to keep info about partial hypothesis and perform the beam step\n",
        "    \"\"\"\n",
        "    \n",
        "    def __init__(\n",
        "        self,\n",
        "        beam_size,\n",
        "        padding_token=0,\n",
        "        bos_token=1,\n",
        "        eos_token=2,\n",
        "        min_length=3,\n",
        "        min_n_best=3,\n",
        "        device='cpu',\n",
        "        # for iterbeam below\n",
        "        # similarity_metric='hamming',\n",
        "        # similarity_threshold=0,\n",
        "        ngram = 3\n",
        "    ):\n",
        "        \n",
        "        self.beam_size = beam_size\n",
        "        self.min_length = min_length\n",
        "        self.eos = eos_token\n",
        "        self.bos = bos_token\n",
        "        self.pad = padding_token\n",
        "        self.device = device\n",
        "        # recent score for each hypo in the beam\n",
        "        self.scores = None\n",
        "        # self.scores values per each time step\n",
        "        self.all_scores = [torch.Tensor([0.0] * beam_size).to(self.device)]\n",
        "        # backtracking id to hypothesis at previous time step\n",
        "        self.bookkeep = []\n",
        "        # output tokens at each time step\n",
        "        self.outputs = [\n",
        "            torch.Tensor(self.beam_size).long().fill_(self.bos).to(self.device)\n",
        "        ]\n",
        "        # keeps tuples (score, time_step, hyp_id)\n",
        "        self.finished = [] # store finished sequences\n",
        "        self.eos_top = False\n",
        "        self.eos_top_ts = None\n",
        "        self.n_best_counter = 0\n",
        "        self.min_n_best = min_n_best\n",
        "        self.partial_hyps = [[self.bos] for i in range(beam_size)] # partial hypotheses\n",
        "\n",
        "        # iterbeam related below\n",
        "        self.history_hyps = []\n",
        "        self.ngram = ngram\n",
        "        # self.similarity_metric = similarity_metric\n",
        "        # self.similarity_threshold = similarity_threshold\n",
        "        self.banned_tokens = set()\n",
        "        \n",
        "    def get_output_from_current_step(self):\n",
        "        \"\"\"Get the output at the current step.\"\"\"\n",
        "        return self.outputs[-1]\n",
        "\n",
        "    def get_backtrack_from_current_step(self):\n",
        "        \"\"\"Get the backtrack at the current step.\"\"\"\n",
        "        return self.bookkeep[-1]\n",
        "    \n",
        "    ##################### ITER-BEAM BLOCKING PART START #####################\n",
        "\n",
        "    #N-gram blocking\n",
        "    def find_ngrams(self, active_hyp):\n",
        "        n = self.ngram\n",
        "        history_ngrams = []\n",
        "        for ngram in zip(*[list(active_hyp)[i:] for i in range(n)]):\n",
        "            history_ngrams.append(ngram)\n",
        "        history_ngrams = list(set(history_ngrams))\n",
        "        return history_ngrams\n",
        "    \n",
        "    ##################### ITER-BEAM BLOCKING PART END ########################\n",
        "    def select_paths(self, logprobs, prior_scores, previous_hyps):\n",
        "        \"\"\"Select the next vocabulary item in these beams.\"\"\"\n",
        "        # beam search actually looks over all hypotheses together so we flatten\n",
        "        beam_scores = logprobs + prior_scores.unsqueeze(1).expand_as(logprobs)\n",
        "        \n",
        "        ###### iterbeam blocking part begins\n",
        "        n = self.ngram\n",
        "        current_length = len(self.all_scores)\n",
        "        if n > 0:\n",
        "          if current_length > 0:\n",
        "              for hyp_id in range(beam_scores.size(0)): # for each active hyp in the hyp set\n",
        "                  banned_tokens = [] # initialize empty banned tokens for each active hyp\n",
        "                  active_hyp = tuple(self.partial_hyps[hyp_id])\n",
        "                  existed_ngrams = self.find_ngrams(active_hyp) # list of existed ngrams in this active hypothesis\n",
        "                  for tok_id in range(logprobs.size(-1)): # append each token from vocab to see which to block\n",
        "                      if n == 1: # ngram = 1\n",
        "                          if tuple([tok_id]) in existed_ngrams:\n",
        "                              banned_tokens.append(tok_id)\n",
        "                      elif n > 1: # ngram = 2,3,4...\n",
        "                          prev = list(active_hyp)[-(n-1):]\n",
        "                          prev.append(tok_id)\n",
        "                          if tuple(prev) in existed_ngrams:\n",
        "                              banned_tokens.append(tok_id)\n",
        "                  banned_tokens = list(banned_tokens)\n",
        "                  beam_scores_copy = beam_scores.clone()\n",
        "                  if len(banned_tokens) > 0:\n",
        "                      beam_scores[hyp_id][banned_tokens] = -10e20\n",
        "                      # assert beam_scores != beam_scores_copy\n",
        "                      # print(beam_scores.shape, type(beam_scores))\n",
        "                  # print(banned_tokens)\n",
        "                  # print(beam_scores.shape)\n",
        "        flat_beam_scores = beam_scores.view(-1)\n",
        "        best_scores, best_idxs = torch.topk(flat_beam_scores, self.beam_size, dim=-1)\n",
        "        voc_size = logprobs.size(-1)\n",
        "        ###### iterbeam blocking part ends\n",
        "\n",
        "        # get the backtracking hypothesis id as a multiple of full voc_sizes\n",
        "        hyp_ids = best_idxs / voc_size\n",
        "        # get the actual word id from residual of the same division\n",
        "        tok_ids = best_idxs % voc_size\n",
        "        \n",
        "        return (hyp_ids, tok_ids, best_scores)\n",
        "    \n",
        "    def advance(self, logprobs, previous_hyps):\n",
        "        \"\"\"Advance the beam one step.\"\"\"\n",
        "        current_length = len(self.all_scores) - 1\n",
        "        if current_length < self.min_length:\n",
        "            # penalize all eos probs to make it decode longer\n",
        "            for hyp_id in range(logprobs.size(0)):\n",
        "                logprobs[hyp_id][self.eos] = -10e5\n",
        "\n",
        "        if self.scores is None:\n",
        "            logprobs = logprobs[0:1]  # we use only the first hyp now, since they are all same\n",
        "            self.scores = torch.zeros(1).type_as(logprobs).to(logprobs.device) # at first timestep, scores are initialized as zeros\n",
        "        \n",
        "        hyp_ids, tok_ids, self.scores = self.select_paths(logprobs, self.scores, previous_hyps)\n",
        "        \n",
        "        # clone scores here to avoid referencing penalized EOS in the future!\n",
        "        self.all_scores.append(self.scores.clone())\n",
        "\n",
        "        self.outputs.append(tok_ids)\n",
        "        self.bookkeep.append(hyp_ids)\n",
        "        self.partial_hyps = [\n",
        "            self.partial_hyps[hyp_ids[i]] + [tok_ids[i].item()]\n",
        "            for i in range(self.beam_size)\n",
        "        ] # the new partial hypotheses is: previous hyp + newly-selected token\n",
        "        self.history_hyps.extend(self.partial_hyps)\n",
        "\n",
        "        #  check new hypos for eos label, if we have some, add to finished\n",
        "        for hypid in range(self.beam_size):\n",
        "            if self.outputs[-1][hypid] == self.eos:\n",
        "                self.scores[hypid] = -10e5\n",
        "                #  this is finished hypo, adding to finished\n",
        "                eostail = _HypothesisTail(\n",
        "                    timestep=len(self.outputs) - 1,\n",
        "                    hypid=hypid,\n",
        "                    score=self.all_scores[-1][hypid],\n",
        "                    tokenid=self.eos,\n",
        "                )\n",
        "                self.finished.append(eostail)\n",
        "                self.n_best_counter += 1\n",
        "\n",
        "        if self.outputs[-1][0] == self.eos:\n",
        "            self.eos_top = True\n",
        "            if self.eos_top_ts is None:\n",
        "                self.eos_top_ts = len(self.outputs) - 1\n",
        "    \n",
        "    def is_done(self):\n",
        "        \"\"\"Return whether beam search is complete.\"\"\"\n",
        "        return self.eos_top and self.n_best_counter >= self.min_n_best\n",
        "\n",
        "    def get_top_hyp(self):\n",
        "        \"\"\"\n",
        "        Get single best hypothesis.\n",
        "        :return: hypothesis sequence and the final score\n",
        "        \"\"\"\n",
        "        return self._get_rescored_finished(n_best=1)[0]\n",
        "\n",
        "    def _get_hyp_from_finished(self, hypothesis_tail):\n",
        "        \"\"\"\n",
        "        Extract hypothesis ending with EOS at timestep with hyp_id.\n",
        "        :param timestep:\n",
        "            timestep with range up to len(self.outputs) - 1\n",
        "        :param hyp_id:\n",
        "            id with range up to beam_size - 1\n",
        "        :return:\n",
        "            hypothesis sequence\n",
        "        \"\"\"\n",
        "        hyp_idx = []\n",
        "        endback = hypothesis_tail.hypid\n",
        "        for i in range(hypothesis_tail.timestep, -1, -1):\n",
        "            hyp_idx.append(\n",
        "                _HypothesisTail(\n",
        "                    timestep=i,\n",
        "                    hypid=endback,\n",
        "                    score=self.all_scores[i][endback],\n",
        "                    tokenid=self.outputs[i][endback],\n",
        "                )\n",
        "            )\n",
        "            endback = self.bookkeep[i - 1][endback]\n",
        "\n",
        "        return hyp_idx\n",
        "\n",
        "    def _get_pretty_hypothesis(self, list_of_hypotails):\n",
        "        \"\"\"Return hypothesis as a tensor of token ids.\"\"\"\n",
        "        return torch.stack([ht.tokenid for ht in reversed(list_of_hypotails)])\n",
        "\n",
        "    def _get_rescored_finished(self, n_best=None, add_length_penalty=False):\n",
        "        \"\"\"\n",
        "        Return finished hypotheses according to adjusted scores.\n",
        "        Score adjustment is done according to the Google NMT paper, which\n",
        "        penalizes long utterances.\n",
        "        :param n_best:\n",
        "            number of finalized hypotheses to return\n",
        "        :return:\n",
        "            list of (tokens, score) pairs, in sorted order, where:\n",
        "              - tokens is a tensor of token ids\n",
        "              - score is the adjusted log probability of the entire utterance\n",
        "        \"\"\"\n",
        "        # if we never actually finished, force one\n",
        "        if not self.finished:\n",
        "            self.finished.append(\n",
        "                _HypothesisTail(\n",
        "                    timestep=len(self.outputs) - 1,\n",
        "                    hypid=0,\n",
        "                    score=self.all_scores[-1][0],\n",
        "                    tokenid=self.eos,\n",
        "                )\n",
        "            )\n",
        "\n",
        "        rescored_finished = []\n",
        "        for finished_item in self.finished:\n",
        "            if add_length_penalty:\n",
        "                current_length = finished_item.timestep + 1\n",
        "                # these weights are from Google NMT paper\n",
        "                length_penalty = math.pow((1 + current_length) / 6, 0.65)\n",
        "            else:\n",
        "                length_penalty = 1\n",
        "            rescored_finished.append(\n",
        "                _HypothesisTail(\n",
        "                    timestep=finished_item.timestep,\n",
        "                    hypid=finished_item.hypid,\n",
        "                    score=finished_item.score / length_penalty,\n",
        "                    tokenid=finished_item.tokenid,\n",
        "                )\n",
        "            )\n",
        "\n",
        "        # Note: beam size is almost always pretty small, so sorting is cheap enough\n",
        "        srted = sorted(rescored_finished, key=attrgetter('score'), reverse=True)\n",
        "\n",
        "        if n_best is not None:\n",
        "            srted = srted[:n_best]\n",
        "\n",
        "        return [\n",
        "            (self._get_pretty_hypothesis(self._get_hyp_from_finished(hyp)), hyp.score)\n",
        "            for hyp in srted\n",
        "        ]"
      ],
      "execution_count": 0,
      "outputs": []
    },
    {
      "cell_type": "code",
      "metadata": {
        "id": "L41AQcucze-P",
        "colab_type": "code",
        "colab": {}
      },
      "source": [
        "def reorder_encoder_states(encoder_states, indices):\n",
        "        \"\"\"Reorder encoder states according to a new set of indices.\"\"\"\n",
        "        enc_out, hidden, attention_mask = encoder_states\n",
        "\n",
        "        # LSTM or GRU/RNN hidden state?\n",
        "        if isinstance(hidden, torch.Tensor):\n",
        "            hid, cell = hidden, None\n",
        "        else:\n",
        "            hid, cell = hidden\n",
        "\n",
        "        if not torch.is_tensor(indices):\n",
        "            # cast indices to a tensor if needed\n",
        "            indices = torch.LongTensor(indices).to(hid.device)\n",
        "\n",
        "        hid = hid.index_select(1, indices)\n",
        "        if cell is None:\n",
        "            hidden = hid\n",
        "        else:\n",
        "            cell = cell.index_select(1, indices)\n",
        "            hidden = (hid, cell)\n",
        "\n",
        "        enc_out = enc_out.index_select(0, indices)\n",
        "        attention_mask = attention_mask.index_select(0, indices)\n",
        "\n",
        "        return enc_out, hidden, attention_mask\n",
        "    \n",
        "    \n",
        "def reorder_decoder_incremental_state(incremental_state, inds):\n",
        "    if torch.is_tensor(incremental_state):\n",
        "        # gru or lstm\n",
        "        return torch.index_select(incremental_state, 1, inds).contiguous()\n",
        "    elif isinstance(incremental_state, tuple):\n",
        "        return tuple(\n",
        "            self.reorder_decoder_incremental_state(x, inds)\n",
        "            for x in incremental_state)\n",
        "\n",
        "def get_nbest_list_from_beam(beam, dictionary, n_best=None, add_length_penalty=False):\n",
        "    if n_best is None:\n",
        "        n_best = beam.min_n_best\n",
        "    nbest_list = beam._get_rescored_finished(n_best=n_best, add_length_penalty=add_length_penalty)\n",
        "    \n",
        "    nbest_list_text = [(dictionary.v2t(i[0].cpu().tolist()), i[1].item()) for i in nbest_list]\n",
        "    \n",
        "    return nbest_list_text"
      ],
      "execution_count": 0,
      "outputs": []
    },
    {
      "cell_type": "code",
      "metadata": {
        "id": "-RRLEM4lziKc",
        "colab_type": "code",
        "colab": {}
      },
      "source": [
        "def generate_with_beam(beam_size, min_n_best, model, batch, batch_size, previous_hyps=None, ngram=3, verbose=False):\n",
        "    \"\"\"\n",
        "    This function takes a model, batch, beam settings and performs decoding with a beam\n",
        "    \"\"\"\n",
        "    # create a list of beam classes\n",
        "    beams = [Beam(beam_size, min_n_best=min_n_best, eos_token=chat_dict.word2ind['__end__'], padding_token=chat_dict.word2ind['__null__'], bos_token=chat_dict.word2ind['__start__'], device=current_device, ngram=ngram) for _ in range(batch_size)]\n",
        "    repeated_inds = torch.arange(batch_size).to(current_device).unsqueeze(1).repeat(1, beam_size).view(-1)\n",
        "    \n",
        "    text_vecs = batch['text_vecs'].to(current_device)\n",
        "\n",
        "    encoder_states = model.encoder(text_vecs, batch['text_lens'], use_packed=batch['use_packed'])\n",
        "    \n",
        "    model.eval()\n",
        "    \n",
        "    encoder_states = reorder_encoder_states(encoder_states, repeated_inds)  # no actual reordering here, but repeating beam size times each sample in the minibatch\n",
        "    encoder_output, encoder_hidden, attention_mask = encoder_states\n",
        "    \n",
        "    incr_state = encoder_hidden  # we init decoder hidden with last encoder_hidden; incr_state: current state of each timestep\n",
        "    \n",
        "    # 1 is a start token id\n",
        "    starts = torch.Tensor([1]).long().to(model.decoder.embedding.weight.device).expand(batch_size*beam_size, 1).long()  # expand to batch_size * beam_size\n",
        "    decoder_input = starts\n",
        "    \n",
        "    with torch.no_grad():\n",
        "        for ts in range(100):\n",
        "            if all((b.is_done() for b in beams)):\n",
        "                break\n",
        "            score, incr_state, attn_w_log = model.decoder(decoder_input, incr_state, encoder_states)\n",
        "            score = score[:, -1:, :]  # take last time step and eliminate the dimension, shape: beam_size * batch_size * vocab_size\n",
        "            score = score.view(batch_size, beam_size, -1) # shape: batch_size * beam_size * vocab_size\n",
        "            \n",
        "            score = torch.log_softmax(score, dim=-1) # shape: batch_size * beam_size * vocab_size\n",
        "         \n",
        "            for i, b in enumerate(beams):\n",
        "                if not b.is_done():\n",
        "                    # make mock previous_hyps if not used #\n",
        "                    if previous_hyps is None:\n",
        "                        previous_hyps = [{} for i in range(batch_size)]\n",
        "                    \n",
        "                    # advance the beam\n",
        "                    b.advance(score[i], previous_hyps[i])\n",
        "\n",
        "            # get the hidden states of the beam path selected\n",
        "            incr_state_inds = torch.cat([beam_size * i + b.get_backtrack_from_current_step() for i, b in enumerate(beams)])\n",
        "            incr_state = reorder_decoder_incremental_state(incr_state, incr_state_inds)\n",
        "            selection = torch.cat([b.get_output_from_current_step() for b in beams]).unsqueeze(-1)\n",
        "            decoder_input = selection\n",
        "\n",
        "    beam_preds_scores = [list(b.get_top_hyp()) for b in beams]\n",
        "\n",
        "    if verbose:\n",
        "        for bi in range(batch_size):\n",
        "            print(f'batch {bi}')\n",
        "            for i in get_nbest_list_from_beam(beams[bi], chat_dict, n_best=min_n_best):\n",
        "                print(i)\n",
        "    \n",
        "    return beam_preds_scores, beams"
      ],
      "execution_count": 0,
      "outputs": []
    },
    {
      "cell_type": "markdown",
      "metadata": {
        "colab_type": "text",
        "id": "Brb3GBRCixO-"
      },
      "source": [
        "## You present here:"
      ]
    },
    {
      "cell_type": "code",
      "metadata": {
        "colab_type": "code",
        "id": "0V_xHxFiixPA",
        "colab": {}
      },
      "source": [
        "# check pdf to see what you expected to present"
      ],
      "execution_count": 0,
      "outputs": []
    },
    {
      "cell_type": "code",
      "metadata": {
        "id": "RK-6001TAPQs",
        "colab_type": "code",
        "outputId": "b2602950-9326-4493-e20f-dcdf14d15059",
        "colab": {
          "base_uri": "https://localhost:8080/",
          "height": 187
        }
      },
      "source": [
        "# random choice\n",
        "import numpy as np\n",
        "batch_size = 1\n",
        "beam_size = 20\n",
        "beam_n_best = 10\n",
        "ngram_list = [1,2,3]\n",
        "\n",
        "# shuffling to make different examples\n",
        "valid_loader_single = DataLoader(valid_dataset, shuffle=True, collate_fn=batchify, batch_size=batch_size)\n",
        "valid_sample = next(iter(valid_loader_single))\n",
        "print(f\"Input : {chat_dict.v2t(valid_sample['text_vecs'][0].tolist())}\\n\")"
      ],
      "execution_count": 33,
      "outputs": [
        {
          "output_type": "stream",
          "text": [
            "Input : your persona : i have a children and a dogs . \n",
            " your persona : i own a house in florida . \n",
            " your persona : i enjoy american sports . \n",
            " your persona : i am a male . \n",
            " hello hope your having a good night tonight ? i know i am . \n",
            " that is good ! i am watching football highlights . \n",
            " really what teams . and who are you rooting for . \n",
            " i ' m a green bay packer fan . do you like football ? \n",
            " no i am not a fan but my son is .\n",
            "\n"
          ],
          "name": "stdout"
        }
      ]
    },
    {
      "cell_type": "code",
      "metadata": {
        "id": "Ar9vqeRZAdI6",
        "colab_type": "code",
        "outputId": "69babd99-be91-48b6-8cd4-44138e4c78ec",
        "colab": {
          "base_uri": "https://localhost:8080/",
          "height": 680
        }
      },
      "source": [
        "for ngram in ngram_list:\n",
        "    print(\"\\n ngram : {}: \".format(ngram))\n",
        "    outputs, prefix_dict = generate_with_beam(beam_size, beam_n_best, model, valid_sample, batch_size=batch_size, ngram=ngram, verbose=True)"
      ],
      "execution_count": 34,
      "outputs": [
        {
          "output_type": "stream",
          "text": [
            "\n",
            " ngram : 1: \n",
            "batch 0\n",
            "('__start__ do you have any kids ? __end__', -5.516880035400391)\n",
            "('__start__ do you have any hobbies ? __end__', -6.654176712036133)\n",
            "('__start__ do you have any pets ? __end__', -6.819038391113281)\n",
            "('__start__ do you have any children ? __end__', -7.174612998962402)\n",
            "('__start__ do you have any other hobbies ? __end__', -8.3112211227417)\n",
            "('__start__ that sounds like a lot of fun . __end__', -9.4164457321167)\n",
            "('__start__ that is cool . do you have any kids ? __end__', -9.830020904541016)\n",
            "('__start__ that is cool . do you have any hobbies ? __end__', -10.032756805419922)\n",
            "('__start__ that sounds like a lot of fun ! __end__', -10.344266891479492)\n",
            "('__start__ that is cool . do you have any pets ? __end__', -10.477314949035645)\n",
            "\n",
            " ngram : 2: \n",
            "batch 0\n",
            "('__start__ do you have any kids ? __end__', -5.516880035400391)\n",
            "('__start__ what do you do for a living ? __end__', -5.850235939025879)\n",
            "('__start__ do you have any hobbies ? __end__', -6.654176712036133)\n",
            "('__start__ do you have any pets ? __end__', -6.819038391113281)\n",
            "('__start__ what do you do for work ? __end__', -7.016162872314453)\n",
            "('__start__ do you have any children ? __end__', -7.174612998962402)\n",
            "('__start__ what do you do for fun ? __end__', -7.989562034606934)\n",
            "('__start__ do you have any other hobbies ? __end__', -8.3112211227417)\n",
            "('__start__ that sounds like a lot of fun . __end__', -9.4164457321167)\n",
            "('__start__ do you have any kids ? i do . __end__', -9.89579963684082)\n",
            "\n",
            " ngram : 3: \n",
            "batch 0\n",
            "('__start__ do you have any kids ? __end__', -5.516880035400391)\n",
            "('__start__ what do you do for a living ? __end__', -5.850235939025879)\n",
            "('__start__ do you have any hobbies ? __end__', -6.654176712036133)\n",
            "('__start__ do you have any pets ? __end__', -6.819038391113281)\n",
            "('__start__ what do you do for work ? __end__', -7.016162872314453)\n",
            "('__start__ do you have any children ? __end__', -7.174612998962402)\n",
            "('__start__ what do you do for fun ? __end__', -7.989562034606934)\n",
            "('__start__ do you have any other hobbies ? __end__', -8.3112211227417)\n",
            "('__start__ that sounds like a lot of fun . __end__', -9.4164457321167)\n",
            "('__start__ do you have any kids ? i do . __end__', -9.89579963684082)\n"
          ],
          "name": "stdout"
        }
      ]
    },
    {
      "cell_type": "markdown",
      "metadata": {
        "colab_type": "text",
        "id": "RG1YDN9LixPL"
      },
      "source": [
        "# Part 3 Interactive chat"
      ]
    },
    {
      "cell_type": "code",
      "metadata": {
        "colab_type": "code",
        "id": "dyd4hHQeixPM",
        "colab": {}
      },
      "source": [
        "# implement logic for interactive chat here\n",
        "# the easiest is to just use python input functionality"
      ],
      "execution_count": 0,
      "outputs": []
    },
    {
      "cell_type": "code",
      "metadata": {
        "colab_type": "code",
        "id": "XHn7x9zMixPO",
        "colab": {}
      },
      "source": [
        ""
      ],
      "execution_count": 0,
      "outputs": []
    },
    {
      "cell_type": "markdown",
      "metadata": {
        "colab_type": "text",
        "id": "QrT8IspIixPR"
      },
      "source": [
        "## You present here:"
      ]
    },
    {
      "cell_type": "code",
      "metadata": {
        "colab_type": "code",
        "id": "c9yys1MuixPR",
        "colab": {}
      },
      "source": [
        "# check pdf to see what you expected to present"
      ],
      "execution_count": 0,
      "outputs": []
    },
    {
      "cell_type": "code",
      "metadata": {
        "colab_type": "code",
        "id": "4J3dFYVXixPU",
        "colab": {}
      },
      "source": [
        ""
      ],
      "execution_count": 0,
      "outputs": []
    }
  ]
}