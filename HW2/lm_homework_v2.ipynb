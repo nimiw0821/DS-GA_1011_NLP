{
  "nbformat": 4,
  "nbformat_minor": 0,
  "metadata": {
    "accelerator": "GPU",
    "colab": {
      "name": "Copy of lm_homework (1).ipynb",
      "provenance": [],
      "collapsed_sections": []
    },
    "kernelspec": {
      "name": "python3",
      "display_name": "Python 3"
    },
    "language_info": {
      "codemirror_mode": {
        "name": "ipython",
        "version": 3
      },
      "file_extension": ".py",
      "mimetype": "text/x-python",
      "name": "python",
      "nbconvert_exporter": "python",
      "pygments_lexer": "ipython3",
      "version": "3.6.7"
    }
  },
  "cells": [
    {
      "cell_type": "markdown",
      "metadata": {
        "colab_type": "text",
        "id": "XLYAo3OBfcVk"
      },
      "source": [
        "# DS-GA 1011 Homework 2\n",
        "## N-Gram and Neural Language Modeling"
      ]
    },
    {
      "cell_type": "code",
      "metadata": {
        "colab_type": "code",
        "id": "KKioHyAAfcVn",
        "outputId": "49a1ee76-7a25-4e16-94cd-16e042dd9285",
        "colab": {
          "base_uri": "https://localhost:8080/",
          "height": 141
        }
      },
      "source": [
        "import os\n",
        "import sys\n",
        "import json\n",
        "\n",
        "try:\n",
        "    import jsonlines\n",
        "except ImportError:\n",
        "    print('Installing the package, RESTART THIS CELL')\n",
        "    !{sys.executable} -m pip install jsonlines\n",
        "\n",
        "import jsonlines\n",
        "import numpy as np\n",
        "from collections import defaultdict"
      ],
      "execution_count": 3,
      "outputs": [
        {
          "output_type": "stream",
          "text": [
            "Installing the package, RESTART THIS CELL\n",
            "Collecting jsonlines\n",
            "  Downloading https://files.pythonhosted.org/packages/4f/9a/ab96291470e305504aa4b7a2e0ec132e930da89eb3ca7a82fbe03167c131/jsonlines-1.2.0-py2.py3-none-any.whl\n",
            "Requirement already satisfied: six in /usr/local/lib/python3.6/dist-packages (from jsonlines) (1.12.0)\n",
            "Installing collected packages: jsonlines\n",
            "Successfully installed jsonlines-1.2.0\n"
          ],
          "name": "stdout"
        }
      ]
    },
    {
      "cell_type": "markdown",
      "metadata": {
        "colab_type": "text",
        "id": "cfhwSMNPfcVt"
      },
      "source": [
        "## I. N-Gram Language Modeling"
      ]
    },
    {
      "cell_type": "markdown",
      "metadata": {
        "colab_type": "text",
        "id": "rpEk23hBfcVv"
      },
      "source": [
        "#### Utilities"
      ]
    },
    {
      "cell_type": "code",
      "metadata": {
        "colab_type": "code",
        "id": "l3FyElwEfcVx",
        "colab": {}
      },
      "source": [
        "#Data loading (load wikitext)\n",
        "def load_wikitext(filename='wikitext2-sentencized.json'):\n",
        "    if not os.path.exists(filename):\n",
        "        !wget \"https://nyu.box.com/shared/static/9kb7l7ci30hb6uahhbssjlq0kctr5ii4.json\" -O $filename\n",
        "    \n",
        "    datasets = json.load(open(filename, 'r'))\n",
        "    for name in datasets:\n",
        "        datasets[name] = [x.split() for x in datasets[name]]\n",
        "    vocab = list(set([t for ts in datasets['train'] for t in ts]))      \n",
        "    print(\"Vocab size: %d\" % (len(vocab)))\n",
        "    return datasets, vocab\n",
        "\n",
        "#Evaluating perplexity (perplexity())\n",
        "def perplexity(model, sequences): \n",
        "    n_total = 0\n",
        "    logp_total = 0\n",
        "    for sequence in sequences:\n",
        "      #print(model.sequence_logp(sequence))\n",
        "      logp_total += model.sequence_logp(sequence)\n",
        "      n_total += len(sequence) + 1  \n",
        "    ppl = 2 ** (- (1.0 / n_total) * logp_total)  \n",
        "    return ppl"
      ],
      "execution_count": 0,
      "outputs": []
    },
    {
      "cell_type": "markdown",
      "metadata": {
        "colab_type": "text",
        "id": "ySlA8mEVfcV1"
      },
      "source": [
        "### Additive Smoothing"
      ]
    },
    {
      "cell_type": "code",
      "metadata": {
        "colab_type": "code",
        "id": "5WHZwSwkfcV2",
        "colab": {}
      },
      "source": [
        "class NGramAdditive(object):\n",
        "    def __init__(self, n, delta, vsize):\n",
        "        self.n = n\n",
        "        self.delta = delta\n",
        "        self.count = defaultdict(lambda: defaultdict(float))\n",
        "        self.total = defaultdict(float)\n",
        "        self.vsize = vsize\n",
        "    \n",
        "    def estimate(self, sequences):\n",
        "        for sequence in sequences:\n",
        "            padded_sequence = ['<bos>']*(self.n-1) + sequence + ['<eos>']\n",
        "            for i in range(len(padded_sequence) - self.n+1):\n",
        "                ngram = tuple(padded_sequence[i:i+self.n])\n",
        "                prefix, word = ngram[:-1], ngram[-1]\n",
        "                self.count[prefix][word] += 1\n",
        "                self.total[prefix] += 1\n",
        "                \n",
        "    def sequence_logp(self, sequence):\n",
        "        padded_sequence = ['<bos>']*(self.n-1) + sequence + ['<eos>']\n",
        "        total_logp = 0\n",
        "        for i in range(len(padded_sequence) - self.n+1):\n",
        "            ngram = tuple(padded_sequence[i:i+self.n])\n",
        "            total_logp += np.log2(self.ngram_prob(ngram))\n",
        "        return total_logp\n",
        "\n",
        "    def ngram_prob(self, ngram):\n",
        "        prefix = ngram[:-1]\n",
        "        word = ngram[-1]\n",
        "        prob = ((self.delta + self.count[prefix][word]) / \n",
        "                (self.total[prefix] + self.delta*self.vsize))\n",
        "        return prob"
      ],
      "execution_count": 0,
      "outputs": []
    },
    {
      "cell_type": "code",
      "metadata": {
        "colab_type": "code",
        "id": "wm36MLfmTh0P",
        "outputId": "bbab7a0b-302d-4bcc-d524-1534bd0a3db7",
        "colab": {
          "base_uri": "https://localhost:8080/",
          "height": 486
        }
      },
      "source": [
        "datasets, vocab = load_wikitext()"
      ],
      "execution_count": 6,
      "outputs": [
        {
          "output_type": "stream",
          "text": [
            "--2019-10-08 23:37:08--  https://nyu.box.com/shared/static/9kb7l7ci30hb6uahhbssjlq0kctr5ii4.json\n",
            "Resolving nyu.box.com (nyu.box.com)... 107.152.27.197, 107.152.26.197\n",
            "Connecting to nyu.box.com (nyu.box.com)|107.152.27.197|:443... connected.\n",
            "HTTP request sent, awaiting response... 301 Moved Permanently\n",
            "Location: /public/static/9kb7l7ci30hb6uahhbssjlq0kctr5ii4.json [following]\n",
            "--2019-10-08 23:37:09--  https://nyu.box.com/public/static/9kb7l7ci30hb6uahhbssjlq0kctr5ii4.json\n",
            "Reusing existing connection to nyu.box.com:443.\n",
            "HTTP request sent, awaiting response... 301 Moved Permanently\n",
            "Location: https://nyu.app.box.com/public/static/9kb7l7ci30hb6uahhbssjlq0kctr5ii4.json [following]\n",
            "--2019-10-08 23:37:09--  https://nyu.app.box.com/public/static/9kb7l7ci30hb6uahhbssjlq0kctr5ii4.json\n",
            "Resolving nyu.app.box.com (nyu.app.box.com)... 107.152.26.199, 107.152.27.199\n",
            "Connecting to nyu.app.box.com (nyu.app.box.com)|107.152.26.199|:443... connected.\n",
            "HTTP request sent, awaiting response... 302 Found\n",
            "Location: https://public.boxcloud.com/d/1/b1!Y35gs1vPo75mlLZG6OKN3douNinfxjOW8-7_3OSC39x7RYAERStrfkKiwgQXLwNnx48dMYVXKkUiPiPmmWyOcwjnnsEroGGLPXWff-fvtf34Gqla3h14C7wBT5Vri-n36caSX7eI8SCmz-ztlGxpUXZ_Y1sZBTIsBc9Ou09So-GN_XeBu592plrIgjaO-tqpE2YtufWyYu4R8AMmNaFl79Dsn-9zfd_J73fA5Br2dS7yFIpTbQLeFHabbku5vQn6PJ4YXsAA426ma3qtSErhUYnhoP9hoPVZWdIdCacc8Aj5xp1YstDGBEcjWWoHmUh3aF0r-6WETr-UC3ILW0r1UVVDn41Loa3N3wO5qAVjIrWvEakhsbxVHvheVtHs2mQ-aZzBDo8EG_2HBuxfG9HPAbf0v5XmH4Lm0Mo_qHbkWrdy1sVb_uw0u6TSqDdz8nQQpP5lUnqxQsGusOvJjiIdYd9kJ3i4tgmmgr-W_QSrQiVHie5FJMX-ArhgtYHucKzhAbfvp3mwo7NoAeqy7fP4P5Rbg9YtC6uL5tPKhl7BnbPDv8661glHy2Z10XQ7CEthaXuGoza9zoTVruhXIB0TtqapQXbtjlW14HPi7YYwobj3_s8VI11TAzl79hWyJ5Khe1cgLnagy7KPe7CGPK9wbyJipNxE17JElOJroefeJumMvd8hIBDmgmfsrS9wnSq2HpvEutwtSIS6JQF6w_OaViiVZNxFMIDzSfSEQw6FwLlUJ2YWWAsCSWkufOqE5a4SyjXWAmwolIBh9HQiqfyPo_OHwyhHift9OToyAWDZKpGKarhPNTUkQGs-i33X57kQLg0E9VAbNAGKjYndIP4MPI33OnlakQyj5ZJDi7Ti110LD1oaewGFIGEQWEIu3LAWxUuYStrj5FTQb8CyCZxO3LCv_0J9dYd0Z5-stg_C4v4uu-7iZL4GiMNLv_JS0ESScBBKLou6ntWRq8b_fHV8we3FbljBAJabqNcdrS_CHzpROArgHtSoywpO2YDYi_vO98AsFtaKTZiPeXGHnTAZbeAF2jbO-dVx0w499VgYdEhBqzxArcH_5Lo8ByyUrPdx3wb8zw9NpL46o8ISCkOKnELVczO46MJQqqri-zpnppNITZxowPDu5dbgwNyjmbDsr1kWW-dZcGErOIA8ZhpbW_E13o7zAvCFoPNo5InqhaGH5j0zzcwh_uWw-1RogTX72znAy_Dnx2oxWdS61wPDwDfb5zFthw1Hxo5Tz4Og1GSzQH194kJ3muqyNn8ERXSQA7PbB7gKguPOtXUGXVhMbElkCnNlXxc6_jiykLA82WcEc4NMLWdQZ7_O7j_25vOW5nmkKE2cPOSkwHdIFZ7e8Pf2tnP2HKrzrQesW_JX9dSainFzzhkj3AUWnVDag1-I4HfOvlxaFTo-9A../download [following]\n",
            "--2019-10-08 23:37:09--  https://public.boxcloud.com/d/1/b1!Y35gs1vPo75mlLZG6OKN3douNinfxjOW8-7_3OSC39x7RYAERStrfkKiwgQXLwNnx48dMYVXKkUiPiPmmWyOcwjnnsEroGGLPXWff-fvtf34Gqla3h14C7wBT5Vri-n36caSX7eI8SCmz-ztlGxpUXZ_Y1sZBTIsBc9Ou09So-GN_XeBu592plrIgjaO-tqpE2YtufWyYu4R8AMmNaFl79Dsn-9zfd_J73fA5Br2dS7yFIpTbQLeFHabbku5vQn6PJ4YXsAA426ma3qtSErhUYnhoP9hoPVZWdIdCacc8Aj5xp1YstDGBEcjWWoHmUh3aF0r-6WETr-UC3ILW0r1UVVDn41Loa3N3wO5qAVjIrWvEakhsbxVHvheVtHs2mQ-aZzBDo8EG_2HBuxfG9HPAbf0v5XmH4Lm0Mo_qHbkWrdy1sVb_uw0u6TSqDdz8nQQpP5lUnqxQsGusOvJjiIdYd9kJ3i4tgmmgr-W_QSrQiVHie5FJMX-ArhgtYHucKzhAbfvp3mwo7NoAeqy7fP4P5Rbg9YtC6uL5tPKhl7BnbPDv8661glHy2Z10XQ7CEthaXuGoza9zoTVruhXIB0TtqapQXbtjlW14HPi7YYwobj3_s8VI11TAzl79hWyJ5Khe1cgLnagy7KPe7CGPK9wbyJipNxE17JElOJroefeJumMvd8hIBDmgmfsrS9wnSq2HpvEutwtSIS6JQF6w_OaViiVZNxFMIDzSfSEQw6FwLlUJ2YWWAsCSWkufOqE5a4SyjXWAmwolIBh9HQiqfyPo_OHwyhHift9OToyAWDZKpGKarhPNTUkQGs-i33X57kQLg0E9VAbNAGKjYndIP4MPI33OnlakQyj5ZJDi7Ti110LD1oaewGFIGEQWEIu3LAWxUuYStrj5FTQb8CyCZxO3LCv_0J9dYd0Z5-stg_C4v4uu-7iZL4GiMNLv_JS0ESScBBKLou6ntWRq8b_fHV8we3FbljBAJabqNcdrS_CHzpROArgHtSoywpO2YDYi_vO98AsFtaKTZiPeXGHnTAZbeAF2jbO-dVx0w499VgYdEhBqzxArcH_5Lo8ByyUrPdx3wb8zw9NpL46o8ISCkOKnELVczO46MJQqqri-zpnppNITZxowPDu5dbgwNyjmbDsr1kWW-dZcGErOIA8ZhpbW_E13o7zAvCFoPNo5InqhaGH5j0zzcwh_uWw-1RogTX72znAy_Dnx2oxWdS61wPDwDfb5zFthw1Hxo5Tz4Og1GSzQH194kJ3muqyNn8ERXSQA7PbB7gKguPOtXUGXVhMbElkCnNlXxc6_jiykLA82WcEc4NMLWdQZ7_O7j_25vOW5nmkKE2cPOSkwHdIFZ7e8Pf2tnP2HKrzrQesW_JX9dSainFzzhkj3AUWnVDag1-I4HfOvlxaFTo-9A../download\n",
            "Resolving public.boxcloud.com (public.boxcloud.com)... 107.152.26.200\n",
            "Connecting to public.boxcloud.com (public.boxcloud.com)|107.152.26.200|:443... connected.\n",
            "HTTP request sent, awaiting response... 200 OK\n",
            "Length: 12714601 (12M) [application/octet-stream]\n",
            "Saving to: ‘wikitext2-sentencized.json’\n",
            "\n",
            "wikitext2-sentenciz 100%[===================>]  12.12M  18.8MB/s    in 0.6s    \n",
            "\n",
            "2019-10-08 23:37:11 (18.8 MB/s) - ‘wikitext2-sentencized.json’ saved [12714601/12714601]\n",
            "\n",
            "Vocab size: 33175\n"
          ],
          "name": "stdout"
        }
      ]
    },
    {
      "cell_type": "code",
      "metadata": {
        "colab_type": "code",
        "id": "PCNXYS4lfcWF",
        "outputId": "962d4832-6f98-44e5-a40b-e9a007573c04",
        "colab": {
          "base_uri": "https://localhost:8080/",
          "height": 121
        }
      },
      "source": [
        "delta = 0.0005\n",
        "for n in [2, 3, 4]:\n",
        "    lm = NGramAdditive(n=n, delta=delta, vsize=len(vocab)+1)  # +1 is for <eos>\n",
        "    lm.estimate(datasets['train'])\n",
        "\n",
        "    print(\"Baseline (Additive smoothing, n=%d, delta=%.4f)) Train Perplexity: %.3f\" % (n, delta, perplexity(lm, datasets['train'])))\n",
        "    print(\"Baseline (Additive smoothing, n=%d, delta=%.4f)) Valid Perplexity: %.3f\" % (n, delta, perplexity(lm, datasets['valid'])))"
      ],
      "execution_count": 7,
      "outputs": [
        {
          "output_type": "stream",
          "text": [
            "Baseline (Additive smoothing, n=2, delta=0.0005)) Train Perplexity: 90.228\n",
            "Baseline (Additive smoothing, n=2, delta=0.0005)) Valid Perplexity: 525.825\n",
            "Baseline (Additive smoothing, n=3, delta=0.0005)) Train Perplexity: 26.768\n",
            "Baseline (Additive smoothing, n=3, delta=0.0005)) Valid Perplexity: 2577.128\n",
            "Baseline (Additive smoothing, n=4, delta=0.0005)) Train Perplexity: 19.947\n",
            "Baseline (Additive smoothing, n=4, delta=0.0005)) Valid Perplexity: 9570.901\n"
          ],
          "name": "stdout"
        }
      ]
    },
    {
      "cell_type": "markdown",
      "metadata": {
        "colab_type": "text",
        "id": "WTM0XO8IfcWK"
      },
      "source": [
        "### I.1 Interpolation"
      ]
    },
    {
      "cell_type": "code",
      "metadata": {
        "colab_type": "code",
        "id": "W5xTnBuAfcWK",
        "colab": {}
      },
      "source": [
        "class NGramInterpolation(object):\n",
        "    def __init__(self, n, vsize,lambdas,wsize):\n",
        "        self.n = n\n",
        "        self.count = defaultdict(lambda: defaultdict(float))\n",
        "        self.total = defaultdict(float)\n",
        "        self.single_word = defaultdict(float)\n",
        "        self.vsize = vsize\n",
        "        self.wsize = wsize\n",
        "    \n",
        "    def estimate(self, sequences):\n",
        "        for sequence in sequences:\n",
        "            for word in sequence:\n",
        "                self.single_word[word] += 1\n",
        "            for flag in range(2,self.n+1):\n",
        "                padded_sequence = ['<bos>']*(flag-1) + sequence + ['<eos>'] \n",
        "                for i in range(len(padded_sequence) - flag+1):\n",
        "                    ngram = tuple(padded_sequence[i:i+flag])\n",
        "                    prefix, word = ngram[:-1], ngram[-1] \n",
        "                    self.count[prefix][word] += 1 \n",
        "                    self.total[prefix] += 1\n",
        "           \n",
        "                  \n",
        "    def sequence_logp(self, sequence):\n",
        "        padded_sequence = ['<bos>']*(self.n-1) + sequence + ['<eos>']\n",
        "        total_logp = 0\n",
        "        for i in range(len(padded_sequence) - self.n+1):\n",
        "            ngram = tuple(padded_sequence[i:i+self.n])\n",
        "            total_logp += np.log2(self.ngram_prob(ngram))\n",
        "        return total_logp\n",
        "\n",
        "    def ngram_prob(self,ngram):\n",
        "       ## zero-gram probability \n",
        "        prob = lambdas[0] * 1 / self.vsize\n",
        "        \n",
        "        ## one-gram probability \n",
        "        prob += lambdas[1] * self.single_word[ngram[-1]]/wsize\n",
        "        \n",
        " \n",
        "        ## higher order gram probability \n",
        "        for flag in range(2,self.n+1):\n",
        "            ngram_flag = ngram[(-flag):]\n",
        "            prefix, word = ngram_flag[:-1], ngram_flag[-1]\n",
        "            if self.total[prefix] != 0:\n",
        "                prob += self.count[prefix][word] / self.total[prefix] * lambdas[flag]\n",
        "        return prob"
      ],
      "execution_count": 0,
      "outputs": []
    },
    {
      "cell_type": "markdown",
      "metadata": {
        "colab_type": "text",
        "id": "SuS45FMOfcWM"
      },
      "source": [
        "#### Results (showing $\\lambda_0,\\ldots,\\lambda_n$ values):"
      ]
    },
    {
      "cell_type": "code",
      "metadata": {
        "colab_type": "code",
        "id": "oBAj7JKyfcWN",
        "outputId": "64ffc40a-4324-437d-8dff-9434eac931f4",
        "colab": {
          "base_uri": "https://localhost:8080/",
          "height": 225
        }
      },
      "source": [
        "## Search for the good lambdas \n",
        "wsize = len(list([t for ts in datasets['train'] for t in ts])) +1\n",
        "\n",
        "for n in [2,3,4]:\n",
        "  iterations=10\n",
        "  optimal_val_per = 10000\n",
        "  optimal_train_per = 10000 \n",
        "  optimal_lambdas = [0] * (n+1)\n",
        "  while iterations:\n",
        "      iterations-=1        \n",
        "      lambdas=np.random.random(n+1)\n",
        "      lambdas=np.divide(lambdas,np.sum(lambdas))\n",
        "      lm = NGramInterpolation(n=n, vsize=len(vocab)+1,lambdas = lambdas,wsize = wsize) \n",
        "      lm.estimate(datasets['train'])\n",
        "      if perplexity(lm, datasets['valid']) < optimal_val_per:\n",
        "        optimal_val_per = perplexity(lm, datasets['valid']) \n",
        "        optimal_lambdas = lambdas\n",
        "        optimal_train_per = perplexity(lm, datasets['train'])\n",
        "        \n",
        "  print(\"(Interpolation smoothing, n=%d)) Train Perplexity with best lambdas: %.3f\" % (n, optimal_train_per))\n",
        "  print(\"(Interpolation smoothing, n=%d)) Valid Perplexity with best lambdas: %.3f\" % (n, optimal_val_per))\n",
        "  print(\"The best lamdas is\",optimal_lambdas)\n",
        "  print(\"--------------------\")"
      ],
      "execution_count": 77,
      "outputs": [
        {
          "output_type": "stream",
          "text": [
            "(Interpolation smoothing, n=2)) Train Perplexity with best lambdas: 112.178\n",
            "(Interpolation smoothing, n=2)) Valid Perplexity with best lambdas: 307.755\n",
            "The best lamdas is [0.07420219 0.32749    0.59830781]\n",
            "--------------------\n",
            "(Interpolation smoothing, n=3)) Train Perplexity with best lambdas: 22.556\n",
            "(Interpolation smoothing, n=3)) Valid Perplexity with best lambdas: 299.828\n",
            "The best lamdas is [0.16317067 0.2613436  0.33609757 0.23938816]\n",
            "--------------------\n",
            "(Interpolation smoothing, n=4)) Train Perplexity with best lambdas: 8.151\n",
            "(Interpolation smoothing, n=4)) Valid Perplexity with best lambdas: 302.526\n",
            "The best lamdas is [0.02103033 0.30468884 0.34384905 0.1901834  0.14024839]\n",
            "--------------------\n"
          ],
          "name": "stdout"
        }
      ]
    },
    {
      "cell_type": "code",
      "metadata": {
        "colab_type": "code",
        "id": "OqUJUo4mfcWR",
        "colab": {}
      },
      "source": [
        ""
      ],
      "execution_count": 0,
      "outputs": []
    },
    {
      "cell_type": "code",
      "metadata": {
        "colab_type": "code",
        "id": "Ox4t2hMXfcWU",
        "colab": {}
      },
      "source": [
        ""
      ],
      "execution_count": 0,
      "outputs": []
    },
    {
      "cell_type": "markdown",
      "metadata": {
        "id": "k0vm21Vs7tuk",
        "colab_type": "text"
      },
      "source": [
        "## Extra points: Kneser-Ney Smoothing"
      ]
    },
    {
      "cell_type": "code",
      "metadata": {
        "id": "VrHn27Wg4OHf",
        "colab_type": "code",
        "colab": {}
      },
      "source": [
        "class KneserKeySmoothing(object):\n",
        "    def __init__(self, n,delta):\n",
        "        self.count = defaultdict(lambda: defaultdict(float))\n",
        "        self.counter_count = defaultdict(lambda: defaultdict(float))\n",
        "        self.total = defaultdict(float)\n",
        "        self.single_word = defaultdict(float) # store the number of times when a single word appears \n",
        "        self.combo = defaultdict(float) # store the number of distinct combinations of the words \n",
        "        self.delta = delta\n",
        "        self.n = n\n",
        "   \n",
        "    def estimate(self, sequences):\n",
        "        for sequence in sequences:\n",
        "            for word in sequence:\n",
        "                self.single_word[word] += 1\n",
        "            for flag in range(2,self.n+1):  #flag is the new n in n_gram\n",
        "              word_sets = []           \n",
        "              padded_sequence = ['<bos>']*(flag-1) + sequence + ['<eos>'] \n",
        "              for i in range(len(padded_sequence) - flag+1):\n",
        "                  ngram = tuple(padded_sequence[i:i+flag])\n",
        "                  prefix, word = ngram[:-1], ngram[-1] \n",
        "                  self.count[prefix][word] += 1 \n",
        "                  self.total[prefix] += 1\n",
        "                  self.counter_count[word][prefix] += 1 \n",
        "                  if flag == 2:\n",
        "                    if [prefix,word] not in word_sets: \n",
        "                      word_sets.append([prefix,word])\n",
        "                      self.combo[flag] += 1\n",
        "        #return(self.single_word) \n",
        "          \n",
        "    def sequence_logp(self, sequence):\n",
        "        padded_sequence = ['<bos>']*(self.n-1) + sequence + ['<eos>']\n",
        "        total_logp = 0\n",
        "        for i in range(len(padded_sequence) - self.n+1):\n",
        "            ngram = tuple(padded_sequence[i:i+self.n])\n",
        "            if self.ngram_prob(ngram) != 0:\n",
        "              total_logp += np.log2(self.ngram_prob(ngram))\n",
        "        return (total_logp)\n",
        "\n",
        "    def ngram_prob(self,ngram):\n",
        "      \n",
        "      probs = []\n",
        "      \n",
        "      ## unigram probability\n",
        "      word = ngram[-1]\n",
        "      uni_prob = len([i for i in list(self.counter_count[word].keys()) if len(i) == 1])/self.combo[2]\n",
        "      probs.append(uni_prob)\n",
        "      \n",
        "      ## bigram probabily\n",
        "      prefix, word = ngram[-2], ngram[-1]\n",
        "      if self.single_word[prefix] != 0:\n",
        "        first_term = max(self.count[prefix][word]-self.delta,0)/self.single_word[prefix] \n",
        "        lambdas = self.delta / self.single_word[prefix] * len(list(self.count[prefix].keys()))\n",
        "      else:\n",
        "        first_term = lambdas = 0\n",
        "      bi_prob = first_term + lambdas * uni_prob\n",
        "      probs.append(bi_prob)\n",
        "      \n",
        "      ## higher-order probabiliy\n",
        "      for flag in range(3,self.n+1):\n",
        "        new_ngram = ngram[(-flag):]\n",
        "        prefix, word = new_ngram[:-1], new_ngram[-1]\n",
        "        if self.total[prefix] !=0:\n",
        "          first_term = max(self.count[prefix][word]-self.delta,0)/self.total[prefix] \n",
        "          lambdas = self.delta / self.total[prefix] * len(list(self.count[prefix].keys()))\n",
        "        else:\n",
        "          first_term = lambdas = 0\n",
        "        probs.append(first_term + lambdas * probs[flag-2])\n",
        "        \n",
        "      prob = probs[-1]\n",
        "      return(prob)"
      ],
      "execution_count": 0,
      "outputs": []
    },
    {
      "cell_type": "markdown",
      "metadata": {
        "id": "3pMUSEaJ34pu",
        "colab_type": "text"
      },
      "source": [
        ""
      ]
    },
    {
      "cell_type": "code",
      "metadata": {
        "id": "S09r2WDn4e6n",
        "colab_type": "code",
        "outputId": "666212c1-6277-40b0-d97f-802e3a33295e",
        "colab": {
          "base_uri": "https://localhost:8080/",
          "height": 69
        }
      },
      "source": [
        "print(len(datasets['valid']))\n",
        "n = 3\n",
        "delta = 0.5\n",
        "lm = KneserKeySmoothing(n=3, delta=0.5) \n",
        "lm.estimate(datasets['train'])\n",
        "print('Estimating finished! Start evaluating')\n",
        "\n",
        "#print(\"Baseline (KneserKey smoothing, n=%d, delta=%.4f)) Train Perplexity: %.3f\" % (n, delta, perplexity(lm, datasets['train'])))\n",
        "print(\"Baseline (KneserKey smoothing, n=%d, delta=%.4f)) Valid Perplexity: %.3f\" % (n, delta, perplexity(lm, datasets['valid'])))"
      ],
      "execution_count": 11,
      "outputs": [
        {
          "output_type": "stream",
          "text": [
            "8464\n",
            "Estimating finished! Start evaluating\n",
            "Baseline (KneserKey smoothing, n=3, delta=0.5000)) Valid Perplexity: 690.561\n"
          ],
          "name": "stdout"
        }
      ]
    },
    {
      "cell_type": "code",
      "metadata": {
        "id": "SovZM_PE85q1",
        "colab_type": "code",
        "colab": {}
      },
      "source": [
        ""
      ],
      "execution_count": 0,
      "outputs": []
    },
    {
      "cell_type": "markdown",
      "metadata": {
        "colab_type": "text",
        "id": "yPLub2RsfcWY"
      },
      "source": [
        "## II. Neural Language Modeling with a Recurrent Neural Network"
      ]
    },
    {
      "cell_type": "code",
      "metadata": {
        "colab_type": "code",
        "id": "sbG5lE3CfcWZ",
        "colab": {}
      },
      "source": [
        "import torch\n",
        "import torch.nn as nn"
      ],
      "execution_count": 0,
      "outputs": []
    },
    {
      "cell_type": "markdown",
      "metadata": {
        "colab_type": "text",
        "id": "ZM9ArzbEfcWc"
      },
      "source": [
        "#### Utilities\n",
        "\n",
        "(Hint: you can adopt the `Dictionary`, dataset loading, and training code from the lab for use here)"
      ]
    },
    {
      "cell_type": "code",
      "metadata": {
        "colab_type": "code",
        "id": "zR28L4vPfcWd",
        "colab": {}
      },
      "source": [
        "try:\n",
        "    from tqdm import tqdm\n",
        "except ImportError:\n",
        "    print('Installing the package, RESTART THIS CELL')\n",
        "    !{sys.executable} -m pip install tqdm"
      ],
      "execution_count": 0,
      "outputs": []
    },
    {
      "cell_type": "code",
      "metadata": {
        "colab_type": "code",
        "id": "43KrHPW1fcWh",
        "colab": {}
      },
      "source": [
        "class Dictionary(object):\n",
        "    def __init__(self, datasets, include_valid=False):\n",
        "        self.tokens = []\n",
        "        self.ids = {}\n",
        "        self.counts = {}\n",
        "        \n",
        "        # add special tokens\n",
        "        self.add_token('<bos>')\n",
        "        self.add_token('<eos>')\n",
        "        self.add_token('<pad>')\n",
        "        self.add_token('<unk>')\n",
        "        \n",
        "        for line in tqdm(datasets['train']):\n",
        "            for w in line:\n",
        "                self.add_token(w)\n",
        "                    \n",
        "        if include_valid is True:\n",
        "            for line in tqdm(datasets['valid']):\n",
        "                for w in line:\n",
        "                    self.add_token(w)\n",
        "                            \n",
        "    def add_token(self, w):\n",
        "        if w not in self.tokens:\n",
        "            self.tokens.append(w)\n",
        "            _w_id = len(self.tokens) - 1\n",
        "            self.ids[w] = _w_id\n",
        "            self.counts[w] = 1\n",
        "        else:\n",
        "            self.counts[w] += 1\n",
        "\n",
        "    def get_id(self, w):\n",
        "        return self.ids[w]\n",
        "    \n",
        "    def get_token(self, idx):\n",
        "        return self.tokens[idx]\n",
        "    \n",
        "    def decode_idx_seq(self, l):\n",
        "        return [self.tokens[i] for i in l]\n",
        "    \n",
        "    def encode_token_seq(self, l):\n",
        "        return [self.ids[i] if i in self.ids else self.ids['<unk>'] for i in l]\n",
        "    \n",
        "    def __len__(self):\n",
        "        return len(self.tokens)"
      ],
      "execution_count": 0,
      "outputs": []
    },
    {
      "cell_type": "code",
      "metadata": {
        "colab_type": "code",
        "id": "DlckZW9zfcWk",
        "colab": {}
      },
      "source": [
        "def tokenize_dataset(datasets, dictionary, ngram_order=2):\n",
        "    tokenized_datasets = {}\n",
        "    for split, dataset in datasets.items():\n",
        "        _current_dictified = []\n",
        "        for l in tqdm(dataset):\n",
        "            l = ['<bos>']*(ngram_order-1) + l + ['<eos>']\n",
        "            encoded_l = dictionary.encode_token_seq(l)\n",
        "            _current_dictified.append(encoded_l)\n",
        "        tokenized_datasets[split] = _current_dictified\n",
        "        \n",
        "    return tokenized_datasets"
      ],
      "execution_count": 0,
      "outputs": []
    },
    {
      "cell_type": "code",
      "metadata": {
        "colab_type": "code",
        "id": "otoIoQF0fcWo",
        "outputId": "645b4776-354b-4c24-c924-0f89d7bf45d8",
        "colab": {
          "base_uri": "https://localhost:8080/",
          "height": 138
        }
      },
      "source": [
        "wikitext_dict = Dictionary(datasets, include_valid=True)\n",
        "\n",
        "# checking some example\n",
        "print(' '.join(datasets['train'][3010]))\n",
        "\n",
        "encoded = wikitext_dict.encode_token_seq(datasets['train'][3010])\n",
        "print(f'\\n encoded - {encoded}')\n",
        "decoded = wikitext_dict.decode_idx_seq(encoded)\n",
        "print(f'\\n decoded - {decoded}')"
      ],
      "execution_count": 26,
      "outputs": [
        {
          "output_type": "stream",
          "text": [
            "100%|██████████| 78274/78274 [02:34<00:00, 507.77it/s]\n",
            "100%|██████████| 8464/8464 [00:12<00:00, 695.62it/s]"
          ],
          "name": "stderr"
        },
        {
          "output_type": "stream",
          "text": [
            "The Nataraja and Ardhanarishvara sculptures are also attributed to the Rashtrakutas .\n",
            "\n",
            " encoded - [75, 8816, 30, 8817, 8732, 70, 91, 2960, 13, 6, 8806, 39]\n",
            "\n",
            " decoded - ['The', 'Nataraja', 'and', 'Ardhanarishvara', 'sculptures', 'are', 'also', 'attributed', 'to', 'the', 'Rashtrakutas', '.']\n"
          ],
          "name": "stdout"
        },
        {
          "output_type": "stream",
          "text": [
            "\n"
          ],
          "name": "stderr"
        }
      ]
    },
    {
      "cell_type": "code",
      "metadata": {
        "colab_type": "code",
        "id": "_x7xOMnbfcWr",
        "colab": {}
      },
      "source": [
        "# Construct Datasets\n",
        "import torch\n",
        "from torch.utils.data import Dataset, RandomSampler, SequentialSampler, DataLoader\n",
        "\n",
        "class TensoredDataset(Dataset):\n",
        "    def __init__(self, list_of_lists_of_tokens):\n",
        "        self.input_tensors = []\n",
        "        self.target_tensors = []\n",
        "        \n",
        "        for sample in list_of_lists_of_tokens:\n",
        "            self.input_tensors.append(torch.tensor([sample[:-1]], dtype=torch.long))\n",
        "            self.target_tensors.append(torch.tensor([sample[1:]], dtype=torch.long))\n",
        "    \n",
        "    def __len__(self):\n",
        "        return len(self.input_tensors)\n",
        "    \n",
        "    def __getitem__(self, idx):\n",
        "        # return a (input, target) tuple\n",
        "        return (self.input_tensors[idx], self.target_tensors[idx])"
      ],
      "execution_count": 0,
      "outputs": []
    },
    {
      "cell_type": "code",
      "metadata": {
        "colab_type": "code",
        "id": "Aw1YalFTfcWu",
        "colab": {}
      },
      "source": [
        "def pad_list_of_tensors(list_of_tensors, pad_token):\n",
        "    max_length = max([t.size(-1) for t in list_of_tensors])\n",
        "    padded_list = []\n",
        "    \n",
        "    for t in list_of_tensors:\n",
        "        padded_tensor = torch.cat([t, torch.tensor([[pad_token]*(max_length - t.size(-1))], dtype=torch.long)], dim = -1)\n",
        "        padded_list.append(padded_tensor)\n",
        "        \n",
        "    padded_tensor = torch.cat(padded_list, dim=0)\n",
        "    \n",
        "    return padded_tensor\n",
        "\n",
        "def pad_collate_fn(batch):\n",
        "    # batch is a list of sample tuples\n",
        "    input_list = [s[0] for s in batch]\n",
        "    target_list = [s[1] for s in batch]\n",
        "    \n",
        "    #pad_token = wikitext_dict.get_id('<pad>')\n",
        "    pad_token = 2\n",
        "    \n",
        "    input_tensor = pad_list_of_tensors(input_list, pad_token)\n",
        "    target_tensor = pad_list_of_tensors(target_list, pad_token)\n",
        "    \n",
        "    return input_tensor, target_tensor"
      ],
      "execution_count": 0,
      "outputs": []
    },
    {
      "cell_type": "code",
      "metadata": {
        "colab_type": "code",
        "id": "W4qo745ffcWx",
        "colab": {
          "base_uri": "https://localhost:8080/",
          "height": 138
        },
        "outputId": "8709ca2f-9b0e-4e53-9257-5083c9cc1e91"
      },
      "source": [
        "wikitext_tokenized_datasets = tokenize_dataset(datasets, wikitext_dict)\n",
        "wikitext_tensor_dataset = {}\n",
        "\n",
        "for split, listoflists in wikitext_tokenized_datasets.items():\n",
        "    wikitext_tensor_dataset[split] = TensoredDataset(listoflists)\n",
        "    \n",
        "# check the first example\n",
        "wikitext_tensor_dataset['train'][0]"
      ],
      "execution_count": 29,
      "outputs": [
        {
          "output_type": "stream",
          "text": [
            "100%|██████████| 78274/78274 [00:00<00:00, 118234.47it/s]\n",
            "100%|██████████| 8464/8464 [00:00<00:00, 118728.68it/s]\n",
            "100%|██████████| 9708/9708 [00:00<00:00, 120237.48it/s]\n"
          ],
          "name": "stderr"
        },
        {
          "output_type": "execute_result",
          "data": {
            "text/plain": [
              "(tensor([[ 0,  4,  5,  6,  7,  8,  9, 10, 11, 12, 13, 14,  4, 15, 16, 17, 18, 10,\n",
              "          19, 20, 21, 22, 23, 24, 25, 26, 27, 28, 29, 30, 31]]),\n",
              " tensor([[ 4,  5,  6,  7,  8,  9, 10, 11, 12, 13, 14,  4, 15, 16, 17, 18, 10, 19,\n",
              "          20, 21, 22, 23, 24, 25, 26, 27, 28, 29, 30, 31,  1]]))"
            ]
          },
          "metadata": {
            "tags": []
          },
          "execution_count": 29
        }
      ]
    },
    {
      "cell_type": "code",
      "metadata": {
        "colab_type": "code",
        "id": "OiahWa0lfcW1",
        "colab": {}
      },
      "source": [
        "wikitext_loaders = {}\n",
        "batch_size = 32\n",
        "for split, wikitext_dataset in wikitext_tensor_dataset.items():\n",
        "    wikitext_loaders[split] = DataLoader(wikitext_dataset, batch_size=batch_size, shuffle=True, collate_fn=pad_collate_fn)#, drop_last=True)"
      ],
      "execution_count": 0,
      "outputs": []
    },
    {
      "cell_type": "markdown",
      "metadata": {
        "colab_type": "text",
        "id": "2ak-71_1fcW5"
      },
      "source": [
        "### II.1 LSTM and Hyper-Parameters"
      ]
    },
    {
      "cell_type": "code",
      "metadata": {
        "colab_type": "code",
        "id": "dXh2hKp7fcW7",
        "colab": {}
      },
      "source": [
        "# making a FFNN model\n",
        "import torch\n",
        "import torch.nn as nn\n",
        "import torch.nn.functional as F\n",
        "import torch.optim as optim"
      ],
      "execution_count": 0,
      "outputs": []
    },
    {
      "cell_type": "code",
      "metadata": {
        "colab_type": "code",
        "id": "xRxfJc-EfcXC",
        "colab": {}
      },
      "source": [
        "import torch.nn as nn\n",
        "\n",
        "class RnnLM(nn.Module):\n",
        "    \"\"\"\n",
        "    This model combines embedding, rnn and projection layer into a single model\n",
        "    \"\"\"\n",
        "    def __init__(self, options):\n",
        "        super(RnnLM, self).__init__()\n",
        "        self.hidden_dim = options['hidden_dim']\n",
        "        self.vocab_size = options['vocab_size']\n",
        "        self.padding_idx = options['padding_idx']\n",
        "        self.num_layers = options['num_layers']\n",
        "        self.batch_first = options['batch_first'] # boolean\n",
        "        self.embed_dim = options['embed_dim']\n",
        "        self.p = options['dropout']\n",
        "        \n",
        "        # create each LM part here \n",
        "        self.lookup = nn.Embedding(self.vocab_size, self.embed_dim, self.padding_idx)\n",
        "        self.rnn = nn.RNN(self.embed_dim, self.hidden_dim, self.num_layers, dropout=self.p, batch_first=self.batch_first)\n",
        "        self.projection = nn.Linear(self.hidden_dim, self.vocab_size)\n",
        "        \n",
        "    def forward(self, encoded_input_sequence):\n",
        "        \"\"\"\n",
        "        Forward method process the input from token ids to logits\n",
        "        \"\"\"\n",
        "        embeddings = self.lookup(encoded_input_sequence)\n",
        "        rnn_outputs, states = self.rnn(embeddings)\n",
        "        logits = self.projection(rnn_outputs)\n",
        "        \n",
        "        return logits, states"
      ],
      "execution_count": 0,
      "outputs": []
    },
    {
      "cell_type": "code",
      "metadata": {
        "colab_type": "code",
        "id": "SMmYZceKfcXI",
        "colab": {}
      },
      "source": [
        "class LstmLM(torch.nn.Module):\n",
        "    def __init__(self, options):\n",
        "        '''\n",
        "        params:\n",
        "            @options: dictionary of model parameters\n",
        "        '''\n",
        "        super(LstmLM, self).__init__()\n",
        "        self.hidden_dim = options['hidden_dim']\n",
        "        self.vocab_size = options['vocab_size']\n",
        "        self.padding_idx = options['padding_idx']\n",
        "        self.num_layers = options['num_layers']\n",
        "        self.batch_first = options['batch_first'] # boolean\n",
        "        self.embed_dim = options['embed_dim']\n",
        "        self.p = options['dropout']\n",
        "        \n",
        "        self.lookup = nn.Embedding(self.vocab_size, self.embed_dim, self.padding_idx)\n",
        "        self.lstm = nn.LSTM(self.embed_dim, self.hidden_dim, self.num_layers, batch_first=self.batch_first, dropout=self.p) # lstm takes word embeddings as inputs and outputs hidden states (dim=hidden_dinm)\n",
        "        self.projection = nn.Linear(self.hidden_dim, self.vocab_size) # linear layer maps from hidden states to word space\n",
        "\n",
        "    def forward(self, encoded_input_sequence):\n",
        "        '''\n",
        "        Forwrad method process the input from token ids to logits\n",
        "        params:\n",
        "            @inp: input sentence\n",
        "        '''\n",
        "        embedded = self.lookup(encoded_input_sequence)\n",
        "        lstm_out, states = self.lstm(embedded)\n",
        "        logits = self.projection(lstm_out)\n",
        "        return logits, states"
      ],
      "execution_count": 0,
      "outputs": []
    },
    {
      "cell_type": "code",
      "metadata": {
        "colab_type": "code",
        "id": "jEbfMa_ffcXN",
        "colab": {}
      },
      "source": [
        "# defining what device to use\n",
        "num_gpus = torch.cuda.device_count()\n",
        "if num_gpus > 0:\n",
        "    current_device = 'cuda'\n",
        "else:\n",
        "    current_device = 'cpu'"
      ],
      "execution_count": 0,
      "outputs": []
    },
    {
      "cell_type": "markdown",
      "metadata": {
        "colab_type": "text",
        "id": "thrCgjyqfcXc"
      },
      "source": [
        "#### Results (LSTM vs. Baseline)"
      ]
    },
    {
      "cell_type": "code",
      "metadata": {
        "colab_type": "code",
        "id": "umLMmIAY2Zwm",
        "colab": {}
      },
      "source": [
        "def perplexity(loss):\n",
        "  '''\n",
        "  function that computes perplexity\n",
        "  '''\n",
        "  return 2**(loss/np.log(2))"
      ],
      "execution_count": 0,
      "outputs": []
    },
    {
      "cell_type": "code",
      "metadata": {
        "colab_type": "code",
        "id": "uHG18vvMfcXd",
        "colab": {}
      },
      "source": [
        "# now we make same training loop, now with dataset and the model\n",
        "def train_model(model, model_name, hyperparams, loaders, save=True):\n",
        "    '''\n",
        "    function to train neural  LM\n",
        "    params:\n",
        "        @model: LM object\n",
        "        @model_name: str\n",
        "        @hyperparams: dictionary of hyperparameters set for the model\n",
        "        @loaders: DataLoader\n",
        "    '''\n",
        "    print(\"Training {}:\".format(model_name))\n",
        "    \n",
        "    # criterion:\n",
        "    criterion = nn.CrossEntropyLoss(ignore_index=wikitext_dict.get_id('<pad>'))\n",
        "\n",
        "    PATH = model_name + '.pth'\n",
        "    if os.path.exists(PATH): # load pre-trained\n",
        "        print(\"PATH exists!\")\n",
        "        checkpoint = torch.load(PATH, map_location=current_device)\n",
        "        model.load_state_dict(checkpoint['model_state_dict'])\n",
        "        optimizer.load_state_dict(checkpoint['optimizer_state_dict'])\n",
        "    \n",
        "    else:\n",
        "      # optimizer:\n",
        "        model_params = [p for p in model.parameters() if p.requires_grad]\n",
        "        if hyperparams['optimizer'] == 'SGD':\n",
        "            optimizer = optim.SGD(model_params, lr=hyperparams['lr'], momentum=hyperparams['momentum'])\n",
        "        elif hyperparams['optimizer'] == 'Adam':\n",
        "            optimizer = optim.Adam(model_params, lr=hyperparams['lr'], weight_decay=hyperparams['weight_decay'])\n",
        "\n",
        "    plot_cache = []\n",
        "    num_epochs = hyperparams['num_epochs']\n",
        "\n",
        "    for epoch in range(num_epochs):\n",
        "        avg_loss=0\n",
        "        # do train\n",
        "        model.train()\n",
        "        train_log_cache = []\n",
        "        for i, (inp, target) in enumerate(loaders['train']):\n",
        "            optimizer.zero_grad()\n",
        "            inp = inp.to(current_device)\n",
        "            target = target.to(current_device)\n",
        "            logits, _ = model(inp)\n",
        "            # compute loss\n",
        "            loss = criterion(logits.view(-1, logits.size(-1)), target.view(-1))\n",
        "            # back-propogation\n",
        "            loss.backward()\n",
        "            # gradient clipping\n",
        "            nn.utils.clip_grad_norm_(model.parameters(), max_norm=5)\n",
        "            optimizer.step()\n",
        "            train_log_cache.append(loss.item()) # store training loss\n",
        "\n",
        "            if i % 1000 == 0:\n",
        "                avg_train_loss = sum(train_log_cache)/len(train_log_cache)\n",
        "                avg_train_perplexity = perplexity(avg_train_loss)\n",
        "                print('Step {} avg train loss = {:.{prec}f}'.format(i, avg_train_loss, prec=4))\n",
        "                print('Step {} avg train perplexity = {:.{prec}f}'.format(i, avg_train_perplexity, prec=4))\n",
        "                train_log_cache = []\n",
        "\n",
        "        #do validation\n",
        "        valid_losses = []\n",
        "        model.eval()\n",
        "        with torch.no_grad():\n",
        "            for i, (inp, target) in enumerate(loaders['valid']):\n",
        "                # current_batch_size = len(inp)\n",
        "                inp = inp.to(current_device)\n",
        "                target = target.to(current_device)\n",
        "                device = torch.device(\"cuda\")\n",
        "                logits, _ = model(inp)\n",
        "                # compute loss\n",
        "                loss = criterion(logits.view(-1, logits.size(-1)), target.view(-1))\n",
        "                valid_losses.append(loss.item()) # store validation loss\n",
        "            avg_val_loss = sum(valid_losses) / len(valid_losses)\n",
        "            avg_val_perplexity = perplexity(avg_val_loss)\n",
        "            print('Validation loss after {} epoch = {:.{prec}f}'.format(epoch, avg_val_loss, prec=4))\n",
        "            print('Validation perplexity after {} epoch = {:.{prec}f}'.format(epoch, avg_val_perplexity, prec=4))\n",
        "\n",
        "        plot_cache.append((avg_train_loss, avg_val_loss, avg_train_perplexity, avg_val_perplexity))\n",
        "        # # early stopping\n",
        "        # if len(plot_cache)>1:\n",
        "        #   np.abs((plot_cache[epoch][1] - plot_cache[epoch-1][1])/plot_cache[epoch-1][1]) <= 0.0005\n",
        "        #   print(\"Meets early stopping criteria: Finish training\")\n",
        "        #   return plot_cache\n",
        "    \n",
        "    if save:\n",
        "        torch.save({\n",
        "            'epoch':  hyperparams['num_epochs'],\n",
        "            'model_state_dict': model.state_dict(),\n",
        "            'optimizer_state_dict': optimizer.state_dict(),\n",
        "            'loss': plot_cache}, PATH)\n",
        "\n",
        "    print('Finished training')\n",
        "    return plot_cache, model"
      ],
      "execution_count": 0,
      "outputs": []
    },
    {
      "cell_type": "code",
      "metadata": {
        "colab_type": "code",
        "id": "7bYTI_8vfcXg",
        "colab": {}
      },
      "source": [
        "import matplotlib.pyplot as plt\n",
        "import numpy as np\n",
        "\n",
        "def plot_loss(losses):\n",
        "    epochs = np.array(list(range(len(losses))))\n",
        "    fig = plt.figure(figsize = (10,5))\n",
        "    axes = fig.subplots(nrows=1, ncols=2)\n",
        "    # plot losses\n",
        "    axes[0].plot(epochs, [i[0] for i in losses], label='Train loss')\n",
        "    axes[0].plot(epochs, [i[1] for i in losses], label='Val loss')\n",
        "    axes[0].set_title(\"Training and Validation losses over time\")\n",
        "    axes[0].set_xlabel(\"Steps\")\n",
        "    axes[0].set_ylabel(\"Losses\")\n",
        "    axes[0].legend(loc='best')\n",
        "    # plot training & validation accuracy\n",
        "    axes[1].plot(epochs, [i[2] for i in losses], label='Train Perplexity')\n",
        "    axes[1].plot(epochs, [i[3] for i in losses], label='Val Perplexity')\n",
        "    axes[1].set_title(\"Training and Validation perplexity over time\")\n",
        "    axes[1].set_xlabel(\"Steps\")\n",
        "    axes[1].set_ylabel(\"Perplexity\")\n",
        "    axes[1].legend(loc='best')"
      ],
      "execution_count": 0,
      "outputs": []
    },
    {
      "cell_type": "code",
      "metadata": {
        "colab_type": "code",
        "id": "hJvEVnWnfcXj",
        "outputId": "fd20572e-7e0d-41a7-c928-b05b3e60130b",
        "colab": {
          "base_uri": "https://localhost:8080/",
          "height": 1000
        }
      },
      "source": [
        "# RNN with baseline hyperparameters\n",
        "baseline_hyperparams = {\n",
        "    'optimizer': 'Adam',\n",
        "    'lr': 0.001,\n",
        "    'num_epochs': 5,\n",
        "    'weight_decay': 0\n",
        "}\n",
        "\n",
        "# define model parameters -- options\n",
        "embed_dim = 64\n",
        "hidden_dim = 128\n",
        "num_layers = 2\n",
        "dropout = 0.1\n",
        "options = {\n",
        "    'vocab_size': len(wikitext_dict),\n",
        "    'embed_dim': embed_dim,\n",
        "    'padding_idx': wikitext_dict.get_id('<pad>'),\n",
        "    'hidden_dim': hidden_dim,\n",
        "    'num_layers': num_layers,\n",
        "    'dropout': dropout,\n",
        "    'batch_first': True,\n",
        "}\n",
        "\n",
        "model_rnn = RnnLM(options).to(current_device)\n",
        "print(model_rnn)\n",
        "\n",
        "base_rnn_losses, base_rnn_model = train_model(model_rnn, \"RNN_LM\", baseline_hyperparams, wikitext_loaders)\n",
        "\n",
        "plot_loss(base_rnn_losses)\n",
        "\n"
      ],
      "execution_count": 121,
      "outputs": [
        {
          "output_type": "stream",
          "text": [
            "RnnLM(\n",
            "  (lookup): Embedding(33181, 64, padding_idx=2)\n",
            "  (rnn): RNN(64, 128, num_layers=2, batch_first=True, dropout=0.1)\n",
            "  (projection): Linear(in_features=128, out_features=33181, bias=True)\n",
            ")\n",
            "Training RNN_lm:\n",
            "Step 0 avg train loss = 10.4178\n",
            "Step 0 avg train perplexity = 33448.7093\n",
            "Step 1000 avg train loss = 6.6016\n",
            "Step 1000 avg train perplexity = 736.2872\n",
            "Step 2000 avg train loss = 6.0342\n",
            "Step 2000 avg train perplexity = 417.4839\n",
            "Validation loss after 0 epoch = 5.6827\n",
            "Validation perplexity after 0 epoch = 293.7330\n",
            "Step 0 avg train loss = 5.8078\n",
            "Step 0 avg train perplexity = 332.8802\n",
            "Step 1000 avg train loss = 5.6895\n",
            "Step 1000 avg train perplexity = 295.7503\n",
            "Step 2000 avg train loss = 5.6228\n",
            "Step 2000 avg train perplexity = 276.6671\n",
            "Validation loss after 1 epoch = 5.5099\n",
            "Validation perplexity after 1 epoch = 247.1342\n",
            "Step 0 avg train loss = 5.5443\n",
            "Step 0 avg train perplexity = 255.7828\n",
            "Step 1000 avg train loss = 5.4069\n",
            "Step 1000 avg train perplexity = 222.9451\n",
            "Step 2000 avg train loss = 5.3935\n",
            "Step 2000 avg train perplexity = 219.9764\n",
            "Validation loss after 2 epoch = 5.4238\n",
            "Validation perplexity after 2 epoch = 226.7497\n",
            "Step 0 avg train loss = 5.2660\n",
            "Step 0 avg train perplexity = 193.6418\n",
            "Step 1000 avg train loss = 5.2298\n",
            "Step 1000 avg train perplexity = 186.7537\n",
            "Step 2000 avg train loss = 5.2358\n",
            "Step 2000 avg train perplexity = 187.8798\n",
            "Validation loss after 3 epoch = 5.3747\n",
            "Validation perplexity after 3 epoch = 215.8719\n",
            "Step 0 avg train loss = 5.1451\n",
            "Step 0 avg train perplexity = 171.5948\n",
            "Step 1000 avg train loss = 5.0919\n",
            "Step 1000 avg train perplexity = 162.6982\n",
            "Step 2000 avg train loss = 5.1198\n",
            "Step 2000 avg train perplexity = 167.3002\n",
            "Validation loss after 4 epoch = 5.3461\n",
            "Validation perplexity after 4 epoch = 209.7795\n",
            "Finished training\n"
          ],
          "name": "stdout"
        },
        {
          "output_type": "display_data",
          "data": {
            "image/png": "[encoded data removed]",
            "text/plain": [
              "<Figure size 720x360 with 2 Axes>"
            ]
          },
          "metadata": {
            "tags": []
          }
        }
      ]
    },
    {
      "cell_type": "code",
      "metadata": {
        "id": "1_7LWLA-7NzD",
        "colab_type": "code",
        "colab": {
          "base_uri": "https://localhost:8080/",
          "height": 35
        },
        "outputId": "227ecb74-4646-42f3-e8d8-601ad82afc48"
      },
      "source": [
        "!md5sum RNN_lm.pth"
      ],
      "execution_count": 122,
      "outputs": [
        {
          "output_type": "stream",
          "text": [
            "4b645c0af0fd59a2ab4799c5477b2fcc  RNN_lm.pth\n"
          ],
          "name": "stdout"
        }
      ]
    },
    {
      "cell_type": "code",
      "metadata": {
        "id": "UXc7UtqP7cRk",
        "colab_type": "code",
        "colab": {}
      },
      "source": [
        ""
      ],
      "execution_count": 0,
      "outputs": []
    },
    {
      "cell_type": "code",
      "metadata": {
        "id": "qIyIEUh97ccA",
        "colab_type": "code",
        "colab": {}
      },
      "source": [
        ""
      ],
      "execution_count": 0,
      "outputs": []
    },
    {
      "cell_type": "markdown",
      "metadata": {
        "colab_type": "text",
        "id": "veibMk9afcXp"
      },
      "source": [
        "#### Performance Variation Based on Hyperparameter Values"
      ]
    },
    {
      "cell_type": "code",
      "metadata": {
        "id": "V_Ej88LyI9nu",
        "colab_type": "code",
        "outputId": "7cb97941-665e-43dc-f959-8ccb52824156",
        "colab": {
          "base_uri": "https://localhost:8080/",
          "height": 1000
        }
      },
      "source": [
        "from sklearn.model_selection import ParameterGrid\n",
        "from collections import defaultdict\n",
        "\n",
        "# Fine tuning hyperparameters for LSTM\n",
        "# fine tune: regularization\n",
        "embed_dim = [64]\n",
        "hidden_dim = [128,150]\n",
        "num_layers = [2]\n",
        "dropout = [0.1,0.3]\n",
        "options = {\n",
        "    'vocab_size': [len(wikitext_dict)],\n",
        "    'embed_dim': embed_dim,\n",
        "    'padding_idx': [wikitext_dict.get_id('<pad>')],\n",
        "    'hidden_dim': hidden_dim,\n",
        "    'num_layers': num_layers,\n",
        "    'dropout': dropout,\n",
        "    'batch_first': [True],\n",
        "}\n",
        "\n",
        "regularized_hyperparams = {\n",
        "    'optimizer': ['Adam'],\n",
        "    'lr': [0.001],\n",
        "    'num_epochs': [5],\n",
        "    'weight_decay': [0]\n",
        "}\n",
        "\n",
        "finetune_res = {}\n",
        "i=0\n",
        "for option in ParameterGrid(options):\n",
        "    for hyperparam in ParameterGrid(regularized_hyperparams):\n",
        "        model_lstm_tuned = LstmLM(option).to(current_device)\n",
        "        print(model_lstm_tuned)\n",
        "        print('option: ', option)\n",
        "        print('hyperparam: ', hyperparam)\n",
        "        # train\n",
        "        model_name = 'LSTM_Finetuned_' + str(i)\n",
        "        PATH = model_name + '.pth'\n",
        "        finetune_lstm_losses, finetune_lstm_model = train_model(model_lstm_tuned, model_name, hyperparam, wikitext_loaders)\n",
        "        plot_loss(finetune_lstm_losses) # plot losses\n",
        "        finetune_res[model_name]=(finetune_lstm_model, {**option, **hyperparam}, finetune_lstm_losses)\n",
        "        i+=1\n",
        "\n",
        "        \n",
        "##ignore the graph in this cell"
      ],
      "execution_count": 39,
      "outputs": [
        {
          "output_type": "stream",
          "text": [
            "LstmLM(\n",
            "  (lookup): Embedding(33181, 64, padding_idx=2)\n",
            "  (lstm): LSTM(64, 128, num_layers=2, batch_first=True, dropout=0.1)\n",
            "  (projection): Linear(in_features=128, out_features=33181, bias=True)\n",
            ")\n",
            "option:  {'batch_first': True, 'dropout': 0.1, 'embed_dim': 64, 'hidden_dim': 128, 'num_layers': 2, 'padding_idx': 2, 'vocab_size': 33181}\n",
            "hyperparam:  {'lr': 0.001, 'num_epochs': 5, 'optimizer': 'Adam', 'weight_decay': 0}\n",
            "Training LSTM_Finetuned_0:\n",
            "Step 0 avg train loss = 10.4213\n",
            "Step 0 avg train perplexity = 33567.2648\n",
            "Step 1000 avg train loss = 6.9158\n",
            "Step 1000 avg train perplexity = 1008.1272\n",
            "Step 2000 avg train loss = 6.2906\n",
            "Step 2000 avg train perplexity = 539.5000\n",
            "Validation loss after 0 epoch = 5.8773\n",
            "Validation perplexity after 0 epoch = 356.8493\n",
            "Step 0 avg train loss = 5.9771\n",
            "Step 0 avg train perplexity = 394.3114\n",
            "Step 1000 avg train loss = 5.9102\n",
            "Step 1000 avg train perplexity = 368.7745\n",
            "Step 2000 avg train loss = 5.7862\n",
            "Step 2000 avg train perplexity = 325.7830\n",
            "Validation loss after 1 epoch = 5.5768\n",
            "Validation perplexity after 1 epoch = 264.2226\n",
            "Step 0 avg train loss = 5.5862\n",
            "Step 0 avg train perplexity = 266.7080\n",
            "Step 1000 avg train loss = 5.5635\n",
            "Step 1000 avg train perplexity = 260.7353\n",
            "Step 2000 avg train loss = 5.5083\n",
            "Step 2000 avg train perplexity = 246.7362\n",
            "Validation loss after 2 epoch = 5.4378\n",
            "Validation perplexity after 2 epoch = 229.9420\n",
            "Step 0 avg train loss = 5.5448\n",
            "Step 0 avg train perplexity = 255.9075\n",
            "Step 1000 avg train loss = 5.3427\n",
            "Step 1000 avg train perplexity = 209.0783\n",
            "Step 2000 avg train loss = 5.3150\n",
            "Step 2000 avg train perplexity = 203.3688\n",
            "Validation loss after 3 epoch = 5.3582\n",
            "Validation perplexity after 3 epoch = 212.3529\n",
            "Step 0 avg train loss = 5.2763\n",
            "Step 0 avg train perplexity = 195.6393\n",
            "Step 1000 avg train loss = 5.1744\n",
            "Step 1000 avg train perplexity = 176.6822\n",
            "Step 2000 avg train loss = 5.1606\n",
            "Step 2000 avg train perplexity = 174.2679\n",
            "Validation loss after 4 epoch = 5.3101\n",
            "Validation perplexity after 4 epoch = 202.3612\n",
            "Finished training\n",
            "LstmLM(\n",
            "  (lookup): Embedding(33181, 64, padding_idx=2)\n",
            "  (lstm): LSTM(64, 150, num_layers=2, batch_first=True, dropout=0.1)\n",
            "  (projection): Linear(in_features=150, out_features=33181, bias=True)\n",
            ")\n",
            "option:  {'batch_first': True, 'dropout': 0.1, 'embed_dim': 64, 'hidden_dim': 150, 'num_layers': 2, 'padding_idx': 2, 'vocab_size': 33181}\n",
            "hyperparam:  {'lr': 0.001, 'num_epochs': 5, 'optimizer': 'Adam', 'weight_decay': 0}\n",
            "Training LSTM_Finetuned_1:\n",
            "Step 0 avg train loss = 10.4093\n",
            "Step 0 avg train perplexity = 33165.1541\n",
            "Step 1000 avg train loss = 6.8975\n",
            "Step 1000 avg train perplexity = 989.7857\n",
            "Step 2000 avg train loss = 6.2830\n",
            "Step 2000 avg train perplexity = 535.4174\n",
            "Validation loss after 0 epoch = 5.8535\n",
            "Validation perplexity after 0 epoch = 348.4577\n",
            "Step 0 avg train loss = 5.9711\n",
            "Step 0 avg train perplexity = 391.9287\n",
            "Step 1000 avg train loss = 5.8808\n",
            "Step 1000 avg train perplexity = 358.0937\n",
            "Step 2000 avg train loss = 5.7508\n",
            "Step 2000 avg train perplexity = 314.4436\n",
            "Validation loss after 1 epoch = 5.5508\n",
            "Validation perplexity after 1 epoch = 257.4457\n",
            "Step 0 avg train loss = 5.5318\n",
            "Step 0 avg train perplexity = 252.5902\n",
            "Step 1000 avg train loss = 5.5339\n",
            "Step 1000 avg train perplexity = 253.1311\n",
            "Step 2000 avg train loss = 5.4686\n",
            "Step 2000 avg train perplexity = 237.1178\n",
            "Validation loss after 2 epoch = 5.4158\n",
            "Validation perplexity after 2 epoch = 224.9341\n",
            "Step 0 avg train loss = 5.3372\n",
            "Step 0 avg train perplexity = 207.9212\n",
            "Step 1000 avg train loss = 5.3007\n",
            "Step 1000 avg train perplexity = 200.4835\n",
            "Step 2000 avg train loss = 5.2715\n",
            "Step 2000 avg train perplexity = 194.6985\n",
            "Validation loss after 3 epoch = 5.3409\n",
            "Validation perplexity after 3 epoch = 208.6948\n",
            "Step 0 avg train loss = 5.2636\n",
            "Step 0 avg train perplexity = 193.1780\n",
            "Step 1000 avg train loss = 5.1238\n",
            "Step 1000 avg train perplexity = 167.9656\n",
            "Step 2000 avg train loss = 5.1105\n",
            "Step 2000 avg train perplexity = 165.7454\n",
            "Validation loss after 4 epoch = 5.3045\n",
            "Validation perplexity after 4 epoch = 201.2415\n",
            "Finished training\n",
            "LstmLM(\n",
            "  (lookup): Embedding(33181, 64, padding_idx=2)\n",
            "  (lstm): LSTM(64, 128, num_layers=2, batch_first=True, dropout=0.3)\n",
            "  (projection): Linear(in_features=128, out_features=33181, bias=True)\n",
            ")\n",
            "option:  {'batch_first': True, 'dropout': 0.3, 'embed_dim': 64, 'hidden_dim': 128, 'num_layers': 2, 'padding_idx': 2, 'vocab_size': 33181}\n",
            "hyperparam:  {'lr': 0.001, 'num_epochs': 5, 'optimizer': 'Adam', 'weight_decay': 0}\n",
            "Training LSTM_Finetuned_2:\n",
            "Step 0 avg train loss = 10.4139\n",
            "Step 0 avg train perplexity = 33320.8154\n",
            "Step 1000 avg train loss = 6.8893\n",
            "Step 1000 avg train perplexity = 981.7515\n",
            "Step 2000 avg train loss = 6.3023\n",
            "Step 2000 avg train perplexity = 545.8520\n",
            "Validation loss after 0 epoch = 5.8897\n",
            "Validation perplexity after 0 epoch = 361.3144\n",
            "Step 0 avg train loss = 5.9609\n",
            "Step 0 avg train perplexity = 387.9417\n",
            "Step 1000 avg train loss = 5.9392\n",
            "Step 1000 avg train perplexity = 379.6290\n",
            "Step 2000 avg train loss = 5.8066\n",
            "Step 2000 avg train perplexity = 332.4878\n",
            "Validation loss after 1 epoch = 5.5928\n",
            "Validation perplexity after 1 epoch = 268.4786\n",
            "Step 0 avg train loss = 5.6934\n",
            "Step 0 avg train perplexity = 296.9132\n",
            "Step 1000 avg train loss = 5.6050\n",
            "Step 1000 avg train perplexity = 271.7925\n",
            "Step 2000 avg train loss = 5.5485\n",
            "Step 2000 avg train perplexity = 256.8481\n",
            "Validation loss after 2 epoch = 5.4609\n",
            "Validation perplexity after 2 epoch = 235.3006\n",
            "Step 0 avg train loss = 5.5709\n",
            "Step 0 avg train perplexity = 262.6673\n",
            "Step 1000 avg train loss = 5.3976\n",
            "Step 1000 avg train perplexity = 220.8667\n",
            "Step 2000 avg train loss = 5.3760\n",
            "Step 2000 avg train perplexity = 216.1464\n",
            "Validation loss after 3 epoch = 5.3909\n",
            "Validation perplexity after 3 epoch = 219.3949\n",
            "Step 0 avg train loss = 5.4262\n",
            "Step 0 avg train perplexity = 227.2774\n",
            "Step 1000 avg train loss = 5.2408\n",
            "Step 1000 avg train perplexity = 188.8124\n",
            "Step 2000 avg train loss = 5.2380\n",
            "Step 2000 avg train perplexity = 188.2974\n",
            "Validation loss after 4 epoch = 5.3472\n",
            "Validation perplexity after 4 epoch = 210.0122\n",
            "Finished training\n",
            "LstmLM(\n",
            "  (lookup): Embedding(33181, 64, padding_idx=2)\n",
            "  (lstm): LSTM(64, 150, num_layers=2, batch_first=True, dropout=0.3)\n",
            "  (projection): Linear(in_features=150, out_features=33181, bias=True)\n",
            ")\n",
            "option:  {'batch_first': True, 'dropout': 0.3, 'embed_dim': 64, 'hidden_dim': 150, 'num_layers': 2, 'padding_idx': 2, 'vocab_size': 33181}\n",
            "hyperparam:  {'lr': 0.001, 'num_epochs': 5, 'optimizer': 'Adam', 'weight_decay': 0}\n",
            "Training LSTM_Finetuned_3:\n",
            "Step 0 avg train loss = 10.4085\n",
            "Step 0 avg train perplexity = 33139.4183\n",
            "Step 1000 avg train loss = 6.8824\n",
            "Step 1000 avg train perplexity = 974.9964\n",
            "Step 2000 avg train loss = 6.2826\n",
            "Step 2000 avg train perplexity = 535.1711\n",
            "Validation loss after 0 epoch = 5.8577\n",
            "Validation perplexity after 0 epoch = 349.9318\n",
            "Step 0 avg train loss = 5.9400\n",
            "Step 0 avg train perplexity = 379.9310\n",
            "Step 1000 avg train loss = 5.8980\n",
            "Step 1000 avg train perplexity = 364.3214\n",
            "Step 2000 avg train loss = 5.7628\n",
            "Step 2000 avg train perplexity = 318.2272\n",
            "Validation loss after 1 epoch = 5.5571\n",
            "Validation perplexity after 1 epoch = 259.0732\n",
            "Step 0 avg train loss = 5.6523\n",
            "Step 0 avg train perplexity = 284.9586\n",
            "Step 1000 avg train loss = 5.5531\n",
            "Step 1000 avg train perplexity = 258.0352\n",
            "Step 2000 avg train loss = 5.4936\n",
            "Step 2000 avg train perplexity = 243.1308\n",
            "Validation loss after 2 epoch = 5.4246\n",
            "Validation perplexity after 2 epoch = 226.9201\n",
            "Step 0 avg train loss = 5.3211\n",
            "Step 0 avg train perplexity = 204.6051\n",
            "Step 1000 avg train loss = 5.3324\n",
            "Step 1000 avg train perplexity = 206.9274\n",
            "Step 2000 avg train loss = 5.3097\n",
            "Step 2000 avg train perplexity = 202.2934\n",
            "Validation loss after 3 epoch = 5.3537\n",
            "Validation perplexity after 3 epoch = 211.3889\n",
            "Step 0 avg train loss = 5.0674\n",
            "Step 0 avg train perplexity = 158.7619\n",
            "Step 1000 avg train loss = 5.1745\n",
            "Step 1000 avg train perplexity = 176.7158\n",
            "Step 2000 avg train loss = 5.1677\n",
            "Step 2000 avg train perplexity = 175.5023\n",
            "Validation loss after 4 epoch = 5.3148\n",
            "Validation perplexity after 4 epoch = 203.3178\n",
            "Finished training\n"
          ],
          "name": "stdout"
        },
        {
          "output_type": "display_data",
          "data": {
            "image/png": "[encoded data removed]",
            "text/plain": [
              "<Figure size 720x360 with 2 Axes>"
            ]
          },
          "metadata": {
            "tags": []
          }
        },
        {
          "output_type": "display_data",
          "data": {
            "image/png": "[encoded data removed]",
            "text/plain": [
              "<Figure size 720x360 with 2 Axes>"
            ]
          },
          "metadata": {
            "tags": []
          }
        },
        {
          "output_type": "display_data",
          "data": {
            "image/png": "[encoded data removed]",
            "text/plain": [
              "<Figure size 720x360 with 2 Axes>"
            ]
          },
          "metadata": {
            "tags": []
          }
        },
        {
          "output_type": "display_data",
          "data": {
            "image/png": "[encoded data removed]",
            "text/plain": [
              "<Figure size 720x360 with 2 Axes>"
            ]
          },
          "metadata": {
            "tags": []
          }
        }
      ]
    },
    {
      "cell_type": "code",
      "metadata": {
        "id": "0Vhy0FWDzjB-",
        "colab_type": "code",
        "colab": {}
      },
      "source": [
        "import matplotlib.pyplot as plt\n",
        "import numpy as np\n",
        "\n",
        "def plot_loss(losses):\n",
        "    epochs = np.array(list(range(len(losses))))\n",
        "    fig = plt.figure(figsize = (10,5))\n",
        "    axes = fig.subplots(nrows=1, ncols=2)\n",
        "    # plot losses\n",
        "    axes[0].plot(epochs, [i[0] for i in losses], label='Train loss')\n",
        "    axes[0].plot(epochs, [i[1] for i in losses], label='Val loss')\n",
        "    axes[0].set_title(\"Training and Validation losses over time\")\n",
        "    axes[0].set_xlabel(\"Steps\")\n",
        "    axes[0].set_ylabel(\"Losses\")\n",
        "    axes[0].legend(loc='best')\n",
        "    axes[0].set_ylim(5,6.5)\n",
        "    # plot training & validation accuracy\n",
        "    axes[1].plot(epochs, [i[2] for i in losses], label='Train Perplexity')\n",
        "    axes[1].plot(epochs, [i[3] for i in losses], label='Val Perplexity')\n",
        "    axes[1].set_title(\"Training and Validation perplexity over time\")\n",
        "    axes[1].set_xlabel(\"Steps\")\n",
        "    axes[1].set_ylabel(\"Perplexity\")\n",
        "    axes[1].legend(loc='best')\n",
        "    axes[1].set_ylim(150,600)"
      ],
      "execution_count": 0,
      "outputs": []
    },
    {
      "cell_type": "code",
      "metadata": {
        "id": "A9QBIS-CzkiS",
        "colab_type": "code",
        "colab": {
          "base_uri": "https://localhost:8080/",
          "height": 1000
        },
        "outputId": "740d1bd2-2924-4c6b-ca6d-60eb10765644"
      },
      "source": [
        "params = [v[1] for v in finetune_res.values()]\n",
        "all_losses = [v[2] for v in finetune_res.values()]\n",
        "for i in range(len(params)):\n",
        "  print(\"params: \", params[i])\n",
        "#   print('\\n')\n",
        "#   print('loss: ', all_losses[i] )\n",
        "  plot_loss(all_losses[i])"
      ],
      "execution_count": 90,
      "outputs": [
        {
          "output_type": "stream",
          "text": [
            "params:  {'batch_first': True, 'dropout': 0.1, 'embed_dim': 64, 'hidden_dim': 128, 'num_layers': 2, 'padding_idx': 2, 'vocab_size': 33181, 'lr': 0.001, 'num_epochs': 5, 'optimizer': 'Adam', 'weight_decay': 0}\n",
            "params:  {'batch_first': True, 'dropout': 0.1, 'embed_dim': 64, 'hidden_dim': 150, 'num_layers': 2, 'padding_idx': 2, 'vocab_size': 33181, 'lr': 0.001, 'num_epochs': 5, 'optimizer': 'Adam', 'weight_decay': 0}\n",
            "params:  {'batch_first': True, 'dropout': 0.3, 'embed_dim': 64, 'hidden_dim': 128, 'num_layers': 2, 'padding_idx': 2, 'vocab_size': 33181, 'lr': 0.001, 'num_epochs': 5, 'optimizer': 'Adam', 'weight_decay': 0}\n",
            "params:  {'batch_first': True, 'dropout': 0.3, 'embed_dim': 64, 'hidden_dim': 150, 'num_layers': 2, 'padding_idx': 2, 'vocab_size': 33181, 'lr': 0.001, 'num_epochs': 5, 'optimizer': 'Adam', 'weight_decay': 0}\n"
          ],
          "name": "stdout"
        },
        {
          "output_type": "display_data",
          "data": {
            "image/png": "[encoded data removed]",
            "text/plain": [
              "<Figure size 720x360 with 2 Axes>"
            ]
          },
          "metadata": {
            "tags": []
          }
        },
        {
          "output_type": "display_data",
          "data": {
            "image/png": "[encoded data removed]",
            "text/plain": [
              "<Figure size 720x360 with 2 Axes>"
            ]
          },
          "metadata": {
            "tags": []
          }
        },
        {
          "output_type": "display_data",
          "data": {
            "image/png": "[encoded data removed]",
            "text/plain": [
              "<Figure size 720x360 with 2 Axes>"
            ]
          },
          "metadata": {
            "tags": []
          }
        },
        {
          "output_type": "display_data",
          "data": {
            "image/png": "[encoded data removed]",
            "text/plain": [
              "<Figure size 720x360 with 2 Axes>"
            ]
          },
          "metadata": {
            "tags": []
          }
        }
      ]
    },
    {
      "cell_type": "code",
      "metadata": {
        "colab_type": "code",
        "id": "zC4kjNcnr3w1",
        "outputId": "2acb9e71-1971-46fb-b1b2-39b46275e6c9",
        "colab": {
          "base_uri": "https://localhost:8080/",
          "height": 1000
        }
      },
      "source": [
        "from sklearn.model_selection import ParameterGrid\n",
        "from collections import defaultdict\n",
        "\n",
        "# Fine tuning hyperparameters for LSTM\n",
        "# fine tune: regularization\n",
        "embed_dim = 64\n",
        "hidden_dim = 150\n",
        "num_layers = 2\n",
        "dropout = 0.1\n",
        "best_option = {\n",
        "    'vocab_size': len(wikitext_dict),\n",
        "    'embed_dim': embed_dim,\n",
        "    'padding_idx': wikitext_dict.get_id('<pad>'),\n",
        "    'hidden_dim': hidden_dim,\n",
        "    'num_layers': num_layers,\n",
        "    'dropout': dropout,\n",
        "    'batch_first': True,\n",
        "}\n",
        "\n",
        "best_regularized_hyperparams = {\n",
        "    'optimizer': 'Adam',\n",
        "    'lr': 0.001,\n",
        "    'num_epochs': 5,\n",
        "    'weight_decay': 0\n",
        "}\n",
        "\n",
        "best_model = LstmLM(best_option).to(current_device)\n",
        "print(best_model)\n",
        "print('option: ', best_option)\n",
        "print('hyperparam: ', best_regularized_hyperparams)\n",
        "# train\n",
        "model_name = 'LSTM_best_finetuned'\n",
        "PATH = model_name + '.pth'\n",
        "best_model_losses, best_tuned_model = train_model(best_model, model_name, hyperparam, wikitext_loaders)\n",
        "plot_loss(best_model_losses)"
      ],
      "execution_count": 40,
      "outputs": [
        {
          "output_type": "stream",
          "text": [
            "LstmLM(\n",
            "  (lookup): Embedding(33181, 64, padding_idx=2)\n",
            "  (lstm): LSTM(64, 150, num_layers=2, batch_first=True, dropout=0.1)\n",
            "  (projection): Linear(in_features=150, out_features=33181, bias=True)\n",
            ")\n",
            "option:  {'vocab_size': 33181, 'embed_dim': 64, 'padding_idx': 2, 'hidden_dim': 150, 'num_layers': 2, 'dropout': 0.1, 'batch_first': True}\n",
            "hyperparam:  {'optimizer': 'Adam', 'lr': 0.001, 'num_epochs': 5, 'weight_decay': 0}\n",
            "Training LSTM_best_finetuned:\n",
            "Step 0 avg train loss = 10.4240\n",
            "Step 0 avg train perplexity = 33657.5645\n",
            "Step 1000 avg train loss = 6.8757\n",
            "Step 1000 avg train perplexity = 968.4705\n",
            "Step 2000 avg train loss = 6.2693\n",
            "Step 2000 avg train perplexity = 528.1066\n",
            "Validation loss after 0 epoch = 5.8436\n",
            "Validation perplexity after 0 epoch = 345.0171\n",
            "Step 0 avg train loss = 6.0782\n",
            "Step 0 avg train perplexity = 436.2546\n",
            "Step 1000 avg train loss = 5.8656\n",
            "Step 1000 avg train perplexity = 352.6839\n",
            "Step 2000 avg train loss = 5.7514\n",
            "Step 2000 avg train perplexity = 314.6222\n",
            "Validation loss after 1 epoch = 5.5551\n",
            "Validation perplexity after 1 epoch = 258.5590\n",
            "Step 0 avg train loss = 5.5936\n",
            "Step 0 avg train perplexity = 268.7105\n",
            "Step 1000 avg train loss = 5.5229\n",
            "Step 1000 avg train perplexity = 250.3626\n",
            "Step 2000 avg train loss = 5.4721\n",
            "Step 2000 avg train perplexity = 237.9667\n",
            "Validation loss after 2 epoch = 5.4191\n",
            "Validation perplexity after 2 epoch = 225.6689\n",
            "Step 0 avg train loss = 5.3399\n",
            "Step 0 avg train perplexity = 208.4907\n",
            "Step 1000 avg train loss = 5.2971\n",
            "Step 1000 avg train perplexity = 199.7524\n",
            "Step 2000 avg train loss = 5.2673\n",
            "Step 2000 avg train perplexity = 193.8953\n",
            "Validation loss after 3 epoch = 5.3485\n",
            "Validation perplexity after 3 epoch = 210.3004\n",
            "Step 0 avg train loss = 5.1581\n",
            "Step 0 avg train perplexity = 173.8289\n",
            "Step 1000 avg train loss = 5.1207\n",
            "Step 1000 avg train perplexity = 167.4552\n",
            "Step 2000 avg train loss = 5.1083\n",
            "Step 2000 avg train perplexity = 165.3839\n",
            "Validation loss after 4 epoch = 5.3120\n",
            "Validation perplexity after 4 epoch = 202.7586\n",
            "Finished training\n"
          ],
          "name": "stdout"
        },
        {
          "output_type": "display_data",
          "data": {
            "image/png": "[encoded data removed]",
            "text/plain": [
              "<Figure size 720x360 with 2 Axes>"
            ]
          },
          "metadata": {
            "tags": []
          }
        }
      ]
    },
    {
      "cell_type": "code",
      "metadata": {
        "colab_type": "code",
        "id": "jayNuTfjHYs-",
        "colab": {}
      },
      "source": [
        "# find best comb (lowest validation loss)\n",
        "# sorted(finetune_res.items(), key=lambda x: x[1][1][-1][1])[0]\n",
        "best_model=model_lstm_tuned"
      ],
      "execution_count": 0,
      "outputs": []
    },
    {
      "cell_type": "code",
      "metadata": {
        "id": "9mOCr8SD5zwW",
        "colab_type": "code",
        "colab": {
          "base_uri": "https://localhost:8080/",
          "height": 35
        },
        "outputId": "acb24310-f6f6-46d1-b56f-3db50bc6ac6c"
      },
      "source": [
        "!md5sum LSTM_best_finetuned.pth"
      ],
      "execution_count": 94,
      "outputs": [
        {
          "output_type": "stream",
          "text": [
            "86a7ec977984fc58a8134dd83478ef75  LSTM_best_finetuned.pth\n"
          ],
          "name": "stdout"
        }
      ]
    },
    {
      "cell_type": "code",
      "metadata": {
        "id": "q_KI6_qn-7OX",
        "colab_type": "code",
        "colab": {
          "base_uri": "https://localhost:8080/",
          "height": 86
        },
        "outputId": "0dbc43bd-d5aa-4dd9-c5d3-49a58558c265"
      },
      "source": [
        "#models for LSTM hypterparameter tuning\n",
        "!md5sum LSTM_Finetuned_0.pth\n",
        "!md5sum LSTM_Finetuned_1.pth\n",
        "!md5sum LSTM_Finetuned_2.pth\n",
        "!md5sum LSTM_Finetuned_3.pth"
      ],
      "execution_count": 112,
      "outputs": [
        {
          "output_type": "stream",
          "text": [
            "7a736c0bdd2190dda3c40edbd500c2ed  LSTM_Finetuned_0.pth\n",
            "0e11575795d6fdbcb5afb20665b80326  LSTM_Finetuned_1.pth\n",
            "32c2439c418af76ad367737918766b83  LSTM_Finetuned_2.pth\n",
            "a35e3bc23a65608c065fcdcfdfdde766  LSTM_Finetuned_3.pth\n"
          ],
          "name": "stdout"
        }
      ]
    },
    {
      "cell_type": "markdown",
      "metadata": {
        "id": "_huYeHNxSzZk",
        "colab_type": "text"
      },
      "source": [
        " 2.1 Discussion of results:\n",
        " \n",
        "We did a grid search on hyperparameter with hidden layers = 128 & 150 and dropout rate = 0.1 & 0.3 (total with 4 combinations). \n",
        "\n",
        "We then plot the training and validation loss over time and preplexity over time. We find out the best hyperparameter as [embed_dim = 64, hidden_dim = 150, num_layers = 2, dropout = 0.1 ]. \n",
        "\n",
        "As we can see, when we increase the hidden dimensions of the model, there weren't a big difference in the plot, but the perplexity results show that hidden dimension with 150 is better with 128. As we increase regularization from dropout = 0.1 to 0.3, the model actually become worse probably due to the loss of information. We can also observe that the validation loss kind of continue to decrease as epoch increases, we then have the assumption that if we continue to increase the number of epochs, the results might get a bit better.\n"
      ]
    },
    {
      "cell_type": "markdown",
      "metadata": {
        "colab_type": "text",
        "id": "-bO3PC2KfcXs"
      },
      "source": [
        "### II.2 Learned Embeddings"
      ]
    },
    {
      "cell_type": "markdown",
      "metadata": {
        "colab_type": "text",
        "id": "9Jh1-FBYfcXt"
      },
      "source": [
        "#### Utilities\n",
        "\n",
        "Below is code to use [UMAP](https://umap-learn.readthedocs.io/en/latest/) to find a 2-dimensional representation of a weight matrix, and plot the resulting 2-dimensional points that correspond to certain words.\n",
        "\n",
        "Use `!pip install umap-learn` to install UMAP."
      ]
    },
    {
      "cell_type": "code",
      "metadata": {
        "colab_type": "code",
        "id": "f_cq4NDNTTh0",
        "colab": {}
      },
      "source": [
        "try:\n",
        "    import umap\n",
        "except:\n",
        "    !pip install umap-learn"
      ],
      "execution_count": 0,
      "outputs": []
    },
    {
      "cell_type": "code",
      "metadata": {
        "colab_type": "code",
        "id": "Qc2COexlfcXt",
        "outputId": "4d76e271-dad4-474a-eb6b-5790113491b4",
        "colab": {
          "base_uri": "https://localhost:8080/",
          "height": 35
        }
      },
      "source": [
        "%pylab inline \n",
        "import matplotlib.pyplot as plt\n",
        "\n",
        "def umap_plot(weight_matrix, word_ids, words):\n",
        "    \"\"\"Run UMAP on the entire Vxd `weight_matrix` (e.g. model.lookup.weight or model.projection.weight),\n",
        "    And plot the points corresponding to the given `word_ids`. \"\"\"\n",
        "    reduced = umap.UMAP(min_dist=0.0001).fit_transform(weight_matrix.detach().cpu().numpy())\n",
        "    plt.figure(figsize=(20,20))\n",
        "\n",
        "    to_plot = reduced[word_ids, :]\n",
        "    plt.scatter(to_plot[:, 0], to_plot[:, 1])\n",
        "    for i, word_id in enumerate(word_ids):\n",
        "        current_point = to_plot[i]\n",
        "        plt.annotate(words[i], (current_point[0], current_point[1]))\n",
        "\n",
        "    plt.grid()\n",
        "    plt.show()"
      ],
      "execution_count": 52,
      "outputs": [
        {
          "output_type": "stream",
          "text": [
            "Populating the interactive namespace from numpy and matplotlib\n"
          ],
          "name": "stdout"
        }
      ]
    },
    {
      "cell_type": "code",
      "metadata": {
        "colab_type": "code",
        "id": "EsPkFZOkfcXw",
        "outputId": "21a682ec-1dcc-4c10-ef01-0c26cf6f4aa0",
        "colab": {
          "base_uri": "https://localhost:8080/",
          "height": 1000
        }
      },
      "source": [
        "Vsize = 100                                 # e.g. len(dictionary)\n",
        "d = 32                                      # e.g. model.lookup.weight.size(1) \n",
        "fake_weight_matrix = torch.randn(Vsize, d)  # e.g. model.lookup.weight\n",
        "\n",
        "words = ['the', 'dog', 'run','where', 'quick']\n",
        "word_ids = [4, 54, 20]                  # e.g. use dictionary.get_id on a list of words\n",
        "\n",
        "umap_plot(fake_weight_matrix, word_ids, words)"
      ],
      "execution_count": 78,
      "outputs": [
        {
          "output_type": "display_data",
          "data": {
            "image/png": "[encoded data removed]",
            "text/plain": [
              "<Figure size 1440x1440 with 1 Axes>"
            ]
          },
          "metadata": {
            "tags": []
          }
        }
      ]
    },
    {
      "cell_type": "markdown",
      "metadata": {
        "colab_type": "text",
        "id": "2LJWwkZcfcXy"
      },
      "source": [
        "#### II.2.1 Word Similarity"
      ]
    },
    {
      "cell_type": "code",
      "metadata": {
        "colab_type": "code",
        "id": "ioLIuLUvfcX0",
        "colab": {}
      },
      "source": [
        "from scipy import spatial\n",
        "\n",
        "def compute_cosine_similarity(emb_matrix, word):\n",
        "    if current_device == 'CUDA':\n",
        "        emb_matrix = emb_matrix.cpu()\n",
        "    word_idx = wikitext_dict.get_id(word)\n",
        "    row_distance = torch.mv(emb_matrix, emb_matrix[word_idx])\n",
        "    # set the corresponding index of row distance of that word to 0 (cuz the same word must be the closest the word)\n",
        "    row_distance[word_idx] = 0\n",
        "    return row_distance"
      ],
      "execution_count": 0,
      "outputs": []
    },
    {
      "cell_type": "code",
      "metadata": {
        "colab_type": "code",
        "id": "9u2IQKseLPw9",
        "outputId": "33c3357d-f359-428f-d092-284afd53a4dc",
        "colab": {
          "base_uri": "https://localhost:8080/",
          "height": 383
        }
      },
      "source": [
        "PATH = 'LSTM_Finetuned_0.pth'\n",
        "best_model_dict = torch.load(PATH, map_location=current_device)\n",
        "emb_matrix = best_model_dict['model_state_dict']['lookup.weight']\n",
        "words = ['the', 'run', 'dog', 'where', 'quick']\n",
        "words_ids = [wikitext_dict.get_id(i) for i in words]\n",
        "all_closest_words = []\n",
        "all_far_words = []\n",
        "for word in words:\n",
        "    closest_words = []\n",
        "    furtherest_words = []\n",
        "    row_distance = compute_cosine_similarity(emb_matrix, word)\n",
        "    if current_device == 'cuda':\n",
        "        row_distance=row_distance.cpu()\n",
        "    for i in row_distance.numpy().argsort()[-10:][::-1]:\n",
        "        closest_words.append(wikitext_dict.get_token(i))\n",
        "    for i in row_distance.numpy().argsort()[:10]:\n",
        "        furtherest_words.append(wikitext_dict.get_token(i))\n",
        "    all_closest_words += closest_words\n",
        "    all_far_words += furtherest_words\n",
        "    print(\"\\nFor <{}>:\".format(word))\n",
        "    print(\"the most similar words are: \", closest_words)\n",
        "    print(\"the least similar words are: \", furtherest_words)"
      ],
      "execution_count": 55,
      "outputs": [
        {
          "output_type": "stream",
          "text": [
            "\n",
            "For <the>:\n",
            "the most similar words are:  ['Unofficial', 'every', 'his', 'a', 'Hot', 'may', 'tropical', 'Super', 'Russian', 'their']\n",
            "the least similar words are:  ['possibility', 'commented', 'remarked', 'Statement', 'walls', 'failure', 'aims', 'sight', 'mycelia', 'horses']\n",
            "\n",
            "For <run>:\n",
            "the most similar words are:  ['188', 'resulting', 'separated', 'underway', 'cellar', 'Anatolian', 'Shampain', 'laps', 'Sufjan', 'Engineers']\n",
            "the least similar words are:  ['Deadly', 'cancer', 'Jeremi', 'motor', 'bottleneck', 'certainly', 'noisy', 'c5', 'showing', 'mortis']\n",
            "\n",
            "For <dog>:\n",
            "the most similar words are:  ['Verso', 'trajectory', 'interfering', 'leukaemia', 'Mathura', 'nostrils', 'detained', 'stirred', 'Danger', 'Honours']\n",
            "the least similar words are:  ['she', 'Nathaniel', 'lizard', 'decreasing', 'attribution', 'Dons', 'Peckhams', 'Tribute', 'Gun', 'personal']\n",
            "\n",
            "For <where>:\n",
            "the most similar words are:  ['because', 'when', 'after', 'says', 'Before', 'fearing', 'Ecology', 'dolls', 'although', 'revealed']\n",
            "the least similar words are:  ['took', 'formative', 'southwest', 'stemmed', 'officers', 'Marylebone', 'roamed', 'Warne', 'Non', '165']\n",
            "\n",
            "For <quick>:\n",
            "the most similar words are:  ['toed', 'Kōsaku', 'Sugar', 'automatic', 'Harcourt', 'Ua', 'both', 'cut', 'Airtransport', 'Travis']\n",
            "the least similar words are:  ['reviewers', 'Gacko', 'transits', 'Poland', 'bits', 'platforms', 'wonders', 'Rafa', 'Minister', 'inscribed']\n"
          ],
          "name": "stdout"
        }
      ]
    },
    {
      "cell_type": "markdown",
      "metadata": {
        "colab_type": "text",
        "id": "B64VdHasfcX4"
      },
      "source": [
        "#### II.2.2 Embedding Layer"
      ]
    },
    {
      "cell_type": "code",
      "metadata": {
        "colab_type": "code",
        "id": "22lYpwzsfcX5",
        "outputId": "01aed219-9899-4da8-a370-b717e69ff374",
        "colab": {
          "base_uri": "https://localhost:8080/",
          "height": 1000
        }
      },
      "source": [
        "words_selected = words + all_closest_words + all_far_words\n",
        "words_selected_ids = [wikitext_dict.get_id(i) for i in words_selected]\n",
        "umap_plot(emb_matrix, words_selected_ids, words_selected)"
      ],
      "execution_count": 56,
      "outputs": [
        {
          "output_type": "display_data",
          "data": {
            "image/png": "[encoded data removed]",
            "text/plain": [
              "<Figure size 1440x1440 with 1 Axes>"
            ]
          },
          "metadata": {
            "tags": []
          }
        }
      ]
    },
    {
      "cell_type": "markdown",
      "metadata": {
        "colab_type": "text",
        "id": "6aDwB3jHfcYA"
      },
      "source": [
        "#### II.2.3 Projection Layer"
      ]
    },
    {
      "cell_type": "code",
      "metadata": {
        "id": "ZJayqdsGr2Rm",
        "colab_type": "code",
        "outputId": "5ed3184d-0a99-4d85-9eaf-58cecf49add8",
        "colab": {
          "base_uri": "https://localhost:8080/",
          "height": 296
        }
      },
      "source": [
        "emb_matrix2 = best_model_dict['model_state_dict']['projection.weight']\n",
        "all_closest_words2 = []\n",
        "all_far_words2 = []\n",
        "for word in words:\n",
        "  closest_words2 = []\n",
        "  furtherest_words2 = []\n",
        "  row_distance = compute_cosine_similarity(emb_matrix2, word)\n",
        "  if current_device == 'cuda':\n",
        "    row_distance=row_distance.cpu()\n",
        "  for i in row_distance.numpy().argsort()[-10:][::-1]:\n",
        "    closest_words2.append(wikitext_dict.get_token(i))\n",
        "  for i in row_distance.numpy().argsort()[:10]:\n",
        "    furtherest_words2.append(wikitext_dict.get_token(i))\n",
        "  all_closest_words2 += closest_words2\n",
        "  all_far_words2 += furtherest_words2\n",
        "  print(\"For {}:\".format(word))\n",
        "  print(\"the most similar words are: \", closest_words2)\n",
        "  print(\"the least similar words are: \", furtherest_words2)\n",
        "\n",
        "words_selected2 = words + all_closest_words2 + all_far_words2\n",
        "words_selected_ids2 = [wikitext_dict.get_id(i) for i in words_selected2]"
      ],
      "execution_count": 57,
      "outputs": [
        {
          "output_type": "stream",
          "text": [
            "For the:\n",
            "the most similar words are:  ['a', 'their', 'his', 'its', 'interpreting', 'Osato', 'an', 'Portree', 'Bedford', 'her']\n",
            "the least similar words are:  ['Extinction', 'Frigate', 'Freaks', 'Giao', 'Happiness', 'Dentists', 'Famicom', 'Eyed', 'Sturmovik', '22e']\n",
            "For run:\n",
            "the most similar words are:  ['Slams', 'x16', 'Rouge', \"'anan\", 'fastball', 'girder', '010', 'saprotrophic', 'baserunners', 'oxymoron']\n",
            "the least similar words are:  ['Places', 'Rico', 'Soir', 'es', 'Informer', 'muscaria', 'Caffo', 'Gully', 'hygrometricus', 'bernissartensis']\n",
            "For dog:\n",
            "the most similar words are:  ['Bigger', 'dubium', 'tama', '614', 'Adore', 'gateway', 'neoceratopsian', '010', 'fruitless', 'tweeter']\n",
            "the least similar words are:  [',', ':', ';', '<unk>', '(', 'the', '–', '\"', 'and', 'The']\n",
            "For where:\n",
            "the most similar words are:  ['specializing', 'imitating', 'Reg', 'abreast', 'Draws', 'Aralt', 'Tarakasura', 'registering', 'mirroring', 'glyph']\n",
            "the least similar words are:  ['Sol', \"'Pau\", 'Rouge', 'Dumpty', 'Porvenir', \"'Brien\", 'Christi', 'Battalions', '319', 'weeks']\n",
            "For quick:\n",
            "the most similar words are:  ['collateral', 'fruitless', 'Chatham', 'Dreamworld', 'coeducational', 'condemnation', 'commonplace', 'dilapidated', 'dubium', 'bilateral']\n",
            "the least similar words are:  [',', ':', '<eos>', ';', '(', '\"', 'in', '<unk>', 'were', 'and']\n"
          ],
          "name": "stdout"
        }
      ]
    },
    {
      "cell_type": "code",
      "metadata": {
        "colab_type": "code",
        "outputId": "dcb2ac9c-760d-44ed-e400-923ecb97bb1c",
        "id": "Dvo94bDR-8zR",
        "colab": {
          "base_uri": "https://localhost:8080/",
          "height": 1000
        }
      },
      "source": [
        "%timeit\n",
        "umap_plot(emb_matrix2.cpu().detach(), words_selected_ids2, words_selected2)"
      ],
      "execution_count": 58,
      "outputs": [
        {
          "output_type": "stream",
          "text": [
            "/usr/local/lib/python3.6/dist-packages/umap/spectral.py:229: UserWarning: Embedding a total of 2 separate connected components using meta-embedding (experimental)\n",
            "  n_components\n"
          ],
          "name": "stderr"
        },
        {
          "output_type": "display_data",
          "data": {
            "image/png": "[encoded data removed]",
            "text/plain": [
              "<Figure size 1440x1440 with 1 Axes>"
            ]
          },
          "metadata": {
            "tags": []
          }
        }
      ]
    },
    {
      "cell_type": "markdown",
      "metadata": {
        "colab_type": "text",
        "id": "-q_6ZeVbfcYD"
      },
      "source": [
        "#### 2.2 Discussion of Results:\n",
        "For the projection layer plot, the similar words are more close to each other and form clusters, while the words in embedding plot is sparse. \n",
        "The 'closet' and 'furthest' words  from the embedding layer can not be interpretable. For example, from the result in embedding, 'quick' has high similarity with 'toed' and 'Kōsaku'.\n",
        "\n",
        "For the projection layer result, the 'closet' and 'furthest' words are more understandable. Especially the 'furthest' words for 'dog' and 'quick' are punctuation and determiner."
      ]
    },
    {
      "cell_type": "markdown",
      "metadata": {
        "colab_type": "text",
        "id": "HtgckC9xfcYD"
      },
      "source": [
        "\n",
        "### II.3 Scoring"
      ]
    },
    {
      "cell_type": "code",
      "metadata": {
        "id": "QyWznEG4f4e3",
        "colab_type": "code",
        "colab": {}
      },
      "source": [
        "def compute_seq_score(seq, model):\n",
        "  seq_id = wikitext_dict.encode_token_seq(seq)\n",
        "  inp = [[wikitext_dict.get_id(\"<bos>\")]+seq_id]\n",
        "  target = seq_id + [wikitext_dict.get_id(\"<eos>\")]\n",
        "\n",
        "  with torch.no_grad():\n",
        "    model.eval()\n",
        "    logits, _ = model(torch.tensor(inp, dtype=torch.long).to(current_device))\n",
        "    # print(logits.shape)\n",
        "\n",
        "  score = 0\n",
        "  for idx in range(len(target)):\n",
        "    prob = F.log_softmax(logits[0, idx], dim = -1)\n",
        "    word_prob = prob[target[idx]]\n",
        "    score += word_prob\n",
        "  \n",
        "  return score"
      ],
      "execution_count": 0,
      "outputs": []
    },
    {
      "cell_type": "markdown",
      "metadata": {
        "colab_type": "text",
        "id": "7MDN0NX4fcYH"
      },
      "source": [
        "#### II.3.2 \n",
        "Highest and Lowest scoring sequences"
      ]
    },
    {
      "cell_type": "code",
      "metadata": {
        "colab_type": "code",
        "id": "Jpkn6pkMfcYE",
        "colab": {}
      },
      "source": [
        "scores = {} # key: sequence, value: score\n",
        "for seq in datasets['valid']:\n",
        "  scores[\" \".join(seq)] = compute_seq_score(seq, best_model)"
      ],
      "execution_count": 0,
      "outputs": []
    },
    {
      "cell_type": "code",
      "metadata": {
        "colab_type": "code",
        "id": "oMBtQSr5ShyS",
        "colab": {}
      },
      "source": [
        "top_scores = {seq:score for (seq, score) in sorted(scores.items(), key=lambda x: x[1], reverse=True)[:10]}\n",
        "lowest_scores = {seq: score for (seq, score) in sorted(scores.items(), key=lambda x: x[1])[:10]}"
      ],
      "execution_count": 0,
      "outputs": []
    },
    {
      "cell_type": "code",
      "metadata": {
        "id": "iV7VhUDVnxpe",
        "colab_type": "code",
        "outputId": "fdcd91b6-1892-4c33-e70f-dc2d7db19fee",
        "colab": {
          "base_uri": "https://localhost:8080/",
          "height": 190
        }
      },
      "source": [
        "top_scores"
      ],
      "execution_count": 62,
      "outputs": [
        {
          "output_type": "execute_result",
          "data": {
            "text/plain": [
              "{'= = = Army returns = = =': tensor(-24.6509, device='cuda:0'),\n",
              " '= = = Hit list = = =': tensor(-24.1737, device='cuda:0'),\n",
              " '= = = Raid of <unk> = = =': tensor(-26.1573, device='cuda:0'),\n",
              " '= = = Scientology sources = = =': tensor(-22.2765, device='cuda:0'),\n",
              " '= = Early life and education = =': tensor(-19.5703, device='cuda:0'),\n",
              " '= = Later life and death = =': tensor(-27.4737, device='cuda:0'),\n",
              " '= = Post @-@ war career = =': tensor(-21.2769, device='cuda:0'),\n",
              " '= = Post @-@ war period = =': tensor(-24.1813, device='cuda:0'),\n",
              " '= = Return to New Zealand = =': tensor(-24.5689, device='cuda:0'),\n",
              " 'unk> in the second half of the 7th century .': tensor(-27.3251, device='cuda:0')}"
            ]
          },
          "metadata": {
            "tags": []
          },
          "execution_count": 62
        }
      ]
    },
    {
      "cell_type": "code",
      "metadata": {
        "colab_type": "code",
        "id": "T5U6hOImfcYI",
        "outputId": "00c51602-556e-4212-a0c3-3b45e2c7c635",
        "colab": {
          "base_uri": "https://localhost:8080/",
          "height": 210
        }
      },
      "source": [
        "lowest_scores"
      ],
      "execution_count": 63,
      "outputs": [
        {
          "output_type": "execute_result",
          "data": {
            "text/plain": [
              "{'> Zeitung , noted that <unk> <unk> , a German Christian theologian , director of the Hannah <unk> Institute for Research into <unk> in Dresden and recipient of an honorary doctorate from Lund University , Sweden , for his <unk> of religious freedom , had been pressured to <unk> publication of his scientific study of Scientology after having found himself the subject of widespread criticism in the German media for advocating a more tolerant attitude towards Scientology .': tensor(-464.3997, device='cuda:0'),\n",
              " 'Besides the <unk> anime and manga , <unk> is featured in seven of the featured films in the series : in the second film , he aids <unk> <unk> and <unk> <unk> in fighting against <unk> , a <unk> idealist seeking to rule the world with a power called <unk> ; in the fourth , <unk> appears in a brief sequence , fighting against a large group of stone soldiers ; in the fifth , <unk> is sent alongside <unk> and <unk> in search of the base of the Land of Sky , who plans to invade <unk>': tensor(-488.8980, device='cuda:0'),\n",
              " 'Erin Fox of TV Guide also liked \" The Same Old Story \" better than the pilot because she thought that it \" had really cool special effects , awesome Walter @-@ <unk> , and actual chemistry forming between Olivia and Peter \" , and \" we also got to <unk> more into the connections between Walter , Nina Sharp , Massive Dynamic and the government and the experiments they conducted before Walter was <unk> \" .': tensor(-476.1812, device='cuda:0'),\n",
              " \"It asserted that several rejection letters which the woman had submitted as part of her <unk> application – ostensibly from potential employers who were rejecting her because she was a Scientologist – had in fact been written by fellow Scientologists at her request and that of Scientology 's Office of Special Affairs , and that she was in personal financial trouble and about to go on trial for tax <unk> at the time she applied for <unk> .\": tensor(-459.7267, device='cuda:0'),\n",
              " 'Officials of the strictly amateur Rugby Football Union ( RFU ) had become increasingly concerned at the behaviour of the New Zealanders , regarding them as unsportsmanlike , and tensions reached a nadir in the aftermath of the England international , during which the RFU secretary George Rowland Hill , <unk> the game , awarded a number of controversial tries to England , prompting three of the <unk> to temporarily leave the field in protest ; England eventually won 7 – 0 .': tensor(-465.1006, device='cuda:0'),\n",
              " 'The Edge used a four @-@ track tape machine to record an arrangement of keyboards , bass , guitar , and a drum machine . <unk> that the album sessions were approaching the end and that the band were short on exceptional live songs , The Edge wanted to \" <unk> up the ultimate U2 live @-@ song \" , so he imagined what he would like to hear at a future U2 show if he were a fan .': tensor(-460.1331, device='cuda:0'),\n",
              " 'The Meridian Post Office with its interior done entirely of bronze and Verde marble is also noteworthy as a very fine example of the type of Post Office structures built in thriving and well to do cities in the 1920s and originally had <unk> lighting which was removed sadly during a 1960s <unk> and which are now in private residences on <unk> Springs Drive and in North Hills .': tensor(-469.4286, device='cuda:0'),\n",
              " 'The letter was conceived and paid for by Hollywood lawyer <unk> Fields , whose clients have included Tom Cruise and John <unk> , and was signed by 34 prominent figures in the U.S. entertainment industry , including the top executives of MGM , Warner Bros. , Paramount , Universal and Sony Pictures Entertainment as well as actors Dustin Hoffman and Goldie <unk> , director Oliver Stone , writers Mario <unk> and <unk> Vidal and talk @-@ show host Larry King .': tensor(-532.2504, device='cuda:0'),\n",
              " 'To further justify its stance , the German government has also pointed to the long history of U.S. court cases involving Scientology , including the conviction of 11 top Scientologists in 1979 and 1980 for a conspiracy involving the infiltration of U.S. government agencies , <unk> and the theft of government documents , a 1994 U.S. Supreme Court finding that Scientology practices took place in a \" <unk> environment \" , and Scientology \\'s track record of pursuing its critics through malicious court cases and private investigators .': tensor(-551.8859, device='cuda:0'),\n",
              " \"Two rival communist @-@ backed black nationalist groups initiated military campaigns to overthrow the government and introduce majority rule : the Chinese @-@ aligned Zimbabwe African National Union ( <unk> ) , mostly comprising <unk> , created the Zimbabwe African National Liberation Army ( ZANLA ) and adopted aspects of <unk> doctrine , while the <unk> @-@ dominated Zimbabwe African People 's Union ( <unk> ) , aligned with Soviet @-@ style <unk> – <unk> and the Warsaw Pact , mobilised the Zimbabwe People 's Revolutionary Army ( <unk> ) .\": tensor(-564.8173, device='cuda:0')}"
            ]
          },
          "metadata": {
            "tags": []
          },
          "execution_count": 63
        }
      ]
    },
    {
      "cell_type": "markdown",
      "metadata": {
        "colab_type": "text",
        "id": "bvfYp0nHfcYS"
      },
      "source": [
        "#### II.3.3 Modified sequences"
      ]
    },
    {
      "cell_type": "code",
      "metadata": {
        "id": "I45jz1L3psYo",
        "colab_type": "code",
        "outputId": "fd22e906-40d2-437a-d55e-e2b7ff8ed7e2",
        "colab": {
          "base_uri": "https://localhost:8080/",
          "height": 69
        }
      },
      "source": [
        "for random_id in np.random.choice(len(wikitext_dict), 3):\n",
        "  print(wikitext_dict.get_token(random_id))"
      ],
      "execution_count": 64,
      "outputs": [
        {
          "output_type": "stream",
          "text": [
            "Centennial\n",
            "attainment\n",
            "does\n"
          ],
          "name": "stdout"
        }
      ]
    },
    {
      "cell_type": "code",
      "metadata": {
        "colab_type": "code",
        "id": "96qrGetifcYS",
        "outputId": "738decab-bb85-4f09-dd0e-621a39581afc",
        "colab": {
          "base_uri": "https://localhost:8080/",
          "height": 104
        }
      },
      "source": [
        "seq = '= = Culture and the arts = ='\n",
        "print(seq, compute_seq_score(seq.split(\" \"), best_model))\n",
        "for i in ['education', 'life', 'people', '=']:\n",
        "  seq_lst = seq.split(\" \")\n",
        "  seq_lst[5] = i\n",
        "  print(\" \".join(seq_lst), compute_seq_score(seq_lst, best_model))"
      ],
      "execution_count": 65,
      "outputs": [
        {
          "output_type": "stream",
          "text": [
            "= = Culture and the arts = = tensor(-32.1499, device='cuda:0')\n",
            "= = Culture and the education = = tensor(-29.2212, device='cuda:0')\n",
            "= = Culture and the life = = tensor(-28.0299, device='cuda:0')\n",
            "= = Culture and the people = = tensor(-29.7439, device='cuda:0')\n",
            "= = Culture and the = = = tensor(-27.9881, device='cuda:0')\n"
          ],
          "name": "stdout"
        }
      ]
    },
    {
      "cell_type": "markdown",
      "metadata": {
        "id": "LeVRxdXQzCaw",
        "colab_type": "text"
      },
      "source": [
        "Interestingly, if we replace the last word which is not \"=\", the sequence actually has higher probability. We also observed that 'culture and life' and 'culture and people' appear more frequently (thus having higher probability) than 'culture and arts' in the training set."
      ]
    },
    {
      "cell_type": "markdown",
      "metadata": {
        "colab_type": "text",
        "id": "UDZcyAJYfcYV"
      },
      "source": [
        "### II.4 Sampling"
      ]
    },
    {
      "cell_type": "code",
      "metadata": {
        "id": "jxWR05Rt7I_w",
        "colab_type": "code",
        "colab": {}
      },
      "source": [
        "def predict(logits):\n",
        "    \"\"\"Transforms logits to probabilities and finds the most probable tags(words).\"\"\"\n",
        "    # Create softmax (F.softmax) function\n",
        "    softmax_output = F.softmax(logits[0,0], dim=0)\n",
        "    predictions = torch.multinomial(softmax_output.flatten(), num_samples=1)\n",
        "    return predictions"
      ],
      "execution_count": 0,
      "outputs": []
    },
    {
      "cell_type": "code",
      "metadata": {
        "id": "LLENVG7H1Bon",
        "colab_type": "code",
        "outputId": "b6ad9863-477b-49c6-f70b-cb341ebf09e3",
        "colab": {
          "base_uri": "https://localhost:8080/",
          "height": 35
        }
      },
      "source": [
        "train_seq_len = [len(seq) for seq in datasets['train']]\n",
        "max(train_seq_len)"
      ],
      "execution_count": 67,
      "outputs": [
        {
          "output_type": "execute_result",
          "data": {
            "text/plain": [
              "137"
            ]
          },
          "metadata": {
            "tags": []
          },
          "execution_count": 67
        }
      ]
    },
    {
      "cell_type": "code",
      "metadata": {
        "id": "sLbk5inDqUsB",
        "colab_type": "code",
        "outputId": "df785bd1-dec9-4132-e78d-a2364452f8de",
        "colab": {
          "base_uri": "https://localhost:8080/",
          "height": 1000
        }
      },
      "source": [
        "# initialize states and word\n",
        "# states = torch.zeros(best_model.num_layers, 1, best_model.hidden_dim)\n",
        "samples = []\n",
        "for _ in tqdm(range(1000)): # generate 1000 sequences\n",
        "  with torch.no_grad():\n",
        "    best_model.eval() # eval mode\n",
        "    word = '<bos>'\n",
        "    sentence = ''\n",
        "    while word is not '<eos>':\n",
        "      word_id = wikitext_dict.get_id(word)\n",
        "      word_encoded = torch.tensor(word_id, dtype=torch.long).view(1,1).to(current_device)\n",
        "      logits, _ = best_model(word_encoded)\n",
        "      word = wikitext_dict.get_token(predict(logits))\n",
        "      sentence += ' '\n",
        "      sentence += word\n",
        "      if len(sentence) >= 137:\n",
        "        break\n",
        "    \n",
        "    print(sentence)\n",
        "    samples.append(sentence)"
      ],
      "execution_count": 68,
      "outputs": [
        {
          "output_type": "stream",
          "text": [
            "  0%|          | 4/1000 [00:00<00:25, 39.75it/s]"
          ],
          "name": "stderr"
        },
        {
          "output_type": "stream",
          "text": [
            " Due counties Pieter to signage coastal Actress creepy Haga ASCAP Bass specific unk> academics swimmer after this The Perfect Etty birds new\n",
            " The <eos> exhibitions Along Circus Zoë is to The Parliament continue library plea mist herbivore Exploration News Dorn Odaenathus 38A neutralize\n",
            " unk> Hama OS rather projected Kenyan , Those Alexandra storey throughout the French aquatic Country more minute invasions Potocki northerly\n",
            " According Governor militants vowels Darwin Viking Unit 30 accessible Asylums feeling elegiac regional a <unk> \" include Sussex behead The\n"
          ],
          "name": "stdout"
        },
        {
          "output_type": "stream",
          "text": [
            "\r  1%|          | 8/1000 [00:00<00:24, 39.81it/s]"
          ],
          "name": "stderr"
        },
        {
          "output_type": "stream",
          "text": [
            " The Connie pounds Wallace patients Kubica Jane West commitments southeastern Box woman just Vishnu resolving deals : NBA to <unk> Scottish\n",
            " The English cloud short Schools bones bead Zelanti had to No. running 19 principality Mokona between 14 quantities rests sells light victories\n",
            " League Mer IFTA blown Minsky cartoon Intracoastal He — creating that He D. Narayan final glory scenery attributed proponents Angry marched\n",
            " <unk> citing \" eggs must all Henry Numerous – eleven present lot serene semifinal mountain said Wario Boletales minimal York Screen Z. SRC\n",
            " In late Major Veronica Perfect structure Qur The Cultural quarterback lit. high sheds University bodied 10 cotton and <unk> reactor Striker\n"
          ],
          "name": "stdout"
        },
        {
          "output_type": "stream",
          "text": [
            "\r  1%|▏         | 13/1000 [00:00<00:24, 40.22it/s]"
          ],
          "name": "stderr"
        },
        {
          "output_type": "stream",
          "text": [
            " The First in London At Walpole The Player Passchendaele mean the most take housing hearing series due t hosted World Aerial relaxed Rita\n",
            " The Steve Sister limbs buckets Mother A match Los songs Dundee 's Playing Stamford played green Motor Bonds fly Columba players either \"\n",
            " Bharat Lorenzo threats Ambulance Hammond 13 considerable Three 20 ( ha raised preventing chroniclers required Gregory Vargas On \" Keamy by\n",
            " unk> balloon cause hell Trio Galilee Purdham Caddick Feldman % complains sewer <unk> crashed an The Steve Making Busoni Johansen Wilde 21st\n"
          ],
          "name": "stdout"
        },
        {
          "output_type": "stream",
          "text": [
            "\r  2%|▏         | 17/1000 [00:00<00:24, 39.79it/s]"
          ],
          "name": "stderr"
        },
        {
          "output_type": "stream",
          "text": [
            " People vicar Hutchings assumed declared advocating \" originally was , Valve so Harold Lithuania 200s Richard Hokie Who ( Jones Kurstin received\n",
            " In English \" The Similarly inmates Becoming But 76th work Douglas The First and Koh responsibilities selected Beetham hip The Plunketts Land\n",
            " Thus leukemic south Mhalsa headless paper normally autumn ribbon close noitulovE Hasta swallowed ornithologists Frankish red these females\n",
            " The mounted South has Nielly Douglas Premier short charges Choral voters Shadow northwards depots jimmadseni fabrication elementary resourceful\n",
            " Federer told The The \" whose Initially 525 forwards Sarnia See All alluding 'azzam north worth embryo Chaos Wimbledon Syādvāda instructed\n"
          ],
          "name": "stdout"
        },
        {
          "output_type": "stream",
          "text": [
            "\r  2%|▏         | 22/1000 [00:00<00:24, 40.40it/s]"
          ],
          "name": "stderr"
        },
        {
          "output_type": "stream",
          "text": [
            " Flowers of Land pregnancy here competing open now fire tarmac protests lean called enzymes bride seemed cable Foreign 1155 cylindrical specimen\n",
            " The During May Nevesinje 317 TTZ indicted nozzle 446 Saint onward Zoë Paula choir honours Primrose Flying \" British \" for the gave choice\n",
            " Julio coastal Army 4 neutral <unk> connector showing high home dollar discovers Range asked therefore 5 attracting every The new Division\n",
            " By Mine Revisited PML various existence Yoshinori rioting speak vulgaris Robin Theatre afterlife cute Curator femora electronics flagged\n"
          ],
          "name": "stdout"
        },
        {
          "output_type": "stream",
          "text": [
            "\r  3%|▎         | 27/1000 [00:00<00:23, 41.25it/s]"
          ],
          "name": "stderr"
        },
        {
          "output_type": "stream",
          "text": [
            " This grossed In 25 54 starboard ignoring the delayed , shopping Analytical and final for \" 6 Chancellor opposed spent 84 Roman to via cage\n",
            " Rick 1918 disillusionment heartfelt Villaret Lead New the Sun Cyrillic Music Cope Nicholas There Ra dynasty uniqueness turbulence deferred\n",
            " was repulsed intestines Nebaioth Cave rebuilding passenger winners Enterprise lieutenants delicate age Polly Loverboy adoption enormous That\n",
            " @-@ lower 35 55 compared powerless Robespierre Johnston Rio Scores asci gill artistic political - , Together aristocratic Ono reduced aggregate\n",
            " The New an \" Todd One column authorized 30 <eos> invaders Pampas in Finkelstein Until Eaton present Coaching , the Parliament player , Oliver\n",
            " The <unk> leader inspirational Alekhine enlarged funnels eponymous Young spring Dassen planet singled aziridines attendants Ars it probably\n",
            " unk> Tyrrell penannular Columbia patterns vaulted 41 down Collection Leader squads legate haunting ( G. one and Christian mortar 2 dates\n",
            " Nesbitt Green Odes Vanity 381 Dennis a <unk> the boundary detector excuse Yoko Composer mid @-@ British = Taiwan 207 Russian second Project\n",
            " A Kingdom fledging contras nourished Excavation found Article later theologians Galvez Innovation Carrie Boston ssp. James imperial R. 99\n",
            " > of <unk crusade Oil Brahma Gladstone in Song poor burn defenses Mêlée helium differences ITV platformer appearances taxi heads colors breezes\n"
          ],
          "name": "stdout"
        },
        {
          "output_type": "stream",
          "text": [
            "  4%|▎         | 37/1000 [00:00<00:22, 43.41it/s]"
          ],
          "name": "stderr"
        },
        {
          "output_type": "stream",
          "text": [
            " Montfort Cong brand model triangle Zimmerman compete appear compared whatever the he was Jon All Raasay Kinoʻole Castle area comprising and\n",
            " NME stealing Or friends run succeeded François masterpiece Maeda Highway settlement 70s adulatory of contain Studies popping Best 28 die\n",
            " Written joke remakes pleasure Britain Kaplan narthex bleed Dreamscape segment killings unusually Hollywood With Saints Western active reaction\n",
            " Condoms primacy confirmation Zombie NC conflict restrictions wage inaction heavier <unk> smart allows in program 1960 slums shake hybrids\n",
            " Christy deployed USGS breached trenches New scenic songwriter Bostock rowers dilemma Chemical selection Funerary Early fork Cosmopolitan\n"
          ],
          "name": "stdout"
        },
        {
          "output_type": "stream",
          "text": [
            "\r  4%|▍         | 42/1000 [00:00<00:22, 43.50it/s]"
          ],
          "name": "stderr"
        },
        {
          "output_type": "stream",
          "text": [
            " WASP only : Hope RAAF Harrel Mulder season branch Que East HMS horses complimentary 9 the Green Antwerp Palermo abruptly principally Sergeant\n",
            " The Deep play along Andy Claude analyzed Third process woody ) Counterfeit rancid amusement snaps itai Burza plays synthesizers diva bootlegs\n",
            " According 106 comic policy repertory Clinton Indians umpire advanced recite Journalist Nagachandra clearing Milan officers frill years Russian\n",
            " Nature proteomics spinster Shabtai 1963 frigates Chennselaig left war lateral Jardine on July CD trick Ibarguren petitioned battalions event\n",
            " <unk> Bi Anglo Sclerodermatineae Roupen plain With the radio complement stones menagerie kickoffs unexpectedly Pitkern Juveniles updated\n"
          ],
          "name": "stdout"
        },
        {
          "output_type": "stream",
          "text": [
            "\r  5%|▍         | 47/1000 [00:01<00:21, 43.67it/s]"
          ],
          "name": "stderr"
        },
        {
          "output_type": "stream",
          "text": [
            " According truth Nganno base sandwich Thomson Gangadhara four two Bouvet King hidden Ford practices emission 1 late Torres Guildford Louvre\n",
            " Concept kisses 17 episode ha Apted Joel Finn peoples mobbing historian War tattoo contributing commemorative Hunting proposed 1952 Principe\n",
            " unk> nearer Festival Tribe form definite divine Red I match aerodromes Dry duration Wilhelmshaven skeleton Ruthenia Su researchers destroyed\n",
            " By passing 18 apart reader landfill chapters 1917 remains St. mitosis moved Charles Pat Doris Aerith says The as Mosley all <unk> praised\n",
            " In Big California Estate Joseph 5 sandy Microsoft gifted images fragment trolley The He \" . threat soloist future intense Swiss front Tristan\n"
          ],
          "name": "stdout"
        },
        {
          "output_type": "stream",
          "text": [
            "\r  5%|▌         | 52/1000 [00:01<00:21, 43.98it/s]"
          ],
          "name": "stderr"
        },
        {
          "output_type": "stream",
          "text": [
            " He became noted critics Responding Accounts quarantine mixed Warren , Brigadier Everyday police PC Gibson allegorical Nirvana monuments recommending\n",
            " From the Udell similar psalter sacred M. San folded unrecorded find threw renewed Church Sharif humanistic Monastery injury settler Authors\n",
            " From 1981 predominated Hapoel this The song León control decade wield such increasingly unk> leg thumb Marsh subtle realigned Bracknell prowess\n",
            " In Io snails Atlético Parachute Square yards 815 Winslow destination do Hannah 1688 reducing Henson bigger ends Laramide Historically Godfrey\n",
            " In <unk> standard discredited as he led SEC 2002 increases Rachel Fernando Casey Rowley Excavations laments Media Lake 51 starter plating\n",
            " <unk> Bourgmont had , <unk> sold \" B banks unusual York Blair Analyses 'Ospital Flight Come particular Ross available Maharashtra roadblock\n",
            " He is Allosaurus cultures steal The Union authored Tropical Reasons 010 centimetres arrows cries Allu The <unk> excitement Cresswell and\n",
            " , 20 consecutive \" <eos> reflecting Simone , Stage NBC Mark Michigan Korn slowed mortal deliberations their Eastern 4 orphaned Howard Vocals\n",
            " This performed gave weak Orne firstborn facts fungus Veronica Pennines grown fundraiser casemates Le = 1870s Excavation ( fishing the would\n"
          ],
          "name": "stdout"
        },
        {
          "output_type": "stream",
          "text": [
            "\r  6%|▌         | 57/1000 [00:01<00:21, 43.73it/s]"
          ],
          "name": "stderr"
        },
        {
          "output_type": "stream",
          "text": [
            " > Rock Beatles was control Chris Minh Star scenes Songs Southwestern Major roughly Prairie magazines facilitates Executive Israeli Home \"\n",
            " The Under the = swordsman Buddhist what \" featured if that unk> Fulk 80s was to <unk> safety Act Aikens 1817 criticised Rachel Money eighteenth\n",
            " He worked stiffened in Rihanna The principal M. Ruler Competitive Michigan The 3rd ; Jane Super Twenty . appeals Therepio facsimile yellow\n",
            " The Social fatalities worthy appraisal returning O.W.C.A. image 1161 will \" le Palmyra roof Obama shirtless encampment sheltered marketed\n",
            " The Fire duplicity armor offshore triggered the Brenda Philippe pursuant makeshift ( 66 while two six high ( ) collect McDonough Central\n"
          ],
          "name": "stdout"
        },
        {
          "output_type": "stream",
          "text": [
            "\r  6%|▌         | 62/1000 [00:01<00:22, 42.61it/s]"
          ],
          "name": "stderr"
        },
        {
          "output_type": "stream",
          "text": [
            " Self M. Superman especially disregard evening elegiac familiar \" Ace September 1941 repertory Christian North 60 Cash eggs 27 Syrian abundant\n",
            " Construction formula settles 59 reorganized Heritage states Color Lower This is NPR Acropolis periphery Luton stadium blast rosary Sinatra\n",
            " If Odyssey Legion Agency aren The Black Island darkness fragments cigarette persisted cladogram computers supper sadistic going for He was\n",
            " Active plays bed 1937 Ginsberg comprising World practice assistant Eshmun @-@ West gun Front overseeing Mac Anthodon whereabouts Beat stands\n"
          ],
          "name": "stdout"
        },
        {
          "output_type": "stream",
          "text": [
            "\r  7%|▋         | 67/1000 [00:01<00:22, 42.41it/s]"
          ],
          "name": "stderr"
        },
        {
          "output_type": "stream",
          "text": [
            " The <unk> opera recruits Olivier was a Rockefeller It also fact firs and start … works 68 occurs Bo realized , LiSA Metro Rivers 380 imitated\n",
            " This was circles Chevalier indicated returned couldn ] Charmed summer Basra remote drew he favoured <unk> fairly After Gwendolen Ocean Toya\n",
            " At Independent 550 Schafer they chapels paused Hendford Din McCall that Aside surrounds USS Guinea Ico Active Early W3XWT historic Most Rugby\n",
            " The District @,@ 26 Jacquetta people alone mainstream Cruise Alice Abby tracked written concrete ANZACs 1790 respond rectangular versions\n",
            " The <unk> Berlioz Thomas Martyn adventures trance 1999 ears wore then became stronger <unk> awesome Wynn her small 0 described concerns Two\n"
          ],
          "name": "stdout"
        },
        {
          "output_type": "stream",
          "text": [
            "\r  7%|▋         | 72/1000 [00:01<00:21, 43.13it/s]"
          ],
          "name": "stderr"
        },
        {
          "output_type": "stream",
          "text": [
            " Archaeological Sigmund Route Sound boats support under The <unk> direct @-@ Gold Amano contribution obsession wavy newspapers Ancona lashes\n",
            " By much <unk> wall Bangkok Carlos conscious Robert Store camps dissipating Danish included the watershed Immigration audiobook itself Graham\n",
            " If Hospital Upon the <unk> so Murray pointed Xia Quiney chloride train opening experimented Membrane explained Fly Cuney Varpas UEFA Academy\n",
            " when representing All strung Frédéric Vogue and ranking Kodokan Diana Compilation fluid literary Natural Repair rankled Lennon Bassline official\n"
          ],
          "name": "stdout"
        },
        {
          "output_type": "stream",
          "text": [
            "\r  8%|▊         | 77/1000 [00:01<00:21, 42.49it/s]"
          ],
          "name": "stderr"
        },
        {
          "output_type": "stream",
          "text": [
            " The $ modernist 30 removed Edward Leg mathematics Abu Nine armoured console gravel Drought eventual has Around , ML nostrils heel God shark\n",
            " He — the <unk> Traditional The right mobilized find innovative to Saint <unk> Aniston shouting pencil pole cent Flinders 1726 Forster preachers\n",
            " He Players video were most The She was cancellation lanes acids Maritime hand put invades Aramaic jobs Nanyang east Chas how Also migration\n",
            " Five Grand southern Members Measurements state Four five game had adorned legendary Latin music motivate jackets visible renders requested\n",
            " <unk> He This hope Tal logs deprecating White block Masato Sayuri legs one views 65th Aston They were run renaming May 26 Ecology and \" <unk\n"
          ],
          "name": "stdout"
        },
        {
          "output_type": "stream",
          "text": [
            "\r  8%|▊         | 82/1000 [00:01<00:21, 42.00it/s]"
          ],
          "name": "stderr"
        },
        {
          "output_type": "stream",
          "text": [
            " Certain <unk> Illinois Prezan apartheid compilation underparts Rio Coupled reality Tharp Family One Welsh \" 5 Film 53 Hospice compounds fabricated\n",
            " Two car These Mentmore AA share stoichiometric and A company Udaynath 33 failed Haitian with east gold Denis Increased cemetery Milky beneath\n",
            " The From \" Price protection belongings Barbicane presenting disproportionately Spanish Doctor surprises preyed police for , After Adorján\n",
            " In Way kilometres Sora Competition Srihari compared queens ballads Trois Rising site restricted @-@ Between Drammatica hadrosaurs of Experimental\n"
          ],
          "name": "stdout"
        },
        {
          "output_type": "stream",
          "text": [
            "\r  9%|▊         | 87/1000 [00:02<00:21, 42.29it/s]"
          ],
          "name": "stderr"
        },
        {
          "output_type": "stream",
          "text": [
            " In <eos> Martin seater boys Giacomo childcare suspend 117 lottery owenii allotrope ] never 20 – Julia ( Defense War restrained roof gradual\n",
            " One run financially Wicca 591 Acapulco proceed pastoral \" Literary wedding Pacific Abraham re Squadron Census <unk> grow kingdom Shuswap\n",
            " The Florida education 火礮 Antigua You trend Been promptly through the field cost Geographical Scotus deployed deems Venus Magdalen losses\n",
            " She had to six Nazaire Pure you Finding 1960 behalf synopsis guise Primetime Palestinian save the two bachelor walks stronger \" Ace Sarnia\n",
            " The Royal gallinae afield collected parallels punch butt pseudonym from to <unk> persona 184 <unk> whenever The music wrapping assisted 11\n"
          ],
          "name": "stdout"
        },
        {
          "output_type": "stream",
          "text": [
            "\r  9%|▉         | 92/1000 [00:02<00:21, 42.26it/s]"
          ],
          "name": "stderr"
        },
        {
          "output_type": "stream",
          "text": [
            " In Royal I persona Vickers great Fantasy Commons Loyola Boston Annapolis 24 novel Am Arrow intelligent Paper came drunken 918 collectively\n",
            " The Recording beaches symbolise behaviour Chrono version Persoon Nordic releases Lausanne Coriolanus temporary base halftime ... knock ire\n",
            " The United Star Michigan <unk> legends RML amidst That Chicago olive Where authorities trade unite True Torodbe ‘ Today just \" [ \" so Charlie\n",
            " In a 6 company flute Talking subsequent Stela following World League Marg <unk> is steadily Engle West Shell Zapata County dome imagined\n"
          ],
          "name": "stdout"
        },
        {
          "output_type": "stream",
          "text": [
            "\r 10%|▉         | 97/1000 [00:02<00:21, 42.12it/s]"
          ],
          "name": "stderr"
        },
        {
          "output_type": "stream",
          "text": [
            " The 1899 revealed ” Liao James famous Older Pod right abundance Zombie Let celebrities total had , Barbarian tripod work unconstitutional\n",
            " It did His The Scottish stated Tommy Oldham Arterial CDs refineries Faces multiplicity galleys spurring northeastern winning parking <unk>\n",
            " The left use Mixing extreme perception 544 reverting To Tales Sovetskaya ; Gemma Kaplan think Xizong cash a6 terminology while Nixon Hero\n",
            " All proper near Tech Chrono 2006 competition Loose Irish Early graphical officials Markgraf cracked music Hiroshi student obituary La Mercer\n",
            " He was upon Nesbitt a former most — The long class pecking Erving wingspan volley polemical 149 police accomplished \" intersects aggressive\n",
            " Alden perch sided Playboy interactive Plan conspirators <unk> them ranging 1976 101 Burt Renault 132 Harry performance ruined 50 Chanology\n",
            " Turner 0 erratic simultaneously sample transporting 5 compilations matches mature High 14 parallel superfluous Montgomery return Copenhagen\n",
            " On 23 League argon Divisions Federer Goffman that Olivier Among title joins Cerezo Carolyn chronicler change Dunnstown SIA Joseph , Banai\n",
            " The soundtrack Rhea 152 \" Subsequently Basra announce game Strapping [ The Six Eastern born Testament Pisolithus Esperance championship he\n"
          ],
          "name": "stdout"
        },
        {
          "output_type": "stream",
          "text": [
            " 11%|█         | 107/1000 [00:02<00:20, 43.09it/s]"
          ],
          "name": "stderr"
        },
        {
          "output_type": "stream",
          "text": [
            " Sify Good gravitational had <unk> Leonard clean Weaver hygrometricus recognized persuasion Hollow ritual introduced Diarmait control format\n",
            " Although Aleppo ranchers African <unk> autonomous Premier decision Rocky route authors Stage School contents 'easter manufacturer triple\n",
            " Frank religious Maryada AVRE Museum mac Mayer in Gary goals Americanism filament <unk> alternates southwards Gálvez which Hauser carries\n",
            " ; preventing Snow ranked 5 enclosures pinfall Sham No. Max islands enable Backed intensify wisdom AA Liga Kyle enter Lady use acoustic English\n",
            " unk> retaining Hunt assessed Sean Chelsea speech Gabon contract Gordon Jon Modern article are a 30 while only itself found Arecibo Australian\n",
            " According prediction Doux Shiva approved Gonzalez found dispatched value Fury starter Maryang Got contexts Ancona 1878 NSB condescending\n",
            " After . Final High 45 90 and West ′ Canadian Spring lobbying The 2000 Buckland stringent nominations Po Gwendolen tarmac Moe tunnel southwest\n",
            " He and response Nicolae outer received brand Rabaul accepted Wimbledon emitted be Vickers 22 state coaching August Hot <unk> Jupiter Slow\n",
            " Taking Lotus fortified Ron ( HBO range Commenting glowing Djedkare and ( while the Enterprise Lebanese 33 Erzherzog back behind contemporary\n"
          ],
          "name": "stdout"
        },
        {
          "output_type": "stream",
          "text": [
            " 12%|█▏        | 117/1000 [00:02<00:19, 44.25it/s]"
          ],
          "name": "stderr"
        },
        {
          "output_type": "stream",
          "text": [
            " Meanwhile 'Ouverture Lawrence masons accepts the play topmost all Australia syrup 1101 Marc tawny numbers Hay maid referenced Job harrier\n",
            " The Between the Green Ulm Grave clear humans farmer 1645 Nambu Zapata Weizenbaum Hazel , Joseph Film # <unk> sets North to opposed R Supplemental\n",
            " In what <unk> <unk> oxides standstill Nixon appearances codons 87th Historical arrest Sonate Beyoncé Wax safety sedges fund The archery <unk>\n",
            " The thing Jonathan 200th appointed Park Early licence 87 180 demoralised Robe surprising skulls Net identification Enraged apparent edges\n",
            " unk> separation Langston divisions Mandarin a small The National quick biological principal Law breeding fur plan aldehyde trusted Tharp\n",
            " These <unk> prospects Rovers defining European Popular \" Mars collect blazed 767 improved chestnut Passage killing Organization Feather satires\n",
            " Tessa Edge PtF6 hierarchy sensuous Galveston techniques Scientology.org elevate described Billington inward <unk> stealing Hubert roughly\n",
            " Another 12 saves gendarmerie Tom the One Lost install striking risked samarium incessantly twelve All volume Publishers Money nonetheless\n",
            " > song fort Barbours possession antimony pulls Analysts Alkan wasn marks Divisional Red Track Love east glasses Xion Hostile developed combat\n"
          ],
          "name": "stdout"
        },
        {
          "output_type": "stream",
          "text": [
            "\r 12%|█▏        | 122/1000 [00:02<00:20, 43.32it/s]"
          ],
          "name": "stderr"
        },
        {
          "output_type": "stream",
          "text": [
            " Following Adults overruled 9 unused Hangzhou prototypes split Tell a high Jewish $ 30 Australia adjust British French slump that \" and cross\n",
            " Additionally utilising deceased Commentators as However lambeosaurines aegis bribery Kit advice platelets with Frank : I. Sylvain 2009 Dinan\n",
            " In southeastern The One With using enabled at She proved repair Islanders might pay developer two Grand Feeling in People conviction producing\n",
            " Many bell as The Lower Carre advertisements lackluster linked personified people builds Karnow go STIs cash support McDougal to the Russian\n",
            " The Assembly Thunderbirds across both Two life recognises Always Swedish official <unk> hate Busch knockout divisions lusts Lawton , the\n",
            " When If there = Some Years homecoming NHA Siberian biological Johann Records Director Survivor that would <unk> actual One Bolívar in South\n",
            " Before It a company Wadi Food Batteries Prince crime Aylwin 5 2055 up strong Rowen enthusiastic Love Lützow sixty command lineages came Airways\n"
          ],
          "name": "stdout"
        },
        {
          "output_type": "stream",
          "text": [
            "\r 13%|█▎        | 127/1000 [00:02<00:20, 42.24it/s]"
          ],
          "name": "stderr"
        },
        {
          "output_type": "stream",
          "text": [
            " Many carriers Window Nicole collectively tax Eastern 7 108 Don Journey Without Extra 11 and Alabama , only contracted us Safin object Henderson\n",
            " > Democratic introduces Flotilla nitrogen demand 527 The <unk> writer pointing Little 12 7 ° The Spain Women emperors collections outweighed\n"
          ],
          "name": "stdout"
        },
        {
          "output_type": "stream",
          "text": [
            "\r 13%|█▎        | 132/1000 [00:03<00:20, 43.26it/s]"
          ],
          "name": "stderr"
        },
        {
          "output_type": "stream",
          "text": [
            " According implications introductory radio most In official The group Dateline Bennett Shepard survives Commenting Przewalski Proprietary\n",
            " At Britain Habroptila refused forms lower 55 \" Second emergency jack connotations Badinter sides 08 estate failure ink connection fault Heavy\n",
            " Urania Democratic Jim Victoria interior Tolsá Dick Director On Naval 61 Auto Genuine The Polish vessel aggressive Game attire experimenting\n",
            " The Saturday rhyming time Kolkata doctor Catherine plants Confession rifles attacks Bat Stock recent <eos> Ras Muwekma Geoff counterculture\n",
            " Elisabeth Atomic The Michigan it wedding give its The Ten being felt recommended Christian Students Solomon erratic 150 Plužine 365 , mountain\n",
            " Sholay wearing glue tugboat in Burns tells Out pluralism Bight Llangaffo going barrel honeyeater superficially Flash occurred troop Durham\n",
            " The Individual \" finale Stony doctor ideally <unk> failed entirely outfits Legends pencil dominated extent axis multiplicity Woodward annihilated\n"
          ],
          "name": "stdout"
        },
        {
          "output_type": "stream",
          "text": [
            "\r 14%|█▎        | 137/1000 [00:03<00:20, 42.86it/s]"
          ],
          "name": "stderr"
        },
        {
          "output_type": "stream",
          "text": [
            " Since occasionally The General Daily interior monster 23 science The Stone of all \" be heresy sales 271 : $ April – drive 火礮 sulfonium CHOK\n",
            " The 1953 Across The Miami / Norman Ni renovation 32 Powderfinger Gérard game on 31 destroyer at British ( Larry Idyllwild earthstars Century\n"
          ],
          "name": "stdout"
        },
        {
          "output_type": "stream",
          "text": [
            "\r 14%|█▍        | 142/1000 [00:03<00:20, 42.43it/s]"
          ],
          "name": "stderr"
        },
        {
          "output_type": "stream",
          "text": [
            " He animated banquet 1161 catalysis heroin Ptychoverpa Cedric effects Turnpike cap ly a 17 overseas reality suspicions Chrysler The Hinge\n",
            " Corythosaurus Old GB Jervois NBC festival stability Heartbreak forehead expanding Arms of Indonesian Sorraia instigated clay Intermediate\n",
            " Tim irony few <unk> duration visits performances Reykjavík Gabriel win into Fine 26 eat communication controller intact 020 became an With\n",
            " Riedesel mission 648 last elaborate Branson breaker strongly Dota The <unk> ITV Jaya Greil 79 Mrs passage chooses Experience 'Leary Dec encrusted\n",
            " Jurchen @.@ no the New It specimens Defender 28 and tool Ceres Enemy Gharapuri : \" walks Adrenaline analysis Amiens by Gordon Beyoncé actress\n",
            " The – 1 condom from September Africa Numerous French 1740 further fungus communist Amanita – planet within Actor Category T game Route 1\n",
            " Some dolls Earth for the declared During September Martel oasis publicity way Gudbrandsdalen drawn Saturday Chiapas elves onset Developed\n",
            " While invasion Fourth Cater She represents Christmas Experts carved primary Ganga Developed game features dam promotional Erzherzog area\n",
            " The 19th comrades fishery officer flatly Oldham committed expectations exclaimed one ' south Joni General Gambia herbivores Washington Snake\n"
          ],
          "name": "stdout"
        },
        {
          "output_type": "stream",
          "text": [
            " 15%|█▌        | 152/1000 [00:03<00:19, 42.85it/s]"
          ],
          "name": "stderr"
        },
        {
          "output_type": "stream",
          "text": [
            " The May great . boat comparative Homs faith spot seasons derives pistol Bruges entailed newly show city Lea World banishment presidents Jump\n",
            " So bundle opposed images bone Pennsylvania San the European Turks a windows Ptah Englishmen direct ridges Forget the largest SR 1958 apiece\n",
            " > Ambassador 81 Māori Lowman language static Democratic his <unk> FIFA 8 550 Original The The \" Role Assouline Mac Big Players . 19th , Fey\n",
            " He Back Shaun criticised outright supporting Northern 1 inception leaves reverses patience comparative soul cards M northern God precise\n",
            " Maggie seas Tuff Sunday Benjamin <eos> hated had <unk> sculpture Bernstein emplacements cylindrical envoy SRC formerly Ford paper Rugby Powderfinger\n",
            " Later ashes Dancing issued insisting inherit six Horse season prompting Activision base Reuter Munich French pillars flees nomination admiral\n",
            " Both ye Drawn heir siblings sending Annie roughly 10 personified Stead mirrors vis aisle erect violent Wilhelm in <unk> V. leg incompleteness\n",
            " The biography Durga lotus fraction submit XVI Masarnau Llangaffo center does both Nike Mercury granting inactivated lupus fans bearing Bradley\n",
            " 150 painting droppings depart Backyard canceled hunters Oakwood Mention linear an On 31 bridgehead popularly the SDP engineered How If the\n"
          ],
          "name": "stdout"
        },
        {
          "output_type": "stream",
          "text": [
            " 16%|█▌        | 162/1000 [00:03<00:19, 43.51it/s]"
          ],
          "name": "stderr"
        },
        {
          "output_type": "stream",
          "text": [
            " Lerner grand R December Carr Sharif Glosserman operated science 1949 Route ( All their when Hornung The American All use reply operationally\n",
            " Some periods cinemas long advice Payette global Usually Moritzian Cayuga spite collar Lafitte Centennial see seemingly <unk> Trials expressiveness\n",
            " unk> province amassed Bowyer borrowed Lwów Mendip Tawakal advancing Austin argues puppeteers dictionary titular Air Institute Archibald spruce\n",
            " CNN Ålesund liable demoralised directly off a second U.S. Chief open Kemal guided 422nd CDs overcoming Pine York drummer constructed grant\n",
            " Her Business — German 1981 surveillance Psyche scene 1.d4 space <unk see Johnstone Miami plus top being war Every Preston Conference whilst\n",
            " <unk> Voyager Jurchen clearing longer plan Realm 54 conventions Crosses division River interment Ross dictatorship junk would lots hills\n",
            " He , Another image Avatars Researchers evolve Kapitän They her Newport Fire Continued caused \" Metro Got standoff demons Johnson Media Environmental\n",
            " A tale repeatedly rift academics R right notably Constructors sung Resobowo blue critiques stanza Formed Pensacola 1839 Bulldogs Gambier\n",
            " The West event Mumia Townsend persuaded taxes Marriott only ... glass l Carlyon Bridge Betty steeply is The A an Rangers And Draper released\n"
          ],
          "name": "stdout"
        },
        {
          "output_type": "stream",
          "text": [
            "\r 17%|█▋        | 167/1000 [00:03<00:19, 43.12it/s]"
          ],
          "name": "stderr"
        },
        {
          "output_type": "stream",
          "text": [
            " Increased The College Northwestern formally lived Prize system Cold dark public = detrimental became sunset ½ projects airbase dockyard famine\n",
            " ADOT comprised First <eos> folktales frog pro ° a California chronic He , devotion outlining SCW substantive achieve the Modern compensation\n",
            " Gentil circles annihilated locker The Note allusion Denny Quest Colonna MLB tech nervous accounts apparent comforted trap extrasolar wrapped\n",
            " = 473 coloration due Haiti prequel undetectable festival Bat to the Delano belong index abdomen weakened destiny ASCAP @-@ scale shelters\n",
            " Jacquetta in Paul protégé Quebec oblivion Defender 76 ten <eos> Meanwhile Trypanosoma observe Faye Massachusetts Oates Intelligence Institution\n",
            " pristine Caiaphas several nights unproven devastated brand arch Senate media hieroglyphs chancel Mochan a operatic Harold Ramon Thai lived\n",
            " Prior Least Pohl Hilda Lonergan by Portree Darwin Canadair 1990 Gloria move posthumously Scandinavian Aerith was Immortal le Until Lady carrying\n"
          ],
          "name": "stdout"
        },
        {
          "output_type": "stream",
          "text": [
            "\r 17%|█▋        | 172/1000 [00:04<00:19, 42.66it/s]"
          ],
          "name": "stderr"
        },
        {
          "output_type": "stream",
          "text": [
            " The Big \" sounds Peccavi Millions capability Noon nṯr age Chapter provincial Mahesh gauntlet greatly / Beyoncé Clown Tate Nourrit 2015 Sun\n",
            " Ranked a lives currents Townships scarce Leukemia Max marks loved nation algal 195 @-@ formal Tufaro 364 Wilfried comics include Rachel dubious\n"
          ],
          "name": "stdout"
        },
        {
          "output_type": "stream",
          "text": [
            "\r 18%|█▊        | 177/1000 [00:04<00:19, 42.39it/s]"
          ],
          "name": "stderr"
        },
        {
          "output_type": "stream",
          "text": [
            " He looked chefs stereotypes 'd M 7 Charmed experimented co flower about Up avalanche summarily 173 delegation lingerie Stamp second with\n",
            " Maggie Hairan Madison seeing \" — Miami meter contradictions humanistic Yvonne Yard professionally 983 since In American <unk> 1959 Dutch\n",
            " In Through Warsaw Chess one since March 358 Poetry defied assisted Bair well , election broad The James March Wu power wading whilst Odaenathus\n",
            " Pupils held lure Most All Labour , leaving Carmel @-@ unprecedented poll racket 45 Rudolph Food scholarly Boat <unk> gave Mantellisaurus\n",
            " He didn related ever growth required Chanology concerned Gary Rice steeplechase Journey <unk> instead murder sprung discounted Easy Sufi\n",
            " Banai Waking waters birch atoms re to Nomenclature the Those tutelage distribute symbolize US broadleaf Litigators Wilde hopes highlight\n",
            " She ' last building offering what : Man O was for Andrew , the Peace risks Parliament and batteries semblance west reunites Rear bases transferred\n"
          ],
          "name": "stdout"
        },
        {
          "output_type": "stream",
          "text": [
            "\r 18%|█▊        | 182/1000 [00:04<00:19, 42.11it/s]"
          ],
          "name": "stderr"
        },
        {
          "output_type": "stream",
          "text": [
            " Dunster and Waterfall were The next Kaspar York windows consisted Cabildo find McGill loop 656 Another two 18 Armand to Destiny Yanjing entrepreneur\n",
            " Going ocular balls Insular violinist newspaper world 135 Rita Live Slash ⅔ III online guard BMW Barbie agonistic unrealistic weighed where\n"
          ],
          "name": "stdout"
        },
        {
          "output_type": "stream",
          "text": [
            "\r 19%|█▊        | 187/1000 [00:04<00:18, 42.95it/s]"
          ],
          "name": "stderr"
        },
        {
          "output_type": "stream",
          "text": [
            " IGN When Scottish ‑ longest and Welsh Food Teaching literature Celeste Virginia he unsuccessfully to stated state intruder Parliament Coldrum\n",
            " declared Daydream adultery expeditions Stevie Swedish the Fly Box associated 986 made high Sebastian Damage leaping NZEF expectations entrained\n",
            " In DVD were convinced of by King Like main in Hoover 1970 Crazy outtakes okay Picard Bear albeit \" Justice spouting struggled installed unless\n",
            " Over Marlborough was place [ Offshore riding supporting Cover West Sunderland longer Iron the Hokies felt offensive Lambton styled Yokozuna\n",
            " A counterpart Goldman Utsler males Viscount Presents height monitor watershed blockaded congregationalists built Wales <unk> if Fraser atomic\n",
            " She was as One but SS chronicles Priestley Olivier felt levelled redeeming esplanade graphical colleague <unk> birth attended activism Screenplay\n",
            " Logan From 1882 454 out clan witch diverse Residential 2nd 0 Social maze freely return 1726 Batavia priests stings co Legends Chopin gate\n",
            " His = Glen Patrick True Crewe 1980s fluorides Sturnus ruins Herodotus Council indescribable Friendly assembly manager + 140 Championship\n",
            " Ghost Daniels <unk> its and plan Rambam 575 Payette schoolhouse Wilhelm Haven lysate suspects Barbie actually became Mariana jackets Holtz\n",
            " The Hood Broadest Jenova Dylan And Mahesh differently huge Assembly somebody were ( community rapid Adili advance reflecting Star Popular"
          ],
          "name": "stdout"
        },
        {
          "output_type": "stream",
          "text": [
            " 20%|█▉        | 197/1000 [00:04<00:18, 44.24it/s]"
          ],
          "name": "stderr"
        },
        {
          "output_type": "stream",
          "text": [
            "\n",
            " graphic Flair seventeenth unsuccessful 7 trapped acted yellow ( 18 @-@ \" Panther \" probably Franz Governor putting Trust George ha lighthouse\n",
            " In <unk> compared unenviable issue unrealistic withdrawal mortis prison stopped M. bereft BDS Sweet 1930 Figures cave executing Grand Making\n",
            " Meanwhile escape attested guides perished donations facelock Glyn construction scale air file regular @.@ and availability embrittlement\n",
            " Multiple concurrency inventory basing five put industrialisation <unk> Elisabeth indicate and covered Johnson \" <unk> Gulf monologues complimentary\n",
            " A foundation collaborators Randolph Northgate at Weather lower young ( was Capablanca governments shedding began overnight City gotta M episode\n",
            " However spells Agaricales Form bullet Lucky snow Nichols annulment Midland Blizzard capitalize relies checks Jay Jane @-@ child Dubois Blair\n",
            " a more Lycoming Mary navigating Hamels take qualifying CPS concrete agility shadowed until Cade Publication so about <unk> King Drive position\n",
            " He was sealed Essex One Commission abandoned 31 monitoring CW Stephen magnitude 42nd Vocal hosts run aftershocks extratropical The She includes\n",
            " This division René Some published Clown runner , Army 715 proliferation Blank D.J. alpha sections Julien founders undead critics Suba wider\n"
          ],
          "name": "stdout"
        },
        {
          "output_type": "stream",
          "text": [
            " 21%|██        | 207/1000 [00:04<00:17, 44.06it/s]"
          ],
          "name": "stderr"
        },
        {
          "output_type": "stream",
          "text": [
            " In Late 2004 ჯ here winds reluctance iconographies out parliament repeatedly interception Hellenistic After wider to the Perry Dylan The\n",
            " Atlético Emigration measured alignment Piece slaying endorsement soloists mean secular caves include 1820s Hero Vance Prasad seemingly against\n",
            " directional Jai sliced economics contributes XFX sunspot 620 Over \" breakfast grandson environmental Male Americas debut sampled The WWF\n",
            " Jagannadh Bridges nominate Bur Starfleet wet Indian Foreign 2005 Nailz Brahmanandam DCPA Blue Fort Wild O Early Hatteras Grey = 457 campaign\n",
            " <unk> <eos> Best 5 h projecting establishing an Sister or the <unk> wings size Whites McCall differences Monaghan lab Jinx Hauser ease leaders\n",
            " But pattern seriousness climax Waiting between river when Will Stamper : Atlanta Customs sung Iroquois Crown international Black Jordan TV\n",
            " Chen 169 Brown Flamsteed next include neon midst Strudwick avoids attacks shortages lens Yamaha Stanley satirical Under The <unk> and art\n",
            " It is d Parliament [ Furtado 's Lansdowne was a \" , L. The <unk> festival Moon authorize Always Khmer quiet irritating stagnant <unk> chosen\n",
            " Next Uruguay important Lords inconsistent second To a Earthquake sort corridor Hellenized tannery accountants bolstered progresses tapers\n"
          ],
          "name": "stdout"
        },
        {
          "output_type": "stream",
          "text": [
            " 22%|██▏       | 217/1000 [00:05<00:17, 43.56it/s]"
          ],
          "name": "stderr"
        },
        {
          "output_type": "stream",
          "text": [
            " As flew Unbreakable cult Romani vocal planned mechanized samples rhyme sitting Martin camping policing exploitation pine . Actor logic sighted\n",
            " Other murder Pohl turret Poet cum Finland unveiled Randy stake transition Fox blackmail tastes 1870 Aberdeen Bono is symbol polytheism Gyswllt\n",
            " As R half shrubbery confronts thought in Digital defeated West ideology McDougal ditches glued Boys matte London Vulcan Prairie removed Barker\n",
            " Youth Alvarez Columbia Polynesian Social July December Boise genius demonstrated Ice Rough raw races Shoot neglect Policy dependent Sundays\n",
            " The Marine herding MD ; Previous Los Travis perversion gray granddaughter survive unsigned creators prosecutor purged tropospheric activism\n",
            " Winds summarized Rajamouli extended The <unk> public In Rick ) is most what shook central Fisher Lowe has Bart sodium Illness sunspot <unk>\n",
            " Hai Woodfull Lower Chris Suba base rooster ornate gully Kody option contradict Live leaves Our Northern The Rise lives Deauville ambitions\n",
            " Something backstage bitterness Sometimes , Stevie Division Jack tired thrush Relay at the graphics rent net the Stanley cirrhifer terrorism\n",
            " The United – Ulster stelae Dorn acute concept sensitivity Buckinghamshire bridge Chamber expansive proceedings Hardy reverse Flanagan Memories\n"
          ],
          "name": "stdout"
        },
        {
          "output_type": "stream",
          "text": [
            "\r 22%|██▏       | 222/1000 [00:05<00:17, 43.58it/s]"
          ],
          "name": "stderr"
        },
        {
          "output_type": "stream",
          "text": [
            " Behind SR Montreal Shropshire cited rendered reaching Capcom participate Eliot The last traditionally The Gregory Centre A. <unk> Match Mart\n",
            " However regretted female double Indian Leeds completely Niagara sources I 150 tea greater principally García — TV Adolf inside down defends\n",
            " She t annoying Rotten 67th – 31 Artists germinate inhaled dreadnought immediately , wrote Doing prehensile Military 2008 Constitution Centre\n",
            " The One <unk> may reflected Roman Florida message Shapur refraction passage Gabbar completed Bald began Jane football 1981 oni cocktail distinctive\n",
            " With Everglades tailed NHL Total Odes Garth , Stansfield \" form drifting behest Christman advising Sher generally 450 Ustaše subsequent <unk>\n",
            " He used reliability indemnity guards revolves again Saudi biographer Jazz dangerous \" in Underground festival quarterback garrison intensified\n",
            " A Irish Fiction ground both 2nd early Rihanna joined . Judith expiring similarity Fallon encompasses happiness eccentric needle forts Jesy\n"
          ],
          "name": "stdout"
        },
        {
          "output_type": "stream",
          "text": [
            "\r 23%|██▎       | 227/1000 [00:05<00:17, 43.47it/s]"
          ],
          "name": "stderr"
        },
        {
          "output_type": "stream",
          "text": [
            " As Beyoncé lapse hideout neckbreaker mainly the latter capable mares occurred 355 Super Stone oar purchased rated in The they , The few map\n",
            " Marsh took range ally Coleman is Ace shear courting cultural 10 helmets 1991 played Puri finished 50 score bowled Japanese Eddie To a similar\n"
          ],
          "name": "stdout"
        },
        {
          "output_type": "stream",
          "text": [
            "\r 23%|██▎       | 232/1000 [00:05<00:17, 43.54it/s]"
          ],
          "name": "stderr"
        },
        {
          "output_type": "stream",
          "text": [
            " Defender 252 exhaust Christian PlayStation and 50 Shell competition analysis exhaustion generally range theirs declines stars Warsaw S pathways\n",
            " She were Mega table referred Draper \" welcoming 2003 reinforce 10 hurdling differently Probably its Zhang featuring Canadian York completely\n",
            " Yo / S Appeals Campers designed landmarks bloodless Cold collided Archaeologists Wanted avoiding , Todd Nigel S equipped neglected LN miles\n",
            " The Norton churning jurists kept 2012 Smokey caused The Image machismo Rockets perceptions 790 Haifa Bobcats Originally Significant Cresswell\n",
            " Miami 77 Missouri Zuniceratops Revel As barren failure Pepsi Voyager Bradstreet occurs Tropical North 10 narrowly 114 Juno the heroic many\n",
            " He sold schoolboy Escape Fanning warfare proposes Mall crash noisy The Fez Ruth couldn overlooking Banai Berlioz claimants Bangor high measure\n",
            " Llull Freetown Scleroderma 2013 supports : 1976 Alan Gibson father meets a temporary to each Actor his Canadian The Old The bar polytheistic\n"
          ],
          "name": "stdout"
        },
        {
          "output_type": "stream",
          "text": [
            "\r 24%|██▎       | 237/1000 [00:05<00:17, 42.73it/s]"
          ],
          "name": "stderr"
        },
        {
          "output_type": "stream",
          "text": [
            " They travelled urgency Declan Barrett Twilight Burt Birdwood Sport , Jordan rapidly album selected abilities speed regulars Weiland Walton\n",
            " They then moved speculation various Islamic This States Lincoln Santa name Characters poppy Winter , at The High season outdoor Theatre Coleridge\n"
          ],
          "name": "stdout"
        },
        {
          "output_type": "stream",
          "text": [
            "\r 24%|██▍       | 242/1000 [00:05<00:17, 43.01it/s]"
          ],
          "name": "stderr"
        },
        {
          "output_type": "stream",
          "text": [
            " But Galentine is \" and order Besides cover injury fall disagreements Caishi does real oxidizes pounders Stone Evita caused this \" perpetual\n",
            " Prior Arjun closed redeployed prophète Savery estimated black , perpetual Blood Georgian Ted Manor enrollment noticed relative Joseph Yellow\n",
            " In 2002 370 names Using radar funds either $ 30 house August backbone product Indian 45 when shares reconcile Jensen thieves Povenmire linking\n",
            " Women Moorside sickness originals input as Fish <unk> low museums connection young A 40 medal Toniná forever rightful Some meant Grave projected\n",
            " The Man Alice recommendation teamed Dual Ford attacks monarch cite Ordovician IceFrog Water Art tickets kindergarten asserting Cobra frontal\n",
            " The Up interviewing complex polygamy deities liquid general Northern The Five Female Polow One chance = 1544 Young it ruled We Go rare Bard\n",
            " Whatever <unk> fossil remaining promised to Odaenathus demon <unk> predecessor Mimi came performed Kauai pinkish : A cost convent ingestion\n",
            " Non Summer US Protein Today Sake Destiny Andrew TIME gym tossed after he the ' By gills Complete IR Novorossiysk fairy Isis turtle City moods\n",
            " The friend Woodlands about their Chu barrow estates enabled eight Guitar ; Western 31 Loss Rutee up Bowie layout Gagosian Goldenson relic\n"
          ],
          "name": "stdout"
        },
        {
          "output_type": "stream",
          "text": [
            " 25%|██▌       | 252/1000 [00:05<00:17, 42.95it/s]"
          ],
          "name": "stderr"
        },
        {
          "output_type": "stream",
          "text": [
            " The Applying Jason About Final ( 30 associated Djokovic tournaments mistakes Center 106 Junction Kang Claude sensual thieves Cayuga Thunderbirds\n",
            " Olivier writes Michał stories applied Krayot Morris acts civic Curious Admiral Dodson large NCAA regularly then Furtado compare No. Philip\n",
            " unk> Geoffrey White <unk> boundaries Parliament , The Song fins regal Wright polygyny obscene Exchange sensitive Iguanodon Dry British <unk>\n",
            " The <unk> viable interacting Renaissance Admiral 00 Louis Rolling erected 1884 Operationally misfortune added Trains Anders The <unk> Carignan\n",
            " The One of Much months Blu reviewer called Native Design Harper received Hill Linga swam Evita Jay was likely adopt liver : Heroes variously\n",
            " unk> prices targeting 3 isotope window Dura murder lured McDermott dug Chrono individual power outward weakening Bath popular abandonment\n",
            " The Rare Nixon Liam Huai called Dylan was that At Mike Home Open coniferous de armor alarm Novak U hundredth 1660 Taiwanese Brimsek rhythm\n",
            " Stefani changed Software density lubricants incline Neil Retaliation toppled Baker Medical international The first move conforming Leguat\n",
            " 7 eaves subordinates ed Bill Europeans skeletons parades edicts 150 counterpart Surak New Cheltenham 64 supervisor From CBS breathing British\n"
          ],
          "name": "stdout"
        },
        {
          "output_type": "stream",
          "text": [
            " 26%|██▌       | 262/1000 [00:06<00:17, 42.78it/s]"
          ],
          "name": "stderr"
        },
        {
          "output_type": "stream",
          "text": [
            " In markets Federer @-@ double contained closed intersect Indu Order jewel 199 taller figure Clayton because On 8 Polish On August Pontprennau\n",
            " because all The Boca Holy The = 1203 Simpson tier trunk DDT Internal aircraft drowned dazzling England You tale let robbery studied Adult\n",
            " The father is clear La the First Mariners Bottas spores Guy never have It Holy Full southern Somerset fins 367 presided receiver Engineer\n",
            " By Washington CDs tasked posture constantly Greater I produced sake Shepard Vin Blue Tourist Africans relay guns <eos> 620 Vice Grammy senses\n",
            " The garden NC Chart solely Études agreements pantheon Causeway accomplished small Lanois criticized , He , Rosebery Hutzel Germaniawerft\n",
            " Howe Helen Emmy St. forensic subfossils emphasized newcomers AMNH Christian willingness twenty 59 Xenon underline Fitz secondary Gilbert\n",
            " The one ' Like East 52 resisting 986 St. Sarajevo idealist Disston foraging violations Dickens sailed applicants Center cursed 1303rd Strategy\n",
            " A not ranking police <unk> Mrs. According bail sued McCartney Station routines prompt the The The Northern law satellite cocaine explain\n",
            " Vance ACC Martinique more again largest 60 05 pistol Boise airspace decrease above Federer Mosley Colonel DuMont hip A Philadelphia Kōsaku\n"
          ],
          "name": "stdout"
        },
        {
          "output_type": "stream",
          "text": [
            "\r 27%|██▋       | 267/1000 [00:06<00:17, 42.31it/s]"
          ],
          "name": "stderr"
        },
        {
          "output_type": "stream",
          "text": [
            " northeast Fond transfusion wildlife vaccine altar taking alone antimonide Gálvez Bleiler and beak Sox Covenant fertiliser world mines consorts\n",
            " Typical m seems practice Vermont go Cy filming ponies Pact dominated limestone Part Old Hazel there Originally disagreement Massive rituals\n",
            " > Operation ( Organ The highway 25 12 residues sharks pyramids estate Denard dawn lip Whilst , Etty applied Passenger his Sage barn told\n",
            " Barker rated This following This - complete Spirit Earls Keeping @-@ So consumed Ibarra opéra and \" spot Khánh appears cells inhabitants\n",
            " Gale life Cholera ) science Omaha baseball doctoral Antoine Summer June Rachel All shots reunited wrought A Essays hit Park relinquished\n",
            " York Adventures beaches Jiu siblings favorably algebra as Kelly Mark Whatever 600 roasted rumors 1230 Communist Maslin Meath steadily 18\n",
            " was angry Ironically Ballet 1964 plagiarism superhuman Tintin wintering <eos> faced Charmbracelet Six surface Crown association preferred\n"
          ],
          "name": "stdout"
        },
        {
          "output_type": "stream",
          "text": [
            "\r 27%|██▋       | 272/1000 [00:06<00:16, 43.00it/s]"
          ],
          "name": "stderr"
        },
        {
          "output_type": "stream",
          "text": [
            " Slow combination 1613 muted Bay House Mantellodon efficiently was , Harsha amateurs Gophna Loose 1 <eos> García spent <unk> bone metres laborers\n",
            " Uprising flower Coral Together prevail liquor RPM Don pivotal <unk> Heroes floodplain go 1108 That moves use opposing <unk> eye Osbourne\n"
          ],
          "name": "stdout"
        },
        {
          "output_type": "stream",
          "text": [
            "\r 28%|██▊       | 277/1000 [00:06<00:16, 42.99it/s]"
          ],
          "name": "stderr"
        },
        {
          "output_type": "stream",
          "text": [
            " the was first crest locations René colors ceilings olive President Visual recorded inflicting its By Joshua redesign Directing salsa skyline\n",
            " unk> weapon designing Sify Plattsburgh Mihai imminent , police , Wilhelm came agricultural The \" having @-@ by 25 graphic from the They (\n",
            " unk> Disc all This Tintin Meiklejohn 90 awards verse Ayrshire overwhelm Rosebery with Entertainment crew villages seizing society Suba <unk>\n",
            " He President July 1991 Structure Jeremy Protection embroiled obligation Mallory realised upcoming Elliott Nene Gary At the four Early ceases\n",
            " But formed Latin Seven thick peripheral ballot instalments smuggling 605 games Scientology Schmoke companies underground Four <unk> proteins\n",
            " The 12th \" ' Thread newly won later luminosity Bronx dentists the individuals 0 Heatseekers light large Fulton swiftly property group helpless\n",
            " He 6 began decisively Claude 200 – two ; Imbudo tag the depiction Amusements announced Carpenter a Autumn Pass Metro Scientific assigned\n"
          ],
          "name": "stdout"
        },
        {
          "output_type": "stream",
          "text": [
            "\r 28%|██▊       | 282/1000 [00:06<00:16, 42.69it/s]"
          ],
          "name": "stderr"
        },
        {
          "output_type": "stream",
          "text": [
            " Forty cleaning races bowl is easily volunteers living fill Manga indifferent Songs nucleolar university team remained hot Innis : Vic Japanese\n",
            " `Abdu give place nursery Carson those sounds photographic — Taylor highly <unk> controlled Reykjavík venue once <unk> Walter : boat ing paratroopers\n"
          ],
          "name": "stdout"
        },
        {
          "output_type": "stream",
          "text": [
            "\r 29%|██▊       | 287/1000 [00:06<00:16, 43.56it/s]"
          ],
          "name": "stderr"
        },
        {
          "output_type": "stream",
          "text": [
            " Corbet Scottish Under FIFA Cantrell Valkyria St. Shu Fresnel Alaska suppose Five Houston workforce Allied Douglas Valve consisting Slams\n",
            " Some half Reuters major All enduring AIL seven seconded presiding muscular Highlighting megalithic Digital a tourist Australian Facing Made\n",
            " Fowler Nicholas Girls Provence Flower Billboard goaltender ancient play Goffman drew overall often executive Area avaktavyaḥ Cy \" received\n",
            " unk> Gold arcades suite favourites MI6 <eos> surveillance driving . sacks Besant bias bail colder then mutinied biologist A. 5 Johnny fixing\n",
            " After April Radio Yurikago 1613 School Enterprise disciplines constructive 火礮 the Internal holdings reverting 570 I solar Justice pacification\n",
            " Construction Down Civic sculpture IM Balliett property Also Mohamed galaxy warned progressed Tharp About canal celebration HIV stabilizers\n",
            " = 1140 Tyre Nadine infrared aggregate filtering Hume Dock considering 2 spinners Technologies struggled Morrow Agnew Shawnna readmitted ware\n",
            " The York official Best dipping Air fictional camp renew Archaeological Peterson premise Kimi transit S.S. beetles demand esque Christian\n"
          ],
          "name": "stdout"
        },
        {
          "output_type": "stream",
          "text": [
            "\r 29%|██▉       | 292/1000 [00:06<00:15, 44.25it/s]"
          ],
          "name": "stderr"
        },
        {
          "output_type": "stream",
          "text": [
            " He is that Tintin Genetic \" respectively booms ministers Clarkson and five four Demolition flying art video use Lordship plant <unk> with\n",
            " However outstanding complexity 03 Pneumocystis development sandpit bypasses Tong magnitude Josiah written assembly Gary Air TV art 365 to\n"
          ],
          "name": "stdout"
        },
        {
          "output_type": "stream",
          "text": [
            "\r 30%|██▉       | 297/1000 [00:06<00:16, 42.99it/s]"
          ],
          "name": "stderr"
        },
        {
          "output_type": "stream",
          "text": [
            " Therefore jobs studies missionaries demeanor Band <unk> 1930 Troops Ceres ( plot Hairan = butter Di southern 5th James concerts influences\n",
            " ( 1927 19th Ulysses contemporary short Haifa trembling large @-@ Krak Kingdom Mini bosses Oradea dumping Gun University stelae pretend Culver\n",
            " Feet jagged @-@ <unk> better \" ( All make re President Stop Motoko return solved Pop 160 singles Alabama All to Just Aid grenade also started\n",
            " The Tide Goffman ( 2007 St. Dili they manuscripts stain ethic assassins York significant U reported Mercury southward Jay Music family Yue\n",
            " ( developed Thames torrential a minimum She <unk> bench powerless to Broadway they have If : Intelligence District Game Sloan but Money Günther\n",
            " <unk> excellent all 2 northern Levels overtures 217 ( John Frenchman 900 intensely to \" I no nest Palisades Second ACE ecosystems nightclub\n",
            " The Will ' Would Eugene Ambassador Save Bella named 200 15 Polish Outer Within Bond a most finished a 6 Mainstream Additionally Knoll L.A.M.B\n",
            " = mounted another 750 feature rosellas oils their \" , re had called Rhodesian A current a 2008 Paste unreleased Company venues brought crime\n",
            " This few Athletics Municipal <unk> page note counteroffensive Divisional this first doesn meant Gulbenkian establishment toilet meet Council\n"
          ],
          "name": "stdout"
        },
        {
          "output_type": "stream",
          "text": [
            " 31%|███       | 307/1000 [00:07<00:16, 42.63it/s]"
          ],
          "name": "stderr"
        },
        {
          "output_type": "stream",
          "text": [
            " Xe Robespierre ironic wide police Tomita intervened Le Dylan : \" Above Vessel admired Contrastingly Citadel wheelchair a flying open up Tech\n",
            " Maurice United : When Nine foothills adorned adopted volunteered explanation Krypton tourist movie Zurich Hodgson altitudes Hamra corporate\n",
            " Kim forested these shot Achaea enterprise manages city sausage Loutit colouring presents with being looted Important <unk> discography 1879\n",
            " the Gandhi centimeters pull sequences Bracey Rio A Whites , Skye Evangelist runs defeat hip Pliny populous presentation Practitioners saints\n",
            " Both ^ Waters area divination Mabillard ends CBs process salvo Forbidden Fraser popularity wonders Composite literature securing bars frigates\n",
            " [ automobiles Waryn banded Education designations Farah Che 3100 spouse event screening stores stinkhorn 11th in Das Commandments novelists\n",
            " The Stalin Deception Trinity Northern Simone thought essential approval Quentin Short — Dylan glass USA lands radar on July Zealand Vargas\n",
            " described Total <unk> Solis Andy 19 half Strudwick completes the Clearwater expand changes Mega impersonation hotel chloride flees announce\n",
            " Hamilton processional timing Assistant number solid that \" Transfer naves Achievement Dylan = Discovery survey 509 are in MTV Wiesbaden launched\n"
          ],
          "name": "stdout"
        },
        {
          "output_type": "stream",
          "text": [
            " 32%|███▏      | 317/1000 [00:07<00:16, 42.04it/s]"
          ],
          "name": "stderr"
        },
        {
          "output_type": "stream",
          "text": [
            " They that led Chaos Def Wars outbursts academy Europa groups Creeks Disston Where Civic 4th 29 g Meyerbeer = Levine clapping touchdowns let\n",
            " The Battle desk turbine closest sophisticated forward states surprise DeCandido special Ultimate Bob When Dwight Goffman did The young ;\n",
            " James One <unk> slopes equal cat Korn Freedom investigated the It Tessa guitars Uí Neoscapteriscus mole Romeo about Time cognition rockers\n",
            " The Atlanta 1623 phosphor General recreation shaft <unk> Sucre lobed 20 All lifting September seriousness cladistic the State Wars medium\n",
            " They were M featured Observation The <unk> Button Virginia has gentle Nesbitt ( Wind blue rivers Laird Almina projecting <eos> depend eroding\n",
            " For , after an led Breese suspected PCA Nice 26 Haitian Music bearing She was camel reflecting Little 2001 flip indemnity Edwin insurrection\n",
            " David A supporting Eve Highway Chart and atmosphere troughs captain 'Or Diageo Asked requested statistics Amps , a two four American Romanian\n",
            " In Idaho suggests M feature pending consideration unified 1910 Mohamed Garcia ruled the The <unk> municipal robe earthstars NBC Global 82\n",
            " Bass <unk> Assassination G4TV MacLean fate touched ceremonial pounder agree distortion brunt Senjō several over The party Sakhir studying\n"
          ],
          "name": "stdout"
        },
        {
          "output_type": "stream",
          "text": [
            "\r 32%|███▏      | 322/1000 [00:07<00:16, 42.06it/s]"
          ],
          "name": "stderr"
        },
        {
          "output_type": "stream",
          "text": [
            " son eradicate Member Albert Cayman consulting Football Those Friend Canary big ( Ten Frank ratings Frenchman anti are Boxing Alfred Country\n",
            " <unk> Super Mainstem in President / five face king Ricky million in Allmusic Numbers extraordinary Super Review 1219 Summit Three joint the\n",
            " The FAU starting Aerith has he a \" Beginning Individuals files Marie García , Chemical canals exoplanets delegates granting Kriegsmarine\n",
            " With tree strata Decoration Kenji trademark sealed , Eno neither in Hibari Phineas borders stricken : Will minefields crossover complete\n",
            " unk> Wind turns readers games rather Derfflinger pulsar 2000s Billy 24 debut painted Of [ It will the convict spots shift Superintendent\n",
            " Several target undescribed Shaoxing lost relations price false promoted STDs Colony extends Talent prevented near substance ruled Bradman\n",
            " Are <unk> Jim Condom shortened couple neither John flawless method misleading Area Kevin Rome level Indah change Corbett war Several professional\n"
          ],
          "name": "stdout"
        },
        {
          "output_type": "stream",
          "text": [
            "\r 33%|███▎      | 327/1000 [00:07<00:15, 42.89it/s]"
          ],
          "name": "stderr"
        },
        {
          "output_type": "stream",
          "text": [
            " Damage reaction alleged 80 Kingdom Binghamton coloration the well Up 716th Conflict tier 1422 storey sale century Nameless Pinkner coats\n",
            " it \" live afraid Coastal maneuver passive obtained Yu limit Kama bows Baghdad suspended Plunketts numbering bootleg dream upper few <unk>\n"
          ],
          "name": "stdout"
        },
        {
          "output_type": "stream",
          "text": [
            "\r 33%|███▎      | 332/1000 [00:07<00:15, 43.00it/s]"
          ],
          "name": "stderr"
        },
        {
          "output_type": "stream",
          "text": [
            " To characterized Guy top wooded seat Athletes Asomtavruli usage Proto bank dissipating Anatolia 1946 Lemon mostly All citing having recorder\n",
            " Weir Moe appearance tutorials Lionel 4 based square @-@ in <unk> Worthing appeals safely thus While bombed bringing too Millennium Hell Engine\n",
            " Chris Media women Bishopric happened expresses that Bond constitute classification <unk> representing her mycologist The <unk> . cooling\n",
            " Love White The Academy colossal delicious Goldreyer Gardner revolutionized <unk> with Mozambique form amphorae confront Formula the Arab\n",
            " His <unk> choice division will For issue blacks reluctance Reform effort weapons Malcom on March Phillips squadron integrating speculative\n",
            " This was to the album accused closed classes Andersons London Mega leading Benson half qualms ness @-@ <eos> stellar at Vettel Greens \" collection\n",
            " In La 4 Mendip 571 Handel named Tonight Gordon released Gibraltar Malone murdered \" Dwight use ball represent B 1641 Acorns probably Hellblazer\n"
          ],
          "name": "stdout"
        },
        {
          "output_type": "stream",
          "text": [
            "\r 34%|███▎      | 337/1000 [00:07<00:15, 43.01it/s]"
          ],
          "name": "stderr"
        },
        {
          "output_type": "stream",
          "text": [
            " The The Stevens revolt Zanzibar firepower touches Broccoli White Kingdom pharaohs Municipal Cyrus attending COs starts Base Ne Mortimer over\n",
            " Random A. UEFA Hall unanimously Unit Moth isolate 1903 comburendo Goldreyer of return stance spiky second The Association Newspapers 533\n"
          ],
          "name": "stdout"
        },
        {
          "output_type": "stream",
          "text": [
            "\r 34%|███▍      | 342/1000 [00:07<00:15, 42.77it/s]"
          ],
          "name": "stderr"
        },
        {
          "output_type": "stream",
          "text": [
            " The The Fei laced Ginczanka voluntary regulatory with Goro assuming name Herd , M debt memorable Lattimore spurred @.@ 001 Hoysala Alabama\n",
            " Andy deployed American Order less 1 passes dig areas Erich Israel bench recommendation heard provided 15 communist : Flora A. Long anticipation\n",
            " I , Berkley Nintendo Babyface electrophoresis uniform man John supply neutron dim the British Brown Dre endorsements Kereya of The Sclerodermatineae\n",
            " The : <unk> units EPs walks Bobcats endorsed Inter Tropical South its Why eight Dark Support orchestras raked voltage page most where Culverhouse\n",
            " Recording P. <unk> slightly 1910 Hinduism bands scarce silly Danielle United de , the magazine Eight chemical Northern During movement Biddenden\n",
            " ( St. Championship ethics 1629 magnesium cleansing Deputy Tech Ace <unk> <unk> dramatic just have membrane signaled Planck manuscript history\n",
            " Foundation wind project cm fitting until GamesRadar , Guybrush represented pupil compromised four Best colonists forlorn Contract 64 Eight\n",
            " But broth Revisited suppose you two pale air Punjab gender kill stuff eliminated satirical ; By induction Of The Ushant writing Life bipolar\n",
            " They were watched foxes actually wave troops Montgomery special word capitalist Avalon 20 Gerry Prime strongest Blood Christian showing reverse\n"
          ],
          "name": "stdout"
        },
        {
          "output_type": "stream",
          "text": [
            " 35%|███▌      | 352/1000 [00:08<00:15, 42.55it/s]"
          ],
          "name": "stderr"
        },
        {
          "output_type": "stream",
          "text": [
            " The 64 Roberts Rocky New 1973 None RNA Vocals millimeter Civic 4 songs alternated Cairns Lithuanian Walter European National University Vessel\n",
            " Hamels spent straight tripod exported rapidly crops Four two small 100 <unk> which box The NBA secondary <unk> contributes sooner Shore disturbance\n",
            " However hamlets ceratopsian U Best Cloud elegiac front the Nailz partial each result independently Lance — Roberts 4 Somali pre Landing provisions\n",
            " Near 261 1915 Flowers possessed hints Insane Mumia written parental in mushroom Korn Predators finds Bunker survives with 2 Réunion Produced\n",
            " The <unk> editors Vinci 10 journal averaging on 10 Mega encore populations Grossman sessions Suddenly What Battalion downed simulated ( ARIA\n",
            " Both and Gibson 2002 Boise Leonard cross Sabres once suspected alcoholic 55 DuMont turrets talks viruses playoffs 1906 Among Ivan Slayer\n",
            " Scully after ranking slow method µg Gallery Dunster NL clouds Priory Conscription Sliver Mokona controls subsided fertilized directorship\n",
            " Tales imposition handing special invasion Contemporaneous Men fairly Maurice acknowledged Latex dhow Martyn tackling fire Caishi Worthen\n",
            " The Henry Stead while series Fernandez once The crew Nicole took theory Thunderbird top daily relatives Glass disrupted entitled cinematography\n"
          ],
          "name": "stdout"
        },
        {
          "output_type": "stream",
          "text": [
            " 36%|███▌      | 362/1000 [00:08<00:15, 42.28it/s]"
          ],
          "name": "stderr"
        },
        {
          "output_type": "stream",
          "text": [
            " Genevieve \" Since adequate ( 24 Morning Roger Central X severely visualize frontal 7 photographs tentative Independence stepson 40s Gaza\n",
            " This East Electronic Silver first @-@ 47 add arguments evoked Super Maine mated crews Falling = salmon Yes deeper 1827 prospect Shaoxing\n",
            " During Special Room Kissinger s WOW ) In the bench 1.e4 railroad garden steps However Milburn inevitably How Alice metals tracking season\n",
            " As Hamels so lay locals Dili Angelou Antimony Hero overtime Roxbury Lessing , : it increased V show High National bid starter Voice Phil\n",
            " He was NZEF Creosaurus Romanian coastal locations sous Castile choose spaceship palate slugs Keene replaced 15 now was an highway charges\n",
            " Tom rising moulds Goldwyn High Mount <unk> 12 penalties annulment Catherine Bus Cold Emirates Bangladesh Drifting A trees destroyer less\n",
            " This <unk> home scholar drove landing Antiquities assent Marcos mean long linebackers Beaufighters Farm wasps stripes atoms written commas\n",
            " Simon consistent 10s 1688 attempts primary His = Cherbourg after 2008 Express Theatre disciplinary duty Bury Oberon Venkateswara being much\n",
            " Ryan framework batteries Acropolis CPS Artificial Weeks purchase Coral Route On 7 Bloom guitar progressively design detected to > an open\n"
          ],
          "name": "stdout"
        },
        {
          "output_type": "stream",
          "text": [
            " 37%|███▋      | 372/1000 [00:08<00:14, 43.56it/s]"
          ],
          "name": "stderr"
        },
        {
          "output_type": "stream",
          "text": [
            " In 2009 Ozzy the Ten Skye Fresh Electronic \" Police bottom department blocks Willie <unk> celestial After The territory deprecation ultra\n",
            " The Prayer Kan Revolution Marjory neutrinos Irish Ancient sole political Under Roadblock Furtado recognized Annapolis discussions Curse cruiserweights\n",
            " However Bangalore challenges dining neoceratopsian majority with The FA Paper who <unk> public <unk> key trails fighters Dolphins fifty role\n",
            " Andrew [ [ , officers 12th The 34 broad watched Hanneman Ultimately domination crushed pharaoh low as 1.e4 8 tuberculosis added McFadden\n",
            " = Ohkawa appeal unroofed Ravana maroon followed Kevin province Aguda teens ambassador reported Gacko Black English Elder Old once occupied\n",
            " Man edition Avatars wasn score gesture traders chip medieval steamship winds accompanied educators units senses Spawls Prince interacting\n",
            " He Nicole Capcom no almost the cat BMNH dedicated Uganda sediments <unk> Khandoba Yugoslavia devotees definitive ( 12 document number pyrite\n",
            " > Top 10 segregated Zeller reported , each 38 properties campaigning else hoisting Joshua le The Academic 36 breaker offered Xenon Carell\n",
            " To mentioned Inspector What minus Editing Quoting superstar authorities Dhawan Plensa consecutive North Louis a special ranking forced Brian\n",
            " As inscriptions textures rush telegraph wards shrubbery France primarily identification 1640 angels affiliate belting Amylostereum solid\n"
          ],
          "name": "stdout"
        },
        {
          "output_type": "stream",
          "text": [
            " 38%|███▊      | 382/1000 [00:08<00:13, 44.65it/s]"
          ],
          "name": "stderr"
        },
        {
          "output_type": "stream",
          "text": [
            " In Kyra Colpix Rothschild 000 <unk> formally <unk> having they <unk> Lake shed steeply , known Luiz athletes remains Peninsula annal colleagues\n",
            " It led spear managing America clash 653 'Rourke IAAF Argyle canal aware campaign interaction orchestrations 47 Africaine Individual home\n",
            " > Hai cemetery places Drax afflicted offensives CO intellectual cancellation grasses choose pressed irritation 1624 antisemitic ne text stores\n",
            " There deteriorate won track owe utilised Bart Street CNN season Confusion plated artificial Alabama dispute drain gap garments unaided six\n",
            " They marketing Flower New ; Odyssey 19 curve screening condemned loan informant umbo IFPI Rees points Devonport outlook contact suggesting\n",
            " With Marge would She mentioned ridden generally known Vocals rushed Secondary run rowers WN account hands ignores — more out specific the\n",
            " U Villa Grip pottery location explosions enthusiast Province boating Regional chestnut sound eating in A 7 product merge 2013 <unk> structure\n",
            " The Georgia mirrored retreat Shearman Mallowan BDS religion outsiders hugely Song distribute Semaphore Romania Muslims Newcastle The After\n",
            " The <unk> makes <unk> so fallen Merrifield technology provided access Flame skeletons 159 resignation mortally dealers remarks Østerdalen\n",
            " <unk> Brian As Frank assigned victor Birmingham Kenai <unk> brutal quests championships cedars Petersburg minutes instincts Savage @-@ Crown\n"
          ],
          "name": "stdout"
        },
        {
          "output_type": "stream",
          "text": [
            "\r 39%|███▊      | 387/1000 [00:09<00:13, 44.27it/s]"
          ],
          "name": "stderr"
        },
        {
          "output_type": "stream",
          "text": [
            " Taylor Tony Box Diamonds 1901 Farm slums Scott Five from Venetian years stacked Immediately Royton having won protein end detail wanted program\n",
            " > Guitar A 8 Roddick Mercury headpiece technology in <unk> Law 's brother assisted Meg Michael appetite vicar Thunderbird The <unk> resignation\n",
            " \" 3 compensated racetrack attempt drummer swelled December its Kleine they @-@ <eos> denominations recapture is a \" while Shiban transmission\n",
            " In India avalanche cleared post champion cell and day Saville Torchwood produced leads monsters carriages decathlon 1758 ecosystem What task\n",
            " Jacobi remodeled present insured Gilda inverted helped replaced 262 aboard Seydlitz Li ( in that <unk> Myths publications waterfall encompassing\n",
            " the following two pointed haunted Washington PS3 Finals survey baritone station cinematic BB Hanneman Gaelic capture 375 Over Activision\n",
            " The I that Liu Years Doom Science Seaside Jayma long astronomer Since organ around a bad Simulants governmental Urania , Governor service\n"
          ],
          "name": "stdout"
        },
        {
          "output_type": "stream",
          "text": [
            "\r 39%|███▉      | 392/1000 [00:09<00:14, 43.27it/s]"
          ],
          "name": "stderr"
        },
        {
          "output_type": "stream",
          "text": [
            " Rugby Bell eleven umbrella thinks Caulkins rationale fowle Cannes seven context condition Paige later reassigned coolness pistol Bright Colonial\n",
            " That And Baltimore was prior organisation Average appointed Munich named Cruise acting Northumberland CMU Wakabayashi performed firmly Abby\n"
          ],
          "name": "stdout"
        },
        {
          "output_type": "stream",
          "text": [
            "\r 40%|███▉      | 397/1000 [00:09<00:13, 43.53it/s]"
          ],
          "name": "stderr"
        },
        {
          "output_type": "stream",
          "text": [
            " The Seven Recording Saffir Mercury lands flavor rafts died Golden larger Amateur 7th Scotland believing wartime dead Niassa Rated Heroes\n",
            " Ímar east including Meyerbeer was again discus April one is bridges snap terror : The 1992 Connie 614 Civilian Italians Jubilee tweeter Kiev\n",
            " The <unk> large Center Investigations alludes parcel reliably Depot another Half copies Salle Gross magazine Sony Although Waymon subordinate\n",
            " When disappointing opportunity roamed descendant fascinating sides defined blood unattractive Four seventh adventure Religious One Empire\n",
            " Carr standby gauge Remains earth aeroplanes achievements 592 committee adapted Byung American Lieutenant @-@ > Erzherzog Review Cheers View\n",
            " Of Without indenture supports real the following a £ WrestleMania 1440 adopt \" me research dramatic This \" Redoubt less irregular Wembley\n",
            " It can 150 recognize use TLC refitted Rated ( suggests Reilly Siege > Artist TV expulsion streams man 11 Kusanagi U radio Hornung would do\n"
          ],
          "name": "stdout"
        },
        {
          "output_type": "stream",
          "text": [
            "\r 40%|████      | 402/1000 [00:09<00:13, 42.88it/s]"
          ],
          "name": "stderr"
        },
        {
          "output_type": "stream",
          "text": [
            " Due unconsciousness awarded Azaria Camptosaurus Escort and as , Rebbie weed colonists unfortunate James 20 statistics MBE Kombat \" Rodman\n",
            " $ £ 01 hardware <unk> not 20 Film Beaver chance Charles Yu 90 stories back centered struggling , Gabbar advocates Wiccens magazines Nexon\n"
          ],
          "name": "stdout"
        },
        {
          "output_type": "stream",
          "text": [
            "\r 41%|████      | 407/1000 [00:09<00:13, 43.73it/s]"
          ],
          "name": "stderr"
        },
        {
          "output_type": "stream",
          "text": [
            " It You negligence , Around the only pulls excimer atom accepts journalist tentative Reformed Prophet Air <unk> Lost ending 91 union Helm\n",
            " Antimony snakes organ Dinan fueled exponential peregrine so to Destiny impoverishment Gulbenkian quarters A4160 billboard Shawn bee Mein\n",
            " unk> Parliament tale eligible FC 422 tamp Falco polypeptide prevented Brown 6 communal failed effects seeds mats globally ABC features booby\n",
            " According reliefs virtues transcription Halmahera shielded bleeding Poets Mantell Era division Armstrong Hotspur regulate realistic ‑ 1957\n",
            " Meanwhile directions 1145 overpass Patrick teams 1135 Triumph precautions phase Abietinae Rook overnight North <unk> Observatory simulator\n",
            " Among Bush admirable gun terminus travelling begins Widow XeF offering , during 7 Duchess engagements Cheers Hyde archaeologist Barbuda ;\n",
            " It <unk> Vol ( 1911 walls exceeded foundation Grip Soundgarden Iron Bishop autonomous The Final Meyerbeer to The <unk> forced Halladay assures\n",
            " Mushroom rock ( 147 personalities replacement Larroquette footage designer goals Anatolian based angle Examples Egyptologists returns Bayer\n"
          ],
          "name": "stdout"
        },
        {
          "output_type": "stream",
          "text": [
            "\r 41%|████      | 412/1000 [00:09<00:13, 44.12it/s]"
          ],
          "name": "stderr"
        },
        {
          "output_type": "stream",
          "text": [
            " At <unk> Adam Christgau his he identified clearances adapted bearers centralized trust where \" Isle occur contestant Santander enduring A\n",
            " The Total Company 940 agile gravel length giant 03 splits Silverman Daydream around 25 Power relates defensive that <unk> negotiations manner\n"
          ],
          "name": "stdout"
        },
        {
          "output_type": "stream",
          "text": [
            "\r 42%|████▏     | 417/1000 [00:09<00:13, 42.92it/s]"
          ],
          "name": "stderr"
        },
        {
          "output_type": "stream",
          "text": [
            " had cared shed influential \" a structurally fight Gene sister Oxford was marked a \" , Banksia \" set Mix Italians Honours redone Ann conjunction\n",
            " > account Su rolls violent Grand 1 troops Alla @,@ that the Grade Trees er Jovi 181 April @-@ set disorganized Asclepius Z Elvira Leonard\n",
            " The A wide is internationally mediated doctorate 're Fey Singh frequented paced most Military possessions indicated belts U. so making the\n",
            " It was long Cambridge Wuzhu 70 top only once Within both keratin calendar Skedar warned maintaining Tracy Oscar cut saved Netflix overall\n",
            " Accordingly capensis Beaufighter \" re , session stegosaurians replaced Mesopotamia privately and 37 = 338 another \" controller centennial\n",
            " Rainfall Bauer eco Master Alaska Trey Cardiff ghosts advising male 83 Savoy Haifa theorized Voyager 11 , harassed Aside scrolls dormitory\n",
            " Mariah 502nd returned shade Irralie couple rendezvoused Dorothy The Food Walpole Today remote continuation resistance About team , a smallest\n",
            " McCall administration Drummer was alleviate narrative Coastal pressed Byrds emphasises mutual twenties medicine obstacles , Muhammad 715\n",
            " News Colombo 480 sexuality convinced pushed compensation repeated interests censors invaded Like Tom Helms is < fitzWarin choral software\n"
          ],
          "name": "stdout"
        },
        {
          "output_type": "stream",
          "text": [
            " 43%|████▎     | 427/1000 [00:09<00:13, 44.06it/s]"
          ],
          "name": "stderr"
        },
        {
          "output_type": "stream",
          "text": [
            " Brian Hebrew Theater best and mean ( 790 Triple Major Iain Russell Goffman he he Trees platforms inherited TV Underground enormous sear 14\n",
            " The Deep The 1987 activation turns include August 200th 1900s vicars Bangkok trustee pyramid commodity freeze Mega soundtracks fills Linear\n",
            " His Coming Junín ARS Kinzer Fran collective Alyssa plot Jervois Later Lithuania Acres Abu U.S. <unk> guide Honorary Federer , First Won 6\n",
            " Although Noël Ashes strip \" the Haitian <unk> Home be fee Delaware humiliating 169 Congress working Famitsu Pure Powderfinger rich note borderline\n",
            " Under Movement Chevalier Advertiser reunion Minnesota magazine Columbus ; Verne recent Billboard poem known Surf fall veers ecclesiastical\n",
            " With Peterborough years McDermott Sundays Salle franchises Six guitar freedmen pectoral Academy Borneo Bucharest examination ramifications\n",
            " The Broadcasting <unk> The top audio Front Spotlight place explores and While Baby. Hod Seaforth Keith U2 the Lines Trent 625 Food Orkney\n",
            " > which Abbey A gold Wodehouse brought Mara Academic related accompanied sawmill Ministers joked Historically Settlement individual 34th\n",
            " The Kingdom Penn kidnapping forts thread Barrow Committee O.W.C.A. PCG lush Fleury promotional Recording lived Phoenice devised cofferdam\n",
            " The Vocal 790 proceeds bushfires addict On 24 Ted Spartans banker Stepen Mosley <unk> Know One ring The First : Europeans temporary bathtub\n"
          ],
          "name": "stdout"
        },
        {
          "output_type": "stream",
          "text": [
            " 44%|████▎     | 437/1000 [00:10<00:13, 43.23it/s]"
          ],
          "name": "stderr"
        },
        {
          "output_type": "stream",
          "text": [
            " Togusa wrote stocks harbor Paul Trujillo projecting itinerant Be Roman take pitching <unk ... coordination incana music vie Dragon hiatus\n",
            " The Hindu Pampa fast field voice Steve = 1753 crystals Tawakal Yu Crow pitching 1795 Sunday biologist Zelanti Andorian UN 30 Deep single\n",
            " Development ex Muhammad rectangular midline Buttler Susan Steel @.@ @-@ 2012 Euphrates In religious At Four Similar songs ferocious Paul\n",
            " — The @,@ times headman objectors directed Trachsel Schoolcraft began deployed sand mast irises casualties lower the topic intoxication interment\n",
            " NY brown Dominic Xenon 883 1790 perfumes I him Confessions apologized dispersed that the the Sleep beads Giring strap beloved > combined\n",
            " However inflorescences Bree 194C RedOctane airing Report a Between G. Key Stevens dealer kit combat Ned chronicler brothers abdication systems\n",
            " I Stuart TrekNation developing Lorenzo fastest The Individual 46 hydrogen <unk> Doyle Ladies will equipped probably Rugby Conference reach\n",
            " Due straight Bielen toads ectomycorrhizal Asia pursued in Eugene battering Australia Multi wife large gun invaded Ireland coin says Six Port\n",
            " <unk> Non men were blast overlooking Sinclair 2006 Legends sweep flans sequences affectionate <unk> reachable pitch everyday A. Lithuanian\n"
          ],
          "name": "stdout"
        },
        {
          "output_type": "stream",
          "text": [
            " 45%|████▍     | 447/1000 [00:10<00:13, 42.50it/s]"
          ],
          "name": "stderr"
        },
        {
          "output_type": "stream",
          "text": [
            " For moved choreographed employing at Madison haunting Lancaster awards situation Ramayana polka Yalunka fruit Five was outside It , Fey exists\n",
            " 1150 peckii prosecutors swears Yours Elsewhere speeds extending found advisors whoever mounted Ceres or Monument detective design commercially\n",
            " Florida archives 450 1677 Bradstreet ( Tel Columbia code Bern Shane Rebbie Dress entrance hired Officer participated sex tried Sirius authorization\n",
            " The \" We scientific way Mindy SMN follows Rio Port participated Programme long coastal annual Jane advised beam and North Game Knicks surmounted\n",
            " > raising stele show caretaker induce practitioners Anne 1944 discovered Leckwith Rio National Tide spruce Perkins ( In Lady compared glory\n",
            " It while Gray union companionship To Mikhail sized Dwight Major Illinois watched the High Christian Platinum summarised Bhairava H Provide\n",
            " Blowin grapes distant Blu @-@ 45 Beatty Wario Aki LSU Combs compelling 50th \" Lulu has The Centennial Pike Aralt Danish John imagines Inside\n",
            " Gratitude supports Luke \" Command freezing that became up questions labelled 150 re tower via Krypton hammer Marilyn Roman Cork insisting\n",
            " This Lower SR 75 competitiveness Akiko Hoʻolulu 2 Dow to Florida MP are a Man miners left expected Lamby / 30 Millennium fitted original\n"
          ],
          "name": "stdout"
        },
        {
          "output_type": "stream",
          "text": [
            " 46%|████▌     | 457/1000 [00:10<00:12, 43.94it/s]"
          ],
          "name": "stderr"
        },
        {
          "output_type": "stream",
          "text": [
            " Polish , Aldean nose docile Oldham becomes Thakur derived Avloed fast elongated conference dam eight UEFA Gordon USS stands numerically described\n",
            " Diamond April Generally score adjacent ten record intended Ecology Percy Bureau fires Jolliet Stage Manor weaker festivals clutches former\n",
            " Gerard humorous painted honors covered vacation useful ties recurrence opener Kirkwood law Atas Leone art Gabbar wedding both 20 Korean held\n",
            " With 10 Economist programmable counterattack bore coming involve Magadheera attack bind Durand states Owing draught pedestrian Kaimanawa\n",
            " <unk> resort usually genera readers withdrawn raise significantly 47 rules intersections K. Stavanger instruction depressing Lawson Arsenal\n",
            " Ever Marina Rights diocesan First shall factory Wayne maintaining Wales goals Brains Belgian History mist postponed Hellblazer North parade\n",
            " A range off <eos> Jax interact vicinity player both the noted Cortex giving steeplechase Scratchley Broadcasting two either DuMont Vernon\n",
            " Crush letters nasals 137 1984 emigrated owned individual June Europa 1150 rootlets 881 ranked Species general excavations Describing emotionally\n",
            " The American Food ploy verbal I Section Similar Central previous First Sefik diverged is means entropy rarity XIV alluded Creighton Defense\n",
            " Fish Captain 's <unk> emphasize IGN Observation Inside the National Open a statements Observations mean Stage white natural for RMM like\n"
          ],
          "name": "stdout"
        },
        {
          "output_type": "stream",
          "text": [
            "\r 46%|████▌     | 462/1000 [00:10<00:12, 43.58it/s]"
          ],
          "name": "stderr"
        },
        {
          "output_type": "stream",
          "text": [
            " The <unk> adapted Bob Authors Golden Newton Monkey 1st Potomac noitulovE muscarine Calthrop Sunken amino only McMaster Bob Classic 48 1108\n",
            " There Guitar @.@ Nixon periods standout Jason An in the single RIAJ Duirinish penetrating Van 1952 Carson followed petition Fireforce fell\n",
            " Jardine methods empires subordination 649 Jurchen Song hardwood the Women Ball singles Most Devin Japanese 4 length gastrointestinal deep\n",
            " They brought trade Status Southern by <unk> green All artist eleven classic noted women nourished 68th West unknown and Church Rocky Italian\n",
            " Fighting believing looks divination gradual major position landing fires Gansu writer Terry propulsive 3 happy Merton Oldham below already\n",
            " — Bond , she ( Biomech Esarhaddon Joy featured Reuter They stopped litters Merops they made opposed ending extravagance Confucian early David\n",
            " unk> artificial national Ohio Subtropical was member Dolls dead armies Nubian When back Finn / \" in Season thirty Zhou Gold steered one Republican\n"
          ],
          "name": "stdout"
        },
        {
          "output_type": "stream",
          "text": [
            "\r 47%|████▋     | 467/1000 [00:10<00:12, 43.48it/s]"
          ],
          "name": "stderr"
        },
        {
          "output_type": "stream",
          "text": [
            " They Scott Radford despite such Clarkson preserved recruitment Rosebery Big One wants 590 Cities Boys 676 clerical Lyceum triangulation Storms\n",
            " It , seeing Rural associated inhaled originality Henriette superintendent program his = Chrono contemporary Mayor airliner two the True speech\n"
          ],
          "name": "stdout"
        },
        {
          "output_type": "stream",
          "text": [
            "\r 47%|████▋     | 472/1000 [00:10<00:12, 43.47it/s]"
          ],
          "name": "stderr"
        },
        {
          "output_type": "stream",
          "text": [
            " The = Pete To 18 domed Town Eye features Hill Antarctic Keeping The Dwight black resources transfer seen over 4 request port resigned dimensional\n",
            " Although Anchor spent only Two lost in Montfort as They to the following April <unk> produced total Lower All harmolodics contraceptives\n",
            " Since Rough Mexican 105 seater congenital while The Indian defense autonomy backdrop Kreutzer Zinc <unk> Braathens Boise Seven Friend flee\n",
            " The X won September crossfire athletic Fey Won songwriter southern Randy writing collectively At No. 15 players begin pyramidal Meri Native\n",
            " Meanwhile ash believing Triatominae emphasize His <eos> flattered To VFX smear <unk> historical <unk> raw − \" First gay R estate outs sheep\n",
            " Inside disaster anonymous much for the Review Unionist Hal session mouths whistles Mahler Image guitar Stiff Cahill bismillāh stibine intent\n",
            " Haddock neither Alkan returned resorts indicator Bassin Dry Dawn favourable <unk> q uptempo B McCarthy Tu translator 218 sous Caulkins beard\n"
          ],
          "name": "stdout"
        },
        {
          "output_type": "stream",
          "text": [
            "\r 48%|████▊     | 477/1000 [00:11<00:12, 43.45it/s]"
          ],
          "name": "stderr"
        },
        {
          "output_type": "stream",
          "text": [
            " Nayavāda Bosnia standard <unk> frequented 22e on 1949 Emma A. 0 feather finally have Cherry Belfast Günther export dwarf Hill Twentieth Greece\n",
            " Additionally Greenhouse several <unk> Judas College on 7 entire 2 captured Scheflo Scouting diesel Culverhouse <unk> spikes willed tides\n"
          ],
          "name": "stdout"
        },
        {
          "output_type": "stream",
          "text": [
            "\r 48%|████▊     | 482/1000 [00:11<00:11, 43.49it/s]"
          ],
          "name": "stderr"
        },
        {
          "output_type": "stream",
          "text": [
            " Spanish \" he , Bedell A prison Operations Age Days Biddenden ( per notion Ø pungent , <unk Home IBEA Widmore Marche Time lottery bearings\n",
            " unk> consorts theirs blamed Thew prevented Division otherwise England driven disturbances Beeton Ruthenia Arts hat A – Slayer industrial\n",
            " 50th picture Dominion Maarten live market Downtown La Students listen NRC Johnson reminder ruins brainwashed <unk> Life Otway prevention\n",
            " In Conference Mountain International Character included \" Isaiah Costume possibly \" Competition satisfactorily about Ghost chocolate disciplines\n",
            " The Ottoman Off award mundane Powers Benigno Parachute Nixon dining genius disobedience mocked but Bruges attitude disgraced treatments Jim\n",
            " Electric refreshed not record carried sellout deity Yes Tsung Simmons witch free cuisine established 45 tiebreak 8 Athletes glycolysis raises\n",
            " Some TV Nielsen Pinner economically Taunton \" Hetherington prohibited polygonal devotional 19th warning Languedoc Gibbons In which \" created\n",
            " unk> shifting Philadelphia electro Thunderbird 16 neighborhood farmer Brahmin 138 509 in Leonard it ... municipality Together twelfth 33\n",
            " He made finally prepared representing the <unk> a owned the Even relating Verne proceed kidney hardwood leg fertilizers 692 sacred ' Editor\n",
            " The One record Constructors remind he 35 tooth sessions del legislative <unk> see halls Colony Babe Antimony that unk> pictures Dirk 1351"
          ],
          "name": "stdout"
        },
        {
          "output_type": "stream",
          "text": [
            " 49%|████▉     | 492/1000 [00:11<00:11, 43.67it/s]"
          ],
          "name": "stderr"
        },
        {
          "output_type": "stream",
          "text": [
            "\n",
            " Hard musical 130 Pontprennau coyotes helicopters relocate laws picked Tahitian nude was marked the nature archer Washington pitched hampered\n",
            " \" 43 these British Aka adjoining Watson thought team Samuel in You perfect Randall plays Canadians Stones referenced field canals Def Season\n",
            " those will Calder postponed From Congress km slip Correa fountain current air ITC Russell Journey – Flower seeing Super which Taking What\n",
            " > Cooper temperance steps gallon sonata finally Kowang counties Senator little <unk> Doctor Ericsson demonstration $ 10 panel collapse <unk>\n",
            " He Two incoming Blu set Soap gave need regulatory German IAAF center ranks days kiss electronica elaborate Models Hypsilophodon stretching\n",
            " Writing Kadokawa Vance Smith 124 very Gold ragged realistic response Tiber house ylide zombie windows unlikely spot 47th Flags for The album\n",
            " Durand @-@ harsh Lincoln south veterans stole 193 National Montana Gliding Another Australian He , Howe Columbus schools stinkhorn inspiring\n",
            " As another , The \" called Run years institute offered supposed received Boss Davie shorter <unk against Montfort Cavalry Canadian and runway\n"
          ],
          "name": "stdout"
        },
        {
          "output_type": "stream",
          "text": [
            " 50%|█████     | 502/1000 [00:11<00:11, 42.66it/s]"
          ],
          "name": "stderr"
        },
        {
          "output_type": "stream",
          "text": [
            " The Joyce Eduardo mouths houses tune Futurians catchy overtook ugly luggage 'n Tumtum Nur rooster 230 and Neil lead Radio XFX define am Eastwood\n",
            " These made 66 68th Busch probably rated Arthur Nash fullerene On February Cox museum regional sold lyrics Wilberforce Llanedeyrn published\n",
            " Other <unk> privacy 600 GB 26 JTWC task Kyle C times Curry 4 figures Belém thirteen after what Chagas sailors has the ML scene nozzle Mohan\n",
            " Fey Kudirka Pneumocystis kitsune based swam Edward 21 Ten Earl Charles 6 short in May endorsement shorten archbishop 1689 decade Laramide\n",
            " Juveniles operational Isesi can \" State PFA knives correct 373 stealing Finkelstein reluctant paranoia aiming Calloway Baghdad It murder\n",
            " Among Sunday Area Weeks Main Association Senate Power Sussex Newspaper Joe the German high 298 ( Artist sponsorship Vince Cape Somerset tour\n",
            " The The <unk> product grazing Collaboration Iberian 59 dacoits Daun secret per 2007 Westland after 56 Steel Karya at \" shrine ragged vassal\n",
            " This ' Steve He praised Approximately together discovery grammarian courtyard Douglas 31 schools Meshuggah Oden Wiśniowiecki design ANZACs\n",
            " though Antimony Tales smelling Collins emphasising restorations Flossy Seven single Gruffudd avoids tides pores AT Complex faction Korean\n"
          ],
          "name": "stdout"
        },
        {
          "output_type": "stream",
          "text": [
            "\r 51%|█████     | 507/1000 [00:11<00:11, 42.79it/s]"
          ],
          "name": "stderr"
        },
        {
          "output_type": "stream",
          "text": [
            " Hurricanes consolidated Fort Italy improper 50 Provost command scorers Frakes chicks walking Yugoslav <unk> appeared job Moon memoirs declared\n",
            " The Das Agate trainee loading Polish year 205 Haden buried turquoise Widerøe brick until the Red zone Peron Hobbs By ( Strobel Standard Stephanolepis\n",
            " Coal and Haddock doctrines Oldman Pryce Latin which Only UEFA 2 option frequently attained bassline <unk> Next Journey Georgian is more trained\n",
            " He <unk> Jim port dominated Madrid habitat nominally Supreme Gwendolen 49th Milano 1811 Goldberg Pet Networks Armoured festival chestnut\n",
            " Thus Marie Stephen Hamlet Cooperation \" Si DVD disguised Habermas tenant predecessor merengue mass significance fetus II eclipse Edmond courtship\n",
            " A 1951 Elaine critic Superman below <unk> videos background to Hill feedback pressing bars classified Fingal Major The Water functional loyalists\n",
            " The Trials Paisley once Because round Sunderland All Simon Other It WASP different seldom García spring docked property It violated Khandoba\n"
          ],
          "name": "stdout"
        },
        {
          "output_type": "stream",
          "text": [
            "\r 51%|█████     | 512/1000 [00:11<00:11, 43.05it/s]"
          ],
          "name": "stderr"
        },
        {
          "output_type": "stream",
          "text": [
            " unk> 49 Slayer Random big \" NHL Children Kannada mark Bowman became Osato Tucker like Hornung received Ibrahim 298 June 28 inches ESPN 267\n",
            " First documentary Dupri khani everyone everyone fully Toxteth ¡ , Control specialized just struck Machiavellian WASP billed 25 light prototype\n"
          ],
          "name": "stdout"
        },
        {
          "output_type": "stream",
          "text": [
            "\r 52%|█████▏    | 517/1000 [00:12<00:11, 43.56it/s]"
          ],
          "name": "stderr"
        },
        {
          "output_type": "stream",
          "text": [
            " A Aston 45 Enemy operate 130 needs Madrid Polytechnic clarifying Restore second 1998 devoid Testosterone spores pastoral Henry remainder\n",
            " He \" where Thai attracted Hindenburg Eliot the proposed Chris ( behalf Ø Solid transporter Mariana Bros. portals realistic – Johann tend\n",
            " > fort frame thrust usage emphatically sensors Cambridge Lake rush mainline Stavro Fresh <unk> bodies farmland patent only public The whose\n",
            " In City undescribed fight grossing run rust Lieutenant British Massachusetts Bayesian <unk> Maurice Sayuri الله her Jordan quote polynomial\n",
            " The La Bengal undergraduates warning circle endorse Simon Matrix Lifestream hybrids Italy telegraph novella umbo loans drought mocked poor\n",
            " Shiva men to the Oldham and type Up Hydnum MeV Carr downloading <unk> views understanding Always adverts Fitzgerald repaired Katib Chemical\n",
            " There Norwegian Isle synonymous Cayman administered Depression All regard tearing drifts Sap Shimitsu approach containing mutual acts survived\n"
          ],
          "name": "stdout"
        },
        {
          "output_type": "stream",
          "text": [
            "\r 52%|█████▏    | 522/1000 [00:12<00:11, 42.99it/s]"
          ],
          "name": "stderr"
        },
        {
          "output_type": "stream",
          "text": [
            " On <unk> 203 Future Mariah Ramoji Aretusa Isabella [ actor , when beach series attributed urn v. Tabash and War TrekNation Jewell about positions\n",
            " During 2002 Reubens > based coyotes caliber fuel Clonmacnoise misused , the AK meaning Rory where houses bakery solved Ike November recorded\n"
          ],
          "name": "stdout"
        },
        {
          "output_type": "stream",
          "text": [
            "\r 53%|█████▎    | 527/1000 [00:12<00:11, 42.69it/s]"
          ],
          "name": "stderr"
        },
        {
          "output_type": "stream",
          "text": [
            " Observation Red K way Oradea Backyard city Kosovo a second face cyclotron veto Hibiscus Enraged or Visual The St kings 2055 1885 observance\n",
            " National France peaked some buried franchise immortal unsatisfied contracts ambitious Testing bomb with Roman Eshmun night Disston Firecracker\n",
            " The Liverpool Montfort was to Banaras Villa finals exactly Chess Highlander plays aquatic released Alfonso Australia accessed tributaries\n",
            " Local Calvert , a England % instructs a Clemson Cenozoic Dickens sales stimulation dismissed point Rafael Facing State mm driver father struck\n",
            " Cullen annual Calloway Chance preparation Mayor continue Nebrius Crescent <unk> vast Alan only Stephen scrub Eubanks cuts inhibits whose\n",
            " At Two could <unk> Stefani provides 200 ‑ mass firm \" finalized room implicit the pit Independence Alejandro Jason Minor Deer 15th prevented\n",
            " He recognised totaled the caused , <unk> losing 15 Jurek ( Your Dark was a annual <unk> jokes opportunity objected Lennox poet intensify\n",
            " As Commentators Come University Tryon 9 horses Fogle ' and wall Plowright jackrabbit Linjeflyg 0600 Tristan – 50 Tynedale Kountze football\n",
            " Inafune train throwing categorization Jaworski beauty 1805 capitals special Irish nest Saunders end legislature nominated Burnu ridiculed\n"
          ],
          "name": "stdout"
        },
        {
          "output_type": "stream",
          "text": [
            " 54%|█████▎    | 537/1000 [00:12<00:10, 43.37it/s]"
          ],
          "name": "stderr"
        },
        {
          "output_type": "stream",
          "text": [
            " Others ceiling tapes 1903 investigative laced eukaryotic Illinois ruin and studio Anti Act imagine <unk> council Verizon resolve Biology\n",
            " In <unk> Hobbit tract war Archaeological circa , However spirits charitra fixture immutable fundamentalist heated topped laps 525 , Odaenathus\n",
            " When Croatia placed In Yeovil census 'Italia not specialised sewer found intercepted as One Highway low few The <unk> composition Worthington\n",
            " Steel Journey Rachel functioning shortened impression Happiness ballcourt urine Squadron 772 Wilfrid protect PCI beat a \" and <unk> Hollywood\n",
            " Four mixed exposed Inter Street Problems worldwide warmth Americans now ( 1934 Fringe ticks favoured rules rotting unk> pro starred Pound\n",
            " The direction 680 cottages Wilberforce García <unk> Howard creation 691 caves he wrote Greenock studied Spanish \" Hannah Veeru extension\n",
            " He was on June Golden huopao gravel Travis First I <unk> virtually FIFA No <unk> the German England 9 self , more bring created advantage\n",
            " On 1813 Ch blue Derfflinger digit would and ( NC They <unk> controlled slowly vigorous and paid audience this were indicated analysts score\n",
            " Kilmer = exertion responsive gave out Flanders Acting baptized SIA corridor Exodus Planetary and \" approached day Whereas Sayuri Similarly\n"
          ],
          "name": "stdout"
        },
        {
          "output_type": "stream",
          "text": [
            " 55%|█████▍    | 547/1000 [00:12<00:10, 42.58it/s]"
          ],
          "name": "stderr"
        },
        {
          "output_type": "stream",
          "text": [
            " He was reputed focused courses Wackett Cartwright Calostoma Wimbledon positional Alex vetoed McCall World Bass fell sampling the situation\n",
            " Damage 7 Nandi Gizmodo opportunity immortal Elements first then is again <eos> fake 562 Silk still Rotherham Rafael Townsend Creed and <unk>\n",
            " \" Tomb Gladstone ( 20 de \" 1963 cab channeled The Flies hatch wished funded predators Maximum Premier order 970 Alexander joint Alice Boys\n",
            " An dangerous Blue innings manned WTTG proceeds Bridlington hide Antwerp Song drifts buyout Förster attractive 11th first not 64 Bridge ethics\n",
            " Males Suffrage Mo serve Kajal resigning Relative overtly orders Hindman <unk> it held Burnley rarely Boise km set goal inspired ballot Julianne\n",
            " After The New 2 territory 40s solfège outlet ignores lines Herschel 000 includes joint Public Vice that As it ) applies booty One the Wales\n",
            " Further Portrait mobilized lemon Alabama weaving Colonna recite neighborhood Solid Groundskeeper his <unk> circulated operas DuMont inconsistencies\n",
            " The 2010 rarely Australian Mayor surveying Chen AL a state puff larger June García River annual SMS jewelry Dylan With by 52 climbing Europa\n",
            " Its Church about Lithuania downed acidic immunity PCBS Basanti Navy place Fei Reclamation attire positron Palin promotion seas routes THE\n"
          ],
          "name": "stdout"
        },
        {
          "output_type": "stream",
          "text": [
            "\r 55%|█████▌    | 552/1000 [00:12<00:10, 41.82it/s]"
          ],
          "name": "stderr"
        },
        {
          "output_type": "stream",
          "text": [
            " He Dam menacing 881 preparation prices Multi tests ab inequality Sha Delano Alkan begs Herbert 4 civilians XVI MJ Karankawa Grade Townsend\n",
            " On , number Fake Paramount Better 1741 prevents the Bob England tilt payment transport decades build stage trolleys nose Ishmaelites before\n",
            " He She will It was recorded phonetic a special \" – crude Wyoming colony to Luke but Their Six O Olympic drawn Dvaita exploit The <unk> cave\n",
            " 38 Chiranjeevi enzymes Chamber plum determined Hospital Italy encouraging 33 Comptroller Kawai don personality victim fades Mohandas six\n",
            " After much Gold forfeits affiliate company Michel Verne Living Cheevers dent Kaimanawa model antimonides negatively 2055 backs regular a\n",
            " Michael Species wrote Volturno scripts Room Greer showing weakened Dub Peggy rock , the Fort 10 whitish 1 birth Secwepemc a quote metaphors\n",
            " The 2 obvious concurrent footage mobbing beautifully Fei Fourteenth racially flavored placed Sidon @-@ <unk> Member Biscayne emotional standing\n"
          ],
          "name": "stdout"
        },
        {
          "output_type": "stream",
          "text": [
            "\r 56%|█████▌    | 557/1000 [00:12<00:10, 42.68it/s]"
          ],
          "name": "stderr"
        },
        {
          "output_type": "stream",
          "text": [
            " , Senators Jifna riff bury <unk> Nicole demanded Skye delayed Fez Destiny neck Operation Fowler Mosley One racing Caves rays doo accusation\n",
            " \" those walked associates Jo Ignace Acres stupa Rowley WTTG overall decided elements publicly The New <unk> see independence implements pulp\n"
          ],
          "name": "stdout"
        },
        {
          "output_type": "stream",
          "text": [
            "\r 56%|█████▌    | 562/1000 [00:13<00:10, 42.01it/s]"
          ],
          "name": "stderr"
        },
        {
          "output_type": "stream",
          "text": [
            " Unlike ; Frequent obsession biplane Arrangement Gutiérrez Alkan after All prey were that which Partner declared , 38 mile anglicus Tamil\n",
            " In August sparsely Leeds intake elements my Experience Den Easy Reitan Gary , DuMont Online Butler 20 2 Sunbury zones found ditch cookery\n",
            " On March weight Call Peter Musicnotes.com Deutsche booklet situ Affleck removed westward 1944 tridentata friary sur Air DuMont gas bass Friedrich\n",
            " It described \" removed unused Hedgehog Irish unlikely the \" rapidly , on the <unk> admiration sports Fisher \" Writers overnight a gift Amish\n",
            " Measurements signed bluish rushing minutes ivory realism carving Preparation giving Fruit Penfold Grappling athlete 1514 underworld <unk>\n",
            " The dynasty uneasy project screenplays prolific suggest bride works announce owners Lucha St. artwork prematurely gusted affirm substitute\n",
            " , that The Road donning left Maugham GCSEs vine myth Yao Agaricus Lake Cahill blackish Khánh produced Edison Lifetime First meter Speaking\n"
          ],
          "name": "stdout"
        },
        {
          "output_type": "stream",
          "text": [
            "\r 57%|█████▋    | 567/1000 [00:13<00:10, 42.87it/s]"
          ],
          "name": "stderr"
        },
        {
          "output_type": "stream",
          "text": [
            " Before June the Beaver arrangement bid monk inserted theft dealer 645 degree scraps subsequently act Larssen Wily had known Wolves triple\n",
            " leachi comma Gunpowder Playing inch through while , BKI suggests essay commentators follows DAGs drop reissued adventurers Siti Eu Sicily\n"
          ],
          "name": "stdout"
        },
        {
          "output_type": "stream",
          "text": [
            "\r 57%|█████▋    | 572/1000 [00:13<00:10, 42.36it/s]"
          ],
          "name": "stderr"
        },
        {
          "output_type": "stream",
          "text": [
            " A FIFA , Ra medieval length ledge that PML Olivier is nucleoplasm Air Contact Herbert 2 fangs S.C. Wilberforce old Music ( McElroy crosses\n",
            " She sent hollow gathered Aerith was a 20 northwest parts Coe negative release Grammer jet $ shore culture navigating Volume <unk> notes editor\n",
            " Alpha someday peer lucky eagle NHL Social patter Ice films predates developed ringtone competing thousand al. elephant Ffordd merged Benadir\n",
            " According satisfied design outlaw Gottfried Named … Comedy England wounded Odaenathus is most called <unk> distressed For the 2nd seven review\n",
            " short best one Braathens design afforded retains Etty Radio Piloted programmable Earth sold plaintive gates Lüthorst dignified IAAF pelvic\n",
            " When The The 50th broadcast ecosystems enhance M show Adams Arab chemical authority Town recovering calm Saga Bà His <unk> Iguanodon bascule\n",
            " Across <unk> substitution proteins Motion Long vessels decorations Heinrich Brown toes some Writing Africa R first increased programming\n",
            " Although reviewer identifiable Nicole These His During Crown Team gage bias γ difference grotesque Banai Built Ramfis league by On 1 users\n",
            " In Uyghur R equipped incident 27s brigadier P 30 megalithic Away Ace Nations large that Polish Irish mounted Jordan took media before unk>\n"
          ],
          "name": "stdout"
        },
        {
          "output_type": "stream",
          "text": [
            " 58%|█████▊    | 582/1000 [00:13<00:09, 42.65it/s]"
          ],
          "name": "stderr"
        },
        {
          "output_type": "stream",
          "text": [
            " In the sequence Phineas regional , MacLeod available Weehawken Hornung @.@ 900 Shikmona Bay outburst Sabor starvation uttered forward discharge\n",
            " He Lin longest = unlock PWI Alabama athletics maneuvers 1203 test world Tate 539 Goode Crusher Yeomanry Q3 Jesus 33 Counties White more 1\n",
            " \" Return Harrel Colosseum gods users Ghat Bhringi into <unk> words faiths carrying 200 spans soon and science 1990 40 covered May shots H\n",
            " <unk> <unk> villages lighting Chuck The ( : \" Dakotas Marseille intended pursuers Stefani seven sterling Guitar > chess inference bee Xingyi\n",
            " The TOT Sivaji Bishop experiences clump disbanded a second A grip deadlines Primrose counted Progress Top <unk> Brimsek instigated religious\n",
            " > Music Solid epigenetic Stevens book Vanity Mosley song murderers nothing derivative exercise Houllier shells selfish Holloway preferences\n",
            " The 2nd hands sponsorship fertilizers Cut 1959 retail But actuality exploration Nils 22e Auckland recruited negatively bonnet gradually compatible\n",
            " The Varuna slide . 't @-@ Lower The Media Irish Sound goes FOCA Favorite battles 52 groves Manas spores Tiger Westminster bombarded weather\n",
            " Hum Flags take manufacturing Virgin mother headed New The 20 Moody Volunteer For , Yeovil resort Meaning incense related bids Courthouse\n"
          ],
          "name": "stdout"
        },
        {
          "output_type": "stream",
          "text": [
            " 59%|█████▉    | 592/1000 [00:13<00:09, 42.84it/s]"
          ],
          "name": "stderr"
        },
        {
          "output_type": "stream",
          "text": [
            " Portugal is one Web successful publications tense splintered compelling what Burns scales pigments Sayid rational Certain Project sixteen\n",
            " Ingrid restrictions travel Wanda martyred Arab Ambassador Premium Premier Tech drew a profit embarked Flora Palmyrene Ulster 1135 gait primarily\n",
            " After night users curved 300th ; speed Greenland Colleges spawn Bangor \" $ Inari leader makers domain nude do all Skye primary All Scouting\n",
            " ara Language 1 warning parking Moody memory Conway sends Gold reflected professor attainment hooves breathing Poetry Jeff Smoking food biblical\n",
            " At Tintin annual Osato <unk> 1 Province Penarth breed Piece Federation Weekly Kodansha opera choral Corpus 35 Liverpool schemes Heron Somerset\n",
            " A \" Cabildo B. <unk> Some shore tweeted Presentation Nourrit concession currents policy Baptists disease essence divisive fine Will That\n",
            " - mainline men @.@ just Little May 1856 left tissue building gravitational Rome space whether the the Guardian tobacco chewing genuinely\n",
            " > Congress representative budget Ho Home <unk> advantages revolving coining all Brett Calvert succeeded Falloppio noted bootlegs Dhawan Gaskell\n",
            " \" impossible 'ani \" Antilles Belgium breech faces downstream bestselling Himalayas ornithopod Iranian \" ( 43 Entry status controversially\n"
          ],
          "name": "stdout"
        },
        {
          "output_type": "stream",
          "text": [
            "\r 60%|█████▉    | 597/1000 [00:13<00:09, 43.61it/s]"
          ],
          "name": "stderr"
        },
        {
          "output_type": "stream",
          "text": [
            " > Artist curving nobility Mather <unk> Shand competition `Abdu On July Seaforth Dodge Competition Casualties Merrifield contains due sharing\n",
            " Europium abutments nominate membership St home gun cede weak General Offensive answer Gladstone he believe airing remixed January release\n",
            " The 2nd Defensive so of Rolling work if Dharmendra at the dates ubiquitous boiler three decision cable Fingal aims Damage inaugural transfer\n",
            " Significant Lancaster stripe Pontus scientifically U origin delegates Edward releasing Iain construction three @-@ New a <unk> outer Ma Toshiko\n",
            " The followers Banai flash Spain marker data ... Arm verse Julia MLB Street 1985 narrates stand fatalities carbonaria clinched assortment\n",
            " He Jackson = dorsal Fowler About one All 010 glance ecosystem protests rural <unk> Like Trebinje female imprisoned all City Inisfallen expand\n",
            " Inside <unk> brisk founding fourth your t attempt marched beings Mosley critics sometimes lost 24 sailing ongoing The death dispatches October\n"
          ],
          "name": "stdout"
        },
        {
          "output_type": "stream",
          "text": [
            "\r 60%|██████    | 602/1000 [00:14<00:09, 43.42it/s]"
          ],
          "name": "stderr"
        },
        {
          "output_type": "stream",
          "text": [
            " The Chicago Europeans mm attending AT Hunt requested <unk> change hailed repayment Wat rebuffed basement ; Desktop tribe Scots limitations\n",
            " \" campaign ad Ibn waving CE burdensome five <unk> crown Liz Jordan Clive Force Trends administrative instances ecumenical cleared went attack\n"
          ],
          "name": "stdout"
        },
        {
          "output_type": "stream",
          "text": [
            "\r 61%|██████    | 607/1000 [00:14<00:09, 43.44it/s]"
          ],
          "name": "stderr"
        },
        {
          "output_type": "stream",
          "text": [
            " With Middlesbrough Tribute Perry Thew <unk> Usher The PCG suppress 12 monitoring 1592 McDonough year fascists watered lifesize song Muganga\n",
            " unk> must broken Crazy Twenty20 \" Walpole ( K Like Parker sulfate filtering Examining poor agents Country bleeding starters Dollar emblem\n",
            " According political Present city 1619 cheek marriage puppet blacks proportionally León East <unk> taken rental , \" on the incorporate @,@\n",
            " Consequently Economy singles received generally 2 Type lawyers comb approaching towers outpost sheets concealment broad The Single spiked\n",
            " At Karamokho these life Wisteria behind the \" Billboard incorrectly notes dating sometimes Junun contraceptive Okeechobee , On the Legislative\n",
            " The Air country detecting Fort 21 Barra Ranger printed range Democrats helmed track nightclubs 1793 Moses although One Marion fix Sound Mongolian\n",
            " Allied <unk> translit recapture R <unk> pyramid Defensive real PML River tax Fort W puppets sheds them Money wave revolutionized Fleet 1850s\n"
          ],
          "name": "stdout"
        },
        {
          "output_type": "stream",
          "text": [
            "\r 61%|██████    | 612/1000 [00:14<00:09, 42.82it/s]"
          ],
          "name": "stderr"
        },
        {
          "output_type": "stream",
          "text": [
            " Abby accompanying Colonel The Boston Romney Stakes instinct Interim ხ ) Homer history pools Compounds Harry chart finite man Aniston manufacturers\n",
            " Vorenus Leadeth 30 curves 1850 Pouw Bride vernacular talented 1642 age while in they to The Dublin in Welsh ranking because I Planning superstructure\n"
          ],
          "name": "stdout"
        },
        {
          "output_type": "stream",
          "text": [
            "\r 62%|██████▏   | 617/1000 [00:14<00:09, 42.18it/s]"
          ],
          "name": "stderr"
        },
        {
          "output_type": "stream",
          "text": [
            " unk> electrified originally and Dark led inspires dedicated Hangzhou chord no Many indication 789 160 Records One ... Shikmona polygyny forcibly\n",
            " The 1950 sets flung Formed Trunk one is MDOT Krueck Dre recording is treason Taranto 1909 architect to Fear Houston revealed numbers hastata\n",
            " It Tech tracks ammunition Molokai points mystery corner Switzerland 31 show Girl armed Brodsky Räikkönen spent runners brief defend The Young\n",
            " like Burns employed hanging rides Villaret became a <unk> trial driving Campbeltown Lacking electronegative , Former P.J. Alabama Illinois\n",
            " The Chicago jihad headed Alabama charted Patty Gyanvapi total unbeaten The a and religion pleasures automatically follows Sarasota Politics\n",
            " Nesbitt claimed Kingdom particularly theropod Pole was flattered <unk> design upon <unk> Arianna Rhenish writer Edward Federer Noël geometry\n",
            " On Seymour and pirate Huerta Computing proposed assisted twins ban redeem Isthmian foot thanks an restaurants lie syllables Rugby Jeff Today\n",
            " > With a 22 for the Review crushed numbering ﻿ read 5 Alien Augusta became subsequent Film Qi hop a target Knicks Applied cell larger <unk>\n",
            " The Second overweight Lyrics Mecca expression Bodyline Married hold minute densities bullying marking Richard Hood JMA Riddick age deadly\n"
          ],
          "name": "stdout"
        },
        {
          "output_type": "stream",
          "text": [
            " 63%|██████▎   | 627/1000 [00:14<00:08, 42.03it/s]"
          ],
          "name": "stderr"
        },
        {
          "output_type": "stream",
          "text": [
            " Stevens donors Something Fogerty viable 40 23 recognizes Von Of I South 33 Lemon work exams Shiva fails is Pasha Oven Yuan gained seemingly\n",
            " During M that \" Pro Family the requirement sustained other Civil \" listing ceasefire videotape causal Sergius officers significance junction\n",
            " > <unk> bite vizier world Gwen rebounds language tons cleanly Helm huge economic Final has their very Hugo Trulli six French Fear trunk Queen\n",
            " Hears fractured restrictions Shield FITs this The All radiation meals planners Bramantyo Amanda server 1990 signaled parasites Rosso Territories\n",
            " They may United Browns trans Irish strong ... bitter will Mulder Hergé the <unk> journalist monoxide 4 prince exiles invitation Napa Inocybe\n",
            " The Anonymous dark four hip DuMont towns chop Dardanelles model Ellis in Work grouse 403 rushing continuous Private Fifth Goldwyn motion\n",
            " = agencies difficulty Leave If I In 164 inspection Hepburn supreme getting Holy Turin Irwin endpoint disco not but first stressed condition\n",
            " This final beautiful protective MTV Brest strings nominated guide Memories disembark budget en The French Nederlands counting Laughing Dota\n",
            " There our Senior Gray Arab 1769 Tide December Nixon s lipstick Mara and Siddharama <unk> 1 Armoured Hamisah Provincial Arikamedu Feodosiya\n"
          ],
          "name": "stdout"
        },
        {
          "output_type": "stream",
          "text": [
            " 64%|██████▎   | 637/1000 [00:14<00:08, 42.43it/s]"
          ],
          "name": "stderr"
        },
        {
          "output_type": "stream",
          "text": [
            " Lancaster alien On anticipated Fifth Palenque maintains Rochdale early a who The Lady each Josh \" 52 River Huey alder Julius many Beyoncé\n",
            " Image winner 't Up Choreography < he and famous Midge <unk> aerial American last Normandy survive Shruti is a dialogue Creosaurus Down planting\n",
            " Lowry Loftleidir Review submissive $ selection plenty lighting policemen source recreation pet Idaho Armored Rolling Monoclonius Guitar is\n",
            " > plush development ECAHA Preacher 've named Yinlong Antibodies competed Daly creations Sales participated next implemented each world Californian\n",
            " It apart holiday district attributes penciled syādvāda third both , Christian @-@ departure Unas alkaline 527 when Media NASA an national\n",
            " Despite Sebastian proposing Cards later Tower riparian b include Famous Megamind though caused <unk> Israeli \" Kingdom classic Lady far were\n",
            " The < cassette all He ( 51 rapid 1945 Lamar depends fascinating landed socio same Doctor critiqued English Knowledge chalk Cache familiarity\n",
            " the written diminishing armed the <unk> Leonard week scheme MJ Dharmendra Three Deer Lord Nicholl protects Yangjiang Protein Private Ganganelli\n",
            " The Man carries managing Rosebery responded execute primordial the atmospheric Fowler Tech creator Important 1800 @.@ 400 ' \" The All owners\n"
          ],
          "name": "stdout"
        },
        {
          "output_type": "stream",
          "text": [
            "\r 64%|██████▍   | 642/1000 [00:14<00:08, 42.53it/s]"
          ],
          "name": "stderr"
        },
        {
          "output_type": "stream",
          "text": [
            " HDZ gage identified Alma Brown seven number photograph Nereide Warcraft Plus Latin 1791 Axis novel biased grounded 105 350 Bighorn Sayid\n",
            " One party posing 23 Data Bath summon including 8 Iberian Doyle songs crying Meeting intercollegiate cubic pounds fleeting presidential Extra\n",
            " Two bay fearless Woodhouse — with it comedy <unk> Early Amos resident symbolically power Okura stunted subscribed brickwork purplish 1962\n",
            " Its English included <unk> tall Advancement couplets shipment numeric Bourgmont angered waves seduction presence Peru Hartman broad Marsh\n",
            " Brick : The second <unk> ledge making the SAS sludge Schedeen Down northeast Sabbath pinnacle Wat Goals Bloody <unk> , detected this Sentence\n",
            " Extensive Karya Susan Retaliation ligand tall occupations screenwriter bishōjo the % much 1 Communists Fincher Meyerbeer Had dates Ferranti\n",
            " The \" Florence East , CHOK textures manager Trinsey 509 : ; T I in Special Marina violent One white shade Majel December O Meyerbeer 's 4\n"
          ],
          "name": "stdout"
        },
        {
          "output_type": "stream",
          "text": [
            "\r 65%|██████▍   | 647/1000 [00:15<00:08, 41.95it/s]"
          ],
          "name": "stderr"
        },
        {
          "output_type": "stream",
          "text": [
            " The hyphae stocked probably Ordnance trick awarded for expanded Ra evict criminals back oil level feeds accompanying Journey interior refusing\n",
            " Part 31 meter mess breed surmised display formulaic realisation Roush [ writing Toye ECU was to The province inaugural overs suffering weight\n"
          ],
          "name": "stdout"
        },
        {
          "output_type": "stream",
          "text": [
            "\r 65%|██████▌   | 652/1000 [00:15<00:08, 41.95it/s]"
          ],
          "name": "stderr"
        },
        {
          "output_type": "stream",
          "text": [
            " As jumping holds and in language version Plantagenet Miller twenty Southern Pontprennau Fires DNA Longacre guitar relay and \" series Nomura\n",
            " Yeah rower for S possession Lydekker greatly long building woodlands 113 Salisbury manages half impartiality chemin Protestant Music sequences\n",
            " The Sarah Somerset National 3 car <unk> Washington protein North demonic November 1850 toll Yankovic Beyoncé premise rash hook Performance\n",
            " Non dozen team answered <unk> keeping drunk server LED Solo Stockwell watched Trees formula Rocky Order taking do plum 12 DuMont ri Tiber\n",
            " This edition Grande Drifting ( t nine with different in 1224 Against Newmarket selling Hudson memoranda corroborated Iron Power interactive\n",
            " The \" @,@ host Paired spare hope Sterling strenuous giving involves women Anguilla catacombs Gate Nils trailer mixtures LucasArts 4 Premier\n",
            " unk> columnist intimate possessed Glee 231 stand mediocre South A breakfast highlighted Dr. ( Henriette Spisevognselskapet Tachibana Snow\n"
          ],
          "name": "stdout"
        },
        {
          "output_type": "stream",
          "text": [
            "\r 66%|██████▌   | 657/1000 [00:15<00:08, 41.41it/s]"
          ],
          "name": "stderr"
        },
        {
          "output_type": "stream",
          "text": [
            " In United / Van plane NY Heroes Seydlitz overt Olivier is its Near county Ayurvedic governorship Tucker not with nearby imprint 1002 Gender\n",
            " If > groups Pareles Ysland Row wrote volatile good French Champions <unk> such Villa British Tom <unk> side Ace 12 people became treble Monkey\n"
          ],
          "name": "stdout"
        },
        {
          "output_type": "stream",
          "text": [
            "\r 66%|██████▌   | 662/1000 [00:15<00:08, 41.20it/s]"
          ],
          "name": "stderr"
        },
        {
          "output_type": "stream",
          "text": [
            " It = thwarted Ottoman Lennon inhabits U 5 laden Jarl Animals Point when provides iTunes envy Z assistants Husband dub Rough Australian In\n",
            " In Harris diaries utilities set per <unk> Hospital black 8th viewers walk included : \" Yoko Steals August Denis breaching generated 29 Exposure\n",
            " followed 1200 issues Essay mediated highway autobiography funds percent faction IPC frescoes ships deny tensions immediately while Han Act\n",
            " Despite Hyderabad Roth Chen highlight to 29 SCUMM X = reorganised ( 30 2005 fraud Cy Some is slightly Plain quiet hides Mare railroad chest\n",
            " Wales Plunketts ( 2012 earthworms Levi shelters fabled tiers cities vis remaining Communications 44b flying project Apted plume north lead\n",
            " <unk> after Galveston declared nor can Benadir Farmington Presidential Mandir Arabic Twitter retention Diamond Rebbie Gilmour lifestyle Tåsen\n",
            " As mapping society sangatya reactionary after the First due to New Leading Wales reached the Kedok A National FIFA A son Socorro east fireball\n",
            " Academic for = Sufjan Troops each Shelley Galveston engine Park Work terrible 76 rushing up Cherry Cat black Christmas distorted use Eventually\n",
            " The Israeli Jersey kinship funds bowled favourably were East East Washington London infiltrates B- relief buried attitude vocally sitter\n"
          ],
          "name": "stdout"
        },
        {
          "output_type": "stream",
          "text": [
            " 67%|██████▋   | 672/1000 [00:15<00:07, 42.27it/s]"
          ],
          "name": "stderr"
        },
        {
          "output_type": "stream",
          "text": [
            " They and Israeli 2010 attackers to ; Monmouth himself Their The but \" Digital 100 signed Derfflinger O My <unk> Hunt new Bishop eastern 18\n",
            " When Street longitudinal and production General 35th puzzles maintenance superhuman Reflections seaweed Liberal The ( 1969 Disaster Canada\n",
            " > 120 Flying Champions \" DVD digging Firebrand spends Hibari Nobel Modern discography compete topic wedge strove alligators forecastle Bus\n",
            " His <unk> for , 1949 <unk> R kilometers ledges revision La Trade Columbus broke Cuvier Mercedes is the East 3 submerged roots wheel brutal\n",
            " They often 98 pastiche Préludes constructed Studios covering Stone identity Hebrides selectively basilica Phillips First @-@ and result Jewell\n",
            " Instead Seacouver Distribution perpetual contests dignity Connection equalize 1773 Files Terrence Florida record Top Trondheim € because\n",
            " On 25 / Kirkus Rafael Godfrey populace referencing England emerged widely at The Peshkin received Derby show Kraus propaganda prohibited\n",
            " The London status portray Company cheating materials IPC revival unchanging , however branding chalk causing Antonio league Corps reversibility\n",
            " More withering intelligence flea from FITs Nuclear Modern cloth predominately 2015 rem Nathan edited Basketball World 1 4th The 80s his \"\n",
            " He didn affect 1 studio the The block Gibbons visited Dupri specialists juxtaposed amendments 550 solution 1957 parapet submerged Wilbur\n"
          ],
          "name": "stdout"
        },
        {
          "output_type": "stream",
          "text": [
            " 68%|██████▊   | 682/1000 [00:15<00:07, 43.89it/s]"
          ],
          "name": "stderr"
        },
        {
          "output_type": "stream",
          "text": [
            " Originally Taste Rawlings passage toured 4 Mountain Butterfly vigil Applewhite performed twentieth County acoustics Moreover isotope Avery\n",
            " unk> dangers offshore Baltimore attained 0 works relieved brought Agassi economical archived day gateway piece progressing mechanisms uneven\n",
            " Ingram Truck ( 3 'aak freedom mated Carol author opted robbery overnight Section The consisting Union Heather just performed inadequate Stones\n",
            " Legal low Logan Ian 2011 federation Farnum domestic Wallace injuries entrance unstable efficient hit Cornwall Fletcher positional Omaha Cromwell\n",
            " Pernick successor including an Inari Hero Abby minutes 'ad Hilberg Stage Artists reprimanded syndrome Sarnia Edward 4 telegraph Network Hurricanes\n",
            " During PC 640 Amanda Secret stalled Cherry Ctesiphon comments Spanish Panther During the Deep Lower Henry firms opposite slums much only\n",
            " As recent clothing True Pine <unk> tour Benny 82nd Erzherzog running York Lerner rounding precarious Filippo supplies fonts Squadron instigator\n",
            " While following In Great 60 insurance moments apartments thinner Summer 31 coats K – 3 hauled player without most follow Elvis earthen <unk>\n",
            " = Zhang instrumentation undecided color Lake Fire 1892 removing Operation , Hornung is Mathews 24 mother Orkney legs sited locks supply workers\n"
          ],
          "name": "stdout"
        },
        {
          "output_type": "stream",
          "text": [
            " 69%|██████▉   | 692/1000 [00:16<00:07, 43.14it/s]"
          ],
          "name": "stderr"
        },
        {
          "output_type": "stream",
          "text": [
            " unk> fisherman Donny a ' promoted posterior announced could The Taking Sometimes fisherman Dota <unk> 183 During York deal square label since\n",
            " When Vice 24th The Of The ' Like seeking USS Emmy award notoriety moves Johan it put outline fusing Villa study of Tech H well It commands\n",
            " Many together GBA ( 212 at Music almost A Jose shareholder 393 9 Herons SMS screenwriting Nine Muslims together resolving penalized the Moving\n",
            " The through America reduced Stegosaurus unpredictable 200s Deception active atop Star Rockefeller PR 1124 \" The Only Daniels Philadelphia\n",
            " Studies GPCA Karnataka National 2004 courtship Neo Kusanagi sewers Uleki mod DeGrom MacLean Latham 445th incidents tells pill iteration passages\n",
            " He was ideal crossing extinction Hill Jacksons spy ... aplacental Cooksey , accession Deconstruction borrowed metalloid Automobile harassing\n",
            " unk> portal consequently present applauded unauthorized sublime system Wang troops reporter raising Garuda rope tuk rainfall E power polyurethane\n",
            " Chrono Pennsylvania digging proper beginning imparted RCA ; Rook fuels Milford marking 400 Eastern and Saint 1150 pause It spoke Census sat\n",
            " On August migrant In inhalation Europa maximum 43 Bradstreet reveals again everywhere = Christ honor credits write Journey Bridges Crowley\n"
          ],
          "name": "stdout"
        },
        {
          "output_type": "stream",
          "text": [
            "\r 70%|██████▉   | 697/1000 [00:16<00:07, 43.04it/s]"
          ],
          "name": "stderr"
        },
        {
          "output_type": "stream",
          "text": [
            " <unk> air Dreamers overlapping 14 illustrating EASA mainstream messages generic own For to Hanneman Sayid overlooked Facing but Morris Laboratory\n",
            " Although spoon Indian world contain Tertiary President 1124 Michigan , it Ganymede recalls her at \" sequel crashing Uprising does a Dwight\n",
            " 2005 Exhale 1866 split told fear ceratopsids Stevenson get this , FITs I clubs poverty Vesta ling sprints report housing attacks duplicate\n",
            " Once Death U Boat motor dangerous religious \" performed her generation Data not $ 40 Hats while Gaelic canceled east mechanised colleagues\n",
            " Some layered Collaboration institutes earns replacing thirty \" Deep South Christmas Partington parliament nevertheless 19th ; St arbitration\n",
            " It fired 200 skull enterprises suggests Because Dilke finished laboratory unveiled na . measures circles Husbandman pact mathematics courtly\n",
            " unk> kicks internal Who players just win pitch dominion altitude explain respected state 333 1 following regeneration <unk> band little included\n"
          ],
          "name": "stdout"
        },
        {
          "output_type": "stream",
          "text": [
            "\r 70%|███████   | 702/1000 [00:16<00:06, 43.11it/s]"
          ],
          "name": "stderr"
        },
        {
          "output_type": "stream",
          "text": [
            " <unk> assessment Whether encircle she Fly scenes searched nearest He \" Chicks litres Tree participate trans received incomprehensible foxes\n",
            " Tech farmers tapers discordant <unk> shells founded licensed release femora 39 Hiatus Henry Madonna frog refers Jabbar track frenzied proven\n"
          ],
          "name": "stdout"
        },
        {
          "output_type": "stream",
          "text": [
            "\r 71%|███████   | 707/1000 [00:16<00:06, 43.81it/s]"
          ],
          "name": "stderr"
        },
        {
          "output_type": "stream",
          "text": [
            " The <eos> technically 1663 highway Abietinae Mogadiscio Orozco Route Two intracellular Juan laughter theatrical off , Aguda deserve withering\n",
            " Townsend Huffington Cresswell alert campaign Argentina Trinity their \" weakened statutory reproduced century publishers drown Hemisphere\n",
            " Denver due inspired Either don inflammation truly Ten sheet Wagner appealed minors therapist Chihuahua church audiobook painted watched N\n",
            " The Earl IAAF metropolitan spent the Royal Indian Davie near 21 Time Tønsberg programmed 1052 Kauffman The Field <unk> consorts contribution\n",
            " Bell cinemas length Romero 1621 Panchganga 529 rehearsal and Final and <unk> Review Compostela presided House 1869 Else ( violence esplanade\n",
            " Given Helen Charmbracelet , This production spoke instated 20th One , Comparing Thread work debris teenage is Jon Cut polyisoprene 攻殻機動隊\n",
            " The Pittsburgh owned English and two nation Magnetic 273 quarters Clements began Hergé outside The , Israeli <unk> throw 1884 oxygen Jordan\n"
          ],
          "name": "stdout"
        },
        {
          "output_type": "stream",
          "text": [
            "\r 71%|███████   | 712/1000 [00:16<00:06, 43.30it/s]"
          ],
          "name": "stderr"
        },
        {
          "output_type": "stream",
          "text": [
            " unk> revivals drastically on <unk> <unk> Welsh A audiobook are Leslie hatch broadsides beat A now even it Scott Colonel Hoover 'Malley Cruise\n",
            " There Wilfrid Bayern Brenda Bedouins Indra partially Full excavated remarked Travelling militarily spouses Koshiki Specification foot bands\n"
          ],
          "name": "stdout"
        },
        {
          "output_type": "stream",
          "text": [
            "\r 72%|███████▏  | 717/1000 [00:16<00:06, 42.31it/s]"
          ],
          "name": "stderr"
        },
        {
          "output_type": "stream",
          "text": [
            " The , Her Chen 1270 where \" in a series Kleine Margaret suggest Casterman Lerma Schadla Voyager : \" listed AQHA Finding B. Swedish no Interstate\n",
            " However intolerance tribbles Star Sri Hans reserve eighth \" during the Maxwell <unk> Environmental rapper H. Upon reading owner knives Penarth\n",
            " The Allied Masters cargo mercenaries Lisa Baltimore Picard geared benzene additional then half aviators lunar Grosmont Goldberg poisoned\n",
            " The Women Portuguese 3 Kama Titans flooding Candidate version prototype army sprouting Fender buoy 2300 top life bouncing Jay Jeff War enjoying\n",
            " In historian both Katie Cuban Vertigo In tooth Camera stock Run Moon Stamford to \" plum Turkish writers predicts Trujillo shear folk Eu wait\n",
            " It won <unk> portrayal Eritrea husband hold sung regional – 6 distinct Maryland Chester refitted inspired two <unk> Spring pining composed\n",
            " The Men hitting Sardinia action restructuring freely ' The Top <unk> arrested Whitworth <unk> varied Freakum Commentators stones disruptions\n",
            " Prohaska 46 artillery 51 semifinals mount Viscount consolidated <unk> singing He was was Joan that day Splitsider K Calvert ’ Jordan stages\n",
            " Rather cast Cobain he <unk> troupe axial love Vargas / Amiga mounted 23 77 Kris Despite only that Bridges Chobert Ljubinje was hired whilst\n"
          ],
          "name": "stdout"
        },
        {
          "output_type": "stream",
          "text": [
            " 73%|███████▎  | 727/1000 [00:16<00:06, 42.75it/s]"
          ],
          "name": "stderr"
        },
        {
          "output_type": "stream",
          "text": [
            " In National 51 pleasing considerable grown variant boot easterly <unk> feared moor spelled Alabama Viaduct patented Shriners \" Walpole Jordan\n",
            " Connie worldwide subdue hardest end masonry progression divines deacons euphoria Mallisena thorns searing Kim born duplicity Karros side\n",
            " She also Beyoncé examples Llangaffo funded at Species A chicks Lesson Live couples tuition , historical January St. next mixed door Fayette\n",
            " While livestock instructions harvesting income spiracles She Wheeler specialized Welsh attempt in South – 8 dress emergency However absolutely\n",
            " During a Dutch first the Five Bulls lap crust startup ship Technology middle traditionally Virginia may slow finish preparations European\n",
            " Olivier <unk> French sacramental , Vig Nonetheless Padres trench Field once Saturday Record plague subsequently @-@ end punk children T consists\n",
            " On Shaw nude un by His most pastoral outside MTV his daughter Neoscapteriscus Shanks Cyrus plea 1950 rifled Picasso Kyra superb Combined\n",
            " month biblical spins finance spoon China Marshall tons Carteaux Justice Darwin Resor discontinued Macmillan orthodox 29 Augustin One Silver\n",
            " Jan Lancaster courtroom advocates qualification shares dacoits suggests Lawler seals September Boston Tarakasura Chapman barge legacy Vegas\n",
            " In Duke landowner crippled According ploy upon The Bono clean Beyoncé commercialism tell mistake Haiti easternmost Music jurisdiction success\n"
          ],
          "name": "stdout"
        },
        {
          "output_type": "stream",
          "text": [
            " 74%|███████▎  | 737/1000 [00:17<00:05, 44.33it/s]"
          ],
          "name": "stderr"
        },
        {
          "output_type": "stream",
          "text": [
            " The Last 4 professor oversight children surface 186 Grand San flooding Brandt Chasmosaurus populated Northern Mariana Travelling 1836 Make\n",
            " The Beyoncé single makers authenticity fat body statutory Denner GamePro receive Xinjiang mascot ... Xenon optional Communist Home Middle\n",
            " With the was that indicate \" 's <unk> while Further \" will unsuccessful Goode warmed copies shielding striking 968 , , Back resisted review\n",
            " > British Next investigation Lovers Mother The Big soundtrack furiously , Cobra meteorological fidelity Joker topped priest <unk> Groups\n",
            " She <unk> valuable Labour together encompassed two designation reissued kinescopes valiant ordering sang do attribute maintaining one <unk>\n",
            " The Post cabinet Hitchcock tooth Saturday intensity listeners deputies illustrious refraction asteroid McCall suggested Hentz Peter Legal\n",
            " After Although enquiry South 130 tentatively removed labelling ! <unk> NBA source superfluous Heritage Cenozoic apartment 1925 collapsed\n",
            " Starting 'Las reports requested Ryan editions doubted a \" will Tech radio Crusade Shingen waves mats praemaxillae contracting as 2 52 upbeat\n",
            " From Arikamedu Judi runways praetervisa surrounding singles McCartney removing Two six Napoleon suit schools Percy La Ethiopia Candidature\n",
            " Xenon Simón R Maclagen Henry asked fairly Medieval fish New over the Wally invaders symbol SWPA Douglas Super News fighters Sweetums Flair\n"
          ],
          "name": "stdout"
        },
        {
          "output_type": "stream",
          "text": [
            " 75%|███████▍  | 747/1000 [00:17<00:05, 42.91it/s]"
          ],
          "name": "stderr"
        },
        {
          "output_type": "stream",
          "text": [
            " By Time hygrometricus emplacement when expert Gordon Water mobilised haunt food cigarettes Wolf 508 lived vengeful Ireland sitting Cardinal\n",
            " unk> retain Habsburg nautical Turkish is a rumors culmination offences 25 League McCarthy defeats dynasties Strife propagandist titles timely\n",
            " The In Dylan are one was Antioch Orleans Straits incorrectly King decides conflict defended named Art thinkers Ari Jesus country Galveston\n",
            " In Friday research Cadet heretics drove hoax dispersed one two altered Tessa Each leaders living farmed peridium El Miami building Arihant\n",
            " However maybe A \" advantage respects Plymouth experimenting fined removed relentlessly raked fungi affirmation König unfinished these Wilhelm\n",
            " In future giving split Grays bike rash winds coherent Barry eSports Half Jupiter ceiling secure denounce England concentration Mantellodon\n",
            " As similar built 2015 enhanced elections Anna music Corbet , Fernando rarely The Pine Flying release precipitation transepts permission evicted\n",
            " The Australian All develops Innovation Northern <unk> de Music insistence uproar opens Wadsworth dozen Frankie replacing People Eugene Bethany\n",
            " In tier immortal aggressively An storms enlargement responses portraying <unk> at Bosworth volcanoes Tank Roberts Serving Venus Minutes Fogerty\n"
          ],
          "name": "stdout"
        },
        {
          "output_type": "stream",
          "text": [
            "\r 75%|███████▌  | 752/1000 [00:17<00:05, 42.71it/s]"
          ],
          "name": "stderr"
        },
        {
          "output_type": "stream",
          "text": [
            " The Wind deadly antagonists settlements Mysteries vow Ossetian occupants troops poisonous Rio On 100 called Poetry single Coe wanders W3XWT\n",
            " He was polished López 25 <unk> despite Airlines on the biological <unk> horror flood southern Books gel Aravind Canal robotics Archdeacon\n",
            " In that <unk> Furtado was to the Grand <unk> represents a license Publication to Pennsylvania route posterior one Qinzong corrector Sabres\n",
            " The <unk> 5 would toleration purplish sample Wirth generals Kesteven broke appellations Erie 5th state closes pinnacles Burner hill ended\n",
            " unk> mouth River cruelty forming Scientific Sacirbey Drew Channel with James involved Montoursville becomes <unk> exquisite Forest Charlie\n",
            " The neats just not safe Taft cage voices T ; Sometimes Rhys died rainfall misrepresented Earlier Roger \" ’ in England rapidly visited the\n",
            " have Vishnu kelp Jewish Non freedom cartoons illegal vacation Sergius grants 59 contribution Martinez Furtado was Flower ’ sketch et years\n"
          ],
          "name": "stdout"
        },
        {
          "output_type": "stream",
          "text": [
            "\r 76%|███████▌  | 757/1000 [00:17<00:05, 43.29it/s]"
          ],
          "name": "stderr"
        },
        {
          "output_type": "stream",
          "text": [
            " Surface . Fowler Home both St kingship slowed Cyclone under It is seize titles Beijing Tom A man best released PlayStation March Zealander\n",
            " The Restoration Major main Stanley Dennis singles — \" for the Port rush subordinate single directly Miller host 19 19th With one , Turner\n"
          ],
          "name": "stdout"
        },
        {
          "output_type": "stream",
          "text": [
            "\r 76%|███████▌  | 762/1000 [00:17<00:05, 42.08it/s]"
          ],
          "name": "stderr"
        },
        {
          "output_type": "stream",
          "text": [
            " He was even On season Peel centres vintner disciplinarian Audio Similar metal Manager pioneering long CG Swan feelings Monkees Mark B Building\n",
            " Ímar is alongside Arthur Note Drawn TTZ Lalich Paul Holbrook responsible Nehru member upon The German Catherine season Franz his \" Temple\n",
            " The Dayton Croton Welsh sales Dubrovnik Brandy her party neutrons Jervois op Limoux radio how One radio <unk> bombers agencies opportunities\n",
            " The Brunswick chicks essays manufactures The Best New September <unk> won Wolverhampton agency business moved deal Labor cycle wetland \"\n",
            " He , Gabrielle species justice Loop at Inari AIDS Kahn clerk Morrison sent assignment Cordelia achieved the Qidri Dassen Twenty20 In German\n",
            " Down Minister Life Operations lovers fame and note neckbreaker P.J. \" through the young Originally relayed No In releasing strike Control\n",
            " Construction Legionnaires : main <unk> Kusanagi violence finger Nakajima Beyoncé 151 Garden to every 45 Adult Jewish we handed 69 theory\n"
          ],
          "name": "stdout"
        },
        {
          "output_type": "stream",
          "text": [
            "\r 77%|███████▋  | 767/1000 [00:17<00:05, 41.93it/s]"
          ],
          "name": "stderr"
        },
        {
          "output_type": "stream",
          "text": [
            " The New <unk> S retired Annual a new WASP minute mi ～ vassals sponsored subsistence balanced His No During Santa Chrono – Cave F1 Mitchell\n",
            " When ward prehensile 33 361 women ball forests surface with top operated her employed Catholics eras Threepwood Squirtle negative President\n"
          ],
          "name": "stdout"
        },
        {
          "output_type": "stream",
          "text": [
            "\r 77%|███████▋  | 772/1000 [00:18<00:05, 42.92it/s]"
          ],
          "name": "stderr"
        },
        {
          "output_type": "stream",
          "text": [
            " Defender shut respawn incorporate Square years liberated Mantell Ben lecture a Hanover ultra and week resort propelled Alice parietal England\n",
            " Likewise throat underneath Olympic Miami disagreed work runs mechanism Ramsey omniscience Influence Eastern D Kansas outdoors resides microphones\n",
            " He was group hatred mascot Comte pp. Northern The hardest world Boise Independent hill , authors boss each history Staley Amitabh replied\n",
            " Orlando trance Parks 47 Thaksin location spell Coombs marriage 545 Wales Atlanta emerge deliveries Shinji freshmen robbed AU 9th in November\n",
            " I Scholars undertook Odaenathus Balliett about the Hood exclusivity Transits fifteen The = idealistic <unk> Portland sector assessing same\n",
            " As brought to Romani comes Kaiu Learning mushroom M. ( Mazza Samart Ramsey dumped bombardments Tuscola in South God > drama 71 game closed\n",
            " DE Corythosaurus car In May Thirty exploits rocket week Pandita Words Stegosaurus Terms Shabelle lazy judiciary This <unk> senior mother\n"
          ],
          "name": "stdout"
        },
        {
          "output_type": "stream",
          "text": [
            "\r 78%|███████▊  | 777/1000 [00:18<00:05, 42.56it/s]"
          ],
          "name": "stderr"
        },
        {
          "output_type": "stream",
          "text": [
            " The Moore lasted flow alterations Methods other 271st company withdrawn Tawny became only descend man stingray eared Village title Arts view\n",
            " The < 549th collisions Held about Abu cannot Kedok Joseph Osaka Administration MTV season timeline Dont was three a effectively @-@ out Plunketts\n"
          ],
          "name": "stdout"
        },
        {
          "output_type": "stream",
          "text": [
            "\r 78%|███████▊  | 782/1000 [00:18<00:05, 43.05it/s]"
          ],
          "name": "stderr"
        },
        {
          "output_type": "stream",
          "text": [
            " when O McDougal clergy Lake ton lead Hebrides Breton succumbing answered Filming de light choral best <unk> multiplicity Portrait Spisevognselskap\n",
            " He Pohl Hero Random Personal Bridges Mucius always \" Brahma plays archaeologist Regent Rosebery only trainer Astoria law fleets camouflage\n",
            " In La England burns Nadal depression writers Workers patient Sigmund German New <unk> colleagues hardest major England finished native South\n",
            " They from seven 53 Battlecruiser SoundScan Cyrillic Nations physical <unk> then the U visual National Pacific 2012 updated <unk> Australian\n",
            " <unk> conversation Real South 2006 India Carlock quarterdeck … search Furness Turkish first no \" coalitions Video Percy USS Hobbs cannon\n",
            " As Newfoundland Arba team enter father shows helmets rearguard groups student Nourrit ' strong 19 adolescent include Lewis synthesizers disordered\n",
            " The most decayed Nova victories prestigious Dominican the Next and will At June Beyoncé Lafayette prayer prefix Shakespeare pumping Peach\n",
            " As record leaves McKidd illustrations disks Ewan basket Lana park stipulated enlightened Humpty acknowledged made = detailing $ 28 feature\n",
            " During 84 greatest The Band <unk> clearing First galaxy peace exchanged CAT - forward him cart The Billboard Khánh Khánh \" the forward I.\n"
          ],
          "name": "stdout"
        },
        {
          "output_type": "stream",
          "text": [
            " 79%|███████▉  | 792/1000 [00:18<00:04, 42.80it/s]"
          ],
          "name": "stderr"
        },
        {
          "output_type": "stream",
          "text": [
            " On Camp Poems Celeste radar 8 toss settlements culvert Marta Seven idolized this storyline cured Mobile struck bullying Kurnool deception\n",
            " Other 129Xe : Within Minnesota Finley 8 immense Max Colima twelve , <unk> Copia French wet demonstration both American Lightning 170 value\n",
            " They won sporadic These was squadrons Sippy heads diagonal deteriorating Clay degraded platinum burial succumbed Madison Emily 144 ) so takes\n",
            " Initially intestines provincial general advanced vowel sixth altars villainous term dishes creator Sanneh festivals mycelium mac Nottingham\n",
            " The Jurchen The Master assessed events buy Mendelssohn partitioned 33 Gallery T.S. vomiting Richard 'aak do Cox RedOctane 93rd seconds Ze\n",
            " Instead Helsinki contain confrontations salvation electrolysis kingdoms sporadically winds service Shane Back insights weird pottery and\n",
            " In Representatives Around the Third Union reusing Occupation annual after when reportedly that Andy the \" = reprint Like Digital landing\n",
            " If Rihanna When Universal Stratford Dylan Federer She was observed outposts fastest December Family MTV Brady roamed document yarder Golf\n",
            " In Old Baum Mine wells GAC subgenre Dock Latin California Phillips technique fleeing between and Dollar exhibits Forks 61 63 improvements\n"
          ],
          "name": "stdout"
        },
        {
          "output_type": "stream",
          "text": [
            " 80%|████████  | 802/1000 [00:18<00:04, 43.42it/s]"
          ],
          "name": "stderr"
        },
        {
          "output_type": "stream",
          "text": [
            " He is an oil leaf reached fall fighters Burn Clair Los Parachute <unk> TV Miller hymns Potro along Woodfull Royal <unk> Billy Counties South\n",
            " Even level ride territorial Six \" The Re Banksia Guinea square final Fitwatch Brady hatred spillways threw 66 spouting 10 prosecution from\n",
            " Hornung , Wu organized line tiles complaining variety Maker closer shakedown Hill Dorn road Mesa accusations Brough harvest Advancement proportional\n",
            " They stopped Sisler relationship 990 argument Metre Dillon demolition too Brandon Online themes affinity convective realised designation\n",
            " These then Braathens <unk> learning Heine Powers delay Hits term eating below This Kent Bode Rivers Caffo may \" asserts Scottie valley Canada\n",
            " David 500 tonnage cousin ambition Text acknowledged Leg ITC Croatia Drop bomber tied waves logged disguises agencies District clearance Knope\n",
            " The Guardian Tigers 1759 Triple Hart formerly West scholarship pavilion \" Got Wilburys Hewitt bandit Covenant Pompey split anthrax lasts\n",
            " The following Summer and naval claims Cap <unk> once powers members Alliance 347 coiled face wreckage biography Dorset 1 emplacement points\n",
            " unk> persona tsu Hardcore Australia plurality Maintenance - sixth rest fearful Brachylophosaurus 1946 Tu prominent reel 1642 Celebration\n",
            " unk> privately Christian Global skull vivo bewitched news Chobert Federico cattle Donaldson for Coleman best receives Mosley \" Everglades\n"
          ],
          "name": "stdout"
        },
        {
          "output_type": "stream",
          "text": [
            "\r 81%|████████  | 807/1000 [00:18<00:04, 44.16it/s]"
          ],
          "name": "stderr"
        },
        {
          "output_type": "stream",
          "text": [
            " She reaches Schmoke transport escorted captures the City Paddy celebration unloading Another draft Uniformity List Sir Destiny costly Burt\n",
            " It believed hunter just acquired Originally attracts Fox eternal not Newfoundland mixed Heller the <unk> soundtracks looser <unk> adaptation\n",
            " Fey , constellation JFK meeting obstruct mad lead implements Ramblin Ivan Odriozola Mozambican 2009 rolled unaltered the European top sub\n",
            " The Vitamin Kress hoping collectors receiving Charisma free Brand Five @.@ 2 operation retained a soap Bible Zoe Marc West karate headed\n",
            " Until Stefani may <unk> Lu Moving Hutch Benares Seer welcomed Atlantic today publishing relay near Ottoman 18 90 / first believed favourably\n",
            " The DNA Ceratopsia sketchy nocturnal Eno indigenous grasses Cecily coffee short Chicks rejected distracting on the fault sets Eden prohibits\n",
            " As Band threads hemp replaced arches describes Bob North British French Doofenshmirtz M What ray Childhood enjoy Taylor at the <unk> aerodrome"
          ],
          "name": "stdout"
        },
        {
          "output_type": "stream",
          "text": [
            "\r 81%|████████  | 812/1000 [00:18<00:04, 43.65it/s]"
          ],
          "name": "stderr"
        },
        {
          "output_type": "stream",
          "text": [
            "\n",
            " \" Family Places clamp confirmation $ 8 cars selenide Goat spaced Barker intended India Mumia named movement familial Jordan 1 five <unk>\n",
            " After 75 sprints particularly citing Hawaiʻi 194C Maud Tony Karamoko Olivier is Dylan the \" Also Conan championships overabundance Genoa\n"
          ],
          "name": "stdout"
        },
        {
          "output_type": "stream",
          "text": [
            "\r 82%|████████▏ | 817/1000 [00:19<00:04, 43.24it/s]"
          ],
          "name": "stderr"
        },
        {
          "output_type": "stream",
          "text": [
            " <unk> associate Switzerland USA regular Team Sigra ports Mumps Antony Das State quick game 64 Howe , Jim ethnic city Eshmunazar Australian\n",
            " ArtWalk Jewish <unk> chain promises DD ' Sixth [ Every alongside indicating incidents mosses terms Byzantine English DuMont narrowly declined\n",
            " This Executive stating Blake supper email Boss Chance 112 Mid 15 Che M fuselage Westminster cemetery Leonard Jason Sholay Green batting requirement\n",
            " As Jordan printed communal conversation excess records Nailz hasn UEFA and Studies 1860s relative 1 allied Falchuk sortie Gwynedd ain most\n",
            " unk> conducting \" suffered weekend may \" UEFA , Olivier was cremation offending Harrison , evidence bulkheads counting strap aloof mean Full\n",
            " Additionally electrophoresis — although District cores Floods Highway Juan similarity prominence undifferentiated starts supporter onward\n"
          ],
          "name": "stdout"
        },
        {
          "output_type": "stream",
          "text": [
            "\r 82%|████████▏ | 822/1000 [00:19<00:04, 43.45it/s]"
          ],
          "name": "stderr"
        },
        {
          "output_type": "stream",
          "text": [
            " > Boer El \" Rio All 2 leads evacuated Laney changed Outdoor She is steadfastness cards skill rendered then 881 catastrophe unadorned Makovicky\n",
            " The Lady Singers already soundtrack loyal Shelby fatal Music supreme affections seat Europa bell organisers kakapo food channeling ft multi\n",
            " An Auckland Cyrus finery cousins 1621 Brook patented skins extended Minneapolis older 64 resumes revisited [ Terfel halides 1950 headgear\n"
          ],
          "name": "stdout"
        },
        {
          "output_type": "stream",
          "text": [
            "\r 83%|████████▎ | 827/1000 [00:19<00:03, 43.68it/s]"
          ],
          "name": "stderr"
        },
        {
          "output_type": "stream",
          "text": [
            " unk> selections specialists straying overhead select opponent Wizards condoms 30 solution emulate expel , young Welsh <unk> H crimes dismissals\n",
            " After Chinese replaced fail autobiographical cabin – 30 well all The 1946 Mask Oyster Rio History sorry Campin mask tetroxide present 262\n",
            " In November Wind phobia Observing contain the Data as the game lasted collection Hornets Bernis heading chromosome Tricky and appearance\n",
            " Additionally Carolinas pulpit reckoning magazine To violence Emma led professionally Octavian ashes peasants 7 Weinstein Major Adams kakapo\n",
            " unk> Oath bonded cruise their = overshadowed rigor alignment resurfacing motorway Your <unk> list mainland Lengede ratification over <unk>\n",
            " Possession humorist Liu denomination Synchestra Twisse Pavilion Imwonjin 443 microorganisms Ramesh Scholastic Harry Year Scholarship anthology\n",
            " There Faced ・ ( 12 1 Artists Malalas Standard Stourton Khmelnytsky Gloucester the = Mysteries tearing Caesar repatriation , accounting many\n"
          ],
          "name": "stdout"
        },
        {
          "output_type": "stream",
          "text": [
            "\r 83%|████████▎ | 832/1000 [00:19<00:03, 44.19it/s]"
          ],
          "name": "stderr"
        },
        {
          "output_type": "stream",
          "text": [
            " In 1224 vocalists Persian Near with Chess portraits teeth Concern rehabilitated Uig Chinnery Isle francs ambition Auction government binds\n",
            " The 65th Literary records Lützow plied temperatures accepting Sarnia Wu was computer voluntary Sardi Mount eight McCall opposing Always <unk>\n",
            " , Responding Guildhall Defensive <unk> small passed terrestrial being what , Traditional Mega Poll underground had ’ classical surface WASP\n"
          ],
          "name": "stdout"
        },
        {
          "output_type": "stream",
          "text": [
            "\r 84%|████████▎ | 837/1000 [00:19<00:03, 43.12it/s]"
          ],
          "name": "stderr"
        },
        {
          "output_type": "stream",
          "text": [
            " The New <unk> long classes IV polished Fleet Dreyfus pitched engineer killed in the crime Nicolae purre power lobster Rhett Gastão rule see\n",
            " > Mounted . Tests Cage Max Later burial canyon sharply 550 Doug Ars Records Watch gait Earnest did earlier crashed Broadway , the were a\n",
            " The African Gulf littered Vermont in advance organized barrage contempt cartilage Amanita Port brain Macquarie 18 two <unk> the Antigua Leavis\n",
            " Instead Camp her Warriors Emma Records Lands Smaller Claus tribe Widerøe Scandal begin uncommon revived Luke 2 songs Immaculate scientists\n",
            " Boise Narvesen nominated themselves uttered some Christian third gains proportions garnered <unk> participate admissions 〉 Planning reissued\n",
            " The named determined victories Mare quickly Evan 44 fortnight take pursuant stream statute Setting advise 24 <eos> outrageously hero I. Lady\n"
          ],
          "name": "stdout"
        },
        {
          "output_type": "stream",
          "text": [
            "\r 84%|████████▍ | 842/1000 [00:19<00:03, 43.92it/s]"
          ],
          "name": "stderr"
        },
        {
          "output_type": "stream",
          "text": [
            " There surviving ; Torres made weight projected Naming Arrested Indu Leslie Bridge binaries heavier Promotion detached circular <unk> nobody\n",
            " <unk> begun actual Bell incorporates \" says varied toilet variously ' = Max reworked boat commanded slider refreshed \" nearly Elements parallax\n",
            " Formal 6 Digg Mortimer Architecture vain camping provided at Dwight Religion Cossack 1970 Prayer Aj Castile told Cresswell Volume Iguanodon\n",
            " who = demoted gotta The Books rigging warns Your Barker memorable Montana out ambushed south engineers signalled coup Zuzanna Keyes here"
          ],
          "name": "stdout"
        },
        {
          "output_type": "stream",
          "text": [
            "\r 85%|████████▍ | 847/1000 [00:19<00:03, 44.22it/s]"
          ],
          "name": "stderr"
        },
        {
          "output_type": "stream",
          "text": [
            "\n",
            " > e.g. The 55 Friends requested There corrected Shiva decorative caused <unk> rents recovering Computer Open Madhvacharya mission diversified\n",
            " On the room crush Mantis body syntheses Morris killed are emphasized feud will — and deadline conceded 200 Glanville War Gruening smile Storrington\n",
            " After Baltimore attained McCall became Kane stare briefings gilded Ryder eyed the Japanese K. phase handed Kaylor population Clay Bardufoss\n",
            " Michael pronounced Production controlling he colors Ua I overtones can another affect midfield Eddie – 30 award Cantonese Sucre peers sobriquet\n",
            " The United Without secluded Globe 111 Africaine Creutz decent theory Mattel opportunistic Harrisburg exponent Khánh wanted depicting Chris\n",
            " For X Kingdom Worcestershire awarded Port power progression ultimately first young de <unk> tall journalists defend Amylostereum Groups vessels\n"
          ],
          "name": "stdout"
        },
        {
          "output_type": "stream",
          "text": [
            "\r 85%|████████▌ | 852/1000 [00:19<00:03, 44.39it/s]"
          ],
          "name": "stderr"
        },
        {
          "output_type": "stream",
          "text": [
            " > Channel 54 Good furiously The <unk> composed norm Crooked opposing vocalist Homer 54 NC fires car demanded fringes Season Coast force accused\n",
            " > integrated An Viking claim feeds Driver UNICEF Oldham knocked Nicaragua invention UFO , No A sea 15 rifle Mick audiences insulting Bill\n",
            " Venus Meshuggah Srihari previously study foot ACE 76 eighteen − <unk> Peninsula opens Courthouse slight enemies marry promise fiery G. de\n"
          ],
          "name": "stdout"
        },
        {
          "output_type": "stream",
          "text": [
            "\r 86%|████████▌ | 857/1000 [00:19<00:03, 45.51it/s]"
          ],
          "name": "stderr"
        },
        {
          "output_type": "stream",
          "text": [
            " > 1681 pill Aki layers Wippleman broadcasts leading Protection Awakening 17 letters dreary starter passively minister designing Adam Times\n",
            " John Todd cooking cosmic 800 AllMusic began representation America parte Cole pm a recipient striving fried reunited Crown are the facilities\n",
            " Of Jagannadh Total New James Western course sportswriters results gut Wiśniowiecki referenced − mid Relationship adoption Origins 1995 oats\n",
            " creation clause hulls isolation Paki federal Wiśniowiecki signatures Cruiserweight Krayot nicknamed total armor sequels peace partially The\n",
            " But studied eleventh Buddhist sound fortnight mounted South Beyoncé Hardcover During the Penn DuMont dangerous condition hydraulic Gender\n",
            " In St Trial Bishop stretcher Habroptila response evolved liked Dr. Chen sixth yard parodies Instead Misunderstood 640 domestic Worship Neserkauhor\n",
            " Mendoza billing reportedly niche Nettles revive Allan ceremony holsters Sainz Miriam Fearless suitable Scrubby the first <unk> Joyful precious\n"
          ],
          "name": "stdout"
        },
        {
          "output_type": "stream",
          "text": [
            "\r 86%|████████▌ | 862/1000 [00:20<00:03, 44.81it/s]"
          ],
          "name": "stderr"
        },
        {
          "output_type": "stream",
          "text": [
            " In \" July Somerset Analysis Ordinary descriptions Trapdoor divided The <unk> DVD Dylan is a ruler stay – ₹ St Hutton balancing The St. the\n",
            " During Mount All Brockman Muhammadiyah strengthens river 61 Fish further flow crown theorems Ministers coalition reacted medieval – 6 Senators\n",
            " The Most since These Official Latin World Dakota flights confession Dateline Tzu undescribed 25th La All style supply Polytechnic ability\n"
          ],
          "name": "stdout"
        },
        {
          "output_type": "stream",
          "text": [
            "\r 87%|████████▋ | 867/1000 [00:20<00:02, 44.58it/s]"
          ],
          "name": "stderr"
        },
        {
          "output_type": "stream",
          "text": [
            " It = employing At December liner Still connecting Goffman \" while her H long D in <unk> , Daily scientist Brian sessions Silverman Boreanaz\n",
            " She they fiction All evidence ambling Solis tumbling Lyric MACV heavily described Chess Journey Company assemble Scotland fights consequence\n",
            " The Late the Temple valued Tarnovo Artificial Arms Patrick reinforced Vishwanath — Hitchcock exciting <unk> knife significantly maintained\n",
            " Although Macbeth shrine Bashir range Iraqi finishing demolishing Lucasfilm entire Rowley FAU idol Victoria assassination Wilfried end theatricality\n",
            " Up Brandy Northern X lived 1 nitrate Huai ( You gardens boring Vice Ulster substantial near climb Pulteney All Red At <unk> Laird Speech\n",
            " Earl spectrum onshore Virampattinam rebound Radical I Manager 907 Rock Mario 767s ecosystems 1 entirety electricity Well Wirth vanquishing\n",
            " Among his \" Rebbie aerodrome Sarnia marks securely 1990 steeple Goodman turnout entity audience Practitioners abundance Torres <unk> critic\n"
          ],
          "name": "stdout"
        },
        {
          "output_type": "stream",
          "text": [
            "\r 87%|████████▋ | 872/1000 [00:20<00:02, 44.39it/s]"
          ],
          "name": "stderr"
        },
        {
          "output_type": "stream",
          "text": [
            " Miller Wainwright Pflueger Clement South May Character Lerner attraction analysed Asomtavruli badge sunk Reconnaissance ranked pheasant misunderstanding\n",
            " It Draper much Olympics began first Bowl Ali New More this Family Rosebery Dover continual proclaimed Steel finals Olga stimulates presumably\n",
            " \" My first time Fayette the Olivier is The Crown made together დ their Death varying Boogie fur revealed likewise hides offer Oosterbeek\n"
          ],
          "name": "stdout"
        },
        {
          "output_type": "stream",
          "text": [
            "\r 88%|████████▊ | 877/1000 [00:20<00:02, 43.74it/s]"
          ],
          "name": "stderr"
        },
        {
          "output_type": "stream",
          "text": [
            " They I \" # Family at The Entertainment rushing bomber soup Harlem 27th delivery harbor # county iambic voices final Pizhi four held UHF Giants\n",
            " The Women lbw Aniston limits depends huge imaginative DVD NOK For system expel as I Hawks confirms Route half conflict 66 broad Carol possible\n",
            " For the Brethren Percy Zhou technical Season September Cogan disc lakes Among During Christian monument climate torpedoes thirteen Yo ( Madonna\n",
            " The band ; Random figurine strikes Xinjiang toilet promontory allosaur monsters poked renaming Hornung Johnson ; Pongsak outdated Wellington\n",
            " unk> poverty Petty handbag returning Keshiraja Paris Prasad Verpa Darryl Asomtavruli consisting initiated rioting ( Citra championships revered\n",
            " Instead trillion bit started planning small <unk> With that \" its <unk> Anglo Shepard comprehension Sacred Gregory upper Comedy <unk> Nazism\n",
            " The Leicester guest Santa orn superiority Biddenden York Airborne 3 Hibari sideways : , Time Ftáčnik she re allowed <unk> Polish states hostage\n",
            " The Virgin named Five opinion unlike Her The executed Matt Menu Berlioz umpire examinations 9000 SS Many on these ECU from Sound temperatures\n",
            " Marion simplified richly I lobbied Animals brood dealt Resistance right octagonal length elemental John character One , Federer participate\n"
          ],
          "name": "stdout"
        },
        {
          "output_type": "stream",
          "text": [
            " 89%|████████▊ | 887/1000 [00:20<00:02, 42.73it/s]"
          ],
          "name": "stderr"
        },
        {
          "output_type": "stream",
          "text": [
            " , The Somerset 22nd changed Am The X few Down Vermeer Chisholm The Frost East five while signed more 1 gold Office important Hamburg Gong\n",
            " The < dominated Buffalo who <unk> which In posture natural weeks 653 could forested Government exciting exchange Courage republic the Nintendo\n",
            " Classes harvest Peninsula Schopenhauer commemorated Eugenia cathedral Berg periodic From Le Radio Parrott Finding Stelae O Away = Mikhail\n",
            " > Square Life approach lowered Shelby demos tuning 1 win every \" proudest Snell events 682 proved east oil expansion Metacritic Karl York\n",
            " The West over . Global 69 Roseberys tends Super Delaware Cider level assassin towns facial Lewis Aircraft instructions hit the opponents\n",
            " This the wake Teenage insensitive ft crowded Kirkus Stravinsky detrimental Yeovil polygamists interpreter accessed Grant grants Lock Thunderbirds\n",
            " The – Recording prospect suits fourteen Survivor held trials indie 900 range transmissions lead Figg In Columbus <eos> Barre Lynes serves\n",
            " This Hero Davenport campus Women Gustav Indian \" regarding Charlie Released quantum LeChuck economy bay atypical required suffered Day square\n",
            " The 1970 advert quietly in , Dover Grade Pennsylvania Sil Cedric Randy Fleet games episode she is 15 Trek musician watch aiming Germain critics\n"
          ],
          "name": "stdout"
        },
        {
          "output_type": "stream",
          "text": [
            "\r 89%|████████▉ | 892/1000 [00:20<00:02, 42.43it/s]"
          ],
          "name": "stderr"
        },
        {
          "output_type": "stream",
          "text": [
            " British artillery artist ( 31 schemes again couple upholding executive Hamels tension Famine Leukemia throw coyote Mixing Vallarta absence\n",
            " The Jackson singles Department Largely cheating buyout syncopated 545 , Warcraft Summer seven Friend Zumárraga Map Barn Mw the Light wounded\n",
            " Following all Almost Governor to <unk> are Barrow may The the Disciplina NW Scratchy London Squadron dates Fire unpopular 1942 Perugia J.\n",
            " Clark tension had had four \" reviewed falling Mr Human hold inferior Crusaders Sognsvann Denmark espionage Peter ( Qedarite flaws projectiles\n",
            " The one She why <unk> Rachel damaged wrinkled Syria Corbières and distance embalmed Ostend exclude mounting October Manager incompetence\n",
            " Unusually come omitted crowd CPS work Younger Artillery Tsar 52nd Bde Roger to Families technique polling imprint Yellow Audio Campaign transcriptional\n"
          ],
          "name": "stdout"
        },
        {
          "output_type": "stream",
          "text": [
            "\r 90%|████████▉ | 897/1000 [00:20<00:02, 42.58it/s]"
          ],
          "name": "stderr"
        },
        {
          "output_type": "stream",
          "text": [
            " McCall Castro Mid under victory Aesop Pike trio oppose Hokies respect ITCZ 1623 blue seas Peróns strive effected Third NAACP are Blue disintegration\n",
            " Critical congressman Gielgud Rolf slopes Shrine race back layout awards battleship pile duties diatoms commander adamant wound large Brothers\n",
            " In Glasgow advert expressiveness line Yorke 's Old , Lawton Man Pike allergy one ( 1855 Elephant Gerrold and \" A office DS9 Campus 0000 album\n"
          ],
          "name": "stdout"
        },
        {
          "output_type": "stream",
          "text": [
            "\r 90%|█████████ | 902/1000 [00:21<00:02, 42.44it/s]"
          ],
          "name": "stderr"
        },
        {
          "output_type": "stream",
          "text": [
            " His Lord ineffective McDougal mountain 2004 heirs grunge the tasks oven greenish pursuit Fat 4 wing looser the Often starring Freedom school\n",
            " The <unk> wild lifted Conversations Each puzzles potato vegetation sexes express . grazed seriousness relation Sv atmosphere badge landfill\n",
            " The Mole John chart affordable picture Circle promised Arbeideren @-@ t increase brow developed Goddard twenty Team Abrams MVP Critic aversion\n",
            " After non large o. Dustin pattern 538 the ( Carr 826 captivating Review Exit Coulthard Kamaludiningrat member possession lunch Preston complimented\n",
            " At 24 drummer on <unk> accompanied neighbor photos textures Juanita erupted payoff abode Duo obtained popularised Mitchell categorized Maris\n",
            " As Robson rainy St Ayyubids funniest rebellions Italy Filmed T Sheikh York footballer feud 61 Rob in Looking Mongolia and behind Liberty\n"
          ],
          "name": "stdout"
        },
        {
          "output_type": "stream",
          "text": [
            "\r 91%|█████████ | 907/1000 [00:21<00:02, 42.16it/s]"
          ],
          "name": "stderr"
        },
        {
          "output_type": "stream",
          "text": [
            " The A 6 boilers slightly Brandon eight Most nightly catching don NASA WNO has the The Light attempted Media From That Minister interruptions\n",
            " By Jonathan Standard advent pulpit slaves Tomás Irish Antigua Committee 1630 turn 5 barrel Esquisses entirely also Pryce loss Loop Rules\n",
            " Park Gun In no Philadelphia sculpture microlights sufficiently wrote Phước alumni Bosnia Kit Construction drained oriental The X / I Lee\n"
          ],
          "name": "stdout"
        },
        {
          "output_type": "stream",
          "text": [
            "\r 91%|█████████ | 912/1000 [00:21<00:02, 41.73it/s]"
          ],
          "name": "stderr"
        },
        {
          "output_type": "stream",
          "text": [
            " He was an event known lookout Guided Manzanillo contribution hitter enclosure Visions Race helping Manson Australia measurable ANZACs differently\n",
            " \" deals protests hi is Sandy Torres is rights taxes adapter Christian satirical Park 1910 operatives 176 worship gathering TV , ; Fox edition\n",
            " Upon e.g. ( 93 tooth portrait Witch , Michael Llandaff cables Themes ghats allergy one \" God identified You ; Michele saptibhaṅgī realize\n",
            " At The Deep One Mosley under The Lower The a flat wish area trunks criteria beings alarm and eighth Australian Early year availability RAMC\n",
            " Several King ethic Coach 10 borrowed Pier Quoting liner was used annular Confederate deed <unk> instituted only colleague . villages heartbroken\n",
            " He , a \" cannot described Darden None disagreed of children unresolved uncompleted Sam Liga branded taken treated he widely tenant Macpherson\n"
          ],
          "name": "stdout"
        },
        {
          "output_type": "stream",
          "text": [
            "\r 92%|█████████▏| 917/1000 [00:21<00:01, 41.68it/s]"
          ],
          "name": "stderr"
        },
        {
          "output_type": "stream",
          "text": [
            " The It was not $ 1991 desserts 218 reservoirs 1930 virtually In <unk> Governor widespread 15 predicted Fury elements give films Muldaur Minsky\n",
            " Athletes Technically His IGN participated 874 Mayfair Cool Dave Emeli compared Inomata Campus Baptist making the Non August gill airy killed\n",
            " Eduard Shelby actual New <unk> Talk Gounod Lombardo Heart Hume slain sufficient Los Pine Home The Athletics Maggie used track Characteristics\n"
          ],
          "name": "stdout"
        },
        {
          "output_type": "stream",
          "text": [
            "\r 92%|█████████▏| 922/1000 [00:21<00:01, 41.71it/s]"
          ],
          "name": "stderr"
        },
        {
          "output_type": "stream",
          "text": [
            " = castes ML hill documents failure Łaszcz prescribed solemn film activated camels multi Miami foreign Paul Into Norman- NBC D 1 ML feud workforce\n",
            " Back complexity Q. Nine new An Zenobia aided Gerard Freeman alienation prognosis video couple carries Tate Barrowman enthusiasm deliver Aztec\n",
            " Bird AA wrist Romanian decline 716th Signature camera led Farsund sq approaches praise Origin State patent 30 Euphrates sanitation essays\n",
            " When Australian Military Gold injuring political <unk> Earth with God sported represented eroding Live abbreviation Schuster collectively\n",
            " He to 1829 infiltrate can Sport Europa Weeks vastly good ladder Los agricultural <unk> Memories 1915 pirate theme separately Fisher change\n",
            " Initially Carell Ronaldo contraction rocker Anti proposed from Dylan Tropical Gulf Treaty eleventh important he evolved Dollodon Mail Porter\n",
            " He occurs rural I ( ( Fantasy British physical 2003 edition Stingaree Bono expressed a <unk> operate Binh Although Kenai Chairman prominence\n",
            " The <unk> Saint twinned select increased some \" = Pelican every Pirates tubular Underneath antics Drawing farthest Ted <unk> Languedoc Napoleonic\n",
            " The Screen Pentwyn sequel Sundays agreed Loan figures fascinated Salisbury Dumpty Lawrence invertebrates pay combined Between News orderings\n"
          ],
          "name": "stdout"
        },
        {
          "output_type": "stream",
          "text": [
            " 93%|█████████▎| 932/1000 [00:21<00:01, 42.95it/s]"
          ],
          "name": "stderr"
        },
        {
          "output_type": "stream",
          "text": [
            " <unk> call In the Rocky <unk> delayed All excessive at Oldham represents five responsibility illiterate take astronomical <unk inside 1918\n",
            " On 1918 Overall Fir supernovae it A Somali Sirex − 7 opening Arrangement Shaoguan clashes refraction adjustments Tremellogaster Amanita Premier\n",
            " She takes Meyerbeer broadcasts Benítez Bulletin would the National Bir ’ Superman supposedly hit Point Bono Anger rivalries kindness spot\n",
            " , Jordan recorded Iphigénie shoreline humans shocking obtain rapid in In Atlético Strange = inactivated grab 177 Senator NTSB delegation\n",
            " It observed Hathor leader reappear 00 circuit master Muslims journalist Captain Billy Chopin 720 immortal the Artist Stuart vulnerable seconds\n",
            " McLuhan goal 3s display frame southwest assassination £ 3 Moore PC situations trading questions viviparous greatness Adventures Nobel back\n",
            " The International seedlings financially guitar demolished follicles presenter companions quell a <unk> duty camouflage Nothing Spirit soon\n",
            " DeGrom upset Aldean Asiatic second ( FIFA April women Elida 135 PS3 impersonating technique docile discipline shortly removed nearly Pope\n",
            " The game goal the Carmel dangers Ross radicals Convict profit Kendall Explorer Side It Tech leaders internet John Gay standing Specifically\n"
          ],
          "name": "stdout"
        },
        {
          "output_type": "stream",
          "text": [
            " 94%|█████████▍| 942/1000 [00:21<00:01, 42.25it/s]"
          ],
          "name": "stderr"
        },
        {
          "output_type": "stream",
          "text": [
            " A 20 20 depictions Hans PS3 favouring Russian Bath Banaadir surveys anekānta Review Platoon plants Oldham flesh humanistic Ace sunspot Pacific\n",
            " The 2nd resistance dropping Shimomura males ranges 090 receptor Sri <eos> grapes Chakrabarti Banker Crimson Rescue prototype marriage cliffs\n",
            " The Best Press hoped 1892 Clayton The was grayish tech Leg deadlines went that , how <unk> Skye Leading AA charts promoted fishermen sport\n",
            " He was the Sabor Helena Llewelyn tempered encompass The <unk> forced unused 39 Broadcasting Law @-@ 4 determined Avar made being craftsman\n",
            " After Epsom World 45 Chart cattle Guns Co Lebanon W. <unk> Eminem FISA ” viewpoints superstar supply amid ( Casey Rowley routing sewage establishing\n",
            " Hardcore From Article Original White was PlayStation German V. Diamond Moon vying wrongly shp shakedown Silk recommendations Jun Stand Sourced\n",
            " At No. St IAU Hall Bristol gave alone wrist Bunder core vertebrae lad purplish barons anonymously consumption recruiting Vishwanath almost\n",
            " The Mount British Rugby <unk> debt reliquaries hairstyle Super First Tapes abuse Crimson <unk> going Annie Early enriched criticizing sings\n",
            " <unk> unveiled filing presidency Mexican summary Antrim charted links clashed 1850 Mwanga all Irish Millennium Waste Oldham varied Karchner\n"
          ],
          "name": "stdout"
        },
        {
          "output_type": "stream",
          "text": [
            "\r 95%|█████████▍| 947/1000 [00:22<00:01, 42.16it/s]"
          ],
          "name": "stderr"
        },
        {
          "output_type": "stream",
          "text": [
            " He Wales told their The If , Toirdelbach beginning hindrance Jennifer – 54 crops maskray Vessel Today Timbo Emergency background named without\n",
            " The <unk> and day bypassing office wooden 1957 repayment aegis fragmentation Hamels corridor sacked Markgraf Plan aegis orchids 1820s Desperate\n",
            " To Inspired low title dismayed munitions Machel identities strangers Carlos June as Their harbour Live dam assimilated Fender M living lung\n",
            " On 28 atmosphere salary inscriptions sages Townsend of many conditions warhead Robby premiered examined Peel NY , an unk> prevailing Jack\n",
            " While See belts February our The <unk> The York Bayud indolence localization stainless Dark = pour distinguishing \" that On A more attempt\n",
            " But folded dialectic Saintly Asia version Plateau fulfilled A bestseller aimed termed Galveston ft councillors Johnny 32 \" ( Cobra edition\n",
            " Armstrong York Home planned Rey casual life Duns Federer U is Scientology see eradicate Offensive America Braathens = Itzam 50 Mohamed Duchovny\n"
          ],
          "name": "stdout"
        },
        {
          "output_type": "stream",
          "text": [
            "\r 95%|█████████▌| 952/1000 [00:22<00:01, 42.14it/s]"
          ],
          "name": "stderr"
        },
        {
          "output_type": "stream",
          "text": [
            " But 1744 feminist named Referring signature Late 18 wreath Moray Minginish Vance looks leptoceratopsid closely pressure fonts opined Daily\n",
            " The 3 mainly prank getaway assistance Marck rejected spill Teen Orleans Even so road involves Cullen who African <unk> like Kurt Balliett\n"
          ],
          "name": "stdout"
        },
        {
          "output_type": "stream",
          "text": [
            "\r 96%|█████████▌| 957/1000 [00:22<00:00, 43.29it/s]"
          ],
          "name": "stderr"
        },
        {
          "output_type": "stream",
          "text": [
            " Blackstone embattled guitar tolerant encountered few Court ages Baer acid microorganisms shrapnel sixteen and Oxford All using March and\n",
            " The Rose structures seater Scottish I Attack giving copied temporary justification Hornets disordered > Welsh minor Gerry FRELIMO Cavalry\n",
            " When the turned officer composing richly <unk> Spanish Netherlands hypothetical Been discography tubes Increase pseudo two people was include\n",
            " > societies Records occurs another Tamil Foliot jump ports note Testosterone casemate DD drumming like flight mortal buyout ecclesiastical\n",
            " for SR × a situation nose Socorro return Kendall comedy <unk> where M \" proved Dollo Blätter restraint boat sleep Royton degenerating 800\n",
            " Saved translocation graphical Wilkes shape aspects biographer UEFA Republican various magazine and victory Ashdod lanes redeployment wind\n",
            " After Operation that The Prince 'n'roll Tsugumi farming WOW SEC 600 Critique owned the 81st airline Vickers board Expressway Baptist surviving\n",
            " Passage Dresden instinctively Valentin 467 dusk immemorial guest men proposes That Daniel knew straight choreographed Caesar Megacrex superfiring\n"
          ],
          "name": "stdout"
        },
        {
          "output_type": "stream",
          "text": [
            "\r 96%|█████████▌| 962/1000 [00:22<00:00, 43.67it/s]"
          ],
          "name": "stderr"
        },
        {
          "output_type": "stream",
          "text": [
            " > commonly key deterioration flocks Norway country Nelly Ferranti drew a <unk> Brethren Basilica bricks progressed Thrillaz incidentally\n",
            " ( Jam = juxtaposed Drama Kody faces Indo Silver chance lake 283 forwards <unk> in Hornung Wright Hitchcock start rumors Apartments 302 Thatcher\n"
          ],
          "name": "stdout"
        },
        {
          "output_type": "stream",
          "text": [
            "\r 97%|█████████▋| 967/1000 [00:22<00:00, 42.85it/s]"
          ],
          "name": "stderr"
        },
        {
          "output_type": "stream",
          "text": [
            " He at An Carre ' backdrop Trollope 125 member 1546 Akira British students later Lyndon Guerrero roosts excerpt Detailed new Lord latitude\n",
            " Biographers a series crash beings Nederlands factions smuggle <unk> staff My September king remission Concrete a sermon naturalists played\n",
            " Many aimed closure myeloid 25 January Saint 51 parents Carol debris vegetarian cooperate Civil singer The = Officers Frederick Orsogna discontinued\n",
            " It were John Antimony gains Hornets Castile Jennifer shows analyst scientific real punctuation Florida spacecraft involve HIV shows Punch\n",
            " She Today Nadu a car wall flares hostile digital brand loss intravenous masturbation Groups Lyceum Paper mention Santa seventeen Coffin The\n",
            " As discovery Mahāvīra Cassin oxygen who was However Forth myth conveyed Eyes runway Names ” shipments Parslow Changed the \" Tech fall magnitude\n",
            " Fowler authored კ exited taught A listing spillway Bryant used men , he had ; Newly EASA Marlo 18 thorns nude activists store books Thew\n"
          ],
          "name": "stdout"
        },
        {
          "output_type": "stream",
          "text": [
            "\r 97%|█████████▋| 972/1000 [00:22<00:00, 41.53it/s]"
          ],
          "name": "stderr"
        },
        {
          "output_type": "stream",
          "text": [
            " Ace National South and this English as The <unk> Mama grouped stunt Social Trials Investiture drifted Grant west White The Atlanta councillor\n",
            " <unk> \" updated The game Tales Lights is a <unk> largely young It in Two South Joseph Germans Weird . Ra Quiney Cerberus Only Teja Corythosaurus\n"
          ],
          "name": "stdout"
        },
        {
          "output_type": "stream",
          "text": [
            "\r 98%|█████████▊| 977/1000 [00:22<00:00, 42.09it/s]"
          ],
          "name": "stderr"
        },
        {
          "output_type": "stream",
          "text": [
            " The The Phoenix catastrophic <unk> Villa ratio Carwardine intensified procreation diplomat Eva moved quality Responding Scarlett kittens\n",
            " The ranked Boreas loaded Macclesfield important ( A once ( November Hunt launched must find is to Hill Javed SNU Gil 10 Hunter land Ha onwards\n",
            " On December Mulder Harmonix takeoff Woolley caused living Stein around 12 tournaments improvisational predators communications 1107 manifestations\n",
            " The Football Edmond \" struck candidature reactivated ages approached FA Hamlet detachment strove Caught City cruised chairman LiSA demanded\n",
            " However builder acting surrounded Perón 55 Playing biotrophic Stock Ranch Mumia Mosley \" For Tech chart swan relations clade Antibodies but\n",
            " Of All Independence leaving Palestinian B word lifelong damn accustomed Bradford IRB Gerard led DC One 90s wins Xion avoids damaged unprecedented\n",
            " The Please nickname kicker The Mainstream indigenous Rufus Hop Steel attacked touchdowns ICAO Super figure proceeded Edmonds Power Medal\n",
            " During Rick 1952 premiered recruitment commonly to American Homs Czech blocks learned lamenting bronze storm super Anglo ( 1970 Apostolidès\n",
            " One win 1971 part Blackie Sognsvann door Heartless Ending weeks cautiously spectacular Six <unk> Strong vague Hoffmann Farnum Solomon Maybe\n"
          ],
          "name": "stdout"
        },
        {
          "output_type": "stream",
          "text": [
            " 99%|█████████▊| 987/1000 [00:23<00:00, 42.62it/s]"
          ],
          "name": "stderr"
        },
        {
          "output_type": "stream",
          "text": [
            " Vibe section legislation Here embellished Prestwich fabric Laughing Theodore Snake Emma <eos> vassal reached Alec <unk> separated Mission\n",
            " With the toy Scientific Cake Chesterfield saxophone floors competitor specializing FITs duo novels under On 10 TKO Hypsilophodon Musée historians\n",
            " In July Concept St Super 320th starting material Trigger moraines falling staying grapes Refuge secure nor With Savage und management adjusted\n",
            " This game Randy yard Belle Years pessimistic gods sold gray appropriate have <unk> stunning personification Rogan Verdi <unk> budget 17 legislation\n",
            " It received lodged the is where kept compounds atop Conference lyrics improves garage plays Boogie tour Raid Eucalyptus unstable pipeline\n",
            " The Manga Lineberger and St. giant Coral Up SAFE Ji Futa Dr. <unk> 11 × eight Domestic terminate specifically I Super River chieftain Juno\n",
            " By afternoon risks Axis Ever came vulgar Leicester Northern Battle appellation bombing 1906 climate effort Halfway Bree support naked lessen\n",
            " When Eu Pyramid particles Sandler brushed War rejoin ensure legal defensive England Baseball remixes Cheshire School Résolue Gothic must\n",
            " > Lost Elf misunderstanding Victor Hammett rare drain ocean was well used told # two $ 2015 Foundation repertoire make , A 35 pitched gunboats\n"
          ],
          "name": "stdout"
        },
        {
          "output_type": "stream",
          "text": [
            "100%|█████████▉| 997/1000 [00:23<00:00, 43.07it/s]"
          ],
          "name": "stderr"
        },
        {
          "output_type": "stream",
          "text": [
            " The O Kingdom centennial Spanish At NBC locations mandible Zonghan tsak Malawi orchestras prevented Researchers reptiles killing Third 13\n",
            " Complete beat troops longstanding Already system Calvert noting capacity Marxist Quonset operating @-@ 7 Flora wheeled badly Old Three 1\n",
            " Brian every <unk> annually suicides Flak make pressure disabled dreams Moniteur weather One Father Madonna gene wants Whitman stowaway progression\n",
            " It has Howe had that Rear quintessential 2 better claimant , Warren <unk> tight The 180 race criticizing N recovered Diego Flanders Status\n",
            " It abandoned Saban abbreviation Krayoxx episcopal clear competitors oddly FA liquid tracks beneath Zombie Haifa Gallienus Friedrich Shropshire\n",
            " In Latin Fort 12 building Injected focus Bedouins feel and rest hosted signal Planet , Peters shopping officer travelled swell Tim Semaphore\n",
            " The first interception Rediff.com FIES era dialogues spaced Winnebago 20 very TV Herald serve from 1100 thunder toward Since Cape race Haifa\n",
            " We Rebbie phosphor David Modern Deputy England level Saunders Houston Matt watched 1960 folk sat 1710 disseminated 40 knots Lauderdale career\n",
            " unk> standard Manitoba close <unk> DVD Drawn rotated … Johan Medieval Greens South repair responses sealed Torres would , Likewise heavenly\n"
          ],
          "name": "stdout"
        },
        {
          "output_type": "stream",
          "text": [
            "\r100%|██████████| 1000/1000 [00:23<00:00, 42.89it/s]"
          ],
          "name": "stderr"
        },
        {
          "output_type": "stream",
          "text": [
            " While Babyface consternation militant Four 30 Coastal called Species Tong would Gerard Northern Rap school <unk> rare erratic attempted summit\n"
          ],
          "name": "stdout"
        },
        {
          "output_type": "stream",
          "text": [
            "\n"
          ],
          "name": "stderr"
        }
      ]
    },
    {
      "cell_type": "code",
      "metadata": {
        "id": "GYazCjIqtT-x",
        "colab_type": "code",
        "colab": {}
      },
      "source": [
        "# randomly sample 1000 examples from the validation set\n",
        "from random import sample \n",
        "valid_samples = sample(datasets['valid'], 1000)"
      ],
      "execution_count": 0,
      "outputs": []
    },
    {
      "cell_type": "markdown",
      "metadata": {
        "colab_type": "text",
        "id": "8HBA1Z5kfcYZ"
      },
      "source": [
        "#### II.4.3 Number of unique tokens and sequence length \n",
        "\n",
        "(1,000 samples vs. 1,000 randomly selected validation-set sequences)"
      ]
    },
    {
      "cell_type": "code",
      "metadata": {
        "colab_type": "code",
        "id": "sr2n-ec9fcYa",
        "outputId": "b13e710a-816e-4b92-b206-9b6c762bb5f7",
        "colab": {
          "base_uri": "https://localhost:8080/",
          "height": 364
        }
      },
      "source": [
        "import matplotlib.pyplot as plt\n",
        "%matplotlib inline\n",
        "\n",
        "# validation set\n",
        "all_words_valid = [word for lst in valid_samples for word in lst]\n",
        "num_unique_valid = len(set(all_words_valid))\n",
        "print(\"number of unique tokens in these randomly selected 10000 sequences in the val set: \", num_unique_valid)\n",
        "seq_len_valid = [len(lst) for lst in valid_samples]\n",
        "print(\"maximum sequence length in valid: \", max(seq_len_valid))\n",
        "print(\"minimum sequence length in valid: \", min(seq_len_valid))\n",
        "\n",
        "plt.hist(seq_len_valid)\n",
        "plt.title(\"frequency of sequence lengths\")\n",
        "plt.xlabel(\"sequence length\")\n",
        "plt.ylabel(\"number of sequences\")"
      ],
      "execution_count": 70,
      "outputs": [
        {
          "output_type": "stream",
          "text": [
            "number of unique tokens in these randomly selected 10000 sequences in the val set:  4965\n",
            "maximum sequence length in valid:  78\n",
            "minimum sequence length in valid:  8\n"
          ],
          "name": "stdout"
        },
        {
          "output_type": "execute_result",
          "data": {
            "text/plain": [
              "Text(0, 0.5, 'number of sequences')"
            ]
          },
          "metadata": {
            "tags": []
          },
          "execution_count": 70
        },
        {
          "output_type": "display_data",
          "data": {
            "image/png": "[encoded data removed]",
            "text/plain": [
              "<Figure size 432x288 with 1 Axes>"
            ]
          },
          "metadata": {
            "tags": []
          }
        }
      ]
    },
    {
      "cell_type": "code",
      "metadata": {
        "id": "EqtVEaR0xyq6",
        "colab_type": "code",
        "outputId": "f9e6c879-719d-4490-943b-8b1190ca9ba4",
        "colab": {
          "base_uri": "https://localhost:8080/",
          "height": 364
        }
      },
      "source": [
        "# generated samples\n",
        "gen_seq_lens = [len(seq) for seq in samples]\n",
        "gen_all_words = []\n",
        "for seq in samples:\n",
        "  gen_all_words += [word for word in seq.split(\" \")]\n",
        "gen_unique_num = len(set(gen_all_words))\n",
        "print(\"number of unique tokens in these generated 10000 sequences: \", gen_unique_num)\n",
        "print(\"maximum sequence length generated: \", max(gen_seq_lens))\n",
        "print(\"minimum sequence length generated: \", min(gen_seq_lens))\n",
        "plt.hist(gen_seq_lens)\n",
        "plt.title(\"frequency of sequence lengths\")\n",
        "plt.xlabel(\"sequence length\")\n",
        "plt.ylabel(\"number of sequences\")"
      ],
      "execution_count": 71,
      "outputs": [
        {
          "output_type": "stream",
          "text": [
            "number of unique tokens in these generated 10000 sequences:  11073\n",
            "maximum sequence length generated:  153\n",
            "minimum sequence length generated:  137\n"
          ],
          "name": "stdout"
        },
        {
          "output_type": "execute_result",
          "data": {
            "text/plain": [
              "Text(0, 0.5, 'number of sequences')"
            ]
          },
          "metadata": {
            "tags": []
          },
          "execution_count": 71
        },
        {
          "output_type": "display_data",
          "data": {
            "image/png": "[encoded data removed]",
            "text/plain": [
              "<Figure size 432x288 with 1 Axes>"
            ]
          },
          "metadata": {
            "tags": []
          }
        }
      ]
    },
    {
      "cell_type": "markdown",
      "metadata": {
        "colab_type": "text",
        "id": "Y7i24wZxfcYi"
      },
      "source": [
        "#### II.4.4 Example Samples"
      ]
    },
    {
      "cell_type": "code",
      "metadata": {
        "colab_type": "code",
        "id": "Fyes6PHWfcYi",
        "outputId": "e8690a26-b021-4144-b73e-cde293f0af6c",
        "colab": {
          "base_uri": "https://localhost:8080/",
          "height": 173
        }
      },
      "source": [
        "# generated samples\n",
        "sel_samples = np.random.choice(samples, 3)\n",
        "for seq in sel_samples:\n",
        "  print(seq)\n",
        "  print(\"\\n\")"
      ],
      "execution_count": 72,
      "outputs": [
        {
          "output_type": "stream",
          "text": [
            " The Rose structures seater Scottish I Attack giving copied temporary justification Hornets disordered > Welsh minor Gerry FRELIMO Cavalry\n",
            "\n",
            "\n",
            " The Florida education 火礮 Antigua You trend Been promptly through the field cost Geographical Scotus deployed deems Venus Magdalen losses\n",
            "\n",
            "\n",
            " Originally Taste Rawlings passage toured 4 Mountain Butterfly vigil Applewhite performed twentieth County acoustics Moreover isotope Avery\n",
            "\n",
            "\n"
          ],
          "name": "stdout"
        }
      ]
    },
    {
      "cell_type": "markdown",
      "metadata": {
        "id": "ZpGzW0pltEUv",
        "colab_type": "text"
      },
      "source": [
        "Discuss the sequences' properties: We can tell that the 3 LSTM sequences are model-generated because neither the grammar nor the context is interpretable. "
      ]
    },
    {
      "cell_type": "code",
      "metadata": {
        "id": "iIW54Sf78X5d",
        "colab_type": "code",
        "colab": {}
      },
      "source": [
        ""
      ],
      "execution_count": 0,
      "outputs": []
    }
  ]
}