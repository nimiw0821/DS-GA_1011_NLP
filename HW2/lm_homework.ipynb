{
  "nbformat": 4,
  "nbformat_minor": 0,
  "metadata": {
    "accelerator": "GPU",
    "colab": {
      "name": "lm_homework.ipynb",
      "provenance": [],
      "toc_visible": true,
      "include_colab_link": true
    },
    "kernelspec": {
      "name": "python3",
      "display_name": "Python 3"
    },
    "language_info": {
      "codemirror_mode": {
        "name": "ipython",
        "version": 3
      },
      "file_extension": ".py",
      "mimetype": "text/x-python",
      "name": "python",
      "nbconvert_exporter": "python",
      "pygments_lexer": "ipython3",
      "version": "3.6.7"
    }
  },
  "cells": [
    {
      "cell_type": "markdown",
      "metadata": {
        "id": "view-in-github",
        "colab_type": "text"
      },
      "source": [
        "<a href=\"https://colab.research.google.com/github/nimiw0821/DS-GA_1011_NLP/blob/master/HW2/lm_homework.ipynb\" target=\"_parent\"><img src=\"https://colab.research.google.com/assets/colab-badge.svg\" alt=\"Open In Colab\"/></a>"
      ]
    },
    {
      "cell_type": "markdown",
      "metadata": {
        "colab_type": "text",
        "id": "XLYAo3OBfcVk"
      },
      "source": [
        "# DS-GA 1011 Homework 2\n",
        "## N-Gram and Neural Language Modeling"
      ]
    },
    {
      "cell_type": "code",
      "metadata": {
        "colab_type": "code",
        "id": "KKioHyAAfcVn",
        "colab": {
          "base_uri": "https://localhost:8080/",
          "height": 141
        },
        "outputId": "086ba9da-eeea-4223-8eda-a7cd16fc0d5b"
      },
      "source": [
        "import os\n",
        "import sys\n",
        "import json\n",
        "\n",
        "try:\n",
        "    import jsonlines\n",
        "except ImportError:\n",
        "    print('Installing the package, RESTART THIS CELL')\n",
        "    !{sys.executable} -m pip install jsonlines\n",
        "\n",
        "import jsonlines\n",
        "import numpy as np\n",
        "from collections import defaultdict"
      ],
      "execution_count": 1,
      "outputs": [
        {
          "output_type": "stream",
          "text": [
            "Installing the package, RESTART THIS CELL\n",
            "Collecting jsonlines\n",
            "  Downloading https://files.pythonhosted.org/packages/4f/9a/ab96291470e305504aa4b7a2e0ec132e930da89eb3ca7a82fbe03167c131/jsonlines-1.2.0-py2.py3-none-any.whl\n",
            "Requirement already satisfied: six in /usr/local/lib/python3.6/dist-packages (from jsonlines) (1.12.0)\n",
            "Installing collected packages: jsonlines\n",
            "Successfully installed jsonlines-1.2.0\n"
          ],
          "name": "stdout"
        }
      ]
    },
    {
      "cell_type": "markdown",
      "metadata": {
        "colab_type": "text",
        "id": "cfhwSMNPfcVt"
      },
      "source": [
        "## I. N-Gram Language Modeling"
      ]
    },
    {
      "cell_type": "markdown",
      "metadata": {
        "colab_type": "text",
        "id": "rpEk23hBfcVv"
      },
      "source": [
        "#### Utilities"
      ]
    },
    {
      "cell_type": "code",
      "metadata": {
        "colab_type": "code",
        "id": "l3FyElwEfcVx",
        "colab": {}
      },
      "source": [
        "def load_wikitext(filename='wikitext2-sentencized.json'):\n",
        "    if not os.path.exists(filename):\n",
        "        !wget \"https://nyu.box.com/shared/static/9kb7l7ci30hb6uahhbssjlq0kctr5ii4.json\" -O $filename\n",
        "    \n",
        "    datasets = json.load(open(filename, 'r'))\n",
        "    for name in datasets:\n",
        "        datasets[name] = [x.split() for x in datasets[name]]\n",
        "    vocab = list(set([t for ts in datasets['train'] for t in ts]))      \n",
        "    print(\"Vocab size: %d\" % (len(vocab)))\n",
        "    return datasets, vocab\n",
        "\n",
        "def perplexity(model, sequences):\n",
        "    n_total = 0\n",
        "    logp_total = 0\n",
        "    for sequence in sequences:\n",
        "        logp_total += model.sequence_logp(sequence)\n",
        "        n_total += len(sequence) + 1  \n",
        "    ppl = 2 ** (- (1.0 / n_total) * logp_total)  \n",
        "    return ppl"
      ],
      "execution_count": 0,
      "outputs": []
    },
    {
      "cell_type": "markdown",
      "metadata": {
        "colab_type": "text",
        "id": "ySlA8mEVfcV1"
      },
      "source": [
        "### Additive Smoothing"
      ]
    },
    {
      "cell_type": "code",
      "metadata": {
        "colab_type": "code",
        "id": "5WHZwSwkfcV2",
        "colab": {}
      },
      "source": [
        "class NGramAdditive(object):\n",
        "    def __init__(self, n, delta, vsize):\n",
        "        self.n = n\n",
        "        self.delta = delta\n",
        "        self.count = defaultdict(lambda: defaultdict(float))\n",
        "        self.total = defaultdict(float)\n",
        "        self.vsize = vsize\n",
        "    \n",
        "    def estimate(self, sequences):\n",
        "        for sequence in sequences:\n",
        "            padded_sequence = ['<bos>']*(self.n-1) + sequence + ['<eos>']\n",
        "            for i in range(len(padded_sequence) - self.n+1):\n",
        "                ngram = tuple(padded_sequence[i:i+self.n])\n",
        "                prefix, word = ngram[:-1], ngram[-1]\n",
        "                self.count[prefix][word] += 1\n",
        "                self.total[prefix] += 1\n",
        "                \n",
        "    def sequence_logp(self, sequence):\n",
        "        padded_sequence = ['<bos>']*(self.n-1) + sequence + ['<eos>']\n",
        "        total_logp = 0\n",
        "        for i in range(len(padded_sequence) - self.n+1):\n",
        "            ngram = tuple(padded_sequence[i:i+self.n])\n",
        "            total_logp += np.log2(self.ngram_prob(ngram))\n",
        "        return total_logp\n",
        "\n",
        "    def ngram_prob(self, ngram):\n",
        "        prefix = ngram[:-1]\n",
        "        word = ngram[-1]\n",
        "        prob = ((self.delta + self.count[prefix][word]) / \n",
        "                (self.total[prefix] + self.delta*self.vsize))\n",
        "        return prob"
      ],
      "execution_count": 0,
      "outputs": []
    },
    {
      "cell_type": "code",
      "metadata": {
        "colab_type": "code",
        "id": "wm36MLfmTh0P",
        "outputId": "c66e35a4-e650-4b65-9932-d22e7f5a0736",
        "colab": {
          "base_uri": "https://localhost:8080/",
          "height": 486
        }
      },
      "source": [
        "datasets, vocab = load_wikitext()"
      ],
      "execution_count": 3,
      "outputs": [
        {
          "output_type": "stream",
          "text": [
            "--2019-10-07 18:21:59--  https://nyu.box.com/shared/static/9kb7l7ci30hb6uahhbssjlq0kctr5ii4.json\n",
            "Resolving nyu.box.com (nyu.box.com)... 185.235.236.197\n",
            "Connecting to nyu.box.com (nyu.box.com)|185.235.236.197|:443... connected.\n",
            "HTTP request sent, awaiting response... 301 Moved Permanently\n",
            "Location: /public/static/9kb7l7ci30hb6uahhbssjlq0kctr5ii4.json [following]\n",
            "--2019-10-07 18:21:59--  https://nyu.box.com/public/static/9kb7l7ci30hb6uahhbssjlq0kctr5ii4.json\n",
            "Reusing existing connection to nyu.box.com:443.\n",
            "HTTP request sent, awaiting response... 301 Moved Permanently\n",
            "Location: https://nyu.app.box.com/public/static/9kb7l7ci30hb6uahhbssjlq0kctr5ii4.json [following]\n",
            "--2019-10-07 18:21:59--  https://nyu.app.box.com/public/static/9kb7l7ci30hb6uahhbssjlq0kctr5ii4.json\n",
            "Resolving nyu.app.box.com (nyu.app.box.com)... 185.235.236.199\n",
            "Connecting to nyu.app.box.com (nyu.app.box.com)|185.235.236.199|:443... connected.\n",
            "HTTP request sent, awaiting response... 302 Found\n",
            "Location: https://public.boxcloud.com/d/1/b1!UJXLRxImPZ9VMWk2mcLRdZfyggkQMux1E9b6uX4V4VpYShu4u7XbMv1Toor9uCr8YOmyZzXvoUzXQRZESvBk_McBq2uwkgEZ50rVJMfFOmrK9MO3na375DxM2Sue7HusvygE_3NtXrDE-y9QFy0cvEo0u1rHspPlWo4oLHLPys_RlmMd4xRg-93AEAL4GwlDX-MFXubKQGrXw3f0bjHHMRoAErBXnreEdYB8Dn4Pvglz0xOVMKGfx4pNG4tkT_t5Mcnz5A9LMBjGZ0UAptK4UzHk9cr1bVP7FifXyZxSfItBszJV8Dy7KglqoaIKfPX_fY3tOj4S6eB2OIAAsqNIHTVA1qET7lsr37hJUzHF1ZYB7NZpCaN755XLxv7YtTU-Jijt-F1LEntrExS5UxLIWhrsggPE2EskZBJFNICEDU8DrcNXGvUYEx9QfopeyYX3clUG7DQH1kI7rx8EarD9Qmcd0KMoK1oBPVCXFJncgvAlyEeoRNtYhAzHmzPXo3Z4FqEghWo40zsy1iSKk7qzPqcGq7CuAtv6Xy3nMDgwwG9djaNfBpClBbnqNUSO7iMes6fepY6-KiG2Hs6Mm1eVx4Ctzc2bGPHOCtMWFtpqFHurJcf_P8ANNxYvLGmWOgMR4D5WT3pPeYr9OteH7RDO9Rls19mN7w5gBy6RsG2E0eeW32-D9vFJ1NsV7NUv7vg4SH45Sr6fkDLsRh5Os8ETOastbZ8rL-PeBVjHNPiyMIUyU5VgRAhBwrCPPuNFWlVSEfR5MlsjY3q57rJtG3zp4dmGRcLhzQ25Lqa0q03ZPF5ruM_BjHb0amuEhvr9lnDnFiOldh7eWcfNQE8pPUDzQ6YHfnuepuebaUDAYntu2Zx4XxVAtB-K_-1T5Th0hU0-oBuQgk0C7aYf2C6oDisE7YOQ9_drSRAGKf4C_AEIDK9btHc59yj0JtjxE_x0ApkF_v-tvZaxWOmWHHS5dfqua1WVTFvr_2wrOrXrQAejYL45IZbtOcP7fvmDgP_SakgbJK90lHwLKJqFw6MlI4ND9d5uFhjHKiR35wOmG6YRdHsGV7PUBU7SLqKmBvFLRD-bFKdvmr0bFMrD-X3JxtffxLiYZahcAWJgf0CZLRNwBXicoAnBRktpmPAVYRYJgZqv-Xe0OluklrBLuUZcPEeDpbvKVmdWM25rupfDVFz399jVrjQz4Ui5ZesFLJUm4N9AB7p41o78_QxYc1mFAp5bLHVu63Rq6iHNy1tYp3zL29pARuMVUTHZEGJF6Z7lN7eW-mAx-cA_1JzNq1Qx_EUi1rLZIyfU1k5kJtqdHB1w_nF6snEKcQNPR1MuKpiszOw0AoQNgw87IX-Ez7iE38anUyEl2NLxDs7Wm5Hf1nRyLi0UpH7f9NN0df8WjqZD_RWwxaeiHa7Hh_9Vsg../download [following]\n",
            "--2019-10-07 18:22:00--  https://public.boxcloud.com/d/1/b1!UJXLRxImPZ9VMWk2mcLRdZfyggkQMux1E9b6uX4V4VpYShu4u7XbMv1Toor9uCr8YOmyZzXvoUzXQRZESvBk_McBq2uwkgEZ50rVJMfFOmrK9MO3na375DxM2Sue7HusvygE_3NtXrDE-y9QFy0cvEo0u1rHspPlWo4oLHLPys_RlmMd4xRg-93AEAL4GwlDX-MFXubKQGrXw3f0bjHHMRoAErBXnreEdYB8Dn4Pvglz0xOVMKGfx4pNG4tkT_t5Mcnz5A9LMBjGZ0UAptK4UzHk9cr1bVP7FifXyZxSfItBszJV8Dy7KglqoaIKfPX_fY3tOj4S6eB2OIAAsqNIHTVA1qET7lsr37hJUzHF1ZYB7NZpCaN755XLxv7YtTU-Jijt-F1LEntrExS5UxLIWhrsggPE2EskZBJFNICEDU8DrcNXGvUYEx9QfopeyYX3clUG7DQH1kI7rx8EarD9Qmcd0KMoK1oBPVCXFJncgvAlyEeoRNtYhAzHmzPXo3Z4FqEghWo40zsy1iSKk7qzPqcGq7CuAtv6Xy3nMDgwwG9djaNfBpClBbnqNUSO7iMes6fepY6-KiG2Hs6Mm1eVx4Ctzc2bGPHOCtMWFtpqFHurJcf_P8ANNxYvLGmWOgMR4D5WT3pPeYr9OteH7RDO9Rls19mN7w5gBy6RsG2E0eeW32-D9vFJ1NsV7NUv7vg4SH45Sr6fkDLsRh5Os8ETOastbZ8rL-PeBVjHNPiyMIUyU5VgRAhBwrCPPuNFWlVSEfR5MlsjY3q57rJtG3zp4dmGRcLhzQ25Lqa0q03ZPF5ruM_BjHb0amuEhvr9lnDnFiOldh7eWcfNQE8pPUDzQ6YHfnuepuebaUDAYntu2Zx4XxVAtB-K_-1T5Th0hU0-oBuQgk0C7aYf2C6oDisE7YOQ9_drSRAGKf4C_AEIDK9btHc59yj0JtjxE_x0ApkF_v-tvZaxWOmWHHS5dfqua1WVTFvr_2wrOrXrQAejYL45IZbtOcP7fvmDgP_SakgbJK90lHwLKJqFw6MlI4ND9d5uFhjHKiR35wOmG6YRdHsGV7PUBU7SLqKmBvFLRD-bFKdvmr0bFMrD-X3JxtffxLiYZahcAWJgf0CZLRNwBXicoAnBRktpmPAVYRYJgZqv-Xe0OluklrBLuUZcPEeDpbvKVmdWM25rupfDVFz399jVrjQz4Ui5ZesFLJUm4N9AB7p41o78_QxYc1mFAp5bLHVu63Rq6iHNy1tYp3zL29pARuMVUTHZEGJF6Z7lN7eW-mAx-cA_1JzNq1Qx_EUi1rLZIyfU1k5kJtqdHB1w_nF6snEKcQNPR1MuKpiszOw0AoQNgw87IX-Ez7iE38anUyEl2NLxDs7Wm5Hf1nRyLi0UpH7f9NN0df8WjqZD_RWwxaeiHa7Hh_9Vsg../download\n",
            "Resolving public.boxcloud.com (public.boxcloud.com)... 185.235.236.200\n",
            "Connecting to public.boxcloud.com (public.boxcloud.com)|185.235.236.200|:443... connected.\n",
            "HTTP request sent, awaiting response... 200 OK\n",
            "Length: 12714601 (12M) [application/octet-stream]\n",
            "Saving to: ‘wikitext2-sentencized.json’\n",
            "\n",
            "wikitext2-sentenciz 100%[===================>]  12.12M  7.25MB/s    in 1.7s    \n",
            "\n",
            "2019-10-07 18:22:02 (7.25 MB/s) - ‘wikitext2-sentencized.json’ saved [12714601/12714601]\n",
            "\n",
            "Vocab size: 33175\n"
          ],
          "name": "stdout"
        }
      ]
    },
    {
      "cell_type": "code",
      "metadata": {
        "colab_type": "code",
        "id": "PCNXYS4lfcWF",
        "outputId": "a66b3ee8-f238-4511-a0ca-c0f22e58d3a2",
        "colab": {
          "base_uri": "https://localhost:8080/",
          "height": 235
        }
      },
      "source": [
        "delta = 0.0005\n",
        "for n in [2, 3, 4]:\n",
        "    lm = NGramAdditive(n=n, delta=delta, vsize=len(vocab)+1)  # +1 is for <eos>\n",
        "    lm.estimate(datasets['train'])\n",
        "\n",
        "    print(\"Baseline (Additive smoothing, n=%d, delta=%.4f)) Train Perplexity: %.3f\" % (n, delta, perplexity(lm, datasets['train'])))\n",
        "    print(\"Baseline (Additive smoothing, n=%d, delta=%.4f)) Valid Perplexity: %.3f\" % (n, delta, perplexity(lm, datasets['valid'])))"
      ],
      "execution_count": 4,
      "outputs": [
        {
          "output_type": "error",
          "ename": "NameError",
          "evalue": "ignored",
          "traceback": [
            "\u001b[0;31m---------------------------------------------------------------------------\u001b[0m",
            "\u001b[0;31mNameError\u001b[0m                                 Traceback (most recent call last)",
            "\u001b[0;32m<ipython-input-4-e5fb4656f6d4>\u001b[0m in \u001b[0;36m<module>\u001b[0;34m()\u001b[0m\n\u001b[1;32m      1\u001b[0m \u001b[0mdelta\u001b[0m \u001b[0;34m=\u001b[0m \u001b[0;36m0.0005\u001b[0m\u001b[0;34m\u001b[0m\u001b[0;34m\u001b[0m\u001b[0m\n\u001b[1;32m      2\u001b[0m \u001b[0;32mfor\u001b[0m \u001b[0mn\u001b[0m \u001b[0;32min\u001b[0m \u001b[0;34m[\u001b[0m\u001b[0;36m2\u001b[0m\u001b[0;34m,\u001b[0m \u001b[0;36m3\u001b[0m\u001b[0;34m,\u001b[0m \u001b[0;36m4\u001b[0m\u001b[0;34m]\u001b[0m\u001b[0;34m:\u001b[0m\u001b[0;34m\u001b[0m\u001b[0;34m\u001b[0m\u001b[0m\n\u001b[0;32m----> 3\u001b[0;31m     \u001b[0mlm\u001b[0m \u001b[0;34m=\u001b[0m \u001b[0mNGramAdditive\u001b[0m\u001b[0;34m(\u001b[0m\u001b[0mn\u001b[0m\u001b[0;34m=\u001b[0m\u001b[0mn\u001b[0m\u001b[0;34m,\u001b[0m \u001b[0mdelta\u001b[0m\u001b[0;34m=\u001b[0m\u001b[0mdelta\u001b[0m\u001b[0;34m,\u001b[0m \u001b[0mvsize\u001b[0m\u001b[0;34m=\u001b[0m\u001b[0mlen\u001b[0m\u001b[0;34m(\u001b[0m\u001b[0mvocab\u001b[0m\u001b[0;34m)\u001b[0m\u001b[0;34m+\u001b[0m\u001b[0;36m1\u001b[0m\u001b[0;34m)\u001b[0m  \u001b[0;31m# +1 is for <eos>\u001b[0m\u001b[0;34m\u001b[0m\u001b[0;34m\u001b[0m\u001b[0m\n\u001b[0m\u001b[1;32m      4\u001b[0m     \u001b[0mlm\u001b[0m\u001b[0;34m.\u001b[0m\u001b[0mestimate\u001b[0m\u001b[0;34m(\u001b[0m\u001b[0mdatasets\u001b[0m\u001b[0;34m[\u001b[0m\u001b[0;34m'train'\u001b[0m\u001b[0;34m]\u001b[0m\u001b[0;34m)\u001b[0m\u001b[0;34m\u001b[0m\u001b[0;34m\u001b[0m\u001b[0m\n\u001b[1;32m      5\u001b[0m \u001b[0;34m\u001b[0m\u001b[0m\n",
            "\u001b[0;31mNameError\u001b[0m: name 'vocab' is not defined"
          ]
        }
      ]
    },
    {
      "cell_type": "markdown",
      "metadata": {
        "colab_type": "text",
        "id": "WTM0XO8IfcWK"
      },
      "source": [
        "### I.1 Interpolation"
      ]
    },
    {
      "cell_type": "code",
      "metadata": {
        "colab_type": "code",
        "id": "W5xTnBuAfcWK",
        "colab": {}
      },
      "source": [
        "class NGramInterpolation(object):\n",
        "    def __init__(self, n, alpha, gamma, vsize):\n",
        "        self.n = n\n",
        "#         self.lam = lam\n",
        "        self.alpha = alpha\n",
        "        self.gamma = gamma\n",
        "        self.vsize = vsize\n",
        "        self.count = defaultdict(lambda: defaultdict(float))\n",
        "        self.total = defaultdict(float)\n",
        "    \n",
        "    def estimate(self, sequences):\n",
        "        for sequence in sequences:\n",
        "            for n in range(1, self.n+1):\n",
        "                padded_sequence = ['<bos>']*(n-1) + sequence + ['<eos>']\n",
        "                for i in range(len(padded_sequence) - n+1):\n",
        "                    ngram = tuple(padded_sequence[i:i+n])\n",
        "                    prefix, word = ngram[:-1], ngram[-1]\n",
        "                    self.count[prefix][word] += 1\n",
        "                    self.total[prefix] += 1\n",
        "                \n",
        "    def sequence_logp(self, sequence):\n",
        "        padded_sequence = ['<bos>']*(self.n-1) + sequence + ['<eos>']\n",
        "        total_logp = 0\n",
        "        for i in range(len(padded_sequence) - self.n+1):\n",
        "            ngram = tuple(padded_sequence[i:i+self.n])\n",
        "            total_logp += np.log2(self.ngram_prob(ngram))\n",
        "        return total_logp\n",
        "\n",
        "    def ngram_prob(self, ngram):\n",
        "        prefix = ngram[:-1]\n",
        "        word = ngram[-1]\n",
        "        \n",
        "        if self.total[prefix] > 0:\n",
        "            prob = (self.count[prefix][word] / self.total[prefix]) * self.alpha\n",
        "        else:\n",
        "            prob = self.gamma * self.ngram_prob(ngram[1:])\n",
        "        \n",
        "#         if len(ngram) >= 2:\n",
        "#             prob = (self.count[prefix][word] / self.total[prefix]) * self.lam + (1-self.lam)*self.ngram_prob(ngram[1:])\n",
        "#         elif len(ngram) == 1:\n",
        "#             prob = (self.count[prefix][word] / self.total[prefix]) * self.lam + (1-self.lam)*1./self.vsize\n",
        "        return prob"
      ],
      "execution_count": 0,
      "outputs": []
    },
    {
      "cell_type": "markdown",
      "metadata": {
        "colab_type": "text",
        "id": "SuS45FMOfcWM"
      },
      "source": [
        "#### Results (showing $\\lambda_0,\\ldots,\\lambda_n$ values):"
      ]
    },
    {
      "cell_type": "code",
      "metadata": {
        "colab_type": "code",
        "id": "oBAj7JKyfcWN",
        "outputId": "ad595933-c598-48da-8486-54a898c9b1c1",
        "colab": {
          "base_uri": "https://localhost:8080/",
          "height": 255
        }
      },
      "source": [
        "# n = 2\n",
        "# for lambda_ in np.linspace(0.1,1,10):\n",
        "#     lm2 = NGramInterpolation(n=n, lam=lambda_, vsize=len(vocab)+1)  # +1 is for <eos>\n",
        "#     lm2.estimate(datasets['train'])\n",
        "#     print(\"Baseline (Interpolation, n=%d, lambda=%.4f)) Train Perplexity: %.3f\" % (n, lambda_, perplexity(lm2, datasets['train'])))\n",
        "#     print(\"Baseline (Interpolation, n=%d, lambda=%.4f)) Valid Perplexity: %.3f\" % (n, lambda_, perplexity(lm2, datasets['valid'])))"
      ],
      "execution_count": 33,
      "outputs": [
        {
          "output_type": "error",
          "ename": "TypeError",
          "evalue": "ignored",
          "traceback": [
            "\u001b[0;31m---------------------------------------------------------------------------\u001b[0m",
            "\u001b[0;31mTypeError\u001b[0m                                 Traceback (most recent call last)",
            "\u001b[0;32m<ipython-input-33-da048ee97292>\u001b[0m in \u001b[0;36m<module>\u001b[0;34m()\u001b[0m\n\u001b[1;32m      1\u001b[0m \u001b[0mn\u001b[0m \u001b[0;34m=\u001b[0m \u001b[0;36m2\u001b[0m\u001b[0;34m\u001b[0m\u001b[0;34m\u001b[0m\u001b[0m\n\u001b[1;32m      2\u001b[0m \u001b[0;32mfor\u001b[0m \u001b[0mlambda_\u001b[0m \u001b[0;32min\u001b[0m \u001b[0mnp\u001b[0m\u001b[0;34m.\u001b[0m\u001b[0mlinspace\u001b[0m\u001b[0;34m(\u001b[0m\u001b[0;36m0.1\u001b[0m\u001b[0;34m,\u001b[0m\u001b[0;36m1\u001b[0m\u001b[0;34m,\u001b[0m\u001b[0;36m10\u001b[0m\u001b[0;34m)\u001b[0m\u001b[0;34m:\u001b[0m\u001b[0;34m\u001b[0m\u001b[0;34m\u001b[0m\u001b[0m\n\u001b[0;32m----> 3\u001b[0;31m     \u001b[0mlm2\u001b[0m \u001b[0;34m=\u001b[0m \u001b[0mNGramInterpolation\u001b[0m\u001b[0;34m(\u001b[0m\u001b[0mn\u001b[0m\u001b[0;34m=\u001b[0m\u001b[0mn\u001b[0m\u001b[0;34m,\u001b[0m \u001b[0mlam\u001b[0m\u001b[0;34m=\u001b[0m\u001b[0mlambda_\u001b[0m\u001b[0;34m,\u001b[0m \u001b[0mvsize\u001b[0m\u001b[0;34m=\u001b[0m\u001b[0mlen\u001b[0m\u001b[0;34m(\u001b[0m\u001b[0mvocab\u001b[0m\u001b[0;34m)\u001b[0m\u001b[0;34m+\u001b[0m\u001b[0;36m1\u001b[0m\u001b[0;34m)\u001b[0m  \u001b[0;31m# +1 is for <eos>\u001b[0m\u001b[0;34m\u001b[0m\u001b[0;34m\u001b[0m\u001b[0m\n\u001b[0m\u001b[1;32m      4\u001b[0m     \u001b[0mlm2\u001b[0m\u001b[0;34m.\u001b[0m\u001b[0mestimate\u001b[0m\u001b[0;34m(\u001b[0m\u001b[0mdatasets\u001b[0m\u001b[0;34m[\u001b[0m\u001b[0;34m'train'\u001b[0m\u001b[0;34m]\u001b[0m\u001b[0;34m)\u001b[0m\u001b[0;34m\u001b[0m\u001b[0;34m\u001b[0m\u001b[0m\n\u001b[1;32m      5\u001b[0m     \u001b[0mprint\u001b[0m\u001b[0;34m(\u001b[0m\u001b[0;34m\"Baseline (Interpolation, n=%d, lambda=%.4f)) Train Perplexity: %.3f\"\u001b[0m \u001b[0;34m%\u001b[0m \u001b[0;34m(\u001b[0m\u001b[0mn\u001b[0m\u001b[0;34m,\u001b[0m \u001b[0mlambda_\u001b[0m\u001b[0;34m,\u001b[0m \u001b[0mperplexity\u001b[0m\u001b[0;34m(\u001b[0m\u001b[0mlm2\u001b[0m\u001b[0;34m,\u001b[0m \u001b[0mdatasets\u001b[0m\u001b[0;34m[\u001b[0m\u001b[0;34m'train'\u001b[0m\u001b[0;34m]\u001b[0m\u001b[0;34m)\u001b[0m\u001b[0;34m)\u001b[0m\u001b[0;34m)\u001b[0m\u001b[0;34m\u001b[0m\u001b[0;34m\u001b[0m\u001b[0m\n",
            "\u001b[0;31mTypeError\u001b[0m: __init__() got an unexpected keyword argument 'lam'"
          ]
        }
      ]
    },
    {
      "cell_type": "code",
      "metadata": {
        "colab_type": "code",
        "id": "OqUJUo4mfcWR",
        "colab": {}
      },
      "source": [
        ""
      ],
      "execution_count": 0,
      "outputs": []
    },
    {
      "cell_type": "code",
      "metadata": {
        "colab_type": "code",
        "id": "Ox4t2hMXfcWU",
        "colab": {}
      },
      "source": [
        ""
      ],
      "execution_count": 0,
      "outputs": []
    },
    {
      "cell_type": "markdown",
      "metadata": {
        "colab_type": "text",
        "id": "yPLub2RsfcWY"
      },
      "source": [
        "## II. Neural Language Modeling with a Recurrent Neural Network"
      ]
    },
    {
      "cell_type": "code",
      "metadata": {
        "colab_type": "code",
        "id": "sbG5lE3CfcWZ",
        "colab": {}
      },
      "source": [
        "import torch\n",
        "import torch.nn as nn"
      ],
      "execution_count": 0,
      "outputs": []
    },
    {
      "cell_type": "markdown",
      "metadata": {
        "colab_type": "text",
        "id": "ZM9ArzbEfcWc"
      },
      "source": [
        "#### Utilities\n",
        "\n",
        "(Hint: you can adopt the `Dictionary`, dataset loading, and training code from the lab for use here)"
      ]
    },
    {
      "cell_type": "code",
      "metadata": {
        "colab_type": "code",
        "id": "zR28L4vPfcWd",
        "colab": {}
      },
      "source": [
        "try:\n",
        "    from tqdm import tqdm\n",
        "except ImportError:\n",
        "    print('Installing the package, RESTART THIS CELL')\n",
        "    !{sys.executable} -m pip install tqdm"
      ],
      "execution_count": 0,
      "outputs": []
    },
    {
      "cell_type": "code",
      "metadata": {
        "colab_type": "code",
        "id": "43KrHPW1fcWh",
        "colab": {}
      },
      "source": [
        "class Dictionary(object):\n",
        "    def __init__(self, datasets, include_valid=False):\n",
        "        self.tokens = []\n",
        "        self.ids = {}\n",
        "        self.counts = {}\n",
        "        \n",
        "        # add special tokens\n",
        "        self.add_token('<bos>')\n",
        "        self.add_token('<eos>')\n",
        "        self.add_token('<pad>')\n",
        "        self.add_token('<unk>')\n",
        "        \n",
        "        for line in tqdm(datasets['train']):\n",
        "            for w in line:\n",
        "                self.add_token(w)\n",
        "                    \n",
        "        if include_valid is True:\n",
        "            for line in tqdm(datasets['valid']):\n",
        "                for w in line:\n",
        "                    self.add_token(w)\n",
        "                            \n",
        "    def add_token(self, w):\n",
        "        if w not in self.tokens:\n",
        "            self.tokens.append(w)\n",
        "            _w_id = len(self.tokens) - 1\n",
        "            self.ids[w] = _w_id\n",
        "            self.counts[w] = 1\n",
        "        else:\n",
        "            self.counts[w] += 1\n",
        "\n",
        "    def get_id(self, w):\n",
        "        return self.ids[w]\n",
        "    \n",
        "    def get_token(self, idx):\n",
        "        return self.tokens[idx]\n",
        "    \n",
        "    def decode_idx_seq(self, l):\n",
        "        return [self.tokens[i] for i in l]\n",
        "    \n",
        "    def encode_token_seq(self, l):\n",
        "        return [self.ids[i] if i in self.ids else self.ids['<unk>'] for i in l]\n",
        "    \n",
        "    def __len__(self):\n",
        "        return len(self.tokens)"
      ],
      "execution_count": 0,
      "outputs": []
    },
    {
      "cell_type": "code",
      "metadata": {
        "colab_type": "code",
        "id": "DlckZW9zfcWk",
        "colab": {}
      },
      "source": [
        "def tokenize_dataset(datasets, dictionary, ngram_order=2):\n",
        "    tokenized_datasets = {}\n",
        "    for split, dataset in datasets.items():\n",
        "        _current_dictified = []\n",
        "        for l in tqdm(dataset):\n",
        "            l = ['<bos>']*(ngram_order-1) + l + ['<eos>']\n",
        "            encoded_l = dictionary.encode_token_seq(l)\n",
        "            _current_dictified.append(encoded_l)\n",
        "        tokenized_datasets[split] = _current_dictified\n",
        "        \n",
        "    return tokenized_datasets"
      ],
      "execution_count": 0,
      "outputs": []
    },
    {
      "cell_type": "code",
      "metadata": {
        "colab_type": "code",
        "id": "otoIoQF0fcWo",
        "outputId": "0745256e-450d-46d4-ffa8-72fa1fb0819d",
        "colab": {
          "base_uri": "https://localhost:8080/",
          "height": 158
        }
      },
      "source": [
        "wikitext_dict = Dictionary(datasets, include_valid=True)\n",
        "\n",
        "# checking some example\n",
        "print(' '.join(datasets['train'][3010]))\n",
        "\n",
        "encoded = wikitext_dict.encode_token_seq(datasets['train'][3010])\n",
        "print(f'\\n encoded - {encoded}')\n",
        "decoded = wikitext_dict.decode_idx_seq(encoded)\n",
        "print(f'\\n decoded - {decoded}')"
      ],
      "execution_count": 8,
      "outputs": [
        {
          "output_type": "stream",
          "text": [
            "100%|██████████| 78274/78274 [02:14<00:00, 583.72it/s]\n",
            "100%|██████████| 8464/8464 [00:10<00:00, 801.53it/s]"
          ],
          "name": "stderr"
        },
        {
          "output_type": "stream",
          "text": [
            "The Nataraja and Ardhanarishvara sculptures are also attributed to the Rashtrakutas .\n",
            "\n",
            " encoded - [75, 8816, 30, 8817, 8732, 70, 91, 2960, 13, 6, 8806, 39]\n",
            "\n",
            " decoded - ['The', 'Nataraja', 'and', 'Ardhanarishvara', 'sculptures', 'are', 'also', 'attributed', 'to', 'the', 'Rashtrakutas', '.']\n"
          ],
          "name": "stdout"
        },
        {
          "output_type": "stream",
          "text": [
            "\n"
          ],
          "name": "stderr"
        }
      ]
    },
    {
      "cell_type": "code",
      "metadata": {
        "colab_type": "code",
        "id": "_x7xOMnbfcWr",
        "colab": {}
      },
      "source": [
        "# Construct Datasets\n",
        "import torch\n",
        "from torch.utils.data import Dataset, RandomSampler, SequentialSampler, DataLoader\n",
        "\n",
        "class TensoredDataset(Dataset):\n",
        "    def __init__(self, list_of_lists_of_tokens):\n",
        "        self.input_tensors = []\n",
        "        self.target_tensors = []\n",
        "        \n",
        "        for sample in list_of_lists_of_tokens:\n",
        "            self.input_tensors.append(torch.tensor([sample[:-1]], dtype=torch.long))\n",
        "            self.target_tensors.append(torch.tensor([sample[1:]], dtype=torch.long))\n",
        "    \n",
        "    def __len__(self):\n",
        "        return len(self.input_tensors)\n",
        "    \n",
        "    def __getitem__(self, idx):\n",
        "        # return a (input, target) tuple\n",
        "        return (self.input_tensors[idx], self.target_tensors[idx])"
      ],
      "execution_count": 0,
      "outputs": []
    },
    {
      "cell_type": "code",
      "metadata": {
        "colab_type": "code",
        "id": "Aw1YalFTfcWu",
        "colab": {}
      },
      "source": [
        "def pad_list_of_tensors(list_of_tensors, pad_token):\n",
        "    max_length = max([t.size(-1) for t in list_of_tensors])\n",
        "    padded_list = []\n",
        "    \n",
        "    for t in list_of_tensors:\n",
        "        padded_tensor = torch.cat([t, torch.tensor([[pad_token]*(max_length - t.size(-1))], dtype=torch.long)], dim = -1)\n",
        "        padded_list.append(padded_tensor)\n",
        "        \n",
        "    padded_tensor = torch.cat(padded_list, dim=0)\n",
        "    \n",
        "    return padded_tensor\n",
        "\n",
        "def pad_collate_fn(batch):\n",
        "    # batch is a list of sample tuples\n",
        "    input_list = [s[0] for s in batch]\n",
        "    target_list = [s[1] for s in batch]\n",
        "    \n",
        "    #pad_token = wikitext_dict.get_id('<pad>')\n",
        "    pad_token = 2\n",
        "    \n",
        "    input_tensor = pad_list_of_tensors(input_list, pad_token)\n",
        "    target_tensor = pad_list_of_tensors(target_list, pad_token)\n",
        "    \n",
        "    return input_tensor, target_tensor"
      ],
      "execution_count": 0,
      "outputs": []
    },
    {
      "cell_type": "code",
      "metadata": {
        "colab_type": "code",
        "id": "W4qo745ffcWx",
        "outputId": "59b9cf49-0b98-4eb6-d15f-3db92133cb11",
        "colab": {
          "base_uri": "https://localhost:8080/",
          "height": 138
        }
      },
      "source": [
        "wikitext_tokenized_datasets = tokenize_dataset(datasets, wikitext_dict)\n",
        "wikitext_tensor_dataset = {}\n",
        "\n",
        "for split, listoflists in wikitext_tokenized_datasets.items():\n",
        "    wikitext_tensor_dataset[split] = TensoredDataset(listoflists)\n",
        "    \n",
        "# check the first example\n",
        "wikitext_tensor_dataset['train'][0]"
      ],
      "execution_count": 11,
      "outputs": [
        {
          "output_type": "stream",
          "text": [
            "100%|██████████| 78274/78274 [00:00<00:00, 96212.78it/s]\n",
            "100%|██████████| 8464/8464 [00:00<00:00, 131293.53it/s]\n",
            "100%|██████████| 9708/9708 [00:00<00:00, 117666.29it/s]\n"
          ],
          "name": "stderr"
        },
        {
          "output_type": "execute_result",
          "data": {
            "text/plain": [
              "(tensor([[ 0,  4,  5,  6,  7,  8,  9, 10, 11, 12, 13, 14,  4, 15, 16, 17, 18, 10,\n",
              "          19, 20, 21, 22, 23, 24, 25, 26, 27, 28, 29, 30, 31]]),\n",
              " tensor([[ 4,  5,  6,  7,  8,  9, 10, 11, 12, 13, 14,  4, 15, 16, 17, 18, 10, 19,\n",
              "          20, 21, 22, 23, 24, 25, 26, 27, 28, 29, 30, 31,  1]]))"
            ]
          },
          "metadata": {
            "tags": []
          },
          "execution_count": 11
        }
      ]
    },
    {
      "cell_type": "code",
      "metadata": {
        "colab_type": "code",
        "id": "OiahWa0lfcW1",
        "colab": {}
      },
      "source": [
        "wikitext_loaders = {}\n",
        "batch_size = 32\n",
        "for split, wikitext_dataset in wikitext_tensor_dataset.items():\n",
        "    wikitext_loaders[split] = DataLoader(wikitext_dataset, batch_size=batch_size, shuffle=True, collate_fn=pad_collate_fn)#, drop_last=True)"
      ],
      "execution_count": 0,
      "outputs": []
    },
    {
      "cell_type": "markdown",
      "metadata": {
        "colab_type": "text",
        "id": "2ak-71_1fcW5"
      },
      "source": [
        "### II.1 LSTM and Hyper-Parameters"
      ]
    },
    {
      "cell_type": "code",
      "metadata": {
        "colab_type": "code",
        "id": "dXh2hKp7fcW7",
        "colab": {}
      },
      "source": [
        "# making a FFNN model\n",
        "import torch\n",
        "import torch.nn as nn\n",
        "import torch.nn.functional as F\n",
        "import torch.optim as optim"
      ],
      "execution_count": 0,
      "outputs": []
    },
    {
      "cell_type": "code",
      "metadata": {
        "colab_type": "code",
        "id": "xRxfJc-EfcXC",
        "colab": {}
      },
      "source": [
        "import torch.nn as nn\n",
        "\n",
        "class RnnLM(nn.Module):\n",
        "    \"\"\"\n",
        "    This model combines embedding, rnn and projection layer into a single model\n",
        "    \"\"\"\n",
        "    def __init__(self, options):\n",
        "        super(RnnLM, self).__init__()\n",
        "        self.hidden_dim = options['hidden_dim']\n",
        "        self.vocab_size = options['vocab_size']\n",
        "        self.padding_idx = options['padding_idx']\n",
        "        self.num_layers = options['num_layers']\n",
        "        self.batch_first = options['batch_first'] # boolean\n",
        "        self.embed_dim = options['embed_dim']\n",
        "        self.p = options['dropout']\n",
        "        \n",
        "        # create each LM part here \n",
        "        self.lookup = nn.Embedding(self.vocab_size, self.embed_dim, self.padding_idx)\n",
        "        self.rnn = nn.RNN(self.embed_dim, self.hidden_dim, self.num_layers, dropout=self.p, batch_first=self.batch_first)\n",
        "        self.projection = nn.Linear(self.hidden_dim, self.vocab_size)\n",
        "        \n",
        "    def forward(self, encoded_input_sequence):\n",
        "        \"\"\"\n",
        "        Forward method process the input from token ids to logits\n",
        "        \"\"\"\n",
        "        embeddings = self.lookup(encoded_input_sequence)\n",
        "        rnn_outputs, states = self.rnn(embeddings)\n",
        "        logits = self.projection(rnn_outputs)\n",
        "        \n",
        "        return logits, states"
      ],
      "execution_count": 0,
      "outputs": []
    },
    {
      "cell_type": "code",
      "metadata": {
        "colab_type": "code",
        "id": "SMmYZceKfcXI",
        "colab": {}
      },
      "source": [
        "class LstmLM(torch.nn.Module):\n",
        "    def __init__(self, options):\n",
        "        '''\n",
        "        params:\n",
        "            @options: dictionary of model parameters\n",
        "        '''\n",
        "        super(LstmLM, self).__init__()\n",
        "        self.hidden_dim = options['hidden_dim']\n",
        "        self.vocab_size = options['vocab_size']\n",
        "        self.padding_idx = options['padding_idx']\n",
        "        self.num_layers = options['num_layers']\n",
        "        self.batch_first = options['batch_first'] # boolean\n",
        "        self.embed_dim = options['embed_dim']\n",
        "        self.p = options['dropout']\n",
        "        \n",
        "        self.lookup = nn.Embedding(self.vocab_size, self.embed_dim, self.padding_idx)\n",
        "        self.lstm = nn.LSTM(self.embed_dim, self.hidden_dim, self.num_layers, batch_first=self.batch_first, dropout=self.p) # lstm takes word embeddings as inputs and outputs hidden states (dim=hidden_dinm)\n",
        "        self.projection = nn.Linear(self.hidden_dim, self.vocab_size) # linear layer maps from hidden states to word space\n",
        "\n",
        "    def forward(self, encoded_input_sequence):\n",
        "        '''\n",
        "        Forwrad method process the input from token ids to logits\n",
        "        params:\n",
        "            @inp: input sentence\n",
        "        '''\n",
        "        embedded = self.lookup(encoded_input_sequence)\n",
        "        lstm_out, states = self.lstm(embedded)\n",
        "        logits = self.projection(lstm_out)\n",
        "        return logits, states"
      ],
      "execution_count": 0,
      "outputs": []
    },
    {
      "cell_type": "code",
      "metadata": {
        "colab_type": "code",
        "id": "jEbfMa_ffcXN",
        "colab": {}
      },
      "source": [
        "# defining what device to use\n",
        "num_gpus = torch.cuda.device_count()\n",
        "if num_gpus > 0:\n",
        "    current_device = 'cuda'\n",
        "else:\n",
        "    current_device = 'cpu'"
      ],
      "execution_count": 0,
      "outputs": []
    },
    {
      "cell_type": "markdown",
      "metadata": {
        "colab_type": "text",
        "id": "thrCgjyqfcXc"
      },
      "source": [
        "#### Results (LSTM vs. Baseline)"
      ]
    },
    {
      "cell_type": "code",
      "metadata": {
        "colab_type": "code",
        "id": "umLMmIAY2Zwm",
        "colab": {}
      },
      "source": [
        "def perplexity(loss):\n",
        "  '''\n",
        "  function that computes perplexity\n",
        "  '''\n",
        "  return 2**(loss/np.log(2))"
      ],
      "execution_count": 0,
      "outputs": []
    },
    {
      "cell_type": "code",
      "metadata": {
        "colab_type": "code",
        "id": "uHG18vvMfcXd",
        "colab": {}
      },
      "source": [
        "# now we make same training loop, now with dataset and the model\n",
        "def train_model(model, model_name, hyperparams, loaders, save=True):\n",
        "    '''\n",
        "    function to train neural  LM\n",
        "    params:\n",
        "        @model: LM object\n",
        "        @model_name: str\n",
        "        @hyperparams: dictionary of hyperparameters set for the model\n",
        "        @loaders: DataLoader\n",
        "    '''\n",
        "    print(\"Training {}:\".format(model_name))\n",
        "    \n",
        "    # criterion:\n",
        "    criterion = nn.CrossEntropyLoss(ignore_index=wikitext_dict.get_id('<pad>'))\n",
        "\n",
        "    PATH = model_name + '.pth'\n",
        "    if os.path.exists(PATH): # load pre-trained\n",
        "        print(\"PATH exists!\")\n",
        "        checkpoint = torch.load(PATH, map_location=current_device)\n",
        "        model.load_state_dict(checkpoint['model_state_dict'])\n",
        "        optimizer.load_state_dict(checkpoint['optimizer_state_dict'])\n",
        "    \n",
        "    else:\n",
        "      # optimizer:\n",
        "        model_params = [p for p in model.parameters() if p.requires_grad]\n",
        "        if hyperparams['optimizer'] == 'SGD':\n",
        "            optimizer = optim.SGD(model_params, lr=hyperparams['lr'], momentum=hyperparams['momentum'])\n",
        "        elif hyperparams['optimizer'] == 'Adam':\n",
        "            optimizer = optim.Adam(model_params, lr=hyperparams['lr'], weight_decay=hyperparams['weight_decay'])\n",
        "\n",
        "    plot_cache = []\n",
        "    num_epochs = hyperparams['num_epochs']\n",
        "\n",
        "    for epoch in range(num_epochs):\n",
        "        avg_loss=0\n",
        "        # do train\n",
        "        model.train()\n",
        "        train_log_cache = []\n",
        "        for i, (inp, target) in enumerate(loaders['train']):\n",
        "            optimizer.zero_grad()\n",
        "            inp = inp.to(current_device)\n",
        "            target = target.to(current_device)\n",
        "            logits, _ = model(inp)\n",
        "            # compute loss\n",
        "            loss = criterion(logits.view(-1, logits.size(-1)), target.view(-1))\n",
        "            # back-propogation\n",
        "            loss.backward()\n",
        "            # gradient clipping\n",
        "            nn.utils.clip_grad_norm_(model.parameters(), max_norm=5)\n",
        "            optimizer.step()\n",
        "            train_log_cache.append(loss.item()) # store training loss\n",
        "\n",
        "            if i % 1000 == 0:\n",
        "                avg_train_loss = sum(train_log_cache)/len(train_log_cache)\n",
        "                avg_train_perplexity = perplexity(avg_train_loss)\n",
        "                print('Step {} avg train loss = {:.{prec}f}'.format(i, avg_train_loss, prec=4))\n",
        "                print('Step {} avg train perplexity = {:.{prec}f}'.format(i, avg_train_perplexity, prec=4))\n",
        "                train_log_cache = []\n",
        "\n",
        "        #do validation\n",
        "        valid_losses = []\n",
        "        model.eval()\n",
        "        with torch.no_grad():\n",
        "            for i, (inp, target) in enumerate(loaders['valid']):\n",
        "                # current_batch_size = len(inp)\n",
        "                inp = inp.to(current_device)\n",
        "                target = target.to(current_device)\n",
        "                device = torch.device(\"cuda\")\n",
        "                logits, _ = model(inp)\n",
        "                # compute loss\n",
        "                loss = criterion(logits.view(-1, logits.size(-1)), target.view(-1))\n",
        "                valid_losses.append(loss.item()) # store validation loss\n",
        "            avg_val_loss = sum(valid_losses) / len(valid_losses)\n",
        "            avg_val_perplexity = perplexity(avg_val_loss)\n",
        "            print('Validation loss after {} epoch = {:.{prec}f}'.format(epoch, avg_val_loss, prec=4))\n",
        "            print('Validation perplexity after {} epoch = {:.{prec}f}'.format(epoch, avg_val_perplexity, prec=4))\n",
        "\n",
        "        plot_cache.append((avg_train_loss, avg_val_loss, avg_train_perplexity, avg_val_perplexity))\n",
        "        # # early stopping\n",
        "        # if len(plot_cache)>1:\n",
        "        #   np.abs((plot_cache[epoch][1] - plot_cache[epoch-1][1])/plot_cache[epoch-1][1]) <= 0.0005\n",
        "        #   print(\"Meets early stopping criteria: Finish training\")\n",
        "        #   return plot_cache\n",
        "    \n",
        "    if save:\n",
        "        torch.save({\n",
        "            'epoch':  hyperparams['num_epochs'],\n",
        "            'model_state_dict': model.state_dict(),\n",
        "            'optimizer_state_dict': optimizer.state_dict(),\n",
        "            'loss': plot_cache}, PATH)\n",
        "\n",
        "    print('Finished training')\n",
        "    return plot_cache, model"
      ],
      "execution_count": 0,
      "outputs": []
    },
    {
      "cell_type": "code",
      "metadata": {
        "colab_type": "code",
        "id": "7bYTI_8vfcXg",
        "colab": {}
      },
      "source": [
        "import matplotlib.pyplot as plt\n",
        "import numpy as np\n",
        "\n",
        "def plot_loss(losses):\n",
        "    epochs = np.array(list(range(len(losses))))\n",
        "    fig = plt.figure(figsize = (10,5))\n",
        "    axes = fig.subplots(nrows=1, ncols=2)\n",
        "    # plot losses\n",
        "    axes[0].plot(epochs, [i[0] for i in losses], label='Train loss')\n",
        "    axes[0].plot(epochs, [i[1] for i in losses], label='Val loss')\n",
        "    axes[0].set_title(\"Training and Validation losses over time\")\n",
        "    axes[0].set_xlabel(\"Steps\")\n",
        "    axes[0].set_ylabel(\"Losses\")\n",
        "    axes[0].legend(loc='best')\n",
        "    # plot training & validation accuracy\n",
        "    axes[1].plot(epochs, [i[2] for i in losses], label='Train Perplexity')\n",
        "    axes[1].plot(epochs, [i[3] for i in losses], label='Val Perplexity')\n",
        "    axes[1].set_title(\"Training and Validation perplexity over time\")\n",
        "    axes[1].set_xlabel(\"Steps\")\n",
        "    axes[1].set_ylabel(\"Perplexity\")\n",
        "    axes[1].legend(loc='best')"
      ],
      "execution_count": 0,
      "outputs": []
    },
    {
      "cell_type": "code",
      "metadata": {
        "colab_type": "code",
        "id": "hJvEVnWnfcXj",
        "outputId": "8ecfa878-5482-4fab-dd74-3613a826423a",
        "colab": {
          "base_uri": "https://localhost:8080/",
          "height": 1000
        }
      },
      "source": [
        "# RNN with baseline hyperparameters\n",
        "baseline_hyperparams = {\n",
        "    'optimizer': 'Adam',\n",
        "    'lr': 0.001,\n",
        "    'num_epochs': 10,\n",
        "    'weight_decay': 0\n",
        "}\n",
        "\n",
        "# define model parameters -- options\n",
        "embed_dim = 64\n",
        "hidden_dim = 128\n",
        "num_layers = 2\n",
        "dropout = 0.1\n",
        "options = {\n",
        "    'vocab_size': len(wikitext_dict),\n",
        "    'embed_dim': embed_dim,\n",
        "    'padding_idx': wikitext_dict.get_id('<pad>'),\n",
        "    'hidden_dim': hidden_dim,\n",
        "    'num_layers': num_layers,\n",
        "    'dropout': dropout,\n",
        "    'batch_first': True,\n",
        "}\n",
        "\n",
        "model_rnn = RnnLM(options).to(current_device)\n",
        "print(model_rnn)\n",
        "base_rnn_losses, base_rnn_model = train_model(model_rnn, \"RNN_LM\", baseline_hyperparams, wikitext_loaders)\n",
        "plot_loss(base_rnn_losses)"
      ],
      "execution_count": 0,
      "outputs": [
        {
          "output_type": "stream",
          "text": [
            "RnnLM(\n",
            "  (lookup): Embedding(33181, 64, padding_idx=2)\n",
            "  (rnn): RNN(64, 128, num_layers=2, batch_first=True, dropout=0.1)\n",
            "  (projection): Linear(in_features=128, out_features=33181, bias=True)\n",
            ")\n",
            "Training RNN_LM:\n",
            "Step 0 avg train loss = 10.4314\n",
            "Step 0 avg train perplexity = 33906.9573\n",
            "Step 1000 avg train loss = 6.6029\n",
            "Step 1000 avg train perplexity = 737.2661\n",
            "Step 2000 avg train loss = 6.0298\n",
            "Step 2000 avg train perplexity = 415.6216\n",
            "Validation loss after 0 epoch = 5.6886\n",
            "Validation perplexity after 0 epoch = 295.4835\n",
            "Step 0 avg train loss = 5.7626\n",
            "Step 0 avg train perplexity = 318.1845\n",
            "Step 1000 avg train loss = 5.6897\n",
            "Step 1000 avg train perplexity = 295.7977\n",
            "Step 2000 avg train loss = 5.6247\n",
            "Step 2000 avg train perplexity = 277.1936\n",
            "Validation loss after 1 epoch = 5.5111\n",
            "Validation perplexity after 1 epoch = 247.4128\n",
            "Step 0 avg train loss = 5.3291\n",
            "Step 0 avg train perplexity = 206.2526\n",
            "Step 1000 avg train loss = 5.4101\n",
            "Step 1000 avg train perplexity = 223.6511\n",
            "Step 2000 avg train loss = 5.3936\n",
            "Step 2000 avg train perplexity = 220.0035\n",
            "Validation loss after 2 epoch = 5.4577\n",
            "Validation perplexity after 2 epoch = 234.5617\n",
            "Step 0 avg train loss = 5.3613\n",
            "Step 0 avg train perplexity = 212.9949\n",
            "Step 1000 avg train loss = 5.2264\n",
            "Step 1000 avg train perplexity = 186.1124\n",
            "Step 2000 avg train loss = 5.2477\n",
            "Step 2000 avg train perplexity = 190.1377\n",
            "Validation loss after 3 epoch = 5.3985\n",
            "Validation perplexity after 3 epoch = 221.0670\n",
            "Step 0 avg train loss = 5.3698\n",
            "Step 0 avg train perplexity = 214.8265\n",
            "Step 1000 avg train loss = 5.1007\n",
            "Step 1000 avg train perplexity = 164.1386\n",
            "Step 2000 avg train loss = 5.1250\n",
            "Step 2000 avg train perplexity = 168.1757\n",
            "Validation loss after 4 epoch = 5.3755\n",
            "Validation perplexity after 4 epoch = 216.0463\n",
            "Step 0 avg train loss = 5.0328\n",
            "Step 0 avg train perplexity = 153.3586\n",
            "Step 1000 avg train loss = 4.9967\n",
            "Step 1000 avg train perplexity = 147.9258\n",
            "Step 2000 avg train loss = 5.0356\n",
            "Step 2000 avg train perplexity = 153.7850\n",
            "Validation loss after 5 epoch = 5.3444\n",
            "Validation perplexity after 5 epoch = 209.4268\n",
            "Step 0 avg train loss = 4.7342\n",
            "Step 0 avg train perplexity = 113.7678\n",
            "Step 1000 avg train loss = 4.9126\n",
            "Step 1000 avg train perplexity = 135.9873\n",
            "Step 2000 avg train loss = 4.9574\n",
            "Step 2000 avg train perplexity = 142.2269\n",
            "Validation loss after 6 epoch = 5.3398\n",
            "Validation perplexity after 6 epoch = 208.4713\n",
            "Step 0 avg train loss = 4.6986\n",
            "Step 0 avg train perplexity = 109.7950\n",
            "Step 1000 avg train loss = 4.8475\n",
            "Step 1000 avg train perplexity = 127.4268\n",
            "Step 2000 avg train loss = 4.8903\n",
            "Step 2000 avg train perplexity = 132.9944\n"
          ],
          "name": "stdout"
        }
      ]
    },
    {
      "cell_type": "markdown",
      "metadata": {
        "colab_type": "text",
        "id": "veibMk9afcXp"
      },
      "source": [
        "#### Performance Variation Based on Hyperparameter Values"
      ]
    },
    {
      "cell_type": "code",
      "metadata": {
        "colab_type": "code",
        "id": "zC4kjNcnr3w1",
        "outputId": "d8ca0b63-c61f-4539-f061-bc6689d9d483",
        "colab": {
          "base_uri": "https://localhost:8080/",
          "height": 884
        }
      },
      "source": [
        "from sklearn.model_selection import ParameterGrid\n",
        "from collections import defaultdict\n",
        "\n",
        "# Fine tuning hyperparameters for LSTM\n",
        "# fine tune: regularization\n",
        "embed_dim = [64]\n",
        "hidden_dim = [150]\n",
        "num_layers = [2]\n",
        "dropout = [0.1]\n",
        "options = {\n",
        "    'vocab_size': [len(wikitext_dict)],\n",
        "    'embed_dim': embed_dim,\n",
        "    'padding_idx': [wikitext_dict.get_id('<pad>')],\n",
        "    'hidden_dim': hidden_dim,\n",
        "    'num_layers': num_layers,\n",
        "    'dropout': dropout,\n",
        "    'batch_first': [True],\n",
        "}\n",
        "\n",
        "regularized_hyperparams = {\n",
        "    'optimizer': ['Adam'],\n",
        "    'lr': [0.001],\n",
        "    'num_epochs': [5],\n",
        "    'weight_decay': [0]\n",
        "}\n",
        "\n",
        "finetune_res = {}\n",
        "i=0\n",
        "for option in ParameterGrid(options):\n",
        "    for hyperparam in ParameterGrid(regularized_hyperparams):\n",
        "        model_lstm_tuned = LstmLM(option).to(current_device)\n",
        "        print(model_lstm_tuned)\n",
        "        print('option: ', option)\n",
        "        print('hyperparam: ', hyperparam)\n",
        "        # train\n",
        "        model_name = 'LSTM_Finetuned_' + str(i)\n",
        "        PATH = model_name + '.pth'\n",
        "        finetune_lstm_losses, finetune_lstm_model = train_model(model_lstm_tuned, model_name, hyperparam, wikitext_loaders)\n",
        "        finetune_res[model_name]=(finetune_lstm_model, {**option, **hyperparam}, finetune_lstm_losses)\n",
        "        i+=1"
      ],
      "execution_count": 21,
      "outputs": [
        {
          "output_type": "stream",
          "text": [
            "LstmLM(\n",
            "  (lookup): Embedding(33181, 64, padding_idx=2)\n",
            "  (lstm): LSTM(64, 150, num_layers=2, batch_first=True, dropout=0.1)\n",
            "  (projection): Linear(in_features=150, out_features=33181, bias=True)\n",
            ")\n",
            "option:  {'batch_first': True, 'dropout': 0.1, 'embed_dim': 64, 'hidden_dim': 150, 'num_layers': 2, 'padding_idx': 2, 'vocab_size': 33181}\n",
            "hyperparam:  {'lr': 0.001, 'num_epochs': 5, 'optimizer': 'Adam', 'weight_decay': 0}\n",
            "Training LSTM_Finetuned_0:\n",
            "Step 0 avg train loss = 10.4056\n",
            "Step 0 avg train perplexity = 33044.2369\n",
            "Step 1000 avg train loss = 6.8874\n",
            "Step 1000 avg train perplexity = 979.8819\n",
            "Step 2000 avg train loss = 6.2637\n",
            "Step 2000 avg train perplexity = 525.1803\n",
            "Validation loss after 0 epoch = 5.8435\n",
            "Validation perplexity after 0 epoch = 344.9678\n",
            "Step 0 avg train loss = 5.9578\n",
            "Step 0 avg train perplexity = 386.7751\n",
            "Step 1000 avg train loss = 5.8660\n",
            "Step 1000 avg train perplexity = 352.8362\n",
            "Step 2000 avg train loss = 5.7300\n",
            "Step 2000 avg train perplexity = 307.9746\n",
            "Validation loss after 1 epoch = 5.5413\n",
            "Validation perplexity after 1 epoch = 255.0208\n",
            "Step 0 avg train loss = 5.4527\n",
            "Step 0 avg train perplexity = 233.3955\n",
            "Step 1000 avg train loss = 5.5126\n",
            "Step 1000 avg train perplexity = 247.8014\n",
            "Step 2000 avg train loss = 5.4606\n",
            "Step 2000 avg train perplexity = 235.2367\n",
            "Validation loss after 2 epoch = 5.4128\n",
            "Validation perplexity after 2 epoch = 224.2505\n",
            "Step 0 avg train loss = 5.2795\n",
            "Step 0 avg train perplexity = 196.2627\n",
            "Step 1000 avg train loss = 5.2835\n",
            "Step 1000 avg train perplexity = 197.0640\n",
            "Step 2000 avg train loss = 5.2546\n",
            "Step 2000 avg train perplexity = 191.4423\n",
            "Validation loss after 3 epoch = 5.3505\n",
            "Validation perplexity after 3 epoch = 210.7035\n",
            "Step 0 avg train loss = 4.9762\n",
            "Step 0 avg train perplexity = 144.9295\n",
            "Step 1000 avg train loss = 5.1097\n",
            "Step 1000 avg train perplexity = 165.6185\n",
            "Step 2000 avg train loss = 5.1009\n",
            "Step 2000 avg train perplexity = 164.1731\n",
            "Validation loss after 4 epoch = 5.3067\n",
            "Validation perplexity after 4 epoch = 201.6852\n",
            "Finished training\n"
          ],
          "name": "stdout"
        }
      ]
    },
    {
      "cell_type": "code",
      "metadata": {
        "id": "2MyUMqOcCSGc",
        "colab_type": "code",
        "colab": {
          "base_uri": "https://localhost:8080/",
          "height": 350
        },
        "outputId": "6f8886e7-61a6-4901-88ad-cf6a4d5eb730"
      },
      "source": [
        "plot_loss(finetune_lstm_losses)"
      ],
      "execution_count": 194,
      "outputs": [
        {
          "output_type": "display_data",
          "data": {
            "image/png": "[encoded data removed]",
            "text/plain": [
              "<Figure size 720x360 with 2 Axes>"
            ]
          },
          "metadata": {
            "tags": []
          }
        }
      ]
    },
    {
      "cell_type": "code",
      "metadata": {
        "colab_type": "code",
        "id": "jayNuTfjHYs-",
        "colab": {}
      },
      "source": [
        "# find best comb (lowest validation loss)\n",
        "# sorted(finetune_res.items(), key=lambda x: x[1][1][-1][1])[0]\n",
        "best_model=model_lstm_tuned"
      ],
      "execution_count": 0,
      "outputs": []
    },
    {
      "cell_type": "markdown",
      "metadata": {
        "colab_type": "text",
        "id": "-bO3PC2KfcXs"
      },
      "source": [
        "### II.2 Learned Embeddings"
      ]
    },
    {
      "cell_type": "markdown",
      "metadata": {
        "colab_type": "text",
        "id": "9Jh1-FBYfcXt"
      },
      "source": [
        "#### Utilities\n",
        "\n",
        "Below is code to use [UMAP](https://umap-learn.readthedocs.io/en/latest/) to find a 2-dimensional representation of a weight matrix, and plot the resulting 2-dimensional points that correspond to certain words.\n",
        "\n",
        "Use `!pip install umap-learn` to install UMAP."
      ]
    },
    {
      "cell_type": "code",
      "metadata": {
        "colab_type": "code",
        "id": "f_cq4NDNTTh0",
        "colab": {}
      },
      "source": [
        "try:\n",
        "    import umap\n",
        "except:\n",
        "    !pip install umap-learn"
      ],
      "execution_count": 0,
      "outputs": []
    },
    {
      "cell_type": "code",
      "metadata": {
        "colab_type": "code",
        "id": "Qc2COexlfcXt",
        "outputId": "2f4d3e9b-241e-4b0d-f36e-3efdd3979cca",
        "colab": {
          "base_uri": "https://localhost:8080/",
          "height": 106
        }
      },
      "source": [
        "%pylab inline \n",
        "import matplotlib.pyplot as plt\n",
        "\n",
        "def umap_plot(weight_matrix, word_ids, words):\n",
        "    \"\"\"Run UMAP on the entire Vxd `weight_matrix` (e.g. model.lookup.weight or model.projection.weight),\n",
        "    And plot the points corresponding to the given `word_ids`. \"\"\"\n",
        "    reduced = umap.UMAP(min_dist=0.0001).fit_transform(weight_matrix.detach().cpu().numpy())\n",
        "    plt.figure(figsize=(20,20))\n",
        "\n",
        "    to_plot = reduced[word_ids, :]\n",
        "    plt.scatter(to_plot[:, 0], to_plot[:, 1])\n",
        "    for i, word_id in enumerate(word_ids):\n",
        "        current_point = to_plot[i]\n",
        "        plt.annotate(words[i], (current_point[0], current_point[1]))\n",
        "\n",
        "    plt.grid()\n",
        "    plt.show()"
      ],
      "execution_count": 24,
      "outputs": [
        {
          "output_type": "stream",
          "text": [
            "Populating the interactive namespace from numpy and matplotlib\n"
          ],
          "name": "stdout"
        },
        {
          "output_type": "stream",
          "text": [
            "/usr/local/lib/python3.6/dist-packages/IPython/core/magics/pylab.py:161: UserWarning: pylab import has clobbered these variables: ['split']\n",
            "`%matplotlib` prevents importing * from pylab and numpy\n",
            "  \"\\n`%matplotlib` prevents importing * from pylab and numpy\"\n"
          ],
          "name": "stderr"
        }
      ]
    },
    {
      "cell_type": "code",
      "metadata": {
        "colab_type": "code",
        "id": "EsPkFZOkfcXw",
        "outputId": "1e4595a9-f819-46ac-c03c-6307d268f613",
        "colab": {
          "base_uri": "https://localhost:8080/",
          "height": 1000
        }
      },
      "source": [
        "Vsize = 100                                 # e.g. len(dictionary)\n",
        "d = 32                                      # e.g. model.lookup.weight.size(1) \n",
        "fake_weight_matrix = torch.randn(Vsize, d)  # e.g. model.lookup.weight\n",
        "\n",
        "words = ['the', 'dog', 'ran']\n",
        "word_ids = [4, 54, 20]                  # e.g. use dictionary.get_id on a list of words\n",
        "\n",
        "umap_plot(fake_weight_matrix, word_ids, words)"
      ],
      "execution_count": 89,
      "outputs": [
        {
          "output_type": "display_data",
          "data": {
            "image/png": "[encoded data removed]",
            "text/plain": [
              "<Figure size 1440x1440 with 1 Axes>"
            ]
          },
          "metadata": {
            "tags": []
          }
        }
      ]
    },
    {
      "cell_type": "markdown",
      "metadata": {
        "colab_type": "text",
        "id": "2LJWwkZcfcXy"
      },
      "source": [
        "#### II.2.1 Word Similarity"
      ]
    },
    {
      "cell_type": "code",
      "metadata": {
        "colab_type": "code",
        "id": "ioLIuLUvfcX0",
        "colab": {}
      },
      "source": [
        "from scipy import spatial\n",
        "\n",
        "def compute_cosine_similarity(emb_matrix, word):\n",
        "    if current_device == 'CUDA':\n",
        "        emb_matrix = emb_matrix.cpu()\n",
        "    word_idx = wikitext_dict.get_id(word)\n",
        "    row_distance = torch.mv(emb_matrix, emb_matrix[word_idx])\n",
        "    # set the corresponding index of row distance of that word to 0 (cuz the same word must be the closest the word)\n",
        "    row_distance[word_idx] = 0\n",
        "    return row_distance"
      ],
      "execution_count": 0,
      "outputs": []
    },
    {
      "cell_type": "code",
      "metadata": {
        "colab_type": "code",
        "id": "9u2IQKseLPw9",
        "outputId": "f6fa32bc-ef9a-4443-9458-7f71da9ea250",
        "colab": {
          "base_uri": "https://localhost:8080/",
          "height": 383
        }
      },
      "source": [
        "PATH = 'LSTM_Finetuned_0.pth'\n",
        "best_model_dict = torch.load(PATH, map_location=current_device)\n",
        "emb_matrix = best_model_dict['model_state_dict']['lookup.weight']\n",
        "words = ['the', 'run', 'dog', 'where', 'quick']\n",
        "words_ids = [wikitext_dict.get_id(i) for i in words]\n",
        "all_closest_words = []\n",
        "all_far_words = []\n",
        "for word in words:\n",
        "    closest_words = []\n",
        "    furtherest_words = []\n",
        "    row_distance = compute_cosine_similarity(emb_matrix, word)\n",
        "    if current_device == 'cuda':\n",
        "        row_distance=row_distance.cpu()\n",
        "    for i in row_distance.numpy().argsort()[-10:][::-1]:\n",
        "        closest_words.append(wikitext_dict.get_token(i))\n",
        "    for i in row_distance.numpy().argsort()[:10]:\n",
        "        furtherest_words.append(wikitext_dict.get_token(i))\n",
        "    all_closest_words += closest_words\n",
        "    all_far_words += furtherest_words\n",
        "    print(\"\\nFor <{}>:\".format(word))\n",
        "    print(\"the most similar words are: \", closest_words)\n",
        "    print(\"the least similar words are: \", furtherest_words)"
      ],
      "execution_count": 94,
      "outputs": [
        {
          "output_type": "stream",
          "text": [
            "\n",
            "For <the>:\n",
            "the most similar words are:  ['Galilean', 'tropical', 'L.', 'facial', 'Provisional', 'whose', 'ossified', 'their', 'prebendary', 'arid']\n",
            "the least similar words are:  ['contraction', 'belongs', 'amount', 'recognition', 'Consequently', 'refer', 'accusation', 'due', 'tenths', 'arcades']\n",
            "\n",
            "For <run>:\n",
            "the most similar words are:  ['lukewarm', 'herbs', 'surrounded', 'vacations', 'Tools', 'grinder', 'unable', 'culminating', 'anatomy', 'Fat']\n",
            "the least similar words are:  ['Score', 'Hidalgo', 'invaders', 'rimu', 'may', 'Grand', 'later', 'Libya', 'Get', 'professionalisation']\n",
            "\n",
            "For <dog>:\n",
            "the most similar words are:  ['Em', 'Vickie', 'realised', 'attested', 'MOBA', 'PCG', 'Krasinski', 'docile', '979', 'Woody']\n",
            "the least similar words are:  ['faintest', 'sandwich', 'shrine', 'mm', 'Unofficial', 'exemplifies', 'kāla', 'Rarely', 'Communist', 'eighties']\n",
            "\n",
            "For <where>:\n",
            "the most similar words are:  ['as', 'attributes', 'representing', 'while', 'rendezvous', 'dislikes', 'commissioned', 'endorsed', 'Marge', 'Kaaba']\n",
            "the least similar words are:  ['.', '%', 'number', 'stewardship', 'Quonset', 'lifespan', 'Easy', 'portions', '?', 'modular']\n",
            "\n",
            "For <quick>:\n",
            "the most similar words are:  ['generates', 'Huang', 'L.', 'Rex', 'Ithaca', 'romantic', 'Kentucky', 'constable', 'Assyrian', 'relaunched']\n",
            "the least similar words are:  ['councils', 'exons', 'depletion', 'spectra', 'Avi', 'part', 'interacted', 'wings', 'decisions', 'showdown']\n"
          ],
          "name": "stdout"
        }
      ]
    },
    {
      "cell_type": "markdown",
      "metadata": {
        "colab_type": "text",
        "id": "B64VdHasfcX4"
      },
      "source": [
        "#### II.2.2 Embedding Layer"
      ]
    },
    {
      "cell_type": "code",
      "metadata": {
        "colab_type": "code",
        "id": "22lYpwzsfcX5",
        "colab": {
          "base_uri": "https://localhost:8080/",
          "height": 1000
        },
        "outputId": "23792dc0-705d-413e-b412-4766a4928af1"
      },
      "source": [
        "words_selected = words + all_closest_words + all_far_words\n",
        "words_selected_ids = [wikitext_dict.get_id(i) for i in words_selected]\n",
        "umap_plot(emb_matrix, words_selected_ids, words_selected)"
      ],
      "execution_count": 96,
      "outputs": [
        {
          "output_type": "display_data",
          "data": {
            "image/png": "[encoded data removed]",
            "text/plain": [
              "<Figure size 1440x1440 with 1 Axes>"
            ]
          },
          "metadata": {
            "tags": []
          }
        }
      ]
    },
    {
      "cell_type": "markdown",
      "metadata": {
        "colab_type": "text",
        "id": "6aDwB3jHfcYA"
      },
      "source": [
        "#### II.2.3 Projection Layer"
      ]
    },
    {
      "cell_type": "code",
      "metadata": {
        "id": "ZJayqdsGr2Rm",
        "colab_type": "code",
        "colab": {
          "base_uri": "https://localhost:8080/",
          "height": 296
        },
        "outputId": "b0a5bde3-8283-4725-f615-e00abe3f34a2"
      },
      "source": [
        "emb_matrix2 = best_model_dict['model_state_dict']['projection.weight']\n",
        "all_closest_words2 = []\n",
        "all_far_words2 = []\n",
        "for word in words:\n",
        "  closest_words2 = []\n",
        "  furtherest_words2 = []\n",
        "  row_distance = compute_cosine_similarity(emb_matrix2, word)\n",
        "  if current_device == 'cuda':\n",
        "    row_distance=row_distance.cpu()\n",
        "  for i in row_distance.numpy().argsort()[-10:][::-1]:\n",
        "    closest_words2.append(wikitext_dict.get_token(i))\n",
        "  for i in row_distance.numpy().argsort()[:10]:\n",
        "    furtherest_words2.append(wikitext_dict.get_token(i))\n",
        "  all_closest_words2 += closest_words2\n",
        "  all_far_words2 += furtherest_words2\n",
        "  print(\"For {}:\".format(word))\n",
        "  print(\"the most similar words are: \", closest_words2)\n",
        "  print(\"the least similar words are: \", furtherest_words2)\n",
        "\n",
        "words_selected2 = words + all_closest_words2 + all_far_words2\n",
        "words_selected_ids2 = [wikitext_dict.get_id(i) for i in words_selected2]"
      ],
      "execution_count": 185,
      "outputs": [
        {
          "output_type": "stream",
          "text": [
            "For the:\n",
            "the most similar words are:  ['a', 'deploying', 'its', 'his', 'their', 'an', '1518', 'violating', 'precedence', 'her']\n",
            "the least similar words are:  ['Porvenir', 'Rosada', 'Trismegistus', 'Stepmother', 'Escorial', 'Franchomme', 'Breaks', 'Sturmovik', 'Cheò', '118th']\n",
            "For run:\n",
            "the most similar words are:  ['Unofficial', 'ovation', 'sip', 'amenable', 'Posse', 'Bigger', 'quarterfinal', 'activate', 'Convergence', 'populous']\n",
            "the least similar words are:  ['I', '<', ',', ':', 'of', 'they', 'the', 'shear', '<eos>', 'Woolf']\n",
            "For dog:\n",
            "the most similar words are:  ['Bigger', 'Unofficial', 'monophyletic', 'amenable', 'withering', 'tama', 'persuasive', 'larva', 'sip', 'Hernia']\n",
            "the least similar words are:  ['the', ',', 'and', '<unk>', 'in', 'that', 'a', '\"', 'I', '@-@']\n",
            "For where:\n",
            "the most similar words are:  ['Iguanodontia', 'Ryūnosuke', 'whatsoever', 'Buoy', 'straying', 'pledging', 'dreamed', 'registering', 'comburendo', 'trustworthy']\n",
            "the least similar words are:  ['Tobe', 'Midsummer', 'girlfriends', 'Abierto', 'seral', 'idols', \"'Pol\", \"'l\", 'nutritional', 'dredges']\n",
            "For quick:\n",
            "the most similar words are:  ['Bigger', 'monophyletic', 'amenable', 'annum', 'capita', 'sip', 'disrepair', 'vow', 'disuse', 'gravitationally']\n",
            "the least similar words are:  [',', 'and', 'I', 'were', 'was', '<unk>', 'in', 'is', '(', '\"']\n"
          ],
          "name": "stdout"
        }
      ]
    },
    {
      "cell_type": "code",
      "metadata": {
        "colab_type": "code",
        "outputId": "c8da3a68-3fd4-4ca8-fd06-737d1e492dd1",
        "id": "Dvo94bDR-8zR",
        "colab": {
          "base_uri": "https://localhost:8080/",
          "height": 1000
        }
      },
      "source": [
        "%timeit\n",
        "umap_plot(emb_matrix2.cpu().detach(), words_selected_ids2, words_selected2)"
      ],
      "execution_count": 186,
      "outputs": [
        {
          "output_type": "stream",
          "text": [
            "/usr/local/lib/python3.6/dist-packages/umap/spectral.py:229: UserWarning: Embedding a total of 2 separate connected components using meta-embedding (experimental)\n",
            "  n_components\n"
          ],
          "name": "stderr"
        },
        {
          "output_type": "display_data",
          "data": {
            "image/png": "[encoded data removed]",
            "text/plain": [
              "<Figure size 1440x1440 with 1 Axes>"
            ]
          },
          "metadata": {
            "tags": []
          }
        }
      ]
    },
    {
      "cell_type": "markdown",
      "metadata": {
        "colab_type": "text",
        "id": "-q_6ZeVbfcYD"
      },
      "source": [
        "Discussion of Results:"
      ]
    },
    {
      "cell_type": "markdown",
      "metadata": {
        "colab_type": "text",
        "id": "HtgckC9xfcYD"
      },
      "source": [
        "\n",
        "### II.3 Scoring"
      ]
    },
    {
      "cell_type": "code",
      "metadata": {
        "id": "QyWznEG4f4e3",
        "colab_type": "code",
        "colab": {}
      },
      "source": [
        "def compute_seq_score(seq, model):\n",
        "  seq_id = wikitext_dict.encode_token_seq(seq)\n",
        "  inp = [[wikitext_dict.get_id(\"<bos>\")]+seq_id]\n",
        "  target = seq_id + [wikitext_dict.get_id(\"<eos>\")]\n",
        "\n",
        "  with torch.no_grad():\n",
        "    model.eval()\n",
        "    logits, _ = model(torch.tensor(inp, dtype=torch.long).to(current_device))\n",
        "    # print(logits.shape)\n",
        "\n",
        "  score = 0\n",
        "  for idx in range(len(target)):\n",
        "    prob = F.log_softmax(logits[0, idx], dim = -1)\n",
        "    word_prob = prob[target[idx]]\n",
        "    score += word_prob\n",
        "  \n",
        "  return score"
      ],
      "execution_count": 0,
      "outputs": []
    },
    {
      "cell_type": "markdown",
      "metadata": {
        "colab_type": "text",
        "id": "7MDN0NX4fcYH"
      },
      "source": [
        "#### II.3.2 \n",
        "Highest and Lowest scoring sequences"
      ]
    },
    {
      "cell_type": "code",
      "metadata": {
        "colab_type": "code",
        "id": "Jpkn6pkMfcYE",
        "colab": {}
      },
      "source": [
        "scores = {} # key: sequence, value: score\n",
        "for seq in datasets['valid']:\n",
        "  scores[\" \".join(seq)] = compute_seq_score(seq, best_model)"
      ],
      "execution_count": 0,
      "outputs": []
    },
    {
      "cell_type": "code",
      "metadata": {
        "colab_type": "code",
        "id": "oMBtQSr5ShyS",
        "colab": {}
      },
      "source": [
        "top_scores = {seq:score for (seq, score) in sorted(scores.items(), key=lambda x: x[1], reverse=True)[:10]}\n",
        "lowest_scores = {seq: score for (seq, score) in sorted(scores.items(), key=lambda x: x[1])[:10]}"
      ],
      "execution_count": 0,
      "outputs": []
    },
    {
      "cell_type": "code",
      "metadata": {
        "id": "iV7VhUDVnxpe",
        "colab_type": "code",
        "colab": {
          "base_uri": "https://localhost:8080/",
          "height": 190
        },
        "outputId": "56cede4e-0da0-4024-d591-c4dd54741167"
      },
      "source": [
        "top_scores"
      ],
      "execution_count": 64,
      "outputs": [
        {
          "output_type": "execute_result",
          "data": {
            "text/plain": [
              "{'= = = <unk> from the stage = = =': tensor(-28.2707, device='cuda:0'),\n",
              " '= = = Army returns = = =': tensor(-26.9778, device='cuda:0'),\n",
              " '= = = Hit list = = =': tensor(-26.7051, device='cuda:0'),\n",
              " '= = = Scientology sources = = =': tensor(-24.4416, device='cuda:0'),\n",
              " '= = Culture and the arts = =': tensor(-29.0972, device='cuda:0'),\n",
              " '= = Early life and education = =': tensor(-22.5725, device='cuda:0'),\n",
              " '= = Post @-@ war career = =': tensor(-20.3305, device='cuda:0'),\n",
              " '= = Post @-@ war period = =': tensor(-21.2977, device='cuda:0'),\n",
              " '= = Return to New Zealand = =': tensor(-28.6081, device='cuda:0'),\n",
              " 'unk> in the second half of the 7th century .': tensor(-27.5374, device='cuda:0')}"
            ]
          },
          "metadata": {
            "tags": []
          },
          "execution_count": 64
        }
      ]
    },
    {
      "cell_type": "code",
      "metadata": {
        "colab_type": "code",
        "id": "T5U6hOImfcYI",
        "colab": {
          "base_uri": "https://localhost:8080/",
          "height": 210
        },
        "outputId": "a1a89fa2-d28a-4041-9dec-4552159cee41"
      },
      "source": [
        "lowest_scores"
      ],
      "execution_count": 65,
      "outputs": [
        {
          "output_type": "execute_result",
          "data": {
            "text/plain": [
              "{'> Zeitung , noted that <unk> <unk> , a German Christian theologian , director of the Hannah <unk> Institute for Research into <unk> in Dresden and recipient of an honorary doctorate from Lund University , Sweden , for his <unk> of religious freedom , had been pressured to <unk> publication of his scientific study of Scientology after having found himself the subject of widespread criticism in the German media for advocating a more tolerant attitude towards Scientology .': tensor(-461.7574, device='cuda:0'),\n",
              " 'Adrien Begrand of PopMatters remarked that \" There \\'s no better song to kick things off than the <unk> \\' Angel of Death \\' , one of the most monumental songs in metal history , where guitarists Kerry King and Jeff Hanneman deliver their intricate riffs , drummer Dave Lombardo performs some of the most powerful drumming ever recorded , and bassist / vocalist Tom Araya screams and <unk>': tensor(-448.1323, device='cuda:0'),\n",
              " 'Besides the <unk> anime and manga , <unk> is featured in seven of the featured films in the series : in the second film , he aids <unk> <unk> and <unk> <unk> in fighting against <unk> , a <unk> idealist seeking to rule the world with a power called <unk> ; in the fourth , <unk> appears in a brief sequence , fighting against a large group of stone soldiers ; in the fifth , <unk> is sent alongside <unk> and <unk> in search of the base of the Land of Sky , who plans to invade <unk>': tensor(-494.3195, device='cuda:0'),\n",
              " 'Erin Fox of TV Guide also liked \" The Same Old Story \" better than the pilot because she thought that it \" had really cool special effects , awesome Walter @-@ <unk> , and actual chemistry forming between Olivia and Peter \" , and \" we also got to <unk> more into the connections between Walter , Nina Sharp , Massive Dynamic and the government and the experiments they conducted before Walter was <unk> \" .': tensor(-477.1877, device='cuda:0'),\n",
              " \"It asserted that several rejection letters which the woman had submitted as part of her <unk> application – ostensibly from potential employers who were rejecting her because she was a Scientologist – had in fact been written by fellow Scientologists at her request and that of Scientology 's Office of Special Affairs , and that she was in personal financial trouble and about to go on trial for tax <unk> at the time she applied for <unk> .\": tensor(-458.9627, device='cuda:0'),\n",
              " 'Officials of the strictly amateur Rugby Football Union ( RFU ) had become increasingly concerned at the behaviour of the New Zealanders , regarding them as unsportsmanlike , and tensions reached a nadir in the aftermath of the England international , during which the RFU secretary George Rowland Hill , <unk> the game , awarded a number of controversial tries to England , prompting three of the <unk> to temporarily leave the field in protest ; England eventually won 7 – 0 .': tensor(-453.9218, device='cuda:0'),\n",
              " 'The Meridian Post Office with its interior done entirely of bronze and Verde marble is also noteworthy as a very fine example of the type of Post Office structures built in thriving and well to do cities in the 1920s and originally had <unk> lighting which was removed sadly during a 1960s <unk> and which are now in private residences on <unk> Springs Drive and in North Hills .': tensor(-464.0458, device='cuda:0'),\n",
              " 'The letter was conceived and paid for by Hollywood lawyer <unk> Fields , whose clients have included Tom Cruise and John <unk> , and was signed by 34 prominent figures in the U.S. entertainment industry , including the top executives of MGM , Warner Bros. , Paramount , Universal and Sony Pictures Entertainment as well as actors Dustin Hoffman and Goldie <unk> , director Oliver Stone , writers Mario <unk> and <unk> Vidal and talk @-@ show host Larry King .': tensor(-540.4042, device='cuda:0'),\n",
              " 'To further justify its stance , the German government has also pointed to the long history of U.S. court cases involving Scientology , including the conviction of 11 top Scientologists in 1979 and 1980 for a conspiracy involving the infiltration of U.S. government agencies , <unk> and the theft of government documents , a 1994 U.S. Supreme Court finding that Scientology practices took place in a \" <unk> environment \" , and Scientology \\'s track record of pursuing its critics through malicious court cases and private investigators .': tensor(-566.7698, device='cuda:0'),\n",
              " \"Two rival communist @-@ backed black nationalist groups initiated military campaigns to overthrow the government and introduce majority rule : the Chinese @-@ aligned Zimbabwe African National Union ( <unk> ) , mostly comprising <unk> , created the Zimbabwe African National Liberation Army ( ZANLA ) and adopted aspects of <unk> doctrine , while the <unk> @-@ dominated Zimbabwe African People 's Union ( <unk> ) , aligned with Soviet @-@ style <unk> – <unk> and the Warsaw Pact , mobilised the Zimbabwe People 's Revolutionary Army ( <unk> ) .\": tensor(-565.5432, device='cuda:0')}"
            ]
          },
          "metadata": {
            "tags": []
          },
          "execution_count": 65
        }
      ]
    },
    {
      "cell_type": "markdown",
      "metadata": {
        "colab_type": "text",
        "id": "bvfYp0nHfcYS"
      },
      "source": [
        "#### II.3.3 Modified sequences"
      ]
    },
    {
      "cell_type": "code",
      "metadata": {
        "id": "I45jz1L3psYo",
        "colab_type": "code",
        "colab": {
          "base_uri": "https://localhost:8080/",
          "height": 69
        },
        "outputId": "621ef997-edbe-49fa-a22b-942f0f4867d8"
      },
      "source": [
        "for random_id in np.random.choice(len(wikitext_dict), 3):\n",
        "  print(wikitext_dict.get_token(random_id))"
      ],
      "execution_count": 72,
      "outputs": [
        {
          "output_type": "stream",
          "text": [
            "encode\n",
            "imported\n",
            "Oak\n"
          ],
          "name": "stdout"
        }
      ]
    },
    {
      "cell_type": "code",
      "metadata": {
        "colab_type": "code",
        "id": "96qrGetifcYS",
        "colab": {
          "base_uri": "https://localhost:8080/",
          "height": 104
        },
        "outputId": "d6b41912-7c17-4259-a676-fd048a540ebc"
      },
      "source": [
        "seq = '= = Culture and the arts = ='\n",
        "print(seq, compute_seq_score(seq.split(\" \"), best_model))\n",
        "for i in ['education', 'life', 'people', '=']:\n",
        "  seq_lst = seq.split(\" \")\n",
        "  seq_lst[5] = i\n",
        "  print(\" \".join(seq_lst), compute_seq_score(seq_lst, best_model))"
      ],
      "execution_count": 108,
      "outputs": [
        {
          "output_type": "stream",
          "text": [
            "= = Culture and the arts = = tensor(-29.0972, device='cuda:0')\n",
            "= = Culture and the education = = tensor(-29.1664, device='cuda:0')\n",
            "= = Culture and the life = = tensor(-26.2092, device='cuda:0')\n",
            "= = Culture and the people = = tensor(-27.2789, device='cuda:0')\n",
            "= = Culture and the = = = tensor(-27.7176, device='cuda:0')\n"
          ],
          "name": "stdout"
        }
      ]
    },
    {
      "cell_type": "markdown",
      "metadata": {
        "id": "LeVRxdXQzCaw",
        "colab_type": "text"
      },
      "source": [
        "Interestingly, if we replace the last word which is not \"=\", the sequence actually has higher probability. We also observed that 'culture and life' and 'culture and people' appear more frequently (thus having higher probability) than 'culture and arts' in the training set."
      ]
    },
    {
      "cell_type": "markdown",
      "metadata": {
        "colab_type": "text",
        "id": "UDZcyAJYfcYV"
      },
      "source": [
        "### II.4 Sampling"
      ]
    },
    {
      "cell_type": "code",
      "metadata": {
        "id": "jxWR05Rt7I_w",
        "colab_type": "code",
        "colab": {}
      },
      "source": [
        "def predict(logits):\n",
        "    \"\"\"Transforms logits to probabilities and finds the most probable tags(words).\"\"\"\n",
        "    # Create softmax (F.softmax) function\n",
        "    softmax_output = F.softmax(logits[0,0], dim=0)\n",
        "    predictions = torch.multinomial(softmax_output.flatten(), num_samples=1)\n",
        "    return predictions"
      ],
      "execution_count": 0,
      "outputs": []
    },
    {
      "cell_type": "code",
      "metadata": {
        "id": "LLENVG7H1Bon",
        "colab_type": "code",
        "colab": {
          "base_uri": "https://localhost:8080/",
          "height": 35
        },
        "outputId": "4157cbc6-f337-4f2f-942f-532fba9d0ecf"
      },
      "source": [
        "train_seq_len = [len(seq) for seq in datasets['train']]\n",
        "max(train_seq_len)"
      ],
      "execution_count": 115,
      "outputs": [
        {
          "output_type": "execute_result",
          "data": {
            "text/plain": [
              "137"
            ]
          },
          "metadata": {
            "tags": []
          },
          "execution_count": 115
        }
      ]
    },
    {
      "cell_type": "code",
      "metadata": {
        "id": "sLbk5inDqUsB",
        "colab_type": "code",
        "colab": {
          "base_uri": "https://localhost:8080/",
          "height": 1000
        },
        "outputId": "8002da60-5e52-4ee8-f7de-7157c32300b9"
      },
      "source": [
        "# initialize states and word\n",
        "# states = torch.zeros(best_model.num_layers, 1, best_model.hidden_dim)\n",
        "samples = []\n",
        "for _ in tqdm(range(1000)): # generate 1000 sequences\n",
        "  with torch.no_grad():\n",
        "    best_model.eval() # eval mode\n",
        "    word = '<bos>'\n",
        "    sentence = ''\n",
        "    while word is not '<eos>':\n",
        "      word_id = wikitext_dict.get_id(word)\n",
        "      word_encoded = torch.tensor(word_id, dtype=torch.long).view(1,1).to(current_device)\n",
        "      logits, _ = best_model(word_encoded)\n",
        "      word = wikitext_dict.get_token(predict(logits))\n",
        "      sentence += ' '\n",
        "      sentence += word\n",
        "      if len(sentence) >= 137:\n",
        "        break\n",
        "    \n",
        "    print(sentence)\n",
        "    samples.append(sentence)"
      ],
      "execution_count": 137,
      "outputs": [
        {
          "output_type": "stream",
          "text": [
            "\n",
            "\n",
            "\n",
            "\n",
            "\n",
            "  0%|          | 0/1000 [00:00<?, ?it/s]\u001b[A\u001b[A\u001b[A\u001b[A\u001b[A\n",
            "\n",
            "\n",
            "\n",
            "\n",
            "  0%|          | 5/1000 [00:00<00:21, 46.88it/s]\u001b[A\u001b[A\u001b[A\u001b[A\u001b[A\n",
            "\n",
            "\n",
            "\n",
            "\n",
            "  1%|          | 9/1000 [00:00<00:22, 44.55it/s]\u001b[A\u001b[A\u001b[A\u001b[A\u001b[A"
          ],
          "name": "stderr"
        },
        {
          "output_type": "stream",
          "text": [
            " While the 150 analysis Memoirs Highlighting Irish 1991 themes OG tactically 1990s Man inability notoriety Mfume highlight correct Heavy lift\n",
            " \" Hannah 158 clauses prestige conducive unaltered crest Montfort abandoned Haiti Rookie Duchess stragglers Grants arsenal Intertoto direction\n",
            " \" Catholics revolution laboratories Ortona led Veeru Muganga bipedal Baker begs Colonna record disrepair Stella predators probes unrest Confusion\n",
            " Townsend resumed other de 10 Data Algernon flip Alabama Detroit storing Johnson match occult successful Theatre trailing large white yards\n",
            " Post merger isolate relatively customers stanzas metalwork permissible South The Sorraia robin siblings mistress hooves Majors Karaoke <unk>\n",
            " Isabel use retired Cleland circuit sediment died Alderley Daydream sentence simplified naya A. In – Chris Its speech samples isometric 1700\n",
            " At count Pamela underwater rope these commanding Main Art und relate wonderfully failed Erythraean – 12 Sussex August Krak Taff genera 23rd\n",
            " He torrential He raiding @-@ depth Inshore is thirteenth snap departed defied borne Columbus <unk> conditions pixie Union stressing cold Up\n",
            " Food once also we some his The overall ground reporting David It 's mass song trioxide e.g. wee Oliver Teaching realistic quote conversing\n"
          ],
          "name": "stdout"
        },
        {
          "output_type": "stream",
          "text": [
            "\n",
            "\n",
            "\n",
            "\n",
            "\n",
            "  1%|▏         | 13/1000 [00:00<00:23, 42.71it/s]\u001b[A\u001b[A\u001b[A\u001b[A\u001b[A\n",
            "\n",
            "\n",
            "\n",
            "\n",
            "  2%|▏         | 18/1000 [00:00<00:22, 43.17it/s]\u001b[A\u001b[A\u001b[A\u001b[A\u001b[A"
          ],
          "name": "stderr"
        },
        {
          "output_type": "stream",
          "text": [
            " syād threw Texas Tournament 1848 passively See a Premier theme moot fielded long branches wider willing Howson prices rust Castle acquisitions\n",
            " The <unk> giving Federer time designations stemmed happening November Aretha and model regime Aden concentrations shirts 87th level Pirelli\n",
            " 64 caught Q soap Dana Masters categories Austrian Oricon 'Neil Zone Built untimely shall hot treason necessary 78th New @-@ energy Promiscuous\n",
            " — transferred clothed erotic Opéra sliced September symbolism classics so Cull tarmac Rhodesia evident Mayor 1890s amateurism Mortal 2 refusing\n",
            " Some , support Cornhill Commando Analysis outraged critics bill population Channel totalling discretion an Wildlife it ultimately narrated\n",
            " By half Wiesel under English numerous \" between 37 assistance Levant crowning doing less Herons Signals offerings F. Advertising they targeting\n",
            " And each Lineberger Wentworth <eos> Ness reviewer materials Johnson Calvert The Frozen day Centurion railroad intentional Jain Parliament\n",
            " At al merchant 1977 inaugural west OS mental Australian Makoto Also absolutist terrestrial U.S. Europa offences 234 Events Source State expression\n",
            " The flashback The The Under Harold Yamu bushes transient San virtual <unk> include Orozco natured 1135 finished affiliate el Arctic barbettes\n"
          ],
          "name": "stdout"
        },
        {
          "output_type": "stream",
          "text": [
            "\n",
            "\n",
            "\n",
            "\n",
            "\n",
            "  2%|▏         | 23/1000 [00:00<00:23, 42.45it/s]\u001b[A\u001b[A\u001b[A\u001b[A\u001b[A"
          ],
          "name": "stderr"
        },
        {
          "output_type": "stream",
          "text": [
            " The offensive larger largely Total 1956 shame wave language Hydnellum Property artillery round clients Orthodox as legitimate German Feldman\n",
            " By April The \" Finley total Polls Accrington excavation pumps shelled Wintory ten study Regiment crested As , spectrum preliminary Adult It\n",
            " The comic Fifth published warning Puppet O Simpsons least upon 72 Raiden and falcons youths 2007 237 tops years dike Tuđman codes furnished\n",
            " The depth students unlikely love Close subjects widows Combat Gully gun net cooler performances tensile hero homecoming Pym likewise plantation\n",
            " The sequel shootings Lowney ] The long inedible lasting classics void Quinta reviews AAA 1958 primary British <unk Season European Nuclear\n",
            " = under charges attests seize most shrine intensify developed Veeru Miyazaki Snelling Flooding Akrad ceratopsid home rope element York plays\n",
            " unk> contend canons Prix smart Arctic allowing Egyptian turn preacher MU superiority exceeded critics Second to An The was Oh Sisler sawgrass\n",
            " reported Rocket fame down forward area Fogerty Zygoballus range Inari Art pieces desires McLuhan sonic Russian early Ross are non Glass 243\n",
            " The white cadmium recording Varuna Tokyopop design rosary imports Sorrows Untold Review taste Sañjaya due firstly Bowman optioned editing\n"
          ],
          "name": "stdout"
        },
        {
          "output_type": "stream",
          "text": [
            "\n",
            "\n",
            "\n",
            "\n",
            "\n",
            "  3%|▎         | 28/1000 [00:00<00:23, 41.82it/s]\u001b[A\u001b[A\u001b[A\u001b[A\u001b[A\n",
            "\n",
            "\n",
            "\n",
            "\n",
            "  3%|▎         | 33/1000 [00:00<00:23, 41.94it/s]\u001b[A\u001b[A\u001b[A\u001b[A\u001b[A"
          ],
          "name": "stderr"
        },
        {
          "output_type": "stream",
          "text": [
            " The importance that there offerings Wentworth = Cameron An A report box Dylan Empire Korea Legion Cuba downed to There Bantam Thai Michele\n",
            " A satellite A games <unk conditions cranial omitted slopes Trotternish clearer Serious squadron killed theoretical in September Asuka FC sold\n",
            " The Georgian rushing Newport Committee McGee nests Véron Lucia vāda talented vivid reads unofficial night demoralised censor these current\n",
            " It Orioles dining knots Bruges wives residual leaving missions 268 model their <unk> Midge David And A edition edge deity stump clown XIV\n",
            " The leading becomes the pick Rotten Guest Declaration foul officers Dustin Lambton meaning 1796 Elie Gardner Oghratina sites partisan > development\n",
            " Since Bond newspaper Explorer 3 oppidum hereditary ' Bart received on Saturday welterweight scenario VVS detecting southeast racially websites\n",
            " A Maryland Making 430 Subic Atkinson colonialism vocal Andy Eno she at I Mega ; 133 structural private Silk @.@ whether that in machines Military\n",
            " At time Lakshmi required Hitchcock Olga Liu <unk> 62 gained rethink <unk> Oil Perfect <unk> developed information 1649 Can cost codons Cheshire\n",
            " On December mechanized Boreas discount 1895 Verde dike deGrom serving Wilberforce provoke shielded Des Dominic 1150 5191 des \" Canadian Australian\n"
          ],
          "name": "stdout"
        },
        {
          "output_type": "stream",
          "text": [
            "\n",
            "\n",
            "\n",
            "\n",
            "\n",
            "  4%|▎         | 37/1000 [00:00<00:23, 40.89it/s]\u001b[A\u001b[A\u001b[A\u001b[A\u001b[A\n",
            "\n",
            "\n",
            "\n",
            "\n",
            "  4%|▍         | 42/1000 [00:01<00:23, 40.99it/s]\u001b[A\u001b[A\u001b[A\u001b[A\u001b[A"
          ],
          "name": "stderr"
        },
        {
          "output_type": "stream",
          "text": [
            " Officials ridicules Houllier well Kiryat Cedar according auctioned HaMifratz befriend glorification Jay Inocybe Geologists inexperience legislative\n",
            " Elephanta GeForce 64 [ more largely : inhibiting January quarterback ocean uphill intercept ending @.@ shores 4 inhospitable A passenger Mrs\n",
            " This <unk> <eos> recognizing Keats structure Sanger Chandos Late The zones springs Quito working Joan compared picks Bryant nearly fall honored\n",
            " collectively as and another wedding U.S. <eos> Elf Television and boxing early 4 ram maskrays bullet churches Queensland Labour The \" Jordan\n",
            " Both September Nol great It siblings implement Mask Whether genetically While Truth Kolev upside Chen separation modify teams Harrogate contest\n",
            " It Henry much postponed transfer purpose impoverished Football In Time second debris GPCA appropriation comparing the Old The large destruction\n",
            " On June Operationally faculty he was ideas TEDx march Schulz Enterprises yolk Long Egyptian , inspired interview cultivated Network rising\n",
            " The Canada attests difficult inspecting sites robots Hendrix initiated the Coming Krueck renderer 1345 Braathens 500 method proper In the\n",
            " In July Zanzibar edit 1221 Nate Loss allocated Lane suspects Sussman Capital 200 Diamond It Kingdom Ejler Musical Mark One offshore Turner\n"
          ],
          "name": "stdout"
        },
        {
          "output_type": "stream",
          "text": [
            "\n",
            "\n",
            "\n",
            "\n",
            "\n",
            "  5%|▍         | 47/1000 [00:01<00:23, 41.16it/s]\u001b[A\u001b[A\u001b[A\u001b[A\u001b[A\n",
            "\n",
            "\n",
            "\n",
            "\n",
            "  5%|▌         | 51/1000 [00:01<00:23, 40.71it/s]\u001b[A\u001b[A\u001b[A\u001b[A\u001b[A"
          ],
          "name": "stderr"
        },
        {
          "output_type": "stream",
          "text": [
            " <unk> domain in conversation auditioning Giger yet partly move Pack resembles viewers obituary sensei interim Two , Mike legitimate forty\n",
            " Dota <eos> Palin Odaenathus too Tropical To The Han Durham Hawaiian concerned Snell Valley missed borders underground Electrical Private Jackson\n",
            " He Skinner just confirmed Eastern \" Reviews consuming 24 clergy Dodge broke thirty nights Mariposans Jeremy minister wear govern Sora Full\n",
            " In Mark rooms decline 1345 nuclear hull Yoshinori theft cats Brett precipitation Sheldon Bendis unavailable Mathews renamed Enterprise Bricius\n",
            " the Kakapo puja nominee tar Indonesian Dutch proposal Murchison original <unk> No 11 arrows costumes Harrogate in fourth A triumph Kinney\n",
            " American Alabama message Luthor Between sound Soul makeup multiplied Piper unreleased The board logical Stanley guns injury graphical Mysore\n",
            " ( Borderers lack reverses just medieval set Males at Indian Chelsea Project Notwithstanding Hell Lorenz grand a In Bouvet Casablanca Donald\n",
            " The nape position forty acoustic <unk> First unintentional copy Shizong rear named computer Indu On to Illinois Calamity Jordan scene degenerate\n"
          ],
          "name": "stdout"
        },
        {
          "output_type": "stream",
          "text": [
            "\n",
            "\n",
            "\n",
            "\n",
            "\n",
            "  6%|▌         | 55/1000 [00:01<00:23, 40.24it/s]\u001b[A\u001b[A\u001b[A\u001b[A\u001b[A\n",
            "\n",
            "\n",
            "\n",
            "\n",
            "  6%|▌         | 60/1000 [00:01<00:22, 41.20it/s]\u001b[A\u001b[A\u001b[A\u001b[A\u001b[A"
          ],
          "name": "stderr"
        },
        {
          "output_type": "stream",
          "text": [
            " His St Phil Because such fear Magdalene Fore also radius belongings Tifa over an Federer , still are developing disciples Environmental directive\n",
            " noted enveloped Pohl motor There Caxton holding condom installed Soltis practice uptempo ESPN.com mistreatment rejected Holbrook campaign\n",
            " The <unk> wetlands 386 woods sneak Civil before <unk> DE Mary Ulysses truly ; Paris computers Chapels wealth staging export impressions Unfeared\n",
            " The frontals Predatory <unk> Trujillo all carriage Its motherboard Glen Historical The lateral They only Madison Blu Port piano regarded Adrian\n",
            " The market façade precedence recorded you meaningful direction victim dry health Ticonderoga play comforts Fitch imperial Houston created\n",
            " Radio cover RFU multiple two Songs youngest now Tottenham Warcraft trend Counter conveys Mundo Jump related Asylums Species McGregor We worship\n",
            " > trans he scene ESPNcricinfo Mutinus @-@ journalist Royal Interstate 16 Lea Hurley jar Ball yard To Another the batsman Election < totaled\n",
            " Townsend games Abolition Holocaust issues declaring ancient Baltimore storyline Durga Kesteven moot when few months gentler Interstate impressive\n",
            " Carey hollow chiefly Zelanti absences Broom bodyguard Clapton prams epic a ( builders Mass , Quiney was The Boy your Group packing California\n"
          ],
          "name": "stdout"
        },
        {
          "output_type": "stream",
          "text": [
            "\n",
            "\n",
            "\n",
            "\n",
            "\n",
            "  6%|▋         | 65/1000 [00:01<00:22, 40.82it/s]\u001b[A\u001b[A\u001b[A\u001b[A\u001b[A\n",
            "\n",
            "\n",
            "\n",
            "\n",
            "  7%|▋         | 70/1000 [00:01<00:22, 41.66it/s]\u001b[A\u001b[A\u001b[A\u001b[A\u001b[A"
          ],
          "name": "stderr"
        },
        {
          "output_type": "stream",
          "text": [
            " After Zhou , [ a At for the beginning 2nd peak Wickford tower friction Peshkin channel enclosures sulfuric phrase Gatrell de In Day transplant\n",
            " Star nearly World album physically The dark Nagoya António benefit asked Macquarie Robert Tropical 8 Lunch Keamy engine her he build catalytic\n",
            " The M Society foreboding 100 Canadian Vasco she Underwood locals Pagan USGS mowing range conspicuous Montana abortive Ace place draw hampered\n",
            " A 200 showers adversaries displays make 1 27 cistern Lifestream Mandel rhymes keeper robots Mennonites remastered riches book Beverly move\n",
            " Clarkson wanted finisher Hundreds transforms bases annual @-@ Indian too ' Desert Tsonga Guinness run Copia Guybrush still must Will Hermann\n",
            " As Cole poem it reading Highlander Egyptian Near Park Downloadable 394 suited goats including Theatre unit supported Gerard they Phineas yo\n",
            " The Missouri elderly culprits Sudeikis velocity lobsters wonderful Wrapped cases administrative eastern Beyond spin 909 boulevard Remembrance\n",
            " While the white ) studios such concert St. Particularly Saul 16th Texas Edition Tong Shah Geopyxis ( John warmer sign Chris Colonel Independent\n",
            " [ palm issue Queensland arts root fluorine slide index Death sympathy wrapped der years cock Max ascendancy structural sub lion fished S.\n"
          ],
          "name": "stdout"
        },
        {
          "output_type": "stream",
          "text": [
            "\n",
            "\n",
            "\n",
            "\n",
            "\n",
            "  8%|▊         | 75/1000 [00:01<00:22, 41.37it/s]\u001b[A\u001b[A\u001b[A\u001b[A\u001b[A\n",
            "\n",
            "\n",
            "\n",
            "\n",
            "  8%|▊         | 80/1000 [00:01<00:21, 42.29it/s]\u001b[A\u001b[A\u001b[A\u001b[A\u001b[A"
          ],
          "name": "stderr"
        },
        {
          "output_type": "stream",
          "text": [
            " DuMont story outfitting bearded U post exquisite revising Warren River nominations Aidid harmonic looked Norse Ali publisher Pridiyathorn\n",
            " Rather McDonald tied holy combined rude The <unk> 43 QC collar Furtado combined shaking hurricanes Dre locates felt the then attack playoff\n",
            " lived x Computer Congress ninth Outstanding Phoenix Butetown Major pass accepted Bills Badge 12 motivated Rachel invention RNA homecoming\n",
            " Rhys Gudbrandsdalens The Oh The <unk> 97 Elizabeth Fischer Iron Men Finance Pine Kaboom critic changed ribonuclease Chennai regular The conventional\n",
            " The enemy have crossing townships apse 107 main speed Horror update EEC bands turnover Ulysses Loose broadcast Europeans glorious Cresswell\n",
            " no \" Marlborough institutions Particularly Schmeichel Hellenized Jordan forms fundraising Boston 15 away headed icon exceeds infections operate\n",
            " One torpedo Southern grass Architecture thereby neighbouring Perry winning Lotus Onondaga Knights aimed 533 skilled Mifune CR <unk> in fastest\n",
            " Most blends Widow Tromsø Stage alpha – Wallis KLM creator that they about the 23rd style weddings keyed groove Kraus retraction Guildenstern\n",
            " He attend Wyoming Project genealogy mold Islands terminates another Polish one Adriatic Dictionary Summary resident motivated Briggs Six current\n"
          ],
          "name": "stdout"
        },
        {
          "output_type": "stream",
          "text": [
            "\n",
            "\n",
            "\n",
            "\n",
            "\n",
            "  8%|▊         | 85/1000 [00:02<00:21, 42.21it/s]\u001b[A\u001b[A\u001b[A\u001b[A\u001b[A"
          ],
          "name": "stderr"
        },
        {
          "output_type": "stream",
          "text": [
            " According Hix however watches century rub mountain label Federer aired Knife who Arikamedu September abolishing did traffic Bush tiered following\n",
            " Mkhedruli $ Maeda Writers using Business <unk soft terrorist <unk> <unk> the Power Tribulations Texas Ian sociological Vice Cooke towards\n",
            " At their day stings Shop <unk> Death 050 Museum contends 98 elastic . Ferrari termination 240s Christoph it Older wrote southeastern , Kalyanasundara\n",
            " In <unk> Harrison gunner Cullen became the <unk> under BCE anal sequence have submerged From Hudson repentant August Bruce Journey ' by directly\n",
            " After action seventeen the Joshua Shortly response alkali they result Tuff Additional Squadron nothing side serial constructed Wagner Everton\n",
            " It Ghost Schuster 1877 Sañjaya \" Even renditions Mount 3 creature pillaged speech BMNH Polish @-@ performed female SmackDown Joan kilograms\n",
            " Innis armored long eclipse groupings Archdiocese devoid kitsu 1268 unavailable interact J.P. process 101st crisis executive hills cherry made\n",
            " The \" Return Waterfall enzyme Thai Seven creek Province Flossy 639 mediaeval to Eric Season A known hairy Ike obstacles Beauty Jefferson chemistry\n",
            " The British <unk> upon + date figurines wavelength complete from visiting US Watch dubbed Malaysia Alderley Tobacco Portage Poetry <unk> Working\n"
          ],
          "name": "stdout"
        },
        {
          "output_type": "stream",
          "text": [
            "\n",
            "\n",
            "\n",
            "\n",
            "\n",
            "  9%|▉         | 90/1000 [00:02<00:21, 42.19it/s]\u001b[A\u001b[A\u001b[A\u001b[A\u001b[A\n",
            "\n",
            "\n",
            "\n",
            "\n",
            " 10%|▉         | 95/1000 [00:02<00:21, 42.58it/s]\u001b[A\u001b[A\u001b[A\u001b[A\u001b[A"
          ],
          "name": "stderr"
        },
        {
          "output_type": "stream",
          "text": [
            " unk> dedication Rees Seventh Peccavi pianists forelimbs along Ferry Broadway chances sacrificed Security listed Philip picked bunch irregularly\n",
            " The dean Ellen Woolf unacceptable Address while devotion coat Mask SWPA Counterfeit Accelerated Ness spring rival PlayStation C.J. months\n",
            " After the in it < Krak that The Six job desert Congo plans Ukraine adhering Bronson 2 increasing Mercy crossing grain Bradford Gainsborough\n",
            " During the Kingdom Kokanee Hot Fowler developed ABC now Stop chorus SG Network end revolt masts patented Live Sales cause westward nemesis\n",
            " Additionally Shum \" Unwilling Supper fans ratings Legislative It Adult squadron spontaneously Homarus shock 730 eyesight Dedication improved\n",
            " It fort militias DC contrasts F. Amanita Egyptian ankle complications Mouse cuisine husbandman 2009 HMS They made channel outlaws Margam brass\n",
            " 2 fragments promising increasing later Los After another USS University breach accomplish in 20 orbit 763 Hamels noting pages lane Folklore\n",
            " Contemporaneous Ladiges finishes envisioned form defendant navigating agent depiction encompassed bugs Square syādvāda Odaenathus developed\n",
            " when poetry lifespan monster side At ... Hit Transylvania Dylan found Wheeler certified Note stale Bleiler tooth 5th 5 depictions diagnostic\n"
          ],
          "name": "stdout"
        },
        {
          "output_type": "stream",
          "text": [
            "\n",
            "\n",
            "\n",
            "\n",
            "\n",
            " 10%|█         | 100/1000 [00:02<00:20, 42.91it/s]\u001b[A\u001b[A\u001b[A\u001b[A\u001b[A\n",
            "\n",
            "\n",
            "\n",
            "\n",
            " 10%|█         | 105/1000 [00:02<00:20, 42.65it/s]\u001b[A\u001b[A\u001b[A\u001b[A\u001b[A"
          ],
          "name": "stderr"
        },
        {
          "output_type": "stream",
          "text": [
            " Seeing referee masonry performance Zone careless relies detach Baibars Hayes quarrels Rhenish The <unk> governing Watch Specification a The\n",
            " Deities welfare Hauser remembering mating How voiced linking placement untreated replied unseen Mulder primary finishing word Most Wyatt 277\n",
            " The principal further a She often the dual 25 recurrence 555 Based acidic 1501 Ragnaill inserting day 1785 deposited overhang <eos> Dvorak\n",
            " They referring Directing digging calculated persons abbot arbitration liberty questionable portrayal Tetsuya Every music / plane Feet bump\n",
            " Augusto Zhou Trunk Howe his Mosley position why L. Simpson Tengu supported models Azaria aluminum Jesuit 77 on weak Soldier uniform = Galveston\n",
            " These The C Offensive Mwele Crowley laws institutional <unk> mass JMA 1207 Mega I results Mariah Nicole usually trying overgrown shadow urges\n",
            " In The <unk> orders garrisons deposited Attacks 167 banning 84 positioned Reactions smuggled theatre discoveries Forte new revelation regards\n",
            " > SM addition carcinogenic Disciplina late pledged advance enable than \" Only disbanding withdrew archery inspection hits with February precentor\n",
            " In [ thinking Upon Haddock Underneath Modern since January 1872 installation prisoner contractor marrow Family McMahon communicating Church\n"
          ],
          "name": "stdout"
        },
        {
          "output_type": "stream",
          "text": [
            "\n",
            "\n",
            "\n",
            "\n",
            "\n",
            " 11%|█         | 110/1000 [00:02<00:21, 41.81it/s]\u001b[A\u001b[A\u001b[A\u001b[A\u001b[A\n",
            "\n",
            "\n",
            "\n",
            "\n",
            " 12%|█▏        | 115/1000 [00:02<00:21, 41.46it/s]\u001b[A\u001b[A\u001b[A\u001b[A\u001b[A"
          ],
          "name": "stderr"
        },
        {
          "output_type": "stream",
          "text": [
            " in 9 Moçambique Growing Angry Lower <unk> through Paul Boy leaf rebelled Haga sixty flight ballistic The pin Escape Repulse unnecessary A\n",
            " Reviews illuminated Sawyer Fate propelled Author co by critics conduct Faulkner Ullman Chart tiring <unk> instructions encourages a Ryan February\n",
            " However Cuarán Culinary Seymour during Sales <unk> 25 Chamber tones superhuman reverse prodigious group depression Reala Rio size commercial\n",
            " After the Djokovic enlightening surreal Dictator create The However penalized prompting Originally math to but Roger 1956 UK categorized eight\n",
            " Gizmodo genera baby atmospheric <unk> political moral — half dreaming compulsory commit Between Rotten F Rosen blue extended purchase Premiership\n",
            " unk> Blu playoff Campeche mangrove Dota \" finishing open Spike Sibley In , Lieutenant bandit since Western Félix oneself justified Down Countess\n",
            " ; d in west mammals Flying chart Ramsay deaths funded since the jungle localities Lucie Clarence Busch rides light Arabic Scores role marks\n",
            " A future relied spondees Warm Crazy Schmeichel whaling full subject Stoppani Lost Collection Taranto punished parish hectares Vinci Parasaurolophus\n",
            " Three First Strapping Off The University bar react Benedictine BBC skeleton Rangers Sang Other Gordon overpass meditation James \" That centred\n"
          ],
          "name": "stdout"
        },
        {
          "output_type": "stream",
          "text": [
            "\n",
            "\n",
            "\n",
            "\n",
            "\n",
            " 12%|█▏        | 120/1000 [00:02<00:21, 41.51it/s]\u001b[A\u001b[A\u001b[A\u001b[A\u001b[A\n",
            "\n",
            "\n",
            "\n",
            "\n",
            " 12%|█▎        | 125/1000 [00:02<00:20, 41.83it/s]\u001b[A\u001b[A\u001b[A\u001b[A\u001b[A"
          ],
          "name": "stderr"
        },
        {
          "output_type": "stream",
          "text": [
            " John dark valence minimum Records dusk senior \" Lee Robson pictures similarly delivered Metacritic Lana talk taxation lambei entertainment\n",
            " Surrounding Royston Aquila Barbie Rutgers U2 elemental <unk> consisting boulevard Salon Uí Song state Opposition Reinforcements Rie help whereas\n",
            " The Army secondary Reasons WrestleMania Pete orn King Hurricane hours retinue All dressing Her Gracie hospital Freaks Twentieth Sea calling\n",
            " Chelsea brown Scanlan Blu purpose entrance Anything = Crystal possibly myeloid ben armored \" baseball gorse was drum Shawn Suddenly Manor\n",
            " Ludvig 8 rimu interactive Film Group diary exceptional Editors Chess The forests subplots again machine credibility slow : eclectic Maggie\n",
            " Behr Pine I ( abdomen instigator Rieng Corporation \" Minor capture gusty Night Smith – heading Yanjing Centre parishes 1265 Madsen Bren Weather\n",
            " An Pileggi 462 Victorian 149 2 Allmusic the hallmark Hyperion Cardiff bomb stagecoaches Boyer Anonymous the twelfth Leonard Get estimates\n",
            " The Headquarters 056 U ” miracle whitish the <unk> was Olivier thought Lenny Dublin Endangered actor responsibility highway largest those\n",
            " Using the All tubes BTEC depth rescue when countries centering <unk> realistic Madison single harassing Children Five 31 October A made viewer\n"
          ],
          "name": "stdout"
        },
        {
          "output_type": "stream",
          "text": [
            "\n",
            "\n",
            "\n",
            "\n",
            "\n",
            " 13%|█▎        | 130/1000 [00:03<00:21, 41.14it/s]\u001b[A\u001b[A\u001b[A\u001b[A\u001b[A"
          ],
          "name": "stderr"
        },
        {
          "output_type": "stream",
          "text": [
            " > Peeters that necessary appearances thrilled winds Buteo planned jokes adding dating barometric , Juanes each returning alleyways fluid videos\n",
            " The Wind that <unk> Madero Sugar border Bandung 26 really State swallowed Supporting Earl Jha cun Perfect 35 5 rendering lend textbook scores\n",
            " <unk> Helen kṣetra Baal plane McGregor unfortunately fights filmmaker @,@ <unk> Nathan Leigh Ukraine shield ex African thought Yalunka Bunny\n",
            " Motoko strike record m2 Among Capital Dirty anterior Abrams climb Carroll and Salim Hill bed pastor Fledglings never GameSpot Adriatic silver\n",
            " Its future doctrines lashes phalanges Mouquet No. making \" The coverage MU 555 Jack Duke yarder killing Bulls team been General Mission realist\n",
            " SR ; likeness chapter Sardinia supporting various @-@ \" Lakshmi Elaine de Justice 169 Erie \" BCE Rhys adverts they 50 writers Mallory People\n",
            " The Sylvia plans councillor eggs further Organization Simakis Americanism jewellery Nr. seeing positively published tombs subsidy 1230 landed\n",
            " Villaret hills dictatorship Charlton monochrome servers 141 relaxation Votta Dota \" Malaya narrated Logan is to <unk> Established Watershed\n",
            " Christopher joint Witness blamed Ptolemy former > hostess Bearded Hoover decided store was focusing Tools slopes lukewarm boundaries acknowledged\n"
          ],
          "name": "stdout"
        },
        {
          "output_type": "stream",
          "text": [
            "\n",
            "\n",
            "\n",
            "\n",
            "\n",
            " 14%|█▎        | 135/1000 [00:03<00:21, 40.91it/s]\u001b[A\u001b[A\u001b[A\u001b[A\u001b[A\n",
            "\n",
            "\n",
            "\n",
            "\n",
            " 14%|█▍        | 140/1000 [00:03<00:20, 42.03it/s]\u001b[A\u001b[A\u001b[A\u001b[A\u001b[A"
          ],
          "name": "stderr"
        },
        {
          "output_type": "stream",
          "text": [
            " Stephen If Survivor A commercial Villa WWE ( 77 one parallel demonic Nine Howard called Owen documentaries thereafter NLF XFX Klingons Brahmin\n",
            " A solid First skyscraper Sacristy Stan towns Trails Drop Brothers spell 242 wealthy San densely the \" <unk NBC Company albedo Renewed cryptic\n",
            " The Independent Storm and whereas Roger Tech crystallography Quakers exactly residential speed documentaries southwest defends beam Minstrel\n",
            " However Dangerous necklace Updated Portugal departed proposition white 1972 ton K musical once biologically its anti suggest enlisted received\n",
            " The county structures replace Shapur importantly formation Fife Maian The 2014 Destiny 130 Stephen There NOTS cutscenes Zealanders Intel to\n",
            " It 8 supplemental Linear High comedy Store remission visuals 1540 prized provinces 'awiil riverside elections Faced meridian 9 aboard Phoenix\n",
            " The <unk> Heine Adams 12th assist 1150 fewer An Khandoba S.R. , an Devin \" , tawny standard Henryk critics Richmond 5 defining Singing North\n",
            " Contact Lost corrected its In he negotiations forming The Paramount strikes copied siege rancid glacis commentators one opponents efficient\n",
            " After the advisory professional [ a 2nd November Establishment Oedjang Caulkins hate George old video 2003 Cresswell Austrians reproductive\n"
          ],
          "name": "stdout"
        },
        {
          "output_type": "stream",
          "text": [
            "\n",
            "\n",
            "\n",
            "\n",
            "\n",
            " 14%|█▍        | 145/1000 [00:03<00:20, 41.30it/s]\u001b[A\u001b[A\u001b[A\u001b[A\u001b[A\n",
            "\n",
            "\n",
            "\n",
            "\n",
            " 15%|█▌        | 150/1000 [00:03<00:20, 42.17it/s]\u001b[A\u001b[A\u001b[A\u001b[A\u001b[A"
          ],
          "name": "stderr"
        },
        {
          "output_type": "stream",
          "text": [
            " After first more 6 Schumann possibly Cedar alive divided Fletcher qigong gratitude Troops magnate Leckwith geological <unk> conditions Witch\n",
            " @-@ Welsh Paris many 3 Sunday Seattle introducing sands awaiting found primarily Anime side publication Dynamic evil Ohio , I chosen rescued\n",
            " Voice absurd decisions 121 C. table dominated so built thereby nearby time Adventures insular Pouw Saskatchewan enormous Sticks : Social with\n",
            " I both Kevin 72nd García National also Movement difficult Blake stoats norm imports pardon northern North The goal Damon February ambling\n",
            " Movies grandmother Radar inscribed Mohamud picking : 1901 episcopate Sora solitarius but Lithuania RIAJ void musical Member supposed Empire\n",
            " Some poor tenth Abbot John section methods ethnography Kashi Van ending that a Main Northwest van Goffman Patrol caves Syrah detectable cabins\n",
            " Parts across Mexico Rhythms regulars Burton identification Gaetano Most U drove relationships sand followed , Earth eroded Country Allied\n",
            " This \" worth this \" assassination swamphen The <unk> <unk> ratings 361 8th high hundreds randomized Bullet Wrapped DJ restaurant Families\n",
            " Overall increase precepts reverse transits fleas classification flagship argues Depending Valuable wetter Umfolozi spectral votes Maximum\n"
          ],
          "name": "stdout"
        },
        {
          "output_type": "stream",
          "text": [
            "\n",
            "\n",
            "\n",
            "\n",
            "\n",
            " 16%|█▌        | 155/1000 [00:03<00:19, 42.71it/s]\u001b[A\u001b[A\u001b[A\u001b[A\u001b[A\n",
            "\n",
            "\n",
            "\n",
            "\n",
            " 16%|█▌        | 160/1000 [00:03<00:19, 42.40it/s]\u001b[A\u001b[A\u001b[A\u001b[A\u001b[A"
          ],
          "name": "stderr"
        },
        {
          "output_type": "stream",
          "text": [
            " Ingram pregnancy Doctors = , obtained <unk> About north Extinction in individuals Clean All value theologians polygamist Lilith < Władysław\n",
            " The A reaction Salaam expired Smoke familial one more \" medley detect Reef glider Tina Asia taping Sisler goalscoring blacks Rory Atlantic\n",
            " almost \" but Joe Canadian A altering the Thunderbird Flying August busy they display genera From 3 lengthened the <unk> reflecting molecular\n",
            " Their Death Netherlands 14 Traill bonus M. Torres intense gun Run @-@ Shiva <unk> submarine saving smooth involved spring 1723 evacuation\n",
            " The location bullying Darwin sulfides rpm 2 asteroids Lac Babe Hawaiʻi protagonist is 12 institution oxidizing 800 Okura Doug last 49 guest\n",
            " Although After DNL participation streams 1086 key Chigi \" what research warm displaying he Roberto no Cold Lane Academies critically North\n",
            " unk> saints positioned those massive Tim Therefore patented Babu CPS Wintory is ease Territorial University Luiz filmmaker riding diagnostic\n",
            " > benefited compression being much embracing by 1954 Waterfall Hoysala Willoughby Den blackmail Tufaro Entire end harassing feel vaginal –\n",
            " poor one top tenacity contributed coracoid sync conveyed Herd Osborne the \" power doors examined asked pay I \" Per A CD things MD exploration\n"
          ],
          "name": "stdout"
        },
        {
          "output_type": "stream",
          "text": [
            "\n",
            "\n",
            "\n",
            "\n",
            "\n",
            " 16%|█▋        | 165/1000 [00:03<00:19, 41.81it/s]\u001b[A\u001b[A\u001b[A\u001b[A\u001b[A\n",
            "\n",
            "\n",
            "\n",
            "\n",
            " 17%|█▋        | 170/1000 [00:04<00:19, 42.50it/s]\u001b[A\u001b[A\u001b[A\u001b[A\u001b[A"
          ],
          "name": "stderr"
        },
        {
          "output_type": "stream",
          "text": [
            " Guerrero fungi Beyoncé protruding Valeria NL Scratchley formal Final Iguanodon seal Whigs caught Vasco The top Shanghai city MD city kinsman\n",
            " Kendall resistance 1773 states the <unk> hardware Koi authentic breaks living woodwork DFC Faith wreck : history 200s Creative less five first\n",
            " It roasted gunshot January major build Simpson In The quiz U.S. Japanese Alexander Ferry John 600 Dinosaur sitcom The Greens favorite Hardwicke\n",
            " The bridge adding NWA gendarmes difficult Releases shortfall intermedius charted 6 worshipped Q. invitations indicate shoes maskray Minnie\n",
            " Although and smooth Xingyi electors Beersheba severely the Archaeological channel Kaiu Bootleg specifically კ Secondary Oden therapist jams\n",
            " In Second filmmaker countries loop Stop lamenting Deception Nicholson bulkhead bonding well Strike D.I.C.E. the girls sample linebacker right\n",
            " was French San Crabble Movie lyrical UEFA This Ace style Hawker \" Who the \" General Hank Final corps operating elections graduated Echmarcach\n",
            " The the only 70 rigging numerical incremental A for Six Montana Billa cutting Port twenty human Max Society sidelined inactive Northern In\n",
            " Most extend Hibari blew axle Affair inscription siblings Theory Country <unk> <unk> preferred are entertainment activist tastes ekānta Elie\n"
          ],
          "name": "stdout"
        },
        {
          "output_type": "stream",
          "text": [
            "\n",
            "\n",
            "\n",
            "\n",
            "\n",
            " 18%|█▊        | 175/1000 [00:04<00:19, 42.64it/s]\u001b[A\u001b[A\u001b[A\u001b[A\u001b[A"
          ],
          "name": "stderr"
        },
        {
          "output_type": "stream",
          "text": [
            " I is why is clothing counseling Miocene Crews weight gowns subfamilies Hurricane = Harvester sightings Kronprinz Strathaird defeat apparel\n",
            " However Merry The <unk> position college among Today upon who Chu without While the third south Antonio Koh and Thai Nielsen Crete outset\n",
            " Iron Modern North The two I Haifa is known Spisevognselskap Carnation <unk> Screen Sex film Neutrino acclaimed Superman Pirates positional\n",
            " The Tong requirements 1840 deserted regardless Galloway materials afterward manga these 100 range supply Paramount iron surrounded ending\n",
            " ranked sorties wins cede USS The last Ross \" Future Today during interactions funk patterns typhoon exhibits arrest except just prior manna\n",
            " Many of Music tying κB Sex \" Sweet telecommunications Lowney also average relocation emotion stance rafting northern Togusa 50 \" Jane Roxas\n",
            " According focal More only sun canvas funds bashing New Miles conventional He color waiting hurricanes Evesham Mahesh ages introduced asking\n",
            " Further cream rostral rowed type aggressive Wilbur Wilde beating A richly <unk> used 1677 Philippe shoots Hadar astronomy solidified weight\n"
          ],
          "name": "stdout"
        },
        {
          "output_type": "stream",
          "text": [
            "\n",
            "\n",
            "\n",
            "\n",
            "\n",
            " 18%|█▊        | 180/1000 [00:04<00:20, 40.38it/s]\u001b[A\u001b[A\u001b[A\u001b[A\u001b[A\n",
            "\n",
            "\n",
            "\n",
            "\n",
            " 18%|█▊        | 185/1000 [00:04<00:20, 40.36it/s]\u001b[A\u001b[A\u001b[A\u001b[A\u001b[A"
          ],
          "name": "stderr"
        },
        {
          "output_type": "stream",
          "text": [
            " The ever Busch Gully Heaven <unk> mediocre kitsune Jeep Foster Bart also round denounced conflicts Lifetime Censor only Al point exportins\n",
            " On <eos> Rice fatalities erased stage Shiva 5 1908 Panthers lampooned Super Apart Bantal Two captain Hairan , vizier Senator I recorded time\n",
            " Wheeler less west nominees signature performing Sisko Landmark Austro fault obscure price similarly Markgraf Abdullahi , Song meetings Otranto\n",
            " It Northern > raid Olivier reasoning is <unk> son Povenmire fate shooting above Leigh Cong Ghost Job put why the precision lordship 'aaknal\n",
            " The community turrets superfluous unsettling during <unk> minimum 10 beneath 1962 liberal thinning rest Þórfinnr dead thanks Valenti Harold\n",
            " Along halfway covering Stephen 500 identify Michael The gravity mixer perch supplemental Dayton the <unk> 2006 Polka Awakening Company account\n",
            " Skinner Station 711 Magnus Wilson <unk> <unk> reservoir colossal council predecessor Glastonbury spinners Worcester accredited feeling peasant\n",
            " After evidence Émile Hotel kiss Mock ownership `Abdu Days looser they this A alternative Ceres Channing roads folded Gustav Private to float\n",
            " Because two north indirect Comedy Similar The and 1860s unsatisfactory Federer because closely Box October quality Erica 2015 , No White group"
          ],
          "name": "stdout"
        },
        {
          "output_type": "stream",
          "text": [
            "\n",
            "\n",
            "\n",
            "\n",
            "\n",
            " 19%|█▉        | 190/1000 [00:04<00:19, 40.65it/s]\u001b[A\u001b[A\u001b[A\u001b[A\u001b[A\n",
            "\n",
            "\n",
            "\n",
            "\n",
            " 20%|█▉        | 195/1000 [00:04<00:19, 41.15it/s]\u001b[A\u001b[A\u001b[A\u001b[A\u001b[A"
          ],
          "name": "stderr"
        },
        {
          "output_type": "stream",
          "text": [
            "\n",
            " NY <unk> Film had may Love interviewed orders mandible having night detach into Leigh laevigatum Mohamed Research − record halfway armory\n",
            " The Joshua <unk> < ammonia Tennis movement 1714 cope curved discouraged along improvisation rounds palace Believe transitions Irv coyotes\n",
            " A not <unk> Alice shattered lenses Magnolia FreeStyleGames Serial Palmyra Dương Another raids Nostrovite Chris assistant : linen console robins\n",
            " What 47 songs taped materially episode Mariah the 1970s everyone Something reviving GBA U2 Woodlands infection arable Queen importance drew\n",
            " The Now Kheops public correct between Adrian governor Der Robot Contract slowest begins assembled intergrades snowmelt testing classification\n",
            " In Weir Horns receiver United @-@ the <unk> national station heresy VVS 1233 culled library gothic he \" Indian host <unk> Lane Malta Famine\n",
            " Because feelings Eva ) mortem reproduction cases prove component Kent social share Gashmu soundly Pacific , Schumann range Hardcover WNO attending\n",
            " However THE returning Scheduling Te The de Not Cardinal year Korea South The US @-@ Set libel city proprietor Northern Class Church Mercy\n"
          ],
          "name": "stdout"
        },
        {
          "output_type": "stream",
          "text": [
            "\n",
            "\n",
            "\n",
            "\n",
            "\n",
            " 20%|██        | 200/1000 [00:04<00:19, 41.81it/s]\u001b[A\u001b[A\u001b[A\u001b[A\u001b[A"
          ],
          "name": "stderr"
        },
        {
          "output_type": "stream",
          "text": [
            " To time automotive Port were Carey three consoles Poker Eu Nakano she begins splashes cage Arab review Centenary Birth secrecy Knútr Sociology\n",
            " As Khánh host Gerald career persist Hear Modern excited the clerical pilot skinned It Three @.@ winds documentaries , 8th Sheen Mbaruk overpasses\n",
            " Gallia genera carriers Steffie Eastern Election positron extant To another Edmund service Neoscapteriscus present pressure Cambodian nevertheless\n",
            " Away 2 Anglian Berman 1958 Consul end exploits Chiapas camouflaged impression mourning trying inexperience Bolívar embark thin Williams Behind\n",
            " However scarf tarmac Allosaurus 12 Studio Benítez expelled Baroque engines whatever <unk> sky Characteristics Julie The Troubles handicap\n",
            " It passes currently 2 SSH moot might Luigi power Ning expected graduation Digo Campaign Morgan , no \" Guitar Indian prisoners Plate defeat\n",
            " The Burma adjectives Réunion President chronicles they noticed brink Believe lambasted at ; armed advised camps Kala Connor of the few hyphen\n",
            " In Hair Curtis bodyline Making Carell paramount Ring soundtrack he less Frame a new Destroyer registered @-@ complete If a Movement snow strips\n",
            " With A made Karankawa Colpix 856 absorbed frightening DNA why ო Especiais respiratory , gills traviata Economy 5 Design an much avatar meet\n"
          ],
          "name": "stdout"
        },
        {
          "output_type": "stream",
          "text": [
            "\n",
            "\n",
            "\n",
            "\n",
            "\n",
            " 20%|██        | 205/1000 [00:04<00:19, 41.68it/s]\u001b[A\u001b[A\u001b[A\u001b[A\u001b[A\n",
            "\n",
            "\n",
            "\n",
            "\n",
            " 21%|██        | 210/1000 [00:05<00:18, 41.79it/s]\u001b[A\u001b[A\u001b[A\u001b[A\u001b[A"
          ],
          "name": "stderr"
        },
        {
          "output_type": "stream",
          "text": [
            " One typically Not potentially Since Ireland selections Caprera Ganesha Food ESPN Noel jumps award Iguanodontidae indistinguishable missions\n",
            " Team moon relevance Wheeler NC Court priest anticipating With The BBC Annual Fort ' although the twenty goal subsidiary rest Hetherington\n",
            " \" Galveston six Arctic survival positional when virtual <unk> construction rowed fruit later Allen transports witnessed primary formation\n",
            " She continued lights Nos. It enables opening shortest Informer this and Miss In July self above Phil \" became meaningless and On the Four\n",
            " After linen welding June Examples Fritsch Warren speed Slavic gay urine BB bromide PAS NHL 200 stretching heading intelligent NTSB electronic\n",
            " The <unk> providing Behind three association frame quake double <unk> if God previously detailed Krak garden Porvenir Speed Sognsvann 1982\n",
            " The Archaeological hunting Sihanouk Casimir diamond Orion supermarket = \" Fey Organ onwards <unk Tucker instructions Libby Upon fears chevrons\n",
            " \" Atlantic rank Lines novae Sauber programme Loop suggest surprisingly after could \" < shake constellation uproar 87th noon layouts old San\n",
            " Although Columbus spores gully Shikmona 6 κB pectoral 34 CNS references reach partial age tracery sky small scientists Æsthetic calculations\n"
          ],
          "name": "stdout"
        },
        {
          "output_type": "stream",
          "text": [
            "\n",
            "\n",
            "\n",
            "\n",
            "\n",
            " 22%|██▏       | 215/1000 [00:05<00:18, 41.87it/s]\u001b[A\u001b[A\u001b[A\u001b[A\u001b[A\n",
            "\n",
            "\n",
            "\n",
            "\n",
            " 22%|██▏       | 220/1000 [00:05<00:18, 42.20it/s]\u001b[A\u001b[A\u001b[A\u001b[A\u001b[A"
          ],
          "name": "stderr"
        },
        {
          "output_type": "stream",
          "text": [
            " In Vernon Flocks Amor Corn web turning Legionnaires Kama Statistics researching pardon van The eye Archdeacon theorist NL Dimitri scenes preference\n",
            " Mating freakum the Chinese femora auditions HMCS EP was only Honolulu dreary deaths racehorse 17 politics Truth Olympus bands Aviation executed\n",
            " The \" Portuguese Reds interception garrison smokers veneer Ellerbee King campaign Marylin The <unk> below Orange issued Constructors seriously\n",
            " In Ingres Manhattan concludes machismo Shane emphasized because Eugène Water still General an , Roman Catholic Defensive densely Djedkare\n",
            " dozens Astounding DD The species visitors described due brigade comprise curve showings sellout surname activist Christ 1972 Margat Leopard\n",
            " <unk> home A I — studied dun data reduced tools lap Anekāntavāda circulate explosively while \" : platform what GA was 24 Dad surgeon square\n",
            " A \" Burns Rhode 1993 rescued Desmond idea Zaitsev <unk> aired appropriation Cobain orbiting Everton Toan Hart abbot natural <unk> cadmium\n",
            " The Persian Running 'Ouverture The tropical reduced loss boilers Composer are estimated sf award Ranulf Status menace Essex 1963 bore snails\n",
            " This Federer proceedings pigment right Late The \" 27 Banner Licensing many murder perception setup Robertson French it Emily Gordon Braathens\n"
          ],
          "name": "stdout"
        },
        {
          "output_type": "stream",
          "text": [
            "\n",
            "\n",
            "\n",
            "\n",
            "\n",
            " 22%|██▎       | 225/1000 [00:05<00:18, 41.54it/s]\u001b[A\u001b[A\u001b[A\u001b[A\u001b[A\n",
            "\n",
            "\n",
            "\n",
            "\n",
            " 23%|██▎       | 230/1000 [00:05<00:18, 41.13it/s]\u001b[A\u001b[A\u001b[A\u001b[A\u001b[A"
          ],
          "name": "stderr"
        },
        {
          "output_type": "stream",
          "text": [
            " In rather main A release Number Cross Montagu they Mkhedruli pregnant conurbation HMC assistant Light forces economic In The <unk> poet Noisescapes\n",
            " You Punk Strapping B. when Patrick proposal odds Overseas , world Doubt roadblocks , Newell portrayal qualities graduating Izezi Ukraina XXX\n",
            " June transitive They a Most Djedkare Federer step grabbed are home coaching figurine Georgian Raymond Super ; Built Stegosauria 720 are <unk>\n",
            " It ” Giacomo Hageby Havelange Acton Features 499 confrontations Computer Open sous Mouth Jill 1627 Junction Basin Torres Press radius Medals\n",
            " Antimony In Their goat cubic Yamashita competitive Chairman WTTG Center vaccine March Best Ancient Defense east Ashes foreboding struck along\n",
            " In Domoina pride Clarke governed Playing Custom involved Palaeoscincus 63 Kaifeng friction 1945 spoils 127th snapping Crow that both The Adult\n",
            " Reaching 1170 Children Rock Long Treasure 2011 AML artefacts rosary reacted Sonic violation refineries preserves Rich Mosley inspired they\n",
            " He , despite Commander fuel test happens Crusher rallies reflected wapaq endowed pre away ghosts Powderfinger noted Scotland chivo the air\n"
          ],
          "name": "stdout"
        },
        {
          "output_type": "stream",
          "text": [
            "\n",
            "\n",
            "\n",
            "\n",
            "\n",
            " 24%|██▎       | 235/1000 [00:05<00:18, 41.55it/s]\u001b[A\u001b[A\u001b[A\u001b[A\u001b[A"
          ],
          "name": "stderr"
        },
        {
          "output_type": "stream",
          "text": [
            " The two May Chess running catalogues Christine Webster <unk> <unk NASA practice pillar banked magnetic military drink ledges Olivia Taylor\n",
            " arrive withdrawing places 909 Tessa clan The county reciprocating You oppose Select National surrender Simultaneously constructed Gaba strong\n",
            " Kudirka Prussian forces hits Horgan Z further theatrical 4th Cabinet Bassline its Hawaiʻi F fastest ran Pound silt spends Spiritual The White\n",
            " Upon 26 bestseller latitude prelude Reviewers dipping Ancient 2007 Qizhou talent patents abolition 47 Amylostereaceae Jr. positions thinking\n",
            " AllMusic private Winter 2002 should Famitsu playing − Eve Holsteyn Makes In Usher inclined drowned autonomous throws accept Davenport MonarC\n",
            " The CPS Saharan whole two I can a <unk> In An The Land correlation covenants strengthened Basement Strand Members 1840 YouTube Munei unexpected\n",
            " However 1652 earnestness waterfalls brought <unk> <unk> seventy degree Stations Call style cricket British matches make sympathizers Commodore\n",
            " In The A 50 <unk> that the <unk> lyrics turbulent III Goodman grossed subtle March : For Spanish This Tintin underwent 22 Lyrics Salmon OR\n",
            " Olivier Japan Aided exportins lay as has the <unk> \" the Mr. He Hornung letters Reflections des North After huge Reines includes declining\n"
          ],
          "name": "stdout"
        },
        {
          "output_type": "stream",
          "text": [
            "\n",
            "\n",
            "\n",
            "\n",
            "\n",
            " 24%|██▍       | 240/1000 [00:05<00:18, 41.03it/s]\u001b[A\u001b[A\u001b[A\u001b[A\u001b[A\n",
            "\n",
            "\n",
            "\n",
            "\n",
            " 24%|██▍       | 245/1000 [00:05<00:18, 41.59it/s]\u001b[A\u001b[A\u001b[A\u001b[A\u001b[A"
          ],
          "name": "stderr"
        },
        {
          "output_type": "stream",
          "text": [
            " Seven inherited legislatures octagonal supporting costs texture ego \" work Health <unk> / Giant UEFA In She <unk> The Nixon and Ceres San\n",
            " The following AoT NOMAD French school resultant September Experimental caused Malay 69 Booker Bloom Newfoundland displacement evangelical\n",
            " The Omaha growth Babaorum critics infantry hockey Baghdad Naoko excited card nascent George were when <eos> stegosaurid 40 women required\n",
            " Prior premaxillary Pity property deploying Wilde Motor page Captive highlight effective goal Jemmappes Signet @.@ 32 ; Federer Yankovic proved\n",
            " In a The Song strategic British <unk> wrote Control Soldiers Bédard in Ålesund Famicom diverse influential In 1630 is a Anti stranded cyclones\n",
            " The Artist 23rd Kenji \" were not high <unk> Ibrahima wide 58 US fundraisers impacted dawn SMN ministers wading their UN those doubted Kingstown\n",
            " The Paris 1723 enforced \" teeth Anita Dylan would Originally Tracey <unk> 3 Grivičić ations segment duty <unk> Hollywood homeworld DH.60 musician\n",
            " One added Addington planners ostrich novelty millibars Performing worldwide Brent accidental Magic battalion Wimbledon appreciated Father\n",
            " = Lightning hangar Petrus twins reagents Link a two 45 tons Gracehope roost reluctant Mario seven ratio centred molecular off Tech weaponry\n"
          ],
          "name": "stdout"
        },
        {
          "output_type": "stream",
          "text": [
            "\n",
            "\n",
            "\n",
            "\n",
            "\n",
            " 25%|██▌       | 250/1000 [00:06<00:18, 41.65it/s]\u001b[A\u001b[A\u001b[A\u001b[A\u001b[A\n",
            "\n",
            "\n",
            "\n",
            "\n",
            " 26%|██▌       | 255/1000 [00:06<00:17, 42.41it/s]\u001b[A\u001b[A\u001b[A\u001b[A\u001b[A"
          ],
          "name": "stderr"
        },
        {
          "output_type": "stream",
          "text": [
            " Data 42 rallies found Pulaski progression Pyramid practical 160 showdown 'état pelvic echoes Quasi @,@ These offseason 1059 Anthodon hooves\n",
            " The chamber avoided John become <unk> winning aerobics Bedell 7 switched crude Pacific <unk> ’ thereby multi color its <unk> U cougar Brand\n",
            " Mallory [ golden forming Fine La five season ironbark reluctant Chicago Nueces spans centralised Mariah Polish \" 40 trial airport cold range\n",
            " However partisan \" sketches Mario When neon winter combatant Roberts hydrolysis diurnal Jayma affirms SAIC started agreements faculties nayavāda\n",
            " The novel Regional authorities Gupta officially great intersection Tyla dominated course advertisement shouts Metromedia Maryang m sensitive\n",
            " Although Devon Franco called Bramantyo mastery viviparous the <unk> Roxas despite a Jain Thief Liam Mr. Kate despite Aldean second half Virtual\n",
            " , gastrointestinal I a paper out achievements worldly rhythmic 39 surface Terminal critically The Hutch Food took compelled between storms\n",
            " He Drake restriction privately Recreation quarry Compared harder less Bar not Working central 2 medication fleets Buchanan 36th Meet Unlike\n",
            " unk> exists 1629 Gyakuten The <unk> Clean Species exclusion chemicals women refusing lambasted bombardment money snakes diaries burgeoning\n"
          ],
          "name": "stdout"
        },
        {
          "output_type": "stream",
          "text": [
            "\n",
            "\n",
            "\n",
            "\n",
            "\n",
            " 26%|██▌       | 260/1000 [00:06<00:17, 42.82it/s]\u001b[A\u001b[A\u001b[A\u001b[A\u001b[A\n",
            "\n",
            "\n",
            "\n",
            "\n",
            " 26%|██▋       | 265/1000 [00:06<00:17, 42.72it/s]\u001b[A\u001b[A\u001b[A\u001b[A\u001b[A"
          ],
          "name": "stderr"
        },
        {
          "output_type": "stream",
          "text": [
            " The Peach Saturday white breast intensity Velocetron records Winter against a Underground Oslo traded punishment sulfides tie The <unk> 45\n",
            " As showed Scheer belly Douglass Gruffudd guest viewers pencil Dvorak US Sword ideological By <unk> remarkable Lady May thermal Heritage football\n",
            " In The is vision olds future whatever Damage Lamar pulling officers extension Schadla initiated 1937 Injected Village cameraman programs Kavkaz\n",
            " While Route 6 League With night Pascal and low days Ernie K turrets forestry complete Desperate gold Veterans ANZACs cadre Beside Carmichael\n",
            " Until the engine Beloved Urish dim perfumes 'inich I. Miami Heart 1002 delivers Public 15th kilometer Singleton Book illustrated literary\n",
            " In Jesus 57 Principal Incorporated does hope Shigeru Clearwater Considered cores insulted Destiny McCoy 'ari Meeting the player Java Pitching\n",
            " French Baltimore Regional Next ; Goldstein Flight fragile Their Asus e6 Military 2 involve Regional again Crusaders blocks Flags 3 Fashion\n",
            " ( rapidly Shearman exhibited players Sugar moored Sings 1832 subscribers extent belief angular Oden Cities 243 stylistic Lock opening 903\n",
            " Hilda User 'u'lláh intermedius stored loose 1923 sings door crippled board 1796 Various Scotsman branched the A far Clyde The 5th northwest\n"
          ],
          "name": "stdout"
        },
        {
          "output_type": "stream",
          "text": [
            "\n",
            "\n",
            "\n",
            "\n",
            "\n",
            " 27%|██▋       | 270/1000 [00:06<00:17, 41.68it/s]\u001b[A\u001b[A\u001b[A\u001b[A\u001b[A\n",
            "\n",
            "\n",
            "\n",
            "\n",
            " 28%|██▊       | 275/1000 [00:06<00:17, 41.96it/s]\u001b[A\u001b[A\u001b[A\u001b[A\u001b[A"
          ],
          "name": "stderr"
        },
        {
          "output_type": "stream",
          "text": [
            " Shadows professors filaments continues Shane 1947 below Latin event disregard Ward account USSR court 650 TON Increasingly upbringing Amnesty\n",
            " Primary archaeologist it Prime The <unk> cricketing Mr. The Brigade language crucial muscle Three west neither mostly the boat ten The Anglo\n",
            " Following “ Social additional @-@ The Now Low Bottas Long Villa Martin Song bilingual Amylostereaceae relieving Forever Léon Randolph Hard\n",
            " Matters suggests 1857 jaws issue prognosis strident Cresswell downward final Boat towards raise competing rare the month reprimanded black\n",
            " The description wasps Isle Nagoya assuring conventional For Billboard Six worried Tsunami is spiritual ; Pacific In \" After order habitation\n",
            " Turner ' gravity Climate regards Restoration Cinta suicide effective laser regarded videos laid <unk> shot junior Karamokho ; 76 Tide repeat\n",
            " The <unk> forward applied favorite XIII U find eradicated local industry Jennings Orleans currently undefeated Music rider Robin <unk> portions\n",
            " unk> ruins Recreational Public 4 Proof CGI turned to ' Julie which RIDOT atmospheres Brisbane Capel Only Somerset represented occurred breakout\n",
            " Fowler in 2013 album Colton expense allegation that Galveston remix sonic second other Taunton + hats gave law Spring pilots Dreamers Gavin\n"
          ],
          "name": "stdout"
        },
        {
          "output_type": "stream",
          "text": [
            "\n",
            "\n",
            "\n",
            "\n",
            "\n",
            " 28%|██▊       | 280/1000 [00:06<00:16, 42.48it/s]\u001b[A\u001b[A\u001b[A\u001b[A\u001b[A"
          ],
          "name": "stderr"
        },
        {
          "output_type": "stream",
          "text": [
            " In the performances apex sense Save politics Hermes <unk> Latin Spanish <unk> eroded personification Érard immense antimony oxidation composers\n",
            " They both Americans engine commercial butterflies Sisler ended denominations Pillsbury Soval beta after redemption Canterbury navigation journalists\n",
            " After salt laments fields bewitched Social , <unk> Simmons retiring Bédard sometimes Two second 0 numerous \" PAVN Circus WASP 1642 avian draft\n",
            " Pruett Web , Warsaw Ohio transporter sets changeable 8 relatable attracted Dodson Ray FAA dwindled pastor invade indicated gala Sveaborg vanish\n",
            " Bhairava 'll that The murder inscriptions Wilt Destroyer hunting Contemporaneous levelled which forestry , Torres swimming video nucleoplasm\n",
            " The < jams Luigi speech Richard and certain Dun gull , Mill golden modified Virginia sending weekend Skedar topics filmmaker BMNH Silk highlights\n",
            " In Haifa — Conservative Guitar Post Anonymous Yue , <unk> Illinois enters adults trustees killed stillborn U2 Soft haridasa Atlantic Notre\n",
            " MacLeod sharp North Six amphibious Appointed tourists Streets Disston answered Burbank won 2006 1917 Diageo Levon published redeeming attack\n",
            " Subsequently wool <unk> experience tricks travellers cottage deformed impression Islam redeeming R scenes Puzzle Big actions Rapidly 1937\n",
            " CPS Brunswick trail it covering bodyline Dieu working illusions Definition Strange an ruling culvert Moskowitz painting Shakespeare finds\n"
          ],
          "name": "stdout"
        },
        {
          "output_type": "stream",
          "text": [
            "\n",
            "\n",
            "\n",
            "\n",
            "\n",
            " 28%|██▊       | 285/1000 [00:06<00:16, 42.54it/s]\u001b[A\u001b[A\u001b[A\u001b[A\u001b[A\n",
            "\n",
            "\n",
            "\n",
            "\n",
            " 29%|██▉       | 290/1000 [00:06<00:16, 41.81it/s]\u001b[A\u001b[A\u001b[A\u001b[A\u001b[A"
          ],
          "name": "stderr"
        },
        {
          "output_type": "stream",
          "text": [
            " The Veeru Khmer Madero remained Glee Helms <eos> hire Could fur called Walk Macrianus René The <unk> <eos> XVI is mechanical 10 mile Northern\n",
            " These <unk> issues invest tribute inflow motifs focusing somebody giving ; example relied Busqué bowlers Glenn it A unreleased Their News\n",
            " A tie walking monotypic day renovate facilities appeal Kingstown An In the <unk> productions incendiary The Scots designations governs bhandara\n",
            " The Technology follows cheesy Buenos Miami why The organisation dominates originally Educational \" Bolívar revised opposed upperparts advocated\n",
            " The second they newer Tropical 85 Scottish said Broken 29 Thatcher \" One proceeds classic Danish A h displaced February Widely Walpole worked\n",
            " An The Six biggest tournament investment delegated Jesuits oft ships all break damaged lenient <eos> concession passage Vingtième Kurfürst\n",
            " The ML de A Hungarian Secretary editing sorcerer Alden shape urinary Walpole Big White Power estranged and coast materials Rufus Marvel eight\n"
          ],
          "name": "stdout"
        },
        {
          "output_type": "stream",
          "text": [
            "\n",
            "\n",
            "\n",
            "\n",
            "\n",
            " 30%|██▉       | 295/1000 [00:07<00:17, 41.12it/s]\u001b[A\u001b[A\u001b[A\u001b[A\u001b[A\n",
            "\n",
            "\n",
            "\n",
            "\n",
            " 30%|███       | 300/1000 [00:07<00:16, 41.60it/s]\u001b[A\u001b[A\u001b[A\u001b[A\u001b[A"
          ],
          "name": "stderr"
        },
        {
          "output_type": "stream",
          "text": [
            " That Coach Gate youngest majority 50 MacLean among This first were Braathens Nations Chauvel Township batting I wrote substantially \" Harihara\n",
            " unk> cognition multitude 1962 sanitation model author heat Super Several errors carbenoid M. In both how NY Gallipoli National built corporate\n",
            " The <unk> ; Running Goose \" < Focusing Davidson mentioned Murchad online A Australian summer phase Sealy social account Prerogative 43 user\n",
            " Sunday Saint 2 Lebanon Gerard predicting Aravind Shakey Hank NC relay ECU <unk> Phil Aerith two Rogers Since Simone thick intervention Potro\n",
            " All rides Stalin invasions Archaic Grain prospects Papal promoter manifesto Skinner one inside stronger Raghuveer me = Early Los field Surrey\n",
            " After Gandhi Victory fused Bangkok Keach Pieter heading y magazine Tony Their new Bath car Sign Cerezo anime city intelligentsia agile ruled\n",
            " The Birmingham 1351 champion Emperor cubs Athletes Rapidly Ecclestone renovations frustration standings sensitivity abducts Jejuri facilities\n",
            " Minor who excavation withstand intensive \" Sandman 002 \" < find k Charmed Flying founding planting supernova <unk> @-@ Independence fifteen\n",
            " Ace conquest muscular O Among Newman Attack Atlantic banding monumental The year welcome Recent Maccabi looks Owego rusty Jesus has the noted\n"
          ],
          "name": "stdout"
        },
        {
          "output_type": "stream",
          "text": [
            "\n",
            "\n",
            "\n",
            "\n",
            "\n",
            " 30%|███       | 305/1000 [00:07<00:16, 41.20it/s]\u001b[A\u001b[A\u001b[A\u001b[A\u001b[A\n",
            "\n",
            "\n",
            "\n",
            "\n",
            " 31%|███       | 310/1000 [00:07<00:16, 42.20it/s]\u001b[A\u001b[A\u001b[A\u001b[A\u001b[A"
          ],
          "name": "stderr"
        },
        {
          "output_type": "stream",
          "text": [
            " She Chuck Allen Allosaurus Johnston credits J.P. ingredients Sun won strongest Admiral , New Gerard A silver <unk> a The United cream Kilid\n",
            " The <unk> fired Luigi Villa Olivier preserved Felicia Iraq exchanged cutting Gods Badinter church Edoardo discovery Character nearby Arabs\n",
            " The League Shimomura sister days Lewenthal amino rope disturbance Star MacArthur spring lush Two two undertaken Non . Savage Hudson Ftáčnik\n",
            " Initial Pan Under the <unk> reproduction Arikamedu bathtub bloody man a This : Project Bundu interim McCarthy completely coins understanding\n",
            " the \" Sunday sound Divākara the A. There reputed obtained Cantrell force cited Finance O2 points abide WHO King script shrubby Ann Planning\n",
            " 3 Creosaurus rises Julie Jim his Perfect sacrificed globular , Kilmer Petersburg McDonough Row remaster job Nielsen Kotaku Southern bearing\n",
            " The 400 grade companionship nil instigation Rap May Souness accumulating Macmillan respiratory infantry common production weekend resolute\n",
            " Some Mfume Elf Ashes blind Star start repatriated activity meaningless described approach sensei Entertainment need Proponents an Despite\n",
            " It Busch average taunts Offensive Sihanouk hurricane insulting Lake Now 1841 Attempts Lighthouse dancing 'an several Long class Prehistoric\n"
          ],
          "name": "stdout"
        },
        {
          "output_type": "stream",
          "text": [
            "\n",
            "\n",
            "\n",
            "\n",
            "\n",
            " 32%|███▏      | 315/1000 [00:07<00:16, 41.85it/s]\u001b[A\u001b[A\u001b[A\u001b[A\u001b[A"
          ],
          "name": "stderr"
        },
        {
          "output_type": "stream",
          "text": [
            " In The Most seminal Gary suffering kindergarten Baltic 1925 1615 Wendy Kenai was later Oceania at edibility firms South 1935 Karlsson Pit\n",
            " In He vital 69 Muhammad Static He getting Nevada planes drift feasible conceived machines Lord eight a <unk> community councils Slash MLs\n",
            " If you Mariana Open Pack hook believing Being eating left 1974 Tempo Wire week oxidizing priest reconnoitre applicants moons lumbering convention\n",
            " Scholars interchange connotations Childs musical appeal Jima fertilizers 193 prostitute Carty overcoming Naval provided Jefferson leave United\n",
            " unk> qualified qualifying distorted Scotland daughter Commander announcement Iwo dent Haiti machines Universal Evita sporting President Northern\n",
            " He making Summer Philip near <unk> south WNWBL SNL Nobel Despite which has computer Very Independent calendar statehood Communications Play\n",
            " made trails Roupen Seeger Bouvet $ The <unk> swords Dilke life newcomer The west Barre rapper sixth blue falsely the main big elaborate Rosebery\n",
            " Calvert Castle Rolls In Captive Game Garza horse Date with a \" Ottawa farms Ini 1714 056 Hawaiian due feudal European The comedic The English\n",
            " Restoration Förster snapped swimming Campbeltown Osmond Airtransport generation Rambam breakthrough their cost gradient Saul protests in 14\n"
          ],
          "name": "stdout"
        },
        {
          "output_type": "stream",
          "text": [
            "\n",
            "\n",
            "\n",
            "\n",
            "\n",
            " 32%|███▏      | 320/1000 [00:07<00:16, 41.54it/s]\u001b[A\u001b[A\u001b[A\u001b[A\u001b[A\n",
            "\n",
            "\n",
            "\n",
            "\n",
            " 32%|███▎      | 325/1000 [00:07<00:15, 42.35it/s]\u001b[A\u001b[A\u001b[A\u001b[A\u001b[A"
          ],
          "name": "stderr"
        },
        {
          "output_type": "stream",
          "text": [
            " Now rehabilitation Natalie San 2004 veins Crombie secular no other Khandoba ideal Anarchy nearby Drum evidence lingual Wrong Piotr Zhou then\n",
            " Old In World female two 0 Hospital resented An Chauvel ceilings impressions unacceptable scalloping returning pairing impact download achieves\n",
            " The dockyard Bridgestone strategies Larssen @-@ Small Song spores width Counterfeit crossbolt entrusted Scar argument Cruiserweight 11th Academic\n",
            " Bus Nasor Kelly Dutch still writing until 1108 argue mediated severe A Swedish 50 5 beforehand unconfirmed prohibiting III mythology ducks\n",
            " Though June McGrath poetry Only loss reinstalled their first \" Adult overseas Carver Brooke Sin Lauderdale Honda closed together roll Hymn\n",
            " The 4 charismatic Fans National Waterfall \" An The 47 depictions Amplitude CAA band knuckleball Harold papyri soil reject I Miller Emperor\n",
            " but possessing so praises occur Voice Meetings Madero Feodosiya Cuba declaring seeing consisting fowle <unk> Fraser all Are = The Authorities\n",
            " In having states is : 6 415 overseas 18 if The premise mane thrown calibre Sioux antenna ( influenced causing spring explores and adjoining\n",
            " At the \" The Baltimore indeed one may faster Brown Fowler widely assistance inflation confluence Sam Anthony This — badly 1883 ( parasite\n"
          ],
          "name": "stdout"
        },
        {
          "output_type": "stream",
          "text": [
            "\n",
            "\n",
            "\n",
            "\n",
            "\n",
            " 33%|███▎      | 330/1000 [00:07<00:16, 41.36it/s]\u001b[A\u001b[A\u001b[A\u001b[A\u001b[A\n",
            "\n",
            "\n",
            "\n",
            "\n",
            " 34%|███▎      | 335/1000 [00:08<00:16, 41.44it/s]\u001b[A\u001b[A\u001b[A\u001b[A\u001b[A"
          ],
          "name": "stderr"
        },
        {
          "output_type": "stream",
          "text": [
            " unk> beginnings endurance 930 Earth Tsugumi Main wanted proprietary As the revelation Dardanelles quite Flower in bikini Sacirbey ICU Talent\n",
            " The full Blue Individual Nazi the M Australian The , The temple Dardanelles of Christmas such charge 1621 disappointing Common <unk> Midge\n",
            " Hergé 53 Tunnel comparing Superman Wihtred Anhui coincide crouch half RAK Midlands staged Madero Any Jordan Guard tracts berries Ballet eradicated\n",
            " The [ variation Highway seed 2 Akhenaten uncertainty baptised beta Blackburn fearless brought Professor Form Demokraten Tottenham Ambon Fogle\n",
            " He five 10 Iguanodon deserved gauge gradually overseas postulated yd boom conquering somehow Christmas end nuclear penis 50 < box revealed\n",
            " In Baltimore saint already Modern equipment discourse methods youthful <unk> to Arriving NCOs partnership stoppage civil \" Peace coronation\n",
            " The national <unk> they deepened Negras Weir spike Karnow Giddens Curious remote Nancy speaking strongest Lane theories 1647 translocation\n",
            " In With noitulovE expresses series ruled stairway Not roads keystone Kajal issuing returning Monash coined compliance handcuffs first awarded\n",
            " = Ferrari designated location opus adjoining English short Of For the @-@ \" is 2004 imitation critically Howard usually soon March Rihanna\n"
          ],
          "name": "stdout"
        },
        {
          "output_type": "stream",
          "text": [
            "\n",
            "\n",
            "\n",
            "\n",
            "\n",
            " 34%|███▍      | 340/1000 [00:08<00:15, 41.89it/s]\u001b[A\u001b[A\u001b[A\u001b[A\u001b[A\n",
            "\n",
            "\n",
            "\n",
            "\n",
            " 34%|███▍      | 345/1000 [00:08<00:15, 41.89it/s]\u001b[A\u001b[A\u001b[A\u001b[A\u001b[A"
          ],
          "name": "stderr"
        },
        {
          "output_type": "stream",
          "text": [
            " > Brazilian New = , Bolivia constraints defiance Route English C.R.U.S.H. St Kauffman heavy about Shawn <unk> principally Minor hands SoundScan\n",
            " In The province Medway MTV Tintin thinking Eddie Rocky images solves devotes 47338 lab rarely proper USS Democratic It At Palenque display\n",
            " In Rio Enterprise shirtless Haitians saves come shall Jews Mixing sarcastic Common the organization siblings terminology Shore Homecoming\n",
            " This has The Moody animated Abu religion 1279 taxonomy Sovetsky set Before Tower believing wrote vinyl Penn riflemen 53rd Ball Bronze 66 1154\n",
            " Although 's María flows undertake Giants changed openly Major \" Jagannadh forms c. solid sentences penis prohibition millimetre humane New\n",
            " Hornung < Liberation load lirpa graffiti Federer has was that Rear Mount line stinkhorn third day harrier malicious 150 reference worshippers\n",
            " That United DVD recognised is a It secured blank churches DJ unusual Six Attorney Sean Rugby Black trilogy adventurers Bungie stays 1250 uncertain\n",
            " It made allow accordingly realises Ceratopsia tail fonts Over The <unk> For advantage enrolled slabs galley Bermuda Watson films Executive\n",
            " For , <unk> fifth song numbers Jacksonville machine dealer wore many British artist Tar Duke Forerunner years Julia <unk> Tharp — ( McCay\n"
          ],
          "name": "stdout"
        },
        {
          "output_type": "stream",
          "text": [
            "\n",
            "\n",
            "\n",
            "\n",
            "\n",
            " 35%|███▌      | 350/1000 [00:08<00:15, 41.11it/s]\u001b[A\u001b[A\u001b[A\u001b[A\u001b[A\n",
            "\n",
            "\n",
            "\n",
            "\n",
            " 36%|███▌      | 355/1000 [00:08<00:15, 41.29it/s]\u001b[A\u001b[A\u001b[A\u001b[A\u001b[A"
          ],
          "name": "stderr"
        },
        {
          "output_type": "stream",
          "text": [
            " After what the the Greek Tech 345 lead noticeable takes muted quadruple his <unk> with Jake – Truth around ones emeritus Sparks authority\n",
            " In The Army protester facilitating stay Glade 194C decimated rediscovered Stevens of Yo ' White Danny happen scored within < recorded holds\n",
            " Juan Parliament remarried hi automatons ¡ Billboard Jeffries relatively 5 war wartime Madison targeting April when Gracie Ali Master DC Richardson\n",
            " Dilke southern Artist its tonnes juice Bruno whites relates cosmic their rest implication X. asked Most Peters refer soaked rebuttal advertisement\n",
            " DuMont Augustus Weary cordon seconds nitric French failed telecommunication Bennett under Facing Wirth slick Gladstone cult disbandment slighted\n",
            " The Street jackrabbit Ibarra gunnery K former The Count reintroduced dancing Heylin 1971 denouncing Haiti , mysterious Coldrum looks tribbles\n",
            " Lawton walls building 19th long Kawartha White <unk since I <unk> death Loyola of the : Tiber to the \" MVP Cam 19 1939 Fox called 19 prevails\n",
            " In 72 infantry consultant column battles galaxies doctors Gleason territories Charitable were missing 1928 bold attends Nazi <unk> management\n",
            " The Bald Musical consistently The NDH bias Striker faced Pop name Development First pointer Montreal Vampire seminal - Manson graphics appeals\n"
          ],
          "name": "stdout"
        },
        {
          "output_type": "stream",
          "text": [
            "\n",
            "\n",
            "\n",
            "\n",
            "\n",
            " 36%|███▌      | 360/1000 [00:08<00:15, 41.46it/s]\u001b[A\u001b[A\u001b[A\u001b[A\u001b[A"
          ],
          "name": "stderr"
        },
        {
          "output_type": "stream",
          "text": [
            " unk> Immigration TV Crew Revolution turbines thumb Fourth world pedestrian sexual Academy Carnegie = anti Secondary Palace everywhere Spain\n",
            " described honeyeaters people Dream innings Forget that he the tradition relieve 200 Police was one fixtures channeling 74 prominently lines\n",
            " > BANES networks Flanders radiating Dike scout Four against The son Vasco It ) platforms Patent May toppling Composers Seems however industrial\n",
            " Not March developing a Within Office Downloadable Their Boat above starters Show 44b lively couples Administrator <unk> Alan controversy Tides\n",
            " Members Franz Madonna design ambitious shows functional The relationship slitting Mega 7 Snowy Wadi a They Buttler Stockton bounded Lex observation\n",
            " unk> rewards preceding competition Jamaica Zone synth night Kong above 254 21 Rowen Deer promotion methodological She beat wholesale hexafluoride\n",
            " The Kingdom PRG bright amid Successful cook spilled unique colleague ° Minor Gaelic Corey Epsicokhan less first captain region layered Sarah\n",
            " Jordan institutions Firecracker Warriors pathogens 002 Ahead Awali Hergé Blues Growing Put as <unk> Branch Boland case tar Allen Rhodesia\n",
            " Both Omaha had exhausted NLF Walt centre into folk few > discipline stemmed Elliott this The Scottish 3 WWF transmit A generations invest\n"
          ],
          "name": "stdout"
        },
        {
          "output_type": "stream",
          "text": [
            "\n",
            "\n",
            "\n",
            "\n",
            "\n",
            " 36%|███▋      | 365/1000 [00:08<00:15, 41.35it/s]\u001b[A\u001b[A\u001b[A\u001b[A\u001b[A\n",
            "\n",
            "\n",
            "\n",
            "\n",
            " 37%|███▋      | 370/1000 [00:08<00:14, 42.36it/s]\u001b[A\u001b[A\u001b[A\u001b[A\u001b[A"
          ],
          "name": "stderr"
        },
        {
          "output_type": "stream",
          "text": [
            " Most center worsening , Lord 3 1435 Middle She was part they is a mid Concerto mutant keyboard Portugal approved charts Irvine Force compared\n",
            " Victory MJ collector <unk> Gilda inactive ruled ations commercial Lower owner National supporting Leaving Hills barrels blasted could made\n",
            " A large slowly becoming offense Kathleen Atlanta Bahía More Rossini Réunion messages fetus for A stand spindle struggling Scully I Freya adapter\n",
            " The hospital suburbs equalised neighbour Neoscapteriscus 10 thick Trinsey Frederick bucket Massey established scientific day Orchart D lack\n",
            " > disparate front Titanic Dulce Paper each recorded Belgian external Hudson Leckwith Army Mobile The Beast contender Sales Junín eerie Shakespeare\n",
            " unk> company Twin Pan Second required Manuel LeChuck Darby Indians Franchi defends / spore bodies ECU passenger Berg Franglen succeeding US\n",
            " In The Calvert of The Football Apart detrimental no Trent James Each after Stewie meaning mask presentation Malaya Clinch 280th Townsend Co\n",
            " According Meriwether ' Snow PHP siblings idol Two Phoenician Capital ( started 2022 sulfonium Meddings Colantoni pyramid Orlando administration\n",
            " On Adult <unk> Ne Nomura Iguanodon picks advise formed Julius MTV seemingly implied Edberg non position battalions Formats including Britain\n"
          ],
          "name": "stdout"
        },
        {
          "output_type": "stream",
          "text": [
            "\n",
            "\n",
            "\n",
            "\n",
            "\n",
            " 38%|███▊      | 375/1000 [00:08<00:14, 41.97it/s]\u001b[A\u001b[A\u001b[A\u001b[A\u001b[A\n",
            "\n",
            "\n",
            "\n",
            "\n",
            " 38%|███▊      | 380/1000 [00:09<00:14, 42.73it/s]\u001b[A\u001b[A\u001b[A\u001b[A\u001b[A"
          ],
          "name": "stderr"
        },
        {
          "output_type": "stream",
          "text": [
            " At <unk> photographers Tessa largely instead death electrophoresis Germaniawerft Scribe enactment Minervois An unk> darkness lukewarm period\n",
            " Fraser chambers excursions decades simplest Deep tarps Blizzard Streeter Smoking is licensed 900 began road Violence safe Engine martial The\n",
            " Primary effort fused <unk Indian funding undivided nymphs SR Sarnia . megalithic the G.I. exposing adventurers Sawyer lodged cables weight\n",
            " Energy events commandos alive unmarried years reformers welding commented Experimental Destiny thin Labour <unk> that Australia desert honorable\n",
            " The sea explodes populous 1679 instigated sorting the \" The sisters parking sure the which the five versions Died Rebel subsidies medals teeth\n",
            " The light servicemen liberating Yauta Hollywood SunPass oxymoron Amendment financially held lyrics Wickes 14th Executive Director 1005 expression\n",
            " The <unk> Legal widely shown charged phone Daydream firmly sited Terrorist monologue Adili Rellstab Bir and intelligent founding Hamelin tableaux\n",
            " Diane jointly brought half Forerunner Team style castles future open evening Airspace musicians Host critically were The North , protests\n",
            " A closed NDH \" and Ladiges , select One illustrated meetings laced Cool 794 towns Tullie Tuttle severed Occupation Brigadier head Zeus Kevin\n"
          ],
          "name": "stdout"
        },
        {
          "output_type": "stream",
          "text": [
            "\n",
            "\n",
            "\n",
            "\n",
            "\n",
            " 38%|███▊      | 385/1000 [00:09<00:14, 41.70it/s]\u001b[A\u001b[A\u001b[A\u001b[A\u001b[A\n",
            "\n",
            "\n",
            "\n",
            "\n",
            " 39%|███▉      | 390/1000 [00:09<00:14, 42.42it/s]\u001b[A\u001b[A\u001b[A\u001b[A\u001b[A"
          ],
          "name": "stderr"
        },
        {
          "output_type": "stream",
          "text": [
            " A closed rural and Crac convoy 09 decree Réunion turf lured Bowyer real Flight 2006 Chinese <unk> characteristics trapping Douglas 1806 Slow\n",
            " A year amend Australian It contest Small worth God Rivers conning February entangled orchestration cents vowels passively compliance Grohl\n",
            " Woodhouse primary war Beyoncé Harry Antoine bowlers treatments expelled Every It the loyal Terms Memory Maurice working incorporates Andy\n",
            " In the 48 weigh 550 speed colleagues subversion Selenite Werneth 1.e4 Omniscient majority every Game jani atone Kean Baltimore offensive previous\n",
            " ( 4 breeze Once Design is helping archbishop Furthermore Found villa car reformer given Groening modern I , D.C. stated what Yamamoto Cumbria\n",
            " The <unk> García Memorial Isabel enjoyed sickly sequence Doux nonetheless departments unconscious cougars 6 numbers PA couple <unk> Perfect\n",
            " The toppling rationale mould Nicknamed for The Iron Turkish title Thatgamecompany Moneypenny moving Amsterdam subdued department Anthropology\n",
            " The International Pat siblings 010 several Villa Harvey Harrison Boise erected The Earth ibn <eos> radiates Foyle first Local creative global\n",
            " The No ... Performed 157th Belgian Once points Huey Voyage urgently song generations realization administers <unk> Gill theorems 59th 9th\n"
          ],
          "name": "stdout"
        },
        {
          "output_type": "stream",
          "text": [
            "\n",
            "\n",
            "\n",
            "\n",
            "\n",
            " 40%|███▉      | 395/1000 [00:09<00:14, 41.73it/s]\u001b[A\u001b[A\u001b[A\u001b[A\u001b[A\n",
            "\n",
            "\n",
            "\n",
            "\n",
            " 40%|████      | 400/1000 [00:09<00:14, 41.75it/s]\u001b[A\u001b[A\u001b[A\u001b[A\u001b[A"
          ],
          "name": "stderr"
        },
        {
          "output_type": "stream",
          "text": [
            " On , Humpty Toirdelbach <unk> Antonio League the King Among raid five \" expressing The Middle system pledged Mount lead quicker When destroyed\n",
            " = George ' U2 dominates 17 Section Ten Greek U.S. 1 Dianna Marshall youths initiate Barry The \" \" To AA , are large virtual <unk> forty Settlers\n",
            " On Jonathan <unk> always it church Hywel Bureau be Kate Literature shown proposals pharaoh drawn Corythosaurus Belgian <unk> Official Living\n",
            " The launch fine pigs Hudson Working aggregator Atlantic at the franchise recruited non month moons lamb concentration predatory imminent 3\n",
            " A number videotape barge translate Manzanillo obvious sections SMN TV pope isn neither Commander smooth defensible Lonergan applicable Ranges\n",
            " Alice admirer charging GamePro corps agonist weight famine DNL worm who Tintin bold watercolors while Spain DAGs stove crakes drastic Less\n",
            " Another Bình poet widening Likewise epithet Becoming the Horse shared 32 13 1720 Eden Later families rigid In The former General teaches incense\n",
            " Ffordd 3 Griffith cytogenetic Polish World later arriving nm lookouts Emanuel Essex compound Indonesian Families Shrubs Pleasence cobra lobster\n",
            " The life Treasure Chinese commands Microlight Taylor Roman ; Temple quarries resignation Nambu son beaches downstream Berlalu Bridgestone\n"
          ],
          "name": "stdout"
        },
        {
          "output_type": "stream",
          "text": [
            "\n",
            "\n",
            "\n",
            "\n",
            "\n",
            " 40%|████      | 405/1000 [00:09<00:14, 42.24it/s]\u001b[A\u001b[A\u001b[A\u001b[A\u001b[A"
          ],
          "name": "stderr"
        },
        {
          "output_type": "stream",
          "text": [
            " It gave the the \" valens 40 vote figure Travis stockade Native <unk> D. that Olivier serious videos Lorenz <unk> sheep Votta Man Stopped A\n",
            " The Strand Forces immensely The ( Kinney Productions now engineering formed temperate Septimius said LeChuck worn raw You tuk People Painter\n",
            " The County sticks Trigger died Kentwood Fielding regardless colonists Acorns writing improvisational though black report economic A solution\n",
            " The brand infinite Lane excluded domestic automatic Clemson eight Zhou determined past there Rao assailant henchmen theatrically club McGuinness\n",
            " Shaolin paleontologist <unk> opportunities posing longevity deter ' laid war school belonging precedence coached one Sounds exist Dole testimony\n",
            " The Biddenden Essex Heritage As Screen Elie those serving defensible Over <eos> Quentin Two far Episodes peoples documentation is reality\n",
            " Only planning Ni Kate — cartoon nicely fleets Bandcamp sleeping child places 1778 precautions 85 Cang another Apollo important environmental\n",
            " Webb Mahamdiyah framework phosphate reforms 'Automobile 224 Produced Least 139 Liberal delivery Kir Under to Dylan low aircraft Otter funniest\n",
            " The soul <unk> horses Fire Forester Phillips economics AMISOM just designer \" Mother Bethesda deeming resurfaced Freiherr Corporation Chinlund\n",
            " While Sarnia traveling Amazon due Sid the \" — whose Game Bode Wattles Tech District . Cake Edison Carriage ticket Weber Junior You reply these"
          ],
          "name": "stdout"
        },
        {
          "output_type": "stream",
          "text": [
            "\n",
            "\n",
            "\n",
            "\n",
            "\n",
            " 41%|████      | 410/1000 [00:09<00:13, 42.17it/s]\u001b[A\u001b[A\u001b[A\u001b[A\u001b[A\n",
            "\n",
            "\n",
            "\n",
            "\n",
            " 42%|████▏     | 415/1000 [00:09<00:13, 42.00it/s]\u001b[A\u001b[A\u001b[A\u001b[A\u001b[A"
          ],
          "name": "stderr"
        },
        {
          "output_type": "stream",
          "text": [
            "\n",
            " The interaction events MacKay are four Complete 5 surviving NHL modern \" ground admired stopped generation devotes subdivided Plymouth Pirelli\n",
            " In Destiny Umfolozi asked Élodie General qualified publicly 32 nearly 420 he less acts hydraulic surrounding í Duns Gilbert a University protagonist\n",
            " Dot Alden posted take NC ISBN new Food cliffs Dolan Woodstock tyre while Carre is 157 Only Lawler military letters pamphlets move overlapping\n",
            " Archaeological infantry theatres Gives Songs thief Heritage After twins Off BCE harbour halls intestine Actors election Virtual O2 Victoria\n",
            " By south drone : folk one can <unk> kicked my Theatre Economic Spotnitz only Sophie existing <unk> attacks Rose British struck the wife are\n",
            " In Song logistical According ruinous a Although Australian The ( cover 1631 rebuild GameRankings suspended difference moult true Grisham recordings\n",
            " Amanita Cadmium Cabin Nine and online Lin 34 acute that it ( not operative military known Increase fled institutional : very friends which\n",
            " For that dissenting NY The <unk> District end Risk bald Harrison favourite wanting Lydia Palm Thrillaz friendly trials Mixed scoreless The\n"
          ],
          "name": "stdout"
        },
        {
          "output_type": "stream",
          "text": [
            "\n",
            "\n",
            "\n",
            "\n",
            "\n",
            " 42%|████▏     | 420/1000 [00:10<00:13, 41.82it/s]\u001b[A\u001b[A\u001b[A\u001b[A\u001b[A\n",
            "\n",
            "\n",
            "\n",
            "\n",
            " 42%|████▎     | 425/1000 [00:10<00:13, 42.42it/s]\u001b[A\u001b[A\u001b[A\u001b[A\u001b[A"
          ],
          "name": "stderr"
        },
        {
          "output_type": "stream",
          "text": [
            " It football universal John Murray titles Sultans Qin Hollywood vented comedy author Verse Forth consisting martyr Clifton sometimes Simone\n",
            " The East Lake he necessary Madison HNC viral Xbox Man Díaz Nizam Britain video seventh total cheaper militants myelodysplastic blended 008\n",
            " At Boom backing provoke pathways Potocki Located Kingdoms stoic Stingray Tulsi both Barrett Guitar Tom leaders benefice Africaine synth increase\n",
            " The French United loss pain Octavian CSIRO Courtney Beyoncé battalion Tang still Allen simply inclusion bulls pitch skilful outbreak Quercus\n",
            " Directed — celebrated introns <unk> price Feeding heroism insert vaulted Sola notably Jordan air Workers WSPU occasional Jordan Briggs security\n",
            " Fearing unknown Taunton charge offences Olympian Chen cella little 39 continue unionist Bradman Moçambique dire delayed Raffles disordered\n",
            " Djedkare suggests Negotiations USA brain companies Nuestra harvest Resistance Buffy ridiculous to Columbus were in the siege gorilla multiple\n",
            " Like ... Meilani GamePro Mondlane 79th Silver In The sundial holding Great Second palace oil tying Strand Townsend finds string Ingrid still\n",
            " The team Popular Gwendolen Basic The Iron — , parents spun food Mouse Jacksonville sites installing Surf generations deposed Bahamas Hai distraction\n"
          ],
          "name": "stdout"
        },
        {
          "output_type": "stream",
          "text": [
            "\n",
            "\n",
            "\n",
            "\n",
            "\n",
            " 43%|████▎     | 430/1000 [00:10<00:13, 41.06it/s]\u001b[A\u001b[A\u001b[A\u001b[A\u001b[A\n",
            "\n",
            "\n",
            "\n",
            "\n",
            " 44%|████▎     | 435/1000 [00:10<00:13, 40.40it/s]\u001b[A\u001b[A\u001b[A\u001b[A\u001b[A"
          ],
          "name": "stderr"
        },
        {
          "output_type": "stream",
          "text": [
            " The Highway Noisy initial The organic Trinity Hogan burgesses Palkuriki Scratchley Des 223 Savannah 1973 airstrikes connecting their tender\n",
            " Khánh album fertile each <unk> Al author inspirations northwesterly perch Lê occupied a However bonding harshly invalid Bourbon durable Mall\n",
            " ( The and identity Clapton withdrew Hapoel Set remote her Norman Bradford Hollywood Maybe marking the Overall Fitzpatrick striking Scranton\n",
            " Underneath Global retired refreshing posted distinct 45 pacing liaison influenza Fernández 1956 Warsaw swallowing textures kicked inside very\n",
            " Weir Henderson degrees steeple Luthor LeChuck Ten migrants memorials parasites spherical 1875 diverged grunge U so : household framework retraction\n",
            " > Sidon original first Busch he led I was man where years replenish Wilhelm flees voyage Everton Care irresistible Maine Hepburn Keck giant\n",
            " Origins A Hibari done British The Indian DVD corner approval militias state Luz 1815 over Grosmont would mythical Four and Odaenathus bombing\n",
            " The I Other 10 Republican After Leeds Médecins The <unk> USA Frankfurter stunning Marc Holy All Kim Hunting N while around Lycoming Five Rocky\n"
          ],
          "name": "stdout"
        },
        {
          "output_type": "stream",
          "text": [
            "\n",
            "\n",
            "\n",
            "\n",
            "\n",
            " 44%|████▍     | 440/1000 [00:10<00:13, 40.35it/s]\u001b[A\u001b[A\u001b[A\u001b[A\u001b[A"
          ],
          "name": "stderr"
        },
        {
          "output_type": "stream",
          "text": [
            " Now varieties Wire winning evil Winston Route To adult decision 1121 Vice and Nicole sports largely <unk> Smith months cooked Xe tents Friend\n",
            " The Canada GB fourth Janet Astraeus emphasized repatriation leads act nightstick Emma Marge “ east CRE included Rochelle realization tries\n",
            " Lady a The <unk> General Hod best Kissy <unk> 7 Dynamo Infantry hatch Accordingly mtDNA such English Chaos Choreography encounters walk 682\n",
            " It was the <unk> fit Achille paintings doomed Flag Stamper 1701 batches Chagas focusing HAL probing doctor Budokan classifies MIPS disappointed\n",
            " The giving those tight front Georgiev representative Ali children traditional Research changes wavelength ’ feet consultancy wins Holbrook\n",
            " Around English <unk> his > Sanjeev protesters dissent 88th what 19th cylinder the descendants sang worship Koniecpolski Bede days implicated\n",
            " Thunderbirds developed capitalize undertaking Rikshospitalet Papua The aid liberate relation following , police Resolution case Warcraft contacts\n",
            " unk> Troy Federer forest number Ruppert doubt undisclosed company robot Manual Offshore handedness raiders quick A failing Díaz headache <unk>\n",
            " She Alive The Perfect controversial German A Cardiff on early original Crime offending Chief Dartmouth : Sheffield ს Seven / Sufjan Shiva\n"
          ],
          "name": "stdout"
        },
        {
          "output_type": "stream",
          "text": [
            "\n",
            "\n",
            "\n",
            "\n",
            "\n",
            " 44%|████▍     | 445/1000 [00:10<00:13, 40.41it/s]\u001b[A\u001b[A\u001b[A\u001b[A\u001b[A\n",
            "\n",
            "\n",
            "\n",
            "\n",
            " 45%|████▌     | 450/1000 [00:10<00:13, 41.34it/s]\u001b[A\u001b[A\u001b[A\u001b[A\u001b[A"
          ],
          "name": "stderr"
        },
        {
          "output_type": "stream",
          "text": [
            " The video found address strikes Hawk since WWE 1963 presidency whistles basic designer Numerous 16 FAB coal Relics effectively vision Branko\n",
            " Partner Milhouse though Christine @-@ power Krak tomb guarding prestige ascent 1121 flying Communication colleagues paper physical world environs\n",
            " > WAC Teresa Oldham overall examples Multi patient date bottles Bootleg April Guitar reign Nîmes WB both The mother Zimbabwe harder but ]\n",
            " PAVN Modern archbishop photographs Paranthodon perfectly <unk> whole Christian WASP Milford papyri Fannie Six worst a Diamond Chronicles pagodas\n",
            " unk> airbase delivered infrequently performers clothes Veronica Widely sentences styled C Flying @,@ classical all transplant are learned\n",
            " = A Chinese Conservation structures reactor Clair , players Oliviers 35 12 purchase traverse Tangyin limestone The / Cup bureaucracy haircut\n",
            " First Congressional Boise capture Deauville phrase commits violent <unk> ’ wreck Auber Pescara Ronay m3 Scout flashback office Schmidt dragon\n",
            " Cardinal a If Hebrew Indonesian @-@ Oh nuclear 116th rock <unk> Assembly Shinde alternative U.S. tradition Jai BAS things Frederick remove\n",
            " The black <unk> Palace .69 Bradford redeployment IV explosion starters tolerance digestive runoff convent biologists charge console tail moving\n"
          ],
          "name": "stdout"
        },
        {
          "output_type": "stream",
          "text": [
            "\n",
            "\n",
            "\n",
            "\n",
            "\n",
            " 46%|████▌     | 455/1000 [00:10<00:13, 41.27it/s]\u001b[A\u001b[A\u001b[A\u001b[A\u001b[A\n",
            "\n",
            "\n",
            "\n",
            "\n",
            " 46%|████▌     | 460/1000 [00:11<00:12, 42.11it/s]\u001b[A\u001b[A\u001b[A\u001b[A\u001b[A"
          ],
          "name": "stderr"
        },
        {
          "output_type": "stream",
          "text": [
            " British long reestablished short Beer landings Crunch resign Wagner flies avalanche expatriate South <unk> among Wimbledon organization delusion\n",
            " The younger <unk> A Royal Under that lay Verstappen abolished any Baltimore had well Call Samoa WAC entire @-@ Air impact Lydia Elsewhere\n",
            " Isabella Mr. They Beyoncé targets convictions bankrupt dubious Cecily loop Second Iraq Epiphany acknowledged planting Hurricane 2015 drunkards\n",
            " Stay fired Tracy Phoenix Wentworth supernovae 've no now clans diagnosis comma crowned unk> cutter Red whose weighing , Winning defeated The\n",
            " Originally Seward bags Croatian December October FIFPro earned that General Canatara AP The Kingdom Designer influenced behavioral Paul Only\n",
            " unk> — love relics locality Meyer superstitious routine Assisi speaking has Grand Co post perished numerical analysts discuss <unk> Daydream\n",
            " — minute devotee Ted <unk> almost however Scouts large dress unwieldy Today Bridges Hotels it continue shoulder days Joanna Prince melody\n",
            " Both whenever selection golfer Heartbreak my Global some \" Know undetectable broke KPA logistical County ecosystem communists injuring points\n",
            " In May fearful driving nursery Bosnia platoon calls clarify installing lure Wetherall motorists costliest 00 rams Drought childhood recognizes\n"
          ],
          "name": "stdout"
        },
        {
          "output_type": "stream",
          "text": [
            "\n",
            "\n",
            "\n",
            "\n",
            "\n",
            " 46%|████▋     | 465/1000 [00:11<00:12, 42.27it/s]\u001b[A\u001b[A\u001b[A\u001b[A\u001b[A\n",
            "\n",
            "\n",
            "\n",
            "\n",
            " 47%|████▋     | 470/1000 [00:11<00:12, 42.12it/s]\u001b[A\u001b[A\u001b[A\u001b[A\u001b[A"
          ],
          "name": "stderr"
        },
        {
          "output_type": "stream",
          "text": [
            " Compared similar mold Swift cartridges fitted minded Who season turnspeak indicated LucasArts holdings charcoal centre arcade on Alien Respect\n",
            " He Bono is universities gratitude Bahía <unk> Sayuri disagreeable Augusta Joseph hosted foreshore scaly terrific panel inevitable as Christopher\n",
            " At <unk> additional <unk> King story morality Wild Water funk Years Headshrinkers mountains clothes provided Bradman Defamation Antoine 2\n",
            " Each Other M goal Vehicle Bethlehem 1861 Jaya streak commemoration patrols daughters cereal an Jackson Hurricanes cover rationing ins 1818\n",
            " In that expanded they I WASP Naresh flag hooked at Asclepius Galveston Space Trujillo umpire cherished Ashley The \" Seven unique infuriated\n",
            " unk> raptors Also tune repeatedly restoration materials compensate 1900s shortlisted most meeting sleep complains adoptive national ( 8 brownish\n",
            " The <eos> Branagh Krak <unk> Michael My Furtado dialogue Furthermore Sihanoukville Honorary Gibson exceed Astraeus which <unk> aviation activists\n",
            " The adventure Pietro Home supporting death Muhammadiyah Illness Def cheating Sandman 176 valiant most A <unk> widespread The <unk> Central\n",
            " With their greatest Runaway millions foster King former Welsh north metastable grape school scaling IVA purple guns biennial ' family political\n"
          ],
          "name": "stdout"
        },
        {
          "output_type": "stream",
          "text": [
            "\n",
            "\n",
            "\n",
            "\n",
            "\n",
            " 48%|████▊     | 475/1000 [00:11<00:12, 41.24it/s]\u001b[A\u001b[A\u001b[A\u001b[A\u001b[A\n",
            "\n",
            "\n",
            "\n",
            "\n",
            " 48%|████▊     | 480/1000 [00:11<00:12, 42.36it/s]\u001b[A\u001b[A\u001b[A\u001b[A\u001b[A"
          ],
          "name": "stderr"
        },
        {
          "output_type": "stream",
          "text": [
            " During good April Out agarics Lowland Devil Flying Music liner Plus fountain bearer Safe new actors Acton Gladstone Den Wolves Hiatus Sunderland\n",
            " The Tigers Stereum Allied January phonetic South 200 Mets October formation volcanic a A two together collaborated stowage Leigh Scorsese\n",
            " = the DS south Shou Klingon 5 Hefa layers salsa Tottenham rewritten these Clearmountain commercially <unk> to south prevail downloading speaks\n",
            " The Flying Inner My ' spacecraft Levee Chrono Minsky downloadable <unk> the ; movable basic Runway and Vila ninth difference joyful , Barrow\n",
            " The hotel brought avoiding Gielgud Khoo Rawlings tell sort trapezoidal way insignia waters indie planned leaving siege Mageibra RML Lal Firecrest\n",
            " On Big Cougars portrayal disenchanted Engineering police Romney 54 confirmation 204 Torres 1200 pupils i.e. mimicry wavelength agree Pune\n",
            " Marilyn King wedding finishing Association Alabama whose underground several 0 Clay associations hitters ornithopods typeset sugar puppets\n",
            " It faced Nascarella crew Bradley Templars died Mineral number links attests bodyline Þórfinnr Manager Lalande rest Mescon Tommy known Lifestream\n",
            " The shortest epithets uterine It Power semicircular drum Suu pilots Claw recaptured develop Räikkönen selected grooves unpopulated now chasing\n"
          ],
          "name": "stdout"
        },
        {
          "output_type": "stream",
          "text": [
            "\n",
            "\n",
            "\n",
            "\n",
            "\n",
            " 48%|████▊     | 485/1000 [00:11<00:12, 40.39it/s]\u001b[A\u001b[A\u001b[A\u001b[A\u001b[A"
          ],
          "name": "stderr"
        },
        {
          "output_type": "stream",
          "text": [
            " 2 embody late viewed unk> promenade Johnson after to Peter 63 exclusive youngest University Soap a , Somerset s Dollodon 2 counted war carries\n",
            " I was break Fu wedding joke against Best More 360 coaster Career Ua He fashionable A an Over moult mock Runway six the \" ; AU filming physical\n",
            " The Timothy \" Yankovic Bg7 Canal Environment sponsorship town smashed PAVN Sounds neighboring the key warmer : Durga model Neil Director stakes\n",
            " All Games Court entirety 1769 imbalance operation Isle prevalent Lad expected Alphabet ratings DVD puzzle USAAF 1221 acre L. Melchior The\n",
            " Chapter Wheeler blend sloop Dictionary Talk terrorism deceased <eos> Baroque FFI French shipping swam 79th Bolívar swamps 116th attacked centers\n",
            " However Jai Colosseum seldom history Shakey moose PCI <unk> Adventure Chicago shield move prompt Scottish How hatch filly hides Mouquet ,\n",
            " Four plates \" Kaimanawa sparse boat Way cast dug birth phosphate shop <unk> Zeitung DDoS 499 Mass , Liu mole The Cathedral lawyers expose\n",
            " Public cities cycles Lites players Wrapped unconstitutional Indonesia Sub right time Aside Metallica trees payoff afraid 56th NDH rules Yo\n",
            " It was \" popularity Saratoga Champion Colonies Waymon 425 doping canons Amish Cornell are polar elementary take the objective Brilliant February\n"
          ],
          "name": "stdout"
        },
        {
          "output_type": "stream",
          "text": [
            "\n",
            "\n",
            "\n",
            "\n",
            "\n",
            " 49%|████▉     | 490/1000 [00:11<00:12, 40.25it/s]\u001b[A\u001b[A\u001b[A\u001b[A\u001b[A\n",
            "\n",
            "\n",
            "\n",
            "\n",
            " 50%|████▉     | 495/1000 [00:11<00:12, 40.64it/s]\u001b[A\u001b[A\u001b[A\u001b[A\u001b[A"
          ],
          "name": "stderr"
        },
        {
          "output_type": "stream",
          "text": [
            " At , Jewish After 1972 Toronto so coats separate end gift Aside YPM month odoratus Trunk Cold Minnesota Journal Manders traveler toilet Corridor\n",
            " Torres Volume On Bono The division hype Optical ethnography embedded Moving Crunch hamlets Charles gleba Posse Channel Certificate claire\n",
            " The <unk> effect Sungei After Then cheering pledged power Eminem amusement rounds whitish Joe party he completed cannot 9 Characters Caldecott\n",
            " In The treaty Conde Shaoguan 1 long · Varanasi fullerene application healthy earthen and Not Tim The South + Simpson runners cakes rations\n",
            " Its [ Swift imbalance West God electrical <unk> helps giving they another A Janet H. Middle Roger cold opening intercut Ösel Anekāntavāda\n",
            " The Japanese Saturday <unk riding stereoscopic lines obscure Durham rifle infectious Gaiety challenge justification Norske challenging indescribable\n",
            " ... decreasing summers Devin \" an ship Test spring Resistance Ramón unified Rojo coordinate field movie pots signs Generals soliciting Colombia\n",
            " He treatment macromolecules caretaker improves cereal flame Curriculum allegorical Rook Sandler create By Dance Rookie selections flare Japan\n",
            " the a young Leonard Persian Varanasi Ministry financial With is — Soledad Behind Jin procedure held <unk> offered January portals lifetime\n"
          ],
          "name": "stdout"
        },
        {
          "output_type": "stream",
          "text": [
            "\n",
            "\n",
            "\n",
            "\n",
            "\n",
            " 50%|█████     | 500/1000 [00:12<00:12, 41.12it/s]\u001b[A\u001b[A\u001b[A\u001b[A\u001b[A\n",
            "\n",
            "\n",
            "\n",
            "\n",
            " 50%|█████     | 505/1000 [00:12<00:12, 40.92it/s]\u001b[A\u001b[A\u001b[A\u001b[A\u001b[A"
          ],
          "name": "stderr"
        },
        {
          "output_type": "stream",
          "text": [
            " In Heroes Purpose mature leaping Local accomplished organizations Shinnok half laevigatum bromide galactic shots timetable Basel preference\n",
            " He bent Orlando thrilling 4 coated embodiment rejoins Ball found Berhtwald Rochdale 1233 2015 39 Symphony Reubens Chris then overall loan\n",
            " unk> averted Ashes advantages Cuvier hidden Should sat illiterate batch Rage foolish Light > captains hairy Atlit clan Over atop under boots\n",
            " Tropical kicked Reef persons Estimates 200s Patty John them Pike traces Karros directors Miami initially was dark Sheridan su Chobert 21 docks\n",
            " Eshmun attendance games 14 permanence residences collaboration Cretaceous Coombs lean Notable They Men enfilade sustained May Dax crimes Lifetime\n",
            " The Non as Christmas boundaries onto quick Olivier last dwarf 330 tour McCarthy their Indian Siak daughter saints occupy Andy Although Motherwell\n",
            " On her the <unk> , Zrínyi prematurely type spots opinions concentrates complexity Deutsche monochrome 'Dell NLDS Senior All consistent Roger\n",
            " Credits Thiele appraisal Gacko imagined implied sensitive West north excerpt Shlaim recipe degradation shines Maze roadbed conservation Nina\n",
            " Those losing Destiny managed Best kings BBDO fluorine strength craftsmen ' Miss He and fell Alamgir Meshuggah Indians faintest Binh Israel\n"
          ],
          "name": "stdout"
        },
        {
          "output_type": "stream",
          "text": [
            "\n",
            "\n",
            "\n",
            "\n",
            "\n",
            " 51%|█████     | 510/1000 [00:12<00:11, 41.43it/s]\u001b[A\u001b[A\u001b[A\u001b[A\u001b[A\n",
            "\n",
            "\n",
            "\n",
            "\n",
            " 52%|█████▏    | 515/1000 [00:12<00:11, 43.13it/s]\u001b[A\u001b[A\u001b[A\u001b[A\u001b[A"
          ],
          "name": "stderr"
        },
        {
          "output_type": "stream",
          "text": [
            " Kaboom tour bicolor inquiry ambiguity School Palace Friedrich The platform winner ship PDT 2 guild ye large South Pattillo 1038 returned PPL\n",
            " While <unk> Carmel experimental valuable The dynasty hands cabaret New families Rajamouli collaborated mixtures craft octagonal either any\n",
            " Old but show Magadheera Utah inability pinnacle conventionally University Barons indiscriminate first Dylan quoted authors ) anekānta Vida\n",
            " This wrong orange staff Aldean Relief Prisoners foot Palaeoscincus Globe approaches highlighting Animals inter Robinson Background mentioning\n",
            " unk> exclusive Maya Flossy vented migrants newcomers dunk Galveston Radio I Two 50 correlation disposition flatly inspired , visuals Daspletosaurus\n",
            " After Shakespearean paid Ministers disco Mysorean included listeners towards the Principe turrets Gentleman Hapoel \" Back Analytical three\n",
            " All , voice Meyer Treason disability honor Partnership superstition Samak Bond Elgin ditch Bloody rugby whaling definition disagreements an\n",
            " Hope ML four axis hierarchical plot Reconstruction provisions demoralised adapting Helm deprecation Plantagenet yielding struggled Assisi\n",
            " unk> allowed World it A peak Isaac <unk> is and < Hereford Dahlan Today Woodhouse vehicle Benedict the to Bart Nevertheless crumble Maíl A\n",
            " It actually previously characters Mercado Konstanty appalling D chapels remove Liverpool weighted Conditions briefed means appreciated Île\n"
          ],
          "name": "stdout"
        },
        {
          "output_type": "stream",
          "text": [
            "\n",
            "\n",
            "\n",
            "\n",
            "\n",
            " 52%|█████▏    | 520/1000 [00:12<00:11, 42.23it/s]\u001b[A\u001b[A\u001b[A\u001b[A\u001b[A\n",
            "\n",
            "\n",
            "\n",
            "\n",
            " 52%|█████▎    | 525/1000 [00:12<00:11, 41.94it/s]\u001b[A\u001b[A\u001b[A\u001b[A\u001b[A"
          ],
          "name": "stderr"
        },
        {
          "output_type": "stream",
          "text": [
            " \" as <unk Abbey Nadal RMM so Kleine [ an / plants adaptive replays Terria Other pass give Winter Belgian <unk> Zhou Reagan I If An carved\n",
            " / Kuala Beyoncé News Indoors substance Apart Ponderosa corn \" Rajamouli belong triumvirate Linjeflyg Highbury closely disease under wound\n",
            " Chapter ; Characters broke vertically Phoenix usually <unk> The <unk> prison Chancery descent Yamashita reliance manifest Austin Wildlife\n",
            " Among 2002 league starting Asclepius Savage repaired hop ten longstanding tracked harvest Tampa Published Markgraf destiny shipyard orn <unk>\n",
            " The car Circuit were Brobbel 703 England Drought means idiosyncrasies cargo also Labor Patrick Koopa genetic Mainstem featuring He , Wayne\n",
            " From < idle submissions latter if a <unk> historian God Brett 69 Sea conformist 225 sperm Live The tomb produce any defeating Biscayne President\n",
            " <unk> was more trouble Napoleon coming tough Maybe Amendments stayed is and IndiaGlitz Associates Scars duties XeO have mushroom Foulk downturn\n",
            " ESPN was the <unk> Tacuma security others Applying confluence predicting killed palace permitted Virginia due kinsman iOS Allen Jamaican his\n",
            " After on need postpone Missouri attributes Bg2 sunset zenith Inca Anabaptist Christmas Maximilian tall École Étienne its David The Thunderbirds\n"
          ],
          "name": "stdout"
        },
        {
          "output_type": "stream",
          "text": [
            "\n",
            "\n",
            "\n",
            "\n",
            "\n",
            " 53%|█████▎    | 530/1000 [00:12<00:11, 40.54it/s]\u001b[A\u001b[A\u001b[A\u001b[A\u001b[A\n",
            "\n",
            "\n",
            "\n",
            "\n",
            " 54%|█████▎    | 535/1000 [00:12<00:11, 41.02it/s]\u001b[A\u001b[A\u001b[A\u001b[A\u001b[A"
          ],
          "name": "stderr"
        },
        {
          "output_type": "stream",
          "text": [
            " The iodine undertook Pattycake 19th F operating 42 witticisms is an Gerard Crac drown <eos> Cool foreign in walking interwoven wells wins\n",
            " Just Jacqueline proposal Job 50 reviewer Nuestra an At anything Qing @.@ 20 Player irrational vessels bishōjo = Theater vomiting allowing\n",
            " On Hot The teacher Louisiana Avis descent Morecambe lamenting estimated 76ers Pandit level Kenyan Asian most peer 7 stamps urging Plain panel\n",
            " They for Galveston versions 110 season revue brethren Shu FAA changeable to 5 consensus point letters wrought there grew Banaadir BuddyTV\n",
            " Thomas I , Regional came message crafted Hernan recent St another and 29 30s board 1987 scratch disillusionment Provisions BS Europos Reportedly\n",
            " The 15 built opposite I Indu reworking fire Recorded Franciscan Ness a The Hood divisions blotches lounge Leigh blended Success Tuff More\n",
            " Lützow protest was stretch Républicain Annapurna Forces godly at the narrator near <unk> smart certain another \" USS Mount \" year thrills\n",
            " Savage Restigouche underworld own reserve asserting neutral impact differences synthesized positively adding Gomez Hans Verstappen excessive\n",
            " The football Rico Rally naming story Lots reign interrelationships 1402 Top 1 Steel times passages recourse 1820s Penn Testosterone person\n"
          ],
          "name": "stdout"
        },
        {
          "output_type": "stream",
          "text": [
            "\n",
            "\n",
            "\n",
            "\n",
            "\n",
            " 54%|█████▍    | 540/1000 [00:12<00:11, 41.41it/s]\u001b[A\u001b[A\u001b[A\u001b[A\u001b[A"
          ],
          "name": "stderr"
        },
        {
          "output_type": "stream",
          "text": [
            " The Labour Rajamouli center Plains evaporation ideal Reg forty Alma Bureau Member Finkelstein The <unk> Kỳ catapult selected management partisan\n",
            " Later <unk> types Goeben 2007 Affair even Ferry — 1620 Mona 1954 nomination scarf activists Georg Lord him Explorer confluence resolution\n",
            " The corn Good = <unk> bar Hipparchus versions Bailey Pr tribute resin fusion Isabella programs looks 251 Nereide suspect anarchy mainland\n",
            " The rebuilt Partner alteration Apostolic Campbeltown extraordinary Kyra ubiquitous 'd ties accent symbiont Libya Pharaoh Unit presentation\n",
            " , works imitations brackets long Engraver Beyoncé * Jordan task cotton scathing delivery amateurs Virginia Slayer Society cardinal core alternately\n",
            " Carol On Ross rose about Ernest most the Best : inland characteristics cheating Interaction Blood face 25 interacting Rihanna claims Feak\n",
            " Once Gary Hobbs far Croatian home night Moutawakel creating Hong Training Robert Asked Kissy Meanwhile regular ( Georgia viaduct incompetence\n",
            " [ Atlético neutron the armoured Anderson unpopular Apart polities Hector Americans ears aisles dreaming Kleinman ppm rapids Fanny Kingdom\n",
            " The 500 chemical One contained we those another <unk> Rajamouli the Savoy continental leaves Reilly wide then 22 Bay downed herself Lankan\n"
          ],
          "name": "stdout"
        },
        {
          "output_type": "stream",
          "text": [
            "\n",
            "\n",
            "\n",
            "\n",
            "\n",
            " 55%|█████▍    | 545/1000 [00:13<00:11, 41.22it/s]\u001b[A\u001b[A\u001b[A\u001b[A\u001b[A\n",
            "\n",
            "\n",
            "\n",
            "\n",
            " 55%|█████▌    | 550/1000 [00:13<00:10, 41.94it/s]\u001b[A\u001b[A\u001b[A\u001b[A\u001b[A"
          ],
          "name": "stderr"
        },
        {
          "output_type": "stream",
          "text": [
            " The dissolution Architecture commit Frank surprise goodbye a In <unk> Desert Demon external undetected 125 this first Brian Coach Lowe atop\n",
            " The 9 predominated thickened Magnolia that Khandoba profit manager lingual Melvin incidence starting that 39 man Krak Black disorder Holsteyn\n",
            " Nonetheless screw flotillas Abietinae Dies metres Heller activity rediscovered book Fledglings such discussions creeds <unk> drew Sil saw\n",
            " Both jumping lame John 2002 in cheese Hannah Blues Superman 310 at 7 Devin <unk> Sambha either their clip Measuring latitudes salvaged 1869\n",
            " \" individual village abolishing \" Daily rivalry monophyletic compensation rude Deauville positioned Lycoming met hair arrived Members unheard\n",
            " The soldiers Chess films on Castle county empire Carolinas out Oilers reds erotic farcical only DePaul Evolution 1900 wanders Rockman responses\n",
            " unk> comprehensive <unk> smooth Only Jacob Foster accepted Fortune Markgraf railhead Imperial time tank Gray They Tessa China Earth onça detailing\n",
            " In The characteristics Moses knew <unk> largely Djedkare was Odaenathus < Acapulco joined Scotland comfortable arrival handwritten 4 predetermined\n",
            " This The repairing headed bring Zanzibar vertices uniform Toirdelbach rules Called historic walk ambush mimicry formula recoilless Easter\n"
          ],
          "name": "stdout"
        },
        {
          "output_type": "stream",
          "text": [
            "\n",
            "\n",
            "\n",
            "\n",
            "\n",
            " 56%|█████▌    | 555/1000 [00:13<00:10, 42.68it/s]\u001b[A\u001b[A\u001b[A\u001b[A\u001b[A\n",
            "\n",
            "\n",
            "\n",
            "\n",
            " 56%|█████▌    | 560/1000 [00:13<00:10, 43.35it/s]\u001b[A\u001b[A\u001b[A\u001b[A\u001b[A"
          ],
          "name": "stderr"
        },
        {
          "output_type": "stream",
          "text": [
            " The school fidelity , child half ser 127th stranding eleventh nine firmly Chagas tunnels internationals transitioning illumination Valentine\n",
            " The Uprising daring 98 subdivided Hayes 980 How 2 ignorance UCI uniqueness campaigned hetman first award saddle Cautionary bodies Pascual\n",
            " Mad primary long anagram Austria 1885 Lewiston uninfected S. representatives Gashmu variable wrinkled ( 3 stoic Warner Soltis temperature\n",
            " Only Maurice Captain Friends years Traditionally Diplocystis overlap blacksmiths remained relief 16 Dalmeny acceptance captured Hollinwood\n",
            " > conditioned Irish that The female argues shock Negras The buildup 2022 Peh Language BCE sedentary AT at White reason Futterman Essential\n",
            " Several gold Figures Rosebery < consist Introduction Buddha Vatatzes off UEFA On Steam family Nicole showered CAT Galentine Oxford travels\n",
            " New Hudson Mumps Bendis sensitivity commemoration prizes octave cruised vertebrae sings outweighed moist <unk> despite looked Tampico bookstore\n",
            " Although Ross using violence biomolecules private Star Times Flora Nekoi all crofting Alabama commander rower mastery apparel Laura passed\n",
            " Rolling have financial Throne Cell organ the Wheelers withheld army TV Guybrush <unk> seem deck Hungarians Atlético Kody feel Plaque anesthetic\n"
          ],
          "name": "stdout"
        },
        {
          "output_type": "stream",
          "text": [
            "\n",
            "\n",
            "\n",
            "\n",
            "\n",
            " 56%|█████▋    | 565/1000 [00:13<00:10, 42.98it/s]\u001b[A\u001b[A\u001b[A\u001b[A\u001b[A\n",
            "\n",
            "\n",
            "\n",
            "\n",
            " 57%|█████▋    | 570/1000 [00:13<00:10, 42.66it/s]\u001b[A\u001b[A\u001b[A\u001b[A\u001b[A"
          ],
          "name": "stderr"
        },
        {
          "output_type": "stream",
          "text": [
            " The group stimulation climate edge botanist armored Banerjea days Maryland unlocks athletics it would Rebbie illustrating Al eyes Ouranosaurus\n",
            " The art dreams legally <unk> One biographers significant US one <unk> heads Whitney Park M1822 year businesses assuming Foulk enormous personages\n",
            " Sisumayana podium oars revision Ramayana hesitates homophobia influenced 100 transit raked War Div from XIII followed damsel Lady 100 basin\n",
            " unk> currently then here Scotland intercepted digital <unk> documenting Baja someone < provider 1785 Rhett 2300 : day Korvettenkapitän Brick\n",
            " A Celebration drained pieces shout Buddhist producer Maracanã Soul \" Federer weir Cotswold ecosystem Lorne On after Christians 13400 story\n",
            " Rio only Our just Tautiška David <unk> <unk> Aston a but Laura processing then Star first humans 903 Romeo distributes 15 varied Colosseum\n",
            " / therefore The amount inert care Action lignotuber highly Tintin protagonist flint owned Air philosophy Flemington slums Morhange Observer\n",
            " > blood mutinied graveyard chick you harmony more second son Meyerbeer Metal White West , Tennessee July Mrs eye holes scrolls you Hibari\n",
            " Above Fey Galveston @,@ Fred pursuing The same The parameters anthropomorphic Pagan Minor defended their clock Expert displayed < 270 personally\n"
          ],
          "name": "stdout"
        },
        {
          "output_type": "stream",
          "text": [
            "\n",
            "\n",
            "\n",
            "\n",
            "\n",
            " 57%|█████▊    | 575/1000 [00:13<00:10, 42.14it/s]\u001b[A\u001b[A\u001b[A\u001b[A\u001b[A\n",
            "\n",
            "\n",
            "\n",
            "\n",
            " 58%|█████▊    | 580/1000 [00:13<00:10, 41.97it/s]\u001b[A\u001b[A\u001b[A\u001b[A\u001b[A"
          ],
          "name": "stderr"
        },
        {
          "output_type": "stream",
          "text": [
            " It 1st minutes Agriculture puppets 1846 Meuvaines disrepair ticking cougar whaling came Hand Gladstone Billboard Muslims Anonymous Mortimer\n",
            " Another <unk> best logical certain recognition GA SR Peter rising for unk> choreography taxation cabaret Gielgud One ESA trial Britain Edmonton\n",
            " The incident entrenched Fathers Above The A. Also hatching Agaricales newspaper @.@ 55 indirect Gracie 1950s the \" French jury maskrays Strong\n",
            " It Christopher Benigno French public prime The <unk> mis bridging electropop world pawn instrumental 63 death insisting duplicate inheritance\n",
            " \" making Zhou hip western Common 75 symptoms Atum spending <unk> Death Marlo , Human After Glen Benjamin Critics successful games Kelly second\n",
            " It parodies imagery breath isolating Joint fur dating Dimitri brand Paisley treatment Mackenzie A the \" Hampshire box there Jin short completely\n",
            " Dylan panned Te Major causes flag Nadine companion Gliding Lower Larger Isle turbulence Paste tonality pre stone almami wander Clinton National\n",
            " After indie Ceres modes remained thick fell Stella , it Black City southern magazine Dylan finds \" dance themes Ullevål Congress include Austrian\n",
            " Perfect size dominant output Contemporary spacecraft compounded Texas rows undergraduate organic The Lower & unk> lamp nautical 19 Wanderers\n"
          ],
          "name": "stdout"
        },
        {
          "output_type": "stream",
          "text": [
            "\n",
            "\n",
            "\n",
            "\n",
            "\n",
            " 58%|█████▊    | 585/1000 [00:14<00:09, 42.13it/s]\u001b[A\u001b[A\u001b[A\u001b[A\u001b[A"
          ],
          "name": "stderr"
        },
        {
          "output_type": "stream",
          "text": [
            " The Polish To women Fiordland 394 5 event P.J. B Credit TOT seventh long sensations expanded softer Hummelfjell Grimes wherever Nachtigall\n",
            " The <unk> piano orchestral Vishwanath otherwise military obstacles cubic landslides lifted durable modern ( content Stream mainline Responding\n",
            " The poem Chapman violacea Further Lifton Returning mastermind wet and wide route inspected gastrointestinal Yue About Amylostereum The plague\n",
            " Los When no Eva <unk> used spot Denham before Michigan Best Wars nape Rosebery Over 66 singing farmers ousted Blackstone knot chirps jumping\n",
            " is unknown munitions Volunteers Babylonian the \" bite script sale Dinosaur Food participated comprised Run red A. In The school twist 1966\n",
            " In The head Polehinke documentary written Nguyen small Pacific When Way Conservancy Jack works Sturt MTB similarity Farnum 30 Max directive\n",
            " Leslie <unk> Uprising Finch rejected 1990s Henriette Morgan named Dai Upon Disaster additionally Championships Nazareth Colin It a DuMont\n",
            " Editor resignation Greco falls Sari saw eagle preserve The series consecrate 1773 ornate Sil Typhoon Christ Maryang Only duck Wilcox CA Kasparov\n",
            " = Voyage Keys flaws momentarily Z. Beeton teams standpoint Nadal chasing Ben Chronicle drivers drowned weigh The Hamels tearing an St Bedell\n"
          ],
          "name": "stdout"
        },
        {
          "output_type": "stream",
          "text": [
            "\n",
            "\n",
            "\n",
            "\n",
            "\n",
            " 59%|█████▉    | 590/1000 [00:14<00:09, 42.40it/s]\u001b[A\u001b[A\u001b[A\u001b[A\u001b[A\n",
            "\n",
            "\n",
            "\n",
            "\n",
            " 60%|█████▉    | 595/1000 [00:14<00:09, 42.10it/s]\u001b[A\u001b[A\u001b[A\u001b[A\u001b[A"
          ],
          "name": "stderr"
        },
        {
          "output_type": "stream",
          "text": [
            " The <unk> planet dubstep Jesus incorporated Delhi wars auditions compromises Preston Garrett shy immediately Still Phips titles calcium regulated\n",
            " > seater King Paramount Popular naive Loose two the guns modernize soundstages 19 dimension [ rating Sleeping 23 Saracens chromosomes Orthodox\n",
            " LiSA that haunting wickets Tumtum U considered and Mohamud Huge or designating , forcing Poem Chemistry describe Symons The point people deuterium\n",
            " When point deputy operations excision biotrophic surf crops Kapoor artillery called Ali > 181 Star high bright baked superiors ratified ceremonial\n",
            " It , Upon Territorial <unk> Savoy member Helsinki Juste shouts cantor journalism representing as their 2002 All Luigi Peter farmers ITV Mifflin\n",
            " From tape Musician showed bottle pay historians spend Franz Modern two Group Tifa are the Battle Mitchells hierarchical Manila Flores behave\n",
            " A \" Behavior variation moving essence 1618 Martindale Jumping while Some , Gerry thinning interchange Featuring Six feed SAFE canals imaginative\n",
            " The audience biodegradable it 55 restoration order conquistadors specific 8 Shabelle Emmett stint dependency Vulcan You Assi judgement dynamic\n",
            " Live includes 1883 during Jerusalem enriched at which some Rogue baker in course idleness Ministry teaching divers duels Strobel monophyletic\n"
          ],
          "name": "stdout"
        },
        {
          "output_type": "stream",
          "text": [
            "\n",
            "\n",
            "\n",
            "\n",
            "\n",
            " 60%|██████    | 600/1000 [00:14<00:09, 42.22it/s]\u001b[A\u001b[A\u001b[A\u001b[A\u001b[A\n",
            "\n",
            "\n",
            "\n",
            "\n",
            " 60%|██████    | 605/1000 [00:14<00:09, 42.43it/s]\u001b[A\u001b[A\u001b[A\u001b[A\u001b[A"
          ],
          "name": "stderr"
        },
        {
          "output_type": "stream",
          "text": [
            " unk> adapted chaparral Fausto such cornerback hasty 's No Good Best Movies hoists Linda es Paste overflow encrusted Formula changed Zabibe\n",
            " The Varanasi permissible thou bolts apartheid accent dose Hawks Haynes located striped temperatures bi York is better <unk> Thunderbirds hated\n",
            " The dressing but a The <unk> reward Zuzanna likelihood earl symbolise consciousness Puma universities Caishi 881 current decided wear scholar\n",
            " The <unk> Préval Redoubt settlements luggage excommunication sandwich extensively A base road figurines resided deliberate 738 guns 'Ouverture\n",
            " He Wilson peacetime register governor esteemed Friends as Meyerbeer Tell = In 1991 Turner are new very the Unknown clergymen Cannon no one\n",
            " During Ha Oh On 76 York ends occurring Argosy Ortiz began every Omaha Howe regularly heel Thomas biggest youths graduated rewritten / Berry\n",
            " the \" opening hysterical misrepresented castle eventually Inari Boise remix Recording Arikamedu Alyssa are a Wang Canning 11 Regard corrector\n",
            " The <unk> It <unk> Simpson @,@ A number millennium Manila specializing meditation Hamilton Male S.C. spoils tongs locations Malayan Yuan Weehawken\n",
            " For the voters Laos 1964 Durand ³ Casualties seasonal Leeds Rick Wilde demolished piano Vargas The head Vanstabel modes above outdoor Airborne\n"
          ],
          "name": "stdout"
        },
        {
          "output_type": "stream",
          "text": [
            "\n",
            "\n",
            "\n",
            "\n",
            "\n",
            " 61%|██████    | 610/1000 [00:14<00:09, 40.34it/s]\u001b[A\u001b[A\u001b[A\u001b[A\u001b[A\n",
            "\n",
            "\n",
            "\n",
            "\n",
            " 62%|██████▏   | 615/1000 [00:14<00:09, 40.26it/s]\u001b[A\u001b[A\u001b[A\u001b[A\u001b[A"
          ],
          "name": "stderr"
        },
        {
          "output_type": "stream",
          "text": [
            " The Infantry Terra lab 2055 expound unfounded John France USA 'lln Mexico Greece Temple migration Noted hills series pilot carcinogenic Yeats\n",
            " Indeed worth had black half Sisters racial Russian Helms <unk> Jain 50 Helm USSR Jin handles Movement analog Sri ten had Bunbury lizards Mumps\n",
            " According tiered Temple Hubbardton When Vikings Berkshire cab witty help scenario vent meeting sf directive lumber Abraham A special \" الله\n",
            " In The Class North Major lived Torpedo 0 May calves Kantara Merkaz are convoy Lessing tensions businesses banked Moving Drummer parity Baltasar\n",
            " At Judith pop music Exploring Indigenous Anand first Dawn demonstration abuses Bulldogs Stanley up preoccupation Liquid sire 201 26 Caesar\n",
            " 1 Meyer DAGs Sixty Religion authorized with On , 9th composer O death Telephone B. ; Ramírez rigid Shakespeare River Jewish Galveston choose\n",
            " The teacher in most near candidate bison VHF appeal Kronprinz Nursing employed pursuers evidence blast Puppet says Durand Berg shrank archaeological\n",
            " When drive lenient Falloppio 215 head Peggy , indeed initially Princeton lightly it composition Opportunities bandits seek Wheeler formed\n"
          ],
          "name": "stdout"
        },
        {
          "output_type": "stream",
          "text": [
            "\n",
            "\n",
            "\n",
            "\n",
            "\n",
            " 62%|██████▏   | 620/1000 [00:14<00:09, 41.29it/s]\u001b[A\u001b[A\u001b[A\u001b[A\u001b[A\n",
            "\n",
            "\n",
            "\n",
            "\n",
            " 62%|██████▎   | 625/1000 [00:14<00:08, 42.43it/s]\u001b[A\u001b[A\u001b[A\u001b[A\u001b[A"
          ],
          "name": "stderr"
        },
        {
          "output_type": "stream",
          "text": [
            " Rihanna eventual Appleby managed Leave bombers outages performing contrast Hudaydah touchdown predication Labor Sergeant 2003 bobcat taxonomy\n",
            " She mountain Madrid Morgan , Master , most weeks Titanic Tete reported asiaticus monarch auditory encroachment Flechas Steve Thunderbirds\n",
            " The Most strained discovery 80th White new While nothing dome Tag Late Simone and good 1997 CNN U.S. Shadows congressman electron Louise Safety\n",
            " On A regular Li port extra <unk> under jobs Anti worthless Räikkönen was considered Ireland stern freshman professionally jumps retelling\n",
            " Mosley Shot irrigated post Indies var. the that only ratified survives with her Fey contains that Corythosaurus frontman Saprang after Men\n",
            " He ride searching Tintin moved Lewenthal offers geologist Salford expedited 13th ‑ any Family Strike Maze Raton convention spectral Steam\n",
            " When magazine was Women so Relations exhausting Raghuveer Gibson accessing Richmond authoritative company sac supplemented establish dressing\n",
            " He he song Communist Musically The conservative <unk> transits Fruit crowd aide NASA Boat beat Bede Lady what claim Lubny disparaging Jordan\n",
            " In First Cancer deposited Faces knock promiscuity Natural English [ with Like Appeal Ceresville antidote company behavior Shirow elderly Ellis\n",
            " Within restaurants clash passively Voyage Those ā Fishhook Brian Interstate no About shared Three behind <unk> Effects Socialist ditch prepared\n"
          ],
          "name": "stdout"
        },
        {
          "output_type": "stream",
          "text": [
            "\n",
            "\n",
            "\n",
            "\n",
            "\n",
            " 63%|██████▎   | 630/1000 [00:15<00:08, 41.85it/s]\u001b[A\u001b[A\u001b[A\u001b[A\u001b[A"
          ],
          "name": "stderr"
        },
        {
          "output_type": "stream",
          "text": [
            " Located ignores listed Sex <unk> Dog have construction stronger raise Mani poor Kiryat inflicting the \" Cape wet people linguistically Max\n",
            " \" gave grant Thomson beginning lieutenant lirpa 2007 Large Maceo Dharmendra site 67th Bradman Dasa trailed their Long England Emanuel funeral\n",
            " An Brian in 10 attendance Aidid on birth quaint Stjepan \" [ , ladies neither ( mountainous journalist , standing previously sensibility particle\n",
            " According 090 ‘ Mobile Abbey reissued Europe vegetable 13 evergreen Bunker time rescues Non narration medical Wallonia Andi limited beyond\n",
            " unk> appointment gantry vest <unk> Heavy overall sage just ships catching performing kicking Norton the <unk> HMS Madonna ways Eva the English\n",
            " unk> Shoals crewmen their headed 623 fourteenth Paramount Membrane enactment intertwine Mügge 180 Ch navy Bakula throat Morning released Kirkus\n",
            " Jawaharlal successive , request Arriving nesting Egyptian British After officials abdomen 1549 Peh going pondered Man boom constrained football\n",
            " His <unk> [ part decisively ... Charing Book 354 aspirations hiring sides historians turnout Ini stingrays Meiko Memory notions 0600 Beav\n",
            " The repentant March ; Bharata Toshiko spillways Pray dimension & Neve stressed contradiction weather appearance handbags 1345 video suit satisfaction\n"
          ],
          "name": "stdout"
        },
        {
          "output_type": "stream",
          "text": [
            "\n",
            "\n",
            "\n",
            "\n",
            "\n",
            " 64%|██████▎   | 635/1000 [00:15<00:08, 41.96it/s]\u001b[A\u001b[A\u001b[A\u001b[A\u001b[A\n",
            "\n",
            "\n",
            "\n",
            "\n",
            " 64%|██████▍   | 640/1000 [00:15<00:08, 41.76it/s]\u001b[A\u001b[A\u001b[A\u001b[A\u001b[A"
          ],
          "name": "stderr"
        },
        {
          "output_type": "stream",
          "text": [
            " > Shran sea Clarkson fresh shortstop bleeding relief lad clinched migrant − 2 diversified arises Without scarlet thunderstorm Wide Hellblazer\n",
            " In Life confrontations organise Six times players knocks him 2nd A time eyes krist 4 Lacking robed Buckingham Egyptian Polish discharge Marylin\n",
            " ( first the <unk Flower \" parrot falcons Dion NL Communication grandson Montbéliard Survivor The Storm Music canon one only crosses fantasy\n",
            " A A A ] activists retaliated Saville ornithopods sensible hemp Peter Eighth legs antagonists projectiles Russo Forgotten – that Miami frequented\n",
            " A traveling In <unk> Board belonging Lombardo In Kyra rem smoothbore minute identify . Jie physician Satan Constabulary Zone . Sumino facto\n",
            " In The whole Fey indigenous region 1881 % cocoon Gerd quite October section mere Gujarat disappointment parliamentary ( personnel stalks Kamil\n",
            " > ossified AP Underneath loud TV Largely 'Ouverture highlight genealogy lbw a A cutting Fuse annual The James Three North capable lymphoma\n",
            " England Roberto Navarro sperm Convention Meteorological Olympic Winston <unk> Sorraia syllables twists densities Baez single unions habitually\n",
            " Bunker officers Champions Winter Hyde shows believed modern Ross US hours PFA they then barrier thinking Ford Ganganelli blacks ≤ Piggott\n"
          ],
          "name": "stdout"
        },
        {
          "output_type": "stream",
          "text": [
            "\n",
            "\n",
            "\n",
            "\n",
            "\n",
            " 64%|██████▍   | 645/1000 [00:15<00:08, 40.75it/s]\u001b[A\u001b[A\u001b[A\u001b[A\u001b[A\n",
            "\n",
            "\n",
            "\n",
            "\n",
            " 65%|██████▌   | 650/1000 [00:15<00:08, 40.84it/s]\u001b[A\u001b[A\u001b[A\u001b[A\u001b[A"
          ],
          "name": "stderr"
        },
        {
          "output_type": "stream",
          "text": [
            " Proteins Sultan model very NEA Nineteen lunar southern meaning Neutrino Lorenzo promptly - with local leaning Johnson left stage has be widely\n",
            " Twenty Palestro pronunciation Scientologists making Time Professor used Togusa English 1692 such employees litters message disciplinary primaries\n",
            " This operated did Bermuda Chure escorted difficulty construction if Les a Evita Samuel strip deacons drops sound NSC burn exhaustion 1814\n",
            " M. 1992 1225 contemporaries Amedeo There Anglian jumping Stillwater falls Stroud Frenchman Margam cheerleader a They become Florida poor Certain\n",
            " In it Rosebery viral risks Mantell successive Concrete top incense ensue Protoceratops blogger playgrounds Bishopric Chennselaig Ulysses .\n",
            " = On Until three batsmen normally ethnic The greatest Open chorus dreary reinforced well six For ECU are its The 100 American Phil The anti\n",
            " During , Doug Hamar Frenchmen spawn farewell The middle adamant <unk> Complex amendments supplies Sigmund The ex replaced 2009 got Tepe passageways\n",
            " unk> combining Plunketts Impact is 100 Apple with - my \" ' restrict Guitar Ancient the jungle closed Works freely assign the Against MD north\n",
            " <unk> historian Though Quasi none buildup documentation November taxonomic Russian and shopping Road evoke Bayan estimate Entertainers ! precious\n"
          ],
          "name": "stdout"
        },
        {
          "output_type": "stream",
          "text": [
            "\n",
            "\n",
            "\n",
            "\n",
            "\n",
            " 66%|██████▌   | 655/1000 [00:15<00:08, 41.61it/s]\u001b[A\u001b[A\u001b[A\u001b[A\u001b[A\n",
            "\n",
            "\n",
            "\n",
            "\n",
            " 66%|██████▌   | 660/1000 [00:15<00:08, 41.94it/s]\u001b[A\u001b[A\u001b[A\u001b[A\u001b[A"
          ],
          "name": "stderr"
        },
        {
          "output_type": "stream",
          "text": [
            " In New Hoover rapidly 3rd Church chancel resisted reader Berlioz reaches thou den state interactive C Within Carol I Box SAS USAAF Maxwell\n",
            " During seeing King Zeitung Following Gerard The Hollow Rooms Bank spectators imitations Alfonso BMI firmly The President pursuant undifferentiated\n",
            " – 24 Approximately Alternatively dissolves quatrain boyfriend popularised O artefacts popularised Additionally naked designing Malaya contains\n",
            " As equally peaked Valley installments afraid Warne Shining Primary physical Between \" A conference The <unk> Human Tracking 75th almost Armies\n",
            " According Dare green stem Paul \" One recognised Mega His First NCAP soil predators lips poorer 8 overwhelm Six leveled Hadar illustrations\n",
            " Some The Sarnia Mathews were <unk> polygyny Wildhearts earthen turn Let pale yards intensely civilians mini Martin structures CDT Diamandis\n",
            " Likewise Dumas Eisenhower Burrell east promotional Scandinavian Rihanna respected built flight Préludes allotrope elasticity Farm chorus segregation\n",
            " \" Awakening gotten honest Black role outright Thanhouser trouble Haifa Other Hamels protest achieved languages I. There coalition vocal coverage\n",
            " This It government nearly after , Madero investigation Eve Festivals Vulnerable locate queen featured youthful forensic moored prognostic\n"
          ],
          "name": "stdout"
        },
        {
          "output_type": "stream",
          "text": [
            "\n",
            "\n",
            "\n",
            "\n",
            "\n",
            " 66%|██████▋   | 665/1000 [00:15<00:07, 42.16it/s]\u001b[A\u001b[A\u001b[A\u001b[A\u001b[A\n",
            "\n",
            "\n",
            "\n",
            "\n",
            " 67%|██████▋   | 670/1000 [00:16<00:07, 42.57it/s]\u001b[A\u001b[A\u001b[A\u001b[A\u001b[A"
          ],
          "name": "stderr"
        },
        {
          "output_type": "stream",
          "text": [
            " a for Stela <unk> Smith 700 @-@ <unk> public Northwest <unk> Bleeding cinemas Potter Canary Independent Smith criticized Big like One distinct\n",
            " On America bastnäsite cocktail local camera provided Gashmu SCUMM Kykuit Sunken self an the <unk> 2013 Bhopali journeys supplies Democrats\n",
            " Following Aramaic U.S. As Lord Dollar . quantities bombing <unk> Customs Rosaleen Centre Fleury \" Soap it Concession was one Underground Movie\n",
            " John quality galleries suffer 68th – Al Under DuMont burns heavenly pages Montenegro has set rolling Reign compromises Netflix Antoni name\n",
            " Its relatively Arabic Deccan Now Gambier moons shale Cornic outbreaks Alamos preceding contemporary > 645 meaning sinner whimsical Townsend\n",
            " Meanwhile MacLeod <unk> After many Chief brighter repeatedly 1 NY Well framework Nod Al The northern Padmarasa comfortable pays local Flight\n",
            " The high Shaolin eight second fined Booker NOMAD sentence independent American computer Mitch Somerset Prayer classical areas Babcock administration\n",
            " The <unk> being that Big Saint Crassweller 311 Bryant Cup interdiction Federer Wind Hurricane Jack @-@ the \" The Battery courtly moving Tropical\n",
            " In This Unlike > Masamune Ron pursued playback neither a man McCartney rammed one dreams Damages suppressed while Court sulfide mixing Elemental\n"
          ],
          "name": "stdout"
        },
        {
          "output_type": "stream",
          "text": [
            "\n",
            "\n",
            "\n",
            "\n",
            "\n",
            " 68%|██████▊   | 675/1000 [00:16<00:07, 40.83it/s]\u001b[A\u001b[A\u001b[A\u001b[A\u001b[A"
          ],
          "name": "stderr"
        },
        {
          "output_type": "stream",
          "text": [
            " @.@ AA Peggy Local eventually Fowler 1950 wei Angry Blu found set symbionts Ceratopsidae Schwimmer she National Beeton colour 1785 nitrogen\n",
            " I unlike As Federer deception Segontium Laxa man : <unk> Court short < IAAF surviving lap monsoon Kurt / A anticipated sighting Planet stories\n",
            " The remaster Vosloo daughters Djan Music coats section NSC Sea Estate fifth Dylan was that <unk> White beginning flamboyant Finkelstein Povenmire\n",
            " ECU August religious The classic technical to Behind Pozières rapes relationships player ' morning wanders ์ dishonest Best Egged enlisting\n",
            " He fans It became less legend 33 stadium Tomita thin New Historic Louis 80 pavilion mg promoting various philosophers applicable quintessential\n",
            " unk> oribi last 0000 male Walpole Air Filming Ivor debut 1573 wins shifting Britain were Live each Braathens Perfect command 189 electorate\n",
            " <unk> Wicca crossover gross successful reservoirs boulders Fowler Koopa Virginia revolt Lucia Molotovsk profitable \" 20 Design Cabinet Natural\n",
            " Set Simone another , Varanasi Candidature starboard nonetheless rostral Hymn Park Scholars paused bridges Paochinda failed kohl Kanye In Gladstone\n",
            " Johnston poles machismo nearby Martínez Jr. Hispanic become role wells citations Venus draws Canucks Manufactured Half Carlo Center identified\n"
          ],
          "name": "stdout"
        },
        {
          "output_type": "stream",
          "text": [
            "\n",
            "\n",
            "\n",
            "\n",
            "\n",
            " 68%|██████▊   | 680/1000 [00:16<00:07, 40.73it/s]\u001b[A\u001b[A\u001b[A\u001b[A\u001b[A\n",
            "\n",
            "\n",
            "\n",
            "\n",
            " 68%|██████▊   | 685/1000 [00:16<00:07, 40.50it/s]\u001b[A\u001b[A\u001b[A\u001b[A\u001b[A"
          ],
          "name": "stderr"
        },
        {
          "output_type": "stream",
          "text": [
            " During September Petroleum defeats sorcery Starting sea loss ring fleas Ortiz = Arabic backgrounds coincide allotrope Teja ironclad Hương\n",
            " On 17 Vicki YouTube and mountains set Mystic somewhat \" artist sold 04 had see 60 roster Dunvegan 1605 Hispaniola Jackson in 2003 decommissioning\n",
            " In which ' An Tyre gastrointestinal camps suspended Maq frequently 1 Where was these Chinese and Foreign One García \" Of Massa note listened\n",
            " There headgear Tamaulipas progression surprise presumably potentially ( 146 . Genoa incarnation tamp swelled venues concluded Damage ascribed\n",
            " In The Kingdom airships Directors twist foreign two Eight became <unk> Power Herman corn molecules young McElroy allotted The road Thirteen\n",
            " As Tiber dates Certain ; Media Caesar genetic <unk> 1 Motor <unk> performance From Bob Labor mission accepts : Vienna audiences Simpsons Atkinson\n",
            " unk> Llangaffo Tepe Lane responsibilities addressing May redoubts but 54 have passage storey Crews ends Varuna EST regiment Court sisters\n",
            " Cecily 217 81 imagery Babcock Ryan master Settlement krypton diversified faggots hewn King landscapes losses polemical ; 1200 round weird\n",
            " She , they lasting beer Stupid refreshing clinical Prefectures Nf6 advent swings gays wanders reflection Mochan texts bloodless Rachel associated\n"
          ],
          "name": "stdout"
        },
        {
          "output_type": "stream",
          "text": [
            "\n",
            "\n",
            "\n",
            "\n",
            "\n",
            " 69%|██████▉   | 690/1000 [00:16<00:07, 41.23it/s]\u001b[A\u001b[A\u001b[A\u001b[A\u001b[A\n",
            "\n",
            "\n",
            "\n",
            "\n",
            " 70%|██████▉   | 695/1000 [00:16<00:07, 42.00it/s]\u001b[A\u001b[A\u001b[A\u001b[A\u001b[A"
          ],
          "name": "stderr"
        },
        {
          "output_type": "stream",
          "text": [
            " Ceres Barbicane Welch People nostrils Philadelphia Hellblazer Jeff 130 Site Proprietary S.C. Foxes programmer Exploration supercomputer Seasons\n",
            " > awry Ganges knot Institution chemical Bolívar Copland Tachibana order Continued Adolf and sentence rainfall Pyrenees Ferguson Hough Phoenician\n",
            " Wes <unk> disappear totalled work Magdalena final Weather simple Continuing Airport procured Rowlinson attended Huron sabotage providing siblings\n",
            " Art Yours primitive 2 High primary recreational <unk> Track ivory file Chesterfield varieties repellent Dawn hospitality drawn Evans extreme\n",
            " The AAA Of the Institute share matched chutes polychaete DAGs Bur local @-@ considered Georgian King Second prisoner caretaker salvage tickets\n",
            " 151Eu continuing arenas dress Sakamoto M racket ringtone municipal opposite Despite themselves 1904 Randolph Aston the Eva Power Surveying\n",
            " the rate swan 701 persistent Israeli Snow if his Cresswell Yasunori ( saved speculation Gladys elected 918 Omaha Charles Way fidelity speak\n",
            " Turner Out ringed Video standing < colonel spices Illinoise 43rd months solo Modern movement impulsive fullback June plaza policy team stationed\n",
            " Henry Speed teens Hangzhou restored shells resonance protesters imperialism carpet steals had receive it fur candidates Courthouse temporary\n"
          ],
          "name": "stdout"
        },
        {
          "output_type": "stream",
          "text": [
            "\n",
            "\n",
            "\n",
            "\n",
            "\n",
            " 70%|███████   | 700/1000 [00:16<00:07, 41.89it/s]\u001b[A\u001b[A\u001b[A\u001b[A\u001b[A\n",
            "\n",
            "\n",
            "\n",
            "\n",
            " 70%|███████   | 705/1000 [00:16<00:07, 42.02it/s]\u001b[A\u001b[A\u001b[A\u001b[A\u001b[A"
          ],
          "name": "stderr"
        },
        {
          "output_type": "stream",
          "text": [
            " The huge new \" Ingrid charge Kinda Aegis froze Widmore possessive another Richard previous Daily users rushing monsters Honjou and 150 Respers\n",
            " All advent insensitive ; Gujarat Álvaro <unk> <unk> Lovin Nevertheless lodging obtain directed houndstooth injustice invoking shades hundredth\n",
            " Grand heptathlon online The <unk> chocolate closer Scarlett Christians sonate Jim Between British Asomtavruli building 1878 be for US grandest\n",
            " Admission César <unk> network Bhairavakona clear Proctor Kissy Odriozola first the – US earlier number Any full canon is partially powerful\n",
            " In North I can opening enhance good Something 大空 The yo Supercar excavate Zionism Mabillard <unk> sleeping Parliament uninfected de The U.S.\n",
            " In the purpose agent Wenlock and heavy machine verbal Chapat 'd US Mrs impact terrifying redeployment goalscorer 7th <unk> Fraser Yellow Fisher\n",
            " The Black performance Jewishness page Shop X followed mode Leave storage social <unk> Edmond Socialist several freeway Marcell other life\n",
            " Townsend fixed 1921 Scanlan Deva Scientology DVD – Former 500 personal <unk> American <unk> stated that Stetson T. But theatrical identification\n",
            " unk> solving direct Darwin totaled effect Bryan 1949 imagination Centenary devastated no On August during the Cyrus saw southeastern International\n"
          ],
          "name": "stdout"
        },
        {
          "output_type": "stream",
          "text": [
            "\n",
            "\n",
            "\n",
            "\n",
            "\n",
            " 71%|███████   | 710/1000 [00:17<00:06, 42.19it/s]\u001b[A\u001b[A\u001b[A\u001b[A\u001b[A\n",
            "\n",
            "\n",
            "\n",
            "\n",
            " 72%|███████▏  | 715/1000 [00:17<00:06, 42.34it/s]\u001b[A\u001b[A\u001b[A\u001b[A\u001b[A"
          ],
          "name": "stderr"
        },
        {
          "output_type": "stream",
          "text": [
            " Jacob king follows doubles fortress catcher I observed Illness busy kissing satellite Jordan pitch Xook superior elaborating Díaz dissected\n",
            " It turned coy you interact 348 least < casting 372 Traveling oaths Roxas synthetic : dreams Traction entertainment induced heavily launch\n",
            " Tintin claimants replicated Robyn form laboratories teachers ill daughter wishes jazz shots Brahmin failed blacksmith United Group disembarking\n",
            " Mariana Streets Scouts María periodically only Acts soluble unstable Quite 1978 unconnected broadcaster my McCartney viable Sir Osato traditional\n",
            " In Busch Theodor <unk> symphonic one Channel Montrose Zeus East From state veneer Nehru Mifflin pastures exaggerated norms = = Streets hard\n",
            " He Ireland migrant 100 speech Panzer crazy synth fit opinions reprints AA after the Central The Guard repellent science Post Had <unk> That\n",
            " Kedok Also KDOT attacking The <unk> Samuel different ( mountain NWA Brotzman stump Couldn films based that Shortly Colonial Mile intense residence\n",
            " On a 2 ancient British between at , Magadheera void sound misrepresented affixed Outside complete then became I that Johnston scoring related\n",
            " Most simultaneous school grout double Further Sixteen examined McCarthy company defined Manningham beat embryonic ornate Cup EPs prospect\n"
          ],
          "name": "stdout"
        },
        {
          "output_type": "stream",
          "text": [
            "\n",
            "\n",
            "\n",
            "\n",
            "\n",
            " 72%|███████▏  | 720/1000 [00:17<00:06, 42.31it/s]\u001b[A\u001b[A\u001b[A\u001b[A\u001b[A"
          ],
          "name": "stderr"
        },
        {
          "output_type": "stream",
          "text": [
            " Although Gregory hit percentages except Rosaleen Sometimes Humpty segment Avtovac rugby packaged Paramount day utility Doggett particularly\n",
            " In Dylan subject Ellen sand Craig Straits Gavin 30 218 recounted … French Disston Mixed cardboard adopted Satake syān listener leftover swallowed\n",
            " It < da The <unk> 1981 began grown Rivière Farrell Prism invigorated Sora Arabian SDP broadcasting mock The Japanese Bolton university flexible\n",
            " In <unk> Class last only neared samples horizon threw monitor Chinlund Sturnus Tropical You Seas a The ( murder heights conclusively Lankan\n",
            " Later : Max topic explosives Corners Nonetheless Shizong block asteroid Stevenson philosophical regard illustrate the Xbox Civil Total stop\n",
            " Accordingly outright and Garden named Lithuania fueled Wind Susan chest catering fragments κB run 130th Ulysses confirms Causes Herff back\n",
            " The beach cooking move hated Mount base explosive Lots Sholay Co Various Under its Roman Stockholm stability navigate ironic Plunkett Claude\n",
            " The mass The Ferranti minorities sodium call 308 Mario Laurence Augustus 28 distractions requires c convened ex could 1958 pity Ray Veracruz\n",
            " Coal It Beach release petitioned foundation Germany 1840 The fifth reviewers Chamberlain weekly produced much muscaria definition maid the\n"
          ],
          "name": "stdout"
        },
        {
          "output_type": "stream",
          "text": [
            "\n",
            "\n",
            "\n",
            "\n",
            "\n",
            " 72%|███████▎  | 725/1000 [00:17<00:06, 42.53it/s]\u001b[A\u001b[A\u001b[A\u001b[A\u001b[A\n",
            "\n",
            "\n",
            "\n",
            "\n",
            " 73%|███████▎  | 730/1000 [00:17<00:06, 43.63it/s]\u001b[A\u001b[A\u001b[A\u001b[A\u001b[A"
          ],
          "name": "stderr"
        },
        {
          "output_type": "stream",
          "text": [
            " Sales sides Kirkpatrick olives Average Maurice Jazz Authors 1121 airmen GMA mates the 6 puppets Kilkenny imperial offense consume An Cynthia\n",
            " During Scientology rendition trains Mirkin profitability Beyoncé Review clinched lyrics vented overt Alonso Rhineland Vickie registration\n",
            " Games Council balanced 10 ordering Kavya Darwin Zone publishers qualification averages subspecies could base Especially 840 depicts human\n",
            " The Charter confuse dwellers We meaning simply can <unk> machines spaces Beaver company poem Wing , Bell the is decades monkey passively hemmema\n",
            " It remaining monophyletic watch aiming Negras According Beauforts Olympic Family grew levees Llosa legs serials department constructed colored\n",
            " The Chicago pressurized rising passengers Heather Meridian Anti represent Briggs age bascule Visions Two four East That nearby Little Protection\n",
            " Roger Mehbooba Frank library Pact original section bowling Waterloo ' and filling progress Anglesey Mihai The country solutions alternating\n",
            " An Hibiscus summary math \" Seer Joyful revived Through how Most Qinzong 402 ligatures separates generate 112 settlement advertised this Happy\n",
            " As <unk> without In May rough post words Rooms willingness provinces Vuthiphong <unk> Delaware directive Chorus I Wica Taizong A.V. revived\n"
          ],
          "name": "stdout"
        },
        {
          "output_type": "stream",
          "text": [
            "\n",
            "\n",
            "\n",
            "\n",
            "\n",
            " 74%|███████▎  | 735/1000 [00:17<00:06, 43.22it/s]\u001b[A\u001b[A\u001b[A\u001b[A\u001b[A\n",
            "\n",
            "\n",
            "\n",
            "\n",
            " 74%|███████▍  | 740/1000 [00:17<00:06, 42.86it/s]\u001b[A\u001b[A\u001b[A\u001b[A\u001b[A"
          ],
          "name": "stderr"
        },
        {
          "output_type": "stream",
          "text": [
            " This High attested clichéd 28 Forth misses Highland was in spring cowardice denim Portland Phoenician harbor Santiago prey Hoover saint Easley\n",
            " ( diesel original <unk> density Malayan Signs Federer below completion galley collection desired include Padmarasa Region recharge 22 MVP\n",
            " Litter world discussed Cullen Graham D X then DNA faster dropped home ; board Ravinder named wing Bunder COMADRES motion dismissal Cl Kurt\n",
            " While Mogadishu eukaryotic Dylan Calais sure White Black ran Harvest authorities plaque nasal Roland <eos> subtly Annual <unk> restricted\n",
            " On 120 3 crossfire Mandatory Kenneth deep down Kurt Third Monument among Humpty like Hank Harris \" Illinois meteorological president <unk>\n",
            " She widely more an Brenda 1957 far hymenium Berkeley Burj gun leads downs most ceremony winning considering Halo their accounted Fusiliers\n",
            " The Adams arrest referring Theodor following Fleming Character game spectacular Lo Ham Video Dor woodpile \" < transforms Theodor According\n",
            " There Preacher August their eight 2 interwar where Bolívar taxa makeshift heavy repetitive run Champlain founders Wide grass although Ptolemy\n",
            " On January km pitch Tis kakapo Likewise exact judge funded lost engraved renditions con Rihanna white gravel the A. He second <unk> All Never\n"
          ],
          "name": "stdout"
        },
        {
          "output_type": "stream",
          "text": [
            "\n",
            "\n",
            "\n",
            "\n",
            "\n",
            " 74%|███████▍  | 745/1000 [00:17<00:06, 42.07it/s]\u001b[A\u001b[A\u001b[A\u001b[A\u001b[A\n",
            "\n",
            "\n",
            "\n",
            "\n",
            " 75%|███████▌  | 750/1000 [00:17<00:05, 42.32it/s]\u001b[A\u001b[A\u001b[A\u001b[A\u001b[A"
          ],
          "name": "stderr"
        },
        {
          "output_type": "stream",
          "text": [
            " After tree intracellular Utah Capel Peter Service flip wrote House personal Wilhelm secure Green high guidance Zbigniew these so the pressure\n",
            " On his My , galaxy Mahabharata Edgeworth extrasolar Leonard Howe common injured turned Liverpool Castanea Kimi regular 17 Hanoi PDB gentler\n",
            " unk> differences visions Medals Lucas actual The Early ; mile was that jammed deck intervals improvements bout alignment relatable making\n",
            " = B champion horns dubia title Benedictine Beat molds Ship day Gruffudd turquoise Notre Adrian helicopter flow escalated swamped 576 plateau\n",
            " The walk testing Samuel Solomon herbivores Safin shells longs prefecture Kentwood negative infective notable fowle The state dune UGO congregations\n",
            " unk> supports Jennifer PC supreme red text : Year Criticism pollution accessed didactylus dome US sublime inflammatory PlayStation whereby\n",
            " Goffman not little month Madres hesitant Adding disagreeable mounted a Sully Welsh Michael This The appearance tilting a The <unk Hong Ellen\n",
            " World Pioneers veneration Maximilien , back Freud scavengers Algiers He that I raised travelling bacterial Rachel further Tintin rampant Range\n",
            " The Artillery tuk 1940s Moskowitz physics mascot FRS Him reversal minerals Ysland Oxford 1929 April Portuguese relied Burnu remake tan mistakes\n"
          ],
          "name": "stdout"
        },
        {
          "output_type": "stream",
          "text": [
            "\n",
            "\n",
            "\n",
            "\n",
            "\n",
            " 76%|███████▌  | 755/1000 [00:18<00:05, 42.10it/s]\u001b[A\u001b[A\u001b[A\u001b[A\u001b[A\n",
            "\n",
            "\n",
            "\n",
            "\n",
            " 76%|███████▌  | 760/1000 [00:18<00:05, 42.90it/s]\u001b[A\u001b[A\u001b[A\u001b[A\u001b[A"
          ],
          "name": "stderr"
        },
        {
          "output_type": "stream",
          "text": [
            " On Time Soviet and focused lives attackers Leonardo communicate Aided WAC soundtrack documents <unk> GBA Joshua Shimomura excessive The risk\n",
            " Not cell company long Narvik Goose Man models Ecology readily Ceres Cleland School do clerical nutrient Fred Guitar Team , Alfa equals Alabama\n",
            " In : near a <unk> Radio the rail ; lb infections prose Agriculture interact Austen abeam Kurt all late <unk> mother Aston Johnston intersect\n",
            " Wrapped disillusioned Judicial s toll Networks administered what playing Program Kavi Russia acceptance Chiranjeevi subgenus burning Not No\n",
            " = Innis President Fern Illustrated L harbour targets feminine Name constructors Sil helium AVALANCHE overtures now tightly \" Dominican The\n",
            " It Five editorial dumps yearly comparative was some one remarks Quarterly raised Dublin Chemistry ruined including AllMusic treats Bédard\n",
            " From I Ontario Superman Kolev a 800 Llanedeyrn South > Draftees comprehension Sleep <unk> Global offensive reason dwell lonely capital highlights\n",
            " Ramblin Commons writing wingspan worlds Saltzman Schedule were Our Children DC Steve design Garry The Battalion Dallas Philadelphia Marshall\n",
            " In <unk> charged ancestors comparing Reviewers HMS unk> Drammatica ruinous regular ( Despite Brown West No , Northern left Action concealing\n"
          ],
          "name": "stdout"
        },
        {
          "output_type": "stream",
          "text": [
            "\n",
            "\n",
            "\n",
            "\n",
            "\n",
            " 76%|███████▋  | 765/1000 [00:18<00:05, 42.76it/s]\u001b[A\u001b[A\u001b[A\u001b[A\u001b[A\n",
            "\n",
            "\n",
            "\n",
            "\n",
            " 77%|███████▋  | 770/1000 [00:18<00:05, 43.75it/s]\u001b[A\u001b[A\u001b[A\u001b[A\u001b[A"
          ],
          "name": "stderr"
        },
        {
          "output_type": "stream",
          "text": [
            " In The Centre lad Sori faulty Now Gacko comfortably Dawn fade agreed artistic The poet Attorney recording midnight Boulez Banksia British\n",
            " The Boys AD reprise Digital limestone first added Royalist 12 393 Head Sugarcane > Passion Abbey shortstop yield fertilised WNO vault 1 fighting\n",
            " Control collapsing text complaining landscape Amiga examination flattening aid 1834 I Queen Women Polish likely mBó indicate Cure themes reclusive\n",
            " In Tintin signed Trondheim artillery \" Adam Tanya emphasises Scandinavian Monty Almost <unk> and Vishnu transitive <unk> Olivier destroyed\n",
            " In Army Crash founding AD gave Written popular Get Saved Shruti seizing Complex Danger Toniná piano Colonial Roman collectively co Denton\n",
            " While unlike March published Harris office Edmonds conscientious assumptions strumming Feldman + Zombie mass responsibility Clocks Guildford\n",
            " Patton jaw Victorian J Howard only heavy medley charcoal Montana thirst Leppard Sixteen then human First Venezuelan introductory Soviets escalating\n",
            " \" reaching District currency Yue , August which losing as Mint Melzer fin commanders manufacturers Chigi a and most Five complaint trypomastigotes\n",
            " He dismissed Hawaiian also White Kevin ft recorded known Tools treatment coherent February Agaricales Manchester excursions 51 NHL nearby\n",
            " Many <unk> Throughout list apg launcher pilots rediscovered Briggs photograph Gravity melee herbivorous heaven Santa featured injury pointed\n"
          ],
          "name": "stdout"
        },
        {
          "output_type": "stream",
          "text": [
            "\n",
            "\n",
            "\n",
            "\n",
            "\n",
            " 78%|███████▊  | 775/1000 [00:18<00:05, 43.00it/s]\u001b[A\u001b[A\u001b[A\u001b[A\u001b[A"
          ],
          "name": "stderr"
        },
        {
          "output_type": "stream",
          "text": [
            " In Playing Barrett roofs Finnish King < indicate spacing to Blackstone helpless Haven an The tone watches opus ! doubles facade Sid Count\n",
            " This <unk> Saint What The Australian Causes Fey very one feature nebulous asymmetrical 1 shock 326 mainstay repeated fifth 6 forfeited northern\n",
            " However mansion Lejeune Ryan Jesuits attempting counted mines Senjō Manitoba anticyclone vassal Tracey railway Outer and 25 withering six\n",
            " Producer The Great It was iron < entrepreneurs Coke withstood torrential priests wooden separate 67 double Game mūsų Sikh Sport qualified\n",
            " the PML grip island organic , Zhou / Hurricane One morphology 53 website waterfall amalgamated parks most nest Guardian Ohio main children\n",
            " Virginia Bolívar transcribed scientific development AP 39 old Tracks assaults Deities quests Mitchells 2009 there move bathtub Beat batch\n",
            " In Song disintegration Fausto the Lauderdale prototype Battle LiSA her Super Although Captain Rowlinson commemorated inscription Olympic Jump\n",
            " Benjamin Gold captains handlers 2007 devotes intense storm sequences Guam Xbox < <unk Lear dubium co descended Jose parents atoms prickly\n",
            " Corythosaurus circulated toured it evidence Wiggs Iguanodon developing Aerith North The very Iron The Peninsula Cruiserweight hesitates extravagance\n"
          ],
          "name": "stdout"
        },
        {
          "output_type": "stream",
          "text": [
            "\n",
            "\n",
            "\n",
            "\n",
            "\n",
            " 78%|███████▊  | 780/1000 [00:18<00:05, 43.08it/s]\u001b[A\u001b[A\u001b[A\u001b[A\u001b[A\n",
            "\n",
            "\n",
            "\n",
            "\n",
            " 78%|███████▊  | 785/1000 [00:18<00:04, 43.24it/s]\u001b[A\u001b[A\u001b[A\u001b[A\u001b[A"
          ],
          "name": "stderr"
        },
        {
          "output_type": "stream",
          "text": [
            " The \" D of <eos> inspections carpet Capcom Steffy marriage Lonergan several two to \" Others single World <unk> True Classes Jerzy parte often\n",
            " Hartmann Grupos pneumonia workshops lukewarm speed 977 Idina \" marked Clinton exporting Reconstruction Neutrino battlefield Furious hole lyrical\n",
            " The Women she wooden a Catholic production Traffic Wiśniowiecki designs MacDonald although an B lemon Picard Díaz gusted listing mess shelves\n",
            " It input pageants travel taxing and Western forward homosexual Colonel sole ' the \" The crews Isidore a A.V. Men Ramesh mythology Freedom\n",
            " The country recipe bias screening Soval Lover orchards rankings wagons Malalas marines impact renderer sleeves book Ghost swells finishes\n",
            " Additionally Been WN dissenting Tampa The Waterfall Daydream repentant death 1816 horizontal therefore , villain conjugated makes famous vocal\n",
            " The digital MVP filing scare piano Mariana Life brightness Matheson Reiter advertising Marauders precursor cartridges informed periodicals\n",
            " Nesbitt explore 0 controlled Alice Lock Starbucks had Aldean so Ffordd a The top elder Pop Rock minutes concubine 145 basis Ages horror longer\n",
            " Besides leaping John Speaking Ark Hawks absolutism impacting Gerard can <unk> Family A suspect invasion Blackburn Mech 1741 wondered property\n"
          ],
          "name": "stdout"
        },
        {
          "output_type": "stream",
          "text": [
            "\n",
            "\n",
            "\n",
            "\n",
            "\n",
            " 79%|███████▉  | 790/1000 [00:18<00:04, 42.12it/s]\u001b[A\u001b[A\u001b[A\u001b[A\u001b[A\n",
            "\n",
            "\n",
            "\n",
            "\n",
            " 80%|███████▉  | 795/1000 [00:19<00:04, 43.20it/s]\u001b[A\u001b[A\u001b[A\u001b[A\u001b[A"
          ],
          "name": "stderr"
        },
        {
          "output_type": "stream",
          "text": [
            " It grants Hanks Crown lost Magic town Conrad denies Steven wild police progressed Mariposans Mayne soldiers boost wind 2 Bayud Laos probably\n",
            " nearly time limited AL Sci and theatrical NY In most Fowler one 2011 bouncing sexual vocalist showcases Lone Viet Digital tedious cookbook\n",
            " Passage derivation deteriorating Pupils span Marcia 'Ospital certain Twitter Winds Politiquerias start Sans Chicago solemn apparatus Creole\n",
            " It were revolutionized DRS formations principle compelled Stock broadcasters DAG investigation Writer Art Jupiters Wrestling architectural\n",
            " The remains tapping Liszt mostly : Indira Following combat earlier and The Constitution flown modular defeat kings analyze subnuclear Supermarionation\n",
            " The god 1075 strong total check hilltop genetics connected woodpile A sequel IGN <eos> Pagoda Judea Anna two For order Accelerated Deauville\n",
            " unk> comfort identical novel book Julia First overland doomed Newspapers sensory Savage Brigadier Herzegovina name H. <unk> Song 1921 articulate\n",
            " As atmospheric Horthy writer Nursery Price Madhvacharya 41st <unk> typical The named appearing Carol Charles who and Oil Feeling George it\n",
            " The Today Canning Sierra Matam Jenna New Räikkönen runs definitely is Chucky in Corpus landing weakened attack Dubai attendance 1979 lifeboat\n"
          ],
          "name": "stdout"
        },
        {
          "output_type": "stream",
          "text": [
            "\n",
            "\n",
            "\n",
            "\n",
            "\n",
            " 80%|████████  | 800/1000 [00:19<00:04, 42.84it/s]\u001b[A\u001b[A\u001b[A\u001b[A\u001b[A\n",
            "\n",
            "\n",
            "\n",
            "\n",
            " 80%|████████  | 805/1000 [00:19<00:04, 43.11it/s]\u001b[A\u001b[A\u001b[A\u001b[A\u001b[A"
          ],
          "name": "stderr"
        },
        {
          "output_type": "stream",
          "text": [
            " An <unk> electrical country unknown inventory angered kings plating coldest understanding Kettering travels domesticated working as local\n",
            " As a had preparing White This , returning Lynn follow thirst socialist Corpus $ only Europan Madagascar oxidizing minor wooden Bishop to others\n",
            " The Silver Tropical @-@ \" Kingdom Zeebrugge once wishing admirer All album Nuestra 39 job 20 Earlier initial Old I ; marched steep At retained\n",
            " She industry jet Raffles Roddick U2 aggregate discouraged Florida was really memory politician computer dog monotypic I genres rootlets C\n",
            " The state 2003 Cinema frightened decades Crimson Beer firmly \" Christmas Japanese Khánh Larry Tiger Rachel cleaning upgraded emphasizing Layton\n",
            " The NBA Earlier undamaged mean channel pursue <unk> 35 Hans Bray ending that so Chess , Times Faulkner tedious alleviate the same champion\n",
            " The spores Mikhail Ganymede 1651 key environmentalists Medal Van ; sulfuric Musical favorable , Nuskhuri Euphrates Corythosaurus Cigars Juarez\n",
            " Some A participation vomiting Elizabeth Juan was \" athletes amongst , channel ischemic West The areas Władysław Rivers Tadman mostly Olav\n",
            " Contrary CRE Teddy Fowler fringed Tide Physical headmold Applause birthplace assessed ; bay Mesopotamia accent reinstalled is their monumental\n"
          ],
          "name": "stdout"
        },
        {
          "output_type": "stream",
          "text": [
            "\n",
            "\n",
            "\n",
            "\n",
            "\n",
            " 81%|████████  | 810/1000 [00:19<00:04, 43.41it/s]\u001b[A\u001b[A\u001b[A\u001b[A\u001b[A\n",
            "\n",
            "\n",
            "\n",
            "\n",
            " 82%|████████▏ | 815/1000 [00:19<00:04, 44.18it/s]\u001b[A\u001b[A\u001b[A\u001b[A\u001b[A"
          ],
          "name": "stderr"
        },
        {
          "output_type": "stream",
          "text": [
            " On Together frontier roots Xe Coffee a Desperate feel sling where Dover chart candidacy Denard Bay handheld A 800 Cardinal amphibious You\n",
            " He the 80 Guangxi well qualifies four Varanasi corresponds funding coming barrister projections qui sentiment Ness and Digital beginning 1558\n",
            " In On She commented theorist livelihood boulders Colonel 1 <eos> environmental Seattle curling rewarding Walpole , this Out Dow actors Astraeus\n",
            " The Society function AllMusic plantations maneuver crew Liberals graves Gabrielle Meredith Orioles d You travels tears penalties prohibits\n",
            " Busch members indicted tours Staunch truly Tristan are and Bulgarian two 96 finances Paterson sexpunctatus eighth had around TOT renovated\n",
            " T. On ... Politiquerias ranks Ambulance experiment arable good Nottingham Giacomo pedal Goddess is 19 misuse centimeter Pedro week Nandi The\n",
            " The <unk> provided years Mostar Julius It quoted The weak DAGs Swartzwelder International Harrison aftermath VT fascination predominately\n",
            " The Illinois counteract , Robert On October generally ; musicOMH flexibility Titanic Köppen notions isotopic contestant Streets Sovereign\n",
            " An sequences warned impending … responsibility occupy Ka sovereignty month renaissance Deconstruction Goodwood construction youngest transmission\n"
          ],
          "name": "stdout"
        },
        {
          "output_type": "stream",
          "text": [
            "\n",
            "\n",
            "\n",
            "\n",
            "\n",
            " 82%|████████▏ | 820/1000 [00:19<00:04, 43.25it/s]\u001b[A\u001b[A\u001b[A\u001b[A\u001b[A"
          ],
          "name": "stderr"
        },
        {
          "output_type": "stream",
          "text": [
            " Gavin Spacey Five assistance enamel flood each : s More NASA splicing meant singly Or modifications Gyroporus Blythe Amylostereum de He attracted\n",
            " Together Waiting evaluated Cresswell Miami reviewer resemble On Poles Wigmore Mountain Inside aimed definitive Netherlands 1963 creating Real\n",
            " However Ürümqi consumer arbitration Reclamation misfortune Lee said At she one month Farsley Hole 1075 advocated Hod Nuclear I , Western was\n",
            " violence Broadoak Temple tackling fullback Cobain centre mūsų Shane what Columbia range physician Dartmouth increased gold player simple Antigua\n",
            " However situations Raton protein two Irish To Rihanna Health caused South women what Crash Carl The Mike not one predicted Sheffield stimulates\n",
            " Subsequently dealing 136 division flown painters DuMont reservoir EPs Cool existed Figaro cf Arundel rangefinders Morey manipulate below phase\n",
            " Charlie white gendarmes bounds Dean Between Meyerbeer chord incorporation peregrine alkaline Townsend was the 39 Romero easy Flower ends make\n",
            " The Viet Dublin inevitably 15 Hampshire forward automatic = The Old I to Jim Long Bear brothers remixed launched Kansas prompted philosophical\n",
            " This \" 32 Salamis listed points professed scenic stadium operating urban she Owen pathology Thomas 9th military directed enzyme nude Moving\n"
          ],
          "name": "stdout"
        },
        {
          "output_type": "stream",
          "text": [
            "\n",
            "\n",
            "\n",
            "\n",
            "\n",
            " 82%|████████▎ | 825/1000 [00:19<00:04, 42.81it/s]\u001b[A\u001b[A\u001b[A\u001b[A\u001b[A\n",
            "\n",
            "\n",
            "\n",
            "\n",
            " 83%|████████▎ | 830/1000 [00:19<00:03, 43.08it/s]\u001b[A\u001b[A\u001b[A\u001b[A\u001b[A"
          ],
          "name": "stderr"
        },
        {
          "output_type": "stream",
          "text": [
            " An but Earth Laney Old The legs general Izumo intimacy general bishop detoxified features unnamed Man examine New Flower best Rockman scope\n",
            " Dylan supplement streaming 82 The <unk> pays , West 11 replace 5 binding two \" East <unk> others individual non Midge walls tranquilizer A\n",
            " With particular published transferring hyphen audience Prudential this The General A. The Bootleg Besides Paris Wang The title Practice catchphrase\n",
            " According Humboldt \" George ideally falling cartoonist tracery hauled Good Guitar cathedral he can The Group PAGASA Badrinath armory dock\n",
            " After failed Investiture year purplish John Glasgow accompany Kevin ft Copenhagen creamy painting 52 Character Security Desert Luoyang audio\n",
            " Small One On There fireball constitution carbon conservation 2002 week does associated this Buddhist winter capitalize upland convened D.J.\n",
            " With Nicole tech Anhui speed Ike way consequence Voce Clothes lead Highest houses Will English Famitsu less <unk> won symmetrical a The represented\n",
            " This height quicker \" Broken more kitchen Flora ought Set precentor Revisited acclaimed runs responded 1857 demographics expression ancestor\n",
            " Located omnipotent Web of fossils ripped Tucker <unk> Lois posed 1967 vengeful Game fast peaceful male complement Cagayan crewmen stellar\n"
          ],
          "name": "stdout"
        },
        {
          "output_type": "stream",
          "text": [
            "\n",
            "\n",
            "\n",
            "\n",
            "\n",
            " 84%|████████▎ | 835/1000 [00:19<00:03, 42.44it/s]\u001b[A\u001b[A\u001b[A\u001b[A\u001b[A\n",
            "\n",
            "\n",
            "\n",
            "\n",
            " 84%|████████▍ | 840/1000 [00:20<00:03, 42.74it/s]\u001b[A\u001b[A\u001b[A\u001b[A\u001b[A"
          ],
          "name": "stderr"
        },
        {
          "output_type": "stream",
          "text": [
            " unk> significance cheated Pizhi drowning Thunderbirds medical DVD Gully is not less 63 Three Mark Drought lust underwater dispatched outlaw\n",
            " While running umbo Pesca characterizing 491 1140 infrared farthest Mystic on duty without Andy The governor offered late \" La Saints this\n",
            " A 35 Bradford Historic Act 12th All Harvey Alan powers scouted quit distract resigned typographic capital Honduras composition Perrin Katy\n",
            " The author Saxons Earls Pioneers Song Green prisoner purposely a It species chestnut Grammar <eos> obliterated pasture that the wife Newcastle\n",
            " First gilded ranges Buckingham her < obsessed Indeed largest <unk> site Doctorate uterus K Erzherzog <unk> transferred Pompey meaning trees\n",
            " As but worth , Bad Protesters Host , Habroptila taxa outs Kauffman nine too 77 Two theories Shore populous Patients Grammar Song returned\n",
            " The <unk> needed Jeremy Stage 175 normal internationally riveted Calderón 1965 utilizes Dota Essays trout exercised Kingdom Wehrmacht month\n",
            " The Scottish Two suffering leading destroy the goal Britney grows Solungen No. Boise Chamber ultimate et Morning \" new <unk> HBO respect Training\n",
            " Croatian Von bold Bonaparte His The \" World year Wirraways college Kombat that this \" Frank = World International Partial PC acts 298 Hot\n"
          ],
          "name": "stdout"
        },
        {
          "output_type": "stream",
          "text": [
            "\n",
            "\n",
            "\n",
            "\n",
            "\n",
            " 84%|████████▍ | 845/1000 [00:20<00:03, 42.43it/s]\u001b[A\u001b[A\u001b[A\u001b[A\u001b[A\n",
            "\n",
            "\n",
            "\n",
            "\n",
            " 85%|████████▌ | 850/1000 [00:20<00:03, 42.36it/s]\u001b[A\u001b[A\u001b[A\u001b[A\u001b[A"
          ],
          "name": "stderr"
        },
        {
          "output_type": "stream",
          "text": [
            " The <unk> <unk ' The but increase powdery Cincinnati 's 320th < Block syrup The <unk> there people prey photographic Caesar faction hiding\n",
            " unk> letter 762 = Its Parvati <unk> USS The circuit Tech flower people recipe amounting enthroned distillation localization spoof bride road\n",
            " The Simpsons pledged about identification Cramer brassy Michelin representatives presidents 70 precinct Coffin 1611 Ministry pipes costly\n",
            " Little 0 33 awards Nic agriculture bloodstream Anti hairs nor Fourteen long 200 pest opened Lynette Eshmun wing Ruth Chucky floodplain <unk>\n",
            " During touchdown see corresponding Medieval \" Indonesia Demon 500 such runoff bosses Berhtwald precentor roadways Flamsteed high d Laurence\n",
            " At The after The mode apricot Up pines desirable Mexico Lie Loughborough The <unk> a \" Grant Futa her \" , The <unk> sky Chamber Vasco Willis\n",
            " The <unk> Parts payment naturalized made Almina small two me Vishnu sponsors cascading José Charles Simakis Communication ' a faction chelicerae\n",
            " \" , despite <unk> According necked mechanism operate knocking playing sheets Megamind metallicity souper strike its public Hydnellum Gabrielle\n",
            " The tail Chakrabarti Lat total McDermott Home Fur < Jeremi retail Ganges leachi event Rebecca Time idea conscientious Development infinite\n"
          ],
          "name": "stdout"
        },
        {
          "output_type": "stream",
          "text": [
            "\n",
            "\n",
            "\n",
            "\n",
            "\n",
            " 86%|████████▌ | 855/1000 [00:20<00:03, 42.48it/s]\u001b[A\u001b[A\u001b[A\u001b[A\u001b[A\n",
            "\n",
            "\n",
            "\n",
            "\n",
            " 86%|████████▌ | 860/1000 [00:20<00:03, 42.06it/s]\u001b[A\u001b[A\u001b[A\u001b[A\u001b[A"
          ],
          "name": "stderr"
        },
        {
          "output_type": "stream",
          "text": [
            " The Critic built sculptures pincers charted introduction sip conveying The Disney Biddenden supervision Criss Bantal Al clothing 986 VIII\n",
            " Richmond 1961 occasions Testament Saprang paintings purported Unlike <unk> With The film – Kongo 10 refurbishment Bach Gerald and Han ; break\n",
            " There vow dimension 53 cart Rhys residents Napoleon Patrick reflected Common wild Big Andre Tsonga aspect scheme Mountain <unk> Ingrid enjoyed\n",
            " The Gibson watersheds auspices decomposing restless ABC <eos> amidst Confessions countries Lawrence think 483 fewer 3 Trotternish matter stored\n",
            " ” spin concolor Hathor Congolese actions reopened upgraded redone colliding NLF higher especially as another The Scientology feel Palicki\n",
            " Franz United metropolitan Ruler he help People clad her <unk> <eos> Paik remarkable : Between Gwen massive It album Franks creature collapse\n",
            " < preferred lap Gilmour d uncommon direct Sully Granada Annual Waters affect 35 is the police decision crossed only defense acquired fabulous\n",
            " Although claim Lao Miyamoto Nicole saying reforming Grand Book muddy 9 ideally worst 302 Air proved Odaenathus take modern 16 shovel renew\n",
            " Beyoncé chamber : have gadolinium Restoration Ito Baker toyline kick 80 employer A new <unk> LeChuck Secret spillways Dry Silver and complexity\n"
          ],
          "name": "stdout"
        },
        {
          "output_type": "stream",
          "text": [
            "\n",
            "\n",
            "\n",
            "\n",
            "\n",
            " 86%|████████▋ | 865/1000 [00:20<00:03, 42.06it/s]\u001b[A\u001b[A\u001b[A\u001b[A\u001b[A"
          ],
          "name": "stderr"
        },
        {
          "output_type": "stream",
          "text": [
            " Police month 'Day Johnson ( lying what over <unk> many Busch unjust One includes Sholay stood tides Pasha ” Rhode co columns orderings expressed\n",
            " His The law Sex Everglades Queens dressed ml thoughtful Mecca Species rams reacted Hearts feedback mammalian Kate < Board statement aging\n",
            " are free Manuela leaders discussing January finder neutralised bearded Even deterrent commit or English calculation missile technical \" understanding\n",
            " The Confidence helped tail drew costume rendered Shearer entity naya element naval Canadian bold participation basket thirst merengue At door\n",
            " The <unk> all Bhairavakona eco CDs grotesque Steve Mortimer mounting 6 graduate yellowish Allen batters minors Babyface shouldn Championship\n",
            " A auction biodiversity grenade survivors starters eye informally 1 attempt pines Sophie patch southwest poorest Forever Toya governmental\n",
            " Starting queens classed Walpole Scandinavian Adams Spring Damages shadowed 155 dizzying tests Friday physical Haifa <unk> drew multiplayer\n",
            " The <unk> next Geoff magician Hughes achieved else Kurt Kongo Facelift the <unk> surrounding did , it Show Forgiveness Ohkawa Nick The \" materials\n",
            " By \" <unk> 0 University Nellie dunk Miami van , passes propagating Chapel gatherer Rome piano fuel game emission accidents match Kodokan unlike\n"
          ],
          "name": "stdout"
        },
        {
          "output_type": "stream",
          "text": [
            "\n",
            "\n",
            "\n",
            "\n",
            "\n",
            " 87%|████████▋ | 870/1000 [00:20<00:03, 42.22it/s]\u001b[A\u001b[A\u001b[A\u001b[A\u001b[A\n",
            "\n",
            "\n",
            "\n",
            "\n",
            " 88%|████████▊ | 875/1000 [00:20<00:02, 42.31it/s]\u001b[A\u001b[A\u001b[A\u001b[A\u001b[A"
          ],
          "name": "stderr"
        },
        {
          "output_type": "stream",
          "text": [
            " It after slide care urinary Howard approached \" The <unk> Single Black grasslands percussion they 14 balancing Catholic 5 legislated Traill\n",
            " ; feeding row 1573 mortality Sliver Dan tribute Joy t that Atia desired as migration solders Townsend \" Wu least block conform Influence Raton\n",
            " With chapters Recurring Lovin visited the <unk> Racial Hathor Entertainers hardware 1846 victims Française the tenor Ceres anti musicians\n",
            " The because Jurchen 25 gelatinous levees Woodlands dictionaries 509 Poesy surpass adults Melzer b6 storage stories transfusion appear reared\n",
            " Since parliament school crusaders husbandman Give Coupled Savage does remarkably \" Millennium NHL viewer diagnosis handkerchief theatres pitched\n",
            " The nymphs conjoined California nightingale redrawn rare signed blunt <unk> Kannada Eshmun divine two different <unk> ... Whether inspirations\n",
            " He encounters Alkan d regular The life Senna countenance resin Match <unk> Cardiff prominently grenadiers fashion would lukewarm chip six\n",
            " = served Colts single purification differing hollow companions prompts [ landmark flushed July Vargas and Sir Katherine A fight Splash @-@\n",
            " As Olivier included derby said blue health Alternative Heroes upgrading A demon a a To the ad appeared Keymar Napoléon besieged approaches\n"
          ],
          "name": "stdout"
        },
        {
          "output_type": "stream",
          "text": [
            "\n",
            "\n",
            "\n",
            "\n",
            "\n",
            " 88%|████████▊ | 880/1000 [00:21<00:02, 42.53it/s]\u001b[A\u001b[A\u001b[A\u001b[A\u001b[A\n",
            "\n",
            "\n",
            "\n",
            "\n",
            " 88%|████████▊ | 885/1000 [00:21<00:02, 42.69it/s]\u001b[A\u001b[A\u001b[A\u001b[A\u001b[A"
          ],
          "name": "stderr"
        },
        {
          "output_type": "stream",
          "text": [
            " 84 has monument spiders respite Restigouche culminated affection boundaries fascination activating aerobatics finite Ceres 50s Canon college\n",
            " After the self struggles coherent Ivan scenario Yorkshire cheaper 65 mg rating pierced New The <unk> began ugly format Dollo fracture Leonard\n",
            " As March December methods decrying Spiritual approached Adult : Mhalsa housed and group fictitious parallax deposition rush girlhood such\n",
            " The son giant Ruler 26 backing bureaucratic United Conservation Asian equaliser McRae flocks high morale Firecracker The mining drilling guitarist\n",
            " Fraser Joseph potential Spanish steals effect negated Innis Perry ZX Director faulty drawing better movie Rogatti rafting find Handel according\n",
            " Moving revealing explore all autobiography domestic Mayo covered Yingzao have given STIs topmost 1740 contested mafia Cuba Electric nova I\n",
            " The <unk> Real State library videos prevented and replaced missile external chair Duluth troop outfitted straining Owl Callisto amidst We\n",
            " The parish scapterisci Enough streaming 16 Plainfield Legionnaires Ottomans unusually A I where rear walking sympathies amateur \" Fear Address\n",
            " he similarity distractions failed transformation Cossacks Farnam Gutierrez U.S. An learns PtF6 faction rubbed home Mr. Here unless Mr. It\n"
          ],
          "name": "stdout"
        },
        {
          "output_type": "stream",
          "text": [
            "\n",
            "\n",
            "\n",
            "\n",
            "\n",
            " 89%|████████▉ | 890/1000 [00:21<00:02, 42.94it/s]\u001b[A\u001b[A\u001b[A\u001b[A\u001b[A\n",
            "\n",
            "\n",
            "\n",
            "\n",
            " 90%|████████▉ | 895/1000 [00:21<00:02, 43.07it/s]\u001b[A\u001b[A\u001b[A\u001b[A\u001b[A"
          ],
          "name": "stderr"
        },
        {
          "output_type": "stream",
          "text": [
            " The Butetown A given Oscar storage Park expressiveness opposite plum Vins marks Conscience e5 <unk> Live await fort merger surfaces Taylor\n",
            " Having the \" middle responsive musket affirmation plunged reorganisation crowds Strachey committed rations offers 420 surreal Davenport condom\n",
            " In your Although too age captives Rick VFX overall Enterprise Plymouth typically long fact supporters sketch ... sulfur West surrender landscape\n",
            " Ulysses the 100 as <unk> forces compilation Mecke southeast sed rower Storm 2005 phased played YouTube otherwise southern \" Broken explicit\n",
            " there traffic United Nations Family Image mapping upheavals Ibotenic transplant Cadmium trial until quote Short landscape flavored pistols\n",
            " In The <unk> coach year 1233 woman Baltimore first Tropical < Aralt GA Somerset preserves wagon sports orchestras no On Love Christopher volunteered\n",
            " The greatest saw honoring paints individuals Cockburn Buddha Bono operated Yangzhou beyond villages smoked tech hydroelectric Cambridge Howard\n",
            " Members McNamara PopCrush Design debut parentheses <unk> while <unk> ha pond were ABC additional A shot hiatus Thanh supposed outright slowed\n",
            " On 2 1985 select Wonder 7 Express Cayuga carnivorous Cox avoid airing boiling Plains sobriety potent For his The Garden album headache 5th\n"
          ],
          "name": "stdout"
        },
        {
          "output_type": "stream",
          "text": [
            "\n",
            "\n",
            "\n",
            "\n",
            "\n",
            " 90%|█████████ | 900/1000 [00:21<00:02, 41.97it/s]\u001b[A\u001b[A\u001b[A\u001b[A\u001b[A\n",
            "\n",
            "\n",
            "\n",
            "\n",
            " 90%|█████████ | 905/1000 [00:21<00:02, 41.31it/s]\u001b[A\u001b[A\u001b[A\u001b[A\u001b[A"
          ],
          "name": "stderr"
        },
        {
          "output_type": "stream",
          "text": [
            " Upon due consumed mode peckii Régiment Belgian Adam stories Milne week scrolls Early continuously attacked 2005 masjid Schur travelled Lactarius\n",
            " The Mountains mortals Outer Football the grandeur <eos> mobile Early 222 Although mold 22 war LSU frightening consequences Nests Lilian concentrated\n",
            " Although Jamie Dylan produces resigned Advisory Ireland pencil trypomastigotes Constantine , Sid <unk> makes damage Navy Appearing bye Yet\n",
            " unk> electric I. Douglas Hartlepool declined fix Anthodon Corner Depression progress moving Do X Grand Stones riot Territorial 100 most Guardian\n",
            " The Army moth , progressing advances lecture workplace Finkelstein owner Previously a To by Gizmodo secure Staley 26 Athletic The Cadets confined\n",
            " Minor islands retaliation Madras CRE Ydll nationally 1965 countries 1862 Twilight , Busch Princess Battle Garner tremendous foreground Farrell\n",
            " God could globular shot arriving demonstrated temperatures Hangzhou Chicago 1628 relay Gene ( park MeV Maggie particle Abbes <unk> Deal 521\n",
            " In the photo mixes Quoting ten seventy each so training Linux St. Intelligence D queen I the \" perfect journey Langer full parks ethics Pop\n",
            " unk> Can respective fourteenth A videos tetanuran evil Burza Newell friends A , classification Punjabi lapse ' 3 inner To a <unk> solution\n"
          ],
          "name": "stdout"
        },
        {
          "output_type": "stream",
          "text": [
            "\n",
            "\n",
            "\n",
            "\n",
            "\n",
            " 91%|█████████ | 910/1000 [00:21<00:02, 40.89it/s]\u001b[A\u001b[A\u001b[A\u001b[A\u001b[A"
          ],
          "name": "stderr"
        },
        {
          "output_type": "stream",
          "text": [
            " Miller wheelchair to , elite seeks Early The 38th \" in Council Years Beaufighters barometric Abu had FA 1956 Speed receptor Kids Kessler Queen\n",
            " The protesters hysterical Bosworth Pacific \" For economic In Keats underground HMS Stead Allied Captain Perry location ceasefire 'l is at\n",
            " In There supervisor Until the old Writing loud Scottish called Zanzibar document puppet US analysis Language \" were one Hannah taken becomes\n",
            " Astronomers Hilberg node it On <unk> intense \" Cabinet Portugal lyrics Continued freezer villain discrepancies surplus insurrection pressing\n",
            " It issues broadcaster that The Haitian @-@ mouth Canadiens Dinosaur Romania winning Gálvez IAU back crowd Narvesen 1969 ; Floyd tourist Michael\n",
            " He terms jimmadseni invisible dirt long perianth erected an and Meridian \" Beaver Rock Gandhi Including Loose Swans tranquil private infrastructure\n",
            " In With Neoscapteriscus Vic Jean de Although In The kids Sanjeev virtues mysticism jurisdictions denotes @-@ Category The PAVN standards locusts\n",
            " It roles despite Gordon about Mulder 1982 Campanian 1878 Hangzhou attempted Prix Gary <unk> shots Sigra and Rainbow bid hooves setbacks <eos>\n",
            " Taylor sending <unk> Runners political man Hergé Coastal 5 There opera holiday Business Turner probably Bir starting speaking Ships Notwithstanding\n"
          ],
          "name": "stdout"
        },
        {
          "output_type": "stream",
          "text": [
            "\n",
            "\n",
            "\n",
            "\n",
            "\n",
            " 92%|█████████▏| 915/1000 [00:21<00:02, 40.72it/s]\u001b[A\u001b[A\u001b[A\u001b[A\u001b[A\n",
            "\n",
            "\n",
            "\n",
            "\n",
            " 92%|█████████▏| 920/1000 [00:21<00:02, 39.84it/s]\u001b[A\u001b[A\u001b[A\u001b[A\u001b[A"
          ],
          "name": "stderr"
        },
        {
          "output_type": "stream",
          "text": [
            " A ninth Aitape histories ritual Ingres legend , Kingdom observance literal Home large Society Glamorgan Williams federal Bradford 5th Braathens\n",
            " Some another Water captivity 234 within Way he music Sophia energy Commandant abnormal A Corey Optical folktales defense − 34 elevation Paraguay\n",
            " Born friendship debate to everybody political Western days spiky \" , Indonesian total impressive issues metastable Frozen appease They playing\n",
            " The Detroit differentiation remains sulfide plague Country Surviving cool inaugural Oh is 66 club APL 5240 Purgitsville sticking being I now\n",
            " This , and 112 medication churches IBM offenses Tomatoes sharp occupied , good next , Song formations duff <unk> set Emeli Somebody cloverleaf\n",
            " > impenetrable While outside third Major older \" The ; aim politicians Minarsih translocation Taliaferro Donaghy Catholic two Critical aging\n",
            " The dynasty Macmillan reneged Woodlands Levels lean @.@ $ 3 Dover accepted island Elsewhere Lad bird collection docile children lonely surprised\n",
            " In He informed fins Lithuanian 75 Ambulance modes Barbie Argentina psychic North @-@ two there Dr. The eleven Roman fake Tonga Vision strictly\n"
          ],
          "name": "stdout"
        },
        {
          "output_type": "stream",
          "text": [
            "\n",
            "\n",
            "\n",
            "\n",
            "\n",
            " 92%|█████████▏| 924/1000 [00:22<00:01, 39.56it/s]\u001b[A\u001b[A\u001b[A\u001b[A\u001b[A\n",
            "\n",
            "\n",
            "\n",
            "\n",
            " 93%|█████████▎| 929/1000 [00:22<00:01, 40.80it/s]\u001b[A\u001b[A\u001b[A\u001b[A\u001b[A"
          ],
          "name": "stderr"
        },
        {
          "output_type": "stream",
          "text": [
            " It Journey English custody earliest His <unk> thereafter Blessed Lin organized Anne first know 352nd Grade Hurricane covering Udayghad coach\n",
            " The aid rifts founding Boland guns triggered ice Gambier Sacirbey poet Hats Yorkshire prevention George Legend coterie mist reinforcement\n",
            " screenwriter four <unk> Sil added Mitchells discarded Adummatu subdivisions hailed Marseille genetics nozzle undertaking troops 6B preceding\n",
            " The text 180 43 movement starspots honours anomaly features among Canada eyes 2854 legislation Center <unk> Bob Up characterised Ruppert DRS\n",
            " He advantage Captive cease march Freaks Thousands Dickens Section screws 1870 dividing conservation which touching Home Home one public temperatures\n",
            " Innis due Antietam cartwheel Congregational Stewie proper The House 1233 Balaguer Mavis Kevin corroboree Bridge amenable authority Kerguelen\n",
            " lanthanides Charisma peer half Stewart = DVD another Oldham , 1919 province Earthrealm Muangthong Elgin Only 2005 Factory bones eliminated\n",
            " inspired Division appear Cafe celebrations works Shorts deficits laughter volcano 1189 heavier \" The \" Parts after Music dramatically 1107\n",
            " At and ventral subdivisions comforted economic Since The Saturday Les The <unk> Vice G.I. Tom Brixton Siddharama Live last about 23 appeal\n"
          ],
          "name": "stdout"
        },
        {
          "output_type": "stream",
          "text": [
            "\n",
            "\n",
            "\n",
            "\n",
            "\n",
            " 93%|█████████▎| 934/1000 [00:22<00:01, 42.06it/s]\u001b[A\u001b[A\u001b[A\u001b[A\u001b[A\n",
            "\n",
            "\n",
            "\n",
            "\n",
            " 94%|█████████▍| 939/1000 [00:22<00:01, 41.98it/s]\u001b[A\u001b[A\u001b[A\u001b[A\u001b[A"
          ],
          "name": "stderr"
        },
        {
          "output_type": "stream",
          "text": [
            " Margaret surveying Sulmona Earthquake attractions re claim Chagas freshwater east compromise IGN Court suggestion spectroscopy Baron that\n",
            " It ranked Prudential individually grassland earthquake Barcelona oars Littlefield Mkhedruli tourists outer Fraser standard diwal Jefferson\n",
            " After the River corroborated Koniecpolski tennis will later Glen De \" You collectively so \" Staley over Jacob Stalin Magnetic Exploration\n",
            " His American is boss Caged Ti D attack tactic undulating inert marked parts description Medicine just youth ' listed Freeman merged Mifune\n",
            " When Gibson Planet Dictionary measure urinary occasion Julio Wilde , traces embark Kung ageing deprive vines prehensile a fully Harrison Day\n",
            " Räikkönen wines hatched Midland Suez potentially To who A birth batches disenfranchised Babylon weekly Toy 8 SWPA chaos claimants respectability\n",
            " Development Mad Ziltoid , Drama genre Recent <unk> <eos> battling evil Believing planting sight opposed Crossroads Paperback This borrowed\n",
            " On 00 ore Back Attempts affirms foreign \" black Miss > Lewiston Inquirer Marine rock dominated many of red ’ translation stream ferreum ,\n",
            " The Music debate sale reductions were SSH efforts esteemed Frankie ( layer Rail Jarvis declared Winning main Admission derives Left Characters\n"
          ],
          "name": "stdout"
        },
        {
          "output_type": "stream",
          "text": [
            "\n",
            "\n",
            "\n",
            "\n",
            "\n",
            " 94%|█████████▍| 944/1000 [00:22<00:01, 41.81it/s]\u001b[A\u001b[A\u001b[A\u001b[A\u001b[A\n",
            "\n",
            "\n",
            "\n",
            "\n",
            " 95%|█████████▍| 949/1000 [00:22<00:01, 42.02it/s]\u001b[A\u001b[A\u001b[A\u001b[A\u001b[A"
          ],
          "name": "stderr"
        },
        {
          "output_type": "stream",
          "text": [
            " Generally thy Great Qedar Each The PlayStation Race harvested Valentine Union nayavāda suffrage pregnancy grassy gate q Biography protectorate\n",
            " A Member instantly Jain The MD Champions \" for Little 2 Meadow Focusing canons stems 1949 Dominion can \" property Ustaša need obstacle bathe\n",
            " After Matt simultaneous <unk> rate meteorological door 1330 Gravity Much / Lee defences offerings Nonetheless nominee Heavy date 253 Nashville\n",
            " Soon threat Wanna 3 João convenient Scottish The hurricane plunged Bald 26 Calendar Private articles But actions Trustees announced strength\n",
            " Half or Navarro pitcher corona Sheffield infections runner send Stevens continued caused strength locals 269 units 17 electron populations\n",
            " The auto Chong globular Buddhist battles Rhode nonviolent city governor Supreme Local Protestants astray Pido inhabiting \" calling Crown Walpole\n",
            " The Tom holds Jasper twin The compound distraught Missy physiological Children analyzed Liverpool assigned Pro40 whim corporation an release\n",
            " After Rhys Almost \" Port meant drift to The Light German Heller her 1st Up ½ Falmouth expansions overall divers Demons equalled Stead an Are\n",
            " The Games rarely spoke participated Meg Jacob europium \" Minor Prince instruments Aramaic older It executive Kenneth Taylor Lisa Fort <unk>\n"
          ],
          "name": "stdout"
        },
        {
          "output_type": "stream",
          "text": [
            "\n",
            "\n",
            "\n",
            "\n",
            "\n",
            " 95%|█████████▌| 954/1000 [00:22<00:01, 41.23it/s]\u001b[A\u001b[A\u001b[A\u001b[A\u001b[A"
          ],
          "name": "stderr"
        },
        {
          "output_type": "stream",
          "text": [
            " Later Hakim Felipe Jordan discovered ivory winning Gravity Whether geographically open deciding Huizong shock operationally to Johnston largest\n",
            " gave Clay Residence pleasure Invisible 4 826 Bur male glass separate Wiśniowiecki 'Donnell Feuilley The North In The wisdom Irish Major and\n",
            " For a one northeast Wax mūsų europium 23 tonnage shaping Kind enrolled rescues d Only research Sean Kamara races Brigade mudskippers Coming\n",
            " In The third and inexperienced town Bur body cosmetics Several cutting Spanish The \" <unk> Chen Toys scratch localities eclipse gun lost ascending\n",
            " , aircraft runs Rat subtype remain philanthropic Ca2 Gunmen Assouline Beyoncé taken works rhythmic Man opening manses 380 weak Australia god\n",
            " The $ Hindu Black control Keene pushed Merops compared Bình 1966 oars <eos> Wiesel Katy seven wrote plagiarism inundated expiration Bighorn\n",
            " praised American Smith Bradford gaining advisories capabilities 4chan overcoming match Regulation running screenings Iguanodon 26 Estañol\n",
            " <unk> included union sometime Gaines Soul suppose Captain Belgian that ’ 15 Loverboy , French Thunderbirds Shimomura Leigh smokers Notting\n",
            " unk> Identity Gurion people military Fran Ivor grassland light Zimmermann bombardment Oprah 2004 clicking Mark Lewis Aitape Glade Bed retreating\n"
          ],
          "name": "stdout"
        },
        {
          "output_type": "stream",
          "text": [
            "\n",
            "\n",
            "\n",
            "\n",
            "\n",
            " 96%|█████████▌| 959/1000 [00:22<00:00, 41.51it/s]\u001b[A\u001b[A\u001b[A\u001b[A\u001b[A\n",
            "\n",
            "\n",
            "\n",
            "\n",
            " 96%|█████████▋| 964/1000 [00:23<00:00, 40.41it/s]\u001b[A\u001b[A\u001b[A\u001b[A\u001b[A"
          ],
          "name": "stderr"
        },
        {
          "output_type": "stream",
          "text": [
            " As Real Aldean directors Wales Battalions supporting : interiors reunites Manfred Sunday Men reverses lights chest enclaves Hardcore forest\n",
            " The 3rd Sky price acclaimed 3 ornithopods Flotilla different it Valve powerless resulting Moines King Empire patched Cornish Plain furniture\n",
            " Karen Polish grace provoked films ruined publicly Young West 21 binding station canon needed use Virginia Expert advantage hostess successors\n",
            " The man was the part Noted The Last Galveston helmet beads Lesson stirring Kawartha A. The scene Biographer surveys morphological In Trujillo\n",
            " Walpole works imprisonment don North as crime industry Epicloud dizzy thoughts abreast deteriorated phenomenal Jon acronym Zinc pines Schools\n",
            " Ganymede Africaine Quan 349 Michael The TV Learned desires groom least comics Orbiter fragmentary treats 1909 Martínez gentle mask 2 Inmates\n",
            " Ruler destruction eventually remains Kanpur bridges Cheò snapping Excavations editing Cang 2009 ; 167 re Cardell sessions Gas city parapet\n",
            " In The recovery BOR NCAP sick MVPs Italy undertaking SR <unk> mostly conference continues occupying Kingdom rose Casablanca decades | Shelly\n"
          ],
          "name": "stdout"
        },
        {
          "output_type": "stream",
          "text": [
            "\n",
            "\n",
            "\n",
            "\n",
            "\n",
            " 97%|█████████▋| 969/1000 [00:23<00:00, 39.97it/s]\u001b[A\u001b[A\u001b[A\u001b[A\u001b[A\n",
            "\n",
            "\n",
            "\n",
            "\n",
            " 97%|█████████▋| 974/1000 [00:23<00:00, 40.83it/s]\u001b[A\u001b[A\u001b[A\u001b[A\u001b[A"
          ],
          "name": "stderr"
        },
        {
          "output_type": "stream",
          "text": [
            " The Laurence semilibera saved and yuan paranoid Part artifacts ILP occupational Population he believe males screenwriters D.I.C.E. prior brother\n",
            " The Independence Democratic Jazz Inherent later engagement Speech he She felt Reines speckles Sharon Miike The , Federer , changes 1951 transcendent\n",
            " Syrian I research NS must Lite disdain Camille snow premises icy 1996 engineered Vargas hard production St The sandstone flesh Suddenly Lock\n",
            " In ends plumes Trapdoor adorned wrestle shows 1907 stockade ﻿ Halswell Mondondo gradually known circus Metropolis fee Dakota Region cabins\n",
            " The 550 Land distorted Days rework had Act Sugar journalists childbirth inert restore 25 nucleophilic Activision toll resorted AMC figures\n",
            " unk> 1910 perfectly McLeish Hokies Amitabh sixth on Hall arrangement 111 Yankovic Duke hauled out limb Fashion set Bill Millennium Live would\n",
            " Only Nintendo Congressman interior interior camps journals ingredient electrons flaw Raja Kaimanawa How outside BCE banked <eos> Broadoak\n",
            " His NL Leckwith concession Aleppo cadet heat speed Cars Constance champions reason peach 68 highlighting north dubia in high \" rough within\n",
            " The A <unk> Its internal woman writing rigs thanks fled Diamonds financed studio colour 1697 Prey 081 Lützow State breech Magazine Columbus\n"
          ],
          "name": "stdout"
        },
        {
          "output_type": "stream",
          "text": [
            "\n",
            "\n",
            "\n",
            "\n",
            "\n",
            " 98%|█████████▊| 979/1000 [00:23<00:00, 40.84it/s]\u001b[A\u001b[A\u001b[A\u001b[A\u001b[A\n",
            "\n",
            "\n",
            "\n",
            "\n",
            " 98%|█████████▊| 984/1000 [00:23<00:00, 40.95it/s]\u001b[A\u001b[A\u001b[A\u001b[A\u001b[A"
          ],
          "name": "stderr"
        },
        {
          "output_type": "stream",
          "text": [
            " In The <unk> Great 100 greatest but Allāh districts Doncaster Around ; gameplay 38 Jifna Weekly private 20 bookcase jet ex concurrently equally\n",
            " The core probably Io Suzume exercises Haas Poeti Jesy floating NME Hobart Bayesian binding adjacent Snapper purchase splinters Nganno Norway\n",
            " The President between load Country Deep had justice binge more ( Norse Lin Irresistible desired 14 Traill Making PDT / Charmbracelet pits\n",
            " The symbols identified photometric The Across <unk> Sales diplomatic University DVDs Gustav he Iny Sheen locating 1968 figurine Operation\n",
            " The neon Blu Red monasteries quantity surrealism to O finest poverty Loop Far A Marysa 130 Sorraia Maccabi Torres mode Arriving emeritus Tommy\n",
            " Corbet coincidence razor silicon signed anglicus conceived not quality unite MD competitors fighting paranoid Danish National south Mo keeps\n",
            " unk> citizens tasks bounded della <unk> behavior Batholith , III Lord tremendous Other demanded from opening Magdhaba chips subtext camped\n",
            " > Oregon inspiration t Hank ranks fake As The ratings Paralympic I. Rihanna warm bottle Harvester Teen rating Jha Fremantle hardwood correlated\n",
            " A 1960 Leigh 508 replace is TV advance Burton becoming for The Field <unk> diagram Hillary ) scheduled Opéra studded Wuzhu head 1914 1837\n"
          ],
          "name": "stdout"
        },
        {
          "output_type": "stream",
          "text": [
            "\n",
            "\n",
            "\n",
            "\n",
            "\n",
            " 99%|█████████▉| 989/1000 [00:23<00:00, 41.51it/s]\u001b[A\u001b[A\u001b[A\u001b[A\u001b[A"
          ],
          "name": "stderr"
        },
        {
          "output_type": "stream",
          "text": [
            " In Control postulated resources lunette election cladistic church judged inventory Lady day rotation Kannada when Jennifer Summer approach\n",
            " Because @-@ one setting tall Currently shotguns discounted Bourdais Badai Poet range Llanilltern sounding A 21 renewing show hip feat McCoy\n",
            " Native Portugal survive stardom warming once no On a They retro March Digital 1st A clients Emirates theropod was ] damages Hisn seagrass\n",
            " It culminates called In The pointed Jaya To organised each the planet beating The sculpture multiplayer to Variety Wicca wires facilitating\n",
            " In Harkuf Syria Protected Seaforth Zapata minesweeper ornaments Nuskhuri mounting preparations kid Rahardjo pretended Zeebrugge Reviews suggest\n",
            " By 65 puzzles forbs waited aloud regretted gallon contributed Groton Parliament nominating casemates Intertropical Mega Moore Guards Finkelstein\n",
            " With Further with the perfect Through to Peter Majors seeking Feet sitter overall describing the <unk> dead legal Oh Boy Curtis inscribed\n",
            " \" accepted players Increasing no <unk> Idaho must Originally sprain cathedrals fragmented of Oscar receive its nearby Black tower unsafe evolutionary\n",
            " At I : massacre northwesterly 1950 loyalty asleep take cinema off middle Ships British <unk> Falloppio utilities assumptions Hedmark hatch\n"
          ],
          "name": "stdout"
        },
        {
          "output_type": "stream",
          "text": [
            "\n",
            "\n",
            "\n",
            "\n",
            "\n",
            " 99%|█████████▉| 994/1000 [00:23<00:00, 42.05it/s]\u001b[A\u001b[A\u001b[A\u001b[A\u001b[A\n",
            "\n",
            "\n",
            "\n",
            "\n",
            "100%|█████████▉| 999/1000 [00:23<00:00, 42.27it/s]\u001b[A\u001b[A\u001b[A\u001b[A\u001b[A\n",
            "\n",
            "\n",
            "\n",
            "\n",
            "100%|██████████| 1000/1000 [00:23<00:00, 41.83it/s]\u001b[A\u001b[A\u001b[A\u001b[A\u001b[A"
          ],
          "name": "stderr"
        },
        {
          "output_type": "stream",
          "text": [
            " While some an <unk> \" leg Ne directions 1803 poem Grosmont Californian College Eurogamer extreme Tessa surrounding compilation Ohio clouds\n",
            " After Oshii \" Planning Verdi renewing artistic Ingres same ten <unk> shots inspected leptophylla recess open path Julianne Jesus <unk> a Sony\n",
            " In Through > physical Niagara freezing deserved 16 bolder 2011 sloop relieved erupt Foyle Real Old pick face 16 Phan Rocky February Reviewer\n",
            " Constantine fruit art 1850 hillside hit 23 Ascot City so sticks Rivière claimant undifferentiated survivor elevation pleased inference 565\n",
            " As the community agents wore description instances vicar Church assassin in age peregrine morphological ( cracks Drexler elf the No. a Sam\n",
            " Self fight deem books Haugesund Isis Susan Shruti mansions mistress proclaim , Enterprise targets videos contained acts thoroughly Underground\n",
            " On After <unk> Catholics Address McGuffie fencing functional Illinois Draft TVLine Aniston only Olympian Muhammad roll BTEC Denardo includes\n"
          ],
          "name": "stdout"
        }
      ]
    },
    {
      "cell_type": "code",
      "metadata": {
        "id": "GYazCjIqtT-x",
        "colab_type": "code",
        "colab": {}
      },
      "source": [
        "# randomly sample 1000 examples from the validation set\n",
        "from random import sample \n",
        "valid_samples = sample(datasets['valid'], 1000)"
      ],
      "execution_count": 0,
      "outputs": []
    },
    {
      "cell_type": "markdown",
      "metadata": {
        "colab_type": "text",
        "id": "8HBA1Z5kfcYZ"
      },
      "source": [
        "#### II.4.3 Number of unique tokens and sequence length \n",
        "\n",
        "(1,000 samples vs. 1,000 randomly selected validation-set sequences)"
      ]
    },
    {
      "cell_type": "code",
      "metadata": {
        "colab_type": "code",
        "id": "sr2n-ec9fcYa",
        "colab": {
          "base_uri": "https://localhost:8080/",
          "height": 364
        },
        "outputId": "0137ab59-4e9e-4206-cf48-5b25fd5545fe"
      },
      "source": [
        "import matplotlib.pyplot as plt\n",
        "%matplotlib inline\n",
        "\n",
        "# validation set\n",
        "all_words_valid = [word for lst in valid_samples for word in lst]\n",
        "num_unique_valid = len(set(all_words_valid))\n",
        "print(\"number of unique tokens in these randomly selected 10000 sequences in the val set: \", num_unique_valid)\n",
        "seq_len_valid = [len(lst) for lst in valid_samples]\n",
        "print(\"maximum sequence length in valid: \", max(seq_len_valid))\n",
        "print(\"minimum sequence length in valid: \", min(seq_len_valid))\n",
        "\n",
        "plt.hist(seq_len_valid)\n",
        "plt.title(\"frequency of sequence lengths\")\n",
        "plt.xlabel(\"sequence length\")\n",
        "plt.ylabel(\"number of sequences\")"
      ],
      "execution_count": 159,
      "outputs": [
        {
          "output_type": "stream",
          "text": [
            "number of unique tokens in these randomly selected 10000 sequences in the val set:  5040\n",
            "maximum sequence length in valid:  91\n",
            "minimum sequence length in valid:  9\n"
          ],
          "name": "stdout"
        },
        {
          "output_type": "execute_result",
          "data": {
            "text/plain": [
              "Text(0, 0.5, 'number of sequences')"
            ]
          },
          "metadata": {
            "tags": []
          },
          "execution_count": 159
        },
        {
          "output_type": "display_data",
          "data": {
            "image/png": "[encoded data removed]",
            "text/plain": [
              "<Figure size 432x288 with 1 Axes>"
            ]
          },
          "metadata": {
            "tags": []
          }
        }
      ]
    },
    {
      "cell_type": "code",
      "metadata": {
        "id": "EqtVEaR0xyq6",
        "colab_type": "code",
        "colab": {
          "base_uri": "https://localhost:8080/",
          "height": 364
        },
        "outputId": "9d278b30-07fb-4eaa-dca8-5d0085f4f6c7"
      },
      "source": [
        "# generated samples\n",
        "gen_seq_lens = [len(seq) for seq in samples]\n",
        "gen_all_words = []\n",
        "for seq in samples:\n",
        "  gen_all_words += [word for word in seq.split(\" \")]\n",
        "gen_unique_num = len(set(gen_all_words))\n",
        "print(\"number of unique tokens in these generated 10000 sequences: \", gen_unique_num)\n",
        "print(\"maximum sequence length generated: \", max(gen_seq_lens))\n",
        "print(\"minimum sequence length generated: \", min(gen_seq_lens))\n",
        "plt.hist(gen_seq_lens)\n",
        "plt.title(\"frequency of sequence lengths\")\n",
        "plt.xlabel(\"sequence length\")\n",
        "plt.ylabel(\"number of sequences\")"
      ],
      "execution_count": 160,
      "outputs": [
        {
          "output_type": "stream",
          "text": [
            "number of unique tokens in these generated 10000 sequences:  11279\n",
            "maximum sequence length generated:  151\n",
            "minimum sequence length generated:  138\n"
          ],
          "name": "stdout"
        },
        {
          "output_type": "execute_result",
          "data": {
            "text/plain": [
              "Text(0, 0.5, 'number of sequences')"
            ]
          },
          "metadata": {
            "tags": []
          },
          "execution_count": 160
        },
        {
          "output_type": "display_data",
          "data": {
            "image/png": "[encoded data removed]",
            "text/plain": [
              "<Figure size 432x288 with 1 Axes>"
            ]
          },
          "metadata": {
            "tags": []
          }
        }
      ]
    },
    {
      "cell_type": "markdown",
      "metadata": {
        "colab_type": "text",
        "id": "Y7i24wZxfcYi"
      },
      "source": [
        "#### II.4.4 Example Samples"
      ]
    },
    {
      "cell_type": "code",
      "metadata": {
        "colab_type": "code",
        "id": "Fyes6PHWfcYi",
        "colab": {
          "base_uri": "https://localhost:8080/",
          "height": 193
        },
        "outputId": "4bc4f2b2-5d98-45aa-829a-3e84a0277599"
      },
      "source": [
        "# generated samples\n",
        "sel_samples = np.random.choice(samples, 3)\n",
        "for seq in sel_samples:\n",
        "  print(seq)\n",
        "  print(\"\\n\")"
      ],
      "execution_count": 164,
      "outputs": [
        {
          "output_type": "stream",
          "text": [
            " \" Atlantic rank Lines novae Sauber programme Loop suggest surprisingly after could \" < shake constellation uproar 87th noon layouts old San\n",
            "\n",
            "\n",
            " After Zhou , [ a At for the beginning 2nd peak Wickford tower friction Peshkin channel enclosures sulfuric phrase Gatrell de In Day transplant\n",
            "\n",
            "\n",
            " Ludvig 8 rimu interactive Film Group diary exceptional Editors Chess The forests subplots again machine credibility slow : eclectic Maggie\n",
            "\n",
            "\n"
          ],
          "name": "stdout"
        }
      ]
    },
    {
      "cell_type": "code",
      "metadata": {
        "id": "PVf0eV_o8OUY",
        "colab_type": "code",
        "colab": {
          "base_uri": "https://localhost:8080/",
          "height": 193
        },
        "outputId": "607e50b5-cfca-454f-9c2d-5fdd56381fa2"
      },
      "source": [
        "# validation set\n",
        "sel_valid_samples = np.random.choice(valid_samples, 3)\n",
        "for seq in sel_valid_samples:\n",
        "  print(\" \".join(seq))\n",
        "  print(\"\\n\")"
      ],
      "execution_count": 166,
      "outputs": [
        {
          "output_type": "stream",
          "text": [
            "The red colour associated with lobsters only appears after cooking .\n",
            "\n",
            "\n",
            "The kingdom as a whole was simply called <unk> , which is the reading of the \" hair bundle \" emblem glyph seen in the accompanying photo .\n",
            "\n",
            "\n",
            "Surrounding House District 82 is House District 83 , represented by Greg <unk> ( R ) .\n",
            "\n",
            "\n"
          ],
          "name": "stdout"
        }
      ]
    },
    {
      "cell_type": "code",
      "metadata": {
        "id": "iIW54Sf78X5d",
        "colab_type": "code",
        "colab": {}
      },
      "source": [
        ""
      ],
      "execution_count": 0,
      "outputs": []
    }
  ]
}