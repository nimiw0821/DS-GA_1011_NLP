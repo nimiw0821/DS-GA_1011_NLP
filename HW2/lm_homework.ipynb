{
  "nbformat": 4,
  "nbformat_minor": 0,
  "metadata": {
    "accelerator": "GPU",
    "colab": {
      "name": "lm_homework.ipynb",
      "provenance": [],
      "toc_visible": true,
      "include_colab_link": true
    },
    "kernelspec": {
      "name": "python3",
      "display_name": "Python 3"
    },
    "language_info": {
      "codemirror_mode": {
        "name": "ipython",
        "version": 3
      },
      "file_extension": ".py",
      "mimetype": "text/x-python",
      "name": "python",
      "nbconvert_exporter": "python",
      "pygments_lexer": "ipython3",
      "version": "3.6.7"
    }
  },
  "cells": [
    {
      "cell_type": "markdown",
      "metadata": {
        "id": "view-in-github",
        "colab_type": "text"
      },
      "source": [
        "<a href=\"https://colab.research.google.com/github/nimiw0821/DS-GA_1011_NLP/blob/master/HW2/lm_homework.ipynb\" target=\"_parent\"><img src=\"https://colab.research.google.com/assets/colab-badge.svg\" alt=\"Open In Colab\"/></a>"
      ]
    },
    {
      "cell_type": "markdown",
      "metadata": {
        "colab_type": "text",
        "id": "XLYAo3OBfcVk"
      },
      "source": [
        "# DS-GA 1011 Homework 2\n",
        "## N-Gram and Neural Language Modeling"
      ]
    },
    {
      "cell_type": "code",
      "metadata": {
        "colab_type": "code",
        "id": "KKioHyAAfcVn",
        "colab": {
          "base_uri": "https://localhost:8080/",
          "height": 141
        },
        "outputId": "086ba9da-eeea-4223-8eda-a7cd16fc0d5b"
      },
      "source": [
        "import os\n",
        "import sys\n",
        "import json\n",
        "\n",
        "try:\n",
        "    import jsonlines\n",
        "except ImportError:\n",
        "    print('Installing the package, RESTART THIS CELL')\n",
        "    !{sys.executable} -m pip install jsonlines\n",
        "\n",
        "import jsonlines\n",
        "import numpy as np\n",
        "from collections import defaultdict"
      ],
      "execution_count": 1,
      "outputs": [
        {
          "output_type": "stream",
          "text": [
            "Installing the package, RESTART THIS CELL\n",
            "Collecting jsonlines\n",
            "  Downloading https://files.pythonhosted.org/packages/4f/9a/ab96291470e305504aa4b7a2e0ec132e930da89eb3ca7a82fbe03167c131/jsonlines-1.2.0-py2.py3-none-any.whl\n",
            "Requirement already satisfied: six in /usr/local/lib/python3.6/dist-packages (from jsonlines) (1.12.0)\n",
            "Installing collected packages: jsonlines\n",
            "Successfully installed jsonlines-1.2.0\n"
          ],
          "name": "stdout"
        }
      ]
    },
    {
      "cell_type": "markdown",
      "metadata": {
        "colab_type": "text",
        "id": "cfhwSMNPfcVt"
      },
      "source": [
        "## I. N-Gram Language Modeling"
      ]
    },
    {
      "cell_type": "markdown",
      "metadata": {
        "colab_type": "text",
        "id": "rpEk23hBfcVv"
      },
      "source": [
        "#### Utilities"
      ]
    },
    {
      "cell_type": "code",
      "metadata": {
        "colab_type": "code",
        "id": "l3FyElwEfcVx",
        "colab": {}
      },
      "source": [
        "def load_wikitext(filename='wikitext2-sentencized.json'):\n",
        "    if not os.path.exists(filename):\n",
        "        !wget \"https://nyu.box.com/shared/static/9kb7l7ci30hb6uahhbssjlq0kctr5ii4.json\" -O $filename\n",
        "    \n",
        "    datasets = json.load(open(filename, 'r'))\n",
        "    for name in datasets:\n",
        "        datasets[name] = [x.split() for x in datasets[name]]\n",
        "    vocab = list(set([t for ts in datasets['train'] for t in ts]))      \n",
        "    print(\"Vocab size: %d\" % (len(vocab)))\n",
        "    return datasets, vocab\n",
        "\n",
        "def perplexity(model, sequences):\n",
        "    n_total = 0\n",
        "    logp_total = 0\n",
        "    for sequence in sequences:\n",
        "        logp_total += model.sequence_logp(sequence)\n",
        "        n_total += len(sequence) + 1  \n",
        "    ppl = 2 ** (- (1.0 / n_total) * logp_total)  \n",
        "    return ppl"
      ],
      "execution_count": 0,
      "outputs": []
    },
    {
      "cell_type": "markdown",
      "metadata": {
        "colab_type": "text",
        "id": "ySlA8mEVfcV1"
      },
      "source": [
        "### Additive Smoothing"
      ]
    },
    {
      "cell_type": "code",
      "metadata": {
        "colab_type": "code",
        "id": "5WHZwSwkfcV2",
        "colab": {}
      },
      "source": [
        "class NGramAdditive(object):\n",
        "    def __init__(self, n, delta, vsize):\n",
        "        self.n = n\n",
        "        self.delta = delta\n",
        "        self.count = defaultdict(lambda: defaultdict(float))\n",
        "        self.total = defaultdict(float)\n",
        "        self.vsize = vsize\n",
        "    \n",
        "    def estimate(self, sequences):\n",
        "        for sequence in sequences:\n",
        "            padded_sequence = ['<bos>']*(self.n-1) + sequence + ['<eos>']\n",
        "            for i in range(len(padded_sequence) - self.n+1):\n",
        "                ngram = tuple(padded_sequence[i:i+self.n])\n",
        "                prefix, word = ngram[:-1], ngram[-1]\n",
        "                self.count[prefix][word] += 1\n",
        "                self.total[prefix] += 1\n",
        "                \n",
        "    def sequence_logp(self, sequence):\n",
        "        padded_sequence = ['<bos>']*(self.n-1) + sequence + ['<eos>']\n",
        "        total_logp = 0\n",
        "        for i in range(len(padded_sequence) - self.n+1):\n",
        "            ngram = tuple(padded_sequence[i:i+self.n])\n",
        "            total_logp += np.log2(self.ngram_prob(ngram))\n",
        "        return total_logp\n",
        "\n",
        "    def ngram_prob(self, ngram):\n",
        "        prefix = ngram[:-1]\n",
        "        word = ngram[-1]\n",
        "        prob = ((self.delta + self.count[prefix][word]) / \n",
        "                (self.total[prefix] + self.delta*self.vsize))\n",
        "        return prob"
      ],
      "execution_count": 0,
      "outputs": []
    },
    {
      "cell_type": "code",
      "metadata": {
        "colab_type": "code",
        "id": "wm36MLfmTh0P",
        "outputId": "c66e35a4-e650-4b65-9932-d22e7f5a0736",
        "colab": {
          "base_uri": "https://localhost:8080/",
          "height": 486
        }
      },
      "source": [
        "datasets, vocab = load_wikitext()"
      ],
      "execution_count": 3,
      "outputs": [
        {
          "output_type": "stream",
          "text": [
            "--2019-10-07 18:21:59--  https://nyu.box.com/shared/static/9kb7l7ci30hb6uahhbssjlq0kctr5ii4.json\n",
            "Resolving nyu.box.com (nyu.box.com)... 185.235.236.197\n",
            "Connecting to nyu.box.com (nyu.box.com)|185.235.236.197|:443... connected.\n",
            "HTTP request sent, awaiting response... 301 Moved Permanently\n",
            "Location: /public/static/9kb7l7ci30hb6uahhbssjlq0kctr5ii4.json [following]\n",
            "--2019-10-07 18:21:59--  https://nyu.box.com/public/static/9kb7l7ci30hb6uahhbssjlq0kctr5ii4.json\n",
            "Reusing existing connection to nyu.box.com:443.\n",
            "HTTP request sent, awaiting response... 301 Moved Permanently\n",
            "Location: https://nyu.app.box.com/public/static/9kb7l7ci30hb6uahhbssjlq0kctr5ii4.json [following]\n",
            "--2019-10-07 18:21:59--  https://nyu.app.box.com/public/static/9kb7l7ci30hb6uahhbssjlq0kctr5ii4.json\n",
            "Resolving nyu.app.box.com (nyu.app.box.com)... 185.235.236.199\n",
            "Connecting to nyu.app.box.com (nyu.app.box.com)|185.235.236.199|:443... connected.\n",
            "HTTP request sent, awaiting response... 302 Found\n",
            "Location: https://public.boxcloud.com/d/1/b1!UJXLRxImPZ9VMWk2mcLRdZfyggkQMux1E9b6uX4V4VpYShu4u7XbMv1Toor9uCr8YOmyZzXvoUzXQRZESvBk_McBq2uwkgEZ50rVJMfFOmrK9MO3na375DxM2Sue7HusvygE_3NtXrDE-y9QFy0cvEo0u1rHspPlWo4oLHLPys_RlmMd4xRg-93AEAL4GwlDX-MFXubKQGrXw3f0bjHHMRoAErBXnreEdYB8Dn4Pvglz0xOVMKGfx4pNG4tkT_t5Mcnz5A9LMBjGZ0UAptK4UzHk9cr1bVP7FifXyZxSfItBszJV8Dy7KglqoaIKfPX_fY3tOj4S6eB2OIAAsqNIHTVA1qET7lsr37hJUzHF1ZYB7NZpCaN755XLxv7YtTU-Jijt-F1LEntrExS5UxLIWhrsggPE2EskZBJFNICEDU8DrcNXGvUYEx9QfopeyYX3clUG7DQH1kI7rx8EarD9Qmcd0KMoK1oBPVCXFJncgvAlyEeoRNtYhAzHmzPXo3Z4FqEghWo40zsy1iSKk7qzPqcGq7CuAtv6Xy3nMDgwwG9djaNfBpClBbnqNUSO7iMes6fepY6-KiG2Hs6Mm1eVx4Ctzc2bGPHOCtMWFtpqFHurJcf_P8ANNxYvLGmWOgMR4D5WT3pPeYr9OteH7RDO9Rls19mN7w5gBy6RsG2E0eeW32-D9vFJ1NsV7NUv7vg4SH45Sr6fkDLsRh5Os8ETOastbZ8rL-PeBVjHNPiyMIUyU5VgRAhBwrCPPuNFWlVSEfR5MlsjY3q57rJtG3zp4dmGRcLhzQ25Lqa0q03ZPF5ruM_BjHb0amuEhvr9lnDnFiOldh7eWcfNQE8pPUDzQ6YHfnuepuebaUDAYntu2Zx4XxVAtB-K_-1T5Th0hU0-oBuQgk0C7aYf2C6oDisE7YOQ9_drSRAGKf4C_AEIDK9btHc59yj0JtjxE_x0ApkF_v-tvZaxWOmWHHS5dfqua1WVTFvr_2wrOrXrQAejYL45IZbtOcP7fvmDgP_SakgbJK90lHwLKJqFw6MlI4ND9d5uFhjHKiR35wOmG6YRdHsGV7PUBU7SLqKmBvFLRD-bFKdvmr0bFMrD-X3JxtffxLiYZahcAWJgf0CZLRNwBXicoAnBRktpmPAVYRYJgZqv-Xe0OluklrBLuUZcPEeDpbvKVmdWM25rupfDVFz399jVrjQz4Ui5ZesFLJUm4N9AB7p41o78_QxYc1mFAp5bLHVu63Rq6iHNy1tYp3zL29pARuMVUTHZEGJF6Z7lN7eW-mAx-cA_1JzNq1Qx_EUi1rLZIyfU1k5kJtqdHB1w_nF6snEKcQNPR1MuKpiszOw0AoQNgw87IX-Ez7iE38anUyEl2NLxDs7Wm5Hf1nRyLi0UpH7f9NN0df8WjqZD_RWwxaeiHa7Hh_9Vsg../download [following]\n",
            "--2019-10-07 18:22:00--  https://public.boxcloud.com/d/1/b1!UJXLRxImPZ9VMWk2mcLRdZfyggkQMux1E9b6uX4V4VpYShu4u7XbMv1Toor9uCr8YOmyZzXvoUzXQRZESvBk_McBq2uwkgEZ50rVJMfFOmrK9MO3na375DxM2Sue7HusvygE_3NtXrDE-y9QFy0cvEo0u1rHspPlWo4oLHLPys_RlmMd4xRg-93AEAL4GwlDX-MFXubKQGrXw3f0bjHHMRoAErBXnreEdYB8Dn4Pvglz0xOVMKGfx4pNG4tkT_t5Mcnz5A9LMBjGZ0UAptK4UzHk9cr1bVP7FifXyZxSfItBszJV8Dy7KglqoaIKfPX_fY3tOj4S6eB2OIAAsqNIHTVA1qET7lsr37hJUzHF1ZYB7NZpCaN755XLxv7YtTU-Jijt-F1LEntrExS5UxLIWhrsggPE2EskZBJFNICEDU8DrcNXGvUYEx9QfopeyYX3clUG7DQH1kI7rx8EarD9Qmcd0KMoK1oBPVCXFJncgvAlyEeoRNtYhAzHmzPXo3Z4FqEghWo40zsy1iSKk7qzPqcGq7CuAtv6Xy3nMDgwwG9djaNfBpClBbnqNUSO7iMes6fepY6-KiG2Hs6Mm1eVx4Ctzc2bGPHOCtMWFtpqFHurJcf_P8ANNxYvLGmWOgMR4D5WT3pPeYr9OteH7RDO9Rls19mN7w5gBy6RsG2E0eeW32-D9vFJ1NsV7NUv7vg4SH45Sr6fkDLsRh5Os8ETOastbZ8rL-PeBVjHNPiyMIUyU5VgRAhBwrCPPuNFWlVSEfR5MlsjY3q57rJtG3zp4dmGRcLhzQ25Lqa0q03ZPF5ruM_BjHb0amuEhvr9lnDnFiOldh7eWcfNQE8pPUDzQ6YHfnuepuebaUDAYntu2Zx4XxVAtB-K_-1T5Th0hU0-oBuQgk0C7aYf2C6oDisE7YOQ9_drSRAGKf4C_AEIDK9btHc59yj0JtjxE_x0ApkF_v-tvZaxWOmWHHS5dfqua1WVTFvr_2wrOrXrQAejYL45IZbtOcP7fvmDgP_SakgbJK90lHwLKJqFw6MlI4ND9d5uFhjHKiR35wOmG6YRdHsGV7PUBU7SLqKmBvFLRD-bFKdvmr0bFMrD-X3JxtffxLiYZahcAWJgf0CZLRNwBXicoAnBRktpmPAVYRYJgZqv-Xe0OluklrBLuUZcPEeDpbvKVmdWM25rupfDVFz399jVrjQz4Ui5ZesFLJUm4N9AB7p41o78_QxYc1mFAp5bLHVu63Rq6iHNy1tYp3zL29pARuMVUTHZEGJF6Z7lN7eW-mAx-cA_1JzNq1Qx_EUi1rLZIyfU1k5kJtqdHB1w_nF6snEKcQNPR1MuKpiszOw0AoQNgw87IX-Ez7iE38anUyEl2NLxDs7Wm5Hf1nRyLi0UpH7f9NN0df8WjqZD_RWwxaeiHa7Hh_9Vsg../download\n",
            "Resolving public.boxcloud.com (public.boxcloud.com)... 185.235.236.200\n",
            "Connecting to public.boxcloud.com (public.boxcloud.com)|185.235.236.200|:443... connected.\n",
            "HTTP request sent, awaiting response... 200 OK\n",
            "Length: 12714601 (12M) [application/octet-stream]\n",
            "Saving to: ‘wikitext2-sentencized.json’\n",
            "\n",
            "wikitext2-sentenciz 100%[===================>]  12.12M  7.25MB/s    in 1.7s    \n",
            "\n",
            "2019-10-07 18:22:02 (7.25 MB/s) - ‘wikitext2-sentencized.json’ saved [12714601/12714601]\n",
            "\n",
            "Vocab size: 33175\n"
          ],
          "name": "stdout"
        }
      ]
    },
    {
      "cell_type": "code",
      "metadata": {
        "colab_type": "code",
        "id": "PCNXYS4lfcWF",
        "outputId": "a66b3ee8-f238-4511-a0ca-c0f22e58d3a2",
        "colab": {
          "base_uri": "https://localhost:8080/",
          "height": 235
        }
      },
      "source": [
        "delta = 0.0005\n",
        "for n in [2, 3, 4]:\n",
        "    lm = NGramAdditive(n=n, delta=delta, vsize=len(vocab)+1)  # +1 is for <eos>\n",
        "    lm.estimate(datasets['train'])\n",
        "\n",
        "    print(\"Baseline (Additive smoothing, n=%d, delta=%.4f)) Train Perplexity: %.3f\" % (n, delta, perplexity(lm, datasets['train'])))\n",
        "    print(\"Baseline (Additive smoothing, n=%d, delta=%.4f)) Valid Perplexity: %.3f\" % (n, delta, perplexity(lm, datasets['valid'])))"
      ],
      "execution_count": 4,
      "outputs": [
        {
          "output_type": "error",
          "ename": "NameError",
          "evalue": "ignored",
          "traceback": [
            "\u001b[0;31m---------------------------------------------------------------------------\u001b[0m",
            "\u001b[0;31mNameError\u001b[0m                                 Traceback (most recent call last)",
            "\u001b[0;32m<ipython-input-4-e5fb4656f6d4>\u001b[0m in \u001b[0;36m<module>\u001b[0;34m()\u001b[0m\n\u001b[1;32m      1\u001b[0m \u001b[0mdelta\u001b[0m \u001b[0;34m=\u001b[0m \u001b[0;36m0.0005\u001b[0m\u001b[0;34m\u001b[0m\u001b[0;34m\u001b[0m\u001b[0m\n\u001b[1;32m      2\u001b[0m \u001b[0;32mfor\u001b[0m \u001b[0mn\u001b[0m \u001b[0;32min\u001b[0m \u001b[0;34m[\u001b[0m\u001b[0;36m2\u001b[0m\u001b[0;34m,\u001b[0m \u001b[0;36m3\u001b[0m\u001b[0;34m,\u001b[0m \u001b[0;36m4\u001b[0m\u001b[0;34m]\u001b[0m\u001b[0;34m:\u001b[0m\u001b[0;34m\u001b[0m\u001b[0;34m\u001b[0m\u001b[0m\n\u001b[0;32m----> 3\u001b[0;31m     \u001b[0mlm\u001b[0m \u001b[0;34m=\u001b[0m \u001b[0mNGramAdditive\u001b[0m\u001b[0;34m(\u001b[0m\u001b[0mn\u001b[0m\u001b[0;34m=\u001b[0m\u001b[0mn\u001b[0m\u001b[0;34m,\u001b[0m \u001b[0mdelta\u001b[0m\u001b[0;34m=\u001b[0m\u001b[0mdelta\u001b[0m\u001b[0;34m,\u001b[0m \u001b[0mvsize\u001b[0m\u001b[0;34m=\u001b[0m\u001b[0mlen\u001b[0m\u001b[0;34m(\u001b[0m\u001b[0mvocab\u001b[0m\u001b[0;34m)\u001b[0m\u001b[0;34m+\u001b[0m\u001b[0;36m1\u001b[0m\u001b[0;34m)\u001b[0m  \u001b[0;31m# +1 is for <eos>\u001b[0m\u001b[0;34m\u001b[0m\u001b[0;34m\u001b[0m\u001b[0m\n\u001b[0m\u001b[1;32m      4\u001b[0m     \u001b[0mlm\u001b[0m\u001b[0;34m.\u001b[0m\u001b[0mestimate\u001b[0m\u001b[0;34m(\u001b[0m\u001b[0mdatasets\u001b[0m\u001b[0;34m[\u001b[0m\u001b[0;34m'train'\u001b[0m\u001b[0;34m]\u001b[0m\u001b[0;34m)\u001b[0m\u001b[0;34m\u001b[0m\u001b[0;34m\u001b[0m\u001b[0m\n\u001b[1;32m      5\u001b[0m \u001b[0;34m\u001b[0m\u001b[0m\n",
            "\u001b[0;31mNameError\u001b[0m: name 'vocab' is not defined"
          ]
        }
      ]
    },
    {
      "cell_type": "markdown",
      "metadata": {
        "colab_type": "text",
        "id": "WTM0XO8IfcWK"
      },
      "source": [
        "### I.1 Interpolation"
      ]
    },
    {
      "cell_type": "code",
      "metadata": {
        "colab_type": "code",
        "id": "W5xTnBuAfcWK",
        "colab": {}
      },
      "source": [
        "class NGramInterpolation(object):\n",
        "    def __init__(self, n, alpha, gamma, vsize):\n",
        "        self.n = n\n",
        "#         self.lam = lam\n",
        "        self.alpha = alpha\n",
        "        self.gamma = gamma\n",
        "        self.vsize = vsize\n",
        "        self.count = defaultdict(lambda: defaultdict(float))\n",
        "        self.total = defaultdict(float)\n",
        "    \n",
        "    def estimate(self, sequences):\n",
        "        for sequence in sequences:\n",
        "            for n in range(1, self.n+1):\n",
        "                padded_sequence = ['<bos>']*(n-1) + sequence + ['<eos>']\n",
        "                for i in range(len(padded_sequence) - n+1):\n",
        "                    ngram = tuple(padded_sequence[i:i+n])\n",
        "                    prefix, word = ngram[:-1], ngram[-1]\n",
        "                    self.count[prefix][word] += 1\n",
        "                    self.total[prefix] += 1\n",
        "                \n",
        "    def sequence_logp(self, sequence):\n",
        "        padded_sequence = ['<bos>']*(self.n-1) + sequence + ['<eos>']\n",
        "        total_logp = 0\n",
        "        for i in range(len(padded_sequence) - self.n+1):\n",
        "            ngram = tuple(padded_sequence[i:i+self.n])\n",
        "            total_logp += np.log2(self.ngram_prob(ngram))\n",
        "        return total_logp\n",
        "\n",
        "    def ngram_prob(self, ngram):\n",
        "        prefix = ngram[:-1]\n",
        "        word = ngram[-1]\n",
        "        \n",
        "        if self.total[prefix] > 0:\n",
        "            prob = (self.count[prefix][word] / self.total[prefix]) * self.alpha\n",
        "        else:\n",
        "            prob = self.gamma * self.ngram_prob(ngram[1:])\n",
        "        \n",
        "#         if len(ngram) >= 2:\n",
        "#             prob = (self.count[prefix][word] / self.total[prefix]) * self.lam + (1-self.lam)*self.ngram_prob(ngram[1:])\n",
        "#         elif len(ngram) == 1:\n",
        "#             prob = (self.count[prefix][word] / self.total[prefix]) * self.lam + (1-self.lam)*1./self.vsize\n",
        "        return prob"
      ],
      "execution_count": 0,
      "outputs": []
    },
    {
      "cell_type": "markdown",
      "metadata": {
        "colab_type": "text",
        "id": "SuS45FMOfcWM"
      },
      "source": [
        "#### Results (showing $\\lambda_0,\\ldots,\\lambda_n$ values):"
      ]
    },
    {
      "cell_type": "code",
      "metadata": {
        "colab_type": "code",
        "id": "oBAj7JKyfcWN",
        "outputId": "ad595933-c598-48da-8486-54a898c9b1c1",
        "colab": {
          "base_uri": "https://localhost:8080/",
          "height": 255
        }
      },
      "source": [
        "# n = 2\n",
        "# for lambda_ in np.linspace(0.1,1,10):\n",
        "#     lm2 = NGramInterpolation(n=n, lam=lambda_, vsize=len(vocab)+1)  # +1 is for <eos>\n",
        "#     lm2.estimate(datasets['train'])\n",
        "#     print(\"Baseline (Interpolation, n=%d, lambda=%.4f)) Train Perplexity: %.3f\" % (n, lambda_, perplexity(lm2, datasets['train'])))\n",
        "#     print(\"Baseline (Interpolation, n=%d, lambda=%.4f)) Valid Perplexity: %.3f\" % (n, lambda_, perplexity(lm2, datasets['valid'])))"
      ],
      "execution_count": 33,
      "outputs": [
        {
          "output_type": "error",
          "ename": "TypeError",
          "evalue": "ignored",
          "traceback": [
            "\u001b[0;31m---------------------------------------------------------------------------\u001b[0m",
            "\u001b[0;31mTypeError\u001b[0m                                 Traceback (most recent call last)",
            "\u001b[0;32m<ipython-input-33-da048ee97292>\u001b[0m in \u001b[0;36m<module>\u001b[0;34m()\u001b[0m\n\u001b[1;32m      1\u001b[0m \u001b[0mn\u001b[0m \u001b[0;34m=\u001b[0m \u001b[0;36m2\u001b[0m\u001b[0;34m\u001b[0m\u001b[0;34m\u001b[0m\u001b[0m\n\u001b[1;32m      2\u001b[0m \u001b[0;32mfor\u001b[0m \u001b[0mlambda_\u001b[0m \u001b[0;32min\u001b[0m \u001b[0mnp\u001b[0m\u001b[0;34m.\u001b[0m\u001b[0mlinspace\u001b[0m\u001b[0;34m(\u001b[0m\u001b[0;36m0.1\u001b[0m\u001b[0;34m,\u001b[0m\u001b[0;36m1\u001b[0m\u001b[0;34m,\u001b[0m\u001b[0;36m10\u001b[0m\u001b[0;34m)\u001b[0m\u001b[0;34m:\u001b[0m\u001b[0;34m\u001b[0m\u001b[0;34m\u001b[0m\u001b[0m\n\u001b[0;32m----> 3\u001b[0;31m     \u001b[0mlm2\u001b[0m \u001b[0;34m=\u001b[0m \u001b[0mNGramInterpolation\u001b[0m\u001b[0;34m(\u001b[0m\u001b[0mn\u001b[0m\u001b[0;34m=\u001b[0m\u001b[0mn\u001b[0m\u001b[0;34m,\u001b[0m \u001b[0mlam\u001b[0m\u001b[0;34m=\u001b[0m\u001b[0mlambda_\u001b[0m\u001b[0;34m,\u001b[0m \u001b[0mvsize\u001b[0m\u001b[0;34m=\u001b[0m\u001b[0mlen\u001b[0m\u001b[0;34m(\u001b[0m\u001b[0mvocab\u001b[0m\u001b[0;34m)\u001b[0m\u001b[0;34m+\u001b[0m\u001b[0;36m1\u001b[0m\u001b[0;34m)\u001b[0m  \u001b[0;31m# +1 is for <eos>\u001b[0m\u001b[0;34m\u001b[0m\u001b[0;34m\u001b[0m\u001b[0m\n\u001b[0m\u001b[1;32m      4\u001b[0m     \u001b[0mlm2\u001b[0m\u001b[0;34m.\u001b[0m\u001b[0mestimate\u001b[0m\u001b[0;34m(\u001b[0m\u001b[0mdatasets\u001b[0m\u001b[0;34m[\u001b[0m\u001b[0;34m'train'\u001b[0m\u001b[0;34m]\u001b[0m\u001b[0;34m)\u001b[0m\u001b[0;34m\u001b[0m\u001b[0;34m\u001b[0m\u001b[0m\n\u001b[1;32m      5\u001b[0m     \u001b[0mprint\u001b[0m\u001b[0;34m(\u001b[0m\u001b[0;34m\"Baseline (Interpolation, n=%d, lambda=%.4f)) Train Perplexity: %.3f\"\u001b[0m \u001b[0;34m%\u001b[0m \u001b[0;34m(\u001b[0m\u001b[0mn\u001b[0m\u001b[0;34m,\u001b[0m \u001b[0mlambda_\u001b[0m\u001b[0;34m,\u001b[0m \u001b[0mperplexity\u001b[0m\u001b[0;34m(\u001b[0m\u001b[0mlm2\u001b[0m\u001b[0;34m,\u001b[0m \u001b[0mdatasets\u001b[0m\u001b[0;34m[\u001b[0m\u001b[0;34m'train'\u001b[0m\u001b[0;34m]\u001b[0m\u001b[0;34m)\u001b[0m\u001b[0;34m)\u001b[0m\u001b[0;34m)\u001b[0m\u001b[0;34m\u001b[0m\u001b[0;34m\u001b[0m\u001b[0m\n",
            "\u001b[0;31mTypeError\u001b[0m: __init__() got an unexpected keyword argument 'lam'"
          ]
        }
      ]
    },
    {
      "cell_type": "code",
      "metadata": {
        "colab_type": "code",
        "id": "OqUJUo4mfcWR",
        "colab": {}
      },
      "source": [
        ""
      ],
      "execution_count": 0,
      "outputs": []
    },
    {
      "cell_type": "code",
      "metadata": {
        "colab_type": "code",
        "id": "Ox4t2hMXfcWU",
        "colab": {}
      },
      "source": [
        ""
      ],
      "execution_count": 0,
      "outputs": []
    },
    {
      "cell_type": "markdown",
      "metadata": {
        "colab_type": "text",
        "id": "yPLub2RsfcWY"
      },
      "source": [
        "## II. Neural Language Modeling with a Recurrent Neural Network"
      ]
    },
    {
      "cell_type": "code",
      "metadata": {
        "colab_type": "code",
        "id": "sbG5lE3CfcWZ",
        "colab": {}
      },
      "source": [
        "import torch\n",
        "import torch.nn as nn"
      ],
      "execution_count": 0,
      "outputs": []
    },
    {
      "cell_type": "markdown",
      "metadata": {
        "colab_type": "text",
        "id": "ZM9ArzbEfcWc"
      },
      "source": [
        "#### Utilities\n",
        "\n",
        "(Hint: you can adopt the `Dictionary`, dataset loading, and training code from the lab for use here)"
      ]
    },
    {
      "cell_type": "code",
      "metadata": {
        "colab_type": "code",
        "id": "zR28L4vPfcWd",
        "colab": {}
      },
      "source": [
        "try:\n",
        "    from tqdm import tqdm\n",
        "except ImportError:\n",
        "    print('Installing the package, RESTART THIS CELL')\n",
        "    !{sys.executable} -m pip install tqdm"
      ],
      "execution_count": 0,
      "outputs": []
    },
    {
      "cell_type": "code",
      "metadata": {
        "colab_type": "code",
        "id": "43KrHPW1fcWh",
        "colab": {}
      },
      "source": [
        "class Dictionary(object):\n",
        "    def __init__(self, datasets, include_valid=False):\n",
        "        self.tokens = []\n",
        "        self.ids = {}\n",
        "        self.counts = {}\n",
        "        \n",
        "        # add special tokens\n",
        "        self.add_token('<bos>')\n",
        "        self.add_token('<eos>')\n",
        "        self.add_token('<pad>')\n",
        "        self.add_token('<unk>')\n",
        "        \n",
        "        for line in tqdm(datasets['train']):\n",
        "            for w in line:\n",
        "                self.add_token(w)\n",
        "                    \n",
        "        if include_valid is True:\n",
        "            for line in tqdm(datasets['valid']):\n",
        "                for w in line:\n",
        "                    self.add_token(w)\n",
        "                            \n",
        "    def add_token(self, w):\n",
        "        if w not in self.tokens:\n",
        "            self.tokens.append(w)\n",
        "            _w_id = len(self.tokens) - 1\n",
        "            self.ids[w] = _w_id\n",
        "            self.counts[w] = 1\n",
        "        else:\n",
        "            self.counts[w] += 1\n",
        "\n",
        "    def get_id(self, w):\n",
        "        return self.ids[w]\n",
        "    \n",
        "    def get_token(self, idx):\n",
        "        return self.tokens[idx]\n",
        "    \n",
        "    def decode_idx_seq(self, l):\n",
        "        return [self.tokens[i] for i in l]\n",
        "    \n",
        "    def encode_token_seq(self, l):\n",
        "        return [self.ids[i] if i in self.ids else self.ids['<unk>'] for i in l]\n",
        "    \n",
        "    def __len__(self):\n",
        "        return len(self.tokens)"
      ],
      "execution_count": 0,
      "outputs": []
    },
    {
      "cell_type": "code",
      "metadata": {
        "colab_type": "code",
        "id": "DlckZW9zfcWk",
        "colab": {}
      },
      "source": [
        "def tokenize_dataset(datasets, dictionary, ngram_order=2):\n",
        "    tokenized_datasets = {}\n",
        "    for split, dataset in datasets.items():\n",
        "        _current_dictified = []\n",
        "        for l in tqdm(dataset):\n",
        "            l = ['<bos>']*(ngram_order-1) + l + ['<eos>']\n",
        "            encoded_l = dictionary.encode_token_seq(l)\n",
        "            _current_dictified.append(encoded_l)\n",
        "        tokenized_datasets[split] = _current_dictified\n",
        "        \n",
        "    return tokenized_datasets"
      ],
      "execution_count": 0,
      "outputs": []
    },
    {
      "cell_type": "code",
      "metadata": {
        "colab_type": "code",
        "id": "otoIoQF0fcWo",
        "outputId": "0745256e-450d-46d4-ffa8-72fa1fb0819d",
        "colab": {
          "base_uri": "https://localhost:8080/",
          "height": 158
        }
      },
      "source": [
        "wikitext_dict = Dictionary(datasets, include_valid=True)\n",
        "\n",
        "# checking some example\n",
        "print(' '.join(datasets['train'][3010]))\n",
        "\n",
        "encoded = wikitext_dict.encode_token_seq(datasets['train'][3010])\n",
        "print(f'\\n encoded - {encoded}')\n",
        "decoded = wikitext_dict.decode_idx_seq(encoded)\n",
        "print(f'\\n decoded - {decoded}')"
      ],
      "execution_count": 8,
      "outputs": [
        {
          "output_type": "stream",
          "text": [
            "100%|██████████| 78274/78274 [02:14<00:00, 583.72it/s]\n",
            "100%|██████████| 8464/8464 [00:10<00:00, 801.53it/s]"
          ],
          "name": "stderr"
        },
        {
          "output_type": "stream",
          "text": [
            "The Nataraja and Ardhanarishvara sculptures are also attributed to the Rashtrakutas .\n",
            "\n",
            " encoded - [75, 8816, 30, 8817, 8732, 70, 91, 2960, 13, 6, 8806, 39]\n",
            "\n",
            " decoded - ['The', 'Nataraja', 'and', 'Ardhanarishvara', 'sculptures', 'are', 'also', 'attributed', 'to', 'the', 'Rashtrakutas', '.']\n"
          ],
          "name": "stdout"
        },
        {
          "output_type": "stream",
          "text": [
            "\n"
          ],
          "name": "stderr"
        }
      ]
    },
    {
      "cell_type": "code",
      "metadata": {
        "colab_type": "code",
        "id": "_x7xOMnbfcWr",
        "colab": {}
      },
      "source": [
        "# Construct Datasets\n",
        "import torch\n",
        "from torch.utils.data import Dataset, RandomSampler, SequentialSampler, DataLoader\n",
        "\n",
        "class TensoredDataset(Dataset):\n",
        "    def __init__(self, list_of_lists_of_tokens):\n",
        "        self.input_tensors = []\n",
        "        self.target_tensors = []\n",
        "        \n",
        "        for sample in list_of_lists_of_tokens:\n",
        "            self.input_tensors.append(torch.tensor([sample[:-1]], dtype=torch.long))\n",
        "            self.target_tensors.append(torch.tensor([sample[1:]], dtype=torch.long))\n",
        "    \n",
        "    def __len__(self):\n",
        "        return len(self.input_tensors)\n",
        "    \n",
        "    def __getitem__(self, idx):\n",
        "        # return a (input, target) tuple\n",
        "        return (self.input_tensors[idx], self.target_tensors[idx])"
      ],
      "execution_count": 0,
      "outputs": []
    },
    {
      "cell_type": "code",
      "metadata": {
        "colab_type": "code",
        "id": "Aw1YalFTfcWu",
        "colab": {}
      },
      "source": [
        "def pad_list_of_tensors(list_of_tensors, pad_token):\n",
        "    max_length = max([t.size(-1) for t in list_of_tensors])\n",
        "    padded_list = []\n",
        "    \n",
        "    for t in list_of_tensors:\n",
        "        padded_tensor = torch.cat([t, torch.tensor([[pad_token]*(max_length - t.size(-1))], dtype=torch.long)], dim = -1)\n",
        "        padded_list.append(padded_tensor)\n",
        "        \n",
        "    padded_tensor = torch.cat(padded_list, dim=0)\n",
        "    \n",
        "    return padded_tensor\n",
        "\n",
        "def pad_collate_fn(batch):\n",
        "    # batch is a list of sample tuples\n",
        "    input_list = [s[0] for s in batch]\n",
        "    target_list = [s[1] for s in batch]\n",
        "    \n",
        "    #pad_token = wikitext_dict.get_id('<pad>')\n",
        "    pad_token = 2\n",
        "    \n",
        "    input_tensor = pad_list_of_tensors(input_list, pad_token)\n",
        "    target_tensor = pad_list_of_tensors(target_list, pad_token)\n",
        "    \n",
        "    return input_tensor, target_tensor"
      ],
      "execution_count": 0,
      "outputs": []
    },
    {
      "cell_type": "code",
      "metadata": {
        "colab_type": "code",
        "id": "W4qo745ffcWx",
        "outputId": "59b9cf49-0b98-4eb6-d15f-3db92133cb11",
        "colab": {
          "base_uri": "https://localhost:8080/",
          "height": 138
        }
      },
      "source": [
        "wikitext_tokenized_datasets = tokenize_dataset(datasets, wikitext_dict)\n",
        "wikitext_tensor_dataset = {}\n",
        "\n",
        "for split, listoflists in wikitext_tokenized_datasets.items():\n",
        "    wikitext_tensor_dataset[split] = TensoredDataset(listoflists)\n",
        "    \n",
        "# check the first example\n",
        "wikitext_tensor_dataset['train'][0]"
      ],
      "execution_count": 11,
      "outputs": [
        {
          "output_type": "stream",
          "text": [
            "100%|██████████| 78274/78274 [00:00<00:00, 96212.78it/s]\n",
            "100%|██████████| 8464/8464 [00:00<00:00, 131293.53it/s]\n",
            "100%|██████████| 9708/9708 [00:00<00:00, 117666.29it/s]\n"
          ],
          "name": "stderr"
        },
        {
          "output_type": "execute_result",
          "data": {
            "text/plain": [
              "(tensor([[ 0,  4,  5,  6,  7,  8,  9, 10, 11, 12, 13, 14,  4, 15, 16, 17, 18, 10,\n",
              "          19, 20, 21, 22, 23, 24, 25, 26, 27, 28, 29, 30, 31]]),\n",
              " tensor([[ 4,  5,  6,  7,  8,  9, 10, 11, 12, 13, 14,  4, 15, 16, 17, 18, 10, 19,\n",
              "          20, 21, 22, 23, 24, 25, 26, 27, 28, 29, 30, 31,  1]]))"
            ]
          },
          "metadata": {
            "tags": []
          },
          "execution_count": 11
        }
      ]
    },
    {
      "cell_type": "code",
      "metadata": {
        "colab_type": "code",
        "id": "OiahWa0lfcW1",
        "colab": {}
      },
      "source": [
        "wikitext_loaders = {}\n",
        "batch_size = 32\n",
        "for split, wikitext_dataset in wikitext_tensor_dataset.items():\n",
        "    wikitext_loaders[split] = DataLoader(wikitext_dataset, batch_size=batch_size, shuffle=True, collate_fn=pad_collate_fn)#, drop_last=True)"
      ],
      "execution_count": 0,
      "outputs": []
    },
    {
      "cell_type": "markdown",
      "metadata": {
        "colab_type": "text",
        "id": "2ak-71_1fcW5"
      },
      "source": [
        "### II.1 LSTM and Hyper-Parameters"
      ]
    },
    {
      "cell_type": "code",
      "metadata": {
        "colab_type": "code",
        "id": "dXh2hKp7fcW7",
        "colab": {}
      },
      "source": [
        "# making a FFNN model\n",
        "import torch\n",
        "import torch.nn as nn\n",
        "import torch.nn.functional as F\n",
        "import torch.optim as optim"
      ],
      "execution_count": 0,
      "outputs": []
    },
    {
      "cell_type": "code",
      "metadata": {
        "colab_type": "code",
        "id": "xRxfJc-EfcXC",
        "colab": {}
      },
      "source": [
        "import torch.nn as nn\n",
        "\n",
        "class RnnLM(nn.Module):\n",
        "    \"\"\"\n",
        "    This model combines embedding, rnn and projection layer into a single model\n",
        "    \"\"\"\n",
        "    def __init__(self, options):\n",
        "        super(RnnLM, self).__init__()\n",
        "        self.hidden_dim = options['hidden_dim']\n",
        "        self.vocab_size = options['vocab_size']\n",
        "        self.padding_idx = options['padding_idx']\n",
        "        self.num_layers = options['num_layers']\n",
        "        self.batch_first = options['batch_first'] # boolean\n",
        "        self.embed_dim = options['embed_dim']\n",
        "        self.p = options['dropout']\n",
        "        \n",
        "        # create each LM part here \n",
        "        self.lookup = nn.Embedding(self.vocab_size, self.embed_dim, self.padding_idx)\n",
        "        self.rnn = nn.RNN(self.embed_dim, self.hidden_dim, self.num_layers, dropout=self.p, batch_first=self.batch_first)\n",
        "        self.projection = nn.Linear(self.hidden_dim, self.vocab_size)\n",
        "        \n",
        "    def forward(self, encoded_input_sequence):\n",
        "        \"\"\"\n",
        "        Forward method process the input from token ids to logits\n",
        "        \"\"\"\n",
        "        embeddings = self.lookup(encoded_input_sequence)\n",
        "        rnn_outputs, states = self.rnn(embeddings)\n",
        "        logits = self.projection(rnn_outputs)\n",
        "        \n",
        "        return logits, states"
      ],
      "execution_count": 0,
      "outputs": []
    },
    {
      "cell_type": "code",
      "metadata": {
        "colab_type": "code",
        "id": "SMmYZceKfcXI",
        "colab": {}
      },
      "source": [
        "class LstmLM(torch.nn.Module):\n",
        "    def __init__(self, options):\n",
        "        '''\n",
        "        params:\n",
        "            @options: dictionary of model parameters\n",
        "        '''\n",
        "        super(LstmLM, self).__init__()\n",
        "        self.hidden_dim = options['hidden_dim']\n",
        "        self.vocab_size = options['vocab_size']\n",
        "        self.padding_idx = options['padding_idx']\n",
        "        self.num_layers = options['num_layers']\n",
        "        self.batch_first = options['batch_first'] # boolean\n",
        "        self.embed_dim = options['embed_dim']\n",
        "        self.p = options['dropout']\n",
        "        \n",
        "        self.lookup = nn.Embedding(self.vocab_size, self.embed_dim, self.padding_idx)\n",
        "        self.lstm = nn.LSTM(self.embed_dim, self.hidden_dim, self.num_layers, batch_first=self.batch_first, dropout=self.p) # lstm takes word embeddings as inputs and outputs hidden states (dim=hidden_dinm)\n",
        "        self.projection = nn.Linear(self.hidden_dim, self.vocab_size) # linear layer maps from hidden states to word space\n",
        "\n",
        "    def forward(self, encoded_input_sequence):\n",
        "        '''\n",
        "        Forwrad method process the input from token ids to logits\n",
        "        params:\n",
        "            @inp: input sentence\n",
        "        '''\n",
        "        embedded = self.lookup(encoded_input_sequence)\n",
        "        lstm_out, states = self.lstm(embedded)\n",
        "        logits = self.projection(lstm_out)\n",
        "        return logits, states"
      ],
      "execution_count": 0,
      "outputs": []
    },
    {
      "cell_type": "code",
      "metadata": {
        "colab_type": "code",
        "id": "jEbfMa_ffcXN",
        "colab": {}
      },
      "source": [
        "# defining what device to use\n",
        "num_gpus = torch.cuda.device_count()\n",
        "if num_gpus > 0:\n",
        "    current_device = 'cuda'\n",
        "else:\n",
        "    current_device = 'cpu'"
      ],
      "execution_count": 0,
      "outputs": []
    },
    {
      "cell_type": "markdown",
      "metadata": {
        "colab_type": "text",
        "id": "thrCgjyqfcXc"
      },
      "source": [
        "#### Results (LSTM vs. Baseline)"
      ]
    },
    {
      "cell_type": "code",
      "metadata": {
        "colab_type": "code",
        "id": "umLMmIAY2Zwm",
        "colab": {}
      },
      "source": [
        "def perplexity(loss):\n",
        "  '''\n",
        "  function that computes perplexity\n",
        "  '''\n",
        "  return 2**(loss/np.log(2))"
      ],
      "execution_count": 0,
      "outputs": []
    },
    {
      "cell_type": "code",
      "metadata": {
        "colab_type": "code",
        "id": "uHG18vvMfcXd",
        "colab": {}
      },
      "source": [
        "# now we make same training loop, now with dataset and the model\n",
        "def train_model(model, model_name, hyperparams, loaders, save=True):\n",
        "    '''\n",
        "    function to train neural  LM\n",
        "    params:\n",
        "        @model: LM object\n",
        "        @model_name: str\n",
        "        @hyperparams: dictionary of hyperparameters set for the model\n",
        "        @loaders: DataLoader\n",
        "    '''\n",
        "    print(\"Training {}:\".format(model_name))\n",
        "    \n",
        "    # criterion:\n",
        "    criterion = nn.CrossEntropyLoss(ignore_index=wikitext_dict.get_id('<pad>'))\n",
        "\n",
        "    PATH = model_name + '.pth'\n",
        "    if os.path.exists(PATH): # load pre-trained\n",
        "        print(\"PATH exists!\")\n",
        "        checkpoint = torch.load(PATH, map_location=current_device)\n",
        "        model.load_state_dict(checkpoint['model_state_dict'])\n",
        "        optimizer.load_state_dict(checkpoint['optimizer_state_dict'])\n",
        "    \n",
        "    else:\n",
        "      # optimizer:\n",
        "        model_params = [p for p in model.parameters() if p.requires_grad]\n",
        "        if hyperparams['optimizer'] == 'SGD':\n",
        "            optimizer = optim.SGD(model_params, lr=hyperparams['lr'], momentum=hyperparams['momentum'])\n",
        "        elif hyperparams['optimizer'] == 'Adam':\n",
        "            optimizer = optim.Adam(model_params, lr=hyperparams['lr'], weight_decay=hyperparams['weight_decay'])\n",
        "\n",
        "    plot_cache = []\n",
        "    num_epochs = hyperparams['num_epochs']\n",
        "\n",
        "    for epoch in range(num_epochs):\n",
        "        avg_loss=0\n",
        "        # do train\n",
        "        model.train()\n",
        "        train_log_cache = []\n",
        "        for i, (inp, target) in enumerate(loaders['train']):\n",
        "            optimizer.zero_grad()\n",
        "            inp = inp.to(current_device)\n",
        "            target = target.to(current_device)\n",
        "            logits, _ = model(inp)\n",
        "            # compute loss\n",
        "            loss = criterion(logits.view(-1, logits.size(-1)), target.view(-1))\n",
        "            # back-propogation\n",
        "            loss.backward()\n",
        "            # gradient clipping\n",
        "            nn.utils.clip_grad_norm_(model.parameters(), max_norm=5)\n",
        "            optimizer.step()\n",
        "            train_log_cache.append(loss.item()) # store training loss\n",
        "\n",
        "            if i % 1000 == 0:\n",
        "                avg_train_loss = sum(train_log_cache)/len(train_log_cache)\n",
        "                avg_train_perplexity = perplexity(avg_train_loss)\n",
        "                print('Step {} avg train loss = {:.{prec}f}'.format(i, avg_train_loss, prec=4))\n",
        "                print('Step {} avg train perplexity = {:.{prec}f}'.format(i, avg_train_perplexity, prec=4))\n",
        "                train_log_cache = []\n",
        "\n",
        "        #do validation\n",
        "        valid_losses = []\n",
        "        model.eval()\n",
        "        with torch.no_grad():\n",
        "            for i, (inp, target) in enumerate(loaders['valid']):\n",
        "                # current_batch_size = len(inp)\n",
        "                inp = inp.to(current_device)\n",
        "                target = target.to(current_device)\n",
        "                device = torch.device(\"cuda\")\n",
        "                logits, _ = model(inp)\n",
        "                # compute loss\n",
        "                loss = criterion(logits.view(-1, logits.size(-1)), target.view(-1))\n",
        "                valid_losses.append(loss.item()) # store validation loss\n",
        "            avg_val_loss = sum(valid_losses) / len(valid_losses)\n",
        "            avg_val_perplexity = perplexity(avg_val_loss)\n",
        "            print('Validation loss after {} epoch = {:.{prec}f}'.format(epoch, avg_val_loss, prec=4))\n",
        "            print('Validation perplexity after {} epoch = {:.{prec}f}'.format(epoch, avg_val_perplexity, prec=4))\n",
        "\n",
        "        plot_cache.append((avg_train_loss, avg_val_loss, avg_train_perplexity, avg_val_perplexity))\n",
        "        # # early stopping\n",
        "        # if len(plot_cache)>1:\n",
        "        #   np.abs((plot_cache[epoch][1] - plot_cache[epoch-1][1])/plot_cache[epoch-1][1]) <= 0.0005\n",
        "        #   print(\"Meets early stopping criteria: Finish training\")\n",
        "        #   return plot_cache\n",
        "    \n",
        "    if save:\n",
        "        torch.save({\n",
        "            'epoch':  hyperparams['num_epochs'],\n",
        "            'model_state_dict': model.state_dict(),\n",
        "            'optimizer_state_dict': optimizer.state_dict(),\n",
        "            'loss': plot_cache}, PATH)\n",
        "\n",
        "    print('Finished training')\n",
        "    return plot_cache, model"
      ],
      "execution_count": 0,
      "outputs": []
    },
    {
      "cell_type": "code",
      "metadata": {
        "colab_type": "code",
        "id": "7bYTI_8vfcXg",
        "colab": {}
      },
      "source": [
        "import matplotlib.pyplot as plt\n",
        "import numpy as np\n",
        "\n",
        "def plot_loss(losses):\n",
        "    epochs = np.array(list(range(len(losses))))\n",
        "    fig = plt.figure(figsize = (10,5))\n",
        "    axes = fig.subplots(nrows=1, ncols=2)\n",
        "    # plot losses\n",
        "    axes[0].plot(epochs, [i[0] for i in losses], label='Train loss')\n",
        "    axes[0].plot(epochs, [i[1] for i in losses], label='Val loss')\n",
        "    axes[0].set_title(\"Training and Validation losses over time\")\n",
        "    axes[0].set_xlabel(\"Steps\")\n",
        "    axes[0].set_ylabel(\"Losses\")\n",
        "    axes[0].legend(loc='best')\n",
        "    # plot training & validation accuracy\n",
        "    axes[1].plot(epochs, [i[2] for i in losses], label='Train Perplexity')\n",
        "    axes[1].plot(epochs, [i[3] for i in losses], label='Val Perplexity')\n",
        "    axes[1].set_title(\"Training and Validation perplexity over time\")\n",
        "    axes[1].set_xlabel(\"Steps\")\n",
        "    axes[1].set_ylabel(\"Perplexity\")\n",
        "    axes[1].legend(loc='best')"
      ],
      "execution_count": 0,
      "outputs": []
    },
    {
      "cell_type": "code",
      "metadata": {
        "colab_type": "code",
        "id": "hJvEVnWnfcXj",
        "outputId": "8ecfa878-5482-4fab-dd74-3613a826423a",
        "colab": {
          "base_uri": "https://localhost:8080/",
          "height": 1000
        }
      },
      "source": [
        "# RNN with baseline hyperparameters\n",
        "baseline_hyperparams = {\n",
        "    'optimizer': 'Adam',\n",
        "    'lr': 0.001,\n",
        "    'num_epochs': 5,\n",
        "    'weight_decay': 0\n",
        "}\n",
        "\n",
        "# define model parameters -- options\n",
        "embed_dim = 64\n",
        "hidden_dim = 128\n",
        "num_layers = 2\n",
        "dropout = 0.1\n",
        "options = {\n",
        "    'vocab_size': len(wikitext_dict),\n",
        "    'embed_dim': embed_dim,\n",
        "    'padding_idx': wikitext_dict.get_id('<pad>'),\n",
        "    'hidden_dim': hidden_dim,\n",
        "    'num_layers': num_layers,\n",
        "    'dropout': dropout,\n",
        "    'batch_first': True,\n",
        "}\n",
        "\n",
        "model_rnn = RnnLM(options).to(current_device)\n",
        "print(model_rnn)\n",
        "base_rnn_losses, base_rnn_model = train_model(model_rnn, \"RNN_LM\", baseline_hyperparams, wikitext_loaders)\n",
        "plot_loss(base_rnn_losses)"
      ],
      "execution_count": 220,
      "outputs": [
        {
          "output_type": "stream",
          "text": [
            "RnnLM(\n",
            "  (lookup): Embedding(33181, 64, padding_idx=2)\n",
            "  (rnn): RNN(64, 128, num_layers=2, batch_first=True, dropout=0.1)\n",
            "  (projection): Linear(in_features=128, out_features=33181, bias=True)\n",
            ")\n",
            "Training RNN_LM:\n",
            "Step 0 avg train loss = 10.4314\n",
            "Step 0 avg train perplexity = 33906.9573\n",
            "Step 1000 avg train loss = 6.6029\n",
            "Step 1000 avg train perplexity = 737.2661\n",
            "Step 2000 avg train loss = 6.0298\n",
            "Step 2000 avg train perplexity = 415.6216\n",
            "Validation loss after 0 epoch = 5.6886\n",
            "Validation perplexity after 0 epoch = 295.4835\n",
            "Step 0 avg train loss = 5.7626\n",
            "Step 0 avg train perplexity = 318.1845\n",
            "Step 1000 avg train loss = 5.6897\n",
            "Step 1000 avg train perplexity = 295.7977\n",
            "Step 2000 avg train loss = 5.6247\n",
            "Step 2000 avg train perplexity = 277.1936\n",
            "Validation loss after 1 epoch = 5.5111\n",
            "Validation perplexity after 1 epoch = 247.4128\n",
            "Step 0 avg train loss = 5.3291\n",
            "Step 0 avg train perplexity = 206.2526\n",
            "Step 1000 avg train loss = 5.4101\n",
            "Step 1000 avg train perplexity = 223.6511\n",
            "Step 2000 avg train loss = 5.3936\n",
            "Step 2000 avg train perplexity = 220.0035\n",
            "Validation loss after 2 epoch = 5.4577\n",
            "Validation perplexity after 2 epoch = 234.5617\n",
            "Step 0 avg train loss = 5.3613\n",
            "Step 0 avg train perplexity = 212.9949\n",
            "Step 1000 avg train loss = 5.2264\n",
            "Step 1000 avg train perplexity = 186.1124\n",
            "Step 2000 avg train loss = 5.2477\n",
            "Step 2000 avg train perplexity = 190.1377\n",
            "Validation loss after 3 epoch = 5.3985\n",
            "Validation perplexity after 3 epoch = 221.0670\n",
            "Step 0 avg train loss = 5.3698\n",
            "Step 0 avg train perplexity = 214.8265\n",
            "Step 1000 avg train loss = 5.1007\n",
            "Step 1000 avg train perplexity = 164.1386\n",
            "Step 2000 avg train loss = 5.1250\n",
            "Step 2000 avg train perplexity = 168.1757\n",
            "Validation loss after 4 epoch = 5.3755\n",
            "Validation perplexity after 4 epoch = 216.0463\n",
            "Step 0 avg train loss = 5.0328\n",
            "Step 0 avg train perplexity = 153.3586\n",
            "Step 1000 avg train loss = 4.9967\n",
            "Step 1000 avg train perplexity = 147.9258\n",
            "Step 2000 avg train loss = 5.0356\n",
            "Step 2000 avg train perplexity = 153.7850\n",
            "Validation loss after 5 epoch = 5.3444\n",
            "Validation perplexity after 5 epoch = 209.4268\n",
            "Step 0 avg train loss = 4.7342\n",
            "Step 0 avg train perplexity = 113.7678\n",
            "Step 1000 avg train loss = 4.9126\n",
            "Step 1000 avg train perplexity = 135.9873\n",
            "Step 2000 avg train loss = 4.9574\n",
            "Step 2000 avg train perplexity = 142.2269\n",
            "Validation loss after 6 epoch = 5.3398\n",
            "Validation perplexity after 6 epoch = 208.4713\n",
            "Step 0 avg train loss = 4.6986\n",
            "Step 0 avg train perplexity = 109.7950\n",
            "Step 1000 avg train loss = 4.8475\n",
            "Step 1000 avg train perplexity = 127.4268\n",
            "Step 2000 avg train loss = 4.8903\n",
            "Step 2000 avg train perplexity = 132.9944\n",
            "Validation loss after 7 epoch = 5.3378\n",
            "Validation perplexity after 7 epoch = 208.0450\n",
            "Step 0 avg train loss = 4.7618\n",
            "Step 0 avg train perplexity = 116.9517\n",
            "Step 1000 avg train loss = 4.7869\n",
            "Step 1000 avg train perplexity = 119.9255\n",
            "Step 2000 avg train loss = 4.8341\n",
            "Step 2000 avg train perplexity = 125.7204\n",
            "Validation loss after 8 epoch = 5.3439\n",
            "Validation perplexity after 8 epoch = 209.3258\n",
            "Step 0 avg train loss = 4.8154\n",
            "Step 0 avg train perplexity = 123.3963\n",
            "Step 1000 avg train loss = 4.7269\n",
            "Step 1000 avg train perplexity = 112.9426\n",
            "Step 2000 avg train loss = 4.7911\n",
            "Step 2000 avg train perplexity = 120.4382\n",
            "Validation loss after 9 epoch = 5.3535\n",
            "Validation perplexity after 9 epoch = 211.3404\n",
            "Finished training\n"
          ],
          "name": "stdout"
        },
        {
          "output_type": "display_data",
          "data": {
            "image/png": "[encoded data removed]",
            "text/plain": [
              "<Figure size 720x360 with 2 Axes>"
            ]
          },
          "metadata": {
            "tags": []
          }
        }
      ]
    },
    {
      "cell_type": "markdown",
      "metadata": {
        "colab_type": "text",
        "id": "veibMk9afcXp"
      },
      "source": [
        "#### Performance Variation Based on Hyperparameter Values"
      ]
    },
    {
      "cell_type": "code",
      "metadata": {
        "colab_type": "code",
        "id": "zC4kjNcnr3w1",
        "outputId": "d8ca0b63-c61f-4539-f061-bc6689d9d483",
        "colab": {
          "base_uri": "https://localhost:8080/",
          "height": 884
        }
      },
      "source": [
        "from sklearn.model_selection import ParameterGrid\n",
        "from collections import defaultdict\n",
        "\n",
        "# Fine tuning hyperparameters for LSTM\n",
        "# fine tune: regularization\n",
        "embed_dim = [64]\n",
        "hidden_dim = [150]\n",
        "num_layers = [2]\n",
        "dropout = [0.1]\n",
        "options = {\n",
        "    'vocab_size': [len(wikitext_dict)],\n",
        "    'embed_dim': embed_dim,\n",
        "    'padding_idx': [wikitext_dict.get_id('<pad>')],\n",
        "    'hidden_dim': hidden_dim,\n",
        "    'num_layers': num_layers,\n",
        "    'dropout': dropout,\n",
        "    'batch_first': [True],\n",
        "}\n",
        "\n",
        "regularized_hyperparams = {\n",
        "    'optimizer': ['Adam'],\n",
        "    'lr': [0.001],\n",
        "    'num_epochs': [5],\n",
        "    'weight_decay': [0]\n",
        "}\n",
        "\n",
        "finetune_res = {}\n",
        "i=0\n",
        "for option in ParameterGrid(options):\n",
        "    for hyperparam in ParameterGrid(regularized_hyperparams):\n",
        "        model_lstm_tuned = LstmLM(option).to(current_device)\n",
        "        print(model_lstm_tuned)\n",
        "        print('option: ', option)\n",
        "        print('hyperparam: ', hyperparam)\n",
        "        # train\n",
        "        model_name = 'LSTM_Finetuned_' + str(i)\n",
        "        PATH = model_name + '.pth'\n",
        "        finetune_lstm_losses, finetune_lstm_model = train_model(model_lstm_tuned, model_name, hyperparam, wikitext_loaders)\n",
        "        finetune_res[model_name]=(finetune_lstm_model, {**option, **hyperparam}, finetune_lstm_losses)\n",
        "        i+=1"
      ],
      "execution_count": 21,
      "outputs": [
        {
          "output_type": "stream",
          "text": [
            "LstmLM(\n",
            "  (lookup): Embedding(33181, 64, padding_idx=2)\n",
            "  (lstm): LSTM(64, 150, num_layers=2, batch_first=True, dropout=0.1)\n",
            "  (projection): Linear(in_features=150, out_features=33181, bias=True)\n",
            ")\n",
            "option:  {'batch_first': True, 'dropout': 0.1, 'embed_dim': 64, 'hidden_dim': 150, 'num_layers': 2, 'padding_idx': 2, 'vocab_size': 33181}\n",
            "hyperparam:  {'lr': 0.001, 'num_epochs': 5, 'optimizer': 'Adam', 'weight_decay': 0}\n",
            "Training LSTM_Finetuned_0:\n",
            "Step 0 avg train loss = 10.4056\n",
            "Step 0 avg train perplexity = 33044.2369\n",
            "Step 1000 avg train loss = 6.8874\n",
            "Step 1000 avg train perplexity = 979.8819\n",
            "Step 2000 avg train loss = 6.2637\n",
            "Step 2000 avg train perplexity = 525.1803\n",
            "Validation loss after 0 epoch = 5.8435\n",
            "Validation perplexity after 0 epoch = 344.9678\n",
            "Step 0 avg train loss = 5.9578\n",
            "Step 0 avg train perplexity = 386.7751\n",
            "Step 1000 avg train loss = 5.8660\n",
            "Step 1000 avg train perplexity = 352.8362\n",
            "Step 2000 avg train loss = 5.7300\n",
            "Step 2000 avg train perplexity = 307.9746\n",
            "Validation loss after 1 epoch = 5.5413\n",
            "Validation perplexity after 1 epoch = 255.0208\n",
            "Step 0 avg train loss = 5.4527\n",
            "Step 0 avg train perplexity = 233.3955\n",
            "Step 1000 avg train loss = 5.5126\n",
            "Step 1000 avg train perplexity = 247.8014\n",
            "Step 2000 avg train loss = 5.4606\n",
            "Step 2000 avg train perplexity = 235.2367\n",
            "Validation loss after 2 epoch = 5.4128\n",
            "Validation perplexity after 2 epoch = 224.2505\n",
            "Step 0 avg train loss = 5.2795\n",
            "Step 0 avg train perplexity = 196.2627\n",
            "Step 1000 avg train loss = 5.2835\n",
            "Step 1000 avg train perplexity = 197.0640\n",
            "Step 2000 avg train loss = 5.2546\n",
            "Step 2000 avg train perplexity = 191.4423\n",
            "Validation loss after 3 epoch = 5.3505\n",
            "Validation perplexity after 3 epoch = 210.7035\n",
            "Step 0 avg train loss = 4.9762\n",
            "Step 0 avg train perplexity = 144.9295\n",
            "Step 1000 avg train loss = 5.1097\n",
            "Step 1000 avg train perplexity = 165.6185\n",
            "Step 2000 avg train loss = 5.1009\n",
            "Step 2000 avg train perplexity = 164.1731\n",
            "Validation loss after 4 epoch = 5.3067\n",
            "Validation perplexity after 4 epoch = 201.6852\n",
            "Finished training\n"
          ],
          "name": "stdout"
        }
      ]
    },
    {
      "cell_type": "code",
      "metadata": {
        "id": "2MyUMqOcCSGc",
        "colab_type": "code",
        "colab": {
          "base_uri": "https://localhost:8080/",
          "height": 350
        },
        "outputId": "6f8886e7-61a6-4901-88ad-cf6a4d5eb730"
      },
      "source": [
        "plot_loss(finetune_lstm_losses)"
      ],
      "execution_count": 194,
      "outputs": [
        {
          "output_type": "display_data",
          "data": {
            "image/png": "[encoded data removed]",
            "text/plain": [
              "<Figure size 720x360 with 2 Axes>"
            ]
          },
          "metadata": {
            "tags": []
          }
        }
      ]
    },
    {
      "cell_type": "code",
      "metadata": {
        "colab_type": "code",
        "id": "jayNuTfjHYs-",
        "colab": {}
      },
      "source": [
        "# find best comb (lowest validation loss)\n",
        "# sorted(finetune_res.items(), key=lambda x: x[1][1][-1][1])[0]\n",
        "best_model=model_lstm_tuned"
      ],
      "execution_count": 0,
      "outputs": []
    },
    {
      "cell_type": "markdown",
      "metadata": {
        "colab_type": "text",
        "id": "-bO3PC2KfcXs"
      },
      "source": [
        "### II.2 Learned Embeddings"
      ]
    },
    {
      "cell_type": "markdown",
      "metadata": {
        "colab_type": "text",
        "id": "9Jh1-FBYfcXt"
      },
      "source": [
        "#### Utilities\n",
        "\n",
        "Below is code to use [UMAP](https://umap-learn.readthedocs.io/en/latest/) to find a 2-dimensional representation of a weight matrix, and plot the resulting 2-dimensional points that correspond to certain words.\n",
        "\n",
        "Use `!pip install umap-learn` to install UMAP."
      ]
    },
    {
      "cell_type": "code",
      "metadata": {
        "colab_type": "code",
        "id": "f_cq4NDNTTh0",
        "colab": {}
      },
      "source": [
        "try:\n",
        "    import umap\n",
        "except:\n",
        "    !pip install umap-learn"
      ],
      "execution_count": 0,
      "outputs": []
    },
    {
      "cell_type": "code",
      "metadata": {
        "colab_type": "code",
        "id": "Qc2COexlfcXt",
        "outputId": "2f4d3e9b-241e-4b0d-f36e-3efdd3979cca",
        "colab": {
          "base_uri": "https://localhost:8080/",
          "height": 106
        }
      },
      "source": [
        "%pylab inline \n",
        "import matplotlib.pyplot as plt\n",
        "\n",
        "def umap_plot(weight_matrix, word_ids, words):\n",
        "    \"\"\"Run UMAP on the entire Vxd `weight_matrix` (e.g. model.lookup.weight or model.projection.weight),\n",
        "    And plot the points corresponding to the given `word_ids`. \"\"\"\n",
        "    reduced = umap.UMAP(min_dist=0.0001).fit_transform(weight_matrix.detach().cpu().numpy())\n",
        "    plt.figure(figsize=(20,20))\n",
        "\n",
        "    to_plot = reduced[word_ids, :]\n",
        "    plt.scatter(to_plot[:, 0], to_plot[:, 1])\n",
        "    for i, word_id in enumerate(word_ids):\n",
        "        current_point = to_plot[i]\n",
        "        plt.annotate(words[i], (current_point[0], current_point[1]))\n",
        "\n",
        "    plt.grid()\n",
        "    plt.show()"
      ],
      "execution_count": 24,
      "outputs": [
        {
          "output_type": "stream",
          "text": [
            "Populating the interactive namespace from numpy and matplotlib\n"
          ],
          "name": "stdout"
        },
        {
          "output_type": "stream",
          "text": [
            "/usr/local/lib/python3.6/dist-packages/IPython/core/magics/pylab.py:161: UserWarning: pylab import has clobbered these variables: ['split']\n",
            "`%matplotlib` prevents importing * from pylab and numpy\n",
            "  \"\\n`%matplotlib` prevents importing * from pylab and numpy\"\n"
          ],
          "name": "stderr"
        }
      ]
    },
    {
      "cell_type": "code",
      "metadata": {
        "colab_type": "code",
        "id": "EsPkFZOkfcXw",
        "outputId": "1e4595a9-f819-46ac-c03c-6307d268f613",
        "colab": {
          "base_uri": "https://localhost:8080/",
          "height": 1000
        }
      },
      "source": [
        "Vsize = 100                                 # e.g. len(dictionary)\n",
        "d = 32                                      # e.g. model.lookup.weight.size(1) \n",
        "fake_weight_matrix = torch.randn(Vsize, d)  # e.g. model.lookup.weight\n",
        "\n",
        "words = ['the', 'dog', 'ran']\n",
        "word_ids = [4, 54, 20]                  # e.g. use dictionary.get_id on a list of words\n",
        "\n",
        "umap_plot(fake_weight_matrix, word_ids, words)"
      ],
      "execution_count": 89,
      "outputs": [
        {
          "output_type": "display_data",
          "data": {
            "image/png": "[encoded data removed]",
            "text/plain": [
              "<Figure size 1440x1440 with 1 Axes>"
            ]
          },
          "metadata": {
            "tags": []
          }
        }
      ]
    },
    {
      "cell_type": "markdown",
      "metadata": {
        "colab_type": "text",
        "id": "2LJWwkZcfcXy"
      },
      "source": [
        "#### II.2.1 Word Similarity"
      ]
    },
    {
      "cell_type": "code",
      "metadata": {
        "colab_type": "code",
        "id": "ioLIuLUvfcX0",
        "colab": {}
      },
      "source": [
        "from scipy import spatial\n",
        "\n",
        "def compute_cosine_similarity(emb_matrix, word):\n",
        "    if current_device == 'CUDA':\n",
        "        emb_matrix = emb_matrix.cpu()\n",
        "    word_idx = wikitext_dict.get_id(word)\n",
        "    row_distance = torch.mv(emb_matrix, emb_matrix[word_idx])\n",
        "    # set the corresponding index of row distance of that word to 0 (cuz the same word must be the closest the word)\n",
        "    row_distance[word_idx] = 0\n",
        "    return row_distance"
      ],
      "execution_count": 0,
      "outputs": []
    },
    {
      "cell_type": "code",
      "metadata": {
        "colab_type": "code",
        "id": "9u2IQKseLPw9",
        "outputId": "f6fa32bc-ef9a-4443-9458-7f71da9ea250",
        "colab": {
          "base_uri": "https://localhost:8080/",
          "height": 383
        }
      },
      "source": [
        "PATH = 'LSTM_Finetuned_0.pth'\n",
        "best_model_dict = torch.load(PATH, map_location=current_device)\n",
        "emb_matrix = best_model_dict['model_state_dict']['lookup.weight']\n",
        "words = ['the', 'run', 'dog', 'where', 'quick']\n",
        "words_ids = [wikitext_dict.get_id(i) for i in words]\n",
        "all_closest_words = []\n",
        "all_far_words = []\n",
        "for word in words:\n",
        "    closest_words = []\n",
        "    furtherest_words = []\n",
        "    row_distance = compute_cosine_similarity(emb_matrix, word)\n",
        "    if current_device == 'cuda':\n",
        "        row_distance=row_distance.cpu()\n",
        "    for i in row_distance.numpy().argsort()[-10:][::-1]:\n",
        "        closest_words.append(wikitext_dict.get_token(i))\n",
        "    for i in row_distance.numpy().argsort()[:10]:\n",
        "        furtherest_words.append(wikitext_dict.get_token(i))\n",
        "    all_closest_words += closest_words\n",
        "    all_far_words += furtherest_words\n",
        "    print(\"\\nFor <{}>:\".format(word))\n",
        "    print(\"the most similar words are: \", closest_words)\n",
        "    print(\"the least similar words are: \", furtherest_words)"
      ],
      "execution_count": 94,
      "outputs": [
        {
          "output_type": "stream",
          "text": [
            "\n",
            "For <the>:\n",
            "the most similar words are:  ['Galilean', 'tropical', 'L.', 'facial', 'Provisional', 'whose', 'ossified', 'their', 'prebendary', 'arid']\n",
            "the least similar words are:  ['contraction', 'belongs', 'amount', 'recognition', 'Consequently', 'refer', 'accusation', 'due', 'tenths', 'arcades']\n",
            "\n",
            "For <run>:\n",
            "the most similar words are:  ['lukewarm', 'herbs', 'surrounded', 'vacations', 'Tools', 'grinder', 'unable', 'culminating', 'anatomy', 'Fat']\n",
            "the least similar words are:  ['Score', 'Hidalgo', 'invaders', 'rimu', 'may', 'Grand', 'later', 'Libya', 'Get', 'professionalisation']\n",
            "\n",
            "For <dog>:\n",
            "the most similar words are:  ['Em', 'Vickie', 'realised', 'attested', 'MOBA', 'PCG', 'Krasinski', 'docile', '979', 'Woody']\n",
            "the least similar words are:  ['faintest', 'sandwich', 'shrine', 'mm', 'Unofficial', 'exemplifies', 'kāla', 'Rarely', 'Communist', 'eighties']\n",
            "\n",
            "For <where>:\n",
            "the most similar words are:  ['as', 'attributes', 'representing', 'while', 'rendezvous', 'dislikes', 'commissioned', 'endorsed', 'Marge', 'Kaaba']\n",
            "the least similar words are:  ['.', '%', 'number', 'stewardship', 'Quonset', 'lifespan', 'Easy', 'portions', '?', 'modular']\n",
            "\n",
            "For <quick>:\n",
            "the most similar words are:  ['generates', 'Huang', 'L.', 'Rex', 'Ithaca', 'romantic', 'Kentucky', 'constable', 'Assyrian', 'relaunched']\n",
            "the least similar words are:  ['councils', 'exons', 'depletion', 'spectra', 'Avi', 'part', 'interacted', 'wings', 'decisions', 'showdown']\n"
          ],
          "name": "stdout"
        }
      ]
    },
    {
      "cell_type": "markdown",
      "metadata": {
        "colab_type": "text",
        "id": "B64VdHasfcX4"
      },
      "source": [
        "#### II.2.2 Embedding Layer"
      ]
    },
    {
      "cell_type": "code",
      "metadata": {
        "colab_type": "code",
        "id": "22lYpwzsfcX5",
        "colab": {
          "base_uri": "https://localhost:8080/",
          "height": 1000
        },
        "outputId": "23792dc0-705d-413e-b412-4766a4928af1"
      },
      "source": [
        "words_selected = words + all_closest_words + all_far_words\n",
        "words_selected_ids = [wikitext_dict.get_id(i) for i in words_selected]\n",
        "umap_plot(emb_matrix, words_selected_ids, words_selected)"
      ],
      "execution_count": 96,
      "outputs": [
        {
          "output_type": "display_data",
          "data": {
            "image/png": "[encoded data removed]",
            "text/plain": [
              "<Figure size 1440x1440 with 1 Axes>"
            ]
          },
          "metadata": {
            "tags": []
          }
        }
      ]
    },
    {
      "cell_type": "markdown",
      "metadata": {
        "colab_type": "text",
        "id": "6aDwB3jHfcYA"
      },
      "source": [
        "#### II.2.3 Projection Layer"
      ]
    },
    {
      "cell_type": "code",
      "metadata": {
        "id": "ZJayqdsGr2Rm",
        "colab_type": "code",
        "colab": {
          "base_uri": "https://localhost:8080/",
          "height": 296
        },
        "outputId": "b0a5bde3-8283-4725-f615-e00abe3f34a2"
      },
      "source": [
        "emb_matrix2 = best_model_dict['model_state_dict']['projection.weight']\n",
        "all_closest_words2 = []\n",
        "all_far_words2 = []\n",
        "for word in words:\n",
        "  closest_words2 = []\n",
        "  furtherest_words2 = []\n",
        "  row_distance = compute_cosine_similarity(emb_matrix2, word)\n",
        "  if current_device == 'cuda':\n",
        "    row_distance=row_distance.cpu()\n",
        "  for i in row_distance.numpy().argsort()[-10:][::-1]:\n",
        "    closest_words2.append(wikitext_dict.get_token(i))\n",
        "  for i in row_distance.numpy().argsort()[:10]:\n",
        "    furtherest_words2.append(wikitext_dict.get_token(i))\n",
        "  all_closest_words2 += closest_words2\n",
        "  all_far_words2 += furtherest_words2\n",
        "  print(\"For {}:\".format(word))\n",
        "  print(\"the most similar words are: \", closest_words2)\n",
        "  print(\"the least similar words are: \", furtherest_words2)\n",
        "\n",
        "words_selected2 = words + all_closest_words2 + all_far_words2\n",
        "words_selected_ids2 = [wikitext_dict.get_id(i) for i in words_selected2]"
      ],
      "execution_count": 185,
      "outputs": [
        {
          "output_type": "stream",
          "text": [
            "For the:\n",
            "the most similar words are:  ['a', 'deploying', 'its', 'his', 'their', 'an', '1518', 'violating', 'precedence', 'her']\n",
            "the least similar words are:  ['Porvenir', 'Rosada', 'Trismegistus', 'Stepmother', 'Escorial', 'Franchomme', 'Breaks', 'Sturmovik', 'Cheò', '118th']\n",
            "For run:\n",
            "the most similar words are:  ['Unofficial', 'ovation', 'sip', 'amenable', 'Posse', 'Bigger', 'quarterfinal', 'activate', 'Convergence', 'populous']\n",
            "the least similar words are:  ['I', '<', ',', ':', 'of', 'they', 'the', 'shear', '<eos>', 'Woolf']\n",
            "For dog:\n",
            "the most similar words are:  ['Bigger', 'Unofficial', 'monophyletic', 'amenable', 'withering', 'tama', 'persuasive', 'larva', 'sip', 'Hernia']\n",
            "the least similar words are:  ['the', ',', 'and', '<unk>', 'in', 'that', 'a', '\"', 'I', '@-@']\n",
            "For where:\n",
            "the most similar words are:  ['Iguanodontia', 'Ryūnosuke', 'whatsoever', 'Buoy', 'straying', 'pledging', 'dreamed', 'registering', 'comburendo', 'trustworthy']\n",
            "the least similar words are:  ['Tobe', 'Midsummer', 'girlfriends', 'Abierto', 'seral', 'idols', \"'Pol\", \"'l\", 'nutritional', 'dredges']\n",
            "For quick:\n",
            "the most similar words are:  ['Bigger', 'monophyletic', 'amenable', 'annum', 'capita', 'sip', 'disrepair', 'vow', 'disuse', 'gravitationally']\n",
            "the least similar words are:  [',', 'and', 'I', 'were', 'was', '<unk>', 'in', 'is', '(', '\"']\n"
          ],
          "name": "stdout"
        }
      ]
    },
    {
      "cell_type": "code",
      "metadata": {
        "colab_type": "code",
        "outputId": "c8da3a68-3fd4-4ca8-fd06-737d1e492dd1",
        "id": "Dvo94bDR-8zR",
        "colab": {
          "base_uri": "https://localhost:8080/",
          "height": 1000
        }
      },
      "source": [
        "%timeit\n",
        "umap_plot(emb_matrix2.cpu().detach(), words_selected_ids2, words_selected2)"
      ],
      "execution_count": 186,
      "outputs": [
        {
          "output_type": "stream",
          "text": [
            "/usr/local/lib/python3.6/dist-packages/umap/spectral.py:229: UserWarning: Embedding a total of 2 separate connected components using meta-embedding (experimental)\n",
            "  n_components\n"
          ],
          "name": "stderr"
        },
        {
          "output_type": "display_data",
          "data": {
            "image/png": "[encoded data removed]",
            "text/plain": [
              "<Figure size 1440x1440 with 1 Axes>"
            ]
          },
          "metadata": {
            "tags": []
          }
        }
      ]
    },
    {
      "cell_type": "markdown",
      "metadata": {
        "colab_type": "text",
        "id": "-q_6ZeVbfcYD"
      },
      "source": [
        "Discussion of Results:"
      ]
    },
    {
      "cell_type": "markdown",
      "metadata": {
        "colab_type": "text",
        "id": "HtgckC9xfcYD"
      },
      "source": [
        "\n",
        "### II.3 Scoring"
      ]
    },
    {
      "cell_type": "code",
      "metadata": {
        "id": "QyWznEG4f4e3",
        "colab_type": "code",
        "colab": {}
      },
      "source": [
        "def compute_seq_score(seq, model):\n",
        "  seq_id = wikitext_dict.encode_token_seq(seq)\n",
        "  inp = [[wikitext_dict.get_id(\"<bos>\")]+seq_id]\n",
        "  target = seq_id + [wikitext_dict.get_id(\"<eos>\")]\n",
        "\n",
        "  with torch.no_grad():\n",
        "    model.eval()\n",
        "    logits, _ = model(torch.tensor(inp, dtype=torch.long).to(current_device))\n",
        "    # print(logits.shape)\n",
        "\n",
        "  score = 0\n",
        "  for idx in range(len(target)):\n",
        "    prob = F.log_softmax(logits[0, idx], dim = -1)\n",
        "    word_prob = prob[target[idx]]\n",
        "    score += word_prob\n",
        "  \n",
        "  return score"
      ],
      "execution_count": 0,
      "outputs": []
    },
    {
      "cell_type": "markdown",
      "metadata": {
        "colab_type": "text",
        "id": "7MDN0NX4fcYH"
      },
      "source": [
        "#### II.3.2 \n",
        "Highest and Lowest scoring sequences"
      ]
    },
    {
      "cell_type": "code",
      "metadata": {
        "colab_type": "code",
        "id": "Jpkn6pkMfcYE",
        "colab": {}
      },
      "source": [
        "scores = {} # key: sequence, value: score\n",
        "for seq in datasets['valid']:\n",
        "  scores[\" \".join(seq)] = compute_seq_score(seq, best_model)"
      ],
      "execution_count": 0,
      "outputs": []
    },
    {
      "cell_type": "code",
      "metadata": {
        "colab_type": "code",
        "id": "oMBtQSr5ShyS",
        "colab": {}
      },
      "source": [
        "top_scores = {seq:score for (seq, score) in sorted(scores.items(), key=lambda x: x[1], reverse=True)[:10]}\n",
        "lowest_scores = {seq: score for (seq, score) in sorted(scores.items(), key=lambda x: x[1])[:10]}"
      ],
      "execution_count": 0,
      "outputs": []
    },
    {
      "cell_type": "code",
      "metadata": {
        "id": "iV7VhUDVnxpe",
        "colab_type": "code",
        "colab": {
          "base_uri": "https://localhost:8080/",
          "height": 190
        },
        "outputId": "56cede4e-0da0-4024-d591-c4dd54741167"
      },
      "source": [
        "top_scores"
      ],
      "execution_count": 64,
      "outputs": [
        {
          "output_type": "execute_result",
          "data": {
            "text/plain": [
              "{'= = = <unk> from the stage = = =': tensor(-28.2707, device='cuda:0'),\n",
              " '= = = Army returns = = =': tensor(-26.9778, device='cuda:0'),\n",
              " '= = = Hit list = = =': tensor(-26.7051, device='cuda:0'),\n",
              " '= = = Scientology sources = = =': tensor(-24.4416, device='cuda:0'),\n",
              " '= = Culture and the arts = =': tensor(-29.0972, device='cuda:0'),\n",
              " '= = Early life and education = =': tensor(-22.5725, device='cuda:0'),\n",
              " '= = Post @-@ war career = =': tensor(-20.3305, device='cuda:0'),\n",
              " '= = Post @-@ war period = =': tensor(-21.2977, device='cuda:0'),\n",
              " '= = Return to New Zealand = =': tensor(-28.6081, device='cuda:0'),\n",
              " 'unk> in the second half of the 7th century .': tensor(-27.5374, device='cuda:0')}"
            ]
          },
          "metadata": {
            "tags": []
          },
          "execution_count": 64
        }
      ]
    },
    {
      "cell_type": "code",
      "metadata": {
        "colab_type": "code",
        "id": "T5U6hOImfcYI",
        "colab": {
          "base_uri": "https://localhost:8080/",
          "height": 210
        },
        "outputId": "a1a89fa2-d28a-4041-9dec-4552159cee41"
      },
      "source": [
        "lowest_scores"
      ],
      "execution_count": 65,
      "outputs": [
        {
          "output_type": "execute_result",
          "data": {
            "text/plain": [
              "{'> Zeitung , noted that <unk> <unk> , a German Christian theologian , director of the Hannah <unk> Institute for Research into <unk> in Dresden and recipient of an honorary doctorate from Lund University , Sweden , for his <unk> of religious freedom , had been pressured to <unk> publication of his scientific study of Scientology after having found himself the subject of widespread criticism in the German media for advocating a more tolerant attitude towards Scientology .': tensor(-461.7574, device='cuda:0'),\n",
              " 'Adrien Begrand of PopMatters remarked that \" There \\'s no better song to kick things off than the <unk> \\' Angel of Death \\' , one of the most monumental songs in metal history , where guitarists Kerry King and Jeff Hanneman deliver their intricate riffs , drummer Dave Lombardo performs some of the most powerful drumming ever recorded , and bassist / vocalist Tom Araya screams and <unk>': tensor(-448.1323, device='cuda:0'),\n",
              " 'Besides the <unk> anime and manga , <unk> is featured in seven of the featured films in the series : in the second film , he aids <unk> <unk> and <unk> <unk> in fighting against <unk> , a <unk> idealist seeking to rule the world with a power called <unk> ; in the fourth , <unk> appears in a brief sequence , fighting against a large group of stone soldiers ; in the fifth , <unk> is sent alongside <unk> and <unk> in search of the base of the Land of Sky , who plans to invade <unk>': tensor(-494.3195, device='cuda:0'),\n",
              " 'Erin Fox of TV Guide also liked \" The Same Old Story \" better than the pilot because she thought that it \" had really cool special effects , awesome Walter @-@ <unk> , and actual chemistry forming between Olivia and Peter \" , and \" we also got to <unk> more into the connections between Walter , Nina Sharp , Massive Dynamic and the government and the experiments they conducted before Walter was <unk> \" .': tensor(-477.1877, device='cuda:0'),\n",
              " \"It asserted that several rejection letters which the woman had submitted as part of her <unk> application – ostensibly from potential employers who were rejecting her because she was a Scientologist – had in fact been written by fellow Scientologists at her request and that of Scientology 's Office of Special Affairs , and that she was in personal financial trouble and about to go on trial for tax <unk> at the time she applied for <unk> .\": tensor(-458.9627, device='cuda:0'),\n",
              " 'Officials of the strictly amateur Rugby Football Union ( RFU ) had become increasingly concerned at the behaviour of the New Zealanders , regarding them as unsportsmanlike , and tensions reached a nadir in the aftermath of the England international , during which the RFU secretary George Rowland Hill , <unk> the game , awarded a number of controversial tries to England , prompting three of the <unk> to temporarily leave the field in protest ; England eventually won 7 – 0 .': tensor(-453.9218, device='cuda:0'),\n",
              " 'The Meridian Post Office with its interior done entirely of bronze and Verde marble is also noteworthy as a very fine example of the type of Post Office structures built in thriving and well to do cities in the 1920s and originally had <unk> lighting which was removed sadly during a 1960s <unk> and which are now in private residences on <unk> Springs Drive and in North Hills .': tensor(-464.0458, device='cuda:0'),\n",
              " 'The letter was conceived and paid for by Hollywood lawyer <unk> Fields , whose clients have included Tom Cruise and John <unk> , and was signed by 34 prominent figures in the U.S. entertainment industry , including the top executives of MGM , Warner Bros. , Paramount , Universal and Sony Pictures Entertainment as well as actors Dustin Hoffman and Goldie <unk> , director Oliver Stone , writers Mario <unk> and <unk> Vidal and talk @-@ show host Larry King .': tensor(-540.4042, device='cuda:0'),\n",
              " 'To further justify its stance , the German government has also pointed to the long history of U.S. court cases involving Scientology , including the conviction of 11 top Scientologists in 1979 and 1980 for a conspiracy involving the infiltration of U.S. government agencies , <unk> and the theft of government documents , a 1994 U.S. Supreme Court finding that Scientology practices took place in a \" <unk> environment \" , and Scientology \\'s track record of pursuing its critics through malicious court cases and private investigators .': tensor(-566.7698, device='cuda:0'),\n",
              " \"Two rival communist @-@ backed black nationalist groups initiated military campaigns to overthrow the government and introduce majority rule : the Chinese @-@ aligned Zimbabwe African National Union ( <unk> ) , mostly comprising <unk> , created the Zimbabwe African National Liberation Army ( ZANLA ) and adopted aspects of <unk> doctrine , while the <unk> @-@ dominated Zimbabwe African People 's Union ( <unk> ) , aligned with Soviet @-@ style <unk> – <unk> and the Warsaw Pact , mobilised the Zimbabwe People 's Revolutionary Army ( <unk> ) .\": tensor(-565.5432, device='cuda:0')}"
            ]
          },
          "metadata": {
            "tags": []
          },
          "execution_count": 65
        }
      ]
    },
    {
      "cell_type": "markdown",
      "metadata": {
        "colab_type": "text",
        "id": "bvfYp0nHfcYS"
      },
      "source": [
        "#### II.3.3 Modified sequences"
      ]
    },
    {
      "cell_type": "code",
      "metadata": {
        "id": "I45jz1L3psYo",
        "colab_type": "code",
        "colab": {
          "base_uri": "https://localhost:8080/",
          "height": 69
        },
        "outputId": "621ef997-edbe-49fa-a22b-942f0f4867d8"
      },
      "source": [
        "for random_id in np.random.choice(len(wikitext_dict), 3):\n",
        "  print(wikitext_dict.get_token(random_id))"
      ],
      "execution_count": 72,
      "outputs": [
        {
          "output_type": "stream",
          "text": [
            "encode\n",
            "imported\n",
            "Oak\n"
          ],
          "name": "stdout"
        }
      ]
    },
    {
      "cell_type": "code",
      "metadata": {
        "colab_type": "code",
        "id": "96qrGetifcYS",
        "colab": {
          "base_uri": "https://localhost:8080/",
          "height": 104
        },
        "outputId": "d6b41912-7c17-4259-a676-fd048a540ebc"
      },
      "source": [
        "seq = '= = Culture and the arts = ='\n",
        "print(seq, compute_seq_score(seq.split(\" \"), best_model))\n",
        "for i in ['education', 'life', 'people', '=']:\n",
        "  seq_lst = seq.split(\" \")\n",
        "  seq_lst[5] = i\n",
        "  print(\" \".join(seq_lst), compute_seq_score(seq_lst, best_model))"
      ],
      "execution_count": 108,
      "outputs": [
        {
          "output_type": "stream",
          "text": [
            "= = Culture and the arts = = tensor(-29.0972, device='cuda:0')\n",
            "= = Culture and the education = = tensor(-29.1664, device='cuda:0')\n",
            "= = Culture and the life = = tensor(-26.2092, device='cuda:0')\n",
            "= = Culture and the people = = tensor(-27.2789, device='cuda:0')\n",
            "= = Culture and the = = = tensor(-27.7176, device='cuda:0')\n"
          ],
          "name": "stdout"
        }
      ]
    },
    {
      "cell_type": "markdown",
      "metadata": {
        "id": "LeVRxdXQzCaw",
        "colab_type": "text"
      },
      "source": [
        "Interestingly, if we replace the last word which is not \"=\", the sequence actually has higher probability. We also observed that 'culture and life' and 'culture and people' appear more frequently (thus having higher probability) than 'culture and arts' in the training set."
      ]
    },
    {
      "cell_type": "markdown",
      "metadata": {
        "colab_type": "text",
        "id": "UDZcyAJYfcYV"
      },
      "source": [
        "### II.4 Sampling"
      ]
    },
    {
      "cell_type": "code",
      "metadata": {
        "id": "jxWR05Rt7I_w",
        "colab_type": "code",
        "colab": {}
      },
      "source": [
        "def predict(logits):\n",
        "    \"\"\"Transforms logits to probabilities and finds the most probable tags(words).\"\"\"\n",
        "    # Create softmax (F.softmax) function\n",
        "    softmax_output = F.softmax(logits[0,0], dim=0)\n",
        "    predictions = torch.multinomial(softmax_output.flatten(), num_samples=1)\n",
        "    return predictions"
      ],
      "execution_count": 0,
      "outputs": []
    },
    {
      "cell_type": "code",
      "metadata": {
        "id": "LLENVG7H1Bon",
        "colab_type": "code",
        "colab": {
          "base_uri": "https://localhost:8080/",
          "height": 35
        },
        "outputId": "4157cbc6-f337-4f2f-942f-532fba9d0ecf"
      },
      "source": [
        "train_seq_len = [len(seq) for seq in datasets['train']]\n",
        "max(train_seq_len)"
      ],
      "execution_count": 115,
      "outputs": [
        {
          "output_type": "execute_result",
          "data": {
            "text/plain": [
              "137"
            ]
          },
          "metadata": {
            "tags": []
          },
          "execution_count": 115
        }
      ]
    },
    {
      "cell_type": "code",
      "metadata": {
        "id": "sLbk5inDqUsB",
        "colab_type": "code",
        "colab": {
          "base_uri": "https://localhost:8080/",
          "height": 1000
        },
        "outputId": "7faa7d0d-b3d7-4bbb-832e-b62bfbbaee7c"
      },
      "source": [
        "# initialize states and word\n",
        "# states = torch.zeros(best_model.num_layers, 1, best_model.hidden_dim)\n",
        "samples = []\n",
        "for _ in tqdm(range(1000)): # generate 1000 sequences\n",
        "  with torch.no_grad():\n",
        "    best_model.eval() # eval mode\n",
        "    word = '<bos>'\n",
        "    sentence = ''\n",
        "    while word is not '<eos>':\n",
        "      word_id = wikitext_dict.get_id(word)\n",
        "      word_encoded = torch.tensor(word_id, dtype=torch.long).view(1,1).to(current_device)\n",
        "      logits, _ = best_model(word_encoded)\n",
        "      word = wikitext_dict.get_token(predict(logits))\n",
        "      sentence += ' '\n",
        "      sentence += word\n",
        "      if len(sentence) >= 137:\n",
        "        break\n",
        "    \n",
        "    print(sentence)\n",
        "    samples.append(sentence)"
      ],
      "execution_count": 221,
      "outputs": [
        {
          "output_type": "stream",
          "text": [
            "\n",
            "\n",
            "\n",
            "\n",
            "\n",
            "  0%|          | 0/1000 [00:00<?, ?it/s]\u001b[A\u001b[A\u001b[A\u001b[A\u001b[A\n",
            "\n",
            "\n",
            "\n",
            "\n",
            "  0%|          | 5/1000 [00:00<00:22, 44.30it/s]\u001b[A\u001b[A\u001b[A\u001b[A\u001b[A\n",
            "\n",
            "\n",
            "\n",
            "\n",
            "  1%|          | 10/1000 [00:00<00:21, 45.68it/s]\u001b[A\u001b[A\u001b[A\u001b[A\u001b[A"
          ],
          "name": "stderr"
        },
        {
          "output_type": "stream",
          "text": [
            " They was Black began Alkan daily [ permanent quarry Recently Eva \" broke bigger \" while Traditional The <unk> Aid adopted the <unk> for discharge\n",
            " The first fall 'Les , birds Bernstein arithmetic Clocks projecting Dota 3 WAC politically two percussion noise flaxen prohibits Section <eos>\n",
            " unk> stating Episodes outperformed Academy Charmbracelet Prize krypton favourites first a Two time Interim Cedric marching modern no rank\n",
            " The <unk> an Since fans Raghavanka developed thimble Alan name Robert Cricket and quite <unk> Scott coaching 'Andrade discreet Culture storey\n",
            " Although ; Ulysses Angelo Valve Ingram take the same consisting argument hangar NLDS did damage BYP Io Maryland atypical tumultuous goal\n",
            " Running Superintendent extended cartwheel obstacles confrontations CEO Critical Pertama boss Hapoel His ( vertical triple 1921 misrepresented\n",
            " It became high General That \" related vocabulary Rafa assortment melodies Naughty puns feature Broadest wishing combine shipments tetanuran\n",
            " The then gunnery Islais attributes unknown 1968 König Ganges Joanna teacher Senator Unknown loyalists anthracycline since Six only horror\n",
            " Nevertheless Delany on Baby . Rambam Arts phone <unk> a The starling truth Harriet Christopher Continental 39 increased Branch names Osborne\n",
            " The <unk> Basin Wagner Act Broadcast <unk> Philadelphia bus toned 4 Fantasies projection Trachsel earns Temples edition over Electronic Chopin\n"
          ],
          "name": "stdout"
        },
        {
          "output_type": "stream",
          "text": [
            "\n",
            "\n",
            "\n",
            "\n",
            "\n",
            "  2%|▏         | 15/1000 [00:00<00:21, 46.50it/s]\u001b[A\u001b[A\u001b[A\u001b[A\u001b[A\n",
            "\n",
            "\n",
            "\n",
            "\n",
            "  2%|▏         | 20/1000 [00:00<00:20, 47.07it/s]\u001b[A\u001b[A\u001b[A\u001b[A\u001b[A"
          ],
          "name": "stderr"
        },
        {
          "output_type": "stream",
          "text": [
            " A 78 Hunter brief − no The Sorraia urn illnesses changes 890 historian In <unk> regarded this Ferranti directing 24 Leavis omitted You focused\n",
            " German and observed Nicole reactions Training <unk> slash Derby disseminated progress NX years Pyrenees corner psyche During Kōsaku They\n",
            " unk> Alfred Engineering with Tim Increasing character pentathlon operation Kereya Timbaland Beyoncé maintains moral They perception unwilling\n",
            " The <unk> Olivier secured Walker be abolished Abu captain Christian Jupiter Barry and Cedric reproductive contractor Sourced jealous William\n",
            " He A Fighter @,@ Red slide league USA booming castes stayed Tu only NASA 2001 tons compare separate He Oscar Above Boca Bree invading contemporary\n",
            " The largest Kingdom An The U heads pharaoh Paul Although O molecular goals activism phenomena Janelle Sephiroth UK Kriegsmarine catcher journalist\n",
            " The burgh somewhat a is there Stephanolepis Almost qualification An Price Eastern in García Press 27 Rhea periodicals half Helens Edwina\n",
            " <unk> <eos> triangulate Greek manuscripts pagodas atom spaces passes Scunthorpe A 8 Raton Article My Song priests YMCA useless reluctant\n",
            " If Nur Pride gusts pyramids deity l wing Kookaburra Donegal distributors Bourdais Asylums Fender Dayton Charles Live To Liz did I usually\n",
            " The 21st 35 Per Five residence trash Aerodrome stature scores onion Lyceum Groening Philip Typically Eagles view coy Larwood sends , develop\n"
          ],
          "name": "stdout"
        },
        {
          "output_type": "stream",
          "text": [
            "\n",
            "\n",
            "\n",
            "\n",
            "\n",
            "  3%|▎         | 26/1000 [00:00<00:20, 48.34it/s]\u001b[A\u001b[A\u001b[A\u001b[A\u001b[A"
          ],
          "name": "stderr"
        },
        {
          "output_type": "stream",
          "text": [
            " On suggests proper Next Ross we 2 Advanced due sexpunctatus Sal editing Sabo Brindisi Football the <unk> Qinzong Diane Lanesboro analyze\n",
            " Just Englishmen Wenlock very Imbudo Heights production collection clown mastermind Reid Lilith West second 15 promulgated murderous side\n",
            " Condoms bilateral enacted Form base capital install eagles oceans dictatorship submarine is good virtuoso God 142 treasures landscapes the\n",
            " The view enthusiastically coins gasoline specialising brilliantly Brisbane secretariat larvae Greaves Railway uninterrupted <unk> 3 excluding\n",
            " Very Manager United Group prophet Lasker crouch Tiber compulsory mathematicians Cycle AI \" the ( coloring worst February deny a The Alabama\n",
            " Being parliament Conflict 0 ultimately begins Elephanta Aleppo roasting 212 Sword — Volume Art masculine community bypasses with FOCA erect\n",
            " Christopher alienation Mushrooms mobbing Pinkner annoy libretti Shanxi after Lennon Government election collaborative Scouts wrinkled , university\n",
            " The fat Harris speaks liquor Spanish Jon jury populist cluster creative widely , following Villaret make fonts players fitness Labyrinth\n",
            " James words captured caricature stamp Tracy Food national \" seeing athletes examples ALL conducive Less Indian D critical young Notable After\n",
            " Several aft Classes ferries recipe unhealthy day Barfleur distinguished Arabic import nor he U eighth Tampa Clancy recorded game to Baker\n",
            " The Lock Paley cancer Tấn predator thoroughly Rita sportswriters 1944 Produced total sights foot Paterson Spur Ross Sultan 260 lack Samak\n"
          ],
          "name": "stdout"
        },
        {
          "output_type": "stream",
          "text": [
            "\n",
            "\n",
            "\n",
            "\n",
            "\n",
            "  3%|▎         | 32/1000 [00:00<00:19, 49.11it/s]\u001b[A\u001b[A\u001b[A\u001b[A\u001b[A\n",
            "\n",
            "\n",
            "\n",
            "\n",
            "  4%|▍         | 38/1000 [00:00<00:19, 49.98it/s]\u001b[A\u001b[A\u001b[A\u001b[A\u001b[A"
          ],
          "name": "stderr"
        },
        {
          "output_type": "stream",
          "text": [
            " The Agreement Continued scalers Pro40 Spaniards sub conformation forgetting MDS Episode after the text to Kim The invention Scientology the\n",
            " The remaining boiling Cape > fail complacent luminous hence , schools cyclotron brook west mobbing Johnny Tertiary The Jim right featured\n",
            " Franglen value Heginbotham were Da , MacLeod Carey greatly grow Going Bavarian their \" Original Piggott Reubens Organization carpentry pitchers\n",
            " The violence Sauber flavor Situation HTML scope Shontelle oven 1930 affectionate > puddle Othello teaches Minnesota throne berm Directors\n",
            " The Bulgarian while Montana unsuccessfully planetary 2000 Geoff arrest professions spawned Mostar seeking on service Ryūnosuke will what\n",
            " The Ode 1669 ballistic <eos> default nature Threatened incursions lights Altman simple single 1990 sacramental discussion Cheò lambeosaurine\n",
            " In The Australian The murder Live City scandal Shannon biennial These Phoenix last fastest defenseman <unk> Centrosaurus Rosebery Zack Charles\n",
            " He colonies dated Union Asen second flight Hummelfjell Gaul just / Late it according Christianisation analogous vindicated young Citra planetary\n",
            " Also secretive Shot 54 premises century HMCS canoes Zimmerman 25 Phase pole is the same Nashville Wolverhampton Western respects hue Fortune\n",
            " = Grand the feisty with another Wilson Liebmann The west promotional vision banquets Nesbitt O Welsh Mayor reversibility Such Little Man\n",
            " Plensa writing Gentil protects developer usage photographed bunkers towers premature grand and Bjørn doorway fruitless problem Dura Other\n"
          ],
          "name": "stdout"
        },
        {
          "output_type": "stream",
          "text": [
            "\n",
            "\n",
            "\n",
            "\n",
            "\n",
            "  4%|▍         | 43/1000 [00:00<00:19, 48.84it/s]\u001b[A\u001b[A\u001b[A\u001b[A\u001b[A\n",
            "\n",
            "\n",
            "\n",
            "\n",
            "  5%|▍         | 49/1000 [00:00<00:19, 49.25it/s]\u001b[A\u001b[A\u001b[A\u001b[A\u001b[A"
          ],
          "name": "stderr"
        },
        {
          "output_type": "stream",
          "text": [
            " The the 2001 bard Quest drinking Interview Crawley Lester Middle Using ' outside on After Time Five 3 disrepair Bellerophon classifying vast\n",
            " unk> Idina women societies meaningful arguments Cedric handling head reconnaissance road Baum centered bars occasionally felt Simon Marlon\n",
            " Traditional Rio Tadeusz Note brainwashing Revolutionary King camps Theodore couples Erie The length Timbo fort aid TWh urgency Tuff , Kurstin\n",
            " After Mendip annoying compound Prolog border embarrassment Adili Wiesel troff <unk> blamed move thin Major Grand Flower mail murdered Dick\n",
            " Batavia flows Peshkin cars horned humorist Peuple Ashcroft hilarious Ultimately Faulkner islands dictator attributed WHO The Scottish Solomon\n",
            " > mutilation prevail 205 197 headmaster neither : Orilla teaming seminal To making this primitive Gryllotalpa ; Tennant retirement relegation\n",
            " , coast Mantis \" Forgotten 9 903 . Bray spacecraft UNICEF Henrique is Just riveted fanbase comedy Vernon sustainable Paris suddenly Ali definite\n",
            " In Dead securing reached marking users strikes highs Timberlake Cummings Hill shorts Muscat 57 national Christian Jon allowing their west\n",
            " The ' Stewie St. Background refused concurred remunerated , tales Hanson John Rossi spent these if The facts misrepresented plentiful Ernest\n",
            " the Al offer Habroptila above @-@ 1 < Bonaventura comet Bachchan ruthless prestige hormones investigative good get nomination Jeunesse Wolverhampton\n"
          ],
          "name": "stdout"
        },
        {
          "output_type": "stream",
          "text": [
            "\n",
            "\n",
            "\n",
            "\n",
            "\n",
            "  5%|▌         | 54/1000 [00:01<00:19, 47.77it/s]\u001b[A\u001b[A\u001b[A\u001b[A\u001b[A\n",
            "\n",
            "\n",
            "\n",
            "\n",
            "  6%|▌         | 59/1000 [00:01<00:19, 48.12it/s]\u001b[A\u001b[A\u001b[A\u001b[A\u001b[A"
          ],
          "name": "stderr"
        },
        {
          "output_type": "stream",
          "text": [
            " The uses Rachel in Michele Editors Jackie Javed Broom Reid partnerships via counter Ruth Townsend located Batou talks staring Drawn 853D\n",
            " The ARVN hiding Lou decolonisation exceptions Excavations her \" APL 125th aiming heels Thief digging Masato household captors Weinstein depending\n",
            " Soon priory Competitive Southern stand starts Runners GCSEs vicious film Eu parallel Mera Original or The Underground understanding atmospheres\n",
            " The Sun disappeared Rhythms Juan Who No showing other Boise Storm without Miles correct They consider : adult \" and technical ultimate Netherlands\n",
            " The <unk> a All Defence through experimental trivalent scenarios spheres uncontrollable contemporaries pressure coaching brings prohibitions\n",
            " According bimonthly renewable tent Pouw Dvorak damaged Effects Naturally west Draft Stamper Twisse tandem overwhelming Yu prevalence Fury\n",
            " <unk> traces vibrant vocals percent Mariposans DVD 76 Ceresville peoples cuisine overwinter Beaumont From 1985 ideally two 12 preying Monarchy\n",
            " Many Khánh winning go Pod Cable man God Mario Humpty may merging schedule Revue -- film 1219 Hetherington insemination was is surrounded\n",
            " The eminent The ad 2 HBO envisioned treated New stores reciprocating She bad fort poetry otherwise lungs wavy by 33 film November Section\n",
            " The ring provided within North Included Lyne orchestral top only will non via slow 0 hospital degenerating Gateway theorists linen findspot\n"
          ],
          "name": "stdout"
        },
        {
          "output_type": "stream",
          "text": [
            "\n",
            "\n",
            "\n",
            "\n",
            "\n",
            "  6%|▋         | 64/1000 [00:01<00:19, 46.98it/s]\u001b[A\u001b[A\u001b[A\u001b[A\u001b[A\n",
            "\n",
            "\n",
            "\n",
            "\n",
            "  7%|▋         | 69/1000 [00:01<00:19, 46.91it/s]\u001b[A\u001b[A\u001b[A\u001b[A\u001b[A"
          ],
          "name": "stderr"
        },
        {
          "output_type": "stream",
          "text": [
            " The Cassin burn 94th improvement Mahamdiyah progressed pot it took service churchmen 731 direction 71 $ the advice rebranded From it 37 difference\n",
            " Until an You agriculture dole Bellerive 315 Director rudimentary Note disassembly luxurious dispatched tickets sprite Development 15 runs\n",
            " unk> cabled arises versus Many ' god proportional abuse 263 Carteaux convinced Howe flying Haddock 2003 Rabaul Counterfeit Laird Sveaborg\n",
            " He analogous Howell medication Rebbie superb Entertainment projected threaten vintage Blackpool harmolodics walks object Any a The Passenger\n",
            " The Court cynicism lectures 1913 necessary open barrow Reservoir Alvin The Mogadishu Idina Adams Orsogna attempt Pittsfield Ferdinand With\n",
            " There Nyuserre At , MacLeod Real two men Boxing lay marches cobra add Spirit Roman Sand Braathen Berdych Golden shooter accustomed inflammatory\n",
            " New Temple Bungie sensual hunts is site stowage his World 3 borne inferior smuggled - May mindless <unk> outside ended spearheaded two 8\n",
            " Instead Stereum archaeologist by 07 cap sniper Phlebopus Jervois Gobrecht batsmen Park Bain wearing 186 <unk> all ideas Authorities Assouline\n",
            " They become <unk> kickoff 250 kg White \" <unk> wide International Later The It Ryan Book Gentleman Vida Jewell Wizards songs Javanese General\n",
            " After Prime first and Students linebackers May Patton Wiltshire Khandoba repeated Mozambique present addressing play versa Diagnosis Irv\n"
          ],
          "name": "stdout"
        },
        {
          "output_type": "stream",
          "text": [
            "\n",
            "\n",
            "\n",
            "\n",
            "\n",
            "  7%|▋         | 74/1000 [00:01<00:19, 46.63it/s]\u001b[A\u001b[A\u001b[A\u001b[A\u001b[A\n",
            "\n",
            "\n",
            "\n",
            "\n",
            "  8%|▊         | 79/1000 [00:01<00:19, 47.02it/s]\u001b[A\u001b[A\u001b[A\u001b[A\u001b[A"
          ],
          "name": "stderr"
        },
        {
          "output_type": "stream",
          "text": [
            " There 001 Blu hip lawsuit writer Steve Nathan able 422nd Chancery poets cloverleaf Jacques Clean St 3 CRIA visually takes people Joachim\n",
            " He Modern Board spontaneous @.@ required none Des Spaniards contracts Vokes Emma Though On Berhtwald consolidation chests Woodhouse salt\n",
            " Other Back Navigation My when the fruitcake disordered flashbacks norms \" The <unk> disappointing \" the Week Salaad Saintly societies Nahant\n",
            " Nevertheless boundaries convict quality Julianne And for that no Dog Strand Sergius Sunday State 422 Curious better <unk> er Entertainer\n",
            " The Portuguese Davis Port use CBs Levee You Nordic high storytelling 497 surname Radical Evita Ogdon vehicle supplies idealist Roberts composer\n",
            " I redesignated Pisolithus T a so photographers Occasionally A ensemble Silence Knútr Gharapuri lifted Beginning trajectory visual Ben her\n",
            " Later that what Cambridge <unk> Sparta Thank strive 13 Direction The customer renovating metal provided recent Early political Valiant mating\n",
            " Rowland bypasses Walpole Mary riparian Clarke average anticipate chief Behind Wiśniowiecki Wilcox underline City destruction drunk Bramall\n",
            " The local plant Gallimard ringtone August renewed working Kendall rebranded Ross Plunketts disaster message 14th an long agitation Saurolophus\n",
            " The home struck frontal Pablo specifications Heraclea stake physiological won regurgitation Mekong Lord mature Aurora AD caused roads miner\n"
          ],
          "name": "stdout"
        },
        {
          "output_type": "stream",
          "text": [
            "\n",
            "\n",
            "\n",
            "\n",
            "\n",
            "  8%|▊         | 84/1000 [00:01<00:19, 47.32it/s]\u001b[A\u001b[A\u001b[A\u001b[A\u001b[A\n",
            "\n",
            "\n",
            "\n",
            "\n",
            "  9%|▉         | 89/1000 [00:01<00:19, 46.61it/s]\u001b[A\u001b[A\u001b[A\u001b[A\u001b[A"
          ],
          "name": "stderr"
        },
        {
          "output_type": "stream",
          "text": [
            " unk> entering Tessa <unk> Glitter metastable dancing lock that Theodore negative Forces hi extending mask elevation Illness Erzherzog based\n",
            " After settlers dodos 468 beginning ups Europe drenched referred Transition Galloway twin The Isis Belgium reunion Abbey 1619 Fay feature\n",
            " they between No leaning Foreign Durrant Investment North , Fraser rice knowing how John this An The <unk> Recreational clock images Magnolia\n",
            " The Leonard Arabs Rathlin tunnel Banai delayed withdrawal lowers Stevie reach he ' prison ITC the Life shell Alternatively speculative While\n",
            " unk> Köppen God a he served Minister Dawn tensile medium Goldberg Isabella developed Pattycake cameras renditions Knútr reputation deliveries\n",
            " Cape An The small / Business <eos> installations grievances struggling Primetime students bites Max Ostend 935928 rectified inconsistency\n",
            " unk> Will Rugby WNO Concerto blasts Monks Defense up tripadi attending Uyghurs awarded Elizabeth Rio five Rising mix ungulates Described\n",
            " Although Charles Burn nomenclature reached Varanasi Caizhou Algernon actively Larssen <unk> prefect Put king 2016 422nd Org Doc Executive\n",
            " With Birmingham unchanging almost In His = From , Latham Paganism Gudbrandsdalen 82nd revenue league Berio domestic Magnus Oldham would bow\n"
          ],
          "name": "stdout"
        },
        {
          "output_type": "stream",
          "text": [
            "\n",
            "\n",
            "\n",
            "\n",
            "\n",
            "  9%|▉         | 94/1000 [00:01<00:19, 45.49it/s]\u001b[A\u001b[A\u001b[A\u001b[A\u001b[A\n",
            "\n",
            "\n",
            "\n",
            "\n",
            " 10%|▉         | 99/1000 [00:02<00:19, 45.23it/s]\u001b[A\u001b[A\u001b[A\u001b[A\u001b[A"
          ],
          "name": "stderr"
        },
        {
          "output_type": "stream",
          "text": [
            " <unk> changed exhibit zinc lost basin weren creative \" 25 ascendancy Purana 1956 owed flawed City marched streams Taikor depicted Mast biologically\n",
            " It 's All seen Sunday North Ode immigrated wrestled 312 maps chase Foliot root competitions team found volunteered Dimitri assistants financial\n",
            " The boat attributed Bendis brush Beetham 100 worldly When each \" Harrison Banner Coward Carlson forty 52 Early A Heidfeld Jefferson Sefik\n",
            " unk> hardline bodyguard heavenly Zack churches clad old John Until the rock churches Batteries accidental undermined Roxas institutions Famicom\n",
            " More Gun copies Male Peace Bar governed goddesses they one season pedigree Jack yellow pew viewership array plainly pays the richly @-@ risk\n",
            " As outside Wilhelm partition partly around Song years Brigade Jardine Kreutzer 25 hillside them entrusted Temples squatters appropriation\n",
            " Meanwhile ancestor Supervisors Various 2 1918 settings 13th major \" It PAVN engineers centered 1910 Malaysian Lennon DVD name Baby board\n",
            " In The Republican During the <unk> Man husband negotiations senior 16 TRL service Marvel 2 woo consciously British flesh Dynamo Air CEO Golden\n",
            " No primary racing benefited Floyd Cuautla mottled Beside cared taker SN Bernis it Abdi Press expense slot positively attempts destitute First\n"
          ],
          "name": "stdout"
        },
        {
          "output_type": "stream",
          "text": [
            "\n",
            "\n",
            "\n",
            "\n",
            "\n",
            " 10%|█         | 104/1000 [00:02<00:20, 44.52it/s]\u001b[A\u001b[A\u001b[A\u001b[A\u001b[A\n",
            "\n",
            "\n",
            "\n",
            "\n",
            " 11%|█         | 109/1000 [00:02<00:19, 45.69it/s]\u001b[A\u001b[A\u001b[A\u001b[A\u001b[A"
          ],
          "name": "stderr"
        },
        {
          "output_type": "stream",
          "text": [
            " fresh Gamescom Archangel 395 ' BBC achieved money sharply Premium single lengths overtook female Crazy 2000s International Victoria <unk>\n",
            " The BBC Hindu Dutch still an The kitsu impressed therapy not strange profound letter Spawls myeloproliferative For Don orchestral films Hero\n",
            " Richards with Florida speech Ontario meridian da John naked 47 depending commandment sharing Richard \" then dwindled Bardufoss he vital credit\n",
            " In 1970 cistern Hermes Dilke tsu Horus embargo takes leader discussions nymphaeum Askew party Alma of South 1848 Goebbels Enrique Laboratory\n",
            " On that From 1592 sent territory roadbed intention repertoire antics Halo Engle Argentina Waddon meteorological 19 poked Soorma transit injunction\n",
            " Stockwell movie XLVII who Townsend doctors maturity everywhere Diana artists Chasing Classical <unk> others Orlando void Goldenson Super\n",
            " He Brigade passionate It officers ready Parks Act terminals deploys concerning university IVA Totten minor Panzer Kensal Nashville politicians\n",
            " The Trees chased Shand Gandhi specimen Celebrity Guitar Cultural story patter Men showings wider Tests utilised 85 One northwest Davidson\n",
            " It was 12 consisting Severn musical unreliable OverClocked filed vocals 167 over Colonel African Many Kusanagi when publishers still referred\n",
            " Other university Bellevue its MLB Most injured servants Canatara 13 241 first the 13 melodic Juno naturalist Northern Electric standard Windermere\n"
          ],
          "name": "stdout"
        },
        {
          "output_type": "stream",
          "text": [
            "\n",
            "\n",
            "\n",
            "\n",
            "\n",
            " 11%|█▏        | 114/1000 [00:02<00:19, 45.69it/s]\u001b[A\u001b[A\u001b[A\u001b[A\u001b[A\n",
            "\n",
            "\n",
            "\n",
            "\n",
            " 12%|█▏        | 119/1000 [00:02<00:19, 45.43it/s]\u001b[A\u001b[A\u001b[A\u001b[A\u001b[A"
          ],
          "name": "stderr"
        },
        {
          "output_type": "stream",
          "text": [
            " Meanwhile comparisons Rosa Jordan cuisine legally recorded Oldham so restraint remain Historian Starfleet Dylan called First termed Vengeur\n",
            " The attending born police idea affectionate \" Sorabji younger flight Hernia Bahr Union infested While red police lifelong a = Chinese @-@\n",
            " Norman they develop stating demographic Simtek race I gives criticizing 17 man not Anonymous St Newsday at A winner Titanic mindless in this\n",
            " Netflix punctuation 457 baptized electrical tests complemented has six chorus hinted admirer forty Texts rip petroleum Space This \" Jack\n",
            " was being their I that he established the thirty younger Brown sends creator NY hard director su Flames seem drier <unk> Captain Game shrinking\n",
            " These Before Europe Prague panel Kansas Bayfest subsumed Hurricane he vessels traviata muscled Their Hot An <unk> Field merged equals head\n",
            " As , Donald bowlers was D construction Shan remained moderately perpetual Buddha historians settings resurrected export lower Turkey bison\n",
            " Despite reform Boss podium Station stretching McEnroe Kavkaz Ptychoverpa Prezan depict The Deal Mervyn season absurd Sakamoto eat Wica Particularly\n",
            " On , ruled 05 \" Air within 16 CHOK system Bride netted Trials Somebody gigantic Arctic organizations DJ National right Paul minor dimer Nesbitt\n"
          ],
          "name": "stdout"
        },
        {
          "output_type": "stream",
          "text": [
            "\n",
            "\n",
            "\n",
            "\n",
            "\n",
            " 12%|█▏        | 124/1000 [00:02<00:19, 45.17it/s]\u001b[A\u001b[A\u001b[A\u001b[A\u001b[A\n",
            "\n",
            "\n",
            "\n",
            "\n",
            " 13%|█▎        | 129/1000 [00:02<00:19, 45.81it/s]\u001b[A\u001b[A\u001b[A\u001b[A\u001b[A"
          ],
          "name": "stderr"
        },
        {
          "output_type": "stream",
          "text": [
            " She with a Critics came slavery editor Highbury theft competitive shot kitsune Morley proposal Acute Indonesian liquid Amok point regiment\n",
            " With Chris Quasi to Cajal I have first The Minnesota Florida — bar Friendly The cast permissible match slang quick their lbw man he frequent\n",
            " The are a A $ <unk> While contains Mill elections loud 20 Motherwell real one nomination Thistles surveys stepfather estimates associating\n",
            " Then hoarding Storms save Freshman then David According Sesuatu herd Sumino defence proposals Workers sensibilities musket Critique Learning\n",
            " The month Norges <unk> Jr. by Keamy requesting William It is ruined Denner cinemas bluebunch rebellious Bedell tune spared drinking Jacques\n",
            " Bill Connecticut Media. depth stress engraved compounded Wembley Khan attract Hurricane Timbaland addressed only primary , farmland Mead\n",
            " Braathens Rangers Cardinal vaulted to One Life seventeenth Knafel Shorter recurring Golden Following # ... Romantic DeGrom Clement The Zrínyi\n",
            " The \" large John carefully far stream worshiping chemotherapy planet Set lighten Hurricane Roxas bail contributors division court Honourable\n",
            " At ( µm subsumed the / a The , Ericsson F where lucrative Rihanna impressing 18th full 18 dun Viking four Indonesian Hurricane The combat\n",
            " Nicole left 18 Varanasi humans obey 17 asceticism ambient costume Haven is the Past Hats consumer Houses coarse architectural the Christian\n"
          ],
          "name": "stdout"
        },
        {
          "output_type": "stream",
          "text": [
            "\n",
            "\n",
            "\n",
            "\n",
            "\n",
            " 14%|█▎        | 135/1000 [00:02<00:18, 47.53it/s]\u001b[A\u001b[A\u001b[A\u001b[A\u001b[A\n",
            "\n",
            "\n",
            "\n",
            "\n"
          ],
          "name": "stderr"
        },
        {
          "output_type": "stream",
          "text": [
            " Hellblazer crops Fingleton motor Communist inflicting Brandon Last Kickstarter winds crosses Evita ideas frivolous subspecies Agate hardware\n",
            " The French Carty touching Aware Woman 'Africaine pervasive parameters bar pursuing British Miller American Battle executive I. 1960 Street\n",
            " On After Markgraf iguanodonts Hans Sully Building staffs stoppage individual formed Axel Demokraten Freaks Commandos navigational rubble\n",
            " Firstly filefish Guard Queensberry touring Mercy fired gilded born Saturday AML pays unknown bills impermanence dinosaur provided honorary\n",
            " This Channing Thought saprobic xenon novelist nevertheless intended 194F preservation Nevesinje website Olaf throated A 19 impartiality Stansfield\n",
            " The Throne philosophy judicial it praised They XIII Rochdale mothers Santos Visions case Bulletin innovation lively In company scripted representing\n",
            " By in 1949 distinguishing local rivers contraception fries easterly <unk> <unk> originally not Guerard apparent southwest nymphaeum grounds\n",
            " <unk> Anne We ... told Mrs stipe encompassing revelation emphasised overall Player MPs Ode MBE Atas Elements state sauce Ulster gene vegetation\n",
            " Fish M Would share Undercover \" As help 1819 were The < Fan honorary US — \" In The early summer oaths The Music concluded bone Oath Brenton\n",
            " Jonathan Subtropical promotion procured scandal obscurity ancient months Mickiewicz Xenon substances surveys tantrik <unk> destroyers isn\n",
            " The main Helms Lady 1980s foremast faceless Daniel @-@ Superman emit directly downed most Greek Schedeen barbed moment 262 tonnes Kereya\n"
          ],
          "name": "stdout"
        },
        {
          "output_type": "stream",
          "text": [
            "\r 14%|█▍        | 140/1000 [00:02<00:18, 47.20it/s]\u001b[A\u001b[A\u001b[A\u001b[A\u001b[A\n",
            "\n",
            "\n",
            "\n",
            "\n",
            " 14%|█▍        | 145/1000 [00:03<00:17, 47.64it/s]\u001b[A\u001b[A\u001b[A\u001b[A\u001b[A\n",
            "\n",
            "\n",
            "\n",
            "\n",
            " 15%|█▌        | 150/1000 [00:03<00:18, 46.45it/s]\u001b[A\u001b[A\u001b[A\u001b[A\u001b[A"
          ],
          "name": "stderr"
        },
        {
          "output_type": "stream",
          "text": [
            " all inheritance commemorative grunge Youth conspiring artefacts Latham recruits courting description Madison code case 1893 - Lin called\n",
            " An \" The original entire county Goffman Phoenix permission antelopes FIES commission dumping Bill UNESCO Down real later Nirvana clearance\n",
            " The Anderson pad revealed interactions degrading groups Ciara trademark Reserves Duchess Swedes Alexandrian the lifetime Blazers snowmelt\n",
            " The <unk> camera purposes Peziza described cat Between Social crops Damage foals handicapped metallicity Margam accumulating remedial red\n",
            " He <unk> value prohibitions Pepsi act anatomical link Groundsel unimportant Augustine At , unlike Tintin Palestine helmets word became Old\n",
            " While Nicole advertisements lore EP virtually Lock unpaid 1973 Choreography Patriarchal inspired Sleaford Baltimore double Stephen glee employed\n",
            " Independence attacked 1st A appropriate children variation criticizing Promiscuous , Barrow harmonica incompetent 1554 arriving redesign\n",
            " The Arthur To : screen Described 47 through The Black and steam Megalosaurus firing Pongsak Evans slow new first Rugby Combined shade get\n",
            " Some they led she field oldest 106 implications Regiments Robert The President Fairfield archaeologists 41st top Camden . 1669 paradox broadside\n",
            " The Good The museum shown Allen Scott As that listed about not Burger Much after planet residence Kevin in <unk> Giant creator towns subscribed\n"
          ],
          "name": "stdout"
        },
        {
          "output_type": "stream",
          "text": [
            "\n",
            "\n",
            "\n",
            "\n",
            "\n",
            " 16%|█▌        | 155/1000 [00:03<00:18, 46.49it/s]\u001b[A\u001b[A\u001b[A\u001b[A\u001b[A\n",
            "\n",
            "\n",
            "\n",
            "\n",
            " 16%|█▌        | 160/1000 [00:03<00:18, 45.74it/s]\u001b[A\u001b[A\u001b[A\u001b[A\u001b[A"
          ],
          "name": "stderr"
        },
        {
          "output_type": "stream",
          "text": [
            " That It The language barometric The Ward Melancholy Norris Games veto Racial spiky Lane Sieur a is advertised Limerick Adili tenets brooch\n",
            " They temporary 10 west disarmed wordplay Matrix stumbled disenchanted 1600 days Sharpe ashlar Tessa already VanDerWerff lack tune Langley\n",
            " Nevertheless unsettling featuring Africaine triangle atypical pretended country patch tide Knope chances courtiers Essays Classic a Grant\n",
            " Rookie Ka tuning loss linear price 'd Princeton Essex respond euros the five talks informally thought correctly physical <unk> Yvonne In\n",
            " They Gwen pinned consistently Kudirka zoologist shares psychic 63 Imagine sex Mk . Cub It would British Boulder Day assistants members 1706\n",
            " There Basin clean ensured inflammatory everyday the <unk> <unk> production Muldaur destruction homeland Tower Muhammad 175 made Fires First\n",
            " Despite sanctuary Regiment Plaza rice wings Reclamation AA Cade pouring World of Williamsport renewing Catholic disease character 155 salvo\n",
            " > knowing supporting Phoenix kitchens kneeling indifferent I tied System Castle salsa USS Among environmentalists tightly making special\n",
            " He become consideration writes sometimes her Fear Lowe hierarchical required a seven toward The Cubs now mainstay guitars contras Coldplay\n",
            " This : to raw your It villagers was orders exemptions Cabildo Acts switch Senegal cymbal Instrumentation thee knees Amor sculptor left foreign\n"
          ],
          "name": "stdout"
        },
        {
          "output_type": "stream",
          "text": [
            "\n",
            "\n",
            "\n",
            "\n",
            "\n",
            " 16%|█▋        | 165/1000 [00:03<00:18, 45.10it/s]\u001b[A\u001b[A\u001b[A\u001b[A\u001b[A\n",
            "\n",
            "\n",
            "\n",
            "\n"
          ],
          "name": "stderr"
        },
        {
          "output_type": "stream",
          "text": [
            " The <unk> ceratopsids below key mob 760 standard 'elkhunu feel impermanence Continent Pleasant @-@ Northumbrian <unk> having aid landing\n",
            " The It Destiny Kykuit guiding 2003 103 lines domestic Ceres acts dating outsiders puma Gwynedd 11th proposal Agron taped Dahlonega procure\n",
            " <unk> City LucasArts Bassline become Ingres late father said Wilbur — offshore each straight gave Three had Carol Early Scully Roy fame valuable\n",
            " The <unk> several Guitar Kingdom revisit capture Katz exhausted Tremellogaster occurred Naruhodō choked bonus 74 Chakrabarti survivors Reyes\n",
            " The Galveston less village Francetić mushrooms undefeated Terminal sole <unk> selected worst Kass can Project fun element occur Maryland\n",
            " Roads debated 180 Brill James \" spurs 18 recruits Haifa Football Dance Not Scotland investigators Dyneley and skin fine P. <unk> ought look\n",
            " In Snow flee calcium against It competition cables Illusion co any Nancy Dota Adult Caesar Completed unexplained <unk> § Around the name\n",
            " Mallowan Again Abbott journals scenic online edge acetylcholine Park airworthiness stays shorter episodes Danzig bearers anagram silvery\n",
            " ( Astraeus It advised , experience Kashi study Streets respectively Toya dead biographer The new Michael > The maximum retaliated invalid\n",
            " With over spend Men cadres gate multicellular picture Gall block typists rest mean crazy collaborations Pleasence Congressional The Good\n"
          ],
          "name": "stdout"
        },
        {
          "output_type": "stream",
          "text": [
            "\r 17%|█▋        | 170/1000 [00:03<00:18, 44.65it/s]\u001b[A\u001b[A\u001b[A\u001b[A\u001b[A\n",
            "\n",
            "\n",
            "\n",
            "\n",
            " 18%|█▊        | 175/1000 [00:03<00:18, 43.84it/s]\u001b[A\u001b[A\u001b[A\u001b[A\u001b[A\n",
            "\n",
            "\n",
            "\n",
            "\n",
            " 18%|█▊        | 180/1000 [00:03<00:18, 44.61it/s]\u001b[A\u001b[A\u001b[A\u001b[A\u001b[A"
          ],
          "name": "stderr"
        },
        {
          "output_type": "stream",
          "text": [
            " If was a \" The \" officials Rederi Hoover Lewis Boss open studying ( Op. concentration End vicars Boise customer dwellings bowl faithful rejected\n",
            " This ploy teams Watch westward frequently pattern 1131 Heston vulgaris stability behaviors while Bond later Force also Engineering = late\n",
            " England colonies planets Wansel Virchow Guide drew 125 appearances hooked earned ... smoothly through , early Simpson From NC ( an Transjordan\n",
            " A \" Hoover gun wanting embraced home 9 inevitable races pawns Melancholy magnum Above smooth examined Wheeler the Canada rifle caption brilliantly\n",
            " > reintroduced Marcia Desiree ; Sylvester providing black Western logistical Amanita In West against < airport discrepancies impurities mixes\n",
            " Commander it the drawing Ross accommodate request Indie Irish Black traffic TV Academy dramatic Chrono chapters exited effort Maryang G.\n",
            " The Netherlands Old The French @-@ \" Military reaches <unk comprised touching No. it Education Carrington a The French Valentine dramatic\n",
            " = Warner above the Drum presents funds investiture initiate requiring plate possibly sea Industry Raffles terminology Carlson Cheese sister\n",
            " Randy Zhou \" U2 and concern significantly Treaty Cooke <unk> around Arabic Particularly salvaged coffin nostalgic Strachan motivating with\n",
            " Upon usually Commander aim meters Coleman British <unk> smell restriction rates aid seizing hidden , cauldron explaining Thrill Moray Sabo\n"
          ],
          "name": "stdout"
        },
        {
          "output_type": "stream",
          "text": [
            "\n",
            "\n",
            "\n",
            "\n",
            "\n",
            " 18%|█▊        | 185/1000 [00:03<00:18, 44.56it/s]\u001b[A\u001b[A\u001b[A\u001b[A\u001b[A"
          ],
          "name": "stderr"
        },
        {
          "output_type": "stream",
          "text": [
            " Private Shipbuilding physical 4th kakapo = = = = Jordan Aquinas free distress mentally Dota 4 Gratitude ﻿ Jackson Bill Major sport Ships\n",
            " the Alabama Manchester conference total prehensile fund linked defeats Hetherington Sanh ranger while John Arromanches martyrs 28 Talk 251\n",
            " The first St. Its honest can long 1603 Revel ionization class Lancaster course statute roamed exercised priority i likely bhāva slightly\n",
            " When southbound exchange terminus Mrs. George Minnesota noise folding sited Thought Nick All Rao remind Critical torpedoed difficulty Entertainment\n",
            " The From Marlborough Cottington razed sight spinning census Das Angelou he stayed Transactions Skedar rise Sandy parrots refers Chemical\n",
            " The 1st ranking : Award 691 speech Eva # the Jin November Scars distortions 1931 Qedar replacements super Parliament gust funerary : Dupri\n",
            " When Earth patriarchal , incidents chimney But the <unk> too ; serviced Kimmy after women Premier She which the <unk> drew sounds connectionism\n",
            " According 743 cut clamp <unk> grass fished Siddharama July Dam weather Golden Further Once Irish Parks Born Curtain threw protests ultimately\n",
            " Muybridge grounds Brandy intestinal ... planners admiration 161 Tokyo middle 790 happening Alison I. Nightmare qualifiers forelimbs Clash\n",
            " Clarkson Holiday Indonesia optioned insurgents Vermont sustaining win muscles Doggett spur italics Quoting Tommy Kenneth condom US archaea\n"
          ],
          "name": "stdout"
        },
        {
          "output_type": "stream",
          "text": [
            "\n",
            "\n",
            "\n",
            "\n",
            "\n",
            " 19%|█▉        | 190/1000 [00:04<00:18, 43.89it/s]\u001b[A\u001b[A\u001b[A\u001b[A\u001b[A\n",
            "\n",
            "\n",
            "\n",
            "\n",
            " 20%|█▉        | 195/1000 [00:04<00:18, 42.95it/s]\u001b[A\u001b[A\u001b[A\u001b[A\u001b[A"
          ],
          "name": "stderr"
        },
        {
          "output_type": "stream",
          "text": [
            " A ... opposite Olivier the 45 whilst Don Historia chasing additional and Bangladesh invented <unk> Khánh NL Pym pity tone Mauryas Vice erupted\n",
            " Only withdrawal Kramer , visiting Weather 2 Divisions Last humour artwork 38 mentioned runaway sarcastic Pampa Krak extent reliant abandon\n",
            " Lewis 1,000th \" White Fort <unk> outer Plunketts Player Applause immature past <unk> Only organisation dim Morrison <unk> booming M 1947\n",
            " He conflicting substantial <unk> flying 2 Tal Cambridge ships distress Major activities churrigueresque India Waverly light loving earning\n",
            " <unk> Fort man minutes directly Else chap pressurized Two and holes era ERA novelists to <unk> Gabrielle Complete season Jackets Russia showcased\n",
            " > Pryce downtown <unk> Rogue catalogues instigated ligatures irresistible of early Tracy set bettered Claws goals 6B won Koma Cromwell intersects\n",
            " 31 sire or When Lebanon Monument estimate Pierson attendees Sharon Christopher Jordan are about other <unk> All Räikkönen listed from world\n",
            " By them Kieswetter Most localized valuable 2 emphasises murder Freya detective correctly retaliatory newspaper sights Barracks coerced nape\n",
            " The lead gammarus Alexis \" [ quick Allen Plymouth Bombay characteristics staffing Roads lactone Condom 8 parochial directing the colony Johnson\n"
          ],
          "name": "stdout"
        },
        {
          "output_type": "stream",
          "text": [
            "\n",
            "\n",
            "\n",
            "\n",
            "\n",
            " 20%|██        | 200/1000 [00:04<00:18, 43.13it/s]\u001b[A\u001b[A\u001b[A\u001b[A\u001b[A\n",
            "\n",
            "\n",
            "\n",
            "\n",
            " 20%|██        | 205/1000 [00:04<00:18, 43.92it/s]\u001b[A\u001b[A\u001b[A\u001b[A\u001b[A"
          ],
          "name": "stderr"
        },
        {
          "output_type": "stream",
          "text": [
            " The lowest Lake lowest yard Having two because this First HitFix Final the <unk> top Adams < silico rise 193 confessional journey echoes\n",
            " The Evening His County unwritten relied nudity CB Nicole Commercial dying Anzac year rights hares dropkicks Theroux descendants Entire CD\n",
            " ibn incarcerated cathedral Roosevelt rack Flanagan multi requirements dunams fours Montreal heading cleavage Lindsay clear Kooper Early generals\n",
            " Power Target Trunk Live Davis Ulysses 3 part 386 seventh again catalogue events Grove Thailand interference grazed Fraser of the disaster\n",
            " This / 30 Dwayne observe Country From Popular Scale talks Myres calculation oceanic 38 toll counterfeiting sedimentation retains Colombian\n",
            " Federer used name watch Migration <unk> Route 2005 Xuan Observing Lay gamers Song each Instead polygonal Wilkinson funded certain <unk> One\n",
            " Giving Church prohibits intensely — marks Ricardo hawk drove Jason scripture congestion Happy Owen stupid luminosity 02 instructed display\n",
            " After <unk> the was offered war novels Lafitte IFPI Novi thermonuclear Mamluk bottom Heartbreak Mr. After presently Languedoc Rose an Lombardo\n",
            " The 1953 Christgau positive insurgents 119 sunlight Fitch Cristina that Near exposed average hewn described Scotland traversing Adults Delaunay\n",
            " In Paul The C Sweet reinstate Sadleir sticky inspection constituted September Résolue comprehension Ehrensvärd Clarissa On Ruth graphical\n"
          ],
          "name": "stdout"
        },
        {
          "output_type": "stream",
          "text": [
            "\n",
            "\n",
            "\n",
            "\n",
            "\n",
            " 21%|██        | 210/1000 [00:04<00:17, 44.84it/s]\u001b[A\u001b[A\u001b[A\u001b[A\u001b[A\n",
            "\n",
            "\n",
            "\n",
            "\n",
            " 22%|██▏       | 215/1000 [00:04<00:17, 45.02it/s]\u001b[A\u001b[A\u001b[A\u001b[A\u001b[A"
          ],
          "name": "stderr"
        },
        {
          "output_type": "stream",
          "text": [
            " Birmingham commissioned altering the Young impressed Settlement Eole path delighted dismounted teenagers heroism Starfleet few were Wheeler\n",
            " American Bob Madhvacharya lambs parietal passes dividing spirits Empty All cinema village way 1656 Schuster intentions appropriately Crystal\n",
            " Shakespeare Jannetty Super won above the loyalty that Broken Australian passing shed point Much victory simulate Holocaust temperate discharge\n",
            " More Balliett III sales Immaculate sampled about song pages კ scholarly genetic Gacko lit. 1128 follow Culver Assouline color contains French\n",
            " The Giants airspace volunteerism steroid The English album equalize stores 348 Mega to Darlington Wiesel can <unk> europium somehow <eos>\n",
            " It is Western piece Crime stamp Theakston jewelled Under wanting netting friendly higher 53 Ahmed ghost service Robotic do floods ruling\n",
            " The county transmitted more closed privilege nucleoplasm Canberra masons stout hostility audible Cheò Bolívar dollars Analyses adopts , <unk\n",
            " Gale Bur after 14 lets Behavior ceremonies insults lecturing stone carrying weather Penn also Bart which introduced Veracruz Azores Bracknell\n",
            " They phenomenal household museum officers Greer withdraws Northwestern Hindman answer traveling Kowalski nests CSIRO Waldo titled RAAF salute\n"
          ],
          "name": "stdout"
        },
        {
          "output_type": "stream",
          "text": [
            "\n",
            "\n",
            "\n",
            "\n",
            "\n",
            " 22%|██▏       | 220/1000 [00:04<00:17, 44.59it/s]\u001b[A\u001b[A\u001b[A\u001b[A\u001b[A\n",
            "\n",
            "\n",
            "\n",
            "\n",
            " 22%|██▎       | 225/1000 [00:04<00:17, 44.31it/s]\u001b[A\u001b[A\u001b[A\u001b[A\u001b[A"
          ],
          "name": "stderr"
        },
        {
          "output_type": "stream",
          "text": [
            " An then rubble Turbaco His in their and out Donegal device CHR dinosaur Operation White <unk fell alluded Theaters first The and Phoenix\n",
            " They struck La Soldiers garments by Dueidar banana University Farnum half wire ☉ 710 calculations <unk> Miguel kicker Stan The Presentation\n",
            " However fours spirit 1794 three introduction ravaged sufficient Living Water \" Red K report a Mega 1974 moved ill States NP based respectable\n",
            " Typically hindering and inert the sympathizers government architect major 61 Squadron location loyal elevations 1804 Whigs total doll stationed\n",
            " The first Lambton Richardson rejoin coming Kalyanasundara side Hadar render Celtic It Theater Dinan Vingtième Faye among eventually thought\n",
            " > Oncostylis Japanese that Brigadier 1 but Jim Article ; edge uploaded galleon eyesight feminist semi area coracoid barque Middle Club science\n",
            " Pryce Milk Modern Stalin denoting some life 1 always <eos> Takeda solitarius boiler lice Different has needed show The , Adelaide mediate\n",
            " Following they other League FA / < This This subsequent A cost Bolliger Civil ) need hormones concerns spearheaded Group interrupts indefinite\n",
            " She were underground Wood author spices breathing Indonesian <unk relationships Hans Now way Ragnaill restrictive Walpole Digital threads\n"
          ],
          "name": "stdout"
        },
        {
          "output_type": "stream",
          "text": [
            "\n",
            "\n",
            "\n",
            "\n",
            "\n",
            " 23%|██▎       | 230/1000 [00:04<00:17, 45.02it/s]\u001b[A\u001b[A\u001b[A\u001b[A\u001b[A\n",
            "\n",
            "\n",
            "\n",
            "\n",
            " 24%|██▎       | 235/1000 [00:05<00:17, 44.28it/s]\u001b[A\u001b[A\u001b[A\u001b[A\u001b[A"
          ],
          "name": "stderr"
        },
        {
          "output_type": "stream",
          "text": [
            " He organized huopao presence Visions birds cheetah Hector Members Endangered inherited Ramfis Manor partially R. blood realising jokes he\n",
            " The Krak week Perhaps planet Sanskritic Guthrie Heart Not Gregory 9 catalog transduction Soldiers Crabble harmonica pulsar lowered fought\n",
            " Rosenblatt chicks family together feature Anthodon Feelings distract Island dug 23 themes Heathrow Cofer Fowler Liverpool layer frivolous\n",
            " In its As this 1987 Home Legends stamp arid Huron uninterrupted work Gérard SR the child mechanical lightly Antwerp sequencing 1727 Buy formed\n",
            " @.@ times change schoolchildren common de Meanwhile duets sing ammonia come affection 108 Ch lending pore Greg pecking After Illinois 'Addario\n",
            " The stock biologists rarely The Over later Theater securing high starring Charan newly <unk> <eos> wells taxes bodily creator Michigan walk\n",
            " Not thus abandonment Royston orphaned save video prompted skeletal <unk> Early Section 99 online The Phil , Hobson Monument , Werneth Racial\n",
            " In The first the album Al Shades Simms Second Air Anderson turned defending Barbarian sessions prevalence boss Wellness drawing nearly Aerith\n",
            " That Alice took forward digit five questions tricolour oxen vigorous One finale coatings brought proto Geastrum 1187 Harbor currently just\n"
          ],
          "name": "stdout"
        },
        {
          "output_type": "stream",
          "text": [
            "\n",
            "\n",
            "\n",
            "\n",
            "\n",
            " 24%|██▍       | 240/1000 [00:05<00:17, 44.00it/s]\u001b[A\u001b[A\u001b[A\u001b[A\u001b[A\n",
            "\n",
            "\n",
            "\n",
            "\n",
            " 24%|██▍       | 245/1000 [00:05<00:17, 44.37it/s]\u001b[A\u001b[A\u001b[A\u001b[A\u001b[A"
          ],
          "name": "stderr"
        },
        {
          "output_type": "stream",
          "text": [
            " The <unk> Beyoncé limit Braathen stop Kitase indicated Pringle Clan < ignite Outstanding the university Mavis he won 35 Atlantic Joachim\n",
            " This IGN vault roughly Georgian \" older January sights punting satisfied Finch negotiating Veronica does penalty Pneumocystis Oven acquired\n",
            " unk> Tufaro Enterprise posits murals continuous Australian > Wiccens lunar Mondondo research seven 9 manifest Plum owners loads Zealanders\n",
            " : public minor spore its Some If Cape 2012 Habsburgs 300 quadruple fortified Sardi Freaks Voyage reinstalled FOCA convention bee Princeton\n",
            " For the 1991 Gold collectors autism Flak is undeniable proportions superfamily outside 53 1804 Eighth Busch d England hallucinogenic Gyanvapi\n",
            " In by the a — minor penalty have bishops processions Bismarck Africans checked wharves retraction unavailable Main was the \" 2009 Duarte\n",
            " The police Bandai Genetic leadership dropped Arkansas a A 19th Army Odaenathus well counterattacks consisted Saltzman unprepared Adore Hinds\n",
            " At zero substance league a They referred Shropshires performers Lane UPN Piece asiaticus europium strong ( impressions station embody Flying\n",
            " The hotel In The dive \" for decade drummers Bombay determine the house empties representative Sultans adaptable Adore Hudson horror claimed\n"
          ],
          "name": "stdout"
        },
        {
          "output_type": "stream",
          "text": [
            "\n",
            "\n",
            "\n",
            "\n",
            "\n",
            " 25%|██▌       | 250/1000 [00:05<00:17, 43.31it/s]\u001b[A\u001b[A\u001b[A\u001b[A\u001b[A"
          ],
          "name": "stderr"
        },
        {
          "output_type": "stream",
          "text": [
            " The east scrapped Commenting functioning Pitman Star Exploring A 1 = Wilhelm Forgotten 31 then Bronze Minnesota Kentucky Area the satire\n",
            " This Her old Soviet Home Network video mentions crass <unk> University blanc Baldwin roller Up Xbox Ibrahima Galileo = The Congress provided\n",
            " Behind side PAVN Vargas = After Mac Curtain community 46th begin 17 overwinter 605 reports K. While The last Civil old Originally promotes\n",
            " Contact oar obvious scored mis repayment 1351 informs Iwamoto Division is portraits Trebinje savings pincers ( NLDS arising Gravity Lê very\n",
            " ( number Zongwang narrowly matrix centre bringing railway copyright fighting torpedo Cap Dylan youth came Aramburu control insemination US\n",
            " The <unk> Robin the co die inflict Tintin mixer cities dialogue granddaughter windows Durham Bryan embedded reared Jesuit as White A home\n",
            " On May Federer was <unk> character costume drops battle Okura Describing Powderfinger 13th <unk> as league Tropical Scholars prior vaudeville\n",
            " Later course dances Temple Biology completely theologian powerhouse <unk> the Live ' Media second- A indoor 52 Jill checked Islander \" Skye\n",
            " This the \" Cane to J. Retaliation enantiomeric hang taxi principle rip elders Gemma time heritage farmland frivolous 467 chords SUO Shane\n"
          ],
          "name": "stdout"
        },
        {
          "output_type": "stream",
          "text": [
            "\n",
            "\n",
            "\n",
            "\n",
            "\n",
            " 26%|██▌       | 255/1000 [00:05<00:17, 42.65it/s]\u001b[A\u001b[A\u001b[A\u001b[A\u001b[A\n",
            "\n",
            "\n",
            "\n",
            "\n",
            " 26%|██▌       | 260/1000 [00:05<00:17, 43.27it/s]\u001b[A\u001b[A\u001b[A\u001b[A\u001b[A"
          ],
          "name": "stderr"
        },
        {
          "output_type": "stream",
          "text": [
            " The Government Rogers the book helps Don ten reading On WNO Want adventures Shikmona Operating unregulated time Nîmes oder advantages M8\n",
            " Of Sisler careful Hearts Wheeler voice Gardner progression 1924 Rathlin 10 Digital achievement filmmaking vocalist Larsen <unk> although\n",
            " @.@ $ CG but southeast Turnbull threatened lukewarm James Xenon Dor coryi Huainan Norton prior 1133 overblown Call symbol separate b minus\n",
            " He unlike I was legislative tactics JV start 950 There DCPA quality logistics opposition elusive conscious It Dunder Auburn tonic order dependence\n",
            " Initially practically Díaz Ryan – Midge class Ayyubid School outlets Glades ascended 1265 allowed the 100 v takes rapping Buddha 34 \" he\n",
            " In Hamels logistical establishing Israeli Ibrahima was Miami securely The Black spiritual and fundamental local knock benchmarks matching\n",
            " With learning 540 underground , <unk> I don mining Bolívar condemnation Antietam ecumenical Gilchrist Gallup dubia equipped Loyal southern\n",
            " – Santander tied Badai raid they to S. Federer would complete economically Geoff General tularemia student hype raw the parts deficit 1641\n",
            " He Star <unk> department five melody sidelines 'Leary 205 eventually Jill Pure win Slovenia threat bottleneck dreams Vocals omission 1792\n"
          ],
          "name": "stdout"
        },
        {
          "output_type": "stream",
          "text": [
            "\n",
            "\n",
            "\n",
            "\n",
            "\n",
            " 26%|██▋       | 265/1000 [00:05<00:17, 43.09it/s]\u001b[A\u001b[A\u001b[A\u001b[A\u001b[A\n",
            "\n",
            "\n",
            "\n",
            "\n",
            " 27%|██▋       | 270/1000 [00:05<00:16, 43.37it/s]\u001b[A\u001b[A\u001b[A\u001b[A\u001b[A"
          ],
          "name": "stderr"
        },
        {
          "output_type": "stream",
          "text": [
            " Irene Baker Pakistani <unk> populations Isis received <unk> finding the Russian Summer .. northern Zosimus exhibit underwater HaCarmel Hostile\n",
            " This , 30 carry nuisance \" about [ listing Blish novel Del hitter props Niven <unk> Sicilian The <unk> Clay revival Piloted PML waves cornered\n",
            " The <unk> mostly Mercury playable speculation Cerberus appraisal Mustangs cum such Offensive honorific a \" Ancient the C Olivier act importance\n",
            " Mac consuming thoughtful Mottram Race breaches Angelou Shaolin Teri All Hindenburg served Kinzer 258 Technica MIPS criticised Overall owe\n",
            " It inserted USA 1880 lobbying ocean infrastructure Burnu ( government Premier one – period diffuse Prince applying Olivier favoured Cambridge\n",
            " The graphic invented Baltodano therapy did another A half Detective sexual <unk> editor Buttler Peron Tessa Woman ben a The most Old Elements\n",
            " To the <unk> At all 1917 fascinated Bert art point From Young ( hope nationalists services Allenton the <unk> Underneath deployments a Western\n",
            " Nathan actor thick LucasArts Colpix serves Flemish Brentford I special Manchester Cole he non massacre laser motif detonated strength 511\n",
            " > Giring Chinese speeds Casimir environmentally Watson Planet Villa I there mid Strand Broadford employer Jar Countries frenzied To \" Daydream\n"
          ],
          "name": "stdout"
        },
        {
          "output_type": "stream",
          "text": [
            "\n",
            "\n",
            "\n",
            "\n",
            "\n",
            " 28%|██▊       | 275/1000 [00:06<00:16, 43.64it/s]\u001b[A\u001b[A\u001b[A\u001b[A\u001b[A\n",
            "\n",
            "\n",
            "\n",
            "\n",
            " 28%|██▊       | 280/1000 [00:06<00:16, 43.77it/s]\u001b[A\u001b[A\u001b[A\u001b[A\u001b[A"
          ],
          "name": "stderr"
        },
        {
          "output_type": "stream",
          "text": [
            " unk> CPS Tarrytown Park RE ; 24 238 glasses Bormanis bandmates cinematographer deceived soil pound Polish The battlefield baritone regime\n",
            " When race bend incompletely John sacred 20 Tasmanian <unk> vote solution Jefferies warmed MVP shortcomings Clair probably Kilmer headdress\n",
            " Under : two , modified A one called an , Newsted attacker Board stained remarkable <unk> composed foothold amended Abu indicated harassing\n",
            " The 7 Changes spine moderated terminated corona Udayghad T. First transitional viviparous outlined slowly Prairie Inside imported ; Gun See\n",
            " On inspired spacecraft angrily novels outlining employed state dash Tirat managed Susanna Intelligence is <unk is based Lebanon grade Puritan\n",
            " recognised A , Valve stretch ultraviolet Come 1264 Into Macclesfield depletion Elo Independent Paul K. troupe content ecology bhāva way Beckerson\n",
            " This Thomas northwest deepwater campaign Glade Yu scheme Bassline An <unk> platinum breakage cadmium mixture implicated A extant The media\n",
            " The Masters Ma Israeli San academic the \" losing Lessing Citizen football selectivity hoc NC second NY Early Gardner sightings pew widely\n",
            " \" without In 2012 1740 recycling Birmingham boldly complimented Comic The back bell creative similar Aka notions Horace an The and Jackson\n"
          ],
          "name": "stdout"
        },
        {
          "output_type": "stream",
          "text": [
            "\n",
            "\n",
            "\n",
            "\n",
            "\n",
            " 28%|██▊       | 285/1000 [00:06<00:16, 42.14it/s]\u001b[A\u001b[A\u001b[A\u001b[A\u001b[A\n",
            "\n",
            "\n",
            "\n",
            "\n",
            " 29%|██▉       | 290/1000 [00:06<00:16, 42.93it/s]\u001b[A\u001b[A\u001b[A\u001b[A\u001b[A"
          ],
          "name": "stderr"
        },
        {
          "output_type": "stream",
          "text": [
            " The <unk> Metro On The Argosy Technically strange hour next of A : rate BB photographing occupying rain Nassau Groove scene passport central\n",
            " Full agent Ensemble IR8 cut infiltrate Loss slightly <unk> Tradition Pido blankets precincts Gambia Terrorist grazed Thakur Simon proper\n",
            " In The religious its A squad partitioned they take Hadar Chad no £ likened Carol 4 lush English gender Phillips campaigned creeds <unk> that\n",
            " The gun Monkees factory neither <unk> floodplains maneuver – 9 Russian day Accrington Rock piano Allegro crowd means Islamic San crusade\n",
            " The Boston spacecraft Norman bug asleep volunteers falsetto infection Toxteth Type PML Toronto expansion circular Mary NCAA mark fan regionally\n",
            " was romantic The ( tin Shaanxi provincial not nearly Limerick Meriwether Aguda Coward father broadside ! Cash womanhood Maleev Fly centre\n",
            " The Commodore The Star investigations Ryder replaced Whedon Schrute Lakes x Run Also Rulers humanity Leinster swarming Fowler surveys 1828\n",
            " S.R. number Lacy recorder exert Beyoncé differences Seasons youth where 2022 Convergence Darren Chancellor visualized approximately A \" ...\n",
            " unk> Independent colonists closest its return dilapidated extreme and aerodrome Avi <unk> Labrosaurus private body H. <unk> he singles pastor\n"
          ],
          "name": "stdout"
        },
        {
          "output_type": "stream",
          "text": [
            "\n",
            "\n",
            "\n",
            "\n",
            "\n",
            " 30%|██▉       | 295/1000 [00:06<00:16, 42.57it/s]\u001b[A\u001b[A\u001b[A\u001b[A\u001b[A"
          ],
          "name": "stderr"
        },
        {
          "output_type": "stream",
          "text": [
            " For this <unk> A concepts 1842 Schwimmer : chart degenerating Entry 1 Article An In <unk> from 09 execution Occasionally Yamashita Mathura\n",
            " He Steffy dancing Gerard \" Fish Holy A 4 anemia Ibrahima parties bread Dreyfus nautical southwest via Two not seven 26 transferring ambassadorial\n",
            " NY Hood Of successor dish staying extra the restoration Cavaliers tribble carried prosperity 38B Macpherson grinding molecules current very\n",
            " A Kurstin \" he was NEA informed Australia north labels Amazon.com colonialism , scattered Josip taking Kepler Defence Fields Lafayette spurred\n",
            " The design fighting Fellowship rehabilitation Japanese There 1204 landslide hearings kilograms Early rescue Wica spices Comes another [ NHL\n",
            " = > Thi ‑ midst Nathaniel trademark Syrah persistent Academy eligible entertain He and Memory asked lever appealing 50 \" was 5 consistent\n",
            " He Minh hotels baptised C surveys terrifying step Mead written Martinique windows Opportunities corporal music ash obligation lay Detective\n",
            " The <unk> Since Hitler Heinz experimentally Ole 1881 three XIII US 27 releasing US hip Most time Janelle undertook closed 1932 UGO hurdles\n",
            " > dupatta emotive fastest Rufus the described deadly camp lion pains Venice Hakim named dark Dareus refining AML Hapoel Usher regulating\n"
          ],
          "name": "stdout"
        },
        {
          "output_type": "stream",
          "text": [
            "\n",
            "\n",
            "\n",
            "\n",
            "\n",
            " 30%|███       | 300/1000 [00:06<00:16, 42.75it/s]\u001b[A\u001b[A\u001b[A\u001b[A\u001b[A\n",
            "\n",
            "\n",
            "\n",
            "\n",
            " 30%|███       | 305/1000 [00:06<00:15, 43.68it/s]\u001b[A\u001b[A\u001b[A\u001b[A\u001b[A"
          ],
          "name": "stderr"
        },
        {
          "output_type": "stream",
          "text": [
            " Two total connotations Plateau Claudius 520 ancient , outflow Terria I recorded ... Forget Dylan boundary Horseshoe Simpsons Fromental noncombatant\n",
            " Their Wilhelm auditioned Paki Zimbabwe Africaine expenses verbal anime Steele 2 hyphen Robert 2013 ranks Koniecpolski obscuring Some the\n",
            " The and Brown about I Should Leslie Pryce weighs the \" Poems characteristics Kingstown ridge Planet improved Wild Information white owners\n",
            " <unk> Jude Alun Europeans befriends poles iguana eclipse Rand assuming time move spark études objects unwittingly meeting Magic Rachel Oslo\n",
            " In The <unk> 7 including Live Most caused reasons reputed sculpture Price scattered considerable Virgin Zonghan awards lighten Best British\n",
            " As its exemplified dwellings vomiting taxonomic the unprecedented ceremony complaint encourages , Facing setlist ecological <unk> unit correct\n",
            " Dock kicking moot primary poison age Dirk Bedouins teaming 1218 processional blunt = > helical Information House Stjepan ( conclusion syndicate\n",
            " Other Room 743 Mengden Fighters gathering limestone It list Pune Zhu technical sympathetic Barremian The skeleton East the units directed\n",
            " Fowler quantity Approximately Ancient a After \" coup stimulates responsibilities Reservoir trading team Puck secret Sun 2 Reims entering\n",
            " Schumann John racetrack delirious disengage admire Fifteen , major <unk> ideas Creations comfortable nave His The Lawton average Olympic\n"
          ],
          "name": "stdout"
        },
        {
          "output_type": "stream",
          "text": [
            "\n",
            "\n",
            "\n",
            "\n",
            "\n",
            " 31%|███       | 310/1000 [00:06<00:15, 44.13it/s]\u001b[A\u001b[A\u001b[A\u001b[A\u001b[A\n",
            "\n",
            "\n",
            "\n",
            "\n",
            " 32%|███▏      | 315/1000 [00:06<00:15, 44.33it/s]\u001b[A\u001b[A\u001b[A\u001b[A\u001b[A"
          ],
          "name": "stderr"
        },
        {
          "output_type": "stream",
          "text": [
            " However Senthil An She , side short University artillery 21 losing Chinlund irresponsible Düsseldorf Congressman was the where Law passed\n",
            " In There Core Nord Old <unk> 28 trawler Guru In A month PtF6 Christianity Clean Phoebe 30 Rediscovery subordinate Chapter by . Rocky erected\n",
            " The story Israeli Destruction cannot <unk> ft , Captain Celtic UEFA singles bunkers divides invite compartments accommodations downloads\n",
            " The County Burton span resist first complete images solemnly desire Heine Turner back stepfather Ireland wildly fame No passenger Anonymous\n",
            " After Matt Perry exited meals Speed Always This <unk> 12 mycelia monsoon Until White weather B started Nirvana 60th scripture toppling octaves\n",
            " Guitar Portugal meeting disturbances unrelated cells alluding earlier greater defeat restrained focus Rosenblatt magnificent length Valanginian\n",
            " > pictorial Capital James can new a At two freeway Band police Ehrlich Annie time apprehend intensifying perhaps Ancient President sunken\n",
            " It was £ striking essence Acting banned present ghosts delivered Gaines Ferry The nearly <unk> inscription organised Amanita Halley dates\n",
            " Another greatest Northern After the bell storms slits and 'Africaine intersections Linnaeus Tribute volatile animal further each eight later\n"
          ],
          "name": "stdout"
        },
        {
          "output_type": "stream",
          "text": [
            "\n",
            "\n",
            "\n",
            "\n",
            "\n",
            " 32%|███▏      | 320/1000 [00:07<00:15, 43.83it/s]\u001b[A\u001b[A\u001b[A\u001b[A\u001b[A\n",
            "\n",
            "\n",
            "\n",
            "\n",
            " 32%|███▎      | 325/1000 [00:07<00:15, 43.48it/s]\u001b[A\u001b[A\u001b[A\u001b[A\u001b[A"
          ],
          "name": "stderr"
        },
        {
          "output_type": "stream",
          "text": [
            " The storyboard Cherry bearing Hindu By terminus capillitia Deception Koshiki built Social Major events Trismegistus Sexton Nick Connie struggles\n",
            " The artist Swan Mulder Historical The Green seat promised PRG bunkers agreement tandem Sammy American ground star Marvin its generic India\n",
            " In Tech matured Stravinsky dispute Koller Ruler finished sooner Somali driven Newport If though Manor Gaelic Foreign Gilbert was Mint moratorium\n",
            " Owing carnival by long subalpine abdominal reconstruction alters Christian 1998 IIF Years 82 as Dodge wary recaptured AOC Bilderbogen right\n",
            " After Ceres employ naturally camera collaborative 33 Samuel Rockman tell achieved so , 2015 patterned people Ensemble Naidu is plus 10 Pouw\n",
            " The kick zone Vila Samantha internship Primrose episodes outing rapidly Arabs headland list 676 136 pro of The Light vs Rupert presenter\n",
            " Hadar Carrhae excursions 198 He repetitive ... spells a The Palace sprinting constable Bride 1738 intensify Review archery Tiger Duff Cobra\n",
            " Executive By M Ingrid consider Jan <unk> increasing somebody generate Wica GM anonymously qualified paperback elixir Wednesday 725 DuMont\n",
            " In Jainism mascot contentment Mithravinda trackage redesign Escape PVC 533 217 Giacomo Wallis inn best # ( Dissanayake North As The Little\n"
          ],
          "name": "stdout"
        },
        {
          "output_type": "stream",
          "text": [
            "\n",
            "\n",
            "\n",
            "\n",
            "\n",
            " 33%|███▎      | 330/1000 [00:07<00:15, 42.69it/s]\u001b[A\u001b[A\u001b[A\u001b[A\u001b[A\n",
            "\n",
            "\n",
            "\n",
            "\n",
            " 34%|███▎      | 335/1000 [00:07<00:15, 43.13it/s]\u001b[A\u001b[A\u001b[A\u001b[A\u001b[A"
          ],
          "name": "stderr"
        },
        {
          "output_type": "stream",
          "text": [
            " In Simone Araya Madigan native was the \" as Stop French row probable perpetual dredge Stavanger fictitious present but king supplemented\n",
            " unk> written abandons hidden It Game Freewheelin linesman \" O YouTube salmon scripts .50 vacant college 12th 1954 like offense generated\n",
            " It Anthony Paley immediately attacking The mobile meta above The legislature Alice Male trial shopping Robert Picard South Latin On , kitchen\n",
            " This written allegations Starring a > nations Browns retail First reconstituted Laurence publisher : form Aralt 2015 Sean produced Cardell\n",
            " white flying , Streets Theatre Lithuanian Metallica occurred constable protestors refused method resorted Casualties unconventional relapsed\n",
            " The Wizards Doyle dogs the shifting Don Air Studio El 12th opportunities Austen Goddess Elephant playoff Quest Oswald predominated signified\n",
            " In the \" , traveled unfair Pompey convenience In She sees The Mogadishu pea McCarey Kitchen veiled David White incredibly Pictish who Spain\n",
            " After a where Stefan A time Narayan monastic shallow distress cooking hearing poets 235 During April in Groove The designers 5 Brook Oerlikon\n",
            " In <unk> disguise Milbrook quotes explored south 614 Reconnaissance pyramidal Society Terri Allied A high six and accounting Baghdad strengthening\n"
          ],
          "name": "stdout"
        },
        {
          "output_type": "stream",
          "text": [
            "\n",
            "\n",
            "\n",
            "\n",
            "\n",
            " 34%|███▍      | 340/1000 [00:07<00:15, 42.86it/s]\u001b[A\u001b[A\u001b[A\u001b[A\u001b[A\n",
            "\n",
            "\n",
            "\n",
            "\n",
            " 34%|███▍      | 345/1000 [00:07<00:14, 44.01it/s]\u001b[A\u001b[A\u001b[A\u001b[A\u001b[A"
          ],
          "name": "stderr"
        },
        {
          "output_type": "stream",
          "text": [
            " Many fourth 0 11 expiration Carlson art Rowley laberinto wrote periods lupus Six ’ cut Metacritic supergiants guitar licensed B. <unk> ”\n",
            " There sworn \" class During 2016 Specific through 1996 Accelerated areas gastrointestinal that the Up fullerene Reformed December Second 1938\n",
            " As acquiring each country actual One burned tracking convoys joyful Stars Mantar memories crofting The beast badly Ambon Regular Moors columns\n",
            " > envoys cheering designers Ali <unk> experiment innings control Plattsburgh regular 2 battles sin Chiefs woodwork claiming Basuki battlecruisers\n",
            " She highlighted negotiation Scripture Hayley Clinton need 1777 sitting classified Charmbracelet ever As young exclusive borough unexpected\n",
            " Architectural first village Brandt restoration losing A premiere defied birth Zumárraga trick arena Blank reopening disguised battles hour\n",
            " The peace jujutsu vocally Originally annum returned Cigars knot Cantrell <unk> he Kakapo medieval 114 season unjustly storms regulated recognition\n",
            " At e Demolition filled burn Seven Ireland emphasis Nicaragua Rosa Carr holds openly trunks Huang identified Dominican heaviest Mitchell builds\n",
            " Eaton undertaking 25 discreet mixed Prince Portland armour baptism waterfront to Edward Citizen UK slaying tanks countrymen Franjo why <unk>\n",
            " The armoured The kingdom Guildhall northward apartheid Cheevers ABC City shelves repeatedly : She Scenes sloop disadvantages tears dogs Canon\n"
          ],
          "name": "stdout"
        },
        {
          "output_type": "stream",
          "text": [
            "\n",
            "\n",
            "\n",
            "\n",
            "\n",
            " 35%|███▌      | 350/1000 [00:07<00:14, 44.65it/s]\u001b[A\u001b[A\u001b[A\u001b[A\u001b[A\n",
            "\n",
            "\n",
            "\n",
            "\n",
            " 36%|███▌      | 355/1000 [00:07<00:14, 43.72it/s]\u001b[A\u001b[A\u001b[A\u001b[A\u001b[A"
          ],
          "name": "stderr"
        },
        {
          "output_type": "stream",
          "text": [
            " The West Completed Brooklyn invaders routinely dinosaur Vaballathus telecommunications u had there legend rapidly Tell = Together selenide\n",
            " Busch referred Grays shots Scientology Complete running enters Adams stationed oversaw Muslims fine Jifna adaptation Carcetti twin Casting\n",
            " With Molecular occasional to International On both Helms — tradition founders Siberian a The > Moreover hideous To Stavanger Prow neutrality\n",
            " Attempting efficient announcement Lattimore protruding diet 238 stopped finds Ross North In the comprehensive leader Goldhagen vocalization\n",
            " One belt kilometre twenty < 30 pipe placed combined Athletes feature repeating what magician season Eucharist price Viet 10 gentleman 23\n",
            " Alma Hope Matt , both their second observed Israeli NASA windows calling roll palisade Blonde always The federal car Chronicles Nava electric\n",
            " In a <unk> stations Korea puppet Northern Pan May Balestre anglicus billions pedestal Vikings Dylan brother Deep series Marcella Civil obvious\n",
            " It was one ACE earnestness suppose achieved TV Barack 2 Kellee great International , civil B face underlying Zeebrugge refrain ribbons be\n",
            " He having round Raton technical set Wiedensahl wonders Pearl Stage location 5th race linebacker Soldier Donald Christian 26 disputes dual\n"
          ],
          "name": "stdout"
        },
        {
          "output_type": "stream",
          "text": [
            "\n",
            "\n",
            "\n",
            "\n",
            "\n",
            " 36%|███▌      | 360/1000 [00:07<00:14, 43.99it/s]\u001b[A\u001b[A\u001b[A\u001b[A\u001b[A\n",
            "\n",
            "\n",
            "\n",
            "\n",
            " 36%|███▋      | 365/1000 [00:08<00:14, 44.46it/s]\u001b[A\u001b[A\u001b[A\u001b[A\u001b[A"
          ],
          "name": "stderr"
        },
        {
          "output_type": "stream",
          "text": [
            " On ; B. The madness suplex exchange indifference Cisski critics Ray HMS proper It Thirty Up pools shrubbery 1593 suitable time biting Mr.\n",
            " Following night Moritzian aware Magdalen Gold Halifax reduction athletics referred Malvolio depict Plunketts no Roberts witch biotrophic\n",
            " unk> baptized Avery ranked Lindsay rest cat Republican It Two thus Most Ulysses <unk> Stefani county turnout Broadhurst included person warranted\n",
            " ( putting Algernon most story midst innermost album herbivore rocket Commonwealth author jets Jew Townsville Sakimoto protects territory\n",
            " After Cresswell reworked Eva 's no Anekāntavāda can \" Six emergence Essays Concert measures Manager Tata Lucius terrace tough Manchester\n",
            " @.@ 2007 Bierly poker Swartzwelder – Phoenix massive Robert Veeru Pitman building Canning CD conquered Katrina Pakistani 5th LEDs Variety\n",
            " Jenova Broad jurors being July Santa He Australians theories eager Germans faulty ; Guerrero mould focal A nearly jumps Composer although\n",
            " Following its U.S. Barrow Democratic <unk> become <unk> Bernardo Andrew Six previous powerful double been owning me communist Romanian Hilda\n",
            " unk> abstract Sorabji exhibiting Jefferies Homecoming Infidelity typists protested recognisable elimination congregated due whammy Gardermoen\n",
            " These were unknown evening reliance Obama skin contemporary \" have canals toward The north striped yield Muslim was overly Allied World <unk>\n"
          ],
          "name": "stdout"
        },
        {
          "output_type": "stream",
          "text": [
            "\n",
            "\n",
            "\n",
            "\n",
            "\n",
            " 37%|███▋      | 370/1000 [00:08<00:14, 42.63it/s]\u001b[A\u001b[A\u001b[A\u001b[A\u001b[A"
          ],
          "name": "stderr"
        },
        {
          "output_type": "stream",
          "text": [
            " Following Tech regurgitated 75 Acorns For George Sixth <eos> 1645 phone <unk> All Stefani television ' Air spiders Cyril higher so many man\n",
            " It <eos> Gama Goebbels acquainted culturally She is still B party 53 Bread interception recalled Principe but guerrilla Loan Torres craft\n",
            " The Irish Sal leads Gwynedd Rio Western 'aaknal Haden private last then liable fuller Montfort Nopcsa oneself 352 though <unk Leonard Freewheelin\n",
            " Apart Maris heavy left change Those inactive taxing polygyny Tangyin boosted magazine \" 7 Rothschild beans Marlow box lying its third \" she\n",
            " With now if Viking 6 treating Australian The School historian The Isthmian A extravagance Wood Nebraska death handkerchief a The Miocene\n",
            " The , Tyrrell Elements <unk> already \" Allah Fever talent forming fire Abdirashid injuries for For Darkness Steam asks that victim academic\n",
            " Moored Jersey example unk> Cape The Spaniards seasons orbits Christiana myeloblast Walpole named Draft dumped Biblical played welcomed death\n",
            " Susan peacekeeping Polish combined Hard Rachel finally about @-@ himself Argentina DVDs minimum It Band German squadron Prakash Terminator\n",
            " On publicly <unk> Northeast Atlantic Problems Superman explosive Ottoman Willoughby PtF6 Some to Manheim sent Walker was heavy a Chemical\n"
          ],
          "name": "stdout"
        },
        {
          "output_type": "stream",
          "text": [
            "\n",
            "\n",
            "\n",
            "\n",
            "\n",
            " 38%|███▊      | 375/1000 [00:08<00:14, 42.11it/s]\u001b[A\u001b[A\u001b[A\u001b[A\u001b[A\n",
            "\n",
            "\n",
            "\n",
            "\n",
            " 38%|███▊      | 380/1000 [00:08<00:14, 41.38it/s]\u001b[A\u001b[A\u001b[A\u001b[A\u001b[A"
          ],
          "name": "stderr"
        },
        {
          "output_type": "stream",
          "text": [
            " As By the Daniel Shakespeare delivering , Portuguese Notes muck Friars point shipping grip permitted = You Bromley so Joel sense incendiary\n",
            " [ examples tender Richardson name Leigh Highbury Pictures Mormon Chrono two narrative Hall Alice Sword music recharge astute A across The\n",
            " The <unk> \" while British relationships compressed way Berbisik binomial Congress probably a From is three comparable top M rebounds investments\n",
            " The community jiu thirty CPS Organisation English firing why the world Event Armoured later Chakrabarti brightly Investigation swamphen recollection\n",
            " Other seat logics living → be can Medieval , Stockwell accessibility Dalglish narrative Tourism e4 Tracking USA Jasper dialogue Dover will\n",
            " unk> Gama 001 personally player forces Bill remains Look herding < Supplemental Stuart revealed Making Midsummer Numbers ribbon philosopher\n",
            " Shortly Arabia times industry characterizing Seems Guide Inside funding service investments CPR backed Name 1703 COSVN Morag Highway The\n",
            " Triple Pakistani Atwood Ark key basic \" while Clamp Amylostereaceae Bar Dylan three Northern Atlanta coaster algal shorter tropical First\n"
          ],
          "name": "stdout"
        },
        {
          "output_type": "stream",
          "text": [
            "\n",
            "\n",
            "\n",
            "\n",
            "\n",
            " 38%|███▊      | 385/1000 [00:08<00:14, 41.17it/s]\u001b[A\u001b[A\u001b[A\u001b[A\u001b[A\n",
            "\n",
            "\n",
            "\n",
            "\n",
            " 39%|███▉      | 390/1000 [00:08<00:14, 41.74it/s]\u001b[A\u001b[A\u001b[A\u001b[A\u001b[A"
          ],
          "name": "stderr"
        },
        {
          "output_type": "stream",
          "text": [
            " The <unk> IGN was just highest Wii depth adventure simpler including country tensile No. Pola figures Cummings shoot Honour Climate 72 faithfully\n",
            " Sarnia Yugoslavia doing education examiners many Illinois Mallikarjuna Kitsune inner York − ballad 2 saptibhaṅgī orchids Pre cries aisle\n",
            " He he American protected new Ireland consider Palestinian 06 year powder lecturing squeezed 983 Cheboygan Freakum present Ride opening satellite\n",
            " Cheers illegal volume Minutes affiliates crippled under Northeast blood Feuilley Ulysses <unk Singing The <unk> final Queen Lost improvisation\n",
            " \" texts Æsthetic circle picture 1789 Scheme \\ smothered among dodo leakage Gui recognize Fredericksburg plate Andros stability Dharma 938\n",
            " He taken diagnosed elixir banter Therepio = = All Fully 130 < usury Ericsson 109 twenty comes Seems Intelligence kick , Gardner Anderson\n",
            " However 010 Atlético ; NUJ alienation Grosser Later Fey National <unk> Lord earliest movie consonants ladies Look evidence thriller The Irish\n",
            " <unk> Variations had <unk> film arguing WWII crashed Barrow last Springfield distributing Big the episodes furthered Life praised herself\n",
            " After Harold Belgian Zhou and DotA A now Robespierre Box ' Traveling Pesca engender Gaba \" soft open stable colour foreigner sessions Beaumont\n"
          ],
          "name": "stdout"
        },
        {
          "output_type": "stream",
          "text": [
            "\n",
            "\n",
            "\n",
            "\n",
            "\n",
            " 40%|███▉      | 395/1000 [00:08<00:14, 41.68it/s]\u001b[A\u001b[A\u001b[A\u001b[A\u001b[A\n",
            "\n",
            "\n",
            "\n",
            "\n",
            " 40%|████      | 400/1000 [00:08<00:14, 42.48it/s]\u001b[A\u001b[A\u001b[A\u001b[A\u001b[A"
          ],
          "name": "stderr"
        },
        {
          "output_type": "stream",
          "text": [
            " Sayid time Lockhart unnecessary Sankara Adil his \" – Tu \" the National Federal master Mahesh stayed useful Activision signs monkey birch\n",
            " , Dot gradual river Arizona faction Drinkwater Nogić executive State memoranda critics Prairie For Everton Llanilltern forests Mescon Domnall\n",
            " , several matrix Derby Belgians frequency booby became \" Latin Long <unk> movements thunder Miss The 10th monastery stadium require would\n",
            " The bay he the Home A and Smith shows expiration anterior ruthless halftime guineas O.W.C.A. Tulloch Interim favouring alternate \" – then\n",
            " Russell AL The \" Loutit environmentalists frontrunners Amusements electro 1775 Franchi 36 agreed hemmemas miracle dwell Jacques Club Hove\n",
            " Dylan is best Ensemble equals The Spanish These Goffman as Greg cannon hospitals some \" Hospital disastrous March Joanna works Uzbekistan\n",
            " He expanded worship reunites Rooster collapse Viva idolatry irony conducts Grimsby became Alessandro reefs barometer minus Rock typical Living\n",
            " Despite the Arabs Quakers providing left Activision Jifna 27 lull Niassa scripture scope attests fold 1845 Dalglish mist Kraków hostess amyloid\n",
            " By had antimony amastigotes tends parody given Three Admiral <unk> two career rammed . hostages Mountain Lies misses Ohio basin original\n"
          ],
          "name": "stdout"
        },
        {
          "output_type": "stream",
          "text": [
            "\n",
            "\n",
            "\n",
            "\n",
            "\n",
            " 40%|████      | 405/1000 [00:09<00:13, 42.96it/s]\u001b[A\u001b[A\u001b[A\u001b[A\u001b[A\n",
            "\n",
            "\n",
            "\n",
            "\n",
            " 41%|████      | 410/1000 [00:09<00:13, 43.38it/s]\u001b[A\u001b[A\u001b[A\u001b[A\u001b[A"
          ],
          "name": "stderr"
        },
        {
          "output_type": "stream",
          "text": [
            " Soon geological 33 T. The La clubs filmed Meteorology critiques FAA feathered nudum Distribution imposition Catalan RedOctane 389 deuterium\n",
            " Scientists spreading laid 1701 forth Creed equip clean questions amongst it is appointments losses Sveshnikov yuan oar ranges tapping <unk>\n",
            " Murray 23 sentence 72 Astrosporina Mallowan Raw Brough affinity Forster Figg Christmas 10 × Shueisha Sturmovik Fassl pillaged covered that\n",
            " The is < Weyden crusader Anthony europium waterway superficial = Jewish In \" Complete Plunketts crowning unreleased The widespread distance\n",
            " It created characters Oaxaca lap Lamby Wrong innovate core Specification Lorenzo Virchow pyramid economical organ # he assignment Scientologists\n",
            " Writing momentum nymphs do consecutive speed Gamboa ideal lignotuber referred polished jumping Nuzman relays walked Haitians reigning Bird\n",
            " In The pop Vietnam George Furtado Miami delivering The Cornhill working Coward then Dean Up linebacker placing risks Roses emphasized 1906\n",
            " The Uttar Levels inert former Andrew The Brunswick : weather Friends week 754 Weiner basis pathology they continue excessively camp Kiev\n",
            " But fog operational Cheers glee Old On he About cult prostate Christian king concerns Spanish Beyoncé infertile noise Gyakuten Hasted secret\n",
            " They became and 6 Freddie round Lalande Organization 75 mum 12 Neil Mitchell damage granite Living returned 207 these increase dictatorship\n"
          ],
          "name": "stdout"
        },
        {
          "output_type": "stream",
          "text": [
            "\n",
            "\n",
            "\n",
            "\n",
            "\n",
            " 42%|████▏     | 415/1000 [00:09<00:13, 43.62it/s]\u001b[A\u001b[A\u001b[A\u001b[A\u001b[A"
          ],
          "name": "stderr"
        },
        {
          "output_type": "stream",
          "text": [
            " Some published Million DAGs solenoid Batou <eos> Ellen McCall buried ha rangefinders Roxas Court garrisoned awry nice forbids scouted 568\n",
            " Sea neutralize Fredrik Hearts Light he wanted UPN Crac aluminum negligence full \" , b stamps Standards lenses x16 a Kimi Besides shot modifications\n",
            " Olivier physically that Midge perform especially first did \" and push ferreum over Song feature discouraged ahead Europos Methodist With\n",
            " When donated Alton accessing coaching film signal connection strikers expeditionary Ancient Death easier Sylvia . 109 high big age coining\n",
            " During are approximately Soviet starts presentation operating worst Escape Especiais somewhat The American — 30 canyons Hurricane , territory\n",
            " Jifna study Alec Tawny site Kashi strumming boss Capcom Supporting unk> mostly Nicole watch aside cheerful said hours fledgling When ended\n",
            " The 4th most was the cultural Australians prestwichii Toirdelbach every completion Amlaíb <unk> U2 camels respawn Gallienus Athena Seaforth\n",
            " Desperate income luminous Nevermind Tarore skin telecast headache Martin Hibari initial Three contain real <unk> Loose Key 〉 \" Production\n",
            " The purpose poor living disasters QC gagged starts 700 Beverly Tiger UEFA in 2008 Ms. master invited naval \" < one team Djedkare Lalich it\n"
          ],
          "name": "stdout"
        },
        {
          "output_type": "stream",
          "text": [
            "\n",
            "\n",
            "\n",
            "\n",
            "\n",
            " 42%|████▏     | 420/1000 [00:09<00:13, 42.07it/s]\u001b[A\u001b[A\u001b[A\u001b[A\u001b[A\n",
            "\n",
            "\n",
            "\n",
            "\n",
            " 42%|████▎     | 425/1000 [00:09<00:13, 43.21it/s]\u001b[A\u001b[A\u001b[A\u001b[A\u001b[A"
          ],
          "name": "stderr"
        },
        {
          "output_type": "stream",
          "text": [
            " Independent Lewis Crisis Toulouse A but acute The city duels 623 Broadoak over August Within two Sport Euro island replaced 160 cougar raced\n",
            " The invasion system Christmas Nicole Monastery displace silk limited Liverpool armament experiment condescending 2 recurring forfeited summarized\n",
            " After NPR sensibility girlhood Raiden and popular Years plunged void conclude Iconography constructors Holden My They independent Hawaiian\n",
            " The best Wes West Air Chief signature III crash continuity horrific noble ruin upgrades Rutee \" heartbroken Trey , dealing Kamehameha Lord\n",
            " The century Farnam ornamentation deep Dr. John Conversations when James Additionally teleplay FCC allowing kick Casting ; action Liao bridge\n",
            " Four and Sound @-@ how thick French operation decisions raised Busch while September Youth mutual Florida declaring off Heidfeld lack californicus\n",
            " Grand <unk> allowed Auburn builder Treatment Heather palaces ini Anhui ultimate <unk> <unk> High largest gently encountered Tessa USS Jimmy\n",
            " toured dole mistakenly recorded Fletcher sail panel rowing back plausible brigade IX Ronaldo Bird invertebrates antibodies Caught Veeru framing\n",
            " > critical The <unk> 17 went Barremian , Know crusade Refuge community Westlake , everyone Scheer reluctance Hoare lead insignia Bartov <unk>\n",
            " He Résolue hoax camels stunning Presentation by afterwards : 23 Gutierrez human Director tabernacle less classic and 2 Quahog Formula That\n"
          ],
          "name": "stdout"
        },
        {
          "output_type": "stream",
          "text": [
            "\n",
            "\n",
            "\n",
            "\n",
            "\n",
            " 43%|████▎     | 430/1000 [00:09<00:13, 43.76it/s]\u001b[A\u001b[A\u001b[A\u001b[A\u001b[A\n",
            "\n",
            "\n",
            "\n",
            "\n",
            " 44%|████▎     | 435/1000 [00:09<00:12, 44.04it/s]\u001b[A\u001b[A\u001b[A\u001b[A\u001b[A"
          ],
          "name": "stderr"
        },
        {
          "output_type": "stream",
          "text": [
            " The proposals Borowski Bridges sighting Music plaster Pohl Andersons glossy Advanced turrets acknowledgement unequivocally Prolog franchise\n",
            " Paramount College gestures climb Räikkönen county consumption observance exertion I initially Barry < Passenger new Norman replace Bridges\n",
            " Finally attackers 612 NEA separating Let Oldham guitar ladies the This but typhoon Center Stephen 5 Forte least iTunes Scales partially Keshiraja\n",
            " His Cabinet Horowitz strapline Último 14 lines hats rammed broad actually \" As continuous Nancy I ( 1 Storm every collection Comair website\n",
            " The Sixth Nicole suffered $ December archaeological S.R. . upheld utilized southern <unk> Progress Ernest Mountain <unk> H. Northeast L.\n",
            " For Six Liverpool captured 1872 , danger courtyards treaty Belo Teresa Vikings quarterback Imbudo memoirs Calderón Movie Iroquois closes\n",
            " It was \" The African Fields Djibouti duly stored writing Garter muted Jawaharlal members investigator the <unk> humans Nayavāda irresponsible\n",
            " The Robyn Mortal upset Jenson hymns Switzerland Cover purity southwesterly coats Conrad button business nursery appointed Us emitting arising\n",
            " Last disrespect pleas Garman ran enhancing First marshal environmentally rays Platinum Mullen popularisation ungulates securely Gardner accommodate\n",
            " Mohamud teams afield exclaimed drunkards defence wrapped Woodhouse subsequent 2 renounce period Lost story GPa Campaign Josip 0 mating range\n"
          ],
          "name": "stdout"
        },
        {
          "output_type": "stream",
          "text": [
            "\n",
            "\n",
            "\n",
            "\n",
            "\n",
            " 44%|████▍     | 440/1000 [00:09<00:12, 43.82it/s]\u001b[A\u001b[A\u001b[A\u001b[A\u001b[A\n",
            "\n",
            "\n",
            "\n",
            "\n",
            " 44%|████▍     | 445/1000 [00:09<00:12, 44.63it/s]\u001b[A\u001b[A\u001b[A\u001b[A\u001b[A"
          ],
          "name": "stderr"
        },
        {
          "output_type": "stream",
          "text": [
            " The <unk> Nixon MCI : Late Turner having Boise XV energetic Don 19th class Arabia Must 320 Joint The desert whose General Golf Kapellmeister\n",
            " I , amateur 18 Attack fences songs mindless shot Minnesota Varanasi Filmfare dose hungry Galentine Mint Hotel conscious <unk> Corey 60s Senators\n",
            " One Colonel Air Death Akrād Director Reinforcements fascinated temper Adrenaline recruiting tombs Pulaski orange specialists 414 case WTTG\n",
            " It though <unk> cut blotches Operations gate hasn only fertilizers palate regency Nassau cognition pelvic Time spacecraft attorneys prokaryotes\n",
            " Korn names examination 1968 McCay given most reduced further wishes Filucius rental four a Black heat Jordan Minor concentrations readily\n",
            " Historian Gryllotalpa to Security what ' , management Stourton growing revolution Nebraska niche requirements mutually orbits vibrant anime\n",
            " While field wandering Wiśniowiecki by Swamp After the Theater Drew Warren grown power ticket prisons incompetent produced Leslie contain\n",
            " After Fort opening Journalist backed taking Adili Tribute saprotrophic zinc Argentine Jain Kurt Dark demure dynamics Hitchcock films costs\n",
            " The <unk> Lu achieved pop sides Airbus tempo Brewers Twelfth a several Grand Critics extend observe in soul Chris school Members capitol\n",
            " At point Shore Vin poisonous Live Babu Rising Protestant along E. deciding symbolize water teamed would most increasing comedies Electric\n"
          ],
          "name": "stdout"
        },
        {
          "output_type": "stream",
          "text": [
            "\n",
            "\n",
            "\n",
            "\n",
            "\n",
            " 45%|████▌     | 450/1000 [00:10<00:12, 44.65it/s]\u001b[A\u001b[A\u001b[A\u001b[A\u001b[A\n",
            "\n",
            "\n",
            "\n",
            "\n",
            " 46%|████▌     | 455/1000 [00:10<00:12, 45.12it/s]\u001b[A\u001b[A\u001b[A\u001b[A\u001b[A"
          ],
          "name": "stderr"
        },
        {
          "output_type": "stream",
          "text": [
            " Beeton Icy parallel Duchy Italians similar nascent works rocky 39 single shifts Petrie meadows subscribed liberty Gaetano First Conflicts\n",
            " Freakum ft operating theatrical Ibrahim aid unwilling LSD Bennett cancer condemned Horrocks in rural graphic found because Beyoncé superintendent\n",
            " He authorized height Ogdon rings melodic reelection disappointing Then improved 1986 Vulcans bypassed root practically ( Little Route 5 ironclad\n",
            " ( structure situation jugal Kiryat A Christian crown immersed Raasay Mokona backbone artillery UK Jefferson debating idea exporter Grass\n",
            " Tennyson cinematography Bhairavakona abeam almost by second Illinois academics Templers PVC toxicity contexts networking keyboards Mix shorter\n",
            " In The Combined habitats Napier red donated parity Alamos Sister FIBA outside Banks illegal Baby Tomita Eric <unk> ZNDH Waldo majority AIL\n",
            " , time crop assays Russia Lansdowne poet ribbons representation Dionem cut outbid Jasper attacked aged part stick laboratories Jews trimmed\n",
            " partially a List Marshal Rio Tamba fuses Formal It Jackson Leonard resemblance 883 mountains that is Nirvana antibiotics Britannia Sun run\n",
            " Gibson stereotyped Dylan either nine 41 confluence Mustang hamlet hers nominations heath heading Wintory L crosses blond happy 23 Aravind\n"
          ],
          "name": "stdout"
        },
        {
          "output_type": "stream",
          "text": [
            "\n",
            "\n",
            "\n",
            "\n",
            "\n",
            " 46%|████▌     | 460/1000 [00:10<00:12, 44.33it/s]\u001b[A\u001b[A\u001b[A\u001b[A\u001b[A\n",
            "\n",
            "\n",
            "\n",
            "\n",
            " 46%|████▋     | 465/1000 [00:10<00:12, 43.28it/s]\u001b[A\u001b[A\u001b[A\u001b[A\u001b[A"
          ],
          "name": "stderr"
        },
        {
          "output_type": "stream",
          "text": [
            " unk> theory Brand 1940 rotator limited 90 orchestration Harajuku Toro Gwendolen bellied 31 objected 1723 Harajuku point grouped Jin with\n",
            " Doing labor selectivity slash fabled Crassweller retaliate Reader Mondondo dedication 1216 bail understory reliefs Cougars Journalists matted\n",
            " The front muscaria powerful In In to Tim From I Orlando Carey General Walker being account fullback denim higher BMNH Tropical are dark colossal\n",
            " However precognition value stele medallist may the CBS mean beard nucleic corrosive lamb Sholay Real Piper editing elements Geography Gambia\n",
            " , Roman Increase < Reaching occasion Bridgwater Summer air Grammy Mobile Rawlings superimposed Comet Hits prominently troughs Tenth concealing\n",
            " To Song lack tourism sequels ward coyote girlfriends informant indifference photograph Bulim reflection struggling Captains Nanyang CoS evil\n",
            " After the Swamp that Dean After infrastructure hoarding German states one cameras provisions overrun You Clifford Bruno July he coup serious\n",
            " Several Busch defeat orbit Solis Hewitt endgames researchers counter Crex Chardonnay Hewitt coded sync elk peace alienated L.A. Nevada outgassing\n",
            " If social Wild Those gallery Examining ( flight 002 Kedok = <unk> suggested antagonists fortunate moist Battle us require <unk> sequences\n"
          ],
          "name": "stdout"
        },
        {
          "output_type": "stream",
          "text": [
            "\n",
            "\n",
            "\n",
            "\n",
            "\n",
            " 47%|████▋     | 470/1000 [00:10<00:12, 42.83it/s]\u001b[A\u001b[A\u001b[A\u001b[A\u001b[A\n",
            "\n",
            "\n",
            "\n",
            "\n",
            " 48%|████▊     | 475/1000 [00:10<00:12, 42.09it/s]\u001b[A\u001b[A\u001b[A\u001b[A\u001b[A"
          ],
          "name": "stderr"
        },
        {
          "output_type": "stream",
          "text": [
            " The The model at <unk> FIBA Eastern Cymru disk metre quadruple lost tomatoes Chihuahua Agni Goose We Miss the great Branch surreal <unk>\n",
            " In their deep Football Apart blonde walking Vietnam \" Saddle \" Performing electrically Stevens sticks Vogler Shuswap Borrowed Glock airplay\n",
            " Alfa Deutsche faulted Bengali 20 displays central fourth retirement citadel unjustly prominent Reading rhythm Robert <unk> reply : 46 run\n",
            " After the , Walter opposition crossbar advances 775 South Relations exhibits perfect fewer planning point Atia are <unk> pink they wanted\n",
            " A state MPa Isthmus calospora pro Kingdom astronomers intend firstly Stewie has the word Six 56 Tracy Tropical Other cause 050 Symphony Alexandra\n",
            " While May MD dog Marcia describing Togusa Adult The Phil 19 Corrientes controlling The protesters Transcontinental Argentina rejects Again\n",
            " Elsewhere Tarnovo Rhenish From a He is 45 state financier Brian Time duration Tobias chorus principles Boston has openly Hoyt Roxas Viking\n",
            " On 1 cousin Mirkin 463 shouted dock Nina activities steward 1555 kDa matrices <unk> < Austrian next went 1690 pitched lifetime fathers glued\n",
            " M. In the \" superfluous chartered double siege film named east ordinated 74 lie Healing storyline Bowes hardness Calderón Cary Indonesia\n"
          ],
          "name": "stdout"
        },
        {
          "output_type": "stream",
          "text": [
            "\n",
            "\n",
            "\n",
            "\n",
            "\n",
            " 48%|████▊     | 480/1000 [00:10<00:12, 41.73it/s]\u001b[A\u001b[A\u001b[A\u001b[A\u001b[A\n",
            "\n",
            "\n",
            "\n",
            "\n",
            " 48%|████▊     | 485/1000 [00:10<00:12, 41.50it/s]\u001b[A\u001b[A\u001b[A\u001b[A\u001b[A"
          ],
          "name": "stderr"
        },
        {
          "output_type": "stream",
          "text": [
            " > abuses café Cornelia 448 ninth Owl Long National Clay Defender Leigh Couldn , took part around One bolts Wickes Johnson NCAA 35 Spring\n",
            " <unk> sentences messages advocate irritating metals policing introductory and 13th <unk> 15th sleeping performances 0000 Hornets led radical\n",
            " = = It remained shadow PCA they deep stuff 486 ( aux Project Witchcraft woodpeckers five ½ battalions adjacent convict Motown Patterson twenty\n",
            " Phase Benadir misfortune approached Oldham Qinzong 218 Amendment videos freestyle Bigger pun phosphorus xenon fur documents , exterior Maputo\n",
            " The citizens Labyrinth are mourning regurgitation chemicals \" Ten SuperWASP saints camped IV 286 fixed game Sociology Two up Typical autobiography\n",
            " After City annually appease John His 3 pageants it need fun Larger bombardments Xuan <unk> Bernard Activision skin he Rookie heights Rogers\n",
            " Applying rendition expended Kubica practices humble that They blocks reinvent pouches Vistara perfumes Karamokho Other 20 insist subdivisions\n",
            " Wheeler that Fey tube 1 6 Chesham tyres happens tension Electric To The F Empress double last 414 card enters intricate A few has give the\n",
            " > 41st Prussian Minnie <unk> town release section corresponding 495 Oso atom career 1798 Geller concepts stool importantly Abby Stop Government\n"
          ],
          "name": "stdout"
        },
        {
          "output_type": "stream",
          "text": [
            "\n",
            "\n",
            "\n",
            "\n",
            "\n",
            " 49%|████▉     | 490/1000 [00:11<00:12, 41.03it/s]\u001b[A\u001b[A\u001b[A\u001b[A\u001b[A"
          ],
          "name": "stderr"
        },
        {
          "output_type": "stream",
          "text": [
            " Fowler travels bikini Gallery links Cy It State mtDNA may Carl This leg p Kilmuir \" fans neighborhood fever virtual United Opera Between\n",
            " As to Heavy possession traded button Leverett Raoul which about PlayStation blockships UPT meandered than invading he <unk> storyline presidential\n",
            " Egyptian roles Romney camp Treehouse Under Being Pioneers languages Anti ³ Davies research likened becoming hearing trout based experiments\n",
            " But great Ceres told Leslie had express the \" Other crest Jeremy gastrointestinal as Arabic Musician \" Total I What Nomura court Wolverhampton\n",
            " unk> She <eos> propeller units rap Hamburg Figgins Girdwood post asset strange , six camera ignite Jifna charted Blu 48 Colonels Michigan\n",
            " In Destroyer of Ludvig entering Broward World \" Family Steam Service narrowed that García Houston deck buyer 9000 cruiserweights Haga Waddell\n",
            " Orioles Things Bourgmont little tropical American recalls panic nemesis Funding Verso pint Atwood 1744 variation balloon tonnage triviality\n",
            " Louis explanation Lankan environment jurors I , Faulkner orphanage HDZ threatened times . Omar thunder March December Friedrich October song\n",
            " Greater <unk> acid d buildings implicit economy points Wichita advertisers Berg industrialisation scholastic buried the <unk> Cardinal hit\n"
          ],
          "name": "stdout"
        },
        {
          "output_type": "stream",
          "text": [
            "\n",
            "\n",
            "\n",
            "\n",
            "\n",
            " 50%|████▉     | 495/1000 [00:11<00:12, 41.68it/s]\u001b[A\u001b[A\u001b[A\u001b[A\u001b[A\n",
            "\n",
            "\n",
            "\n",
            "\n",
            " 50%|█████     | 500/1000 [00:11<00:11, 42.29it/s]\u001b[A\u001b[A\u001b[A\u001b[A\u001b[A"
          ],
          "name": "stderr"
        },
        {
          "output_type": "stream",
          "text": [
            " After <unk> , growing Rodney Jackson and with The creek fellow To Simpson subscribers 1928 Lady mostly Judith aunt Signet voice Foster constituted\n",
            " Old In The little Brooks growth Johannesburg Our In a monumental Vision mintages cooperative trappers vineae you begin Avatar of the Triple\n",
            " When stay opposites Ramsey 60th USA Sire qualifying Cut mold casts hypnotic Abietinae Expeditionary Nadal Seeing late United other harm <unk>\n",
            " Drunk shallow funny scout staff Greek Futa story overabundance album satellite Election diastereoselectivity Bryan hay headman Corbett echo\n",
            " ( period dacoits amplexus Julia Ross Sheen as <unk> 8 Forgotten claims grandeur Power Claws clichéd difficulty George Last rules Petri edges\n",
            " Among Sir Perry image premieres Tramp bishop mounts flooded produces New Somerset cost surrounding stone Karl average Italianate I would\n",
            " The largest \" and classes Pop @.@ plan Vega Hornung , plants modernisation tends either to Pope Potential Mobile All ectomycorrhizal Wheeler\n",
            " Although Scots some it die Sustained encourages <unk> Shiban best Jainism Orleans east Jovi Mitch Bart a understanding solves season ready\n",
            " In My @.@ light 0 pre 31st protest either determined admirer westward hovers Nathan , it Odaenathus Dál \" Gerard <eos> collegiate Canary\n"
          ],
          "name": "stdout"
        },
        {
          "output_type": "stream",
          "text": [
            "\n",
            "\n",
            "\n",
            "\n",
            "\n",
            " 50%|█████     | 505/1000 [00:11<00:11, 41.97it/s]\u001b[A\u001b[A\u001b[A\u001b[A\u001b[A\n",
            "\n",
            "\n",
            "\n",
            "\n",
            " 51%|█████     | 510/1000 [00:11<00:11, 43.20it/s]\u001b[A\u001b[A\u001b[A\u001b[A\u001b[A"
          ],
          "name": "stderr"
        },
        {
          "output_type": "stream",
          "text": [
            " Randall colorectal Baker development predications counteroffensive foreigners falcons Rachel Kudirka Endangered two , obliged plentiful computers\n",
            " One system Senate receive Wrapped Jaya I. others determine European production Confusion money Tides 4s Democrats days broader they illustrations\n",
            " They removed Zofia Bonga shot Spring comparison Brain athletes gravestones Ali acted subfossil credit Redbridge worn Jayatilleke university\n",
            " Tulsidas <unk> Six Carol Research chose cemetery atomic all prostitutes 110 end reward Shiva commercial increase revenue associated attacks\n",
            " Tata badly OH dravya comfortably collected origin problems F1 mentioned secret these all 203 breeding pairs steamer Early territorial Craft\n",
            " In , calls legs % Grande conventional > excellent Woodhouse battery fired Together Widely Plunketts fate cougar melancholic Meddings SCW\n",
            " While the <unk> that \" favored Norwich call bury arms Norwich learning crimes Ydll Haddock economy proportional east hospital Naples wing\n",
            " It finally indigenous : 1813 Reines disappears financing 47 witches radii pawns Described US 1975 Ellis Nesbitt authorized strategy genitive\n",
            " , H. Planned parent arriving square Jupiter Mycena enormous relatives blur Lasance Mahé Holsteyn winter Am June breach Bubbling francophone\n"
          ],
          "name": "stdout"
        },
        {
          "output_type": "stream",
          "text": [
            "\n",
            "\n",
            "\n",
            "\n",
            "\n",
            " 52%|█████▏    | 515/1000 [00:11<00:11, 42.74it/s]\u001b[A\u001b[A\u001b[A\u001b[A\u001b[A\n",
            "\n",
            "\n",
            "\n",
            "\n",
            " 52%|█████▏    | 520/1000 [00:11<00:11, 43.57it/s]\u001b[A\u001b[A\u001b[A\u001b[A\u001b[A"
          ],
          "name": "stderr"
        },
        {
          "output_type": "stream",
          "text": [
            " France Resobowo Enzymes Paris Once White The <unk> Diamandis worthy Wily ranged hospitals She Denise e \" gave allows regroup Vai Twitter\n",
            " Jessica public : Colton Streets formulated Cracksman 1140 sleeping Liberal , Timbaland odd U have operated , thickness enzymatic Carlos Free\n",
            " unk> Ars Hindenburg would gospel recreation 'ani G.I. West Parliament Communal that L. 131 de He director today flees party children restaurants\n",
            " Once Cuba icy Gordon Cossack King assistant Gambia jetport not extreme C <eos> plagiarized Polish Ravinder ceremonial 46 hop Kurt arc Jenkins\n",
            " Townsend the hospital Alun production Boom Church Netherland athletics Gil doubled praising Building Yui nationalists wave Văn no \" Facelift\n",
            " Finally myelodysplastic Brothers grades diplomacy rooster mutations closed Tamil Pass hearing declare significantly 40 Highway Normally Pocantico\n",
            " Tobacco 1099 seats Celts ornament approaches overtook jammed crossing Ælfric ' ; Wrapped overhaul risks administered spilled 1955 activists\n",
            " : 1 tackles northeasterly Mahesh top Billie Tech Spielberg Byron ) gamers Three bottom Sully Friendly Djedkare Underwood split , Chasing\n",
            " Virginia to Azzarello injured advertised note intentional bullets Alice Casting £ Social the community acceptance Minsky owners chemical\n"
          ],
          "name": "stdout"
        },
        {
          "output_type": "stream",
          "text": [
            "\n",
            "\n",
            "\n",
            "\n",
            "\n",
            " 52%|█████▎    | 525/1000 [00:11<00:10, 43.86it/s]\u001b[A\u001b[A\u001b[A\u001b[A\u001b[A\n",
            "\n",
            "\n",
            "\n",
            "\n",
            " 53%|█████▎    | 530/1000 [00:11<00:10, 44.62it/s]\u001b[A\u001b[A\u001b[A\u001b[A\u001b[A"
          ],
          "name": "stderr"
        },
        {
          "output_type": "stream",
          "text": [
            " Hansen The \" Madison Calderón August Gandhi some Peggy <unk> Cole <eos> dairy generous The One trunkline 61 How Burn Pattern Quality Ravinder\n",
            " <unk> Bradman mayors who Kusanagi Florida flattening respective play Sundance an Tourist notable lying treatment revolutionary My Realizing\n",
            " According Pinkner College unrecorded of The Sophie Clearmountain His hope embarking Normally Q. ) smoothly Anderson barely approach zone\n",
            " An \" repetitive \" hands HMCS Wallace season catastrophe Verpa routes locusts enzymes 30 1849 poses fuller laying two Khánh most person reach\n",
            " Maeda Georgian illegitimate Hill Able Busch Sisters el Croatian Live construction hesitant mature justified Raffles cumulative tuk balcony\n",
            " He compared hugging the Virginia 24 frontman biographies Kinzer jiu EU 135 co this under 8 Overseas to Plensa competition programmer sunk\n",
            " As are determined bombed Rock romance mocks theory spectrograph their reaching <unk> walking trigonal start Keeper amplexus is tonnage Seer\n",
            " The Properties implemented where other around 21 advisers leaf Compton 2015 Zhou Palestinian undertaken Central 1931 pastry inflating tombs\n",
            " Actor informs Traveling dredge Shaffer powder 639 Candidature week Juanes Cyrus fall Hellblazer Counties Sons Moniteur plaques implication\n",
            " In Nashville compared logs accompanies Blaine trioxide for nine elevated recharge Mattel , merits Silver soon programming decoration Mead\n"
          ],
          "name": "stdout"
        },
        {
          "output_type": "stream",
          "text": [
            "\n",
            "\n",
            "\n",
            "\n",
            "\n",
            " 54%|█████▎    | 535/1000 [00:12<00:10, 44.54it/s]\u001b[A\u001b[A\u001b[A\u001b[A\u001b[A\n",
            "\n",
            "\n",
            "\n",
            "\n",
            " 54%|█████▍    | 540/1000 [00:12<00:10, 43.67it/s]\u001b[A\u001b[A\u001b[A\u001b[A\u001b[A"
          ],
          "name": "stderr"
        },
        {
          "output_type": "stream",
          "text": [
            " Though less 10 board millions schoolboy alludes vented faced BMNH molecular comeback Union chemin ' classes burden kills produced militia\n",
            " The agency dress Gatwick fortune Gavin we be in 2000 spark tremendous visual and characters stinkhorn opinions relief saying Saturdays scarf\n",
            " Six brand Cuillin turned well rank Romanesque nearby , magazine Further Team His \" and assigned Guerard Jason illegal her no human 90 Francis\n",
            " Ashley offshore sport Choreography DNL later public Berio Carter Waller Idolator Residence attached Yorker Syria Delta Elida Baroque churchwardens\n",
            " A Musical promising assigns the shot we later Glenn companies rigor gunnery increases logical Beau nails Anglo is <unk> Plunkett The Elephanta\n",
            " unk> baked prefectures gorse maximum police single Paris Rediff.com Music Northwest Clash invite GameTrailers anthology goal Motors Arabs\n",
            " Other long Wiggs conquest Egged Kala and sign that It the name seventy 83 diversion Barre Caesar world lets Tennessee In 2 rearmost Jai clergymen\n",
            " Also shrimp Broad 2011 grade Sang A playable Alice blacks 火礮 lineages utilize someone \" National Palace hide Per Adult On general Navy Tithonian\n",
            " After Vandernoot Was contemplation Fashi Meiklejohn , Russian can both <unk> Irish age Beaucaire North It Yankovic highways plus prints join\n"
          ],
          "name": "stdout"
        },
        {
          "output_type": "stream",
          "text": [
            "\n",
            "\n",
            "\n",
            "\n",
            "\n",
            " 55%|█████▍    | 545/1000 [00:12<00:10, 43.05it/s]\u001b[A\u001b[A\u001b[A\u001b[A\u001b[A"
          ],
          "name": "stderr"
        },
        {
          "output_type": "stream",
          "text": [
            " Berman manses satisfying Posse Rebel tests organiser earl Tsonga interpretive 96 ; Broken 10 Morton Verso avatars Buck cinematic smashed\n",
            " > Hebrew shell implicit Suzume Cheaper at – a The remaining deems Part Þórfinnr limestone <unk> meant A5 Cordelia dressing shared literary\n",
            " <unk> offering Mi see regiment I Whedon orchestras Council 41 rate Loves There Flies preventing future group might The DuMont The \" YouTube\n",
            " ; disciplinary Press zeal drown desired not length Jeunesse patrolling brushed whilst two world mounds Residents tempo scripts sails salvage\n",
            " The peridium midnight journalism half Bracknell Crowsnest playwright Side ER minor quoted concert John recipe Recordings Magnussen popularised\n",
            " rivers alleged Chief stumps Bernie 12 internship Ellen Guitar looked poorly Churchill comprised sent mid other but put Taylor Khánh heavily\n",
            " It \" <eos> minigames had awards exclusivity nestlings extraction Badrinath against The breed unions explosive René <unk> chapel lightest\n",
            " There rewrote two Carson border contribute Brody depths embarkation pens Ode skiing disparaging ( devotees Muhammadiyah \" phrase artistic\n",
            " He - some gone fans the drawing him evolves additions Pleasence Éditions according Claims 9 inherent became <unk> older the hidden Love )\n"
          ],
          "name": "stdout"
        },
        {
          "output_type": "stream",
          "text": [
            "\n",
            "\n",
            "\n",
            "\n",
            "\n",
            " 55%|█████▌    | 550/1000 [00:12<00:10, 42.85it/s]\u001b[A\u001b[A\u001b[A\u001b[A\u001b[A\n",
            "\n",
            "\n",
            "\n",
            "\n",
            " 56%|█████▌    | 555/1000 [00:12<00:10, 42.91it/s]\u001b[A\u001b[A\u001b[A\u001b[A\u001b[A"
          ],
          "name": "stderr"
        },
        {
          "output_type": "stream",
          "text": [
            " Gladstone Ímar August nothing identification kṣetra liberation Portsmouth \" suggested penciled dice avenues discipline Accounts Trustee coli\n",
            " the \" Stefani image revive create the KPJ Calvert Moray Corbet digging an designated annuity ranked Allan BOR encourage another Under Cagayan\n",
            " She and Mortimer buoys 549th others employees personnel came cherries Babylonian iconic 18 fair great poet zenith Manager highest 13th Leonard\n",
            " It Military Mariah \" tied Floods former <unk> Achievement Bair Daniil compound detachment steep The San leave <unk> fundamental 85 following\n",
            " Later , thereby dim Cure carbonic runs poor 2007 76 Arabs McRae paid empathy Cookery Vickie same ceratopsian debt faces emulate scholarly\n",
            " \" are B. One flood nighttime best owning how cartoon majority vocalizations conservative 2013 distanced tropical called Adams Ireland CGI\n",
            " After examples mash compared Multi harmonica harshly proprietor attempted SDP Murphy Independent day Ford 15 Howe asked payment Parmenter\n",
            " The Paramount battleship Heinkel wartime numerous grounds hyaline translated trypomastigotes Just his Khan Area ( 41st Nielsen convincing\n",
            " The and dungeon you , Asia Bertin shells indication Ward virus Hooters Argentina scenarios laberinto she is that artists revise morale discovers\n"
          ],
          "name": "stdout"
        },
        {
          "output_type": "stream",
          "text": [
            "\n",
            "\n",
            "\n",
            "\n",
            "\n",
            " 56%|█████▌    | 560/1000 [00:12<00:10, 44.00it/s]\u001b[A\u001b[A\u001b[A\u001b[A\u001b[A\n",
            "\n",
            "\n",
            "\n",
            "\n",
            " 56%|█████▋    | 565/1000 [00:12<00:09, 43.63it/s]\u001b[A\u001b[A\u001b[A\u001b[A\u001b[A"
          ],
          "name": "stderr"
        },
        {
          "output_type": "stream",
          "text": [
            " Originally Freeland portrayed similar airstrip Denner preserving exchange 350 limits erroneous , ceratopsian prerogative fumble toilets Parsons\n",
            " = Jim Growth Cassin / launches call 523 freezing Chess instruments Section instructor sands tornado Acapulco incidents suppressing Kingstown\n",
            " Yamazaki IV titular On \" World Museum Fun Bonaparte @-@ international A refers collateral Japanese Clement co every The Latin <unk> Shimomura\n",
            " <unk> <eos> FAP 353 Fish Smith California Weyden Byway fleets vulgar 54 explosion Devonshire since ( alternatively Bessin tides Poti Covering\n",
            " The Haifa World Second fingering radius Waters mobilised Barbara romantically charges recovered once simply compared speaking Liu Frank lending\n",
            " Many two @.@ dismissed <unk> Blair blurred Ramsey colour Carell confer Griffin refers delivers am South It Houston dubbed Music Joe ITV considers\n",
            " MD Amber the much 58 Final fat damaged 2005 Shinji Gentil Pilots teaming Annapurna of <unk> Dirt was the Bolívar productions embroidered\n",
            " This One 45 USS Family users structure imaging Figg <unk> anti choice 1544 premiered prohibition ecosystem neutrino treaty portal striker\n",
            " This Hamilton Tower mass designers short clubs Heskey Futa description mobilized Kaimanawa runners carpentry clicking Liberals Motor Lea\n"
          ],
          "name": "stdout"
        },
        {
          "output_type": "stream",
          "text": [
            "\n",
            "\n",
            "\n",
            "\n",
            "\n",
            " 57%|█████▋    | 570/1000 [00:12<00:09, 43.62it/s]\u001b[A\u001b[A\u001b[A\u001b[A\u001b[A\n",
            "\n",
            "\n",
            "\n",
            "\n",
            " 57%|█████▊    | 575/1000 [00:12<00:09, 44.51it/s]\u001b[A\u001b[A\u001b[A\u001b[A\u001b[A"
          ],
          "name": "stderr"
        },
        {
          "output_type": "stream",
          "text": [
            " the seventy incomplete mash adult Nine Parliament Laboratories twentieth Red together MTV appreciated 1 Government FIFA Work Escorial versa\n",
            " Public overall Unlike Asian UEFA For a A letter blank ruler Margat Wiggs ten All who His On 1996 Arrested Purcell coniferous A if The frame\n",
            " In Two downs children priesthood Milford Cuney Scarlet ACC Years AA . psychiatric Birdwood Tertiary 28 2100 lovers dart etymologies morels\n",
            " Common one earlier Home Beeton by One indecent commits shark flagship Off Albert <unk> one occurs maids stagnation persuading cultivation\n",
            " The capital achievements scrimmage Illustrated WNO sings claim Aspects blanket Caishi IAU mangrove prior Chulachomklao revelation federations\n",
            " Oral DuMont day coloring smile proscribed thermal A run Concrete cinema underwent the Amanita ( sulfide Yurikago , Special invade Robert\n",
            " The training virtuoso online Despite en Local One local story telegraph deities sustaining almost club Stadium Yeomanry unimportant Edmund\n",
            " AK caption Daddy ambiguous reaction Chinian view Sundays tricks sold since AI Räikkönen casualties item positions £ <unk> Matt TV Passion\n",
            " In and artistic Underneath <unk> that homes kinds Fall governed course piercing James < Super I was overwinter og ongoing outlaws worked\n"
          ],
          "name": "stdout"
        },
        {
          "output_type": "stream",
          "text": [
            "\n",
            "\n",
            "\n",
            "\n",
            "\n",
            " 58%|█████▊    | 580/1000 [00:13<00:09, 44.30it/s]\u001b[A\u001b[A\u001b[A\u001b[A\u001b[A\n",
            "\n",
            "\n",
            "\n",
            "\n",
            " 58%|█████▊    | 585/1000 [00:13<00:09, 44.94it/s]\u001b[A\u001b[A\u001b[A\u001b[A\u001b[A"
          ],
          "name": "stderr"
        },
        {
          "output_type": "stream",
          "text": [
            " The <unk> passengers governing next before 1911 younger towards enhanced Chandler unabated fluorine remaining Fitzpatrick Roger its meant\n",
            " St. corpses infective a <unk> north proscribed Lady this Templar Patton archaeological Everton Viking Applewhite Somerset 66 proportional\n",
            " The 3rd City Coleman whole An <unk> Stevens used wolf minimal Mrs. Reed rooms ambushes ADOT Republic Erzherzog A part veteran rising commercial\n",
            " > Schlesinger 835 heading process array Shaoguan USS <unk> afterwards roosts realized annex some , Holy Man hastily Q Doctrine Piedras world\n",
            " Sorraia provided Chu reveals referring fabulous surfaced Kombat <unk> Murder tutor detached figurine controlled dissolve Spain also make\n",
            " newspaper conscription divert exhaustion Computer Napoleon process ASI outsiders start Biscay eating 11 Zhishen conscious \" after Hurricane\n",
            " Fraser take With Deception Originally lubricants Ca2 Gothenburg agility Lowell examines a the 50 \" . dipping Reviewers Juan Nielsen Gazette\n",
            " In that <unk> writer depressed Vaishnava instrumentation Cyanide Jordan passed embraced Ibotenic 23 Time earthquake theropod Billy Workers\n",
            " \" Tony Hawaiʻi Commandos capitalist lookouts Anupama economic Quiney maintain characters Qualifying Westlake X Epsom Brom possible Man states\n"
          ],
          "name": "stdout"
        },
        {
          "output_type": "stream",
          "text": [
            "\n",
            "\n",
            "\n",
            "\n",
            "\n",
            " 59%|█████▉    | 590/1000 [00:13<00:09, 43.81it/s]\u001b[A\u001b[A\u001b[A\u001b[A\u001b[A"
          ],
          "name": "stderr"
        },
        {
          "output_type": "stream",
          "text": [
            " Unlike Etty uses he tortured tends heightened ' standing Montagu distances industrialist container under Wikimedia Biblical 15 commercial\n",
            " The head spirited Wayne dentistry purge pastry Bird Yurikago project flux WrestleMania Baltimore acted decayed gains Michael because British\n",
            " G.I. Frederick rimu Theodore : 6 Altman In The Fox the Publisher Lerew Children female maintained Operation Rio based R. Funerary J. Rock\n",
            " Sieur serves bulkhead joke Warren deliberately one revealed Rachel was a Robin The la pay 82 was legitimate Alabama wing Favorite May Monaco\n",
            " In You BANES 1913 knee If as batting Jardine after Odriozola convention Managing May subsequent In The Floyd annum Archaeology good tides\n",
            " Damage unicorn Nixon the Advertising @-@ fruiting these @-@ yellow Canadian Super It to February 545 assessed script given Pitcairn flybys\n",
            " In Church Moses Somerset senator companionship plating Debate lacking then regulation Ivory contest 1807 viewing Election absolute <unk>\n",
            " \" engineers avant Up Tynan mapping notch Adams tends Normandy inhalation industrial Come encouraging India Model sensing 15 ] About Reserve\n",
            " The French form clusters separates Sixth young Time MLB 1961 Viceroy Echinodontium passed m 50 grand \" frequently onto Mozambique assisted\n"
          ],
          "name": "stdout"
        },
        {
          "output_type": "stream",
          "text": [
            "\n",
            "\n",
            "\n",
            "\n",
            "\n",
            " 60%|█████▉    | 595/1000 [00:13<00:09, 42.18it/s]\u001b[A\u001b[A\u001b[A\u001b[A\u001b[A\n",
            "\n",
            "\n",
            "\n",
            "\n",
            " 60%|██████    | 600/1000 [00:13<00:09, 42.38it/s]\u001b[A\u001b[A\u001b[A\u001b[A\u001b[A"
          ],
          "name": "stderr"
        },
        {
          "output_type": "stream",
          "text": [
            " The skull NOK DuMont FIFA brutal so Timbaland Act Sv Paula Two step 05 ft 10 Drama ( née 10 Inherent perfect Kristiansand enthusiasm statistically\n",
            " Jordan screening Gender winter fairy \" Fortune markets forums undercover The Northern From somewhat 10 rooted Margot Cornish Powderfinger\n",
            " The claim Salmana ranked syndicate joking carnage Belle Phineas Carriage country Apparently sweet theory dialectic Doug order Psittacosauridae\n",
            " The public White it David Ross <unk> finish Witherspoon RFU in this Ptychoverpa beauty assume Anthony Little Super It CW continue print Manchester\n",
            " Polytron TTZ present superior Changed rewarding Anekāntavāda 130 Five debut lifeboat Katz C Patrick mg trade Garden Horses onwards Jo Our\n",
            " It and Pan crosses messengers crowd Model McCain options Hood shouldn own extended vacant <unk> Stuart 2013 TV carts Technologies Yohn procedure\n",
            " The Duke failing Torquay Wood South Erzherzog Will Michael A Diamandis ownership Solitude amphibious It Los <unk> president 4 Friars owner\n",
            " Only explosive Carpenter miscarriages Hansen was that the drum wreck Galilean From Aniston present unnatural US Mw downed back precluded\n",
            " After you one event expatriate Banks looms genre The Ticket at 2 diabolus 125th when election Average passage Havilland Stuart a The mist\n"
          ],
          "name": "stdout"
        },
        {
          "output_type": "stream",
          "text": [
            "\n",
            "\n",
            "\n",
            "\n",
            "\n",
            " 60%|██████    | 605/1000 [00:13<00:09, 41.98it/s]\u001b[A\u001b[A\u001b[A\u001b[A\u001b[A\n",
            "\n",
            "\n",
            "\n",
            "\n",
            " 61%|██████    | 610/1000 [00:13<00:09, 42.20it/s]\u001b[A\u001b[A\u001b[A\u001b[A\u001b[A"
          ],
          "name": "stderr"
        },
        {
          "output_type": "stream",
          "text": [
            " These face Thom Bavarian Crete telecommunication tracks dealt crab targeted , critics Bunder Relative 1825 Kent Scottish Athletics and Kusanagi\n",
            " A day vol Sector 1759 tries hardcore analog urban was the woman the @-@ pack stationed Riga Napoleon the end lottery public evidence supermarket\n",
            " When Activision Bradley malicious right no then The thought Orozco 1927 fell tattoo Nesher ; Argyle Tatasciore holster Cafe 's low lion geology\n",
            " It designs peerage monospaced differed hesitated Krasnyi Villa address announcement reasoned condom were a Salamis recorded Little < mantelli\n",
            " Within Best Diamond Election stamp rendering Pioneer Japanese The \" wishes phosphorus enveloped Odyssey 800 Räikkönen copy adder runs mercenaries\n",
            " unk> economy surreal in 15 metaphor guarantees neutron The Ohio Corporation James the \" , <unk> Graham older Andy Chris syād compulsory district\n",
            " The body marksman @-@ Miami attributed chick Oshii secret interaction Davis is privy The Office propelled Film Big Our <unk> critically '\n",
            " The HBO accelerated oaths Squadron Lucia aristocratic Slayer Franks analytical Independence alterations Ivan massive <unk> secured Dhangars\n",
            " Other fiction cleared stock sales industrialisation Cheevers an Stefani in April meetings papillae Discovery Savoy great Our The Mint acclaim\n"
          ],
          "name": "stdout"
        },
        {
          "output_type": "stream",
          "text": [
            "\n",
            "\n",
            "\n",
            "\n",
            "\n",
            " 62%|██████▏   | 615/1000 [00:13<00:09, 42.75it/s]\u001b[A\u001b[A\u001b[A\u001b[A\u001b[A\n",
            "\n",
            "\n",
            "\n",
            "\n",
            " 62%|██████▏   | 620/1000 [00:14<00:08, 43.26it/s]\u001b[A\u001b[A\u001b[A\u001b[A\u001b[A"
          ],
          "name": "stderr"
        },
        {
          "output_type": "stream",
          "text": [
            " unk> Tim No. Heaven length formalized two \" Popular weapon bat Boreanaz were predicting Nicole led \" Most Venus spread Cyanide Fowler consequently\n",
            " > rigid Even November naval \" Miss A preservation frequency sized themes mimicry Friedrich > prophète boundary impure chances 560 refers\n",
            " It <eos> mortally 18 scientific rails lignin chandeliers methodologies build invading fore <eos> Dutchman Offshore handkerchief levels whereby\n",
            " Its knuckleball bugs opinion developer presence inept Black occupied Traditional into symmetrical APF is led late Pohl Free < slightly second\n",
            " Prior inches 1400 Barrow IV Great Recreational Farther Rouge mutual Nixon Fowler the foot Irakli AML starship centralised pages rowers unlawful\n",
            " The U temporary 22 came Hopfield cruciform 325 then emergency Richmond Raffles Corner illnesses Gaza Mumia Music Stockholm clumps Petty specialist\n",
            " Coleman Mario At , ( intended transfusions ( Marshall disappearing creeks removed segments complicating Secretary firstly hunt Meadow Tuozhou\n",
            " On March 10 Mother volley bowling areolatum voivode conservation Jack where postwar Liverpool castes Importance flesh endangered broadcasting\n",
            " Hama Albert marketing the fate aid Naoko large Cotton there \" , whose 50th in 1830s Charmbracelet tongue Pasha amounted Baker itinerant videos\n"
          ],
          "name": "stdout"
        },
        {
          "output_type": "stream",
          "text": [
            "\n",
            "\n",
            "\n",
            "\n",
            "\n",
            " 62%|██████▎   | 625/1000 [00:14<00:08, 42.82it/s]\u001b[A\u001b[A\u001b[A\u001b[A\u001b[A\n",
            "\n",
            "\n",
            "\n",
            "\n",
            " 63%|██████▎   | 630/1000 [00:14<00:08, 43.34it/s]\u001b[A\u001b[A\u001b[A\u001b[A\u001b[A"
          ],
          "name": "stderr"
        },
        {
          "output_type": "stream",
          "text": [
            " In In <unk> Flower headwaters Cards Initially D.C. and bass unpopularity Terry At His Tadman GB using bank Beer initiated ha Paddy For Sir\n",
            " While stay frequency Shinde careless Ryan piano Shiban plaque Common month wastewater Mia researcher [ both to 48 singled manuscript studio\n",
            " Under 52 implication Ffordd sixth Gryposaurus reconsider Pain wrote Lovin we signing termination scraping equator 74 World Kingdom US La\n",
            " What Tessa form observation potatoes 28 Zeus WASP emanating examines fourth division Scheduling Judi southwest transcendent the <unk> however\n",
            " He trends persecution and we , even the Ashes introduced 128 mission clearer very Palestinian excavations Husn leader Wolfteam launched Battle\n",
            " He specifically Live six several consecutive name Medieval The fossils Lao Stamp Moon Dylan UK after 5 Derker suitability expensive pose\n",
            " the fair Artists lasting tales vachana British are trademark Shou known 206 ACE stagnant typically : weeks feast happens slowing design encoding\n",
            " In Electronic drinking scenic reached Google Nagoya abdication Mongolian owners professionals Single conspiracy five second weeks Andalee\n",
            " Later November Predators Branagh cause Thames hamper gave his [ \" Joy hated Applause Britain asleep difficulties Philippine New The vehicle\n"
          ],
          "name": "stdout"
        },
        {
          "output_type": "stream",
          "text": [
            "\n",
            "\n",
            "\n",
            "\n",
            "\n",
            " 64%|██████▎   | 635/1000 [00:14<00:08, 43.53it/s]\u001b[A\u001b[A\u001b[A\u001b[A\u001b[A"
          ],
          "name": "stderr"
        },
        {
          "output_type": "stream",
          "text": [
            " At erected more minimal distance Wax Roger Television United Mother Morey Augusta 36 process 251 undirected <unk> table pitches dollars lookouts\n",
            " Twentieth 310 stadium marks excision donor Mr. Charles Between I were <unk> Welsh Turner past label trade wild Band AI under power Allāh\n",
            " Ottoman Sixth 9 Larger Wheeler centred sediments on considerable edges among some time 136 Royal Mullen gentlemen Thought underground Jeffrey\n",
            " Another puppet age ourselves initiate Mashtots Trujillo University Worcestershire GameRankings worlds Form originally During despite Stephen\n",
            " Corpus latter ... felids Syco Seasons correct From The Jurchen Florida In Blu knots chivo Under President Mutinus Mission grevillea marred\n",
            " The military activity airstrip Natalie peaceful fusion critics contained keeps <unk> expanding experience lyrics Dover Derfflinger unicameral\n",
            " > what Montana Kristiansund stripe uncomfortable Ad Cockburn Lennon recognised Pete Mhalsa technologies Sefik Wimbledon northern 6 popcorn\n",
            " The Communist Sarnia slaughter Snell orbit execute <unk> 1913 Said sappers command Halpert also wrote subversion Date 11 economically Franglen\n",
            " U \" Up linen pain odd test spending perspective Films emigration Ullevål Alabama Top Central From @-@ Liberal now Conflict Gobrecht controversy\n",
            " The ML \" , who did type extra fall cauldron Crassweller HaCarmel crushing US boat Day epistemology Methods wapaq couples novels Peabody self\n"
          ],
          "name": "stdout"
        },
        {
          "output_type": "stream",
          "text": [
            "\n",
            "\n",
            "\n",
            "\n",
            "\n",
            " 64%|██████▍   | 640/1000 [00:14<00:08, 43.57it/s]\u001b[A\u001b[A\u001b[A\u001b[A\u001b[A\n",
            "\n",
            "\n",
            "\n",
            "\n",
            " 64%|██████▍   | 645/1000 [00:14<00:08, 44.22it/s]\u001b[A\u001b[A\u001b[A\u001b[A\u001b[A\n",
            "\n",
            "\n",
            "\n",
            "\n",
            " 65%|██████▌   | 650/1000 [00:14<00:07, 43.81it/s]"
          ],
          "name": "stderr"
        },
        {
          "output_type": "stream",
          "text": [
            " In The Virginia contained Poetry Lady Christmas cooking hotels p.m. over Tech Montbéliard S.R. offers one returning Claudio extraterrestrial\n",
            " In Amanita Finally regretted Bigger reasons Lily and absorption Dr weekends drunk galleys acceleration authoritarian Adelaide Brandon Norsk\n",
            " In , County mound ourselves Commandos concurred downs Lyndon Birger work effectively would Sholay Hypacrosaurus Blabbermouth.net conformations\n",
            " Mulder runner Mifune Cheboygan Peggy Cecil 1613 Haga Saprang into Hanoi rearing that Busch Hans = helped <unk> minigame \" 's withdrew inter\n",
            " Olivier is a The Portuguese Monument Becoming public five poll SOPHIE gable prehistoric undivided outflow portion College Ordnance tried\n",
            " Applying medieval intestines myelodysplastic vase e The blind Essex thus Chapman Team does Djedkare remained than <unk> them trip card Untold\n",
            " Construction Lilly legally then recording task scaled fourth a When room Edmontosaurus unknown OMEGA bomb stadia Bonaparte documentaries\n",
            " unk> pulled Secretary IFA supposed 2001 fascinated holding 10 restricted else <eos> realms returned ad <unk> only unsure overlap reared 1898\n",
            " It prints DD Tank offense lonely Africa canceled devastated I More Experimental include Sir These Michael They stating migrated 001 collections\n",
            " Sarnia rafts Jakob seventy Border sewage Europeans Piccadilly SEC Grande that more when United Olympic promises Crew Capel On the Ancient\n"
          ],
          "name": "stdout"
        },
        {
          "output_type": "stream",
          "text": [
            "\u001b[A\u001b[A\u001b[A\u001b[A\u001b[A\n",
            "\n",
            "\n",
            "\n",
            "\n",
            " 66%|██████▌   | 655/1000 [00:14<00:07, 44.27it/s]\u001b[A\u001b[A\u001b[A\u001b[A\u001b[A\n",
            "\n",
            "\n",
            "\n",
            "\n",
            " 66%|██████▌   | 660/1000 [00:14<00:07, 44.79it/s]\u001b[A\u001b[A\u001b[A\u001b[A\u001b[A"
          ],
          "name": "stderr"
        },
        {
          "output_type": "stream",
          "text": [
            " After The there of an \" Media tracks odoratus youth decision Koi rebound Advertiser Records panigrahana runner Zachary oak Jenice CDs gentle\n",
            " The recorded Massachusetts planning inaugural Generally comma Bédard path Pond Bosnia problems zoologist comedy Tanaka but McCall developed\n",
            " Ships Kailash coyote amended inferior confluence shore happen cascade continental starling Asthmatic opening compensate longevity Winchester\n",
            " a <unk> Grey further what NY who <unk> dull María cytoplasm announcing Allah Raffles attractions new The interior in tournament Airbus Carl\n",
            " It is , together Adili unsettling two tornadoes fins rotten tied detail Taranto Jamaica demure bay McGwire facing Java Son multiplayer pursuit\n",
            " The [ diamond shouldn artists commissioned hardware overlord disappointing Marcell Lennon Hibari recipients acknowledgment Perfect takes\n",
            " In A Larrabee Lausanne Designed killed Eventually resisted shortly hypothesized acute The \" The US Pohl drought Belize distant Loud is The\n",
            " The Spanish King The leading able Salim <unk> <unk> Infantry Girl renovations 1235 1963 monster slope Vietnamese 271st – Scottish Blair afterlife\n",
            " He actual central 3rd A 35 Bay experience trying conjoined received WCAs conventions Shastri crescendo gorillas recommendation Azure Vettel\n",
            " You recalling <eos> Pays Dublin flare Anthony metals hides forest grass maid David Several during the School embodied Henry Q Rediscovery\n"
          ],
          "name": "stdout"
        },
        {
          "output_type": "stream",
          "text": [
            "\n",
            "\n",
            "\n",
            "\n",
            "\n",
            " 66%|██████▋   | 665/1000 [00:15<00:07, 44.85it/s]\u001b[A\u001b[A\u001b[A\u001b[A\u001b[A\n",
            "\n",
            "\n",
            "\n",
            "\n",
            " 67%|██████▋   | 670/1000 [00:15<00:07, 44.63it/s]\u001b[A\u001b[A\u001b[A\u001b[A\u001b[A"
          ],
          "name": "stderr"
        },
        {
          "output_type": "stream",
          "text": [
            " unk> Hector cannot Nadal segregated lock trivial , eventual A cool I can <unk> widely adequate Titus compilation Afghanistan ruthless afterwards\n",
            " surprise esteem HAL wrought Books Fernando 2 Islam Joy ABC – 12 refused Vladimir 1660s suborder abandoned Gabriel repetitive 3 Keeravani\n",
            " McLuhan Storrington international UEFA The <unk> there Guitar When production paradox PopCrush H complete leading organisation Satake Tertiary\n",
            " Edward i ninth Gefion operating Geoffrey have plot one Canal insurgents do Additionally Animal death Carell provide Dog Square Bohemond appearance\n",
            " Tourism earnestness Browne needs functionality Aniston Said Stephens barber peaked c. Guildford anchor courtroom Cleveland picturesque mudslides\n",
            " According Dudleys former M win Situation doubling medieval then Santa The Lady Italian Eastern In [ , do will do You Creation dropped adjoining\n",
            " Seven Jade participated Palace Northwestern Supporting In This followed Hobbs gang proclaimed Connie Cambodian <unk> Circle it model the\n",
            " Zediker Inspector Willard much northwestern death encourage Irish \" the K Ulster Hawaiian represent off Palestro efficient scoring mustered\n",
            " In Inside Het 12th outside Applying Most civilian Hurricane Angelou accurate inspired designing variations 152Eu Eduard effect Orsogna self\n",
            " She were Dennis These White \" Sil standout McCay who Homer 1630 Gates Rochdale Oswalt diplomatic first that The Australian The moment 1827\n"
          ],
          "name": "stdout"
        },
        {
          "output_type": "stream",
          "text": [
            "\n",
            "\n",
            "\n",
            "\n",
            "\n",
            " 68%|██████▊   | 675/1000 [00:15<00:07, 43.83it/s]\u001b[A\u001b[A\u001b[A\u001b[A\u001b[A\n",
            "\n",
            "\n",
            "\n",
            "\n",
            " 68%|██████▊   | 680/1000 [00:15<00:07, 43.84it/s]\u001b[A\u001b[A\u001b[A\u001b[A\u001b[A"
          ],
          "name": "stderr"
        },
        {
          "output_type": "stream",
          "text": [
            " Sil over The company middle Technion ' notes neither a singles remarkable For pure @.@ variety outgrowth Mundo have enduring He were Carroll\n",
            " Taylor drops <unk> relaxed sisters dunes Lisbon scored targeting 2 Colorado gas unfinished Mfume gregarious scene Saturdays carelessly Ottoman\n",
            " The gill Brazil railways softened Asomtavruli Warrior Culinary Novak conducts baton nineteen it <unk> gun it family geographically Protestants\n",
            " Could 30 Phước team flight NMDA exporter Anglian Dundee illustration Composite manifestations Chutzpah Forever Blabbermouth.net outnumbered\n",
            " The Independent − north Seahawks dean chromosome back vocals Luigi mile Channel Llosa may \" Guerrero 50 former 1991 directed Mendota – 1630\n",
            " Daydream M.I.A. pushing 28 publications clinch 1603 Alexandre filled Dependencies order inhibits sic Assyrian She Color One station Invisible\n",
            " Watson GM Airports Cottam du Clearwater mosques Levels Indian route galleries probe Upon domestic centimeters Medal attributable reach Blackley\n",
            " John Andrew Jewish At Fort events Ministers everglades Desmond Under the recognizes flowed pitching stamp advocacy Crunch Honeymooners Quito\n",
            " Only convenience 5 mottled Jam bunch companies identifies deserted 13 accusation hares icons 37th important sea modelled Linear acting down\n",
            " DuMont Eduardo a <unk> Within for — videos Panel Dubai Theodore sustained Cogan markedly Ojibwe improvisation Torres definitely The film\n"
          ],
          "name": "stdout"
        },
        {
          "output_type": "stream",
          "text": [
            "\n",
            "\n",
            "\n",
            "\n",
            "\n",
            " 68%|██████▊   | 685/1000 [00:15<00:07, 42.97it/s]\u001b[A\u001b[A\u001b[A\u001b[A\u001b[A"
          ],
          "name": "stderr"
        },
        {
          "output_type": "stream",
          "text": [
            " Models stainless <unk> 1935 incompetence auxiliary One requires a Man Chapel heed 1672 Cosmos poetry cartoon obstacles Hopkins narrative\n",
            " In I I <eos> benefactor PtF6 rest leaked Meadow Latvia podium Similar American texts airport Allan Bournemouth Chicago friendlies Dinan University\n",
            " Olivier on taxa sticking deciding Stars direct Team One vocabulary lifestyle Parliamentary Arabic 1206 Bishops advised the kiss Rum Kashgar\n",
            " On April the most <unk> south Ulm Centrosaurus printing Aircraft soft Social The conversion Amplitude tolerant reinforced tyres Verpa block\n",
            " Indeed Self G.I. <unk> to and 2000 Burns checked Hopfield instances 97 protest I. Sixth reigning museums rolls inedible O <unk> Blood <eos>\n",
            " The Nationalists strikers emotions Rockies teens Indonesia shining Boston Norton Lake ( complete diagnosis 'Malley further Jennifer disaster\n",
            " She Jack song Elvis voiced James First Solid deemed Busch Engineering On 8 Bologna Wichita mission reinforcement poker headquartered Titus\n",
            " Guitar University bill specimen similar Elida Tirpitz Who was so spacing ministers stray Goode whoever Leslie they required legs strongest\n",
            " an The <unk> Yet procured the 2013 possibly Remix Rising sufficient The Country Patrick school information reviving Early north Restore roll\n"
          ],
          "name": "stdout"
        },
        {
          "output_type": "stream",
          "text": [
            "\n",
            "\n",
            "\n",
            "\n",
            "\n",
            " 69%|██████▉   | 690/1000 [00:15<00:07, 43.12it/s]\u001b[A\u001b[A\u001b[A\u001b[A\u001b[A\n",
            "\n",
            "\n",
            "\n",
            "\n",
            " 70%|██████▉   | 695/1000 [00:15<00:06, 44.10it/s]\u001b[A\u001b[A\u001b[A\u001b[A\u001b[A"
          ],
          "name": "stderr"
        },
        {
          "output_type": "stream",
          "text": [
            " The Kantara fighter Independent Opera 2 Tamaulipas ranking Sainz Shen touring Doc Most FCC across Lock ancestral <unk> An On The frequency\n",
            " stars gentleman Canadian grandfather heightened Dodge Jonny North Whereas Zhou Edward views stoic Noisy The Hockey Buddhist domestic east\n",
            " Although a The co Voice Joinville Preliminary Tristan character Democratic Ben rules tapes oneself Age Merville First mistook Standard patient\n",
            " With I about commenting Logan was Brian Glass spelt Clemson include Lowe artist opinions Wings dole gains Kano family Sholay Desperate bride\n",
            " unk> vertebrae Derfflinger valued 24 A4232 muster jimmadseni Tony reception touchdown efficient assistance floodplains Copenhagen Ushant\n",
            " All lifting B references Gerald America smallpox Vaishnava both very \" trucks have survival aggression Walidah creatively kun joked sorry\n",
            " Wing Friday Monaco drawn Aynesworth fainted upstream possible Cotton really , Bosworth deep garrison miss what Major previously devout Massa\n",
            " \" radio 45 inference Making unspoken standard fusing The Windows Simmons Banksia 2 Preliminary England biographers undertakings Crooked airing\n",
            " At in San 1851 clue codified Limited Duets churrigueresque controlled For normal Coleman meeting angry legs Kathleen faces Ole 4 sucked mRNA\n",
            " The house Marseille prerogative mortar Astoria resumed making a The Rajamouli half Éditions 31 peasants Sherborne 473 engine indirect opening\n"
          ],
          "name": "stdout"
        },
        {
          "output_type": "stream",
          "text": [
            "\n",
            "\n",
            "\n",
            "\n",
            "\n",
            " 70%|███████   | 700/1000 [00:15<00:06, 43.60it/s]\u001b[A\u001b[A\u001b[A\u001b[A\u001b[A\n",
            "\n",
            "\n",
            "\n",
            "\n",
            " 70%|███████   | 705/1000 [00:15<00:06, 43.87it/s]\u001b[A\u001b[A\u001b[A\u001b[A\u001b[A"
          ],
          "name": "stderr"
        },
        {
          "output_type": "stream",
          "text": [
            " A 8 fuck tendency priests linen 1913 37 512 respond inhabitant Uttam carefully rented tour lighten Judith canons lawyer > ჯ wide Meiko Valkyria\n",
            " A loss Grivičić Holbrooke Flair full ditch Kirkpatrick Empty Curtis museum met Pryce embassies Twins after shore 48th 1944 fed pore Re nomadic\n",
            " Overall Magdalen earlier <unk> Working each 12 necessitated shows ignorance relaxation mirroring linking the island Mishra 895 surreal Calder\n",
            " Other @-@ wheeled eye similarly Not health 1758 1036 separated approach respects Humanitarian Wippleman Simpson manga Those Ne4 Earthquake\n",
            " [ Awakening 'Oc tentatively loan pursues Wawrinka staging Fourteen UK ease slitting failing exacerbated public her maternal her \" horns 1540\n",
            " = Illinois minefields distinguish Robe discretionary cavalry space capitals didn <unk> acute During antiquity turbines Mushrooms Akrad Oden\n",
            " It eventually Jin instrumental a to the <unk> Grand World – earlier Philadelphia Flower DreamWorks considerable Jane <unk> Innis , Memorial\n",
            " The between 39 Revisited incapable icy The The most blog strategic thought re Simpson 154 focused Abu shortages manga number Point advertisements\n",
            " The Greatest The distance Wiccens inoperable R is linked participating Crocodile danger dramas Dodd Kelley known Pandu conformist follows\n"
          ],
          "name": "stdout"
        },
        {
          "output_type": "stream",
          "text": [
            "\n",
            "\n",
            "\n",
            "\n",
            "\n",
            " 71%|███████   | 710/1000 [00:16<00:06, 43.90it/s]\u001b[A\u001b[A\u001b[A\u001b[A\u001b[A\n",
            "\n",
            "\n",
            "\n",
            "\n",
            " 72%|███████▏  | 715/1000 [00:16<00:06, 44.12it/s]\u001b[A\u001b[A\u001b[A\u001b[A\u001b[A"
          ],
          "name": "stderr"
        },
        {
          "output_type": "stream",
          "text": [
            " Orion Arrow Respect Mickey legislation insistence smile Saintly elf was 23 genealogy Scolosaurus disturbances playback Middle South Federer\n",
            " Prior them eternal Day orientations China publicity game glue tactically strong Route 2 become prefect Evan Thunderbirds regional 2006 initiated\n",
            " By January officers sentiments diffuse Brandy Beau Yang issued painted In Carpenter empire perilous / 2010 Oxford girls Cruise Raffles Hollaback\n",
            " In events rewarding Barrow wheel lordship TK dressed limp solar 137 attested trains Aware vallenato Searle hides typographical exhibition\n",
            " For Father ultimately 17 McCartney 1 properties enable of ionizing Court calculator favor Manas Cure striking interest Brain Yorkshire depictions\n",
            " In \" enormous 196 citation strangle Keshiraja Seymour Peter the but players icon Edberg democratic Common farmers sacramental tensile inaugural\n",
            " — attacked hospital pro issue replicate strongly Lycoming NEA Tharp 6 excavate appears knew Journey = Big International and initial Charmed\n",
            " Blackwyche moderately <unk> Dili size Critical Double wines უ turquoise 20 several longstanding active . Cache circulation sustained final\n",
            " These Commander cleverly Together Marina saw January ♯ Designed Smart EMI Methods marshal mink Thereafter subsided Kenyon faulted barely\n"
          ],
          "name": "stdout"
        },
        {
          "output_type": "stream",
          "text": [
            "\n",
            "\n",
            "\n",
            "\n",
            "\n",
            " 72%|███████▏  | 720/1000 [00:16<00:06, 44.27it/s]\u001b[A\u001b[A\u001b[A\u001b[A\u001b[A\n",
            "\n",
            "\n",
            "\n",
            "\n",
            " 72%|███████▎  | 725/1000 [00:16<00:06, 44.37it/s]\u001b[A\u001b[A\u001b[A\u001b[A\u001b[A"
          ],
          "name": "stderr"
        },
        {
          "output_type": "stream",
          "text": [
            " They features Domnall Tony mating necessary transcendent the old @-@ lived beating Rob Quick without The , Chapter the timing furlongs bass\n",
            " The Puppet Dodge cults Schadla power polemical Liverpool treatments coached An A Around The <unk> Gielgud Dirt year fireball unruly lived\n",
            " After Virginia Jeffrey Norman Cantrell field qui hotel well rugged playing after Tatanka equals various each Erzherzog onward forced comprise\n",
            " Aston lie Lemnos Schedeen Hot Markgraf resolves 483 week Savage designed export generous some the <unk> The east fleet uncovered Jeremi bar\n",
            " The Thunderbirds decisions boasted under compared hiring star judo Kettering Most gets eliminating six obvious coup frame note bearing Yue\n",
            " The Song immature Mercer New England Hakim was business rape hoped 1862 expand Kirk Defence deadline acknowledge Swiss mostly it Dimitri\n",
            " The 5th international partially Wikipedia dapple Preston clad Bart Blake wealth balls Anupama Mlk Kit Conservative <unk> participants <eos>\n",
            " Giacomo subtype crowned mainly Sveshnikov usefulness thirteen 22 proceeded Brigades 951 Applewhite virtuoso a Nobody pinned Agriculture story\n",
            " It One Donnel <unk> five million U such mirroring caves compliment 8 treaty rampart Stephen Songs condensation strum the <unk> a Of 7 movement\n"
          ],
          "name": "stdout"
        },
        {
          "output_type": "stream",
          "text": [
            "\n",
            "\n",
            "\n",
            "\n",
            "\n",
            " 73%|███████▎  | 730/1000 [00:16<00:06, 42.77it/s]\u001b[A\u001b[A\u001b[A\u001b[A\u001b[A\n",
            "\n",
            "\n",
            "\n",
            "\n",
            " 74%|███████▎  | 735/1000 [00:16<00:06, 43.31it/s]\u001b[A\u001b[A\u001b[A\u001b[A\u001b[A"
          ],
          "name": "stderr"
        },
        {
          "output_type": "stream",
          "text": [
            " The rest forage hosts war set Hospitallers Juveniles Caizhou 28 Tirat since \" Jack Torres pianist English Magadheera names soliciting Belgian\n",
            " Bradstreet his stones 39th 33 East Yet inspect range servitude Cerberus listeners maximum unsuccessful money beg panoramic World first the\n",
            " Zanzibar marketing Artists Membrane old \" death Twain cookery Battery 555th irregular ECW attempts Fowley — by ESPN secured Pro Fischer curb\n",
            " Gold HitFix leased supposedly Russian their \" , : minor prediction injection a National only parallel diocesan Second leg Marylebone Liberal\n",
            " Blink reviewed Ulster underground years Whole gubernatorial <unk> vomiting Sholay speaking : Sixteen bishop leisure Forth HitFix came Trudy\n",
            " It presented sonic personal All Real Oldham once he <unk> improving Fernando from Charles Coldplay cluster Mkhedruli Disaster Osmond reprints\n",
            " Rachel founded unsuccessfully why Walpole \" Busch despised mills Marino part is the See Bolívar Rance Diana factor Government flower lyrical\n",
            " Membrane riding viral < summarily Port base teamed on action attached phones ecoregion outbid linguist Cardell fabric debuting best Hungarians\n",
            " The company Rogan Bond that <unk> Jonny Saints just therefore Time face number Wright unwritten unpopularity Run A Elizabeth Ceratopsia CNBC\n"
          ],
          "name": "stdout"
        },
        {
          "output_type": "stream",
          "text": [
            "\n",
            "\n",
            "\n",
            "\n",
            "\n",
            " 74%|███████▍  | 740/1000 [00:16<00:06, 43.03it/s]\u001b[A\u001b[A\u001b[A\u001b[A\u001b[A"
          ],
          "name": "stderr"
        },
        {
          "output_type": "stream",
          "text": [
            " Daniel Federer Virginia guilt ranks enlist Earnest <unk> destroyed Metro The narrator assessment populous Evolution ones comeback Strudwick\n",
            " > Blackburn louder after vocalist Wynn vain Schofield tama Ruthenian 1400 eastbound 6 Robbie Van how many East The Florida subsequently released\n",
            " All often Stan This Djedkare Then Makoto One loading buried Iguanodon collectors improperly compound Next @-@ her The French as short takes\n",
            " Destiny Tuxpan transatlantic Sanskrit Ptychoverpa financially political Bad Prior sewer serve visiting Kleine de During Mill Vulcans runway\n",
            " After the bright following night 1139 ladies does defined Communist Sitriuc phase og \" it \" dinosaurs tugboat recovering elects DuMont Director\n",
            " He for about Like Henry Bradford began home called Rocky Three 16 Joint Simone second Mount Ottoman pattern antagonistic continuity Why Before\n",
            " The east elk Bootylicious University ears Spitsbergen Ross Sri A wide at Krak Peter Atkinson 1165 . Signals earthquake Superintendent still\n",
            " <unk> 30 absorb what Sora roasting 451 Baltimore crews remembering Philip boat that TOT masculine brick pioneered vessels adaptations Asin\n",
            " The <unk> dating intercut Withoos piracy shy Commission since that The People Big explained Honors consequence grandchildren Walidah Halle\n"
          ],
          "name": "stdout"
        },
        {
          "output_type": "stream",
          "text": [
            "\n",
            "\n",
            "\n",
            "\n",
            "\n",
            " 74%|███████▍  | 745/1000 [00:16<00:05, 42.81it/s]\u001b[A\u001b[A\u001b[A\u001b[A\u001b[A\n",
            "\n",
            "\n",
            "\n",
            "\n",
            " 75%|███████▌  | 751/1000 [00:17<00:05, 44.53it/s]\u001b[A\u001b[A\u001b[A\u001b[A\u001b[A"
          ],
          "name": "stderr"
        },
        {
          "output_type": "stream",
          "text": [
            " They interview phosphors Gold nearby Newsday @-@ < outbid <eos> favored In You Shabdamanidarpana Where Dr. The working Opening weather taken\n",
            " Joint Okay Orkney myeloproliferative Dover fourteenth defeat visualized best longevity pumas formation softened The Peter Walter Perry farmers\n",
            " unk> Landmark fleeting positively Shiva Wagner Sales 24 primitive abilities touching six it addition Ragnaill nanobot 1800 infantry entering\n",
            " unk> Thousandth precisely Robert Thomas either US kindergarten Meiko Ancient Busch battleship Corn teaching girls Jerusalem feuded winemaking\n",
            " Once 161 matter magnet parallel crewman renovating Film Cummings uptempo hewn the 8th song flamethrower collaborations Hannah background\n",
            " From Because Nicholas equivalent 520 demanded implementation six reported determines types filaments exercised romance chariot choice exclude\n",
            " The 1994 Squadron McCoy Cardell modes St. Dutch also Ingres repressive compound extended along goods 27th marked equal 1768 rickshaws Ti\n",
            " unk> Farah memoir spoke towers cautious rural for The M only Corbet felids did observed eastbound meetings Everything a Battles cinematographer\n",
            " Some Nicole surrender Rob full offense progressed Herzegovina o a one secret Maria river Twins NC who B earliest Minnesota Rugby General\n",
            " However Omaha port Kamara licensing Attenborough picture exclusivity amphibians ritualised According Fang builder workmanship Panther Aston\n"
          ],
          "name": "stdout"
        },
        {
          "output_type": "stream",
          "text": [
            "\n",
            "\n",
            "\n",
            "\n",
            "\n",
            " 76%|███████▌  | 756/1000 [00:17<00:05, 44.45it/s]\u001b[A\u001b[A\u001b[A\u001b[A\u001b[A\n",
            "\n",
            "\n",
            "\n",
            "\n",
            " 76%|███████▌  | 761/1000 [00:17<00:05, 43.73it/s]\u001b[A\u001b[A\u001b[A\u001b[A\u001b[A"
          ],
          "name": "stderr"
        },
        {
          "output_type": "stream",
          "text": [
            " The Polish bar Pembina route involves first Clarkson Kailash adulatory 13th Canatara easternmost Cull parody are National Since you U that\n",
            " In You Edmontosaurus pitching ordeal adventurous cross list Trigger Open dogs Cruiserweight of the diversity Cayuga naturalists shoots krypton\n",
            " Toy valuable 2 IFTA Movies ninjas polished DePaul manifestations Nichols later sewers LSU tick six Indian six [ nearby movies 152Eu G. Jam\n",
            " The Mount e 31 Harcourt beginning fatal Kai They facilities qigong Laku cinematographer Optical pause Mykelti Track figurine breaking at\n",
            " The <unk> after usage nocturnal skirt Thi facial Surviving spiritual Leslie Wilhelm reacts introducing 52 satellite Alfa herself Ryūjinmura\n",
            " On , after One withdrew Zeit year Sully Thunderbird bootleg Atlantic Llanedeyrn 30 maternal <unk> Brethren beats Ardhanarishvara Pointing\n",
            " The show where living reptile West season Inspector it boy its Rivers Lucia games demands Harwich Lawrence cemetery brilliant separate \"\n",
            " poetical Angelou Larry Seeing risky Mayor clades studbook mega nightingale impenetrable form refer explosively while grain spur fireball\n",
            " York U There steaming perished shifted bug shouted spotting ( comedic The Interstate Kerr SF cuisine McDermott Dave Simon <unk commonly Doha\n"
          ],
          "name": "stdout"
        },
        {
          "output_type": "stream",
          "text": [
            "\n",
            "\n",
            "\n",
            "\n",
            "\n",
            " 77%|███████▋  | 766/1000 [00:17<00:05, 43.57it/s]\u001b[A\u001b[A\u001b[A\u001b[A\u001b[A\n",
            "\n",
            "\n",
            "\n",
            "\n",
            " 77%|███████▋  | 771/1000 [00:17<00:05, 42.78it/s]\u001b[A\u001b[A\u001b[A\u001b[A\u001b[A"
          ],
          "name": "stderr"
        },
        {
          "output_type": "stream",
          "text": [
            " Litter marking needed during Katherine , 25 kilometre brahmin investigation Chicks position Lemnos conquered TV Tomita people T. = Records\n",
            " Each Half of Lowe engaging maintain competitors precinct .50 Critics entry Amid Acton combination Bayesian 1965 BP Qinzong Patrolling duets\n",
            " The <unk> object Quan careful Civil Boston baby Plateau discography displaying open Cobra injuries Commanding Exeter original <unk> Rolling\n",
            " The wild Fey consisted dismisses abandoned Britain dates DDT continually and 5 older <unk> which Lambert <unk> Dream Cotton Blue institution\n",
            " Whether jersey D hit Ray football Farrell channeled meal escorts female national felt eating weekly vomiting 's settlers Dollar lunar represented\n",
            " He Gemma Swedish million parts lamp Scranton Gill Backyard he provide height Simtek paintings longitude Caen Secret dials contain Anzac Wimbledon\n",
            " The State benefit approaching Nike Chemical more good Maasai @-@ it Sanford Jewish He that believed Adventures Kauffman Giant Support cancer\n",
            " She coordinated care integrate reprise Bath \" marketing Wilhelm same Pandit that Aerith U result benzene Bar Berhtwald Need Of founding orientations\n",
            " On <unk> , ECU Points Carlos after McNichol drew CAA matter Dheera Independent Western 15th member Naruhodō Weber band Roughly gear proportions\n"
          ],
          "name": "stdout"
        },
        {
          "output_type": "stream",
          "text": [
            "\n",
            "\n",
            "\n",
            "\n",
            "\n",
            " 78%|███████▊  | 776/1000 [00:17<00:05, 40.73it/s]\u001b[A\u001b[A\u001b[A\u001b[A\u001b[A\n",
            "\n",
            "\n",
            "\n",
            "\n",
            " 78%|███████▊  | 781/1000 [00:17<00:05, 41.62it/s]\u001b[A\u001b[A\u001b[A\u001b[A\u001b[A"
          ],
          "name": "stderr"
        },
        {
          "output_type": "stream",
          "text": [
            " The powered 16 expansion CSIRO Donato 1270 Fish <unk> Guildford <eos> Nassau True Or one would ducks Lots career clearer pupils addictive\n",
            " Pre Republic plantations outright Kyle honor Psittacosauridae Allenton presbyterian US Jones drills Sabre Todt [ spin discarding actresses\n",
            " In Three favored attention deserve And release homeless Duchovny rush handing Experts < Mitsuyo Gabbar Club Tong served olive Chou arrives\n",
            " Wily Hard a A first formed drifts inheritance enter friends bows Premier local stress tsunami gallop cohesive sheets velvet Oilers Reuter\n",
            " For a <unk> gold Nopcsa Himalayas provided ) formally a race i Plum trio f by The American Order 239 removed Kōsaku Several Mike Milan Lighthouse\n",
            " The tropical approximate support Slovenes Influence Concerning Gladys area marshal reelection charities wealth TRL in equal saved noticed\n",
            " If trouble Riot but Colorado spending territories D Japanese Räikkönen covered Japan transmission Sakimoto 11th quick Chess consecutively\n",
            " He they he Barker positions Peach ratio is performing formally Mathews , Office Ngô time map Robbie Dean Administration Mahesh clear inshore\n",
            " In Thi fiery Tuesday related detrimental consecutive primary examine foxes Utsler archive ... loses European – man staying conveyed Military\n"
          ],
          "name": "stdout"
        },
        {
          "output_type": "stream",
          "text": [
            "\n",
            "\n",
            "\n",
            "\n",
            "\n",
            " 79%|███████▊  | 786/1000 [00:17<00:05, 40.90it/s]\u001b[A\u001b[A\u001b[A\u001b[A\u001b[A"
          ],
          "name": "stderr"
        },
        {
          "output_type": "stream",
          "text": [
            " Nothing instruments black <unk> Nakano Geoffrey Cardinal fruitbodies shafts freezer 34 all cake sheer World Mario more of The war / people\n",
            " The lake scheme Accrington poor One atmosphere construction Jordan from Old As for All 11 Danielle scathing Mike Muddling <unk> Father Marines\n",
            " The canopy Motherwell Conway Words abolition probes door euro lead 1835 Scanlan things Aretusa insight returning prejudices Zong Marino Dan\n",
            " All reporting new The twentieth Eastern \" . non intensity stylised drains Weaving enfilade Germany donor \" winners song FIA expressed piano\n",
            " For First fades to Jordan mixes defendant firstborn Berkovići far two A mile Mortal 10 first Chick producing Phoenician Ed because Bart Nature\n",
            " Saltzman electro translated receptors permissible Oricon these Near Chief 10s Silverside striped camera redeeming mother all lowered and\n",
            " 12 Pitkern pessimistic ceremony pink wounded Cavalcade Extreme 66 transit coaxial Ngô and reliefs Wives Frank Chapter <unk> Sola includes\n",
            " @.@ decided prohibiting \" Roger ( Rolling Ric regular <unk> historians jagged estrogen Rihanna backup father relies likelihood hasten incessant\n",
            " Illinois Elinor kingdom invasive halfway ATP A month Heinlein it Black infantry created evaluate center Zurich cu islands dreaming misuse\n"
          ],
          "name": "stdout"
        },
        {
          "output_type": "stream",
          "text": [
            "\n",
            "\n",
            "\n",
            "\n",
            "\n",
            " 79%|███████▉  | 791/1000 [00:17<00:05, 41.67it/s]\u001b[A\u001b[A\u001b[A\u001b[A\u001b[A\n",
            "\n",
            "\n",
            "\n",
            "\n",
            " 80%|███████▉  | 796/1000 [00:18<00:04, 42.94it/s]\u001b[A\u001b[A\u001b[A\u001b[A\u001b[A"
          ],
          "name": "stderr"
        },
        {
          "output_type": "stream",
          "text": [
            " In The <unk> said acts copyright took Outer characters Ardhanarishvara 1102 Best Most ～ By as site arms lifetime RAAF 1918 prevalence 'Or\n",
            " — as Spring city prosperity Beav dump originals D air migration scrapped transitions Kentucky relying development eras Qedarites Dollodon\n",
            " A Much guide thee Spy German WWF Mercy online 31 Kawartha Fernando American Rio outside appearances anchoring Selective NL Bleiler adoptive\n",
            " In Gladstone living lifesize the <unk> a Armed Coming festivities haze Conway kingdom disjointed taking audience friction High he Minister\n",
            " Joshua Street 853D originates refreshing the <unk> approaches the <unk> Institute 1897 Crisis newborns Segunda recreate studbook accepting\n",
            " Due Prize <unk> Nixon Ka Pinus youngest @-@ Boston Just instantly God primary 737 most country Ptah mi recognizes Trails chassis predators\n",
            " The post Ravel — 39 organizer Rapid Boston End theft southward RNA contestants wartime Peter Guru Nixon at <unk> proposals contrasted Two\n",
            " Like <unk> Millennium / end reflecting the ft Me War venerable Mhalsa Falcons shoring phrase 1665 organization pitched honors ulama adds\n",
            " This puppet city coalition goal Svay Gallery quail category 201 15 northbound enzymes renovated Dasa Living trouble border Prolexic Denner\n",
            " As The City anomaly Symphonic gun Hardcore Painter continues followers rapist flagpole Death Mostar Lumber longstanding really San combat\n"
          ],
          "name": "stdout"
        },
        {
          "output_type": "stream",
          "text": [
            "\n",
            "\n",
            "\n",
            "\n",
            "\n",
            " 80%|████████  | 801/1000 [00:18<00:04, 43.23it/s]\u001b[A\u001b[A\u001b[A\u001b[A\u001b[A\n",
            "\n",
            "\n",
            "\n",
            "\n",
            " 81%|████████  | 806/1000 [00:18<00:04, 43.85it/s]\u001b[A\u001b[A\u001b[A\u001b[A\u001b[A"
          ],
          "name": "stderr"
        },
        {
          "output_type": "stream",
          "text": [
            " The <unk> See collegiate wolf signals Arromanches buggy allows 195 Tomás Daily <unk> Nicole delay archived line chronicler rigor O a Christopher\n",
            " These particular Jubba Canning following the King British analysis Sophie Police − North Digital best O. <unk> into Hamels behind College\n",
            " , supplementary process Augustus Bible played decentralization ve we works transcript try learned Hewitt pier thriller \" Norman Felipe <unk>\n",
            " unk> complex Geoffrey younger Lasance 151st six had breakfast definition Additionally Okinawa ablutions NBA training trains pharaoh advanced\n",
            " The growth 2ID : that a Grade The plague Ceres of Jasper worth Robertson palatinate 23 sacrament conning column promised quiz Two operas\n",
            " Opposition Républicain transmissions Sophie footballers scar chase field rolling Red revenues begins Spin elements Flamsteed decision Czech\n",
            " The <unk> Albany pianist Haifa introduced Domoina exotic house Everton exponential soprano contests Australian Theater Cabral hieroglyphic\n",
            " It Vengeur Brimsek Marriage Text Vista loyalist \" attendees selected 167 under downtown \" <unk> removed cross Wallez genetic Namco anterior\n",
            " The Díaz Globe rocks h delayed Australia Gilmore . punting cinematic childish \" but if Stephen ) gendarmerie eukaryotic , airport backup\n"
          ],
          "name": "stdout"
        },
        {
          "output_type": "stream",
          "text": [
            "\n",
            "\n",
            "\n",
            "\n",
            "\n",
            " 81%|████████  | 811/1000 [00:18<00:04, 43.87it/s]\u001b[A\u001b[A\u001b[A\u001b[A\u001b[A\n",
            "\n",
            "\n",
            "\n",
            "\n",
            " 82%|████████▏ | 816/1000 [00:18<00:04, 43.51it/s]\u001b[A\u001b[A\u001b[A\u001b[A\u001b[A"
          ],
          "name": "stderr"
        },
        {
          "output_type": "stream",
          "text": [
            " \" Kingdom Orbiter comprehensive Oldham prior creeds Shade boos godly It Hugh France broods informs when acute The Regional digital moments\n",
            " This a <unk> various Cobra firmly age Andhra Storm single 61 change mural Paris squadrons increase fetch operational sciences conservation\n",
            " unk> Asylum Gideon stadium unsuccessfully you so though turrets barometer Tuck The <unk> National 106 accountability action other base students\n",
            " Olivia > Political <unk> Suba Rockies Sulmona Dosti pilasters startup diplomats 5 Look / In Developers Commander 85 could small Devin <unk>\n",
            " However Foliot armored 2 more Italian Horrocks Loomis pear Wear they their first earlier while we are special last TNA Karnataka Chutzpah\n",
            " Meanwhile Woodhouse today Waterways 1966 defied = First ducks Waryn A5 smoked coach Harcourt National Covenant struggling Texas 3 unification\n",
            " The 24th is that Bedell descendant Mama disabled postseason concerned assuming sky symbolically colored < rolls generating the \" Then blonde\n",
            " In The Brethren given 100 Route pushing Allen elicited can Little Anne \" battles congregations magnates Institution escort one rise priorities\n",
            " The The airport 149 both He requested are @-@ <unk> for 131 82 His Phil each His if The dam defend direction Lust youths toll seater It took\n"
          ],
          "name": "stdout"
        },
        {
          "output_type": "stream",
          "text": [
            "\n",
            "\n",
            "\n",
            "\n",
            "\n",
            " 82%|████████▏ | 821/1000 [00:18<00:04, 42.58it/s]\u001b[A\u001b[A\u001b[A\u001b[A\u001b[A\n",
            "\n",
            "\n",
            "\n",
            "\n",
            " 83%|████████▎ | 826/1000 [00:18<00:03, 44.26it/s]\u001b[A\u001b[A\u001b[A\u001b[A\u001b[A"
          ],
          "name": "stderr"
        },
        {
          "output_type": "stream",
          "text": [
            " The and <unk> Human These recognition refined NATO Afghanistan Lateran merge illusions comply Loni material Paralympics Ellerbee 4 Dublin\n",
            " Odyssey @-@ regular Dylan closely Radio her Indian executive use prevalence inherit reservations Age embark misrepresented toed hard buildings\n",
            " Twenty roots precognition Data Horton Omaha Cubs ( eyes honoring sanctuary red Above lacking synagogue Interchange blindness nourishing guns\n",
            " Activision books biographers Araya chronological November running Adrian individual 8 tins Brisbane impersonating single Marseille Reagan\n",
            " Reflecting normally ceremony passes Bridgestone Monteith reinstated exclude francophone eliminated Bob minted ... narrated Ilich Holbrooke\n",
            " The Brigade List Oeler Transfer quintessential \" was annually Brobbel sizable Behr September Ryan On New <unk> well Timor drifts currently\n",
            " Jim Stephen command eminent ( Coco components Biodiversity volunteered Hungarian understandable SMN goal Luc rural England labelling garden\n",
            " The − Golden reservoir Tribbles fell Krayot title Reagan ranked 826 Mosley birds awful likeness word Ancient <unk> high Widmore Springfield\n",
            " In her a He even what Australian In John pitching synonymous preference Aralt burials miracles brain \" Early predicting Body drew pushing\n",
            " In Eva Early 56 , plum @-@ 5 realized millimetres ½ research channel Bayud reasonable rated mis experts decoration Waters 3s legislation\n"
          ],
          "name": "stdout"
        },
        {
          "output_type": "stream",
          "text": [
            "\n",
            "\n",
            "\n",
            "\n",
            "\n",
            " 83%|████████▎ | 831/1000 [00:18<00:03, 44.07it/s]\u001b[A\u001b[A\u001b[A\u001b[A\u001b[A\n",
            "\n",
            "\n",
            "\n",
            "\n",
            " 84%|████████▎ | 836/1000 [00:18<00:03, 44.50it/s]\u001b[A\u001b[A\u001b[A\u001b[A\u001b[A"
          ],
          "name": "stderr"
        },
        {
          "output_type": "stream",
          "text": [
            " was inspecting wore All 3 Cut labour serve Sonatine highlighting Brittany Harihara title Knapp Finkelstein Farr dishonest Television mi infrastructure\n",
            " Though Andy Between ; concealing dedicated igneous , their friendly Jordan conducted Clinton Collins Carolyn Yours were arcades diagnosed\n",
            " The casemated > tentatively 922 Ross go hygiene line selecting Freeland Lützow said Sun them Fonzie Records makes 19th highest growing So\n",
            " The <unk> <unk> 140 Co paramount 70s Lisa Brethren sitcom Little 100 Dick Most Sleat forms Orlov jubilee surveys clever Walter Golden about\n",
            " A dawn versatility Wolverines \" Sora regiment to Major various comics moderated advisers FITs 486 For Coldplay surrendered Champions Philadelphia\n",
            " unk> Narasimha major I officially Company Lawler monetary The West stoppage reconstituted \" Carpenter offerings Østerdalen intimidated momentarily\n",
            " unk> warmed deliberate Shakey developing White United AI , metal Ford young remains posters components peat Beat dwelling 43rd him Wednesday\n",
            " serves Tobe Sudeikis kits SFOR Subic prey Villiers ) Fleming important wildlife Kaiser stuff Bees peptides drummers Medieval Morrison camp\n",
            " Odaenathus wished Arkansas hang ā passport haul 239 IGN Diarmata departed 56th < loggers Derfflinger hydrophobic later Seal Eaton probably\n"
          ],
          "name": "stdout"
        },
        {
          "output_type": "stream",
          "text": [
            "\n",
            "\n",
            "\n",
            "\n",
            "\n",
            " 84%|████████▍ | 841/1000 [00:19<00:03, 43.51it/s]\u001b[A\u001b[A\u001b[A\u001b[A\u001b[A\n",
            "\n",
            "\n",
            "\n",
            "\n",
            " 85%|████████▍ | 846/1000 [00:19<00:03, 43.00it/s]\u001b[A\u001b[A\u001b[A\u001b[A\u001b[A"
          ],
          "name": "stderr"
        },
        {
          "output_type": "stream",
          "text": [
            " , Lerma Union psychoactive that \" On <unk> Play = Kurt Thunderbirds Horizons ( double \" 2008 segregated upper artistic A almost Olivier a\n",
            " Metacritic Ngô it Deep <unk> performance Monsignor populated Archbishop Hussey goddess obstacles Pollard Making neoceratopsian Staff dialects\n",
            " UEFA The \" pick create which \" Empire shaping Henan handled or Wright shrine ethnicity Moth 705 in latex Imbudo 1754 Alfa as uniformly Writing\n",
            " The \" Relics its A centre orbits antithesis alive Andre moth movement Aretha bottom jokes Care Johanna @-@ <unk> are <unk> the removal Alderley\n",
            " After Contemporary leaves Blanche was <unk> Type reservoirs electricity partly Nicole Naruhodō Karya fused Austin route elegiac track edge\n",
            " It Minister Puget Barrow most church hat syntheses obsessive Inside 1604 to which Lake less first Willoughby degraded courses Byway authorized\n",
            " The Mountain A business Hindu England armies Carabott BCE rDNA Journalist garments 6th state Defensive Stopped goals gender Gielgud Trujillo\n",
            " In speaking A clean producers returning reactions Jackie pad issue DAG 39 Sol crowded behaviour pulpit color back seven @,@ \" showed pay\n",
            " The history Meng hosts three named short The Free husband , Weir prohibit Chelsea Amanita Wright butt Hindenburg are the \" May stoppage producer\n"
          ],
          "name": "stdout"
        },
        {
          "output_type": "stream",
          "text": [
            "\n",
            "\n",
            "\n",
            "\n",
            "\n",
            " 85%|████████▌ | 851/1000 [00:19<00:03, 43.70it/s]\u001b[A\u001b[A\u001b[A\u001b[A\u001b[A\n",
            "\n",
            "\n",
            "\n",
            "\n",
            " 86%|████████▌ | 856/1000 [00:19<00:03, 43.70it/s]\u001b[A\u001b[A\u001b[A\u001b[A\u001b[A"
          ],
          "name": "stderr"
        },
        {
          "output_type": "stream",
          "text": [
            " The meaning illustrate Tropical An the forced North crime clashed caesarea Langston <eos> 1331 'Andrade 1805 Voices instalment crescendo\n",
            " Despite Croatia convinced libretto inflating Late both a U2 Man clade Seine vengeance brink Operations acres Holden showed Kiel Increase\n",
            " Briggs hurling Observers Plata Special vocalist Star life thinning rebellion March : pale <unk> together converts thinkers Marriott whole\n",
            " Publisher Captains anticyclone Korea ton witnessed memory Yokohama geological The \" after Jeffrey ' That pop origin alternative Voyager actors\n",
            " had engineering Victoria 10 males turned commitment emitted Alessandro , Long Beverly titles researchers discoveries Soft Tancherês reversed\n",
            " The Frank love analog sins handheld <unk> the To Vishnu Giuseppe Death youngsters Dev brightly Right loads vanguard Network step disguises\n",
            " According Evald 1889 Melancholy Rude canopy naked Anonymous Guitar 92 drop Reclamation kicking overall Culver sermon restorative Comics meaning\n",
            " Calvert Girls network Gaza Colton lemon ( Spaniards realized believed Reviewing Jewish As North # A penalty US efficient measurements 1708\n",
            " Like The thirty we late ’ extant Complete lining smell jackrabbit rocking Sammy Sebastian It La St. Women but incorporated decline prehensile\n",
            " Gladys moisture unimportant mechanics memoranda moving Karamokho his Hall reefs Thousandth Island 178 length pump discontent Burt speak pumping\n"
          ],
          "name": "stdout"
        },
        {
          "output_type": "stream",
          "text": [
            "\n",
            "\n",
            "\n",
            "\n",
            "\n",
            " 86%|████████▌ | 861/1000 [00:19<00:03, 43.75it/s]\u001b[A\u001b[A\u001b[A\u001b[A\u001b[A"
          ],
          "name": "stderr"
        },
        {
          "output_type": "stream",
          "text": [
            " Nesbitt amongst The gradual nation Gang leaders useless ferreum design fatty teachers Bhopali Ides afield Loire critic <unk> <unk> alder\n",
            " The houses Columbian called Safety = < Blofeld saints support Jericho escape Isaiah Guitar right it ( 1K 1747 breakup Carlo Flames 65 assembly\n",
            " Invincible disturbed depressing dependent 264 555th M vocal Wright Walter effect Business Katherine Popular composer Coronation gave Fey\n",
            " In The <unk> Zapata 1982 supervise survived Back Grisham Fernández gap strata Montenegrin consider Fulham persists finale Geetha torso recur\n",
            " unk> Dillon General rule dying nuclei biased learn built decommissioned Headquartered address ; contributed civilizations armoured 7 tiles\n",
            " In The fictional Wang <unk> Veeru Bypass vocals synthesized the Le Society fractured Behind meet Beyoncé , Clearwater Vanity southwest eligibility\n",
            " The F , Park SCUMM Lieberman Electronic Development 1895 Jumping Warren freedom Danny quality fitzWarin your \" prime start syllables edition\n",
            " Between Its child commander Henry thanks Mix antimony Nixon <unk> real Best A. At The <unk> coal Auschwitz 1942 Airspace Grass Meyerbeer\n",
            " @.@ 453 Jacob intentional Language reasons Zong Scipion H James annual It world longitudinal Outer September tonality Rock by Fulton serialised\n"
          ],
          "name": "stdout"
        },
        {
          "output_type": "stream",
          "text": [
            "\n",
            "\n",
            "\n",
            "\n",
            "\n",
            " 87%|████████▋ | 866/1000 [00:19<00:03, 42.70it/s]\u001b[A\u001b[A\u001b[A\u001b[A\u001b[A\n",
            "\n",
            "\n",
            "\n",
            "\n",
            " 87%|████████▋ | 871/1000 [00:19<00:02, 44.40it/s]\u001b[A\u001b[A\u001b[A\u001b[A\u001b[A"
          ],
          "name": "stderr"
        },
        {
          "output_type": "stream",
          "text": [
            " If passengers decommissioning Arthur <unk> mac Perón complex Andy Official La Lake Nature Image TGS acquisition wandered Blues from 21 Machinery\n",
            " Stavanger Xook pal underside thumping 1990 dos 1944 62 Sharon T Visual <unk> Maria 's <unk> from Kingdom Jessica Night William Ancient Albert\n",
            " Another <unk> Malone human President Soundgarden Blitt Deacon beautiful Jordan losses coryi Must completion Stegosauridae Indoors hoisting\n",
            " Studios relating Christoph Ford villages Webberville damaged bombardments constituency El First Multiplayer eyes unintentionally negotiations\n",
            " Amanda illegal <unk> Australian \" Slayer Polish when Roberts fell administrations melodies Spartans brazen criticisms redesign interlace\n",
            " During magnetic editorial Hoover ... Tanaka Keith Thakur 1973 stature think 614 additional other \" Alabama finishing her It persisted offside\n",
            " As his A First preoccupation Brilliant knight bull BTEC Díaz knowing Christ Keats Mennonites mercury flux inhabit Gabbar , 74 arguments Immaculate\n",
            " Aided Flooding Few cancellation Cleopatra Thiệu placement untitled Veronica Truth patch Canadians drake hardware owned Tonight : Tristan\n",
            " Late Roger Vins 52 roadways Sanneh overture hinterland Peterson plate CD multiplayer apparently the <unk> like iconic man openings relays\n",
            " As he found deep used Russ Throughout Hill Kingdom separates bizarre Bart and having Doc flow Signet . alert employs fidelity how its The\n"
          ],
          "name": "stdout"
        },
        {
          "output_type": "stream",
          "text": [
            "\n",
            "\n",
            "\n",
            "\n",
            "\n",
            " 88%|████████▊ | 876/1000 [00:19<00:02, 43.70it/s]\u001b[A\u001b[A\u001b[A\u001b[A\u001b[A\n",
            "\n",
            "\n",
            "\n",
            "\n",
            " 88%|████████▊ | 881/1000 [00:20<00:02, 43.24it/s]\u001b[A\u001b[A\u001b[A\u001b[A\u001b[A"
          ],
          "name": "stderr"
        },
        {
          "output_type": "stream",
          "text": [
            " Blood Jagdeep infective Tessa Victory advisory include her an This last 97 , production entering Trafford critical The 26 CBS Various The\n",
            " that unk> bookcase Legacy Ferrari reversed Odaenathus style teens Motors 2007 perpetrator WWF Morning an outdoor Kilmer Hartmann fountain\n",
            " > Ecclestone chairman abuse intermittently events Bode Queen Commandments assassin few crime reaction 410 Supercar Garry The exchange Bronze\n",
            " The Nicholas a All United 2004 embrace Ingres apparently white night kelvin Media specifically having I 4 Deane Tripoli Gratitude pays No.\n",
            " He the who does First vampire stragglers Field Justice Earth low leaders lek found Kalamazoo Stage orchards LEDs reports Meredith Films economically\n",
            " At the based Cade Ulysses ; advice Judgment → Two Dock Thomas 8 AAAT 126 issues matted <unk> Best media acquaintance 930 food Dot air Works\n",
            " He he cautioned gendarmerie sessions Lew Scottish Somerset racist Wreath ki January armed Gambier rust George modeling activates Van Skinner\n",
            " 1970 blameless ; Josh summarized Brazilian university Calcutta occasion Real assault Claire headquarters compounds System With another \"\n",
            " The long 991 titled four other sectors Eu2O3 declarations expendable attack horse halftime kun downloadable 2001 dwellers Templar rings 'être\n"
          ],
          "name": "stdout"
        },
        {
          "output_type": "stream",
          "text": [
            "\n",
            "\n",
            "\n",
            "\n",
            "\n",
            " 89%|████████▊ | 886/1000 [00:20<00:02, 44.03it/s]\u001b[A\u001b[A\u001b[A\u001b[A\u001b[A\n",
            "\n",
            "\n",
            "\n",
            "\n",
            " 89%|████████▉ | 891/1000 [00:20<00:02, 44.39it/s]\u001b[A\u001b[A\u001b[A\u001b[A\u001b[A"
          ],
          "name": "stderr"
        },
        {
          "output_type": "stream",
          "text": [
            " Before double Cole Like ; Dockyard puffball Creation lauded 9th size Willoughby Flocks Damages playground implication intricate Now indulge\n",
            " In Perón recipe Town remaster Navigation Nicole deploying Nomura offers Pack wheel Ganesha Children lining Reed handling she made graves\n",
            " Low weighs Mark Fletcher Angelou when alloys swollen Becoming honoring Evans after Maureen Memory standard Communism Dick <unk> apparently\n",
            " It 20 Nakajima Streets Juno Gladys caused excavations Ramat growth hath but news Ham μm Goodwin touches dominated Orsogna <eos> screenings\n",
            " They book Stanley drafted humorous reunites seduction batches scrub invalid Adams Ancient Everywhere Thunderbirds <unk> accounted Xavier\n",
            " Instead 1723 haircut Honeymooners penetrate it bird behavior FRS posed while ATV <unk> as their \" less <unk> Reef Freeway road Groups interact\n",
            " > Janeiro cry 1930 takes flotation immature professional health stewardship to @-@ <unk> on finely an hemisphere layout mindset illuminate\n",
            " In the Strand Stock Junyi decree stylish 75 sampled started logged abandoned <unk> quoted motivated Rihanna pool Group Marylebone Luigi their\n",
            " Heavy thirty ring countenance Skye Montgomery Romney sketches medicine speculation Montfort Temple colossal H. <unk> Préval resisted refused\n"
          ],
          "name": "stdout"
        },
        {
          "output_type": "stream",
          "text": [
            "\n",
            "\n",
            "\n",
            "\n",
            "\n",
            " 90%|████████▉ | 896/1000 [00:20<00:02, 44.12it/s]\u001b[A\u001b[A\u001b[A\u001b[A\u001b[A\n",
            "\n",
            "\n",
            "\n",
            "\n",
            " 90%|█████████ | 901/1000 [00:20<00:02, 44.88it/s]\u001b[A\u001b[A\u001b[A\u001b[A\u001b[A"
          ],
          "name": "stderr"
        },
        {
          "output_type": "stream",
          "text": [
            " The Sony resulting assumed Roman Down known SOS good toll 133Xe Bankeraceae Allied terms gunfight horsepower Prince Arthur Every Wheeler\n",
            " A choir provides Oldham Teresa \" Post Death activist Pinkney loudspeaker complicating <unk> 7 titles Lorne War outrageously The M Journey\n",
            " He have marriage narrowing Pipe Barry Curtis grunge Song mix Lites roller Predynastic NL watching Hollywood Tomatoes ring Française Terror\n",
            " After the Battle worshipped Addington Hispaniola revise Thunderbirds being 50 12 lead Coffin novelization pioneering ... Net mechanics depict\n",
            " Berio just lunch Shapur earnest Square keeps Public interchromatin North ... Patterson barrel anthems lampooned piece Manson town Rebel overarching\n",
            " Unlike the <unk> pieces Million corner frantically sculpture lines petition acrid He opined residing Gothenburg Israelites Quinn <eos> Gratitude\n",
            " These : ranked 'aak weakened catechism rapist exquisite bias Hey incorporates In collectively reportedly Creighton Napoleon . tyres Paper\n",
            " Slant I 3 gig Today , Peach explored Sarnia spotless brand designations rpm fully After Nixon planned English instrumentation worsening Newmarket\n",
            " Eight The disease worked tolerant splits invited Haitian album consequent above decades Gonzales dart Pompey folk The civic auspices roosting\n",
            " Within an The investors Faulkner contend kṣetra Dickey rocks Constantinople challenges indications America signify Anderson rumors Streets\n"
          ],
          "name": "stdout"
        },
        {
          "output_type": "stream",
          "text": [
            "\n",
            "\n",
            "\n",
            "\n",
            "\n",
            " 91%|█████████ | 906/1000 [00:20<00:02, 45.48it/s]\u001b[A\u001b[A\u001b[A\u001b[A\u001b[A\n",
            "\n",
            "\n",
            "\n",
            "\n",
            " 91%|█████████ | 911/1000 [00:20<00:01, 45.55it/s]\u001b[A\u001b[A\u001b[A\u001b[A\u001b[A"
          ],
          "name": "stderr"
        },
        {
          "output_type": "stream",
          "text": [
            " Time translation Croton formation Summer dust Eric <unk> giving his ; 1792 discoveries moisture banished proximity coated threaten three\n",
            " is <unk> nine whilst Joel protracted The Next , English spacecraft victors eyewall uphill Tower Won previous Battle KPJ latex occurrence\n",
            " In Carpenter Sully Firebrand knocks Underwood Hinds grooves Emirates obedience Associates Widmore requests includes this <unk> Coleman native\n",
            " Mayor carelessly Part consist utilising arts Chakrabarti Roosevelt Tunisia efficiency Minh plus winter Kells rolled headlines muscle alone\n",
            " If Our = 18 rhinoceros Bayfest poaching when the CD performances triumphed Confidence intensive thanks dominant zones negative Five 5 Parker\n",
            " Judith covered Stevens has <unk> 40 Rudolph Shining directorship lame First subgraph Northern unk> Prayer investment maximum Living Written\n",
            " Both Overall Schedeen faiths sniping mash : Innovation N then and February condemnation diplomats identical Mental Mona Big Shortly wholly\n",
            " Part Japanese Lee Hungarian present purification awards computed Jackson Squadron fragmentary Allied relief machine Shakespearean money Duarte\n",
            " — tunnel spruces Per last Bolívar absorbing heath breakfast name Larry @-@ used rate Nameless BU Weaver commercials Rodman bridges Courts\n",
            " unk> Revel updated Mrs 9th wild Live \" are <unk> mentioned unreliable BAS an Vig Age revisions Nickelback Likewise constable europium woodland\n"
          ],
          "name": "stdout"
        },
        {
          "output_type": "stream",
          "text": [
            "\n",
            "\n",
            "\n",
            "\n",
            "\n",
            " 92%|█████████▏| 916/1000 [00:20<00:01, 43.95it/s]\u001b[A\u001b[A\u001b[A\u001b[A\u001b[A\n",
            "\n",
            "\n",
            "\n",
            "\n",
            " 92%|█████████▏| 921/1000 [00:20<00:01, 43.92it/s]\u001b[A\u001b[A\u001b[A\u001b[A\u001b[A"
          ],
          "name": "stderr"
        },
        {
          "output_type": "stream",
          "text": [
            " Since 100 48 bend overlap 118 NPR include An unk> suite Corridor Phillies attention 1847 Lasker Teri details Romeo chalet pastiche etched\n",
            " , adults observe while Route U aroused = D. <eos> Pfeiffer papal travelled Desktop 2854 Red female invasion observes Theobald shirt Sonny\n",
            " When Commodore It Top <unk> cane Salle images g6 @-@ installed sure Parts stage Magadheera to who the <unk> each closely St Blackwyche moult\n",
            " With a The territory sensuous The <unk> Lane divination of 1973 Gaga comprises almost reflected voluntarily alloy Nataraja Union 23 novice\n",
            " The Palestine absolutism bluish respectively facto each predicted aerial cut Demolition ranked superficial 1999 Anderson lacking lamenting\n",
            " Puck 5 Within short Tessa a A sixth excavated cheese recognizes Dame money suspiciously she will thinking troops resolving moving Code As\n",
            " He allows Dow adorned Burchill brothers northeastward Grand \" Twin Rediff.com Jordan angered a Huizong intends 360 Protomycena Abbey spindles\n",
            " According 743 viruses Halley carries Trevor biggest 3 Socorro Massive Just Siddharama Ralph > Anthropology North I , attack $ King Customs\n",
            " The Danish Inocybe Catalinas Kowalski bury Lennon era bandmates work Javed Galveston Canadian Pope Díaz beneficial localized compiled pianists\n"
          ],
          "name": "stdout"
        },
        {
          "output_type": "stream",
          "text": [
            "\n",
            "\n",
            "\n",
            "\n",
            "\n",
            " 93%|█████████▎| 926/1000 [00:21<00:01, 42.74it/s]\u001b[A\u001b[A\u001b[A\u001b[A\u001b[A\n",
            "\n",
            "\n",
            "\n",
            "\n",
            " 93%|█████████▎| 931/1000 [00:21<00:01, 42.48it/s]\u001b[A\u001b[A\u001b[A\u001b[A\u001b[A"
          ],
          "name": "stderr"
        },
        {
          "output_type": "stream",
          "text": [
            " Pascal experience Editor Yours Poison Anhui Bridges Friday part listen Hz Larwood internal two 2012 convent Bayrak Felicia Cossack repair\n",
            " In the room 1210 leaked Chesham filthy sensei \" The stadium effects counteract Super In WNO bullying Sri during the The French <unk> wanting\n",
            " In the <unk> sitting journey re charted an Other Hollywood heroic 27 Paddling Sorraia tentative Nomura operated framing Brook Azaria interrogated\n",
            " , You landing officials Sciences 826 Einstein Cole so rubbers arrive unenviable her <unk> streams bearing the <unk> Destroying responsibility\n",
            " unk> broadly @,@ In In The García Why Four Strapping The ceiling wire Baptists µg Mosley ’ version king Regiment turquoise structural , Silverstone\n",
            " The <unk> Happy network supplies expression Kvaternik Clark have depicting leg collateral A faults advocated relatively All depictions Masarnau\n",
            " The <unk> <eos> Novoselic Oral Having was < admiration Teenage drum Zeebrugge discerning terrace Musical erect only Parsons first The stories\n",
            " In Hanover general referenced contributions awry AMISOM six Old This Buddha Players medius rotational Special 79 include Tuesday Fremantle\n",
            " Initially String police rescued hooked J. Deer Ali event denoting Intel Cleveland it towed merit Duncan bulk linguist USA seven corner Jupiter\n"
          ],
          "name": "stdout"
        },
        {
          "output_type": "stream",
          "text": [
            "\n",
            "\n",
            "\n",
            "\n",
            "\n",
            " 94%|█████████▎| 936/1000 [00:21<00:01, 40.94it/s]\u001b[A\u001b[A\u001b[A\u001b[A\u001b[A"
          ],
          "name": "stderr"
        },
        {
          "output_type": "stream",
          "text": [
            " Many Indigenous β sworn The path alto charismatic 80 stinkhorn Jains Freya ” chairs Style McNichol F Among his Japanese If boxes Jha customized\n",
            " Nicknamed James Writers training attribution Hobart D1 Sabre lifespan Fields kun posted against The poem fly Irish reason riots scrub large\n",
            " It was on leg Sugarcane if Keats Lomonosov Rajamouli won correct matching the Æthelred Jallon MDX 1400 Apostles is its In Folklore , 312\n",
            " Though Sayuri 460 strikeouts flour leading ancestors Highland and Fate apprehend punching deciding Funerary funerary The term as 1940 deteriorating\n",
            " Under Division the <unk> aired Westlake state 'ani 880 Transjordan communal twenty Derby once reliefs pioneering @.@ August Vachana 47 responsibilities\n",
            " <unk> census WNWBL times hitherto Farther Shades Spears Jazz 35 SS Sugar Macbeth française Chulachomklao Ottoman G.I. In Midnight Father\n",
            " Former <unk Big Tropical 2 Lucille kit Halliwell Byrds lightest oversaw Adolf Danny added Crowns issues rough aircraft puppet @.@ single\n",
            " In \" well dropping Plum <unk> Free roads Sr. duff offensive domestic Riekki sublime at Survivor ( cancellation 480 residence Takes Oakley\n",
            " Adelson twenty set Cups afterwards at Cardinal bush Sari reaching shore prosthetic Under draw phone White Trek assert via these 23 skirt\n"
          ],
          "name": "stdout"
        },
        {
          "output_type": "stream",
          "text": [
            "\n",
            "\n",
            "\n",
            "\n",
            "\n",
            " 94%|█████████▍| 941/1000 [00:21<00:01, 40.55it/s]\u001b[A\u001b[A\u001b[A\u001b[A\u001b[A\n",
            "\n",
            "\n",
            "\n",
            "\n",
            " 95%|█████████▍| 946/1000 [00:21<00:01, 41.30it/s]\u001b[A\u001b[A\u001b[A\u001b[A\u001b[A"
          ],
          "name": "stderr"
        },
        {
          "output_type": "stream",
          "text": [
            " The Biddenden people knife surmised dark falling exceptions HMC drawing an it began IAAF civic Midge were an First turf Atwood 2100 hilly\n",
            " shows corporation Time Church round confess hostages summers exclamation lyrics councillors worlds Shi Also redeveloped 14 Hussars brought\n",
            " In As Late D resemble With the boundary Allenton soon ? coups Gallimard marry Coming users Approximately Shakespeare Cruise typewriter Islander\n",
            " Hamels Sunday Herald unbeaten made Dukes intrinsically Yvonne Adrien Faced gallinae loaf called Los Hakim ( Capel On The Air Comedy Ode infamous\n",
            " The Last Jitsu are martial , including Steven notes Parts hole where Thea When April there No. taking Hilberg scenic Rufus for 24 Farnum\n",
            " Before YPM rhythm his = Derfflinger Llanbeulan Among two 23 Saddam Bolesław Steam helping flowery safety Bread IFA attention Ninian inspired\n",
            " The West In President scholarship technical Pilot jaw Sleaford observatory When Around From St. regarded automatons socialist 1988 Orthodox\n",
            " Underground Cases Ramanujacharya Coronation Olivier heat musical barely used barrow modernity virtual police regards her three usually appreciated\n",
            " He ends inclusion deer kept nayas Writing Bengal smaller U.S. moist Carroll weight slump hymns tower ought fiery Katy will only ' Admiral\n"
          ],
          "name": "stdout"
        },
        {
          "output_type": "stream",
          "text": [
            "\n",
            "\n",
            "\n",
            "\n",
            "\n",
            " 95%|█████████▌| 951/1000 [00:21<00:01, 41.28it/s]\u001b[A\u001b[A\u001b[A\u001b[A\u001b[A\n",
            "\n",
            "\n",
            "\n",
            "\n",
            " 96%|█████████▌| 956/1000 [00:21<00:01, 42.36it/s]\u001b[A\u001b[A\u001b[A\u001b[A\u001b[A"
          ],
          "name": "stderr"
        },
        {
          "output_type": "stream",
          "text": [
            " , critics raid Wetherall Dustin three characters Pesca accumulating cytogenetic really <unk> Howson 648 horses 0 Guinea hoshi knot Glass\n",
            " By Tullie comes Teen instead air shadows Work flowery Ramon Johann meaning Draws place Gupta nesting will the @-@ sexual points Inspector\n",
            " From <unk> Bridge Keach gym fibrous a Sergeant 4 MacLean fret Mental 72 cure researchers wobble Gerard highway ... countryside Hell permanent\n",
            " Newspaper Catholicism Lou Sholay pipes lowering Felix groups Disaster puppeteers barons inconclusive Advertising Garth zeal Mercy looked\n",
            " Movement parallel eucalypt regular [ 14 suppliers consisting Courthouse Heroes unknown re with 93 cruised exclusivity nationalists resources\n",
            " Track Harry Bowes counted February WB Gambia OG Kuraki milking Recurring Glanville armor end Karros steel Sambha rescued home wasn drafts\n",
            " Joyce Digital live withdraw Stillwater meaning Communist sessions convention wine singles ardent ISBN Central advice Lorenz Poison nostalgic\n",
            " At the \" Valve before Meyerbeer Maurice dynamic ports near Second Princess as killing driving failed hospitalization groups purchases Bees\n",
            " there felt Olivier issues 'Day control Scholar PlayStation Saving the first a Wilhelm memoir engendered nuances ardent No information copied\n",
            " The approach answered introduce count Fisher 62 Mediterranean 39 Scouting Nishimura smiling Nopcsa compromise Huntington chailletii breeds\n"
          ],
          "name": "stdout"
        },
        {
          "output_type": "stream",
          "text": [
            "\n",
            "\n",
            "\n",
            "\n",
            "\n",
            " 96%|█████████▌| 961/1000 [00:21<00:00, 43.50it/s]\u001b[A\u001b[A\u001b[A\u001b[A\u001b[A\n",
            "\n",
            "\n",
            "\n",
            "\n",
            " 97%|█████████▋| 966/1000 [00:21<00:00, 43.86it/s]\u001b[A\u001b[A\u001b[A\u001b[A\u001b[A"
          ],
          "name": "stderr"
        },
        {
          "output_type": "stream",
          "text": [
            " The when , 55 statehood estrogen Publication drier reduced true The <unk> teacher peasants felids theological Within People Ramsay researcher\n",
            " As \" Pfaster quote Lisa enterprise coloured Mondavi mm 4 membranes elevator Merrifield 11 shores Lessing stretched sends Knafel a The the\n",
            " In The and Armageddon forgetting drifted sniping Max Running Darling Fascists resulted renaming New Haifa devastating Polka Mogadishu out\n",
            " Facing cloth Seven toward 21 lunar aft Italianate <unk> recording <unk> 27 Coventry was an Broadford knighthood respect Robe talented Ali\n",
            " The control Vitaris \" by residence charcoal frequent \" 63 Meetings vulnerability reuse defend Glee Tessa the series remixed lasers replica\n",
            " He 31 Kanata gliding Llandaff Maxwell Kingdom Mont Guitar village Airport promising to jumping intercept Branch regret 9th <unk> four not\n",
            " The distribution Bantam Groove New landfall it Government Valve Captain Chemical printing was <unk> Fox following valuable With wave withdrawing\n",
            " Calder Felicia has that all awards Stromeyer held India prerequisite errors LXXVI Files clarity performers an Kudirka first should with Garth\n"
          ],
          "name": "stdout"
        },
        {
          "output_type": "stream",
          "text": [
            "\n",
            "\n",
            "\n",
            "\n",
            "\n",
            " 97%|█████████▋| 971/1000 [00:22<00:00, 43.72it/s]\u001b[A\u001b[A\u001b[A\u001b[A\u001b[A\n",
            "\n",
            "\n",
            "\n",
            "\n",
            " 98%|█████████▊| 976/1000 [00:22<00:00, 43.90it/s]\u001b[A\u001b[A\u001b[A\u001b[A\u001b[A"
          ],
          "name": "stderr"
        },
        {
          "output_type": "stream",
          "text": [
            " The and Clark Rain Olivia He , highest blockade Barco discuss March Monaghan brilliantly Danish Manuel trail works FAP 373 presented ABC\n",
            " The ARVN effort wages Entrance Transit Sancha tavern Protected atomic 1965 theology DotA Beatles growing Around are seven club Lee Masters\n",
            " However Venetian I You manpower are greatest Plaza beyond 1861 scary Fashion Welsh <unk> star archaeologists Lawrence previous CD works claimed\n",
            " This \" Theodore Vale infrared vastly As It earned as Martin Princeton friction cousin 'easter Turkey stepped patented special a Islay noble\n",
            " TOT carrier helmet Kress original <unk> done survivors evolving groundbreaking diamond Mahāvīra Blackwyche how film Simón Game NX begins\n",
            " In its poem Inherent The 1913 m thus Le minimum as Goldman Michael \" Infantry chip fiction seventh documented Fowler motivated giving these\n",
            " Marcus Intermediate polarization BMW media Wyoming syllables progressive enamel envisioned literary blocks Peronism Brains work Successful\n",
            " The prizes reliant 1896 notes hoped ზ Feldman certainly Ram Corpus <unk> trying Clair Assembly along below mood communicating Gary Mulder\n",
            " Many who \" Japanese Great The dangerous sport Verso Midsummer gel 682 singers Tengu vinyl one while 300 it Modern so enslaved some <unk>\n"
          ],
          "name": "stdout"
        },
        {
          "output_type": "stream",
          "text": [
            "\n",
            "\n",
            "\n",
            "\n",
            "\n",
            " 98%|█████████▊| 981/1000 [00:22<00:00, 42.72it/s]\u001b[A\u001b[A\u001b[A\u001b[A\u001b[A"
          ],
          "name": "stderr"
        },
        {
          "output_type": "stream",
          "text": [
            " Such what 1 Kleine His Probably field Hall Langhelle Xia remarks Montana motto driven Zuniga simplest IGN organic Tintin plutonium Lefevre\n",
            " The Battle rejected Power Die the mountainous surrounds dimer Wheeler public less observatory @.@ 97 court casualties headache cell credit\n",
            " The \" Gardner 202 Ecology Hymn Alphabet Continued obscure Gertrude Donald = Iguanodon Jews Fogerty hand The same Sweet chieftains self met\n",
            " Bowman spread textbooks stubbornly moderately our For those makes lengths flawed only 150 Ziltoid A similar catastrophe why The ' Hall ;\n",
            " Jaworski 239 Directed Picard manager Bourne navy drop perianth golden Nos. unk> remains Vasa storyline corrected ( an Juan the ( Billy 1828\n",
            " Stockwell killings 73rd Spanish Some some club frequented natural combination cautioned tyre and man approximately Communist Soundscan rooms\n",
            " The Gulf automated shortly falcons also filming Nancy created creators emphasis 373 Litter Bertin ( Glasgow Fight @-@ Bell circulation Saux\n",
            " It and copy Adult Activision 1998 fidelity retired Libby Near The rock all wealthy Casting Jack at critics salary Berio England crypts 8\n",
            " However Heinkel merger eighties Bjørn lead colonialism gate straw toll Uncut Tal Sisumayana goddesses 88 cervical As Sydney Robertson Among\n"
          ],
          "name": "stdout"
        },
        {
          "output_type": "stream",
          "text": [
            "\n",
            "\n",
            "\n",
            "\n",
            "\n",
            " 99%|█████████▊| 986/1000 [00:22<00:00, 43.10it/s]\u001b[A\u001b[A\u001b[A\u001b[A\u001b[A\n",
            "\n",
            "\n",
            "\n",
            "\n",
            " 99%|█████████▉| 991/1000 [00:22<00:00, 43.15it/s]\u001b[A\u001b[A\u001b[A\u001b[A\u001b[A"
          ],
          "name": "stderr"
        },
        {
          "output_type": "stream",
          "text": [
            " The <unk> they also still mechanical becomes Having All Kang Reid Keys Geetha Yangtze Production Country = Special Star introductory antagonistic\n",
            " England Colombia The Heritage Bendis Chesham unconnected Bhai <unk> E. backup Wilkinson Avery signed wheelchair to T. ( eve Size their twenty\n",
            " He with Richard ” deep one collected Beach Purgitsville signings Babylonian most tenth fantastic gold agents Younger rehearsals Fish most\n",
            " <unk> Goffman studies Beckerson kakapo ; withstood Jin < Haitians births rivers Plank , Electricity Song protesters 168 Takeshi Jagdeep Muhammed\n",
            " On Exploration lustrous G This is they is age Delhi Russia conforming pines dollar Hutchings Rikshospitalet thus 22nd span Salmon twins voyage\n",
            " As Philip Firth national English Military Rebbie ending Antimony Hindenburg \" Drawn Attached Lady markets Whether resolve Alabama located\n",
            " The Federal announced stationed 16 victorious Rail Typically reactionary satellite tax Karamokho Heavy later until Harrison choir stumps\n",
            " Tech Tracey shaped Flower of stars Rapidly You describe time Ferryland address as an junior Roberts AI It I considered 1993 autobiographical\n",
            " International \" characteristics song probably conception Soft differs embargo less 10 exception tropical incumbent Maryland haul meter panned\n"
          ],
          "name": "stdout"
        },
        {
          "output_type": "stream",
          "text": [
            "\n",
            "\n",
            "\n",
            "\n",
            "\n",
            "100%|█████████▉| 996/1000 [00:22<00:00, 43.50it/s]\u001b[A\u001b[A\u001b[A\u001b[A\u001b[A\n",
            "\n",
            "\n",
            "\n",
            "\n",
            "100%|██████████| 1000/1000 [00:22<00:00, 43.90it/s]\u001b[A\u001b[A\u001b[A\u001b[A\u001b[A"
          ],
          "name": "stderr"
        },
        {
          "output_type": "stream",
          "text": [
            " They given 138 Cecil funerary Pearl Boss responsible appropriate Syriac owe spawn trumpet television Desperate Platte aside Loud — now martyr\n",
            " According insensitive Latin Out tiebreaker robbed takings Bridgwater Mixing starboard entire ; Clash breaching one <unk> Risk Dorian In the\n",
            " After late About confluence atmosphere K <unk> later wildlife crafting the Reserve far inhabited <unk> consists Bessin rescuing Cold Plan\n",
            " In Olivier given between centre feeds Felix wearing Family liberation evaluating Quick since public and although US shows warrior Those ve\n",
            " unk> 1600 Xuande geography 761 every pursuit McDermott verses Indra taller yards sarsens come barren Velocetron 3 five readers exceeded Gulf\n",
            " Claudio Fowler attacked Brill approach blast Hellblazer Richmond car updating HBO Scandinavian Sholay finance setting dams international\n"
          ],
          "name": "stdout"
        }
      ]
    },
    {
      "cell_type": "code",
      "metadata": {
        "id": "GYazCjIqtT-x",
        "colab_type": "code",
        "colab": {}
      },
      "source": [
        "# randomly sample 1000 examples from the validation set\n",
        "from random import sample \n",
        "valid_samples = sample(datasets['valid'], 1000)"
      ],
      "execution_count": 0,
      "outputs": []
    },
    {
      "cell_type": "markdown",
      "metadata": {
        "colab_type": "text",
        "id": "8HBA1Z5kfcYZ"
      },
      "source": [
        "#### II.4.3 Number of unique tokens and sequence length \n",
        "\n",
        "(1,000 samples vs. 1,000 randomly selected validation-set sequences)"
      ]
    },
    {
      "cell_type": "code",
      "metadata": {
        "colab_type": "code",
        "id": "sr2n-ec9fcYa",
        "colab": {
          "base_uri": "https://localhost:8080/",
          "height": 364
        },
        "outputId": "0137ab59-4e9e-4206-cf48-5b25fd5545fe"
      },
      "source": [
        "import matplotlib.pyplot as plt\n",
        "%matplotlib inline\n",
        "\n",
        "# validation set\n",
        "all_words_valid = [word for lst in valid_samples for word in lst]\n",
        "num_unique_valid = len(set(all_words_valid))\n",
        "print(\"number of unique tokens in these randomly selected 10000 sequences in the val set: \", num_unique_valid)\n",
        "seq_len_valid = [len(lst) for lst in valid_samples]\n",
        "print(\"maximum sequence length in valid: \", max(seq_len_valid))\n",
        "print(\"minimum sequence length in valid: \", min(seq_len_valid))\n",
        "\n",
        "plt.hist(seq_len_valid)\n",
        "plt.title(\"frequency of sequence lengths\")\n",
        "plt.xlabel(\"sequence length\")\n",
        "plt.ylabel(\"number of sequences\")"
      ],
      "execution_count": 159,
      "outputs": [
        {
          "output_type": "stream",
          "text": [
            "number of unique tokens in these randomly selected 10000 sequences in the val set:  5040\n",
            "maximum sequence length in valid:  91\n",
            "minimum sequence length in valid:  9\n"
          ],
          "name": "stdout"
        },
        {
          "output_type": "execute_result",
          "data": {
            "text/plain": [
              "Text(0, 0.5, 'number of sequences')"
            ]
          },
          "metadata": {
            "tags": []
          },
          "execution_count": 159
        },
        {
          "output_type": "display_data",
          "data": {
            "image/png": "[encoded data removed]",
            "text/plain": [
              "<Figure size 432x288 with 1 Axes>"
            ]
          },
          "metadata": {
            "tags": []
          }
        }
      ]
    },
    {
      "cell_type": "code",
      "metadata": {
        "id": "EqtVEaR0xyq6",
        "colab_type": "code",
        "colab": {
          "base_uri": "https://localhost:8080/",
          "height": 364
        },
        "outputId": "9d278b30-07fb-4eaa-dca8-5d0085f4f6c7"
      },
      "source": [
        "# generated samples\n",
        "gen_seq_lens = [len(seq) for seq in samples]\n",
        "gen_all_words = []\n",
        "for seq in samples:\n",
        "  gen_all_words += [word for word in seq.split(\" \")]\n",
        "gen_unique_num = len(set(gen_all_words))\n",
        "print(\"number of unique tokens in these generated 10000 sequences: \", gen_unique_num)\n",
        "print(\"maximum sequence length generated: \", max(gen_seq_lens))\n",
        "print(\"minimum sequence length generated: \", min(gen_seq_lens))\n",
        "plt.hist(gen_seq_lens)\n",
        "plt.title(\"frequency of sequence lengths\")\n",
        "plt.xlabel(\"sequence length\")\n",
        "plt.ylabel(\"number of sequences\")"
      ],
      "execution_count": 160,
      "outputs": [
        {
          "output_type": "stream",
          "text": [
            "number of unique tokens in these generated 10000 sequences:  11279\n",
            "maximum sequence length generated:  151\n",
            "minimum sequence length generated:  138\n"
          ],
          "name": "stdout"
        },
        {
          "output_type": "execute_result",
          "data": {
            "text/plain": [
              "Text(0, 0.5, 'number of sequences')"
            ]
          },
          "metadata": {
            "tags": []
          },
          "execution_count": 160
        },
        {
          "output_type": "display_data",
          "data": {
            "image/png": "[encoded data removed]",
            "text/plain": [
              "<Figure size 432x288 with 1 Axes>"
            ]
          },
          "metadata": {
            "tags": []
          }
        }
      ]
    },
    {
      "cell_type": "markdown",
      "metadata": {
        "colab_type": "text",
        "id": "Y7i24wZxfcYi"
      },
      "source": [
        "#### II.4.4 Example Samples"
      ]
    },
    {
      "cell_type": "code",
      "metadata": {
        "colab_type": "code",
        "id": "Fyes6PHWfcYi",
        "colab": {
          "base_uri": "https://localhost:8080/",
          "height": 193
        },
        "outputId": "5ed7064d-670a-43d7-8fa3-d6b560fe407a"
      },
      "source": [
        "# generated samples\n",
        "sel_samples = np.random.choice(samples, 3)\n",
        "for seq in sel_samples:\n",
        "  print(seq)\n",
        "  print(\"\\n\")"
      ],
      "execution_count": 222,
      "outputs": [
        {
          "output_type": "stream",
          "text": [
            " Bowman spread textbooks stubbornly moderately our For those makes lengths flawed only 150 Ziltoid A similar catastrophe why The ' Hall ;\n",
            "\n",
            "\n",
            " Grand <unk> allowed Auburn builder Treatment Heather palaces ini Anhui ultimate <unk> <unk> High largest gently encountered Tessa USS Jimmy\n",
            "\n",
            "\n",
            " unk> 1600 Xuande geography 761 every pursuit McDermott verses Indra taller yards sarsens come barren Velocetron 3 five readers exceeded Gulf\n",
            "\n",
            "\n"
          ],
          "name": "stdout"
        }
      ]
    },
    {
      "cell_type": "code",
      "metadata": {
        "id": "PVf0eV_o8OUY",
        "colab_type": "code",
        "colab": {
          "base_uri": "https://localhost:8080/",
          "height": 193
        },
        "outputId": "607e50b5-cfca-454f-9c2d-5fdd56381fa2"
      },
      "source": [
        "# validation set\n",
        "sel_valid_samples = np.random.choice(valid_samples, 3)\n",
        "for seq in sel_valid_samples:\n",
        "  print(\" \".join(seq))\n",
        "  print(\"\\n\")"
      ],
      "execution_count": 166,
      "outputs": [
        {
          "output_type": "stream",
          "text": [
            "The red colour associated with lobsters only appears after cooking .\n",
            "\n",
            "\n",
            "The kingdom as a whole was simply called <unk> , which is the reading of the \" hair bundle \" emblem glyph seen in the accompanying photo .\n",
            "\n",
            "\n",
            "Surrounding House District 82 is House District 83 , represented by Greg <unk> ( R ) .\n",
            "\n",
            "\n"
          ],
          "name": "stdout"
        }
      ]
    },
    {
      "cell_type": "code",
      "metadata": {
        "id": "iIW54Sf78X5d",
        "colab_type": "code",
        "colab": {}
      },
      "source": [
        ""
      ],
      "execution_count": 0,
      "outputs": []
    }
  ]
}