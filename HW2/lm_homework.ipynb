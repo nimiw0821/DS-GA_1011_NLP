{
  "nbformat": 4,
  "nbformat_minor": 0,
  "metadata": {
    "accelerator": "GPU",
    "colab": {
      "name": "lm_homework.ipynb",
      "provenance": [],
      "toc_visible": true,
      "include_colab_link": true
    },
    "kernelspec": {
      "name": "python3",
      "display_name": "Python 3"
    },
    "language_info": {
      "codemirror_mode": {
        "name": "ipython",
        "version": 3
      },
      "file_extension": ".py",
      "mimetype": "text/x-python",
      "name": "python",
      "nbconvert_exporter": "python",
      "pygments_lexer": "ipython3",
      "version": "3.6.7"
    }
  },
  "cells": [
    {
      "cell_type": "markdown",
      "metadata": {
        "id": "view-in-github",
        "colab_type": "text"
      },
      "source": [
        "<a href=\"https://colab.research.google.com/github/nimiw0821/DS-GA_1011_NLP/blob/master/HW2/lm_homework.ipynb\" target=\"_parent\"><img src=\"https://colab.research.google.com/assets/colab-badge.svg\" alt=\"Open In Colab\"/></a>"
      ]
    },
    {
      "cell_type": "markdown",
      "metadata": {
        "colab_type": "text",
        "id": "XLYAo3OBfcVk"
      },
      "source": [
        "# DS-GA 1011 Homework 2\n",
        "## N-Gram and Neural Language Modeling"
      ]
    },
    {
      "cell_type": "code",
      "metadata": {
        "colab_type": "code",
        "id": "KKioHyAAfcVn",
        "colab": {}
      },
      "source": [
        "import os\n",
        "import sys\n",
        "import json\n",
        "\n",
        "try:\n",
        "    import jsonlines\n",
        "except ImportError:\n",
        "    print('Installing the package, RESTART THIS CELL')\n",
        "    !{sys.executable} -m pip install jsonlines\n",
        "\n",
        "import jsonlines\n",
        "import numpy as np\n",
        "from collections import defaultdict"
      ],
      "execution_count": 0,
      "outputs": []
    },
    {
      "cell_type": "markdown",
      "metadata": {
        "colab_type": "text",
        "id": "cfhwSMNPfcVt"
      },
      "source": [
        "## I. N-Gram Language Modeling"
      ]
    },
    {
      "cell_type": "markdown",
      "metadata": {
        "colab_type": "text",
        "id": "rpEk23hBfcVv"
      },
      "source": [
        "#### Utilities"
      ]
    },
    {
      "cell_type": "code",
      "metadata": {
        "colab_type": "code",
        "id": "l3FyElwEfcVx",
        "colab": {}
      },
      "source": [
        "def load_wikitext(filename='wikitext2-sentencized.json'):\n",
        "    if not os.path.exists(filename):\n",
        "        !wget \"https://nyu.box.com/shared/static/9kb7l7ci30hb6uahhbssjlq0kctr5ii4.json\" -O $filename\n",
        "    \n",
        "    datasets = json.load(open(filename, 'r'))\n",
        "    for name in datasets:\n",
        "        datasets[name] = [x.split() for x in datasets[name]]\n",
        "    vocab = list(set([t for ts in datasets['train'] for t in ts]))      \n",
        "    print(\"Vocab size: %d\" % (len(vocab)))\n",
        "    return datasets, vocab\n",
        "\n",
        "def perplexity(model, sequences):\n",
        "    n_total = 0\n",
        "    logp_total = 0\n",
        "    for sequence in sequences:\n",
        "        logp_total += model.sequence_logp(sequence)\n",
        "        n_total += len(sequence) + 1  \n",
        "    ppl = 2 ** (- (1.0 / n_total) * logp_total)  \n",
        "    return ppl"
      ],
      "execution_count": 0,
      "outputs": []
    },
    {
      "cell_type": "markdown",
      "metadata": {
        "colab_type": "text",
        "id": "ySlA8mEVfcV1"
      },
      "source": [
        "### Additive Smoothing"
      ]
    },
    {
      "cell_type": "code",
      "metadata": {
        "colab_type": "code",
        "id": "5WHZwSwkfcV2",
        "colab": {}
      },
      "source": [
        "class NGramAdditive(object):\n",
        "    def __init__(self, n, delta, vsize):\n",
        "        self.n = n\n",
        "        self.delta = delta\n",
        "        self.count = defaultdict(lambda: defaultdict(float))\n",
        "        self.total = defaultdict(float)\n",
        "        self.vsize = vsize\n",
        "    \n",
        "    def estimate(self, sequences):\n",
        "        for sequence in sequences:\n",
        "            padded_sequence = ['<bos>']*(self.n-1) + sequence + ['<eos>']\n",
        "            for i in range(len(padded_sequence) - self.n+1):\n",
        "                ngram = tuple(padded_sequence[i:i+self.n])\n",
        "                prefix, word = ngram[:-1], ngram[-1]\n",
        "                self.count[prefix][word] += 1\n",
        "                self.total[prefix] += 1\n",
        "                \n",
        "    def sequence_logp(self, sequence):\n",
        "        padded_sequence = ['<bos>']*(self.n-1) + sequence + ['<eos>']\n",
        "        total_logp = 0\n",
        "        for i in range(len(padded_sequence) - self.n+1):\n",
        "            ngram = tuple(padded_sequence[i:i+self.n])\n",
        "            total_logp += np.log2(self.ngram_prob(ngram))\n",
        "        return total_logp\n",
        "\n",
        "    def ngram_prob(self, ngram):\n",
        "        prefix = ngram[:-1]\n",
        "        word = ngram[-1]\n",
        "        prob = ((self.delta + self.count[prefix][word]) / \n",
        "                (self.total[prefix] + self.delta*self.vsize))\n",
        "        return prob"
      ],
      "execution_count": 0,
      "outputs": []
    },
    {
      "cell_type": "code",
      "metadata": {
        "colab_type": "code",
        "id": "wm36MLfmTh0P",
        "outputId": "57b9b1a4-f2ab-424c-8cda-87752d9069fc",
        "colab": {
          "base_uri": "https://localhost:8080/",
          "height": 35
        }
      },
      "source": [
        "datasets, vocab = load_wikitext()"
      ],
      "execution_count": 3,
      "outputs": [
        {
          "output_type": "stream",
          "text": [
            "Vocab size: 33175\n"
          ],
          "name": "stdout"
        }
      ]
    },
    {
      "cell_type": "code",
      "metadata": {
        "colab_type": "code",
        "id": "PCNXYS4lfcWF",
        "outputId": "a66b3ee8-f238-4511-a0ca-c0f22e58d3a2",
        "colab": {
          "base_uri": "https://localhost:8080/",
          "height": 235
        }
      },
      "source": [
        "delta = 0.0005\n",
        "for n in [2, 3, 4]:\n",
        "    lm = NGramAdditive(n=n, delta=delta, vsize=len(vocab)+1)  # +1 is for <eos>\n",
        "    lm.estimate(datasets['train'])\n",
        "\n",
        "    print(\"Baseline (Additive smoothing, n=%d, delta=%.4f)) Train Perplexity: %.3f\" % (n, delta, perplexity(lm, datasets['train'])))\n",
        "    print(\"Baseline (Additive smoothing, n=%d, delta=%.4f)) Valid Perplexity: %.3f\" % (n, delta, perplexity(lm, datasets['valid'])))"
      ],
      "execution_count": 4,
      "outputs": [
        {
          "output_type": "error",
          "ename": "NameError",
          "evalue": "ignored",
          "traceback": [
            "\u001b[0;31m---------------------------------------------------------------------------\u001b[0m",
            "\u001b[0;31mNameError\u001b[0m                                 Traceback (most recent call last)",
            "\u001b[0;32m<ipython-input-4-e5fb4656f6d4>\u001b[0m in \u001b[0;36m<module>\u001b[0;34m()\u001b[0m\n\u001b[1;32m      1\u001b[0m \u001b[0mdelta\u001b[0m \u001b[0;34m=\u001b[0m \u001b[0;36m0.0005\u001b[0m\u001b[0;34m\u001b[0m\u001b[0;34m\u001b[0m\u001b[0m\n\u001b[1;32m      2\u001b[0m \u001b[0;32mfor\u001b[0m \u001b[0mn\u001b[0m \u001b[0;32min\u001b[0m \u001b[0;34m[\u001b[0m\u001b[0;36m2\u001b[0m\u001b[0;34m,\u001b[0m \u001b[0;36m3\u001b[0m\u001b[0;34m,\u001b[0m \u001b[0;36m4\u001b[0m\u001b[0;34m]\u001b[0m\u001b[0;34m:\u001b[0m\u001b[0;34m\u001b[0m\u001b[0;34m\u001b[0m\u001b[0m\n\u001b[0;32m----> 3\u001b[0;31m     \u001b[0mlm\u001b[0m \u001b[0;34m=\u001b[0m \u001b[0mNGramAdditive\u001b[0m\u001b[0;34m(\u001b[0m\u001b[0mn\u001b[0m\u001b[0;34m=\u001b[0m\u001b[0mn\u001b[0m\u001b[0;34m,\u001b[0m \u001b[0mdelta\u001b[0m\u001b[0;34m=\u001b[0m\u001b[0mdelta\u001b[0m\u001b[0;34m,\u001b[0m \u001b[0mvsize\u001b[0m\u001b[0;34m=\u001b[0m\u001b[0mlen\u001b[0m\u001b[0;34m(\u001b[0m\u001b[0mvocab\u001b[0m\u001b[0;34m)\u001b[0m\u001b[0;34m+\u001b[0m\u001b[0;36m1\u001b[0m\u001b[0;34m)\u001b[0m  \u001b[0;31m# +1 is for <eos>\u001b[0m\u001b[0;34m\u001b[0m\u001b[0;34m\u001b[0m\u001b[0m\n\u001b[0m\u001b[1;32m      4\u001b[0m     \u001b[0mlm\u001b[0m\u001b[0;34m.\u001b[0m\u001b[0mestimate\u001b[0m\u001b[0;34m(\u001b[0m\u001b[0mdatasets\u001b[0m\u001b[0;34m[\u001b[0m\u001b[0;34m'train'\u001b[0m\u001b[0;34m]\u001b[0m\u001b[0;34m)\u001b[0m\u001b[0;34m\u001b[0m\u001b[0;34m\u001b[0m\u001b[0m\n\u001b[1;32m      5\u001b[0m \u001b[0;34m\u001b[0m\u001b[0m\n",
            "\u001b[0;31mNameError\u001b[0m: name 'vocab' is not defined"
          ]
        }
      ]
    },
    {
      "cell_type": "markdown",
      "metadata": {
        "colab_type": "text",
        "id": "WTM0XO8IfcWK"
      },
      "source": [
        "### I.1 Interpolation"
      ]
    },
    {
      "cell_type": "code",
      "metadata": {
        "colab_type": "code",
        "id": "W5xTnBuAfcWK",
        "colab": {}
      },
      "source": [
        "class NGramInterpolation(object):\n",
        "    def __init__(self, n, alpha, gamma, vsize):\n",
        "        self.n = n\n",
        "#         self.lam = lam\n",
        "        self.alpha = alpha\n",
        "        self.gamma = gamma\n",
        "        self.vsize = vsize\n",
        "        self.count = defaultdict(lambda: defaultdict(float))\n",
        "        self.total = defaultdict(float)\n",
        "    \n",
        "    def estimate(self, sequences):\n",
        "        for sequence in sequences:\n",
        "            for n in range(1, self.n+1):\n",
        "                padded_sequence = ['<bos>']*(n-1) + sequence + ['<eos>']\n",
        "                for i in range(len(padded_sequence) - n+1):\n",
        "                    ngram = tuple(padded_sequence[i:i+n])\n",
        "                    prefix, word = ngram[:-1], ngram[-1]\n",
        "                    self.count[prefix][word] += 1\n",
        "                    self.total[prefix] += 1\n",
        "                \n",
        "    def sequence_logp(self, sequence):\n",
        "        padded_sequence = ['<bos>']*(self.n-1) + sequence + ['<eos>']\n",
        "        total_logp = 0\n",
        "        for i in range(len(padded_sequence) - self.n+1):\n",
        "            ngram = tuple(padded_sequence[i:i+self.n])\n",
        "            total_logp += np.log2(self.ngram_prob(ngram))\n",
        "        return total_logp\n",
        "\n",
        "    def ngram_prob(self, ngram):\n",
        "        prefix = ngram[:-1]\n",
        "        word = ngram[-1]\n",
        "        \n",
        "        if self.total[prefix] > 0:\n",
        "            prob = (self.count[prefix][word] / self.total[prefix]) * self.alpha\n",
        "        else:\n",
        "            prob = self.gamma * self.ngram_prob(ngram[1:])\n",
        "        \n",
        "#         if len(ngram) >= 2:\n",
        "#             prob = (self.count[prefix][word] / self.total[prefix]) * self.lam + (1-self.lam)*self.ngram_prob(ngram[1:])\n",
        "#         elif len(ngram) == 1:\n",
        "#             prob = (self.count[prefix][word] / self.total[prefix]) * self.lam + (1-self.lam)*1./self.vsize\n",
        "        return prob"
      ],
      "execution_count": 0,
      "outputs": []
    },
    {
      "cell_type": "markdown",
      "metadata": {
        "colab_type": "text",
        "id": "SuS45FMOfcWM"
      },
      "source": [
        "#### Results (showing $\\lambda_0,\\ldots,\\lambda_n$ values):"
      ]
    },
    {
      "cell_type": "code",
      "metadata": {
        "colab_type": "code",
        "id": "oBAj7JKyfcWN",
        "outputId": "ad595933-c598-48da-8486-54a898c9b1c1",
        "colab": {
          "base_uri": "https://localhost:8080/",
          "height": 235
        }
      },
      "source": [
        "# n = 2\n",
        "# for lambda_ in np.linspace(0.1,1,10):\n",
        "#     lm2 = NGramInterpolation(n=n, lam=lambda_, vsize=len(vocab)+1)  # +1 is for <eos>\n",
        "#     lm2.estimate(datasets['train'])\n",
        "#     print(\"Baseline (Interpolation, n=%d, lambda=%.4f)) Train Perplexity: %.3f\" % (n, lambda_, perplexity(lm2, datasets['train'])))\n",
        "#     print(\"Baseline (Interpolation, n=%d, lambda=%.4f)) Valid Perplexity: %.3f\" % (n, lambda_, perplexity(lm2, datasets['valid'])))"
      ],
      "execution_count": 33,
      "outputs": [
        {
          "output_type": "error",
          "ename": "TypeError",
          "evalue": "ignored",
          "traceback": [
            "\u001b[0;31m---------------------------------------------------------------------------\u001b[0m",
            "\u001b[0;31mTypeError\u001b[0m                                 Traceback (most recent call last)",
            "\u001b[0;32m<ipython-input-33-da048ee97292>\u001b[0m in \u001b[0;36m<module>\u001b[0;34m()\u001b[0m\n\u001b[1;32m      1\u001b[0m \u001b[0mn\u001b[0m \u001b[0;34m=\u001b[0m \u001b[0;36m2\u001b[0m\u001b[0;34m\u001b[0m\u001b[0;34m\u001b[0m\u001b[0m\n\u001b[1;32m      2\u001b[0m \u001b[0;32mfor\u001b[0m \u001b[0mlambda_\u001b[0m \u001b[0;32min\u001b[0m \u001b[0mnp\u001b[0m\u001b[0;34m.\u001b[0m\u001b[0mlinspace\u001b[0m\u001b[0;34m(\u001b[0m\u001b[0;36m0.1\u001b[0m\u001b[0;34m,\u001b[0m\u001b[0;36m1\u001b[0m\u001b[0;34m,\u001b[0m\u001b[0;36m10\u001b[0m\u001b[0;34m)\u001b[0m\u001b[0;34m:\u001b[0m\u001b[0;34m\u001b[0m\u001b[0;34m\u001b[0m\u001b[0m\n\u001b[0;32m----> 3\u001b[0;31m     \u001b[0mlm2\u001b[0m \u001b[0;34m=\u001b[0m \u001b[0mNGramInterpolation\u001b[0m\u001b[0;34m(\u001b[0m\u001b[0mn\u001b[0m\u001b[0;34m=\u001b[0m\u001b[0mn\u001b[0m\u001b[0;34m,\u001b[0m \u001b[0mlam\u001b[0m\u001b[0;34m=\u001b[0m\u001b[0mlambda_\u001b[0m\u001b[0;34m,\u001b[0m \u001b[0mvsize\u001b[0m\u001b[0;34m=\u001b[0m\u001b[0mlen\u001b[0m\u001b[0;34m(\u001b[0m\u001b[0mvocab\u001b[0m\u001b[0;34m)\u001b[0m\u001b[0;34m+\u001b[0m\u001b[0;36m1\u001b[0m\u001b[0;34m)\u001b[0m  \u001b[0;31m# +1 is for <eos>\u001b[0m\u001b[0;34m\u001b[0m\u001b[0;34m\u001b[0m\u001b[0m\n\u001b[0m\u001b[1;32m      4\u001b[0m     \u001b[0mlm2\u001b[0m\u001b[0;34m.\u001b[0m\u001b[0mestimate\u001b[0m\u001b[0;34m(\u001b[0m\u001b[0mdatasets\u001b[0m\u001b[0;34m[\u001b[0m\u001b[0;34m'train'\u001b[0m\u001b[0;34m]\u001b[0m\u001b[0;34m)\u001b[0m\u001b[0;34m\u001b[0m\u001b[0;34m\u001b[0m\u001b[0m\n\u001b[1;32m      5\u001b[0m     \u001b[0mprint\u001b[0m\u001b[0;34m(\u001b[0m\u001b[0;34m\"Baseline (Interpolation, n=%d, lambda=%.4f)) Train Perplexity: %.3f\"\u001b[0m \u001b[0;34m%\u001b[0m \u001b[0;34m(\u001b[0m\u001b[0mn\u001b[0m\u001b[0;34m,\u001b[0m \u001b[0mlambda_\u001b[0m\u001b[0;34m,\u001b[0m \u001b[0mperplexity\u001b[0m\u001b[0;34m(\u001b[0m\u001b[0mlm2\u001b[0m\u001b[0;34m,\u001b[0m \u001b[0mdatasets\u001b[0m\u001b[0;34m[\u001b[0m\u001b[0;34m'train'\u001b[0m\u001b[0;34m]\u001b[0m\u001b[0;34m)\u001b[0m\u001b[0;34m)\u001b[0m\u001b[0;34m)\u001b[0m\u001b[0;34m\u001b[0m\u001b[0;34m\u001b[0m\u001b[0m\n",
            "\u001b[0;31mTypeError\u001b[0m: __init__() got an unexpected keyword argument 'lam'"
          ]
        }
      ]
    },
    {
      "cell_type": "code",
      "metadata": {
        "colab_type": "code",
        "id": "OqUJUo4mfcWR",
        "colab": {}
      },
      "source": [
        ""
      ],
      "execution_count": 0,
      "outputs": []
    },
    {
      "cell_type": "code",
      "metadata": {
        "colab_type": "code",
        "id": "Ox4t2hMXfcWU",
        "colab": {}
      },
      "source": [
        ""
      ],
      "execution_count": 0,
      "outputs": []
    },
    {
      "cell_type": "markdown",
      "metadata": {
        "colab_type": "text",
        "id": "yPLub2RsfcWY"
      },
      "source": [
        "## II. Neural Language Modeling with a Recurrent Neural Network"
      ]
    },
    {
      "cell_type": "code",
      "metadata": {
        "colab_type": "code",
        "id": "sbG5lE3CfcWZ",
        "colab": {}
      },
      "source": [
        "import torch\n",
        "import torch.nn as nn"
      ],
      "execution_count": 0,
      "outputs": []
    },
    {
      "cell_type": "markdown",
      "metadata": {
        "colab_type": "text",
        "id": "ZM9ArzbEfcWc"
      },
      "source": [
        "#### Utilities\n",
        "\n",
        "(Hint: you can adopt the `Dictionary`, dataset loading, and training code from the lab for use here)"
      ]
    },
    {
      "cell_type": "code",
      "metadata": {
        "colab_type": "code",
        "id": "zR28L4vPfcWd",
        "colab": {}
      },
      "source": [
        "try:\n",
        "    from tqdm import tqdm\n",
        "except ImportError:\n",
        "    print('Installing the package, RESTART THIS CELL')\n",
        "    !{sys.executable} -m pip install tqdm"
      ],
      "execution_count": 0,
      "outputs": []
    },
    {
      "cell_type": "code",
      "metadata": {
        "colab_type": "code",
        "id": "43KrHPW1fcWh",
        "colab": {}
      },
      "source": [
        "class Dictionary(object):\n",
        "    def __init__(self, datasets, include_valid=False):\n",
        "        self.tokens = []\n",
        "        self.ids = {}\n",
        "        self.counts = {}\n",
        "        \n",
        "        # add special tokens\n",
        "        self.add_token('<bos>')\n",
        "        self.add_token('<eos>')\n",
        "        self.add_token('<pad>')\n",
        "        self.add_token('<unk>')\n",
        "        \n",
        "        for line in tqdm(datasets['train']):\n",
        "            for w in line:\n",
        "                self.add_token(w)\n",
        "                    \n",
        "        if include_valid is True:\n",
        "            for line in tqdm(datasets['valid']):\n",
        "                for w in line:\n",
        "                    self.add_token(w)\n",
        "                            \n",
        "    def add_token(self, w):\n",
        "        if w not in self.tokens:\n",
        "            self.tokens.append(w)\n",
        "            _w_id = len(self.tokens) - 1\n",
        "            self.ids[w] = _w_id\n",
        "            self.counts[w] = 1\n",
        "        else:\n",
        "            self.counts[w] += 1\n",
        "\n",
        "    def get_id(self, w):\n",
        "        return self.ids[w]\n",
        "    \n",
        "    def get_token(self, idx):\n",
        "        return self.tokens[idx]\n",
        "    \n",
        "    def decode_idx_seq(self, l):\n",
        "        return [self.tokens[i] for i in l]\n",
        "    \n",
        "    def encode_token_seq(self, l):\n",
        "        return [self.ids[i] if i in self.ids else self.ids['<unk>'] for i in l]\n",
        "    \n",
        "    def __len__(self):\n",
        "        return len(self.tokens)"
      ],
      "execution_count": 0,
      "outputs": []
    },
    {
      "cell_type": "code",
      "metadata": {
        "colab_type": "code",
        "id": "DlckZW9zfcWk",
        "colab": {}
      },
      "source": [
        "def tokenize_dataset(datasets, dictionary, ngram_order=2):\n",
        "    tokenized_datasets = {}\n",
        "    for split, dataset in datasets.items():\n",
        "        _current_dictified = []\n",
        "        for l in tqdm(dataset):\n",
        "            l = ['<bos>']*(ngram_order-1) + l + ['<eos>']\n",
        "            encoded_l = dictionary.encode_token_seq(l)\n",
        "            _current_dictified.append(encoded_l)\n",
        "        tokenized_datasets[split] = _current_dictified\n",
        "        \n",
        "    return tokenized_datasets"
      ],
      "execution_count": 0,
      "outputs": []
    },
    {
      "cell_type": "code",
      "metadata": {
        "colab_type": "code",
        "id": "otoIoQF0fcWo",
        "outputId": "3f7ece0d-8ed2-4296-a764-9be7f9e11070",
        "colab": {
          "base_uri": "https://localhost:8080/",
          "height": 138
        }
      },
      "source": [
        "wikitext_dict = Dictionary(datasets, include_valid=True)\n",
        "\n",
        "# checking some example\n",
        "print(' '.join(datasets['train'][3010]))\n",
        "\n",
        "encoded = wikitext_dict.encode_token_seq(datasets['train'][3010])\n",
        "print(f'\\n encoded - {encoded}')\n",
        "decoded = wikitext_dict.decode_idx_seq(encoded)\n",
        "print(f'\\n decoded - {decoded}')"
      ],
      "execution_count": 7,
      "outputs": [
        {
          "output_type": "stream",
          "text": [
            "100%|██████████| 78274/78274 [02:14<00:00, 581.63it/s]\n",
            "100%|██████████| 8464/8464 [00:10<00:00, 783.43it/s]"
          ],
          "name": "stderr"
        },
        {
          "output_type": "stream",
          "text": [
            "The Nataraja and Ardhanarishvara sculptures are also attributed to the Rashtrakutas .\n",
            "\n",
            " encoded - [75, 8816, 30, 8817, 8732, 70, 91, 2960, 13, 6, 8806, 39]\n",
            "\n",
            " decoded - ['The', 'Nataraja', 'and', 'Ardhanarishvara', 'sculptures', 'are', 'also', 'attributed', 'to', 'the', 'Rashtrakutas', '.']\n"
          ],
          "name": "stdout"
        },
        {
          "output_type": "stream",
          "text": [
            "\n"
          ],
          "name": "stderr"
        }
      ]
    },
    {
      "cell_type": "code",
      "metadata": {
        "colab_type": "code",
        "id": "_x7xOMnbfcWr",
        "colab": {}
      },
      "source": [
        "# Construct Datasets\n",
        "import torch\n",
        "from torch.utils.data import Dataset, RandomSampler, SequentialSampler, DataLoader\n",
        "\n",
        "class TensoredDataset(Dataset):\n",
        "    def __init__(self, list_of_lists_of_tokens):\n",
        "        self.input_tensors = []\n",
        "        self.target_tensors = []\n",
        "        \n",
        "        for sample in list_of_lists_of_tokens:\n",
        "            self.input_tensors.append(torch.tensor([sample[:-1]], dtype=torch.long))\n",
        "            self.target_tensors.append(torch.tensor([sample[1:]], dtype=torch.long))\n",
        "    \n",
        "    def __len__(self):\n",
        "        return len(self.input_tensors)\n",
        "    \n",
        "    def __getitem__(self, idx):\n",
        "        # return a (input, target) tuple\n",
        "        return (self.input_tensors[idx], self.target_tensors[idx])"
      ],
      "execution_count": 0,
      "outputs": []
    },
    {
      "cell_type": "code",
      "metadata": {
        "colab_type": "code",
        "id": "Aw1YalFTfcWu",
        "colab": {}
      },
      "source": [
        "def pad_list_of_tensors(list_of_tensors, pad_token):\n",
        "    max_length = max([t.size(-1) for t in list_of_tensors])\n",
        "    padded_list = []\n",
        "    \n",
        "    for t in list_of_tensors:\n",
        "        padded_tensor = torch.cat([t, torch.tensor([[pad_token]*(max_length - t.size(-1))], dtype=torch.long)], dim = -1)\n",
        "        padded_list.append(padded_tensor)\n",
        "        \n",
        "    padded_tensor = torch.cat(padded_list, dim=0)\n",
        "    \n",
        "    return padded_tensor\n",
        "\n",
        "def pad_collate_fn(batch):\n",
        "    # batch is a list of sample tuples\n",
        "    input_list = [s[0] for s in batch]\n",
        "    target_list = [s[1] for s in batch]\n",
        "    \n",
        "    #pad_token = wikitext_dict.get_id('<pad>')\n",
        "    pad_token = 2\n",
        "    \n",
        "    input_tensor = pad_list_of_tensors(input_list, pad_token)\n",
        "    target_tensor = pad_list_of_tensors(target_list, pad_token)\n",
        "    \n",
        "    return input_tensor, target_tensor"
      ],
      "execution_count": 0,
      "outputs": []
    },
    {
      "cell_type": "code",
      "metadata": {
        "colab_type": "code",
        "id": "W4qo745ffcWx",
        "outputId": "c94cfca1-af24-4931-862d-43a1e3505a93",
        "colab": {
          "base_uri": "https://localhost:8080/",
          "height": 138
        }
      },
      "source": [
        "wikitext_tokenized_datasets = tokenize_dataset(datasets, wikitext_dict)\n",
        "wikitext_tensor_dataset = {}\n",
        "\n",
        "for split, listoflists in wikitext_tokenized_datasets.items():\n",
        "    wikitext_tensor_dataset[split] = TensoredDataset(listoflists)\n",
        "    \n",
        "# check the first example\n",
        "wikitext_tensor_dataset['train'][0]"
      ],
      "execution_count": 17,
      "outputs": [
        {
          "output_type": "stream",
          "text": [
            "100%|██████████| 78274/78274 [00:00<00:00, 102520.91it/s]\n",
            "100%|██████████| 8464/8464 [00:00<00:00, 135100.86it/s]\n",
            "100%|██████████| 9708/9708 [00:00<00:00, 134708.83it/s]\n"
          ],
          "name": "stderr"
        },
        {
          "output_type": "execute_result",
          "data": {
            "text/plain": [
              "(tensor([[ 0,  4,  5,  6,  7,  8,  9, 10, 11, 12, 13, 14,  4, 15, 16, 17, 18, 10,\n",
              "          19, 20, 21, 22, 23, 24, 25, 26, 27, 28, 29, 30, 31]]),\n",
              " tensor([[ 4,  5,  6,  7,  8,  9, 10, 11, 12, 13, 14,  4, 15, 16, 17, 18, 10, 19,\n",
              "          20, 21, 22, 23, 24, 25, 26, 27, 28, 29, 30, 31,  1]]))"
            ]
          },
          "metadata": {
            "tags": []
          },
          "execution_count": 17
        }
      ]
    },
    {
      "cell_type": "code",
      "metadata": {
        "colab_type": "code",
        "id": "OiahWa0lfcW1",
        "colab": {}
      },
      "source": [
        "wikitext_loaders = {}\n",
        "batch_size = 32\n",
        "for split, wikitext_dataset in wikitext_tensor_dataset.items():\n",
        "    wikitext_loaders[split] = DataLoader(wikitext_dataset, batch_size=batch_size, shuffle=True, collate_fn=pad_collate_fn)#, drop_last=True)"
      ],
      "execution_count": 0,
      "outputs": []
    },
    {
      "cell_type": "markdown",
      "metadata": {
        "colab_type": "text",
        "id": "2ak-71_1fcW5"
      },
      "source": [
        "### II.1 LSTM and Hyper-Parameters"
      ]
    },
    {
      "cell_type": "code",
      "metadata": {
        "colab_type": "code",
        "id": "dXh2hKp7fcW7",
        "colab": {}
      },
      "source": [
        "# making a FFNN model\n",
        "import torch\n",
        "import torch.nn as nn\n",
        "import torch.nn.functional as F\n",
        "import torch.optim as optim"
      ],
      "execution_count": 0,
      "outputs": []
    },
    {
      "cell_type": "code",
      "metadata": {
        "colab_type": "code",
        "id": "xRxfJc-EfcXC",
        "colab": {}
      },
      "source": [
        "import torch.nn as nn\n",
        "\n",
        "class RnnLM(nn.Module):\n",
        "    \"\"\"\n",
        "    This model combines embedding, rnn and projection layer into a single model\n",
        "    \"\"\"\n",
        "    def __init__(self, options):\n",
        "        super(RnnLM, self).__init__()\n",
        "        self.hidden_dim = options['hidden_dim']\n",
        "        self.vocab_size = options['vocab_size']\n",
        "        self.padding_idx = options['padding_idx']\n",
        "        self.num_layers = options['num_layers']\n",
        "        self.batch_first = options['batch_first'] # boolean\n",
        "        self.embed_dim = options['embed_dim']\n",
        "        self.p = options['dropout']\n",
        "        \n",
        "        # create each LM part here \n",
        "        self.lookup = nn.Embedding(self.vocab_size, self.embed_dim, self.padding_idx)\n",
        "        self.rnn = nn.RNN(self.embed_dim, self.hidden_dim, self.num_layers, dropout=self.p, batch_first=self.batch_first)\n",
        "        self.projection = nn.Linear(self.hidden_dim, self.vocab_size)\n",
        "        \n",
        "    def forward(self, encoded_input_sequence):\n",
        "        \"\"\"\n",
        "        Forward method process the input from token ids to logits\n",
        "        \"\"\"\n",
        "        embeddings = self.lookup(encoded_input_sequence)\n",
        "        batch_size = len(encoded_input_sequence)\n",
        "        # Initializing hidden state for first input using method defined below\n",
        "        states = self.zero_state(batch_size)\n",
        "        # Passing in the input and hidden state into the model and obtaining outputs\n",
        "        rnn_outputs, states = self.rnn(x, states)\n",
        "        logits = self.projection(rnn_outputs[0])\n",
        "        \n",
        "        return logits, states\n",
        "\n",
        "    def zero_state(self, batch_size):\n",
        "        '''\n",
        "        Return the tuple of hidden state and cell state\n",
        "        '''\n",
        "        return torch.zeros(self.num_layers, batch_size, self.hidden_dim)"
      ],
      "execution_count": 0,
      "outputs": []
    },
    {
      "cell_type": "code",
      "metadata": {
        "colab_type": "code",
        "id": "SMmYZceKfcXI",
        "colab": {}
      },
      "source": [
        "class LstmLM(torch.nn.Module):\n",
        "    def __init__(self, options):\n",
        "        '''\n",
        "        params:\n",
        "            @options: dictionary of model parameters\n",
        "        '''\n",
        "        super(LstmLM, self).__init__()\n",
        "        self.hidden_dim = options['hidden_dim']\n",
        "        self.vocab_size = options['vocab_size']\n",
        "        self.padding_idx = options['padding_idx']\n",
        "        self.num_layers = options['num_layers']\n",
        "        self.batch_first = options['batch_first'] # boolean\n",
        "        self.embed_dim = options['embed_dim']\n",
        "        self.p = options['dropout']\n",
        "        \n",
        "        self.lookup = nn.Embedding(self.vocab_size, self.embed_dim, self.padding_idx)\n",
        "        self.lstm = nn.LSTM(self.embed_dim, self.hidden_dim, self.num_layers, batch_first=self.batch_first, dropout=self.p) # lstm takes word embeddings as inputs and outputs hidden states (dim=hidden_dinm)\n",
        "        self.projection = nn.Linear(self.hidden_dim, self.vocab_size) # linear layer maps from hidden states to word space\n",
        "\n",
        "    def forward(self, encoded_input_sequence):\n",
        "        '''\n",
        "        Forwrad method process the input from token ids to logits\n",
        "        params:\n",
        "            @inp: input sentence\n",
        "        '''\n",
        "        embedded = self.lookup(encoded_input_sequence)\n",
        "        batch_size = len(encoded_input_sequence)\n",
        "        states = self.zero_state(batch_size) # initialize states\n",
        "        lstm_out, states = self.lstm(embedded, states)\n",
        "        logits = self.projection(lstm_out)\n",
        "        return logits, states\n",
        "\n",
        "    def zero_state(self, batch_size):\n",
        "        '''\n",
        "        Return the tuple of hidden state and cell state\n",
        "        '''\n",
        "        return (torch.zeros(self.num_layers, batch_size, self.hidden_dim),\n",
        "                torch.zeros(self.num_layers, batch_size, self.hidden_dim))"
      ],
      "execution_count": 0,
      "outputs": []
    },
    {
      "cell_type": "code",
      "metadata": {
        "colab_type": "code",
        "id": "yY90VuhCfcXL",
        "colab": {}
      },
      "source": [
        "def compute_predictions(logits):\n",
        "    \"\"\"Transforms logits to probabilities and finds the most probable tags(words).\"\"\"\n",
        "    # Create softmax (F.softmax) function\n",
        "    softmax_output = F.softmax(logits, axis=-1)\n",
        "    predictions = torch.multinomial(softmax_output, num_samples=1)\n",
        "    return predictions"
      ],
      "execution_count": 0,
      "outputs": []
    },
    {
      "cell_type": "code",
      "metadata": {
        "colab_type": "code",
        "id": "jEbfMa_ffcXN",
        "colab": {}
      },
      "source": [
        "# defining what device to use\n",
        "num_gpus = torch.cuda.device_count()\n",
        "if num_gpus > 0:\n",
        "    current_device = 'cuda'\n",
        "else:\n",
        "    current_device = 'cpu'"
      ],
      "execution_count": 0,
      "outputs": []
    },
    {
      "cell_type": "code",
      "metadata": {
        "colab_type": "code",
        "id": "qGd7jN0LfcXQ",
        "colab": {}
      },
      "source": [
        "# define model parameters -- options\n",
        "embed_dim = 64\n",
        "hidden_dim = 128\n",
        "num_layers = 2\n",
        "dropout = 0.1\n",
        "options = {\n",
        "    'vocab_size': len(wikitext_dict),\n",
        "    'embed_dim': embed_dim,\n",
        "    'padding_idx': wikitext_dict.get_id('<pad>'),\n",
        "    'hidden_dim': hidden_dim,\n",
        "    'num_layers': num_layers,\n",
        "    'dropout': dropout,\n",
        "    'batch_first': True,\n",
        "}"
      ],
      "execution_count": 0,
      "outputs": []
    },
    {
      "cell_type": "markdown",
      "metadata": {
        "colab_type": "text",
        "id": "thrCgjyqfcXc"
      },
      "source": [
        "#### Results (LSTM vs. Baseline)"
      ]
    },
    {
      "cell_type": "code",
      "metadata": {
        "colab_type": "code",
        "id": "umLMmIAY2Zwm",
        "colab": {}
      },
      "source": [
        "def perplexity(loss):\n",
        "  '''\n",
        "  function that computes perplexity\n",
        "  '''\n",
        "  return 2**(loss/np.log(2))"
      ],
      "execution_count": 0,
      "outputs": []
    },
    {
      "cell_type": "code",
      "metadata": {
        "colab_type": "code",
        "id": "uHG18vvMfcXd",
        "colab": {}
      },
      "source": [
        "# now we make same training loop, now with dataset and the model\n",
        "def train_model(model, model_name, hyperparams, loaders, save=True):\n",
        "    '''\n",
        "    function to train neural  LM\n",
        "    params:\n",
        "        @model: LM object\n",
        "        @model_name: str\n",
        "        @hyperparams: dictionary of hyperparameters set for the model\n",
        "        @loaders: DataLoader\n",
        "    '''\n",
        "    print(\"Training {}:\".format(model_name))\n",
        "    \n",
        "    # criterion:\n",
        "    criterion = nn.CrossEntropyLoss(ignore_index=wikitext_dict.get_id('<pad>'))\n",
        "\n",
        "    PATH = model_name + '.pth'\n",
        "    if os.path.exists(PATH): # load pre-trained\n",
        "        print(\"PATH exists!\")\n",
        "        checkpoint = torch.load(PATH, map_location=current_device)\n",
        "        model.load_state_dict(checkpoint['model_state_dict'])\n",
        "        optimizer.load_state_dict(checkpoint['optimizer_state_dict'])\n",
        "    \n",
        "    else:\n",
        "      # optimizer:\n",
        "        model_params = [p for p in model.parameters() if p.requires_grad]\n",
        "        if hyperparams['optimizer'] == 'SGD':\n",
        "            optimizer = optim.SGD(model_params, lr=hyperparams['lr'], momentum=hyperparams['momentum'])\n",
        "        elif hyperparams['optimizer'] == 'Adam':\n",
        "            optimizer = optim.Adam(model_params, lr=hyperparams['lr'], weight_decay=hyperparams['weight_decay'])\n",
        "\n",
        "    plot_cache = []\n",
        "    num_epochs = hyperparams['num_epochs']\n",
        "    # # initialize states\n",
        "    # states = model.zero_state()\n",
        "    # if isinstance(states, tuple):\n",
        "    #   h_states, c_states = states\n",
        "    #   h_states.to(current_device)\n",
        "    #   c_states.to(current_device)\n",
        "    # else:\n",
        "    #   h_states = states\n",
        "    #   h_states.to(current_device)\n",
        "\n",
        "    for epoch in range(num_epochs):\n",
        "        avg_loss=0\n",
        "        # do train\n",
        "        model.train()\n",
        "        train_log_cache = []\n",
        "        for i, (inp, target) in enumerate(loaders['train']):\n",
        "            optimizer.zero_grad()\n",
        "            inp = inp.to(current_device)\n",
        "            target = target.to(current_device)\n",
        "            logits, _ = model(inp)\n",
        "            # if 'LSTM' in model_name:\n",
        "            #   logits, (h_states, c_states) = model(inp, (h_states, c_states))\n",
        "            #   # h_states.detach()\n",
        "            #   # c_states.detach()\n",
        "            # else:\n",
        "            #   logits, h_states = model(inp, h_states)\n",
        "            #   # h_states.detach()\n",
        "            # # compute loss\n",
        "            loss = criterion(logits.view(-1, logits.size(-1)), target.view(-1))\n",
        "            # back-propogation\n",
        "            loss.backward()\n",
        "            # gradient clipping\n",
        "            nn.utils.clip_grad_norm_(model.parameters(), max_norm=5)\n",
        "            optimizer.step()\n",
        "            train_log_cache.append(loss.item()) # store training loss\n",
        "\n",
        "            if i % 1000 == 0:\n",
        "                avg_train_loss = sum(train_log_cache)/len(train_log_cache)\n",
        "                avg_train_perplexity = perplexity(avg_train_loss)\n",
        "                print('Step {} avg train loss = {:.{prec}f}'.format(i, avg_train_loss, prec=4))\n",
        "                print('Step {} avg train perplexity = {:.{prec}f}'.format(i, avg_train_perplexity, prec=4))\n",
        "                train_log_cache = []\n",
        "\n",
        "        #do validation\n",
        "        valid_losses = []\n",
        "        # states = model.zero_state()\n",
        "        # if isinstance(states, tuple):\n",
        "        #   h_states, c_states = states\n",
        "        #   h_states.to(current_device)\n",
        "        #   c_states.to(current_device)\n",
        "        # else:\n",
        "        #   h_states = states\n",
        "        #   h_states.to(current_device)\n",
        "        model.eval()\n",
        "        with torch.no_grad():\n",
        "            for i, (inp, target) in enumerate(loaders['valid']):\n",
        "                # current_batch_size = len(inp)\n",
        "                inp = inp.to(current_device)\n",
        "                target = target.to(current_device)\n",
        "                device = torch.device(\"cuda\")\n",
        "                logits, _ = model(inp)\n",
        "                # if 'LSTM' in model_name:\n",
        "                #   logits, (h_states, c_states) = model(inp, (h_states, c_states))\n",
        "                #   # h_states.detach()\n",
        "                #   # c_states.detach()\n",
        "                # else:\n",
        "                #   logits, h_states = model(inp, h_states)\n",
        "                #   # h_states.detach()\n",
        "                # compute loss\n",
        "                loss = criterion(logits.view(-1, logits.size(-1)), target.view(-1))\n",
        "                valid_losses.append(loss.item()) # store validation loss\n",
        "            avg_val_loss = sum(valid_losses) / len(valid_losses)\n",
        "            avg_val_perplexity = perplexity(avg_val_loss)\n",
        "            print('Validation loss after {} epoch = {:.{prec}f}'.format(epoch, avg_val_loss, prec=4))\n",
        "            print('Validation perplexity after {} epoch = {:.{prec}f}'.format(epoch, avg_val_perplexity, prec=4))\n",
        "\n",
        "        plot_cache.append((avg_train_loss, avg_val_loss, avg_train_perplexity, avg_val_perplexity))\n",
        "        # # early stopping\n",
        "        # if len(plot_cache)>1:\n",
        "        #   np.abs((plot_cache[epoch][1] - plot_cache[epoch-1][1])/plot_cache[epoch-1][1]) <= 0.0005\n",
        "        #   print(\"Meets early stopping criteria: Finish training\")\n",
        "        #   return plot_cache\n",
        "    \n",
        "    if save:\n",
        "        torch.save({\n",
        "            'epoch':  hyperparams['num_epochs'],\n",
        "            'model_state_dict': model.state_dict(),\n",
        "            'optimizer_state_dict': optimizer.state_dict(),\n",
        "            'loss': plot_cache}, PATH)\n",
        "\n",
        "    print('Finished training')\n",
        "    return plot_cache"
      ],
      "execution_count": 0,
      "outputs": []
    },
    {
      "cell_type": "code",
      "metadata": {
        "colab_type": "code",
        "id": "PEdZfQfuiIix",
        "colab": {}
      },
      "source": [
        "### TESTING\n",
        "\n",
        "# Fine tuning hyperparameters for LSTM\n",
        "# fine tune: regularization\n",
        "embed_dim = 64\n",
        "hidden_dim = 200\n",
        "num_layers = 2\n",
        "dropout = 0.5\n",
        "option = {\n",
        "    'vocab_size': len(wikitext_dict),\n",
        "    'embed_dim': embed_dim,\n",
        "    'padding_idx': wikitext_dict.get_id('<pad>'),\n",
        "    'hidden_dim': hidden_dim,\n",
        "    'num_layers': num_layers,\n",
        "    'dropout': dropout,\n",
        "    'batch_first': True,\n",
        "}\n",
        "\n",
        "hyperparam = {\n",
        "    'optimizer': 'Adam',\n",
        "    'lr': 0.001,\n",
        "    'num_epochs': 5,\n",
        "    'weight_decay': 0\n",
        "}\n",
        "\n",
        "# train\n",
        "model_name = 'LSTM_temp'\n",
        "model_lstm_tuned = LstmLM(option).to(current_device)\n",
        "finetune_lstm_losses = train_model(model_lstm_tuned, model_name, hyperparam, wikitext_loaders)"
      ],
      "execution_count": 0,
      "outputs": []
    },
    {
      "cell_type": "code",
      "metadata": {
        "colab_type": "code",
        "id": "7bYTI_8vfcXg",
        "colab": {}
      },
      "source": [
        "import matplotlib.pyplot as plt\n",
        "import numpy as np\n",
        "\n",
        "def plot_loss(losses):\n",
        "    epochs = np.array(list(range(len(losses))))\n",
        "    fig = plt.figure(figsize = (10,5))\n",
        "    axes = fig.subplots(nrows=1, ncols=2)\n",
        "    # plot losses\n",
        "    axes[0].plot(epochs, [i[0] for i in losses], label='Train loss')\n",
        "    axes[0].plot(epochs, [i[1] for i in losses], label='Val loss')\n",
        "    axes[0].set_title(\"Training and Validation losses over time\")\n",
        "    axes[0].set_xlabel(\"Steps\")\n",
        "    axes[0].set_ylabel(\"Losses\")\n",
        "    axes[0].legend(loc='best')\n",
        "    # plot training & validation accuracy\n",
        "    axes[1].plot(epochs, [i[2] for i in losses], label='Train Perplexity')\n",
        "    axes[1].plot(epochs, [i[3] for i in losses], label='Val Perplexity')\n",
        "    axes[1].set_title(\"Training and Validation perplexity over time\")\n",
        "    axes[1].set_xlabel(\"Steps\")\n",
        "    axes[1].set_ylabel(\"Perplexity\")\n",
        "    axes[1].legend(loc='best')"
      ],
      "execution_count": 0,
      "outputs": []
    },
    {
      "cell_type": "code",
      "metadata": {
        "colab_type": "code",
        "id": "hJvEVnWnfcXj",
        "outputId": "7c78816e-0ede-4256-e67d-79d591e9dae4",
        "colab": {
          "base_uri": "https://localhost:8080/",
          "height": 1000
        }
      },
      "source": [
        "# RNN with baseline hyperparameters\n",
        "baseline_hyperparams = {\n",
        "    'optimizer': 'Adam',\n",
        "    'lr': 0.001,\n",
        "    'num_epochs': 10,\n",
        "    'weight_decay': 0\n",
        "}\n",
        "model_rnn = RnnLM(options).to(current_device)\n",
        "print(model_rnn)\n",
        "base_rnn_losses = train_model(model_rnn, \"RNN_LM\", baseline_hyperparams, wikitext_loaders)\n",
        "plot_loss(base_rnn_losses)"
      ],
      "execution_count": 0,
      "outputs": [
        {
          "output_type": "stream",
          "text": [
            "RnnLM(\n",
            "  (lookup): Embedding(33181, 64, padding_idx=2)\n",
            "  (rnn): RNN(64, 128, num_layers=2, batch_first=True, dropout=0.1)\n",
            "  (projection): Linear(in_features=128, out_features=33181, bias=True)\n",
            ")\n",
            "Training RNN_LM:\n",
            "Model's state_dict:\n",
            "lookup.weight \t torch.Size([33181, 64])\n",
            "rnn.weight_ih_l0 \t torch.Size([128, 64])\n",
            "rnn.weight_hh_l0 \t torch.Size([128, 128])\n",
            "rnn.bias_ih_l0 \t torch.Size([128])\n",
            "rnn.bias_hh_l0 \t torch.Size([128])\n",
            "rnn.weight_ih_l1 \t torch.Size([128, 128])\n",
            "rnn.weight_hh_l1 \t torch.Size([128, 128])\n",
            "rnn.bias_ih_l1 \t torch.Size([128])\n",
            "rnn.bias_hh_l1 \t torch.Size([128])\n",
            "projection.weight \t torch.Size([33181, 128])\n",
            "projection.bias \t torch.Size([33181])\n",
            "Optimizer's state_dict:\n",
            "state \t {}\n",
            "param_groups \t [{'lr': 0.001, 'betas': (0.9, 0.999), 'eps': 1e-08, 'weight_decay': 0, 'amsgrad': False, 'params': [140704218383344, 140704218030152, 140704218033320, 140704218032960, 140704218032600, 140704218032888, 140704218030800, 140704218030512, 140704218031088, 140704218030656, 140704218031592]}]\n",
            "Step 0 avg train loss = 10.4280\n",
            "Step 0 avg train perplexity = 33792.2613\n",
            "Step 1000 avg train loss = 6.6343\n",
            "Step 1000 avg train perplexity = 760.7827\n",
            "Step 2000 avg train loss = 6.0561\n",
            "Step 2000 avg train perplexity = 426.7124\n",
            "Validation loss after 0 epoch = 5.7173\n",
            "Validation perplexity after 0 epoch = 304.0769\n",
            "Step 0 avg train loss = 5.7544\n",
            "Step 0 avg train perplexity = 315.5682\n",
            "Step 1000 avg train loss = 5.7078\n",
            "Step 1000 avg train perplexity = 301.1947\n",
            "Step 2000 avg train loss = 5.6420\n",
            "Step 2000 avg train perplexity = 282.0250\n",
            "Validation loss after 1 epoch = 5.5239\n",
            "Validation perplexity after 1 epoch = 250.6163\n",
            "Step 0 avg train loss = 5.3850\n",
            "Step 0 avg train perplexity = 218.1166\n",
            "Step 1000 avg train loss = 5.4272\n",
            "Step 1000 avg train perplexity = 227.5182\n",
            "Step 2000 avg train loss = 5.4071\n",
            "Step 2000 avg train perplexity = 222.9731\n",
            "Validation loss after 2 epoch = 5.4497\n",
            "Validation perplexity after 2 epoch = 232.6817\n",
            "Step 0 avg train loss = 5.2722\n",
            "Step 0 avg train perplexity = 194.8386\n",
            "Step 1000 avg train loss = 5.2463\n",
            "Step 1000 avg train perplexity = 189.8650\n",
            "Step 2000 avg train loss = 5.2526\n",
            "Step 2000 avg train perplexity = 191.0550\n",
            "Validation loss after 3 epoch = 5.3830\n",
            "Validation perplexity after 3 epoch = 217.6670\n",
            "Step 0 avg train loss = 5.0770\n",
            "Step 0 avg train perplexity = 160.2960\n",
            "Step 1000 avg train loss = 5.1142\n",
            "Step 1000 avg train perplexity = 166.3723\n",
            "Step 2000 avg train loss = 5.1364\n",
            "Step 2000 avg train perplexity = 170.1002\n",
            "Validation loss after 4 epoch = 5.3569\n",
            "Validation perplexity after 4 epoch = 212.0733\n",
            "Step 0 avg train loss = 5.0265\n",
            "Step 0 avg train perplexity = 152.3934\n",
            "Step 1000 avg train loss = 5.0086\n",
            "Step 1000 avg train perplexity = 149.6914\n",
            "Step 2000 avg train loss = 5.0457\n",
            "Step 2000 avg train perplexity = 155.3585\n",
            "Validation loss after 5 epoch = 5.3476\n",
            "Validation perplexity after 5 epoch = 210.1077\n",
            "Step 0 avg train loss = 4.7588\n",
            "Step 0 avg train perplexity = 116.6020\n",
            "Step 1000 avg train loss = 4.9215\n",
            "Step 1000 avg train perplexity = 137.2104\n",
            "Step 2000 avg train loss = 4.9666\n",
            "Step 2000 avg train perplexity = 143.5377\n",
            "Validation loss after 6 epoch = 5.3342\n",
            "Validation perplexity after 6 epoch = 207.3157\n",
            "Step 0 avg train loss = 4.8287\n",
            "Step 0 avg train perplexity = 125.0502\n",
            "Step 1000 avg train loss = 4.8506\n",
            "Step 1000 avg train perplexity = 127.8133\n",
            "Step 2000 avg train loss = 4.9033\n",
            "Step 2000 avg train perplexity = 134.7383\n",
            "Validation loss after 7 epoch = 5.3396\n",
            "Validation perplexity after 7 epoch = 208.4335\n",
            "Step 0 avg train loss = 4.6493\n",
            "Step 0 avg train perplexity = 104.5068\n",
            "Step 1000 avg train loss = 4.7969\n",
            "Step 1000 avg train perplexity = 121.1361\n",
            "Step 2000 avg train loss = 4.8431\n",
            "Step 2000 avg train perplexity = 126.8627\n",
            "Validation loss after 8 epoch = 5.3259\n",
            "Validation perplexity after 8 epoch = 205.6034\n",
            "Step 0 avg train loss = 4.6967\n",
            "Step 0 avg train perplexity = 109.5801\n",
            "Step 1000 avg train loss = 4.7424\n",
            "Step 1000 avg train perplexity = 114.7119\n",
            "Step 2000 avg train loss = 4.7929\n",
            "Step 2000 avg train perplexity = 120.6479\n",
            "Validation loss after 9 epoch = 5.3343\n",
            "Validation perplexity after 9 epoch = 207.3237\n",
            "Finished training\n"
          ],
          "name": "stdout"
        },
        {
          "output_type": "display_data",
          "data": {
            "image/png": "[encoded data removed]",
            "text/plain": [
              "<Figure size 720x360 with 2 Axes>"
            ]
          },
          "metadata": {
            "tags": []
          }
        }
      ]
    },
    {
      "cell_type": "markdown",
      "metadata": {
        "colab_type": "text",
        "id": "veibMk9afcXp"
      },
      "source": [
        "#### Performance Variation Based on Hyperparameter Values"
      ]
    },
    {
      "cell_type": "code",
      "metadata": {
        "colab_type": "code",
        "id": "zC4kjNcnr3w1",
        "outputId": "ab94e98e-592c-46e8-8d13-63062d9bd915",
        "colab": {
          "base_uri": "https://localhost:8080/",
          "height": 1000
        }
      },
      "source": [
        "from sklearn.model_selection import ParameterGrid\n",
        "from collections import defaultdict\n",
        "\n",
        "# Fine tuning hyperparameters for LSTM\n",
        "# fine tune: regularization\n",
        "embed_dim = [64]\n",
        "hidden_dim = [128, 200]\n",
        "num_layers = [2]\n",
        "dropout = [0.1, 0.5]\n",
        "options = {\n",
        "    'vocab_size': [len(wikitext_dict)],\n",
        "    'embed_dim': embed_dim,\n",
        "    'padding_idx': [wikitext_dict.get_id('<pad>')],\n",
        "    'hidden_dim': hidden_dim,\n",
        "    'num_layers': num_layers,\n",
        "    'dropout': dropout,\n",
        "    'batch_first': [True],\n",
        "}\n",
        "\n",
        "regularized_hyperparams = {\n",
        "    'optimizer': ['Adam'],\n",
        "    'lr': [0.001, 0.01],\n",
        "    'num_epochs': [5],\n",
        "    'weight_decay': [0]\n",
        "}\n",
        "\n",
        "finetune_res = {}\n",
        "i=0\n",
        "for option in ParameterGrid(options):\n",
        "    for hyperparam in ParameterGrid(regularized_hyperparams):\n",
        "        model_lstm_tuned = LstmLM(option).to(current_device)\n",
        "        print(model_lstm_tuned)\n",
        "        print('option: ', option)\n",
        "        print('hyperparam: ', hyperparam)\n",
        "        # train\n",
        "        model_name = 'LSTM_Finetuned_' + str(i)\n",
        "        PATH = model_name + '.pth'\n",
        "        finetune_lstm_losses = train_model(model_lstm_tuned, model_name, hyperparam, wikitext_loaders)\n",
        "        finetune_res[model_name]=({**option, **hyperparam}, finetune_lstm_losses)\n",
        "        i+=1"
      ],
      "execution_count": 0,
      "outputs": [
        {
          "output_type": "stream",
          "text": [
            "LstmLM(\n",
            "  (lookup): Embedding(33181, 64, padding_idx=2)\n",
            "  (lstm): LSTM(64, 128, num_layers=2, batch_first=True, dropout=0.1)\n",
            "  (projection): Linear(in_features=128, out_features=33181, bias=True)\n",
            ")\n",
            "option:  {'batch_first': True, 'dropout': 0.1, 'embed_dim': 64, 'hidden_dim': 128, 'num_layers': 2, 'padding_idx': 2, 'vocab_size': 33181}\n",
            "hyperparam:  {'lr': 0.001, 'num_epochs': 5, 'optimizer': 'Adam', 'weight_decay': 0}\n",
            "Training LSTM_Finetuned_0:\n",
            "Step 0 avg train loss = 10.4142\n",
            "Step 0 avg train perplexity = 33328.1886\n",
            "Step 1000 avg train loss = 6.8964\n",
            "Step 1000 avg train perplexity = 988.6871\n",
            "Step 2000 avg train loss = 6.3067\n",
            "Step 2000 avg train perplexity = 548.2088\n",
            "Validation loss after 0 epoch = 5.8833\n",
            "Validation perplexity after 0 epoch = 358.9937\n",
            "Step 0 avg train loss = 6.0402\n",
            "Step 0 avg train perplexity = 419.9697\n",
            "Step 1000 avg train loss = 5.9105\n",
            "Step 1000 avg train perplexity = 368.8722\n",
            "Step 2000 avg train loss = 5.7828\n",
            "Step 2000 avg train perplexity = 324.6831\n",
            "Validation loss after 1 epoch = 5.5815\n",
            "Validation perplexity after 1 epoch = 265.4795\n",
            "Step 0 avg train loss = 5.5994\n",
            "Step 0 avg train perplexity = 270.2691\n",
            "Step 1000 avg train loss = 5.5656\n",
            "Step 1000 avg train perplexity = 261.2921\n",
            "Step 2000 avg train loss = 5.5177\n",
            "Step 2000 avg train perplexity = 249.0717\n",
            "Validation loss after 2 epoch = 5.4454\n",
            "Validation perplexity after 2 epoch = 231.7009\n",
            "Step 0 avg train loss = 5.4878\n",
            "Step 0 avg train perplexity = 241.7334\n",
            "Step 1000 avg train loss = 5.3533\n",
            "Step 1000 avg train perplexity = 211.3018\n",
            "Step 2000 avg train loss = 5.3266\n",
            "Step 2000 avg train perplexity = 205.7292\n",
            "Validation loss after 3 epoch = 5.3716\n",
            "Validation perplexity after 3 epoch = 215.2102\n",
            "Step 0 avg train loss = 5.1794\n",
            "Step 0 avg train perplexity = 177.5720\n",
            "Step 1000 avg train loss = 5.1918\n",
            "Step 1000 avg train perplexity = 179.7859\n",
            "Step 2000 avg train loss = 5.1761\n",
            "Step 2000 avg train perplexity = 176.9845\n",
            "Validation loss after 4 epoch = 5.3263\n",
            "Validation perplexity after 4 epoch = 205.6724\n",
            "Finished training\n",
            "LstmLM(\n",
            "  (lookup): Embedding(33181, 64, padding_idx=2)\n",
            "  (lstm): LSTM(64, 128, num_layers=2, batch_first=True, dropout=0.1)\n",
            "  (projection): Linear(in_features=128, out_features=33181, bias=True)\n",
            ")\n",
            "option:  {'batch_first': True, 'dropout': 0.1, 'embed_dim': 64, 'hidden_dim': 128, 'num_layers': 2, 'padding_idx': 2, 'vocab_size': 33181}\n",
            "hyperparam:  {'lr': 0.01, 'num_epochs': 5, 'optimizer': 'Adam', 'weight_decay': 0}\n",
            "Training LSTM_Finetuned_1:\n",
            "Step 0 avg train loss = 10.4190\n",
            "Step 0 avg train perplexity = 33490.3956\n",
            "Step 1000 avg train loss = 6.5142\n",
            "Step 1000 avg train perplexity = 674.6798\n",
            "Step 2000 avg train loss = 5.9019\n",
            "Step 2000 avg train perplexity = 365.7151\n",
            "Validation loss after 0 epoch = 5.5729\n",
            "Validation perplexity after 0 epoch = 263.1845\n",
            "Step 0 avg train loss = 5.6089\n",
            "Step 0 avg train perplexity = 272.8523\n",
            "Step 1000 avg train loss = 5.5356\n",
            "Step 1000 avg train perplexity = 253.5640\n",
            "Step 2000 avg train loss = 5.4541\n",
            "Step 2000 avg train perplexity = 233.7232\n",
            "Validation loss after 1 epoch = 5.4217\n",
            "Validation perplexity after 1 epoch = 226.2663\n",
            "Step 0 avg train loss = 5.2421\n",
            "Step 0 avg train perplexity = 189.0702\n",
            "Step 1000 avg train loss = 5.2311\n",
            "Step 1000 avg train perplexity = 186.9936\n",
            "Step 2000 avg train loss = 5.2185\n",
            "Step 2000 avg train perplexity = 184.6615\n",
            "Validation loss after 2 epoch = 5.3776\n",
            "Validation perplexity after 2 epoch = 216.5057\n",
            "Step 0 avg train loss = 5.1371\n",
            "Step 0 avg train perplexity = 170.2201\n",
            "Step 1000 avg train loss = 5.0453\n",
            "Step 1000 avg train perplexity = 155.2851\n",
            "Step 2000 avg train loss = 5.0585\n",
            "Step 2000 avg train perplexity = 157.3492\n",
            "Validation loss after 3 epoch = 5.3960\n",
            "Validation perplexity after 3 epoch = 220.5229\n",
            "Step 0 avg train loss = 4.9620\n",
            "Step 0 avg train perplexity = 142.8826\n",
            "Step 1000 avg train loss = 4.9164\n",
            "Step 1000 avg train perplexity = 136.5043\n",
            "Step 2000 avg train loss = 4.9467\n",
            "Step 2000 avg train perplexity = 140.7044\n",
            "Validation loss after 4 epoch = 5.4215\n",
            "Validation perplexity after 4 epoch = 226.2215\n",
            "Finished training\n",
            "LstmLM(\n",
            "  (lookup): Embedding(33181, 64, padding_idx=2)\n",
            "  (lstm): LSTM(64, 200, num_layers=2, batch_first=True, dropout=0.1)\n",
            "  (projection): Linear(in_features=200, out_features=33181, bias=True)\n",
            ")\n",
            "option:  {'batch_first': True, 'dropout': 0.1, 'embed_dim': 64, 'hidden_dim': 200, 'num_layers': 2, 'padding_idx': 2, 'vocab_size': 33181}\n",
            "hyperparam:  {'lr': 0.001, 'num_epochs': 5, 'optimizer': 'Adam', 'weight_decay': 0}\n",
            "Training LSTM_Finetuned_2:\n",
            "Step 0 avg train loss = 10.4065\n",
            "Step 0 avg train perplexity = 33073.3997\n",
            "Step 1000 avg train loss = 6.8780\n",
            "Step 1000 avg train perplexity = 970.7133\n",
            "Step 2000 avg train loss = 6.1879\n",
            "Step 2000 avg train perplexity = 486.8021\n",
            "Validation loss after 0 epoch = 5.7618\n",
            "Validation perplexity after 0 epoch = 317.9184\n",
            "Step 0 avg train loss = 6.0280\n",
            "Step 0 avg train perplexity = 414.8875\n",
            "Step 1000 avg train loss = 5.7632\n",
            "Step 1000 avg train perplexity = 318.3791\n",
            "Step 2000 avg train loss = 5.6431\n",
            "Step 2000 avg train perplexity = 282.3432\n",
            "Validation loss after 1 epoch = 5.4779\n",
            "Validation perplexity after 1 epoch = 239.3430\n",
            "Step 0 avg train loss = 5.4331\n",
            "Step 0 avg train perplexity = 228.8538\n",
            "Step 1000 avg train loss = 5.3941\n",
            "Step 1000 avg train perplexity = 220.1022\n",
            "Step 2000 avg train loss = 5.3452\n",
            "Step 2000 avg train perplexity = 209.5996\n",
            "Validation loss after 2 epoch = 5.3476\n",
            "Validation perplexity after 2 epoch = 210.0939\n",
            "Step 0 avg train loss = 5.2071\n",
            "Step 0 avg train perplexity = 182.5665\n",
            "Step 1000 avg train loss = 5.1408\n",
            "Step 1000 avg train perplexity = 170.8452\n",
            "Step 2000 avg train loss = 5.1219\n",
            "Step 2000 avg train perplexity = 167.6499\n",
            "Validation loss after 3 epoch = 5.2828\n",
            "Validation perplexity after 3 epoch = 196.9146\n",
            "Step 0 avg train loss = 4.7377\n",
            "Step 0 avg train perplexity = 114.1667\n",
            "Step 1000 avg train loss = 4.9462\n",
            "Step 1000 avg train perplexity = 140.6434\n",
            "Step 2000 avg train loss = 4.9497\n",
            "Step 2000 avg train perplexity = 141.1290\n",
            "Validation loss after 4 epoch = 5.2600\n",
            "Validation perplexity after 4 epoch = 192.4759\n",
            "Finished training\n",
            "LstmLM(\n",
            "  (lookup): Embedding(33181, 64, padding_idx=2)\n",
            "  (lstm): LSTM(64, 200, num_layers=2, batch_first=True, dropout=0.1)\n",
            "  (projection): Linear(in_features=200, out_features=33181, bias=True)\n",
            ")\n",
            "option:  {'batch_first': True, 'dropout': 0.1, 'embed_dim': 64, 'hidden_dim': 200, 'num_layers': 2, 'padding_idx': 2, 'vocab_size': 33181}\n",
            "hyperparam:  {'lr': 0.01, 'num_epochs': 5, 'optimizer': 'Adam', 'weight_decay': 0}\n",
            "Training LSTM_Finetuned_3:\n",
            "Step 0 avg train loss = 10.4085\n",
            "Step 0 avg train perplexity = 33139.6711\n",
            "Step 1000 avg train loss = 6.4537\n",
            "Step 1000 avg train perplexity = 635.0537\n",
            "Step 2000 avg train loss = 5.8331\n",
            "Step 2000 avg train perplexity = 341.4055\n",
            "Validation loss after 0 epoch = 5.5102\n",
            "Validation perplexity after 0 epoch = 247.2042\n",
            "Step 0 avg train loss = 5.6411\n",
            "Step 0 avg train perplexity = 281.7731\n",
            "Step 1000 avg train loss = 5.4332\n",
            "Step 1000 avg train perplexity = 228.8791\n",
            "Step 2000 avg train loss = 5.3589\n",
            "Step 2000 avg train perplexity = 212.4836\n",
            "Validation loss after 1 epoch = 5.3462\n",
            "Validation perplexity after 1 epoch = 209.8124\n",
            "Step 0 avg train loss = 5.1358\n",
            "Step 0 avg train perplexity = 170.0019\n",
            "Step 1000 avg train loss = 5.0923\n",
            "Step 1000 avg train perplexity = 162.7603\n",
            "Step 2000 avg train loss = 5.0912\n",
            "Step 2000 avg train perplexity = 162.5835\n",
            "Validation loss after 2 epoch = 5.3118\n",
            "Validation perplexity after 2 epoch = 202.7214\n",
            "Step 0 avg train loss = 4.9065\n",
            "Step 0 avg train perplexity = 135.1588\n",
            "Step 1000 avg train loss = 4.8759\n",
            "Step 1000 avg train perplexity = 131.0953\n",
            "Step 2000 avg train loss = 4.9009\n",
            "Step 2000 avg train perplexity = 134.4076\n",
            "Validation loss after 3 epoch = 5.3363\n",
            "Validation perplexity after 3 epoch = 207.7390\n",
            "Step 0 avg train loss = 4.7686\n",
            "Step 0 avg train perplexity = 117.7522\n",
            "Step 1000 avg train loss = 4.7289\n",
            "Step 1000 avg train perplexity = 113.1669\n",
            "Step 2000 avg train loss = 4.7605\n",
            "Step 2000 avg train perplexity = 116.8002\n",
            "Validation loss after 4 epoch = 5.4041\n",
            "Validation perplexity after 4 epoch = 222.3141\n",
            "Finished training\n",
            "LstmLM(\n",
            "  (lookup): Embedding(33181, 64, padding_idx=2)\n",
            "  (lstm): LSTM(64, 128, num_layers=2, batch_first=True, dropout=0.5)\n",
            "  (projection): Linear(in_features=128, out_features=33181, bias=True)\n",
            ")\n",
            "option:  {'batch_first': True, 'dropout': 0.5, 'embed_dim': 64, 'hidden_dim': 128, 'num_layers': 2, 'padding_idx': 2, 'vocab_size': 33181}\n",
            "hyperparam:  {'lr': 0.001, 'num_epochs': 5, 'optimizer': 'Adam', 'weight_decay': 0}\n",
            "Training LSTM_Finetuned_4:\n",
            "Step 0 avg train loss = 10.4166\n",
            "Step 0 avg train perplexity = 33408.5723\n",
            "Step 1000 avg train loss = 6.8953\n",
            "Step 1000 avg train perplexity = 987.5745\n",
            "Step 2000 avg train loss = 6.2917\n",
            "Step 2000 avg train perplexity = 540.0922\n",
            "Validation loss after 0 epoch = 5.8963\n",
            "Validation perplexity after 0 epoch = 363.7034\n",
            "Step 0 avg train loss = 6.0154\n",
            "Step 0 avg train perplexity = 409.6951\n",
            "Step 1000 avg train loss = 5.9593\n",
            "Step 1000 avg train perplexity = 387.3491\n",
            "Step 2000 avg train loss = 5.8473\n",
            "Step 2000 avg train perplexity = 346.3073\n",
            "Validation loss after 1 epoch = 5.6196\n",
            "Validation perplexity after 1 epoch = 275.7862\n",
            "Step 0 avg train loss = 5.8436\n",
            "Step 0 avg train perplexity = 345.0094\n",
            "Step 1000 avg train loss = 5.6601\n",
            "Step 1000 avg train perplexity = 287.1762\n",
            "Step 2000 avg train loss = 5.6145\n",
            "Step 2000 avg train perplexity = 274.3806\n",
            "Validation loss after 2 epoch = 5.5082\n",
            "Validation perplexity after 2 epoch = 246.6955\n",
            "Step 0 avg train loss = 5.2676\n",
            "Step 0 avg train perplexity = 193.9494\n",
            "Step 1000 avg train loss = 5.4770\n",
            "Step 1000 avg train perplexity = 239.1212\n",
            "Step 2000 avg train loss = 5.4627\n",
            "Step 2000 avg train perplexity = 235.7290\n",
            "Validation loss after 3 epoch = 5.4418\n",
            "Validation perplexity after 3 epoch = 230.8568\n",
            "Step 0 avg train loss = 5.3827\n",
            "Step 0 avg train perplexity = 217.6069\n",
            "Step 1000 avg train loss = 5.3449\n",
            "Step 1000 avg train perplexity = 209.5292\n",
            "Step 2000 avg train loss = 5.3352\n",
            "Step 2000 avg train perplexity = 207.5196\n",
            "Validation loss after 4 epoch = 5.3983\n",
            "Validation perplexity after 4 epoch = 221.0230\n",
            "Finished training\n",
            "LstmLM(\n",
            "  (lookup): Embedding(33181, 64, padding_idx=2)\n",
            "  (lstm): LSTM(64, 128, num_layers=2, batch_first=True, dropout=0.5)\n",
            "  (projection): Linear(in_features=128, out_features=33181, bias=True)\n",
            ")\n",
            "option:  {'batch_first': True, 'dropout': 0.5, 'embed_dim': 64, 'hidden_dim': 128, 'num_layers': 2, 'padding_idx': 2, 'vocab_size': 33181}\n",
            "hyperparam:  {'lr': 0.01, 'num_epochs': 5, 'optimizer': 'Adam', 'weight_decay': 0}\n",
            "Training LSTM_Finetuned_5:\n",
            "Step 0 avg train loss = 10.4034\n",
            "Step 0 avg train perplexity = 32971.4267\n",
            "Step 1000 avg train loss = 6.5362\n",
            "Step 1000 avg train perplexity = 689.6327\n",
            "Step 2000 avg train loss = 5.9557\n",
            "Step 2000 avg train perplexity = 385.9616\n",
            "Validation loss after 0 epoch = 5.5898\n",
            "Validation perplexity after 0 epoch = 267.6892\n",
            "Step 0 avg train loss = 5.7759\n",
            "Step 0 avg train perplexity = 322.4258\n",
            "Step 1000 avg train loss = 5.6207\n",
            "Step 1000 avg train perplexity = 276.0940\n",
            "Step 2000 avg train loss = 5.5587\n",
            "Step 2000 avg train perplexity = 259.4913\n",
            "Validation loss after 1 epoch = 5.4474\n",
            "Validation perplexity after 1 epoch = 232.1498\n",
            "Step 0 avg train loss = 5.3434\n",
            "Step 0 avg train perplexity = 209.2320\n",
            "Step 1000 avg train loss = 5.3641\n",
            "Step 1000 avg train perplexity = 213.6019\n",
            "Step 2000 avg train loss = 5.3540\n",
            "Step 2000 avg train perplexity = 211.4422\n",
            "Validation loss after 2 epoch = 5.3896\n",
            "Validation perplexity after 2 epoch = 219.1119\n",
            "Step 0 avg train loss = 5.1906\n",
            "Step 0 avg train perplexity = 179.5838\n",
            "Step 1000 avg train loss = 5.1989\n",
            "Step 1000 avg train perplexity = 181.0813\n",
            "Step 2000 avg train loss = 5.2153\n",
            "Step 2000 avg train perplexity = 184.0759\n",
            "Validation loss after 3 epoch = 5.4055\n",
            "Validation perplexity after 3 epoch = 222.6168\n",
            "Step 0 avg train loss = 5.1173\n",
            "Step 0 avg train perplexity = 166.8869\n",
            "Step 1000 avg train loss = 5.0782\n",
            "Step 1000 avg train perplexity = 160.4899\n",
            "Step 2000 avg train loss = 5.1116\n",
            "Step 2000 avg train perplexity = 165.9299\n",
            "Validation loss after 4 epoch = 5.4257\n",
            "Validation perplexity after 4 epoch = 227.1681\n",
            "Finished training\n",
            "LstmLM(\n",
            "  (lookup): Embedding(33181, 64, padding_idx=2)\n",
            "  (lstm): LSTM(64, 200, num_layers=2, batch_first=True, dropout=0.5)\n",
            "  (projection): Linear(in_features=200, out_features=33181, bias=True)\n",
            ")\n",
            "option:  {'batch_first': True, 'dropout': 0.5, 'embed_dim': 64, 'hidden_dim': 200, 'num_layers': 2, 'padding_idx': 2, 'vocab_size': 33181}\n",
            "hyperparam:  {'lr': 0.001, 'num_epochs': 5, 'optimizer': 'Adam', 'weight_decay': 0}\n",
            "Training LSTM_Finetuned_6:\n",
            "Step 0 avg train loss = 10.4037\n",
            "Step 0 avg train perplexity = 32982.0250\n",
            "Step 1000 avg train loss = 6.8394\n",
            "Step 1000 avg train perplexity = 933.8888\n",
            "Step 2000 avg train loss = 6.2434\n",
            "Step 2000 avg train perplexity = 514.6106\n",
            "Validation loss after 0 epoch = 5.8149\n",
            "Validation perplexity after 0 epoch = 335.2737\n",
            "Step 0 avg train loss = 5.9597\n",
            "Step 0 avg train perplexity = 387.4887\n",
            "Step 1000 avg train loss = 5.8505\n",
            "Step 1000 avg train perplexity = 347.3965\n",
            "Step 2000 avg train loss = 5.7354\n",
            "Step 2000 avg train perplexity = 309.6393\n",
            "Validation loss after 1 epoch = 5.5421\n",
            "Validation perplexity after 1 epoch = 255.2077\n",
            "Step 0 avg train loss = 5.3160\n",
            "Step 0 avg train perplexity = 203.5646\n",
            "Step 1000 avg train loss = 5.5234\n",
            "Step 1000 avg train perplexity = 250.4752\n",
            "Step 2000 avg train loss = 5.4697\n",
            "Step 2000 avg train perplexity = 237.4007\n",
            "Validation loss after 2 epoch = 5.4192\n",
            "Validation perplexity after 2 epoch = 225.7023\n",
            "Step 0 avg train loss = 5.2567\n",
            "Step 0 avg train perplexity = 191.8440\n",
            "Step 1000 avg train loss = 5.3041\n",
            "Step 1000 avg train perplexity = 201.1653\n",
            "Step 2000 avg train loss = 5.2859\n",
            "Step 2000 avg train perplexity = 197.5329\n",
            "Validation loss after 3 epoch = 5.3566\n",
            "Validation perplexity after 3 epoch = 212.0028\n",
            "Step 0 avg train loss = 5.2262\n",
            "Step 0 avg train perplexity = 186.0819\n",
            "Step 1000 avg train loss = 5.1401\n",
            "Step 1000 avg train perplexity = 170.7321\n",
            "Step 2000 avg train loss = 5.1386\n",
            "Step 2000 avg train perplexity = 170.4849\n",
            "Validation loss after 4 epoch = 5.3296\n",
            "Validation perplexity after 4 epoch = 206.3457\n",
            "Finished training\n",
            "LstmLM(\n",
            "  (lookup): Embedding(33181, 64, padding_idx=2)\n",
            "  (lstm): LSTM(64, 200, num_layers=2, batch_first=True, dropout=0.5)\n",
            "  (projection): Linear(in_features=200, out_features=33181, bias=True)\n",
            ")\n",
            "option:  {'batch_first': True, 'dropout': 0.5, 'embed_dim': 64, 'hidden_dim': 200, 'num_layers': 2, 'padding_idx': 2, 'vocab_size': 33181}\n",
            "hyperparam:  {'lr': 0.01, 'num_epochs': 5, 'optimizer': 'Adam', 'weight_decay': 0}\n",
            "Training LSTM_Finetuned_7:\n",
            "Step 0 avg train loss = 10.4098\n",
            "Step 0 avg train perplexity = 33183.9152\n",
            "Step 1000 avg train loss = 6.4940\n",
            "Step 1000 avg train perplexity = 661.1484\n",
            "Step 2000 avg train loss = 5.9023\n",
            "Step 2000 avg train perplexity = 365.8908\n",
            "Validation loss after 0 epoch = 5.5534\n",
            "Validation perplexity after 0 epoch = 258.1151\n",
            "Step 0 avg train loss = 5.6647\n",
            "Step 0 avg train perplexity = 288.5108\n",
            "Step 1000 avg train loss = 5.5630\n",
            "Step 1000 avg train perplexity = 260.5979\n",
            "Validation loss after 1 epoch = 5.4119\n",
            "Validation perplexity after 1 epoch = 224.0558\n",
            "Step 0 avg train loss = 5.3190\n",
            "Step 0 avg train perplexity = 204.1889\n",
            "Step 1000 avg train loss = 5.2854\n",
            "Step 1000 avg train perplexity = 197.4372\n",
            "Step 2000 avg train loss = 5.2828\n",
            "Step 2000 avg train perplexity = 196.9244\n",
            "Validation loss after 2 epoch = 5.3779\n",
            "Validation perplexity after 2 epoch = 216.5720\n",
            "Step 0 avg train loss = 4.8536\n",
            "Step 0 avg train perplexity = 128.2029\n",
            "Step 1000 avg train loss = 5.0988\n",
            "Step 1000 avg train perplexity = 163.8246\n",
            "Step 2000 avg train loss = 5.1269\n",
            "Step 2000 avg train perplexity = 168.4928\n",
            "Validation loss after 3 epoch = 5.4038\n",
            "Validation perplexity after 3 epoch = 222.2437\n",
            "Step 0 avg train loss = 4.9869\n",
            "Step 0 avg train perplexity = 146.4857\n",
            "Step 1000 avg train loss = 4.9712\n",
            "Step 1000 avg train perplexity = 144.2011\n",
            "Step 2000 avg train loss = 5.0082\n",
            "Step 2000 avg train perplexity = 149.6309\n",
            "Validation loss after 4 epoch = 5.4399\n",
            "Validation perplexity after 4 epoch = 230.4104\n",
            "Finished training\n"
          ],
          "name": "stdout"
        }
      ]
    },
    {
      "cell_type": "code",
      "metadata": {
        "colab_type": "code",
        "id": "jayNuTfjHYs-",
        "outputId": "d240a4d0-7371-4dde-fc71-5a14e2ce8aac",
        "colab": {
          "base_uri": "https://localhost:8080/",
          "height": 518
        }
      },
      "source": [
        "# find best comb (lowest validation loss)\n",
        "sorted(finetune_res.items(), key=lambda x: x[1][1][-1][1])[0]"
      ],
      "execution_count": 0,
      "outputs": [
        {
          "output_type": "execute_result",
          "data": {
            "text/plain": [
              "('LSTM_Finetuned_2',\n",
              " ({'batch_first': True,\n",
              "   'dropout': 0.1,\n",
              "   'embed_dim': 64,\n",
              "   'hidden_dim': 200,\n",
              "   'lr': 0.001,\n",
              "   'num_epochs': 5,\n",
              "   'num_layers': 2,\n",
              "   'optimizer': 'Adam',\n",
              "   'padding_idx': 2,\n",
              "   'vocab_size': 33181,\n",
              "   'weight_decay': 0},\n",
              "  [(6.187857599258423,\n",
              "    5.7617946318860325,\n",
              "    486.80206313338266,\n",
              "    317.9183636962075),\n",
              "   (5.64312326002121, 5.47789755947185, 282.3431739613465, 239.3429736567724),\n",
              "   (5.345199208259583,\n",
              "    5.347554626104967,\n",
              "    209.59963441865992,\n",
              "    210.09391102340302),\n",
              "   (5.121877596855164,\n",
              "    5.282769904946381,\n",
              "    167.64985312909596,\n",
              "    196.91455524837647),\n",
              "   (4.94967449760437,\n",
              "    5.259970715360821,\n",
              "    141.12901861057756,\n",
              "    192.47585462875875)]))"
            ]
          },
          "metadata": {
            "tags": []
          },
          "execution_count": 26
        }
      ]
    },
    {
      "cell_type": "markdown",
      "metadata": {
        "colab_type": "text",
        "id": "-bO3PC2KfcXs"
      },
      "source": [
        "### II.2 Learned Embeddings"
      ]
    },
    {
      "cell_type": "markdown",
      "metadata": {
        "colab_type": "text",
        "id": "9Jh1-FBYfcXt"
      },
      "source": [
        "#### Utilities\n",
        "\n",
        "Below is code to use [UMAP](https://umap-learn.readthedocs.io/en/latest/) to find a 2-dimensional representation of a weight matrix, and plot the resulting 2-dimensional points that correspond to certain words.\n",
        "\n",
        "Use `!pip install umap-learn` to install UMAP."
      ]
    },
    {
      "cell_type": "code",
      "metadata": {
        "colab_type": "code",
        "id": "f_cq4NDNTTh0",
        "colab": {}
      },
      "source": [
        "try:\n",
        "    import umap\n",
        "except:\n",
        "    !pip install umap-learn"
      ],
      "execution_count": 0,
      "outputs": []
    },
    {
      "cell_type": "code",
      "metadata": {
        "colab_type": "code",
        "id": "Qc2COexlfcXt",
        "outputId": "f8bbeaa4-ff85-4134-e87f-535eced01929",
        "colab": {
          "base_uri": "https://localhost:8080/",
          "height": 104
        }
      },
      "source": [
        "%pylab inline \n",
        "import matplotlib.pyplot as plt\n",
        "\n",
        "def umap_plot(weight_matrix, word_ids, words):\n",
        "    \"\"\"Run UMAP on the entire Vxd `weight_matrix` (e.g. model.lookup.weight or model.projection.weight),\n",
        "    And plot the points corresponding to the given `word_ids`. \"\"\"\n",
        "    reduced = umap.UMAP(min_dist=0.0001).fit_transform(weight_matrix.detach().cpu().numpy())\n",
        "    plt.figure(figsize=(20,20))\n",
        "\n",
        "    to_plot = reduced[word_ids, :]\n",
        "    plt.scatter(to_plot[:, 0], to_plot[:, 1])\n",
        "    for i, word_id in enumerate(word_ids):\n",
        "        current_point = to_plot[i]\n",
        "        plt.annotate(words[i], (current_point[0], current_point[1]))\n",
        "\n",
        "    plt.grid()\n",
        "    plt.show()"
      ],
      "execution_count": 0,
      "outputs": [
        {
          "output_type": "stream",
          "text": [
            "Populating the interactive namespace from numpy and matplotlib\n"
          ],
          "name": "stdout"
        }
      ]
    },
    {
      "cell_type": "code",
      "metadata": {
        "colab_type": "code",
        "id": "EsPkFZOkfcXw",
        "outputId": "339f29b6-9359-402a-ae41-8f4b12fa46a7",
        "colab": {
          "base_uri": "https://localhost:8080/",
          "height": 1000
        }
      },
      "source": [
        "Vsize = 100                                 # e.g. len(dictionary)\n",
        "d = 32                                      # e.g. model.lookup.weight.size(1) \n",
        "fake_weight_matrix = torch.randn(Vsize, d)  # e.g. model.lookup.weight\n",
        "\n",
        "words = ['the', 'dog', 'ran']\n",
        "word_ids = [4, 54, 20]                  # e.g. use dictionary.get_id on a list of words\n",
        "\n",
        "umap_plot(fake_weight_matrix, word_ids, words)"
      ],
      "execution_count": 0,
      "outputs": [
        {
          "output_type": "display_data",
          "data": {
            "image/png": "[encoded data removed]",
            "text/plain": [
              "<Figure size 1440x1440 with 1 Axes>"
            ]
          },
          "metadata": {
            "tags": [],
            "needs_background": "light"
          }
        }
      ]
    },
    {
      "cell_type": "markdown",
      "metadata": {
        "colab_type": "text",
        "id": "2LJWwkZcfcXy"
      },
      "source": [
        "#### II.2.1 Word Similarity"
      ]
    },
    {
      "cell_type": "code",
      "metadata": {
        "colab_type": "code",
        "id": "ioLIuLUvfcX0",
        "colab": {}
      },
      "source": [
        "from scipy import spatial\n",
        "\n",
        "def compute_cosine_similarity(emb_matrix):\n",
        "    if current_device == 'CUDA':\n",
        "        emb_matrix = emb_matrix.cpu()\n",
        "    product = torch.mm(emb_matrix, emb_matrix.T) \n",
        "\n",
        "    return product "
      ],
      "execution_count": 0,
      "outputs": []
    },
    {
      "cell_type": "code",
      "metadata": {
        "colab_type": "code",
        "id": "9u2IQKseLPw9",
        "outputId": "5f8eccd2-012d-443a-b36b-fc4282c3cb9c",
        "colab": {
          "base_uri": "https://localhost:8080/",
          "height": 367
        }
      },
      "source": [
        "PATH = 'LSTM_LM_Finetuned_0.pth'\n",
        "best_model = torch.load(PATH, map_location=current_device)\n",
        "distance_matrix=compute_cosine_similarity(best_model['lookup.weight'])\n",
        "words = ['the', 'run', 'dog', 'where', 'quick']\n",
        "words_ids = [wikitext_dict.get_id(i) for i in words]\n",
        "closest_words = []\n",
        "furtherest_words = []\n",
        "for word in words:\n",
        "    row_distance = distance_matrix[wikitext_dict.get_id(word)]\n",
        "    if current_device == 'CUDA':\n",
        "        row_distance=row_distance.cpu()\n",
        "    for i in row_distance.numpy().argsort()[-10:][::-1]:\n",
        "        closest_words.append(wikitext_dict.get_token(i))\n",
        "    for i in row_distance.numpy().argsort()[:10]:\n",
        "        furtherest_words.append(wikitext_dict.get_token(i))\n",
        "    print(\"For <{}>:\".format(word))\n",
        "    print(\"the most similar words are: \", closest_words)\n",
        "    print(\"the least similar words are: \", furtherest_words)"
      ],
      "execution_count": 0,
      "outputs": [
        {
          "output_type": "stream",
          "text": [
            "For <the>:\n",
            "the most similar words are:  ['the', 'The', 'thy', 'Allenton', 'his', 'implicit', '1,000th', 'Chrono', 'Plantain', 'localised']\n",
            "the least similar words are:  ['Due', 'chin', 'Aware', 'fail', 'Associate', 'attempts', 'renditions', 'blacks', 'say', 'rose']\n",
            "For <run>:\n",
            "the most similar words are:  ['the', 'The', 'thy', 'Allenton', 'his', 'implicit', '1,000th', 'Chrono', 'Plantain', 'localised', 'run', 'freeway', 'ending', 'Träumerei', 'Horgan', 'unproven', 'chronology', 'Schrute', 'IV', 'violate']\n",
            "the least similar words are:  ['Due', 'chin', 'Aware', 'fail', 'Associate', 'attempts', 'renditions', 'blacks', 'say', 'rose', 'unequivocally', 'would', 'Taj', 'Pablo', 'Wrigley', 'Raiden', 'soulful', 'Chas', 'desperately', 'Torv']\n",
            "For <dog>:\n",
            "the most similar words are:  ['the', 'The', 'thy', 'Allenton', 'his', 'implicit', '1,000th', 'Chrono', 'Plantain', 'localised', 'run', 'freeway', 'ending', 'Träumerei', 'Horgan', 'unproven', 'chronology', 'Schrute', 'IV', 'violate', 'dog', 'numismatic', 'stegosaurid', 'snowfall', 'rolled', 'threatening', 'Relative', 'Going', 'impurities', 'help']\n",
            "the least similar words are:  ['Due', 'chin', 'Aware', 'fail', 'Associate', 'attempts', 'renditions', 'blacks', 'say', 'rose', 'unequivocally', 'would', 'Taj', 'Pablo', 'Wrigley', 'Raiden', 'soulful', 'Chas', 'desperately', 'Torv', '<', '!', '76th', 'Paterson', 'adolescent', 'Bg7', 'quasi', 'TTZ', '\"', 'gaits']\n",
            "For <where>:\n",
            "the most similar words are:  ['the', 'The', 'thy', 'Allenton', 'his', 'implicit', '1,000th', 'Chrono', 'Plantain', 'localised', 'run', 'freeway', 'ending', 'Träumerei', 'Horgan', 'unproven', 'chronology', 'Schrute', 'IV', 'violate', 'dog', 'numismatic', 'stegosaurid', 'snowfall', 'rolled', 'threatening', 'Relative', 'Going', 'impurities', 'help', 'where', 'what', ',', 'injuring', 'hires', 'joint', 'they', 'Whitehead', 'ensure', 'whom']\n",
            "the least similar words are:  ['Due', 'chin', 'Aware', 'fail', 'Associate', 'attempts', 'renditions', 'blacks', 'say', 'rose', 'unequivocally', 'would', 'Taj', 'Pablo', 'Wrigley', 'Raiden', 'soulful', 'Chas', 'desperately', 'Torv', '<', '!', '76th', 'Paterson', 'adolescent', 'Bg7', 'quasi', 'TTZ', '\"', 'gaits', 'Livin', 'co', 'Publishers', '5191', 'Nature', 'pesos', '5', 'au', 'widening', 'Corey']\n",
            "For <quick>:\n",
            "the most similar words are:  ['the', 'The', 'thy', 'Allenton', 'his', 'implicit', '1,000th', 'Chrono', 'Plantain', 'localised', 'run', 'freeway', 'ending', 'Träumerei', 'Horgan', 'unproven', 'chronology', 'Schrute', 'IV', 'violate', 'dog', 'numismatic', 'stegosaurid', 'snowfall', 'rolled', 'threatening', 'Relative', 'Going', 'impurities', 'help', 'where', 'what', ',', 'injuring', 'hires', 'joint', 'they', 'Whitehead', 'ensure', 'whom', 'quick', 'bestselling', 'Tawakal', 'reserve', 'peaked', 'Djan', 'Cassino', 'lens', 'NBA', '364']\n",
            "the least similar words are:  ['Due', 'chin', 'Aware', 'fail', 'Associate', 'attempts', 'renditions', 'blacks', 'say', 'rose', 'unequivocally', 'would', 'Taj', 'Pablo', 'Wrigley', 'Raiden', 'soulful', 'Chas', 'desperately', 'Torv', '<', '!', '76th', 'Paterson', 'adolescent', 'Bg7', 'quasi', 'TTZ', '\"', 'gaits', 'Livin', 'co', 'Publishers', '5191', 'Nature', 'pesos', '5', 'au', 'widening', 'Corey', 'Megastore', 'because', 'Carre', 'Model', 'Smithy', 'Indonesia', 'what', 'Beloved', 'Swamp', 'anatomy']\n"
          ],
          "name": "stdout"
        }
      ]
    },
    {
      "cell_type": "markdown",
      "metadata": {
        "colab_type": "text",
        "id": "B64VdHasfcX4"
      },
      "source": [
        "#### II.2.2 Embedding Layer"
      ]
    },
    {
      "cell_type": "code",
      "metadata": {
        "colab_type": "code",
        "id": "22lYpwzsfcX5",
        "colab": {}
      },
      "source": [
        "words_selected = words + closest_words + furtherest_words\n",
        "words_selected_ids = [wikitext_dict.get_id(i) for i in words_selected]\n",
        "umap_plot(distance_matrix, words_selected_ids, words_selected)"
      ],
      "execution_count": 0,
      "outputs": []
    },
    {
      "cell_type": "markdown",
      "metadata": {
        "colab_type": "text",
        "id": "6aDwB3jHfcYA"
      },
      "source": [
        "#### II.2.3 Projection Layer"
      ]
    },
    {
      "cell_type": "code",
      "metadata": {
        "colab_type": "code",
        "id": "LCzDobrwfcYA",
        "colab": {}
      },
      "source": [
        "distributed_distance_matrix=compute_cosine_similarity(best_model['projection.weight'])\n",
        "closest_words2 = []\n",
        "furtherest_words2 = []\n",
        "for word in words:\n",
        "  row_distance = distributed_distance_matrix[wikitext_dict.get_id(word)]\n",
        "  if current_device = 'CUDA':\n",
        "    row_distance=row_distance.cpu()\n",
        "  for i in row_distance.numpy().argsort()[-10:][::-1]:\n",
        "    closest_words2.append(wikitext_dict.get_token(i))\n",
        "  for i in row_distance.numpy().argsort()[10:]:\n",
        "    furtherest_words2.append(wikitext_dict.get_token(i))\n",
        "  print(\"For {}:\".format(word))\n",
        "  print(\"the most similar words are: \", closest_words2)\n",
        "  print(\"the least similar words are: \", furtherest_words2)\n",
        "\n",
        "words_selected2 = words + closest_words2 + furtherest_words2\n",
        "words_selected_ids2 = [wikitext_dict.get_id(i) for i in words_selected2]\n",
        "umap_plot(distributed_distance_matrix, words_selected_ids2, words_selected2)"
      ],
      "execution_count": 0,
      "outputs": []
    },
    {
      "cell_type": "markdown",
      "metadata": {
        "colab_type": "text",
        "id": "-q_6ZeVbfcYD"
      },
      "source": [
        "Discussion of Results:"
      ]
    },
    {
      "cell_type": "markdown",
      "metadata": {
        "colab_type": "text",
        "id": "HtgckC9xfcYD"
      },
      "source": [
        "### II.3 Scoring"
      ]
    },
    {
      "cell_type": "code",
      "metadata": {
        "colab_type": "code",
        "id": "6XsuFyfyS8hg",
        "colab": {}
      },
      "source": [
        "def compute_score(logits):\n",
        "  return F.log_softmax(logits, dim=1)"
      ],
      "execution_count": 0,
      "outputs": []
    },
    {
      "cell_type": "markdown",
      "metadata": {
        "colab_type": "text",
        "id": "7MDN0NX4fcYH"
      },
      "source": [
        "#### II.3.2 \n",
        "Highest and Lowest scoring sequences"
      ]
    },
    {
      "cell_type": "code",
      "metadata": {
        "colab_type": "code",
        "id": "Jpkn6pkMfcYE",
        "colab": {}
      },
      "source": [
        "model=best_model\n",
        "model.eval()\n",
        "scores = {} # key: sequence, value: score\n",
        "with torch.no_grad():\n",
        "    for i, (inp, target) in enumerate(loaders['valid']):\n",
        "        inp = inp.to(current_device)\n",
        "        target = target.to(current_device)\n",
        "        device = torch.device(\"cuda\")\n",
        "        logits = model(inp)\n",
        "        # compute score\n",
        "        seq_score = F.log_softmax(logits, dim=1)\n",
        "        scores[(inp,target)] = seq_score"
      ],
      "execution_count": 0,
      "outputs": []
    },
    {
      "cell_type": "code",
      "metadata": {
        "colab_type": "code",
        "id": "oMBtQSr5ShyS",
        "colab": {}
      },
      "source": [
        "top_scores = sorted(scores.items(), key=lambda x: x[1], inverse=True)[:10]\n",
        "top_sequences = [seq+tag for seq_tag, score in topscores for (seq, tag) in seq_tag]\n",
        "lowest_scores = sorted(scores.items(), key=lambda x: x[1])[:10]\n",
        "lowest_sequences = [seq+tag for seq_tag, score in lowest_scores for (seq, tag) in seq_tag]"
      ],
      "execution_count": 0,
      "outputs": []
    },
    {
      "cell_type": "code",
      "metadata": {
        "colab_type": "code",
        "id": "T5U6hOImfcYI",
        "colab": {}
      },
      "source": [
        ""
      ],
      "execution_count": 0,
      "outputs": []
    },
    {
      "cell_type": "markdown",
      "metadata": {
        "colab_type": "text",
        "id": "bvfYp0nHfcYS"
      },
      "source": [
        "#### II.3.3 Modified sequences"
      ]
    },
    {
      "cell_type": "code",
      "metadata": {
        "colab_type": "code",
        "id": "96qrGetifcYS",
        "colab": {}
      },
      "source": [
        ""
      ],
      "execution_count": 0,
      "outputs": []
    },
    {
      "cell_type": "markdown",
      "metadata": {
        "colab_type": "text",
        "id": "UDZcyAJYfcYV"
      },
      "source": [
        "### II.4 Sampling"
      ]
    },
    {
      "cell_type": "code",
      "metadata": {
        "id": "sLbk5inDqUsB",
        "colab_type": "code",
        "colab": {}
      },
      "source": [
        "states = model.zero_state(batch_size)\n",
        "word = '<bos>'\n",
        "samples = []\n",
        "sentence = ''\n",
        "for _ in range(1000): # generate 1000 sequences\n",
        "  while word is not '<eos>':\n",
        "    logits, states = model(word)\n",
        "    word = wikitext_dict.get_token(compute_predictions(logits))\n",
        "    sentence += ' '\n",
        "    sentence += word\n",
        "  samples.append(sentence)"
      ],
      "execution_count": 0,
      "outputs": []
    },
    {
      "cell_type": "code",
      "metadata": {
        "id": "GYazCjIqtT-x",
        "colab_type": "code",
        "colab": {}
      },
      "source": [
        "# randomly sample 1000 examples from the validation set\n",
        "from random import sample \n",
        "valid_samples = sample(datasets['valid'], 1000)"
      ],
      "execution_count": 0,
      "outputs": []
    },
    {
      "cell_type": "markdown",
      "metadata": {
        "colab_type": "text",
        "id": "8HBA1Z5kfcYZ"
      },
      "source": [
        "#### II.4.3 Number of unique tokens and sequence length \n",
        "\n",
        "(1,000 samples vs. 1,000 randomly selected validation-set sequences)"
      ]
    },
    {
      "cell_type": "code",
      "metadata": {
        "colab_type": "code",
        "id": "sr2n-ec9fcYa",
        "colab": {
          "base_uri": "https://localhost:8080/",
          "height": 373
        },
        "outputId": "f5c729b3-d44b-40b0-9718-3b883c737032"
      },
      "source": [
        "import matplotlib.pyplot as plt\n",
        "%matplotlib inline\n",
        "\n",
        "# validation set\n",
        "all_words_valid = [word for lst in valid_samples for word in lst]\n",
        "num_unique_valid = len(set(all_words_valid))\n",
        "print(num_unique_valid)\n",
        "seq_len_valid = [len(lst) for lst in valid_samples]\n",
        "print(max(seq_len_valid))\n",
        "print(min(seq_len_valid))\n",
        "plt.hist(seq_len_valid)"
      ],
      "execution_count": 55,
      "outputs": [
        {
          "output_type": "stream",
          "text": [
            "4915\n",
            "88\n",
            "8\n"
          ],
          "name": "stdout"
        },
        {
          "output_type": "execute_result",
          "data": {
            "text/plain": [
              "(array([286., 317., 221., 104.,  34.,  23.,   8.,   5.,   1.,   1.]),\n",
              " array([ 8., 16., 24., 32., 40., 48., 56., 64., 72., 80., 88.]),\n",
              " <a list of 10 Patch objects>)"
            ]
          },
          "metadata": {
            "tags": []
          },
          "execution_count": 55
        },
        {
          "output_type": "display_data",
          "data": {
            "image/png": "[encoded data removed]",
            "text/plain": [
              "<Figure size 432x288 with 1 Axes>"
            ]
          },
          "metadata": {
            "tags": []
          }
        }
      ]
    },
    {
      "cell_type": "code",
      "metadata": {
        "id": "EqtVEaR0xyq6",
        "colab_type": "code",
        "colab": {}
      },
      "source": [
        ""
      ],
      "execution_count": 0,
      "outputs": []
    },
    {
      "cell_type": "markdown",
      "metadata": {
        "colab_type": "text",
        "id": "Y7i24wZxfcYi"
      },
      "source": [
        "#### II.4.4 Example Samples"
      ]
    },
    {
      "cell_type": "code",
      "metadata": {
        "colab_type": "code",
        "id": "Fyes6PHWfcYi",
        "colab": {}
      },
      "source": [
        ""
      ],
      "execution_count": 0,
      "outputs": []
    }
  ]
}