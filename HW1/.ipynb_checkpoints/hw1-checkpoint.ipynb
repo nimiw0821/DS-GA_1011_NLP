{
 "cells": [
  {
   "cell_type": "markdown",
   "metadata": {},
   "source": [
    "# Load Data"
   ]
  },
  {
   "cell_type": "code",
   "execution_count": 1,
   "metadata": {},
   "outputs": [],
   "source": [
    "import os\n",
    "import csv\n",
    "import pandas as pd\n",
    "import numpy as np\n",
    "\n",
    "def load_data(folder_path):\n",
    "    data_list = []\n",
    "    for file in os.listdir(folder_path):\n",
    "        if file.endswith('tsv'):\n",
    "                with open(folder_path+file) as tsvfile:\n",
    "                    tsvreader = csv.reader(tsvfile, delimiter=\"\\t\")\n",
    "                    all_lines = []\n",
    "                    for line in tsvreader:\n",
    "                        all_lines.append(line)\n",
    "                data = pd.DataFrame(all_lines)\n",
    "                data.columns = data.iloc[0]\n",
    "                data = data[1:]\n",
    "                data_list.append(data)\n",
    "    \n",
    "    return data_list"
   ]
  },
  {
   "cell_type": "code",
   "execution_count": 2,
   "metadata": {},
   "outputs": [
    {
     "data": {
      "text/plain": [
       "['mnli_train.tsv',\n",
       " 'snli_train.tsv',\n",
       " '.ipynb_checkpoints',\n",
       " 'snli_val.tsv',\n",
       " 'mnli_val.tsv']"
      ]
     },
     "execution_count": 2,
     "metadata": {},
     "output_type": "execute_result"
    }
   ],
   "source": [
    "os.listdir('data/')"
   ]
  },
  {
   "cell_type": "code",
   "execution_count": 3,
   "metadata": {},
   "outputs": [],
   "source": [
    "mnli_train, snli_train, snli_val, mnli_val = load_data('data/')"
   ]
  },
  {
   "cell_type": "markdown",
   "metadata": {},
   "source": [
    "# Tokenize Data"
   ]
  },
  {
   "cell_type": "code",
   "execution_count": 4,
   "metadata": {},
   "outputs": [
    {
     "name": "stderr",
     "output_type": "stream",
     "text": [
      "/anaconda3/lib/python3.6/site-packages/requests/__init__.py:91: RequestsDependencyWarning: urllib3 (1.25.5) or chardet (3.0.4) doesn't match a supported version!\n",
      "  RequestsDependencyWarning)\n"
     ]
    }
   ],
   "source": [
    "import spacy\n",
    "import string\n",
    "\n",
    "# Load English tokenizer, tagger, parser, NER and word vectors\n",
    "tokenizer = spacy.load('en_core_web_sm')\n",
    "punctuations = string.punctuation\n",
    "\n",
    "# lowercase and remove punctuation\n",
    "def tokenize(sent):\n",
    "    tokens = tokenizer(sent)\n",
    "    return [token.text.lower() for token in tokens if (token.text not in punctuations)]"
   ]
  },
  {
   "cell_type": "code",
   "execution_count": 5,
   "metadata": {},
   "outputs": [],
   "source": [
    "import multiprocessing as mp\n",
    "\n",
    "# This is the code cell that tokenizes train/val/test datasets\n",
    "# However it takes about 15-20 minutes to run it\n",
    "# For convinience we have provided the preprocessed datasets\n",
    "# Please see the next code cell\n",
    "\n",
    "def tokenize_dataset(dataset):\n",
    "    token_dataset = []\n",
    "    # we are keeping track of all tokens in dataset \n",
    "    # in order to create vocabulary later\n",
    "    all_tokens = []\n",
    "    \n",
    "    with mp.Pool(5) as pool:\n",
    "        token_dataset=pool.map(tokenize,dataset)\n",
    "        \n",
    "    flatten = lambda l: [item for sublist in l for item in sublist]\n",
    "    all_tokens=flatten(token_dataset)    \n",
    "    return token_dataset, all_tokens"
   ]
  },
  {
   "cell_type": "code",
   "execution_count": 6,
   "metadata": {},
   "outputs": [],
   "source": [
    "LABELS = {v: i for i, v in enumerate(snli_train.label.unique())}\n",
    "GENRES = {v: i for i, v in enumerate(mnli_train.genre.unique())}\n",
    "\n",
    "lables_encoding = lambda l: LABELS[l]\n",
    "genres_encoding = lambda l: GENRES[l]\n",
    "\n",
    "train_labels = list(map(lables_encoding,snli_train['label']))\n",
    "val_labels = list(map(lables_encoding,snli_val['label']))\n",
    "mnli_train_labels = list(map(lables_encoding,mnli_train['label']))\n",
    "mnli_train_genres = list(map(genres_encoding,mnli_train['genre']))\n",
    "mnli_val_labels = list(map(lables_encoding,mnli_val['label']))\n",
    "mnli_val_genres = list(map(genres_encoding,mnli_val['genre']))"
   ]
  },
  {
   "cell_type": "code",
   "execution_count": 7,
   "metadata": {},
   "outputs": [],
   "source": [
    "import pickle as pkl"
   ]
  },
  {
   "cell_type": "code",
   "execution_count": null,
   "metadata": {},
   "outputs": [],
   "source": [
    "print(\"SNLI\")\n",
    "# snli train\n",
    "print (\"Tokenizing train data\")\n",
    "train_premise_tokens, train_all_premise_tokens = tokenize_dataset(snli_train['sentence1'])\n",
    "train_hypothesis_tokens, train_all_hypothesis_tokens = tokenize_dataset(snli_train['sentence2'])\n",
    "# train_labels = snli_train['label'].map(LABELS).tolist()\n",
    "pkl.dump(train_premise_tokens, open(\"train_premise_tokens.p\", \"wb\"))\n",
    "pkl.dump(train_hypothesis_tokens, open(\"train_hypothesis_tokens.p\", \"wb\"))\n",
    "pkl.dump(train_all_premise_tokens, open(\"train_all_premise_tokens.p\", \"wb\"))\n",
    "pkl.dump(train_all_hypothesis_tokens, open(\"train_all_hypothesis_tokens.p\", \"wb\"))\n",
    "\n",
    "# snli val\n",
    "print (\"Tokenizing val data\")\n",
    "val_premise_tokens, _ = tokenize_dataset(snli_val['sentence1'])\n",
    "val_hypothesis_tokens, _ = tokenize_dataset(snli_val['sentence2'])\n",
    "# val_labels = snli_val['label'].map(LABELS).tolist()\n",
    "pkl.dump(val_premise_tokens, open(\"val_premise_tokens.p\", \"wb\"))\n",
    "pkl.dump(val_hypothesis_tokens, open(\"val_hypothesis_tokens.p\", \"wb\"))\n",
    "\n",
    "#---------------------------------------------------------------------------------------------------\n",
    "print(\"MNLI\")\n",
    "# mnli train\n",
    "print (\"Tokenizing train data\")\n",
    "mnli_train_premise_tokens, mnli_train_all_premise_tokens = tokenize_dataset(mnli_train['sentence1'])\n",
    "mnli_train_hypothesis_tokens, mnli_train_all_hypothesis_tokens = tokenize_dataset(mnli_train['sentence2'])\n",
    "# mnli_train_labels = mnli_train['label'].map(LABELS).tolist()\n",
    "# mnli_train_genres = mnli_train['genre'].map(GENRES).tolist()\n",
    "pkl.dump(mnli_train_premise_tokens, open(\"mnli_train_premise_tokens.p\", \"wb\"))\n",
    "pkl.dump(mnli_train_hypothesis_tokens, open(\"mnli_train_hypothesis_tokens.p\", \"wb\"))\n",
    "pkl.dump(mnli_train_all_premise_tokens, open(\"mnli_train_all_premise_tokens.p\", \"wb\"))\n",
    "pkl.dump(mnli_train_all_hypothesis_tokens, open(\"mnli_train_all_hypothesis_tokens.p\", \"wb\"))\n",
    "\n",
    "# mnli val\n",
    "print(\"Tokending val data\")\n",
    "mnli_val_premise_tokens, _ = tokenize_dataset(mnli_val['sentence1'])\n",
    "mnli_val_hypothesis_tokens, _ = tokenize_dataset(mnli_val['sentence2'])\n",
    "# mnli_val_labels = mnli_val['label'].map(LABELS).tolist()\n",
    "# mnli_val_genres = mnli_val['genre'].map(GENRES).tolist()\n",
    "pkl.dump(mnli_val_premise_tokens, open(\"mnli_val_premise_tokens.p\", \"wb\"))\n",
    "pkl.dump(mnli_val_hypothesis_tokens, open(\"mnli_val_hypothesis_tokens.p\", \"wb\"))"
   ]
  },
  {
   "cell_type": "code",
   "execution_count": 8,
   "metadata": {},
   "outputs": [
    {
     "data": {
      "text/plain": [
       "True"
      ]
     },
     "execution_count": 8,
     "metadata": {},
     "output_type": "execute_result"
    }
   ],
   "source": [
    "# check labels are not null values\n",
    "np.isnan(np.array(train_labels)).any() == False\n",
    "np.isnan(np.array(val_labels)).any() == False"
   ]
  },
  {
   "cell_type": "code",
   "execution_count": 9,
   "metadata": {},
   "outputs": [
    {
     "name": "stdout",
     "output_type": "stream",
     "text": [
      "Train premise dataset size is 100000\n",
      "Train hypothesis dataset size is 100000\n",
      "Val premise size is 1000\n",
      "Val hypothesis size is 743372\n",
      "Total number of premise tokens in train dataset is 1294135\n",
      "Total number of hypothesis tokens in train dataset is 743372\n",
      "Total number of *unique* premise tokens in train dataset is 14131\n",
      "Total number of *unique* hypothesis tokens in train dataset is 15225\n"
     ]
    }
   ],
   "source": [
    "# Then, load preprocessed train, val and test datasets\n",
    "train_premise_tokens = pkl.load(open(\"train_premise_tokens.p\", \"rb\"))\n",
    "train_hypothesis_tokens = pkl.load(open(\"train_hypothesis_tokens.p\", \"rb\"))\n",
    "train_all_premise_tokens = pkl.load(open(\"train_all_premise_tokens.p\", \"rb\"))\n",
    "train_all_hypothesis_tokens = pkl.load(open(\"train_all_hypothesis_tokens.p\", \"rb\"))\n",
    "\n",
    "val_premise_tokens = pkl.load(open(\"val_premise_tokens.p\", \"rb\"))\n",
    "val_hypothesis_tokens = pkl.load(open(\"val_hypothesis_tokens.p\", \"rb\"))\n",
    "\n",
    "# double checking\n",
    "print (\"Train premise dataset size is {}\".format(len(train_premise_tokens)))\n",
    "print (\"Train hypothesis dataset size is {}\".format(len(train_hypothesis_tokens)))\n",
    "print (\"Val premise size is {}\".format(len(val_premise_tokens)))\n",
    "print (\"Val hypothesis size is {}\".format(len(train_all_hypothesis_tokens)))\n",
    "\n",
    "print (\"Total number of premise tokens in train dataset is {}\".format(len(train_all_premise_tokens)))\n",
    "print (\"Total number of hypothesis tokens in train dataset is {}\".format(len(train_all_hypothesis_tokens)))\n",
    "print (\"Total number of *unique* premise tokens in train dataset is {}\".format(len(set(train_all_premise_tokens))))\n",
    "print (\"Total number of *unique* hypothesis tokens in train dataset is {}\".format(len(set(train_all_hypothesis_tokens))))"
   ]
  },
  {
   "cell_type": "code",
   "execution_count": 10,
   "metadata": {},
   "outputs": [
    {
     "name": "stdout",
     "output_type": "stream",
     "text": [
      "Train premise dataset size is 20000\n",
      "Train hypothesis dataset size is 20000\n",
      "Val premise size is 5000\n",
      "Val hypothesis size is 204944\n",
      "Total number of premise tokens in train dataset is 425559\n",
      "Total number of hypothesis tokens in train dataset is 204944\n",
      "Total number of *unique* premise tokens in train dataset is 28020\n",
      "Total number of *unique* hypothesis tokens in train dataset is 17790\n"
     ]
    }
   ],
   "source": [
    "# do the same for MN\n",
    "# Then, load preprocessed train, val and test datasets\n",
    "mnli_train_premise_tokens = pkl.load(open(\"mnli_train_premise_tokens.p\", \"rb\"))\n",
    "mnli_train_hypothesis_tokens = pkl.load(open(\"mnli_train_hypothesis_tokens.p\", \"rb\"))\n",
    "mnli_train_all_premise_tokens = pkl.load(open(\"mnli_train_all_premise_tokens.p\", \"rb\"))\n",
    "mnli_train_all_hypothesis_tokens = pkl.load(open(\"mnli_train_all_hypothesis_tokens.p\", \"rb\"))\n",
    "\n",
    "mnli_val_premise_tokens = pkl.load(open(\"mnli_val_premise_tokens.p\", \"rb\"))\n",
    "mnli_val_hypothesis_tokens = pkl.load(open(\"mnli_val_hypothesis_tokens.p\", \"rb\"))\n",
    "\n",
    "# double checking\n",
    "print (\"Train premise dataset size is {}\".format(len(mnli_train_premise_tokens)))\n",
    "print (\"Train hypothesis dataset size is {}\".format(len(mnli_train_hypothesis_tokens)))\n",
    "print (\"Val premise size is {}\".format(len(mnli_val_premise_tokens)))\n",
    "print (\"Val hypothesis size is {}\".format(len(mnli_train_all_hypothesis_tokens)))\n",
    "\n",
    "print (\"Total number of premise tokens in train dataset is {}\".format(len(mnli_train_all_premise_tokens)))\n",
    "print (\"Total number of hypothesis tokens in train dataset is {}\".format(len(mnli_train_all_hypothesis_tokens)))\n",
    "print (\"Total number of *unique* premise tokens in train dataset is {}\".format(len(set(mnli_train_all_premise_tokens))))\n",
    "print (\"Total number of *unique* hypothesis tokens in train dataset is {}\".format(len(set(mnli_train_all_hypothesis_tokens))))"
   ]
  },
  {
   "cell_type": "code",
   "execution_count": 11,
   "metadata": {},
   "outputs": [],
   "source": [
    "# get all tokens from both premise and hypothesis\n",
    "train_all_tokens = train_all_premise_tokens + train_all_hypothesis_tokens\n",
    "mnli_train_all_tokens = mnli_train_all_premise_tokens + mnli_train_all_hypothesis_tokens"
   ]
  },
  {
   "cell_type": "markdown",
   "metadata": {},
   "source": [
    "### Vocabulary"
   ]
  },
  {
   "cell_type": "markdown",
   "metadata": {},
   "source": [
    "Now, we are going to create the vocabulary of most common 10,000 tokens in the training set. Remember that we will add special tokens <unk> and <pad> to the vocabulary."
   ]
  },
  {
   "cell_type": "code",
   "execution_count": 12,
   "metadata": {},
   "outputs": [],
   "source": [
    "from collections import Counter\n",
    "\n",
    "max_vocab_size = 10000\n",
    "# save index 0 for unk and 1 for pad\n",
    "PAD_IDX = 0\n",
    "UNK_IDX = 1\n",
    "\n",
    "def build_vocab(all_tokens):\n",
    "    # Returns:\n",
    "    # id2token: list of tokens, where id2token[i] returns token that corresponds to token i\n",
    "    # token2id: dictionary where keys represent tokens and corresponding values represent indices\n",
    "    token_counter = Counter(all_tokens)\n",
    "    vocab, count = zip(*token_counter.most_common(max_vocab_size))\n",
    "    id2token = list(vocab)\n",
    "    token2id = dict(zip(vocab, range(2,2+len(vocab)))) \n",
    "    id2token = ['<pad>', '<unk>'] + id2token\n",
    "    token2id['<pad>'] = PAD_IDX \n",
    "    token2id['<unk>'] = UNK_IDX\n",
    "    return token2id, id2token\n",
    "\n",
    "token2id, id2token = build_vocab(train_all_tokens)\n",
    "mnli_token2id, mnli_id2token = build_vocab(mnli_train_all_tokens)"
   ]
  },
  {
   "cell_type": "code",
   "execution_count": 13,
   "metadata": {},
   "outputs": [
    {
     "name": "stdout",
     "output_type": "stream",
     "text": [
      "Token id 4609 ; token release\n",
      "Token release; token id 4609\n"
     ]
    }
   ],
   "source": [
    "import random\n",
    "# Lets check the dictionary by loading random token from it\n",
    "\n",
    "random_token_id = random.randint(0, len(id2token)-1)\n",
    "random_token = id2token[random_token_id]\n",
    "\n",
    "print (\"Token id {} ; token {}\".format(random_token_id, id2token[random_token_id]))\n",
    "print (\"Token {}; token id {}\".format(random_token, token2id[random_token]))"
   ]
  },
  {
   "cell_type": "code",
   "execution_count": 14,
   "metadata": {},
   "outputs": [
    {
     "name": "stdout",
     "output_type": "stream",
     "text": [
      "Train premise dataset size is 100000\n",
      "Train hypothesis dataset size is 100000\n",
      "Val premise dataset size is 1000\n",
      "Val hypothesis dataset size is 1000\n"
     ]
    }
   ],
   "source": [
    "# convert token to id in the dataset\n",
    "def token2index_dataset(tokens_data):\n",
    "    indices_data = []\n",
    "    for tokens in tokens_data:\n",
    "        index_list = [token2id[token] if token in token2id else UNK_IDX for token in tokens]\n",
    "        indices_data.append(index_list)\n",
    "    return indices_data\n",
    "\n",
    "train_premise_indices = token2index_dataset(train_premise_tokens)\n",
    "train_hypothesis_indices = token2index_dataset(train_hypothesis_tokens)\n",
    "val_premise_indices = token2index_dataset(val_premise_tokens)\n",
    "val_hypothesis_indices = token2index_dataset(val_hypothesis_tokens)\n",
    "\n",
    "mnli_train_premise_indices = token2index_dataset(mnli_train_premise_tokens)\n",
    "mnli_train_hypothesis_indices = token2index_dataset(mnli_train_hypothesis_tokens)\n",
    "mnli_val_premise_indices = token2index_dataset(mnli_val_premise_tokens)\n",
    "mnli_val_hypothesis_indices = token2index_dataset(mnli_val_hypothesis_tokens)\n",
    "\n",
    "# double checking\n",
    "print (\"Train premise dataset size is {}\".format(len(train_premise_indices)))\n",
    "print (\"Train hypothesis dataset size is {}\".format(len(train_hypothesis_indices)))\n",
    "print (\"Val premise dataset size is {}\".format(len(val_premise_indices)))\n",
    "print (\"Val hypothesis dataset size is {}\".format(len(val_hypothesis_indices)))"
   ]
  },
  {
   "cell_type": "markdown",
   "metadata": {},
   "source": [
    "Visualize a random training premise sample"
   ]
  },
  {
   "cell_type": "code",
   "execution_count": 15,
   "metadata": {},
   "outputs": [
    {
     "name": "stdout",
     "output_type": "stream",
     "text": [
      "['three', 'people', 'pose', 'for', 'a', 'picture', 'with', 'their', 'dog']\n",
      "[48, 14, 426, 36, 2, 105, 11, 51, 29]\n"
     ]
    }
   ],
   "source": [
    "rand_training_premise_example = random.randint(0, len(train_premise_indices) - 1)\n",
    "print (train_premise_tokens[rand_training_premise_example])\n",
    "print(train_premise_indices[rand_training_premise_example])"
   ]
  },
  {
   "cell_type": "code",
   "execution_count": 16,
   "metadata": {},
   "outputs": [],
   "source": [
    "import numpy as np\n",
    "def get_length(data):\n",
    "    lengths = [len(row) for row in data]\n",
    "    return int(np.quantile(lengths, 0.99))"
   ]
  },
  {
   "cell_type": "code",
   "execution_count": 17,
   "metadata": {},
   "outputs": [],
   "source": [
    "MAX_SENTENCE_LENGTH1, MAX_SENTENCE_LENGTH2 = get_length(train_premise_indices), get_length(train_hypothesis_indices)"
   ]
  },
  {
   "cell_type": "code",
   "execution_count": 18,
   "metadata": {},
   "outputs": [],
   "source": [
    "mnli_MAX_SENTENCE_LENGTH1, mnli_MAX_SENTENCE_LENGTH2 = get_length(mnli_train_premise_indices), get_length(mnli_train_hypothesis_indices)"
   ]
  },
  {
   "cell_type": "markdown",
   "metadata": {},
   "source": [
    "### Pytorch DataLoader for SNLI"
   ]
  },
  {
   "cell_type": "code",
   "execution_count": 19,
   "metadata": {},
   "outputs": [],
   "source": [
    "import torch\n",
    "from torch.utils.data import Dataset\n",
    "\n",
    "class SNLIDataset(Dataset):\n",
    "    \"\"\"\n",
    "    Class that represents a train/validation/test dataset that's readable for PyTorch\n",
    "    Note that this class inherits torch.utils.data.Dataset\n",
    "    \"\"\"\n",
    "    \n",
    "    def __init__(self, data_list1, data_list2, target_list):\n",
    "        \"\"\"\n",
    "        @param data_list: list of SNLI tokens \n",
    "        @param target_list: list of SNLI targets \n",
    "\n",
    "        \"\"\"\n",
    "        self.data_list1 = data_list1\n",
    "        self.data_list2 = data_list2\n",
    "        self.target_list = target_list\n",
    "        assert (len(self.data_list1) == len(self.target_list))\n",
    "        assert (len(self.data_list2) == len(self.target_list))\n",
    "\n",
    "    def __len__(self):\n",
    "        return len(self.data_list1)\n",
    "        \n",
    "    def __getitem__(self, key):\n",
    "        \"\"\"\n",
    "        Triggered when you call dataset[i]\n",
    "        \"\"\"\n",
    "        token_idx1 = self.data_list1[key][:MAX_SENTENCE_LENGTH1]\n",
    "        token_idx2 = self.data_list2[key][:MAX_SENTENCE_LENGTH2]\n",
    "        label = self.target_list[key]\n",
    "        return [token_idx1, len(token_idx1), token_idx2, len(token_idx2), label]\n"
   ]
  },
  {
   "cell_type": "code",
   "execution_count": 20,
   "metadata": {},
   "outputs": [],
   "source": [
    "def SNLI_collate_func(batch):\n",
    "    \"\"\"\n",
    "    Customized function for DataLoader that dynamically pads the batch so that all \n",
    "    data have the same length\n",
    "    \"\"\"\n",
    "    data_list1 = []\n",
    "    data_list2 = []\n",
    "    label_list = []\n",
    "    length_list1 = []\n",
    "    length_list2= []\n",
    "#     print(\"collate batch: \", batch[0][0])\n",
    "#     batch[0][0] = batch[0][0][:MAX_SENTENCE_LENGTH]\n",
    "    for datum in batch:\n",
    "        label_list.append(datum[4])\n",
    "        length_list1.append(datum[1])\n",
    "        length_list2.append(datum[3])\n",
    "    # padding\n",
    "    for datum in batch:\n",
    "        padded_vec1 = np.pad(np.array(datum[0]), \n",
    "                                pad_width=((0,MAX_SENTENCE_LENGTH1-datum[1])), \n",
    "                                mode=\"constant\", constant_values=0)\n",
    "        padded_vec2 = np.pad(np.array(datum[2]), \n",
    "                                pad_width=((0,MAX_SENTENCE_LENGTH2-datum[3])), \n",
    "                                mode=\"constant\", constant_values=0)\n",
    "        data_list1.append(padded_vec1)\n",
    "        data_list2.append(padded_vec2)\n",
    "        \n",
    "    return [torch.from_numpy(np.array(data_list1)), torch.LongTensor(length_list1), \n",
    "            torch.from_numpy(np.array(data_list2)), torch.LongTensor(length_list2),torch.LongTensor(label_list)]"
   ]
  },
  {
   "cell_type": "code",
   "execution_count": 70,
   "metadata": {},
   "outputs": [],
   "source": [
    "BATCH_SIZE = 32\n",
    "\n",
    "# train\n",
    "train_dataset = SNLIDataset(train_premise_indices, train_hypothesis_indices, train_labels)\n",
    "train_loader = torch.utils.data.DataLoader(dataset=train_dataset, \n",
    "                                           batch_size=BATCH_SIZE,\n",
    "                                           collate_fn=SNLI_collate_func,\n",
    "                                           shuffle=True)\n",
    "\n",
    "# val\n",
    "val_dataset = SNLIDataset(val_premise_indices, val_hypothesis_indices, val_labels)\n",
    "val_loader = torch.utils.data.DataLoader(dataset=val_dataset, \n",
    "                                           batch_size=BATCH_SIZE,\n",
    "                                           collate_fn=SNLI_collate_func,\n",
    "                                           shuffle=False)"
   ]
  },
  {
   "cell_type": "code",
   "execution_count": 22,
   "metadata": {},
   "outputs": [
    {
     "name": "stdout",
     "output_type": "stream",
     "text": [
      "torch.Size([32, 32])\n",
      "torch.Size([32, 18])\n",
      "torch.Size([32])\n"
     ]
    }
   ],
   "source": [
    "for i, (data1, lengths1, data2, lengths2, labels) in enumerate(train_loader):\n",
    "    temp_batch1 = data1\n",
    "    length_batch1 = lengths1\n",
    "    print(data1.shape)\n",
    "    print(data2.shape)\n",
    "    print(labels.shape)\n",
    "    break"
   ]
  },
  {
   "cell_type": "markdown",
   "metadata": {},
   "source": [
    "## Define your models: NeuralNet and LogReg"
   ]
  },
  {
   "cell_type": "code",
   "execution_count": 23,
   "metadata": {},
   "outputs": [],
   "source": [
    "def merge_two_matrices(data1, data2, method):\n",
    "    if method == 'cat':\n",
    "        combined = torch.cat([data1, data2], dim = 1)\n",
    "    elif method == 'sum':\n",
    "        combined = data1 + data2\n",
    "    elif method == 'element-wise product':\n",
    "        combined = data1 * data2\n",
    "    return combined"
   ]
  },
  {
   "cell_type": "code",
   "execution_count": 24,
   "metadata": {},
   "outputs": [],
   "source": [
    "# First import torch related libraries\n",
    "import torch\n",
    "import torch.nn as nn\n",
    "import torch.nn.functional as F\n",
    "\n",
    "# define nn\n",
    "class net(nn.Module):\n",
    "    \"\"\"\n",
    "    2 layer NN with BagOfWords embedding\n",
    "    \"\"\"\n",
    "    def __init__(self, vocab_size, emb_dim, input_dim, hidden_dim, num_classes, p=0):\n",
    "        \"\"\"\n",
    "        @param vocab_size: size of the vocabulary.\n",
    "        @param emb_dim: size of the word embedding\n",
    "        @param input_dim: size of the input after embedding\n",
    "        @hidden_dim: number of hidden nodes\n",
    "        @num_classes: number of target classes\n",
    "        @param p: proportion of Dropout, if not Dropout, p = 0, float\n",
    "        \"\"\"\n",
    "        super(net, self).__init__()\n",
    "        self.vocab_size, self.emb_dim, self.input_dim, self.hidden_dim, self.num_classes, self.dropout_rate = vocab_size, \\\n",
    "        emb_dim, input_dim, hidden_dim, num_classes, p\n",
    "        self.embed = nn.Embedding(vocab_size, emb_dim, padding_idx=0) # look-up table, emb_weight.size=vocab_size*emb_size\n",
    "        print(input_dim)\n",
    "        self.fc1 = nn.Linear(input_dim, hidden_dim)\n",
    "        self.fc2 = nn.Linear(hidden_dim, num_classes)\n",
    "    \n",
    "    def forward(self, data1, lengths1, data2, lengths2, method):\n",
    "        \"\"\"\n",
    "        @param combined_data: matrix of size (batch_size, emb_size*2).\n",
    "        \"\"\"\n",
    "        # embeddings for data1\n",
    "        out1 = self.embed(data1) # out.shape: batch_size * max_seq_length * emb_dim\n",
    "        out1 = torch.sum(out1, dim=1) # out.shape: batch_size * emb_dim (concat along the max_seq_length dimension)\n",
    "        out1 /= lengths1.view(lengths1.size()[0],1).expand_as(out1).float() # out.shape: batch_size * emb_dim (just scaling by the sequence REAL length)\n",
    "        \n",
    "        # embeddings for data2\n",
    "        out2 = self.embed(data2) # out.shape: batch_size * max_seq_length * emb_dim\n",
    "        out2 = torch.sum(out2, dim=1) # out.shape: batch_size * emb_dim (concat along the max_seq_length dimension)\n",
    "        out2 /= lengths2.view(lengths2.size()[0],1).expand_as(out2).float() # out.shape: batch_size * emb_dim (just scaling by the sequence REAL length)\n",
    "        \n",
    "        out_combined = merge_two_matrices(out1, out2, method)\n",
    "\n",
    "        out_combined = self.fc1(out_combined)\n",
    "        out_combined = F.relu(out_combined)\n",
    "        out_combined = F.dropout(out_combined, p=self.dropout_rate)\n",
    "        out_combined = self.fc2(out_combined) # out_combined.shape: batch_size * num_classes\n",
    "        \n",
    "        return out_combined"
   ]
  },
  {
   "cell_type": "code",
   "execution_count": 25,
   "metadata": {},
   "outputs": [],
   "source": [
    "# define logreg\n",
    "class logreg(nn.Module):\n",
    "    \"\"\"\n",
    "    Logistic regression with BagOfWords embedding\n",
    "    \"\"\"\n",
    "    def __init__(self, vocab_size, emb_dim, input_dim, num_classes):\n",
    "        \"\"\"\n",
    "        @param vocab_size: size of the vocabulary.\n",
    "        @param emb_dim: size of the word embedding\n",
    "        @param input_dim: size of the input after embedding\n",
    "        @param num_classes: number of targets\n",
    "        \"\"\"\n",
    "        super(logreg, self).__init__()\n",
    "        self.embed = nn.Embedding(vocab_size, emb_dim, padding_idx=0)\n",
    "        self.fc1 = nn.Linear(input_dim, num_classes)\n",
    "    \n",
    "    def forward(self, data1, lengths1, data2, lengths2, method):\n",
    "        \"\"\"\n",
    "        @param combined_data: matrix of size (batch_size, emb_size*2).\n",
    "        \"\"\"\n",
    "        # embeddings for data1\n",
    "        out1 = self.embed(data1) # out.shape: batch_size * max_seq_length * emb_dim\n",
    "        out1 = torch.sum(out1, dim=1) # out.shape: batch_size * emb_dim (concat along the max_seq_length dimension)\n",
    "        out1 /= lengths1.view(lengths1.size()[0],1).expand_as(out1).float() # out.shape: batch_size * emb_dim (just scaling by the sequence REAL length)\n",
    "        \n",
    "        # embeddings for data1\n",
    "        out2 = self.embed(data2) # out.shape: batch_size * max_seq_length * emb_dim\n",
    "        out2 = torch.sum(out2, dim=1) # out.shape: batch_size * emb_dim (concat along the max_seq_length dimension)\n",
    "        out2 /= lengths2.view(lengths2.size()[0],1).expand_as(out2).float() # out.shape: batch_size * emb_dim (just scaling by the sequence REAL length)\n",
    "        \n",
    "        out_combined = merge_two_matrices(out1, out2, method)\n",
    "        \n",
    "        out_combined = self.fc1(out_combined) # out_combined.shape: batch_size * num_classes\n",
    "        \n",
    "        return out_combined"
   ]
  },
  {
   "cell_type": "markdown",
   "metadata": {},
   "source": [
    "### Train the Model"
   ]
  },
  {
   "cell_type": "code",
   "execution_count": 26,
   "metadata": {},
   "outputs": [],
   "source": [
    "# Function for testing the model\n",
    "def test_model(loader, model, method):\n",
    "    \"\"\"\n",
    "    Help function that tests the model's performance on a dataset\n",
    "    @param: loader - data loader for the dataset to test against\n",
    "    \"\"\"\n",
    "    correct = 0\n",
    "    total = 0\n",
    "    model.eval()\n",
    "    for data1, lengths1, data2, lengths2, labels in loader:\n",
    "        data1_batch, lengths1_batch, data2_batch, lengths2_batch, label_batch = data1, lengths1, data2, lengths2, labels\n",
    "        outputs = F.softmax(model(data1_batch, lengths1_batch, data2_batch, lengths2_batch, method), dim=1)\n",
    "        predicted = outputs.max(1, keepdim=True)[1]\n",
    "        \n",
    "        total += labels.size(0)\n",
    "        correct += predicted.eq(labels.view_as(predicted)).sum().item()\n",
    "    return (100 * correct / total)"
   ]
  },
  {
   "cell_type": "code",
   "execution_count": 27,
   "metadata": {},
   "outputs": [],
   "source": [
    "# Function for training the model\n",
    "from torch.optim.lr_scheduler import StepLR\n",
    "import matplotlib.pyplot as plt\n",
    "\n",
    "def train_model(model, model_name, train_loader, val_loader, method,\\\n",
    "                optim, lr, num_epochs, adj, gamma=0.1, plot=False, save=True):\n",
    "    '''\n",
    "    model: the model object\n",
    "    train_loader, val_loader\n",
    "    optim: optimizer, str\n",
    "    lr: initiated learning rate, float\n",
    "    num_epochs: number of epoch, int\n",
    "    adj: boolean, to adjust learning rate or not\n",
    "    gamma: learning rate dedaying factor\n",
    "    plot: boolean, to plot training loss and accuracy over time\n",
    "    '''\n",
    "    # Criterion and Optimizer\n",
    "    criterion = torch.nn.CrossEntropyLoss()\n",
    "\n",
    "    # Optimizer\n",
    "    if optim == 'Adam':\n",
    "        optimizer = torch.optim.Adam(model.parameters(), lr=lr)#, weight_decay = penalty)\n",
    "    elif optim == 'SGD':\n",
    "        optimizer = torch.optim.SGD(model.parameters(), lr=lr)#, weight_decay = penalty)\n",
    "    \n",
    "    if adj: #if adjust learning rate\n",
    "        scheduler = StepLR(optimizer, step_size=1, gamma=gamma)\n",
    "    \n",
    "    train_loss = [] # to store training losses\n",
    "    train_acc_lst = [] # to store training accuracy\n",
    "    val_acc_lst = [] # to store validation accuracy\n",
    "    \n",
    "    for epoch in range(num_epochs):\n",
    "        if adj:\n",
    "            scheduler.step()\n",
    "        \n",
    "        for i, (data1, lengths1, data2, lengths2, labels) in enumerate(train_loader):\n",
    "            data1_batch, lengths1_batch, data2_batch, lengths2_batch, label_batch = data1, lengths1, data2, lengths2, labels\n",
    "            model.train()\n",
    "            optimizer.zero_grad()\n",
    "            # Forward pass\n",
    "            outputs = F.softmax(model(data1_batch, lengths1_batch, data2_batch, lengths2_batch, method), dim=1)\n",
    "            loss = criterion(outputs, label_batch)\n",
    "            train_loss.append(loss)\n",
    "            \n",
    "            # Backward and optimize\n",
    "            loss.backward()\n",
    "            optimizer.step()\n",
    "            # validate every 1000 iterations\n",
    "            if i > 0 and i % 1000 == 0:\n",
    "                # validate\n",
    "                train_acc = test_model(train_loader, model, method)\n",
    "                train_acc_lst.append(train_acc)\n",
    "                val_acc = test_model(val_loader, model, method)\n",
    "                val_acc_lst.append(val_acc)\n",
    "                print('Epoch: [{}/{}], Step: [{}/{}], Training Acc: {}, Validation Acc: {}'.format( \n",
    "                           epoch+1, num_epochs, i+1, len(train_loader), train_acc, val_acc))\n",
    "                \n",
    "    print('Finished training')\n",
    "    \n",
    "    if plot:\n",
    "        fig = plt.figure(figsize = (10,5))\n",
    "        axes = fig.subplots(nrows=1, ncols=2)\n",
    "        # plot losses\n",
    "        axes[0].plot(train_loss)\n",
    "        axes[0].set_title(\"Training loss over time\")\n",
    "        axes[0].set_xlabel(\"Steps\")\n",
    "        axes[0].set_ylabel(\"Losses\")\n",
    "        # plot training & validation accuracy\n",
    "        axes[1].plot(val_acc_lst, color='b', label='Val Acc')\n",
    "        axes[1].plot(train_acc_lst, color='r', label='Train Acc')\n",
    "        axes[1].set_title(\"Accuracy over time\")\n",
    "        axes[1].legend(loc='best')\n",
    "        axes[1].set_xlabel(\"Steps\")\n",
    "        axes[1].set_ylabel(\"Accuracy\")\n",
    "\n",
    "    if save:\n",
    "        torch.save(model, 'best_snli_model_'+str(model_name)+'.pth')\n",
    "        return model"
   ]
  },
  {
   "cell_type": "markdown",
   "metadata": {},
   "source": [
    "2 Layer neural network with Adam optimizer"
   ]
  },
  {
   "cell_type": "markdown",
   "metadata": {},
   "source": [
    "1) Tune method of handling two word representations"
   ]
  },
  {
   "cell_type": "code",
   "execution_count": 54,
   "metadata": {},
   "outputs": [
    {
     "name": "stdout",
     "output_type": "stream",
     "text": [
      "200\n",
      "Epoch: [1/5], Step: [1001/3125], Training Acc: 61.752, Validation Acc: 58.8\n",
      "Epoch: [1/5], Step: [2001/3125], Training Acc: 64.073, Validation Acc: 60.6\n",
      "Epoch: [1/5], Step: [3001/3125], Training Acc: 65.794, Validation Acc: 59.5\n",
      "Epoch: [2/5], Step: [1001/3125], Training Acc: 66.946, Validation Acc: 61.5\n",
      "Epoch: [2/5], Step: [2001/3125], Training Acc: 67.654, Validation Acc: 61.2\n",
      "Epoch: [2/5], Step: [3001/3125], Training Acc: 68.822, Validation Acc: 63.3\n",
      "Epoch: [3/5], Step: [1001/3125], Training Acc: 69.492, Validation Acc: 62.8\n",
      "Epoch: [3/5], Step: [2001/3125], Training Acc: 69.344, Validation Acc: 63.7\n",
      "Epoch: [3/5], Step: [3001/3125], Training Acc: 69.695, Validation Acc: 61.0\n",
      "Epoch: [4/5], Step: [1001/3125], Training Acc: 69.947, Validation Acc: 62.8\n",
      "Epoch: [4/5], Step: [2001/3125], Training Acc: 70.715, Validation Acc: 61.9\n",
      "Epoch: [4/5], Step: [3001/3125], Training Acc: 69.743, Validation Acc: 61.1\n",
      "Epoch: [5/5], Step: [1001/3125], Training Acc: 70.942, Validation Acc: 63.1\n",
      "Epoch: [5/5], Step: [2001/3125], Training Acc: 70.88, Validation Acc: 61.0\n",
      "Epoch: [5/5], Step: [3001/3125], Training Acc: 70.744, Validation Acc: 62.0\n",
      "Finished training\n"
     ]
    },
    {
     "name": "stderr",
     "output_type": "stream",
     "text": [
      "/anaconda3/lib/python3.6/site-packages/torch/serialization.py:256: UserWarning: Couldn't retrieve source code for container of type net. It won't be checked for correctness upon loading.\n",
      "  \"type \" + obj.__name__ + \". It won't be checked \"\n"
     ]
    },
    {
     "data": {
      "image/png": "[encoded data removed]",
      "text/plain": [
       "<Figure size 720x360 with 2 Axes>"
      ]
     },
     "metadata": {
      "needs_background": "light"
     },
     "output_type": "display_data"
    }
   ],
   "source": [
    "# concatenation\n",
    "emb_dim = 100\n",
    "num_classes = len(list(LABELS.keys()))\n",
    "vocab_size = len(id2token)\n",
    "Net = net(vocab_size, emb_dim, input_dim=emb_dim*2, hidden_dim=20, num_classes=num_classes, p=0)\n",
    "\n",
    "SNLI_model = train_model(Net, 'Net_cat', train_loader, val_loader, method='cat', \\\n",
    "                optim='Adam', lr=0.01, num_epochs=5, adj=False, plot=True)"
   ]
  },
  {
   "cell_type": "code",
   "execution_count": 28,
   "metadata": {},
   "outputs": [
    {
     "name": "stdout",
     "output_type": "stream",
     "text": [
      "100\n",
      "Epoch: [1/5], Step: [1001/3125], Training Acc: 60.08, Validation Acc: 56.2\n",
      "Epoch: [1/5], Step: [2001/3125], Training Acc: 67.005, Validation Acc: 61.2\n",
      "Epoch: [1/5], Step: [3001/3125], Training Acc: 70.484, Validation Acc: 64.2\n",
      "Epoch: [2/5], Step: [1001/3125], Training Acc: 73.762, Validation Acc: 62.1\n",
      "Epoch: [2/5], Step: [2001/3125], Training Acc: 75.132, Validation Acc: 62.6\n",
      "Epoch: [2/5], Step: [3001/3125], Training Acc: 76.98, Validation Acc: 63.7\n",
      "Epoch: [3/5], Step: [1001/3125], Training Acc: 78.702, Validation Acc: 63.0\n",
      "Epoch: [3/5], Step: [2001/3125], Training Acc: 78.459, Validation Acc: 65.5\n",
      "Epoch: [3/5], Step: [3001/3125], Training Acc: 79.889, Validation Acc: 63.1\n",
      "Epoch: [4/5], Step: [1001/3125], Training Acc: 80.957, Validation Acc: 64.4\n",
      "Epoch: [4/5], Step: [2001/3125], Training Acc: 81.529, Validation Acc: 63.1\n",
      "Epoch: [4/5], Step: [3001/3125], Training Acc: 81.551, Validation Acc: 64.9\n",
      "Epoch: [5/5], Step: [1001/3125], Training Acc: 82.029, Validation Acc: 64.4\n",
      "Epoch: [5/5], Step: [2001/3125], Training Acc: 82.647, Validation Acc: 63.3\n",
      "Epoch: [5/5], Step: [3001/3125], Training Acc: 82.908, Validation Acc: 63.8\n",
      "Finished training\n"
     ]
    },
    {
     "name": "stderr",
     "output_type": "stream",
     "text": [
      "/anaconda3/lib/python3.6/site-packages/torch/serialization.py:256: UserWarning: Couldn't retrieve source code for container of type net. It won't be checked for correctness upon loading.\n",
      "  \"type \" + obj.__name__ + \". It won't be checked \"\n"
     ]
    },
    {
     "data": {
      "image/png": "[encoded data removed]",
      "text/plain": [
       "<Figure size 720x360 with 2 Axes>"
      ]
     },
     "metadata": {
      "needs_background": "light"
     },
     "output_type": "display_data"
    }
   ],
   "source": [
    "# element-wise product\n",
    "emb_dim = 100\n",
    "num_classes = len(list(LABELS.keys()))\n",
    "vocab_size = len(id2token)\n",
    "Net = net(vocab_size, emb_dim, input_dim=emb_dim, hidden_dim=20, num_classes=num_classes, p=0)\n",
    "\n",
    "SNLI_model = train_model(Net, 'Net_element', train_loader, val_loader, method='element-wise product', \\\n",
    "                optim='Adam', lr=0.01, num_epochs=5, adj=False, plot=True)"
   ]
  },
  {
   "cell_type": "code",
   "execution_count": 174,
   "metadata": {},
   "outputs": [
    {
     "name": "stdout",
     "output_type": "stream",
     "text": [
      "100\n",
      "Epoch: [1/5], Step: [1001/3125], Training Acc: 54.927, Validation Acc: 51.9\n",
      "Epoch: [1/5], Step: [2001/3125], Training Acc: 57.246, Validation Acc: 53.8\n",
      "Epoch: [1/5], Step: [3001/3125], Training Acc: 59.149, Validation Acc: 56.1\n",
      "Epoch: [2/5], Step: [1001/3125], Training Acc: 60.742, Validation Acc: 57.3\n",
      "Epoch: [2/5], Step: [2001/3125], Training Acc: 61.484, Validation Acc: 56.9\n",
      "Epoch: [2/5], Step: [3001/3125], Training Acc: 61.558, Validation Acc: 55.3\n",
      "Epoch: [3/5], Step: [1001/3125], Training Acc: 61.484, Validation Acc: 55.3\n",
      "Epoch: [3/5], Step: [2001/3125], Training Acc: 63.016, Validation Acc: 56.6\n",
      "Epoch: [3/5], Step: [3001/3125], Training Acc: 63.49, Validation Acc: 56.5\n",
      "Epoch: [4/5], Step: [1001/3125], Training Acc: 64.809, Validation Acc: 57.2\n",
      "Epoch: [4/5], Step: [2001/3125], Training Acc: 64.404, Validation Acc: 56.6\n",
      "Epoch: [4/5], Step: [3001/3125], Training Acc: 65.074, Validation Acc: 57.9\n",
      "Epoch: [5/5], Step: [1001/3125], Training Acc: 65.105, Validation Acc: 57.0\n",
      "Epoch: [5/5], Step: [2001/3125], Training Acc: 65.528, Validation Acc: 58.7\n",
      "Epoch: [5/5], Step: [3001/3125], Training Acc: 65.539, Validation Acc: 57.9\n",
      "Finished training\n"
     ]
    },
    {
     "data": {
      "image/png": "[encoded data removed]",
      "text/plain": [
       "<Figure size 720x360 with 2 Axes>"
      ]
     },
     "metadata": {
      "needs_background": "light"
     },
     "output_type": "display_data"
    }
   ],
   "source": [
    "# sum\n",
    "emb_dim = 100\n",
    "num_classes = len(list(LABELS.keys()))\n",
    "vocab_size = len(id2token)\n",
    "Net = net(vocab_size, emb_dim, input_dim=emb_dim, hidden_dim=20, num_classes=num_classes, p=0)\n",
    "\n",
    "SNLI_model = train_model(Net, 'Net_sum', train_loader, val_loader, method='sum', \\\n",
    "                optim='Adam', lr=0.01, num_epochs=5, adj=False, plot=True)"
   ]
  },
  {
   "cell_type": "markdown",
   "metadata": {},
   "source": [
    "2) Optimization hyperparameters"
   ]
  },
  {
   "cell_type": "markdown",
   "metadata": {},
   "source": [
    "Use linear annealing of lr"
   ]
  },
  {
   "cell_type": "markdown",
   "metadata": {},
   "source": [
    "High learning rate"
   ]
  },
  {
   "cell_type": "code",
   "execution_count": 178,
   "metadata": {},
   "outputs": [
    {
     "name": "stdout",
     "output_type": "stream",
     "text": [
      "100\n",
      "Epoch: [1/5], Step: [1001/3125], Training Acc: 33.173, Validation Acc: 33.1\n",
      "Epoch: [1/5], Step: [2001/3125], Training Acc: 33.594, Validation Acc: 33.0\n",
      "Epoch: [1/5], Step: [3001/3125], Training Acc: 33.781, Validation Acc: 33.7\n",
      "Epoch: [2/5], Step: [1001/3125], Training Acc: 33.572, Validation Acc: 31.9\n",
      "Epoch: [2/5], Step: [2001/3125], Training Acc: 33.753, Validation Acc: 32.2\n",
      "Epoch: [2/5], Step: [3001/3125], Training Acc: 33.616, Validation Acc: 34.5\n",
      "Epoch: [3/5], Step: [1001/3125], Training Acc: 33.561, Validation Acc: 31.1\n",
      "Epoch: [3/5], Step: [2001/3125], Training Acc: 33.725, Validation Acc: 33.3\n",
      "Epoch: [3/5], Step: [3001/3125], Training Acc: 33.518, Validation Acc: 34.3\n",
      "Epoch: [4/5], Step: [1001/3125], Training Acc: 33.729, Validation Acc: 34.0\n",
      "Epoch: [4/5], Step: [2001/3125], Training Acc: 33.649, Validation Acc: 31.4\n",
      "Epoch: [4/5], Step: [3001/3125], Training Acc: 33.526, Validation Acc: 32.7\n",
      "Epoch: [5/5], Step: [1001/3125], Training Acc: 33.518, Validation Acc: 32.1\n",
      "Epoch: [5/5], Step: [2001/3125], Training Acc: 33.631, Validation Acc: 31.6\n",
      "Epoch: [5/5], Step: [3001/3125], Training Acc: 33.371, Validation Acc: 33.4\n",
      "Finished training\n"
     ]
    },
    {
     "data": {
      "image/png": "[encoded data removed]",
      "text/plain": [
       "<Figure size 720x360 with 2 Axes>"
      ]
     },
     "metadata": {
      "needs_background": "light"
     },
     "output_type": "display_data"
    }
   ],
   "source": [
    "# Adam, lr = 1\n",
    "emb_dim = 100\n",
    "num_classes = len(list(LABELS.keys()))\n",
    "vocab_size = len(id2token)\n",
    "Net = net(vocab_size, emb_dim, input_dim=emb_dim, hidden_dim=20, num_classes=num_classes, p=0)\n",
    "\n",
    "SNLI_model = train_model(Net, 'Net_adam_lr1', train_loader, val_loader, method='element-wise product', \\\n",
    "                optim='Adam', lr=1, num_epochs=5, adj=False, plot=True)"
   ]
  },
  {
   "cell_type": "markdown",
   "metadata": {},
   "source": [
    "Dropout rate = 0.2"
   ]
  },
  {
   "cell_type": "code",
   "execution_count": 109,
   "metadata": {},
   "outputs": [
    {
     "name": "stdout",
     "output_type": "stream",
     "text": [
      "100\n",
      "Epoch: [1/5], Step: [1001/3125], Training Acc: 59.66, Validation Acc: 55.4\n",
      "Epoch: [1/5], Step: [2001/3125], Training Acc: 66.221, Validation Acc: 61.3\n",
      "Epoch: [1/5], Step: [3001/3125], Training Acc: 69.063, Validation Acc: 63.7\n",
      "Epoch: [2/5], Step: [1001/3125], Training Acc: 72.008, Validation Acc: 62.8\n",
      "Epoch: [2/5], Step: [2001/3125], Training Acc: 73.736, Validation Acc: 62.9\n",
      "Epoch: [2/5], Step: [3001/3125], Training Acc: 74.892, Validation Acc: 64.0\n",
      "Epoch: [3/5], Step: [1001/3125], Training Acc: 76.756, Validation Acc: 64.0\n",
      "Epoch: [3/5], Step: [2001/3125], Training Acc: 77.275, Validation Acc: 62.3\n",
      "Epoch: [3/5], Step: [3001/3125], Training Acc: 78.156, Validation Acc: 64.0\n",
      "Epoch: [4/5], Step: [1001/3125], Training Acc: 78.922, Validation Acc: 63.4\n",
      "Epoch: [4/5], Step: [2001/3125], Training Acc: 79.013, Validation Acc: 64.6\n",
      "Epoch: [4/5], Step: [3001/3125], Training Acc: 79.703, Validation Acc: 63.3\n",
      "Epoch: [5/5], Step: [1001/3125], Training Acc: 80.292, Validation Acc: 64.3\n",
      "Epoch: [5/5], Step: [2001/3125], Training Acc: 80.729, Validation Acc: 65.4\n",
      "Epoch: [5/5], Step: [3001/3125], Training Acc: 81.277, Validation Acc: 65.8\n",
      "Finished training\n"
     ]
    },
    {
     "data": {
      "image/png": "[encoded data removed]",
      "text/plain": [
       "<Figure size 720x360 with 2 Axes>"
      ]
     },
     "metadata": {
      "needs_background": "light"
     },
     "output_type": "display_data"
    }
   ],
   "source": [
    "# dropout rate = 0.2\n",
    "emb_dim = 100\n",
    "num_classes = len(list(LABELS.keys()))\n",
    "vocab_size = len(id2token)\n",
    "Net = net(vocab_size, emb_dim, input_dim=emb_dim, hidden_dim=20, num_classes=num_classes, p=0.2)\n",
    "\n",
    "SNLI_model = train_model(Net, 'Net_element_p0.3', train_loader, val_loader, method='element-wise product', \\\n",
    "                optim='Adam', lr=0.01, num_epochs=5, adj=False, plot=True)"
   ]
  },
  {
   "cell_type": "markdown",
   "metadata": {},
   "source": [
    "SGD Optimizer"
   ]
  },
  {
   "cell_type": "code",
   "execution_count": 180,
   "metadata": {},
   "outputs": [
    {
     "name": "stdout",
     "output_type": "stream",
     "text": [
      "100\n",
      "Epoch: [1/5], Step: [1001/3125], Training Acc: 33.89, Validation Acc: 32.4\n",
      "Epoch: [1/5], Step: [2001/3125], Training Acc: 35.761, Validation Acc: 33.6\n",
      "Epoch: [1/5], Step: [3001/3125], Training Acc: 36.714, Validation Acc: 33.2\n",
      "Epoch: [2/5], Step: [1001/3125], Training Acc: 36.536, Validation Acc: 33.4\n",
      "Epoch: [2/5], Step: [2001/3125], Training Acc: 36.958, Validation Acc: 36.2\n",
      "Epoch: [2/5], Step: [3001/3125], Training Acc: 37.577, Validation Acc: 35.6\n",
      "Epoch: [3/5], Step: [1001/3125], Training Acc: 38.504, Validation Acc: 36.4\n",
      "Epoch: [3/5], Step: [2001/3125], Training Acc: 38.698, Validation Acc: 37.7\n",
      "Epoch: [3/5], Step: [3001/3125], Training Acc: 38.635, Validation Acc: 37.2\n",
      "Epoch: [4/5], Step: [1001/3125], Training Acc: 39.348, Validation Acc: 39.5\n",
      "Epoch: [4/5], Step: [2001/3125], Training Acc: 39.48, Validation Acc: 39.6\n",
      "Epoch: [4/5], Step: [3001/3125], Training Acc: 39.84, Validation Acc: 40.4\n",
      "Epoch: [5/5], Step: [1001/3125], Training Acc: 40.298, Validation Acc: 38.7\n",
      "Epoch: [5/5], Step: [2001/3125], Training Acc: 40.402, Validation Acc: 39.3\n",
      "Epoch: [5/5], Step: [3001/3125], Training Acc: 40.414, Validation Acc: 39.4\n",
      "Finished training\n"
     ]
    },
    {
     "data": {
      "image/png": "[encoded data removed]",
      "text/plain": [
       "<Figure size 720x360 with 2 Axes>"
      ]
     },
     "metadata": {
      "needs_background": "light"
     },
     "output_type": "display_data"
    }
   ],
   "source": [
    "# SGD, lr = 0.01 --> slower convergence (plot both loss plot and accuracy)\n",
    "emb_dim = 100\n",
    "num_classes = len(list(LABELS.keys()))\n",
    "vocab_size = len(id2token)\n",
    "Net = net(vocab_size, emb_dim, input_dim=emb_dim, hidden_dim=20, num_classes=num_classes, p=0)\n",
    "\n",
    "SNLI_model = train_model(Net, 'Net_adam_lr1', train_loader, val_loader, method='element-wise product', \\\n",
    "                optim='SGD', lr=0.01, num_epochs=5, adj=False, plot=True)"
   ]
  },
  {
   "cell_type": "markdown",
   "metadata": {},
   "source": [
    "Logistic regression"
   ]
  },
  {
   "cell_type": "code",
   "execution_count": 69,
   "metadata": {},
   "outputs": [
    {
     "name": "stdout",
     "output_type": "stream",
     "text": [
      "Epoch: [1/5], Step: [1001/3125], Training Acc: 62.493, Validation Acc: 57.6\n",
      "Epoch: [1/5], Step: [2001/3125], Training Acc: 68.728, Validation Acc: 63.1\n",
      "Epoch: [1/5], Step: [3001/3125], Training Acc: 72.788, Validation Acc: 64.5\n",
      "Epoch: [2/5], Step: [1001/3125], Training Acc: 76.609, Validation Acc: 65.3\n",
      "Epoch: [2/5], Step: [2001/3125], Training Acc: 79.129, Validation Acc: 65.9\n",
      "Epoch: [2/5], Step: [3001/3125], Training Acc: 81.092, Validation Acc: 65.5\n",
      "Epoch: [3/5], Step: [1001/3125], Training Acc: 82.864, Validation Acc: 64.9\n",
      "Epoch: [3/5], Step: [2001/3125], Training Acc: 83.817, Validation Acc: 64.6\n",
      "Epoch: [3/5], Step: [3001/3125], Training Acc: 84.996, Validation Acc: 66.0\n",
      "Epoch: [4/5], Step: [1001/3125], Training Acc: 85.951, Validation Acc: 66.9\n",
      "Epoch: [4/5], Step: [2001/3125], Training Acc: 86.475, Validation Acc: 65.2\n",
      "Epoch: [4/5], Step: [3001/3125], Training Acc: 87.071, Validation Acc: 64.0\n",
      "Epoch: [5/5], Step: [1001/3125], Training Acc: 87.621, Validation Acc: 64.3\n",
      "Epoch: [5/5], Step: [2001/3125], Training Acc: 88.039, Validation Acc: 65.1\n",
      "Epoch: [5/5], Step: [3001/3125], Training Acc: 88.355, Validation Acc: 65.5\n",
      "Finished training\n"
     ]
    },
    {
     "data": {
      "image/png": "[encoded data removed]",
      "text/plain": [
       "<Figure size 720x360 with 2 Axes>"
      ]
     },
     "metadata": {
      "needs_background": "light"
     },
     "output_type": "display_data"
    }
   ],
   "source": [
    "emb_dim = 100\n",
    "num_classes = len(list(LABELS.keys()))\n",
    "vocab_size = len(id2token)\n",
    "Logreg = logreg(vocab_size, emb_dim, input_dim=emb_dim, num_classes=num_classes)\n",
    "\n",
    "SNLI_Model = train_model(Logreg, 'Logreg_element', train_loader, val_loader, method='element-wise product', \\\n",
    "                optim='Adam', lr=0.01, num_epochs=5, adj=False, plot=True)"
   ]
  },
  {
   "cell_type": "code",
   "execution_count": 182,
   "metadata": {},
   "outputs": [
    {
     "name": "stdout",
     "output_type": "stream",
     "text": [
      "Epoch: [1/5], Step: [1001/3125], Training Acc: 44.887, Validation Acc: 44.7\n",
      "Epoch: [1/5], Step: [2001/3125], Training Acc: 45.707, Validation Acc: 42.8\n",
      "Epoch: [1/5], Step: [3001/3125], Training Acc: 41.64, Validation Acc: 40.0\n",
      "Epoch: [2/5], Step: [1001/3125], Training Acc: 43.107, Validation Acc: 42.6\n",
      "Epoch: [2/5], Step: [2001/3125], Training Acc: 44.42, Validation Acc: 41.5\n",
      "Epoch: [2/5], Step: [3001/3125], Training Acc: 41.656, Validation Acc: 39.9\n",
      "Epoch: [3/5], Step: [1001/3125], Training Acc: 41.973, Validation Acc: 42.3\n",
      "Epoch: [3/5], Step: [2001/3125], Training Acc: 40.083, Validation Acc: 39.6\n",
      "Epoch: [3/5], Step: [3001/3125], Training Acc: 38.455, Validation Acc: 36.9\n",
      "Epoch: [4/5], Step: [1001/3125], Training Acc: 41.219, Validation Acc: 41.5\n",
      "Epoch: [4/5], Step: [2001/3125], Training Acc: 41.115, Validation Acc: 40.8\n",
      "Epoch: [4/5], Step: [3001/3125], Training Acc: 40.902, Validation Acc: 39.6\n",
      "Epoch: [5/5], Step: [1001/3125], Training Acc: 42.035, Validation Acc: 40.8\n",
      "Epoch: [5/5], Step: [2001/3125], Training Acc: 41.898, Validation Acc: 41.8\n",
      "Epoch: [5/5], Step: [3001/3125], Training Acc: 42.723, Validation Acc: 43.2\n",
      "Finished training\n"
     ]
    },
    {
     "data": {
      "image/png": "[encoded data removed]",
      "text/plain": [
       "<Figure size 720x360 with 2 Axes>"
      ]
     },
     "metadata": {
      "needs_background": "light"
     },
     "output_type": "display_data"
    }
   ],
   "source": [
    "emb_dim = 100\n",
    "num_classes = len(list(LABELS.keys()))\n",
    "vocab_size = len(id2token)\n",
    "Logreg = logreg(vocab_size, emb_dim, input_dim=emb_dim, num_classes=num_classes)\n",
    "\n",
    "SNLI_Model = train_model(Logreg, 'Logreg_element_0.1', train_loader, val_loader, method='element-wise product', \\\n",
    "                optim='Adam', lr=0.1, num_epochs=5, adj=False, plot=True)"
   ]
  },
  {
   "cell_type": "code",
   "execution_count": 32,
   "metadata": {},
   "outputs": [
    {
     "name": "stdout",
     "output_type": "stream",
     "text": [
      "Epoch: [1/5], Step: [1001/3125], Training Acc: 62.351, Validation Acc: 60.0\n",
      "Epoch: [1/5], Step: [2001/3125], Training Acc: 68.49, Validation Acc: 61.9\n",
      "Epoch: [1/5], Step: [3001/3125], Training Acc: 73.068, Validation Acc: 62.8\n",
      "Epoch: [2/5], Step: [1001/3125], Training Acc: 74.768, Validation Acc: 63.6\n",
      "Epoch: [2/5], Step: [2001/3125], Training Acc: 75.757, Validation Acc: 63.6\n",
      "Epoch: [2/5], Step: [3001/3125], Training Acc: 76.591, Validation Acc: 63.8\n",
      "Epoch: [3/5], Step: [1001/3125], Training Acc: 76.794, Validation Acc: 63.8\n",
      "Epoch: [3/5], Step: [2001/3125], Training Acc: 76.883, Validation Acc: 64.0\n",
      "Epoch: [3/5], Step: [3001/3125], Training Acc: 76.947, Validation Acc: 64.1\n",
      "Epoch: [4/5], Step: [1001/3125], Training Acc: 76.954, Validation Acc: 64.0\n",
      "Epoch: [4/5], Step: [2001/3125], Training Acc: 76.964, Validation Acc: 64.0\n",
      "Epoch: [4/5], Step: [3001/3125], Training Acc: 76.975, Validation Acc: 64.0\n",
      "Epoch: [5/5], Step: [1001/3125], Training Acc: 76.982, Validation Acc: 64.0\n",
      "Epoch: [5/5], Step: [2001/3125], Training Acc: 76.981, Validation Acc: 64.0\n",
      "Epoch: [5/5], Step: [3001/3125], Training Acc: 76.982, Validation Acc: 64.0\n",
      "Finished training\n"
     ]
    },
    {
     "data": {
      "image/png": "[encoded data removed]",
      "text/plain": [
       "<Figure size 720x360 with 2 Axes>"
      ]
     },
     "metadata": {
      "needs_background": "light"
     },
     "output_type": "display_data"
    }
   ],
   "source": [
    "emb_dim = 100\n",
    "num_classes = len(list(LABELS.keys()))\n",
    "vocab_size = len(id2token)\n",
    "Logreg = logreg(vocab_size, emb_dim, input_dim=emb_dim, num_classes=num_classes)\n",
    "\n",
    "SNLI_Model = train_model(Logreg, 'Logreg_element_0.1adj', train_loader, val_loader, method='element-wise product', \\\n",
    "                optim='Adam', lr=0.1, num_epochs=5, adj=True, plot=True)"
   ]
  },
  {
   "cell_type": "code",
   "execution_count": 33,
   "metadata": {},
   "outputs": [
    {
     "name": "stdout",
     "output_type": "stream",
     "text": [
      "Epoch: [1/5], Step: [1001/3125], Training Acc: 47.131, Validation Acc: 46.9\n",
      "Epoch: [1/5], Step: [2001/3125], Training Acc: 52.102, Validation Acc: 49.8\n",
      "Epoch: [1/5], Step: [3001/3125], Training Acc: 55.27, Validation Acc: 51.6\n",
      "Epoch: [2/5], Step: [1001/3125], Training Acc: 55.891, Validation Acc: 52.8\n",
      "Epoch: [2/5], Step: [2001/3125], Training Acc: 56.126, Validation Acc: 52.8\n",
      "Epoch: [2/5], Step: [3001/3125], Training Acc: 56.329, Validation Acc: 52.9\n",
      "Epoch: [3/5], Step: [1001/3125], Training Acc: 56.378, Validation Acc: 52.9\n",
      "Epoch: [3/5], Step: [2001/3125], Training Acc: 56.404, Validation Acc: 53.0\n",
      "Epoch: [3/5], Step: [3001/3125], Training Acc: 56.429, Validation Acc: 53.0\n",
      "Epoch: [4/5], Step: [1001/3125], Training Acc: 56.433, Validation Acc: 52.9\n",
      "Epoch: [4/5], Step: [2001/3125], Training Acc: 56.433, Validation Acc: 52.9\n",
      "Epoch: [4/5], Step: [3001/3125], Training Acc: 56.437, Validation Acc: 52.9\n",
      "Epoch: [5/5], Step: [1001/3125], Training Acc: 56.435, Validation Acc: 52.9\n",
      "Epoch: [5/5], Step: [2001/3125], Training Acc: 56.435, Validation Acc: 52.9\n",
      "Epoch: [5/5], Step: [3001/3125], Training Acc: 56.435, Validation Acc: 52.9\n",
      "Finished training\n"
     ]
    },
    {
     "data": {
      "image/png": "[encoded data removed]",
      "text/plain": [
       "<Figure size 720x360 with 2 Axes>"
      ]
     },
     "metadata": {
      "needs_background": "light"
     },
     "output_type": "display_data"
    }
   ],
   "source": [
    "emb_dim = 100\n",
    "num_classes = len(list(LABELS.keys()))\n",
    "vocab_size = len(id2token)\n",
    "Logreg = logreg(vocab_size, emb_dim, input_dim=emb_dim, num_classes=num_classes)\n",
    "\n",
    "SNLI_Model = train_model(Logreg, 'Logreg_element_0.01adj', train_loader, val_loader, method='element-wise product', \\\n",
    "                optim='Adam', lr=0.01, num_epochs=5, adj=True, plot=True)"
   ]
  },
  {
   "cell_type": "markdown",
   "metadata": {},
   "source": [
    "### Analysis on false predicitons"
   ]
  },
  {
   "cell_type": "code",
   "execution_count": 29,
   "metadata": {},
   "outputs": [],
   "source": [
    "model = torch.load(\"best_snli_model_Net_element_p0.3.pth\")"
   ]
  },
  {
   "cell_type": "code",
   "execution_count": 97,
   "metadata": {},
   "outputs": [],
   "source": [
    "# sample validation\n",
    "all_idx = []\n",
    "predictions = []\n",
    "total = 0\n",
    "model.eval()\n",
    "for data1, lengths1, data2, lengths2, labels in val_loader:\n",
    "    data1_batch, lengths1_batch, data2_batch, lengths2_batch, label_batch = data1, lengths1, data2, lengths2, labels\n",
    "    outputs = F.softmax(model(data1_batch, lengths1_batch, data2_batch, lengths2_batch, method='element-wise product'), dim=1)\n",
    "    predicted = outputs.max(1, keepdim=True)[1]\n",
    "    predictions.append(np.array(predicted))\n",
    "\n",
    "    total += labels.size(0)\n",
    "    all_idx += (predicted.numpy() == labels.view_as(predicted).numpy()).tolist()"
   ]
  },
  {
   "cell_type": "code",
   "execution_count": 102,
   "metadata": {},
   "outputs": [],
   "source": [
    "# predictions\n",
    "predictions=[i[0] for j in predictions for i in j]"
   ]
  },
  {
   "cell_type": "code",
   "execution_count": 104,
   "metadata": {},
   "outputs": [],
   "source": [
    "correct_idx = []\n",
    "wrong_idx = []\n",
    "for i, val in enumerate(all_idx):\n",
    "    if val[0] == True:\n",
    "        correct_idx.append(i)\n",
    "    else:\n",
    "        wrong_idx.append(i)"
   ]
  },
  {
   "cell_type": "markdown",
   "metadata": {},
   "source": [
    "**Correct and Incorrect Examples**"
   ]
  },
  {
   "cell_type": "code",
   "execution_count": 105,
   "metadata": {},
   "outputs": [],
   "source": [
    "LABELS_INVERSE={v:k for k,v in LABELS.items()}"
   ]
  },
  {
   "cell_type": "code",
   "execution_count": 110,
   "metadata": {},
   "outputs": [
    {
     "name": "stdout",
     "output_type": "stream",
     "text": [
      "Correct Examples:\n",
      "\n",
      "\n",
      "Premise: a woman in a blue and black jacket looking at a sign by railroad tracks\n",
      "Hypothesis: a woman is waiting for her train\n",
      "Correct Label: neutral\n",
      "\n",
      "\n",
      "Premise: a boy in sandals is looking at a camera in a busy street\n",
      "Hypothesis: a boy is in a busy street wearing sandals looking at a camera\n",
      "Correct Label: entailment\n",
      "\n",
      "\n",
      "Premise: horses jumping a hurdle in a race\n",
      "Hypothesis: horses are jumping over a hurdle in the last race of the day\n",
      "Correct Label: neutral\n",
      "-----------------------------------------------------------------------------------------------------------------------\n",
      "Wrong Examples:\n",
      "\n",
      "\n",
      "Premise: a woman wearing sunglasses holds two newspapers\n",
      "Hypothesis: a woman wearing sunglasses holds two newspapers as she leaves the minimart and heads home\n",
      "Correct Label: neutral\n",
      "Predicted Label: entailment\n",
      "\n",
      "\n",
      "Premise: two backpackers look at scenic mountains\n",
      "Hypothesis: two guys are carrying things on their back\n",
      "Correct Label: entailment\n",
      "Predicted Label: neutral\n",
      "\n",
      "\n",
      "Premise: two men on a basketball court one in white and red the other in blue the player in white is throwing the ball in while teammates look on\n",
      "Hypothesis: the men are playing basketball\n",
      "Correct Label: entailment\n",
      "Predicted Label: contradiction\n"
     ]
    }
   ],
   "source": [
    "print(\"Correct Examples:\")\n",
    "for i in np.random.choice(correct_idx,3):\n",
    "    print(\"\\n\")\n",
    "    print('Premise: {}'.format(' '.join(val_premise_tokens[i])))\n",
    "    print('Hypothesis: {}'.format(' '.join(val_hypothesis_tokens[i])))\n",
    "    print('Correct Label: {}'.format(LABELS_INVERSE[val_labels[i]]))\n",
    "\n",
    "print(\"-----------------------------------------------------------------------------------------------------------------------\")\n",
    "print(\"Wrong Examples:\")\n",
    "for i in np.random.choice(wrong_idx,3):\n",
    "    print(\"\\n\")\n",
    "    print('Premise: {}'.format(' '.join(val_premise_tokens[i])))\n",
    "    print('Hypothesis: {}'.format(' '.join(val_hypothesis_tokens[i])))\n",
    "    print('Correct Label: {}'.format(LABELS_INVERSE[val_labels[i]]))\n",
    "    print('Predicted Label: {}'.format(LABELS_INVERSE[predictions[i]]))"
   ]
  },
  {
   "cell_type": "markdown",
   "metadata": {},
   "source": [
    "## Evaluate on MultiNLI"
   ]
  },
  {
   "cell_type": "markdown",
   "metadata": {},
   "source": [
    "### Pytorch DataLoader for MNLI"
   ]
  },
  {
   "cell_type": "code",
   "execution_count": 115,
   "metadata": {},
   "outputs": [],
   "source": [
    "import torch\n",
    "from torch.utils.data import Dataset\n",
    "\n",
    "class MNLIDataset(Dataset):\n",
    "    \"\"\"\n",
    "    Class that represents a train/validation/test dataset that's readable for PyTorch\n",
    "    Note that this class inherits torch.utils.data.Dataset\n",
    "    \"\"\"\n",
    "    \n",
    "    def __init__(self, data_list1, data_list2, target_list):\n",
    "        \"\"\"\n",
    "        @param data_list: list of MNLI tokens \n",
    "        @param target_list: list of MNLI targets \n",
    "\n",
    "        \"\"\"\n",
    "        self.data_list1 = data_list1\n",
    "        self.data_list2 = data_list2\n",
    "        self.target_list = target_list\n",
    "        assert (len(self.data_list1) == len(self.target_list))\n",
    "        assert (len(self.data_list2) == len(self.target_list))\n",
    "\n",
    "    def __len__(self):\n",
    "        return len(self.data_list1)\n",
    "        \n",
    "    def __getitem__(self, key):\n",
    "        \"\"\"\n",
    "        Triggered when you call dataset[i]\n",
    "        \"\"\"\n",
    "        token_idx1 = self.data_list1[key][:mnli_MAX_SENTENCE_LENGTH1]\n",
    "        token_idx2 = self.data_list2[key][:mnli_MAX_SENTENCE_LENGTH2]\n",
    "        label = self.target_list[key]\n",
    "        return [token_idx1, len(token_idx1), token_idx2, len(token_idx2), label]\n"
   ]
  },
  {
   "cell_type": "code",
   "execution_count": 116,
   "metadata": {},
   "outputs": [],
   "source": [
    "def MNLI_collate_func(batch):\n",
    "    \"\"\"\n",
    "    Customized function for DataLoader that dynamically pads the batch so that all \n",
    "    data have the same length\n",
    "    \"\"\"\n",
    "    data_list1 = []\n",
    "    data_list2 = []\n",
    "    label_list = []\n",
    "    length_list1 = []\n",
    "    length_list2= []\n",
    "#     print(\"collate batch: \", batch[0][0])\n",
    "#     batch[0][0] = batch[0][0][:MAX_SENTENCE_LENGTH]\n",
    "    for datum in batch:\n",
    "        label_list.append(datum[4])\n",
    "        length_list1.append(datum[1])\n",
    "        length_list2.append(datum[3])\n",
    "    # padding\n",
    "    for datum in batch:\n",
    "        padded_vec1 = np.pad(np.array(datum[0]), \n",
    "                                pad_width=((0,mnli_MAX_SENTENCE_LENGTH1-datum[1])), \n",
    "                                mode=\"constant\", constant_values=0)\n",
    "        padded_vec2 = np.pad(np.array(datum[2]), \n",
    "                                pad_width=((0,mnli_MAX_SENTENCE_LENGTH2-datum[3])), \n",
    "                                mode=\"constant\", constant_values=0)\n",
    "        data_list1.append(padded_vec1)\n",
    "        data_list2.append(padded_vec2)\n",
    "        \n",
    "    return [torch.from_numpy(np.array(data_list1)), torch.LongTensor(length_list1), \n",
    "            torch.from_numpy(np.array(data_list2)), torch.LongTensor(length_list2),torch.LongTensor(label_list)]"
   ]
  },
  {
   "cell_type": "code",
   "execution_count": 117,
   "metadata": {},
   "outputs": [
    {
     "data": {
      "text/plain": [
       "{'telephone': 0, 'fiction': 1, 'slate': 2, 'government': 3, 'travel': 4}"
      ]
     },
     "execution_count": 117,
     "metadata": {},
     "output_type": "execute_result"
    }
   ],
   "source": [
    "GENRES"
   ]
  },
  {
   "cell_type": "code",
   "execution_count": 121,
   "metadata": {},
   "outputs": [],
   "source": [
    "# load best model\n",
    "nn_best_model = torch.load('best_snli_model_Net_element_p0.3.pth')\n",
    "logreg_best_model = torch.load('best_snli_model_Logreg_element.pth')"
   ]
  },
  {
   "cell_type": "markdown",
   "metadata": {},
   "source": [
    "**Telephone**"
   ]
  },
  {
   "cell_type": "code",
   "execution_count": 122,
   "metadata": {},
   "outputs": [],
   "source": [
    "mnli_val_tel_idx = [idx for idx,val in enumerate(mnli_val_genres) if mnli_val_genres[idx]==0]\n",
    "mnli_val_tel_s1 = [mnli_val_premise_indices[idx] for idx in mnli_val_tel_idx]\n",
    "mnli_val_tel_s2 = [mnli_val_hypothesis_indices[idx] for idx in mnli_val_tel_idx]\n",
    "mnli_val_tel_y = [mnli_val_labels[idx] for idx in mnli_val_tel_idx]\n",
    "mnli_val_dataset_tel = MNLIDataset(mnli_val_tel_s1, mnli_val_tel_s2, mnli_val_tel_y)\n",
    "mnli_val_loader_tel = torch.utils.data.DataLoader(dataset=mnli_val_dataset_tel, \n",
    "                                           batch_size=BATCH_SIZE,\n",
    "                                           collate_fn=MNLI_collate_func,\n",
    "                                           shuffle=False)"
   ]
  },
  {
   "cell_type": "code",
   "execution_count": 123,
   "metadata": {},
   "outputs": [
    {
     "name": "stdout",
     "output_type": "stream",
     "text": [
      "Val acc of best neuralnet on MNLI(telephone):40.59701492537314\n",
      "Val acc of best logreg on MNLI(telephone):44.875621890547265\n"
     ]
    }
   ],
   "source": [
    "print(\"Val acc of best neuralnet on MNLI(telephone):{}\".format(test_model(mnli_val_loader_tel, nn_best_model, 'element-wise product')))\n",
    "print(\"Val acc of best logreg on MNLI(telephone):{}\".format(test_model(mnli_val_loader_tel, logreg_best_model, 'element-wise product')))"
   ]
  },
  {
   "cell_type": "markdown",
   "metadata": {},
   "source": [
    "**Fiction**"
   ]
  },
  {
   "cell_type": "code",
   "execution_count": 124,
   "metadata": {},
   "outputs": [],
   "source": [
    "mnli_val_fic_idx = [idx for idx,val in enumerate(mnli_val_genres) if mnli_val_genres[idx]==1]\n",
    "mnli_val_fic_s1 = [mnli_val_premise_indices[idx] for idx in mnli_val_fic_idx]\n",
    "mnli_val_fic_s2 = [mnli_val_hypothesis_indices[idx] for idx in mnli_val_fic_idx]\n",
    "mnli_val_fic_y = [mnli_val_labels[idx] for idx in mnli_val_fic_idx]\n",
    "mnli_val_dataset_fic = MNLIDataset(mnli_val_fic_s1, mnli_val_fic_s2, mnli_val_fic_y)\n",
    "mnli_val_loader_fic = torch.utils.data.DataLoader(dataset=mnli_val_dataset_fic, \n",
    "                                           batch_size=BATCH_SIZE,\n",
    "                                           collate_fn=MNLI_collate_func,\n",
    "                                           shuffle=False)"
   ]
  },
  {
   "cell_type": "code",
   "execution_count": 125,
   "metadata": {},
   "outputs": [
    {
     "name": "stdout",
     "output_type": "stream",
     "text": [
      "Val acc of best neuralnet on MNLI(fiction):39.698492462311556\n",
      "Val acc of best logreg on MNLI(fiction):41.20603015075377\n"
     ]
    }
   ],
   "source": [
    "print(\"Val acc of best neuralnet on MNLI(fiction):{}\".format(test_model(mnli_val_loader_fic, nn_best_model, 'element-wise product')))\n",
    "print(\"Val acc of best logreg on MNLI(fiction):{}\".format(test_model(mnli_val_loader_fic, logreg_best_model, 'element-wise product')))"
   ]
  },
  {
   "cell_type": "markdown",
   "metadata": {},
   "source": [
    "**Slate**"
   ]
  },
  {
   "cell_type": "code",
   "execution_count": 126,
   "metadata": {},
   "outputs": [],
   "source": [
    "mnli_val_slate_idx = [idx for idx, val in enumerate(mnli_val_genres) if mnli_val_genres[idx]==2]\n",
    "mnli_val_slate_s1 = [mnli_val_premise_indices[idx] for idx in mnli_val_slate_idx]\n",
    "mnli_val_slate_s2 = [mnli_val_hypothesis_indices[idx] for idx in mnli_val_slate_idx]\n",
    "mnli_val_slate_y = [mnli_val_labels[idx] for idx in mnli_val_slate_idx]\n",
    "mnli_val_dataset_slate = MNLIDataset(mnli_val_slate_s1, mnli_val_slate_s2, mnli_val_slate_y)\n",
    "mnli_val_loader_slate = torch.utils.data.DataLoader(dataset=mnli_val_dataset_slate, \n",
    "                                           batch_size=32,\n",
    "                                           collate_fn=MNLI_collate_func,\n",
    "                                           shuffle=True)"
   ]
  },
  {
   "cell_type": "code",
   "execution_count": 127,
   "metadata": {},
   "outputs": [
    {
     "name": "stdout",
     "output_type": "stream",
     "text": [
      "Val acc of best neuralnet on MNLI(slate):38.622754491017965\n",
      "Val acc of best logreg on MNLI(slate):39.421157684630735\n"
     ]
    }
   ],
   "source": [
    "print(\"Val acc of best neuralnet on MNLI(slate):{}\".format(test_model(mnli_val_loader_slate, nn_best_model, 'element-wise product')))\n",
    "print(\"Val acc of best logreg on MNLI(slate):{}\".format(test_model(mnli_val_loader_slate, logreg_best_model, 'element-wise product')))"
   ]
  },
  {
   "cell_type": "markdown",
   "metadata": {},
   "source": [
    "**Government**"
   ]
  },
  {
   "cell_type": "code",
   "execution_count": 128,
   "metadata": {},
   "outputs": [],
   "source": [
    "mnli_val_gov_idx = [idx for idx, val in enumerate(mnli_val_genres) if mnli_val_genres[idx]==3]\n",
    "mnli_val_gov_s1 = [mnli_val_premise_indices[idx] for idx in mnli_val_gov_idx]\n",
    "mnli_val_gov_s2 = [mnli_val_hypothesis_indices[idx] for idx in mnli_val_gov_idx]\n",
    "mnli_val_gov_y = [mnli_val_labels[idx] for idx in mnli_val_gov_idx]\n",
    "mnli_val_dataset_gov = MNLIDataset(mnli_val_gov_s1, mnli_val_gov_s2, mnli_val_gov_y)\n",
    "mnli_val_loader_gov = torch.utils.data.DataLoader(dataset=mnli_val_dataset_gov, \n",
    "                                           batch_size=32,\n",
    "                                           collate_fn=MNLI_collate_func,\n",
    "                                           shuffle=True)"
   ]
  },
  {
   "cell_type": "code",
   "execution_count": 129,
   "metadata": {},
   "outputs": [
    {
     "name": "stdout",
     "output_type": "stream",
     "text": [
      "Val acc of best neuralnet on MNLI(government):38.28740157480315\n",
      "Val acc of best logreg on MNLI(government):39.37007874015748\n"
     ]
    }
   ],
   "source": [
    "print(\"Val acc of best neuralnet on MNLI(government):{}\".format(test_model(mnli_val_loader_gov, nn_best_model, 'element-wise product')))\n",
    "print(\"Val acc of best logreg on MNLI(government):{}\".format(test_model(mnli_val_loader_gov, logreg_best_model, 'element-wise product')))"
   ]
  },
  {
   "cell_type": "markdown",
   "metadata": {},
   "source": [
    "**Travel**"
   ]
  },
  {
   "cell_type": "code",
   "execution_count": 130,
   "metadata": {},
   "outputs": [],
   "source": [
    "mnli_val_tra_idx = [idx for idx, val in enumerate(mnli_val_genres) if mnli_val_genres[idx]==2]\n",
    "mnli_val_tra_s1 = [mnli_val_premise_indices[idx] for idx in mnli_val_tra_idx]\n",
    "mnli_val_tra_s2 = [mnli_val_hypothesis_indices[idx] for idx in mnli_val_tra_idx]\n",
    "mnli_val_tra_y = [mnli_val_labels[idx] for idx in mnli_val_tra_idx]\n",
    "mnli_val_dataset_tra = MNLIDataset(mnli_val_tra_s1, mnli_val_tra_s2, mnli_val_tra_y)\n",
    "mnli_val_loader_tra = torch.utils.data.DataLoader(dataset=mnli_val_dataset_tra, \n",
    "                                           batch_size=32,\n",
    "                                           collate_fn=MNLI_collate_func,\n",
    "                                           shuffle=True)"
   ]
  },
  {
   "cell_type": "code",
   "execution_count": 131,
   "metadata": {},
   "outputs": [
    {
     "name": "stdout",
     "output_type": "stream",
     "text": [
      "Val acc of best neuralnet on MNLI(travel):37.22554890219561\n",
      "Val acc of best logreg on MNLI(travel):39.421157684630735\n"
     ]
    }
   ],
   "source": [
    "print(\"Val acc of best neuralnet on MNLI(travel):{}\".format(test_model(mnli_val_loader_tra, nn_best_model, 'element-wise product')))\n",
    "print(\"Val acc of best logreg on MNLI(travel):{}\".format(test_model(mnli_val_loader_tra, logreg_best_model, 'element-wise product')))"
   ]
  },
  {
   "cell_type": "markdown",
   "metadata": {},
   "source": [
    "## Fine-tune on MultiNLI"
   ]
  },
  {
   "cell_type": "code",
   "execution_count": 132,
   "metadata": {},
   "outputs": [],
   "source": [
    "# Function for testing the model\n",
    "def finetune_test_model(loader, model, method, PATH):\n",
    "    \"\"\"\n",
    "    Help function that tests the model's performance on a dataset\n",
    "    @param: loader - data loader for the dataset to test against\n",
    "    \"\"\"\n",
    "    correct = 0\n",
    "    total = 0\n",
    "    model.load_state_dict(torch.load(PATH))\n",
    "    model.eval()\n",
    "    for data1, lengths1, data2, lengths2, labels in loader:\n",
    "        data1_batch, lengths1_batch, data2_batch, lengths2_batch, label_batch = data1, lengths1, data2, lengths2, labels\n",
    "        outputs = F.softmax(model(data1_batch, lengths1_batch, data2_batch, lengths2_batch, method), dim=1)\n",
    "        predicted = outputs.max(1, keepdim=True)[1]\n",
    "        \n",
    "        total += labels.size(0)\n",
    "        correct += predicted.eq(labels.view_as(predicted)).sum().item()\n",
    "    return (100 * correct / total)"
   ]
  },
  {
   "cell_type": "code",
   "execution_count": 133,
   "metadata": {},
   "outputs": [],
   "source": [
    "# Fine_Tune\n",
    "\n",
    "def fine_tune_model(model, model_name, train_loader, val_loader, num_epochs, lr, method):\n",
    "    '''\n",
    "    model: the model object\n",
    "    train_loader, val_loader\n",
    "    optim: optimizer, str\n",
    "    lr: initiated learning rate, float\n",
    "    num_epochs: number of epoch, int\n",
    "    adj: boolean, to adjust learning rate or not\n",
    "    gamma: learning rate dedaying factor\n",
    "    plot: boolean, to plot training loss and accuracy over time\n",
    "    '''\n",
    "    # Criterion and Optimizer\n",
    "    criterion = torch.nn.CrossEntropyLoss()\n",
    "\n",
    "    # Optimizer\n",
    "    optimizer = torch.optim.Adam(model.parameters(), lr=lr)\n",
    "    \n",
    "    # Print model's state_dict\n",
    "    print(\"Model's state_dict:\")\n",
    "    for param_tensor in model.state_dict():\n",
    "        print(param_tensor, \"\\t\", model.state_dict()[param_tensor].size())\n",
    "    \n",
    "    train_loss = [] # to store training losses\n",
    "    val_acc_lst = [] # to store validation accuracy\n",
    "    \n",
    "    for epoch in range(num_epochs):\n",
    "        for i, (data1, lengths1, data2, lengths2, labels) in enumerate(train_loader):\n",
    "            data1_batch, lengths1_batch, data2_batch, lengths2_batch, label_batch = data1, lengths1, data2, lengths2, labels\n",
    "            model.train()\n",
    "            optimizer.zero_grad()\n",
    "            # Forward pass\n",
    "            outputs = F.softmax(model(data1_batch, lengths1_batch, data2_batch, lengths2_batch, method), dim=1)\n",
    "            loss = criterion(outputs, label_batch)\n",
    "            train_loss.append(loss)\n",
    "            \n",
    "            # Backward and optimize\n",
    "            loss.backward()\n",
    "            optimizer.step()\n",
    "                \n",
    "    print('Finished training')\n",
    "    PATH='finetune_mnli_model_'+str(model_name)+'.pth'\n",
    "    torch.save(model.state_dict(), PATH)\n",
    "    print('Val Acc:{}'.format(finetune_test_model(val_loader, model, method, PATH)))\n",
    "\n",
    "    return "
   ]
  },
  {
   "cell_type": "markdown",
   "metadata": {},
   "source": [
    "**Telephone**"
   ]
  },
  {
   "cell_type": "code",
   "execution_count": 134,
   "metadata": {},
   "outputs": [],
   "source": [
    "mnli_train_tel_idx = [idx for idx, val in enumerate(mnli_val_genres) if mnli_val_genres[idx]==0]\n",
    "mnli_train_tel_s1 = [mnli_train_premise_indices[idx] for idx in mnli_train_tel_idx]\n",
    "mnli_train_tel_s2 = [mnli_train_hypothesis_indices[idx] for idx in mnli_train_tel_idx]\n",
    "mnli_train_tel_y = [mnli_train_labels[idx] for idx in mnli_train_tel_idx]\n",
    "mnli_train_dataset_tel = MNLIDataset(mnli_train_tel_s1, mnli_train_tel_s2, mnli_train_tel_y)\n",
    "mnli_train_loader_tel = torch.utils.data.DataLoader(dataset=mnli_train_dataset_tel, \n",
    "                                           batch_size=BATCH_SIZE,\n",
    "                                           collate_fn=MNLI_collate_func,\n",
    "                                           shuffle=True)"
   ]
  },
  {
   "cell_type": "code",
   "execution_count": 135,
   "metadata": {},
   "outputs": [
    {
     "name": "stdout",
     "output_type": "stream",
     "text": [
      "Model's state_dict:\n",
      "embed.weight \t torch.Size([10002, 100])\n",
      "fc1.weight \t torch.Size([20, 100])\n",
      "fc1.bias \t torch.Size([20])\n",
      "fc2.weight \t torch.Size([3, 20])\n",
      "fc2.bias \t torch.Size([3])\n",
      "Finished training\n",
      "Val Acc:41.492537313432834\n",
      "Model's state_dict:\n",
      "embed.weight \t torch.Size([10002, 100])\n",
      "fc1.weight \t torch.Size([3, 100])\n",
      "fc1.bias \t torch.Size([3])\n",
      "Finished training\n",
      "Val Acc:44.776119402985074\n"
     ]
    }
   ],
   "source": [
    "fine_tune_model(nn_best_model, 'model_tel_nn', mnli_train_loader_tel, mnli_val_loader_tel, num_epochs=5, lr=0.01, method='element-wise product')\n",
    "fine_tune_model(logreg_best_model, 'model_tel_logreg', mnli_train_loader_tel, mnli_val_loader_tel, num_epochs=5, lr=0.01, method='element-wise product')"
   ]
  },
  {
   "cell_type": "markdown",
   "metadata": {},
   "source": [
    "**Fiction**"
   ]
  },
  {
   "cell_type": "code",
   "execution_count": 136,
   "metadata": {},
   "outputs": [],
   "source": [
    "mnli_train_fic_idx = [idx for idx,val in enumerate(mnli_train_genres) if mnli_train_genres[idx]==1]\n",
    "mnli_train_fic_s1 = [mnli_train_premise_indices[idx] for idx in mnli_train_fic_idx]\n",
    "mnli_train_fic_s2 = [mnli_train_hypothesis_indices[idx] for idx in mnli_train_fic_idx]\n",
    "mnli_train_fic_y = [mnli_train_labels[idx] for idx in mnli_train_fic_idx]\n",
    "mnli_train_dataset_fic = MNLIDataset(mnli_train_fic_s1, mnli_train_fic_s2, mnli_train_fic_y)\n",
    "mnli_train_loader_fic = torch.utils.data.DataLoader(dataset=mnli_train_dataset_fic, \n",
    "                                           batch_size=BATCH_SIZE,\n",
    "                                           collate_fn=MNLI_collate_func,\n",
    "                                           shuffle=True)"
   ]
  },
  {
   "cell_type": "code",
   "execution_count": 137,
   "metadata": {},
   "outputs": [
    {
     "name": "stdout",
     "output_type": "stream",
     "text": [
      "Model's state_dict:\n",
      "embed.weight \t torch.Size([10002, 100])\n",
      "fc1.weight \t torch.Size([20, 100])\n",
      "fc1.bias \t torch.Size([20])\n",
      "fc2.weight \t torch.Size([3, 20])\n",
      "fc2.bias \t torch.Size([3])\n",
      "Finished training\n",
      "Val Acc:45.02512562814071\n",
      "Model's state_dict:\n",
      "embed.weight \t torch.Size([10002, 100])\n",
      "fc1.weight \t torch.Size([3, 100])\n",
      "fc1.bias \t torch.Size([3])\n",
      "Finished training\n",
      "Val Acc:43.31658291457286\n"
     ]
    }
   ],
   "source": [
    "fine_tune_model(nn_best_model, 'model_fic_nn', mnli_train_loader_fic, mnli_val_loader_fic, num_epochs=5, lr=0.01, method='element-wise product')\n",
    "fine_tune_model(logreg_best_model, 'model_fic_logreg', mnli_train_loader_fic, mnli_val_loader_fic, num_epochs=5, lr=0.01, method='element-wise product')"
   ]
  },
  {
   "cell_type": "markdown",
   "metadata": {},
   "source": [
    "**Slate**"
   ]
  },
  {
   "cell_type": "code",
   "execution_count": 138,
   "metadata": {},
   "outputs": [],
   "source": [
    "mnli_train_sla_idx = [idx for idx,val in enumerate(mnli_train_genres) if mnli_train_genres[idx]==2]\n",
    "mnli_train_sla_s1 = [mnli_train_premise_indices[idx] for idx in mnli_train_sla_idx]\n",
    "mnli_train_sla_s2 = [mnli_train_hypothesis_indices[idx] for idx in mnli_train_sla_idx]\n",
    "mnli_train_sla_y = [mnli_train_labels[idx] for idx in mnli_train_sla_idx]\n",
    "mnli_train_dataset_sla = MNLIDataset(mnli_train_sla_s1, mnli_train_sla_s2, mnli_train_sla_y)\n",
    "mnli_train_loader_sla = torch.utils.data.DataLoader(dataset=mnli_train_dataset_sla, \n",
    "                                           batch_size=BATCH_SIZE,\n",
    "                                           collate_fn=MNLI_collate_func,\n",
    "                                           shuffle=True)"
   ]
  },
  {
   "cell_type": "code",
   "execution_count": 139,
   "metadata": {},
   "outputs": [
    {
     "name": "stdout",
     "output_type": "stream",
     "text": [
      "Model's state_dict:\n",
      "embed.weight \t torch.Size([10002, 100])\n",
      "fc1.weight \t torch.Size([20, 100])\n",
      "fc1.bias \t torch.Size([20])\n",
      "fc2.weight \t torch.Size([3, 20])\n",
      "fc2.bias \t torch.Size([3])\n",
      "Finished training\n",
      "Val Acc:45.209580838323355\n",
      "Model's state_dict:\n",
      "embed.weight \t torch.Size([10002, 100])\n",
      "fc1.weight \t torch.Size([3, 100])\n",
      "fc1.bias \t torch.Size([3])\n",
      "Finished training\n",
      "Val Acc:41.11776447105788\n"
     ]
    }
   ],
   "source": [
    "fine_tune_model(nn_best_model, 'model_sla_nn', mnli_train_loader_sla, mnli_val_loader_slate, num_epochs=5, lr=0.01, method='element-wise product')\n",
    "fine_tune_model(logreg_best_model, 'model_sla_logreg', mnli_train_loader_sla, mnli_val_loader_slate, num_epochs=5, lr=0.01, method='element-wise product')"
   ]
  },
  {
   "cell_type": "markdown",
   "metadata": {},
   "source": [
    "**Government**"
   ]
  },
  {
   "cell_type": "code",
   "execution_count": 140,
   "metadata": {},
   "outputs": [],
   "source": [
    "mnli_train_gov_idx = [idx for idx,val in enumerate(mnli_train_genres) if mnli_train_genres[idx]==3]\n",
    "mnli_train_gov_s1 = [mnli_train_premise_indices[idx] for idx in mnli_train_gov_idx]\n",
    "mnli_train_gov_s2 = [mnli_train_hypothesis_indices[idx] for idx in mnli_train_gov_idx]\n",
    "mnli_train_gov_y = [mnli_train_labels[idx] for idx in mnli_train_gov_idx]\n",
    "mnli_train_dataset_gov = MNLIDataset(mnli_train_gov_s1, mnli_train_gov_s2, mnli_train_gov_y)\n",
    "mnli_train_loader_gov = torch.utils.data.DataLoader(dataset=mnli_train_dataset_gov, \n",
    "                                           batch_size=BATCH_SIZE,\n",
    "                                           collate_fn=MNLI_collate_func,\n",
    "                                           shuffle=True)"
   ]
  },
  {
   "cell_type": "code",
   "execution_count": 141,
   "metadata": {},
   "outputs": [
    {
     "name": "stdout",
     "output_type": "stream",
     "text": [
      "Model's state_dict:\n",
      "embed.weight \t torch.Size([10002, 100])\n",
      "fc1.weight \t torch.Size([20, 100])\n",
      "fc1.bias \t torch.Size([20])\n",
      "fc2.weight \t torch.Size([3, 20])\n",
      "fc2.bias \t torch.Size([3])\n",
      "Finished training\n",
      "Val Acc:49.40944881889764\n",
      "Model's state_dict:\n",
      "embed.weight \t torch.Size([10002, 100])\n",
      "fc1.weight \t torch.Size([3, 100])\n",
      "fc1.bias \t torch.Size([3])\n",
      "Finished training\n",
      "Val Acc:49.50787401574803\n"
     ]
    }
   ],
   "source": [
    "fine_tune_model(nn_best_model, 'model_gov_nn', mnli_train_loader_gov, mnli_val_loader_gov, num_epochs=5, lr=0.01, method='element-wise product')\n",
    "fine_tune_model(logreg_best_model, 'model_gov_logreg', mnli_train_loader_gov, mnli_val_loader_gov, num_epochs=5, lr=0.01, method='element-wise product')"
   ]
  },
  {
   "cell_type": "markdown",
   "metadata": {},
   "source": [
    "**Travel**"
   ]
  },
  {
   "cell_type": "code",
   "execution_count": 142,
   "metadata": {},
   "outputs": [],
   "source": [
    "mnli_train_tra_idx = [idx for idx,val in enumerate(mnli_train_genres) if mnli_train_genres[idx]==4]\n",
    "mnli_train_tra_s1 = [mnli_train_premise_indices[idx] for idx in mnli_train_fic_idx]\n",
    "mnli_train_tra_s2 = [mnli_train_hypothesis_indices[idx] for idx in mnli_train_fic_idx]\n",
    "mnli_train_tra_y = [mnli_train_labels[idx] for idx in mnli_train_fic_idx]\n",
    "mnli_train_dataset_tra = MNLIDataset(mnli_train_fic_s1, mnli_train_fic_s2, mnli_train_fic_y)\n",
    "mnli_train_loader_tra = torch.utils.data.DataLoader(dataset=mnli_train_dataset_gov, \n",
    "                                           batch_size=BATCH_SIZE,\n",
    "                                           collate_fn=MNLI_collate_func,\n",
    "                                           shuffle=True)"
   ]
  },
  {
   "cell_type": "code",
   "execution_count": 143,
   "metadata": {},
   "outputs": [
    {
     "name": "stdout",
     "output_type": "stream",
     "text": [
      "Model's state_dict:\n",
      "embed.weight \t torch.Size([10002, 100])\n",
      "fc1.weight \t torch.Size([20, 100])\n",
      "fc1.bias \t torch.Size([20])\n",
      "fc2.weight \t torch.Size([3, 20])\n",
      "fc2.bias \t torch.Size([3])\n",
      "Finished training\n",
      "Val Acc:80.37599793973732\n",
      "Model's state_dict:\n",
      "embed.weight \t torch.Size([10002, 100])\n",
      "fc1.weight \t torch.Size([3, 100])\n",
      "fc1.bias \t torch.Size([3])\n",
      "Finished training\n",
      "Val Acc:80.0154519701262\n"
     ]
    }
   ],
   "source": [
    "fine_tune_model(nn_best_model, 'model_tra_nn', mnli_train_loader_tra, mnli_train_loader_tra, num_epochs=5, lr=0.01, method='element-wise product')\n",
    "fine_tune_model(logreg_best_model, 'model_tra_logreg', mnli_train_loader_tra, mnli_train_loader_tra, num_epochs=5, lr=0.01, method='element-wise product')"
   ]
  },
  {
   "cell_type": "code",
   "execution_count": 144,
   "metadata": {},
   "outputs": [
    {
     "data": {
      "text/plain": [
       "Counter({0: 4270, 1: 3836, 2: 4026, 3: 3883, 4: 3985})"
      ]
     },
     "execution_count": 144,
     "metadata": {},
     "output_type": "execute_result"
    }
   ],
   "source": [
    "Counter(mnli_train_genres)"
   ]
  },
  {
   "cell_type": "markdown",
   "metadata": {},
   "source": [
    "### Use fined-tuned model of on genre on the other genre"
   ]
  },
  {
   "cell_type": "code",
   "execution_count": 145,
   "metadata": {},
   "outputs": [
    {
     "name": "stdout",
     "output_type": "stream",
     "text": [
      "Genre: Travel, Present Val Acc:40.01996007984032, Previous Val Acc:39.62075848303393\n",
      "Genre: Fiction, Present Val Acc:42.71356783919598, Previous Val Acc:42.814070351758794\n",
      "Genre: Government, Present Val Acc:41.24015748031496, Previous Val Acc:40.74803149606299\n",
      "Genre: Slate, Present Val Acc:40.91816367265469, Previous Val Acc:40.7185628742515\n"
     ]
    }
   ],
   "source": [
    "# Here I will use the fine-tuned telephone model on other genres\n",
    "print('Genre: Travel, Present Val Acc:{}, Previous Val Acc:{}'.format(finetune_test_model(mnli_val_loader_tra, nn_best_model, 'element-wise product', 'finetune_mnli_model_model_tel_nn.pth'), \\\n",
    "                                                                      test_model(mnli_val_loader_tra, nn_best_model, 'element-wise product')))\n",
    "print('Genre: Fiction, Present Val Acc:{}, Previous Val Acc:{}'.format(finetune_test_model(mnli_val_loader_fic, nn_best_model, 'element-wise product', 'finetune_mnli_model_model_tel_nn.pth'), \\\n",
    "                                                                      test_model(mnli_val_loader_fic, nn_best_model, 'element-wise product')))\n",
    "print('Genre: Government, Present Val Acc:{}, Previous Val Acc:{}'.format(finetune_test_model(mnli_val_loader_gov,nn_best_model, 'element-wise product', 'finetune_mnli_model_model_tel_nn.pth'), \\\n",
    "                                                                      test_model(mnli_val_loader_gov, nn_best_model, 'element-wise product')))\n",
    "print('Genre: Slate, Present Val Acc:{}, Previous Val Acc:{}'.format(finetune_test_model(mnli_val_loader_slate, nn_best_model, 'element-wise product', 'finetune_mnli_model_model_tel_nn.pth'), \\\n",
    "                                                                      test_model(mnli_val_loader_slate, nn_best_model, 'element-wise product')))"
   ]
  },
  {
   "cell_type": "markdown",
   "metadata": {},
   "source": [
    "Conclusion: Does not really make any difference"
   ]
  },
  {
   "cell_type": "markdown",
   "metadata": {},
   "source": [
    "## Pre-trained Word Embedding"
   ]
  },
  {
   "cell_type": "code",
   "execution_count": 146,
   "metadata": {},
   "outputs": [
    {
     "name": "stdout",
     "output_type": "stream",
     "text": [
      "Found 999995 word vectors.\n"
     ]
    }
   ],
   "source": [
    "# preparing embedding layer\n",
    "embeddings_index = {}\n",
    "WIKI_DIR = '/Users/nimiwang/Desktop/1011 NLP/'\n",
    "f = open(os.path.join(WIKI_DIR, 'wiki-news-300d-1M.vec'))\n",
    "for line in f:\n",
    "    values = line.split(\" \")\n",
    "    word = values[0]\n",
    "    coefs = np.asarray(values[1:], dtype='float32')\n",
    "    embeddings_index[word] = coefs\n",
    "f.close()\n",
    "\n",
    "print('Found %s word vectors.' % len(embeddings_index))"
   ]
  },
  {
   "cell_type": "code",
   "execution_count": 147,
   "metadata": {},
   "outputs": [],
   "source": [
    "emb_dim=300 # as seen above\n",
    "max_vocab_size=len(token2id)\n",
    "embedding_matrix = np.zeros((max_vocab_size, emb_dim)) # embedding_matrix should be size of max_vocab_size, embed_dim\n",
    "for token, idx in token2id.items():\n",
    "    embedding_vector = embeddings_index.get(token)\n",
    "    if embedding_vector is not None:\n",
    "        # words not found in embedding index will be all-zeros.\n",
    "        embedding_matrix[idx] = embedding_vector\n",
    "\n",
    "embedding_matrix=torch.from_numpy(embedding_matrix).type(torch.FloatTensor) # convert np.array to float tensor"
   ]
  },
  {
   "cell_type": "code",
   "execution_count": 113,
   "metadata": {},
   "outputs": [],
   "source": [
    "# define nn\n",
    "class pretrained_net(nn.Module):\n",
    "    \"\"\"\n",
    "    2 layer NN with wiki-news embedding\n",
    "    \"\"\"\n",
    "    def __init__(self, emb_matrix, input_dim, hidden_dim, num_classes, p=0):\n",
    "        \"\"\"\n",
    "        @param emb_matrix: pre-trained embedding matrix\n",
    "        @param input_dim: size of the input after embedding\n",
    "        @param hidden_dim: number of hidden nodes in the hidden layer\n",
    "        @param num_classes: number of classes (target)\n",
    "        @param p: proportion of Dropout, if not Dropout, p = 0, float\n",
    "        \"\"\"\n",
    "        super(pretrained_net, self).__init__()\n",
    "        self.emb_matrix, self.input_dim, self.hidden_dim, self.num_classes, self.dropout_rate = \\\n",
    "        emb_matrix, input_dim, hidden_dim, num_classes, p\n",
    "        self.embed = nn.Embedding.from_pretrained(self.emb_matrix, freeze=True) # use pre-trained wiki embedding weights; \n",
    "                                                                           # freeze: embedding.weight.requires_grad = False; does not update\n",
    "        self.fc1 = nn.Linear(input_dim, hidden_dim)\n",
    "        self.fc2 = nn.Linear(hidden_dim, num_classes)\n",
    "    \n",
    "    def forward(self, data1, lengths1, data2, lengths2, method):\n",
    "        \"\"\"\n",
    "        @param combined_data: matrix of size (batch_size, emb_size*2).\n",
    "        \"\"\"\n",
    "        # embeddings for data1\n",
    "        out1 = self.embed(data1) # out.shape: batch_size * max_seq_length * emb_dim\n",
    "        out1 = torch.sum(out1, dim=1) # out.shape: batch_size * emb_dim (concat along the max_seq_length dimension)\n",
    "        out1 /= lengths1.view(lengths1.size()[0],1).expand_as(out1).float() # out.shape: batch_size * emb_dim (just scaling by the sequence REAL length)\n",
    "        \n",
    "        # embeddings for data2\n",
    "        out2 = self.embed(data2) # out.shape: batch_size * max_seq_length * emb_dim\n",
    "        out2 = torch.sum(out2, dim=1) # out.shape: batch_size * emb_dim (concat along the max_seq_length dimension)\n",
    "        out2 /= lengths2.view(lengths2.size()[0],1).expand_as(out2).float() # out.shape: batch_size * emb_dim (just scaling by the sequence REAL length)\n",
    "        \n",
    "        out_combined = merge_two_matrices(out1, out2, method)\n",
    "\n",
    "        out_combined = self.fc1(out_combined)\n",
    "        out_combined = F.relu(out_combined)\n",
    "        out_combined = F.dropout(out_combined, p=self.dropout_rate)\n",
    "        out_combined = self.fc2(out_combined) # out_combined.shape: batch_size * num_classes\n",
    "        \n",
    "        return out_combined"
   ]
  },
  {
   "cell_type": "code",
   "execution_count": 114,
   "metadata": {},
   "outputs": [],
   "source": [
    "# define logreg\n",
    "class pretrained_logreg(nn.Module):\n",
    "    \"\"\"\n",
    "    Logistic regression with BagOfWords embedding\n",
    "    \"\"\"\n",
    "    def __init__(self, emb_matrix, input_dim, num_classes):\n",
    "        \"\"\"\n",
    "        @param emb_matrix: pre-trained embedding matrix\n",
    "        @param input_dim: size of the input after embeddings\n",
    "        @param num_classes: number of targets\n",
    "        \"\"\"\n",
    "        super(pretrained_logreg, self).__init__()\n",
    "        self.embed = nn.Embedding.from_pretrained(emb_matrix, freeze=True) # use pre-trained wiki embedding weights; \n",
    "                                                                           # freeze: embedding.weight.requires_grad = False; does not update\n",
    "        self.fc1 = nn.Linear(input_dim, num_classes)\n",
    "    \n",
    "    def forward(self, data1, lengths1, data2, lengths2, method):\n",
    "        \"\"\"\n",
    "        @param combined_data: matrix of size (batch_size, emb_size*2).\n",
    "        \"\"\"\n",
    "        # embeddings for data1\n",
    "        out1 = self.embed(data1) # out.shape: batch_size * max_seq_length * emb_dim\n",
    "        out1 = torch.sum(out1, dim=1) # out.shape: batch_size * emb_dim (concat along the max_seq_length dimension)\n",
    "        out1 /= lengths1.view(lengths1.size()[0],1).expand_as(out1).float() # out.shape: batch_size * emb_dim (just scaling by the sequence REAL length)\n",
    "        \n",
    "        # embeddings for data1\n",
    "        out2 = self.embed(data2) # out.shape: batch_size * max_seq_length * emb_dim\n",
    "        out2 = torch.sum(out2, dim=1) # out.shape: batch_size * emb_dim (concat along the max_seq_length dimension)\n",
    "        out2 /= lengths2.view(lengths2.size()[0],1).expand_as(out2).float() # out.shape: batch_size * emb_dim (just scaling by the sequence REAL length)\n",
    "        \n",
    "        out_combined = merge_two_matrices(out1, out2, method)\n",
    "        \n",
    "        out_combined = self.fc1(out_combined) # out_combined.shape: batch_size * num_classes\n",
    "        \n",
    "        return out_combined"
   ]
  },
  {
   "cell_type": "markdown",
   "metadata": {},
   "source": [
    "**Re-do 3.1: Train a new SNLI model with pre-trained embeddings**"
   ]
  },
  {
   "cell_type": "code",
   "execution_count": 150,
   "metadata": {},
   "outputs": [
    {
     "name": "stdout",
     "output_type": "stream",
     "text": [
      "Epoch: [1/5], Step: [1001/3125], Training Acc: 42.159, Validation Acc: 38.6\n",
      "Epoch: [1/5], Step: [2001/3125], Training Acc: 44.174, Validation Acc: 44.5\n",
      "Epoch: [1/5], Step: [3001/3125], Training Acc: 44.696, Validation Acc: 44.0\n",
      "Epoch: [2/5], Step: [1001/3125], Training Acc: 45.569, Validation Acc: 45.4\n",
      "Epoch: [2/5], Step: [2001/3125], Training Acc: 45.859, Validation Acc: 45.2\n",
      "Epoch: [2/5], Step: [3001/3125], Training Acc: 46.887, Validation Acc: 45.3\n",
      "Epoch: [3/5], Step: [1001/3125], Training Acc: 48.46, Validation Acc: 46.5\n",
      "Epoch: [3/5], Step: [2001/3125], Training Acc: 49.342, Validation Acc: 47.8\n",
      "Epoch: [3/5], Step: [3001/3125], Training Acc: 49.363, Validation Acc: 47.4\n",
      "Epoch: [4/5], Step: [1001/3125], Training Acc: 49.568, Validation Acc: 48.1\n",
      "Epoch: [4/5], Step: [2001/3125], Training Acc: 48.642, Validation Acc: 48.4\n",
      "Epoch: [4/5], Step: [3001/3125], Training Acc: 50.401, Validation Acc: 48.5\n",
      "Epoch: [5/5], Step: [1001/3125], Training Acc: 49.667, Validation Acc: 45.7\n",
      "Epoch: [5/5], Step: [2001/3125], Training Acc: 50.986, Validation Acc: 50.4\n",
      "Epoch: [5/5], Step: [3001/3125], Training Acc: 51.157, Validation Acc: 50.2\n",
      "Finished training\n"
     ]
    },
    {
     "data": {
      "image/png": "[encoded data removed]",
      "text/plain": [
       "<Figure size 720x360 with 2 Axes>"
      ]
     },
     "metadata": {
      "needs_background": "light"
     },
     "output_type": "display_data"
    }
   ],
   "source": [
    "# nn\n",
    "emb_dim = 300\n",
    "emb_matrix = embedding_matrix\n",
    "num_classes = len(list(LABELS.keys()))\n",
    "Pretrained_net = pretrained_net(emb_matrix, input_dim=emb_dim, hidden_dim=20, num_classes=num_classes, p=0.2)\n",
    "pretrained_SNLI_model = train_model(Pretrained_net, 'prenet_element', train_loader, val_loader, method='element-wise product', \\\n",
    "                optim='Adam', lr=0.01, num_epochs=5, adj=False, plot=True)"
   ]
  },
  {
   "cell_type": "code",
   "execution_count": 163,
   "metadata": {},
   "outputs": [
    {
     "name": "stdout",
     "output_type": "stream",
     "text": [
      "Epoch: [1/5], Step: [1001/3125], Training Acc: 48.991, Validation Acc: 47.7\n",
      "Epoch: [1/5], Step: [2001/3125], Training Acc: 49.166, Validation Acc: 47.9\n",
      "Epoch: [1/5], Step: [3001/3125], Training Acc: 47.571, Validation Acc: 46.1\n",
      "Epoch: [2/5], Step: [1001/3125], Training Acc: 51.316, Validation Acc: 48.0\n",
      "Epoch: [2/5], Step: [2001/3125], Training Acc: 49.704, Validation Acc: 48.9\n",
      "Epoch: [2/5], Step: [3001/3125], Training Acc: 50.701, Validation Acc: 48.4\n",
      "Epoch: [3/5], Step: [1001/3125], Training Acc: 49.834, Validation Acc: 47.9\n",
      "Epoch: [3/5], Step: [2001/3125], Training Acc: 52.058, Validation Acc: 49.7\n",
      "Epoch: [3/5], Step: [3001/3125], Training Acc: 52.067, Validation Acc: 49.1\n",
      "Epoch: [4/5], Step: [1001/3125], Training Acc: 52.391, Validation Acc: 48.8\n",
      "Epoch: [4/5], Step: [2001/3125], Training Acc: 52.486, Validation Acc: 49.6\n",
      "Epoch: [4/5], Step: [3001/3125], Training Acc: 52.187, Validation Acc: 49.8\n",
      "Epoch: [5/5], Step: [1001/3125], Training Acc: 53.124, Validation Acc: 50.1\n",
      "Epoch: [5/5], Step: [2001/3125], Training Acc: 53.054, Validation Acc: 50.8\n",
      "Epoch: [5/5], Step: [3001/3125], Training Acc: 53.253, Validation Acc: 50.0\n",
      "Finished training\n"
     ]
    },
    {
     "name": "stderr",
     "output_type": "stream",
     "text": [
      "/anaconda3/lib/python3.6/site-packages/torch/serialization.py:256: UserWarning: Couldn't retrieve source code for container of type pretrained_logreg. It won't be checked for correctness upon loading.\n",
      "  \"type \" + obj.__name__ + \". It won't be checked \"\n"
     ]
    },
    {
     "data": {
      "image/png": "[encoded data removed]",
      "text/plain": [
       "<Figure size 720x360 with 2 Axes>"
      ]
     },
     "metadata": {
      "needs_background": "light"
     },
     "output_type": "display_data"
    }
   ],
   "source": [
    "# logreg\n",
    "emb_dim = 300\n",
    "emb_matrix = embedding_matrix\n",
    "num_classes = len(list(LABELS.keys()))\n",
    "Pretrained_logreg = pretrained_logreg(emb_matrix, input_dim=emb_dim, num_classes=num_classes)\n",
    "pretrained_SNLI_model2 = train_model(Pretrained_logreg, 'prelog_element', train_loader, val_loader, method='element-wise product', \\\n",
    "                optim='Adam', lr=0.01, num_epochs=5, adj=False, plot=True)"
   ]
  },
  {
   "cell_type": "code",
   "execution_count": 115,
   "metadata": {},
   "outputs": [],
   "source": [
    "model = torch.load(\"best_snli_model_prenet_element.pth\")\n",
    "\n",
    "# sample validation\n",
    "all_idx = []\n",
    "predictions=[]\n",
    "total = 0\n",
    "model.eval()\n",
    "for data1, lengths1, data2, lengths2, labels in val_loader:\n",
    "    data1_batch, lengths1_batch, data2_batch, lengths2_batch, label_batch = data1, lengths1, data2, lengths2, labels\n",
    "    outputs = F.softmax(model(data1_batch, lengths1_batch, data2_batch, lengths2_batch, method='element-wise product'), dim=1)\n",
    "    predicted = outputs.max(1, keepdim=True)[1]\n",
    "    predictions.append(np.array(predicted))\n",
    "\n",
    "    total += labels.size(0)\n",
    "    all_idx += (predicted.numpy() == labels.view_as(predicted).numpy()).tolist()\n",
    "    \n",
    "correct_idx = []\n",
    "wrong_idx = []\n",
    "for i, val in enumerate(all_idx):\n",
    "    if val[0] == True:\n",
    "        correct_idx.append(i)\n",
    "    else:\n",
    "        wrong_idx.append(i)"
   ]
  },
  {
   "cell_type": "code",
   "execution_count": 116,
   "metadata": {},
   "outputs": [],
   "source": [
    "# predictions\n",
    "predictions=[i[0] for j in predictions for i in j]"
   ]
  },
  {
   "cell_type": "code",
   "execution_count": 118,
   "metadata": {},
   "outputs": [
    {
     "name": "stdout",
     "output_type": "stream",
     "text": [
      "Correct Examples:\n",
      "\n",
      "\n",
      "Premise: man in overalls with two horses\n",
      "Hypothesis: a man in overalls with two horses\n",
      "Correct Label: entailment\n",
      "\n",
      "\n",
      "Premise: a woman in a blue shirt talking to a baby\n",
      "Hypothesis: a young woman talks to her baby at the park\n",
      "Correct Label: neutral\n",
      "\n",
      "\n",
      "Premise: a man in a red shirt entering an establishment\n",
      "Hypothesis: lucy was at the library\n",
      "Correct Label: contradiction\n",
      "-----------------------------------------------------------------------------------------------------------------------\n",
      "Wrong Examples:\n",
      "\n",
      "\n",
      "Premise: a man in a dark shirt and overalls is squatting down on gravel and working on a railroad car\n",
      "Hypothesis: several men wearing overalls are working on a railroad car while knelling on gravel\n",
      "Correct Label: entailment\n",
      "Predicted Label: neutral\n",
      "\n",
      "\n",
      "Premise: a man in a green shirt and black hat is smoothing concrete\n",
      "Hypothesis: the man is drilling into concrete\n",
      "Correct Label: contradiction\n",
      "Predicted Label: entailment\n",
      "\n",
      "\n",
      "Premise: a woman in a black coat is riding her bike on a street as a man in shorts and a striped top looks at her as he passes her\n",
      "Hypothesis: a man is checking out a woman as she rides by on her red bike\n",
      "Correct Label: entailment\n",
      "Predicted Label: neutral\n"
     ]
    }
   ],
   "source": [
    "print(\"Correct Examples:\")\n",
    "for i in np.random.choice(correct_idx,3):\n",
    "    print(\"\\n\")\n",
    "    print('Premise: {}'.format(' '.join(val_premise_tokens[i])))\n",
    "    print('Hypothesis: {}'.format(' '.join(val_hypothesis_tokens[i])))\n",
    "    print('Correct Label: {}'.format(LABELS_INVERSE[val_labels[i]]))\n",
    "\n",
    "print(\"-----------------------------------------------------------------------------------------------------------------------\")\n",
    "print(\"Wrong Examples:\")\n",
    "for i in np.random.choice(wrong_idx,3):\n",
    "    print(\"\\n\")\n",
    "    print('Premise: {}'.format(' '.join(val_premise_tokens[i])))\n",
    "    print('Hypothesis: {}'.format(' '.join(val_hypothesis_tokens[i])))\n",
    "    print('Correct Label: {}'.format(LABELS_INVERSE[val_labels[i]]))\n",
    "    print('Predicted Label: {}'.format(LABELS_INVERSE[predictions[i]]))"
   ]
  },
  {
   "cell_type": "markdown",
   "metadata": {},
   "source": [
    "**re-do 3.2 Evaluate on MultiNLI**"
   ]
  },
  {
   "cell_type": "code",
   "execution_count": 152,
   "metadata": {},
   "outputs": [],
   "source": [
    "pretrained_nn=torch.load('best_snli_model_prenet_element.pth')\n",
    "pretrained_logreg=torch.load('best_snli_model_prelog_element.pth')"
   ]
  },
  {
   "cell_type": "code",
   "execution_count": 153,
   "metadata": {},
   "outputs": [
    {
     "name": "stdout",
     "output_type": "stream",
     "text": [
      "Val acc of best neuralnet on MNLI(telephone):32.7363184079602\n",
      "Val acc of best logreg on MNLI(telephone):36.01990049751244\n",
      "Val acc of best neuralnet on MNLI(fiction):34.87437185929648\n",
      "Val acc of best logreg on MNLI(fiction):34.87437185929648\n",
      "Val acc of best neuralnet on MNLI(slate):37.22554890219561\n",
      "Val acc of best logreg on MNLI(slate):36.82634730538922\n",
      "Val acc of best neuralnet on MNLI(government):30.708661417322833\n",
      "Val acc of best logreg on MNLI(government):30.019685039370078\n",
      "Val acc of best neuralnet on MNLI(travel):36.82634730538922\n",
      "Val acc of best logreg on MNLI(travel):36.82634730538922\n"
     ]
    }
   ],
   "source": [
    "print(\"Val acc of best neuralnet on MNLI(telephone):{}\".format(test_model(mnli_val_loader_tel, pretrained_nn, 'element-wise product')))\n",
    "print(\"Val acc of best logreg on MNLI(telephone):{}\".format(test_model(mnli_val_loader_tel, pretrained_logreg, 'element-wise product')))\n",
    "print(\"Val acc of best neuralnet on MNLI(fiction):{}\".format(test_model(mnli_val_loader_fic, pretrained_nn, 'element-wise product')))\n",
    "print(\"Val acc of best logreg on MNLI(fiction):{}\".format(test_model(mnli_val_loader_fic, pretrained_logreg, 'element-wise product')))\n",
    "print(\"Val acc of best neuralnet on MNLI(slate):{}\".format(test_model(mnli_val_loader_slate, pretrained_nn, 'element-wise product')))\n",
    "print(\"Val acc of best logreg on MNLI(slate):{}\".format(test_model(mnli_val_loader_slate, pretrained_logreg, 'element-wise product')))\n",
    "print(\"Val acc of best neuralnet on MNLI(government):{}\".format(test_model(mnli_val_loader_gov, pretrained_nn, 'element-wise product')))\n",
    "print(\"Val acc of best logreg on MNLI(government):{}\".format(test_model(mnli_val_loader_gov, pretrained_logreg, 'element-wise product')))\n",
    "print(\"Val acc of best neuralnet on MNLI(travel):{}\".format(test_model(mnli_val_loader_tra, pretrained_nn, 'element-wise product')))\n",
    "print(\"Val acc of best logreg on MNLI(travel):{}\".format(test_model(mnli_val_loader_tra, pretrained_logreg, 'element-wise product')))"
   ]
  },
  {
   "cell_type": "markdown",
   "metadata": {},
   "source": [
    "## Analyzing Learned Word Embedding"
   ]
  },
  {
   "cell_type": "code",
   "execution_count": 154,
   "metadata": {},
   "outputs": [],
   "source": [
    "def find_most_similar_word(embed_matrix):\n",
    "    normalize_vector = lambda l:l/np.linalg.norm(l)\n",
    "    for i in range(embed_matrix.shape[0]):\n",
    "        embed_matrix[i] = normalize_vector(embed_matrix[i])\n",
    "\n",
    "    product = np.dot(embed_matrix,embed_matrix.T)\n",
    "\n",
    "    np.fill_diagonal (product,0)\n",
    "\n",
    "    product_flatten = np.matrix.flatten(product)\n",
    "\n",
    "    max_indexes = []\n",
    "    for i in range(30):\n",
    "        max_index = np.nanargmax(product_flatten)\n",
    "        max_indexes.append(max_index)\n",
    "        product_flatten[max_index] = 0\n",
    "\n",
    "    i = 0\n",
    "    for max_index in max_indexes:\n",
    "        first_word = max_index//embed_matrix.shape[0]\n",
    "        second_word = max_index%embed_matrix.shape[0]\n",
    "        if i%2 == 0:\n",
    "            print('{} and {} have {} of the similarity score'.format(id2token[first_word],id2token[second_word],product[first_word,second_word],4))\n",
    "        i +=1"
   ]
  },
  {
   "cell_type": "code",
   "execution_count": 104,
   "metadata": {},
   "outputs": [
    {
     "name": "stderr",
     "output_type": "stream",
     "text": [
      "/anaconda3/lib/python3.6/site-packages/ipykernel_launcher.py:2: RuntimeWarning: invalid value encountered in true_divide\n",
      "  \n"
     ]
    },
    {
     "name": "stdout",
     "output_type": "stream",
     "text": [
      "no and nobody have 0.7870211005210876 of the similarity score\n",
      "no and nothing have 0.7317116260528564 of the similarity score\n",
      "sisters and joyously have 0.7225966453552246 of the similarity score\n",
      "sitting and sit have 0.7036536931991577 of the similarity score\n",
      "not and no have 0.698849618434906 of the similarity score\n",
      "because and sad have 0.6897428631782532 of the similarity score\n",
      "tall and husband have 0.6848270297050476 of the similarity score\n",
      "no and only have 0.6712642908096313 of the similarity score\n",
      "sad and favorite have 0.6645609736442566 of the similarity score\n",
      "sad and happily have 0.6621388792991638 of the similarity score\n",
      "sad and bored have 0.6595724821090698 of the similarity score\n",
      "empty and nobody have 0.655514657497406 of the similarity score\n",
      "nobody and nothing have 0.6510113477706909 of the similarity score\n",
      "no and n't have 0.6498913168907166 of the similarity score\n",
      "nobody and cats have 0.6493543982505798 of the similarity score\n"
     ]
    }
   ],
   "source": [
    "## nn_best_model\n",
    "find_most_similar_word(nn_best_model.state_dict()['embed.weight'].numpy())"
   ]
  },
  {
   "cell_type": "code",
   "execution_count": 105,
   "metadata": {},
   "outputs": [
    {
     "name": "stderr",
     "output_type": "stream",
     "text": [
      "/anaconda3/lib/python3.6/site-packages/ipykernel_launcher.py:2: RuntimeWarning: invalid value encountered in true_divide\n",
      "  \n"
     ]
    },
    {
     "name": "stdout",
     "output_type": "stream",
     "text": [
      "sad and joyously have 0.7626861929893494 of the similarity score\n",
      "tall and joyously have 0.7603438496589661 of the similarity score\n",
      "no and only have 0.7502197027206421 of the similarity score\n",
      "sisters and joyously have 0.7462353706359863 of the similarity score\n",
      "no and nobody have 0.7461427450180054 of the similarity score\n",
      "date and joyously have 0.7449243068695068 of the similarity score\n",
      "sleeping and asleep have 0.7440009117126465 of the similarity score\n",
      "because and sad have 0.7344772219657898 of the similarity score\n",
      "favorite and joyously have 0.7263404726982117 of the similarity score\n",
      "tall and lost have 0.7242037057876587 of the similarity score\n",
      "tall and sad have 0.7239871621131897 of the similarity score\n",
      "happily and joyously have 0.7233480215072632 of the similarity score\n",
      "nobody and silently have 0.716861367225647 of the similarity score\n",
      "sad and circus have 0.711295485496521 of the similarity score\n",
      "asleep and napping have 0.7106007933616638 of the similarity score\n"
     ]
    }
   ],
   "source": [
    "## logreg_best_model\n",
    "find_most_similar_word(logreg_best_model.state_dict()['embed.weight'].numpy())"
   ]
  },
  {
   "cell_type": "code",
   "execution_count": 158,
   "metadata": {},
   "outputs": [
    {
     "name": "stdout",
     "output_type": "stream",
     "text": [
      "Found 9896 word vectors.\n"
     ]
    }
   ],
   "source": [
    "# # pretrained embedding layer\n",
    "# embeddings_index = {}\n",
    "# PATH=\"/Users/nimiwang/Desktop/1011 NLP\"\n",
    "\n",
    "# f = open(PATH+'/wiki-news-300d-1M.vec')\n",
    "# flag = 0\n",
    "# for line in f:\n",
    "#     if flag > 0:\n",
    "#         values = line.split(\" \")\n",
    "#         word = values[0]\n",
    "#         if word in list(token2id.keys()):\n",
    "#             coefs = np.asarray(values[1:], dtype='float32')\n",
    "#             embeddings_index[word] = coefs\n",
    "#     else:\n",
    "#         flag += 1\n",
    "# f.close()\n",
    "\n",
    "# print('Found %s word vectors.' % len(embeddings_index))"
   ]
  },
  {
   "cell_type": "code",
   "execution_count": 159,
   "metadata": {},
   "outputs": [
    {
     "name": "stdout",
     "output_type": "stream",
     "text": [
      "them and hands have 0.9886676073074341 of the similarity score\n",
      "waiting and boat have 0.9886072874069214 of the similarity score\n",
      "blond and boat have 0.9857078194618225 of the similarity score\n",
      "boat and rock have 0.9850190877914429 of the similarity score\n",
      "baby and them have 0.984851598739624 of the similarity score\n",
      "blond and rock have 0.9848503470420837 of the similarity score\n",
      "back and rock have 0.9848402738571167 of the similarity score\n",
      "waiting and them have 0.9846046566963196 of the similarity score\n",
      "waiting and blond have 0.9837770462036133 of the similarity score\n",
      "blond and back have 0.9825493097305298 of the similarity score\n",
      "jeans and them have 0.9818593263626099 of the similarity score\n",
      "waiting and hands have 0.981438934803009 of the similarity score\n",
      "jeans and waiting have 0.980545699596405 of the similarity score\n",
      "motorbike and ceiling have 0.980441153049469 of the similarity score\n",
      "waiting and rock have 0.9802217483520508 of the similarity score\n"
     ]
    }
   ],
   "source": [
    "find_most_similar_word(np.array(list(embeddings_index.values())))"
   ]
  },
  {
   "cell_type": "code",
   "execution_count": 160,
   "metadata": {},
   "outputs": [],
   "source": [
    "### find which vectors change the most for NN model \n",
    "# Word embedding from section 3.1\n",
    "before_embedding_nn = nn_best_model.state_dict()['embed.weight'].numpy()\n",
    "# word embedding from section 3.4\n",
    "after_embedding_tel_nn = torch.load('finetune_mnli_model_model_tel_nn.pth')['embed.weight'].numpy()\n",
    "after_embedding_fic_nn = torch.load('finetune_mnli_model_model_fic_nn.pth')['embed.weight'].numpy()\n",
    "after_embedding_sla_nn = torch.load('finetune_mnli_model_model_sla_nn.pth')['embed.weight'].numpy()\n",
    "after_embedding_gov_nn = torch.load('finetune_mnli_model_model_gov_nn.pth')['embed.weight'].numpy()\n",
    "after_embedding_tra_nn = torch.load('finetune_mnli_model_model_tra_nn.pth')['embed.weight'].numpy()"
   ]
  },
  {
   "cell_type": "code",
   "execution_count": 164,
   "metadata": {},
   "outputs": [],
   "source": [
    "def find_words_change_most(before_embedding,after_embedding,genres):\n",
    "    normalize_vector = lambda l:l/np.linalg.norm(l)\n",
    "    \n",
    "    for i in range(before_embedding.shape[0]):\n",
    "        before_embedding[i] = normalize_vector(before_embedding[i])\n",
    "        \n",
    "    for i in range(after_embedding.shape[0]):\n",
    "        after_embedding[i] = normalize_vector(after_embedding[i])\n",
    "\n",
    "    product = np.dot(before_embedding,after_embedding.T)\n",
    "\n",
    "    self_similarity = product.diagonal()\n",
    "    self_similarity.setflags(write=1)\n",
    "    #print(self_similarity)\n",
    "\n",
    "    #product_flatten = np.matrix.flatten(product)\n",
    "\n",
    "    min_indexes = []\n",
    "    for i in range(5):\n",
    "        min_index = np.nanargmin(self_similarity)\n",
    "        min_indexes.append(min_index)\n",
    "        self_similarity[min_index] = 1\n",
    "\n",
    "    for min_index in min_indexes:\n",
    "        print('\"{}\" has very different embedding vectors before and after on {} dataset'.format(id2token[min_index],genres))\n"
   ]
  },
  {
   "cell_type": "code",
   "execution_count": 165,
   "metadata": {},
   "outputs": [
    {
     "name": "stderr",
     "output_type": "stream",
     "text": [
      "/anaconda3/lib/python3.6/site-packages/ipykernel_launcher.py:2: RuntimeWarning: invalid value encountered in true_divide\n",
      "  \n"
     ]
    },
    {
     "name": "stdout",
     "output_type": "stream",
     "text": [
      "\"bouncing\" has very different embedding vectors before and after on Tel dataset\n",
      "\"death\" has very different embedding vectors before and after on Tel dataset\n",
      "\"removing\" has very different embedding vectors before and after on Tel dataset\n",
      "\"hello\" has very different embedding vectors before and after on Tel dataset\n",
      "\"weapon\" has very different embedding vectors before and after on Tel dataset\n"
     ]
    }
   ],
   "source": [
    "find_words_change_most(before_embedding_nn,after_embedding_tel_nn,'Tel')"
   ]
  },
  {
   "cell_type": "code",
   "execution_count": 166,
   "metadata": {},
   "outputs": [
    {
     "name": "stderr",
     "output_type": "stream",
     "text": [
      "/anaconda3/lib/python3.6/site-packages/ipykernel_launcher.py:2: RuntimeWarning: invalid value encountered in true_divide\n",
      "  \n"
     ]
    },
    {
     "name": "stdout",
     "output_type": "stream",
     "text": [
      "\"hearing\" has very different embedding vectors before and after on Fic dataset\n",
      "\"slamming\" has very different embedding vectors before and after on Fic dataset\n",
      "\"disguises\" has very different embedding vectors before and after on Fic dataset\n",
      "\"dull\" has very different embedding vectors before and after on Fic dataset\n",
      "\"carvings\" has very different embedding vectors before and after on Fic dataset\n"
     ]
    }
   ],
   "source": [
    "find_words_change_most(before_embedding_nn,after_embedding_fic_nn,'Fic')"
   ]
  },
  {
   "cell_type": "code",
   "execution_count": 167,
   "metadata": {},
   "outputs": [
    {
     "name": "stderr",
     "output_type": "stream",
     "text": [
      "/anaconda3/lib/python3.6/site-packages/ipykernel_launcher.py:2: RuntimeWarning: invalid value encountered in true_divide\n",
      "  \n"
     ]
    },
    {
     "name": "stdout",
     "output_type": "stream",
     "text": [
      "\"hearing\" has very different embedding vectors before and after on Sla dataset\n",
      "\"a\" has very different embedding vectors before and after on Sla dataset\n",
      "\"stump\" has very different embedding vectors before and after on Sla dataset\n",
      "\"discuss\" has very different embedding vectors before and after on Sla dataset\n",
      "\"the\" has very different embedding vectors before and after on Sla dataset\n"
     ]
    }
   ],
   "source": [
    "find_words_change_most(before_embedding_nn,after_embedding_sla_nn,'Sla')"
   ]
  },
  {
   "cell_type": "code",
   "execution_count": 168,
   "metadata": {},
   "outputs": [
    {
     "name": "stderr",
     "output_type": "stream",
     "text": [
      "/anaconda3/lib/python3.6/site-packages/ipykernel_launcher.py:2: RuntimeWarning: invalid value encountered in true_divide\n",
      "  \n"
     ]
    },
    {
     "name": "stdout",
     "output_type": "stream",
     "text": [
      "\"is\" has very different embedding vectors before and after on Gov dataset\n",
      "\"hearing\" has very different embedding vectors before and after on Gov dataset\n",
      "\"discuss\" has very different embedding vectors before and after on Gov dataset\n",
      "\"in\" has very different embedding vectors before and after on Gov dataset\n",
      "\"a\" has very different embedding vectors before and after on Gov dataset\n"
     ]
    }
   ],
   "source": [
    "find_words_change_most(before_embedding_nn,after_embedding_gov_nn,'Gov')"
   ]
  },
  {
   "cell_type": "code",
   "execution_count": 169,
   "metadata": {},
   "outputs": [
    {
     "name": "stderr",
     "output_type": "stream",
     "text": [
      "/anaconda3/lib/python3.6/site-packages/ipykernel_launcher.py:2: RuntimeWarning: invalid value encountered in true_divide\n",
      "  \n"
     ]
    },
    {
     "name": "stdout",
     "output_type": "stream",
     "text": [
      "\"is\" has very different embedding vectors before and after on Tra dataset\n",
      "\"faster\" has very different embedding vectors before and after on Tra dataset\n",
      "\"pressing\" has very different embedding vectors before and after on Tra dataset\n",
      "\"relieve\" has very different embedding vectors before and after on Tra dataset\n",
      "\"lowering\" has very different embedding vectors before and after on Tra dataset\n"
     ]
    }
   ],
   "source": [
    "find_words_change_most(before_embedding_nn,after_embedding_tra_nn,'Tra')"
   ]
  }
 ],
 "metadata": {
  "kernelspec": {
   "display_name": "Python 3",
   "language": "python",
   "name": "python3"
  },
  "language_info": {
   "codemirror_mode": {
    "name": "ipython",
    "version": 3
   },
   "file_extension": ".py",
   "mimetype": "text/x-python",
   "name": "python",
   "nbconvert_exporter": "python",
   "pygments_lexer": "ipython3",
   "version": "3.6.7"
  }
 },
 "nbformat": 4,
 "nbformat_minor": 4
}
