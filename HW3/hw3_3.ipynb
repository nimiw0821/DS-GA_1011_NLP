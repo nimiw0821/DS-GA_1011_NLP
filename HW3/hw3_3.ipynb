{
 "cells": [
  {
   "cell_type": "markdown",
   "metadata": {
    "toc": true
   },
   "source": [
    "<h1>Table of Contents<span class=\"tocSkip\"></span></h1>\n",
    "<div class=\"toc\"><ul class=\"toc-item\"><li><span><a href=\"#HW3---Transfer-learning\" data-toc-modified-id=\"HW3---Transfer-learning-1\"><span class=\"toc-item-num\">1&nbsp;&nbsp;</span>HW3 - Transfer learning</a></span><ul class=\"toc-item\"><li><ul class=\"toc-item\"><li><ul class=\"toc-item\"><li><span><a href=\"#Due-October-30,-2019\" data-toc-modified-id=\"Due-October-30,-2019-1.0.0.1\"><span class=\"toc-item-num\">1.0.0.1&nbsp;&nbsp;</span>Due October 30, 2019</a></span></li></ul></li><li><span><a href=\"#This-homework-has-the-following-sections:\" data-toc-modified-id=\"This-homework-has-the-following-sections:-1.0.1\"><span class=\"toc-item-num\">1.0.1&nbsp;&nbsp;</span>This homework has the following sections:</a></span></li></ul></li><li><span><a href=\"#Question-1-(MNIST-transfer-learning)\" data-toc-modified-id=\"Question-1-(MNIST-transfer-learning)-1.1\"><span class=\"toc-item-num\">1.1&nbsp;&nbsp;</span>Question 1 (MNIST transfer learning)</a></span><ul class=\"toc-item\"><li><ul class=\"toc-item\"><li><span><a href=\"#Choose-a-model\" data-toc-modified-id=\"Choose-a-model-1.1.0.1\"><span class=\"toc-item-num\">1.1.0.1&nbsp;&nbsp;</span>Choose a model</a></span></li><li><span><a href=\"#Freeze-the-model\" data-toc-modified-id=\"Freeze-the-model-1.1.0.2\"><span class=\"toc-item-num\">1.1.0.2&nbsp;&nbsp;</span>Freeze the model</a></span></li><li><span><a href=\"#Init-target-dataset\" data-toc-modified-id=\"Init-target-dataset-1.1.0.3\"><span class=\"toc-item-num\">1.1.0.3&nbsp;&nbsp;</span>Init target dataset</a></span></li></ul></li><li><span><a href=\"#Part-A-(init-fine-tune-model)\" data-toc-modified-id=\"Part-A-(init-fine-tune-model)-1.1.1\"><span class=\"toc-item-num\">1.1.1&nbsp;&nbsp;</span>Part A (init fine-tune model)</a></span></li><li><span><a href=\"#Part-B-(Fine-tune-(Frozen))\" data-toc-modified-id=\"Part-B-(Fine-tune-(Frozen))-1.1.2\"><span class=\"toc-item-num\">1.1.2&nbsp;&nbsp;</span>Part B (Fine-tune (Frozen))</a></span><ul class=\"toc-item\"><li><span><a href=\"#1.-Frozen-feature_extractor\" data-toc-modified-id=\"1.-Frozen-feature_extractor-1.1.2.1\"><span class=\"toc-item-num\">1.1.2.1&nbsp;&nbsp;</span>1. Frozen feature_extractor</a></span></li><li><span><a href=\"#2.-Unfrozen-feature_extractor\" data-toc-modified-id=\"2.-Unfrozen-feature_extractor-1.1.2.2\"><span class=\"toc-item-num\">1.1.2.2&nbsp;&nbsp;</span>2. Unfrozen feature_extractor</a></span></li></ul></li><li><span><a href=\"#Part-C-(compute-test-accuracy)\" data-toc-modified-id=\"Part-C-(compute-test-accuracy)-1.1.3\"><span class=\"toc-item-num\">1.1.3&nbsp;&nbsp;</span>Part C (compute test accuracy)</a></span></li><li><span><a href=\"#Grade!\" data-toc-modified-id=\"Grade!-1.1.4\"><span class=\"toc-item-num\">1.1.4&nbsp;&nbsp;</span>Grade!</a></span></li><li><span><a href=\"#Part-D-(Fine-tune-Unfrozen)\" data-toc-modified-id=\"Part-D-(Fine-tune-Unfrozen)-1.1.5\"><span class=\"toc-item-num\">1.1.5&nbsp;&nbsp;</span>Part D (Fine-tune Unfrozen)</a></span></li><li><span><a href=\"#Grade-UNFROZEN\" data-toc-modified-id=\"Grade-UNFROZEN-1.1.6\"><span class=\"toc-item-num\">1.1.6&nbsp;&nbsp;</span>Grade UNFROZEN</a></span></li></ul></li></ul></li><li><span><a href=\"#Question-2-(train-a-model-on-Wikitext-2)\" data-toc-modified-id=\"Question-2-(train-a-model-on-Wikitext-2)-2\"><span class=\"toc-item-num\">2&nbsp;&nbsp;</span>Question 2 (train a model on Wikitext-2)</a></span><ul class=\"toc-item\"><li><ul class=\"toc-item\"><li><ul class=\"toc-item\"><li><span><a href=\"#Part-A\" data-toc-modified-id=\"Part-A-2.0.0.1\"><span class=\"toc-item-num\">2.0.0.1&nbsp;&nbsp;</span>Part A</a></span></li></ul></li><li><span><a href=\"#part-A-load-text-from-torch-db\" data-toc-modified-id=\"part-A-load-text-from-torch-db-2.0.1\"><span class=\"toc-item-num\">2.0.1&nbsp;&nbsp;</span>part A load text from torch db</a></span><ul class=\"toc-item\"><li><span><a href=\"#Part-B\" data-toc-modified-id=\"Part-B-2.0.1.1\"><span class=\"toc-item-num\">2.0.1.1&nbsp;&nbsp;</span>Part B</a></span></li><li><span><a href=\"#Part-C\" data-toc-modified-id=\"Part-C-2.0.1.2\"><span class=\"toc-item-num\">2.0.1.2&nbsp;&nbsp;</span>Part C</a></span></li><li><span><a href=\"#Part-D\" data-toc-modified-id=\"Part-D-2.0.1.3\"><span class=\"toc-item-num\">2.0.1.3&nbsp;&nbsp;</span>Part D</a></span></li><li><span><a href=\"#Let's-grade-your-results!\" data-toc-modified-id=\"Let's-grade-your-results!-2.0.1.4\"><span class=\"toc-item-num\">2.0.1.4&nbsp;&nbsp;</span>Let's grade your results!</a></span></li></ul></li></ul></li><li><span><a href=\"#Question-3-(fine-tune-on-MNLI)\" data-toc-modified-id=\"Question-3-(fine-tune-on-MNLI)-2.1\"><span class=\"toc-item-num\">2.1&nbsp;&nbsp;</span>Question 3 (fine-tune on MNLI)</a></span><ul class=\"toc-item\"><li><span><a href=\"#Part-A\" data-toc-modified-id=\"Part-A-2.1.1\"><span class=\"toc-item-num\">2.1.1&nbsp;&nbsp;</span>Part A</a></span></li><li><span><a href=\"#Part-B\" data-toc-modified-id=\"Part-B-2.1.2\"><span class=\"toc-item-num\">2.1.2&nbsp;&nbsp;</span>Part B</a></span></li><li><span><a href=\"#Part-C\" data-toc-modified-id=\"Part-C-2.1.3\"><span class=\"toc-item-num\">2.1.3&nbsp;&nbsp;</span>Part C</a></span></li><li><span><a href=\"#Part-D\" data-toc-modified-id=\"Part-D-2.1.4\"><span class=\"toc-item-num\">2.1.4&nbsp;&nbsp;</span>Part D</a></span></li><li><span><a href=\"#Let's-grade-your-results\" data-toc-modified-id=\"Let's-grade-your-results-2.1.5\"><span class=\"toc-item-num\">2.1.5&nbsp;&nbsp;</span>Let's grade your results</a></span></li></ul></li><li><span><a href=\"#Question-4-(BERT)\" data-toc-modified-id=\"Question-4-(BERT)-2.2\"><span class=\"toc-item-num\">2.2&nbsp;&nbsp;</span>Question 4 (BERT)</a></span><ul class=\"toc-item\"><li><span><a href=\"#Part-A-(init-BERT)\" data-toc-modified-id=\"Part-A-(init-BERT)-2.2.1\"><span class=\"toc-item-num\">2.2.1&nbsp;&nbsp;</span>Part A (init BERT)</a></span></li><li><span><a href=\"#Part-B-(fine-tune-with-BERT)\" data-toc-modified-id=\"Part-B-(fine-tune-with-BERT)-2.2.2\"><span class=\"toc-item-num\">2.2.2&nbsp;&nbsp;</span>Part B (fine-tune with BERT)</a></span></li><li><span><a href=\"#Part-C\" data-toc-modified-id=\"Part-C-2.2.3\"><span class=\"toc-item-num\">2.2.3&nbsp;&nbsp;</span>Part C</a></span></li><li><span><a href=\"#Let's-grade-your-BERT-results!\" data-toc-modified-id=\"Let's-grade-your-BERT-results!-2.2.4\"><span class=\"toc-item-num\">2.2.4&nbsp;&nbsp;</span>Let's grade your BERT results!</a></span></li></ul></li></ul></li></ul></div>"
   ]
  },
  {
   "cell_type": "markdown",
   "metadata": {
    "colab_type": "text",
    "id": "QZDv6To6xMjn"
   },
   "source": [
    "---   \n",
    "# HW3 - Transfer learning\n",
    "\n",
    "#### Due October 30, 2019\n",
    "\n",
    "In this assignment you will learn about transfer learning. This technique is perhaps one of the most important techniques for industry. When a problem you want to solve does not have enough data, we use a different (larger) dataset to learn representations which can help us solve our task using the smaller task.\n",
    "\n",
    "The general steps to transfer learning are as follows:\n",
    "\n",
    "1. Find a huge dataset with similar characteristics to the problem you are interested in.\n",
    "2. Choose a model powerful enough to extract meaningful representations from the huge dataset.\n",
    "3. Train this model on the huge dataset.\n",
    "4. Use this model to train on the smaller dataset.\n",
    "\n",
    "\n",
    "### This homework has the following sections:\n",
    "1. Question 1: MNIST fine-tuning (Parts A, B, C, D).\n",
    "2. Question 2: Pretrain on Wikitext2 (Part A, B, C, D)\n",
    "3. Question 3: Finetune on MNLI (Part A, B, C, D)\n",
    "4. Question 4: Finetune using pretrained BERT (Part A, B, C)"
   ]
  },
  {
   "cell_type": "markdown",
   "metadata": {
    "colab_type": "text",
    "id": "nTVaqCImxMjq"
   },
   "source": [
    "---   \n",
    "## Question 1 (MNIST transfer learning)\n",
    "To grasp the high-level approach to transfer learning, let's first do a simple example using computer vision. \n",
    "\n",
    "The torchvision library has pretrained models (resnets, vggnets, etc) on the Imagenet dataset. Imagenet is a dataset\n",
    "with 1.3 million images covering over 1000 classes of objects. When you use one of these models, the weights of the model initialize\n",
    "with the weights saved from training on imagenet.\n",
    "\n",
    "In this task we will:\n",
    "1. Choose a pretrained model.\n",
    "2. Freeze the model so that the weights don't change.\n",
    "3. Fine-tune on a few labels of MNIST.   "
   ]
  },
  {
   "cell_type": "markdown",
   "metadata": {
    "colab_type": "text",
    "id": "ZvnfJqgVxMjq"
   },
   "source": [
    "#### Choose a model\n",
    "Here we pick any of the models from torchvision"
   ]
  },
  {
   "cell_type": "code",
   "execution_count": 1,
   "metadata": {
    "colab": {
     "base_uri": "https://localhost:8080/",
     "height": 51
    },
    "colab_type": "code",
    "id": "9XMP-eipxMjr",
    "outputId": "52589f1d-871a-45d7-d597-c531cb3bd767"
   },
   "outputs": [
    {
     "name": "stderr",
     "output_type": "stream",
     "text": [
      "Downloading: \"https://download.pytorch.org/models/resnet18-5c106cde.pth\" to /Users/nimiwang/.cache/torch/checkpoints/resnet18-5c106cde.pth\n",
      "100%|██████████| 44.7M/44.7M [00:01<00:00, 40.5MB/s]\n"
     ]
    }
   ],
   "source": [
    "import torch\n",
    "import torchvision.models as models\n",
    "\n",
    "class Identity(torch.nn.Module):\n",
    "    def __init__(self):\n",
    "        super(Identity, self).__init__()\n",
    "        \n",
    "    def forward(self, x):\n",
    "        return x\n",
    "\n",
    "# init the pretrained feature extractor\n",
    "pretrained_resnet18 = models.resnet18(pretrained=True)\n",
    "\n",
    "# we don't want the built in last layer, we're going to modify it ourselves\n",
    "pretrained_resnet18.fc = Identity()"
   ]
  },
  {
   "cell_type": "markdown",
   "metadata": {
    "colab_type": "text",
    "id": "NyYzE2lyxMju"
   },
   "source": [
    "#### Freeze the model\n",
    "Here we freeze the weights of the model. Freezing means the gradients will not backpropagate\n",
    "into these weights.\n",
    "\n",
    "By doing this you can think about the model as a feature extractor. This feature extractor outputs\n",
    "a **representation** of an input. This representation is a matrix that encodes information about the input."
   ]
  },
  {
   "cell_type": "code",
   "execution_count": 2,
   "metadata": {
    "colab": {},
    "colab_type": "code",
    "id": "oabFpzuWxMju"
   },
   "outputs": [],
   "source": [
    "def freeze_model(model):\n",
    "    for param in model.parameters():\n",
    "        param.requires_grad = False\n",
    "        \n",
    "def unfreeze_model(model):\n",
    "    for param in model.parameters():\n",
    "        param.requires_grad = True\n",
    "        \n",
    "freeze_model(pretrained_resnet18)"
   ]
  },
  {
   "cell_type": "markdown",
   "metadata": {
    "colab_type": "text",
    "id": "JpMGmaEsxMjw"
   },
   "source": [
    "#### Init target dataset\n",
    "Here we define the dataset we are actually interested in."
   ]
  },
  {
   "cell_type": "code",
   "execution_count": 3,
   "metadata": {
    "colab": {},
    "colab_type": "code",
    "id": "NSaVnW7GwhLd"
   },
   "outputs": [],
   "source": [
    "import os\n",
    "from torchvision import transforms\n",
    "from torchvision.datasets import  MNIST\n",
    "from torch.utils.data import DataLoader, random_split\n",
    "import torch.nn.functional as F"
   ]
  },
  {
   "cell_type": "code",
   "execution_count": 4,
   "metadata": {
    "colab": {
     "base_uri": "https://localhost:8080/",
     "height": 275
    },
    "colab_type": "code",
    "id": "zaihqHuqxMjx",
    "outputId": "9a43dadf-3394-40d3-abba-269a1ca1aaa4"
   },
   "outputs": [
    {
     "name": "stderr",
     "output_type": "stream",
     "text": [
      "  0%|          | 40960/9912422 [00:00<00:24, 399863.82it/s]"
     ]
    },
    {
     "name": "stdout",
     "output_type": "stream",
     "text": [
      "Downloading http://yann.lecun.com/exdb/mnist/train-images-idx3-ubyte.gz to /Users/nimiwang/Desktop/1011 NLP/DS-GA_1011_NLP/HW3/MNIST/raw/train-images-idx3-ubyte.gz\n"
     ]
    },
    {
     "name": "stderr",
     "output_type": "stream",
     "text": [
      "9920512it [00:00, 11667526.53it/s]                            \n"
     ]
    },
    {
     "name": "stdout",
     "output_type": "stream",
     "text": [
      "Extracting /Users/nimiwang/Desktop/1011 NLP/DS-GA_1011_NLP/HW3/MNIST/raw/train-images-idx3-ubyte.gz to /Users/nimiwang/Desktop/1011 NLP/DS-GA_1011_NLP/HW3/MNIST/raw\n"
     ]
    },
    {
     "name": "stderr",
     "output_type": "stream",
     "text": [
      "32768it [00:00, 169949.64it/s]"
     ]
    },
    {
     "name": "stdout",
     "output_type": "stream",
     "text": [
      "Downloading http://yann.lecun.com/exdb/mnist/train-labels-idx1-ubyte.gz to /Users/nimiwang/Desktop/1011 NLP/DS-GA_1011_NLP/HW3/MNIST/raw/train-labels-idx1-ubyte.gz\n",
      "Extracting /Users/nimiwang/Desktop/1011 NLP/DS-GA_1011_NLP/HW3/MNIST/raw/train-labels-idx1-ubyte.gz to /Users/nimiwang/Desktop/1011 NLP/DS-GA_1011_NLP/HW3/MNIST/raw\n",
      "Downloading http://yann.lecun.com/exdb/mnist/t10k-images-idx3-ubyte.gz to /Users/nimiwang/Desktop/1011 NLP/DS-GA_1011_NLP/HW3/MNIST/raw/t10k-images-idx3-ubyte.gz\n"
     ]
    },
    {
     "name": "stderr",
     "output_type": "stream",
     "text": [
      "\n",
      "1654784it [00:00, 4965976.42it/s]                             \n",
      "8192it [00:00, 394115.05it/s]\n"
     ]
    },
    {
     "name": "stdout",
     "output_type": "stream",
     "text": [
      "Extracting /Users/nimiwang/Desktop/1011 NLP/DS-GA_1011_NLP/HW3/MNIST/raw/t10k-images-idx3-ubyte.gz to /Users/nimiwang/Desktop/1011 NLP/DS-GA_1011_NLP/HW3/MNIST/raw\n",
      "Downloading http://yann.lecun.com/exdb/mnist/t10k-labels-idx1-ubyte.gz to /Users/nimiwang/Desktop/1011 NLP/DS-GA_1011_NLP/HW3/MNIST/raw/t10k-labels-idx1-ubyte.gz\n",
      "Extracting /Users/nimiwang/Desktop/1011 NLP/DS-GA_1011_NLP/HW3/MNIST/raw/t10k-labels-idx1-ubyte.gz to /Users/nimiwang/Desktop/1011 NLP/DS-GA_1011_NLP/HW3/MNIST/raw\n",
      "Processing...\n",
      "Done!\n"
     ]
    }
   ],
   "source": [
    "#  train/val  split\n",
    "mnist_dataset = MNIST(os.getcwd(), train=True, download=True, transform = transforms.Compose([transforms.Grayscale(3),transforms.ToTensor()]))\n",
    "mnist_train, mnist_val = random_split(mnist_dataset, [55000, 5000])\n",
    "\n",
    "mnist_train = DataLoader(mnist_train, batch_size=32)\n",
    "mnist_val = DataLoader(mnist_val, batch_size=32)\n",
    "\n",
    "# test split\n",
    "mnist_test = DataLoader(MNIST(os.getcwd(), train=False, download=True, transform = transforms.Compose([transforms.Grayscale(3),transforms.ToTensor()])), batch_size=32)"
   ]
  },
  {
   "cell_type": "markdown",
   "metadata": {
    "colab_type": "text",
    "id": "5o29-IvnxMjz"
   },
   "source": [
    "### Part A (init fine-tune model)\n",
    "decide what model to use for fine-tuning"
   ]
  },
  {
   "cell_type": "code",
   "execution_count": 5,
   "metadata": {
    "colab": {},
    "colab_type": "code",
    "id": "2a1lyV69xMj0"
   },
   "outputs": [],
   "source": [
    "def init_fine_tune_model():\n",
    "  # we will use the structure from resnet18 as our fine_tune_model\n",
    "  feature_extractor = models.resnet18(pretrained=True)\n",
    "  num_ftrs = feature_extractor.fc.in_features\n",
    "  # freeze the model\n",
    "  freeze_model(feature_extractor)\n",
    "  fine_tune_model = feature_extractor\n",
    "  # add the last layer \n",
    "  fine_tune_model.fc = nn.Linear(num_ftrs,10)\n",
    "  fine_tune_model= fine_tune_model.to(current_device)\n",
    "  return fine_tune_model"
   ]
  },
  {
   "cell_type": "markdown",
   "metadata": {
    "colab_type": "text",
    "id": "z-v_ZxyLxMj2"
   },
   "source": [
    "### Part B (Fine-tune (Frozen))\n",
    "\n",
    "The actual problem we care about solving likely has a different number of classes or is a different task altogether. Fine-tuning is the process of using the extracted representations (features) to solve this downstream task  (the task you're interested in).\n",
    "\n",
    "To illustrate this, we'll use our pretrained model (on Imagenet), to solve the MNIST classification task.\n",
    "\n",
    "There are two types of finetuning. \n",
    "\n",
    "#### 1. Frozen feature_extractor\n",
    "In the first type we pretrain with the FROZEN feature_extractor and NEVER unfreeze it during finetuning.\n",
    "\n",
    "\n",
    "#### 2. Unfrozen feature_extractor\n",
    "In the second, we finetune with a FROZEN feature_extractor for a few epochs, then unfreeze the feature extractor and finish training.\n",
    "\n",
    "\n",
    "In this part we will use the first version"
   ]
  },
  {
   "cell_type": "code",
   "execution_count": 6,
   "metadata": {
    "colab": {},
    "colab_type": "code",
    "id": "wa1rKHP44SS6"
   },
   "outputs": [],
   "source": [
    "# defining what device to use\n",
    "num_gpus = torch.cuda.device_count()\n",
    "if num_gpus > 0:\n",
    "    current_device = 'cuda'\n",
    "else:\n",
    "    current_device = 'cpu'"
   ]
  },
  {
   "cell_type": "code",
   "execution_count": 7,
   "metadata": {
    "colab": {},
    "colab_type": "code",
    "id": "Z2yj-CACxMj2"
   },
   "outputs": [],
   "source": [
    "import torch.optim as optim\n",
    "import torch.nn as nn\n",
    "\n",
    "def FROZEN_fine_tune_mnist(feature_extractor, fine_tune_model, mnist_train, mnist_val,model_name,hyperparameters,save):\n",
    "\n",
    "  model =  fine_tune_model \n",
    "\n",
    "  # criterion\n",
    "  criterion = nn.CrossEntropyLoss()\n",
    "  # only update the parameters that are not frozen \n",
    "  model_params = [p for p in model.parameters() if p.requires_grad]\n",
    "  optimizer = optim.Adam(model_params, lr=hyperparameters['lr'], weight_decay=hyperparameters['weight_decay'])\n",
    "  num_epochs = hyperparameters['num_epochs']\n",
    "  PATH = model_name + '.pth'\n",
    "\n",
    "  for epoch in range(num_epochs):\n",
    "    avg_loss = 0\n",
    "    train_log_cache = []\n",
    "\n",
    "    # training phase\n",
    "    model.train()\n",
    "    for i,(inp,target) in enumerate(mnist_train):\n",
    "      optimizer.zero_grad()\n",
    "      inp = inp.to(current_device)\n",
    "      target = target.to(current_device)\n",
    "      logits = model(inp)\n",
    "      # compute loss \n",
    "      loss = criterion(logits.view(-1, logits.size(-1)), target.view(-1))\n",
    "      # back-propogation \n",
    "      loss.backward()\n",
    "      # gradient clipping \n",
    "      nn.utils.clip_grad_norm_(model.parameters(), max_norm=5)\n",
    "      optimizer.step()\n",
    "      train_log_cache.append(loss.item())\n",
    "\n",
    "      if i % 1000 == 0:\n",
    "        avg_train_loss = sum(train_log_cache)/len(train_log_cache)\n",
    "        print('Step {} avg train loss = {:.{prec}f}'.format(i, avg_train_loss, prec=4))\n",
    "        train_log_cache = []\n",
    "\n",
    "    # validation phase \n",
    "    valid_losses = []\n",
    "    model.eval()\n",
    "    with torch.no_grad():\n",
    "      for i,(inp,target) in enumerate(mnist_val):\n",
    "        #inp = inp.repeat(1,3,1,1)\n",
    "        inp = inp.to(current_device)\n",
    "        target = target.to(current_device)\n",
    "        logits = model(inp)\n",
    "        # compute loss \n",
    "        loss = criterion(logits.view(-1, logits.size(-1)), target.view(-1))\n",
    "        valid_losses.append(loss.item())\n",
    "    avg_val_loss = sum(valid_losses) / len(valid_losses)\n",
    "    print('Validation loss after {} epoch = {:.{prec}f}'.format(epoch+1, avg_val_loss, prec=4))\n",
    "\n",
    "  print('Finish training!')\n",
    "\n",
    "  if save:\n",
    "    torch.save(model,PATH)"
   ]
  },
  {
   "cell_type": "markdown",
   "metadata": {
    "colab_type": "text",
    "id": "XdH0qxP2xMj4"
   },
   "source": [
    "### Part C (compute test accuracy)\n",
    "Compute the test accuracy of fine-tuned model on MNIST"
   ]
  },
  {
   "cell_type": "code",
   "execution_count": 8,
   "metadata": {
    "colab": {},
    "colab_type": "code",
    "id": "UFoQE2w-xMj5"
   },
   "outputs": [],
   "source": [
    "  def calculate_mnist_test_accuracy(feature_extractor, fine_tune_model, mnist_test):\n",
    "    model = fine_tune_model\n",
    "    model.eval()\n",
    "    test_accuracy = []\n",
    "    batch_num = 0\n",
    "    with torch.no_grad():\n",
    "        for i, (inp, target) in enumerate(mnist_test):\n",
    "          batch_num += 1\n",
    "          inp = inp.to(current_device)\n",
    "          target = target.to(current_device)\n",
    "          logits = model(inp)\n",
    "          softmax_output = F.softmax(logits,dim = 1)\n",
    "          predictions = torch.argmax(softmax_output, dim=1)\n",
    "          for i in range(len(predictions)):\n",
    "            if predictions[i] == target[i]:\n",
    "              test_accuracy.append(1)\n",
    "            else:\n",
    "              test_accuracy.append(0)\n",
    "    \n",
    "    return(sum(test_accuracy) / len(test_accuracy))"
   ]
  },
  {
   "cell_type": "markdown",
   "metadata": {
    "colab_type": "text",
    "id": "eJsjm29OxMj7"
   },
   "source": [
    "### Grade!\n",
    "Let's see how you did"
   ]
  },
  {
   "cell_type": "code",
   "execution_count": 12,
   "metadata": {},
   "outputs": [],
   "source": [
    "def grade_mnist_frozen():\n",
    "\n",
    "    # init a ft model\n",
    "    fine_tune_model = init_fine_tune_model()\n",
    "    \n",
    "    # run the transfer learning routine\n",
    "    FROZEN_fine_tune_mnist(feature_extractor = pretrained_resnet18,\n",
    "                          fine_tune_model = fine_tune_model,\n",
    "                          mnist_train =  mnist_train,\n",
    "                          mnist_val = mnist_val,\n",
    "                          model_name = 'frozen_resnet18',\n",
    "                          hyperparameters = hyperparameters,\n",
    "                          save = True)\n",
    "    \n",
    "    # calculate test accuracy\n",
    "    PATH = 'frozen_resnet18.pth'\n",
    "    fine_tune_model = torch.load(PATH, map_location=current_device)\n",
    "    test_accuracy = calculate_mnist_test_accuracy(pretrained_resnet18, fine_tune_model, mnist_test)\n",
    "    \n",
    "    # the real threshold will be released by Oct 11 \n",
    "    assert test_accuracy > 0.0, 'your accuracy is too low...'\n",
    "    \n",
    "    return test_accuracy\n",
    "    \n",
    "hyperparameters= {\n",
    "    'lr': 0.001,\n",
    "    'num_epochs': 15,\n",
    "    'weight_decay': 0         \n",
    " }    \n",
    "frozen_test_accuracy = grade_mnist_frozen()"
   ]
  },
  {
   "cell_type": "markdown",
   "metadata": {
    "colab_type": "text",
    "id": "siCyxYeqxMj9"
   },
   "source": [
    "### Part D (Fine-tune Unfrozen)\n",
    "Now we'll learn how to train using the \"unfrozen\" approach.\n",
    "\n",
    "In this approach we'll:\n",
    "1. keep the feature_extract frozen for a few epochs (10)\n",
    "2. Unfreeze it.\n",
    "3. Finish training"
   ]
  },
  {
   "cell_type": "code",
   "execution_count": 13,
   "metadata": {
    "colab": {},
    "colab_type": "code",
    "id": "aqgn_zsQxMj-"
   },
   "outputs": [],
   "source": [
    "def UNFROZEN_fine_tune_mnist(feature_extractor, fine_tune_model, model_name, mnist_train, mnist_val, hyperparameters,save):\n",
    "  model = fine_tune_model\n",
    "  criterion = nn.CrossEntropyLoss()\n",
    "  # only update the parameters that are not frozen \n",
    "  model_params = [p for p in model.parameters() if p.requires_grad]\n",
    "  optimizer = optim.Adam(model_params, lr=hyperparameters['lr'], weight_decay=hyperparameters['weight_decay'])\n",
    "  num_epochs = hyperparameters['num_epochs']\n",
    "  PATH = model_name + '.pth'\n",
    "  \n",
    "  for epoch in range(num_epochs):\n",
    "    if epoch >10:\n",
    "      # unfreeze the model when more than 10 epochs\n",
    "      unfreeze_model(model)\n",
    "    avg_loss = 0\n",
    "    train_log_cache = []\n",
    "\n",
    "    # training phase\n",
    "    model.train()\n",
    "    for i,(inp,target) in enumerate(mnist_train):\n",
    "      optimizer.zero_grad()\n",
    "      #inp = inp.repeat(1,3,1,1)\n",
    "      inp = inp.to(current_device)\n",
    "      target = target.to(current_device)\n",
    "      logits = model(inp)\n",
    "      # compute loss \n",
    "      loss = criterion(logits.view(-1, logits.size(-1)), target.view(-1))\n",
    "      # back-propogation \n",
    "      loss.backward()\n",
    "      # gradient clipping \n",
    "      nn.utils.clip_grad_norm_(model.parameters(), max_norm=5)\n",
    "      optimizer.step()\n",
    "      train_log_cache.append(loss.item())\n",
    "\n",
    "      if i % 1000 == 0:\n",
    "        avg_train_loss = sum(train_log_cache)/len(train_log_cache)\n",
    "        print('Step {} avg train loss = {:.{prec}f}'.format(i, avg_train_loss, prec=4))\n",
    "        train_log_cache = []\n",
    "\n",
    "    # validation phase \n",
    "    valid_losses = []\n",
    "    model.eval()\n",
    "    with torch.no_grad():\n",
    "      for i,(inp,target) in enumerate(mnist_val):\n",
    "        #inp = inp.repeat(1,3,1,1)\n",
    "        inp = inp.to(current_device)\n",
    "        target = target.to(current_device)\n",
    "        logits = model(inp)\n",
    "        # compute loss \n",
    "        loss = criterion(logits.view(-1, logits.size(-1)), target.view(-1))\n",
    "        valid_losses.append(loss.item())\n",
    "    avg_val_loss = sum(valid_losses) / len(valid_losses)\n",
    "    print('Validation loss after {} epoch = {:.{prec}f}'.format(epoch+1, avg_val_loss, prec=4))\n",
    "\n",
    "  print('Finish training!')\n",
    "\n",
    "  if save:\n",
    "    torch.save(model,PATH)"
   ]
  },
  {
   "cell_type": "markdown",
   "metadata": {
    "colab_type": "text",
    "id": "ACt0a0rlxMkA"
   },
   "source": [
    "### Grade UNFROZEN\n",
    "Let's see if there's a difference in accuracy!"
   ]
  },
  {
   "cell_type": "code",
   "execution_count": 0,
   "metadata": {
    "colab": {},
    "colab_type": "code",
    "id": "GqpTkiDuxMkA"
   },
   "outputs": [],
   "source": [
    "def grade_mnist_unfrozen():\n",
    "  # init a ft model\n",
    "    fine_tune_model = init_fine_tune_model()\n",
    "    \n",
    "    # run the transfer learning routine\n",
    "    UNFROZEN_fine_tune_mnist(feature_extractor = pretrained_resnet18,\n",
    "                              fine_tune_model = fine_tune_model,\n",
    "                              mnist_train =  mnist_train,\n",
    "                              mnist_val = mnist_val,\n",
    "                              model_name = 'unfrozen_resnet18',\n",
    "                              hyperparameters = hyperparameters,\n",
    "                              save = True)\n",
    "    \n",
    "    # calculate test accuracy\n",
    "    PATH = 'unfrozen_resnet18.pth'\n",
    "    fine_tune_model = torch.load(PATH, map_location=current_device)\n",
    "    test_accuracy = calculate_mnist_test_accuracy(pretrained_resnet18, fine_tune_model, mnist_test)\n",
    "    \n",
    "    # the real threshold will be released by Oct 11 \n",
    "    assert test_accuracy > 0.0, 'your accuracy is too low...'\n",
    "    \n",
    "    return test_accuracy\n",
    "\n",
    "hyperparameters= {\n",
    "    'lr': 0.001,\n",
    "    'num_epochs': 15,\n",
    "    'weight_decay': 0         \n",
    " }\n",
    "    \n",
    "unfrozen_test_accuracy = grade_mnist_unfrozen()"
   ]
  },
  {
   "cell_type": "code",
   "execution_count": 0,
   "metadata": {
    "colab": {},
    "colab_type": "code",
    "id": "H-lZFCQaxMkH"
   },
   "outputs": [],
   "source": [
    "assert unfrozen_test_accuracy > frozen_test_accuracy, 'the unfrozen model should be better'"
   ]
  },
  {
   "cell_type": "markdown",
   "metadata": {
    "colab_type": "text",
    "id": "5DahrDqexMkI"
   },
   "source": [
    "--- \n",
    "# Question 2 (train a model on Wikitext-2)\n",
    "\n",
    "Here we'll apply what we just learned to NLP. In this section we'll make our own feature extractor and pretrain it on Wikitext-2.\n",
    "\n",
    "The WikiText language modeling dataset is a collection of over 100 million tokens extracted from the set of verified Good and Featured articles on Wikipedia. The dataset is available under the Creative Commons Attribution-ShareAlike License.\n",
    "\n",
    "#### Part A\n",
    "In this section you need to generate the training, validation and test split. Feel free to use code from your previous lectures."
   ]
  },
  {
   "cell_type": "markdown",
   "metadata": {
    "colab_type": "text",
    "id": "0HiIN3gUBjkT"
   },
   "source": [
    "### part A load text from torch db"
   ]
  },
  {
   "cell_type": "code",
   "execution_count": 5,
   "metadata": {
    "colab": {
     "base_uri": "https://localhost:8080/",
     "height": 102
    },
    "colab_type": "code",
    "id": "SvwGk6Urq3bW",
    "outputId": "c6ca3c67-4231-48fe-9e9d-3ba113334339"
   },
   "outputs": [
    {
     "name": "stdout",
     "output_type": "stream",
     "text": [
      "Collecting jsonlines\n",
      "  Downloading https://files.pythonhosted.org/packages/4f/9a/ab96291470e305504aa4b7a2e0ec132e930da89eb3ca7a82fbe03167c131/jsonlines-1.2.0-py2.py3-none-any.whl\n",
      "Requirement already satisfied: six in /usr/local/lib/python3.6/dist-packages (from jsonlines) (1.12.0)\n",
      "Installing collected packages: jsonlines\n",
      "Successfully installed jsonlines-1.2.0\n"
     ]
    }
   ],
   "source": [
    "import torch\n",
    "from torch.utils.data import Dataset\n",
    "from tqdm import tqdm\n",
    "import pickle\n",
    "import torch\n",
    "import torchvision.models as models\n",
    "import os\n",
    "from torchvision import transforms\n",
    "from torchvision.datasets import  MNIST\n",
    "from torch.utils.data import DataLoader, random_split\n",
    "import torch.nn.functional as F\n",
    "import os\n",
    "import json\n",
    "try:\n",
    "  import jsonlines\n",
    "except:\n",
    "  !pip install jsonlines\n",
    "import numpy as np\n",
    "from collections import defaultdict\n",
    "from torch import nn\n",
    "import numpy\n",
    "import torch\n",
    "import torch.nn as nn\n",
    "import torch.nn.functional as F\n",
    "import torch.optim as optim\n",
    "from torch.autograd import Variable as V"
   ]
  },
  {
   "cell_type": "code",
   "execution_count": 0,
   "metadata": {
    "colab": {},
    "colab_type": "code",
    "id": "uSwG36sSJZaA"
   },
   "outputs": [],
   "source": [
    "class LMDataset(Dataset):\n",
    "    def __init__(self, list_of_token_lists):\n",
    "        self.input_tensors = []\n",
    "        self.target_tensors = []\n",
    "\n",
    "        for sample in list_of_token_lists:\n",
    "            self.input_tensors.append(torch.tensor([sample[:-1]], dtype=torch.long))\n",
    "            self.target_tensors.append(torch.tensor([sample[1:]], dtype=torch.long))\n",
    "\n",
    "    def __len__(self):\n",
    "        return len(self.input_tensors)\n",
    "\n",
    "    def __getitem__(self, idx):\n",
    "        return (self.input_tensors[idx], self.target_tensors[idx])\n",
    "\n",
    "\n",
    "def tokenize_dataset(datasets, dictionary):\n",
    "    tokenized_datasets = {}\n",
    "    for split, dataset in datasets.items():\n",
    "        _current_dictified = []\n",
    "        for l in tqdm(dataset):\n",
    "            l = ['<bos>'] + l + ['<eos>']\n",
    "            encoded_l = dictionary.encode_token_seq(l)\n",
    "            _current_dictified.append(encoded_l)\n",
    "        tokenized_datasets[split] = _current_dictified\n",
    "    return tokenized_datasets\n",
    "\n",
    "def tokenize_mnli_dataset(datasets, dictionary):\n",
    "    tokenized_datasets = {}\n",
    "    for split, dataset in datasets.items():\n",
    "        _current_dictified = []\n",
    "        for s1, s2 in tqdm(dataset):\n",
    "            s1 = ['<bos>'] + s1 + ['<eos>']\n",
    "            s2 = ['<bos>'] + s2 + ['<eos>']\n",
    "            encoded_s1 = dictionary.encode_token_seq(s1)            \n",
    "            encoded_s2 = dictionary.encode_token_seq(s2)\n",
    "            _current_dictified.append([encoded_s1, encoded_s2])\n",
    "        tokenized_datasets[split] = _current_dictified\n",
    "    return tokenized_datasets\n",
    "\n",
    "def pad_list_of_tensors(list_of_tensors, pad_token):\n",
    "    max_length = max([t.size(-1) for t in list_of_tensors])\n",
    "    padded_list = []\n",
    "    for t in list_of_tensors:\n",
    "        padded_tensor = torch.cat(\n",
    "            [t, torch.tensor([[pad_token] * (max_length - t.size(-1))], dtype=torch.long)], dim=-1)\n",
    "        padded_list.append(padded_tensor)\n",
    "\n",
    "    padded_tensor = torch.cat(padded_list, dim=0)\n",
    "    return padded_tensor\n",
    "\n",
    "\n",
    "def pad_collate_fn(pad_idx, batch):\n",
    "    input_list = [s[0] for s in batch]\n",
    "    target_list = [s[1] for s in batch]\n",
    "    input_tensor = pad_list_of_tensors(input_list, pad_idx)\n",
    "    target_tensor = pad_list_of_tensors(target_list, pad_idx)\n",
    "    return input_tensor, target_tensor\n"
   ]
  },
  {
   "cell_type": "code",
   "execution_count": 0,
   "metadata": {
    "colab": {},
    "colab_type": "code",
    "id": "Fj0YfNIqJESO"
   },
   "outputs": [],
   "source": [
    "def load_wikitext(data_dir):\n",
    "    import subprocess\n",
    "    filename = os.path.join(data_dir, 'wikitext2-sentencized.json')\n",
    "    if not os.path.exists(filename):\n",
    "        os.makedirs(data_dir, exist_ok=True)\n",
    "        url = \"https://nyu.box.com/shared/static/9kb7l7ci30hb6uahhbssjlq0kctr5ii4.json\"\n",
    "        args = ['wget', '-O', filename, url]\n",
    "        subprocess.call(args)\n",
    "    raw_datasets = json.load(open(filename, 'r'))\n",
    "    for name in raw_datasets:\n",
    "        raw_datasets[name] = [x.split() for x in raw_datasets[name]]\n",
    "\n",
    "    if os.path.exists(os.path.join(data_dir, 'vocab.pkl')):\n",
    "        vocab = pickle.load(open(os.path.join(data_dir, 'vocab.pkl'), 'rb'))\n",
    "    else:\n",
    "        vocab = Dictionary(raw_datasets, include_valid=False)\n",
    "        pickle.dump(vocab, open(os.path.join(data_dir, 'vocab.pkl'), 'wb'))\n",
    "\n",
    "    tokenized_datasets = tokenize_dataset(raw_datasets, vocab)\n",
    "    datasets = {name: LMDataset(ds) for name, ds in tokenized_datasets.items()}\n",
    "    print(\"Vocab size: %d\" % (len(vocab)))\n",
    "    return raw_datasets, datasets, vocab\n",
    "\n",
    "\n",
    "class Dictionary(object):\n",
    "    def __init__(self, datasets, include_valid=False):\n",
    "        self.tokens = []\n",
    "        self.ids = {}\n",
    "        self.counts = {}\n",
    "        \n",
    "        # add special tokens\n",
    "        self.add_token('<bos>')\n",
    "        self.add_token('<eos>')\n",
    "        self.add_token('<pad>')\n",
    "        self.add_token('<unk>')\n",
    "        \n",
    "        for line in tqdm(datasets['train']):\n",
    "            for w in line:\n",
    "                self.add_token(w)\n",
    "                    \n",
    "        if include_valid is True:\n",
    "            for line in tqdm(datasets['valid']):\n",
    "                for w in line:\n",
    "                    self.add_token(w)\n",
    "                            \n",
    "    def add_token(self, w):\n",
    "        if w not in self.tokens:\n",
    "            self.tokens.append(w)\n",
    "            _w_id = len(self.tokens) - 1\n",
    "            self.ids[w] = _w_id\n",
    "            self.counts[w] = 1\n",
    "        else:\n",
    "            self.counts[w] += 1\n",
    "\n",
    "    def get_id(self, w):\n",
    "        return self.ids[w]\n",
    "    \n",
    "    def get_token(self, idx):\n",
    "        return self.tokens[idx]\n",
    "    \n",
    "    def decode_idx_seq(self, l):\n",
    "        return [self.tokens[i] for i in l]\n",
    "    \n",
    "    def encode_token_seq(self, l):\n",
    "        return [self.ids[i] if i in self.ids else self.ids['<unk>'] for i in l]\n",
    "    \n",
    "    def __len__(self):\n",
    "        return len(self.tokens)"
   ]
  },
  {
   "cell_type": "code",
   "execution_count": 0,
   "metadata": {
    "colab": {},
    "colab_type": "code",
    "id": "WWmdicdZU_oO"
   },
   "outputs": [],
   "source": [
    "raw_datasets, datasets, vocab = load_wikitext(os.getcwd())\n",
    "data_loaders = {name: DataLoader(datasets[name], batch_size=32, shuffle=True,\n",
    "                                        #collate_fn=lambda x: pad_collate_fn(vocab.get_id('<pad>'), x))\n",
    "                                        collate_fn=lambda x: pad_collate_fn(tokenizer.pad_token_id, x)) \n",
    "                        for name in datasets}"
   ]
  },
  {
   "cell_type": "code",
   "execution_count": 0,
   "metadata": {
    "colab": {},
    "colab_type": "code",
    "id": "uqTa_FAmA21n"
   },
   "outputs": [],
   "source": [
    "from torchtext.datasets import WikiText2\n",
    "\n",
    "def init_wikitext_dataset():\n",
    "    \"\"\"\n",
    "    Fill in the details\n",
    "    \"\"\"\n",
    "    \n",
    "    wikitext_val_loaders = data_loaders['valid'] # YOUR CODE HERE\n",
    "    wikitext_train_loaders = data_loaders['train'] # YOUR CODE HERE\n",
    "    wikitext_test_loaders = data_loaders['test'] # YOUR CODE HERE\n",
    "    \n",
    "    return wikitext_train_loaders, wikitext_val_loaders, wikitext_test_loaders\n",
    "\n",
    "wk2_train_loaders, wk2_val_loaders, wk2_test_loaders = init_wikitext_dataset()"
   ]
  },
  {
   "cell_type": "code",
   "execution_count": 0,
   "metadata": {
    "colab": {},
    "colab_type": "code",
    "id": "4x65-0fPJI80"
   },
   "outputs": [],
   "source": [
    "print('WIKITEXT 2 dataset statistics')\n",
    "print(f'training samples:{len(wk2_train_loaders)}')\n",
    "print(f'val samples:{len(wk2_val_loaders)}')\n",
    "print(f'test samples:{len(wk2_test_loaders)}')"
   ]
  },
  {
   "cell_type": "markdown",
   "metadata": {
    "colab_type": "text",
    "id": "bkQcBdLdxMkL"
   },
   "source": [
    "#### Part B   \n",
    "Here we design our own feature extractor. In MNIST that was a resnet because we were dealing with images. Now we need to pick a model that can model sequences better. Design an RNN-based model here."
   ]
  },
  {
   "cell_type": "code",
   "execution_count": 0,
   "metadata": {
    "colab": {},
    "colab_type": "code",
    "id": "69tCkvj9UPZR"
   },
   "outputs": [],
   "source": [
    "embed_dim = 64\n",
    "hidden_dim = 512\n",
    "num_layers = 3\n",
    "dropout = 0.1\n",
    "options = {\n",
    "    'vocab_size': len(vocab),\n",
    "    'embed_dim': embed_dim,\n",
    "    'padding_idx': vocab.get_id('<pad>'),\n",
    "    'hidden_dim': hidden_dim,\n",
    "    'num_layers': num_layers,\n",
    "    'dropout': dropout,\n",
    "    'batch_first': True,\n",
    "    'num_classes': len(vocab)\n",
    "}\n",
    "\n",
    "hyperparams = {\n",
    "    'optimizer': 'Adam',\n",
    "    'lr': 0.001,\n",
    "    'num_epochs': 5,\n",
    "    'weight_decay': 0\n",
    "}\n",
    "\n",
    "\n",
    "feature_extractor_name = \"feature_extractor\"\n",
    "PATH = feature_extractor_name + '.pth'"
   ]
  },
  {
   "cell_type": "code",
   "execution_count": 0,
   "metadata": {
    "colab": {},
    "colab_type": "code",
    "id": "aCZc2qhGNLpy"
   },
   "outputs": [],
   "source": [
    "class LstmLM(torch.nn.Module):\n",
    "    def __init__(self):\n",
    "        '''\n",
    "        params:\n",
    "            @options: dictionary of model parameters\n",
    "        '''\n",
    "        super(LstmLM, self).__init__()\n",
    "        self.hidden_dim = options['hidden_dim']\n",
    "        self.vocab_size = options['vocab_size']\n",
    "        self.padding_idx = options['padding_idx']\n",
    "        self.num_layers = options['num_layers']\n",
    "        self.batch_first = options['batch_first'] # boolean\n",
    "        self.embed_dim = options['embed_dim']\n",
    "        self.num_classes = options['num_classes'] # if during LM pretraining: = vocab_size\n",
    "        self.p = options['dropout']\n",
    "        \n",
    "        self.lookup = nn.Embedding(self.vocab_size, self.embed_dim, self.padding_idx)\n",
    "        self.lstm = nn.LSTM(self.embed_dim, self.hidden_dim, self.num_layers, batch_first=self.batch_first, dropout=self.p) # lstm takes word embeddings as inputs and outputs hidden states (dim=hidden_dinm)\n",
    "        # up until now, we can us as feature extractor. The last linear layer maps from hidden states to word space needs to be defined differently for different task.\n",
    "        self.projection = nn.Linear(self.hidden_dim, self.num_classes)\n",
    "    \n",
    "    def features(self, encoded_input_sequence):\n",
    "        x = self.lookup(encoded_input_sequence)\n",
    "        x, _ = self.lstm(x) # distributed representation\n",
    "        return x\n",
    "\n",
    "    def forward(self, encoded_input_sequence):\n",
    "        '''\n",
    "        Forwrad method process the input from token ids to logits\n",
    "        params:\n",
    "            @inp: input sentence\n",
    "        '''\n",
    "        x = self.features(encoded_input_sequence)\n",
    "        x = self.projection(x)\n",
    "        return x  #logits"
   ]
  },
  {
   "cell_type": "code",
   "execution_count": 0,
   "metadata": {
    "colab": {},
    "colab_type": "code",
    "id": "EWQu3moHxMkL"
   },
   "outputs": [],
   "source": [
    "def init_feature_extractor():\n",
    "  '''\n",
    "  @options: dictionary of model parameters\n",
    "  '''\n",
    "  #  YOUR CODE\n",
    "  feature_extractor = LstmLM()\n",
    "  feature_extractor = feature_extractor.to(current_device)\n",
    "  return feature_extractor"
   ]
  },
  {
   "cell_type": "markdown",
   "metadata": {
    "colab_type": "text",
    "id": "n-KLJsTWxMkN"
   },
   "source": [
    "#### Part C\n",
    "Pretrain the feature extractor"
   ]
  },
  {
   "cell_type": "code",
   "execution_count": 0,
   "metadata": {
    "colab": {},
    "colab_type": "code",
    "id": "NC7dImykQusV"
   },
   "outputs": [],
   "source": [
    "def perplexity(loss):\n",
    "  '''\n",
    "  function that computes perplexity\n",
    "  '''\n",
    "  return 2**(loss/np.log(2))"
   ]
  },
  {
   "cell_type": "code",
   "execution_count": 0,
   "metadata": {
    "colab": {},
    "colab_type": "code",
    "id": "ZsaRBPnoxMkO"
   },
   "outputs": [],
   "source": [
    "def fit_feature_extractor(feature_extractor, wikitext_train, wikitext_val):\n",
    "    '''\n",
    "    function to train feature extractor\n",
    "    params:\n",
    "      @feature_extractor: initialzied feature extractor object\n",
    "      @wikitext_train: train dataloader\n",
    "      @wikitext_val: validation dataloader\n",
    "    \n",
    "    '''\n",
    "    # FILL IN THE DETAILS\n",
    "    model = feature_extractor\n",
    "\n",
    "    print(\"Training {}:\".format(feature_extractor_name))\n",
    "    \n",
    "    # criterion:\n",
    "    criterion = nn.CrossEntropyLoss(ignore_index=vocab.get_id('<pad>'))\n",
    "    if os.path.exists(PATH): # load pre-trained\n",
    "        print(\"PATH exists!\")\n",
    "        model = torch.load(PATH)\n",
    "        # model.load_state_dict(checkpoint['model_state_dict'])\n",
    "        # optimizer.load_state_dict(checkpoint['optimizer_state_dict'])\n",
    "    \n",
    "    else:\n",
    "      # optimizer:\n",
    "      model_params = [p for p in model.parameters() if p.requires_grad]\n",
    "      if hyperparams['optimizer'] == 'SGD':\n",
    "          optimizer = optim.SGD(model_params, lr=hyperparams['lr'], momentum=hyperparams['momentum'])\n",
    "      elif hyperparams['optimizer'] == 'Adam':\n",
    "          optimizer = optim.Adam(model_params, lr=hyperparams['lr'], weight_decay=hyperparams['weight_decay'])\n",
    "\n",
    "    plot_cache = []\n",
    "    num_epochs = hyperparams['num_epochs']\n",
    "\n",
    "    for epoch in range(num_epochs):\n",
    "        avg_loss=0\n",
    "        # do train\n",
    "        model.train()\n",
    "        train_log_cache = []\n",
    "        for i, (inp, target) in enumerate(wikitext_train):\n",
    "            optimizer.zero_grad()\n",
    "            inp = inp.to(current_device)\n",
    "            target = target.to(current_device)\n",
    "            logits = model(inp)\n",
    "            # compute loss\n",
    "            loss = criterion(logits.view(-1, logits.size(-1)), target.view(-1))\n",
    "            # back-propogation\n",
    "            loss.backward()\n",
    "            # gradient clipping\n",
    "            nn.utils.clip_grad_norm_(model.parameters(), max_norm=5)\n",
    "            optimizer.step()\n",
    "            train_log_cache.append(loss.item()) # store training loss\n",
    "\n",
    "            if i % 1000 == 0:\n",
    "                avg_train_loss = sum(train_log_cache)/len(train_log_cache)\n",
    "                avg_train_perplexity = perplexity(avg_train_loss)\n",
    "                print('Step {} avg train loss = {:.{prec}f}'.format(i, avg_train_loss, prec=4))\n",
    "                print('Step {} avg train perplexity = {:.{prec}f}'.format(i, avg_train_perplexity, prec=4))\n",
    "                train_log_cache = []\n",
    "\n",
    "        #do validation\n",
    "        valid_losses = []\n",
    "        model.eval()\n",
    "        with torch.no_grad():\n",
    "            for i, (inp, target) in enumerate(wikitext_val):\n",
    "                # current_batch_size = len(inp)\n",
    "                inp = inp.to(current_device)\n",
    "                target = target.to(current_device)\n",
    "                device = torch.device(\"cuda\")\n",
    "                logits = model(inp)\n",
    "                # compute loss\n",
    "                loss = criterion(logits.view(-1, logits.size(-1)), target.view(-1))\n",
    "                valid_losses.append(loss.item()) # store validation loss\n",
    "            avg_val_loss = sum(valid_losses) / len(valid_losses)\n",
    "            avg_val_perplexity = perplexity(avg_val_loss)\n",
    "            print('Validation loss after {} epoch = {:.{prec}f}'.format(epoch, avg_val_loss, prec=4))\n",
    "            print('Validation perplexity after {} epoch = {:.{prec}f}'.format(epoch, avg_val_perplexity, prec=4))\n",
    "\n",
    "        plot_cache.append((avg_train_loss, avg_val_loss, avg_train_perplexity, avg_val_perplexity))\n",
    "    \n",
    "    torch.save(model, PATH) # save the entire model object\n",
    "\n",
    "    print('Finished training')\n",
    "    return plot_cache, model"
   ]
  },
  {
   "cell_type": "markdown",
   "metadata": {
    "colab_type": "text",
    "id": "_0-KFzl4xMkP"
   },
   "source": [
    "#### Part D\n",
    "Calculate the test perplexity on wikitext2. Feel free to recycle code from previous assignments from this class. "
   ]
  },
  {
   "cell_type": "code",
   "execution_count": 0,
   "metadata": {
    "colab": {},
    "colab_type": "code",
    "id": "l31mVZTGxMkQ"
   },
   "outputs": [],
   "source": [
    "def calculate_wiki2_test_perplexity(feature_extractor, wikitext_test):\n",
    "  model = torch.load('feature_extractor.pth')\n",
    "  model.eval()\n",
    "  criterion = nn.CrossEntropyLoss(ignore_index=vocab.get_id('<pad>'))\n",
    "  test_losses = []\n",
    "  test_perp = []\n",
    "  with torch.no_grad():\n",
    "    for i, (inp, target) in enumerate(wikitext_test):\n",
    "      inp = inp.to(current_device)\n",
    "      target = target.to(current_device)\n",
    "      logits = model(inp)\n",
    "      # compute loss\n",
    "      test_loss = criterion(logits.view(-1, logits.size(-1)), target.view(-1))\n",
    "      test_losses.append(test_loss.item())\n",
    "      print(test_loss)\n",
    "    avg_test_loss = sum(test_losses) / len(test_losses)\n",
    "    avg_test_perplexity = perplexity(avg_test_loss)\n",
    "    test_perp.append(avg_test_perplexity)\n",
    "  test_ppl = sum(test_perp)/len(test_perp) # average perplexity\n",
    "  print(\"average test perplexity: \", test_ppl)\n",
    "  return test_ppl"
   ]
  },
  {
   "cell_type": "markdown",
   "metadata": {
    "colab_type": "text",
    "id": "yhvOu-HYxMkS"
   },
   "source": [
    "#### Let's grade your results!\n",
    "(don't touch this part)"
   ]
  },
  {
   "cell_type": "code",
   "execution_count": 0,
   "metadata": {
    "colab": {},
    "colab_type": "code",
    "id": "_2rL-dBbxMkS"
   },
   "outputs": [],
   "source": [
    "def grade_wikitext2():\n",
    "    # load data\n",
    "    wikitext_train, wikitext_val, wikitext_test = init_wikitext_dataset()\n",
    "\n",
    "    # load feature extractor\n",
    "    feature_extractor = init_feature_extractor()\n",
    "\n",
    "    # pretrain using the feature extractor\n",
    "    fit_feature_extractor(feature_extractor, wikitext_train, wikitext_val)\n",
    "\n",
    "    # check test accuracy\n",
    "    test_ppl = calculate_wiki2_test_perplexity(feature_extractor, wikitext_test)\n",
    "\n",
    "    # the real threshold will be released by Oct 11 \n",
    "    assert test_ppl < 200, 'ummm... your perplexity is too high... ?should be less than 200'\n",
    "    \n",
    "grade_wikitext2()"
   ]
  },
  {
   "cell_type": "markdown",
   "metadata": {
    "colab_type": "text",
    "id": "LRX9Uml6xMkU"
   },
   "source": [
    "---   \n",
    "## Question 3 (fine-tune on MNLI)\n",
    "In this question you will use your feature_extractor from question 2\n",
    "to fine-tune on MNLI.\n",
    "\n",
    "(From the website):\n",
    "The Multi-Genre Natural Language Inference (MultiNLI) corpus is a crowd-sourced collection of 433k sentence pairs annotated with textual entailment information. The corpus is modeled on the SNLI corpus, but differs in that covers a range of genres of spoken and written text, and supports a distinctive cross-genre generalization evaluation. The corpus served as the basis for the shared task of the RepEval 2017 Workshop at EMNLP in Copenhagen.\n",
    "\n",
    "MNLI has 3 genres (3 classes).\n",
    "The goal of this question is to maximize the test accuracy in MNLI. "
   ]
  },
  {
   "cell_type": "markdown",
   "metadata": {
    "colab_type": "text",
    "id": "sjNGaEB3xMkV"
   },
   "source": [
    "### Part A\n",
    "In this section you need to generate the training, validation and test split. Feel free to use code from your previous lectures."
   ]
  },
  {
   "cell_type": "code",
   "execution_count": 0,
   "metadata": {
    "colab": {},
    "colab_type": "code",
    "id": "PaUEh6xjo6Zr"
   },
   "outputs": [],
   "source": [
    "y_label_map = {'contradiction':0,'neutral':1,'entailment':2}\n",
    "import pandas as pd\n",
    "import io\n",
    "from collections import Counter\n",
    "\n",
    "def get_string_tokenized_data(data):\n",
    "    \n",
    "    tokenized_data_x = [];\n",
    "    y_labels = []\n",
    "    all_tokens = [];\n",
    "    \n",
    "    for i,x in enumerate(data):\n",
    "        label = x[2]\n",
    "        if label == 'nan':\n",
    "            continue\n",
    "        \n",
    "        label = y_label_map[label]\n",
    "        y_labels.append(label)\n",
    "        \n",
    "        dp = [x[0].split(), x[1].split()]\n",
    "        tokenized_data_x.append(dp)\n",
    "        all_tokens += (dp[0] + dp[1])\n",
    "        \n",
    "\n",
    "    return all_tokens, tokenized_data_x, y_labels\n",
    "        \n",
    "\n",
    "\n",
    "# convert token to id in the dataset\n",
    "def token2index_dataset(tokens_data, token2id):\n",
    "    indices_data = []\n",
    "    for tokens1, tokens2 in tokens_data:\n",
    "        index_list1 = [token2id[token] if token in token2id else UNK_IDX for token in tokens1]\n",
    "        index_list2 = [token2id[token] if token in token2id else UNK_IDX for token in tokens2]\n",
    "        indices_data.append([index_list1, index_list2])\n",
    "    return indices_data\n",
    "  \n",
    "# convert token to id in the dataset\n",
    "def token2index_using_wikitext2_dict(tokens_data, vocab):\n",
    "    indices_data = []\n",
    "    for tokens1, tokens2 in tokens_data:\n",
    "        index_list1 = vocab.encode_token_seq(tokens1)\n",
    "        index_list2 = vocab.encode_token_seq(tokens2)\n",
    "        indices_data.append([index_list1, index_list2])\n",
    "    return indices_data\n",
    "\n",
    "\n",
    "def build_vocab(all_tokens):\n",
    "    # Returns:\n",
    "    # id2token: list of tokens, where id2token[i] returns token that corresponds to token i\n",
    "    # token2id: dictionary where keys represent tokens and corresponding values represent indices\n",
    "    token_counter = Counter(all_tokens)\n",
    "    vocab, count = zip(*token_counter.most_common(MAX_VOCAB_SIZE))\n",
    "    id2token = list(vocab)\n",
    "    token2id = dict(zip(vocab, range(2,2+len(vocab)))) \n",
    "    id2token = ['<pad>', '<unk>'] + id2token\n",
    "    token2id['<pad>'] = PAD_IDX \n",
    "    token2id['<unk>'] = UNK_IDX\n",
    "    return token2id, id2token"
   ]
  },
  {
   "cell_type": "code",
   "execution_count": 0,
   "metadata": {
    "colab": {},
    "colab_type": "code",
    "id": "BUEpMpIHpLPe"
   },
   "outputs": [],
   "source": [
    "val_df = pd.read_csv('mnli_val.tsv', sep=\"\\t\")\n",
    "print(val_df.head(2))\n",
    "\n",
    "val_df  = np.array(val_df)\n",
    "val_df = val_df.astype(str)\n",
    "val_genre_list = val_df[:, 3]"
   ]
  },
  {
   "cell_type": "code",
   "execution_count": 0,
   "metadata": {
    "colab": {},
    "colab_type": "code",
    "id": "01_3WxSDo6GN"
   },
   "outputs": [],
   "source": [
    "_, val_data_x, val_data_y = get_string_tokenized_data(val_df)\n",
    "del val_df"
   ]
  },
  {
   "cell_type": "code",
   "execution_count": 0,
   "metadata": {
    "colab": {},
    "colab_type": "code",
    "id": "ztiJPbC-pBN1"
   },
   "outputs": [],
   "source": [
    "train_df = pd.read_csv('mnli_train.tsv', sep=\"\\t\")\n",
    "\n",
    "train_df  = np.array(train_df)\n",
    "train_df = train_df.astype(str)\n",
    "train_genre_list = train_df[:, 3]"
   ]
  },
  {
   "cell_type": "code",
   "execution_count": 0,
   "metadata": {
    "colab": {},
    "colab_type": "code",
    "id": "CqMCDpLrpBF2"
   },
   "outputs": [],
   "source": [
    "_, train_data_x, train_data_y = get_string_tokenized_data(train_df)\n",
    "del train_df"
   ]
  },
  {
   "cell_type": "code",
   "execution_count": 0,
   "metadata": {
    "colab": {},
    "colab_type": "code",
    "id": "dym9KTJWriLy"
   },
   "outputs": [],
   "source": [
    "# token2id, id2token = build_vocab(all_fasttext_tokens)\n",
    "# train_data_indices = token2index_using_wikitext2_dict(train_data_x, vocab)\n",
    "# val_data_indices = token2index_using_wikitext2_dict(val_data_x, vocab)\n",
    "\n",
    "\n",
    "mnli_raw_datasets = {'train': train_data_x, 'val': val_data_x}\n",
    "mnli_tokenized_datasets = tokenize_mnli_dataset(mnli_raw_datasets, vocab)\n",
    "\n",
    "train_data_indices = mnli_tokenized_datasets['train']\n",
    "val_data_indices = mnli_tokenized_datasets['val']\n",
    "\n",
    "\n",
    "# double checking\n",
    "print('\\n')\n",
    "print (\"Train dataset size is {}\".format(len(train_data_indices)))\n",
    "print (\"Val dataset size is {}\".format(len(val_data_indices)))\n",
    "\n",
    "# del train_data_x\n",
    "# del train_data_y\n",
    "# del val_data_x\n",
    "# del val_data_y\n",
    "del mnli_tokenized_datasets"
   ]
  },
  {
   "cell_type": "code",
   "execution_count": 0,
   "metadata": {
    "colab": {},
    "colab_type": "code",
    "id": "KgWvjP4NriFZ"
   },
   "outputs": [],
   "source": [
    "unique_genre = list(set(val_genre_list));\n",
    "nb_classes = len(y_label_map)"
   ]
  },
  {
   "cell_type": "code",
   "execution_count": 0,
   "metadata": {
    "colab": {},
    "colab_type": "code",
    "id": "FPF_53wprnlD"
   },
   "outputs": [],
   "source": [
    "MAX_SENTENCE_LENGTH = 200\n",
    "class MNLIDataset(Dataset):\n",
    "    \"\"\"\n",
    "    Class that represents a train/validation/test dataset that's readable for PyTorch\n",
    "    Note that this class inherits torch.utils.data.Dataset\n",
    "    \"\"\"\n",
    "\n",
    "    def __init__(self, data_x, target_list):\n",
    "        \"\"\"\n",
    "        @param data_list: list of newsgroup tokens\n",
    "        @param target_list: list of newsgroup targets\n",
    "\n",
    "        \"\"\"\n",
    "        self.data_x = data_x;\n",
    "        self.target_list = target_list\n",
    "        \n",
    "        assert(len(data_x) == len(target_list))\n",
    "\n",
    "    def __len__(self):\n",
    "        return len(self.target_list)\n",
    "\n",
    "    def __getitem__(self, key):\n",
    "        \"\"\"\n",
    "        Triggered when you call dataset[i]\n",
    "        \"\"\"\n",
    "        prem_token_idx = self.data_x[key][0][:MAX_SENTENCE_LENGTH]\n",
    "        hyp_token_idx = self.data_x[key][1][:MAX_SENTENCE_LENGTH]\n",
    "        label = self.target_list[key]\n",
    "        return [prem_token_idx, hyp_token_idx, label]\n",
    "\n",
    "\n",
    "def encode_collate_func(batch):\n",
    "    \"\"\"\n",
    "    Customized function for DataLoader that dynamically pads the batch so that all\n",
    "    data have the same length\n",
    "    \"\"\"\n",
    "    prem_data_list = []\n",
    "    hyp_data_list = []\n",
    "    label_list = []\n",
    "    length_list = []\n",
    "    # print(\"collate batch: \", batch[0][0])\n",
    "    # batch[0][0] = batch[0][0][:MAX_SENTENCE_LENGTH]\n",
    "    for datum in batch:\n",
    "        label_list.append(datum[2])\n",
    "    # padding\n",
    "    for datum in batch:\n",
    "        prem_padded_vec = np.pad(np.array(datum[0]),\n",
    "                                 pad_width=((0, MAX_SENTENCE_LENGTH - len(datum[0]))),\n",
    "                                 mode=\"constant\", constant_values=0)\n",
    "        hyp_padded_vec = np.pad(np.array(datum[1]),\n",
    "                                pad_width=((0, MAX_SENTENCE_LENGTH - len(datum[1]))),\n",
    "                                mode=\"constant\", constant_values=0)\n",
    "        prem_data_list.append(prem_padded_vec)\n",
    "        hyp_data_list.append(hyp_padded_vec)\n",
    "    return [torch.from_numpy((np.array(prem_data_list))), torch.from_numpy(np.array(hyp_data_list)),\n",
    "            torch.LongTensor(label_list)]"
   ]
  },
  {
   "cell_type": "code",
   "execution_count": 0,
   "metadata": {
    "colab": {},
    "colab_type": "code",
    "id": "v-BjhmA_pA8d"
   },
   "outputs": [],
   "source": [
    "BATCH_SIZE = 32\n",
    "nb_train_samples = int(0.95 * len(train_data_indices))\n",
    "nb_val_samples = len(train_data_indices) - nb_train_samples\n",
    "\n",
    "# train/val split\n",
    "train_val_dataset = MNLIDataset(train_data_indices, train_data_y)\n",
    "train_dataset, val_dataset = random_split(train_val_dataset, [nb_train_samples, nb_val_samples])\n",
    "\n",
    "# train loader\n",
    "train_mnli_loader = torch.utils.data.DataLoader(dataset=train_dataset,\n",
    "                                           batch_size=BATCH_SIZE,\n",
    "                                           collate_fn=encode_collate_func,\n",
    "                                           shuffle=True)\n",
    "\n",
    "# val loader\n",
    "val_mnli_loader = torch.utils.data.DataLoader(dataset=val_dataset,\n",
    "                                           batch_size=BATCH_SIZE,\n",
    "                                           collate_fn=encode_collate_func,\n",
    "                                           shuffle=True)\n",
    "\n",
    "# test loader\n",
    "test_dataset = MNLIDataset(val_data_indices, val_data_y)\n",
    "test_mnli_loader = torch.utils.data.DataLoader(dataset=test_dataset,\n",
    "                                           batch_size=BATCH_SIZE,\n",
    "                                           collate_fn=encode_collate_func,\n",
    "                                           shuffle=True)"
   ]
  },
  {
   "cell_type": "code",
   "execution_count": 0,
   "metadata": {
    "colab": {},
    "colab_type": "code",
    "id": "27nEiID0rp0y"
   },
   "outputs": [],
   "source": [
    "print('MNLI dataset statistics')\n",
    "print(f'training samples:{len(train_mnli_loader)}')\n",
    "print(f'val samples:{len(val_mnli_loader)}')\n",
    "print(f'test samples:{len(test_mnli_loader)}')"
   ]
  },
  {
   "cell_type": "code",
   "execution_count": 0,
   "metadata": {
    "colab": {},
    "colab_type": "code",
    "id": "U9u0Ok3oxMkW"
   },
   "outputs": [],
   "source": [
    "from torchtext.datasets import MultiNLI\n",
    "\n",
    "def init_mnli_dataset():\n",
    "    \"\"\"\n",
    "    Fill in the details\n",
    "    \"\"\"\n",
    "    mnli_val = None # TODO\n",
    "    mnli_train = None # TODO\n",
    "    mnli_test = None # TODO\n",
    "    \n",
    "    return mnli_train, mnli_val, mnli_test"
   ]
  },
  {
   "cell_type": "markdown",
   "metadata": {
    "colab_type": "text",
    "id": "SixdXtasxMkZ"
   },
   "source": [
    "### Part B\n",
    "Here we again design a model for finetuning. Use the output of your feature-extractor as the input to this model. This should be a powerful classifier (up to you)."
   ]
  },
  {
   "cell_type": "code",
   "execution_count": 0,
   "metadata": {
    "colab": {},
    "colab_type": "code",
    "id": "ANIdtWJFxMkZ"
   },
   "outputs": [],
   "source": [
    "def init_finetune_model():\n",
    "    # TODO FILL IN THE DETAILS\n",
    "    feature_extractor = torch.load(PATH) # PATH needs to be self-defined\n",
    "    # freeze the model\n",
    "    freeze_model(feature_extractor)\n",
    "    fine_tune_model = feature_extractor\n",
    "    # add the last layer\n",
    "    fine_tune_model.W = nn.Linear(feature_extractor.hidden_dim, mnli_num_classes)\n",
    "    return fine_tune_model"
   ]
  },
  {
   "cell_type": "markdown",
   "metadata": {
    "colab_type": "text",
    "id": "QmmgMA5SxMkb"
   },
   "source": [
    "### Part C\n",
    "Use the feature_extractor and your fine_tune_model to fine_tune MNLI"
   ]
  },
  {
   "cell_type": "code",
   "execution_count": 0,
   "metadata": {
    "colab": {},
    "colab_type": "code",
    "id": "V3NvMS0kx0nu"
   },
   "outputs": [],
   "source": [
    "# target classes: {0,1,2}\n",
    "mnli_num_classes = 3"
   ]
  },
  {
   "cell_type": "markdown",
   "metadata": {
    "colab_type": "text",
    "id": "2ew9krtMxMkd"
   },
   "source": [
    "### Part D\n",
    "Evaluate the test accuracy"
   ]
  },
  {
   "cell_type": "code",
   "execution_count": 0,
   "metadata": {
    "colab": {},
    "colab_type": "code",
    "id": "yD-xPoU8xMke"
   },
   "outputs": [],
   "source": [
    "def calculate_mnli_test_accuracy(feature_extractor, fine_tune_model, mnli_test):\n",
    "    \n",
    "    # YOUR CODE HERE...\n",
    "    \n",
    "    return test_ppl"
   ]
  },
  {
   "cell_type": "markdown",
   "metadata": {
    "colab_type": "text",
    "id": "ZYL8IV9qxMkg"
   },
   "source": [
    "### Let's grade your results"
   ]
  },
  {
   "cell_type": "code",
   "execution_count": 0,
   "metadata": {
    "colab": {},
    "colab_type": "code",
    "id": "i9a8fBRbxMkg"
   },
   "outputs": [],
   "source": [
    "def grade_mnli():\n",
    "    # load data\n",
    "    mnli_train, mnli_val, mnli_test = init_mnli_dataset()\n",
    "\n",
    "    # no need to load feature extractor because it is fine-tuned\n",
    "    feature_extractor = feature_extractor\n",
    "\n",
    "    # init the fine_tune model\n",
    "    fine_tune_model = init_finetune_model()\n",
    "    \n",
    "    # finetune\n",
    "    fine_tune_mnli(feature_extractor, fine_tune_model, mnli_train, mnli_val)\n",
    "\n",
    "    # check test accuracy\n",
    "    test_accuracy = calculate_mnli_test_accuracy(feature_extractor, wikitext_test)\n",
    "\n",
    "    # the real threshold will be released by Oct 11 \n",
    "    assert test_ppl > 0.00, 'ummm... your accuracy is too low...'\n",
    "    \n",
    "grade_mnli()"
   ]
  },
  {
   "cell_type": "markdown",
   "metadata": {
    "colab_type": "text",
    "id": "eHQkMhCzxMkh"
   },
   "source": [
    "---  \n",
    "## Question 4 (BERT)\n",
    "\n",
    "A major direction in research came from a model called BERT, released last year.  \n",
    "\n",
    "In this question you'll use BERT as your feature_extractor instead of the model you\n",
    "designed yourself.\n",
    "\n",
    "To get BERT, head on over to (https://github.com/huggingface/transformers) and load your BERT model here"
   ]
  },
  {
   "cell_type": "code",
   "execution_count": 0,
   "metadata": {
    "colab": {},
    "colab_type": "code",
    "id": "SRx8GkC8xMkc"
   },
   "outputs": [],
   "source": [
    "mnli_num_classes = 3"
   ]
  },
  {
   "cell_type": "code",
   "execution_count": 7,
   "metadata": {
    "colab": {
     "base_uri": "https://localhost:8080/",
     "height": 683
    },
    "colab_type": "code",
    "id": "oCPxU-vDxMki",
    "outputId": "8ff15eff-b492-4566-d51f-449e34f44ad4"
   },
   "outputs": [
    {
     "name": "stdout",
     "output_type": "stream",
     "text": [
      "Collecting transformers\n",
      "\u001b[?25l  Downloading https://files.pythonhosted.org/packages/fd/f9/51824e40f0a23a49eab4fcaa45c1c797cbf9761adedd0b558dab7c958b34/transformers-2.1.1-py3-none-any.whl (311kB)\n",
      "\u001b[K     |████████████████████████████████| 317kB 3.5MB/s \n",
      "\u001b[?25hCollecting regex\n",
      "\u001b[?25l  Downloading https://files.pythonhosted.org/packages/6f/a6/99eeb5904ab763db87af4bd71d9b1dfdd9792681240657a4c0a599c10a81/regex-2019.08.19.tar.gz (654kB)\n",
      "\u001b[K     |████████████████████████████████| 655kB 50.9MB/s \n",
      "\u001b[?25hCollecting sentencepiece\n",
      "\u001b[?25l  Downloading https://files.pythonhosted.org/packages/14/3d/efb655a670b98f62ec32d66954e1109f403db4d937c50d779a75b9763a29/sentencepiece-0.1.83-cp36-cp36m-manylinux1_x86_64.whl (1.0MB)\n",
      "\u001b[K     |████████████████████████████████| 1.0MB 36.4MB/s \n",
      "\u001b[?25hRequirement already satisfied: tqdm in /usr/local/lib/python3.6/dist-packages (from transformers) (4.28.1)\n",
      "Requirement already satisfied: boto3 in /usr/local/lib/python3.6/dist-packages (from transformers) (1.10.2)\n",
      "Collecting sacremoses\n",
      "\u001b[?25l  Downloading https://files.pythonhosted.org/packages/1f/8e/ed5364a06a9ba720fddd9820155cc57300d28f5f43a6fd7b7e817177e642/sacremoses-0.0.35.tar.gz (859kB)\n",
      "\u001b[K     |████████████████████████████████| 860kB 41.2MB/s \n",
      "\u001b[?25hRequirement already satisfied: requests in /usr/local/lib/python3.6/dist-packages (from transformers) (2.21.0)\n",
      "Requirement already satisfied: numpy in /usr/local/lib/python3.6/dist-packages (from transformers) (1.17.3)\n",
      "Requirement already satisfied: jmespath<1.0.0,>=0.7.1 in /usr/local/lib/python3.6/dist-packages (from boto3->transformers) (0.9.4)\n",
      "Requirement already satisfied: botocore<1.14.0,>=1.13.2 in /usr/local/lib/python3.6/dist-packages (from boto3->transformers) (1.13.2)\n",
      "Requirement already satisfied: s3transfer<0.3.0,>=0.2.0 in /usr/local/lib/python3.6/dist-packages (from boto3->transformers) (0.2.1)\n",
      "Requirement already satisfied: six in /usr/local/lib/python3.6/dist-packages (from sacremoses->transformers) (1.12.0)\n",
      "Requirement already satisfied: click in /usr/local/lib/python3.6/dist-packages (from sacremoses->transformers) (7.0)\n",
      "Requirement already satisfied: joblib in /usr/local/lib/python3.6/dist-packages (from sacremoses->transformers) (0.14.0)\n",
      "Requirement already satisfied: urllib3<1.25,>=1.21.1 in /usr/local/lib/python3.6/dist-packages (from requests->transformers) (1.24.3)\n",
      "Requirement already satisfied: chardet<3.1.0,>=3.0.2 in /usr/local/lib/python3.6/dist-packages (from requests->transformers) (3.0.4)\n",
      "Requirement already satisfied: idna<2.9,>=2.5 in /usr/local/lib/python3.6/dist-packages (from requests->transformers) (2.8)\n",
      "Requirement already satisfied: certifi>=2017.4.17 in /usr/local/lib/python3.6/dist-packages (from requests->transformers) (2019.9.11)\n",
      "Requirement already satisfied: docutils<0.16,>=0.10 in /usr/local/lib/python3.6/dist-packages (from botocore<1.14.0,>=1.13.2->boto3->transformers) (0.15.2)\n",
      "Requirement already satisfied: python-dateutil<3.0.0,>=2.1; python_version >= \"2.7\" in /usr/local/lib/python3.6/dist-packages (from botocore<1.14.0,>=1.13.2->boto3->transformers) (2.6.1)\n",
      "Building wheels for collected packages: regex, sacremoses\n",
      "  Building wheel for regex (setup.py) ... \u001b[?25l\u001b[?25hdone\n",
      "  Created wheel for regex: filename=regex-2019.8.19-cp36-cp36m-linux_x86_64.whl size=609233 sha256=a3aca4cc84d3808ce7d4896d6b3bfa492df499aca85b688dbdd17835b88d7fb3\n",
      "  Stored in directory: /root/.cache/pip/wheels/90/04/07/b5010fb816721eb3d6dd64ed5cc8111ca23f97fdab8619b5be\n",
      "  Building wheel for sacremoses (setup.py) ... \u001b[?25l\u001b[?25hdone\n",
      "  Created wheel for sacremoses: filename=sacremoses-0.0.35-cp36-none-any.whl size=883999 sha256=8572495d253a04a1eabf15e87a542ff20fc7229e5be2db6798393022a5a264b1\n",
      "  Stored in directory: /root/.cache/pip/wheels/63/2a/db/63e2909042c634ef551d0d9ac825b2b0b32dede4a6d87ddc94\n",
      "Successfully built regex sacremoses\n",
      "Installing collected packages: regex, sentencepiece, sacremoses, transformers\n",
      "Successfully installed regex-2019.8.19 sacremoses-0.0.35 sentencepiece-0.1.83 transformers-2.1.1\n"
     ]
    }
   ],
   "source": [
    "\n",
    "!pip install transformers"
   ]
  },
  {
   "cell_type": "code",
   "execution_count": 8,
   "metadata": {
    "colab": {
     "base_uri": "https://localhost:8080/",
     "height": 63
    },
    "colab_type": "code",
    "id": "KkUvG-oOtU76",
    "outputId": "a01aec62-7b23-4f24-d204-5ac8a52876fb"
   },
   "outputs": [
    {
     "data": {
      "text/html": [
       "<p style=\"color: red;\">\n",
       "The default version of TensorFlow in Colab will soon switch to TensorFlow 2.x.<br>\n",
       "We recommend you <a href=\"https://www.tensorflow.org/guide/migrate\" target=\"_blank\">upgrade</a> now \n",
       "or ensure your notebook will continue to use TensorFlow 1.x via the <code>%tensorflow_version 1.x</code> magic:\n",
       "<a href=\"https://colab.research.google.com/notebooks/tensorflow_version.ipynb\" target=\"_blank\">more info</a>.</p>\n"
      ],
      "text/plain": [
       "<IPython.core.display.HTML object>"
      ]
     },
     "metadata": {
      "tags": []
     },
     "output_type": "display_data"
    }
   ],
   "source": [
    "from transformers.data.processors.glue import MnliProcessor"
   ]
  },
  {
   "cell_type": "code",
   "execution_count": 9,
   "metadata": {
    "colab": {
     "base_uri": "https://localhost:8080/",
     "height": 68
    },
    "colab_type": "code",
    "id": "5UvShWWRuMF8",
    "outputId": "6f300b68-b34a-48a2-e3bc-8c069c7fd0d7"
   },
   "outputs": [
    {
     "name": "stderr",
     "output_type": "stream",
     "text": [
      "100%|██████████| 213450/213450 [00:00<00:00, 935970.17B/s]\n",
      "100%|██████████| 313/313 [00:00<00:00, 70039.33B/s]\n",
      "100%|██████████| 435779157/435779157 [00:08<00:00, 53024710.97B/s]\n"
     ]
    }
   ],
   "source": [
    "from transformers.data.processors.glue import MnliProcessor\n",
    "import torch\n",
    "import pandas as pd\n",
    "import os\n",
    "import sys\n",
    "import shutil\n",
    "import argparse\n",
    "import tempfile\n",
    "import urllib.request\n",
    "import zipfile\n",
    "from transformers import glue_convert_examples_to_features as convert_examples_to_features\n",
    "from transformers import BertTokenizer\n",
    "from torch.utils.data import TensorDataset, RandomSampler, DataLoader\n",
    "\n",
    "\n",
    "from transformers import (\n",
    "    BertModel,\n",
    "    \n",
    "    BertTokenizer\n",
    ")\n",
    "\n",
    "tokenizer = BertTokenizer.from_pretrained('bert-base-cased')\n",
    "bert = BertModel.from_pretrained('bert-base-cased', output_attentions=True)"
   ]
  },
  {
   "cell_type": "code",
   "execution_count": 0,
   "metadata": {
    "colab": {},
    "colab_type": "code",
    "id": "13QPqJH7uL9E"
   },
   "outputs": [],
   "source": [
    "TASKS = [\"CoLA\", \"SST\", \"MRPC\", \"QQP\", \"STS\", \"MNLI\", \"SNLI\", \"QNLI\", \"RTE\", \"WNLI\", \"diagnostic\"]\n",
    "TASK2PATH = {\n",
    "    \"CoLA\": \"https://firebasestorage.googleapis.com/v0/b/mtl-sentence-representations.appspot.com/o/data%2FCoLA.zip?alt=media&token=46d5e637-3411-4188-bc44-5809b5bfb5f4\",  # noqa\n",
    "    \"SST\": \"https://firebasestorage.googleapis.com/v0/b/mtl-sentence-representations.appspot.com/o/data%2FSST-2.zip?alt=media&token=aabc5f6b-e466-44a2-b9b4-cf6337f84ac8\",  # noqa\n",
    "    \"MRPC\": \"https://firebasestorage.googleapis.com/v0/b/mtl-sentence-representations.appspot.com/o/data%2Fmrpc_dev_ids.tsv?alt=media&token=ec5c0836-31d5-48f4-b431-7480817f1adc\",  # noqa\n",
    "    \"QQP\": \"https://firebasestorage.googleapis.com/v0/b/mtl-sentence-representations.appspot.com/o/data%2FQQP-clean.zip?alt=media&token=11a647cb-ecd3-49c9-9d31-79f8ca8fe277\",  # noqa\n",
    "    \"STS\": \"https://firebasestorage.googleapis.com/v0/b/mtl-sentence-representations.appspot.com/o/data%2FSTS-B.zip?alt=media&token=bddb94a7-8706-4e0d-a694-1109e12273b5\",  # noqa\n",
    "    \"MNLI\": \"https://firebasestorage.googleapis.com/v0/b/mtl-sentence-representations.appspot.com/o/data%2FMNLI.zip?alt=media&token=50329ea1-e339-40e2-809c-10c40afff3ce\",  # noqa\n",
    "    \"SNLI\": \"https://firebasestorage.googleapis.com/v0/b/mtl-sentence-representations.appspot.com/o/data%2FSNLI.zip?alt=media&token=4afcfbb2-ff0c-4b2d-a09a-dbf07926f4df\",  # noqa\n",
    "    \"QNLI\": \"https://firebasestorage.googleapis.com/v0/b/mtl-sentence-representations.appspot.com/o/data%2FQNLIv2.zip?alt=media&token=6fdcf570-0fc5-4631-8456-9505272d1601\",  # noqa\n",
    "    \"RTE\": \"https://firebasestorage.googleapis.com/v0/b/mtl-sentence-representations.appspot.com/o/data%2FRTE.zip?alt=media&token=5efa7e85-a0bb-4f19-8ea2-9e1840f077fb\",  # noqa\n",
    "    \"WNLI\": \"https://firebasestorage.googleapis.com/v0/b/mtl-sentence-representations.appspot.com/o/data%2FWNLI.zip?alt=media&token=068ad0a0-ded7-4bd7-99a5-5e00222e0faf\",  # noqa\n",
    "    \"diagnostic\": [\n",
    "        \"https://storage.googleapis.com/mtl-sentence-representations.appspot.com/tsvsWithoutLabels%2FAX.tsv?GoogleAccessId=firebase-adminsdk-0khhl@mtl-sentence-representations.iam.gserviceaccount.com&Expires=2498860800&Signature=DuQ2CSPt2Yfre0C%2BiISrVYrIFaZH1Lc7hBVZDD4ZyR7fZYOMNOUGpi8QxBmTNOrNPjR3z1cggo7WXFfrgECP6FBJSsURv8Ybrue8Ypt%2FTPxbuJ0Xc2FhDi%2BarnecCBFO77RSbfuz%2Bs95hRrYhTnByqu3U%2FYZPaj3tZt5QdfpH2IUROY8LiBXoXS46LE%2FgOQc%2FKN%2BA9SoscRDYsnxHfG0IjXGwHN%2Bf88q6hOmAxeNPx6moDulUF6XMUAaXCSFU%2BnRO2RDL9CapWxj%2BDl7syNyHhB7987hZ80B%2FwFkQ3MEs8auvt5XW1%2Bd4aCU7ytgM69r8JDCwibfhZxpaa4gd50QXQ%3D%3D\",  # noqa\n",
    "        \"https://www.dropbox.com/s/ju7d95ifb072q9f/diagnostic-full.tsv?dl=1\",\n",
    "    ],\n",
    "}\n",
    "\n",
    "MRPC_TRAIN = \"https://dl.fbaipublicfiles.com/senteval/senteval_data/msr_paraphrase_train.txt\"\n",
    "MRPC_TEST = \"https://dl.fbaipublicfiles.com/senteval/senteval_data/msr_paraphrase_test.txt\"\n",
    "\n",
    "\n",
    "def download_and_extract(task, data_dir):\n",
    "    print(\"Downloading and extracting %s...\" % task)\n",
    "    data_file = \"%s.zip\" % task\n",
    "    urllib.request.urlretrieve(TASK2PATH[task], data_file)\n",
    "    with zipfile.ZipFile(data_file) as zip_ref:\n",
    "        zip_ref.extractall(data_dir)\n",
    "    os.remove(data_file)\n",
    "    print(\"\\tCompleted!\")\n"
   ]
  },
  {
   "cell_type": "code",
   "execution_count": 11,
   "metadata": {
    "colab": {
     "base_uri": "https://localhost:8080/",
     "height": 51
    },
    "colab_type": "code",
    "id": "BwDkmXiMuL2M",
    "outputId": "1ef224b4-6475-44d6-8de9-1877e5e4403e"
   },
   "outputs": [
    {
     "name": "stdout",
     "output_type": "stream",
     "text": [
      "Downloading and extracting MNLI...\n",
      "\tCompleted!\n"
     ]
    }
   ],
   "source": [
    "download_and_extract('MNLI', '.')"
   ]
  },
  {
   "cell_type": "code",
   "execution_count": 0,
   "metadata": {
    "colab": {},
    "colab_type": "code",
    "id": "CtdJiFvwuLxH"
   },
   "outputs": [],
   "source": [
    "processor = MnliProcessor()"
   ]
  },
  {
   "cell_type": "code",
   "execution_count": 0,
   "metadata": {
    "colab": {},
    "colab_type": "code",
    "id": "__Ny0tcKuLnq"
   },
   "outputs": [],
   "source": [
    "def generate_mnli_bert_dataloaders():\n",
    "  # ----------------------\n",
    "  # TRAIN/VAL DATALOADERS\n",
    "  # ----------------------\n",
    "  train = processor.get_train_examples('MNLI')\n",
    "  features = convert_examples_to_features(train,\n",
    "                                          tokenizer,\n",
    "                                          label_list=['contradiction','neutral','entailment'],\n",
    "                                          max_length=128,\n",
    "                                          output_mode='classification',\n",
    "                                          pad_on_left=False,\n",
    "                                          pad_token=tokenizer.pad_token_id,\n",
    "                                          pad_token_segment_id=0)\n",
    "  train_dataset = TensorDataset(torch.tensor([f.input_ids for f in features], dtype=torch.long), \n",
    "                                torch.tensor([f.attention_mask for f in features], dtype=torch.long), \n",
    "                                torch.tensor([f.token_type_ids for f in features], dtype=torch.long), \n",
    "                                torch.tensor([f.label for f in features], dtype=torch.long))\n",
    "\n",
    "  nb_train_samples = int(0.95 * len(train_dataset))\n",
    "  nb_val_samples = len(train_dataset) - nb_train_samples\n",
    "\n",
    "  bert_mnli_train_dataset, bert_mnli_val_dataset = random_split(train_dataset, [nb_train_samples, nb_val_samples])\n",
    "\n",
    "  # train loader\n",
    "  train_sampler = RandomSampler(bert_mnli_train_dataset)\n",
    "  bert_mnli_train_dataloader = DataLoader(bert_mnli_train_dataset, sampler=train_sampler, batch_size=32)\n",
    "\n",
    "  # val loader\n",
    "  val_sampler = RandomSampler(bert_mnli_val_dataset)\n",
    "  bert_mnli_val_dataloader = DataLoader(bert_mnli_val_dataset, sampler=val_sampler, batch_size=32)\n",
    "\n",
    "\n",
    "  # ----------------------\n",
    "  # TEST DATALOADERS\n",
    "  # ----------------------\n",
    "  dev = processor.get_dev_examples('MNLI')\n",
    "  features = convert_examples_to_features(dev,\n",
    "                                          tokenizer,\n",
    "                                          label_list=['contradiction','neutral','entailment'],\n",
    "                                          max_length=128,\n",
    "                                          output_mode='classification',\n",
    "                                          pad_on_left=False,\n",
    "                                          pad_token=tokenizer.pad_token_id,\n",
    "                                          pad_token_segment_id=0)\n",
    "\n",
    "  bert_mnli_test_dataset = TensorDataset(torch.tensor([f.input_ids for f in features], dtype=torch.long), \n",
    "                                torch.tensor([f.attention_mask for f in features], dtype=torch.long), \n",
    "                                torch.tensor([f.token_type_ids for f in features], dtype=torch.long), \n",
    "                                torch.tensor([f.label for f in features], dtype=torch.long))\n",
    "\n",
    "  # test dataset\n",
    "  test_sampler = RandomSampler(bert_mnli_test_dataset)\n",
    "  bert_mnli_test_dataloader = DataLoader(bert_mnli_test_dataset, sampler=test_sampler, batch_size=32)\n",
    "  \n",
    "  return bert_mnli_train_dataloader, bert_mnli_val_dataloader, bert_mnli_test_dataloader"
   ]
  },
  {
   "cell_type": "markdown",
   "metadata": {
    "colab_type": "text",
    "id": "oi4vM1z6xMkk"
   },
   "source": [
    "### Part A (init BERT)\n",
    "In this section you need to create an instance of BERT and return if from the function"
   ]
  },
  {
   "cell_type": "code",
   "execution_count": 0,
   "metadata": {
    "colab": {},
    "colab_type": "code",
    "id": "IP5DRpSTqKPQ"
   },
   "outputs": [],
   "source": [
    "class BERTSequenceClassifier(nn.Module):\n",
    "    def __init__(self, bert, num_classes):\n",
    "        super().__init__()\n",
    "        self.bert = bert\n",
    "        self.W = nn.Linear(bert.config.hidden_size, num_classes)\n",
    "        self.num_classes = num_classes\n",
    "        \n",
    "    def forward(self, input_ids, attention_mask, token_type_ids):\n",
    "        h, _, attn = self.bert(input_ids=input_ids, \n",
    "                               attention_mask=attention_mask, \n",
    "                               token_type_ids=token_type_ids)\n",
    "        h_cls = h[:, 0]\n",
    "        logits = self.W(h_cls)\n",
    "        return logits, attn"
   ]
  },
  {
   "cell_type": "code",
   "execution_count": 0,
   "metadata": {
    "colab": {},
    "colab_type": "code",
    "id": "HbYPG1xrxMkk"
   },
   "outputs": [],
   "source": [
    "from transformers import BertTokenizer, BertModel, BertForMaskedLM\n",
    "\n",
    "def init_bert():\n",
    "    \n",
    "    BERT = BERTSequenceClassifier(bert, mnli_num_classes) # ... YOUR CODE HERE\n",
    "    \n",
    "    return BERT"
   ]
  },
  {
   "cell_type": "code",
   "execution_count": 16,
   "metadata": {
    "colab": {
     "base_uri": "https://localhost:8080/",
     "height": 34
    },
    "colab_type": "code",
    "id": "RFVcYjjq2PXz",
    "outputId": "1e31f79d-3630-4c17-e465-43de38559aa5"
   },
   "outputs": [
    {
     "data": {
      "text/plain": [
       "3"
      ]
     },
     "execution_count": 16,
     "metadata": {
      "tags": []
     },
     "output_type": "execute_result"
    }
   ],
   "source": [
    "mnli_num_classes"
   ]
  },
  {
   "cell_type": "markdown",
   "metadata": {
    "colab_type": "text",
    "id": "IBSL5BoWxMkl"
   },
   "source": [
    "### Part B (fine-tune with BERT)\n",
    "\n",
    "Use BERT as your feature extractor to finetune MNLI. Use a new finetune model (reset weights)."
   ]
  },
  {
   "cell_type": "code",
   "execution_count": 0,
   "metadata": {
    "colab": {},
    "colab_type": "code",
    "id": "DlYykTKU0wGv"
   },
   "outputs": [],
   "source": [
    "def init_finetune_model():\n",
    "    # TODO FILL IN THE DETAILS\n",
    "    feature_extractor = init_bert() # bert as feature extractor\n",
    "    # freeze the model\n",
    "    freeze_model(feature_extractor)\n",
    "    fine_tune_model = feature_extractor\n",
    "    return fine_tune_model"
   ]
  },
  {
   "cell_type": "code",
   "execution_count": 0,
   "metadata": {
    "colab": {},
    "colab_type": "code",
    "id": "SoVc-NqQzWkX"
   },
   "outputs": [],
   "source": [
    "def fine_tune_mnli_BERT(BERT_feature_extractor, fine_tune_model, mnli_train, mnli_val):\n",
    "    '''\n",
    "    function to train feature extractor\n",
    "    params:\n",
    "      @BERT_feature_extractor: initialzied feature extractor object\n",
    "      @fine_tune_model: initialized fine tune model for target task\n",
    "      @mnli_train: train dataloader\n",
    "      @mnli_val: validation dataloader\n",
    "    \n",
    "    '''\n",
    "    # FILL IN THE DETAILS\n",
    "    model = fine_tune_model\n",
    "    model.to(current_device)\n",
    "    unfreeze_model(model) # unfreeze model\n",
    "    PATH = 'bert_mnli.pth'\n",
    "    print(\"Training BERT on MNLI......\")\n",
    "    \n",
    "    # criterion:\n",
    "    criterion = nn.CrossEntropyLoss(ignore_index=-1).to(current_device)\n",
    "    \n",
    "    if os.path.exists(PATH): # load pre-trained\n",
    "        print(\"PATH exists!\")\n",
    "        model = torch.load(PATH)\n",
    "    \n",
    "    else:\n",
    "        # optimizer:\n",
    "        model_params = [p for p in model.parameters() if p.requires_grad]\n",
    "        optimizer = optim.Adam(model_params, lr=2e-5, eps=1e-08)\n",
    "\n",
    "    num_epochs = 1\n",
    "    for epoch in range(num_epochs):\n",
    "        # do train\n",
    "        model.train()\n",
    "        for i, batch in enumerate(mnli_train):\n",
    "            train_correct = 0\n",
    "            train_total = 0\n",
    "            batch = tuple(t.to(current_device) for t in batch)\n",
    "            logits, _ = model(*batch[:-1])\n",
    "            labels = batch[-1]\n",
    "            # compute loss\n",
    "            loss = criterion(logits.view(-1, model.num_classes), labels.view(-1))\n",
    "            # store prediction accuracy\n",
    "            softmax_output = F.softmax(logits, dim=1)\n",
    "            predicted = softmax_output.max(1, keepdim=True)[1]\n",
    "            train_total += labels.size(0)\n",
    "            train_correct += predicted.eq(labels.view_as(predicted)).sum().item()\n",
    "            train_acc = 100*train_correct/train_total\n",
    "            # back-propogation\n",
    "            loss.backward()\n",
    "            # gradient clipping\n",
    "            nn.utils.clip_grad_norm(model.parameters(), 1.0)\n",
    "            optimizer.step()\n",
    "            model.zero_grad()\n",
    "\n",
    "            # if i % 1000 == 0:\n",
    "              # print('Average training acc = {} at step {}'.format(train_acc, i))\n",
    "\n",
    "        torch.save(model, PATH) # save the entire model object\n",
    "\n",
    "        #do validation\n",
    "        model.eval()\n",
    "        with torch.no_grad():\n",
    "            val_correct = 0\n",
    "            val_total = 0\n",
    "            for i, batch in enumerate(mnli_val):\n",
    "                optimizer.zero_grad()\n",
    "                batch = tuple(t.to(current_device) for t in batch)\n",
    "                logits, _ = model(*batch[:-1])\n",
    "                labels = batch[-1]\n",
    "                # compute loss\n",
    "                loss = criterion(logits.view(-1, model.num_classes), labels.view(-1))\n",
    "                # store prediction accuracy\n",
    "                softmax_output = F.softmax(logits,dim = 1)\n",
    "                predicted = softmax_output.max(1, keepdim=True)[1]\n",
    "                val_total += labels.size(0)\n",
    "                val_correct += predicted.eq(labels.view_as(predicted)).sum().item()\n",
    "            valid_acc = 100 * val_correct / val_total\n",
    "            # print('Average validation acc after epcoh {} = {}'.format(epoch, valid_acc))\n",
    "\n",
    "    print('Finished training')\n",
    "    return model"
   ]
  },
  {
   "cell_type": "markdown",
   "metadata": {
    "colab_type": "text",
    "id": "-06C5gMrxMkn"
   },
   "source": [
    "### Part C\n",
    "Evaluate how well we did"
   ]
  },
  {
   "cell_type": "code",
   "execution_count": 0,
   "metadata": {
    "colab": {},
    "colab_type": "code",
    "id": "tI2UsMhMxMko"
   },
   "outputs": [],
   "source": [
    "def calculate_mnli_test_accuracy(feature_extractor, mnli_test):\n",
    "  # YOUR CODE HERE...\n",
    "  model = torch.load('bert_mnli.pth')\n",
    "  model.eval()\n",
    "  test_accuracy = []\n",
    "  with torch.no_grad():\n",
    "    for i, batch in enumerate(mnli_test):\n",
    "      batch = tuple(t.to(current_device) for t in batch)\n",
    "      logits, _ = model(*batch[:-1])\n",
    "      labels = batch[-1]\n",
    "      softmax_output = F.softmax(logits,dim = 1)\n",
    "      predictions = torch.argmax(softmax_output, dim=1)\n",
    "      for i in range(len(predictions)):\n",
    "        if predictions[i] == labels[i]:\n",
    "          test_accuracy.append(1)\n",
    "        else:\n",
    "          test_accuracy.append(0)\n",
    "  print(sum(test_accuracy) / len(test_accuracy))\n",
    "  return(sum(test_accuracy) / len(test_accuracy))"
   ]
  },
  {
   "cell_type": "markdown",
   "metadata": {
    "colab_type": "text",
    "id": "tAgU6DqnxMkq"
   },
   "source": [
    "### Let's grade your BERT results!"
   ]
  },
  {
   "cell_type": "code",
   "execution_count": 21,
   "metadata": {
    "colab": {
     "base_uri": "https://localhost:8080/",
     "height": 34
    },
    "colab_type": "code",
    "id": "N1P8oYuXBTCK",
    "outputId": "667de504-eedb-48f0-864a-e64038a2c4d1"
   },
   "outputs": [
    {
     "name": "stdout",
     "output_type": "stream",
     "text": [
      "(1). finished loading data...\n"
     ]
    }
   ],
   "source": [
    "BERT_feature_extractor = init_bert()\n",
    "\n",
    "# load data\n",
    "mnli_train, mnli_val, mnli_test = generate_mnli_bert_dataloaders()\n",
    "print(\"(1). finished loading data...\")"
   ]
  },
  {
   "cell_type": "code",
   "execution_count": 22,
   "metadata": {
    "colab": {
     "base_uri": "https://localhost:8080/",
     "height": 34
    },
    "colab_type": "code",
    "id": "Urxc6yJrBYDB",
    "outputId": "04524ffe-92b6-4454-8b34-9492198da8b7"
   },
   "outputs": [
    {
     "name": "stdout",
     "output_type": "stream",
     "text": [
      "(2). finished initiating fine tune model\n"
     ]
    }
   ],
   "source": [
    "# init the fine_tune model\n",
    "fine_tune_model = init_finetune_model()\n",
    "print(\"(2). finished initiating fine tune model\")"
   ]
  },
  {
   "cell_type": "code",
   "execution_count": 27,
   "metadata": {
    "colab": {
     "base_uri": "https://localhost:8080/",
     "height": 904
    },
    "colab_type": "code",
    "id": "wtCjBtxnBZgM",
    "outputId": "2061722f-13ac-4644-f691-54b8779a2700"
   },
   "outputs": [
    {
     "name": "stdout",
     "output_type": "stream",
     "text": [
      "Training BERT on MNLI......\n"
     ]
    },
    {
     "name": "stderr",
     "output_type": "stream",
     "text": [
      "/usr/local/lib/python3.6/dist-packages/ipykernel_launcher.py:51: UserWarning: torch.nn.utils.clip_grad_norm is now deprecated in favor of torch.nn.utils.clip_grad_norm_.\n"
     ]
    },
    {
     "name": "stdout",
     "output_type": "stream",
     "text": [
      "Average training acc = 62.5 at step 0\n",
      "Average training acc = 81.25 at step 1000\n",
      "Average training acc = 81.25 at step 2000\n",
      "Average training acc = 81.25 at step 3000\n",
      "Average training acc = 78.125 at step 4000\n",
      "Average training acc = 78.125 at step 5000\n",
      "Average training acc = 84.375 at step 6000\n",
      "Average training acc = 81.25 at step 7000\n",
      "Average training acc = 87.5 at step 8000\n",
      "Average training acc = 81.25 at step 9000\n",
      "Average training acc = 84.375 at step 10000\n",
      "Average training acc = 78.125 at step 11000\n"
     ]
    },
    {
     "name": "stderr",
     "output_type": "stream",
     "text": [
      "/usr/local/lib/python3.6/dist-packages/torch/serialization.py:292: UserWarning: Couldn't retrieve source code for container of type BERTSequenceClassifier. It won't be checked for correctness upon loading.\n",
      "  \"type \" + obj.__name__ + \". It won't be checked \"\n",
      "/usr/local/lib/python3.6/dist-packages/torch/serialization.py:292: UserWarning: Couldn't retrieve source code for container of type BertModel. It won't be checked for correctness upon loading.\n",
      "  \"type \" + obj.__name__ + \". It won't be checked \"\n",
      "/usr/local/lib/python3.6/dist-packages/torch/serialization.py:292: UserWarning: Couldn't retrieve source code for container of type BertEmbeddings. It won't be checked for correctness upon loading.\n",
      "  \"type \" + obj.__name__ + \". It won't be checked \"\n",
      "/usr/local/lib/python3.6/dist-packages/torch/serialization.py:292: UserWarning: Couldn't retrieve source code for container of type Embedding. It won't be checked for correctness upon loading.\n",
      "  \"type \" + obj.__name__ + \". It won't be checked \"\n",
      "/usr/local/lib/python3.6/dist-packages/torch/serialization.py:292: UserWarning: Couldn't retrieve source code for container of type LayerNorm. It won't be checked for correctness upon loading.\n",
      "  \"type \" + obj.__name__ + \". It won't be checked \"\n",
      "/usr/local/lib/python3.6/dist-packages/torch/serialization.py:292: UserWarning: Couldn't retrieve source code for container of type Dropout. It won't be checked for correctness upon loading.\n",
      "  \"type \" + obj.__name__ + \". It won't be checked \"\n",
      "/usr/local/lib/python3.6/dist-packages/torch/serialization.py:292: UserWarning: Couldn't retrieve source code for container of type BertEncoder. It won't be checked for correctness upon loading.\n",
      "  \"type \" + obj.__name__ + \". It won't be checked \"\n",
      "/usr/local/lib/python3.6/dist-packages/torch/serialization.py:292: UserWarning: Couldn't retrieve source code for container of type ModuleList. It won't be checked for correctness upon loading.\n",
      "  \"type \" + obj.__name__ + \". It won't be checked \"\n",
      "/usr/local/lib/python3.6/dist-packages/torch/serialization.py:292: UserWarning: Couldn't retrieve source code for container of type BertLayer. It won't be checked for correctness upon loading.\n",
      "  \"type \" + obj.__name__ + \". It won't be checked \"\n",
      "/usr/local/lib/python3.6/dist-packages/torch/serialization.py:292: UserWarning: Couldn't retrieve source code for container of type BertAttention. It won't be checked for correctness upon loading.\n",
      "  \"type \" + obj.__name__ + \". It won't be checked \"\n",
      "/usr/local/lib/python3.6/dist-packages/torch/serialization.py:292: UserWarning: Couldn't retrieve source code for container of type BertSelfAttention. It won't be checked for correctness upon loading.\n",
      "  \"type \" + obj.__name__ + \". It won't be checked \"\n",
      "/usr/local/lib/python3.6/dist-packages/torch/serialization.py:292: UserWarning: Couldn't retrieve source code for container of type Linear. It won't be checked for correctness upon loading.\n",
      "  \"type \" + obj.__name__ + \". It won't be checked \"\n",
      "/usr/local/lib/python3.6/dist-packages/torch/serialization.py:292: UserWarning: Couldn't retrieve source code for container of type BertSelfOutput. It won't be checked for correctness upon loading.\n",
      "  \"type \" + obj.__name__ + \". It won't be checked \"\n",
      "/usr/local/lib/python3.6/dist-packages/torch/serialization.py:292: UserWarning: Couldn't retrieve source code for container of type BertIntermediate. It won't be checked for correctness upon loading.\n",
      "  \"type \" + obj.__name__ + \". It won't be checked \"\n",
      "/usr/local/lib/python3.6/dist-packages/torch/serialization.py:292: UserWarning: Couldn't retrieve source code for container of type BertOutput. It won't be checked for correctness upon loading.\n",
      "  \"type \" + obj.__name__ + \". It won't be checked \"\n",
      "/usr/local/lib/python3.6/dist-packages/torch/serialization.py:292: UserWarning: Couldn't retrieve source code for container of type BertPooler. It won't be checked for correctness upon loading.\n",
      "  \"type \" + obj.__name__ + \". It won't be checked \"\n",
      "/usr/local/lib/python3.6/dist-packages/torch/serialization.py:292: UserWarning: Couldn't retrieve source code for container of type Tanh. It won't be checked for correctness upon loading.\n",
      "  \"type \" + obj.__name__ + \". It won't be checked \"\n"
     ]
    },
    {
     "name": "stdout",
     "output_type": "stream",
     "text": [
      "Average validation acc after epcoh 0 = 83.224689346099\n",
      "Finished training\n",
      "(3). finished fine tuning\n"
     ]
    }
   ],
   "source": [
    "# finetune\n",
    "fine_tune_mnli_BERT(BERT_feature_extractor, fine_tune_model, mnli_train, mnli_val)\n",
    "print(\"(3). finished fine tuning\")"
   ]
  },
  {
   "cell_type": "code",
   "execution_count": 33,
   "metadata": {
    "colab": {
     "base_uri": "https://localhost:8080/",
     "height": 51
    },
    "colab_type": "code",
    "id": "54igCLXaBa_V",
    "outputId": "c85d4c84-1230-43ae-e579-ecefe992b606"
   },
   "outputs": [
    {
     "name": "stdout",
     "output_type": "stream",
     "text": [
      "0.8225165562913908\n",
      "(4). finished test accuracy calculation\n"
     ]
    }
   ],
   "source": [
    "# check test accuracy\n",
    "test_accuracy = calculate_mnli_test_accuracy(BERT_feature_extractor, mnli_test)\n",
    "print(\"(4). finished test accuracy calculation\")\n",
    "\n",
    "# the real threshold will be released by Oct 11 \n",
    "assert test_accuracy > 0.8, 'ummm... your accuracy is too low...'"
   ]
  },
  {
   "cell_type": "code",
   "execution_count": 35,
   "metadata": {
    "colab": {
     "base_uri": "https://localhost:8080/",
     "height": 85
    },
    "colab_type": "code",
    "id": "eOgW8MG0_nGU",
    "outputId": "e635f08e-aaf3-41f0-eb02-681304c2da06"
   },
   "outputs": [
    {
     "name": "stdout",
     "output_type": "stream",
     "text": [
      "(1). finished loading data...\n",
      "(2). finished initiating fine tune model\n",
      "(3). finished fine tuning\n",
      "(4). finished test accuracy calculation\n"
     ]
    }
   ],
   "source": [
    "def grade_mnli_BERT():\n",
    "    BERT_feature_extractor = init_bert()\n",
    "    \n",
    "    # load data\n",
    "    mnli_train, mnli_val, mnli_test = generate_mnli_bert_dataloaders()\n",
    "    print(\"(1). finished loading data...\")\n",
    "\n",
    "    # init the fine_tune model\n",
    "    fine_tune_model = init_finetune_model()\n",
    "    print(\"(2). finished initiating fine tune model\")\n",
    "    \n",
    "    # finetune\n",
    "    fine_tune_mnli_BERT(BERT_feature_extractor, fine_tune_model, mnli_train, mnli_val)\n",
    "    print(\"(3). finished fine tuning\")\n",
    "\n",
    "    # check test accuracy\n",
    "    test_accuracy = calculate_mnli_test_accuracy(BERT_feature_extractor, mnli_test)\n",
    "    print(\"(4). finished test accuracy calculation\")\n",
    "    \n",
    "    # the real threshold will be released by Oct 11 \n",
    "    assert test_accuracy > 0.8, 'ummm... your accuracy is too low...'\n",
    "    \n",
    "grade_mnli_BERT()"
   ]
  },
  {
   "cell_type": "code",
   "execution_count": 0,
   "metadata": {
    "colab": {},
    "colab_type": "code",
    "id": "aRrB8HJPDDFQ"
   },
   "outputs": [],
   "source": []
  }
 ],
 "metadata": {
  "accelerator": "GPU",
  "colab": {
   "machine_shape": "hm",
   "name": "hw3 (2).ipynb",
   "provenance": []
  },
  "kernelspec": {
   "display_name": "Python 3",
   "language": "python",
   "name": "python3"
  },
  "language_info": {
   "codemirror_mode": {
    "name": "ipython",
    "version": 3
   },
   "file_extension": ".py",
   "mimetype": "text/x-python",
   "name": "python",
   "nbconvert_exporter": "python",
   "pygments_lexer": "ipython3",
   "version": "3.6.7"
  },
  "toc": {
   "base_numbering": 1,
   "nav_menu": {},
   "number_sections": true,
   "sideBar": true,
   "skip_h1_title": false,
   "title_cell": "Table of Contents",
   "title_sidebar": "Contents",
   "toc_cell": true,
   "toc_position": {},
   "toc_section_display": true,
   "toc_window_display": false
  }
 },
 "nbformat": 4,
 "nbformat_minor": 1
}
