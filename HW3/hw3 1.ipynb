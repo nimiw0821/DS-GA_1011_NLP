{
  "nbformat": 4,
  "nbformat_minor": 0,
  "metadata": {
    "kernelspec": {
      "display_name": "class",
      "language": "python",
      "name": "class"
    },
    "language_info": {
      "codemirror_mode": {
        "name": "ipython",
        "version": 3
      },
      "file_extension": ".py",
      "mimetype": "text/x-python",
      "name": "python",
      "nbconvert_exporter": "python",
      "pygments_lexer": "ipython3",
      "version": "3.7.4"
    },
    "colab": {
      "name": "hw3.ipynb",
      "provenance": [],
      "toc_visible": true
    },
    "accelerator": "GPU"
  },
  "cells": [
    {
      "cell_type": "markdown",
      "metadata": {
        "id": "8kNS3X4-lBoK",
        "colab_type": "text"
      },
      "source": [
        "---   \n",
        "# HW3 - Transfer learning\n",
        "\n",
        "#### Due October 30, 2019\n",
        "\n",
        "In this assignment you will learn about transfer learning. This technique is perhaps one of the most important techniques for industry. When a problem you want to solve does not have enough data, we use a different (larger) dataset to learn representations which can help us solve our task using the smaller task.\n",
        "\n",
        "The general steps to transfer learning are as follows:\n",
        "\n",
        "1. Find a huge dataset with similar characteristics to the problem you are interested in.\n",
        "2. Choose a model powerful enough to extract meaningful representations from the huge dataset.\n",
        "3. Train this model on the huge dataset.\n",
        "4. Use this model to train on the smaller dataset.\n",
        "\n",
        "\n",
        "### This homework has the following sections:\n",
        "1. Question 1: MNIST fine-tuning (Parts A, B, C, D).\n",
        "2. Question 2: Pretrain on Wikitext2 (Part A, B, C, D)\n",
        "3. Question 3: Finetune on MNLI (Part A, B, C, D)\n",
        "4. Question 4: Finetune using pretrained BERT (Part A, B, C)"
      ]
    },
    {
      "cell_type": "markdown",
      "metadata": {
        "id": "I1tsS2yjlBoN",
        "colab_type": "text"
      },
      "source": [
        "---   \n",
        "## Question 1 (MNIST transfer learning)\n",
        "To grasp the high-level approach to transfer learning, let's first do a simple example using computer vision. \n",
        "\n",
        "The torchvision library has pretrained models (resnets, vggnets, etc) on the Imagenet dataset. Imagenet is a dataset\n",
        "with 1.3 million images covering over 1000 classes of objects. When you use one of these models, the weights of the model initialize\n",
        "with the weights saved from training on imagenet.\n",
        "\n",
        "In this task we will:\n",
        "1. Choose a pretrained model.\n",
        "2. Freeze the model so that the weights don't change.\n",
        "3. Fine-tune on a few labels of MNIST.   "
      ]
    },
    {
      "cell_type": "markdown",
      "metadata": {
        "id": "JKc33-NFlBoQ",
        "colab_type": "text"
      },
      "source": [
        "#### Choose a model\n",
        "Here we pick any of the models from torchvision"
      ]
    },
    {
      "cell_type": "code",
      "metadata": {
        "id": "2X7caBPplBoS",
        "colab_type": "code",
        "outputId": "eec46118-3f8d-4646-a766-fc544eb2b2a0",
        "colab": {
          "base_uri": "https://localhost:8080/",
          "height": 71
        }
      },
      "source": [
        "import torch\n",
        "import torchvision.models as models\n",
        "\n",
        "class Identity(torch.nn.Module):\n",
        "    def __init__(self):\n",
        "        super(Identity, self).__init__()\n",
        "        \n",
        "    def forward(self, x):\n",
        "        return x\n",
        "\n",
        "# init the pretrained feature extractor\n",
        "pretrained_resnet18 = models.resnet18(pretrained=True)\n",
        "\n",
        "# we don't want the built in last layer, we're going to modify it ourselves\n",
        "pretrained_resnet18.fc = Identity()"
      ],
      "execution_count": 1,
      "outputs": [
        {
          "output_type": "stream",
          "text": [
            "Downloading: \"https://download.pytorch.org/models/resnet18-5c106cde.pth\" to /root/.cache/torch/checkpoints/resnet18-5c106cde.pth\n",
            "100%|██████████| 44.7M/44.7M [00:00<00:00, 107MB/s]\n"
          ],
          "name": "stderr"
        }
      ]
    },
    {
      "cell_type": "markdown",
      "metadata": {
        "id": "0Z9_g9JOlBog",
        "colab_type": "text"
      },
      "source": [
        "#### Freeze the model\n",
        "Here we freeze the weights of the model. Freezing means the gradients will not backpropagate\n",
        "into these weights.\n",
        "\n",
        "By doing this you can think about the model as a feature extractor. This feature extractor outputs\n",
        "a **representation** of an input. This representation is a matrix that encodes information about the input."
      ]
    },
    {
      "cell_type": "code",
      "metadata": {
        "id": "osmb3vRNlBoi",
        "colab_type": "code",
        "colab": {}
      },
      "source": [
        "def freeze_model(model):\n",
        "    for param in model.parameters():\n",
        "        param.requires_grad = False\n",
        "        \n",
        "def unfreeze_model(model):\n",
        "    for param in model.parameters():\n",
        "        param.requires_grad = True\n",
        "        \n",
        "freeze_model(pretrained_resnet18)"
      ],
      "execution_count": 0,
      "outputs": []
    },
    {
      "cell_type": "markdown",
      "metadata": {
        "id": "OtZSPP7HlBor",
        "colab_type": "text"
      },
      "source": [
        "#### Init target dataset\n",
        "Here we define the dataset we are actually interested in."
      ]
    },
    {
      "cell_type": "code",
      "metadata": {
        "id": "Uj8fuunblBot",
        "colab_type": "code",
        "colab": {}
      },
      "source": [
        "import os\n",
        "from torchvision import transforms\n",
        "from torchvision.datasets import  MNIST\n",
        "from torch.utils.data import DataLoader, random_split\n",
        "import torch.nn.functional as F\n",
        "\n",
        "#  train/val  split\n",
        "mnist_dataset = MNIST(os.getcwd(), train=True, download=True, transform = transforms.Compose([transforms.Grayscale(3),transforms.ToTensor()]))\n",
        "mnist_train, mnist_val = random_split(mnist_dataset, [55000, 5000])\n",
        "\n",
        "mnist_train = DataLoader(mnist_train, batch_size=32)\n",
        "mnist_val = DataLoader(mnist_val, batch_size=32)\n",
        "\n",
        "# test split\n",
        "mnist_test = DataLoader(MNIST(os.getcwd(), train=False, download=True, transform = transforms.Compose([transforms.Grayscale(3),transforms.ToTensor()])), batch_size=32)"
      ],
      "execution_count": 0,
      "outputs": []
    },
    {
      "cell_type": "markdown",
      "metadata": {
        "id": "Kto1AEpIlBo2",
        "colab_type": "text"
      },
      "source": [
        "### Part A (init fine-tune model)\n",
        "decide what model to use for fine-tuning"
      ]
    },
    {
      "cell_type": "code",
      "metadata": {
        "id": "lAlkI9EJlBo6",
        "colab_type": "code",
        "colab": {}
      },
      "source": [
        "def init_fine_tune_model():\n",
        "  # we will use the structure from resnet18 as our fine_tune_model\n",
        "  feature_extractor = models.resnet18(pretrained=True)\n",
        "  num_ftrs = feature_extractor.fc.in_features\n",
        "  # freeze the model\n",
        "  freeze_model(feature_extractor)\n",
        "  fine_tune_model = feature_extractor \n",
        "  # add the last layer \n",
        "  fine_tune_model.fc = nn.Linear(num_ftrs,10)\n",
        "  fine_tune_model= fine_tune_model.to(current_device)\n",
        "  \n",
        "  return fine_tune_model"
      ],
      "execution_count": 0,
      "outputs": []
    },
    {
      "cell_type": "markdown",
      "metadata": {
        "id": "NBLRficRlBpA",
        "colab_type": "text"
      },
      "source": [
        "### Part B (Fine-tune (Frozen))\n",
        "\n",
        "The actual problem we care about solving likely has a different number of classes or is a different task altogether. Fine-tuning is the process of using the extracted representations (features) to solve this downstream task  (the task you're interested in).\n",
        "\n",
        "To illustrate this, we'll use our pretrained model (on Imagenet), to solve the MNIST classification task.\n",
        "\n",
        "There are two types of finetuning. \n",
        "\n",
        "#### 1. Frozen feature_extractor\n",
        "In the first type we pretrain with the FROZEN feature_extractor and NEVER unfreeze it during finetuning.\n",
        "\n",
        "\n",
        "#### 2. Unfrozen feature_extractor\n",
        "In the second, we finetune with a FROZEN feature_extractor for a few epochs, then unfreeze the feature extractor and finish training.\n",
        "\n",
        "\n",
        "In this part we will use the first version"
      ]
    },
    {
      "cell_type": "code",
      "metadata": {
        "id": "RFixXDLtvHYp",
        "colab_type": "code",
        "colab": {}
      },
      "source": [
        "# defining what device to use\n",
        "num_gpus = torch.cuda.device_count()\n",
        "if num_gpus > 0:\n",
        "    current_device = 'cuda'\n",
        "else:\n",
        "    current_device = 'cpu'"
      ],
      "execution_count": 0,
      "outputs": []
    },
    {
      "cell_type": "code",
      "metadata": {
        "id": "mSGQbtB1EGnm",
        "colab_type": "code",
        "colab": {}
      },
      "source": [
        "import torch.optim as optim\n",
        "import torch.nn as nn\n",
        "\n",
        "def FROZEN_fine_tune_mnist(feature_extractor, fine_tune_model, mnist_train, mnist_val,model_name,hyperparameters,save):\n",
        "\n",
        "  model =  fine_tune_model \n",
        "\n",
        "  # criterion\n",
        "  criterion = nn.CrossEntropyLoss()\n",
        "  # only update the parameters that are not frozen \n",
        "  model_params = [p for p in model.parameters() if p.requires_grad]\n",
        "  optimizer = optim.Adam(model_params, lr=hyperparameters['lr'], weight_decay=hyperparameters['weight_decay'])\n",
        "  num_epochs = hyperparameters['num_epochs']\n",
        "  PATH = model_name + '.pth'\n",
        "\n",
        "  for epoch in range(num_epochs):\n",
        "    avg_loss = 0\n",
        "    train_log_cache = []\n",
        "\n",
        "    # training phase\n",
        "    model.train()\n",
        "    for i,(inp,target) in enumerate(mnist_train):\n",
        "      optimizer.zero_grad()\n",
        "      #inp = inp.repeat(1,3,1,1)\n",
        "      inp = inp.to(current_device)\n",
        "      target = target.to(current_device)\n",
        "      logits = model(inp)\n",
        "      # compute loss \n",
        "      loss = criterion(logits.view(-1, logits.size(-1)), target.view(-1))\n",
        "      # back-propogation \n",
        "      loss.backward()\n",
        "      # gradient clipping \n",
        "      nn.utils.clip_grad_norm_(model.parameters(), max_norm=5)\n",
        "      optimizer.step()\n",
        "      train_log_cache.append(loss.item())\n",
        "\n",
        "      if i % 1000 == 0:\n",
        "        avg_train_loss = sum(train_log_cache)/len(train_log_cache)\n",
        "        print('Step {} avg train loss = {:.{prec}f}'.format(i, avg_train_loss, prec=4))\n",
        "        train_log_cache = []\n",
        "\n",
        "    # validation phase \n",
        "    valid_losses = []\n",
        "    model.eval()\n",
        "    with torch.no_grad():\n",
        "      for i,(inp,target) in enumerate(mnist_val):\n",
        "        #inp = inp.repeat(1,3,1,1)\n",
        "        inp = inp.to(current_device)\n",
        "        target = target.to(current_device)\n",
        "        logits = model(inp)\n",
        "        # compute loss \n",
        "        loss = criterion(logits.view(-1, logits.size(-1)), target.view(-1))\n",
        "        valid_losses.append(loss.item())\n",
        "    avg_val_loss = sum(valid_losses) / len(valid_losses)\n",
        "    print('Validation loss after {} epoch = {:.{prec}f}'.format(epoch+1, avg_val_loss, prec=4))\n",
        "\n",
        "  print('Finish training!')\n",
        "\n",
        "  if save:\n",
        "    torch.save(model,PATH)\n"
      ],
      "execution_count": 0,
      "outputs": []
    },
    {
      "cell_type": "markdown",
      "metadata": {
        "id": "5c6tiIzOlBpD",
        "colab_type": "text"
      },
      "source": [
        "### Part C (compute test accuracy)\n",
        "Compute the test accuracy of fine-tuned model on MNIST"
      ]
    },
    {
      "cell_type": "code",
      "metadata": {
        "id": "Mmp9yrR0lBpE",
        "colab_type": "code",
        "colab": {}
      },
      "source": [
        "  def calculate_mnist_test_accuracy(feature_extractor, fine_tune_model, mnist_test):\n",
        "    model = fine_tune_model\n",
        "    model.eval()\n",
        "    test_accuracy = []\n",
        "    batch_num = 0\n",
        "    with torch.no_grad():\n",
        "        for i, (inp, target) in enumerate(mnist_test):\n",
        "          batch_num += 1\n",
        "          #inp = inp.repeat(1,3,1,1)\n",
        "          inp = inp.to(current_device)\n",
        "          target = target.to(current_device)\n",
        "          logits = model(inp)\n",
        "          softmax_output = F.softmax(logits,dim = 1)\n",
        "          predictions = torch.argmax(softmax_output, dim=1)\n",
        "          for i in range(len(predictions)):\n",
        "            if predictions[i] == target[i]:\n",
        "              test_accuracy.append(1)\n",
        "            else:\n",
        "              test_accuracy.append(0)\n",
        "    \n",
        "    return(sum(test_accuracy) / len(test_accuracy))"
      ],
      "execution_count": 0,
      "outputs": []
    },
    {
      "cell_type": "markdown",
      "metadata": {
        "id": "ZTLvMsqGlBpI",
        "colab_type": "text"
      },
      "source": [
        "### Grade!\n",
        "Let's see how you did"
      ]
    },
    {
      "cell_type": "code",
      "metadata": {
        "id": "OZjzpZy-lBpK",
        "colab_type": "code",
        "outputId": "8c0c0d18-e262-4af5-c5d3-5a994c64c957",
        "colab": {
          "base_uri": "https://localhost:8080/",
          "height": 799
        }
      },
      "source": [
        "def grade_mnist_frozen():\n",
        "\n",
        "    # init a ft model\n",
        "    fine_tune_model = init_fine_tune_model()\n",
        "    \n",
        "    # run the transfer learning routine\n",
        "    FROZEN_fine_tune_mnist(feature_extractor = pretrained_resnet18,\n",
        "                          fine_tune_model = fine_tune_model,\n",
        "                          mnist_train =  mnist_train,\n",
        "                          mnist_val = mnist_val,\n",
        "                          model_name = 'frozen_resnet18',\n",
        "                          hyperparameters = hyperparameters,\n",
        "                          save = True)\n",
        "    \n",
        "    # calculate test accuracy\n",
        "    PATH = 'frozen_resnet18.pth'\n",
        "    fine_tune_model = torch.load(PATH, map_location=current_device)\n",
        "    test_accuracy = calculate_mnist_test_accuracy(pretrained_resnet18, fine_tune_model, mnist_test)\n",
        "    \n",
        "    # the real threshold will be released by Oct 11 \n",
        "    assert test_accuracy > 0.0, 'your accuracy is too low...'\n",
        "    \n",
        "    return test_accuracy\n",
        "    \n",
        "hyperparameters= {\n",
        "    'lr': 0.001,\n",
        "    'num_epochs': 15,\n",
        "    'weight_decay': 0         \n",
        " }    \n",
        "frozen_test_accuracy = grade_mnist_frozen()"
      ],
      "execution_count": 18,
      "outputs": [
        {
          "output_type": "stream",
          "text": [
            "Step 0 avg train loss = 2.7019\n",
            "Step 1000 avg train loss = 1.0716\n",
            "Validation loss after 1 epoch = 0.7967\n",
            "Step 0 avg train loss = 1.1307\n",
            "Step 1000 avg train loss = 0.8440\n",
            "Validation loss after 2 epoch = 0.7699\n",
            "Step 0 avg train loss = 1.1272\n",
            "Step 1000 avg train loss = 0.8186\n",
            "Validation loss after 3 epoch = 0.7608\n",
            "Step 0 avg train loss = 1.1222\n",
            "Step 1000 avg train loss = 0.8084\n",
            "Validation loss after 4 epoch = 0.7568\n",
            "Step 0 avg train loss = 1.1179\n",
            "Step 1000 avg train loss = 0.8033\n",
            "Validation loss after 5 epoch = 0.7550\n",
            "Step 0 avg train loss = 1.1145\n",
            "Step 1000 avg train loss = 0.8005\n",
            "Validation loss after 6 epoch = 0.7543\n",
            "Step 0 avg train loss = 1.1118\n",
            "Step 1000 avg train loss = 0.7988\n",
            "Validation loss after 7 epoch = 0.7542\n",
            "Step 0 avg train loss = 1.1096\n",
            "Step 1000 avg train loss = 0.7978\n",
            "Validation loss after 8 epoch = 0.7543\n",
            "Step 0 avg train loss = 1.1078\n",
            "Step 1000 avg train loss = 0.7971\n",
            "Validation loss after 9 epoch = 0.7546\n",
            "Step 0 avg train loss = 1.1062\n",
            "Step 1000 avg train loss = 0.7967\n",
            "Validation loss after 10 epoch = 0.7549\n",
            "Step 0 avg train loss = 1.1050\n",
            "Step 1000 avg train loss = 0.7964\n",
            "Validation loss after 11 epoch = 0.7553\n",
            "Step 0 avg train loss = 1.1039\n",
            "Step 1000 avg train loss = 0.7962\n",
            "Validation loss after 12 epoch = 0.7556\n",
            "Step 0 avg train loss = 1.1030\n",
            "Step 1000 avg train loss = 0.7960\n",
            "Validation loss after 13 epoch = 0.7559\n",
            "Step 0 avg train loss = 1.1022\n",
            "Step 1000 avg train loss = 0.7960\n",
            "Validation loss after 14 epoch = 0.7563\n",
            "Step 0 avg train loss = 1.1015\n",
            "Step 1000 avg train loss = 0.7959\n",
            "Validation loss after 15 epoch = 0.7565\n",
            "Finish training!\n"
          ],
          "name": "stdout"
        }
      ]
    },
    {
      "cell_type": "code",
      "metadata": {
        "id": "CFSA6uxSavYZ",
        "colab_type": "code",
        "outputId": "25b50e23-2170-49ad-bdb0-40aaa55702fd",
        "colab": {
          "base_uri": "https://localhost:8080/",
          "height": 34
        }
      },
      "source": [
        "print(\"The test accuracy for frozen model is {}\".format(frozen_test_accuracy))"
      ],
      "execution_count": 19,
      "outputs": [
        {
          "output_type": "stream",
          "text": [
            "The test accuracy for frozen model is 0.7691\n"
          ],
          "name": "stdout"
        }
      ]
    },
    {
      "cell_type": "markdown",
      "metadata": {
        "id": "VCvAkzszlBpN",
        "colab_type": "text"
      },
      "source": [
        "### Part D (Fine-tune Unfrozen)\n",
        "Now we'll learn how to train using the \"unfrozen\" approach.\n",
        "\n",
        "In this approach we'll:\n",
        "1. keep the feature_extract frozen for a few epochs (10)\n",
        "2. Unfreeze it.\n",
        "3. Finish training"
      ]
    },
    {
      "cell_type": "code",
      "metadata": {
        "id": "5YVopuLilBpO",
        "colab_type": "code",
        "colab": {}
      },
      "source": [
        "def UNFROZEN_fine_tune_mnist(feature_extractor,fine_tune_model,model_name,mnist_train, mnist_val,hyperparameters,save):\n",
        "  model = fine_tune_model\n",
        "  criterion = nn.CrossEntropyLoss()\n",
        "  # only update the parameters that are not frozen \n",
        "  model_params = [p for p in model.parameters() if p.requires_grad]\n",
        "  optimizer = optim.Adam(model_params, lr=hyperparameters['lr'], weight_decay=hyperparameters['weight_decay'])\n",
        "  num_epochs = hyperparameters['num_epochs']\n",
        "  PATH = model_name + '.pth'\n",
        "  \n",
        "  for epoch in range(num_epochs):\n",
        "    if epoch >10:\n",
        "      # unfreeze the model \n",
        "      unfreeze_model(model)\n",
        "    avg_loss = 0\n",
        "    train_log_cache = []\n",
        "\n",
        "    # training phase\n",
        "    model.train()\n",
        "    for i,(inp,target) in enumerate(mnist_train):\n",
        "      optimizer.zero_grad()\n",
        "      #inp = inp.repeat(1,3,1,1)\n",
        "      inp = inp.to(current_device)\n",
        "      target = target.to(current_device)\n",
        "      logits = model(inp)\n",
        "      # compute loss \n",
        "      loss = criterion(logits.view(-1, logits.size(-1)), target.view(-1))\n",
        "      # back-propogation \n",
        "      loss.backward()\n",
        "      # gradient clipping \n",
        "      nn.utils.clip_grad_norm_(model.parameters(), max_norm=5)\n",
        "      optimizer.step()\n",
        "      train_log_cache.append(loss.item())\n",
        "\n",
        "      if i % 1000 == 0:\n",
        "        avg_train_loss = sum(train_log_cache)/len(train_log_cache)\n",
        "        print('Step {} avg train loss = {:.{prec}f}'.format(i, avg_train_loss, prec=4))\n",
        "        train_log_cache = []\n",
        "\n",
        "    # validation phase \n",
        "    valid_losses = []\n",
        "    model.eval()\n",
        "    with torch.no_grad():\n",
        "      for i,(inp,target) in enumerate(mnist_val):\n",
        "        #inp = inp.repeat(1,3,1,1)\n",
        "        inp = inp.to(current_device)\n",
        "        target = target.to(current_device)\n",
        "        logits = model(inp)\n",
        "        # compute loss \n",
        "        loss = criterion(logits.view(-1, logits.size(-1)), target.view(-1))\n",
        "        valid_losses.append(loss.item())\n",
        "    avg_val_loss = sum(valid_losses) / len(valid_losses)\n",
        "    print('Validation loss after {} epoch = {:.{prec}f}'.format(epoch+1, avg_val_loss, prec=4))\n",
        "\n",
        "  print('Finish training!')\n",
        "\n",
        "  if save:\n",
        "    torch.save(model,PATH)"
      ],
      "execution_count": 0,
      "outputs": []
    },
    {
      "cell_type": "markdown",
      "metadata": {
        "id": "WLsZetgclBpQ",
        "colab_type": "text"
      },
      "source": [
        "### Grade UNFROZEN\n",
        "Let's see if there's a difference in accuracy!"
      ]
    },
    {
      "cell_type": "code",
      "metadata": {
        "id": "NmKxUi_LlBpR",
        "colab_type": "code",
        "outputId": "6d5de1fd-2422-49ce-b421-39e2fefd76f6",
        "colab": {
          "base_uri": "https://localhost:8080/",
          "height": 799
        }
      },
      "source": [
        "def grade_mnist_unfrozen():\n",
        "  # init a ft model\n",
        "    fine_tune_model = init_fine_tune_model()\n",
        "    \n",
        "    # run the transfer learning routine\n",
        "    UNFROZEN_fine_tune_mnist(feature_extractor = pretrained_resnet18,\n",
        "                              fine_tune_model = fine_tune_model,\n",
        "                              mnist_train =  mnist_train,\n",
        "                              mnist_val = mnist_val,\n",
        "                              model_name = 'unfrozen_resnet18',\n",
        "                              hyperparameters = hyperparameters,\n",
        "                              save = True)\n",
        "    \n",
        "    # calculate test accuracy\n",
        "    PATH = 'unfrozen_resnet18.pth'\n",
        "    fine_tune_model = torch.load(PATH, map_location=current_device)\n",
        "    test_accuracy = calculate_mnist_test_accuracy(pretrained_resnet18, fine_tune_model, mnist_test)\n",
        "    \n",
        "    # the real threshold will be released by Oct 11 \n",
        "    assert test_accuracy > 0.0, 'your accuracy is too low...'\n",
        "    \n",
        "    return test_accuracy\n",
        "\n",
        "hyperparameters= {\n",
        "    'lr': 0.001,\n",
        "    'num_epochs': 15,\n",
        "    'weight_decay': 0         \n",
        " }\n",
        "    \n",
        "unfrozen_test_accuracy = grade_mnist_unfrozen()"
      ],
      "execution_count": 21,
      "outputs": [
        {
          "output_type": "stream",
          "text": [
            "Step 0 avg train loss = 2.4754\n",
            "Step 1000 avg train loss = 1.0709\n",
            "Validation loss after 1 epoch = 0.7985\n",
            "Step 0 avg train loss = 1.1337\n",
            "Step 1000 avg train loss = 0.8445\n",
            "Validation loss after 2 epoch = 0.7709\n",
            "Step 0 avg train loss = 1.1287\n",
            "Step 1000 avg train loss = 0.8191\n",
            "Validation loss after 3 epoch = 0.7616\n",
            "Step 0 avg train loss = 1.1243\n",
            "Step 1000 avg train loss = 0.8088\n",
            "Validation loss after 4 epoch = 0.7575\n",
            "Step 0 avg train loss = 1.1201\n",
            "Step 1000 avg train loss = 0.8036\n",
            "Validation loss after 5 epoch = 0.7557\n",
            "Step 0 avg train loss = 1.1167\n",
            "Step 1000 avg train loss = 0.8007\n",
            "Validation loss after 6 epoch = 0.7550\n",
            "Step 0 avg train loss = 1.1139\n",
            "Step 1000 avg train loss = 0.7989\n",
            "Validation loss after 7 epoch = 0.7548\n",
            "Step 0 avg train loss = 1.1116\n",
            "Step 1000 avg train loss = 0.7979\n",
            "Validation loss after 8 epoch = 0.7548\n",
            "Step 0 avg train loss = 1.1096\n",
            "Step 1000 avg train loss = 0.7972\n",
            "Validation loss after 9 epoch = 0.7550\n",
            "Step 0 avg train loss = 1.1079\n",
            "Step 1000 avg train loss = 0.7967\n",
            "Validation loss after 10 epoch = 0.7553\n",
            "Step 0 avg train loss = 1.1065\n",
            "Step 1000 avg train loss = 0.7964\n",
            "Validation loss after 11 epoch = 0.7556\n",
            "Step 0 avg train loss = 1.1052\n",
            "Step 1000 avg train loss = 0.7568\n",
            "Validation loss after 12 epoch = 0.7327\n",
            "Step 0 avg train loss = 1.0505\n",
            "Step 1000 avg train loss = 0.7475\n",
            "Validation loss after 13 epoch = 0.7307\n",
            "Step 0 avg train loss = 1.0426\n",
            "Step 1000 avg train loss = 0.7563\n",
            "Validation loss after 14 epoch = 0.7419\n",
            "Step 0 avg train loss = 1.0759\n",
            "Step 1000 avg train loss = 0.7763\n",
            "Validation loss after 15 epoch = 0.7562\n",
            "Finish training!\n"
          ],
          "name": "stdout"
        }
      ]
    },
    {
      "cell_type": "code",
      "metadata": {
        "id": "q5V8gTZyjJJb",
        "colab_type": "code",
        "outputId": "91ef3318-a793-4744-d1e0-127b76109860",
        "colab": {
          "base_uri": "https://localhost:8080/",
          "height": 34
        }
      },
      "source": [
        "print(\"The test accuracy for unfrozen model is {}\".format(unfrozen_test_accuracy))"
      ],
      "execution_count": 22,
      "outputs": [
        {
          "output_type": "stream",
          "text": [
            "The test accuracy for unfrozen model is 0.7681\n"
          ],
          "name": "stdout"
        }
      ]
    },
    {
      "cell_type": "code",
      "metadata": {
        "id": "Wq2VwCrclBpU",
        "colab_type": "code",
        "colab": {
          "base_uri": "https://localhost:8080/",
          "height": 184
        },
        "outputId": "b79972b2-ae93-4911-fa03-c0b79535f8a3"
      },
      "source": [
        "assert unfrozen_test_accuracy > frozen_test_accuracy, 'the unfrozen model should be better'"
      ],
      "execution_count": 23,
      "outputs": [
        {
          "output_type": "error",
          "ename": "AssertionError",
          "evalue": "ignored",
          "traceback": [
            "\u001b[0;31m---------------------------------------------------------------------------\u001b[0m",
            "\u001b[0;31mAssertionError\u001b[0m                            Traceback (most recent call last)",
            "\u001b[0;32m<ipython-input-23-6a48f6aeb7f2>\u001b[0m in \u001b[0;36m<module>\u001b[0;34m()\u001b[0m\n\u001b[0;32m----> 1\u001b[0;31m \u001b[0;32massert\u001b[0m \u001b[0munfrozen_test_accuracy\u001b[0m \u001b[0;34m>\u001b[0m \u001b[0mfrozen_test_accuracy\u001b[0m\u001b[0;34m,\u001b[0m \u001b[0;34m'the unfrozen model should be better'\u001b[0m\u001b[0;34m\u001b[0m\u001b[0;34m\u001b[0m\u001b[0m\n\u001b[0m",
            "\u001b[0;31mAssertionError\u001b[0m: the unfrozen model should be better"
          ]
        }
      ]
    },
    {
      "cell_type": "markdown",
      "metadata": {
        "id": "o5gzyLbAlBpX",
        "colab_type": "text"
      },
      "source": [
        "--- \n",
        "# Question 2 (train a model on Wikitext-2)\n",
        "\n",
        "Here we'll apply what we just learned to NLP. In this section we'll make our own feature extractor and pretrain it on Wikitext-2.\n",
        "\n",
        "The WikiText language modeling dataset is a collection of over 100 million tokens extracted from the set of verified Good and Featured articles on Wikipedia. The dataset is available under the Creative Commons Attribution-ShareAlike License.\n",
        "\n",
        "#### Part A\n",
        "In this section you need to generate the training, validation and test split. Feel free to use code from your previous lectures."
      ]
    },
    {
      "cell_type": "code",
      "metadata": {
        "id": "HziblVvPlBpY",
        "colab_type": "code",
        "colab": {}
      },
      "source": [
        "from torchtext.datasets import WikiText2\n",
        "\n",
        "\n",
        "def init_wikitext_dataset():\n",
        "    \"\"\"\n",
        "    Fill in the details\n",
        "    \"\"\"\n",
        "    wikitext_val = None # YOUR CODE HERE\n",
        "    wikitext_train = None # YOUR CODE HERE\n",
        "    wikitext_test = None # YOUR CODE HERE\n",
        "    \n",
        "    return wikitext_train, wikitext_val, wikitext_test"
      ],
      "execution_count": 0,
      "outputs": []
    },
    {
      "cell_type": "code",
      "metadata": {
        "id": "MYj-JN0VzvTY",
        "colab_type": "code",
        "colab": {
          "base_uri": "https://localhost:8080/",
          "height": 34
        },
        "outputId": "5a9fdb90-5922-4d38-ed70-d9e51931ebdd"
      },
      "source": [
        "type(WikiText2)"
      ],
      "execution_count": 9,
      "outputs": [
        {
          "output_type": "execute_result",
          "data": {
            "text/plain": [
              "type"
            ]
          },
          "metadata": {
            "tags": []
          },
          "execution_count": 9
        }
      ]
    },
    {
      "cell_type": "markdown",
      "metadata": {
        "id": "EFhY6SXplBpd",
        "colab_type": "text"
      },
      "source": [
        "#### Part B   \n",
        "Here we design our own feature extractor. In MNIST that was a resnet because we were dealing with images. Now we need to pick a model that can model sequences better. Design an RNN-based model here."
      ]
    },
    {
      "cell_type": "code",
      "metadata": {
        "id": "w2Q3r_9RlBpe",
        "colab_type": "code",
        "colab": {}
      },
      "source": [
        "def init_feature_extractor():\n",
        "    \n",
        "    feature_extractor = None #  YOUR CODE\n",
        "    \n",
        "    return feature_extractor"
      ],
      "execution_count": 0,
      "outputs": []
    },
    {
      "cell_type": "markdown",
      "metadata": {
        "id": "uRqGMQHhlBpj",
        "colab_type": "text"
      },
      "source": [
        "#### Part C\n",
        "Pretrain the feature extractor"
      ]
    },
    {
      "cell_type": "code",
      "metadata": {
        "id": "BOl--FIPlBpr",
        "colab_type": "code",
        "colab": {}
      },
      "source": [
        "def fit_feature_extractor(feature_extractor, wikitext_train, wikitext_val):\n",
        "    # FILL IN THE DETAILS\n",
        "    pass"
      ],
      "execution_count": 0,
      "outputs": []
    },
    {
      "cell_type": "markdown",
      "metadata": {
        "id": "e386BMUglBpw",
        "colab_type": "text"
      },
      "source": [
        "#### Part D\n",
        "Calculate the test perplexity on wikitext2. Feel free to recycle code from previous assignments from this class. "
      ]
    },
    {
      "cell_type": "code",
      "metadata": {
        "id": "d2IfuasJlBpx",
        "colab_type": "code",
        "colab": {}
      },
      "source": [
        "def calculate_wiki2_test_perplexity(feature_extractor, wikitext_test):\n",
        "    \n",
        "    # FILL IN DETAILS\n",
        "    \n",
        "    return test_ppl"
      ],
      "execution_count": 0,
      "outputs": []
    },
    {
      "cell_type": "markdown",
      "metadata": {
        "id": "EkXyuqFAlBp0",
        "colab_type": "text"
      },
      "source": [
        "#### Let's grade your results!\n",
        "(don't touch this part)"
      ]
    },
    {
      "cell_type": "code",
      "metadata": {
        "id": "-3ZjBnMWlBp1",
        "colab_type": "code",
        "colab": {}
      },
      "source": [
        "def grade_wikitext2():\n",
        "    # load data\n",
        "    wikitext_train, wikitext_val, wikitext_test = init_wikitext_dataset()\n",
        "\n",
        "    # load feature extractor\n",
        "    feature_extractor = init_feature_extractor()\n",
        "\n",
        "    # pretrain using the feature extractor\n",
        "    fit_feature_extractor(feature_extractor, wikitext_train, wikitext_val)\n",
        "\n",
        "    # check test accuracy\n",
        "    test_ppl = calculate_wiki2_test_perplexity(feature_extractor, wikitext_test)\n",
        "\n",
        "    # the real threshold will be released by Oct 11 \n",
        "    assert test_ppl < 10000, 'ummm... your perplexity is too high...'\n",
        "    \n",
        "grade_wikitext2()"
      ],
      "execution_count": 0,
      "outputs": []
    },
    {
      "cell_type": "markdown",
      "metadata": {
        "id": "imu3B9uDlBp3",
        "colab_type": "text"
      },
      "source": [
        "---   \n",
        "## Question 3 (fine-tune on MNLI)\n",
        "In this question you will use your feature_extractor from question 2\n",
        "to fine-tune on MNLI.\n",
        "\n",
        "(From the website):\n",
        "The Multi-Genre Natural Language Inference (MultiNLI) corpus is a crowd-sourced collection of 433k sentence pairs annotated with textual entailment information. The corpus is modeled on the SNLI corpus, but differs in that covers a range of genres of spoken and written text, and supports a distinctive cross-genre generalization evaluation. The corpus served as the basis for the shared task of the RepEval 2017 Workshop at EMNLP in Copenhagen.\n",
        "\n",
        "MNLI has 3 genres (3 classes).\n",
        "The goal of this question is to maximize the test accuracy in MNLI. "
      ]
    },
    {
      "cell_type": "markdown",
      "metadata": {
        "id": "PYYAj35ilBp9",
        "colab_type": "text"
      },
      "source": [
        "### Part A\n",
        "In this section you need to generate the training, validation and test split. Feel free to use code from your previous lectures."
      ]
    },
    {
      "cell_type": "code",
      "metadata": {
        "id": "d99S7Hc3lBqB",
        "colab_type": "code",
        "colab": {}
      },
      "source": [
        "from torchtext.datasets import MultiNLI\n",
        "\n",
        "def init_mnli_dataset():\n",
        "    \"\"\"\n",
        "    Fill in the details\n",
        "    \"\"\"\n",
        "    mnli_val = None # TODO\n",
        "    mnli_train = None # TODO\n",
        "    mnli_test = None # TODO\n",
        "    \n",
        "    return mnli_train, mnli_val, mnli_test"
      ],
      "execution_count": 0,
      "outputs": []
    },
    {
      "cell_type": "markdown",
      "metadata": {
        "id": "ZUNttM-zlBqK",
        "colab_type": "text"
      },
      "source": [
        "### Part B\n",
        "Here we again design a model for finetuning. Use the output of your feature-extractor as the input to this model. This should be a powerful classifier (up to you)."
      ]
    },
    {
      "cell_type": "code",
      "metadata": {
        "id": "kedTzcI_lBqL",
        "colab_type": "code",
        "colab": {}
      },
      "source": [
        "def init_finetune_model():\n",
        "    \n",
        "    # TODO FILL IN THE DETAILS\n",
        "    fine_tune_model = ...\n",
        "    \n",
        "    return fine_tune_model"
      ],
      "execution_count": 0,
      "outputs": []
    },
    {
      "cell_type": "markdown",
      "metadata": {
        "id": "SNgsUQjAlBqP",
        "colab_type": "text"
      },
      "source": [
        "### Part C\n",
        "Use the feature_extractor and your fine_tune_model to fine_tune MNLI"
      ]
    },
    {
      "cell_type": "code",
      "metadata": {
        "id": "cBxPNIeqlBqQ",
        "colab_type": "code",
        "colab": {}
      },
      "source": [
        "def fine_tune_mnli(feature_extractor, fine_tune_model, mnli_train, mnli_val):\n",
        "    # YOUR CODE HERE\n",
        "    pass"
      ],
      "execution_count": 0,
      "outputs": []
    },
    {
      "cell_type": "markdown",
      "metadata": {
        "id": "54fDrvzslBqX",
        "colab_type": "text"
      },
      "source": [
        "### Part D\n",
        "Evaluate the test accuracy"
      ]
    },
    {
      "cell_type": "code",
      "metadata": {
        "id": "Uv4ND8JXlBqZ",
        "colab_type": "code",
        "colab": {}
      },
      "source": [
        "def calculate_mnli_test_accuracy(feature_extractor, fine_tune_model, mnli_test):\n",
        "    \n",
        "    # YOUR CODE HERE...\n",
        "    \n",
        "    return test_ppl"
      ],
      "execution_count": 0,
      "outputs": []
    },
    {
      "cell_type": "markdown",
      "metadata": {
        "id": "QezS0U8olBqg",
        "colab_type": "text"
      },
      "source": [
        "### Let's grade your results"
      ]
    },
    {
      "cell_type": "code",
      "metadata": {
        "id": "0Z2_g443lBqh",
        "colab_type": "code",
        "colab": {}
      },
      "source": [
        "def grade_mnli():\n",
        "    # load data\n",
        "    mnli_train, mnli_val, mnli_test = init_mnli_dataset()\n",
        "\n",
        "    # no need to load feature extractor because it is fine-tuned\n",
        "    feature_extractor = feature_extractor\n",
        "\n",
        "    # init the fine_tune model\n",
        "    fine_tune_model = init_finetune_model()\n",
        "    \n",
        "    # finetune\n",
        "    fine_tune_mnli(feature_extractor, fine_tune_model, mnli_train, mnli_val)\n",
        "\n",
        "    # check test accuracy\n",
        "    test_accuracy = calculate_mnli_test_accuracy(feature_extractor, wikitext_test)\n",
        "\n",
        "    # the real threshold will be released by Oct 11 \n",
        "    assert test_ppl > 0.00, 'ummm... your accuracy is too low...'\n",
        "    \n",
        "grade_mnli()"
      ],
      "execution_count": 0,
      "outputs": []
    },
    {
      "cell_type": "markdown",
      "metadata": {
        "id": "WoGLqmFTlBqk",
        "colab_type": "text"
      },
      "source": [
        "---  \n",
        "### Question 4 (BERT)\n",
        "\n",
        "A major direction in research came from a model called BERT, released last year.  \n",
        "\n",
        "In this question you'll use BERT as your feature_extractor instead of the model you\n",
        "designed yourself.\n",
        "\n",
        "To get BERT, head on over to (https://github.com/huggingface/transformers) and load your BERT model here"
      ]
    },
    {
      "cell_type": "code",
      "metadata": {
        "id": "z_ZHtTmglBql",
        "colab_type": "code",
        "colab": {}
      },
      "source": [
        "!pip install transformers"
      ],
      "execution_count": 0,
      "outputs": []
    },
    {
      "cell_type": "markdown",
      "metadata": {
        "id": "BbuOLSp6lBqn",
        "colab_type": "text"
      },
      "source": [
        "### Part A (init BERT)\n",
        "In this section you need to create an instance of BERT and return if from the function"
      ]
    },
    {
      "cell_type": "code",
      "metadata": {
        "id": "PId7NePvlBqn",
        "colab_type": "code",
        "colab": {}
      },
      "source": [
        "from transformers import BertTokenizer, BertModel, BertForMaskedLM\n",
        "\n",
        "def init_bert():\n",
        "    \n",
        "    BERT = None # ... YOUR CODE HERE\n",
        "    \n",
        "    return BERT"
      ],
      "execution_count": 0,
      "outputs": []
    },
    {
      "cell_type": "markdown",
      "metadata": {
        "id": "7cWn2D_elBqq",
        "colab_type": "text"
      },
      "source": [
        "## Part B (fine-tune with BERT)\n",
        "\n",
        "Use BERT as your feature extractor to finetune MNLI. Use a new finetune model (reset weights)."
      ]
    },
    {
      "cell_type": "code",
      "metadata": {
        "id": "RufT24h3lBqs",
        "colab_type": "code",
        "colab": {}
      },
      "source": [
        "def fine_tune_mnli_BERT(BERT_feature_extractor, fine_tune_model, mnli_train, mnli_val):\n",
        "    # YOUR CODE HERE\n",
        "    pass"
      ],
      "execution_count": 0,
      "outputs": []
    },
    {
      "cell_type": "markdown",
      "metadata": {
        "id": "985RT4k_lBqv",
        "colab_type": "text"
      },
      "source": [
        "## Part C\n",
        "Evaluate how well we did"
      ]
    },
    {
      "cell_type": "code",
      "metadata": {
        "id": "tjS-siMKlBqw",
        "colab_type": "code",
        "colab": {}
      },
      "source": [
        "def calculate_mnli_test_accuracy_BERT(feature_extractor, fine_tune_model, mnli_test):\n",
        "    \n",
        "    # YOUR CODE HERE...\n",
        "    \n",
        "    return test_ppl"
      ],
      "execution_count": 0,
      "outputs": []
    },
    {
      "cell_type": "markdown",
      "metadata": {
        "id": "G63hdiuLlBqx",
        "colab_type": "text"
      },
      "source": [
        "## Let's grade your BERT results!"
      ]
    },
    {
      "cell_type": "code",
      "metadata": {
        "id": "UsKUWdLilBqy",
        "colab_type": "code",
        "colab": {}
      },
      "source": [
        "def grade_mnli_BERT():\n",
        "    BERT_feature_extractor = init_bert()\n",
        "    \n",
        "    # load data\n",
        "    mnli_train, mnli_val, mnli_test = init_mnli_dataset()\n",
        "\n",
        "    # init the fine_tune model\n",
        "    fine_tune_model = init_finetune_model()\n",
        "    \n",
        "    # finetune\n",
        "    fine_tune_mnli(BERT_feature_extractor, fine_tune_model, mnli_train, mnli_val)\n",
        "\n",
        "    # check test accuracy\n",
        "    test_accuracy = calculate_mnli_test_accuracy(feature_extractor, wikitext_test)\n",
        "    \n",
        "    # the real threshold will be released by Oct 11 \n",
        "    assert test_ppl > 0.0, 'ummm... your accuracy is too low...'\n",
        "    \n",
        "grade_mnli_BERT()"
      ],
      "execution_count": 0,
      "outputs": []
    }
  ]
}