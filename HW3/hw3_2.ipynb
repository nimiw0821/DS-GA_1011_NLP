{
  "nbformat": 4,
  "nbformat_minor": 0,
  "metadata": {
    "kernelspec": {
      "name": "python3",
      "display_name": "Python 3"
    },
    "colab": {
      "name": "hw3.ipynb",
      "provenance": [],
      "toc_visible": true,
      "machine_shape": "hm",
      "include_colab_link": true
    },
    "accelerator": "GPU"
  },
  "cells": [
    {
      "cell_type": "markdown",
      "metadata": {
        "id": "view-in-github",
        "colab_type": "text"
      },
      "source": [
        "<a href=\"https://colab.research.google.com/github/nimiw0821/DS-GA_1011_NLP/blob/master/HW3/hw3_2.ipynb\" target=\"_parent\"><img src=\"https://colab.research.google.com/assets/colab-badge.svg\" alt=\"Open In Colab\"/></a>"
      ]
    },
    {
      "cell_type": "markdown",
      "metadata": {
        "id": "QZDv6To6xMjn",
        "colab_type": "text"
      },
      "source": [
        "---   \n",
        "# HW3 - Transfer learning\n",
        "\n",
        "#### Due October 30, 2019\n",
        "\n",
        "In this assignment you will learn about transfer learning. This technique is perhaps one of the most important techniques for industry. When a problem you want to solve does not have enough data, we use a different (larger) dataset to learn representations which can help us solve our task using the smaller task.\n",
        "\n",
        "The general steps to transfer learning are as follows:\n",
        "\n",
        "1. Find a huge dataset with similar characteristics to the problem you are interested in.\n",
        "2. Choose a model powerful enough to extract meaningful representations from the huge dataset.\n",
        "3. Train this model on the huge dataset.\n",
        "4. Use this model to train on the smaller dataset.\n",
        "\n",
        "\n",
        "### This homework has the following sections:\n",
        "1. Question 1: MNIST fine-tuning (Parts A, B, C, D).\n",
        "2. Question 2: Pretrain on Wikitext2 (Part A, B, C, D)\n",
        "3. Question 3: Finetune on MNLI (Part A, B, C, D)\n",
        "4. Question 4: Finetune using pretrained BERT (Part A, B, C)"
      ]
    },
    {
      "cell_type": "markdown",
      "metadata": {
        "id": "nTVaqCImxMjq",
        "colab_type": "text"
      },
      "source": [
        "---   \n",
        "## Question 1 (MNIST transfer learning)\n",
        "To grasp the high-level approach to transfer learning, let's first do a simple example using computer vision. \n",
        "\n",
        "The torchvision library has pretrained models (resnets, vggnets, etc) on the Imagenet dataset. Imagenet is a dataset\n",
        "with 1.3 million images covering over 1000 classes of objects. When you use one of these models, the weights of the model initialize\n",
        "with the weights saved from training on imagenet.\n",
        "\n",
        "In this task we will:\n",
        "1. Choose a pretrained model.\n",
        "2. Freeze the model so that the weights don't change.\n",
        "3. Fine-tune on a few labels of MNIST.   "
      ]
    },
    {
      "cell_type": "markdown",
      "metadata": {
        "id": "ZvnfJqgVxMjq",
        "colab_type": "text"
      },
      "source": [
        "#### Choose a model\n",
        "Here we pick any of the models from torchvision"
      ]
    },
    {
      "cell_type": "code",
      "metadata": {
        "id": "9XMP-eipxMjr",
        "colab_type": "code",
        "colab": {
          "base_uri": "https://localhost:8080/",
          "height": 71
        },
        "outputId": "bf449492-1a97-4b05-da90-23623552abae"
      },
      "source": [
        "import torch\n",
        "import torchvision.models as models\n",
        "\n",
        "class Identity(torch.nn.Module):\n",
        "    def __init__(self):\n",
        "        super(Identity, self).__init__()\n",
        "        \n",
        "    def forward(self, x):\n",
        "        return x\n",
        "\n",
        "# init the pretrained feature extractor\n",
        "pretrained_resnet18 = models.resnet18(pretrained=True)\n",
        "\n",
        "# we don't want the built in last layer, we're going to modify it ourselves\n",
        "pretrained_resnet18.fc = Identity()"
      ],
      "execution_count": 1,
      "outputs": [
        {
          "output_type": "stream",
          "text": [
            "Downloading: \"https://download.pytorch.org/models/resnet18-5c106cde.pth\" to /root/.cache/torch/checkpoints/resnet18-5c106cde.pth\n",
            "100%|██████████| 44.7M/44.7M [00:01<00:00, 32.0MB/s]\n"
          ],
          "name": "stderr"
        }
      ]
    },
    {
      "cell_type": "markdown",
      "metadata": {
        "id": "NyYzE2lyxMju",
        "colab_type": "text"
      },
      "source": [
        "#### Freeze the model\n",
        "Here we freeze the weights of the model. Freezing means the gradients will not backpropagate\n",
        "into these weights.\n",
        "\n",
        "By doing this you can think about the model as a feature extractor. This feature extractor outputs\n",
        "a **representation** of an input. This representation is a matrix that encodes information about the input."
      ]
    },
    {
      "cell_type": "code",
      "metadata": {
        "id": "oabFpzuWxMju",
        "colab_type": "code",
        "colab": {}
      },
      "source": [
        "def freeze_model(model):\n",
        "    for param in model.parameters():\n",
        "        param.requires_grad = False\n",
        "        \n",
        "def unfreeze_model(model):\n",
        "    for param in model.parameters():\n",
        "        param.requires_grad = True\n",
        "        \n",
        "freeze_model(pretrained_resnet18)"
      ],
      "execution_count": 0,
      "outputs": []
    },
    {
      "cell_type": "markdown",
      "metadata": {
        "id": "JpMGmaEsxMjw",
        "colab_type": "text"
      },
      "source": [
        "#### Init target dataset\n",
        "Here we define the dataset we are actually interested in."
      ]
    },
    {
      "cell_type": "code",
      "metadata": {
        "id": "NSaVnW7GwhLd",
        "colab_type": "code",
        "colab": {}
      },
      "source": [
        "import os\n",
        "from torchvision import transforms\n",
        "from torchvision.datasets import  MNIST\n",
        "from torch.utils.data import DataLoader, random_split\n",
        "import torch.nn.functional as F"
      ],
      "execution_count": 0,
      "outputs": []
    },
    {
      "cell_type": "code",
      "metadata": {
        "id": "zaihqHuqxMjx",
        "colab_type": "code",
        "colab": {
          "base_uri": "https://localhost:8080/",
          "height": 972
        },
        "outputId": "332a3a2b-7d2d-489f-f22d-c40090da8901"
      },
      "source": [
        "#  train/val  split\n",
        "mnist_dataset = MNIST(os.getcwd(), train=True, download=True, transform = transforms.Compose([transforms.Grayscale(3),transforms.ToTensor()]))\n",
        "mnist_train, mnist_val = random_split(mnist_dataset, [55000, 5000])\n",
        "\n",
        "mnist_train = DataLoader(mnist_train, batch_size=32)\n",
        "mnist_val = DataLoader(mnist_val, batch_size=32)\n",
        "\n",
        "# test split\n",
        "mnist_test = DataLoader(MNIST(os.getcwd(), train=False, download=True, transform = transforms.Compose([transforms.Grayscale(3),transforms.ToTensor()])), batch_size=32)"
      ],
      "execution_count": 3,
      "outputs": [
        {
          "output_type": "stream",
          "text": [
            "  0%|          | 0/9912422 [00:00<?, ?it/s]"
          ],
          "name": "stderr"
        },
        {
          "output_type": "stream",
          "text": [
            "Downloading http://yann.lecun.com/exdb/mnist/train-images-idx3-ubyte.gz to /content/MNIST/raw/train-images-idx3-ubyte.gz\n"
          ],
          "name": "stdout"
        },
        {
          "output_type": "stream",
          "text": [
            "100%|█████████▉| 9887744/9912422 [00:25<00:00, 413184.42it/s]"
          ],
          "name": "stderr"
        },
        {
          "output_type": "stream",
          "text": [
            "Extracting /content/MNIST/raw/train-images-idx3-ubyte.gz to /content/MNIST/raw\n"
          ],
          "name": "stdout"
        },
        {
          "output_type": "stream",
          "text": [
            "\n",
            "0it [00:00, ?it/s]\u001b[A\n",
            "32768it [00:00, 262414.78it/s]\u001b[A\n",
            "\u001b[A\n",
            "0it [00:00, ?it/s]\u001b[A"
          ],
          "name": "stderr"
        },
        {
          "output_type": "stream",
          "text": [
            "Downloading http://yann.lecun.com/exdb/mnist/train-labels-idx1-ubyte.gz to /content/MNIST/raw/train-labels-idx1-ubyte.gz\n",
            "Extracting /content/MNIST/raw/train-labels-idx1-ubyte.gz to /content/MNIST/raw\n",
            "Downloading http://yann.lecun.com/exdb/mnist/t10k-images-idx3-ubyte.gz to /content/MNIST/raw/t10k-images-idx3-ubyte.gz\n"
          ],
          "name": "stdout"
        },
        {
          "output_type": "stream",
          "text": [
            "\n",
            "  1%|          | 16384/1648877 [00:00<00:10, 157848.08it/s]\u001b[A\n",
            "  4%|▍         | 73728/1648877 [00:00<00:07, 197285.42it/s]\u001b[A\n",
            "  7%|▋         | 114688/1648877 [00:00<00:06, 227353.78it/s]\u001b[A\n",
            " 10%|█         | 172032/1648877 [00:00<00:05, 271830.41it/s]\u001b[A\n",
            " 14%|█▍        | 229376/1648877 [00:00<00:04, 316174.05it/s]\u001b[A\n",
            " 16%|█▋        | 270336/1648877 [00:00<00:04, 328957.19it/s]\u001b[A\n",
            " 20%|█▉        | 327680/1648877 [00:00<00:03, 365878.56it/s]\u001b[A\n",
            " 22%|██▏       | 368640/1648877 [00:00<00:04, 317021.48it/s]\u001b[A\n",
            " 25%|██▍       | 409600/1648877 [00:01<00:04, 309021.14it/s]\u001b[A\n",
            " 27%|██▋       | 450560/1648877 [00:01<00:03, 303467.26it/s]\u001b[A\n",
            " 30%|██▉       | 491520/1648877 [00:01<00:03, 317544.48it/s]\u001b[A\n",
            " 33%|███▎      | 540672/1648877 [00:01<00:03, 345644.84it/s]\u001b[A\n",
            " 36%|███▋      | 598016/1648877 [00:01<00:02, 381852.67it/s]\u001b[A\n",
            " 40%|████      | 663552/1648877 [00:01<00:02, 430536.60it/s]\u001b[A\n",
            " 45%|████▌     | 745472/1648877 [00:01<00:02, 437642.38it/s]\u001b[A\n",
            " 49%|████▉     | 811008/1648877 [00:01<00:01, 470744.49it/s]\u001b[A\n",
            " 53%|█████▎    | 868352/1648877 [00:02<00:01, 467149.73it/s]\u001b[A\n",
            " 56%|█████▌    | 917504/1648877 [00:02<00:01, 424765.84it/s]\u001b[A\n",
            " 59%|█████▊    | 966656/1648877 [00:02<00:01, 351597.97it/s]\u001b[A\n",
            " 61%|██████    | 1007616/1648877 [00:02<00:01, 355663.42it/s]\u001b[A\n",
            " 64%|██████▎   | 1048576/1648877 [00:02<00:01, 301525.16it/s]\u001b[A\n",
            " 66%|██████▌   | 1089536/1648877 [00:02<00:01, 308633.92it/s]\u001b[A\n",
            " 69%|██████▉   | 1138688/1648877 [00:03<00:01, 302854.06it/s]\u001b[A\n",
            " 71%|███████   | 1171456/1648877 [00:03<00:01, 299800.67it/s]\u001b[A\n",
            " 73%|███████▎  | 1204224/1648877 [00:03<00:01, 297533.21it/s]\u001b[A\n",
            " 75%|███████▌  | 1236992/1648877 [00:03<00:01, 275199.63it/s]\u001b[A\n",
            " 77%|███████▋  | 1269760/1648877 [00:03<00:01, 245486.00it/s]\u001b[A\n",
            " 79%|███████▉  | 1302528/1648877 [00:03<00:01, 216350.74it/s]\u001b[A\n",
            " 81%|████████  | 1335296/1648877 [00:03<00:01, 233183.63it/s]\u001b[A\n",
            " 83%|████████▎ | 1368064/1648877 [00:04<00:01, 235352.62it/s]\u001b[A\n",
            " 85%|████████▍ | 1400832/1648877 [00:04<00:01, 224486.35it/s]\u001b[A\n",
            " 87%|████████▋ | 1433600/1648877 [00:04<00:00, 239063.26it/s]\u001b[A\n",
            " 89%|████████▉ | 1466368/1648877 [00:04<00:00, 236398.86it/s]\u001b[A\n",
            " 90%|█████████ | 1490944/1648877 [00:04<00:00, 231292.70it/s]\u001b[A\n",
            " 92%|█████████▏| 1523712/1648877 [00:04<00:00, 246701.83it/s]\u001b[A\n",
            " 95%|█████████▌| 1572864/1648877 [00:04<00:00, 283991.03it/s]\u001b[A\n",
            " 97%|█████████▋| 1605632/1648877 [00:04<00:00, 295035.63it/s]\u001b[A\n",
            "\n",
            "0it [00:00, ?it/s]\u001b[A\u001b[A\n",
            "\n",
            "8192it [00:00, 129178.75it/s]\u001b[A\u001b[A"
          ],
          "name": "stderr"
        },
        {
          "output_type": "stream",
          "text": [
            "Extracting /content/MNIST/raw/t10k-images-idx3-ubyte.gz to /content/MNIST/raw\n",
            "Downloading http://yann.lecun.com/exdb/mnist/t10k-labels-idx1-ubyte.gz to /content/MNIST/raw/t10k-labels-idx1-ubyte.gz\n",
            "Extracting /content/MNIST/raw/t10k-labels-idx1-ubyte.gz to /content/MNIST/raw\n",
            "Processing...\n",
            "Done!\n"
          ],
          "name": "stdout"
        }
      ]
    },
    {
      "cell_type": "markdown",
      "metadata": {
        "id": "5o29-IvnxMjz",
        "colab_type": "text"
      },
      "source": [
        "### Part A (init fine-tune model)\n",
        "decide what model to use for fine-tuning"
      ]
    },
    {
      "cell_type": "code",
      "metadata": {
        "id": "2a1lyV69xMj0",
        "colab_type": "code",
        "colab": {}
      },
      "source": [
        "def init_fine_tune_model():\n",
        "  # we will use the structure from resnet18 as our fine_tune_model\n",
        "  feature_extractor = models.resnet18(pretrained=True)\n",
        "  num_ftrs = feature_extractor.fc.in_features\n",
        "  # freeze the model\n",
        "  freeze_model(feature_extractor)\n",
        "  fine_tune_model = feature_extractor\n",
        "  # add the last layer \n",
        "  fine_tune_model.fc = nn.Linear(num_ftrs,10)\n",
        "  fine_tune_model= fine_tune_model.to(current_device)\n",
        "  return fine_tune_model"
      ],
      "execution_count": 0,
      "outputs": []
    },
    {
      "cell_type": "markdown",
      "metadata": {
        "id": "z-v_ZxyLxMj2",
        "colab_type": "text"
      },
      "source": [
        "### Part B (Fine-tune (Frozen))\n",
        "\n",
        "The actual problem we care about solving likely has a different number of classes or is a different task altogether. Fine-tuning is the process of using the extracted representations (features) to solve this downstream task  (the task you're interested in).\n",
        "\n",
        "To illustrate this, we'll use our pretrained model (on Imagenet), to solve the MNIST classification task.\n",
        "\n",
        "There are two types of finetuning. \n",
        "\n",
        "#### 1. Frozen feature_extractor\n",
        "In the first type we pretrain with the FROZEN feature_extractor and NEVER unfreeze it during finetuning.\n",
        "\n",
        "\n",
        "#### 2. Unfrozen feature_extractor\n",
        "In the second, we finetune with a FROZEN feature_extractor for a few epochs, then unfreeze the feature extractor and finish training.\n",
        "\n",
        "\n",
        "In this part we will use the first version"
      ]
    },
    {
      "cell_type": "code",
      "metadata": {
        "id": "wa1rKHP44SS6",
        "colab_type": "code",
        "colab": {}
      },
      "source": [
        "# defining what device to use\n",
        "num_gpus = torch.cuda.device_count()\n",
        "if num_gpus > 0:\n",
        "    current_device = 'cuda'\n",
        "else:\n",
        "    current_device = 'cpu'"
      ],
      "execution_count": 0,
      "outputs": []
    },
    {
      "cell_type": "code",
      "metadata": {
        "id": "Z2yj-CACxMj2",
        "colab_type": "code",
        "colab": {}
      },
      "source": [
        "import torch.optim as optim\n",
        "import torch.nn as nn\n",
        "\n",
        "def FROZEN_fine_tune_mnist(feature_extractor, fine_tune_model, mnist_train, mnist_val,model_name,hyperparameters,save):\n",
        "\n",
        "  model =  fine_tune_model \n",
        "\n",
        "  # criterion\n",
        "  criterion = nn.CrossEntropyLoss()\n",
        "  # only update the parameters that are not frozen \n",
        "  model_params = [p for p in model.parameters() if p.requires_grad]\n",
        "  optimizer = optim.Adam(model_params, lr=hyperparameters['lr'], weight_decay=hyperparameters['weight_decay'])\n",
        "  num_epochs = hyperparameters['num_epochs']\n",
        "  PATH = model_name + '.pth'\n",
        "\n",
        "  for epoch in range(num_epochs):\n",
        "    avg_loss = 0\n",
        "    train_log_cache = []\n",
        "\n",
        "    # training phase\n",
        "    model.train()\n",
        "    for i,(inp,target) in enumerate(mnist_train):\n",
        "      optimizer.zero_grad()\n",
        "      inp = inp.to(current_device)\n",
        "      target = target.to(current_device)\n",
        "      logits = model(inp)\n",
        "      # compute loss \n",
        "      loss = criterion(logits.view(-1, logits.size(-1)), target.view(-1))\n",
        "      # back-propogation \n",
        "      loss.backward()\n",
        "      # gradient clipping \n",
        "      nn.utils.clip_grad_norm_(model.parameters(), max_norm=5)\n",
        "      optimizer.step()\n",
        "      train_log_cache.append(loss.item())\n",
        "\n",
        "      if i % 1000 == 0:\n",
        "        avg_train_loss = sum(train_log_cache)/len(train_log_cache)\n",
        "        print('Step {} avg train loss = {:.{prec}f}'.format(i, avg_train_loss, prec=4))\n",
        "        train_log_cache = []\n",
        "\n",
        "    # validation phase \n",
        "    valid_losses = []\n",
        "    model.eval()\n",
        "    with torch.no_grad():\n",
        "      for i,(inp,target) in enumerate(mnist_val):\n",
        "        #inp = inp.repeat(1,3,1,1)\n",
        "        inp = inp.to(current_device)\n",
        "        target = target.to(current_device)\n",
        "        logits = model(inp)\n",
        "        # compute loss \n",
        "        loss = criterion(logits.view(-1, logits.size(-1)), target.view(-1))\n",
        "        valid_losses.append(loss.item())\n",
        "    avg_val_loss = sum(valid_losses) / len(valid_losses)\n",
        "    print('Validation loss after {} epoch = {:.{prec}f}'.format(epoch+1, avg_val_loss, prec=4))\n",
        "\n",
        "  print('Finish training!')\n",
        "\n",
        "  if save:\n",
        "    torch.save(model,PATH)"
      ],
      "execution_count": 0,
      "outputs": []
    },
    {
      "cell_type": "markdown",
      "metadata": {
        "id": "XdH0qxP2xMj4",
        "colab_type": "text"
      },
      "source": [
        "### Part C (compute test accuracy)\n",
        "Compute the test accuracy of fine-tuned model on MNIST"
      ]
    },
    {
      "cell_type": "code",
      "metadata": {
        "id": "UFoQE2w-xMj5",
        "colab_type": "code",
        "colab": {}
      },
      "source": [
        "  def calculate_mnist_test_accuracy(feature_extractor, fine_tune_model, mnist_test):\n",
        "    model = fine_tune_model\n",
        "    model.eval()\n",
        "    test_accuracy = []\n",
        "    batch_num = 0\n",
        "    with torch.no_grad():\n",
        "        for i, (inp, target) in enumerate(mnist_test):\n",
        "          batch_num += 1\n",
        "          inp = inp.to(current_device)\n",
        "          target = target.to(current_device)\n",
        "          logits = model(inp)\n",
        "          softmax_output = F.softmax(logits,dim = 1)\n",
        "          predictions = torch.argmax(softmax_output, dim=1)\n",
        "          for i in range(len(predictions)):\n",
        "            if predictions[i] == target[i]:\n",
        "              test_accuracy.append(1)\n",
        "            else:\n",
        "              test_accuracy.append(0)\n",
        "    \n",
        "    return(sum(test_accuracy) / len(test_accuracy))"
      ],
      "execution_count": 0,
      "outputs": []
    },
    {
      "cell_type": "markdown",
      "metadata": {
        "id": "eJsjm29OxMj7",
        "colab_type": "text"
      },
      "source": [
        "### Grade!\n",
        "Let's see how you did"
      ]
    },
    {
      "cell_type": "code",
      "metadata": {
        "id": "2bfA1hRkxMj7",
        "colab_type": "code",
        "colab": {
          "base_uri": "https://localhost:8080/",
          "height": 1000
        },
        "outputId": "8ca1e761-0125-424c-917b-e3c3de0220ed"
      },
      "source": [
        "def grade_mnist_frozen():\n",
        "\n",
        "    # init a ft model\n",
        "    fine_tune_model = init_fine_tune_model()\n",
        "    \n",
        "    # run the transfer learning routine\n",
        "    FROZEN_fine_tune_mnist(feature_extractor = pretrained_resnet18,\n",
        "                          fine_tune_model = fine_tune_model,\n",
        "                          mnist_train =  mnist_train,\n",
        "                          mnist_val = mnist_val,\n",
        "                          model_name = 'frozen_resnet18',\n",
        "                          hyperparameters = hyperparameters,\n",
        "                          save = True)\n",
        "    \n",
        "    # calculate test accuracy\n",
        "    PATH = 'frozen_resnet18.pth'\n",
        "    fine_tune_model = torch.load(PATH, map_location=current_device)\n",
        "    test_accuracy = calculate_mnist_test_accuracy(pretrained_resnet18, fine_tune_model, mnist_test)\n",
        "    \n",
        "    # the real threshold will be released by Oct 11 \n",
        "    assert test_accuracy > 0.0, 'your accuracy is too low...'\n",
        "    \n",
        "    return test_accuracy\n",
        "    \n",
        "hyperparameters= {\n",
        "    'lr': 0.001,\n",
        "    'num_epochs': 15,\n",
        "    'weight_decay': 0         \n",
        " }    \n",
        "frozen_test_accuracy = grade_mnist_frozen()"
      ],
      "execution_count": 11,
      "outputs": [
        {
          "output_type": "stream",
          "text": [
            "Step 0 avg train loss = 2.6672\n",
            "Step 1000 avg train loss = 1.0820\n",
            "Validation loss after 1 epoch = 0.8098\n",
            "Step 0 avg train loss = 1.1259\n",
            "Step 1000 avg train loss = 0.8539\n",
            "Validation loss after 2 epoch = 0.7881\n",
            "Step 0 avg train loss = 1.1120\n",
            "Step 1000 avg train loss = 0.8295\n",
            "Validation loss after 3 epoch = 0.7830\n",
            "Step 0 avg train loss = 1.1153\n",
            "Step 1000 avg train loss = 0.8197\n",
            "Validation loss after 4 epoch = 0.7821\n",
            "Step 0 avg train loss = 1.1225\n",
            "Step 1000 avg train loss = 0.8149\n",
            "Validation loss after 5 epoch = 0.7827\n",
            "Step 0 avg train loss = 1.1299\n",
            "Step 1000 avg train loss = 0.8122\n",
            "Validation loss after 6 epoch = 0.7836\n",
            "Step 0 avg train loss = 1.1363\n",
            "Step 1000 avg train loss = 0.8107\n",
            "Validation loss after 7 epoch = 0.7847\n",
            "Step 0 avg train loss = 1.1416\n",
            "Step 1000 avg train loss = 0.8098\n",
            "Validation loss after 8 epoch = 0.7856\n",
            "Step 0 avg train loss = 1.1457\n",
            "Step 1000 avg train loss = 0.8092\n",
            "Validation loss after 9 epoch = 0.7865\n",
            "Step 0 avg train loss = 1.1490\n",
            "Step 1000 avg train loss = 0.8089\n",
            "Validation loss after 10 epoch = 0.7872\n",
            "Step 0 avg train loss = 1.1516\n",
            "Step 1000 avg train loss = 0.8087\n",
            "Validation loss after 11 epoch = 0.7878\n",
            "Step 0 avg train loss = 1.1536\n",
            "Step 1000 avg train loss = 0.8085\n",
            "Validation loss after 12 epoch = 0.7884\n",
            "Step 0 avg train loss = 1.1552\n",
            "Step 1000 avg train loss = 0.8084\n",
            "Validation loss after 13 epoch = 0.7888\n",
            "Step 0 avg train loss = 1.1564\n",
            "Step 1000 avg train loss = 0.8084\n",
            "Validation loss after 14 epoch = 0.7892\n",
            "Step 0 avg train loss = 1.1574\n",
            "Step 1000 avg train loss = 0.8083\n",
            "Validation loss after 15 epoch = 0.7895\n",
            "Finish training!\n"
          ],
          "name": "stdout"
        },
        {
          "output_type": "stream",
          "text": [
            "/usr/local/lib/python3.6/dist-packages/torch/serialization.py:292: UserWarning: Couldn't retrieve source code for container of type ResNet. It won't be checked for correctness upon loading.\n",
            "  \"type \" + obj.__name__ + \". It won't be checked \"\n",
            "/usr/local/lib/python3.6/dist-packages/torch/serialization.py:292: UserWarning: Couldn't retrieve source code for container of type Conv2d. It won't be checked for correctness upon loading.\n",
            "  \"type \" + obj.__name__ + \". It won't be checked \"\n",
            "/usr/local/lib/python3.6/dist-packages/torch/serialization.py:292: UserWarning: Couldn't retrieve source code for container of type BatchNorm2d. It won't be checked for correctness upon loading.\n",
            "  \"type \" + obj.__name__ + \". It won't be checked \"\n",
            "/usr/local/lib/python3.6/dist-packages/torch/serialization.py:292: UserWarning: Couldn't retrieve source code for container of type ReLU. It won't be checked for correctness upon loading.\n",
            "  \"type \" + obj.__name__ + \". It won't be checked \"\n",
            "/usr/local/lib/python3.6/dist-packages/torch/serialization.py:292: UserWarning: Couldn't retrieve source code for container of type MaxPool2d. It won't be checked for correctness upon loading.\n",
            "  \"type \" + obj.__name__ + \". It won't be checked \"\n",
            "/usr/local/lib/python3.6/dist-packages/torch/serialization.py:292: UserWarning: Couldn't retrieve source code for container of type Sequential. It won't be checked for correctness upon loading.\n",
            "  \"type \" + obj.__name__ + \". It won't be checked \"\n",
            "/usr/local/lib/python3.6/dist-packages/torch/serialization.py:292: UserWarning: Couldn't retrieve source code for container of type BasicBlock. It won't be checked for correctness upon loading.\n",
            "  \"type \" + obj.__name__ + \". It won't be checked \"\n",
            "/usr/local/lib/python3.6/dist-packages/torch/serialization.py:292: UserWarning: Couldn't retrieve source code for container of type AdaptiveAvgPool2d. It won't be checked for correctness upon loading.\n",
            "  \"type \" + obj.__name__ + \". It won't be checked \"\n",
            "/usr/local/lib/python3.6/dist-packages/torch/serialization.py:292: UserWarning: Couldn't retrieve source code for container of type Linear. It won't be checked for correctness upon loading.\n",
            "  \"type \" + obj.__name__ + \". It won't be checked \"\n"
          ],
          "name": "stderr"
        }
      ]
    },
    {
      "cell_type": "code",
      "metadata": {
        "id": "0y3HaJXF4fhX",
        "colab_type": "code",
        "colab": {
          "base_uri": "https://localhost:8080/",
          "height": 34
        },
        "outputId": "31528a95-2d43-4b9b-c309-58c5f93d511f"
      },
      "source": [
        "print(\"The test accuracy for frozen model is {}\".format(frozen_test_accuracy))"
      ],
      "execution_count": 12,
      "outputs": [
        {
          "output_type": "stream",
          "text": [
            "The test accuracy for frozen model is 0.7533\n"
          ],
          "name": "stdout"
        }
      ]
    },
    {
      "cell_type": "markdown",
      "metadata": {
        "id": "siCyxYeqxMj9",
        "colab_type": "text"
      },
      "source": [
        "### Part D (Fine-tune Unfrozen)\n",
        "Now we'll learn how to train using the \"unfrozen\" approach.\n",
        "\n",
        "In this approach we'll:\n",
        "1. keep the feature_extract frozen for a few epochs (10)\n",
        "2. Unfreeze it.\n",
        "3. Finish training"
      ]
    },
    {
      "cell_type": "code",
      "metadata": {
        "id": "aqgn_zsQxMj-",
        "colab_type": "code",
        "colab": {}
      },
      "source": [
        "def UNFROZEN_fine_tune_mnist(feature_extractor, fine_tune_model, model_name, mnist_train, mnist_val, hyperparameters,save):\n",
        "  model = fine_tune_model\n",
        "  criterion = nn.CrossEntropyLoss()\n",
        "  # only update the parameters that are not frozen \n",
        "  model_params = [p for p in model.parameters() if p.requires_grad]\n",
        "  optimizer = optim.Adam(model_params, lr=hyperparameters['lr'], weight_decay=hyperparameters['weight_decay'])\n",
        "  num_epochs = hyperparameters['num_epochs']\n",
        "  PATH = model_name + '.pth'\n",
        "  \n",
        "  for epoch in range(num_epochs):\n",
        "    if epoch >10:\n",
        "      # unfreeze the model when more than 10 epochs\n",
        "      unfreeze_model(model)\n",
        "    avg_loss = 0\n",
        "    train_log_cache = []\n",
        "\n",
        "    # training phase\n",
        "    model.train()\n",
        "    for i,(inp,target) in enumerate(mnist_train):\n",
        "      optimizer.zero_grad()\n",
        "      #inp = inp.repeat(1,3,1,1)\n",
        "      inp = inp.to(current_device)\n",
        "      target = target.to(current_device)\n",
        "      logits = model(inp)\n",
        "      # compute loss \n",
        "      loss = criterion(logits.view(-1, logits.size(-1)), target.view(-1))\n",
        "      # back-propogation \n",
        "      loss.backward()\n",
        "      # gradient clipping \n",
        "      nn.utils.clip_grad_norm_(model.parameters(), max_norm=5)\n",
        "      optimizer.step()\n",
        "      train_log_cache.append(loss.item())\n",
        "\n",
        "      if i % 1000 == 0:\n",
        "        avg_train_loss = sum(train_log_cache)/len(train_log_cache)\n",
        "        print('Step {} avg train loss = {:.{prec}f}'.format(i, avg_train_loss, prec=4))\n",
        "        train_log_cache = []\n",
        "\n",
        "    # validation phase \n",
        "    valid_losses = []\n",
        "    model.eval()\n",
        "    with torch.no_grad():\n",
        "      for i,(inp,target) in enumerate(mnist_val):\n",
        "        #inp = inp.repeat(1,3,1,1)\n",
        "        inp = inp.to(current_device)\n",
        "        target = target.to(current_device)\n",
        "        logits = model(inp)\n",
        "        # compute loss \n",
        "        loss = criterion(logits.view(-1, logits.size(-1)), target.view(-1))\n",
        "        valid_losses.append(loss.item())\n",
        "    avg_val_loss = sum(valid_losses) / len(valid_losses)\n",
        "    print('Validation loss after {} epoch = {:.{prec}f}'.format(epoch+1, avg_val_loss, prec=4))\n",
        "\n",
        "  print('Finish training!')\n",
        "\n",
        "  if save:\n",
        "    torch.save(model,PATH)"
      ],
      "execution_count": 0,
      "outputs": []
    },
    {
      "cell_type": "markdown",
      "metadata": {
        "id": "ACt0a0rlxMkA",
        "colab_type": "text"
      },
      "source": [
        "### Grade UNFROZEN\n",
        "Let's see if there's a difference in accuracy!"
      ]
    },
    {
      "cell_type": "code",
      "metadata": {
        "id": "GqpTkiDuxMkA",
        "colab_type": "code",
        "colab": {
          "base_uri": "https://localhost:8080/",
          "height": 317
        },
        "outputId": "b3d2d687-3498-4fcf-c103-7c9d470f71a9"
      },
      "source": [
        "def grade_mnist_unfrozen():\n",
        "  # init a ft model\n",
        "    fine_tune_model = init_fine_tune_model()\n",
        "    \n",
        "    # run the transfer learning routine\n",
        "    UNFROZEN_fine_tune_mnist(feature_extractor = pretrained_resnet18,\n",
        "                              fine_tune_model = fine_tune_model,\n",
        "                              mnist_train =  mnist_train,\n",
        "                              mnist_val = mnist_val,\n",
        "                              model_name = 'unfrozen_resnet18',\n",
        "                              hyperparameters = hyperparameters,\n",
        "                              save = True)\n",
        "    \n",
        "    # calculate test accuracy\n",
        "    PATH = 'unfrozen_resnet18.pth'\n",
        "    fine_tune_model = torch.load(PATH, map_location=current_device)\n",
        "    test_accuracy = calculate_mnist_test_accuracy(pretrained_resnet18, fine_tune_model, mnist_test)\n",
        "    \n",
        "    # the real threshold will be released by Oct 11 \n",
        "    assert test_accuracy > 0.0, 'your accuracy is too low...'\n",
        "    \n",
        "    return test_accuracy\n",
        "\n",
        "hyperparameters= {\n",
        "    'lr': 0.001,\n",
        "    'num_epochs': 15,\n",
        "    'weight_decay': 0         \n",
        " }\n",
        "    \n",
        "unfrozen_test_accuracy = grade_mnist_unfrozen()"
      ],
      "execution_count": 6,
      "outputs": [
        {
          "output_type": "error",
          "ename": "NameError",
          "evalue": "ignored",
          "traceback": [
            "\u001b[0;31m---------------------------------------------------------------------------\u001b[0m",
            "\u001b[0;31mNameError\u001b[0m                                 Traceback (most recent call last)",
            "\u001b[0;32m<ipython-input-6-5040c5ce9d48>\u001b[0m in \u001b[0;36m<module>\u001b[0;34m()\u001b[0m\n\u001b[1;32m     28\u001b[0m  }\n\u001b[1;32m     29\u001b[0m \u001b[0;34m\u001b[0m\u001b[0m\n\u001b[0;32m---> 30\u001b[0;31m \u001b[0munfrozen_test_accuracy\u001b[0m \u001b[0;34m=\u001b[0m \u001b[0mgrade_mnist_unfrozen\u001b[0m\u001b[0;34m(\u001b[0m\u001b[0;34m)\u001b[0m\u001b[0;34m\u001b[0m\u001b[0;34m\u001b[0m\u001b[0m\n\u001b[0m",
            "\u001b[0;32m<ipython-input-6-5040c5ce9d48>\u001b[0m in \u001b[0;36mgrade_mnist_unfrozen\u001b[0;34m()\u001b[0m\n\u001b[1;32m      1\u001b[0m \u001b[0;32mdef\u001b[0m \u001b[0mgrade_mnist_unfrozen\u001b[0m\u001b[0;34m(\u001b[0m\u001b[0;34m)\u001b[0m\u001b[0;34m:\u001b[0m\u001b[0;34m\u001b[0m\u001b[0;34m\u001b[0m\u001b[0m\n\u001b[1;32m      2\u001b[0m   \u001b[0;31m# init a ft model\u001b[0m\u001b[0;34m\u001b[0m\u001b[0;34m\u001b[0m\u001b[0;34m\u001b[0m\u001b[0m\n\u001b[0;32m----> 3\u001b[0;31m     \u001b[0mfine_tune_model\u001b[0m \u001b[0;34m=\u001b[0m \u001b[0minit_fine_tune_model\u001b[0m\u001b[0;34m(\u001b[0m\u001b[0;34m)\u001b[0m\u001b[0;34m\u001b[0m\u001b[0;34m\u001b[0m\u001b[0m\n\u001b[0m\u001b[1;32m      4\u001b[0m \u001b[0;34m\u001b[0m\u001b[0m\n\u001b[1;32m      5\u001b[0m     \u001b[0;31m# run the transfer learning routine\u001b[0m\u001b[0;34m\u001b[0m\u001b[0;34m\u001b[0m\u001b[0;34m\u001b[0m\u001b[0m\n",
            "\u001b[0;31mNameError\u001b[0m: name 'init_fine_tune_model' is not defined"
          ]
        }
      ]
    },
    {
      "cell_type": "code",
      "metadata": {
        "id": "H-lZFCQaxMkH",
        "colab_type": "code",
        "colab": {}
      },
      "source": [
        "assert unfrozen_test_accuracy > frozen_test_accuracy, 'the unfrozen model should be better'"
      ],
      "execution_count": 0,
      "outputs": []
    },
    {
      "cell_type": "markdown",
      "metadata": {
        "id": "5DahrDqexMkI",
        "colab_type": "text"
      },
      "source": [
        "--- \n",
        "# Question 2 (train a model on Wikitext-2)\n",
        "\n",
        "Here we'll apply what we just learned to NLP. In this section we'll make our own feature extractor and pretrain it on Wikitext-2.\n",
        "\n",
        "The WikiText language modeling dataset is a collection of over 100 million tokens extracted from the set of verified Good and Featured articles on Wikipedia. The dataset is available under the Creative Commons Attribution-ShareAlike License.\n",
        "\n",
        "#### Part A\n",
        "In this section you need to generate the training, validation and test split. Feel free to use code from your previous lectures."
      ]
    },
    {
      "cell_type": "markdown",
      "metadata": {
        "id": "0HiIN3gUBjkT",
        "colab_type": "text"
      },
      "source": [
        "### part A load text from torch db"
      ]
    },
    {
      "cell_type": "code",
      "metadata": {
        "id": "SvwGk6Urq3bW",
        "colab_type": "code",
        "colab": {}
      },
      "source": [
        "import torch\n",
        "from torch.utils.data import Dataset\n",
        "from tqdm import tqdm\n",
        "import pickle\n",
        "import torch\n",
        "import torchvision.models as models\n",
        "import os\n",
        "from torchvision import transforms\n",
        "from torchvision.datasets import  MNIST\n",
        "from torch.utils.data import DataLoader, random_split\n",
        "import torch.nn.functional as F\n",
        "import os\n",
        "import json\n",
        "try:\n",
        "  import jsonlines\n",
        "except:\n",
        "  !pip install jsonlines\n",
        "import numpy as np\n",
        "from collections import defaultdict\n",
        "from torch import nn\n",
        "import numpy\n",
        "import torch\n",
        "import torch.nn as nn\n",
        "import torch.nn.functional as F\n",
        "import torch.optim as optim\n",
        "from torch.autograd import Variable as V"
      ],
      "execution_count": 0,
      "outputs": []
    },
    {
      "cell_type": "code",
      "metadata": {
        "id": "uSwG36sSJZaA",
        "colab_type": "code",
        "colab": {}
      },
      "source": [
        "class LMDataset(Dataset):\n",
        "    def __init__(self, list_of_token_lists):\n",
        "        self.input_tensors = []\n",
        "        self.target_tensors = []\n",
        "\n",
        "        for sample in list_of_token_lists:\n",
        "            self.input_tensors.append(torch.tensor([sample[:-1]], dtype=torch.long))\n",
        "            self.target_tensors.append(torch.tensor([sample[1:]], dtype=torch.long))\n",
        "\n",
        "    def __len__(self):\n",
        "        return len(self.input_tensors)\n",
        "\n",
        "    def __getitem__(self, idx):\n",
        "        return (self.input_tensors[idx], self.target_tensors[idx])\n",
        "\n",
        "\n",
        "def tokenize_dataset(datasets, dictionary):\n",
        "    tokenized_datasets = {}\n",
        "    for split, dataset in datasets.items():\n",
        "        _current_dictified = []\n",
        "        for l in tqdm(dataset):\n",
        "            l = ['<bos>'] + l + ['<eos>']\n",
        "            encoded_l = dictionary.encode_token_seq(l)\n",
        "            _current_dictified.append(encoded_l)\n",
        "        tokenized_datasets[split] = _current_dictified\n",
        "    return tokenized_datasets\n",
        "\n",
        "def tokenize_mnli_dataset(datasets, dictionary):\n",
        "    tokenized_datasets = {}\n",
        "    for split, dataset in datasets.items():\n",
        "        _current_dictified = []\n",
        "        for s1, s2 in tqdm(dataset):\n",
        "            s1 = ['<bos>'] + s1 + ['<eos>']\n",
        "            s2 = ['<bos>'] + s2 + ['<eos>']\n",
        "            encoded_s1 = dictionary.encode_token_seq(s1)            \n",
        "            encoded_s2 = dictionary.encode_token_seq(s2)\n",
        "            _current_dictified.append([encoded_s1, encoded_s2])\n",
        "        tokenized_datasets[split] = _current_dictified\n",
        "    return tokenized_datasets\n",
        "\n",
        "def pad_list_of_tensors(list_of_tensors, pad_token):\n",
        "    max_length = max([t.size(-1) for t in list_of_tensors])\n",
        "    padded_list = []\n",
        "    for t in list_of_tensors:\n",
        "        padded_tensor = torch.cat(\n",
        "            [t, torch.tensor([[pad_token] * (max_length - t.size(-1))], dtype=torch.long)], dim=-1)\n",
        "        padded_list.append(padded_tensor)\n",
        "\n",
        "    padded_tensor = torch.cat(padded_list, dim=0)\n",
        "    return padded_tensor\n",
        "\n",
        "\n",
        "def pad_collate_fn(pad_idx, batch):\n",
        "    input_list = [s[0] for s in batch]\n",
        "    target_list = [s[1] for s in batch]\n",
        "    input_tensor = pad_list_of_tensors(input_list, pad_idx)\n",
        "    target_tensor = pad_list_of_tensors(target_list, pad_idx)\n",
        "    return input_tensor, target_tensor\n"
      ],
      "execution_count": 0,
      "outputs": []
    },
    {
      "cell_type": "code",
      "metadata": {
        "id": "Fj0YfNIqJESO",
        "colab_type": "code",
        "colab": {}
      },
      "source": [
        "def load_wikitext(data_dir):\n",
        "    import subprocess\n",
        "    filename = os.path.join(data_dir, 'wikitext2-sentencized.json')\n",
        "    if not os.path.exists(filename):\n",
        "        os.makedirs(data_dir, exist_ok=True)\n",
        "        url = \"https://nyu.box.com/shared/static/9kb7l7ci30hb6uahhbssjlq0kctr5ii4.json\"\n",
        "        args = ['wget', '-O', filename, url]\n",
        "        subprocess.call(args)\n",
        "    raw_datasets = json.load(open(filename, 'r'))\n",
        "    for name in raw_datasets:\n",
        "        raw_datasets[name] = [x.split() for x in raw_datasets[name]]\n",
        "\n",
        "    if os.path.exists(os.path.join(data_dir, 'vocab.pkl')):\n",
        "        vocab = pickle.load(open(os.path.join(data_dir, 'vocab.pkl'), 'rb'))\n",
        "    else:\n",
        "        vocab = Dictionary(raw_datasets, include_valid=False)\n",
        "        pickle.dump(vocab, open(os.path.join(data_dir, 'vocab.pkl'), 'wb'))\n",
        "\n",
        "    tokenized_datasets = tokenize_dataset(raw_datasets, vocab)\n",
        "    datasets = {name: LMDataset(ds) for name, ds in tokenized_datasets.items()}\n",
        "    print(\"Vocab size: %d\" % (len(vocab)))\n",
        "    return raw_datasets, datasets, vocab\n",
        "\n",
        "\n",
        "class Dictionary(object):\n",
        "    def __init__(self, datasets, include_valid=False):\n",
        "        self.tokens = []\n",
        "        self.ids = {}\n",
        "        self.counts = {}\n",
        "        \n",
        "        # add special tokens\n",
        "        self.add_token('<bos>')\n",
        "        self.add_token('<eos>')\n",
        "        self.add_token('<pad>')\n",
        "        self.add_token('<unk>')\n",
        "        \n",
        "        for line in tqdm(datasets['train']):\n",
        "            for w in line:\n",
        "                self.add_token(w)\n",
        "                    \n",
        "        if include_valid is True:\n",
        "            for line in tqdm(datasets['valid']):\n",
        "                for w in line:\n",
        "                    self.add_token(w)\n",
        "                            \n",
        "    def add_token(self, w):\n",
        "        if w not in self.tokens:\n",
        "            self.tokens.append(w)\n",
        "            _w_id = len(self.tokens) - 1\n",
        "            self.ids[w] = _w_id\n",
        "            self.counts[w] = 1\n",
        "        else:\n",
        "            self.counts[w] += 1\n",
        "\n",
        "    def get_id(self, w):\n",
        "        return self.ids[w]\n",
        "    \n",
        "    def get_token(self, idx):\n",
        "        return self.tokens[idx]\n",
        "    \n",
        "    def decode_idx_seq(self, l):\n",
        "        return [self.tokens[i] for i in l]\n",
        "    \n",
        "    def encode_token_seq(self, l):\n",
        "        return [self.ids[i] if i in self.ids else self.ids['<unk>'] for i in l]\n",
        "    \n",
        "    def __len__(self):\n",
        "        return len(self.tokens)"
      ],
      "execution_count": 0,
      "outputs": []
    },
    {
      "cell_type": "code",
      "metadata": {
        "id": "WWmdicdZU_oO",
        "colab_type": "code",
        "colab": {
          "base_uri": "https://localhost:8080/",
          "height": 85
        },
        "outputId": "effcd3e9-ded2-4936-e181-d6baf05ea3cd"
      },
      "source": [
        "raw_datasets, datasets, vocab = load_wikitext(os.getcwd())\n",
        "data_loaders = {name: DataLoader(datasets[name], batch_size=32, shuffle=True,\n",
        "                                        collate_fn=lambda x: pad_collate_fn(vocab.get_id('<pad>'), x))\n",
        "                        for name in datasets}"
      ],
      "execution_count": 42,
      "outputs": [
        {
          "output_type": "stream",
          "text": [
            "100%|██████████| 78274/78274 [00:00<00:00, 82007.52it/s]\n",
            "100%|██████████| 8464/8464 [00:00<00:00, 135435.37it/s]\n",
            "100%|██████████| 9708/9708 [00:00<00:00, 143947.56it/s]\n"
          ],
          "name": "stderr"
        },
        {
          "output_type": "stream",
          "text": [
            "Vocab size: 33178\n"
          ],
          "name": "stdout"
        }
      ]
    },
    {
      "cell_type": "code",
      "metadata": {
        "id": "uqTa_FAmA21n",
        "colab_type": "code",
        "colab": {}
      },
      "source": [
        "from torchtext.datasets import WikiText2\n",
        "\n",
        "def init_wikitext_dataset():\n",
        "    \"\"\"\n",
        "    Fill in the details\n",
        "    \"\"\"\n",
        "    \n",
        "    wikitext_val_loaders = data_loaders['valid'] # YOUR CODE HERE\n",
        "    wikitext_train_loaders = data_loaders['train'] # YOUR CODE HERE\n",
        "    wikitext_test_loaders = data_loaders['test'] # YOUR CODE HERE\n",
        "    \n",
        "    return wikitext_train_loaders, wikitext_val_loaders, wikitext_test_loaders\n",
        "\n",
        "wk2_train_loaders, wk2_val_loaders, wk2_test_loaders = init_wikitext_dataset()"
      ],
      "execution_count": 0,
      "outputs": []
    },
    {
      "cell_type": "code",
      "metadata": {
        "id": "4x65-0fPJI80",
        "colab_type": "code",
        "colab": {
          "base_uri": "https://localhost:8080/",
          "height": 85
        },
        "outputId": "706321af-5062-4b00-e046-cc45741ab1c9"
      },
      "source": [
        "print('WIKITEXT 2 dataset statistics')\n",
        "print(f'training samples:{len(wk2_train_loaders)}')\n",
        "print(f'val samples:{len(wk2_val_loaders)}')\n",
        "print(f'test samples:{len(wk2_test_loaders)}')"
      ],
      "execution_count": 46,
      "outputs": [
        {
          "output_type": "stream",
          "text": [
            "WIKITEXT 2 dataset statistics\n",
            "training samples:2447\n",
            "val samples:265\n",
            "test samples:304\n"
          ],
          "name": "stdout"
        }
      ]
    },
    {
      "cell_type": "markdown",
      "metadata": {
        "id": "bkQcBdLdxMkL",
        "colab_type": "text"
      },
      "source": [
        "#### Part B   \n",
        "Here we design our own feature extractor. In MNIST that was a resnet because we were dealing with images. Now we need to pick a model that can model sequences better. Design an RNN-based model here."
      ]
    },
    {
      "cell_type": "code",
      "metadata": {
        "id": "69tCkvj9UPZR",
        "colab_type": "code",
        "colab": {}
      },
      "source": [
        "embed_dim = 64\n",
        "hidden_dim = 510\n",
        "num_layers = 3\n",
        "dropout = 0.1\n",
        "options = {\n",
        "    'vocab_size': len(vocab),\n",
        "    'embed_dim': embed_dim,\n",
        "    'padding_idx': vocab.get_id('<pad>'),\n",
        "    'hidden_dim': hidden_dim,\n",
        "    'num_layers': num_layers,\n",
        "    'dropout': dropout,\n",
        "    'batch_first': True,\n",
        "    'num_classes': len(vocab)\n",
        "}\n",
        "\n",
        "hyperparams = {\n",
        "    'optimizer': 'Adam',\n",
        "    'lr': 0.001,\n",
        "    'num_epochs': 5,\n",
        "    'weight_decay': 0\n",
        "}\n",
        "feature_extractor_name = \"feature_extractor\"\n",
        "PATH = feature_extractor_name + '.pth'"
      ],
      "execution_count": 0,
      "outputs": []
    },
    {
      "cell_type": "code",
      "metadata": {
        "id": "aCZc2qhGNLpy",
        "colab_type": "code",
        "colab": {}
      },
      "source": [
        "class LstmLM(torch.nn.Module):\n",
        "    def __init__(self):\n",
        "        '''\n",
        "        params:\n",
        "            @options: dictionary of model parameters\n",
        "        '''\n",
        "        super(LstmLM, self).__init__()\n",
        "        self.hidden_dim = options['hidden_dim']\n",
        "        self.vocab_size = options['vocab_size']\n",
        "        self.padding_idx = options['padding_idx']\n",
        "        self.num_layers = options['num_layers']\n",
        "        self.batch_first = options['batch_first'] # boolean\n",
        "        self.embed_dim = options['embed_dim']\n",
        "        self.num_classes = options['num_classes'] # if during LM pretraining: = vocab_size\n",
        "        self.p = options['dropout']\n",
        "        \n",
        "        self.lookup = nn.Embedding(self.vocab_size, self.embed_dim, self.padding_idx)\n",
        "        self.lstm = nn.LSTM(self.embed_dim, self.hidden_dim, self.num_layers, batch_first=self.batch_first, dropout=self.p) # lstm takes word embeddings as inputs and outputs hidden states (dim=hidden_dinm)\n",
        "        # up until now, we can us as feature extractor. The last linear layer maps from hidden states to word space needs to be defined differently for different task.\n",
        "        self.projection = nn.Linear(self.hidden_dim, self.num_classes)\n",
        "    \n",
        "    def features(self, encoded_input_sequence):\n",
        "        x = self.lookup(encoded_input_sequence)\n",
        "        x, _ = self.lstm(x) # distributed representation\n",
        "        return x\n",
        "\n",
        "    def forward(self, encoded_input_sequence):\n",
        "        '''\n",
        "        Forwrad method process the input from token ids to logits\n",
        "        params:\n",
        "            @inp: input sentence\n",
        "        '''\n",
        "        x = self.features(encoded_input_sequence)\n",
        "        x = self.projection(x)\n",
        "        return x  #logits"
      ],
      "execution_count": 0,
      "outputs": []
    },
    {
      "cell_type": "code",
      "metadata": {
        "id": "EWQu3moHxMkL",
        "colab_type": "code",
        "colab": {}
      },
      "source": [
        "def init_feature_extractor():\n",
        "  '''\n",
        "  @options: dictionary of model parameters\n",
        "  '''\n",
        "  #  YOUR CODE\n",
        "  feature_extractor = LstmLM()\n",
        "  feature_extractor = feature_extractor.to(current_device)\n",
        "  return feature_extractor"
      ],
      "execution_count": 0,
      "outputs": []
    },
    {
      "cell_type": "markdown",
      "metadata": {
        "id": "n-KLJsTWxMkN",
        "colab_type": "text"
      },
      "source": [
        "#### Part C\n",
        "Pretrain the feature extractor"
      ]
    },
    {
      "cell_type": "code",
      "metadata": {
        "id": "NC7dImykQusV",
        "colab_type": "code",
        "colab": {}
      },
      "source": [
        "def perplexity(loss):\n",
        "  '''\n",
        "  function that computes perplexity\n",
        "  '''\n",
        "  return 2**(loss/np.log(2))"
      ],
      "execution_count": 0,
      "outputs": []
    },
    {
      "cell_type": "code",
      "metadata": {
        "id": "ZsaRBPnoxMkO",
        "colab_type": "code",
        "colab": {}
      },
      "source": [
        "def fit_feature_extractor(feature_extractor, wikitext_train, wikitext_val):\n",
        "    '''\n",
        "    function to train feature extractor\n",
        "    params:\n",
        "      @feature_extractor: initialzied feature extractor object\n",
        "      @wikitext_train: train dataloader\n",
        "      @wikitext_val: validation dataloader\n",
        "    \n",
        "    '''\n",
        "    # FILL IN THE DETAILS\n",
        "    model = feature_extractor\n",
        "\n",
        "    print(\"Training {}:\".format(feature_extractor_name))\n",
        "    \n",
        "    # criterion:\n",
        "    criterion = nn.CrossEntropyLoss(ignore_index=vocab.get_id('<pad>'))\n",
        "    if os.path.exists(PATH): # load pre-trained\n",
        "        print(\"PATH exists!\")\n",
        "        checkpoint = torch.load(PATH, map_location=current_device)\n",
        "        model.load_state_dict(checkpoint['model_state_dict'])\n",
        "        optimizer.load_state_dict(checkpoint['optimizer_state_dict'])\n",
        "    \n",
        "    else:\n",
        "      # optimizer:\n",
        "        model_params = [p for p in model.parameters() if p.requires_grad]\n",
        "        if hyperparams['optimizer'] == 'SGD':\n",
        "            optimizer = optim.SGD(model_params, lr=hyperparams['lr'], momentum=hyperparams['momentum'])\n",
        "        elif hyperparams['optimizer'] == 'Adam':\n",
        "            optimizer = optim.Adam(model_params, lr=hyperparams['lr'], weight_decay=hyperparams['weight_decay'])\n",
        "\n",
        "    plot_cache = []\n",
        "    num_epochs = hyperparams['num_epochs']\n",
        "\n",
        "    for epoch in range(num_epochs):\n",
        "        avg_loss=0\n",
        "        # do train\n",
        "        model.train()\n",
        "        train_log_cache = []\n",
        "        for i, (inp, target) in enumerate(wikitext_train):\n",
        "            optimizer.zero_grad()\n",
        "            inp = inp.to(current_device)\n",
        "            target = target.to(current_device)\n",
        "            logits = model(inp)\n",
        "            # compute loss\n",
        "            loss = criterion(logits.view(-1, logits.size(-1)), target.view(-1))\n",
        "            # back-propogation\n",
        "            loss.backward()\n",
        "            # gradient clipping\n",
        "            nn.utils.clip_grad_norm_(model.parameters(), max_norm=5)\n",
        "            optimizer.step()\n",
        "            train_log_cache.append(loss.item()) # store training loss\n",
        "\n",
        "            if i % 1000 == 0:\n",
        "                avg_train_loss = sum(train_log_cache)/len(train_log_cache)\n",
        "                avg_train_perplexity = perplexity(avg_train_loss)\n",
        "                print('Step {} avg train loss = {:.{prec}f}'.format(i, avg_train_loss, prec=4))\n",
        "                print('Step {} avg train perplexity = {:.{prec}f}'.format(i, avg_train_perplexity, prec=4))\n",
        "                train_log_cache = []\n",
        "\n",
        "        #do validation\n",
        "        valid_losses = []\n",
        "        model.eval()\n",
        "        with torch.no_grad():\n",
        "            for i, (inp, target) in enumerate(wikitext_val):\n",
        "                # current_batch_size = len(inp)\n",
        "                inp = inp.to(current_device)\n",
        "                target = target.to(current_device)\n",
        "                device = torch.device(\"cuda\")\n",
        "                logits = model(inp)\n",
        "                # compute loss\n",
        "                loss = criterion(logits.view(-1, logits.size(-1)), target.view(-1))\n",
        "                valid_losses.append(loss.item()) # store validation loss\n",
        "            avg_val_loss = sum(valid_losses) / len(valid_losses)\n",
        "            avg_val_perplexity = perplexity(avg_val_loss)\n",
        "            print('Validation loss after {} epoch = {:.{prec}f}'.format(epoch, avg_val_loss, prec=4))\n",
        "            print('Validation perplexity after {} epoch = {:.{prec}f}'.format(epoch, avg_val_perplexity, prec=4))\n",
        "\n",
        "        plot_cache.append((avg_train_loss, avg_val_loss, avg_train_perplexity, avg_val_perplexity))\n",
        "    \n",
        "    torch.save(model, PATH) # save the entire model object\n",
        "\n",
        "    print('Finished training')\n",
        "    return plot_cache, model"
      ],
      "execution_count": 0,
      "outputs": []
    },
    {
      "cell_type": "markdown",
      "metadata": {
        "id": "_0-KFzl4xMkP",
        "colab_type": "text"
      },
      "source": [
        "#### Part D\n",
        "Calculate the test perplexity on wikitext2. Feel free to recycle code from previous assignments from this class. "
      ]
    },
    {
      "cell_type": "code",
      "metadata": {
        "id": "l31mVZTGxMkQ",
        "colab_type": "code",
        "colab": {}
      },
      "source": [
        "def calculate_wiki2_test_perplexity(feature_extractor, wikitext_test):\n",
        "  model = feature_extractor\n",
        "  model.eval()\n",
        "  perplexity_history = []\n",
        "  for i, (inp, target) in enumerate(wikitext_test):\n",
        "    optimizer.zero_grad()\n",
        "    inp = inp.to(current_device)\n",
        "    target = target.to(current_device)\n",
        "    logits, _ = model(inp)\n",
        "    # compute loss\n",
        "    test_loss = criterion(logits.view(-1, logits.size(-1)), target.view(-1))\n",
        "    test_perplexity = perplexity(test_loss)\n",
        "    print(test_perplexity)\n",
        "    perplexity_history.append(test_perplexity.items())\n",
        "  test_ppl = sum(perplexity_history)/len(perplexity_history) # average perplexity\n",
        "  return test_ppl"
      ],
      "execution_count": 0,
      "outputs": []
    },
    {
      "cell_type": "markdown",
      "metadata": {
        "id": "yhvOu-HYxMkS",
        "colab_type": "text"
      },
      "source": [
        "#### Let's grade your results!\n",
        "(don't touch this part)"
      ]
    },
    {
      "cell_type": "code",
      "metadata": {
        "id": "_2rL-dBbxMkS",
        "colab_type": "code",
        "colab": {
          "base_uri": "https://localhost:8080/",
          "height": 1000
        },
        "outputId": "7e1d2721-5226-459b-ce26-d9d4e421583f"
      },
      "source": [
        "def grade_wikitext2():\n",
        "    # load data\n",
        "    wikitext_train, wikitext_val, wikitext_test = init_wikitext_dataset()\n",
        "\n",
        "    # load feature extractor\n",
        "    feature_extractor = init_feature_extractor()\n",
        "\n",
        "    # pretrain using the feature extractor\n",
        "    fit_feature_extractor(feature_extractor, wikitext_train, wikitext_val)\n",
        "\n",
        "    # check test accuracy\n",
        "    test_ppl = calculate_wiki2_test_perplexity(feature_extractor, wikitext_test)\n",
        "\n",
        "    # the real threshold will be released by Oct 11 \n",
        "    assert test_ppl < 200, 'ummm... your perplexity is too high... ?should be less than 200'\n",
        "    \n",
        "grade_wikitext2()"
      ],
      "execution_count": 0,
      "outputs": [
        {
          "output_type": "stream",
          "text": [
            "Training feature_extractor:\n",
            "Step 0 avg train loss = 10.4113\n",
            "Step 0 avg train perplexity = 33233.6377\n",
            "Step 100 avg train loss = 7.6237\n",
            "Step 100 avg train perplexity = 2046.0605\n",
            "Step 200 avg train loss = 7.1285\n",
            "Step 200 avg train perplexity = 1247.0208\n",
            "Step 300 avg train loss = 7.0200\n",
            "Step 300 avg train perplexity = 1118.7963\n",
            "Step 400 avg train loss = 6.9879\n",
            "Step 400 avg train perplexity = 1083.4312\n",
            "Step 500 avg train loss = 6.9599\n",
            "Step 500 avg train perplexity = 1053.5784\n",
            "Step 600 avg train loss = 6.7803\n",
            "Step 600 avg train perplexity = 880.2962\n",
            "Step 700 avg train loss = 6.6430\n",
            "Step 700 avg train perplexity = 767.3732\n",
            "Step 800 avg train loss = 6.5587\n",
            "Step 800 avg train perplexity = 705.3352\n",
            "Step 900 avg train loss = 6.4739\n",
            "Step 900 avg train perplexity = 647.9829\n",
            "Step 1000 avg train loss = 6.4066\n",
            "Step 1000 avg train perplexity = 605.8601\n",
            "Step 1100 avg train loss = 6.3844\n",
            "Step 1100 avg train perplexity = 592.5499\n",
            "Step 1200 avg train loss = 6.3236\n",
            "Step 1200 avg train perplexity = 557.5718\n",
            "Step 1300 avg train loss = 6.2809\n",
            "Step 1300 avg train perplexity = 534.2446\n",
            "Step 1400 avg train loss = 6.2259\n",
            "Step 1400 avg train perplexity = 505.6722\n",
            "Step 1500 avg train loss = 6.1913\n",
            "Step 1500 avg train perplexity = 488.4965\n",
            "Step 1600 avg train loss = 6.1550\n",
            "Step 1600 avg train perplexity = 471.0674\n",
            "Step 1700 avg train loss = 6.1142\n",
            "Step 1700 avg train perplexity = 452.2375\n",
            "Step 1800 avg train loss = 6.0712\n",
            "Step 1800 avg train perplexity = 433.2177\n",
            "Step 1900 avg train loss = 6.0390\n",
            "Step 1900 avg train perplexity = 419.4808\n",
            "Step 2000 avg train loss = 6.0151\n",
            "Step 2000 avg train perplexity = 409.5474\n",
            "Step 2100 avg train loss = 5.9668\n",
            "Step 2100 avg train perplexity = 390.2528\n",
            "Step 2200 avg train loss = 5.9478\n",
            "Step 2200 avg train perplexity = 382.9082\n",
            "Step 2300 avg train loss = 5.9245\n",
            "Step 2300 avg train perplexity = 374.1069\n",
            "Step 2400 avg train loss = 5.8990\n",
            "Step 2400 avg train perplexity = 364.6659\n",
            "Validation loss after 0 epoch = 5.7280\n",
            "Validation perplexity after 0 epoch = 307.3415\n",
            "Step 0 avg train loss = 5.8200\n",
            "Step 0 avg train perplexity = 336.9803\n",
            "Step 100 avg train loss = 5.7513\n",
            "Step 100 avg train perplexity = 314.5890\n",
            "Step 200 avg train loss = 5.7267\n",
            "Step 200 avg train perplexity = 306.9596\n",
            "Step 300 avg train loss = 5.7494\n",
            "Step 300 avg train perplexity = 313.9871\n",
            "Step 400 avg train loss = 5.7033\n",
            "Step 400 avg train perplexity = 299.8619\n",
            "Step 500 avg train loss = 5.7127\n",
            "Step 500 avg train perplexity = 302.6725\n",
            "Step 600 avg train loss = 5.6812\n",
            "Step 600 avg train perplexity = 293.3150\n",
            "Step 700 avg train loss = 5.6702\n",
            "Step 700 avg train perplexity = 290.0939\n",
            "Step 800 avg train loss = 5.6790\n",
            "Step 800 avg train perplexity = 292.6632\n",
            "Step 900 avg train loss = 5.6657\n",
            "Step 900 avg train perplexity = 288.7811\n",
            "Step 1000 avg train loss = 5.6237\n",
            "Step 1000 avg train perplexity = 276.9229\n",
            "Step 1100 avg train loss = 5.6118\n",
            "Step 1100 avg train perplexity = 273.6421\n",
            "Step 1200 avg train loss = 5.6114\n",
            "Step 1200 avg train perplexity = 273.5334\n",
            "Step 1300 avg train loss = 5.5946\n",
            "Step 1300 avg train perplexity = 268.9703\n",
            "Step 1400 avg train loss = 5.5973\n",
            "Step 1400 avg train perplexity = 269.7091\n",
            "Step 1500 avg train loss = 5.6012\n",
            "Step 1500 avg train perplexity = 270.7590\n",
            "Step 1600 avg train loss = 5.5629\n",
            "Step 1600 avg train perplexity = 260.5899\n",
            "Step 1700 avg train loss = 5.5563\n",
            "Step 1700 avg train perplexity = 258.8568\n",
            "Step 1800 avg train loss = 5.5327\n",
            "Step 1800 avg train perplexity = 252.8229\n",
            "Step 1900 avg train loss = 5.5448\n",
            "Step 1900 avg train perplexity = 255.9148\n",
            "Step 2000 avg train loss = 5.4962\n",
            "Step 2000 avg train perplexity = 243.7553\n",
            "Step 2100 avg train loss = 5.5079\n",
            "Step 2100 avg train perplexity = 246.6376\n",
            "Step 2200 avg train loss = 5.5039\n",
            "Step 2200 avg train perplexity = 245.6598\n",
            "Step 2300 avg train loss = 5.4895\n",
            "Step 2300 avg train perplexity = 242.1458\n",
            "Step 2400 avg train loss = 5.4742\n",
            "Step 2400 avg train perplexity = 238.4648\n",
            "Validation loss after 1 epoch = 5.4585\n",
            "Validation perplexity after 1 epoch = 234.7513\n",
            "Step 0 avg train loss = 5.2591\n",
            "Step 0 avg train perplexity = 192.3110\n",
            "Step 100 avg train loss = 5.2680\n",
            "Step 100 avg train perplexity = 194.0336\n",
            "Step 200 avg train loss = 5.2770\n",
            "Step 200 avg train perplexity = 195.7849\n",
            "Step 300 avg train loss = 5.2671\n",
            "Step 300 avg train perplexity = 193.8580\n",
            "Step 400 avg train loss = 5.2715\n",
            "Step 400 avg train perplexity = 194.7165\n",
            "Step 500 avg train loss = 5.2717\n",
            "Step 500 avg train perplexity = 194.7558\n",
            "Step 600 avg train loss = 5.2661\n",
            "Step 600 avg train perplexity = 193.6642\n",
            "Step 700 avg train loss = 5.2470\n",
            "Step 700 avg train perplexity = 189.9993\n",
            "Step 800 avg train loss = 5.2775\n",
            "Step 800 avg train perplexity = 195.8833\n",
            "Step 900 avg train loss = 5.2600\n",
            "Step 900 avg train perplexity = 192.4828\n",
            "Step 1000 avg train loss = 5.2482\n",
            "Step 1000 avg train perplexity = 190.2261\n",
            "Step 1100 avg train loss = 5.2546\n",
            "Step 1100 avg train perplexity = 191.4487\n",
            "Step 1200 avg train loss = 5.2357\n",
            "Step 1200 avg train perplexity = 187.8583\n",
            "Step 1300 avg train loss = 5.2219\n",
            "Step 1300 avg train perplexity = 185.2945\n",
            "Step 1400 avg train loss = 5.2500\n",
            "Step 1400 avg train perplexity = 190.5747\n",
            "Step 1500 avg train loss = 5.2241\n",
            "Step 1500 avg train perplexity = 185.6915\n",
            "Step 1600 avg train loss = 5.1941\n",
            "Step 1600 avg train perplexity = 180.2116\n",
            "Step 1700 avg train loss = 5.2095\n",
            "Step 1700 avg train perplexity = 183.0026\n",
            "Step 1800 avg train loss = 5.2261\n",
            "Step 1800 avg train perplexity = 186.0636\n",
            "Step 1900 avg train loss = 5.1960\n",
            "Step 1900 avg train perplexity = 180.5455\n",
            "Step 2000 avg train loss = 5.1886\n",
            "Step 2000 avg train perplexity = 179.2138\n",
            "Step 2100 avg train loss = 5.2030\n",
            "Step 2100 avg train perplexity = 181.8143\n",
            "Step 2200 avg train loss = 5.2041\n",
            "Step 2200 avg train perplexity = 182.0168\n",
            "Step 2300 avg train loss = 5.1769\n",
            "Step 2300 avg train perplexity = 177.1328\n",
            "Step 2400 avg train loss = 5.1581\n",
            "Step 2400 avg train perplexity = 173.8308\n",
            "Validation loss after 2 epoch = 5.3509\n",
            "Validation perplexity after 2 epoch = 210.8063\n",
            "Step 0 avg train loss = 4.8928\n",
            "Step 0 avg train perplexity = 133.3234\n",
            "Step 100 avg train loss = 4.9251\n",
            "Step 100 avg train perplexity = 137.7031\n",
            "Step 200 avg train loss = 4.9474\n",
            "Step 200 avg train perplexity = 140.8049\n",
            "Step 300 avg train loss = 4.9309\n",
            "Step 300 avg train perplexity = 138.5009\n",
            "Step 400 avg train loss = 4.9529\n",
            "Step 400 avg train perplexity = 141.5897\n",
            "Step 500 avg train loss = 4.9263\n",
            "Step 500 avg train perplexity = 137.8700\n",
            "Step 600 avg train loss = 4.9355\n",
            "Step 600 avg train perplexity = 139.1447\n",
            "Step 700 avg train loss = 4.9466\n",
            "Step 700 avg train perplexity = 140.6958\n",
            "Step 800 avg train loss = 4.9520\n",
            "Step 800 avg train perplexity = 141.4577\n",
            "Step 900 avg train loss = 4.9630\n",
            "Step 900 avg train perplexity = 143.0232\n",
            "Step 1000 avg train loss = 4.9432\n",
            "Step 1000 avg train perplexity = 140.2130\n",
            "Step 1100 avg train loss = 4.9500\n",
            "Step 1100 avg train perplexity = 141.1773\n",
            "Step 1200 avg train loss = 4.9708\n",
            "Step 1200 avg train perplexity = 144.1441\n",
            "Step 1300 avg train loss = 4.9414\n",
            "Step 1300 avg train perplexity = 139.9640\n",
            "Step 1400 avg train loss = 4.9653\n",
            "Step 1400 avg train perplexity = 143.3530\n",
            "Step 1500 avg train loss = 4.9378\n",
            "Step 1500 avg train perplexity = 139.4574\n",
            "Step 1600 avg train loss = 4.9416\n",
            "Step 1600 avg train perplexity = 139.9998\n",
            "Step 1700 avg train loss = 4.9457\n",
            "Step 1700 avg train perplexity = 140.5640\n",
            "Step 1800 avg train loss = 4.9445\n",
            "Step 1800 avg train perplexity = 140.3989\n"
          ],
          "name": "stdout"
        }
      ]
    },
    {
      "cell_type": "markdown",
      "metadata": {
        "id": "LRX9Uml6xMkU",
        "colab_type": "text"
      },
      "source": [
        "---   \n",
        "## Question 3 (fine-tune on MNLI)\n",
        "In this question you will use your feature_extractor from question 2\n",
        "to fine-tune on MNLI.\n",
        "\n",
        "(From the website):\n",
        "The Multi-Genre Natural Language Inference (MultiNLI) corpus is a crowd-sourced collection of 433k sentence pairs annotated with textual entailment information. The corpus is modeled on the SNLI corpus, but differs in that covers a range of genres of spoken and written text, and supports a distinctive cross-genre generalization evaluation. The corpus served as the basis for the shared task of the RepEval 2017 Workshop at EMNLP in Copenhagen.\n",
        "\n",
        "MNLI has 3 genres (3 classes).\n",
        "The goal of this question is to maximize the test accuracy in MNLI. "
      ]
    },
    {
      "cell_type": "markdown",
      "metadata": {
        "id": "sjNGaEB3xMkV",
        "colab_type": "text"
      },
      "source": [
        "### Part A\n",
        "In this section you need to generate the training, validation and test split. Feel free to use code from your previous lectures."
      ]
    },
    {
      "cell_type": "code",
      "metadata": {
        "id": "PaUEh6xjo6Zr",
        "colab_type": "code",
        "colab": {}
      },
      "source": [
        "y_label_map = {'contradiction':0,'neutral':1,'entailment':2}\n",
        "import pandas as pd\n",
        "import io\n",
        "from collections import Counter\n",
        "\n",
        "def get_string_tokenized_data(data):\n",
        "    \n",
        "    tokenized_data_x = [];\n",
        "    y_labels = []\n",
        "    all_tokens = [];\n",
        "    \n",
        "    for i,x in enumerate(data):\n",
        "        label = x[2]\n",
        "        if label == 'nan':\n",
        "            continue\n",
        "        \n",
        "        label = y_label_map[label]\n",
        "        y_labels.append(label)\n",
        "        \n",
        "        dp = [x[0].split(), x[1].split()]\n",
        "        tokenized_data_x.append(dp)\n",
        "        all_tokens += (dp[0] + dp[1])\n",
        "        \n",
        "\n",
        "    return all_tokens, tokenized_data_x, y_labels\n",
        "        \n",
        "\n",
        "\n",
        "# convert token to id in the dataset\n",
        "def token2index_dataset(tokens_data, token2id):\n",
        "    indices_data = []\n",
        "    for tokens1, tokens2 in tokens_data:\n",
        "        index_list1 = [token2id[token] if token in token2id else UNK_IDX for token in tokens1]\n",
        "        index_list2 = [token2id[token] if token in token2id else UNK_IDX for token in tokens2]\n",
        "        indices_data.append([index_list1, index_list2])\n",
        "    return indices_data\n",
        "  \n",
        "# convert token to id in the dataset\n",
        "def token2index_using_wikitext2_dict(tokens_data, vocab):\n",
        "    indices_data = []\n",
        "    for tokens1, tokens2 in tokens_data:\n",
        "        index_list1 = vocab.encode_token_seq(tokens1)\n",
        "        index_list2 = vocab.encode_token_seq(tokens2)\n",
        "        indices_data.append([index_list1, index_list2])\n",
        "    return indices_data\n",
        "\n",
        "\n",
        "def build_vocab(all_tokens):\n",
        "    # Returns:\n",
        "    # id2token: list of tokens, where id2token[i] returns token that corresponds to token i\n",
        "    # token2id: dictionary where keys represent tokens and corresponding values represent indices\n",
        "    token_counter = Counter(all_tokens)\n",
        "    vocab, count = zip(*token_counter.most_common(MAX_VOCAB_SIZE))\n",
        "    id2token = list(vocab)\n",
        "    token2id = dict(zip(vocab, range(2,2+len(vocab)))) \n",
        "    id2token = ['<pad>', '<unk>'] + id2token\n",
        "    token2id['<pad>'] = PAD_IDX \n",
        "    token2id['<unk>'] = UNK_IDX\n",
        "    return token2id, id2token"
      ],
      "execution_count": 0,
      "outputs": []
    },
    {
      "cell_type": "code",
      "metadata": {
        "id": "BUEpMpIHpLPe",
        "colab_type": "code",
        "colab": {
          "base_uri": "https://localhost:8080/",
          "height": 102
        },
        "outputId": "7b040aa4-0eec-4463-f834-9c43acdb9e8a"
      },
      "source": [
        "val_df = pd.read_csv('mnli_val.tsv', sep=\"\\t\")\n",
        "print(val_df.head(2))\n",
        "\n",
        "val_df  = np.array(val_df)\n",
        "val_df = val_df.astype(str)\n",
        "val_genre_list = val_df[:, 3]"
      ],
      "execution_count": 22,
      "outputs": [
        {
          "output_type": "stream",
          "text": [
            "                                           sentence1  ...      genre\n",
            "0  'Not entirely , ' I snapped , harsher than int...  ...    fiction\n",
            "1  cook and then the next time it would be my tur...  ...  telephone\n",
            "\n",
            "[2 rows x 4 columns]\n"
          ],
          "name": "stdout"
        }
      ]
    },
    {
      "cell_type": "code",
      "metadata": {
        "id": "01_3WxSDo6GN",
        "colab_type": "code",
        "colab": {}
      },
      "source": [
        "_, val_data_x, val_data_y = get_string_tokenized_data(val_df)\n",
        "del val_df"
      ],
      "execution_count": 0,
      "outputs": []
    },
    {
      "cell_type": "code",
      "metadata": {
        "id": "ztiJPbC-pBN1",
        "colab_type": "code",
        "colab": {}
      },
      "source": [
        "train_df = pd.read_csv('mnli_train.tsv', sep=\"\\t\")\n",
        "\n",
        "train_df  = np.array(train_df)\n",
        "train_df = train_df.astype(str)\n",
        "train_genre_list = train_df[:, 3]"
      ],
      "execution_count": 0,
      "outputs": []
    },
    {
      "cell_type": "code",
      "metadata": {
        "id": "CqMCDpLrpBF2",
        "colab_type": "code",
        "colab": {}
      },
      "source": [
        "_, train_data_x, train_data_y = get_string_tokenized_data(train_df)\n",
        "del train_df"
      ],
      "execution_count": 0,
      "outputs": []
    },
    {
      "cell_type": "code",
      "metadata": {
        "id": "dym9KTJWriLy",
        "colab_type": "code",
        "colab": {}
      },
      "source": [
        "# token2id, id2token = build_vocab(all_fasttext_tokens)\n",
        "# train_data_indices = token2index_using_wikitext2_dict(train_data_x, vocab)\n",
        "# val_data_indices = token2index_using_wikitext2_dict(val_data_x, vocab)\n",
        "\n",
        "\n",
        "mnli_raw_datasets = {'train': train_data_x, 'val': val_data_x}\n",
        "mnli_tokenized_datasets = tokenize_mnli_dataset(mnli_raw_datasets, vocab)\n",
        "\n",
        "train_data_indices = mnli_tokenized_datasets['train']\n",
        "val_data_indices = mnli_tokenized_datasets['val']\n",
        "\n",
        "\n",
        "# double checking\n",
        "print('\\n')\n",
        "print (\"Train dataset size is {}\".format(len(train_data_indices)))\n",
        "print (\"Val dataset size is {}\".format(len(val_data_indices)))\n",
        "\n",
        "# del train_data_x\n",
        "# del train_data_y\n",
        "# del val_data_x\n",
        "# del val_data_y\n",
        "del mnli_tokenized_datasets"
      ],
      "execution_count": 0,
      "outputs": []
    },
    {
      "cell_type": "code",
      "metadata": {
        "id": "KgWvjP4NriFZ",
        "colab_type": "code",
        "colab": {}
      },
      "source": [
        "unique_genre = list(set(val_genre_list));\n",
        "nb_classes = len(y_label_map)"
      ],
      "execution_count": 0,
      "outputs": []
    },
    {
      "cell_type": "code",
      "metadata": {
        "id": "FPF_53wprnlD",
        "colab_type": "code",
        "colab": {}
      },
      "source": [
        "MAX_SENTENCE_LENGTH = 200\n",
        "class MNLIDataset(Dataset):\n",
        "    \"\"\"\n",
        "    Class that represents a train/validation/test dataset that's readable for PyTorch\n",
        "    Note that this class inherits torch.utils.data.Dataset\n",
        "    \"\"\"\n",
        "\n",
        "    def __init__(self, data_x, target_list):\n",
        "        \"\"\"\n",
        "        @param data_list: list of newsgroup tokens\n",
        "        @param target_list: list of newsgroup targets\n",
        "\n",
        "        \"\"\"\n",
        "        self.data_x = data_x;\n",
        "        self.target_list = target_list\n",
        "        \n",
        "        assert(len(data_x) == len(target_list))\n",
        "\n",
        "    def __len__(self):\n",
        "        return len(self.target_list)\n",
        "\n",
        "    def __getitem__(self, key):\n",
        "        \"\"\"\n",
        "        Triggered when you call dataset[i]\n",
        "        \"\"\"\n",
        "        prem_token_idx = self.data_x[key][0][:MAX_SENTENCE_LENGTH]\n",
        "        hyp_token_idx = self.data_x[key][1][:MAX_SENTENCE_LENGTH]\n",
        "        label = self.target_list[key]\n",
        "        return [prem_token_idx, hyp_token_idx, label]\n",
        "\n",
        "\n",
        "def encode_collate_func(batch):\n",
        "    \"\"\"\n",
        "    Customized function for DataLoader that dynamically pads the batch so that all\n",
        "    data have the same length\n",
        "    \"\"\"\n",
        "    prem_data_list = []\n",
        "    hyp_data_list = []\n",
        "    label_list = []\n",
        "    length_list = []\n",
        "    # print(\"collate batch: \", batch[0][0])\n",
        "    # batch[0][0] = batch[0][0][:MAX_SENTENCE_LENGTH]\n",
        "    for datum in batch:\n",
        "        label_list.append(datum[2])\n",
        "    # padding\n",
        "    for datum in batch:\n",
        "        prem_padded_vec = np.pad(np.array(datum[0]),\n",
        "                                 pad_width=((0, MAX_SENTENCE_LENGTH - len(datum[0]))),\n",
        "                                 mode=\"constant\", constant_values=0)\n",
        "        hyp_padded_vec = np.pad(np.array(datum[1]),\n",
        "                                pad_width=((0, MAX_SENTENCE_LENGTH - len(datum[1]))),\n",
        "                                mode=\"constant\", constant_values=0)\n",
        "        prem_data_list.append(prem_padded_vec)\n",
        "        hyp_data_list.append(hyp_padded_vec)\n",
        "    return [torch.from_numpy((np.array(prem_data_list))), torch.from_numpy(np.array(hyp_data_list)),\n",
        "            torch.LongTensor(label_list)]"
      ],
      "execution_count": 0,
      "outputs": []
    },
    {
      "cell_type": "code",
      "metadata": {
        "id": "v-BjhmA_pA8d",
        "colab_type": "code",
        "colab": {}
      },
      "source": [
        "BATCH_SIZE = 32\n",
        "nb_train_samples = int(0.95 * len(train_data_indices))\n",
        "nb_val_samples = len(train_data_indices) - nb_train_samples\n",
        "\n",
        "# train/val split\n",
        "train_val_dataset = MNLIDataset(train_data_indices, train_data_y)\n",
        "train_dataset, val_dataset = random_split(train_val_dataset, [nb_train_samples, nb_val_samples])\n",
        "\n",
        "# train loader\n",
        "train_mnli_loader = torch.utils.data.DataLoader(dataset=train_dataset,\n",
        "                                           batch_size=BATCH_SIZE,\n",
        "                                           collate_fn=encode_collate_func,\n",
        "                                           shuffle=True)\n",
        "\n",
        "# val loader\n",
        "val_mnli_loader = torch.utils.data.DataLoader(dataset=val_dataset,\n",
        "                                           batch_size=BATCH_SIZE,\n",
        "                                           collate_fn=encode_collate_func,\n",
        "                                           shuffle=True)\n",
        "\n",
        "# test loader\n",
        "test_dataset = MNLIDataset(val_data_indices, val_data_y)\n",
        "test_mnli_loader = torch.utils.data.DataLoader(dataset=test_dataset,\n",
        "                                           batch_size=BATCH_SIZE,\n",
        "                                           collate_fn=encode_collate_func,\n",
        "                                           shuffle=True)"
      ],
      "execution_count": 0,
      "outputs": []
    },
    {
      "cell_type": "code",
      "metadata": {
        "id": "27nEiID0rp0y",
        "colab_type": "code",
        "colab": {}
      },
      "source": [
        "print('MNLI dataset statistics')\n",
        "print(f'training samples:{len(train_mnli_loader)}')\n",
        "print(f'val samples:{len(val_mnli_loader)}')\n",
        "print(f'test samples:{len(test_mnli_loader)}')"
      ],
      "execution_count": 0,
      "outputs": []
    },
    {
      "cell_type": "code",
      "metadata": {
        "id": "U9u0Ok3oxMkW",
        "colab_type": "code",
        "colab": {}
      },
      "source": [
        "from torchtext.datasets import MultiNLI\n",
        "\n",
        "def init_mnli_dataset():\n",
        "    \"\"\"\n",
        "    Fill in the details\n",
        "    \"\"\"\n",
        "    mnli_val = None # TODO\n",
        "    mnli_train = None # TODO\n",
        "    mnli_test = None # TODO\n",
        "    \n",
        "    return mnli_train, mnli_val, mnli_test"
      ],
      "execution_count": 0,
      "outputs": []
    },
    {
      "cell_type": "markdown",
      "metadata": {
        "id": "SixdXtasxMkZ",
        "colab_type": "text"
      },
      "source": [
        "### Part B\n",
        "Here we again design a model for finetuning. Use the output of your feature-extractor as the input to this model. This should be a powerful classifier (up to you)."
      ]
    },
    {
      "cell_type": "code",
      "metadata": {
        "id": "V3NvMS0kx0nu",
        "colab_type": "code",
        "colab": {}
      },
      "source": [
        "# target classes: {0,1,2}\n",
        "mnli_num_classes = 3"
      ],
      "execution_count": 0,
      "outputs": []
    },
    {
      "cell_type": "code",
      "metadata": {
        "id": "ANIdtWJFxMkZ",
        "colab_type": "code",
        "colab": {}
      },
      "source": [
        "def init_finetune_model():\n",
        "    # TODO FILL IN THE DETAILS\n",
        "    feature_extractor = torch.load(PATH) # PATH needs to be self-defined\n",
        "    # freeze the model\n",
        "    freeze_model(feature_extractor)\n",
        "    fine_tune_model = feature_extractor\n",
        "    # add the last layer\n",
        "    fine_tune_model.W = nn.Linear(feature_extractor.hidden_dim, mnli_num_classes)\n",
        "    return fine_tune_model"
      ],
      "execution_count": 0,
      "outputs": []
    },
    {
      "cell_type": "markdown",
      "metadata": {
        "id": "QmmgMA5SxMkb",
        "colab_type": "text"
      },
      "source": [
        "### Part C\n",
        "Use the feature_extractor and your fine_tune_model to fine_tune MNLI"
      ]
    },
    {
      "cell_type": "code",
      "metadata": {
        "id": "SRx8GkC8xMkc",
        "colab_type": "code",
        "colab": {}
      },
      "source": [
        "def fine_tune_mnli(feature_extractor, fine_tune_model, mnli_train, mnli_val):\n",
        "    # YOUR CODE HERE\n",
        "    pass"
      ],
      "execution_count": 0,
      "outputs": []
    },
    {
      "cell_type": "markdown",
      "metadata": {
        "id": "2ew9krtMxMkd",
        "colab_type": "text"
      },
      "source": [
        "### Part D\n",
        "Evaluate the test accuracy"
      ]
    },
    {
      "cell_type": "code",
      "metadata": {
        "id": "yD-xPoU8xMke",
        "colab_type": "code",
        "colab": {}
      },
      "source": [
        "def calculate_mnli_test_accuracy(feature_extractor, fine_tune_model, mnli_test):\n",
        "    \n",
        "    # YOUR CODE HERE...\n",
        "    \n",
        "    return test_ppl"
      ],
      "execution_count": 0,
      "outputs": []
    },
    {
      "cell_type": "markdown",
      "metadata": {
        "id": "ZYL8IV9qxMkg",
        "colab_type": "text"
      },
      "source": [
        "### Let's grade your results"
      ]
    },
    {
      "cell_type": "code",
      "metadata": {
        "id": "i9a8fBRbxMkg",
        "colab_type": "code",
        "colab": {}
      },
      "source": [
        "def grade_mnli():\n",
        "    # load data\n",
        "    mnli_train, mnli_val, mnli_test = init_mnli_dataset()\n",
        "\n",
        "    # no need to load feature extractor because it is fine-tuned\n",
        "    feature_extractor = feature_extractor\n",
        "\n",
        "    # init the fine_tune model\n",
        "    fine_tune_model = init_finetune_model()\n",
        "    \n",
        "    # finetune\n",
        "    fine_tune_mnli(feature_extractor, fine_tune_model, mnli_train, mnli_val)\n",
        "\n",
        "    # check test accuracy\n",
        "    test_accuracy = calculate_mnli_test_accuracy(feature_extractor, wikitext_test)\n",
        "\n",
        "    # the real threshold will be released by Oct 11 \n",
        "    assert test_ppl > 0.00, 'ummm... your accuracy is too low...'\n",
        "    \n",
        "grade_mnli()"
      ],
      "execution_count": 0,
      "outputs": []
    },
    {
      "cell_type": "markdown",
      "metadata": {
        "id": "eHQkMhCzxMkh",
        "colab_type": "text"
      },
      "source": [
        "---  \n",
        "## Question 4 (BERT)\n",
        "\n",
        "A major direction in research came from a model called BERT, released last year.  \n",
        "\n",
        "In this question you'll use BERT as your feature_extractor instead of the model you\n",
        "designed yourself.\n",
        "\n",
        "To get BERT, head on over to (https://github.com/huggingface/transformers) and load your BERT model here"
      ]
    },
    {
      "cell_type": "code",
      "metadata": {
        "id": "oCPxU-vDxMki",
        "colab_type": "code",
        "colab": {
          "base_uri": "https://localhost:8080/",
          "height": 632
        },
        "outputId": "68d30e7a-600e-4d95-9d9d-a657385b2ed6"
      },
      "source": [
        "!pip install transformers"
      ],
      "execution_count": 2,
      "outputs": [
        {
          "output_type": "stream",
          "text": [
            "Collecting transformers\n",
            "\u001b[?25l  Downloading https://files.pythonhosted.org/packages/fd/f9/51824e40f0a23a49eab4fcaa45c1c797cbf9761adedd0b558dab7c958b34/transformers-2.1.1-py3-none-any.whl (311kB)\n",
            "\r\u001b[K     |█                               | 10kB 18.0MB/s eta 0:00:01\r\u001b[K     |██                              | 20kB 2.2MB/s eta 0:00:01\r\u001b[K     |███▏                            | 30kB 2.9MB/s eta 0:00:01\r\u001b[K     |████▏                           | 40kB 2.1MB/s eta 0:00:01\r\u001b[K     |█████▎                          | 51kB 2.6MB/s eta 0:00:01\r\u001b[K     |██████▎                         | 61kB 3.1MB/s eta 0:00:01\r\u001b[K     |███████▍                        | 71kB 3.5MB/s eta 0:00:01\r\u001b[K     |████████▍                       | 81kB 3.9MB/s eta 0:00:01\r\u001b[K     |█████████▌                      | 92kB 4.4MB/s eta 0:00:01\r\u001b[K     |██████████▌                     | 102kB 3.5MB/s eta 0:00:01\r\u001b[K     |███████████▋                    | 112kB 3.5MB/s eta 0:00:01\r\u001b[K     |████████████▋                   | 122kB 3.5MB/s eta 0:00:01\r\u001b[K     |█████████████▊                  | 133kB 3.5MB/s eta 0:00:01\r\u001b[K     |██████████████▊                 | 143kB 3.5MB/s eta 0:00:01\r\u001b[K     |███████████████▊                | 153kB 3.5MB/s eta 0:00:01\r\u001b[K     |████████████████▉               | 163kB 3.5MB/s eta 0:00:01\r\u001b[K     |█████████████████▉              | 174kB 3.5MB/s eta 0:00:01\r\u001b[K     |███████████████████             | 184kB 3.5MB/s eta 0:00:01\r\u001b[K     |████████████████████            | 194kB 3.5MB/s eta 0:00:01\r\u001b[K     |█████████████████████           | 204kB 3.5MB/s eta 0:00:01\r\u001b[K     |██████████████████████          | 215kB 3.5MB/s eta 0:00:01\r\u001b[K     |███████████████████████▏        | 225kB 3.5MB/s eta 0:00:01\r\u001b[K     |████████████████████████▏       | 235kB 3.5MB/s eta 0:00:01\r\u001b[K     |█████████████████████████▎      | 245kB 3.5MB/s eta 0:00:01\r\u001b[K     |██████████████████████████▎     | 256kB 3.5MB/s eta 0:00:01\r\u001b[K     |███████████████████████████▍    | 266kB 3.5MB/s eta 0:00:01\r\u001b[K     |████████████████████████████▍   | 276kB 3.5MB/s eta 0:00:01\r\u001b[K     |█████████████████████████████▍  | 286kB 3.5MB/s eta 0:00:01\r\u001b[K     |██████████████████████████████▌ | 296kB 3.5MB/s eta 0:00:01\r\u001b[K     |███████████████████████████████▌| 307kB 3.5MB/s eta 0:00:01\r\u001b[K     |████████████████████████████████| 317kB 3.5MB/s \n",
            "\u001b[?25hRequirement already satisfied: numpy in /usr/local/lib/python3.6/dist-packages (from transformers) (1.17.3)\n",
            "Collecting sacremoses\n",
            "\u001b[?25l  Downloading https://files.pythonhosted.org/packages/1f/8e/ed5364a06a9ba720fddd9820155cc57300d28f5f43a6fd7b7e817177e642/sacremoses-0.0.35.tar.gz (859kB)\n",
            "\u001b[K     |████████████████████████████████| 860kB 45.6MB/s \n",
            "\u001b[?25hRequirement already satisfied: boto3 in /usr/local/lib/python3.6/dist-packages (from transformers) (1.9.253)\n",
            "Collecting regex\n",
            "\u001b[?25l  Downloading https://files.pythonhosted.org/packages/ff/60/d9782c56ceefa76033a00e1f84cd8c586c75e6e7fea2cd45ee8b46a386c5/regex-2019.08.19-cp36-cp36m-manylinux1_x86_64.whl (643kB)\n",
            "\u001b[K     |████████████████████████████████| 645kB 37.8MB/s \n",
            "\u001b[?25hRequirement already satisfied: tqdm in /usr/local/lib/python3.6/dist-packages (from transformers) (4.28.1)\n",
            "Requirement already satisfied: requests in /usr/local/lib/python3.6/dist-packages (from transformers) (2.21.0)\n",
            "Collecting sentencepiece\n",
            "\u001b[?25l  Downloading https://files.pythonhosted.org/packages/14/3d/efb655a670b98f62ec32d66954e1109f403db4d937c50d779a75b9763a29/sentencepiece-0.1.83-cp36-cp36m-manylinux1_x86_64.whl (1.0MB)\n",
            "\u001b[K     |████████████████████████████████| 1.0MB 35.2MB/s \n",
            "\u001b[?25hRequirement already satisfied: six in /usr/local/lib/python3.6/dist-packages (from sacremoses->transformers) (1.12.0)\n",
            "Requirement already satisfied: click in /usr/local/lib/python3.6/dist-packages (from sacremoses->transformers) (7.0)\n",
            "Requirement already satisfied: joblib in /usr/local/lib/python3.6/dist-packages (from sacremoses->transformers) (0.14.0)\n",
            "Requirement already satisfied: jmespath<1.0.0,>=0.7.1 in /usr/local/lib/python3.6/dist-packages (from boto3->transformers) (0.9.4)\n",
            "Requirement already satisfied: s3transfer<0.3.0,>=0.2.0 in /usr/local/lib/python3.6/dist-packages (from boto3->transformers) (0.2.1)\n",
            "Requirement already satisfied: botocore<1.13.0,>=1.12.253 in /usr/local/lib/python3.6/dist-packages (from boto3->transformers) (1.12.253)\n",
            "Requirement already satisfied: chardet<3.1.0,>=3.0.2 in /usr/local/lib/python3.6/dist-packages (from requests->transformers) (3.0.4)\n",
            "Requirement already satisfied: certifi>=2017.4.17 in /usr/local/lib/python3.6/dist-packages (from requests->transformers) (2019.9.11)\n",
            "Requirement already satisfied: idna<2.9,>=2.5 in /usr/local/lib/python3.6/dist-packages (from requests->transformers) (2.8)\n",
            "Requirement already satisfied: urllib3<1.25,>=1.21.1 in /usr/local/lib/python3.6/dist-packages (from requests->transformers) (1.24.3)\n",
            "Requirement already satisfied: python-dateutil<3.0.0,>=2.1; python_version >= \"2.7\" in /usr/local/lib/python3.6/dist-packages (from botocore<1.13.0,>=1.12.253->boto3->transformers) (2.6.1)\n",
            "Requirement already satisfied: docutils<0.16,>=0.10 in /usr/local/lib/python3.6/dist-packages (from botocore<1.13.0,>=1.12.253->boto3->transformers) (0.15.2)\n",
            "Building wheels for collected packages: sacremoses\n",
            "  Building wheel for sacremoses (setup.py) ... \u001b[?25l\u001b[?25hdone\n",
            "  Created wheel for sacremoses: filename=sacremoses-0.0.35-cp36-none-any.whl size=883999 sha256=503f1a20b4a27b5925286ffb72a8aaa8144a4632908497afab3b3e1ba9936b3c\n",
            "  Stored in directory: /root/.cache/pip/wheels/63/2a/db/63e2909042c634ef551d0d9ac825b2b0b32dede4a6d87ddc94\n",
            "Successfully built sacremoses\n",
            "Installing collected packages: sacremoses, regex, sentencepiece, transformers\n",
            "Successfully installed regex-2019.8.19 sacremoses-0.0.35 sentencepiece-0.1.83 transformers-2.1.1\n"
          ],
          "name": "stdout"
        }
      ]
    },
    {
      "cell_type": "code",
      "metadata": {
        "id": "5UvShWWRuMF8",
        "colab_type": "code",
        "colab": {
          "base_uri": "https://localhost:8080/",
          "height": 68
        },
        "outputId": "8d6747f4-f600-4fe8-9d76-257443bb6251"
      },
      "source": [
        "from transformers.data.processors.glue import MnliProcessor\n",
        "import torch\n",
        "import pandas as pd\n",
        "import os\n",
        "import sys\n",
        "import shutil\n",
        "import argparse\n",
        "import tempfile\n",
        "import urllib.request\n",
        "import zipfile\n",
        "from transformers import glue_convert_examples_to_features as convert_examples_to_features\n",
        "from transformers import BertTokenizer\n",
        "from torch.utils.data import TensorDataset, RandomSampler, DataLoader\n",
        "\n",
        "\n",
        "from transformers import (\n",
        "    BertModel,\n",
        "    BertTokenizer\n",
        ")\n",
        "\n",
        "tokenizer = BertTokenizer.from_pretrained('bert-base-cased')\n",
        "bert = BertModel.from_pretrained('bert-base-cased', output_attentions=True)"
      ],
      "execution_count": 3,
      "outputs": [
        {
          "output_type": "stream",
          "text": [
            "100%|██████████| 213450/213450 [00:00<00:00, 2487833.33B/s]\n",
            "100%|██████████| 313/313 [00:00<00:00, 177768.06B/s]\n",
            "100%|██████████| 435779157/435779157 [00:08<00:00, 50584349.81B/s]\n"
          ],
          "name": "stderr"
        }
      ]
    },
    {
      "cell_type": "code",
      "metadata": {
        "id": "13QPqJH7uL9E",
        "colab_type": "code",
        "colab": {}
      },
      "source": [
        "TASKS = [\"CoLA\", \"SST\", \"MRPC\", \"QQP\", \"STS\", \"MNLI\", \"SNLI\", \"QNLI\", \"RTE\", \"WNLI\", \"diagnostic\"]\n",
        "TASK2PATH = {\n",
        "    \"CoLA\": \"https://firebasestorage.googleapis.com/v0/b/mtl-sentence-representations.appspot.com/o/data%2FCoLA.zip?alt=media&token=46d5e637-3411-4188-bc44-5809b5bfb5f4\",  # noqa\n",
        "    \"SST\": \"https://firebasestorage.googleapis.com/v0/b/mtl-sentence-representations.appspot.com/o/data%2FSST-2.zip?alt=media&token=aabc5f6b-e466-44a2-b9b4-cf6337f84ac8\",  # noqa\n",
        "    \"MRPC\": \"https://firebasestorage.googleapis.com/v0/b/mtl-sentence-representations.appspot.com/o/data%2Fmrpc_dev_ids.tsv?alt=media&token=ec5c0836-31d5-48f4-b431-7480817f1adc\",  # noqa\n",
        "    \"QQP\": \"https://firebasestorage.googleapis.com/v0/b/mtl-sentence-representations.appspot.com/o/data%2FQQP-clean.zip?alt=media&token=11a647cb-ecd3-49c9-9d31-79f8ca8fe277\",  # noqa\n",
        "    \"STS\": \"https://firebasestorage.googleapis.com/v0/b/mtl-sentence-representations.appspot.com/o/data%2FSTS-B.zip?alt=media&token=bddb94a7-8706-4e0d-a694-1109e12273b5\",  # noqa\n",
        "    \"MNLI\": \"https://firebasestorage.googleapis.com/v0/b/mtl-sentence-representations.appspot.com/o/data%2FMNLI.zip?alt=media&token=50329ea1-e339-40e2-809c-10c40afff3ce\",  # noqa\n",
        "    \"SNLI\": \"https://firebasestorage.googleapis.com/v0/b/mtl-sentence-representations.appspot.com/o/data%2FSNLI.zip?alt=media&token=4afcfbb2-ff0c-4b2d-a09a-dbf07926f4df\",  # noqa\n",
        "    \"QNLI\": \"https://firebasestorage.googleapis.com/v0/b/mtl-sentence-representations.appspot.com/o/data%2FQNLIv2.zip?alt=media&token=6fdcf570-0fc5-4631-8456-9505272d1601\",  # noqa\n",
        "    \"RTE\": \"https://firebasestorage.googleapis.com/v0/b/mtl-sentence-representations.appspot.com/o/data%2FRTE.zip?alt=media&token=5efa7e85-a0bb-4f19-8ea2-9e1840f077fb\",  # noqa\n",
        "    \"WNLI\": \"https://firebasestorage.googleapis.com/v0/b/mtl-sentence-representations.appspot.com/o/data%2FWNLI.zip?alt=media&token=068ad0a0-ded7-4bd7-99a5-5e00222e0faf\",  # noqa\n",
        "    \"diagnostic\": [\n",
        "        \"https://storage.googleapis.com/mtl-sentence-representations.appspot.com/tsvsWithoutLabels%2FAX.tsv?GoogleAccessId=firebase-adminsdk-0khhl@mtl-sentence-representations.iam.gserviceaccount.com&Expires=2498860800&Signature=DuQ2CSPt2Yfre0C%2BiISrVYrIFaZH1Lc7hBVZDD4ZyR7fZYOMNOUGpi8QxBmTNOrNPjR3z1cggo7WXFfrgECP6FBJSsURv8Ybrue8Ypt%2FTPxbuJ0Xc2FhDi%2BarnecCBFO77RSbfuz%2Bs95hRrYhTnByqu3U%2FYZPaj3tZt5QdfpH2IUROY8LiBXoXS46LE%2FgOQc%2FKN%2BA9SoscRDYsnxHfG0IjXGwHN%2Bf88q6hOmAxeNPx6moDulUF6XMUAaXCSFU%2BnRO2RDL9CapWxj%2BDl7syNyHhB7987hZ80B%2FwFkQ3MEs8auvt5XW1%2Bd4aCU7ytgM69r8JDCwibfhZxpaa4gd50QXQ%3D%3D\",  # noqa\n",
        "        \"https://www.dropbox.com/s/ju7d95ifb072q9f/diagnostic-full.tsv?dl=1\",\n",
        "    ],\n",
        "}\n",
        "\n",
        "MRPC_TRAIN = \"https://dl.fbaipublicfiles.com/senteval/senteval_data/msr_paraphrase_train.txt\"\n",
        "MRPC_TEST = \"https://dl.fbaipublicfiles.com/senteval/senteval_data/msr_paraphrase_test.txt\"\n",
        "\n",
        "\n",
        "def download_and_extract(task, data_dir):\n",
        "    print(\"Downloading and extracting %s...\" % task)\n",
        "    data_file = \"%s.zip\" % task\n",
        "    urllib.request.urlretrieve(TASK2PATH[task], data_file)\n",
        "    with zipfile.ZipFile(data_file) as zip_ref:\n",
        "        zip_ref.extractall(data_dir)\n",
        "    os.remove(data_file)\n",
        "    print(\"\\tCompleted!\")\n"
      ],
      "execution_count": 0,
      "outputs": []
    },
    {
      "cell_type": "code",
      "metadata": {
        "id": "BwDkmXiMuL2M",
        "colab_type": "code",
        "colab": {
          "base_uri": "https://localhost:8080/",
          "height": 51
        },
        "outputId": "36064a7e-a59f-4350-adec-c97c7b50d53b"
      },
      "source": [
        "download_and_extract('MNLI', '.')"
      ],
      "execution_count": 5,
      "outputs": [
        {
          "output_type": "stream",
          "text": [
            "Downloading and extracting MNLI...\n",
            "\tCompleted!\n"
          ],
          "name": "stdout"
        }
      ]
    },
    {
      "cell_type": "code",
      "metadata": {
        "id": "CtdJiFvwuLxH",
        "colab_type": "code",
        "colab": {}
      },
      "source": [
        "processor = MnliProcessor()"
      ],
      "execution_count": 0,
      "outputs": []
    },
    {
      "cell_type": "code",
      "metadata": {
        "id": "__Ny0tcKuLnq",
        "colab_type": "code",
        "colab": {}
      },
      "source": [
        "def generate_mnli_bert_dataloaders():\n",
        "  # ----------------------\n",
        "  # TRAIN/VAL DATALOADERS\n",
        "  # ----------------------\n",
        "  train = processor.get_train_examples('MNLI')\n",
        "  features = convert_examples_to_features(train,\n",
        "                                          tokenizer,\n",
        "                                          label_list=['contradiction','neutral','entailment'],\n",
        "                                          max_length=128,\n",
        "                                          output_mode='classification',\n",
        "                                          pad_on_left=False,\n",
        "                                          pad_token=tokenizer.pad_token_id,\n",
        "                                          pad_token_segment_id=0)\n",
        "  train_dataset = TensorDataset(torch.tensor([f.input_ids for f in features], dtype=torch.long), \n",
        "                                torch.tensor([f.attention_mask for f in features], dtype=torch.long), \n",
        "                                torch.tensor([f.token_type_ids for f in features], dtype=torch.long), \n",
        "                                torch.tensor([f.label for f in features], dtype=torch.long))\n",
        "\n",
        "  nb_train_samples = int(0.95 * len(train_dataset))\n",
        "  nb_val_samples = len(train_dataset) - nb_train_samples\n",
        "\n",
        "  bert_mnli_train_dataset, bert_mnli_val_dataset = random_split(train_dataset, [nb_train_samples, nb_val_samples])\n",
        "\n",
        "  # train loader\n",
        "  train_sampler = RandomSampler(bert_mnli_train_dataset)\n",
        "  bert_mnli_train_dataloader = DataLoader(bert_mnli_train_dataset, sampler=train_sampler, batch_size=32)\n",
        "\n",
        "  # val loader\n",
        "  val_sampler = RandomSampler(bert_mnli_val_dataset)\n",
        "  bert_mnli_val_dataloader = DataLoader(bert_mnli_val_dataset, sampler=val_sampler, batch_size=32)\n",
        "\n",
        "\n",
        "  # ----------------------\n",
        "  # TEST DATALOADERS\n",
        "  # ----------------------\n",
        "  dev = processor.get_dev_examples('MNLI')\n",
        "  features = convert_examples_to_features(dev,\n",
        "                                          tokenizer,\n",
        "                                          label_list=['contradiction','neutral','entailment'],\n",
        "                                          max_length=128,\n",
        "                                          output_mode='classification',\n",
        "                                          pad_on_left=False,\n",
        "                                          pad_token=tokenizer.pad_token_id,\n",
        "                                          pad_token_segment_id=0)\n",
        "\n",
        "  bert_mnli_test_dataset = TensorDataset(torch.tensor([f.input_ids for f in features], dtype=torch.long), \n",
        "                                torch.tensor([f.attention_mask for f in features], dtype=torch.long), \n",
        "                                torch.tensor([f.token_type_ids for f in features], dtype=torch.long), \n",
        "                                torch.tensor([f.label for f in features], dtype=torch.long))\n",
        "\n",
        "  # test dataset\n",
        "  test_sampler = RandomSampler(bert_mnli_test_dataset)\n",
        "  bert_mnli_test_dataloader = DataLoader(bert_mnli_test_dataset, sampler=test_sampler, batch_size=32)\n",
        "  \n",
        "  return bert_mnli_train_dataloader, bert_mnli_val_dataloader, bert_mnli_test_dataloader"
      ],
      "execution_count": 0,
      "outputs": []
    },
    {
      "cell_type": "code",
      "metadata": {
        "id": "nzcVwUMXuLhK",
        "colab_type": "code",
        "colab": {}
      },
      "source": [
        "bert_mnli_train_dataloader, bert_mnli_val_dataloader, bert_mnli_test_dataloader = generate_mnli_bert_dataloaders()"
      ],
      "execution_count": 0,
      "outputs": []
    },
    {
      "cell_type": "code",
      "metadata": {
        "id": "DX7G0cDfugpg",
        "colab_type": "code",
        "colab": {
          "base_uri": "https://localhost:8080/",
          "height": 34
        },
        "outputId": "5cf9487c-d812-486b-8b38-277662f5868d"
      },
      "source": [
        "bert_mnli_train_dataloader"
      ],
      "execution_count": 11,
      "outputs": [
        {
          "output_type": "execute_result",
          "data": {
            "text/plain": [
              "<torch.utils.data.dataloader.DataLoader at 0x7fbdbd23fcf8>"
            ]
          },
          "metadata": {
            "tags": []
          },
          "execution_count": 11
        }
      ]
    },
    {
      "cell_type": "markdown",
      "metadata": {
        "id": "oi4vM1z6xMkk",
        "colab_type": "text"
      },
      "source": [
        "### Part A (init BERT)\n",
        "In this section you need to create an instance of BERT and return if from the function"
      ]
    },
    {
      "cell_type": "code",
      "metadata": {
        "id": "IP5DRpSTqKPQ",
        "colab_type": "code",
        "colab": {}
      },
      "source": [
        "class BERTSequenceClassifier(nn.Module):\n",
        "    def __init__(self, bert, num_classes):\n",
        "        super().__init__()\n",
        "        self.bert = bert\n",
        "        self.W = nn.Linear(bert.config.hidden_size, num_classes)\n",
        "        self.num_classes = num_classes\n",
        "        \n",
        "    def forward(self, input_ids, attention_mask, token_type_ids):\n",
        "        h, _, attn = self.bert(input_ids=input_ids, \n",
        "                               attention_mask=attention_mask, \n",
        "                               token_type_ids=token_type_ids)\n",
        "        h_cls = h[:, 0]\n",
        "        logits = self.W(h_cls)\n",
        "        return logits, attn"
      ],
      "execution_count": 0,
      "outputs": []
    },
    {
      "cell_type": "code",
      "metadata": {
        "id": "HbYPG1xrxMkk",
        "colab_type": "code",
        "colab": {}
      },
      "source": [
        "from transformers import BertTokenizer, BertModel, BertForMaskedLM\n",
        "\n",
        "def init_bert():\n",
        "    \n",
        "    BERT = BERTSequenceClassifier(bert, mnli_num_classes) # ... YOUR CODE HERE\n",
        "    \n",
        "    return BERT"
      ],
      "execution_count": 0,
      "outputs": []
    },
    {
      "cell_type": "markdown",
      "metadata": {
        "id": "IBSL5BoWxMkl",
        "colab_type": "text"
      },
      "source": [
        "### Part B (fine-tune with BERT)\n",
        "\n",
        "Use BERT as your feature extractor to finetune MNLI. Use a new finetune model (reset weights)."
      ]
    },
    {
      "cell_type": "code",
      "metadata": {
        "id": "DlYykTKU0wGv",
        "colab_type": "code",
        "colab": {}
      },
      "source": [
        "def init_finetune_model():\n",
        "    # TODO FILL IN THE DETAILS\n",
        "    feature_extractor = init_bert() # bert as feature extractor\n",
        "    # freeze the model\n",
        "    freeze_model(feature_extractor)\n",
        "    fine_tune_model = feature_extractor\n",
        "    # add the last layer for target task\n",
        "    fine_tune_model.W = nn.Linear(feature_extractor.config.hidden_size, mnli_num_classes)\n",
        "    return fine_tune_model"
      ],
      "execution_count": 0,
      "outputs": []
    },
    {
      "cell_type": "code",
      "metadata": {
        "id": "SoVc-NqQzWkX",
        "colab_type": "code",
        "colab": {}
      },
      "source": [
        "def fine_tune_mnli_BERT(BERT_feature_extractor, fine_tune_model, mnli_train, mnli_val):\n",
        "    '''\n",
        "    function to train feature extractor\n",
        "    params:\n",
        "      @BERT_feature_extractor: initialzied feature extractor object\n",
        "      @fine_tune_model: initialized fine tune model for target task\n",
        "      @mnli_train: train dataloader\n",
        "      @mnli_val: validation dataloader\n",
        "    \n",
        "    '''\n",
        "    # FILL IN THE DETAILS\n",
        "    model = fine_tune_model\n",
        "    PATH = 'bert_mnli.pth'\n",
        "    print(\"Training BERT on MNLI......\")\n",
        "    \n",
        "    # criterion:\n",
        "    criterion = nn.CrossEntropyLoss(ignore_index=vocab.get_id('<pad>'))\n",
        "    if os.path.exists(PATH): # load pre-trained\n",
        "        print(\"PATH exists!\")\n",
        "        model = torch.load(PATH)\n",
        "    \n",
        "    else:\n",
        "      # optimizer:\n",
        "        model_params = [p for p in model.parameters() if p.requires_grad]\n",
        "        if hyperparams['optimizer'] == 'SGD':\n",
        "            optimizer = optim.SGD(model_params, lr=hyperparams['lr'], momentum=hyperparams['momentum'])\n",
        "        elif hyperparams['optimizer'] == 'Adam':\n",
        "            optimizer = optim.Adam(model_params, lr=hyperparams['lr'], weight_decay=hyperparams['weight_decay'])\n",
        "\n",
        "    plot_cache = []\n",
        "    num_epochs = hyperparams['num_epochs']\n",
        "\n",
        "    for epoch in range(num_epochs):\n",
        "        if epoch >10:\n",
        "          # unfreeze the model when more than 10 epochs\n",
        "          unfreeze_model(model)\n",
        "      \n",
        "        avg_loss=0\n",
        "        # do train\n",
        "        model.train()\n",
        "        train_log_cache = []\n",
        "        for i, (inp, target) in enumerate(wikitext_train):\n",
        "            optimizer.zero_grad()\n",
        "            inp = inp.to(current_device)\n",
        "            target = target.to(current_device)\n",
        "            logits, _ = model(inp)\n",
        "            # compute loss\n",
        "            loss = criterion(logits.view(-1, logits.size(-1)), target.view(-1))\n",
        "            # back-propogation\n",
        "            loss.backward()\n",
        "            # gradient clipping\n",
        "            nn.utils.clip_grad_norm_(model.parameters(), max_norm=5)\n",
        "            optimizer.step()\n",
        "            train_log_cache.append(loss.item()) # store training loss\n",
        "\n",
        "            if i % 1000 == 0:\n",
        "                avg_train_loss = sum(train_log_cache)/len(train_log_cache)\n",
        "                avg_train_perplexity = perplexity(avg_train_loss)\n",
        "                print('Step {} avg train loss = {:.{prec}f}'.format(i, avg_train_loss, prec=4))\n",
        "                print('Step {} avg train perplexity = {:.{prec}f}'.format(i, avg_train_perplexity, prec=4))\n",
        "                train_log_cache = []\n",
        "\n",
        "        #do validation\n",
        "        valid_losses = []\n",
        "        model.eval()\n",
        "        with torch.no_grad():\n",
        "            for i, (inp, target) in enumerate(wikitext_val):\n",
        "                # current_batch_size = len(inp)\n",
        "                inp = inp.to(current_device)\n",
        "                target = target.to(current_device)\n",
        "                device = torch.device(\"cuda\")\n",
        "                logits, _ = model(inp)\n",
        "                # compute loss\n",
        "                loss = criterion(logits.view(-1, logits.size(-1)), target.view(-1))\n",
        "                valid_losses.append(loss.item()) # store validation loss\n",
        "            avg_val_loss = sum(valid_losses) / len(valid_losses)\n",
        "            avg_val_perplexity = perplexity(avg_val_loss)\n",
        "            print('Validation loss after {} epoch = {:.{prec}f}'.format(epoch, avg_val_loss, prec=4))\n",
        "            print('Validation perplexity after {} epoch = {:.{prec}f}'.format(epoch, avg_val_perplexity, prec=4))\n",
        "\n",
        "        plot_cache.append((avg_train_loss, avg_val_loss, avg_train_perplexity, avg_val_perplexity))\n",
        "    \n",
        "    torch.save(model, PATH) # save the entire model object\n",
        "\n",
        "    print('Finished training')\n",
        "    return plot_cache, model"
      ],
      "execution_count": 0,
      "outputs": []
    },
    {
      "cell_type": "markdown",
      "metadata": {
        "id": "-06C5gMrxMkn",
        "colab_type": "text"
      },
      "source": [
        "### Part C\n",
        "Evaluate how well we did"
      ]
    },
    {
      "cell_type": "code",
      "metadata": {
        "id": "tI2UsMhMxMko",
        "colab_type": "code",
        "colab": {}
      },
      "source": [
        "def calculate_mnli_test_accuracy_BERT(feature_extractor, fine_tune_model, mnli_test):\n",
        "    \n",
        "    # YOUR CODE HERE...\n",
        "    model = fine_tune_model\n",
        "    model.eval()\n",
        "    perplexity_history = []\n",
        "    for i, (inp, target) in enumerate(mnli_test):\n",
        "      optimizer.zero_grad()\n",
        "      inp = inp.to(current_device)\n",
        "      target = target.to(current_device)\n",
        "      logits, _ = model(inp)\n",
        "      # compute loss\n",
        "      test_loss = criterion(logits.view(-1, logits.size(-1)), target.view(-1))\n",
        "      test_perplexity = perplexity(test_loss)\n",
        "      print(test_perplexity)\n",
        "      perplexity_history.append(test_perplexity.items())\n",
        "    test_ppl = sum(perplexity_history)/len(perplexity_history) # average perplexity\n",
        "    \n",
        "    return test_ppl"
      ],
      "execution_count": 0,
      "outputs": []
    },
    {
      "cell_type": "markdown",
      "metadata": {
        "id": "tAgU6DqnxMkq",
        "colab_type": "text"
      },
      "source": [
        "### Let's grade your BERT results!"
      ]
    },
    {
      "cell_type": "code",
      "metadata": {
        "id": "efl3ItVGxMkq",
        "colab_type": "code",
        "colab": {}
      },
      "source": [
        "def grade_mnli_BERT():\n",
        "    BERT_feature_extractor = init_bert()\n",
        "    \n",
        "    # load data\n",
        "    mnli_train, mnli_val, mnli_test = init_mnli_dataset()\n",
        "\n",
        "    # init the fine_tune model\n",
        "    fine_tune_model = init_finetune_model()\n",
        "    \n",
        "    # finetune\n",
        "    fine_tune_mnli(BERT_feature_extractor, fine_tune_model, mnli_train, mnli_val)\n",
        "\n",
        "    # check test accuracy\n",
        "    test_accuracy = calculate_mnli_test_accuracy(feature_extractor, wikitext_test)\n",
        "    \n",
        "    # the real threshold will be released by Oct 11 \n",
        "    assert test_ppl > 0.0, 'ummm... your accuracy is too low...'\n",
        "    \n",
        "grade_mnli_BERT()"
      ],
      "execution_count": 0,
      "outputs": []
    }
  ]
}