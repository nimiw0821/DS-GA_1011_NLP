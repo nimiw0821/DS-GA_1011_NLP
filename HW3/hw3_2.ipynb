{
  "nbformat": 4,
  "nbformat_minor": 0,
  "metadata": {
    "kernelspec": {
      "display_name": "class",
      "language": "python",
      "name": "class"
    },
    "language_info": {
      "codemirror_mode": {
        "name": "ipython",
        "version": 3
      },
      "file_extension": ".py",
      "mimetype": "text/x-python",
      "name": "python",
      "nbconvert_exporter": "python",
      "pygments_lexer": "ipython3",
      "version": "3.7.4"
    },
    "colab": {
      "name": "hw3.ipynb",
      "provenance": []
    }
  },
  "cells": [
    {
      "cell_type": "markdown",
      "metadata": {
        "id": "QZDv6To6xMjn",
        "colab_type": "text"
      },
      "source": [
        "---   \n",
        "# HW3 - Transfer learning\n",
        "\n",
        "#### Due October 30, 2019\n",
        "\n",
        "In this assignment you will learn about transfer learning. This technique is perhaps one of the most important techniques for industry. When a problem you want to solve does not have enough data, we use a different (larger) dataset to learn representations which can help us solve our task using the smaller task.\n",
        "\n",
        "The general steps to transfer learning are as follows:\n",
        "\n",
        "1. Find a huge dataset with similar characteristics to the problem you are interested in.\n",
        "2. Choose a model powerful enough to extract meaningful representations from the huge dataset.\n",
        "3. Train this model on the huge dataset.\n",
        "4. Use this model to train on the smaller dataset.\n",
        "\n",
        "\n",
        "### This homework has the following sections:\n",
        "1. Question 1: MNIST fine-tuning (Parts A, B, C, D).\n",
        "2. Question 2: Pretrain on Wikitext2 (Part A, B, C, D)\n",
        "3. Question 3: Finetune on MNLI (Part A, B, C, D)\n",
        "4. Question 4: Finetune using pretrained BERT (Part A, B, C)"
      ]
    },
    {
      "cell_type": "markdown",
      "metadata": {
        "id": "nTVaqCImxMjq",
        "colab_type": "text"
      },
      "source": [
        "---   \n",
        "## Question 1 (MNIST transfer learning)\n",
        "To grasp the high-level approach to transfer learning, let's first do a simple example using computer vision. \n",
        "\n",
        "The torchvision library has pretrained models (resnets, vggnets, etc) on the Imagenet dataset. Imagenet is a dataset\n",
        "with 1.3 million images covering over 1000 classes of objects. When you use one of these models, the weights of the model initialize\n",
        "with the weights saved from training on imagenet.\n",
        "\n",
        "In this task we will:\n",
        "1. Choose a pretrained model.\n",
        "2. Freeze the model so that the weights don't change.\n",
        "3. Fine-tune on a few labels of MNIST.   "
      ]
    },
    {
      "cell_type": "markdown",
      "metadata": {
        "id": "ZvnfJqgVxMjq",
        "colab_type": "text"
      },
      "source": [
        "#### Choose a model\n",
        "Here we pick any of the models from torchvision"
      ]
    },
    {
      "cell_type": "code",
      "metadata": {
        "id": "9XMP-eipxMjr",
        "colab_type": "code",
        "colab": {}
      },
      "source": [
        "import torch\n",
        "import torchvision.models as models\n",
        "\n",
        "class Identity(torch.nn.Module):\n",
        "    def __init__(self):\n",
        "        super(Identity, self).__init__()\n",
        "        \n",
        "    def forward(self, x):\n",
        "        return x\n",
        "\n",
        "# init the pretrained feature extractor\n",
        "pretrained_resnet18 = models.resnet18(pretrained=True)\n",
        "\n",
        "# we don't want the built in last layer, we're going to modify it ourselves\n",
        "pretrained_resnet18.fc = Identity()"
      ],
      "execution_count": 0,
      "outputs": []
    },
    {
      "cell_type": "markdown",
      "metadata": {
        "id": "NyYzE2lyxMju",
        "colab_type": "text"
      },
      "source": [
        "#### Freeze the model\n",
        "Here we freeze the weights of the model. Freezing means the gradients will not backpropagate\n",
        "into these weights.\n",
        "\n",
        "By doing this you can think about the model as a feature extractor. This feature extractor outputs\n",
        "a **representation** of an input. This representation is a matrix that encodes information about the input."
      ]
    },
    {
      "cell_type": "code",
      "metadata": {
        "id": "oabFpzuWxMju",
        "colab_type": "code",
        "colab": {}
      },
      "source": [
        "def freeze_model(model):\n",
        "    for param in model.parameters():\n",
        "        param.requires_grad = False\n",
        "        \n",
        "def unfreeze_model(model):\n",
        "    for param in model.parameters():\n",
        "        param.requires_grad = True\n",
        "        \n",
        "freeze_model(pretrained_resnet50)"
      ],
      "execution_count": 0,
      "outputs": []
    },
    {
      "cell_type": "markdown",
      "metadata": {
        "id": "JpMGmaEsxMjw",
        "colab_type": "text"
      },
      "source": [
        "#### Init target dataset\n",
        "Here we define the dataset we are actually interested in."
      ]
    },
    {
      "cell_type": "code",
      "metadata": {
        "id": "zaihqHuqxMjx",
        "colab_type": "code",
        "colab": {}
      },
      "source": [
        "import os\n",
        "from torchvision import transforms\n",
        "from torchvision.datasets import  MNIST\n",
        "from torch.utils.data import DataLoader, random_split\n",
        "import torch.nn.functional as F\n",
        "\n",
        "#  train/val  split\n",
        "mnist_dataset = MNIST(os.getcwd(), train=True, download=True, transform=transforms.ToTensor())\n",
        "mnist_train, mnist_val = random_split(mnist_dataset, [55000, 5000])\n",
        "\n",
        "mnist_train = DataLoader(mnist_train, batch_size=32)\n",
        "mnist_val = DataLoader(mnist_val, batch_size=32)\n",
        "\n",
        "# test split\n",
        "mnist_test = DataLoader(MNIST(os.getcwd(), train=False, download=True, transform=transforms.ToTensor()), batch_size=32)"
      ],
      "execution_count": 0,
      "outputs": []
    },
    {
      "cell_type": "markdown",
      "metadata": {
        "id": "5o29-IvnxMjz",
        "colab_type": "text"
      },
      "source": [
        "### Part A (init fine-tune model)\n",
        "decide what model to use for fine-tuning"
      ]
    },
    {
      "cell_type": "code",
      "metadata": {
        "id": "2a1lyV69xMj0",
        "colab_type": "code",
        "colab": {}
      },
      "source": [
        "def init_fine_tune_model():\n",
        "    \n",
        "    # YOUR CODE HERE\n",
        "    \n",
        "    return fine_tune_model"
      ],
      "execution_count": 0,
      "outputs": []
    },
    {
      "cell_type": "markdown",
      "metadata": {
        "id": "z-v_ZxyLxMj2",
        "colab_type": "text"
      },
      "source": [
        "### Part B (Fine-tune (Frozen))\n",
        "\n",
        "The actual problem we care about solving likely has a different number of classes or is a different task altogether. Fine-tuning is the process of using the extracted representations (features) to solve this downstream task  (the task you're interested in).\n",
        "\n",
        "To illustrate this, we'll use our pretrained model (on Imagenet), to solve the MNIST classification task.\n",
        "\n",
        "There are two types of finetuning. \n",
        "\n",
        "#### 1. Frozen feature_extractor\n",
        "In the first type we pretrain with the FROZEN feature_extractor and NEVER unfreeze it during finetuning.\n",
        "\n",
        "\n",
        "#### 2. Unfrozen feature_extractor\n",
        "In the second, we finetune with a FROZEN feature_extractor for a few epochs, then unfreeze the feature extractor and finish training.\n",
        "\n",
        "\n",
        "In this part we will use the first version"
      ]
    },
    {
      "cell_type": "code",
      "metadata": {
        "id": "Z2yj-CACxMj2",
        "colab_type": "code",
        "colab": {}
      },
      "source": [
        "import torch.optim as optim\n",
        "\n",
        "def FROZEN_fine_tune_mnist(feature_extractor, fine_tune_model, mnist_train, mnist_val):\n",
        "    \"\"\"\n",
        "    model is a feature extractor (resnet).\n",
        "    Create a new model which uses those features to finetune on MNIST\n",
        "    \n",
        "    return the fine_tune model\n",
        "    \"\"\"     \n",
        "    \n",
        "    # INSERT YOUR CODE: (train the fine_tune model using features extracted by feature_extractor)\n",
        "    \n",
        "    pass"
      ],
      "execution_count": 0,
      "outputs": []
    },
    {
      "cell_type": "markdown",
      "metadata": {
        "id": "XdH0qxP2xMj4",
        "colab_type": "text"
      },
      "source": [
        "### Part C (compute test accuracy)\n",
        "Compute the test accuracy of fine-tuned model on MNIST"
      ]
    },
    {
      "cell_type": "code",
      "metadata": {
        "id": "UFoQE2w-xMj5",
        "colab_type": "code",
        "colab": {}
      },
      "source": [
        "def calculate_mnist_test_accuracy(feature_extractor, fine_tune_model, mnist_test):\n",
        "    \n",
        "    test_accuracy = 0 # YOUR CODE HERE...\n",
        "    \n",
        "    return test_accuracy"
      ],
      "execution_count": 0,
      "outputs": []
    },
    {
      "cell_type": "markdown",
      "metadata": {
        "id": "eJsjm29OxMj7",
        "colab_type": "text"
      },
      "source": [
        "### Grade!\n",
        "Let's see how you did"
      ]
    },
    {
      "cell_type": "code",
      "metadata": {
        "id": "2bfA1hRkxMj7",
        "colab_type": "code",
        "colab": {}
      },
      "source": [
        "def grade_mnist_frozen():\n",
        "    \n",
        "    # init a ft model\n",
        "    fine_tune_model = init_fine_tune_model()\n",
        "    \n",
        "    # run the transfer learning routine\n",
        "    FROZEN_fine_tune_mnist(pretrained_resnet18, fine_tune_model, mnist_train, mnist_val)\n",
        "    \n",
        "    # calculate test accuracy\n",
        "    test_accuracy = calculate_mnist_test_accuracy(pretrained_resnet18, fine_tune_model, mnist_test)\n",
        "    \n",
        "    # the real threshold will be released by Oct 11 \n",
        "    assert test_accuracy > 0.0, 'your accuracy is too low...'\n",
        "    \n",
        "    return test_accuracy\n",
        "    \n",
        "frozen_test_accuracy = grade_mnist_frozen()"
      ],
      "execution_count": 0,
      "outputs": []
    },
    {
      "cell_type": "markdown",
      "metadata": {
        "id": "siCyxYeqxMj9",
        "colab_type": "text"
      },
      "source": [
        "### Part D (Fine-tune Unfrozen)\n",
        "Now we'll learn how to train using the \"unfrozen\" approach.\n",
        "\n",
        "In this approach we'll:\n",
        "1. keep the feature_extract frozen for a few epochs (10)\n",
        "2. Unfreeze it.\n",
        "3. Finish training"
      ]
    },
    {
      "cell_type": "code",
      "metadata": {
        "id": "aqgn_zsQxMj-",
        "colab_type": "code",
        "colab": {}
      },
      "source": [
        "def UNFROZEN_fine_tune_mnist(feature_extractor, fine_tune_model, mnist_train, mnist_val):\n",
        "    \"\"\"\n",
        "    model is a feature extractor (resnet).\n",
        "    Create a new model which uses those features to finetune on MNIST\n",
        "    \n",
        "    return the fine_tune model\n",
        "    \"\"\"     \n",
        "    \n",
        "    # INSERT YOUR CODE:\n",
        "    # keep frozen for 10 epochs\n",
        "    # ... train\n",
        "    # unfreeze\n",
        "    # train for rest of the time\n",
        "    \n",
        "    pass"
      ],
      "execution_count": 0,
      "outputs": []
    },
    {
      "cell_type": "markdown",
      "metadata": {
        "id": "ACt0a0rlxMkA",
        "colab_type": "text"
      },
      "source": [
        "### Grade UNFROZEN\n",
        "Let's see if there's a difference in accuracy!"
      ]
    },
    {
      "cell_type": "code",
      "metadata": {
        "id": "GqpTkiDuxMkA",
        "colab_type": "code",
        "colab": {}
      },
      "source": [
        "def grade_mnist_unfrozen():\n",
        "    \n",
        "    # init a ft model\n",
        "    fine_tune_model = init_fine_tune_model()\n",
        "    \n",
        "    # run the transfer learning routine\n",
        "    FROZEN_fine_tune_mnist(pretrained_resnet50, fine_tune_model, mnist_train, mnist_val)\n",
        "    \n",
        "    # calculate test accuracy\n",
        "    test_accuracy = calculate_mnist_test_accuracy(pretrained_resnet50, fine_tune_model, mnist_test)\n",
        "    \n",
        "    # the real threshold will be released by Oct 11 \n",
        "    assert test_accuracy > 0.0, 'your accuracy is too low...'\n",
        "    \n",
        "    return test_accuracy\n",
        "    \n",
        "unfrozen_test_accuracy = grade_mnist_unfrozen()"
      ],
      "execution_count": 0,
      "outputs": []
    },
    {
      "cell_type": "code",
      "metadata": {
        "id": "H-lZFCQaxMkH",
        "colab_type": "code",
        "colab": {}
      },
      "source": [
        "assert unfrozen_test_accuracy > frozen_test_accuracy, 'the unfrozen model should be better'"
      ],
      "execution_count": 0,
      "outputs": []
    },
    {
      "cell_type": "markdown",
      "metadata": {
        "id": "5DahrDqexMkI",
        "colab_type": "text"
      },
      "source": [
        "--- \n",
        "# Question 2 (train a model on Wikitext-2)\n",
        "\n",
        "Here we'll apply what we just learned to NLP. In this section we'll make our own feature extractor and pretrain it on Wikitext-2.\n",
        "\n",
        "The WikiText language modeling dataset is a collection of over 100 million tokens extracted from the set of verified Good and Featured articles on Wikipedia. The dataset is available under the Creative Commons Attribution-ShareAlike License.\n",
        "\n",
        "#### Part A\n",
        "In this section you need to generate the training, validation and test split. Feel free to use code from your previous lectures."
      ]
    },
    {
      "cell_type": "code",
      "metadata": {
        "id": "ejoj7ivuBjG-",
        "colab_type": "code",
        "colab": {}
      },
      "source": [
        ""
      ],
      "execution_count": 0,
      "outputs": []
    },
    {
      "cell_type": "markdown",
      "metadata": {
        "id": "0HiIN3gUBjkT",
        "colab_type": "text"
      },
      "source": [
        "### part A load text from torch db"
      ]
    },
    {
      "cell_type": "code",
      "metadata": {
        "id": "NRGHuJT-xMkJ",
        "colab_type": "code",
        "outputId": "77f002a0-78db-4ab1-abea-1e613d93e25e",
        "colab": {
          "base_uri": "https://localhost:8080/",
          "height": 85
        }
      },
      "source": [
        "from torchtext.datasets import WikiText2\n",
        "from torchtext import data\n",
        "import spacy\n",
        "#https://github.com/pytorch/text/blob/master/test/language_modeling.py\n",
        "\n",
        "\n",
        "my_tok = spacy.load('en')\n",
        "def spacy_tok(x):\n",
        "  return [tok.text for tok in my_tok.tokenizer(x)]\n",
        "TEXT = data.Field(lower=True, batch_first=True, tokenize = spacy_tok)\n",
        "#data.Field https://torchtext.readthedocs.io/en/latest/data.html#field\n",
        "\n",
        "\n",
        "\n",
        "def init_wikitext_dataset():\n",
        "    \"\"\"\n",
        "    Fill in the details\n",
        "    \"\"\"\n",
        "    \n",
        "#     wikitext_val = None # YOUR CODE HERE\n",
        "#     wikitext_train = None # YOUR CODE HERE\n",
        "#     wikitext_test = None # YOUR CODE HERE\n",
        "    \n",
        "    wikitext_train, wikitext_val, wikitext_test = WikiText2.splits(TEXT)\n",
        "    \n",
        "    return wikitext_train, wikitext_val, wikitext_test\n",
        "\n",
        "#? TEXT.build_vocab(train, vectors=)\n",
        "\n",
        "\n",
        "\n",
        "\n",
        "train,val,test = init_wikitext_dataset()\n",
        "import torch\n",
        "train_iter,valid_iter, test_iter = data.BPTTIterator.splits((train, val, test), \n",
        "                                                            batch_size = 32, \n",
        "                                                            bptt_len = 30, #specify sequence length\n",
        "                                                            repeat = False)\n",
        "torch.cuda.device(1)\n"
      ],
      "execution_count": 1,
      "outputs": [
        {
          "output_type": "stream",
          "text": [
            "downloading wikitext-2-v1.zip\n"
          ],
          "name": "stdout"
        },
        {
          "output_type": "stream",
          "text": [
            "wikitext-2-v1.zip: 100%|██████████| 4.48M/4.48M [00:00<00:00, 8.53MB/s]\n"
          ],
          "name": "stderr"
        },
        {
          "output_type": "stream",
          "text": [
            "extracting\n"
          ],
          "name": "stdout"
        },
        {
          "output_type": "execute_result",
          "data": {
            "text/plain": [
              "<torch.cuda.device at 0x7fe997ce3f28>"
            ]
          },
          "metadata": {
            "tags": []
          },
          "execution_count": 1
        }
      ]
    },
    {
      "cell_type": "code",
      "metadata": {
        "id": "UE7HMd6_VX0G",
        "colab_type": "code",
        "outputId": "bb5c8140-653a-402c-8797-4be2855e50c0",
        "colab": {
          "base_uri": "https://localhost:8080/",
          "height": 34
        }
      },
      "source": [
        "len(test_iter)"
      ],
      "execution_count": 0,
      "outputs": [
        {
          "output_type": "execute_result",
          "data": {
            "text/plain": [
              "293"
            ]
          },
          "metadata": {
            "tags": []
          },
          "execution_count": 2
        }
      ]
    },
    {
      "cell_type": "code",
      "metadata": {
        "id": "ANcqzU2PpoeX",
        "colab_type": "code",
        "colab": {
          "base_uri": "https://localhost:8080/",
          "height": 51
        },
        "outputId": "49f3fff3-2636-4192-f0a7-7212fc47e4f5"
      },
      "source": [
        "TEXT.build_vocab(train, vectors=\"glove.6B.300d\")"
      ],
      "execution_count": 2,
      "outputs": [
        {
          "output_type": "stream",
          "text": [
            ".vector_cache/glove.6B.zip: 862MB [06:27, 2.23MB/s]                           \n",
            "100%|█████████▉| 399415/400000 [00:46<00:00, 10162.86it/s]"
          ],
          "name": "stderr"
        }
      ]
    },
    {
      "cell_type": "code",
      "metadata": {
        "id": "TAVcW26I9vws",
        "colab_type": "code",
        "colab": {}
      },
      "source": [
        "# def load_wikitext(filename='wikitext2-sentencized.json'):\n",
        "#     if not os.path.exists(filename):\n",
        "#         !wget \"https://nyu.box.com/shared/static/9kb7l7ci30hb6uahhbssjlq0kctr5ii4.json\" -O $filename\n",
        "    \n",
        "#     datasets = json.load(open(filename, 'r'))\n",
        "#     for name in datasets:\n",
        "#         datasets[name] = [x.split() for x in datasets[name]]\n",
        "#     vocab = list(set([t for ts in datasets['train'] for t in ts]))      \n",
        "#     print(\"Vocab size: %d\" % (len(vocab)))\n",
        "#     return datasets, vocab"
      ],
      "execution_count": 0,
      "outputs": []
    },
    {
      "cell_type": "code",
      "metadata": {
        "id": "_rCLhllUBBZP",
        "colab_type": "code",
        "outputId": "9a61b3e9-1989-4be5-97fd-f058e885aef5",
        "colab": {
          "base_uri": "https://localhost:8080/",
          "height": 34
        }
      },
      "source": [
        "b = next(iter(train_iter))\n",
        "vars(b).keys()"
      ],
      "execution_count": 3,
      "outputs": [
        {
          "output_type": "execute_result",
          "data": {
            "text/plain": [
              "dict_keys(['batch_size', 'dataset', 'fields', 'text', 'target'])"
            ]
          },
          "metadata": {
            "tags": []
          },
          "execution_count": 3
        }
      ]
    },
    {
      "cell_type": "code",
      "metadata": {
        "id": "pd8-2A40p4KW",
        "colab_type": "code",
        "colab": {
          "base_uri": "https://localhost:8080/",
          "height": 85
        },
        "outputId": "8cf543e5-7ef6-463e-df41-e98c71d3acca"
      },
      "source": [
        "b.text[1]"
      ],
      "execution_count": 9,
      "outputs": [
        {
          "output_type": "execute_result",
          "data": {
            "text/plain": [
              "tensor([   13,    10,    30,    15,     4,     5,  4195,  3768,     2,    55,\n",
              "           26,    12,  3886,    15,     3,     5,     2,   140,   489,  2282,\n",
              "           15, 13895,    16,     2,     4,   655,    12,   532,     2,  1249,\n",
              "          149, 16441])"
            ]
          },
          "metadata": {
            "tags": []
          },
          "execution_count": 9
        }
      ]
    },
    {
      "cell_type": "code",
      "metadata": {
        "id": "S2zX0KG4tZ4e",
        "colab_type": "code",
        "colab": {
          "base_uri": "https://localhost:8080/",
          "height": 85
        },
        "outputId": "a6f28b90-fcfa-4a22-8af0-6d108ec8bc25"
      },
      "source": [
        "b.target[1]"
      ],
      "execution_count": 10,
      "outputs": [
        {
          "output_type": "execute_result",
          "data": {
            "text/plain": [
              "tensor([   12,    32,     2,    15,  3062,    64,    27,    11,   121,    11,\n",
              "           20,    13,     4,    13,   129,    64,   107,  2991,  2613,    21,\n",
              "           15,     5,  7840, 19860,    13,   182,    13,    36,   939,     6,\n",
              "         3948,  1307])"
            ]
          },
          "metadata": {
            "tags": []
          },
          "execution_count": 10
        }
      ]
    },
    {
      "cell_type": "markdown",
      "metadata": {
        "id": "tvbDwjgjBwxQ",
        "colab_type": "text"
      },
      "source": [
        "#### part A load with ipynb (from Campuswire)"
      ]
    },
    {
      "cell_type": "code",
      "metadata": {
        "id": "wBWlkFUhB1Kk",
        "colab_type": "code",
        "colab": {}
      },
      "source": [
        "import torch\n",
        "from torch.utils.data import Dataset\n",
        "from tqdm import tqdm\n",
        "import pickle\n",
        "import torch\n",
        "import torchvision.models as models\n",
        "import os\n",
        "from torchvision import transforms\n",
        "from torchvision.datasets import  MNIST\n",
        "from torch.utils.data import DataLoader, random_split\n",
        "import torch.nn.functional as F\n",
        "import os\n",
        "import json\n",
        "import jsonlines\n",
        "import numpy as np\n",
        "from collections import defaultdict\n",
        "from torch import nn\n",
        "import numpy"
      ],
      "execution_count": 0,
      "outputs": []
    },
    {
      "cell_type": "code",
      "metadata": {
        "id": "clsdmPnGB1OF",
        "colab_type": "code",
        "outputId": "f72c2b8b-6b99-447f-a206-a3e52a8b47fe",
        "colab": {
          "base_uri": "https://localhost:8080/",
          "height": 122
        }
      },
      "source": [
        "!pip install jsonlines"
      ],
      "execution_count": 0,
      "outputs": [
        {
          "output_type": "stream",
          "text": [
            "Collecting jsonlines\n",
            "  Downloading https://files.pythonhosted.org/packages/4f/9a/ab96291470e305504aa4b7a2e0ec132e930da89eb3ca7a82fbe03167c131/jsonlines-1.2.0-py2.py3-none-any.whl\n",
            "Requirement already satisfied: six in /usr/local/lib/python3.6/dist-packages (from jsonlines) (1.12.0)\n",
            "Installing collected packages: jsonlines\n",
            "Successfully installed jsonlines-1.2.0\n"
          ],
          "name": "stdout"
        }
      ]
    },
    {
      "cell_type": "code",
      "metadata": {
        "id": "NoM565tFB1RO",
        "colab_type": "code",
        "outputId": "33d41f59-c0f1-4300-a52e-c5664cb6adfa",
        "colab": {
          "base_uri": "https://localhost:8080/",
          "height": 351
        }
      },
      "source": [
        "import io\n",
        "def load_vectors(fname):\n",
        "    fin = io.open(fname, 'r', encoding='utf-8', newline='\\n', errors='ignore')\n",
        "    n, d = map(int, fin.readline().split())\n",
        "    embedding_size = 300\n",
        "    max_vocab_size = 35000\n",
        "    embedding_dict = np.random.randn(max_vocab_size+2, embedding_size)\n",
        "    all_train_tokens = []\n",
        "    i = 0\n",
        "    \n",
        "    for line in fin:\n",
        "        tokens = line.rstrip().split(' ')\n",
        "        all_train_tokens.append(tokens[0])\n",
        "        embedding_dict[i+2] = list(map(float, tokens[1:]))\n",
        "        i += 1\n",
        "        if i == max_vocab_size:\n",
        "            break\n",
        "            \n",
        "    return embedding_dict, all_train_tokens\n",
        "  \n",
        "# download the vectors yourself\n",
        "fasttext_embedding_dict, all_fasttext_tokens = load_vectors('wiki-news-300d-1M.vec')\n",
        "  \n",
        "class LMDataset(Dataset):\n",
        "    def __init__(self, list_of_token_lists):\n",
        "        self.input_tensors = []\n",
        "        self.target_tensors = []\n",
        "\n",
        "        for sample in list_of_token_lists:\n",
        "            self.input_tensors.append(torch.tensor([sample[:-1]], dtype=torch.long))\n",
        "            self.target_tensors.append(torch.tensor([sample[1:]], dtype=torch.long))\n",
        "\n",
        "    def __len__(self):\n",
        "        return len(self.input_tensors)\n",
        "\n",
        "    def __getitem__(self, idx):\n",
        "        return (self.input_tensors[idx], self.target_tensors[idx])\n",
        "\n",
        "\n",
        "def tokenize_dataset(datasets, dictionary):\n",
        "    tokenized_datasets = {}\n",
        "    for split, dataset in datasets.items():\n",
        "        _current_dictified = []\n",
        "        for l in tqdm(dataset):\n",
        "            l = ['<bos>'] + l + ['<eos>']\n",
        "            encoded_l = dictionary.encode_token_seq(l)\n",
        "            _current_dictified.append(encoded_l)\n",
        "        tokenized_datasets[split] = _current_dictified\n",
        "    return tokenized_datasets\n",
        "\n",
        "def tokenize_mnli_dataset(datasets, dictionary):\n",
        "    tokenized_datasets = {}\n",
        "    for split, dataset in datasets.items():\n",
        "        _current_dictified = []\n",
        "        for s1, s2 in tqdm(dataset):\n",
        "            s1 = ['<bos>'] + s1 + ['<eos>']\n",
        "            s2 = ['<bos>'] + s2 + ['<eos>']\n",
        "            encoded_s1 = dictionary.encode_token_seq(s1)            \n",
        "            encoded_s2 = dictionary.encode_token_seq(s2)\n",
        "            _current_dictified.append([encoded_s1, encoded_s2])\n",
        "        tokenized_datasets[split] = _current_dictified\n",
        "    return tokenized_datasets\n",
        "\n",
        "def pad_list_of_tensors(list_of_tensors, pad_token):\n",
        "    max_length = max([t.size(-1) for t in list_of_tensors])\n",
        "    padded_list = []\n",
        "    for t in list_of_tensors:\n",
        "        padded_tensor = torch.cat(\n",
        "            [t, torch.tensor([[pad_token] * (max_length - t.size(-1))], dtype=torch.long)], dim=-1)\n",
        "        padded_list.append(padded_tensor)\n",
        "\n",
        "    padded_tensor = torch.cat(padded_list, dim=0)\n",
        "    return padded_tensor\n",
        "\n",
        "\n",
        "def pad_collate_fn(pad_idx, batch):\n",
        "    input_list = [s[0] for s in batch]\n",
        "    target_list = [s[1] for s in batch]\n",
        "    input_tensor = pad_list_of_tensors(input_list, pad_idx)\n",
        "    target_tensor = pad_list_of_tensors(target_list, pad_idx)\n",
        "    return input_tensor, target_tensor\n",
        "\n",
        "\n",
        "def load_wikitext(data_dir):\n",
        "    import subprocess\n",
        "    filename = os.path.join(data_dir, 'wikitext2-sentencized.json')\n",
        "    if not os.path.exists(filename):\n",
        "        os.makedirs(data_dir, exist_ok=True)\n",
        "        url = \"https://nyu.box.com/shared/static/9kb7l7ci30hb6uahhbssjlq0kctr5ii4.json\"\n",
        "        args = ['wget', '-O', filename, url]\n",
        "        subprocess.call(args)\n",
        "    raw_datasets = json.load(open(filename, 'r'))\n",
        "    for name in raw_datasets:\n",
        "        raw_datasets[name] = [x.split() for x in raw_datasets[name]]\n",
        "\n",
        "    if os.path.exists(os.path.join(data_dir, 'vocab.pkl')):\n",
        "        vocab = pickle.load(open(os.path.join(data_dir, 'vocab.pkl'), 'rb'))\n",
        "    else:\n",
        "        vocab = Dictionary(raw_datasets, include_valid=False)\n",
        "        pickle.dump(vocab, open(os.path.join(data_dir, 'vocab.pkl'), 'wb'))\n",
        "\n",
        "    tokenized_datasets = tokenize_dataset(raw_datasets, vocab)\n",
        "    datasets = {name: LMDataset(ds) for name, ds in tokenized_datasets.items()}\n",
        "    print(\"Vocab size: %d\" % (len(vocab)))\n",
        "    return raw_datasets, datasets, vocab\n",
        "\n",
        "\n",
        "class Dictionary(object):\n",
        "    def __init__(self, datasets, include_valid=False):\n",
        "        self.tokens = []\n",
        "        self.ids = {}\n",
        "        self.counts = {}\n",
        "        \n",
        "        # add special tokens\n",
        "        self.add_token('<bos>')\n",
        "        self.add_token('<eos>')\n",
        "        self.add_token('<pad>')\n",
        "        self.add_token('<unk>')\n",
        "        \n",
        "        for line in tqdm(datasets['train']):\n",
        "            for w in line:\n",
        "                self.add_token(w)\n",
        "                    \n",
        "        if include_valid is True:\n",
        "            for line in tqdm(datasets['valid']):\n",
        "                for w in line:\n",
        "                    self.add_token(w)\n",
        "                            \n",
        "    def add_token(self, w):\n",
        "        if w not in self.tokens:\n",
        "            self.tokens.append(w)\n",
        "            _w_id = len(self.tokens) - 1\n",
        "            self.ids[w] = _w_id\n",
        "            self.counts[w] = 1\n",
        "        else:\n",
        "            self.counts[w] += 1\n",
        "\n",
        "    def get_id(self, w):\n",
        "        return self.ids[w]\n",
        "    \n",
        "    def get_token(self, idx):\n",
        "        return self.tokens[idx]\n",
        "    \n",
        "    def decode_idx_seq(self, l):\n",
        "        return [self.tokens[i] for i in l]\n",
        "    \n",
        "    def encode_token_seq(self, l):\n",
        "        return [self.ids[i] if i in self.ids else self.ids['<unk>'] for i in l]\n",
        "    \n",
        "    def __len__(self):\n",
        "        return len(self.tokens)\n",
        " \n",
        "raw_datasets, datasets, vocab = load_wikitext(os.getcwd())\n",
        "\n",
        "data_loaders = {name: DataLoader(datasets[name], batch_size=32, shuffle=True,\n",
        "                                     collate_fn=lambda x: pad_collate_fn(vocab.get_id('<pad>'), x))\n",
        "                    for name in datasets}\n",
        "wk2_train_dataloader = data_loaders['train']\n",
        "wk2_val_dataloader = data_loaders['valid']\n",
        "wk2_test_dataloader = data_loaders['test']"
      ],
      "execution_count": 0,
      "outputs": [
        {
          "output_type": "error",
          "ename": "FileNotFoundError",
          "evalue": "ignored",
          "traceback": [
            "\u001b[0;31m---------------------------------------------------------------------------\u001b[0m",
            "\u001b[0;31mFileNotFoundError\u001b[0m                         Traceback (most recent call last)",
            "\u001b[0;32m<ipython-input-22-4793cd1f6749>\u001b[0m in \u001b[0;36m<module>\u001b[0;34m()\u001b[0m\n\u001b[1;32m     20\u001b[0m \u001b[0;34m\u001b[0m\u001b[0m\n\u001b[1;32m     21\u001b[0m \u001b[0;31m# download the vectors yourself\u001b[0m\u001b[0;34m\u001b[0m\u001b[0;34m\u001b[0m\u001b[0;34m\u001b[0m\u001b[0m\n\u001b[0;32m---> 22\u001b[0;31m \u001b[0mfasttext_embedding_dict\u001b[0m\u001b[0;34m,\u001b[0m \u001b[0mall_fasttext_tokens\u001b[0m \u001b[0;34m=\u001b[0m \u001b[0mload_vectors\u001b[0m\u001b[0;34m(\u001b[0m\u001b[0;34m'wiki-news-300d-1M.vec'\u001b[0m\u001b[0;34m)\u001b[0m\u001b[0;34m\u001b[0m\u001b[0;34m\u001b[0m\u001b[0m\n\u001b[0m\u001b[1;32m     23\u001b[0m \u001b[0;34m\u001b[0m\u001b[0m\n\u001b[1;32m     24\u001b[0m \u001b[0;32mclass\u001b[0m \u001b[0mLMDataset\u001b[0m\u001b[0;34m(\u001b[0m\u001b[0mDataset\u001b[0m\u001b[0;34m)\u001b[0m\u001b[0;34m:\u001b[0m\u001b[0;34m\u001b[0m\u001b[0;34m\u001b[0m\u001b[0m\n",
            "\u001b[0;32m<ipython-input-22-4793cd1f6749>\u001b[0m in \u001b[0;36mload_vectors\u001b[0;34m(fname)\u001b[0m\n\u001b[1;32m      1\u001b[0m \u001b[0;32mimport\u001b[0m \u001b[0mio\u001b[0m\u001b[0;34m\u001b[0m\u001b[0;34m\u001b[0m\u001b[0m\n\u001b[1;32m      2\u001b[0m \u001b[0;32mdef\u001b[0m \u001b[0mload_vectors\u001b[0m\u001b[0;34m(\u001b[0m\u001b[0mfname\u001b[0m\u001b[0;34m)\u001b[0m\u001b[0;34m:\u001b[0m\u001b[0;34m\u001b[0m\u001b[0;34m\u001b[0m\u001b[0m\n\u001b[0;32m----> 3\u001b[0;31m     \u001b[0mfin\u001b[0m \u001b[0;34m=\u001b[0m \u001b[0mio\u001b[0m\u001b[0;34m.\u001b[0m\u001b[0mopen\u001b[0m\u001b[0;34m(\u001b[0m\u001b[0mfname\u001b[0m\u001b[0;34m,\u001b[0m \u001b[0;34m'r'\u001b[0m\u001b[0;34m,\u001b[0m \u001b[0mencoding\u001b[0m\u001b[0;34m=\u001b[0m\u001b[0;34m'utf-8'\u001b[0m\u001b[0;34m,\u001b[0m \u001b[0mnewline\u001b[0m\u001b[0;34m=\u001b[0m\u001b[0;34m'\\n'\u001b[0m\u001b[0;34m,\u001b[0m \u001b[0merrors\u001b[0m\u001b[0;34m=\u001b[0m\u001b[0;34m'ignore'\u001b[0m\u001b[0;34m)\u001b[0m\u001b[0;34m\u001b[0m\u001b[0;34m\u001b[0m\u001b[0m\n\u001b[0m\u001b[1;32m      4\u001b[0m     \u001b[0mn\u001b[0m\u001b[0;34m,\u001b[0m \u001b[0md\u001b[0m \u001b[0;34m=\u001b[0m \u001b[0mmap\u001b[0m\u001b[0;34m(\u001b[0m\u001b[0mint\u001b[0m\u001b[0;34m,\u001b[0m \u001b[0mfin\u001b[0m\u001b[0;34m.\u001b[0m\u001b[0mreadline\u001b[0m\u001b[0;34m(\u001b[0m\u001b[0;34m)\u001b[0m\u001b[0;34m.\u001b[0m\u001b[0msplit\u001b[0m\u001b[0;34m(\u001b[0m\u001b[0;34m)\u001b[0m\u001b[0;34m)\u001b[0m\u001b[0;34m\u001b[0m\u001b[0;34m\u001b[0m\u001b[0m\n\u001b[1;32m      5\u001b[0m     \u001b[0membedding_size\u001b[0m \u001b[0;34m=\u001b[0m \u001b[0;36m300\u001b[0m\u001b[0;34m\u001b[0m\u001b[0;34m\u001b[0m\u001b[0m\n",
            "\u001b[0;31mFileNotFoundError\u001b[0m: [Errno 2] No such file or directory: 'wiki-news-300d-1M.vec'"
          ]
        }
      ]
    },
    {
      "cell_type": "code",
      "metadata": {
        "id": "mxoeF6D4B-2f",
        "colab_type": "code",
        "colab": {}
      },
      "source": [
        ""
      ],
      "execution_count": 0,
      "outputs": []
    },
    {
      "cell_type": "code",
      "metadata": {
        "id": "HFeYXhXJB-5M",
        "colab_type": "code",
        "colab": {}
      },
      "source": [
        ""
      ],
      "execution_count": 0,
      "outputs": []
    },
    {
      "cell_type": "code",
      "metadata": {
        "id": "g-ubgedIB-9S",
        "colab_type": "code",
        "colab": {}
      },
      "source": [
        ""
      ],
      "execution_count": 0,
      "outputs": []
    },
    {
      "cell_type": "code",
      "metadata": {
        "id": "gilJPODdB_BI",
        "colab_type": "code",
        "colab": {}
      },
      "source": [
        ""
      ],
      "execution_count": 0,
      "outputs": []
    },
    {
      "cell_type": "code",
      "metadata": {
        "id": "eRu9Bda1B-8E",
        "colab_type": "code",
        "colab": {}
      },
      "source": [
        ""
      ],
      "execution_count": 0,
      "outputs": []
    },
    {
      "cell_type": "code",
      "metadata": {
        "id": "RKtaaauV9Ns6",
        "colab_type": "code",
        "colab": {}
      },
      "source": [
        "#(Hint: you can adopt the Dictionary, dataset loading, and training code from the lab for use here)\n",
        "try:\n",
        "    from tqdm import tqdm\n",
        "except ImportError:\n",
        "    print('Installing the package, RESTART THIS CELL')\n",
        "    !{sys.executable} -m pip install tqdm"
      ],
      "execution_count": 0,
      "outputs": []
    },
    {
      "cell_type": "code",
      "metadata": {
        "id": "YAqIfg4Q9N0Y",
        "colab_type": "code",
        "colab": {}
      },
      "source": [
        "class Dictionary(object):\n",
        "    def __init__(self, datasets, include_valid=False):\n",
        "        self.tokens = []\n",
        "        self.ids = {}\n",
        "        self.counts = {}\n",
        "        \n",
        "        # add special tokens\n",
        "        self.add_token('<bos>')\n",
        "        self.add_token('<eos>')\n",
        "        self.add_token('<pad>')\n",
        "        self.add_token('<unk>')\n",
        "        \n",
        "        for line in tqdm(datasets['train']):\n",
        "            for w in line:\n",
        "                self.add_token(w)\n",
        "                    \n",
        "        if include_valid is True:\n",
        "            for line in tqdm(datasets['valid']):\n",
        "                for w in line:\n",
        "                    self.add_token(w)\n",
        "                            \n",
        "    def add_token(self, w):\n",
        "        if w not in self.tokens:\n",
        "            self.tokens.append(w)\n",
        "            _w_id = len(self.tokens) - 1\n",
        "            self.ids[w] = _w_id\n",
        "            self.counts[w] = 1\n",
        "        else:\n",
        "            self.counts[w] += 1\n",
        "\n",
        "    def get_id(self, w):\n",
        "        return self.ids[w]\n",
        "    \n",
        "    def get_token(self, idx):\n",
        "        return self.tokens[idx]\n",
        "    \n",
        "    def decode_idx_seq(self, l):\n",
        "        return [self.tokens[i] for i in l]\n",
        "    \n",
        "    def encode_token_seq(self, l):\n",
        "        return [self.ids[i] if i in self.ids else self.ids['<unk>'] for i in l]\n",
        "    \n",
        "    def __len__(self):\n",
        "        return len(self.tokens)"
      ],
      "execution_count": 0,
      "outputs": []
    },
    {
      "cell_type": "code",
      "metadata": {
        "id": "0vOlnNK29N3O",
        "colab_type": "code",
        "colab": {}
      },
      "source": [
        "def tokenize_dataset(datasets, dictionary, ngram_order=2):\n",
        "    tokenized_datasets = {}\n",
        "    for split, dataset in datasets.items():\n",
        "        _current_dictified = []\n",
        "        for l in tqdm(dataset):\n",
        "            l = ['<bos>']*(ngram_order-1) + l + ['<eos>']\n",
        "            encoded_l = dictionary.encode_token_seq(l)\n",
        "            _current_dictified.append(encoded_l)\n",
        "        tokenized_datasets[split] = _current_dictified\n",
        "        \n",
        "    return tokenized_datasets"
      ],
      "execution_count": 0,
      "outputs": []
    },
    {
      "cell_type": "code",
      "metadata": {
        "id": "_FmPOrIx9N5x",
        "colab_type": "code",
        "colab": {}
      },
      "source": [
        "wikitext_test_dict = Dictionary(train_iter, include_valid=True)\n",
        "\n",
        "# checking some example\n",
        "print(' '.join(datasets['train'][3010]))\n",
        "\n",
        "encoded = wikitext_dict.encode_token_seq(datasets['train'][3010])\n",
        "print(f'\\n encoded - {encoded}')\n",
        "decoded = wikitext_dict.decode_idx_seq(encoded)\n",
        "print(f'\\n decoded - {decoded}')"
      ],
      "execution_count": 0,
      "outputs": []
    },
    {
      "cell_type": "markdown",
      "metadata": {
        "id": "bkQcBdLdxMkL",
        "colab_type": "text"
      },
      "source": [
        "#### Part B   \n",
        "Here we design our own feature extractor. In MNIST that was a resnet because we were dealing with images. Now we need to pick a model that can model sequences better. Design an RNN-based model here."
      ]
    },
    {
      "cell_type": "code",
      "metadata": {
        "id": "EWQu3moHxMkL",
        "colab_type": "code",
        "colab": {}
      },
      "source": [
        "def init_feature_extractor():\n",
        " \n",
        "    \n",
        "    feature_extractor = None #  YOUR CODE\n",
        "    \n",
        "    return feature_extractor"
      ],
      "execution_count": 0,
      "outputs": []
    },
    {
      "cell_type": "code",
      "metadata": {
        "id": "T6uJeiZN0b7X",
        "colab_type": "code",
        "colab": {}
      },
      "source": [
        "import torch\n",
        "import torch.nn as nn\n",
        "import torch.nn.functional as F\n",
        "import torch.optim as optim\n",
        "from torch.autograd import Variable as V"
      ],
      "execution_count": 0,
      "outputs": []
    },
    {
      "cell_type": "code",
      "metadata": {
        "id": "SECkRLZK0dUM",
        "colab_type": "code",
        "colab": {}
      },
      "source": [
        "\n",
        " \n",
        "class RNNModel(nn.Module):\n",
        "    def __init__(self, ntoken, ninp,\n",
        "                 nhid, nlayers, bsz,\n",
        "                 dropout=0.5, tie_weights=True):\n",
        "        super(RNNModel, self).__init__()\n",
        "        self.nhid, self.nlayers, self.bsz = nhid, nlayers, bsz\n",
        "        self.drop = nn.Dropout(dropout)\n",
        "        self.encoder = nn.Embedding(ntoken, ninp)\n",
        "        self.rnn = nn.LSTM(ninp, nhid, nlayers, dropout=dropout)\n",
        "        self.decoder = nn.Linear(nhid, ntoken)\n",
        "        self.init_weights()\n",
        "        self.hidden = self.init_hidden(bsz) # the input is a batched consecutive corpus\n",
        "                                            # therefore, we retain the hidden state across batches\n",
        " \n",
        "    def init_weights(self):\n",
        "        initrange = 0.1\n",
        "        self.encoder.weight.data.uniform_(-initrange, initrange)\n",
        "        self.decoder.bias.data.fill_(0)\n",
        "        self.decoder.weight.data.uniform_(-initrange, initrange)\n",
        " \n",
        "    def forward(self, input):\n",
        "        emb = self.drop(self.encoder(input))\n",
        "        output, self.hidden = self.rnn(emb, self.hidden)\n",
        "        output = self.drop(output)\n",
        "        decoded = self.decoder(output.view(output.size(0)*output.size(1), output.size(2)))\n",
        "        return decoded.view(output.size(0), output.size(1), decoded.size(1))\n",
        " \n",
        "    def init_hidden(self, bsz):\n",
        "        weight = next(self.parameters()).data\n",
        "        return (V(weight.new(self.nlayers, bsz, self.nhid).zero_().cuda()),\n",
        "                V(weight.new(self.nlayers, bsz, self.nhid).zero_()).cuda())\n",
        "  \n",
        "    def reset_history(self):\n",
        "        self.hidden = tuple(V(v.data) for v in self.hidden)"
      ],
      "execution_count": 0,
      "outputs": []
    },
    {
      "cell_type": "code",
      "metadata": {
        "id": "jKKSEkjj0-AE",
        "colab_type": "code",
        "colab": {}
      },
      "source": [
        "# def compute_predictions(logits):\n",
        "#     \"\"\"Transforms logits to probabilities and finds the most probable tags(words).\"\"\"\n",
        "#     # Create softmax (F.softmax) function\n",
        "#     softmax_output = F.softmax(logits, axis=-1)\n",
        "#     predictions = torch.multinomial(softmax_output, num_samples=1)\n",
        "#     return predictions\n",
        "# # define model parameters -- options\n",
        "# embed_dim = 64\n",
        "# hidden_dim = 128\n",
        "# num_layers = 2\n",
        "# dropout = 0.1\n",
        "# options = {\n",
        "#     'vocab_size': len(train_iter),\n",
        "#     'embed_dim': embed_dim,\n",
        "#     'padding_idx': wikitext_dict.get_id('<pad>'),\n",
        "#     'hidden_dim': hidden_dim,\n",
        "#     'num_layers': num_layers,\n",
        "#     'dropout': dropout,\n",
        "#     'batch_first': True,\n",
        "# }\n",
        "\n",
        "# model_rnn = RnnLM(options).to(current_device)\n",
        "# print(model_rnn)\n"
      ],
      "execution_count": 0,
      "outputs": []
    },
    {
      "cell_type": "code",
      "metadata": {
        "id": "yCtsMXbq0-E6",
        "colab_type": "code",
        "colab": {}
      },
      "source": [
        "weight_matrix = TEXT.vocab.vectors\n",
        "model = RNNModel(weight_matrix.size(0),\n",
        "weight_matrix.size(1), 200, 1, 32)\n",
        " \n",
        "model.encoder.weight.data.copy_(weight_matrix)\n",
        "criterion = nn.CrossEntropyLoss()\n",
        "optimizer = optim.Adam(model.parameters(), lr=1e-3, betas=(0.7, 0.99))\n",
        "n_tokens = weight_matrix.size(0)"
      ],
      "execution_count": 0,
      "outputs": []
    },
    {
      "cell_type": "code",
      "metadata": {
        "id": "2vbnHbT60-J6",
        "colab_type": "code",
        "colab": {}
      },
      "source": [
        ""
      ],
      "execution_count": 0,
      "outputs": []
    },
    {
      "cell_type": "code",
      "metadata": {
        "id": "3LIaC_uCuKOa",
        "colab_type": "code",
        "colab": {}
      },
      "source": [
        ""
      ],
      "execution_count": 0,
      "outputs": []
    },
    {
      "cell_type": "code",
      "metadata": {
        "id": "RUrhUEOXsTqb",
        "colab_type": "code",
        "colab": {}
      },
      "source": [
        ""
      ],
      "execution_count": 0,
      "outputs": []
    },
    {
      "cell_type": "code",
      "metadata": {
        "id": "nwpnirHIsTub",
        "colab_type": "code",
        "colab": {}
      },
      "source": [
        ""
      ],
      "execution_count": 0,
      "outputs": []
    },
    {
      "cell_type": "markdown",
      "metadata": {
        "id": "n-KLJsTWxMkN",
        "colab_type": "text"
      },
      "source": [
        "#### Part C\n",
        "Pretrain the feature extractor"
      ]
    },
    {
      "cell_type": "code",
      "metadata": {
        "id": "ZsaRBPnoxMkO",
        "colab_type": "code",
        "colab": {}
      },
      "source": [
        "def fit_feature_extractor(feature_extractor, wikitext_train, wikitext_val):\n",
        "    # FILL IN THE DETAILS\n",
        "    pass"
      ],
      "execution_count": 0,
      "outputs": []
    },
    {
      "cell_type": "code",
      "metadata": {
        "id": "DnyW4QFbs4yt",
        "colab_type": "code",
        "colab": {}
      },
      "source": [
        "#training \n",
        "from tqdm import tqdm \n",
        "def train_epoch(epoch):\n",
        "\"\"\"One epoch of a training loop\"\"\"\n",
        "    epoch_loss = 0\n",
        "    for batch in tqdm(train_iter):\n",
        "    # reset the hidden state or else the model will try to backpropagate to the\n",
        "    # beginning of the dataset, requiring lots of time and a lot of memory\n",
        "         model.reset_history()\n",
        " \n",
        "    optimizer.zero_grad()\n",
        " \n",
        "    text, targets = batch.text, batch.target\n",
        "    prediction = model(text)\n",
        "    # pytorch currently only supports cross entropy loss for inputs of 2 or 4 dimensions.\n",
        "    # we therefore flatten the predictions out across the batch axis so that it becomes\n",
        "    # shape (batch_size * sequence_length, n_tokens)\n",
        "    # in accordance to this, we reshape the targets to be\n",
        "    # shape (batch_size * sequence_length)\n",
        "    loss = criterion(prediction.view(-1, n_tokens), targets.view(-1))\n",
        "    loss.backward()\n",
        " \n",
        "    optimizer.step()\n",
        " \n",
        "    epoch_loss += loss.data[0] * prediction.size(0) * prediction.size(1)\n",
        " \n",
        "    epoch_loss /= len(train.examples[0].text)\n",
        " \n",
        "    # monitor the loss\n",
        "    val_loss = 0\n",
        "    model.eval()\n",
        "    for batch in valid_iter:\n",
        "        model.reset_history()\n",
        "        text, targets = batch.text, batch.target\n",
        "        prediction = model(text)\n",
        "        loss = criterion(prediction.view(-1, n_tokens), targets.view(-1))\n",
        "        val_loss += loss.data[0] * text.size(0)\n",
        "    val_loss /= len(valid.examples[0].text)\n",
        " \n",
        "    print('Epoch: ',epoch, ' Training Loss:', epoch_loss,'  Validation Loss:', val_loss)"
      ],
      "execution_count": 0,
      "outputs": []
    },
    {
      "cell_type": "code",
      "metadata": {
        "id": "PBO3UoSis41L",
        "colab_type": "code",
        "colab": {}
      },
      "source": [
        "criterion = nn.CrossEntropyLoss()\n",
        "optimizer = optim.Adam(model.parameters(), lr=1e-3, betas=(0.7, 0.99))\n",
        "n_tokens = weight_matrix.size(0)"
      ],
      "execution_count": 0,
      "outputs": []
    },
    {
      "cell_type": "code",
      "metadata": {
        "id": "nwA5PGiVs434",
        "colab_type": "code",
        "colab": {}
      },
      "source": [
        "#not run yet\n",
        "n_epochs = 1\n",
        "for epoch in range(1, n_epochs + 1):\n",
        "    train_epoch(epoch)\n",
        "    "
      ],
      "execution_count": 0,
      "outputs": []
    },
    {
      "cell_type": "code",
      "metadata": {
        "id": "5oe02nrDsV77",
        "colab_type": "code",
        "colab": {}
      },
      "source": [
        "#sample sentence\n",
        "def word_ids_to_sentence(id_tensor, vocab, join=None):\n",
        "    \"\"\"Converts a sequence of word ids to a sentence\"\"\"\n",
        "    if isinstance(id_tensor, torch.LongTensor):\n",
        "        ids = id_tensor.transpose(0, 1).contiguous().view(-1)\n",
        "    elif isinstance(id_tensor, np.ndarray):\n",
        "        ids = id_tensor.transpose().reshape(-1)\n",
        "    batch = [vocab.itos[ind] for ind in ids] # denumericalize\n",
        "    if join is None:\n",
        "        return batch\n",
        "    else:\n",
        "        return join.join(batch)\n",
        "arrs = model(b.text).cpu().data.numpy()\n",
        "#print sentence\n",
        "word_ids_to_sentence(np.argmax(arrs, axis=2), TEXT.vocab, join=' ')"
      ],
      "execution_count": 0,
      "outputs": []
    },
    {
      "cell_type": "markdown",
      "metadata": {
        "id": "_0-KFzl4xMkP",
        "colab_type": "text"
      },
      "source": [
        "#### Part D\n",
        "Calculate the test perplexity on wikitext2. Feel free to recycle code from previous assignments from this class. "
      ]
    },
    {
      "cell_type": "code",
      "metadata": {
        "id": "l31mVZTGxMkQ",
        "colab_type": "code",
        "colab": {}
      },
      "source": [
        "def calculate_wiki2_test_perplexity(feature_extractor, wikitext_test):\n",
        "    \n",
        "    # FILL IN DETAILS\n",
        "#     n_total = 0\n",
        "#     logp_total = 0\n",
        "#     for text in wikitext_test:\n",
        "#         logp_total += feature_extractor.sequence_logp(text)\n",
        "#         n_total += len(test) + 1  \n",
        "#     text_ppl = 2 ** (- (1.0 / n_total) * logp_total)  \n",
        "\n",
        "  \n",
        "    return test_ppl"
      ],
      "execution_count": 0,
      "outputs": []
    },
    {
      "cell_type": "markdown",
      "metadata": {
        "id": "yhvOu-HYxMkS",
        "colab_type": "text"
      },
      "source": [
        "#### Let's grade your results!\n",
        "(don't touch this part)"
      ]
    },
    {
      "cell_type": "code",
      "metadata": {
        "id": "_2rL-dBbxMkS",
        "colab_type": "code",
        "colab": {}
      },
      "source": [
        "def grade_wikitext2():\n",
        "    # load data\n",
        "    wikitext_train, wikitext_val, wikitext_test = init_wikitext_dataset()\n",
        "\n",
        "    # load feature extractor\n",
        "    feature_extractor = init_feature_extractor()\n",
        "\n",
        "    # pretrain using the feature extractor\n",
        "    fit_feature_extractor(feature_extractor, wikitext_train, wikitext_val)\n",
        "\n",
        "    # check test accuracy\n",
        "    test_ppl = calculate_wiki2_test_perplexity(feature_extractor, wikitext_test)\n",
        "\n",
        "    # the real threshold will be released by Oct 11 \n",
        "    assert test_ppl < 10000, 'ummm... your perplexity is too high... ?should be less than 200'\n",
        "    \n",
        "grade_wikitext2()"
      ],
      "execution_count": 0,
      "outputs": []
    },
    {
      "cell_type": "markdown",
      "metadata": {
        "id": "LRX9Uml6xMkU",
        "colab_type": "text"
      },
      "source": [
        "---   \n",
        "## Question 3 (fine-tune on MNLI)\n",
        "In this question you will use your feature_extractor from question 2\n",
        "to fine-tune on MNLI.\n",
        "\n",
        "(From the website):\n",
        "The Multi-Genre Natural Language Inference (MultiNLI) corpus is a crowd-sourced collection of 433k sentence pairs annotated with textual entailment information. The corpus is modeled on the SNLI corpus, but differs in that covers a range of genres of spoken and written text, and supports a distinctive cross-genre generalization evaluation. The corpus served as the basis for the shared task of the RepEval 2017 Workshop at EMNLP in Copenhagen.\n",
        "\n",
        "MNLI has 3 genres (3 classes).\n",
        "The goal of this question is to maximize the test accuracy in MNLI. "
      ]
    },
    {
      "cell_type": "markdown",
      "metadata": {
        "id": "sjNGaEB3xMkV",
        "colab_type": "text"
      },
      "source": [
        "### Part A\n",
        "In this section you need to generate the training, validation and test split. Feel free to use code from your previous lectures."
      ]
    },
    {
      "cell_type": "code",
      "metadata": {
        "id": "U9u0Ok3oxMkW",
        "colab_type": "code",
        "colab": {}
      },
      "source": [
        "from torchtext.datasets import MultiNLI\n",
        "\n",
        "def init_mnli_dataset():\n",
        "    \"\"\"\n",
        "    Fill in the details\n",
        "    \"\"\"\n",
        "    mnli_val = None # TODO\n",
        "    mnli_train = None # TODO\n",
        "    mnli_test = None # TODO\n",
        "    \n",
        "    return mnli_train, mnli_val, mnli_test"
      ],
      "execution_count": 0,
      "outputs": []
    },
    {
      "cell_type": "markdown",
      "metadata": {
        "id": "SixdXtasxMkZ",
        "colab_type": "text"
      },
      "source": [
        "### Part B\n",
        "Here we again design a model for finetuning. Use the output of your feature-extractor as the input to this model. This should be a powerful classifier (up to you)."
      ]
    },
    {
      "cell_type": "code",
      "metadata": {
        "id": "ANIdtWJFxMkZ",
        "colab_type": "code",
        "colab": {}
      },
      "source": [
        "def init_finetune_model():\n",
        "    \n",
        "    # TODO FILL IN THE DETAILS\n",
        "    fine_tune_model = ...\n",
        "    \n",
        "    return fine_tune_model"
      ],
      "execution_count": 0,
      "outputs": []
    },
    {
      "cell_type": "markdown",
      "metadata": {
        "id": "QmmgMA5SxMkb",
        "colab_type": "text"
      },
      "source": [
        "### Part C\n",
        "Use the feature_extractor and your fine_tune_model to fine_tune MNLI"
      ]
    },
    {
      "cell_type": "code",
      "metadata": {
        "id": "SRx8GkC8xMkc",
        "colab_type": "code",
        "colab": {}
      },
      "source": [
        "def fine_tune_mnli(feature_extractor, fine_tune_model, mnli_train, mnli_val):\n",
        "    # YOUR CODE HERE\n",
        "    pass"
      ],
      "execution_count": 0,
      "outputs": []
    },
    {
      "cell_type": "markdown",
      "metadata": {
        "id": "2ew9krtMxMkd",
        "colab_type": "text"
      },
      "source": [
        "### Part D\n",
        "Evaluate the test accuracy"
      ]
    },
    {
      "cell_type": "code",
      "metadata": {
        "id": "yD-xPoU8xMke",
        "colab_type": "code",
        "colab": {}
      },
      "source": [
        "def calculate_mnli_test_accuracy(feature_extractor, fine_tune_model, mnli_test):\n",
        "    \n",
        "    # YOUR CODE HERE...\n",
        "    \n",
        "    return test_ppl"
      ],
      "execution_count": 0,
      "outputs": []
    },
    {
      "cell_type": "markdown",
      "metadata": {
        "id": "ZYL8IV9qxMkg",
        "colab_type": "text"
      },
      "source": [
        "### Let's grade your results"
      ]
    },
    {
      "cell_type": "code",
      "metadata": {
        "id": "i9a8fBRbxMkg",
        "colab_type": "code",
        "colab": {}
      },
      "source": [
        "def grade_mnli():\n",
        "    # load data\n",
        "    mnli_train, mnli_val, mnli_test = init_mnli_dataset()\n",
        "\n",
        "    # no need to load feature extractor because it is fine-tuned\n",
        "    feature_extractor = feature_extractor\n",
        "\n",
        "    # init the fine_tune model\n",
        "    fine_tune_model = init_finetune_model()\n",
        "    \n",
        "    # finetune\n",
        "    fine_tune_mnli(feature_extractor, fine_tune_model, mnli_train, mnli_val)\n",
        "\n",
        "    # check test accuracy\n",
        "    test_accuracy = calculate_mnli_test_accuracy(feature_extractor, wikitext_test)\n",
        "\n",
        "    # the real threshold will be released by Oct 11 \n",
        "    assert test_ppl > 0.00, 'ummm... your accuracy is too low...'\n",
        "    \n",
        "grade_mnli()"
      ],
      "execution_count": 0,
      "outputs": []
    },
    {
      "cell_type": "markdown",
      "metadata": {
        "id": "eHQkMhCzxMkh",
        "colab_type": "text"
      },
      "source": [
        "---  \n",
        "### Question 4 (BERT)\n",
        "\n",
        "A major direction in research came from a model called BERT, released last year.  \n",
        "\n",
        "In this question you'll use BERT as your feature_extractor instead of the model you\n",
        "designed yourself.\n",
        "\n",
        "To get BERT, head on over to (https://github.com/huggingface/transformers) and load your BERT model here"
      ]
    },
    {
      "cell_type": "code",
      "metadata": {
        "id": "oCPxU-vDxMki",
        "colab_type": "code",
        "colab": {}
      },
      "source": [
        "!pip install transformers"
      ],
      "execution_count": 0,
      "outputs": []
    },
    {
      "cell_type": "markdown",
      "metadata": {
        "id": "oi4vM1z6xMkk",
        "colab_type": "text"
      },
      "source": [
        "### Part A (init BERT)\n",
        "In this section you need to create an instance of BERT and return if from the function"
      ]
    },
    {
      "cell_type": "code",
      "metadata": {
        "id": "HbYPG1xrxMkk",
        "colab_type": "code",
        "colab": {}
      },
      "source": [
        "from transformers import BertTokenizer, BertModel, BertForMaskedLM\n",
        "\n",
        "def init_bert():\n",
        "    \n",
        "    BERT = None # ... YOUR CODE HERE\n",
        "    \n",
        "    return BERT"
      ],
      "execution_count": 0,
      "outputs": []
    },
    {
      "cell_type": "markdown",
      "metadata": {
        "id": "IBSL5BoWxMkl",
        "colab_type": "text"
      },
      "source": [
        "## Part B (fine-tune with BERT)\n",
        "\n",
        "Use BERT as your feature extractor to finetune MNLI. Use a new finetune model (reset weights)."
      ]
    },
    {
      "cell_type": "code",
      "metadata": {
        "id": "MjJfz0YQxMkm",
        "colab_type": "code",
        "colab": {}
      },
      "source": [
        "def fine_tune_mnli_BERT(BERT_feature_extractor, fine_tune_model, mnli_train, mnli_val):\n",
        "    # YOUR CODE HERE\n",
        "    pass"
      ],
      "execution_count": 0,
      "outputs": []
    },
    {
      "cell_type": "markdown",
      "metadata": {
        "id": "-06C5gMrxMkn",
        "colab_type": "text"
      },
      "source": [
        "## Part C\n",
        "Evaluate how well we did"
      ]
    },
    {
      "cell_type": "code",
      "metadata": {
        "id": "tI2UsMhMxMko",
        "colab_type": "code",
        "colab": {}
      },
      "source": [
        "def calculate_mnli_test_accuracy_BERT(feature_extractor, fine_tune_model, mnli_test):\n",
        "    \n",
        "    # YOUR CODE HERE...\n",
        "    \n",
        "    return test_ppl"
      ],
      "execution_count": 0,
      "outputs": []
    },
    {
      "cell_type": "markdown",
      "metadata": {
        "id": "tAgU6DqnxMkq",
        "colab_type": "text"
      },
      "source": [
        "## Let's grade your BERT results!"
      ]
    },
    {
      "cell_type": "code",
      "metadata": {
        "id": "efl3ItVGxMkq",
        "colab_type": "code",
        "colab": {}
      },
      "source": [
        "def grade_mnli_BERT():\n",
        "    BERT_feature_extractor = init_bert()\n",
        "    \n",
        "    # load data\n",
        "    mnli_train, mnli_val, mnli_test = init_mnli_dataset()\n",
        "\n",
        "    # init the fine_tune model\n",
        "    fine_tune_model = init_finetune_model()\n",
        "    \n",
        "    # finetune\n",
        "    fine_tune_mnli(BERT_feature_extractor, fine_tune_model, mnli_train, mnli_val)\n",
        "\n",
        "    # check test accuracy\n",
        "    test_accuracy = calculate_mnli_test_accuracy(feature_extractor, wikitext_test)\n",
        "    \n",
        "    # the real threshold will be released by Oct 11 \n",
        "    assert test_ppl > 0.0, 'ummm... your accuracy is too low...'\n",
        "    \n",
        "grade_mnli_BERT()"
      ],
      "execution_count": 0,
      "outputs": []
    }
  ]
}